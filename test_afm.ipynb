{
 "cells": [
  {
   "cell_type": "code",
   "execution_count": 1,
   "id": "initial_id",
   "metadata": {
    "ExecuteTime": {
     "end_time": "2024-06-07T18:17:03.994173Z",
     "start_time": "2024-06-07T18:17:00.656939Z"
    }
   },
   "outputs": [],
   "source": [
    "import numpy as np\n",
    "import sympy as sp\n",
    "import SpinModel_afm as smk"
   ]
  },
  {
   "cell_type": "code",
   "execution_count": 2,
   "metadata": {},
   "outputs": [
    {
     "data": {
      "text/latex": [
       "$\\displaystyle \\left[\\begin{matrix}-0.25 & 0.25 e^{- i \\left(\\frac{k_{1}}{2} + \\frac{\\sqrt{3} k_{2}}{6}\\right)} + 0.25 e^{- i \\left(- \\frac{k_{1}}{2} + \\frac{\\sqrt{3} k_{2}}{6}\\right)} & 0 & 0 & 0 & 0 & 0 & 0.5 \\left(-0.5 + 6.12323399573677 \\cdot 10^{-17} i\\right) e^{\\frac{\\sqrt{3} i k_{2}}{3}}\\\\0.25 e^{i \\left(- \\frac{k_{1}}{2} + \\frac{\\sqrt{3} k_{2}}{6}\\right)} + 0.25 e^{i \\left(\\frac{k_{1}}{2} + \\frac{\\sqrt{3} k_{2}}{6}\\right)} & -0.25 & 0 & 0 & 0 & 0 & 0.5 \\left(-0.5 + 6.12323399573677 \\cdot 10^{-17} i\\right) e^{- \\frac{\\sqrt{3} i k_{2}}{3}} & 0\\\\0 & 0 & -0.25 & 0.25 e^{- i \\left(\\frac{k_{1}}{2} + \\frac{\\sqrt{3} k_{2}}{6}\\right)} + 0.25 e^{- i \\left(- \\frac{k_{1}}{2} + \\frac{\\sqrt{3} k_{2}}{6}\\right)} & 0 & 0.5 \\left(-0.5 + 6.12323399573677 \\cdot 10^{-17} i\\right) e^{\\frac{\\sqrt{3} i k_{2}}{3}} & 0 & 0\\\\0 & 0 & 0.25 e^{i \\left(- \\frac{k_{1}}{2} + \\frac{\\sqrt{3} k_{2}}{6}\\right)} + 0.25 e^{i \\left(\\frac{k_{1}}{2} + \\frac{\\sqrt{3} k_{2}}{6}\\right)} & -0.25 & 0.5 \\left(-0.5 + 6.12323399573677 \\cdot 10^{-17} i\\right) e^{- \\frac{\\sqrt{3} i k_{2}}{3}} & 0 & 0 & 0\\\\0 & 0 & 0 & 0.5 \\left(-0.5 - 6.12323399573677 \\cdot 10^{-17} i\\right) e^{\\frac{\\sqrt{3} i k_{2}}{3}} & -0.25 & 0.25 e^{- i \\left(\\frac{k_{1}}{2} + \\frac{\\sqrt{3} k_{2}}{6}\\right)} + 0.25 e^{- i \\left(- \\frac{k_{1}}{2} + \\frac{\\sqrt{3} k_{2}}{6}\\right)} & 0 & 0\\\\0 & 0 & 0.5 \\left(-0.5 - 6.12323399573677 \\cdot 10^{-17} i\\right) e^{- \\frac{\\sqrt{3} i k_{2}}{3}} & 0 & 0.25 e^{i \\left(- \\frac{k_{1}}{2} + \\frac{\\sqrt{3} k_{2}}{6}\\right)} + 0.25 e^{i \\left(\\frac{k_{1}}{2} + \\frac{\\sqrt{3} k_{2}}{6}\\right)} & -0.25 & 0 & 0\\\\0 & 0.5 \\left(-0.5 - 6.12323399573677 \\cdot 10^{-17} i\\right) e^{\\frac{\\sqrt{3} i k_{2}}{3}} & 0 & 0 & 0 & 0 & -0.25 & 0.25 e^{- i \\left(\\frac{k_{1}}{2} + \\frac{\\sqrt{3} k_{2}}{6}\\right)} + 0.25 e^{- i \\left(- \\frac{k_{1}}{2} + \\frac{\\sqrt{3} k_{2}}{6}\\right)}\\\\0.5 \\left(-0.5 - 6.12323399573677 \\cdot 10^{-17} i\\right) e^{- \\frac{\\sqrt{3} i k_{2}}{3}} & 0 & 0 & 0 & 0 & 0 & 0.25 e^{i \\left(- \\frac{k_{1}}{2} + \\frac{\\sqrt{3} k_{2}}{6}\\right)} + 0.25 e^{i \\left(\\frac{k_{1}}{2} + \\frac{\\sqrt{3} k_{2}}{6}\\right)} & -0.25\\end{matrix}\\right]$"
      ],
      "text/plain": [
       "Matrix([\n",
       "[                                                                 -0.25, 0.25*exp(-I*(k1/2 + sqrt(3)*k2/6)) + 0.25*exp(-I*(-k1/2 + sqrt(3)*k2/6)),                                                                      0,                                                                        0,                                                                      0,                                                                        0,                                                                      0,                  0.5*(-0.5 + 6.12323399573677e-17*I)*exp(sqrt(3)*I*k2/3)],\n",
       "[0.25*exp(I*(-k1/2 + sqrt(3)*k2/6)) + 0.25*exp(I*(k1/2 + sqrt(3)*k2/6)),                                                                    -0.25,                                                                      0,                                                                        0,                                                                      0,                                                                        0,               0.5*(-0.5 + 6.12323399573677e-17*I)*exp(-sqrt(3)*I*k2/3),                                                                        0],\n",
       "[                                                                     0,                                                                        0,                                                                  -0.25, 0.25*exp(-I*(k1/2 + sqrt(3)*k2/6)) + 0.25*exp(-I*(-k1/2 + sqrt(3)*k2/6)),                                                                      0,                  0.5*(-0.5 + 6.12323399573677e-17*I)*exp(sqrt(3)*I*k2/3),                                                                      0,                                                                        0],\n",
       "[                                                                     0,                                                                        0, 0.25*exp(I*(-k1/2 + sqrt(3)*k2/6)) + 0.25*exp(I*(k1/2 + sqrt(3)*k2/6)),                                                                    -0.25,               0.5*(-0.5 + 6.12323399573677e-17*I)*exp(-sqrt(3)*I*k2/3),                                                                        0,                                                                      0,                                                                        0],\n",
       "[                                                                     0,                                                                        0,                                                                      0,                  0.5*(-0.5 - 6.12323399573677e-17*I)*exp(sqrt(3)*I*k2/3),                                                                  -0.25, 0.25*exp(-I*(k1/2 + sqrt(3)*k2/6)) + 0.25*exp(-I*(-k1/2 + sqrt(3)*k2/6)),                                                                      0,                                                                        0],\n",
       "[                                                                     0,                                                                        0,               0.5*(-0.5 - 6.12323399573677e-17*I)*exp(-sqrt(3)*I*k2/3),                                                                        0, 0.25*exp(I*(-k1/2 + sqrt(3)*k2/6)) + 0.25*exp(I*(k1/2 + sqrt(3)*k2/6)),                                                                    -0.25,                                                                      0,                                                                        0],\n",
       "[                                                                     0,                  0.5*(-0.5 - 6.12323399573677e-17*I)*exp(sqrt(3)*I*k2/3),                                                                      0,                                                                        0,                                                                      0,                                                                        0,                                                                  -0.25, 0.25*exp(-I*(k1/2 + sqrt(3)*k2/6)) + 0.25*exp(-I*(-k1/2 + sqrt(3)*k2/6))],\n",
       "[              0.5*(-0.5 - 6.12323399573677e-17*I)*exp(-sqrt(3)*I*k2/3),                                                                        0,                                                                      0,                                                                        0,                                                                      0,                                                                        0, 0.25*exp(I*(-k1/2 + sqrt(3)*k2/6)) + 0.25*exp(I*(k1/2 + sqrt(3)*k2/6)),                                                                    -0.25]])"
      ]
     },
     "execution_count": 2,
     "metadata": {},
     "output_type": "execute_result"
    }
   ],
   "source": [
    "cp_strg = [0.5,0,0,0,0]\n",
    "Hlsw = smk.afm_spin_model(cp_strg)\n",
    "Hlsw"
   ]
  },
  {
   "cell_type": "code",
   "execution_count": null,
   "id": "f2b722b91f9cd733",
   "metadata": {
    "ExecuteTime": {
     "end_time": "2024-06-06T08:27:00.764429Z",
     "start_time": "2024-06-06T08:27:00.729506Z"
    },
    "scrolled": true
   },
   "outputs": [],
   "source": [
    "val, vec = smk.bdg(Hlsw,0,0)\n",
    "val"
   ]
  },
  {
   "cell_type": "code",
   "execution_count": null,
   "id": "377be7e9d8c76b57",
   "metadata": {
    "ExecuteTime": {
     "end_time": "2024-06-06T02:46:42.639335Z",
     "start_time": "2024-06-06T02:46:42.627374Z"
    }
   },
   "outputs": [],
   "source": [
    "np.real(val)"
   ]
  },
  {
   "cell_type": "code",
   "execution_count": 3,
   "id": "5504f4fefea078c8",
   "metadata": {
    "ExecuteTime": {
     "end_time": "2024-06-06T08:50:24.580743Z",
     "start_time": "2024-06-06T08:50:21.116934Z"
    }
   },
   "outputs": [
    {
     "name": "stdout",
     "output_type": "stream",
     "text": [
      "[[ 7.07106781e-01-6.31705022e-32j  7.07106781e-01+1.58026631e-33j\n",
      "   3.42624690e-09-8.00072483e-25j  1.17192326e-16-6.12511966e-09j\n",
      "   1.17192320e-16+6.12511966e-09j -3.42624707e-09+8.00072475e-25j\n",
      "  -7.07106781e-01+4.62223187e-32j -7.07106781e-01+0.00000000e+00j]\n",
      " [ 7.00574157e-01+1.40946282e-17j  7.00574157e-01-7.35089073e-17j\n",
      "   8.32667268e-17-5.51363819e-02j  8.32667268e-17+5.51363819e-02j\n",
      "  -1.83663848e-16+5.51363819e-02j -2.17490956e-16-5.51363819e-02j\n",
      "  -7.00574157e-01-3.46944695e-17j -7.00574157e-01+4.16333634e-17j]\n",
      " [ 6.81095627e-01+9.02290830e-22j  6.81095627e-01+9.02290830e-22j\n",
      "   2.04455265e-16+1.07874950e-01j  1.26609442e-16-1.07874950e-01j\n",
      "  -9.52851648e-17-1.07874950e-01j -1.64166936e-16+1.07874950e-01j\n",
      "  -6.81095627e-01+1.38777878e-17j -6.81095627e-01-1.38777878e-17j]\n",
      " [ 6.49018326e-01-5.36273500e-17j  6.49018326e-01+9.07700375e-22j\n",
      "   3.62017117e-17-1.55815514e-01j  2.56645408e-17-1.55815514e-01j\n",
      "   1.16321746e-17+1.55815514e-01j -9.11009574e-17+1.55815514e-01j\n",
      "  -6.49018326e-01+0.00000000e+00j -6.49018326e-01+6.24500451e-17j]\n",
      " [ 6.04881288e-01+1.83305476e-21j  6.04881288e-01+0.00000000e+00j\n",
      "   5.89911006e-17+1.96537844e-01j  7.97862685e-18-1.96537844e-01j\n",
      "  -2.54200748e-17+1.96537844e-01j -6.45244288e-17-1.96537844e-01j\n",
      "  -6.04881288e-01-1.83305476e-21j -6.04881288e-01-1.66533454e-16j]\n",
      " [ 5.49342057e-01+1.86124329e-21j  5.49342057e-01+1.86124329e-21j\n",
      "   4.00477177e-17+2.27544930e-01j  1.47916866e-17-2.27544930e-01j\n",
      "  -1.37507329e-17-2.27544930e-01j -4.85568120e-17+2.27544930e-01j\n",
      "  -5.49342057e-01-5.55111512e-17j -5.49342057e-01+2.77555756e-17j]\n",
      " [ 4.83031250e-01+1.90751623e-21j  4.83031250e-01+1.90751623e-21j\n",
      "   3.37746134e-17+2.46116715e-01j  2.46046131e-17+2.46116715e-01j\n",
      "  -9.98821251e-18-2.46116715e-01j -1.26554991e-17-2.46116715e-01j\n",
      "  -4.83031250e-01+5.55111512e-17j -4.83031250e-01-8.32667268e-17j]\n",
      " [ 4.06232038e-01+1.81868376e-16j  4.06232038e-01+1.98916213e-21j\n",
      "   2.49582128e-18+2.48939313e-01j -1.76182853e-18-2.48939313e-01j\n",
      "  -4.98526517e-17+2.48939313e-01j -7.37257477e-17-2.48939313e-01j\n",
      "  -4.06232038e-01-1.66533454e-16j -4.06232038e-01+2.77555756e-17j]\n",
      " [ 3.18004912e-01+4.57255053e-17j  3.18004912e-01+2.15488511e-21j\n",
      "   1.62521906e-16-2.31044093e-01j  3.01905841e-17+2.31044093e-01j\n",
      "   1.91552964e-18-2.31044093e-01j -1.51788304e-18+2.31044093e-01j\n",
      "  -3.18004912e-01-5.55111512e-17j -3.18004912e-01+0.00000000e+00j]\n",
      " [ 2.12665351e-01-1.49301188e-16j  2.12665351e-01+2.75795216e-18j\n",
      "   8.97719399e-17-1.81633369e-01j  3.12250226e-17-1.81633369e-01j\n",
      "   1.35196839e-17+1.81633369e-01j -2.84765713e-17+1.81633369e-01j\n",
      "  -2.12665351e-01+2.77555756e-17j -2.12665351e-01-1.38777878e-17j]\n",
      " [ 3.33658975e-09-4.92896992e-10j  7.25570886e-13-3.76039574e-13j\n",
      "   1.15214950e-13-4.02435700e-09j  1.01800222e-13+4.02456715e-09j\n",
      "  -1.01538558e-13+4.02437536e-09j -1.15517435e-13-4.02458553e-09j\n",
      "  -7.25754686e-13+3.76039574e-13j -3.33658980e-09+4.92896989e-10j]\n",
      " [ 4.78245354e-09-2.53035803e-09j  2.92611532e-09-1.36054508e-09j\n",
      "   7.56783644e-10-7.56783776e-10j  6.73420373e-10-2.67546530e-09j\n",
      "  -6.73420244e-10+2.67546523e-09j -7.56783776e-10+7.56783863e-10j\n",
      "  -2.92611541e-09+1.36054508e-09j -4.78245375e-09+2.53035791e-09j]\n",
      " [ 2.99312834e-09+3.64960546e-09j  1.96388127e-09+1.62093470e-09j\n",
      "   1.21538731e-09-3.74666062e-09j  9.95470396e-11+5.42670649e-09j\n",
      "  -9.95470080e-11-5.42670649e-09j -1.21538731e-09+3.74666065e-09j\n",
      "  -1.96388128e-09-1.62093465e-09j -2.99312848e-09-3.64960542e-09j]\n",
      " [ 4.71660464e-09-7.80195517e-10j  1.86869865e-09+3.23250349e-09j\n",
      "   1.19710522e-09+1.19710517e-09j  7.34527813e-10-5.99517189e-09j\n",
      "  -7.34527614e-10+5.99517203e-09j -1.19710534e-09-1.19710511e-09j\n",
      "  -1.86869858e-09-3.23250351e-09j -4.71660464e-09+7.80195548e-10j]\n",
      " [ 3.65260578e-09+1.69925380e-10j  3.02195480e-09+2.56933784e-09j\n",
      "   2.60850289e-09-2.86691306e-09j  2.25314298e-10+3.14067581e-09j\n",
      "  -2.25314393e-10-3.14067583e-09j -2.60850290e-09+2.86691304e-09j\n",
      "  -3.02195485e-09-2.56933784e-09j -3.65260585e-09-1.69925433e-10j]\n",
      " [ 6.84210309e-09-1.15546605e-09j  3.08484993e-09-2.82273627e-09j\n",
      "   1.83112023e-09+1.83112023e-09j  1.25912743e-09-3.04866221e-09j\n",
      "  -1.25912742e-09+3.04866221e-09j -1.83112024e-09-1.83112022e-09j\n",
      "  -3.08484985e-09+2.82273632e-09j -6.84210310e-09+1.15546595e-09j]\n",
      " [ 4.59339738e-09-1.69293703e-09j  3.33603004e-09-1.14717834e-09j\n",
      "   3.07921388e-09-1.40046425e-09j  1.30655261e-09+1.08023391e-09j\n",
      "  -1.30655254e-09-1.08023393e-09j -3.07921418e-09+1.40046422e-09j\n",
      "  -3.33602985e-09+1.14717831e-09j -4.59339754e-09+1.69293695e-09j]\n",
      " [ 7.82172335e-02+3.10053278e-09j  7.82172326e-02+3.28870207e-09j\n",
      "   7.82172325e-02-3.28870198e-09j  7.82172315e-02-3.10053276e-09j\n",
      "  -7.82172270e-02+8.25340649e-10j -7.82172306e-02-1.49730581e-10j\n",
      "  -7.82172344e-02+1.49730547e-10j -7.82172380e-02-8.25340708e-10j]\n",
      " [ 1.54508502e-01-4.42102747e-10j  1.54508501e-01-4.85531184e-10j\n",
      "   1.54508493e-01+4.85531324e-10j  1.54508493e-01+4.42102648e-10j\n",
      "  -1.54508491e-01+4.36109783e-09j -1.54508495e-01+4.87665937e-09j\n",
      "  -1.54508499e-01-4.87665918e-09j -1.54508504e-01-4.36109784e-09j]\n",
      " [ 2.26995251e-01-2.19404042e-09j  2.26995250e-01-7.50431831e-09j\n",
      "   2.26995249e-01+7.50431823e-09j  2.26995249e-01+2.19404040e-09j\n",
      "  -2.26995244e-01-5.90893449e-10j -2.26995250e-01-8.16844157e-10j\n",
      "  -2.26995250e-01+8.16844286e-10j -2.26995256e-01+5.90893614e-10j]\n",
      " [ 2.93892636e-01-1.97735780e-10j  2.93892627e-01-1.70876030e-09j\n",
      "   2.93892625e-01+1.70876024e-09j  2.93892616e-01+1.97735720e-10j\n",
      "  -2.93892618e-01+5.18503100e-09j -2.93892623e-01+5.77768107e-09j\n",
      "  -2.93892629e-01-5.77768096e-09j -2.93892634e-01-5.18503099e-09j]\n",
      " [ 3.53553397e-01+1.50834301e-09j  3.53553391e-01-1.53757562e-09j\n",
      "   3.53553390e-01+1.53757564e-09j  3.53553384e-01-1.50834299e-09j\n",
      "  -3.53553382e-01+8.11884771e-09j -3.53553390e-01+7.89382615e-09j\n",
      "  -3.53553391e-01-7.89382611e-09j -3.53553399e-01-8.11884760e-09j]\n",
      " [ 4.04508501e-01+3.00965428e-09j  4.04508497e-01-9.85262011e-09j\n",
      "   4.04508497e-01+9.85262016e-09j  4.04508493e-01-3.00965416e-09j\n",
      "  -4.04508496e-01-6.49745621e-09j -4.04508497e-01+5.98435335e-09j\n",
      "  -4.04508498e-01-5.98435324e-09j -4.04508498e-01+6.49745624e-09j]\n",
      " [ 4.45503265e-01+7.40162548e-09j  4.45503262e-01-8.08057282e-09j\n",
      "   4.45503262e-01+8.08057282e-09j  4.45503259e-01-7.40162543e-09j\n",
      "  -4.45503254e-01+6.55788107e-09j -4.45503257e-01+1.11076159e-08j\n",
      "  -4.45503268e-01-1.11076158e-08j -4.45503270e-01-6.55788096e-09j]\n",
      " [ 4.75528266e-01-1.79484483e-09j  4.75528264e-01-3.14474101e-09j\n",
      "   4.75528252e-01+3.14474091e-09j  4.75528251e-01+1.79484476e-09j\n",
      "  -4.75528250e-01+3.89690854e-09j -4.75528257e-01+2.35235886e-09j\n",
      "  -4.75528259e-01-2.35235898e-09j -4.75528266e-01-3.89690879e-09j]\n",
      " [ 4.93844174e-01+7.35025152e-09j  4.93844170e-01+1.08624118e-08j\n",
      "   4.93844170e-01-1.08624118e-08j  4.93844167e-01-7.35025128e-09j\n",
      "  -4.93844167e-01+5.95943059e-10j -4.93844170e-01+6.52798766e-09j\n",
      "  -4.93844171e-01-6.52798748e-09j -4.93844174e-01-5.95943162e-10j]\n",
      " [ 5.00000006e-01-1.02464831e-09j  5.00000000e-01+1.13303612e-08j\n",
      "   5.00000000e-01-1.13303613e-08j  4.99999994e-01+1.02464832e-09j\n",
      "  -4.99999996e-01-5.19971510e-10j -5.00000000e-01+7.89798582e-09j\n",
      "  -5.00000000e-01-7.89798579e-09j -5.00000004e-01+5.19971542e-10j]\n",
      " [ 5.63188640e-01-7.55503825e-17j  5.63188640e-01-5.20417043e-17j\n",
      "   4.27572866e-01+1.14356224e-16j  4.27572866e-01+7.26907993e-17j\n",
      "  -4.27572866e-01-8.38906625e-17j -4.27572866e-01+1.93657364e-16j\n",
      "  -5.63188640e-01-2.65353689e-16j -5.63188640e-01+0.00000000e+00j]\n",
      " [ 6.15971251e-01+3.64834031e-17j  6.15971251e-01+2.36789754e-16j\n",
      "   3.47245473e-01-1.04151171e-16j  3.47245473e-01-7.44515491e-17j\n",
      "  -3.47245473e-01-4.85066952e-17j -3.47245473e-01-1.75660520e-17j\n",
      "  -6.15971251e-01+5.60449220e-17j -6.15971251e-01+8.05402555e-17j]\n",
      " [ 6.57372568e-01-1.74556550e-16j  6.57372568e-01+1.25248459e-16j\n",
      "   2.60502030e-01+1.73979059e-16j  2.60502030e-01+8.44453465e-17j\n",
      "  -2.60502030e-01-9.54121747e-17j -2.60502030e-01-1.84260127e-16j\n",
      "  -6.57372568e-01-7.99897859e-17j -6.57372568e-01-5.07406617e-17j]\n",
      " [ 6.86627620e-01+3.46944695e-18j  6.86627620e-01-2.08166817e-17j\n",
      "   1.68945293e-01-1.41225605e-17j  1.68945293e-01-1.02718704e-16j\n",
      "  -1.68945293e-01+1.38777878e-17j -1.68945293e-01+2.60208521e-17j\n",
      "  -6.86627620e-01+2.64545330e-17j -6.86627620e-01+1.94289029e-16j]\n",
      " [ 7.03195861e-01+1.82145965e-17j  7.03195861e-01-5.55111512e-17j\n",
      "   7.42669569e-02+1.67433929e-16j  7.42669569e-02-1.79909181e-16j\n",
      "  -7.42669569e-02+6.97592152e-17j -7.42669569e-02-3.44819256e-16j\n",
      "  -7.03195861e-01+7.45931095e-17j -7.03195861e-01-2.08166817e-17j]\n",
      " [ 7.07106781e-01-6.31705022e-32j  7.07106781e-01+1.58026631e-33j\n",
      "   3.42624690e-09-8.00072483e-25j  1.17192326e-16-6.12511966e-09j\n",
      "   1.17192320e-16+6.12511966e-09j -3.42624707e-09+8.00072475e-25j\n",
      "  -7.07106781e-01+4.62223187e-32j -7.07106781e-01+0.00000000e+00j]\n",
      " [ 7.00574179e-01+5.52999482e-18j  7.00574179e-01+1.30530413e-17j\n",
      "   3.37803458e-10+9.87602006e-09j  1.16957625e-10-9.14252498e-09j\n",
      "  -1.16957732e-10+9.14252501e-09j -3.37803697e-10-9.87602009e-09j\n",
      "  -7.00574179e-01+3.25701556e-17j -7.00574179e-01+3.12328543e-17j]\n",
      " [ 6.81097077e-01+5.19942704e-17j  6.81097077e-01+1.91686944e-16j\n",
      "   5.16974546e-09-3.50528216e-09j  3.28717662e-09-2.10506678e-09j\n",
      "  -3.28717677e-09+2.10506682e-09j -5.16974552e-09+3.50528203e-09j\n",
      "  -6.81097077e-01-1.04083409e-16j -6.81097077e-01+1.52655666e-16j]\n",
      " [ 6.49035352e-01+1.85398571e-17j  6.49035352e-01-9.71445147e-17j\n",
      "   6.66854186e-09-5.80219389e-10j  8.30954789e-10+5.66013665e-09j\n",
      "  -8.30954502e-10-5.66013657e-09j -6.66854182e-09+5.80219337e-10j\n",
      "  -6.49035352e-01+4.85722573e-17j -6.49035352e-01+9.36750677e-17j]\n",
      " [ 6.04981408e-01-2.56739074e-16j  6.04981408e-01-9.88792381e-17j\n",
      "   4.50196995e-09+6.23612575e-10j  1.42407515e-09+4.33110397e-09j\n",
      "  -1.42407486e-09-4.33110401e-09j -4.50196981e-09-6.23612713e-10j\n",
      "  -6.04981408e-01+1.94289029e-16j -6.04981408e-01-1.24900090e-16j]\n",
      " [ 5.49749231e-01+1.94289029e-16j  5.49749231e-01+2.77555756e-17j\n",
      "   5.62109658e-09+5.61984134e-09j  4.73827398e-09-3.91838557e-09j\n",
      "  -4.73827389e-09+3.91838554e-09j -5.62109661e-09-5.61984130e-09j\n",
      "  -5.49749231e-01-1.15359111e-16j -5.49749231e-01+0.00000000e+00j]\n",
      " [ 4.84359343e-01-6.72205347e-18j  4.84359343e-01+2.08166817e-16j\n",
      "   5.72624252e-09-5.41294522e-09j  1.19155619e-09-4.39801156e-09j\n",
      "  -1.19155632e-09+4.39801150e-09j -5.72624252e-09+5.41294511e-09j\n",
      "  -4.84359343e-01-1.04083409e-16j -4.84359343e-01-2.13370988e-16j]\n",
      " [ 4.10019954e-01+8.70839809e-17j  4.10019954e-01-6.93889390e-18j\n",
      "   2.35642139e-09+3.89201720e-09j  1.99604561e-09+3.60384683e-09j\n",
      "  -1.99604553e-09-3.60384686e-09j -2.35642142e-09-3.89201697e-09j\n",
      "  -4.10019954e-01-1.04342731e-17j -4.10019954e-01+5.20417043e-18j]\n",
      " [ 3.28104630e-01+6.93889390e-17j  3.28104630e-01+4.16333634e-17j\n",
      "   6.45431976e-09-2.85213277e-09j  5.27195597e-09+9.30402243e-10j\n",
      "  -5.27195594e-09-9.30402280e-10j -6.45431987e-09+2.85213265e-09j\n",
      "  -3.28104630e-01-6.93889390e-17j -3.28104630e-01+1.11022302e-16j]\n",
      " [ 2.40126922e-01-1.18828558e-16j  2.40126922e-01-1.89952221e-16j\n",
      "   2.54444499e-09+1.49672325e-09j  1.02011242e-09+5.12011322e-09j\n",
      "  -1.02011225e-09-5.12011292e-09j -2.54444495e-09-1.49672324e-09j\n",
      "  -2.40126922e-01-6.93889390e-17j -2.40126922e-01+7.99463577e-17j]\n",
      " [ 1.47712391e-01+2.22952624e-16j  1.47712391e-01+1.22514845e-16j\n",
      "   2.72774355e-09-2.48709147e-09j  9.37411373e-10-5.37270277e-09j\n",
      "  -9.37411086e-10+5.37270276e-09j -2.72774369e-09+2.48709145e-09j\n",
      "  -1.47712391e-01-1.47451495e-17j -1.47712391e-01-9.86623977e-17j]\n",
      " [ 5.25685802e-02+7.86588676e-17j  5.25685802e-02+2.23548935e-16j\n",
      "   4.56588434e-09-2.10892118e-10j  2.18225055e-09-8.45692917e-10j\n",
      "  -2.18225111e-09+8.45692965e-10j -4.56588453e-09+2.10891777e-10j\n",
      "  -5.25685802e-02+1.13014524e-16j -5.25685802e-02-1.17961196e-16j]]\n",
      "0.7071067811865479 -0.7071067811865475\n"
     ]
    },
    {
     "data": {
      "image/png": "[encoded data removed]",
      "text/plain": [
       "<Figure size 432x288 with 1 Axes>"
      ]
     },
     "metadata": {},
     "output_type": "display_data"
    }
   ],
   "source": [
    "smk.band_high_sym(Hlsw,cp_strg,20)"
   ]
  },
  {
   "cell_type": "code",
   "execution_count": null,
   "id": "ff6ddb7e821f85",
   "metadata": {
    "ExecuteTime": {
     "end_time": "2024-06-05T15:20:23.835385Z",
     "start_time": "2024-06-05T15:20:23.590550Z"
    }
   },
   "outputs": [],
   "source": [
    "smk.berry_curv(Hlsw,1,0,2,2)"
   ]
  },
  {
   "cell_type": "code",
   "execution_count": null,
   "id": "b78e9b487a09c310",
   "metadata": {
    "ExecuteTime": {
     "end_time": "2024-06-06T03:00:34.973061Z",
     "start_time": "2024-06-06T03:00:12.166091Z"
    }
   },
   "outputs": [],
   "source": [
    "smk.berry_curv_graph(Hlsw,1,0,3,10,10)"
   ]
  },
  {
   "cell_type": "code",
   "execution_count": null,
   "id": "f2add934009fd5c1",
   "metadata": {
    "ExecuteTime": {
     "end_time": "2024-06-05T15:37:46.293134Z",
     "start_time": "2024-06-05T15:37:44.100930Z"
    }
   },
   "outputs": [],
   "source": [
    "smk.unnormalized_heat_conductivity(Hlsw,1,0,1,2)"
   ]
  },
  {
   "cell_type": "code",
   "execution_count": null,
   "id": "69a6918eb41a0352",
   "metadata": {
    "ExecuteTime": {
     "end_time": "2024-06-05T15:04:04.390657Z",
     "start_time": "2024-06-05T15:03:54.616513Z"
    }
   },
   "outputs": [],
   "source": [
    "mat, n = smk.unnormalized_heat_conductivity(Hlsw,1,0,1,3)"
   ]
  },
  {
   "cell_type": "code",
   "execution_count": null,
   "id": "854aa21b4f2028b5",
   "metadata": {
    "ExecuteTime": {
     "end_time": "2024-06-05T18:04:59.925073Z",
     "start_time": "2024-06-05T18:04:40.427426Z"
    }
   },
   "outputs": [],
   "source": [
    "dB = 0.5\n",
    "rsln = 1.1/dB\n",
    "\n",
    "i = 0\n",
    "x = np.array([])\n",
    "y = np.array([])\n",
    "\n",
    "while i <rsln:\n",
    "    B = 0+dB*i\n",
    "    cp_strg = [-3, -2.5, 2.5, 0.1, B]\n",
    "    Hlsw = smk.afm_spin_model(cp_strg)\n",
    "    kappa, N = smk.unnormalized_heat_conductivity(Hlsw,1,0,1, 3)\n",
    "    x = np.append(x, B)\n",
    "    y = np.append(y,np.sum(kappa))\n",
    "    i += 1"
   ]
  },
  {
   "cell_type": "code",
   "execution_count": null,
   "id": "e704909d759d4423",
   "metadata": {
    "ExecuteTime": {
     "end_time": "2024-06-05T18:04:27.277926Z",
     "start_time": "2024-06-05T18:04:27.276907Z"
    }
   },
   "outputs": [],
   "source": [
    "x,y\n"
   ]
  },
  {
   "cell_type": "code",
   "execution_count": null,
   "id": "f7db3affd9228310",
   "metadata": {
    "ExecuteTime": {
     "end_time": "2024-06-05T16:05:15.218903Z",
     "start_time": "2024-06-05T16:05:15.201052Z"
    }
   },
   "outputs": [],
   "source": [
    "type(y[0])"
   ]
  },
  {
   "cell_type": "code",
   "execution_count": null,
   "id": "46789a3effb465c2",
   "metadata": {
    "ExecuteTime": {
     "end_time": "2024-06-05T15:57:54.782169Z",
     "start_time": "2024-06-05T15:57:52.231990Z"
    }
   },
   "outputs": [],
   "source": [
    "dB = 0.2\n",
    "rsln = 1.1 / dB\n",
    "\n",
    "i = 0\n",
    "x = np.array([])\n",
    "y = np.array([])\n",
    "\n",
    "while i < rsln:\n",
    "    B = 0 + dB * i\n",
    "    cp_strg = [-3, -2.5, 2.5, 0.1, B]\n",
    "    Hlsw = smk.afm_spin_model(cp_strg)\n",
    "    kappa, N = smk.unnormalized_heat_conductivity(Hlsw, 1, 0, 1, 3)\n",
    "    x = np.append(x, B)\n",
    "    y = np.append(y, np.sum(kappa))\n",
    "    i += 1"
   ]
  },
  {
   "cell_type": "code",
   "execution_count": null,
   "id": "72788eb39d2618a",
   "metadata": {
    "ExecuteTime": {
     "end_time": "2024-06-05T15:53:03.410319Z",
     "start_time": "2024-06-05T15:53:03.401352Z"
    }
   },
   "outputs": [],
   "source": [
    "rsln,N"
   ]
  },
  {
   "cell_type": "code",
   "execution_count": null,
   "id": "6793c94b2a6c1f56",
   "metadata": {
    "ExecuteTime": {
     "end_time": "2024-06-05T15:52:08.406682Z",
     "start_time": "2024-06-05T15:52:08.327811Z"
    }
   },
   "outputs": [],
   "source": [
    "x,y"
   ]
  },
  {
   "cell_type": "code",
   "execution_count": null,
   "id": "b1a01504548e57d6",
   "metadata": {
    "ExecuteTime": {
     "end_time": "2024-06-05T15:00:39.137975Z",
     "start_time": "2024-06-05T15:00:37.940727Z"
    }
   },
   "outputs": [],
   "source": [
    "from matplotlib.pyplot import subplots as spp\n",
    "fig, ax = spp(facecolor='0.95')\n",
    "ax.set_title(\"$\\kappa^{yx}$ change w.r.t. external field B\")\n",
    "ax.set_xlabel(\"h (meV)\")\n",
    "ax.set_ylabel(\"$\\kappa^{yx}$ $(5k_B^2/ \\hbar)$\")\n",
    "ax.plot(x, y, color='k', label='$T=1K$')\n",
    "\n",
    "ax.legend()\n",
    "fig.savefig('kappa_vs_size.png')"
   ]
  },
  {
   "cell_type": "code",
   "execution_count": null,
   "id": "28e532cffb5ab0c1",
   "metadata": {},
   "outputs": [],
   "source": []
  }
 ],
 "metadata": {
  "kernelspec": {
   "display_name": "Python 3",
   "language": "python",
   "name": "python3"
  },
  "language_info": {
   "codemirror_mode": {
    "name": "ipython",
    "version": 3
   },
   "file_extension": ".py",
   "mimetype": "text/x-python",
   "name": "python",
   "nbconvert_exporter": "python",
   "pygments_lexer": "ipython3",
   "version": "3.9.1"
  }
 },
 "nbformat": 4,
 "nbformat_minor": 5
}
