{
 "cells": [
  {
   "cell_type": "code",
   "execution_count": 1,
   "id": "initial_id",
   "metadata": {
    "ExecuteTime": {
     "end_time": "2024-06-05T09:35:21.047316Z",
     "start_time": "2024-06-05T09:35:19.053266Z"
    }
   },
   "outputs": [],
   "source": [
    "import numpy as np\n",
    "import sympy as sp\n",
    "import SpinModel_fm as smk\n",
    "import matplotlib.pyplot as plt"
   ]
  },
  {
   "cell_type": "code",
   "execution_count": 17,
   "id": "8c8c273c47cfeee6",
   "metadata": {
    "ExecuteTime": {
     "end_time": "2024-06-05T09:35:21.783079Z",
     "start_time": "2024-06-05T09:35:21.051205Z"
    }
   },
   "outputs": [],
   "source": [
    "cp_strg = [-1.5, 0, 0, 0, 0]\n",
    "Hlsw = smk.fm_spin_model(cp_strg)"
   ]
  },
  {
   "cell_type": "markdown",
   "id": "2ec005725d5621b5",
   "metadata": {},
   "source": [
    "# $H_{lsw}(k_x,k_y)$"
   ]
  },
  {
   "cell_type": "code",
   "execution_count": 13,
   "id": "530d270cbbf8c45b",
   "metadata": {
    "ExecuteTime": {
     "end_time": "2024-06-05T09:35:21.861663Z",
     "start_time": "2024-06-05T09:35:21.785265Z"
    }
   },
   "outputs": [
    {
     "data": {
      "text/latex": [
       "$\\displaystyle \\left[\\begin{matrix}11.5 & - 4.0 e^{i \\left(- \\frac{k_{1}}{2} + \\frac{\\sqrt{3} k_{2}}{6}\\right)} - 1.5 e^{i \\left(\\frac{k_{1}}{2} + \\frac{\\sqrt{3} k_{2}}{6}\\right)} - 4.0 e^{- \\frac{\\sqrt{3} i k_{2}}{3}} & 0 & 0.5 \\left(-5 + 0.1 i\\right) e^{i \\left(- \\frac{k_{1}}{2} + \\frac{\\sqrt{3} k_{2}}{6}\\right)} + 1.25 i e^{i \\left(\\frac{k_{1}}{2} + \\frac{\\sqrt{3} k_{2}}{6}\\right)} + 0.5 \\cdot \\left(5 + 0.1 i\\right) e^{- \\frac{\\sqrt{3} i k_{2}}{3}}\\\\- 4.0 e^{\\frac{\\sqrt{3} i k_{2}}{3}} - 1.5 e^{- i \\left(\\frac{k_{1}}{2} + \\frac{\\sqrt{3} k_{2}}{6}\\right)} - 4.0 e^{- i \\left(- \\frac{k_{1}}{2} + \\frac{\\sqrt{3} k_{2}}{6}\\right)} & 11.5 & 0.5 \\cdot \\left(5 + 0.1 i\\right) e^{\\frac{\\sqrt{3} i k_{2}}{3}} + 1.25 i e^{- i \\left(\\frac{k_{1}}{2} + \\frac{\\sqrt{3} k_{2}}{6}\\right)} + 0.5 \\left(-5 + 0.1 i\\right) e^{- i \\left(- \\frac{k_{1}}{2} + \\frac{\\sqrt{3} k_{2}}{6}\\right)} & 0\\\\0 & 0.5 \\left(-5 - 0.1 i\\right) e^{i \\left(- \\frac{k_{1}}{2} + \\frac{\\sqrt{3} k_{2}}{6}\\right)} - 1.25 i e^{i \\left(\\frac{k_{1}}{2} + \\frac{\\sqrt{3} k_{2}}{6}\\right)} + 0.5 \\cdot \\left(5 - 0.1 i\\right) e^{- \\frac{\\sqrt{3} i k_{2}}{3}} & 11.5 & - 4.0 e^{i \\left(- \\frac{k_{1}}{2} + \\frac{\\sqrt{3} k_{2}}{6}\\right)} - 1.5 e^{i \\left(\\frac{k_{1}}{2} + \\frac{\\sqrt{3} k_{2}}{6}\\right)} - 4.0 e^{- \\frac{\\sqrt{3} i k_{2}}{3}}\\\\0.5 \\cdot \\left(5 - 0.1 i\\right) e^{\\frac{\\sqrt{3} i k_{2}}{3}} - 1.25 i e^{- i \\left(\\frac{k_{1}}{2} + \\frac{\\sqrt{3} k_{2}}{6}\\right)} + 0.5 \\left(-5 - 0.1 i\\right) e^{- i \\left(- \\frac{k_{1}}{2} + \\frac{\\sqrt{3} k_{2}}{6}\\right)} & 0 & - 4.0 e^{\\frac{\\sqrt{3} i k_{2}}{3}} - 1.5 e^{- i \\left(\\frac{k_{1}}{2} + \\frac{\\sqrt{3} k_{2}}{6}\\right)} - 4.0 e^{- i \\left(- \\frac{k_{1}}{2} + \\frac{\\sqrt{3} k_{2}}{6}\\right)} & 11.5\\end{matrix}\\right]$"
      ],
      "text/plain": [
       "Matrix([\n",
       "[                                                                                                                        11.5,                            -4.0*exp(I*(-k1/2 + sqrt(3)*k2/6)) - 1.5*exp(I*(k1/2 + sqrt(3)*k2/6)) - 4.0*exp(-sqrt(3)*I*k2/3),                                                                                                                            0, 0.5*(-5 + 0.1*I)*exp(I*(-k1/2 + sqrt(3)*k2/6)) + 1.25*I*exp(I*(k1/2 + sqrt(3)*k2/6)) + 0.5*(5 + 0.1*I)*exp(-sqrt(3)*I*k2/3)],\n",
       "[                           -4.0*exp(sqrt(3)*I*k2/3) - 1.5*exp(-I*(k1/2 + sqrt(3)*k2/6)) - 4.0*exp(-I*(-k1/2 + sqrt(3)*k2/6)),                                                                                                                        11.5, 0.5*(5 + 0.1*I)*exp(sqrt(3)*I*k2/3) + 1.25*I*exp(-I*(k1/2 + sqrt(3)*k2/6)) + 0.5*(-5 + 0.1*I)*exp(-I*(-k1/2 + sqrt(3)*k2/6)),                                                                                                                           0],\n",
       "[                                                                                                                           0, 0.5*(-5 - 0.1*I)*exp(I*(-k1/2 + sqrt(3)*k2/6)) - 1.25*I*exp(I*(k1/2 + sqrt(3)*k2/6)) + 0.5*(5 - 0.1*I)*exp(-sqrt(3)*I*k2/3),                                                                                                                         11.5,                            -4.0*exp(I*(-k1/2 + sqrt(3)*k2/6)) - 1.5*exp(I*(k1/2 + sqrt(3)*k2/6)) - 4.0*exp(-sqrt(3)*I*k2/3)],\n",
       "[0.5*(5 - 0.1*I)*exp(sqrt(3)*I*k2/3) - 1.25*I*exp(-I*(k1/2 + sqrt(3)*k2/6)) + 0.5*(-5 - 0.1*I)*exp(-I*(-k1/2 + sqrt(3)*k2/6)),                                                                                                                           0,                            -4.0*exp(sqrt(3)*I*k2/3) - 1.5*exp(-I*(k1/2 + sqrt(3)*k2/6)) - 4.0*exp(-I*(-k1/2 + sqrt(3)*k2/6)),                                                                                                                        11.5]])"
      ]
     },
     "execution_count": 13,
     "metadata": {},
     "output_type": "execute_result"
    }
   ],
   "source": [
    "Hlsw"
   ]
  },
  {
   "cell_type": "markdown",
   "id": "c21d2baaf4737c42",
   "metadata": {},
   "source": [
    "# Is the $E_{min}$ bigger or smaller than $0.22eV$?"
   ]
  },
  {
   "cell_type": "code",
   "execution_count": 7,
   "id": "699219ce8732f83d",
   "metadata": {
    "ExecuteTime": {
     "end_time": "2024-06-03T16:55:05.948138Z",
     "start_time": "2024-06-03T16:55:05.903763Z"
    }
   },
   "outputs": [],
   "source": [
    "val, vec = smk.bdg(Hlsw, -(bb / 2)/np.sqrt(3), -bb / 2)"
   ]
  },
  {
   "cell_type": "code",
   "execution_count": 10,
   "id": "106aa0bfb5b682db",
   "metadata": {
    "ExecuteTime": {
     "end_time": "2024-06-03T16:55:06.958516Z",
     "start_time": "2024-06-03T16:55:06.952275Z"
    }
   },
   "outputs": [
    {
     "data": {
      "text/plain": [
       "4.440892098500626e-16"
      ]
     },
     "execution_count": 10,
     "metadata": {},
     "output_type": "execute_result"
    }
   ],
   "source": [
    "val[0]-val[1]"
   ]
  },
  {
   "cell_type": "markdown",
   "id": "cafb934ea2a43bae",
   "metadata": {},
   "source": [
    "# Paraunitary condition"
   ]
  },
  {
   "cell_type": "code",
   "execution_count": 6,
   "id": "c23c17d042bfd03e",
   "metadata": {
    "ExecuteTime": {
     "end_time": "2024-06-03T16:54:02.194016Z",
     "start_time": "2024-06-03T16:54:02.188217Z"
    }
   },
   "outputs": [],
   "source": [
    "vec_dag = np.transpose(np.conjugate(vec))"
   ]
  },
  {
   "cell_type": "code",
   "execution_count": 7,
   "id": "e09730f50b1af7ab",
   "metadata": {
    "ExecuteTime": {
     "end_time": "2024-06-03T16:54:06.144335Z",
     "start_time": "2024-06-03T16:54:06.131056Z"
    }
   },
   "outputs": [
    {
     "data": {
      "text/plain": [
       "array([[ 1,  0,  0,  0],\n",
       "       [ 0,  1,  0,  0],\n",
       "       [ 0,  0, -1,  0],\n",
       "       [ 0,  0,  0, -1]])"
      ]
     },
     "execution_count": 7,
     "metadata": {},
     "output_type": "execute_result"
    }
   ],
   "source": [
    "sigma_3 = np.diag([1,1,-1,-1])\n",
    "sigma_3"
   ]
  },
  {
   "cell_type": "code",
   "execution_count": 8,
   "id": "6d16e035bfe8db94",
   "metadata": {
    "ExecuteTime": {
     "end_time": "2024-06-03T16:54:07.053943Z",
     "start_time": "2024-06-03T16:54:07.040410Z"
    }
   },
   "outputs": [
    {
     "data": {
      "text/plain": [
       "array([[ 1.00000000e+00+0.j,  2.23711432e-17+0.j,  0.00000000e+00+0.j,\n",
       "         0.00000000e+00+0.j],\n",
       "       [ 2.23711432e-17+0.j,  1.00000000e+00+0.j,  0.00000000e+00+0.j,\n",
       "         0.00000000e+00+0.j],\n",
       "       [ 0.00000000e+00+0.j,  0.00000000e+00+0.j, -1.00000000e+00+0.j,\n",
       "        -2.90402692e-16+0.j],\n",
       "       [ 0.00000000e+00+0.j,  0.00000000e+00+0.j, -2.90402692e-16+0.j,\n",
       "        -1.00000000e+00+0.j]])"
      ]
     },
     "execution_count": 8,
     "metadata": {},
     "output_type": "execute_result"
    }
   ],
   "source": [
    "np.matmul(vec_dag,np.matmul(sigma_3,vec))"
   ]
  },
  {
   "cell_type": "markdown",
   "id": "d7c6db3f2aa71a77",
   "metadata": {},
   "source": [
    "# The band structure along high symmetry line"
   ]
  },
  {
   "cell_type": "code",
   "execution_count": 3,
   "id": "78383d6e48356485",
   "metadata": {
    "ExecuteTime": {
     "end_time": "2024-06-03T16:54:16.194394Z",
     "start_time": "2024-06-03T16:54:12.846652Z"
    }
   },
   "outputs": [
    {
     "data": {
      "image/png": "[encoded data removed]",
      "text/plain": [
       "<Figure size 432x288 with 1 Axes>"
      ]
     },
     "metadata": {},
     "output_type": "display_data"
    }
   ],
   "source": [
    "smk.band_high_sym(Hlsw, cp_strg, 20)"
   ]
  },
  {
   "cell_type": "code",
   "execution_count": 6,
   "id": "9f6b72cea72e2184",
   "metadata": {
    "ExecuteTime": {
     "end_time": "2024-06-04T07:15:51.932626Z",
     "start_time": "2024-06-04T07:15:51.797937Z"
    }
   },
   "outputs": [
    {
     "data": {
      "text/plain": [
       "array([-3.61674212e+30,  3.61674212e+30])"
      ]
     },
     "execution_count": 6,
     "metadata": {},
     "output_type": "execute_result"
    }
   ],
   "source": [
    "smk.berry_curv(Hlsw, 1, 0, -(bb / 2)/np.sqrt(3), -bb / 2)"
   ]
  },
  {
   "cell_type": "markdown",
   "id": "f421cfea36f4ccad",
   "metadata": {},
   "source": [
    "# Berry curvature"
   ]
  },
  {
   "cell_type": "code",
   "execution_count": 20,
   "id": "160378b52d17c1a5",
   "metadata": {
    "ExecuteTime": {
     "end_time": "2024-06-04T07:15:26.093447Z",
     "start_time": "2024-06-04T07:15:17.182684Z"
    },
    "scrolled": true
   },
   "outputs": [
    {
     "data": {
      "image/png": "[encoded data removed]",
      "text/plain": [
       "<Figure size 432x288 with 2 Axes>"
      ]
     },
     "metadata": {},
     "output_type": "display_data"
    }
   ],
   "source": [
    "smk.berry_curv_graph(Hlsw,1,0,0,10, 10)"
   ]
  },
  {
   "cell_type": "markdown",
   "id": "91f0f2e01f082b75",
   "metadata": {},
   "source": [
    "# Chern number"
   ]
  },
  {
   "cell_type": "code",
   "execution_count": 13,
   "id": "228c1073fd4a7fc3",
   "metadata": {
    "ExecuteTime": {
     "end_time": "2024-06-03T12:05:09.083373Z",
     "start_time": "2024-06-03T12:03:07.032780Z"
    }
   },
   "outputs": [
    {
     "name": "stdout",
     "output_type": "stream",
     "text": [
      "[-0.00504759  0.0039505 ]\n",
      "[-0.00598958  0.00503279]\n",
      "[-0.00754089  0.00675817]\n",
      "[-0.01017053  0.0095879 ]\n",
      "[-0.01480994  0.01443984]\n",
      "[-0.0235171   0.02335409]\n",
      "[-0.04110167  0.04112083]\n",
      "[-0.07733597  0.07749449]\n",
      "[-0.13370282  0.13394342]\n",
      "[-0.14744736  0.14769997]\n",
      "[-0.09438052  0.09457221]\n",
      "[-0.05009599  0.05016525]\n",
      "[-0.02782968  0.02772869]\n",
      "[-0.01700517  0.01670297]\n",
      "[-0.01137235  0.01085727]\n",
      "[-0.00823472  0.00751384]\n",
      "[-0.00640351  0.00549909]\n",
      "[-0.00530204  0.00424601]\n",
      "[-0.00375291  0.00240226]\n",
      "[-0.00426866  0.00303326]\n",
      "[-0.00508172  0.00399849]\n",
      "[-0.00637484  0.00547895]\n",
      "[-0.00844836  0.0077677 ]\n",
      "[-0.01183578  0.01138567]\n",
      "[-0.01751537  0.01729485]\n",
      "[-0.02713617  0.02712629]\n",
      "[-0.04225173  0.04241386]\n",
      "[-0.05912871  0.05940083]\n",
      "[-0.06355997  0.06386184]\n",
      "[-0.05089835  0.05115491]\n",
      "[-0.03488095  0.03503222]\n",
      "[-0.02336681  0.02336626]\n",
      "[-0.01623442  0.01605112]\n",
      "[-0.0119079   0.01152903]\n",
      "[-0.00925711  0.008688  ]\n",
      "[-0.00761073  0.00687187]\n",
      "[-0.00655745  0.00567942]\n",
      "[-0.00303551  0.00148731]\n",
      "[-0.00331349  0.00185548]\n",
      "[-0.00372329  0.00239131]\n",
      "[-0.00431855  0.003152  ]\n",
      "[-0.00515879  0.00419629]\n",
      "[-0.00630748  0.00558198]\n",
      "[-0.00782028  0.00735447]\n",
      "[-0.00971207  0.0095135 ]\n",
      "[-0.01188748  0.01194142]\n",
      "[-0.0140459   0.01430656]\n",
      "[-0.01567323  0.01606379]\n",
      "[-0.01629583  0.01672728]\n",
      "[-0.01584854  0.01624209]\n",
      "[-0.01468475  0.01497879]\n",
      "[-0.01325573  0.01340525]\n",
      "[-0.01188567  0.01186304]\n",
      "[-0.01074139  0.01053681]\n",
      "[-0.00986633  0.00948648]\n",
      "[-0.00920488  0.00866979]\n",
      "[-0.00861965  0.00795855]\n",
      "[-0.00263044  0.00093462]\n",
      "[-0.00278452  0.00115613]\n",
      "[-0.00299283  0.00146373]\n",
      "[-0.00326127  0.00187114]\n",
      "[-0.00358089  0.00237462]\n",
      "[-0.00392257  0.00294645]\n",
      "[-0.00423346  0.00353059]\n",
      "[-0.0044454   0.00404859]\n",
      "[-0.00450694  0.00442717]\n",
      "[-0.00443393  0.00464698]\n",
      "[-0.0043344   0.00477631]\n",
      "[-0.00435778  0.00493836]\n",
      "[-0.0046004   0.00522659]\n",
      "[-0.00506563  0.00565759]\n",
      "[-0.00570772  0.00620288]\n",
      "[-0.00649611  0.00684886]\n",
      "[-0.00744468  0.00762736]\n",
      "[-0.00859185  0.00859647]\n",
      "[-0.00992509  0.00976227]\n",
      "[-0.01124872  0.01094251]\n",
      "[-0.01208118  0.01166213]\n",
      "[-0.00239294  0.00059086]\n",
      "[-0.00248097  0.000727  ]\n",
      "[-0.00258689  0.00090716]\n",
      "[-0.00269815  0.00112948]\n",
      "[-0.00278668  0.0013759 ]\n",
      "[-0.00281041  0.00161217]\n",
      "[-0.0027212   0.00179421]\n",
      "[-0.00248463  0.00188385]\n",
      "[-0.00210919  0.00187146]\n",
      "[-0.00166577  0.00179207]\n",
      "[-0.00127143  0.00171695]\n",
      "[-0.00103781  0.00171989]\n",
      "[-0.00102428  0.00184395]\n",
      "[-0.00123357  0.00209635]\n",
      "[-0.00164503  0.00247174]\n",
      "[-0.00225748  0.00298648]\n",
      "[-0.00312636  0.00371276]\n",
      "[-0.0043991   0.00481484]\n",
      "[-0.00634845  0.00658435]\n",
      "[-0.00934558  0.00941296]\n",
      "[-0.01353676  0.01346466]\n",
      "[-0.01787189  0.01769694]\n",
      "[-0.00225052  0.00037514]\n",
      "[-0.0023009   0.00045779]\n",
      "[-0.00235227  0.00056128]\n",
      "[-0.00238406  0.00067709]\n",
      "[-0.00236252  0.00078458]\n",
      "[-0.00224698  0.00085594]\n",
      "[-0.00200271  0.00086723]\n",
      "[-0.00162074  0.00081327]\n",
      "[-0.00113648  0.00071788]\n",
      "[-0.00063039  0.0006286 ]\n",
      "[-0.00020046  0.00059484]\n",
      "[7.87482350e-05 6.43945668e-04]\n",
      "[0.00018057 0.00077331]\n",
      "[0.00011962 0.00096161]\n",
      "[-7.41677551e-05  1.18859669e-03]\n",
      "[-0.00038294  0.00145332]\n",
      "[-0.00082377  0.00179067]\n",
      "[-0.00147659  0.00229702]\n",
      "[-0.00254045  0.0031872 ]\n",
      "[-0.00446086  0.00492392]\n",
      "[-0.00818686  0.00847584]\n",
      "[-0.01541272  0.01555745]\n",
      "[-0.02703772  0.02708162]\n",
      "[-0.03580252  0.03578719]\n",
      "[-0.00216815  0.00024634]\n",
      "[-0.00219444  0.00029173]\n",
      "[-0.00221427  0.00034486]\n",
      "[-0.00220328  0.0003932 ]\n",
      "[-0.00212571  0.00041541]\n",
      "[-0.00194355  0.00038951]\n",
      "[-0.00163139  0.00030626]\n",
      "[-0.00119437  0.00018215]\n",
      "[-6.79665704e-04  6.11633692e-05]\n",
      "[-1.68283236e-04 -2.08933095e-06]\n",
      "[2.54728761e-04 2.99081117e-05]\n",
      "[0.00053402 0.00015912]\n",
      "[0.00065874 0.00035547]\n",
      "[0.00065265 0.00057618]\n",
      "[0.00055203 0.00078588]\n",
      "[0.00038586 0.00096894]\n",
      "[0.00016296 0.00113457]\n",
      "[-0.00013901  0.00132271]\n",
      "[-0.00059559  0.00162445]\n",
      "[-0.0013956   0.00224346]\n",
      "[-0.00301077  0.00366774]\n",
      "[-0.006694    0.00716875]\n",
      "[-0.01592096  0.01624197]\n",
      "[-0.03866613  0.03887912]\n",
      "[-0.07105385  0.07121048]\n",
      "[-0.00212996  0.00018544]\n",
      "[-0.00213807  0.00020124]\n",
      "[-0.00213692  0.00021768]\n",
      "[-0.00210037  0.00021903]\n",
      "[-0.00199175  0.00018272]\n",
      "[-1.77483679e-03  8.96266369e-05]\n",
      "[-1.4295460e-03 -6.0771993e-05]\n",
      "[-0.00096842 -0.0002382 ]\n",
      "[-0.00044393 -0.00038431]\n",
      "[ 6.37955439e-05 -4.36157347e-04]\n",
      "[ 0.0004769  -0.00035812]\n",
      "[ 0.00074943 -0.00015958]\n",
      "[0.00087799 0.00011311]\n",
      "[0.00089087 0.00040046]\n",
      "[0.00082784 0.00065264]\n",
      "[0.00072302 0.00084204]\n",
      "[0.00059544 0.00096549]\n",
      "[0.00044496 0.00104147]\n",
      "[0.000247   0.00111098]\n",
      "[-6.53109253e-05  1.25499275e-03]\n",
      "[-0.00065622  0.00165195]\n",
      "[-0.00195451  0.00274692]\n",
      "[-0.00520917  0.00580751]\n",
      "[-0.01459676  0.01502957]\n",
      "[-0.04519638  0.04550959]\n",
      "[-0.12055473  0.12080622]\n",
      "[-0.00212996  0.00018544]\n",
      "[-0.00212182  0.00017476]\n",
      "[-0.00210378  0.00016154]\n",
      "[-0.00204896  0.00012715]\n",
      "[-1.92034484e-03  4.70514906e-05]\n",
      "[-1.68269060e-03 -9.76269581e-05]\n",
      "[-0.00131873 -0.00030354]\n",
      "[-0.00084476 -0.00053248]\n",
      "[-0.00031562 -0.00071566]\n",
      "[ 0.00018933 -0.00078047]\n",
      "[ 0.00059583 -0.00068597]\n",
      "[ 0.00086214 -0.00044273]\n",
      "[ 0.00098813 -0.00010472]\n",
      "[0.00100458 0.00025623]\n",
      "[0.00095415 0.00057574]\n",
      "[0.0008749 0.0008122]\n",
      "[0.000791   0.00095161]\n",
      "[0.00070991 0.00100374]\n",
      "[0.00062285 0.0009949 ]\n",
      "[0.00050225 0.00096705]\n",
      "[0.00028617 0.00099495]\n",
      "[-0.00017112  0.00123862]\n",
      "[-0.00124564  0.0020913 ]\n",
      "[-0.00402366  0.0046586 ]\n",
      "[-0.01210778  0.01256269]\n",
      "[-0.03868075  0.03900374]\n",
      "[-0.11108916  0.11134224]\n",
      "[-0.00216815  0.00024634]\n",
      "[-0.00214317  0.00020951]\n",
      "[-0.0021088   0.00017012]\n",
      "[-0.00203773  0.00010655]\n",
      "[-1.89285952e-03 -8.15964088e-06]\n",
      "[-0.00163957 -0.0001943 ]\n",
      "[-0.00126215 -0.00044806]\n",
      "[-0.00077878 -0.00072796]\n",
      "[-0.00024536 -0.00095873]\n",
      "[ 0.00025936 -0.00105879]\n",
      "[ 0.00066269 -0.00097803]\n",
      "[ 0.00092427 -0.00072084]\n",
      "[ 0.00104475 -0.00034075]\n",
      "[1.05608290e-03 8.42658137e-05]\n",
      "[0.00100373 0.00047765]\n",
      "[0.00093048 0.00078156]\n",
      "[0.00086577 0.00096631]\n",
      "[0.00082108 0.0010326 ]\n",
      "[0.00079119 0.00100349]\n",
      "[0.000758   0.00091296]\n",
      "[0.00068901 0.00080598]\n",
      "[0.00052145 0.00075772]\n",
      "[0.00011719 0.0009216 ]\n",
      "[-0.00085736  0.0016498 ]\n",
      "[-0.00327482  0.0038355 ]\n",
      "[-0.00958091  0.0099451 ]\n",
      "[-0.02631675  0.02653923]\n",
      "[-0.0600371   0.06019016]\n",
      "[-0.00225052  0.00037514]\n",
      "[-0.00220546  0.0003092 ]\n",
      "[-0.00215286  0.00024431]\n",
      "[-0.0020644   0.00015515]\n",
      "[-1.90274643e-03  1.19209088e-05]\n",
      "[-0.00163379 -0.00020782]\n",
      "[-0.00124295 -0.00050173]\n",
      "[-0.00074963 -0.00082843]\n",
      "[-0.00021024 -0.00111033]\n",
      "[ 0.00029697 -0.00125983]\n",
      "[ 0.00070006 -0.00121759]\n",
      "[ 0.00095858 -0.00097799]\n",
      "[ 0.00107238 -0.00058751]\n",
      "[ 0.00107316 -0.00012256]\n",
      "[0.00100845 0.00033482]\n",
      "[0.00092659 0.0007128 ]\n",
      "[0.00086481 0.00096028]\n",
      "[0.00084016 0.00106   ]\n",
      "[0.00084758 0.00103205]\n",
      "[0.00086728 0.00091514]\n",
      "[0.00087177 0.00075064]\n",
      "[0.00082211 0.00058855]\n",
      "[0.00065007 0.00051013]\n",
      "[0.00021859 0.00066949]\n",
      "[-0.00076398  0.001379  ]\n",
      "[-0.00293091  0.00329501]\n",
      "[-0.00760046  0.0077596 ]\n",
      "[-0.01683488  0.01685761]\n",
      "[-0.03003067  0.02999974]\n",
      "[-0.00239294  0.00059086]\n",
      "[-0.00232001  0.000487  ]\n",
      "[-0.00224426  0.00039294]\n",
      "[-0.0021345   0.00027809]\n",
      "[-0.00195232  0.00010906]\n",
      "[-0.00166385 -0.000139  ]\n",
      "[-0.00125574 -0.00046567]\n",
      "[-0.0007488  -0.00083149]\n",
      "[-0.00020002 -0.00115992]\n",
      "[ 0.00031284 -0.00136181]\n",
      "[ 0.00071853 -0.00137187]\n",
      "[ 0.00097625 -0.00117494]\n",
      "[ 0.00108418 -0.00080722]\n",
      "[ 0.00107222 -0.00033732]\n",
      "[0.00098811 0.00015634]\n",
      "[0.00088501 0.00059775]\n",
      "[0.00081084 0.0009156 ]\n",
      "[0.0007937  0.00106062]\n",
      "[0.00082976 0.00104022]\n",
      "[0.00089189 0.00090502]\n",
      "[0.00094732 0.00070603]\n",
      "[0.00096149 0.00048829]\n",
      "[0.00088873 0.00030808]\n",
      "[0.00065475 0.00025469]\n",
      "[0.00012926 0.00047858]\n",
      "[-0.00091549  0.00123196]\n",
      "[-0.002852    0.00291413]\n",
      "[-0.00617516  0.00604559]\n",
      "[-0.01113119  0.01089031]\n",
      "[-0.0166102  0.0163387]\n",
      "[-0.01949045  0.01924921]\n",
      "[-0.00263044  0.00093462]\n",
      "[-0.00251292  0.00077349]\n",
      "[-0.00240348  0.00063884]\n",
      "[-0.00226435  0.00049174]\n",
      "[-0.00205387  0.00029357]\n",
      "[-1.73773195e-03  1.68729995e-05]\n",
      "[-0.00130409 -0.00033924]\n",
      "[-0.00077603 -0.000737  ]\n",
      "[-0.00021186 -0.00110273]\n",
      "[ 0.00031108 -0.00134986]\n",
      "[ 0.00072282 -0.00141248]\n",
      "[ 0.00098296 -0.00126994]\n",
      "[ 0.00108814 -0.00094942]\n",
      "[ 0.00106538 -0.00050971]\n",
      "[ 9.59973879e-04 -1.99059376e-05]\n",
      "[0.00082647 0.00045231]\n",
      "[0.00072366 0.00083159]\n",
      "[0.00069941 0.00102845]\n",
      "[0.00075778 0.00101443]\n",
      "[0.00085975 0.00085644]\n",
      "[0.00096028 0.00062585]\n",
      "[0.00102144 0.00037076]\n",
      "[0.00100454 0.00013788]\n",
      "[ 8.58973863e-04 -9.38120543e-06]\n",
      "[5.11898275e-04 2.09448719e-05]\n"
     ]
    },
    {
     "name": "stdout",
     "output_type": "stream",
     "text": [
      "[-0.00013964  0.0003566 ]\n",
      "[-0.00122696  0.00115712]\n",
      "[-0.00288023  0.00257976]\n",
      "[-0.00514063  0.00468479]\n",
      "[-0.00780274  0.00727106]\n",
      "[-0.01029291  0.00975362]\n",
      "[-0.01185044  0.01135412]\n",
      "[-0.00303551  0.00148731]\n",
      "[-0.00283918  0.00123083]\n",
      "[-0.00267437  0.00103084]\n",
      "[-0.00248963  0.00083375]\n",
      "[-0.00223589  0.00059231]\n",
      "[-0.00187669  0.00027567]\n",
      "[-0.00140219 -0.00011696]\n",
      "[-0.00083927 -0.0005474 ]\n",
      "[-0.00024905 -0.00094421]\n",
      "[ 0.00029124 -0.00122585]\n",
      "[ 0.00071399 -0.00133108]\n",
      "[ 0.00098094 -0.00123976]\n",
      "[ 0.00108863 -0.0009745 ]\n",
      "[ 0.00106133 -0.00058647]\n",
      "[ 0.00093993 -0.00013614]\n",
      "[0.00077517 0.00032063]\n",
      "[0.00063022 0.00072549]\n",
      "[0.00057928 0.00096916]\n",
      "[0.00065092 0.00095529]\n",
      "[0.00079084 0.0007647 ]\n",
      "[0.00093431 0.00049883]\n",
      "[0.00103651 0.00021062]\n",
      "[ 1.05995822e-03 -5.72119199e-05]\n",
      "[ 0.00096384 -0.00025269]\n",
      "[ 0.00069971 -0.00030917]\n",
      "[ 0.00021362 -0.00014829]\n",
      "[-0.00054341  0.00030696]\n",
      "[-0.00159394  0.00110594]\n",
      "[-0.00290488  0.00223439]\n",
      "[-0.0043654   0.00358709]\n",
      "[-0.00579918  0.00498025]\n",
      "[-0.00702797  0.00622216]\n",
      "[-0.00796064  0.00721068]\n",
      "[-0.00375291  0.00240226]\n",
      "[-0.00341072  0.00197937]\n",
      "[-0.00314757  0.00166646]\n",
      "[-0.00288478  0.00138274]\n",
      "[-0.00255819  0.00106536]\n",
      "[-0.00212623  0.00067803]\n",
      "[-0.00158178  0.00022209]\n",
      "[-0.00095839 -0.0002597 ]\n",
      "[-0.00032252 -0.00069489]\n",
      "[ 0.00024811 -0.00100718]\n",
      "[ 0.00068985 -0.00114402]\n",
      "[ 0.0009695 -0.001092 ]\n",
      "[ 0.00108635 -0.00087495]\n",
      "[ 0.00106382 -0.00054047]\n",
      "[ 0.00093862 -0.0001436 ]\n",
      "[0.00075471 0.00026588]\n",
      "[0.00056883 0.00064485]\n",
      "[0.00047127 0.00090279]\n",
      "[0.00053872 0.00087664]\n",
      "[0.00070868 0.00064466]\n",
      "[0.0008891  0.00034028]\n",
      "[1.02657413e-03 1.80303756e-05]\n",
      "[ 0.00108245 -0.00028069]\n",
      "[ 0.00101952 -0.00050771]\n",
      "[ 0.00080053 -0.00060756]\n",
      "[ 0.00039407 -0.00052493]\n",
      "[-0.00021387 -0.00021917]\n",
      "[-0.00100577  0.00031686]\n",
      "[-0.00192407  0.00104241]\n",
      "[-0.00287849  0.00187222]\n",
      "[-0.00377392  0.00270545]\n",
      "[-0.00455007  0.00347094]\n",
      "[-0.00521288  0.00416526]\n",
      "[-0.00584372  0.00486508]\n",
      "[-0.00504759  0.0039505 ]\n",
      "[-0.00444605  0.00324472]\n",
      "[-0.00400825  0.00273774]\n",
      "[-0.00360604  0.00230015]\n",
      "[-0.0031478   0.00184181]\n",
      "[-0.00258303  0.00131788]\n",
      "[-0.0019103  0.000736 ]\n",
      "[-0.00117591  0.00015119]\n",
      "[-0.00045643 -0.00035674]\n",
      "[ 0.00016914 -0.00071508]\n",
      "[ 0.00064407 -0.00088331]\n",
      "[ 0.00094492 -0.00086097]\n",
      "[ 0.00107837 -0.00067966]\n",
      "[ 0.0010706  -0.00038822]\n",
      "[ 9.56750706e-04 -3.88738977e-05]\n",
      "[0.00077555 0.00032163]\n",
      "[0.00057409 0.00065217]\n",
      "[0.00043418 0.0008765 ]\n",
      "[0.00046945 0.00081846]\n",
      "[0.00064485 0.00053984]\n",
      "[0.00084573 0.00019353]\n",
      "[ 0.00100746 -0.00016783]\n",
      "[ 0.00108753 -0.00050218]\n",
      "[ 0.00104836 -0.00076016]\n",
      "[ 0.00085706 -0.00088945]\n",
      "[ 0.00049311 -0.00084564]\n",
      "[-4.03817569e-05 -6.07059674e-04]\n",
      "[-0.00070775 -0.00018832]\n",
      "[-0.00144217  0.00035662]\n",
      "[-0.0021622   0.00094892]\n",
      "[-0.00279922  0.00151418]\n",
      "[-0.00332291  0.00201264]\n",
      "[-0.00375289  0.0024558 ]\n",
      "[-0.00415544  0.00290584]\n",
      "[-0.00463524  0.0034672 ]\n",
      "[-0.00618104  0.00524911]\n",
      "[-0.00551591  0.00449727]\n",
      "[-0.00488324  0.00381457]\n",
      "[-0.00416768  0.00308827]\n",
      "[-0.00332632  0.00228264]\n",
      "[-0.00238993  0.00143931]\n",
      "[-0.00144162  0.00065048]\n",
      "[-5.78611813e-04  1.40636042e-05]\n",
      "[ 0.00012339 -0.00040555]\n",
      "[ 0.00062772 -0.00059324]\n",
      "[ 0.00093471 -0.00057571]\n",
      "[ 0.00106903 -0.00040337]\n",
      "[ 0.00106622 -0.00013295]\n",
      "[0.00096382 0.00018332]\n",
      "[0.00079904 0.00050148]\n",
      "[0.00061535 0.00077848]\n",
      "[0.00048429 0.00092778]\n",
      "[0.00050334 0.00079651]\n",
      "[0.00066002 0.00045705]\n",
      "[8.53491379e-04 5.66393969e-05]\n",
      "[ 0.00101319 -0.00035195]\n",
      "[ 0.00109073 -0.00072355]\n",
      "[ 0.00104564 -0.00100447]\n",
      "[ 0.00084684 -0.00114159]\n",
      "[ 0.0004819  -0.00109744]\n",
      "[-3.23337201e-05 -8.66183357e-04]\n",
      "[-0.00064585 -0.00048214]\n",
      "[-1.28493124e-03 -1.30212661e-05]\n",
      "[-0.00187437  0.00046315]\n",
      "[-0.00236266  0.00088664]\n",
      "[-0.00273717  0.0012356 ]\n",
      "[-0.00302409  0.00152921]\n",
      "[-0.00327804  0.00181883]\n",
      "[-0.00357113  0.00217715]\n",
      "[-0.00820864  0.00748558]\n",
      "[-0.00737069  0.00657904]\n",
      "[-0.00623644  0.00541656]\n",
      "[-0.00485342  0.00405482]\n",
      "[-0.00338035  0.00266598]\n",
      "[-0.00200358  0.00144683]\n",
      "[-0.00085945  0.00053286]\n",
      "[-5.48385737e-06 -3.32623467e-05]\n",
      "[ 0.00056578 -0.00028392]\n",
      "[ 0.00089747 -0.00029051]\n",
      "[ 0.00104355 -0.00013302]\n",
      "[0.00105488 0.00011727]\n",
      "[0.00097463 0.0004037 ]\n",
      "[0.00084055 0.00068168]\n",
      "[0.00069339 0.00090535]\n",
      "[0.00059094 0.00099224]\n",
      "[0.00059964 0.0008316 ]\n",
      "[0.0007213  0.00046437]\n",
      "[8.87321215e-04 1.71633698e-05]\n",
      "[ 0.00102918 -0.00044112]\n",
      "[ 0.00109276 -0.00085647]\n",
      "[ 0.00103357 -0.00116896]\n",
      "[ 0.00082064 -0.00132226]\n",
      "[ 0.00044706 -0.00128223]\n",
      "[-6.05858966e-05 -1.05407044e-03]\n",
      "[-0.00064286 -0.00068681]\n",
      "[-0.0012229 -0.0002585]\n",
      "[-0.0017316   0.00015284]\n",
      "[-0.00212962  0.00049643]\n",
      "[-0.00241531  0.00076059]\n",
      "[-0.00261785  0.00096768]\n",
      "[-0.00278355  0.00116094]\n",
      "[-0.00296379  0.00139261]\n",
      "[-0.01198728  0.01150275]\n",
      "[-0.01065605  0.01012115]\n",
      "[-0.00827753  0.00774003]\n",
      "[-0.00559378  0.00511888]\n",
      "[-0.00323754  0.00290376]\n",
      "[-0.00147518  0.00135975]\n",
      "[-0.00029624  0.00045953]\n",
      "[4.22242652e-04 5.38736684e-05]\n",
      "[ 8.14761799e-04 -2.01071766e-05]\n",
      "[0.00098989 0.00010339]\n",
      "[0.00102536 0.00032643]\n",
      "[0.000975   0.00058128]\n",
      "[0.00087879 0.00081936]\n",
      "[0.00077402 0.00099455]\n",
      "[0.00070449 0.00104021]\n",
      "[0.00071279 0.00088199]\n",
      "[0.00080437 0.00052868]\n",
      "[9.36746805e-04 6.68445808e-05]\n",
      "[ 0.00105128 -0.00042474]\n",
      "[ 0.00109231 -0.00087836]\n",
      "[ 0.00101241 -0.0012248 ]\n",
      "[ 0.00078045 -0.00140199]\n",
      "[ 0.00039365 -0.00137563]\n",
      "[-0.00011409 -0.00115742]\n",
      "[-0.00067675 -0.00080652]\n",
      "[-0.00121629 -0.00040829]\n",
      "[-1.66940979e-03 -4.08844791e-05]\n",
      "[-0.00200636  0.0002508 ]\n",
      "[-0.00223346  0.00046141]\n",
      "[-0.00238221  0.00061488]\n",
      "[-0.00249395  0.0007488 ]\n",
      "[-0.00260767  0.00090259]\n",
      "[-0.01950142  0.01926135]\n",
      "[-0.01671592  0.01644452]\n",
      "[-0.01125554  0.01101315]\n",
      "[-0.00626803  0.00613507]\n",
      "[-0.00290889  0.00296599]\n",
      "[-0.00094713  0.00125745]\n",
      "[0.00011278 0.00048839]\n",
      "[0.00064687 0.00025594]\n",
      "[0.00088564 0.00030509]\n",
      "[0.00096103 0.00048362]\n",
      "[0.00094823 0.00070122]\n",
      "[0.00089332 0.00090113]\n",
      "[0.00083097 0.00103826]\n",
      "[0.000794   0.00106182]\n",
      "[0.00080979 0.0009208 ]\n",
      "[0.00088289 0.0006064 ]\n",
      "[0.00098583 0.00016699]\n",
      "[ 0.00107094 -0.00032633]\n",
      "[ 0.00108506 -0.00079761]\n",
      "[ 0.00098021 -0.00116841]\n",
      "[ 0.00072594 -0.0013697 ]\n",
      "[ 0.00032324 -0.00136427]\n",
      "[-0.00018794 -0.00116609]\n",
      "[-0.00073679 -0.00083952]\n",
      "[-0.0012454 -0.0004736]\n",
      "[-0.00165608 -0.00014547]\n",
      "[-0.00194716  0.00010446]\n",
      "[-0.00213138  0.00027504]\n",
      "[-0.00224233  0.00039074]\n",
      "[-0.00231845  0.00048491]\n",
      "[-0.0023912   0.00058826]\n",
      "[-0.03591849  0.03589955]\n",
      "[-0.028345    0.02831648]\n",
      "[-0.01529311  0.01532929]\n",
      "[-0.00676636  0.00694918]\n",
      "[-0.00253796  0.00293317]\n",
      "[-0.00058462  0.00123506]\n",
      "[0.00029874 0.00062592]\n",
      "[0.00068374 0.0005113 ]\n",
      "[0.00083378 0.00060748]\n",
      "[0.00087326 0.00077357]\n",
      "[0.00086487 0.00093429]\n",
      "[0.00084537 0.00104176]\n",
      "[0.00084128 0.00105486]\n",
      "[0.00087099 0.00093602]\n",
      "[0.00093692 0.00066939]\n",
      "[0.001019   0.00027739]\n",
      "[ 0.00107792 -0.00018545]\n",
      "[ 0.00106472 -0.00064532]\n",
      "[ 0.00093303 -0.00101984]\n",
      "[ 0.00065449 -0.001235  ]\n",
      "[ 0.00023444 -0.00125025]\n",
      "[-0.00028162 -0.00107881]\n",
      "[-0.00081919 -0.00078578]\n",
      "[-0.00130144 -0.00045958]\n",
      "[-0.00167641 -0.00017404]\n",
      "[-1.92971269e-03  3.49770747e-05]\n",
      "[-0.00207948  0.00016943]\n",
      "[-0.00216115  0.00025367]\n",
      "[-0.00221141  0.00031743]\n",
      "[-0.07387387  0.07402413]\n",
      "[-0.04942463  0.04958947]\n",
      "[-0.01982558  0.02008206]\n",
      "[-0.00710143  0.00751727]\n",
      "[-0.00233828  0.0029628 ]\n",
      "[-0.00048447  0.00134709]\n",
      "[0.00027124 0.00083807]\n",
      "[0.00058554 0.00075886]\n",
      "[0.00071529 0.0008349 ]\n",
      "[0.00076941 0.00094294]\n",
      "[0.0007991  0.00101976]\n",
      "[0.0008319  0.00102462]\n",
      "[0.00088246 0.00092594]\n",
      "[0.00095161 0.00070576]\n",
      "[0.0010226  0.00037177]\n",
      "[ 1.06141179e-03 -3.76785647e-05]\n",
      "[ 0.00102314 -0.0004581 ]\n",
      "[ 0.00086435 -0.00081034]\n",
      "[ 0.00056037 -0.00102055]\n",
      "[ 0.00012203 -0.0010473 ]\n",
      "[-0.00039923 -0.00090253]\n",
      "[-0.00092581 -0.00064886]\n",
      "[-0.00138293 -0.00036992]\n",
      "[-0.00172486 -0.00013312]\n",
      "[-1.94424679e-03  3.14991535e-05]\n",
      "[-0.00206399  0.00012885]\n",
      "[-0.00212097  0.00018279]\n",
      "[-0.00215049  0.00021964]\n",
      "[-0.1378484   0.13809282]\n",
      "[-0.07343454  0.07371013]\n",
      "[-0.02296156  0.02333594]\n",
      "[-0.0074146   0.00794409]\n",
      "[-0.00245446  0.00317986]\n",
      "[-0.00065192  0.00159542]\n",
      "[7.64469977e-05 1.08754724e-03]\n",
      "[0.00039983 0.00096848]\n",
      "[0.00056251 0.00097805]\n",
      "[0.0006633  0.00100409]\n",
      "[0.00074558 0.00099009]\n",
      "[0.00082779 0.00090181]\n",
      "[0.00091155 0.00071948]\n",
      "[0.00098199 0.00044296]\n",
      "[1.00813040e-03 9.84345558e-05]\n",
      "[ 0.00094828 -0.00026125]\n",
      "[ 0.00076266 -0.00056584]\n",
      "[ 0.00043198 -0.00074792]\n",
      "[-2.55619630e-05 -7.70144574e-04]\n",
      "[-0.00055142 -0.00064536]\n",
      "[-0.00106508 -0.00043239]\n"
     ]
    },
    {
     "name": "stdout",
     "output_type": "stream",
     "text": [
      "[-0.00149501 -0.00020658]\n",
      "[-1.80288052e-03 -2.52335028e-05]\n",
      "[-1.98875353e-03  8.96077354e-05]\n",
      "[-0.00207997  0.00014649]\n",
      "[-0.00211436  0.00016866]\n",
      "[-0.00212561  0.00017906]\n",
      "[-0.1378484   0.13809282]\n",
      "[-0.07110325  0.07138419]\n",
      "[-0.02279381  0.023172  ]\n",
      "[-0.00780717  0.00833424]\n",
      "[-0.00290497  0.00361688]\n",
      "[-0.00105364  0.00196746]\n",
      "[-0.00025504  0.00136871]\n",
      "[0.00014083 0.00115328]\n",
      "[0.00037329 0.00106698]\n",
      "[0.00053823 0.00100013]\n",
      "[0.00067384 0.00089919]\n",
      "[0.00078911 0.00073731]\n",
      "[0.00087239 0.00050854]\n",
      "[0.00089491 0.00023048]\n",
      "[ 8.17526568e-04 -5.51599345e-05]\n",
      "[ 0.00060487 -0.00029053]\n",
      "[ 0.00024537 -0.00042082]\n",
      "[-0.00023228 -0.0004195 ]\n",
      "[-0.0007603  -0.00030471]\n",
      "[-0.00125538 -0.00013191]\n",
      "[-1.65116878e-03  3.49053771e-05]\n",
      "[-0.00191896  0.00015261]\n",
      "[-0.00206742  0.00021021]\n",
      "[-0.00212836  0.00022123]\n",
      "[-0.00213987  0.00020845]\n",
      "[-0.00213333  0.00019117]\n",
      "[-0.07387387  0.07402413]\n",
      "[-0.04714501  0.04733931]\n",
      "[-0.01991842  0.02020779]\n",
      "[-0.00824954  0.00868263]\n",
      "[-0.00365379  0.00426386]\n",
      "[-0.00169194  0.00249257]\n",
      "[-0.00075103  0.00173672]\n",
      "[-0.00023343  0.00138189]\n",
      "[9.70175218e-05 1.17685442e-03]\n",
      "[0.00033596 0.00101081]\n",
      "[0.00051606 0.00083399]\n",
      "[0.00063508 0.00063036]\n",
      "[0.00066807 0.00040972]\n",
      "[0.00057899 0.0002033 ]\n",
      "[3.38797437e-04 5.37019618e-05]\n",
      "[-5.19530146e-05 -3.76559395e-06]\n",
      "[-5.48642962e-04  3.80792092e-05]\n",
      "[-0.00107087  0.00014962]\n",
      "[-0.00153326  0.00027791]\n",
      "[-0.00187851  0.00037404]\n",
      "[-0.00209151  0.00041416]\n",
      "[-0.00219174  0.0004021 ]\n",
      "[-0.00221566  0.00035805]\n",
      "[-0.00220067  0.00030452]\n",
      "[-0.00217456  0.00025666]\n",
      "[-0.03591849  0.03589955]\n",
      "[-0.02820909  0.02824578]\n",
      "[-0.01633715  0.01647045]\n",
      "[-0.00868572  0.00895958]\n",
      "[-0.00471363  0.0051596 ]\n",
      "[-0.00267455  0.00330417]\n",
      "[-0.00155457  0.00235958]\n",
      "[-0.00087415  0.00182887]\n",
      "[-0.00041809  0.00148101]\n",
      "[-9.83606154e-05  1.21165476e-03]\n",
      "[0.00010662 0.00098151]\n",
      "[0.00018132 0.00078889]\n",
      "[9.58876459e-05 6.52939888e-04]\n",
      "[-0.000167    0.00059576]\n",
      "[-0.00058528  0.00062242]\n",
      "[-0.00108832  0.00070839]\n",
      "[-0.00157861  0.00080546]\n",
      "[-0.00197249  0.00086479]\n",
      "[-0.0022299   0.00085982]\n",
      "[-0.0023563   0.00079327]\n",
      "[-0.00238491  0.00068795]\n",
      "[-0.00235653  0.00057188]\n",
      "[-0.0023059   0.00046667]\n",
      "[-0.00225497  0.00038204]\n",
      "[-0.01950142  0.01926135]\n",
      "[-0.01765245  0.01748273]\n",
      "[-0.01325801  0.01319334]\n",
      "[-0.00912796  0.00920488]\n",
      "[-0.00620409  0.00645079]\n",
      "[-0.00430599  0.00473255]\n",
      "[-0.00306416  0.00366019]\n",
      "[-0.00221393  0.00295031]\n",
      "[-0.00161453  0.00244536]\n",
      "[-0.00121491  0.00207751]\n",
      "[-0.00101857  0.00183271]\n",
      "[-0.00104599  0.00171649]\n",
      "[-0.00129172  0.00171993]\n",
      "[-0.00169256  0.00179758]\n",
      "[-0.00213493  0.0018747 ]\n",
      "[-0.00250332  0.00188142]\n",
      "[-0.00273061  0.0017855 ]\n",
      "[-0.00281172  0.00159892]\n",
      "[-0.00278268  0.00136082]\n",
      "[-0.00269168  0.00111503]\n",
      "[-0.00258011  0.00089493]\n",
      "[-0.00247507  0.00071754]\n",
      "[-0.01198728  0.01150275]\n",
      "[-0.01197563  0.01157816]\n",
      "[-0.01098435  0.01070657]\n",
      "[-0.00962796  0.00949952]\n",
      "[-0.00832685  0.0083695 ]\n",
      "[-0.00722484  0.0074455 ]\n",
      "[-0.00631391  0.00670031]\n",
      "[-0.00555665  0.00607709]\n",
      "[-0.00494878  0.00555399]\n",
      "[-0.00452822  0.00515191]\n",
      "[-0.00433606  0.00489487]\n",
      "[-0.00435037  0.00475005]\n",
      "[-0.00445684  0.00461094]\n",
      "[-0.00450703  0.00435964]\n",
      "[-0.00441137  0.00394675]\n",
      "[-0.00417248  0.00340749]\n",
      "[-0.00384941  0.00281989]\n",
      "[-0.00350883  0.00225903]\n",
      "[-0.00319855  0.00177482]\n",
      "[-0.00294288  0.00138929]\n",
      "[-0.00274719  0.00110187]\n",
      "[-0.00820864  0.00748558]\n",
      "[-0.00883855  0.00822028]\n",
      "[-0.00943199  0.00895133]\n",
      "[-0.01016034  0.00984365]\n",
      "[-0.01113349  0.01099629]\n",
      "[-0.01237224  0.0124154 ]\n",
      "[-0.0137913   0.01399848]\n",
      "[-0.01516885  0.01550585]\n",
      "[-0.01612219  0.01653786]\n",
      "[-0.01619803  0.01662439]\n",
      "[-0.01516859  0.01552139]\n",
      "[-0.01327847  0.01347014]\n",
      "[-0.01106295  0.01102696]\n",
      "[-0.00897032  0.00867319]\n",
      "[-0.00721554  0.00665181]\n",
      "[-0.00584247  0.00502597]\n",
      "[-0.00481527  0.003773  ]\n",
      "[-0.004073    0.00284057]\n",
      "[-0.00355297  0.00216987]\n",
      "[-0.00319795  0.00170268]\n",
      "[-0.00618104  0.00524911]\n",
      "[-0.00705549  0.00624628]\n",
      "[-0.00837891  0.00772582]\n",
      "[-0.01048862  0.01001765]\n",
      "[-0.01391107  0.01363529]\n",
      "[-0.01953262  0.01944801]\n",
      "[-0.0287694   0.02885344]\n",
      "[-0.04293545  0.04314864]\n",
      "[-0.05894888  0.0592376 ]\n",
      "[-0.06368997  0.06398648]\n",
      "[-0.05073752  0.05096116]\n",
      "[-0.03363124  0.03370925]\n",
      "[-0.02147159  0.02135468]\n",
      "[-0.0141646   0.01382479]\n",
      "[-0.00984786  0.00927579]\n",
      "[-0.00723752  0.00644109]\n",
      "[-0.00562166  0.00462338]\n",
      "[-0.00460862  0.00344092]\n",
      "[-0.0039697  0.0026693]\n"
     ]
    },
    {
     "data": {
      "text/plain": [
       "(array([ 0.72383622, -0.70607422]), 795)"
      ]
     },
     "execution_count": 13,
     "metadata": {},
     "output_type": "execute_result"
    },
    {
     "data": {
      "image/png": "[encoded data removed]",
      "text/plain": [
       "<Figure size 432x288 with 1 Axes>"
      ]
     },
     "metadata": {},
     "output_type": "display_data"
    }
   ],
   "source": [
    "smk.chern(Hlsw, 1,0, 15)"
   ]
  },
  {
   "cell_type": "markdown",
   "id": "bc349d4e0d54bf24",
   "metadata": {},
   "source": [
    "# Thermal conductivity (not normalized)"
   ]
  },
  {
   "cell_type": "code",
   "execution_count": 5,
   "metadata": {},
   "outputs": [
    {
     "data": {
      "text/plain": [
       "array([1.64493406999141, 1.64493406999118], dtype=object)"
      ]
     },
     "execution_count": 5,
     "metadata": {},
     "output_type": "execute_result"
    }
   ],
   "source": [
    "smk.c2(Hlsw, -(bb / 2)/np.sqrt(3), -bb / 2, 1)"
   ]
  },
  {
   "cell_type": "code",
   "execution_count": 4,
   "metadata": {},
   "outputs": [],
   "source": [
    "bb = 4*np.pi/np.sqrt(3)"
   ]
  },
  {
   "cell_type": "code",
   "execution_count": 18,
   "id": "886d559f6ab28bc2",
   "metadata": {
    "ExecuteTime": {
     "end_time": "2024-06-04T08:30:39.063941Z",
     "start_time": "2024-06-04T08:30:04.229599Z"
    }
   },
   "outputs": [
    {
     "name": "stdout",
     "output_type": "stream",
     "text": [
      "[0 0]\n",
      "[-1.09052552180297e-14 1.12357177245759e-14]\n",
      "[1.78192343353672e-15 -1.88042584261723e-15]\n",
      "[3.49591966670786e-16 -4.07857598806600e-16]\n",
      "[-1.25827551611806e-16 1.43458071588395e-16]\n",
      "[1.81947781442855e-17 -2.72922868811863e-17]\n",
      "[-8.47665863468995e-34 6.60943028688951e-18]\n",
      "[-3.84054029964707e-17 4.80069212030421e-17]\n",
      "[-2.38592461874600e-16 2.77963912295183e-16]\n",
      "[-2.17162769634744e-16 2.89550470555567e-16]\n",
      "[-3.29025384704959e-15 3.22556761556491e-15]\n",
      "[0 1.00189151108247e-15]\n",
      "[1.03336831756637e-15 -9.22365680012962e-16]\n",
      "[8.91872400364992e-15 -8.85900069777811e-15]\n",
      "[1.31467464490456e-15 -1.25067217867704e-15]\n",
      "[8.68114557636716e-16 -8.50398591438043e-16]\n",
      "[2.50025669372427e-16 -2.50026373985789e-16]\n",
      "[-1.13358013011472e-16 1.03912213037717e-16]\n",
      "[1.92269001741593e-17 -1.70907514368039e-17]\n",
      "[3.69518039002868e-17 -3.26048408872044e-17]\n",
      "[1.39618808415519e-16 -1.44605982843897e-16]\n",
      "[7.88587306693495e-17 -6.57157400605040e-17]\n",
      "[4.15691504931176e-16 -4.78045465325582e-16]\n",
      "[1.69707914801879e-15 -1.61222534257972e-15]\n",
      "[-4.22773783935457e-15 4.27689768767221e-15]\n",
      "[1.48747449292234e-15 -1.59372308648920e-15]\n",
      "[-2.76592572155066e-16 3.72049480950450e-16]\n",
      "[-1.82369048722455e-16 1.91721434152810e-16]\n",
      "[-1.74774539706326e-16 1.92855184694713e-16]\n",
      "[-2.10018850748940e-16 2.18593239000525e-16]\n",
      "[-5.10627494133555e-17 4.76598793437108e-17]\n",
      "[4.03470647175967e-17 -4.18435433058511e-17]\n",
      "[-4.13505881138968e-18 4.31511090998976e-18]\n",
      "[4.23848018195932e-17 -4.54144712902673e-17]\n",
      "[-5.42429165773376e-17 5.60655474256226e-17]\n",
      "[-3.57584580225724e-16 3.26298679330701e-16]\n",
      "[5.66240173611697e-17 -3.41712325220243e-17]\n",
      "[9.94202623830054e-16 -8.89287255596769e-16]\n",
      "[1.20143293088457e-15 -1.14422208889165e-15]\n",
      "[2.96626340722362e-16 -2.37301390007594e-16]\n",
      "[5.92609536790461e-16 -6.51871365504127e-16]\n",
      "[-1.11357674565292e-16 9.16237173792986e-17]\n",
      "[-1.59025435897157e-16 1.52004241803696e-16]\n",
      "[8.06790141968628e-17 -7.62007526570715e-17]\n",
      "[2.27677044154919e-17 -2.27713330869587e-17]\n",
      "[-1.01866908982731e-17 1.10067649200966e-17]\n",
      "[-1.23189717470648e-17 1.25672491453995e-17]\n",
      "[8.48675752028240e-18 -8.76691601543618e-18]\n",
      "[2.84943737268404e-17 -3.00593471838257e-17]\n",
      "[2.51136224506552e-17 -2.75098276691209e-17]\n",
      "[4.46930277290092e-17 -4.17156611678670e-17]\n",
      "[1.53951219061590e-16 -1.36458596275645e-16]\n",
      "[4.05854267131760e-16 -3.76364435277303e-16]\n",
      "[-2.07017166528709e-16 2.07017446133421e-16]\n",
      "[2.18958184433215e-17 2.18958475485698e-17]\n",
      "[-2.97822200418017e-17 -1.64597716264068e-17]\n",
      "[1.46473180452394e-16 -1.04624174903748e-16]\n",
      "[4.37318340241784e-17 -3.56317016602797e-17]\n",
      "[6.62353285603630e-17 -5.55074444826846e-17]\n",
      "[1.20851600341359e-17 -2.26678246930923e-17]\n",
      "[4.46443913124938e-17 -4.14258439757537e-17]\n",
      "[-1.64912265540723e-17 1.46057656127203e-17]\n",
      "[1.09890459286232e-17 -1.15591399743497e-17]\n",
      "[7.86861616618599e-19 -8.11512012417674e-19]\n",
      "[-1.33858024578122e-17 1.37040610907998e-17]\n",
      "[-3.59025966475795e-17 3.54271672811071e-17]\n",
      "[3.16639980369875e-17 -2.21107362309642e-17]\n",
      "[-3.12821130386107e-17 3.81403796358858e-17]\n",
      "[7.02360225201772e-17 -5.73897686676581e-17]\n",
      "[-3.83953508499505e-17 3.83959663403915e-17]\n",
      "[1.21460237404010e-16 -1.21460862729231e-16]\n",
      "[-4.15701838156076e-17 5.81984622291274e-17]\n",
      "[4.05831927779148e-17 0]\n",
      "[0 -7.18192164599269e-17]\n",
      "[-7.56661936607090e-19 1.15749301934865e-17]\n",
      "[7.22258544965964e-17 -6.97874377981519e-17]\n",
      "[5.61525526929080e-17 -5.26307836946634e-17]\n",
      "[-2.68673394902748e-17 2.15597794569147e-17]\n",
      "[-4.22962083337650e-17 4.03738409402150e-17]\n",
      "[-1.16642531534792e-17 1.28172445543327e-17]\n",
      "[-1.09195462052659e-18 8.87768417169003e-19]\n",
      "[-4.31960527959547e-20 -5.18908244933466e-20]\n",
      "[6.94830474378478e-18 -7.12381202937933e-18]\n",
      "[2.12932445831201e-17 -2.19212754183526e-17]\n",
      "[-1.73374857157924e-17 1.72235513731784e-17]\n",
      "[8.35776301865298e-18 -1.20174210243769e-17]\n",
      "[5.22001904749652e-17 -4.44364249464053e-17]\n",
      "[-2.43342713662098e-17 2.43354149385367e-17]\n",
      "[-9.70683926377043e-18 -1.79386312188193e-18]\n",
      "[-4.00425027533454e-17 4.00427178882202e-17]\n",
      "[-1.90060379415744e-17 -1.39134360942022e-17]\n",
      "[0 3.62960271330616e-17]\n",
      "[-2.57522767923939e-17 1.28765994160417e-17]\n",
      "[-4.50974052906341e-18 0]\n",
      "[-2.14642842996244e-17 2.02540219011079e-17]\n",
      "[-5.35746966747826e-18 2.38366012227585e-18]\n",
      "[1.24153069811093e-17 -1.25574563340997e-17]\n",
      "[3.29278191776872e-19 3.51081384414677e-19]\n",
      "[-2.30922792382348e-19 1.25377072981023e-19]\n",
      "[4.74120899018983e-19 -5.22028917033875e-19]\n",
      "[1.52221016727672e-19 1.71917367496817e-19]\n",
      "[-3.12631413071935e-18 2.36077002924939e-18]\n",
      "[5.37506194323871e-18 -6.62786225441001e-18]\n",
      "[-1.03752031097382e-18 3.18894294376925e-18]\n",
      "[-1.27165715372440e-18 3.82687370448447e-18]\n",
      "[1.83438564349537e-17 -1.83537272216206e-17]\n",
      "[0 0]\n",
      "[1.55424477220846e-17 4.66280526728882e-17]\n",
      "[1.85291684741163e-17 -3.57766849250175e-18]\n",
      "[-4.74602145155779e-16 4.74602780015188e-16]\n",
      "[8.66065616286569e-17 -1.73213814166201e-16]\n",
      "[3.06063999517686e-17 -2.70874484494730e-18]\n",
      "[-1.22975998620522e-18 6.67117489318541e-18]\n",
      "[3.84408512290979e-18 -2.75268843369013e-18]\n",
      "[-1.34290816029592e-20 -5.46184934395698e-20]\n",
      "[-2.21696974765015e-18 1.47280197429506e-18]\n",
      "[2.02815243540895e-18 -8.71861294430035e-19]\n",
      "[-4.02555457500818e-19 -5.00357636555823e-19]\n",
      "[-1.81701262748110e-18 2.18031683715757e-18]\n",
      "[-2.11775462452080e-19 3.09305846259214e-19]\n",
      "[-5.02010451479488e-19 1.22680877783660e-18]\n",
      "[-1.89269152133450e-18 2.08191507957910e-18]\n",
      "[-3.79067679734596e-18 4.50703199887187e-18]\n",
      "[-6.03020667965161e-18 7.03794482057075e-18]\n",
      "[6.71830616261345e-19 3.37667063710590e-19]\n",
      "[-1.82876283313428e-18 5.49036520294603e-18]\n",
      "[5.13348136164134e-18 -1.19287395833047e-17]\n",
      "[-4.94095335313245e-17 1.64700398613886e-17]\n",
      "[-2.49689478341099e-16 2.99628088139900e-16]\n",
      "[1.00935769162581e-15 -1.06248205765943e-15]\n",
      "[-3.20437905071212e-16 3.47605163590906e-16]\n",
      "[-4.10092357829698e-18 -4.47167232144405e-17]\n",
      "[-3.91115570022858e-17 4.17232494954963e-17]\n",
      "[-3.02626850376360e-17 3.54875415639613e-17]\n",
      "[-6.46186859256551e-18 3.71147540862434e-18]\n",
      "[5.01286129837976e-20 -2.60448173173170e-19]\n",
      "[-6.87717870593575e-19 -7.97634963799649e-19]\n",
      "[-1.30889074333608e-18 1.49672369388909e-18]\n",
      "[-1.05509793540572e-19 2.53958484415831e-19]\n",
      "[-1.51235228497182e-19 2.09375490450590e-19]\n",
      "[-2.92349013772043e-20 -4.24331152338355e-20]\n",
      "[-1.14223486870913e-19 3.17477154681151e-19]\n",
      "[4.72163965094007e-19 -4.25465243694349e-19]\n",
      "[-7.03322365583260e-19 6.16960430524050e-19]\n",
      "[-7.83019049847191e-19 8.42524963392525e-19]\n",
      "[-1.13249270099994e-17 9.21038687433216e-18]\n",
      "[-3.74883059644601e-17 3.28233056678380e-17]\n",
      "[1.95175353922115e-17 -2.81037868018371e-18]\n",
      "[-2.36128891447167e-16 2.95162810663169e-16]\n",
      "[2.88032334859607e-16 -2.88032547300239e-16]\n",
      "[-2.83747337439110e-15 3.01481554596142e-15]\n",
      "[8.70396921983186e-16 -9.32568299001398e-16]\n",
      "[3.36413315193364e-16 -3.68151248301374e-16]\n",
      "[-8.49132509495635e-17 1.09035017420282e-16]\n",
      "[-7.04062467979727e-17 5.80650899770878e-17]\n",
      "[2.00804977608538e-17 -1.90363060282350e-17]\n",
      "[8.16780968570753e-18 -1.09831610404368e-17]\n",
      "[2.21315788797465e-18 -1.27212581296728e-18]\n",
      "[-6.47663032101670e-19 6.92685841115653e-19]\n",
      "[-1.07203088137999e-19 1.16681850217987e-19]\n",
      "[-3.75566470510121e-20 4.89719051620428e-20]\n",
      "[-4.67909416249302e-21 1.19380890022422e-20]\n",
      "[-4.59147816687989e-20 1.85056077359067e-20]\n",
      "[-2.22613757163911e-20 -3.19532357011979e-20]\n",
      "[6.93237954813632e-19 -6.20324158421872e-19]\n",
      "[-3.07632066648409e-18 2.79508479042128e-18]\n",
      "[-1.60005761022185e-17 1.32657068063536e-17]\n",
      "[1.28065448603868e-17 -1.56026943129297e-17]\n",
      "[7.40872788120413e-17 -6.99675192900336e-17]\n",
      "[8.20627439139738e-17 -8.20305045166829e-17]\n",
      "[3.99010257838979e-16 -3.92360839014015e-16]\n",
      "[1.52367566685278e-15 -1.52367590574246e-15]\n",
      "[0 0]\n",
      "[-1.54408115905421e-16 -1.54408119973749e-16]\n",
      "[-3.26983540872751e-16 3.35658549939120e-16]\n",
      "[-2.29273390642220e-16 2.17612989252940e-16]\n",
      "[7.90424016186797e-17 -6.33168068531743e-17]\n",
      "[-1.75031274659541e-17 1.41853865400471e-17]\n",
      "[-1.32501498536870e-17 1.05337700198855e-17]\n",
      "[3.23674356966751e-18 -4.11890744763028e-18]\n",
      "[-2.74321181554669e-18 3.26842257218987e-18]\n",
      "[-9.95227276567668e-19 1.26783352631942e-18]\n",
      "[1.29713123261553e-19 -2.90989996922258e-19]\n",
      "[-8.50349812674640e-21 4.19272187256209e-20]\n",
      "[4.89768495609610e-21 -2.83569070300891e-20]\n",
      "[1.68953909464367e-19 -3.06296105507409e-19]\n",
      "[4.61589067410335e-19 -6.79359248523151e-19]\n",
      "[2.48154666210728e-18 -3.17163084470537e-18]\n"
     ]
    },
    {
     "name": "stdout",
     "output_type": "stream",
     "text": [
      "[-6.46199671405958e-19 -6.99044503317665e-19]\n",
      "[7.84015686335335e-18 -7.72825610496013e-18]\n",
      "[-2.55816769927076e-17 2.91607883876192e-17]\n",
      "[3.16599847039191e-17 -2.78353834959485e-17]\n",
      "[6.82658049186341e-17 -6.26515652798668e-17]\n",
      "[6.83042771154677e-16 -7.22731424665823e-16]\n",
      "[-3.57921521605497e-15 3.27473028017038e-15]\n",
      "[-3.43357415407780e-12 3.42551750877795e-12]\n",
      "[1.24139460129618e-15 -1.41873672751125e-15]\n",
      "[1.55428021782712e-15 -1.49210927840219e-15]\n",
      "[1.52338104993221e-16 -1.65033318204070e-16]\n",
      "[-8.95822172236486e-17 1.07723273920452e-16]\n",
      "[-4.59280893090718e-17 3.71111662027474e-17]\n",
      "[2.69182534639032e-17 -2.74679118946222e-17]\n",
      "[1.05291962483081e-17 -1.28997976408166e-17]\n",
      "[-6.51313856078636e-19 -7.34590053052415e-19]\n",
      "[-9.24447975831228e-19 1.31474489058814e-18]\n",
      "[-8.95150468723067e-20 1.42173129677599e-19]\n",
      "[-5.26590717297660e-20 1.17555936461135e-19]\n",
      "[-4.50905580987888e-21 1.00268144592913e-20]\n",
      "[-2.98110519836918e-20 4.52902655368976e-20]\n",
      "[-4.08462162665564e-20 -5.86332178381972e-20]\n",
      "[-8.24746032073319e-19 7.40338495272351e-19]\n",
      "[2.48683218510325e-18 -3.57626357997326e-18]\n",
      "[-1.22222059754113e-17 1.31306868897495e-17]\n",
      "[9.27370489890079e-18 -1.13474140457671e-17]\n",
      "[7.20149073767394e-17 -6.84126855280329e-17]\n",
      "[7.34120580067993e-17 -1.02438213118207e-16]\n",
      "[-9.37674105921602e-16 9.44326087118477e-16]\n",
      "[2.84014674606639e-17 -1.32333990791960e-16]\n",
      "[-6.37489068395248e-16 7.43737440361629e-16]\n",
      "[2.14781717760695e-16 -1.72951476487560e-16]\n",
      "[1.41041259776951e-16 -1.12310271559392e-16]\n",
      "[5.97783194367493e-18 5.97844168573180e-18]\n",
      "[-3.63152220451632e-17 3.20253423869895e-17]\n",
      "[-6.00997465727890e-18 4.10880197211837e-18]\n",
      "[-4.57716465372964e-19 1.26109439580948e-18]\n",
      "[-6.92229016203396e-20 -8.02532056414346e-20]\n",
      "[-1.11461298117075e-18 1.83627081137754e-18]\n",
      "[-4.15794596766812e-19 4.07069444233212e-19]\n",
      "[-2.10197728407657e-19 2.57195818516465e-19]\n",
      "[-3.73129480941765e-21 -5.41783631898776e-21]\n",
      "[-3.24536585341885e-19 4.03150040227830e-19]\n",
      "[-8.63526061161510e-19 1.09896767201051e-18]\n",
      "[-6.51224412577093e-20 -1.83619175751206e-19]\n",
      "[-2.23317135436677e-18 5.47306845431193e-18]\n",
      "[-1.61546752936756e-17 1.00476947719987e-17]\n",
      "[-3.09278524206796e-17 3.00098794677376e-17]\n",
      "[-6.63655876129260e-17 7.21409028120935e-17]\n",
      "[3.34515929550153e-16 -3.73872893506681e-16]\n",
      "[-6.48072753434115e-16 5.04056957775417e-16]\n",
      "[-4.74602145155779e-16 4.74602780015188e-16]\n",
      "[8.66065616286569e-17 -1.73213814166201e-16]\n",
      "[3.06063999517686e-17 -2.70874484494730e-18]\n",
      "[-1.22975998620522e-18 6.67117489318541e-18]\n",
      "[3.84408512290979e-18 -2.75268843369013e-18]\n",
      "[-1.34290816029592e-20 -5.46184934395698e-20]\n",
      "[-2.21696974765015e-18 1.47280197429506e-18]\n",
      "[2.02815243540895e-18 -8.71861294430035e-19]\n",
      "[-4.02555457500818e-19 -5.00357636555823e-19]\n",
      "[-1.81701262748110e-18 2.18031683715757e-18]\n",
      "[-2.11775462452080e-19 3.09305846259214e-19]\n",
      "[-5.02010451479488e-19 1.22680877783660e-18]\n",
      "[-1.89269152133450e-18 2.08191507957910e-18]\n",
      "[-3.79067679734596e-18 4.50703199887187e-18]\n",
      "[-6.03020667965161e-18 7.03794482057075e-18]\n",
      "[6.71830616261345e-19 3.37667063710590e-19]\n",
      "[-1.82876283313428e-18 5.49036520294603e-18]\n",
      "[5.13348136164134e-18 -1.19287395833047e-17]\n",
      "[-4.94095335313245e-17 1.64700398613886e-17]\n",
      "[-2.49689478341099e-16 2.99628088139900e-16]\n",
      "[-2.40986904593346e-17 3.80122143172218e-17]\n",
      "[0 3.62960271330615e-17]\n",
      "[7.07401356641471e-18 -7.75048237191769e-18]\n",
      "[1.12743513226585e-17 -2.25537145600848e-18]\n",
      "[-1.52726638285789e-17 2.39741483727399e-17]\n",
      "[1.83850577817148e-18 1.85158096100159e-18]\n",
      "[1.80038460942815e-17 -1.75312936270258e-17]\n",
      "[3.75342178577369e-19 4.00413268862579e-19]\n",
      "[-3.22008275772506e-19 -3.59946108506915e-19]\n",
      "[-1.14288560460883e-20 -1.29599174022764e-20]\n",
      "[-3.05142255322429e-19 -3.47727483930766e-19]\n",
      "[-2.43326244418560e-18 3.12015276687618e-18]\n",
      "[6.29773858763802e-18 -5.79095874694334e-18]\n",
      "[4.77526445832206e-18 -6.43054428200824e-18]\n",
      "[-7.81160823002132e-18 4.73803411031410e-18]\n",
      "[-1.20844277427115e-17 3.87533283683203e-18]\n",
      "[0 -5.41819136181339e-18]\n",
      "[4.66273431662540e-17 -3.10853684485921e-17]\n",
      "[-2.11279062643201e-17 6.00510774116519e-17]\n",
      "[4.05831927779148e-17 0]\n",
      "[0 -7.18192164599269e-17]\n",
      "[-7.56661936607090e-19 1.15749301934865e-17]\n",
      "[7.22258544965964e-17 -6.97874377981519e-17]\n",
      "[5.61525526929080e-17 -5.26307836946634e-17]\n",
      "[-2.68673394902748e-17 2.15597794569147e-17]\n",
      "[-4.22962083337650e-17 4.03738409402150e-17]\n",
      "[-1.16642531534792e-17 1.28172445543327e-17]\n",
      "[-1.09195462052659e-18 8.87768417169003e-19]\n",
      "[-4.31960527959547e-20 -5.18908244933466e-20]\n",
      "[6.94830474378478e-18 -7.12381202937933e-18]\n",
      "[2.12932445831201e-17 -2.19212754183526e-17]\n",
      "[-1.73374857157924e-17 1.72235513731784e-17]\n",
      "[8.35776301865298e-18 -1.20174210243769e-17]\n",
      "[5.22001904749652e-17 -4.44364249464053e-17]\n",
      "[-2.43342713662098e-17 2.43354149385367e-17]\n",
      "[-9.70683926377043e-18 -1.79386312188193e-18]\n",
      "[-4.00425027533454e-17 4.00427178882202e-17]\n",
      "[-2.97822200418017e-17 -1.64597716264068e-17]\n",
      "[1.46473180452394e-16 -1.04624174903748e-16]\n",
      "[4.37318340241784e-17 -3.56317016602797e-17]\n",
      "[6.62353285603630e-17 -5.55074444826846e-17]\n",
      "[1.20851600341359e-17 -2.26678246930923e-17]\n",
      "[4.46443913124938e-17 -4.14258439757537e-17]\n",
      "[-1.64912265540723e-17 1.46057656127203e-17]\n",
      "[1.09890459286232e-17 -1.15591399743497e-17]\n",
      "[7.86861616618599e-19 -8.11512012417674e-19]\n",
      "[-1.33858024578122e-17 1.37040610907998e-17]\n",
      "[-3.59025966475795e-17 3.54271672811071e-17]\n",
      "[3.16639980369875e-17 -2.21107362309642e-17]\n",
      "[-3.12821130386107e-17 3.81403796358858e-17]\n",
      "[7.02360225201772e-17 -5.73897686676581e-17]\n",
      "[-3.83953508499505e-17 3.83959663403915e-17]\n",
      "[1.21460237404010e-16 -1.21460862729231e-16]\n",
      "[-4.15701838156076e-17 5.81984622291274e-17]\n",
      "[2.96626340722362e-16 -2.37301390007594e-16]\n",
      "[5.92609536790461e-16 -6.51871365504127e-16]\n",
      "[-1.11357674565292e-16 9.16237173792986e-17]\n",
      "[-1.59025435897157e-16 1.52004241803696e-16]\n",
      "[8.06790141968628e-17 -7.62007526570715e-17]\n",
      "[2.27677044154919e-17 -2.27713330869587e-17]\n",
      "[-1.01866908982731e-17 1.10067649200966e-17]\n",
      "[-1.23189717470648e-17 1.25672491453995e-17]\n",
      "[8.48675752028240e-18 -8.76691601543618e-18]\n",
      "[2.84943737268404e-17 -3.00593471838257e-17]\n",
      "[2.51136224506552e-17 -2.75098276691209e-17]\n",
      "[4.46930277290092e-17 -4.17156611678670e-17]\n",
      "[1.53951219061590e-16 -1.36458596275645e-16]\n",
      "[4.05854267131760e-16 -3.76364435277303e-16]\n",
      "[-2.07017166528709e-16 2.07017446133421e-16]\n",
      "[2.18958184433215e-17 2.18958475485698e-17]\n",
      "[1.48747449292234e-15 -1.59372308648920e-15]\n",
      "[-2.76592572155066e-16 3.72049480950450e-16]\n",
      "[-1.82369048722455e-16 1.91721434152810e-16]\n",
      "[-1.74774539706326e-16 1.92855184694713e-16]\n",
      "[-2.10018850748940e-16 2.18593239000525e-16]\n",
      "[-5.10627494133555e-17 4.76598793437108e-17]\n",
      "[4.03470647175967e-17 -4.18435433058511e-17]\n",
      "[-4.13505881138968e-18 4.31511090998976e-18]\n",
      "[4.23848018195932e-17 -4.54144712902673e-17]\n",
      "[-5.42429165773376e-17 5.60655474256226e-17]\n",
      "[-3.57584580225724e-16 3.26298679330701e-16]\n",
      "[5.66240173611697e-17 -3.41712325220243e-17]\n",
      "[9.94202623830054e-16 -8.89287255596769e-16]\n",
      "[1.20143293088457e-15 -1.14422208889165e-15]\n",
      "[-5.85228883468163e-15 5.49760481910611e-15]\n",
      "[-8.93863186972949e-15 9.17752656556402e-15]\n",
      "[3.30653298301292e-16 -3.60363064971715e-16]\n",
      "[6.37798450508609e-16 -6.73232218221738e-16]\n",
      "[-3.21461574907405e-16 3.09556463030025e-16]\n",
      "[-7.08487581321701e-17 8.02958009836906e-17]\n",
      "[3.31129947443854e-17 -3.41815028736077e-17]\n",
      "[7.39036078005737e-17 -6.08623696561128e-17]\n",
      "[-5.19999290633291e-17 6.14557063459079e-17]\n",
      "[-3.54864288012073e-16 3.54864996326734e-16]\n",
      "[-1.87061177219081e-16 1.45492098142569e-16]\n",
      "[3.18202340253525e-15 -3.22445068515946e-15]\n",
      "[-3.25547326072744e-15 3.35892139820286e-15]\n"
     ]
    }
   ],
   "source": [
    "kappa, N = smk.unnormalized_heat_conductivity(Hlsw,1,0,1,10)"
   ]
  },
  {
   "cell_type": "code",
   "execution_count": 19,
   "id": "2fcbad83da39412b",
   "metadata": {
    "ExecuteTime": {
     "end_time": "2024-06-04T08:30:39.079083Z",
     "start_time": "2024-06-04T08:30:39.066169Z"
    }
   },
   "outputs": [
    {
     "data": {
      "text/plain": [
       "(array([9.67660650459511e-15, -9.65756068172776e-15], dtype=object), 356)"
      ]
     },
     "execution_count": 19,
     "metadata": {},
     "output_type": "execute_result"
    }
   ],
   "source": [
    "kappa,N"
   ]
  },
  {
   "cell_type": "code",
   "execution_count": 12,
   "id": "c53a518d3586adf2",
   "metadata": {
    "ExecuteTime": {
     "end_time": "2024-06-04T08:25:48.962881Z",
     "start_time": "2024-06-04T08:25:48.946423Z"
    }
   },
   "outputs": [],
   "source": [
    "np.sum(kappa)"
   ]
  },
  {
   "cell_type": "markdown",
   "id": "314fab3714b1d183",
   "metadata": {},
   "source": [
    "# Size effect for thermal conductivity?"
   ]
  },
  {
   "cell_type": "code",
   "execution_count": 5,
   "id": "5426163803b282d3",
   "metadata": {
    "ExecuteTime": {
     "end_time": "2024-06-03T16:30:39.414901Z",
     "start_time": "2024-06-03T16:24:20.758895Z"
    }
   },
   "outputs": [],
   "source": [
    "# rsln = 2-12\n",
    "\n",
    "rsln = 2\n",
    "x = np.array([])\n",
    "y = np.array([])\n",
    "while rsln < 13: \n",
    "    kappa, N = smk.unnormalized_heat_conductivity(Hlsw,1,0,1, rsln)\n",
    "    x = np.append(x, N)\n",
    "    y = np.append(y,np.sum(kappa))\n",
    "    rsln += 1"
   ]
  },
  {
   "cell_type": "code",
   "execution_count": 40,
   "id": "33d9e667e7684f70",
   "metadata": {
    "ExecuteTime": {
     "end_time": "2024-06-03T17:42:15.721321Z",
     "start_time": "2024-06-03T17:42:15.705508Z"
    }
   },
   "outputs": [],
   "source": [
    "from matplotlib.pyplot import subplots as spp"
   ]
  },
  {
   "cell_type": "code",
   "execution_count": 21,
   "id": "ced8dba151495eb6",
   "metadata": {
    "ExecuteTime": {
     "end_time": "2024-06-03T16:47:03.286155Z",
     "start_time": "2024-06-03T16:47:03.019627Z"
    }
   },
   "outputs": [],
   "source": [
    "fig, ax = spp(facecolor='0.95')\n",
    "ax.set_title(\"When size grows, will $\\kappa^{yx}$ become stable?\")\n",
    "ax.set_xlabel(\"number of cells\")\n",
    "ax.set_ylabel(\"$\\kappa^{yx}$ $(5k_B^2/ \\hbar)$\")\n",
    "\n",
    "\n",
    "ax.plot(x, y, color='k', label='$T=1K$')\n",
    "\n",
    "ax.legend()\n",
    "fig.savefig('kappa_vs_size.png')\n"
   ]
  },
  {
   "cell_type": "code",
   "execution_count": 9,
   "id": "b47ad38c2eb7bda8",
   "metadata": {
    "ExecuteTime": {
     "end_time": "2024-06-03T16:32:06.363677Z",
     "start_time": "2024-06-03T16:32:06.350155Z"
    }
   },
   "outputs": [],
   "source": [
    "x,y"
   ]
  },
  {
   "cell_type": "markdown",
   "id": "22ca6f6facb03f60",
   "metadata": {},
   "source": [
    "# With different magnetic field?"
   ]
  },
  {
   "cell_type": "code",
   "execution_count": 38,
   "id": "a90114579b0814da",
   "metadata": {
    "ExecuteTime": {
     "end_time": "2024-06-03T17:22:54.331040Z",
     "start_time": "2024-06-03T17:05:24.015918Z"
    }
   },
   "outputs": [],
   "source": [
    "dB = 0.3\n",
    "rsln = (7-1.34)/dB\n",
    "\n",
    "i = 0\n",
    "x = np.array([])\n",
    "y = np.array([])\n",
    "\n",
    "while i <rsln:\n",
    "    T = 0+dT*i\n",
    "    cp_strg = [-3, -2.5, 2.5, 0.1, T]\n",
    "    Hlsw = smk.fm_spin_model(cp_strg)\n",
    "    kappa, N = smk.unnormalized_heat_conductivity(Hlsw,1,0,1, 10)\n",
    "    x = np.append(x, B)\n",
    "    y = np.append(y,np.sum(kappa))\n",
    "    i += 1"
   ]
  },
  {
   "cell_type": "code",
   "execution_count": 41,
   "id": "e9a206d405d1ffb1",
   "metadata": {
    "ExecuteTime": {
     "end_time": "2024-06-03T17:42:19.332375Z",
     "start_time": "2024-06-03T17:42:19.064414Z"
    }
   },
   "outputs": [],
   "source": [
    "fig, ax = spp(facecolor='0.95')\n",
    "ax.set_title(\"$\\kappa^{yx}$ change w.r.t. external field B\")\n",
    "ax.set_xlabel(\"h (meV)\")\n",
    "ax.set_ylabel(\"$\\kappa^{yx}$ $(5k_B^2/ \\hbar)$\")\n",
    "\n",
    "\n",
    "ax.plot(x, y, color='k', label='$T=1K$')\n",
    "\n",
    "ax.legend()\n",
    "fig.savefig('kappa_vs_size.png')"
   ]
  },
  {
   "cell_type": "code",
   "execution_count": 3,
   "id": "fc7ef4991dccb607",
   "metadata": {
    "ExecuteTime": {
     "end_time": "2024-06-04T16:32:13.749099Z",
     "start_time": "2024-06-04T16:32:13.727106Z"
    }
   },
   "outputs": [],
   "source": [
    "theta = 0\n",
    "phi = 0\n",
    "Theta = np.pi-theta\n",
    "Phi = 1.5*np.pi-phi\n",
    "\n",
    "PlusZ = [np.cos(Theta/2),np.sin(Theta/2)*np.exp(1j*Phi)]\n",
    "MinusZ = [-np.sin(Theta / 2), np.cos(Theta / 2) * np.exp(1j * Phi)]\n"
   ]
  },
  {
   "cell_type": "code",
   "execution_count": 12,
   "id": "e6715e2bde6f23dc",
   "metadata": {
    "ExecuteTime": {
     "end_time": "2024-06-04T16:54:04.341829Z",
     "start_time": "2024-06-04T16:54:04.241709Z"
    }
   },
   "outputs": [],
   "source": [
    "uni = sp.Matrix([[np.cos(Theta/2),-np.sin(Theta / 2)],[np.sin(Theta/2)*np.exp(1j*Phi),np.cos(Theta / 2) * np.exp(1j * Phi)]])\n"
   ]
  },
  {
   "cell_type": "code",
   "execution_count": 17,
   "id": "ce65888b93c08407",
   "metadata": {
    "ExecuteTime": {
     "end_time": "2024-06-04T16:56:10.296212Z",
     "start_time": "2024-06-04T16:56:10.280958Z"
    }
   },
   "outputs": [],
   "source": [
    "uni"
   ]
  },
  {
   "cell_type": "code",
   "execution_count": 18,
   "id": "1bd2ef643414e569",
   "metadata": {
    "ExecuteTime": {
     "end_time": "2024-06-04T16:56:11.294667Z",
     "start_time": "2024-06-04T16:56:11.278553Z"
    }
   },
   "outputs": [],
   "source": [
    "uni_dag = sp.transpose(sp.conjugate(uni))\n",
    "uni_dag"
   ]
  },
  {
   "cell_type": "code",
   "execution_count": 20,
   "id": "fde69e34b4ae5a98",
   "metadata": {
    "ExecuteTime": {
     "end_time": "2024-06-04T17:01:35.448608Z",
     "start_time": "2024-06-04T17:01:34.553108Z"
    }
   },
   "outputs": [],
   "source": [
    "sp.simplify(uni_dag*uni)"
   ]
  },
  {
   "cell_type": "code",
   "execution_count": 21,
   "id": "87527b55c2b3b890",
   "metadata": {
    "ExecuteTime": {
     "end_time": "2024-06-04T17:04:21.532508Z",
     "start_time": "2024-06-04T17:04:21.521542Z"
    }
   },
   "outputs": [],
   "source": [
    "from sympy.physics.matrices import msigma"
   ]
  },
  {
   "cell_type": "code",
   "execution_count": null,
   "id": "4101b41da1fe5156",
   "metadata": {},
   "outputs": [],
   "source": [
    "pauli = sy.Matrix([[],[],[],[]])"
   ]
  },
  {
   "cell_type": "code",
   "execution_count": 22,
   "id": "d3a1d88421408399",
   "metadata": {
    "ExecuteTime": {
     "end_time": "2024-06-04T17:09:35.594365Z",
     "start_time": "2024-06-04T17:09:35.531324Z"
    }
   },
   "outputs": [],
   "source": [
    "pxd = uni_dag*msigma(1)*uni\n",
    "pyd = uni_dag*msigma(2)*uni\n",
    "pzd = uni_dag*msigma(3)*uni"
   ]
  },
  {
   "cell_type": "code",
   "execution_count": 25,
   "id": "85e6a795a28a86ff",
   "metadata": {
    "ExecuteTime": {
     "end_time": "2024-06-04T17:12:01.041321Z",
     "start_time": "2024-06-04T17:12:00.378420Z"
    }
   },
   "outputs": [],
   "source": [
    "sp.simplify(pxd*pyd-pyd*pxd-2*sp.I*pzd)"
   ]
  },
  {
   "cell_type": "code",
   "execution_count": 30,
   "id": "894cf9753e60015",
   "metadata": {
    "ExecuteTime": {
     "end_time": "2024-06-04T17:25:34.937004Z",
     "start_time": "2024-06-04T17:25:34.913054Z"
    }
   },
   "outputs": [],
   "source": [
    "(pxd[0,0]+pxd[1,1])/2\n",
    "(pxd[0,0]-pxd[1,1])/2\n",
    "(pxd[0,1]+pxd[1,0])/2\n",
    "(pxd[0,1]-pxd[1,0])/(2*sp.I)"
   ]
  },
  {
   "cell_type": "code",
   "execution_count": 36,
   "id": "9801a6c86ffabbb0",
   "metadata": {
    "ExecuteTime": {
     "end_time": "2024-06-04T17:27:44.128978Z",
     "start_time": "2024-06-04T17:27:44.021845Z"
    }
   },
   "outputs": [],
   "source": [
    "(pyd[0,0]+pyd[1,1])/2\n",
    "(pyd[0,0]-pyd[1,1])/2\n",
    "sp.simplify((pyd[0,1]+pyd[1,0])/2)\n",
    "sp.simplify((pyd[0,1]-pyd[1,0])/(2*sp.I))"
   ]
  },
  {
   "cell_type": "code",
   "execution_count": 39,
   "id": "a3e6feeb09f85240",
   "metadata": {
    "ExecuteTime": {
     "end_time": "2024-06-04T17:34:14.070035Z",
     "start_time": "2024-06-04T17:34:13.807898Z"
    }
   },
   "outputs": [],
   "source": [
    "W1 =sp.simplify(sp.Matrix([(pxd[0, 0] - pxd[1, 1]) / 2, (pxd[0, 1] + pxd[1, 0]) / 2, (pxd[0, 1] - pxd[1, 0]) / (2 * sp.I)]))\n",
    "W2 =sp.simplify(sp.Matrix([(pyd[0, 0] - pyd[1, 1]) / 2, (pyd[0, 1] + pyd[1, 0]) / 2, (pyd[0, 1] - pyd[1, 0]) / (2 * sp.I)]))\n",
    "W3 =sp.simplify(sp.Matrix([(pzd[0, 0] - pzd[1, 1]) / 2, (pzd[0, 1] + pzd[1, 0]) / 2, (pzd[0, 1] - pzd[1, 0]) / (2 * sp.I)]))\n"
   ]
  },
  {
   "cell_type": "code",
   "execution_count": 42,
   "id": "400a606ba59c8329",
   "metadata": {
    "ExecuteTime": {
     "end_time": "2024-06-04T17:35:12.180081Z",
     "start_time": "2024-06-04T17:35:12.168140Z"
    }
   },
   "outputs": [],
   "source": [
    "W1"
   ]
  },
  {
   "cell_type": "code",
   "execution_count": 41,
   "id": "9c420c6f4fe31dbc",
   "metadata": {
    "ExecuteTime": {
     "end_time": "2024-06-04T17:34:52.756099Z",
     "start_time": "2024-06-04T17:34:52.737112Z"
    }
   },
   "outputs": [],
   "source": [
    "W1*sp.transpose(W1)"
   ]
  },
  {
   "cell_type": "code",
   "execution_count": 43,
   "id": "9ec317a32ff075e5",
   "metadata": {
    "ExecuteTime": {
     "end_time": "2024-06-04T17:40:07.577542Z",
     "start_time": "2024-06-04T17:40:07.494810Z"
    }
   },
   "outputs": [],
   "source": [
    "Hberg_dd = W1 * sp.Transpose(W1) + W2 * sp.Transpose(W2) + W3 * sp.Transpose(W3)\n",
    "Hberg_dd"
   ]
  },
  {
   "cell_type": "code",
   "execution_count": 46,
   "id": "e39d683cf9c37b2d",
   "metadata": {
    "ExecuteTime": {
     "end_time": "2024-06-05T04:24:14.657790Z",
     "start_time": "2024-06-05T04:24:14.643790Z"
    }
   },
   "outputs": [],
   "source": [
    "i=0\n",
    "while i<2:\n",
    "    j=0\n",
    "    while j<2:\n",
    "        print([0+i*2,0+j*2])\n",
    "        j+=1\n",
    "    i+=1"
   ]
  },
  {
   "cell_type": "code",
   "execution_count": 62,
   "id": "a65ea8c9a91e0d",
   "metadata": {
    "ExecuteTime": {
     "end_time": "2024-06-05T06:40:48.282964Z",
     "start_time": "2024-06-05T06:40:48.265941Z"
    }
   },
   "outputs": [],
   "source": [
    "l=0\n",
    "while l<2:\n",
    "    ll=0\n",
    "    while ll<2:\n",
    "        i=0\n",
    "        while i<2:\n",
    "            j=0\n",
    "            while j<2:\n",
    "                print([a[f'{l}']+i*4,a[f'{ll}']+j*4])\n",
    "                j+=1\n",
    "            i+=1\n",
    "        ll+=1\n",
    "    l+=1"
   ]
  },
  {
   "cell_type": "code",
   "execution_count": 67,
   "id": "f0ac2b26c6860745",
   "metadata": {
    "ExecuteTime": {
     "end_time": "2024-06-05T06:41:08.200251Z",
     "start_time": "2024-06-05T06:41:08.188940Z"
    }
   },
   "outputs": [],
   "source": [
    "l=0\n",
    "while l<2:\n",
    "    ll=0\n",
    "    while ll<2:\n",
    "        i=0\n",
    "        while i<2:\n",
    "            j=0\n",
    "            while j<2:\n",
    "                print([a[f'{l}']+i*4,a[f'{ll}']+j*4])\n",
    "                j+=1\n",
    "            i+=1\n",
    "        ll+=1\n",
    "    l+=1"
   ]
  }
 ],
 "metadata": {
  "kernelspec": {
   "display_name": "Python 3",
   "language": "python",
   "name": "python3"
  },
  "language_info": {
   "codemirror_mode": {
    "name": "ipython",
    "version": 3
   },
   "file_extension": ".py",
   "mimetype": "text/x-python",
   "name": "python",
   "nbconvert_exporter": "python",
   "pygments_lexer": "ipython3",
   "version": "3.9.1"
  }
 },
 "nbformat": 4,
 "nbformat_minor": 5
}
