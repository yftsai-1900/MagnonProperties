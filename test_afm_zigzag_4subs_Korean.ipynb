{
 "cells": [
  {
   "cell_type": "code",
   "execution_count": 1,
   "id": "ba44c981e6cd5faa",
   "metadata": {
    "ExecuteTime": {
     "end_time": "2024-06-06T03:54:34.883952Z",
     "start_time": "2024-06-06T03:54:31.947979Z"
    }
   },
   "outputs": [],
   "source": [
    "import sympy as sp\n",
    "import numpy as np\n",
    "from matplotlib.pyplot import subplots as spp\n",
    "from numpy import linalg as LA\n",
    "from sympy.physics.matrices import msigma"
   ]
  },
  {
   "cell_type": "code",
   "execution_count": 2,
   "id": "a5db653b10afe1a1",
   "metadata": {
    "ExecuteTime": {
     "end_time": "2024-06-06T03:54:37.151796Z",
     "start_time": "2024-06-06T03:54:37.136202Z"
    }
   },
   "outputs": [],
   "source": [
    "def distri224(H, Hsub, a, b):\n",
    "    lat = {'0': a, '1': b}\n",
    "    l=0\n",
    "    while l<2:\n",
    "        ll=0\n",
    "        while ll<2:\n",
    "            i=0\n",
    "            while i<2:\n",
    "                j=0\n",
    "                while j<2:\n",
    "                    H[lat[f'{l}']+i*4,lat[f'{ll}']+j*4] = H[lat[f'{l}']+i*4,lat[f'{ll}']+j*4] + Hsub[0+i*2+l,0+j*2+ll]\n",
    "                    j+=1\n",
    "                i+=1\n",
    "            ll+=1\n",
    "        l+=1\n"
   ]
  },
  {
   "cell_type": "code",
   "execution_count": 3,
   "metadata": {},
   "outputs": [
    {
     "data": {
      "text/latex": [
       "$\\displaystyle \\left[\\begin{matrix}22 & 21 & 0 & 0 & 24 & 23 & 0 & 0\\\\12 & 11 & 0 & 0 & 14 & 13 & 0 & 0\\\\0 & 0 & 0 & 0 & 0 & 0 & 0 & 0\\\\0 & 0 & 0 & 0 & 0 & 0 & 0 & 0\\\\42 & 41 & 0 & 0 & 44 & 43 & 0 & 0\\\\32 & 31 & 0 & 0 & 34 & 33 & 0 & 0\\\\0 & 0 & 0 & 0 & 0 & 0 & 0 & 0\\\\0 & 0 & 0 & 0 & 0 & 0 & 0 & 0\\end{matrix}\\right]$"
      ],
      "text/plain": [
       "Matrix([\n",
       "[22, 21, 0, 0, 24, 23, 0, 0],\n",
       "[12, 11, 0, 0, 14, 13, 0, 0],\n",
       "[ 0,  0, 0, 0,  0,  0, 0, 0],\n",
       "[ 0,  0, 0, 0,  0,  0, 0, 0],\n",
       "[42, 41, 0, 0, 44, 43, 0, 0],\n",
       "[32, 31, 0, 0, 34, 33, 0, 0],\n",
       "[ 0,  0, 0, 0,  0,  0, 0, 0],\n",
       "[ 0,  0, 0, 0,  0,  0, 0, 0]])"
      ]
     },
     "execution_count": 3,
     "metadata": {},
     "output_type": "execute_result"
    }
   ],
   "source": [
    "H = sp.zeros(8, 8)\n",
    "Hsub = sp.Matrix([[11,12,13,14],[21,22,23,24],[31,32,33,34],[41,42,43,44]])\n",
    "distri224(H, Hsub, 1,0)\n",
    "H"
   ]
  },
  {
   "cell_type": "code",
   "execution_count": 4,
   "metadata": {},
   "outputs": [
    {
     "data": {
      "text/latex": [
       "$\\displaystyle \\left[\\begin{matrix}0 & 0 & 0 & 0 & 0 & 0 & 0 & 0\\\\0 & 0 & 0 & 0 & 0 & 0 & 0 & 0\\\\0 & 0 & 22 & 21 & 0 & 0 & 24 & 23\\\\0 & 0 & 12 & 11 & 0 & 0 & 14 & 13\\\\0 & 0 & 0 & 0 & 0 & 0 & 0 & 0\\\\0 & 0 & 0 & 0 & 0 & 0 & 0 & 0\\\\0 & 0 & 42 & 41 & 0 & 0 & 44 & 43\\\\0 & 0 & 32 & 31 & 0 & 0 & 34 & 33\\end{matrix}\\right]$"
      ],
      "text/plain": [
       "Matrix([\n",
       "[0, 0,  0,  0, 0, 0,  0,  0],\n",
       "[0, 0,  0,  0, 0, 0,  0,  0],\n",
       "[0, 0, 22, 21, 0, 0, 24, 23],\n",
       "[0, 0, 12, 11, 0, 0, 14, 13],\n",
       "[0, 0,  0,  0, 0, 0,  0,  0],\n",
       "[0, 0,  0,  0, 0, 0,  0,  0],\n",
       "[0, 0, 42, 41, 0, 0, 44, 43],\n",
       "[0, 0, 32, 31, 0, 0, 34, 33]])"
      ]
     },
     "execution_count": 4,
     "metadata": {},
     "output_type": "execute_result"
    }
   ],
   "source": [
    "H = sp.zeros(8, 8)\n",
    "Hsub = sp.Matrix([[11,12,13,14],[21,22,23,24],[31,32,33,34],[41,42,43,44]])\n",
    "distri224(H, Hsub, 3,2)\n",
    "H"
   ]
  },
  {
   "cell_type": "code",
   "execution_count": 5,
   "metadata": {
    "scrolled": true
   },
   "outputs": [
    {
     "data": {
      "text/latex": [
       "$\\displaystyle \\left[\\begin{matrix}0 & 0 & 0 & 0 & 0 & 0 & 0 & 0\\\\0 & 11 & 12 & 0 & 0 & 13 & 14 & 0\\\\0 & 21 & 22 & 0 & 0 & 23 & 24 & 0\\\\0 & 0 & 0 & 0 & 0 & 0 & 0 & 0\\\\0 & 0 & 0 & 0 & 0 & 0 & 0 & 0\\\\0 & 31 & 32 & 0 & 0 & 33 & 34 & 0\\\\0 & 41 & 42 & 0 & 0 & 43 & 44 & 0\\\\0 & 0 & 0 & 0 & 0 & 0 & 0 & 0\\end{matrix}\\right]$"
      ],
      "text/plain": [
       "Matrix([\n",
       "[0,  0,  0, 0, 0,  0,  0, 0],\n",
       "[0, 11, 12, 0, 0, 13, 14, 0],\n",
       "[0, 21, 22, 0, 0, 23, 24, 0],\n",
       "[0,  0,  0, 0, 0,  0,  0, 0],\n",
       "[0,  0,  0, 0, 0,  0,  0, 0],\n",
       "[0, 31, 32, 0, 0, 33, 34, 0],\n",
       "[0, 41, 42, 0, 0, 43, 44, 0],\n",
       "[0,  0,  0, 0, 0,  0,  0, 0]])"
      ]
     },
     "execution_count": 5,
     "metadata": {},
     "output_type": "execute_result"
    }
   ],
   "source": [
    "H = sp.zeros(8, 8)\n",
    "Hsub = sp.Matrix([[11,12,13,14],[21,22,23,24],[31,32,33,34],[41,42,43,44]])\n",
    "distri224(H, Hsub, 1,2)\n",
    "H"
   ]
  },
  {
   "cell_type": "code",
   "execution_count": 6,
   "metadata": {},
   "outputs": [
    {
     "data": {
      "text/latex": [
       "$\\displaystyle \\left[\\begin{matrix}22 & 0 & 0 & 21 & 24 & 0 & 0 & 23\\\\0 & 0 & 0 & 0 & 0 & 0 & 0 & 0\\\\0 & 0 & 0 & 0 & 0 & 0 & 0 & 0\\\\12 & 0 & 0 & 11 & 14 & 0 & 0 & 13\\\\42 & 0 & 0 & 41 & 44 & 0 & 0 & 43\\\\0 & 0 & 0 & 0 & 0 & 0 & 0 & 0\\\\0 & 0 & 0 & 0 & 0 & 0 & 0 & 0\\\\32 & 0 & 0 & 31 & 34 & 0 & 0 & 33\\end{matrix}\\right]$"
      ],
      "text/plain": [
       "Matrix([\n",
       "[22, 0, 0, 21, 24, 0, 0, 23],\n",
       "[ 0, 0, 0,  0,  0, 0, 0,  0],\n",
       "[ 0, 0, 0,  0,  0, 0, 0,  0],\n",
       "[12, 0, 0, 11, 14, 0, 0, 13],\n",
       "[42, 0, 0, 41, 44, 0, 0, 43],\n",
       "[ 0, 0, 0,  0,  0, 0, 0,  0],\n",
       "[ 0, 0, 0,  0,  0, 0, 0,  0],\n",
       "[32, 0, 0, 31, 34, 0, 0, 33]])"
      ]
     },
     "execution_count": 6,
     "metadata": {},
     "output_type": "execute_result"
    }
   ],
   "source": [
    "H = sp.zeros(8, 8)\n",
    "Hsub = sp.Matrix([[11,12,13,14],[21,22,23,24],[31,32,33,34],[41,42,43,44]])\n",
    "distri224(H, Hsub, 3,0)\n",
    "H"
   ]
  },
  {
   "cell_type": "code",
   "execution_count": 7,
   "metadata": {
    "scrolled": true
   },
   "outputs": [],
   "source": [
    "H = sp.zeros(8, 8)\n",
    "\n",
    "M11 = sp.Symbol(\"M11\", real=True)\n",
    "M12 = sp.Symbol(\"M12\", real=True)\n",
    "M13 = sp.Symbol(\"M13\", real=True)\n",
    "M14 = sp.Symbol(\"M14\", real=True)\n",
    "\n",
    "M21 = sp.Symbol(\"M21\", real=True)\n",
    "M22 = sp.Symbol(\"M22\", real=True)\n",
    "M23 = sp.Symbol(\"M23\", real=True)\n",
    "M24 = sp.Symbol(\"M24\", real=True)\n",
    "\n",
    "M31 = sp.Symbol(\"M31\", real=True)\n",
    "M32 = sp.Symbol(\"M32\", real=True)\n",
    "M33 = sp.Symbol(\"M33\", real=True)\n",
    "M34 = sp.Symbol(\"M34\", real=True)\n",
    "\n",
    "M41 = sp.Symbol(\"M41\", real=True)\n",
    "M42 = sp.Symbol(\"M42\", real=True)\n",
    "M43 = sp.Symbol(\"M43\", real=True)\n",
    "M44 = sp.Symbol(\"M44\", real=True)"
   ]
  },
  {
   "cell_type": "code",
   "execution_count": 8,
   "metadata": {},
   "outputs": [
    {
     "data": {
      "text/latex": [
       "$\\displaystyle \\left[\\begin{matrix}11 & 12 & 13 & 14\\\\21 & 22 & 23 & 24\\\\31 & 32 & 33 & 34\\\\41 & 42 & 43 & 44\\end{matrix}\\right]$"
      ],
      "text/plain": [
       "Matrix([\n",
       "[11, 12, 13, 14],\n",
       "[21, 22, 23, 24],\n",
       "[31, 32, 33, 34],\n",
       "[41, 42, 43, 44]])"
      ]
     },
     "execution_count": 8,
     "metadata": {},
     "output_type": "execute_result"
    }
   ],
   "source": [
    "Hsub"
   ]
  },
  {
   "cell_type": "code",
   "execution_count": 9,
   "metadata": {},
   "outputs": [
    {
     "data": {
      "text/latex": [
       "$\\displaystyle \\left[\\begin{matrix}M_{11} + M_{12} + M_{21} + M_{22} & 0 & 0 & 0 & M_{13} + M_{14} + M_{23} + M_{24} & 0 & 0 & 0\\\\0 & 0 & 0 & 0 & 0 & 0 & 0 & 0\\\\0 & 0 & 0 & 0 & 0 & 0 & 0 & 0\\\\0 & 0 & 0 & 0 & 0 & 0 & 0 & 0\\\\M_{31} + M_{32} + M_{41} + M_{42} & 0 & 0 & 0 & M_{33} + M_{34} + M_{43} + M_{44} & 0 & 0 & 0\\\\0 & 0 & 0 & 0 & 0 & 0 & 0 & 0\\\\0 & 0 & 0 & 0 & 0 & 0 & 0 & 0\\\\0 & 0 & 0 & 0 & 0 & 0 & 0 & 0\\end{matrix}\\right]$"
      ],
      "text/plain": [
       "Matrix([\n",
       "[M11 + M12 + M21 + M22, 0, 0, 0, M13 + M14 + M23 + M24, 0, 0, 0],\n",
       "[                    0, 0, 0, 0,                     0, 0, 0, 0],\n",
       "[                    0, 0, 0, 0,                     0, 0, 0, 0],\n",
       "[                    0, 0, 0, 0,                     0, 0, 0, 0],\n",
       "[M31 + M32 + M41 + M42, 0, 0, 0, M33 + M34 + M43 + M44, 0, 0, 0],\n",
       "[                    0, 0, 0, 0,                     0, 0, 0, 0],\n",
       "[                    0, 0, 0, 0,                     0, 0, 0, 0],\n",
       "[                    0, 0, 0, 0,                     0, 0, 0, 0]])"
      ]
     },
     "execution_count": 9,
     "metadata": {},
     "output_type": "execute_result"
    }
   ],
   "source": [
    "Hsub = sp.Matrix([[M11,M12,M13,M14],[M21,M22,M23,M24],[M31,M32,M33,M34],[M41,M42,M43,M44]])\n",
    "distri224(H, Hsub, 0,0)\n",
    "H"
   ]
  },
  {
   "cell_type": "code",
   "execution_count": 10,
   "id": "db7ab77057d9108d",
   "metadata": {
    "ExecuteTime": {
     "end_time": "2024-06-06T03:54:38.859820Z",
     "start_time": "2024-06-06T03:54:38.784423Z"
    }
   },
   "outputs": [],
   "source": [
    "a_i = sp.symbols(\"a1:3\")  # Bravais lattice vectors\n",
    "a = sp.Symbol(\"a\", real=True)\n",
    "I = sp.I\n",
    "pi = sp.pi\n",
    "hb = sp.Symbol(\"ℏ\", real=True)\n",
    "S = sp.Symbol(\"S\", real=True)\n",
    "\n",
    "J = sp.Symbol(\"J\", real=True)  # Heisenberg coupling\n",
    "K = sp.Symbol(\"K\", real=True)  # Kitaev coupling\n",
    "Gamma = sp.Symbol(\"Γ\", real=True)\n",
    "gamma = sp.Symbol(\"Γ'\", real=True)\n",
    "h = sp.Symbol(\"h\", real=True)\n",
    "# up-up couplings\n",
    "theta =0\n",
    "phi = 0\n",
    "\n",
    "V_i = sp.symbols(\"V1:4\")\n",
    "V1 = sp.Matrix([1, 0, 0])\n",
    "V2 = sp.Matrix([0, 1, 0])\n",
    "V3 = sp.Matrix([0, 0, 1])\n",
    "\n",
    "Hberg_uu = V1 * sp.Transpose(V1) + V2 * sp.Transpose(V2) + V3 * sp.Transpose(V3)\n",
    "\n",
    "IsingXX_uu = V1 * sp.Transpose(V1)\n",
    "IsingZZ_uu = V3 * sp.Transpose(V3)\n",
    "\n",
    "XY_uu = V1 * sp.Transpose(V2)\n",
    "XZ_uu = V1 * sp.Transpose(V3)\n",
    "YX_uu = V2 * sp.Transpose(V1)\n",
    "YZ_uu = V2 * sp.Transpose(V3)\n",
    "ZX_uu = V3 * sp.Transpose(V1)\n",
    "ZY_uu = V3 * sp.Transpose(V2)\n",
    "\n",
    "Hx_uu = 2 * K * IsingXX_uu + J * Hberg_uu + Gamma * (YZ_uu + ZY_uu) + gamma * (YX_uu + ZX_uu + XY_uu + XZ_uu)\n",
    "Hz_uu = 2 * K * IsingZZ_uu + J * Hberg_uu + Gamma * (XY_uu + YX_uu) + gamma * (XZ_uu + YZ_uu + ZX_uu + ZY_uu)\n",
    "\n",
    "e = sp.Symbol(\"e\")\n",
    "f = sp.Symbol(\"f\")\n",
    "g = sp.Symbol(\"g\")\n",
    "h = sp.Symbol(\"h\")\n",
    "n_i = sp.Symbol(\"𝑛𝑖\")\n",
    "n_j = sp.Symbol(\"𝑛𝑗\")\n",
    "\n",
    "HPXX = 1 / sp.Integer(2) * (e + f + g + h)\n",
    "HPYY = -1 / sp.Integer(2) * (e - f - g + h)\n",
    "HPZZ = (S - n_i - n_j)\n",
    "HPXY = 1 / (2 * I) * (e - f + g - h)\n",
    "HPYX = 1 / (2 * I) * (e + f - g - h)\n",
    "\n",
    "    # for now we didn't how to calculate single a, a+...\n",
    "HPXZ = 0\n",
    "HPYZ = 0\n",
    "HPZX = 0\n",
    "HPZY = 0\n",
    "\n",
    "HPbosons = sp.Matrix([[HPXX, HPXY, HPXZ], [HPYX, HPYY, HPYZ], [HPZX, HPZY,\n",
    "                                                                   HPZZ]])\n",
    "o = sp.Integer(0)\n",
    "ii = sp.Integer(1)"
   ]
  },
  {
   "cell_type": "code",
   "execution_count": 11,
   "id": "3497a335aa1af04d",
   "metadata": {
    "ExecuteTime": {
     "end_time": "2024-06-06T03:54:40.001737Z",
     "start_time": "2024-06-06T03:54:39.920669Z"
    }
   },
   "outputs": [],
   "source": [
    "HPHx_uu = sp.Integer(0)\n",
    "\n",
    "i = 0\n",
    "while i < 3:\n",
    "    j = 0\n",
    "    while j < 3:\n",
    "        HPHx_uu = HPHx_uu + Hx_uu[i, j] * HPbosons[i, j]\n",
    "        j += 1\n",
    "    i += 1\n",
    "\n",
    "HPHx_uu = HPHx_uu.expand()\n",
    "\n",
    "Coef_HPHx_uu = sp.Matrix([o, o, o, o, o, o])\n",
    "Coef_HPHx_uu[0, 0] = HPHx_uu.coeff(e)\n",
    "Coef_HPHx_uu[1, 0] = HPHx_uu.coeff(f)\n",
    "Coef_HPHx_uu[2, 0] = HPHx_uu.coeff(g)\n",
    "Coef_HPHx_uu[3, 0] = HPHx_uu.coeff(h)\n",
    "Coef_HPHx_uu[4, 0] = HPHx_uu.coeff(n_i)\n",
    "Coef_HPHx_uu[5, 0] = HPHx_uu.coeff(n_j)\n",
    "\n",
    "Mat_Coef_HPHx_uu = sp.Matrix([\n",
    "    [Coef_HPHx_uu[4, 0], Coef_HPHx_uu[2, 0], o, Coef_HPHx_uu[3, 0]],\n",
    "    [Coef_HPHx_uu[1, 0], Coef_HPHx_uu[5, 0], Coef_HPHx_uu[3, 0], o],\n",
    "    [o, Coef_HPHx_uu[0, 0], Coef_HPHx_uu[5, 0], Coef_HPHx_uu[2, 0]],\n",
    "    [Coef_HPHx_uu[0, 0], o, Coef_HPHx_uu[1, 0], Coef_HPHx_uu[4, 0]]\n",
    "    ])\n",
    "\n",
    "HPHz_uu = sp.Integer(0)\n",
    "\n",
    "i = 0\n",
    "while i < 3:\n",
    "    j = 0\n",
    "    while j < 3:\n",
    "        HPHz_uu = HPHz_uu + Hz_uu[i, j] * HPbosons[i, j]\n",
    "        j += 1\n",
    "    i += 1\n",
    "\n",
    "HPHz_uu = HPHz_uu.expand()\n",
    "\n",
    "Coef_HPHz_uu = sp.Matrix([o, o, o, o, o, o])\n",
    "Coef_HPHz_uu[0, 0] = HPHz_uu.coeff(e)\n",
    "Coef_HPHz_uu[1, 0] = HPHz_uu.coeff(f)\n",
    "Coef_HPHz_uu[2, 0] = HPHz_uu.coeff(g)\n",
    "Coef_HPHz_uu[3, 0] = HPHz_uu.coeff(h)\n",
    "Coef_HPHz_uu[4, 0] = HPHz_uu.coeff(n_i)\n",
    "Coef_HPHz_uu[5, 0] = HPHz_uu.coeff(n_j)\n",
    "\n",
    "Mat_Coef_HPHz_uu = sp.Matrix([\n",
    "    [Coef_HPHz_uu[4, 0], Coef_HPHz_uu[2, 0], o, Coef_HPHz_uu[3, 0]],\n",
    "    [Coef_HPHz_uu[1, 0], Coef_HPHz_uu[5, 0], Coef_HPHz_uu[3, 0], o],\n",
    "    [o, Coef_HPHz_uu[0, 0], Coef_HPHz_uu[5, 0], Coef_HPHz_uu[2, 0]],\n",
    "    [Coef_HPHz_uu[0, 0], o, Coef_HPHz_uu[1, 0], Coef_HPHz_uu[4, 0]]\n",
    "    ])"
   ]
  },
  {
   "cell_type": "code",
   "execution_count": 12,
   "id": "b4b1a3b24d44f148",
   "metadata": {
    "ExecuteTime": {
     "end_time": "2024-06-06T04:12:22.709814Z",
     "start_time": "2024-06-06T04:12:22.277910Z"
    }
   },
   "outputs": [],
   "source": [
    "#############################################\n",
    "# down-down couplings\n",
    "Theta = np.pi+theta\n",
    "Phi = phi\n",
    "uni = sp.Matrix([[np.cos(Theta/2),np.sin(Theta / 2)],[np.sin(Theta/2)*np.exp(1j*Phi),-np.cos(Theta / 2) * np.exp(1j * Phi)]])\n",
    "uni_dag = sp.transpose(sp.conjugate(uni))\n",
    "\n",
    "\n",
    "pxd = sp.simplify(uni_dag*msigma(1)*uni)\n",
    "pyd = sp.simplify(uni_dag*msigma(2)*uni)\n",
    "pzd = sp.simplify(uni_dag * msigma(3) * uni)\n",
    "\n",
    "W1 = sp.simplify(sp.Matrix([(pxd[0, 1] + pxd[1, 0]) / 2, (pxd[1, 0] - pxd[0, 1]) / (2 * I), (pxd[0, 0] - pxd[1, 1]) / 2]))\n",
    "W2 = sp.simplify(sp.Matrix([(pyd[0, 1] + pyd[1, 0]) / 2, (pyd[1, 0] - pyd[0, 1]) / (2 * I), (pyd[0, 0] - pyd[1, 1]) / 2]))\n",
    "W3 = sp.simplify(sp.Matrix([(pzd[0, 1] + pzd[1, 0]) / 2, (pzd[1, 0] - pzd[0, 1]) / (2 * I), (pzd[0, 0] - pzd[1, 1]) / 2]))\n",
    "\n",
    "Hberg_dd = W1 * sp.Transpose(W1) + W2 * sp.Transpose(W2) + W3 * sp.Transpose(W3)\n",
    "\n",
    "IsingXX_dd = W1 * sp.Transpose(W1)\n",
    "IsingZZ_dd = W3 * sp.Transpose(W3)\n",
    "\n",
    "XY_dd = W1 * sp.Transpose(W2)\n",
    "XZ_dd = W1 * sp.Transpose(W3)\n",
    "YX_dd = W2 * sp.Transpose(W1)\n",
    "YZ_dd = W2 * sp.Transpose(W3)\n",
    "ZX_dd = W3 * sp.Transpose(W1)\n",
    "ZY_dd = W3 * sp.Transpose(W2)\n",
    "\n",
    "Hx_dd = 2 * K * IsingXX_dd + J * Hberg_dd + Gamma * (YZ_dd + ZY_dd) + gamma * (YX_dd + ZX_dd + XY_dd + XZ_dd)\n",
    "Hz_dd = 2 * K * IsingZZ_dd + J * Hberg_dd + Gamma * (XY_dd + YX_dd) + gamma * (XZ_dd + YZ_dd + ZX_dd + ZY_dd)\n",
    "\n",
    "HPHx_dd = sp.Integer(0)\n",
    "\n",
    "i = 0\n",
    "while i < 3:\n",
    "    j = 0\n",
    "    while j < 3:\n",
    "        HPHx_dd = HPHx_dd + Hx_dd[i, j] * HPbosons[i, j]\n",
    "        j += 1\n",
    "    i += 1\n",
    "\n",
    "HPHx_dd = HPHx_dd.expand()\n",
    "\n",
    "Coef_HPHx_dd = sp.Matrix([o, o, o, o, o, o])\n",
    "Coef_HPHx_dd[0, 0] = HPHx_dd.coeff(e)\n",
    "Coef_HPHx_dd[1, 0] = HPHx_dd.coeff(f)\n",
    "Coef_HPHx_dd[2, 0] = HPHx_dd.coeff(g)\n",
    "Coef_HPHx_dd[3, 0] = HPHx_dd.coeff(h)\n",
    "Coef_HPHx_dd[4, 0] = HPHx_dd.coeff(n_i)\n",
    "Coef_HPHx_dd[5, 0] = HPHx_dd.coeff(n_j)\n",
    "\n",
    "Mat_Coef_HPHx_dd = sp.Matrix([\n",
    "    [Coef_HPHx_dd[4, 0], Coef_HPHx_dd[2, 0], o, Coef_HPHx_dd[3, 0]],\n",
    "    [Coef_HPHx_dd[1, 0], Coef_HPHx_dd[5, 0], Coef_HPHx_dd[3, 0], o],\n",
    "    [o, Coef_HPHx_dd[0, 0], Coef_HPHx_dd[5, 0], Coef_HPHx_dd[2, 0]],\n",
    "    [Coef_HPHx_dd[0, 0], o, Coef_HPHx_dd[1, 0], Coef_HPHx_dd[4, 0]]\n",
    "    ])\n",
    "\n",
    "HPHz_dd = sp.Integer(0)\n",
    "\n",
    "i = 0\n",
    "while i < 3:\n",
    "    j = 0\n",
    "    while j < 3:\n",
    "        HPHz_dd = HPHz_dd + Hz_dd[i, j] * HPbosons[i, j]\n",
    "        j += 1\n",
    "    i += 1\n",
    "\n",
    "HPHz_dd = HPHz_dd.expand()\n",
    "\n",
    "Coef_HPHz_dd = sp.Matrix([o, o, o, o, o, o])\n",
    "Coef_HPHz_dd[0, 0] = HPHz_dd.coeff(e)\n",
    "Coef_HPHz_dd[1, 0] = HPHz_dd.coeff(f)\n",
    "Coef_HPHz_dd[2, 0] = HPHz_dd.coeff(g)\n",
    "Coef_HPHz_dd[3, 0] = HPHz_dd.coeff(h)\n",
    "Coef_HPHz_dd[4, 0] = HPHz_dd.coeff(n_i)\n",
    "Coef_HPHz_dd[5, 0] = HPHz_dd.coeff(n_j)\n",
    "\n",
    "Mat_Coef_HPHz_dd = sp.Matrix([\n",
    "    [Coef_HPHz_dd[4, 0], Coef_HPHz_dd[2, 0], o, Coef_HPHz_dd[3, 0]],\n",
    "    [Coef_HPHz_dd[1, 0], Coef_HPHz_dd[5, 0], Coef_HPHz_dd[3, 0], o],\n",
    "    [o, Coef_HPHz_dd[0, 0], Coef_HPHz_dd[5, 0], Coef_HPHz_dd[2, 0]],\n",
    "    [Coef_HPHz_dd[0, 0], o, Coef_HPHz_dd[1, 0], Coef_HPHz_dd[4, 0]]\n",
    "    ])\n"
   ]
  },
  {
   "cell_type": "code",
   "execution_count": 13,
   "metadata": {},
   "outputs": [
    {
     "data": {
      "text/latex": [
       "$\\displaystyle \\left[\\begin{matrix}0 & 0\\\\0 & 0\\end{matrix}\\right]$"
      ],
      "text/plain": [
       "Matrix([\n",
       "[0, 0],\n",
       "[0, 0]])"
      ]
     },
     "execution_count": 13,
     "metadata": {},
     "output_type": "execute_result"
    }
   ],
   "source": [
    "sp.simplify(pxd*pyd-pyd*pxd-2*sp.I*pzd)"
   ]
  },
  {
   "cell_type": "code",
   "execution_count": 14,
   "metadata": {},
   "outputs": [
    {
     "data": {
      "text/latex": [
       "$\\displaystyle \\left[\\begin{matrix}0 & 0\\\\0 & 0\\end{matrix}\\right]$"
      ],
      "text/plain": [
       "Matrix([\n",
       "[0, 0],\n",
       "[0, 0]])"
      ]
     },
     "execution_count": 14,
     "metadata": {},
     "output_type": "execute_result"
    }
   ],
   "source": [
    "sp.simplify(pyd*pzd-pzd*pyd-2*sp.I*pxd)"
   ]
  },
  {
   "cell_type": "code",
   "execution_count": 15,
   "metadata": {},
   "outputs": [
    {
     "data": {
      "text/latex": [
       "$\\displaystyle \\left[\\begin{matrix}0 & 0\\\\0 & 0\\end{matrix}\\right]$"
      ],
      "text/plain": [
       "Matrix([\n",
       "[0, 0],\n",
       "[0, 0]])"
      ]
     },
     "execution_count": 15,
     "metadata": {},
     "output_type": "execute_result"
    }
   ],
   "source": [
    "sp.simplify(pzd*pxd-pxd*pzd-2*sp.I*pyd)"
   ]
  },
  {
   "cell_type": "code",
   "execution_count": 16,
   "id": "8d85a2c2b347fa6d",
   "metadata": {
    "ExecuteTime": {
     "end_time": "2024-06-06T04:12:24.186958Z",
     "start_time": "2024-06-06T04:12:24.172915Z"
    }
   },
   "outputs": [
    {
     "data": {
      "text/latex": [
       "$\\displaystyle \\left[\\begin{matrix}1.0\\\\0\\\\1.22464679914735 \\cdot 10^{-16}\\end{matrix}\\right]$"
      ],
      "text/plain": [
       "Matrix([\n",
       "[                 1.0],\n",
       "[                   0],\n",
       "[1.22464679914735e-16]])"
      ]
     },
     "execution_count": 16,
     "metadata": {},
     "output_type": "execute_result"
    }
   ],
   "source": [
    "W1"
   ]
  },
  {
   "cell_type": "code",
   "execution_count": 17,
   "id": "68031cbd7f4a09f9",
   "metadata": {
    "ExecuteTime": {
     "end_time": "2024-06-06T04:12:40.626055Z",
     "start_time": "2024-06-06T04:12:40.612941Z"
    }
   },
   "outputs": [
    {
     "data": {
      "text/latex": [
       "$\\displaystyle \\left[\\begin{matrix}0\\\\-1.0\\\\0\\end{matrix}\\right]$"
      ],
      "text/plain": [
       "Matrix([\n",
       "[   0],\n",
       "[-1.0],\n",
       "[   0]])"
      ]
     },
     "execution_count": 17,
     "metadata": {},
     "output_type": "execute_result"
    }
   ],
   "source": [
    "W2"
   ]
  },
  {
   "cell_type": "code",
   "execution_count": 18,
   "id": "a00afe317ec87cb",
   "metadata": {
    "ExecuteTime": {
     "end_time": "2024-06-06T04:12:52.651725Z",
     "start_time": "2024-06-06T04:12:52.638553Z"
    }
   },
   "outputs": [
    {
     "data": {
      "text/latex": [
       "$\\displaystyle \\left[\\begin{matrix}1.22464679914735 \\cdot 10^{-16}\\\\0\\\\-1.0\\end{matrix}\\right]$"
      ],
      "text/plain": [
       "Matrix([\n",
       "[1.22464679914735e-16],\n",
       "[                   0],\n",
       "[                -1.0]])"
      ]
     },
     "execution_count": 18,
     "metadata": {},
     "output_type": "execute_result"
    }
   ],
   "source": [
    "W3"
   ]
  },
  {
   "cell_type": "code",
   "execution_count": 19,
   "id": "9b5d64a97706f4cf",
   "metadata": {
    "ExecuteTime": {
     "end_time": "2024-06-06T04:23:25.139563Z",
     "start_time": "2024-06-06T04:23:25.041938Z"
    }
   },
   "outputs": [],
   "source": [
    "#####################################################################\n",
    "# up-down couplings\n",
    "Hberg_ud = V1 * sp.Transpose(W1) + V2 * sp.Transpose(W2) + V3 * sp.Transpose(W3)\n",
    "\n",
    "IsingYY_ud = V2 * sp.Transpose(W2)\n",
    "\n",
    "XY_ud = V1 * sp.Transpose(W2)\n",
    "XZ_ud = V1 * sp.Transpose(W3)\n",
    "YX_ud = V2 * sp.Transpose(W1)\n",
    "YZ_ud = V2 * sp.Transpose(W3)\n",
    "ZX_ud = V3 * sp.Transpose(W1)\n",
    "ZY_ud = V3 * sp.Transpose(W2)\n",
    "\n",
    "Hy_ud = 2 * K * IsingYY_ud + J * Hberg_ud + Gamma * (XZ_ud + ZX_ud) + gamma * (YZ_ud + YX_ud + ZY_ud + XY_ud)\n",
    "HPHy_ud = sp.Integer(0)\n",
    "\n",
    "i = 0\n",
    "while i < 3:\n",
    "    j = 0\n",
    "    while j < 3:\n",
    "        HPHy_ud = HPHy_ud + Hy_ud[i, j] * HPbosons[i, j]\n",
    "        j += 1\n",
    "    i += 1\n",
    "\n",
    "HPHy_ud = HPHy_ud.expand()\n",
    "\n",
    "Coef_HPHy_ud = sp.Matrix([o, o, o, o, o, o])\n",
    "Coef_HPHy_ud[0, 0] = HPHy_ud.coeff(e)\n",
    "Coef_HPHy_ud[1, 0] = HPHy_ud.coeff(f)\n",
    "Coef_HPHy_ud[2, 0] = HPHy_ud.coeff(g)\n",
    "Coef_HPHy_ud[3, 0] = HPHy_ud.coeff(h)\n",
    "Coef_HPHy_ud[4, 0] = HPHy_ud.coeff(n_i)\n",
    "Coef_HPHy_ud[5, 0] = HPHy_ud.coeff(n_j)\n",
    "\n",
    "Mat_Coef_HPHy_ud = sp.Matrix([\n",
    "    [Coef_HPHy_ud[4, 0], Coef_HPHy_ud[2, 0], o, Coef_HPHy_ud[3, 0]],\n",
    "    [Coef_HPHy_ud[1, 0], Coef_HPHy_ud[5, 0], Coef_HPHy_ud[3, 0], o],\n",
    "    [o, Coef_HPHy_ud[0, 0], Coef_HPHy_ud[5, 0], Coef_HPHy_ud[2, 0]],\n",
    "    [Coef_HPHy_ud[0, 0], o, Coef_HPHy_ud[1, 0], Coef_HPHy_ud[4, 0]]\n",
    "    ])"
   ]
  },
  {
   "cell_type": "code",
   "execution_count": 20,
   "id": "78726157ca972bf2",
   "metadata": {
    "ExecuteTime": {
     "end_time": "2024-06-06T04:23:26.235545Z",
     "start_time": "2024-06-06T04:23:26.161986Z"
    }
   },
   "outputs": [],
   "source": [
    "######################################################################\n",
    "# down-up couplings\n",
    "Hberg = W1 * sp.Transpose(V1) + W2 * sp.Transpose(V2) + W3 * sp.Transpose(V3)\n",
    "\n",
    "IsingXX = W1 * sp.Transpose(V1)\n",
    "IsingYY = W2 * sp.Transpose(V2)\n",
    "IsingZZ = W3 * sp.Transpose(V3)\n",
    "\n",
    "XY = W1 * sp.Transpose(V2)\n",
    "XZ = W1 * sp.Transpose(V3)\n",
    "YX = W2 * sp.Transpose(V1)\n",
    "YZ = W2 * sp.Transpose(V3)\n",
    "ZX = W3 * sp.Transpose(V1)\n",
    "ZY = W3 * sp.Transpose(V2)\n",
    "\n",
    "Hy = 2 * K * IsingYY + J * Hberg + Gamma * (XZ + ZX) + gamma * (YZ + YX + ZY + XY)\n",
    "HPHy = sp.Integer(0)\n",
    "\n",
    "i = 0\n",
    "while i < 3:\n",
    "    j = 0\n",
    "    while j < 3:\n",
    "        HPHy = HPHy + Hy[i, j] * HPbosons[i, j]\n",
    "        j += 1\n",
    "    i += 1\n",
    "\n",
    "HPHy = HPHy.expand()\n",
    "\n",
    "Coef_HPHy = sp.Matrix([o, o, o, o, o, o])\n",
    "Coef_HPHy[0, 0] = HPHy.coeff(e)\n",
    "Coef_HPHy[1, 0] = HPHy.coeff(f)\n",
    "Coef_HPHy[2, 0] = HPHy.coeff(g)\n",
    "Coef_HPHy[3, 0] = HPHy.coeff(h)\n",
    "Coef_HPHy[4, 0] = HPHy.coeff(n_i)\n",
    "Coef_HPHy[5, 0] = HPHy.coeff(n_j)\n",
    "\n",
    "Mat_Coef_HPHy_du = sp.Matrix([\n",
    "    [Coef_HPHy[4, 0], Coef_HPHy[2, 0], o, Coef_HPHy[3, 0]],\n",
    "    [Coef_HPHy[1, 0], Coef_HPHy[5, 0], Coef_HPHy[3, 0], o],\n",
    "    [o, Coef_HPHy[0, 0], Coef_HPHy[5, 0], Coef_HPHy[2, 0]],\n",
    "    [Coef_HPHy[0, 0], o, Coef_HPHy[1, 0], Coef_HPHy[4, 0]]\n",
    "    ])"
   ]
  },
  {
   "cell_type": "code",
   "execution_count": 21,
   "id": "a901ce87b99d2233",
   "metadata": {
    "ExecuteTime": {
     "end_time": "2024-06-06T04:23:27.671359Z",
     "start_time": "2024-06-06T04:23:27.636505Z"
    }
   },
   "outputs": [],
   "source": [
    "#####################################################################\n",
    "Hlsw = sp.zeros(8, 8)\n",
    "\n",
    "    # Fourier transform\n",
    "deltaX = a / sp.sqrt(3) * sp.Matrix([-sp.sqrt(3) / 2, 1 / sp.Integer(2)])\n",
    "deltaY = a / sp.sqrt(3) * sp.Matrix([sp.Integer(0), sp.Integer(-1)])\n",
    "deltaZ = a / sp.sqrt(3) * sp.Matrix([sp.sqrt(3) / 2, 1 / sp.Integer(2)])\n",
    "\n",
    "global k1\n",
    "global k2\n",
    "\n",
    "k1 = sp.Symbol(\"k1\", real=True)\n",
    "k2 = sp.Symbol(\"k2\", real=True)\n",
    "k = sp.Matrix([k1, k2])\n",
    "\n",
    "sx = sp.exp(I * k.dot(deltaX))\n",
    "sy = sp.exp(I * k.dot(deltaY))\n",
    "sz = sp.exp(I * k.dot(deltaZ))\n",
    "tx = sp.exp(-I * k.dot(deltaX))\n",
    "ty = sp.exp(-I * k.dot(deltaY))\n",
    "tz = sp.exp(-I * k.dot(deltaZ))\n",
    "\n",
    "FT_Coef_X = sp.Matrix([[ii, sx, o, sx], [tx, ii, tx, o], [o, sx, ii, sx], [tx, o,\n",
    "                                                                               tx, ii]])\n",
    "FT_Coef_Y = sp.Matrix([[ii, sy, o, sy], [ty, ii, ty, o], [o, sy, ii, sy], [ty, o,\n",
    "                                                                               ty, ii]])\n",
    "FT_Coef_Z = sp.Matrix([[ii, sz, o, sz], [tz, ii, tz, o], [o, sz, ii, sz], [tz, o,\n",
    "                                                                               tz, ii]])\n"
   ]
  },
  {
   "cell_type": "code",
   "execution_count": 22,
   "id": "baef4f3340901d28",
   "metadata": {
    "ExecuteTime": {
     "end_time": "2024-06-06T04:23:29.235709Z",
     "start_time": "2024-06-06T04:23:29.207288Z"
    }
   },
   "outputs": [
    {
     "data": {
      "text/latex": [
       "$\\displaystyle \\left[\\begin{matrix}- J & \\left(J + K\\right) e^{i \\left(- \\frac{a k_{1}}{2} + \\frac{\\sqrt{3} a k_{2}}{6}\\right)} & 0 & \\left(K + i Γ'\\right) e^{i \\left(- \\frac{a k_{1}}{2} + \\frac{\\sqrt{3} a k_{2}}{6}\\right)}\\\\\\left(J + K\\right) e^{- i \\left(- \\frac{a k_{1}}{2} + \\frac{\\sqrt{3} a k_{2}}{6}\\right)} & - J & \\left(K + i Γ'\\right) e^{- i \\left(- \\frac{a k_{1}}{2} + \\frac{\\sqrt{3} a k_{2}}{6}\\right)} & 0\\\\0 & \\left(K - i Γ'\\right) e^{i \\left(- \\frac{a k_{1}}{2} + \\frac{\\sqrt{3} a k_{2}}{6}\\right)} & - J & \\left(J + K\\right) e^{i \\left(- \\frac{a k_{1}}{2} + \\frac{\\sqrt{3} a k_{2}}{6}\\right)}\\\\\\left(K - i Γ'\\right) e^{- i \\left(- \\frac{a k_{1}}{2} + \\frac{\\sqrt{3} a k_{2}}{6}\\right)} & 0 & \\left(J + K\\right) e^{- i \\left(- \\frac{a k_{1}}{2} + \\frac{\\sqrt{3} a k_{2}}{6}\\right)} & - J\\end{matrix}\\right]$"
      ],
      "text/plain": [
       "Matrix([\n",
       "[                                           -J,    (J + K)*exp(I*(-a*k1/2 + sqrt(3)*a*k2/6)),                                             0, (K + I*Γ')*exp(I*(-a*k1/2 + sqrt(3)*a*k2/6))],\n",
       "[   (J + K)*exp(-I*(-a*k1/2 + sqrt(3)*a*k2/6)),                                           -J, (K + I*Γ')*exp(-I*(-a*k1/2 + sqrt(3)*a*k2/6)),                                            0],\n",
       "[                                            0, (K - I*Γ')*exp(I*(-a*k1/2 + sqrt(3)*a*k2/6)),                                            -J,    (J + K)*exp(I*(-a*k1/2 + sqrt(3)*a*k2/6))],\n",
       "[(K - I*Γ')*exp(-I*(-a*k1/2 + sqrt(3)*a*k2/6)),                                            0,    (J + K)*exp(-I*(-a*k1/2 + sqrt(3)*a*k2/6)),                                           -J]])"
      ]
     },
     "execution_count": 22,
     "metadata": {},
     "output_type": "execute_result"
    }
   ],
   "source": [
    "# x bonds:\n",
    "\n",
    "# up-up x bonds\n",
    "HlswTwoSub = sp.Matrix([[o, o, o, o], [o, o, o, o], [o, o, o, o], [o, o, o, o]])\n",
    "\n",
    "i = 0\n",
    "while i < 4:\n",
    "    j = 0\n",
    "    while j < 4:\n",
    "        HlswTwoSub[i, j] = Mat_Coef_HPHx_uu[i, j] * FT_Coef_X[i, j]\n",
    "        j += 1\n",
    "    i += 1\n",
    "\n",
    "distri224(Hlsw, HlswTwoSub, 1, 0)\n",
    "HlswTwoSub"
   ]
  },
  {
   "cell_type": "code",
   "execution_count": 23,
   "id": "8b6e36c001645562",
   "metadata": {
    "ExecuteTime": {
     "end_time": "2024-06-06T04:23:50.814001Z",
     "start_time": "2024-06-06T04:23:50.721974Z"
    },
    "scrolled": true
   },
   "outputs": [
    {
     "data": {
      "text/latex": [
       "$\\displaystyle \\left[\\begin{matrix}- 1.0 J - 2.99951956532372 \\cdot 10^{-32} K + 2.44929359829471 \\cdot 10^{-16} Γ' & \\left(1.0 J + 1.0 K + 1.22464679914735 \\cdot 10^{-16} Γ'\\right) e^{i \\left(- \\frac{a k_{1}}{2} + \\frac{\\sqrt{3} a k_{2}}{6}\\right)} & 0 & \\left(1.0 K - 1.22464679914735 \\cdot 10^{-16} i Γ + 1.22464679914735 \\cdot 10^{-16} Γ' - 1.0 i Γ'\\right) e^{i \\left(- \\frac{a k_{1}}{2} + \\frac{\\sqrt{3} a k_{2}}{6}\\right)}\\\\\\left(1.0 J + 1.0 K + 1.22464679914735 \\cdot 10^{-16} Γ'\\right) e^{- i \\left(- \\frac{a k_{1}}{2} + \\frac{\\sqrt{3} a k_{2}}{6}\\right)} & - 1.0 J - 2.99951956532372 \\cdot 10^{-32} K + 2.44929359829471 \\cdot 10^{-16} Γ' & \\left(1.0 K - 1.22464679914735 \\cdot 10^{-16} i Γ + 1.22464679914735 \\cdot 10^{-16} Γ' - 1.0 i Γ'\\right) e^{- i \\left(- \\frac{a k_{1}}{2} + \\frac{\\sqrt{3} a k_{2}}{6}\\right)} & 0\\\\0 & \\left(1.0 K + 1.22464679914735 \\cdot 10^{-16} i Γ + 1.22464679914735 \\cdot 10^{-16} Γ' + 1.0 i Γ'\\right) e^{i \\left(- \\frac{a k_{1}}{2} + \\frac{\\sqrt{3} a k_{2}}{6}\\right)} & - 1.0 J - 2.99951956532372 \\cdot 10^{-32} K + 2.44929359829471 \\cdot 10^{-16} Γ' & \\left(1.0 J + 1.0 K + 1.22464679914735 \\cdot 10^{-16} Γ'\\right) e^{i \\left(- \\frac{a k_{1}}{2} + \\frac{\\sqrt{3} a k_{2}}{6}\\right)}\\\\\\left(1.0 K + 1.22464679914735 \\cdot 10^{-16} i Γ + 1.22464679914735 \\cdot 10^{-16} Γ' + 1.0 i Γ'\\right) e^{- i \\left(- \\frac{a k_{1}}{2} + \\frac{\\sqrt{3} a k_{2}}{6}\\right)} & 0 & \\left(1.0 J + 1.0 K + 1.22464679914735 \\cdot 10^{-16} Γ'\\right) e^{- i \\left(- \\frac{a k_{1}}{2} + \\frac{\\sqrt{3} a k_{2}}{6}\\right)} & - 1.0 J - 2.99951956532372 \\cdot 10^{-32} K + 2.44929359829471 \\cdot 10^{-16} Γ'\\end{matrix}\\right]$"
      ],
      "text/plain": [
       "Matrix([\n",
       "[                                                 -1.0*J - 2.99951956532372e-32*K + 2.44929359829471e-16*Γ',                               (1.0*J + 1.0*K + 1.22464679914735e-16*Γ')*exp(I*(-a*k1/2 + sqrt(3)*a*k2/6)),                                                                                                          0, (1.0*K - 1.22464679914735e-16*I*Γ + 1.22464679914735e-16*Γ' - 1.0*I*Γ')*exp(I*(-a*k1/2 + sqrt(3)*a*k2/6))],\n",
       "[                              (1.0*J + 1.0*K + 1.22464679914735e-16*Γ')*exp(-I*(-a*k1/2 + sqrt(3)*a*k2/6)),                                                 -1.0*J - 2.99951956532372e-32*K + 2.44929359829471e-16*Γ', (1.0*K - 1.22464679914735e-16*I*Γ + 1.22464679914735e-16*Γ' - 1.0*I*Γ')*exp(-I*(-a*k1/2 + sqrt(3)*a*k2/6)),                                                                                                         0],\n",
       "[                                                                                                         0, (1.0*K + 1.22464679914735e-16*I*Γ + 1.22464679914735e-16*Γ' + 1.0*I*Γ')*exp(I*(-a*k1/2 + sqrt(3)*a*k2/6)),                                                  -1.0*J - 2.99951956532372e-32*K + 2.44929359829471e-16*Γ',                               (1.0*J + 1.0*K + 1.22464679914735e-16*Γ')*exp(I*(-a*k1/2 + sqrt(3)*a*k2/6))],\n",
       "[(1.0*K + 1.22464679914735e-16*I*Γ + 1.22464679914735e-16*Γ' + 1.0*I*Γ')*exp(-I*(-a*k1/2 + sqrt(3)*a*k2/6)),                                                                                                         0,                               (1.0*J + 1.0*K + 1.22464679914735e-16*Γ')*exp(-I*(-a*k1/2 + sqrt(3)*a*k2/6)),                                                 -1.0*J - 2.99951956532372e-32*K + 2.44929359829471e-16*Γ']])"
      ]
     },
     "execution_count": 23,
     "metadata": {},
     "output_type": "execute_result"
    }
   ],
   "source": [
    "HlswTwoSub = sp.Matrix([[o, o, o, o], [o, o, o, o], [o, o, o, o], [o, o, o, o]])\n",
    "\n",
    "# down-down x bonds\n",
    "i = 0\n",
    "while i < 4:\n",
    "    j = 0\n",
    "    while j < 4:\n",
    "        HlswTwoSub[i, j] = Mat_Coef_HPHx_dd[i, j] * FT_Coef_X[i, j]\n",
    "        j += 1\n",
    "    i += 1\n",
    "\n",
    "distri224(Hlsw, HlswTwoSub, 3, 2)\n",
    "HlswTwoSub"
   ]
  },
  {
   "cell_type": "code",
   "execution_count": 24,
   "metadata": {
    "scrolled": false
   },
   "outputs": [],
   "source": [
    "# y bonds:\n",
    "\n",
    "# up-down y bonds\n",
    "HlswTwoSub = sp.Matrix([[o, o, o, o], [o, o, o, o], [o, o, o, o], [o, o, o, o]])\n",
    "\n",
    "i = 0\n",
    "while i < 4:\n",
    "    j = 0\n",
    "    while j < 4:\n",
    "        HlswTwoSub[i, j] = Mat_Coef_HPHy_ud[i, j] * FT_Coef_Y[i, j]\n",
    "        j += 1\n",
    "    i += 1\n",
    "\n",
    "distri224(Hlsw, HlswTwoSub, 1, 2)\n",
    "\n"
   ]
  },
  {
   "cell_type": "code",
   "execution_count": 25,
   "metadata": {},
   "outputs": [
    {
     "data": {
      "text/latex": [
       "$\\displaystyle \\left[\\begin{matrix}1.0 J - 1.22464679914735 \\cdot 10^{-16} Γ & \\left(- 1.0 K + 6.12323399573677 \\cdot 10^{-17} Γ - 1.0 i Γ'\\right) e^{- \\frac{\\sqrt{3} i a k_{2}}{3}} & 0 & \\left(1.0 J + 1.0 K + 6.12323399573677 \\cdot 10^{-17} Γ + 1.11022302462516 \\cdot 10^{-16} i Γ'\\right) e^{- \\frac{\\sqrt{3} i a k_{2}}{3}}\\\\\\left(- 1.0 K + 6.12323399573677 \\cdot 10^{-17} Γ + 1.0 i Γ'\\right) e^{\\frac{\\sqrt{3} i a k_{2}}{3}} & 1.0 J - 1.22464679914735 \\cdot 10^{-16} Γ & \\left(1.0 J + 1.0 K + 6.12323399573677 \\cdot 10^{-17} Γ + 1.11022302462516 \\cdot 10^{-16} i Γ'\\right) e^{\\frac{\\sqrt{3} i a k_{2}}{3}} & 0\\\\0 & \\left(1.0 J + 1.0 K + 6.12323399573677 \\cdot 10^{-17} Γ - 1.11022302462516 \\cdot 10^{-16} i Γ'\\right) e^{- \\frac{\\sqrt{3} i a k_{2}}{3}} & 1.0 J - 1.22464679914735 \\cdot 10^{-16} Γ & \\left(- 1.0 K + 6.12323399573677 \\cdot 10^{-17} Γ - 1.0 i Γ'\\right) e^{- \\frac{\\sqrt{3} i a k_{2}}{3}}\\\\\\left(1.0 J + 1.0 K + 6.12323399573677 \\cdot 10^{-17} Γ - 1.11022302462516 \\cdot 10^{-16} i Γ'\\right) e^{\\frac{\\sqrt{3} i a k_{2}}{3}} & 0 & \\left(- 1.0 K + 6.12323399573677 \\cdot 10^{-17} Γ + 1.0 i Γ'\\right) e^{\\frac{\\sqrt{3} i a k_{2}}{3}} & 1.0 J - 1.22464679914735 \\cdot 10^{-16} Γ\\end{matrix}\\right]$"
      ],
      "text/plain": [
       "Matrix([\n",
       "[                                                            1.0*J - 1.22464679914735e-16*Γ,                         (-1.0*K + 6.12323399573677e-17*Γ - 1.0*I*Γ')*exp(-sqrt(3)*I*a*k2/3),                                                                                          0, (1.0*J + 1.0*K + 6.12323399573677e-17*Γ + 1.11022302462516e-16*I*Γ')*exp(-sqrt(3)*I*a*k2/3)],\n",
       "[                        (-1.0*K + 6.12323399573677e-17*Γ + 1.0*I*Γ')*exp(sqrt(3)*I*a*k2/3),                                                              1.0*J - 1.22464679914735e-16*Γ, (1.0*J + 1.0*K + 6.12323399573677e-17*Γ + 1.11022302462516e-16*I*Γ')*exp(sqrt(3)*I*a*k2/3),                                                                                           0],\n",
       "[                                                                                         0, (1.0*J + 1.0*K + 6.12323399573677e-17*Γ - 1.11022302462516e-16*I*Γ')*exp(-sqrt(3)*I*a*k2/3),                                                             1.0*J - 1.22464679914735e-16*Γ,                         (-1.0*K + 6.12323399573677e-17*Γ - 1.0*I*Γ')*exp(-sqrt(3)*I*a*k2/3)],\n",
       "[(1.0*J + 1.0*K + 6.12323399573677e-17*Γ - 1.11022302462516e-16*I*Γ')*exp(sqrt(3)*I*a*k2/3),                                                                                           0,                         (-1.0*K + 6.12323399573677e-17*Γ + 1.0*I*Γ')*exp(sqrt(3)*I*a*k2/3),                                                              1.0*J - 1.22464679914735e-16*Γ]])"
      ]
     },
     "execution_count": 25,
     "metadata": {},
     "output_type": "execute_result"
    }
   ],
   "source": [
    "# down-up y bonds\n",
    "HlswTwoSub = sp.Matrix([[o, o, o, o], [o, o, o, o], [o, o, o, o], [o, o, o, o]])\n",
    "\n",
    "i = 0\n",
    "while i < 4:\n",
    "    j = 0\n",
    "    while j < 4:\n",
    "        HlswTwoSub[i, j] = Mat_Coef_HPHy_du[i, j] * FT_Coef_Y[i, j]\n",
    "        j += 1\n",
    "    i += 1\n",
    "\n",
    "distri224(Hlsw, HlswTwoSub, 3, 0)\n",
    "HlswTwoSub"
   ]
  },
  {
   "cell_type": "code",
   "execution_count": 26,
   "metadata": {},
   "outputs": [
    {
     "data": {
      "text/latex": [
       "$\\displaystyle \\left[\\begin{matrix}- J - 2 K & J e^{i \\left(\\frac{a k_{1}}{2} + \\frac{\\sqrt{3} a k_{2}}{6}\\right)} & 0 & i Γ e^{i \\left(\\frac{a k_{1}}{2} + \\frac{\\sqrt{3} a k_{2}}{6}\\right)}\\\\J e^{- i \\left(\\frac{a k_{1}}{2} + \\frac{\\sqrt{3} a k_{2}}{6}\\right)} & - J - 2 K & i Γ e^{- i \\left(\\frac{a k_{1}}{2} + \\frac{\\sqrt{3} a k_{2}}{6}\\right)} & 0\\\\0 & - i Γ e^{i \\left(\\frac{a k_{1}}{2} + \\frac{\\sqrt{3} a k_{2}}{6}\\right)} & - J - 2 K & J e^{i \\left(\\frac{a k_{1}}{2} + \\frac{\\sqrt{3} a k_{2}}{6}\\right)}\\\\- i Γ e^{- i \\left(\\frac{a k_{1}}{2} + \\frac{\\sqrt{3} a k_{2}}{6}\\right)} & 0 & J e^{- i \\left(\\frac{a k_{1}}{2} + \\frac{\\sqrt{3} a k_{2}}{6}\\right)} & - J - 2 K\\end{matrix}\\right]$"
      ],
      "text/plain": [
       "Matrix([\n",
       "[                              -J - 2*K,    J*exp(I*(a*k1/2 + sqrt(3)*a*k2/6)),                                     0, I*Γ*exp(I*(a*k1/2 + sqrt(3)*a*k2/6))],\n",
       "[   J*exp(-I*(a*k1/2 + sqrt(3)*a*k2/6)),                              -J - 2*K, I*Γ*exp(-I*(a*k1/2 + sqrt(3)*a*k2/6)),                                    0],\n",
       "[                                     0, -I*Γ*exp(I*(a*k1/2 + sqrt(3)*a*k2/6)),                              -J - 2*K,   J*exp(I*(a*k1/2 + sqrt(3)*a*k2/6))],\n",
       "[-I*Γ*exp(-I*(a*k1/2 + sqrt(3)*a*k2/6)),                                     0,   J*exp(-I*(a*k1/2 + sqrt(3)*a*k2/6)),                             -J - 2*K]])"
      ]
     },
     "execution_count": 26,
     "metadata": {},
     "output_type": "execute_result"
    }
   ],
   "source": [
    "# z bonds:\n",
    "\n",
    "# up-up z bonds\n",
    "HlswTwoSub = sp.Matrix([[o, o, o, o], [o, o, o, o], [o, o, o, o], [o, o, o, o]])\n",
    "\n",
    "i = 0\n",
    "while i < 4:\n",
    "    j = 0\n",
    "    while j < 4:\n",
    "        HlswTwoSub[i, j] = Mat_Coef_HPHz_uu[i, j] * FT_Coef_Z[i, j]\n",
    "        j += 1\n",
    "    i += 1\n",
    "\n",
    "distri224(Hlsw, HlswTwoSub, 1, 0)\n",
    "HlswTwoSub\n"
   ]
  },
  {
   "cell_type": "code",
   "execution_count": 27,
   "metadata": {},
   "outputs": [],
   "source": [
    "# down-down z bonds\n",
    "HlswTwoSub = sp.Matrix([[o, o, o, o], [o, o, o, o], [o, o, o, o], [o, o, o, o]])\n",
    "\n",
    "i = 0\n",
    "while i < 4:\n",
    "    j = 0\n",
    "    while j < 4:\n",
    "        HlswTwoSub[i, j] = Mat_Coef_HPHz_dd[i, j] * FT_Coef_Z[i, j]\n",
    "        j += 1\n",
    "    i += 1\n",
    "\n",
    "distri224(Hlsw, HlswTwoSub, 3, 2)"
   ]
  },
  {
   "cell_type": "code",
   "execution_count": 28,
   "metadata": {},
   "outputs": [
    {
     "data": {
      "text/latex": [
       "$\\displaystyle \\left[\\begin{matrix}- 1.0 J - 2.0 K + 2.44929359829471 \\cdot 10^{-16} Γ' & \\left(1.0 J + 1.49975978266186 \\cdot 10^{-32} K + 1.22464679914735 \\cdot 10^{-16} Γ'\\right) e^{i \\left(\\frac{a k_{1}}{2} + \\frac{\\sqrt{3} a k_{2}}{6}\\right)} & 0 & \\left(1.49975978266186 \\cdot 10^{-32} K - 1.0 i Γ + 1.22464679914735 \\cdot 10^{-16} Γ' - 1.22464679914735 \\cdot 10^{-16} i Γ'\\right) e^{i \\left(\\frac{a k_{1}}{2} + \\frac{\\sqrt{3} a k_{2}}{6}\\right)}\\\\\\left(1.0 J + 1.49975978266186 \\cdot 10^{-32} K + 1.22464679914735 \\cdot 10^{-16} Γ'\\right) e^{- i \\left(\\frac{a k_{1}}{2} + \\frac{\\sqrt{3} a k_{2}}{6}\\right)} & - 1.0 J - 2.0 K + 2.44929359829471 \\cdot 10^{-16} Γ' & \\left(1.49975978266186 \\cdot 10^{-32} K - 1.0 i Γ + 1.22464679914735 \\cdot 10^{-16} Γ' - 1.22464679914735 \\cdot 10^{-16} i Γ'\\right) e^{- i \\left(\\frac{a k_{1}}{2} + \\frac{\\sqrt{3} a k_{2}}{6}\\right)} & 0\\\\0 & \\left(1.49975978266186 \\cdot 10^{-32} K + 1.0 i Γ + 1.22464679914735 \\cdot 10^{-16} Γ' + 1.22464679914735 \\cdot 10^{-16} i Γ'\\right) e^{i \\left(\\frac{a k_{1}}{2} + \\frac{\\sqrt{3} a k_{2}}{6}\\right)} & - 1.0 J - 2.0 K + 2.44929359829471 \\cdot 10^{-16} Γ' & \\left(1.0 J + 1.49975978266186 \\cdot 10^{-32} K + 1.22464679914735 \\cdot 10^{-16} Γ'\\right) e^{i \\left(\\frac{a k_{1}}{2} + \\frac{\\sqrt{3} a k_{2}}{6}\\right)}\\\\\\left(1.49975978266186 \\cdot 10^{-32} K + 1.0 i Γ + 1.22464679914735 \\cdot 10^{-16} Γ' + 1.22464679914735 \\cdot 10^{-16} i Γ'\\right) e^{- i \\left(\\frac{a k_{1}}{2} + \\frac{\\sqrt{3} a k_{2}}{6}\\right)} & 0 & \\left(1.0 J + 1.49975978266186 \\cdot 10^{-32} K + 1.22464679914735 \\cdot 10^{-16} Γ'\\right) e^{- i \\left(\\frac{a k_{1}}{2} + \\frac{\\sqrt{3} a k_{2}}{6}\\right)} & - 1.0 J - 2.0 K + 2.44929359829471 \\cdot 10^{-16} Γ'\\end{matrix}\\right]$"
      ],
      "text/plain": [
       "Matrix([\n",
       "[                                                                                  -1.0*J - 2.0*K + 2.44929359829471e-16*Γ',                               (1.0*J + 1.49975978266186e-32*K + 1.22464679914735e-16*Γ')*exp(I*(a*k1/2 + sqrt(3)*a*k2/6)),                                                                                                                          0, (1.49975978266186e-32*K - 1.0*I*Γ + 1.22464679914735e-16*Γ' - 1.22464679914735e-16*I*Γ')*exp(I*(a*k1/2 + sqrt(3)*a*k2/6))],\n",
       "[                              (1.0*J + 1.49975978266186e-32*K + 1.22464679914735e-16*Γ')*exp(-I*(a*k1/2 + sqrt(3)*a*k2/6)),                                                                                  -1.0*J - 2.0*K + 2.44929359829471e-16*Γ', (1.49975978266186e-32*K - 1.0*I*Γ + 1.22464679914735e-16*Γ' - 1.22464679914735e-16*I*Γ')*exp(-I*(a*k1/2 + sqrt(3)*a*k2/6)),                                                                                                                         0],\n",
       "[                                                                                                                         0, (1.49975978266186e-32*K + 1.0*I*Γ + 1.22464679914735e-16*Γ' + 1.22464679914735e-16*I*Γ')*exp(I*(a*k1/2 + sqrt(3)*a*k2/6)),                                                                                   -1.0*J - 2.0*K + 2.44929359829471e-16*Γ',                               (1.0*J + 1.49975978266186e-32*K + 1.22464679914735e-16*Γ')*exp(I*(a*k1/2 + sqrt(3)*a*k2/6))],\n",
       "[(1.49975978266186e-32*K + 1.0*I*Γ + 1.22464679914735e-16*Γ' + 1.22464679914735e-16*I*Γ')*exp(-I*(a*k1/2 + sqrt(3)*a*k2/6)),                                                                                                                         0,                               (1.0*J + 1.49975978266186e-32*K + 1.22464679914735e-16*Γ')*exp(-I*(a*k1/2 + sqrt(3)*a*k2/6)),                                                                                  -1.0*J - 2.0*K + 2.44929359829471e-16*Γ']])"
      ]
     },
     "execution_count": 28,
     "metadata": {},
     "output_type": "execute_result"
    }
   ],
   "source": [
    "HlswTwoSub"
   ]
  },
  {
   "cell_type": "code",
   "execution_count": 29,
   "metadata": {},
   "outputs": [],
   "source": [
    "##########################################################\n",
    "# After using magnon transformation\n",
    "magfield = 1/2 * h * sp.diag(1, 1, -1, -1, 1, 1, -1, -1)\n",
    "    # Assemble\n",
    "Hlsw = 1 / 2 * Hlsw + magfield"
   ]
  },
  {
   "cell_type": "code",
   "execution_count": 30,
   "metadata": {},
   "outputs": [
    {
     "data": {
      "text/latex": [
       "$\\displaystyle \\left[\\begin{matrix}- 0.5 J - 1.0 K + 0.5 h - 6.12323399573677 \\cdot 10^{-17} Γ & 0.5 J e^{- i \\left(\\frac{a k_{1}}{2} + \\frac{\\sqrt{3} a k_{2}}{6}\\right)} + 0.5 \\left(J + K\\right) e^{- i \\left(- \\frac{a k_{1}}{2} + \\frac{\\sqrt{3} a k_{2}}{6}\\right)} & 0 & 0.5 \\left(- 1.0 K + 6.12323399573677 \\cdot 10^{-17} Γ + 1.0 i Γ'\\right) e^{\\frac{\\sqrt{3} i a k_{2}}{3}} & 0 & 0.5 i Γ e^{- i \\left(\\frac{a k_{1}}{2} + \\frac{\\sqrt{3} a k_{2}}{6}\\right)} + 0.5 \\left(K + i Γ'\\right) e^{- i \\left(- \\frac{a k_{1}}{2} + \\frac{\\sqrt{3} a k_{2}}{6}\\right)} & 0 & 0.5 \\cdot \\left(1.0 J + 1.0 K + 6.12323399573677 \\cdot 10^{-17} Γ + 1.11022302462516 \\cdot 10^{-16} i Γ'\\right) e^{\\frac{\\sqrt{3} i a k_{2}}{3}}\\\\0.5 J e^{i \\left(\\frac{a k_{1}}{2} + \\frac{\\sqrt{3} a k_{2}}{6}\\right)} + 0.5 \\left(J + K\\right) e^{i \\left(- \\frac{a k_{1}}{2} + \\frac{\\sqrt{3} a k_{2}}{6}\\right)} & - 0.5 J - 1.0 K + 0.5 h - 6.12323399573677 \\cdot 10^{-17} Γ & 0.5 \\left(- 1.0 K + 6.12323399573677 \\cdot 10^{-17} Γ + 1.0 i Γ'\\right) e^{- \\frac{\\sqrt{3} i a k_{2}}{3}} & 0 & 0.5 i Γ e^{i \\left(\\frac{a k_{1}}{2} + \\frac{\\sqrt{3} a k_{2}}{6}\\right)} + 0.5 \\left(K + i Γ'\\right) e^{i \\left(- \\frac{a k_{1}}{2} + \\frac{\\sqrt{3} a k_{2}}{6}\\right)} & 0 & 0.5 \\cdot \\left(1.0 J + 1.0 K + 6.12323399573677 \\cdot 10^{-17} Γ + 1.11022302462516 \\cdot 10^{-16} i Γ'\\right) e^{- \\frac{\\sqrt{3} i a k_{2}}{3}} & 0\\\\0 & 0.5 \\left(- 1.0 K + 6.12323399573677 \\cdot 10^{-17} Γ - 1.0 i Γ'\\right) e^{\\frac{\\sqrt{3} i a k_{2}}{3}} & - 0.5 J - 1.0 K - 0.5 h - 6.12323399573677 \\cdot 10^{-17} Γ + 2.44929359829471 \\cdot 10^{-16} Γ' & 0.5 \\cdot \\left(1.0 J + 1.49975978266186 \\cdot 10^{-32} K + 1.22464679914735 \\cdot 10^{-16} Γ'\\right) e^{- i \\left(\\frac{a k_{1}}{2} + \\frac{\\sqrt{3} a k_{2}}{6}\\right)} + 0.5 \\cdot \\left(1.0 J + 1.0 K + 1.22464679914735 \\cdot 10^{-16} Γ'\\right) e^{- i \\left(- \\frac{a k_{1}}{2} + \\frac{\\sqrt{3} a k_{2}}{6}\\right)} & 0 & 0.5 \\cdot \\left(1.0 J + 1.0 K + 6.12323399573677 \\cdot 10^{-17} Γ + 1.11022302462516 \\cdot 10^{-16} i Γ'\\right) e^{\\frac{\\sqrt{3} i a k_{2}}{3}} & 0 & 0.5 \\cdot \\left(1.49975978266186 \\cdot 10^{-32} K - 1.0 i Γ + 1.22464679914735 \\cdot 10^{-16} Γ' - 1.22464679914735 \\cdot 10^{-16} i Γ'\\right) e^{- i \\left(\\frac{a k_{1}}{2} + \\frac{\\sqrt{3} a k_{2}}{6}\\right)} + 0.5 \\cdot \\left(1.0 K - 1.22464679914735 \\cdot 10^{-16} i Γ + 1.22464679914735 \\cdot 10^{-16} Γ' - 1.0 i Γ'\\right) e^{- i \\left(- \\frac{a k_{1}}{2} + \\frac{\\sqrt{3} a k_{2}}{6}\\right)}\\\\0.5 \\left(- 1.0 K + 6.12323399573677 \\cdot 10^{-17} Γ - 1.0 i Γ'\\right) e^{- \\frac{\\sqrt{3} i a k_{2}}{3}} & 0 & 0.5 \\cdot \\left(1.0 J + 1.49975978266186 \\cdot 10^{-32} K + 1.22464679914735 \\cdot 10^{-16} Γ'\\right) e^{i \\left(\\frac{a k_{1}}{2} + \\frac{\\sqrt{3} a k_{2}}{6}\\right)} + 0.5 \\cdot \\left(1.0 J + 1.0 K + 1.22464679914735 \\cdot 10^{-16} Γ'\\right) e^{i \\left(- \\frac{a k_{1}}{2} + \\frac{\\sqrt{3} a k_{2}}{6}\\right)} & - 0.5 J - 1.0 K - 0.5 h - 6.12323399573677 \\cdot 10^{-17} Γ + 2.44929359829471 \\cdot 10^{-16} Γ' & 0.5 \\cdot \\left(1.0 J + 1.0 K + 6.12323399573677 \\cdot 10^{-17} Γ + 1.11022302462516 \\cdot 10^{-16} i Γ'\\right) e^{- \\frac{\\sqrt{3} i a k_{2}}{3}} & 0 & 0.5 \\cdot \\left(1.49975978266186 \\cdot 10^{-32} K - 1.0 i Γ + 1.22464679914735 \\cdot 10^{-16} Γ' - 1.22464679914735 \\cdot 10^{-16} i Γ'\\right) e^{i \\left(\\frac{a k_{1}}{2} + \\frac{\\sqrt{3} a k_{2}}{6}\\right)} + 0.5 \\cdot \\left(1.0 K - 1.22464679914735 \\cdot 10^{-16} i Γ + 1.22464679914735 \\cdot 10^{-16} Γ' - 1.0 i Γ'\\right) e^{i \\left(- \\frac{a k_{1}}{2} + \\frac{\\sqrt{3} a k_{2}}{6}\\right)} & 0\\\\0 & - 0.5 i Γ e^{- i \\left(\\frac{a k_{1}}{2} + \\frac{\\sqrt{3} a k_{2}}{6}\\right)} + 0.5 \\left(K - i Γ'\\right) e^{- i \\left(- \\frac{a k_{1}}{2} + \\frac{\\sqrt{3} a k_{2}}{6}\\right)} & 0 & 0.5 \\cdot \\left(1.0 J + 1.0 K + 6.12323399573677 \\cdot 10^{-17} Γ - 1.11022302462516 \\cdot 10^{-16} i Γ'\\right) e^{\\frac{\\sqrt{3} i a k_{2}}{3}} & - 0.5 J - 1.0 K + 0.5 h - 6.12323399573677 \\cdot 10^{-17} Γ & 0.5 J e^{- i \\left(\\frac{a k_{1}}{2} + \\frac{\\sqrt{3} a k_{2}}{6}\\right)} + 0.5 \\left(J + K\\right) e^{- i \\left(- \\frac{a k_{1}}{2} + \\frac{\\sqrt{3} a k_{2}}{6}\\right)} & 0 & 0.5 \\left(- 1.0 K + 6.12323399573677 \\cdot 10^{-17} Γ + 1.0 i Γ'\\right) e^{\\frac{\\sqrt{3} i a k_{2}}{3}}\\\\- 0.5 i Γ e^{i \\left(\\frac{a k_{1}}{2} + \\frac{\\sqrt{3} a k_{2}}{6}\\right)} + 0.5 \\left(K - i Γ'\\right) e^{i \\left(- \\frac{a k_{1}}{2} + \\frac{\\sqrt{3} a k_{2}}{6}\\right)} & 0 & 0.5 \\cdot \\left(1.0 J + 1.0 K + 6.12323399573677 \\cdot 10^{-17} Γ - 1.11022302462516 \\cdot 10^{-16} i Γ'\\right) e^{- \\frac{\\sqrt{3} i a k_{2}}{3}} & 0 & 0.5 J e^{i \\left(\\frac{a k_{1}}{2} + \\frac{\\sqrt{3} a k_{2}}{6}\\right)} + 0.5 \\left(J + K\\right) e^{i \\left(- \\frac{a k_{1}}{2} + \\frac{\\sqrt{3} a k_{2}}{6}\\right)} & - 0.5 J - 1.0 K + 0.5 h - 6.12323399573677 \\cdot 10^{-17} Γ & 0.5 \\left(- 1.0 K + 6.12323399573677 \\cdot 10^{-17} Γ + 1.0 i Γ'\\right) e^{- \\frac{\\sqrt{3} i a k_{2}}{3}} & 0\\\\0 & 0.5 \\cdot \\left(1.0 J + 1.0 K + 6.12323399573677 \\cdot 10^{-17} Γ - 1.11022302462516 \\cdot 10^{-16} i Γ'\\right) e^{\\frac{\\sqrt{3} i a k_{2}}{3}} & 0 & 0.5 \\cdot \\left(1.49975978266186 \\cdot 10^{-32} K + 1.0 i Γ + 1.22464679914735 \\cdot 10^{-16} Γ' + 1.22464679914735 \\cdot 10^{-16} i Γ'\\right) e^{- i \\left(\\frac{a k_{1}}{2} + \\frac{\\sqrt{3} a k_{2}}{6}\\right)} + 0.5 \\cdot \\left(1.0 K + 1.22464679914735 \\cdot 10^{-16} i Γ + 1.22464679914735 \\cdot 10^{-16} Γ' + 1.0 i Γ'\\right) e^{- i \\left(- \\frac{a k_{1}}{2} + \\frac{\\sqrt{3} a k_{2}}{6}\\right)} & 0 & 0.5 \\left(- 1.0 K + 6.12323399573677 \\cdot 10^{-17} Γ - 1.0 i Γ'\\right) e^{\\frac{\\sqrt{3} i a k_{2}}{3}} & - 0.5 J - 1.0 K - 0.5 h - 6.12323399573677 \\cdot 10^{-17} Γ + 2.44929359829471 \\cdot 10^{-16} Γ' & 0.5 \\cdot \\left(1.0 J + 1.49975978266186 \\cdot 10^{-32} K + 1.22464679914735 \\cdot 10^{-16} Γ'\\right) e^{- i \\left(\\frac{a k_{1}}{2} + \\frac{\\sqrt{3} a k_{2}}{6}\\right)} + 0.5 \\cdot \\left(1.0 J + 1.0 K + 1.22464679914735 \\cdot 10^{-16} Γ'\\right) e^{- i \\left(- \\frac{a k_{1}}{2} + \\frac{\\sqrt{3} a k_{2}}{6}\\right)}\\\\0.5 \\cdot \\left(1.0 J + 1.0 K + 6.12323399573677 \\cdot 10^{-17} Γ - 1.11022302462516 \\cdot 10^{-16} i Γ'\\right) e^{- \\frac{\\sqrt{3} i a k_{2}}{3}} & 0 & 0.5 \\cdot \\left(1.49975978266186 \\cdot 10^{-32} K + 1.0 i Γ + 1.22464679914735 \\cdot 10^{-16} Γ' + 1.22464679914735 \\cdot 10^{-16} i Γ'\\right) e^{i \\left(\\frac{a k_{1}}{2} + \\frac{\\sqrt{3} a k_{2}}{6}\\right)} + 0.5 \\cdot \\left(1.0 K + 1.22464679914735 \\cdot 10^{-16} i Γ + 1.22464679914735 \\cdot 10^{-16} Γ' + 1.0 i Γ'\\right) e^{i \\left(- \\frac{a k_{1}}{2} + \\frac{\\sqrt{3} a k_{2}}{6}\\right)} & 0 & 0.5 \\left(- 1.0 K + 6.12323399573677 \\cdot 10^{-17} Γ - 1.0 i Γ'\\right) e^{- \\frac{\\sqrt{3} i a k_{2}}{3}} & 0 & 0.5 \\cdot \\left(1.0 J + 1.49975978266186 \\cdot 10^{-32} K + 1.22464679914735 \\cdot 10^{-16} Γ'\\right) e^{i \\left(\\frac{a k_{1}}{2} + \\frac{\\sqrt{3} a k_{2}}{6}\\right)} + 0.5 \\cdot \\left(1.0 J + 1.0 K + 1.22464679914735 \\cdot 10^{-16} Γ'\\right) e^{i \\left(- \\frac{a k_{1}}{2} + \\frac{\\sqrt{3} a k_{2}}{6}\\right)} & - 0.5 J - 1.0 K - 0.5 h - 6.12323399573677 \\cdot 10^{-17} Γ + 2.44929359829471 \\cdot 10^{-16} Γ'\\end{matrix}\\right]$"
      ],
      "text/plain": [
       "Matrix([\n",
       "[                                                -0.5*J - 1.0*K + 0.5*h - 6.12323399573677e-17*Γ,       0.5*J*exp(-I*(a*k1/2 + sqrt(3)*a*k2/6)) + 0.5*(J + K)*exp(-I*(-a*k1/2 + sqrt(3)*a*k2/6)),                                                                                                                                                                                                                                             0,                                                                                                                                                                          0.5*(-1.0*K + 6.12323399573677e-17*Γ + 1.0*I*Γ')*exp(sqrt(3)*I*a*k2/3),                                                                                               0,  0.5*I*Γ*exp(-I*(a*k1/2 + sqrt(3)*a*k2/6)) + 0.5*(K + I*Γ')*exp(-I*(-a*k1/2 + sqrt(3)*a*k2/6)),                                                                                                                                                                                                                                             0,                                                                                                                                                  0.5*(1.0*J + 1.0*K + 6.12323399573677e-17*Γ + 1.11022302462516e-16*I*Γ')*exp(sqrt(3)*I*a*k2/3)],\n",
       "[         0.5*J*exp(I*(a*k1/2 + sqrt(3)*a*k2/6)) + 0.5*(J + K)*exp(I*(-a*k1/2 + sqrt(3)*a*k2/6)),                                                -0.5*J - 1.0*K + 0.5*h - 6.12323399573677e-17*Γ,                                                                                                                                                                       0.5*(-1.0*K + 6.12323399573677e-17*Γ + 1.0*I*Γ')*exp(-sqrt(3)*I*a*k2/3),                                                                                                                                                                                                                                               0,     0.5*I*Γ*exp(I*(a*k1/2 + sqrt(3)*a*k2/6)) + 0.5*(K + I*Γ')*exp(I*(-a*k1/2 + sqrt(3)*a*k2/6)),                                                                                              0,                                                                                                                                               0.5*(1.0*J + 1.0*K + 6.12323399573677e-17*Γ + 1.11022302462516e-16*I*Γ')*exp(-sqrt(3)*I*a*k2/3),                                                                                                                                                                                                                                               0],\n",
       "[                                                                                              0,                         0.5*(-1.0*K + 6.12323399573677e-17*Γ - 1.0*I*Γ')*exp(sqrt(3)*I*a*k2/3),                                                                                                                                                                     -0.5*J - 1.0*K - 0.5*h - 6.12323399573677e-17*Γ + 2.44929359829471e-16*Γ',                                                             0.5*(1.0*J + 1.49975978266186e-32*K + 1.22464679914735e-16*Γ')*exp(-I*(a*k1/2 + sqrt(3)*a*k2/6)) + 0.5*(1.0*J + 1.0*K + 1.22464679914735e-16*Γ')*exp(-I*(-a*k1/2 + sqrt(3)*a*k2/6)),                                                                                               0, 0.5*(1.0*J + 1.0*K + 6.12323399573677e-17*Γ + 1.11022302462516e-16*I*Γ')*exp(sqrt(3)*I*a*k2/3),                                                                                                                                                                                                                                             0, 0.5*(1.49975978266186e-32*K - 1.0*I*Γ + 1.22464679914735e-16*Γ' - 1.22464679914735e-16*I*Γ')*exp(-I*(a*k1/2 + sqrt(3)*a*k2/6)) + 0.5*(1.0*K - 1.22464679914735e-16*I*Γ + 1.22464679914735e-16*Γ' - 1.0*I*Γ')*exp(-I*(-a*k1/2 + sqrt(3)*a*k2/6))],\n",
       "[                        0.5*(-1.0*K + 6.12323399573677e-17*Γ - 1.0*I*Γ')*exp(-sqrt(3)*I*a*k2/3),                                                                                              0,                                                             0.5*(1.0*J + 1.49975978266186e-32*K + 1.22464679914735e-16*Γ')*exp(I*(a*k1/2 + sqrt(3)*a*k2/6)) + 0.5*(1.0*J + 1.0*K + 1.22464679914735e-16*Γ')*exp(I*(-a*k1/2 + sqrt(3)*a*k2/6)),                                                                                                                                                                       -0.5*J - 1.0*K - 0.5*h - 6.12323399573677e-17*Γ + 2.44929359829471e-16*Γ', 0.5*(1.0*J + 1.0*K + 6.12323399573677e-17*Γ + 1.11022302462516e-16*I*Γ')*exp(-sqrt(3)*I*a*k2/3),                                                                                              0, 0.5*(1.49975978266186e-32*K - 1.0*I*Γ + 1.22464679914735e-16*Γ' - 1.22464679914735e-16*I*Γ')*exp(I*(a*k1/2 + sqrt(3)*a*k2/6)) + 0.5*(1.0*K - 1.22464679914735e-16*I*Γ + 1.22464679914735e-16*Γ' - 1.0*I*Γ')*exp(I*(-a*k1/2 + sqrt(3)*a*k2/6)),                                                                                                                                                                                                                                               0],\n",
       "[                                                                                              0, -0.5*I*Γ*exp(-I*(a*k1/2 + sqrt(3)*a*k2/6)) + 0.5*(K - I*Γ')*exp(-I*(-a*k1/2 + sqrt(3)*a*k2/6)),                                                                                                                                                                                                                                             0,                                                                                                                                                  0.5*(1.0*J + 1.0*K + 6.12323399573677e-17*Γ - 1.11022302462516e-16*I*Γ')*exp(sqrt(3)*I*a*k2/3),                                                 -0.5*J - 1.0*K + 0.5*h - 6.12323399573677e-17*Γ,       0.5*J*exp(-I*(a*k1/2 + sqrt(3)*a*k2/6)) + 0.5*(J + K)*exp(-I*(-a*k1/2 + sqrt(3)*a*k2/6)),                                                                                                                                                                                                                                             0,                                                                                                                                                                          0.5*(-1.0*K + 6.12323399573677e-17*Γ + 1.0*I*Γ')*exp(sqrt(3)*I*a*k2/3)],\n",
       "[   -0.5*I*Γ*exp(I*(a*k1/2 + sqrt(3)*a*k2/6)) + 0.5*(K - I*Γ')*exp(I*(-a*k1/2 + sqrt(3)*a*k2/6)),                                                                                              0,                                                                                                                                               0.5*(1.0*J + 1.0*K + 6.12323399573677e-17*Γ - 1.11022302462516e-16*I*Γ')*exp(-sqrt(3)*I*a*k2/3),                                                                                                                                                                                                                                               0,          0.5*J*exp(I*(a*k1/2 + sqrt(3)*a*k2/6)) + 0.5*(J + K)*exp(I*(-a*k1/2 + sqrt(3)*a*k2/6)),                                                -0.5*J - 1.0*K + 0.5*h - 6.12323399573677e-17*Γ,                                                                                                                                                                       0.5*(-1.0*K + 6.12323399573677e-17*Γ + 1.0*I*Γ')*exp(-sqrt(3)*I*a*k2/3),                                                                                                                                                                                                                                               0],\n",
       "[                                                                                              0, 0.5*(1.0*J + 1.0*K + 6.12323399573677e-17*Γ - 1.11022302462516e-16*I*Γ')*exp(sqrt(3)*I*a*k2/3),                                                                                                                                                                                                                                             0, 0.5*(1.49975978266186e-32*K + 1.0*I*Γ + 1.22464679914735e-16*Γ' + 1.22464679914735e-16*I*Γ')*exp(-I*(a*k1/2 + sqrt(3)*a*k2/6)) + 0.5*(1.0*K + 1.22464679914735e-16*I*Γ + 1.22464679914735e-16*Γ' + 1.0*I*Γ')*exp(-I*(-a*k1/2 + sqrt(3)*a*k2/6)),                                                                                               0,                         0.5*(-1.0*K + 6.12323399573677e-17*Γ - 1.0*I*Γ')*exp(sqrt(3)*I*a*k2/3),                                                                                                                                                                     -0.5*J - 1.0*K - 0.5*h - 6.12323399573677e-17*Γ + 2.44929359829471e-16*Γ',                                                             0.5*(1.0*J + 1.49975978266186e-32*K + 1.22464679914735e-16*Γ')*exp(-I*(a*k1/2 + sqrt(3)*a*k2/6)) + 0.5*(1.0*J + 1.0*K + 1.22464679914735e-16*Γ')*exp(-I*(-a*k1/2 + sqrt(3)*a*k2/6))],\n",
       "[0.5*(1.0*J + 1.0*K + 6.12323399573677e-17*Γ - 1.11022302462516e-16*I*Γ')*exp(-sqrt(3)*I*a*k2/3),                                                                                              0, 0.5*(1.49975978266186e-32*K + 1.0*I*Γ + 1.22464679914735e-16*Γ' + 1.22464679914735e-16*I*Γ')*exp(I*(a*k1/2 + sqrt(3)*a*k2/6)) + 0.5*(1.0*K + 1.22464679914735e-16*I*Γ + 1.22464679914735e-16*Γ' + 1.0*I*Γ')*exp(I*(-a*k1/2 + sqrt(3)*a*k2/6)),                                                                                                                                                                                                                                               0,                         0.5*(-1.0*K + 6.12323399573677e-17*Γ - 1.0*I*Γ')*exp(-sqrt(3)*I*a*k2/3),                                                                                              0,                                                             0.5*(1.0*J + 1.49975978266186e-32*K + 1.22464679914735e-16*Γ')*exp(I*(a*k1/2 + sqrt(3)*a*k2/6)) + 0.5*(1.0*J + 1.0*K + 1.22464679914735e-16*Γ')*exp(I*(-a*k1/2 + sqrt(3)*a*k2/6)),                                                                                                                                                                       -0.5*J - 1.0*K - 0.5*h - 6.12323399573677e-17*Γ + 2.44929359829471e-16*Γ']])"
      ]
     },
     "execution_count": 30,
     "metadata": {},
     "output_type": "execute_result"
    }
   ],
   "source": [
    "Hlsw"
   ]
  },
  {
   "cell_type": "code",
   "execution_count": 31,
   "metadata": {
    "scrolled": true
   },
   "outputs": [
    {
     "data": {
      "text/latex": [
       "$\\displaystyle \\left[\\begin{matrix}- 0.5 h + 0.5 \\overline{h} & 0 & 0 & 0 & 0 & 0 & 0 & 0\\\\0 & - 0.5 h + 0.5 \\overline{h} & 0 & 0 & 0 & 0 & 0 & 0\\\\0 & 0 & 0.5 h - 0.5 \\overline{h} & 0 & 0 & 0 & 0 & 0\\\\0 & 0 & 0 & 0.5 h - 0.5 \\overline{h} & 0 & 0 & 0 & 0\\\\0 & 0 & 0 & 0 & - 0.5 h + 0.5 \\overline{h} & 0 & 0 & 0\\\\0 & 0 & 0 & 0 & 0 & - 0.5 h + 0.5 \\overline{h} & 0 & 0\\\\0 & 0 & 0 & 0 & 0 & 0 & 0.5 h - 0.5 \\overline{h} & 0\\\\0 & 0 & 0 & 0 & 0 & 0 & 0 & 0.5 h - 0.5 \\overline{h}\\end{matrix}\\right]$"
      ],
      "text/plain": [
       "Matrix([\n",
       "[-0.5*h + 0.5*conjugate(h),                         0,                        0,                        0,                         0,                         0,                        0,                        0],\n",
       "[                        0, -0.5*h + 0.5*conjugate(h),                        0,                        0,                         0,                         0,                        0,                        0],\n",
       "[                        0,                         0, 0.5*h - 0.5*conjugate(h),                        0,                         0,                         0,                        0,                        0],\n",
       "[                        0,                         0,                        0, 0.5*h - 0.5*conjugate(h),                         0,                         0,                        0,                        0],\n",
       "[                        0,                         0,                        0,                        0, -0.5*h + 0.5*conjugate(h),                         0,                        0,                        0],\n",
       "[                        0,                         0,                        0,                        0,                         0, -0.5*h + 0.5*conjugate(h),                        0,                        0],\n",
       "[                        0,                         0,                        0,                        0,                         0,                         0, 0.5*h - 0.5*conjugate(h),                        0],\n",
       "[                        0,                         0,                        0,                        0,                         0,                         0,                        0, 0.5*h - 0.5*conjugate(h)]])"
      ]
     },
     "execution_count": 31,
     "metadata": {},
     "output_type": "execute_result"
    }
   ],
   "source": [
    "sp.transpose(sp.conjugate(Hlsw))-Hlsw"
   ]
  },
  {
   "cell_type": "code",
   "execution_count": 32,
   "metadata": {},
   "outputs": [],
   "source": [
    "Hlsw_rucl3 = Hlsw"
   ]
  },
  {
   "cell_type": "markdown",
   "metadata": {},
   "source": [
    "# ADD J2, J3"
   ]
  },
  {
   "cell_type": "markdown",
   "metadata": {},
   "source": [
    "## J3"
   ]
  },
  {
   "cell_type": "code",
   "execution_count": 33,
   "metadata": {},
   "outputs": [],
   "source": [
    "J3 = sp.Symbol(\"J3\", real=True)\n",
    "#####################################################################\n",
    "# up-down couplings\n",
    "Hberg_ud = V1 * sp.Transpose(W1) + V2 * sp.Transpose(W2) + V3 * sp.Transpose(W3)\n",
    "\n",
    "H_J3 = J3*Hberg_ud\n",
    "\n",
    "HP_J3_ud = sp.Integer(0)\n",
    "\n",
    "i = 0\n",
    "while i < 3:\n",
    "    j = 0\n",
    "    while j < 3:\n",
    "        HP_J3_ud = HP_J3_ud + H_J3[i, j] * HPbosons[i, j]\n",
    "        j += 1\n",
    "    i += 1\n",
    "\n",
    "HP_J3_ud = HP_J3_ud.expand()\n",
    "\n",
    "Coef_HPJ3_ud = sp.Matrix([o, o, o, o, o, o])\n",
    "Coef_HPJ3_ud[0, 0] = HP_J3_ud.coeff(e)\n",
    "Coef_HPJ3_ud[1, 0] = HP_J3_ud.coeff(f)\n",
    "Coef_HPJ3_ud[2, 0] = HP_J3_ud.coeff(g)\n",
    "Coef_HPJ3_ud[3, 0] = HP_J3_ud.coeff(h)\n",
    "Coef_HPJ3_ud[4, 0] = HP_J3_ud.coeff(n_i)\n",
    "Coef_HPJ3_ud[5, 0] = HP_J3_ud.coeff(n_j)\n",
    "\n",
    "Mat_Coef_HPJ3_ud = sp.Matrix([\n",
    "    [Coef_HPJ3_ud[4, 0], Coef_HPJ3_ud[2, 0], o, Coef_HPJ3_ud[3, 0]],\n",
    "    [Coef_HPJ3_ud[1, 0], Coef_HPJ3_ud[5, 0], Coef_HPJ3_ud[3, 0], o],\n",
    "    [o, Coef_HPJ3_ud[0, 0], Coef_HPJ3_ud[5, 0], Coef_HPJ3_ud[2, 0]],\n",
    "    [Coef_HPJ3_ud[0, 0], o, Coef_HPJ3_ud[1, 0], Coef_HPJ3_ud[4, 0]]\n",
    "    ])"
   ]
  },
  {
   "cell_type": "code",
   "execution_count": 34,
   "metadata": {},
   "outputs": [],
   "source": [
    "# Fourier transform\n",
    "deltaX = 2*a / sp.sqrt(3) * sp.Matrix([-sp.sqrt(3) / 2, 1 / sp.Integer(2)])\n",
    "deltaY = 2*a / sp.sqrt(3) * sp.Matrix([sp.Integer(0), sp.Integer(-1)])\n",
    "deltaZ = 2*a / sp.sqrt(3) * sp.Matrix([sp.sqrt(3) / 2, 1 / sp.Integer(2)])\n",
    "\n",
    "sx = sp.exp(I * k.dot(deltaX))\n",
    "sy = sp.exp(I * k.dot(deltaY))\n",
    "sz = sp.exp(I * k.dot(deltaZ))\n",
    "tx = sp.exp(-I * k.dot(deltaX))\n",
    "ty = sp.exp(-I * k.dot(deltaY))\n",
    "tz = sp.exp(-I * k.dot(deltaZ))\n",
    "\n",
    "FT_Coef_X = sp.Matrix([[ii, sx, o, sx], [tx, ii, tx, o], [o, sx, ii, sx], [tx, o,\n",
    "                                                                               tx, ii]])\n",
    "FT_Coef_Y = sp.Matrix([[ii, sy, o, sy], [ty, ii, ty, o], [o, sy, ii, sy], [ty, o,\n",
    "                                                                               ty, ii]])\n",
    "FT_Coef_Z = sp.Matrix([[ii, sz, o, sz], [tz, ii, tz, o], [o, sz, ii, sz], [tz, o,\n",
    "                                                                               tz, ii]])"
   ]
  },
  {
   "cell_type": "code",
   "execution_count": 35,
   "metadata": {},
   "outputs": [],
   "source": [
    "dx = -2*a / sp.sqrt(3)*sp.sqrt(3) / 2\n",
    "dy = 2*a / sp.sqrt(3)*1 / sp.Integer(2)\n",
    "by = -2*a / sp.sqrt(3)\n",
    "s = 2*sp.exp(I * k2*dy)*sp.cos(k1*dx) + sp.exp(I * k2*by)\n",
    "t = 2*sp.exp(-I * k2*dy)*sp.cos(-k1*dx) + sp.exp(-I * k2*by)\n",
    "FT = sp.Matrix([[ii*3, s, o, s], [t, ii*3, t, o], [o, s, ii*3, s], [t, o, t, ii*3]])\n"
   ]
  },
  {
   "cell_type": "code",
   "execution_count": 36,
   "metadata": {},
   "outputs": [],
   "source": [
    "Hlsw_J2J3 = sp.zeros(8, 8)"
   ]
  },
  {
   "cell_type": "code",
   "execution_count": 37,
   "metadata": {
    "scrolled": false
   },
   "outputs": [
    {
     "data": {
      "text/latex": [
       "$\\displaystyle \\left[\\begin{matrix}3.0 J_{3} & 0 & 0 & 1.0 J_{3} \\cdot \\left(2 e^{\\frac{\\sqrt{3} i a k_{2}}{3}} \\cos{\\left(a k_{1} \\right)} + e^{- \\frac{2 \\sqrt{3} i a k_{2}}{3}}\\right)\\\\0 & 3.0 J_{3} & 1.0 J_{3} \\left(e^{\\frac{2 \\sqrt{3} i a k_{2}}{3}} + 2 e^{- \\frac{\\sqrt{3} i a k_{2}}{3}} \\cos{\\left(a k_{1} \\right)}\\right) & 0\\\\0 & 1.0 J_{3} \\cdot \\left(2 e^{\\frac{\\sqrt{3} i a k_{2}}{3}} \\cos{\\left(a k_{1} \\right)} + e^{- \\frac{2 \\sqrt{3} i a k_{2}}{3}}\\right) & 3.0 J_{3} & 0\\\\1.0 J_{3} \\left(e^{\\frac{2 \\sqrt{3} i a k_{2}}{3}} + 2 e^{- \\frac{\\sqrt{3} i a k_{2}}{3}} \\cos{\\left(a k_{1} \\right)}\\right) & 0 & 0 & 3.0 J_{3}\\end{matrix}\\right]$"
      ],
      "text/plain": [
       "Matrix([\n",
       "[                                                               3.0*J3,                                                                     0,                                                                     0, 1.0*J3*(2*exp(sqrt(3)*I*a*k2/3)*cos(a*k1) + exp(-2*sqrt(3)*I*a*k2/3))],\n",
       "[                                                                    0,                                                                3.0*J3, 1.0*J3*(exp(2*sqrt(3)*I*a*k2/3) + 2*exp(-sqrt(3)*I*a*k2/3)*cos(a*k1)),                                                                     0],\n",
       "[                                                                    0, 1.0*J3*(2*exp(sqrt(3)*I*a*k2/3)*cos(a*k1) + exp(-2*sqrt(3)*I*a*k2/3)),                                                                3.0*J3,                                                                     0],\n",
       "[1.0*J3*(exp(2*sqrt(3)*I*a*k2/3) + 2*exp(-sqrt(3)*I*a*k2/3)*cos(a*k1)),                                                                     0,                                                                     0,                                                                3.0*J3]])"
      ]
     },
     "execution_count": 37,
     "metadata": {},
     "output_type": "execute_result"
    }
   ],
   "source": [
    "# up-down J3 bonds\n",
    "HlswTwoSub = sp.Matrix([[o, o, o, o], [o, o, o, o], [o, o, o, o], [o, o, o, o]])\n",
    "# FT = FT_Coef_X + FT_Coef_Y + FT_Coef_Z\n",
    "\n",
    "i = 0\n",
    "while i < 4:\n",
    "    j = 0\n",
    "    while j < 4:\n",
    "        HlswTwoSub[i, j] = Mat_Coef_HPJ3_ud[i, j] * FT[i, j]\n",
    "        j += 1\n",
    "    i += 1\n",
    "\n",
    "distri224(Hlsw_J2J3, HlswTwoSub, 0, 3)\n",
    "HlswTwoSub"
   ]
  },
  {
   "cell_type": "code",
   "execution_count": 38,
   "metadata": {},
   "outputs": [
    {
     "data": {
      "text/latex": [
       "$\\displaystyle \\left[\\begin{matrix}3.0 J_{3} & 0 & 0 & 0 & 0 & 0 & 0 & 1.0 J_{3} \\cdot \\left(2 e^{\\frac{\\sqrt{3} i a k_{2}}{3}} \\cos{\\left(a k_{1} \\right)} + e^{- \\frac{2 \\sqrt{3} i a k_{2}}{3}}\\right)\\\\0 & 0 & 0 & 0 & 0 & 0 & 0 & 0\\\\0 & 0 & 0 & 0 & 0 & 0 & 0 & 0\\\\0 & 0 & 0 & 3.0 J_{3} & 1.0 J_{3} \\left(e^{\\frac{2 \\sqrt{3} i a k_{2}}{3}} + 2 e^{- \\frac{\\sqrt{3} i a k_{2}}{3}} \\cos{\\left(a k_{1} \\right)}\\right) & 0 & 0 & 0\\\\0 & 0 & 0 & 1.0 J_{3} \\cdot \\left(2 e^{\\frac{\\sqrt{3} i a k_{2}}{3}} \\cos{\\left(a k_{1} \\right)} + e^{- \\frac{2 \\sqrt{3} i a k_{2}}{3}}\\right) & 3.0 J_{3} & 0 & 0 & 0\\\\0 & 0 & 0 & 0 & 0 & 0 & 0 & 0\\\\0 & 0 & 0 & 0 & 0 & 0 & 0 & 0\\\\1.0 J_{3} \\left(e^{\\frac{2 \\sqrt{3} i a k_{2}}{3}} + 2 e^{- \\frac{\\sqrt{3} i a k_{2}}{3}} \\cos{\\left(a k_{1} \\right)}\\right) & 0 & 0 & 0 & 0 & 0 & 0 & 3.0 J_{3}\\end{matrix}\\right]$"
      ],
      "text/plain": [
       "Matrix([\n",
       "[                                                               3.0*J3, 0, 0,                                                                     0,                                                                     0, 0, 0, 1.0*J3*(2*exp(sqrt(3)*I*a*k2/3)*cos(a*k1) + exp(-2*sqrt(3)*I*a*k2/3))],\n",
       "[                                                                    0, 0, 0,                                                                     0,                                                                     0, 0, 0,                                                                     0],\n",
       "[                                                                    0, 0, 0,                                                                     0,                                                                     0, 0, 0,                                                                     0],\n",
       "[                                                                    0, 0, 0,                                                                3.0*J3, 1.0*J3*(exp(2*sqrt(3)*I*a*k2/3) + 2*exp(-sqrt(3)*I*a*k2/3)*cos(a*k1)), 0, 0,                                                                     0],\n",
       "[                                                                    0, 0, 0, 1.0*J3*(2*exp(sqrt(3)*I*a*k2/3)*cos(a*k1) + exp(-2*sqrt(3)*I*a*k2/3)),                                                                3.0*J3, 0, 0,                                                                     0],\n",
       "[                                                                    0, 0, 0,                                                                     0,                                                                     0, 0, 0,                                                                     0],\n",
       "[                                                                    0, 0, 0,                                                                     0,                                                                     0, 0, 0,                                                                     0],\n",
       "[1.0*J3*(exp(2*sqrt(3)*I*a*k2/3) + 2*exp(-sqrt(3)*I*a*k2/3)*cos(a*k1)), 0, 0,                                                                     0,                                                                     0, 0, 0,                                                                3.0*J3]])"
      ]
     },
     "execution_count": 38,
     "metadata": {},
     "output_type": "execute_result"
    }
   ],
   "source": [
    "Hlsw_J2J3"
   ]
  },
  {
   "cell_type": "code",
   "execution_count": 39,
   "metadata": {},
   "outputs": [],
   "source": [
    "J3 = sp.Symbol(\"J3\", real=True)\n",
    "#####################################################################\n",
    "# up-down couplings\n",
    "Hberg_ud = W1 * sp.Transpose(V1) + W2 * sp.Transpose(V2) + W3 * sp.Transpose(V3)\n",
    "\n",
    "H_J3 = J3*Hberg_ud\n",
    "\n",
    "HP_J3_ud = sp.Integer(0)\n",
    "\n",
    "i = 0\n",
    "while i < 3:\n",
    "    j = 0\n",
    "    while j < 3:\n",
    "        HP_J3_ud = HP_J3_ud + H_J3[i, j] * HPbosons[i, j]\n",
    "        j += 1\n",
    "    i += 1\n",
    "\n",
    "HP_J3_ud = HP_J3_ud.expand()\n",
    "\n",
    "Coef_HPJ3_ud = sp.Matrix([o, o, o, o, o, o])\n",
    "Coef_HPJ3_ud[0, 0] = HP_J3_ud.coeff(e)\n",
    "Coef_HPJ3_ud[1, 0] = HP_J3_ud.coeff(f)\n",
    "Coef_HPJ3_ud[2, 0] = HP_J3_ud.coeff(g)\n",
    "Coef_HPJ3_ud[3, 0] = HP_J3_ud.coeff(h)\n",
    "Coef_HPJ3_ud[4, 0] = HP_J3_ud.coeff(n_i)\n",
    "Coef_HPJ3_ud[5, 0] = HP_J3_ud.coeff(n_j)\n",
    "\n",
    "Mat_Coef_HPJ3_ud = sp.Matrix([\n",
    "    [Coef_HPJ3_ud[4, 0], Coef_HPJ3_ud[2, 0], o, Coef_HPJ3_ud[3, 0]],\n",
    "    [Coef_HPJ3_ud[1, 0], Coef_HPJ3_ud[5, 0], Coef_HPJ3_ud[3, 0], o],\n",
    "    [o, Coef_HPJ3_ud[0, 0], Coef_HPJ3_ud[5, 0], Coef_HPJ3_ud[2, 0]],\n",
    "    [Coef_HPJ3_ud[0, 0], o, Coef_HPJ3_ud[1, 0], Coef_HPJ3_ud[4, 0]]\n",
    "    ])"
   ]
  },
  {
   "cell_type": "code",
   "execution_count": 40,
   "metadata": {},
   "outputs": [
    {
     "data": {
      "text/latex": [
       "$\\displaystyle \\left[\\begin{matrix}3.0 J_{3} & 0 & 0 & 1.0 J_{3} \\left(e^{i \\left(- a k_{1} + \\frac{\\sqrt{3} a k_{2}}{3}\\right)} + e^{i \\left(a k_{1} + \\frac{\\sqrt{3} a k_{2}}{3}\\right)} + e^{- \\frac{2 \\sqrt{3} i a k_{2}}{3}}\\right)\\\\0 & 3.0 J_{3} & 1.0 J_{3} \\left(e^{\\frac{2 \\sqrt{3} i a k_{2}}{3}} + e^{- i \\left(a k_{1} + \\frac{\\sqrt{3} a k_{2}}{3}\\right)} + e^{- i \\left(- a k_{1} + \\frac{\\sqrt{3} a k_{2}}{3}\\right)}\\right) & 0\\\\0 & 1.0 J_{3} \\left(e^{i \\left(- a k_{1} + \\frac{\\sqrt{3} a k_{2}}{3}\\right)} + e^{i \\left(a k_{1} + \\frac{\\sqrt{3} a k_{2}}{3}\\right)} + e^{- \\frac{2 \\sqrt{3} i a k_{2}}{3}}\\right) & 3.0 J_{3} & 0\\\\1.0 J_{3} \\left(e^{\\frac{2 \\sqrt{3} i a k_{2}}{3}} + e^{- i \\left(a k_{1} + \\frac{\\sqrt{3} a k_{2}}{3}\\right)} + e^{- i \\left(- a k_{1} + \\frac{\\sqrt{3} a k_{2}}{3}\\right)}\\right) & 0 & 0 & 3.0 J_{3}\\end{matrix}\\right]$"
      ],
      "text/plain": [
       "Matrix([\n",
       "[                                                                                               3.0*J3,                                                                                                    0,                                                                                                     0, 1.0*J3*(exp(I*(-a*k1 + sqrt(3)*a*k2/3)) + exp(I*(a*k1 + sqrt(3)*a*k2/3)) + exp(-2*sqrt(3)*I*a*k2/3))],\n",
       "[                                                                                                    0,                                                                                               3.0*J3, 1.0*J3*(exp(2*sqrt(3)*I*a*k2/3) + exp(-I*(a*k1 + sqrt(3)*a*k2/3)) + exp(-I*(-a*k1 + sqrt(3)*a*k2/3))),                                                                                                    0],\n",
       "[                                                                                                    0, 1.0*J3*(exp(I*(-a*k1 + sqrt(3)*a*k2/3)) + exp(I*(a*k1 + sqrt(3)*a*k2/3)) + exp(-2*sqrt(3)*I*a*k2/3)),                                                                                                3.0*J3,                                                                                                    0],\n",
       "[1.0*J3*(exp(2*sqrt(3)*I*a*k2/3) + exp(-I*(a*k1 + sqrt(3)*a*k2/3)) + exp(-I*(-a*k1 + sqrt(3)*a*k2/3))),                                                                                                    0,                                                                                                     0,                                                                                               3.0*J3]])"
      ]
     },
     "execution_count": 40,
     "metadata": {},
     "output_type": "execute_result"
    }
   ],
   "source": [
    "# down-up J3 bonds\n",
    "HlswTwoSub = sp.Matrix([[o, o, o, o], [o, o, o, o], [o, o, o, o], [o, o, o, o]])\n",
    "FT = FT_Coef_X + FT_Coef_Y + FT_Coef_Z\n",
    "\n",
    "i = 0\n",
    "while i < 4:\n",
    "    j = 0\n",
    "    while j < 4:\n",
    "        HlswTwoSub[i, j] = Mat_Coef_HPJ3_ud[i, j] * FT[i, j]\n",
    "        j += 1\n",
    "    i += 1\n",
    "\n",
    "distri224(Hlsw_J2J3, HlswTwoSub, 1, 2)\n",
    "HlswTwoSub"
   ]
  },
  {
   "cell_type": "code",
   "execution_count": 41,
   "metadata": {},
   "outputs": [
    {
     "data": {
      "text/latex": [
       "$\\displaystyle \\left[\\begin{matrix}3.0 J_{3} & 0 & 0 & 0 & 0 & 0 & 0 & 1.0 J_{3} \\cdot \\left(2 e^{\\frac{\\sqrt{3} i a k_{2}}{3}} \\cos{\\left(a k_{1} \\right)} + e^{- \\frac{2 \\sqrt{3} i a k_{2}}{3}}\\right)\\\\0 & 3.0 J_{3} & 0 & 0 & 0 & 0 & 1.0 J_{3} \\left(e^{i \\left(- a k_{1} + \\frac{\\sqrt{3} a k_{2}}{3}\\right)} + e^{i \\left(a k_{1} + \\frac{\\sqrt{3} a k_{2}}{3}\\right)} + e^{- \\frac{2 \\sqrt{3} i a k_{2}}{3}}\\right) & 0\\\\0 & 0 & 3.0 J_{3} & 0 & 0 & 1.0 J_{3} \\left(e^{\\frac{2 \\sqrt{3} i a k_{2}}{3}} + e^{- i \\left(a k_{1} + \\frac{\\sqrt{3} a k_{2}}{3}\\right)} + e^{- i \\left(- a k_{1} + \\frac{\\sqrt{3} a k_{2}}{3}\\right)}\\right) & 0 & 0\\\\0 & 0 & 0 & 3.0 J_{3} & 1.0 J_{3} \\left(e^{\\frac{2 \\sqrt{3} i a k_{2}}{3}} + 2 e^{- \\frac{\\sqrt{3} i a k_{2}}{3}} \\cos{\\left(a k_{1} \\right)}\\right) & 0 & 0 & 0\\\\0 & 0 & 0 & 1.0 J_{3} \\cdot \\left(2 e^{\\frac{\\sqrt{3} i a k_{2}}{3}} \\cos{\\left(a k_{1} \\right)} + e^{- \\frac{2 \\sqrt{3} i a k_{2}}{3}}\\right) & 3.0 J_{3} & 0 & 0 & 0\\\\0 & 0 & 1.0 J_{3} \\left(e^{i \\left(- a k_{1} + \\frac{\\sqrt{3} a k_{2}}{3}\\right)} + e^{i \\left(a k_{1} + \\frac{\\sqrt{3} a k_{2}}{3}\\right)} + e^{- \\frac{2 \\sqrt{3} i a k_{2}}{3}}\\right) & 0 & 0 & 3.0 J_{3} & 0 & 0\\\\0 & 1.0 J_{3} \\left(e^{\\frac{2 \\sqrt{3} i a k_{2}}{3}} + e^{- i \\left(a k_{1} + \\frac{\\sqrt{3} a k_{2}}{3}\\right)} + e^{- i \\left(- a k_{1} + \\frac{\\sqrt{3} a k_{2}}{3}\\right)}\\right) & 0 & 0 & 0 & 0 & 3.0 J_{3} & 0\\\\1.0 J_{3} \\left(e^{\\frac{2 \\sqrt{3} i a k_{2}}{3}} + 2 e^{- \\frac{\\sqrt{3} i a k_{2}}{3}} \\cos{\\left(a k_{1} \\right)}\\right) & 0 & 0 & 0 & 0 & 0 & 0 & 3.0 J_{3}\\end{matrix}\\right]$"
      ],
      "text/plain": [
       "Matrix([\n",
       "[                                                               3.0*J3,                                                                                                     0,                                                                                                    0,                                                                     0,                                                                     0,                                                                                                     0,                                                                                                    0, 1.0*J3*(2*exp(sqrt(3)*I*a*k2/3)*cos(a*k1) + exp(-2*sqrt(3)*I*a*k2/3))],\n",
       "[                                                                    0,                                                                                                3.0*J3,                                                                                                    0,                                                                     0,                                                                     0,                                                                                                     0, 1.0*J3*(exp(I*(-a*k1 + sqrt(3)*a*k2/3)) + exp(I*(a*k1 + sqrt(3)*a*k2/3)) + exp(-2*sqrt(3)*I*a*k2/3)),                                                                     0],\n",
       "[                                                                    0,                                                                                                     0,                                                                                               3.0*J3,                                                                     0,                                                                     0, 1.0*J3*(exp(2*sqrt(3)*I*a*k2/3) + exp(-I*(a*k1 + sqrt(3)*a*k2/3)) + exp(-I*(-a*k1 + sqrt(3)*a*k2/3))),                                                                                                    0,                                                                     0],\n",
       "[                                                                    0,                                                                                                     0,                                                                                                    0,                                                                3.0*J3, 1.0*J3*(exp(2*sqrt(3)*I*a*k2/3) + 2*exp(-sqrt(3)*I*a*k2/3)*cos(a*k1)),                                                                                                     0,                                                                                                    0,                                                                     0],\n",
       "[                                                                    0,                                                                                                     0,                                                                                                    0, 1.0*J3*(2*exp(sqrt(3)*I*a*k2/3)*cos(a*k1) + exp(-2*sqrt(3)*I*a*k2/3)),                                                                3.0*J3,                                                                                                     0,                                                                                                    0,                                                                     0],\n",
       "[                                                                    0,                                                                                                     0, 1.0*J3*(exp(I*(-a*k1 + sqrt(3)*a*k2/3)) + exp(I*(a*k1 + sqrt(3)*a*k2/3)) + exp(-2*sqrt(3)*I*a*k2/3)),                                                                     0,                                                                     0,                                                                                                3.0*J3,                                                                                                    0,                                                                     0],\n",
       "[                                                                    0, 1.0*J3*(exp(2*sqrt(3)*I*a*k2/3) + exp(-I*(a*k1 + sqrt(3)*a*k2/3)) + exp(-I*(-a*k1 + sqrt(3)*a*k2/3))),                                                                                                    0,                                                                     0,                                                                     0,                                                                                                     0,                                                                                               3.0*J3,                                                                     0],\n",
       "[1.0*J3*(exp(2*sqrt(3)*I*a*k2/3) + 2*exp(-sqrt(3)*I*a*k2/3)*cos(a*k1)),                                                                                                     0,                                                                                                    0,                                                                     0,                                                                     0,                                                                                                     0,                                                                                                    0,                                                                3.0*J3]])"
      ]
     },
     "execution_count": 41,
     "metadata": {},
     "output_type": "execute_result"
    }
   ],
   "source": [
    "Hlsw_J2J3"
   ]
  },
  {
   "cell_type": "markdown",
   "metadata": {},
   "source": [
    "## J2"
   ]
  },
  {
   "cell_type": "code",
   "execution_count": 42,
   "metadata": {},
   "outputs": [],
   "source": [
    "J2 = sp.Symbol(\"J2\", real=True)\n",
    "#####################################################################\n",
    "# up-down couplings\n",
    "Hberg_ud = V1 * sp.Transpose(W1) + V2 * sp.Transpose(W2) + V3 * sp.Transpose(W3)\n",
    "\n",
    "H_J2 = J2*Hberg_ud\n",
    "\n",
    "HP_J2_ud = sp.Integer(0)\n",
    "\n",
    "i = 0\n",
    "while i < 3:\n",
    "    j = 0\n",
    "    while j < 3:\n",
    "        HP_J2_ud = HP_J2_ud + H_J2[i, j] * HPbosons[i, j]\n",
    "        j += 1\n",
    "    i += 1\n",
    "\n",
    "HP_J2_ud = HP_J2_ud.expand()\n",
    "\n",
    "Coef_HPJ2_ud = sp.Matrix([o, o, o, o, o, o])\n",
    "Coef_HPJ2_ud[0, 0] = HP_J2_ud.coeff(e)\n",
    "Coef_HPJ2_ud[1, 0] = HP_J2_ud.coeff(f)\n",
    "Coef_HPJ2_ud[2, 0] = HP_J2_ud.coeff(g)\n",
    "Coef_HPJ2_ud[3, 0] = HP_J2_ud.coeff(h)\n",
    "Coef_HPJ2_ud[4, 0] = HP_J2_ud.coeff(n_i)\n",
    "Coef_HPJ2_ud[5, 0] = HP_J2_ud.coeff(n_j)\n",
    "\n",
    "Mat_Coef_HPJ2_ud = sp.Matrix([\n",
    "    [Coef_HPJ2_ud[4, 0], Coef_HPJ2_ud[2, 0], o, Coef_HPJ2_ud[3, 0]],\n",
    "    [Coef_HPJ2_ud[1, 0], Coef_HPJ2_ud[5, 0], Coef_HPJ2_ud[3, 0], o],\n",
    "    [o, Coef_HPJ2_ud[0, 0], Coef_HPJ2_ud[5, 0], Coef_HPJ2_ud[2, 0]],\n",
    "    [Coef_HPJ2_ud[0, 0], o, Coef_HPJ2_ud[1, 0], Coef_HPJ2_ud[4, 0]]\n",
    "    ])"
   ]
  },
  {
   "cell_type": "code",
   "execution_count": 43,
   "metadata": {},
   "outputs": [],
   "source": [
    "# up-down couplings\n",
    "Hberg_du = W1 * sp.Transpose(V1) + W2 * sp.Transpose(V2) + W3 * sp.Transpose(V3)\n",
    "\n",
    "H_J2 = J2*Hberg_du\n",
    "\n",
    "HP_J2_du = sp.Integer(0)\n",
    "\n",
    "i = 0\n",
    "while i < 3:\n",
    "    j = 0\n",
    "    while j < 3:\n",
    "        HP_J2_du = HP_J2_du + H_J2[i, j] * HPbosons[i, j]\n",
    "        j += 1\n",
    "    i += 1\n",
    "\n",
    "HP_J2_du= HP_J2_du.expand()\n",
    "\n",
    "Coef_HPJ2_du = sp.Matrix([o, o, o, o, o, o])\n",
    "Coef_HPJ2_du[0, 0] = HP_J2_du.coeff(e)\n",
    "Coef_HPJ2_du[1, 0] = HP_J2_du.coeff(f)\n",
    "Coef_HPJ2_du[2, 0] = HP_J2_du.coeff(g)\n",
    "Coef_HPJ2_du[3, 0] = HP_J2_du.coeff(h)\n",
    "Coef_HPJ2_du[4, 0] = HP_J2_du.coeff(n_i)\n",
    "Coef_HPJ2_du[5, 0] = HP_J2_du.coeff(n_j)\n",
    "\n",
    "Mat_Coef_HPJ2_du = sp.Matrix([\n",
    "    [Coef_HPJ2_du[4, 0], Coef_HPJ2_du[2, 0], o, Coef_HPJ2_du[3, 0]],\n",
    "    [Coef_HPJ2_du[1, 0], Coef_HPJ2_du[5, 0], Coef_HPJ2_du[3, 0], o],\n",
    "    [o, Coef_HPJ2_du[0, 0], Coef_HPJ2_du[5, 0], Coef_HPJ2_du[2, 0]],\n",
    "    [Coef_HPJ2_du[0, 0], o, Coef_HPJ2_du[1, 0], Coef_HPJ2_du[4, 0]]\n",
    "    ])"
   ]
  },
  {
   "cell_type": "code",
   "execution_count": 44,
   "metadata": {},
   "outputs": [],
   "source": [
    "# Fourier transform\n",
    "delta1 = a * sp.Matrix([1,0])\n",
    "delta2 = a * sp.Matrix([-1,0])\n",
    "delta3 = a * sp.Matrix([1 / 2, sp.sqrt(3) / sp.Integer(2)])\n",
    "delta4 = a * sp.Matrix([-1 / 2, sp.sqrt(3) / sp.Integer(2)])\n",
    "delta5 = a * sp.Matrix([-1 / 2, -sp.sqrt(3) / sp.Integer(2)])\n",
    "delta6 = a * sp.Matrix([1 / 2, -sp.sqrt(3) / sp.Integer(2)])\n",
    "\n",
    "s1 = sp.exp(I * k.dot(delta1))\n",
    "s2 = sp.exp(I * k.dot(delta2))\n",
    "s3 = sp.exp(I * k.dot(delta3))\n",
    "s4 = sp.exp(I * k.dot(delta4))\n",
    "s5 = sp.exp(I * k.dot(delta5))\n",
    "s6 = sp.exp(I * k.dot(delta6))\n",
    "\n",
    "t1 = sp.exp(-I * k.dot(delta1))\n",
    "t2 = sp.exp(-I * k.dot(delta2))\n",
    "t3 = sp.exp(-I * k.dot(delta3))\n",
    "t4 = sp.exp(-I * k.dot(delta4))\n",
    "t5 = sp.exp(-I * k.dot(delta5))\n",
    "t6 = sp.exp(-I * k.dot(delta6))\n",
    "\n",
    "# FT_12 = sp.Matrix([[ii, s1, o, s1], [t1, ii, t1, o], [o, s1, ii, s1], [t1, o, t1, ii]])\n",
    "\n",
    "\n",
    "# FT_3456 = sp.Matrix([[ii*4, s3+s4+s5+s6, o, s3+s4+s5+s6], [t3+t4+t5+t6, ii*4, t3+t4+t5+t6, o], [o, s3+s4+s5+s6, ii*4, s3+s4+s5+s6], [t3+t4+t5+t6, o, t3+t4+t5+t6, ii*4]])"
   ]
  },
  {
   "cell_type": "code",
   "execution_count": 45,
   "metadata": {},
   "outputs": [],
   "source": [
    "# FT_3456 = sp.Matrix([[4*ii, o, o, 2*sp.cos(k.dot(delta3))+2*sp.cos(k.dot(delta4))], [o, 4*ii, 2*sp.cos(k.dot(delta3))+2*sp.cos(k.dot(delta4)), o], [o, 2*sp.cos(k.dot(delta3))+2*sp.cos(k.dot(delta4)), 4*ii, o], [2*sp.cos(k.dot(delta3))+2*sp.cos(k.dot(delta4)), o, o, 4*ii]])"
   ]
  },
  {
   "cell_type": "code",
   "execution_count": 46,
   "metadata": {},
   "outputs": [],
   "source": [
    "dx = a*1 / 2\n",
    "dy = a*sp.sqrt(3) / sp.Integer(2)"
   ]
  },
  {
   "cell_type": "code",
   "execution_count": 47,
   "metadata": {},
   "outputs": [],
   "source": [
    "FT_3456 = sp.Matrix([[4*ii, o, o, 4*sp.cos(k1*dx)*sp.cos(k2*dy)], [o, 4*ii, 4*sp.cos(k1*dx)*sp.cos(k2*dy), o], [o, 4*sp.cos(k1*dx)*sp.cos(k2*dy), 4*ii, o], [4*sp.cos(k1*dx)*sp.cos(k2*dy), o, o, 4*ii]])"
   ]
  },
  {
   "cell_type": "code",
   "execution_count": 48,
   "metadata": {
    "scrolled": true
   },
   "outputs": [
    {
     "data": {
      "text/latex": [
       "$\\displaystyle \\left[\\begin{matrix}4 & 0 & 0 & 4 \\cos{\\left(\\frac{a k_{1}}{2} \\right)} \\cos{\\left(\\frac{\\sqrt{3} a k_{2}}{2} \\right)}\\\\0 & 4 & 4 \\cos{\\left(\\frac{a k_{1}}{2} \\right)} \\cos{\\left(\\frac{\\sqrt{3} a k_{2}}{2} \\right)} & 0\\\\0 & 4 \\cos{\\left(\\frac{a k_{1}}{2} \\right)} \\cos{\\left(\\frac{\\sqrt{3} a k_{2}}{2} \\right)} & 4 & 0\\\\4 \\cos{\\left(\\frac{a k_{1}}{2} \\right)} \\cos{\\left(\\frac{\\sqrt{3} a k_{2}}{2} \\right)} & 0 & 0 & 4\\end{matrix}\\right]$"
      ],
      "text/plain": [
       "Matrix([\n",
       "[                                4,                                 0,                                 0, 4*cos(a*k1/2)*cos(sqrt(3)*a*k2/2)],\n",
       "[                                0,                                 4, 4*cos(a*k1/2)*cos(sqrt(3)*a*k2/2),                                 0],\n",
       "[                                0, 4*cos(a*k1/2)*cos(sqrt(3)*a*k2/2),                                 4,                                 0],\n",
       "[4*cos(a*k1/2)*cos(sqrt(3)*a*k2/2),                                 0,                                 0,                                 4]])"
      ]
     },
     "execution_count": 48,
     "metadata": {},
     "output_type": "execute_result"
    }
   ],
   "source": [
    "FT_3456"
   ]
  },
  {
   "cell_type": "code",
   "execution_count": 49,
   "metadata": {
    "scrolled": false
   },
   "outputs": [
    {
     "data": {
      "text/latex": [
       "$\\displaystyle \\left[\\begin{matrix}4.0 J_{2} & 0 & 0 & 4.0 J_{2} \\cos{\\left(\\frac{a k_{1}}{2} \\right)} \\cos{\\left(\\frac{\\sqrt{3} a k_{2}}{2} \\right)}\\\\0 & 4.0 J_{2} & 4.0 J_{2} \\cos{\\left(\\frac{a k_{1}}{2} \\right)} \\cos{\\left(\\frac{\\sqrt{3} a k_{2}}{2} \\right)} & 0\\\\0 & 4.0 J_{2} \\cos{\\left(\\frac{a k_{1}}{2} \\right)} \\cos{\\left(\\frac{\\sqrt{3} a k_{2}}{2} \\right)} & 4.0 J_{2} & 0\\\\4.0 J_{2} \\cos{\\left(\\frac{a k_{1}}{2} \\right)} \\cos{\\left(\\frac{\\sqrt{3} a k_{2}}{2} \\right)} & 0 & 0 & 4.0 J_{2}\\end{matrix}\\right]$"
      ],
      "text/plain": [
       "Matrix([\n",
       "[                                4.0*J2,                                      0,                                      0, 4.0*J2*cos(a*k1/2)*cos(sqrt(3)*a*k2/2)],\n",
       "[                                     0,                                 4.0*J2, 4.0*J2*cos(a*k1/2)*cos(sqrt(3)*a*k2/2),                                      0],\n",
       "[                                     0, 4.0*J2*cos(a*k1/2)*cos(sqrt(3)*a*k2/2),                                 4.0*J2,                                      0],\n",
       "[4.0*J2*cos(a*k1/2)*cos(sqrt(3)*a*k2/2),                                      0,                                      0,                                 4.0*J2]])"
      ]
     },
     "execution_count": 49,
     "metadata": {},
     "output_type": "execute_result"
    }
   ],
   "source": [
    "# up-down J2 bonds\n",
    "HlswTwoSub = sp.Matrix([[o, o, o, o], [o, o, o, o], [o, o, o, o], [o, o, o, o]])\n",
    "\n",
    "i = 0\n",
    "while i < 4:\n",
    "    j = 0\n",
    "    while j < 4:\n",
    "        HlswTwoSub[i, j] = Mat_Coef_HPJ2_ud[i, j] * FT_3456[i, j]\n",
    "        j += 1\n",
    "    i += 1\n",
    "\n",
    "distri224(Hlsw_J2J3, HlswTwoSub, 0, 2)\n",
    "HlswTwoSub"
   ]
  },
  {
   "cell_type": "code",
   "execution_count": 50,
   "metadata": {},
   "outputs": [
    {
     "data": {
      "text/latex": [
       "$\\displaystyle \\left[\\begin{matrix}4.0 J_{2} + 3.0 J_{3} & 0 & 0 & 0 & 0 & 0 & 4.0 J_{2} \\cos{\\left(\\frac{a k_{1}}{2} \\right)} \\cos{\\left(\\frac{\\sqrt{3} a k_{2}}{2} \\right)} & 1.0 J_{3} \\cdot \\left(2 e^{\\frac{\\sqrt{3} i a k_{2}}{3}} \\cos{\\left(a k_{1} \\right)} + e^{- \\frac{2 \\sqrt{3} i a k_{2}}{3}}\\right)\\\\0 & 3.0 J_{3} & 0 & 0 & 0 & 0 & 1.0 J_{3} \\left(e^{i \\left(- a k_{1} + \\frac{\\sqrt{3} a k_{2}}{3}\\right)} + e^{i \\left(a k_{1} + \\frac{\\sqrt{3} a k_{2}}{3}\\right)} + e^{- \\frac{2 \\sqrt{3} i a k_{2}}{3}}\\right) & 0\\\\0 & 0 & 4.0 J_{2} + 3.0 J_{3} & 0 & 4.0 J_{2} \\cos{\\left(\\frac{a k_{1}}{2} \\right)} \\cos{\\left(\\frac{\\sqrt{3} a k_{2}}{2} \\right)} & 1.0 J_{3} \\left(e^{\\frac{2 \\sqrt{3} i a k_{2}}{3}} + e^{- i \\left(a k_{1} + \\frac{\\sqrt{3} a k_{2}}{3}\\right)} + e^{- i \\left(- a k_{1} + \\frac{\\sqrt{3} a k_{2}}{3}\\right)}\\right) & 0 & 0\\\\0 & 0 & 0 & 3.0 J_{3} & 1.0 J_{3} \\left(e^{\\frac{2 \\sqrt{3} i a k_{2}}{3}} + 2 e^{- \\frac{\\sqrt{3} i a k_{2}}{3}} \\cos{\\left(a k_{1} \\right)}\\right) & 0 & 0 & 0\\\\0 & 0 & 4.0 J_{2} \\cos{\\left(\\frac{a k_{1}}{2} \\right)} \\cos{\\left(\\frac{\\sqrt{3} a k_{2}}{2} \\right)} & 1.0 J_{3} \\cdot \\left(2 e^{\\frac{\\sqrt{3} i a k_{2}}{3}} \\cos{\\left(a k_{1} \\right)} + e^{- \\frac{2 \\sqrt{3} i a k_{2}}{3}}\\right) & 4.0 J_{2} + 3.0 J_{3} & 0 & 0 & 0\\\\0 & 0 & 1.0 J_{3} \\left(e^{i \\left(- a k_{1} + \\frac{\\sqrt{3} a k_{2}}{3}\\right)} + e^{i \\left(a k_{1} + \\frac{\\sqrt{3} a k_{2}}{3}\\right)} + e^{- \\frac{2 \\sqrt{3} i a k_{2}}{3}}\\right) & 0 & 0 & 3.0 J_{3} & 0 & 0\\\\4.0 J_{2} \\cos{\\left(\\frac{a k_{1}}{2} \\right)} \\cos{\\left(\\frac{\\sqrt{3} a k_{2}}{2} \\right)} & 1.0 J_{3} \\left(e^{\\frac{2 \\sqrt{3} i a k_{2}}{3}} + e^{- i \\left(a k_{1} + \\frac{\\sqrt{3} a k_{2}}{3}\\right)} + e^{- i \\left(- a k_{1} + \\frac{\\sqrt{3} a k_{2}}{3}\\right)}\\right) & 0 & 0 & 0 & 0 & 4.0 J_{2} + 3.0 J_{3} & 0\\\\1.0 J_{3} \\left(e^{\\frac{2 \\sqrt{3} i a k_{2}}{3}} + 2 e^{- \\frac{\\sqrt{3} i a k_{2}}{3}} \\cos{\\left(a k_{1} \\right)}\\right) & 0 & 0 & 0 & 0 & 0 & 0 & 3.0 J_{3}\\end{matrix}\\right]$"
      ],
      "text/plain": [
       "Matrix([\n",
       "[                                                      4.0*J2 + 3.0*J3,                                                                                                     0,                                                                                                    0,                                                                     0,                                                                     0,                                                                                                     0,                                                               4.0*J2*cos(a*k1/2)*cos(sqrt(3)*a*k2/2), 1.0*J3*(2*exp(sqrt(3)*I*a*k2/3)*cos(a*k1) + exp(-2*sqrt(3)*I*a*k2/3))],\n",
       "[                                                                    0,                                                                                                3.0*J3,                                                                                                    0,                                                                     0,                                                                     0,                                                                                                     0, 1.0*J3*(exp(I*(-a*k1 + sqrt(3)*a*k2/3)) + exp(I*(a*k1 + sqrt(3)*a*k2/3)) + exp(-2*sqrt(3)*I*a*k2/3)),                                                                     0],\n",
       "[                                                                    0,                                                                                                     0,                                                                                      4.0*J2 + 3.0*J3,                                                                     0,                                4.0*J2*cos(a*k1/2)*cos(sqrt(3)*a*k2/2), 1.0*J3*(exp(2*sqrt(3)*I*a*k2/3) + exp(-I*(a*k1 + sqrt(3)*a*k2/3)) + exp(-I*(-a*k1 + sqrt(3)*a*k2/3))),                                                                                                    0,                                                                     0],\n",
       "[                                                                    0,                                                                                                     0,                                                                                                    0,                                                                3.0*J3, 1.0*J3*(exp(2*sqrt(3)*I*a*k2/3) + 2*exp(-sqrt(3)*I*a*k2/3)*cos(a*k1)),                                                                                                     0,                                                                                                    0,                                                                     0],\n",
       "[                                                                    0,                                                                                                     0,                                                               4.0*J2*cos(a*k1/2)*cos(sqrt(3)*a*k2/2), 1.0*J3*(2*exp(sqrt(3)*I*a*k2/3)*cos(a*k1) + exp(-2*sqrt(3)*I*a*k2/3)),                                                       4.0*J2 + 3.0*J3,                                                                                                     0,                                                                                                    0,                                                                     0],\n",
       "[                                                                    0,                                                                                                     0, 1.0*J3*(exp(I*(-a*k1 + sqrt(3)*a*k2/3)) + exp(I*(a*k1 + sqrt(3)*a*k2/3)) + exp(-2*sqrt(3)*I*a*k2/3)),                                                                     0,                                                                     0,                                                                                                3.0*J3,                                                                                                    0,                                                                     0],\n",
       "[                               4.0*J2*cos(a*k1/2)*cos(sqrt(3)*a*k2/2), 1.0*J3*(exp(2*sqrt(3)*I*a*k2/3) + exp(-I*(a*k1 + sqrt(3)*a*k2/3)) + exp(-I*(-a*k1 + sqrt(3)*a*k2/3))),                                                                                                    0,                                                                     0,                                                                     0,                                                                                                     0,                                                                                      4.0*J2 + 3.0*J3,                                                                     0],\n",
       "[1.0*J3*(exp(2*sqrt(3)*I*a*k2/3) + 2*exp(-sqrt(3)*I*a*k2/3)*cos(a*k1)),                                                                                                     0,                                                                                                    0,                                                                     0,                                                                     0,                                                                                                     0,                                                                                                    0,                                                                3.0*J3]])"
      ]
     },
     "execution_count": 50,
     "metadata": {},
     "output_type": "execute_result"
    }
   ],
   "source": [
    "Hlsw_J2J3"
   ]
  },
  {
   "cell_type": "code",
   "execution_count": 51,
   "metadata": {
    "scrolled": true
   },
   "outputs": [
    {
     "data": {
      "text/latex": [
       "$\\displaystyle \\left[\\begin{matrix}4.0 J_{2} & 0 & 0 & 4.0 J_{2} \\cos{\\left(\\frac{a k_{1}}{2} \\right)} \\cos{\\left(\\frac{\\sqrt{3} a k_{2}}{2} \\right)}\\\\0 & 4.0 J_{2} & 4.0 J_{2} \\cos{\\left(\\frac{a k_{1}}{2} \\right)} \\cos{\\left(\\frac{\\sqrt{3} a k_{2}}{2} \\right)} & 0\\\\0 & 4.0 J_{2} \\cos{\\left(\\frac{a k_{1}}{2} \\right)} \\cos{\\left(\\frac{\\sqrt{3} a k_{2}}{2} \\right)} & 4.0 J_{2} & 0\\\\4.0 J_{2} \\cos{\\left(\\frac{a k_{1}}{2} \\right)} \\cos{\\left(\\frac{\\sqrt{3} a k_{2}}{2} \\right)} & 0 & 0 & 4.0 J_{2}\\end{matrix}\\right]$"
      ],
      "text/plain": [
       "Matrix([\n",
       "[                                4.0*J2,                                      0,                                      0, 4.0*J2*cos(a*k1/2)*cos(sqrt(3)*a*k2/2)],\n",
       "[                                     0,                                 4.0*J2, 4.0*J2*cos(a*k1/2)*cos(sqrt(3)*a*k2/2),                                      0],\n",
       "[                                     0, 4.0*J2*cos(a*k1/2)*cos(sqrt(3)*a*k2/2),                                 4.0*J2,                                      0],\n",
       "[4.0*J2*cos(a*k1/2)*cos(sqrt(3)*a*k2/2),                                      0,                                      0,                                 4.0*J2]])"
      ]
     },
     "execution_count": 51,
     "metadata": {},
     "output_type": "execute_result"
    }
   ],
   "source": [
    "HlswTwoSub = sp.Matrix([[o, o, o, o], [o, o, o, o], [o, o, o, o], [o, o, o, o]])\n",
    "\n",
    "i = 0\n",
    "while i < 4:\n",
    "    j = 0\n",
    "    while j < 4:\n",
    "        HlswTwoSub[i, j] = Mat_Coef_HPJ2_ud[i, j] * FT_3456[i, j]\n",
    "        j += 1\n",
    "    i += 1\n",
    "\n",
    "distri224(Hlsw_J2J3, HlswTwoSub, 1, 3)\n",
    "HlswTwoSub"
   ]
  },
  {
   "cell_type": "code",
   "execution_count": 52,
   "metadata": {
    "scrolled": true
   },
   "outputs": [
    {
     "data": {
      "text/latex": [
       "$\\displaystyle \\left[\\begin{matrix}4.0 J_{2} + 3.0 J_{3} & 0 & 0 & 0 & 0 & 0 & 4.0 J_{2} \\cos{\\left(\\frac{a k_{1}}{2} \\right)} \\cos{\\left(\\frac{\\sqrt{3} a k_{2}}{2} \\right)} & 1.0 J_{3} \\cdot \\left(2 e^{\\frac{\\sqrt{3} i a k_{2}}{3}} \\cos{\\left(a k_{1} \\right)} + e^{- \\frac{2 \\sqrt{3} i a k_{2}}{3}}\\right)\\\\0 & 4.0 J_{2} + 3.0 J_{3} & 0 & 0 & 0 & 0 & 1.0 J_{3} \\left(e^{i \\left(- a k_{1} + \\frac{\\sqrt{3} a k_{2}}{3}\\right)} + e^{i \\left(a k_{1} + \\frac{\\sqrt{3} a k_{2}}{3}\\right)} + e^{- \\frac{2 \\sqrt{3} i a k_{2}}{3}}\\right) & 4.0 J_{2} \\cos{\\left(\\frac{a k_{1}}{2} \\right)} \\cos{\\left(\\frac{\\sqrt{3} a k_{2}}{2} \\right)}\\\\0 & 0 & 4.0 J_{2} + 3.0 J_{3} & 0 & 4.0 J_{2} \\cos{\\left(\\frac{a k_{1}}{2} \\right)} \\cos{\\left(\\frac{\\sqrt{3} a k_{2}}{2} \\right)} & 1.0 J_{3} \\left(e^{\\frac{2 \\sqrt{3} i a k_{2}}{3}} + e^{- i \\left(a k_{1} + \\frac{\\sqrt{3} a k_{2}}{3}\\right)} + e^{- i \\left(- a k_{1} + \\frac{\\sqrt{3} a k_{2}}{3}\\right)}\\right) & 0 & 0\\\\0 & 0 & 0 & 4.0 J_{2} + 3.0 J_{3} & 1.0 J_{3} \\left(e^{\\frac{2 \\sqrt{3} i a k_{2}}{3}} + 2 e^{- \\frac{\\sqrt{3} i a k_{2}}{3}} \\cos{\\left(a k_{1} \\right)}\\right) & 4.0 J_{2} \\cos{\\left(\\frac{a k_{1}}{2} \\right)} \\cos{\\left(\\frac{\\sqrt{3} a k_{2}}{2} \\right)} & 0 & 0\\\\0 & 0 & 4.0 J_{2} \\cos{\\left(\\frac{a k_{1}}{2} \\right)} \\cos{\\left(\\frac{\\sqrt{3} a k_{2}}{2} \\right)} & 1.0 J_{3} \\cdot \\left(2 e^{\\frac{\\sqrt{3} i a k_{2}}{3}} \\cos{\\left(a k_{1} \\right)} + e^{- \\frac{2 \\sqrt{3} i a k_{2}}{3}}\\right) & 4.0 J_{2} + 3.0 J_{3} & 0 & 0 & 0\\\\0 & 0 & 1.0 J_{3} \\left(e^{i \\left(- a k_{1} + \\frac{\\sqrt{3} a k_{2}}{3}\\right)} + e^{i \\left(a k_{1} + \\frac{\\sqrt{3} a k_{2}}{3}\\right)} + e^{- \\frac{2 \\sqrt{3} i a k_{2}}{3}}\\right) & 4.0 J_{2} \\cos{\\left(\\frac{a k_{1}}{2} \\right)} \\cos{\\left(\\frac{\\sqrt{3} a k_{2}}{2} \\right)} & 0 & 4.0 J_{2} + 3.0 J_{3} & 0 & 0\\\\4.0 J_{2} \\cos{\\left(\\frac{a k_{1}}{2} \\right)} \\cos{\\left(\\frac{\\sqrt{3} a k_{2}}{2} \\right)} & 1.0 J_{3} \\left(e^{\\frac{2 \\sqrt{3} i a k_{2}}{3}} + e^{- i \\left(a k_{1} + \\frac{\\sqrt{3} a k_{2}}{3}\\right)} + e^{- i \\left(- a k_{1} + \\frac{\\sqrt{3} a k_{2}}{3}\\right)}\\right) & 0 & 0 & 0 & 0 & 4.0 J_{2} + 3.0 J_{3} & 0\\\\1.0 J_{3} \\left(e^{\\frac{2 \\sqrt{3} i a k_{2}}{3}} + 2 e^{- \\frac{\\sqrt{3} i a k_{2}}{3}} \\cos{\\left(a k_{1} \\right)}\\right) & 4.0 J_{2} \\cos{\\left(\\frac{a k_{1}}{2} \\right)} \\cos{\\left(\\frac{\\sqrt{3} a k_{2}}{2} \\right)} & 0 & 0 & 0 & 0 & 0 & 4.0 J_{2} + 3.0 J_{3}\\end{matrix}\\right]$"
      ],
      "text/plain": [
       "Matrix([\n",
       "[                                                      4.0*J2 + 3.0*J3,                                                                                                     0,                                                                                                    0,                                                                     0,                                                                     0,                                                                                                     0,                                                               4.0*J2*cos(a*k1/2)*cos(sqrt(3)*a*k2/2), 1.0*J3*(2*exp(sqrt(3)*I*a*k2/3)*cos(a*k1) + exp(-2*sqrt(3)*I*a*k2/3))],\n",
       "[                                                                    0,                                                                                       4.0*J2 + 3.0*J3,                                                                                                    0,                                                                     0,                                                                     0,                                                                                                     0, 1.0*J3*(exp(I*(-a*k1 + sqrt(3)*a*k2/3)) + exp(I*(a*k1 + sqrt(3)*a*k2/3)) + exp(-2*sqrt(3)*I*a*k2/3)),                                4.0*J2*cos(a*k1/2)*cos(sqrt(3)*a*k2/2)],\n",
       "[                                                                    0,                                                                                                     0,                                                                                      4.0*J2 + 3.0*J3,                                                                     0,                                4.0*J2*cos(a*k1/2)*cos(sqrt(3)*a*k2/2), 1.0*J3*(exp(2*sqrt(3)*I*a*k2/3) + exp(-I*(a*k1 + sqrt(3)*a*k2/3)) + exp(-I*(-a*k1 + sqrt(3)*a*k2/3))),                                                                                                    0,                                                                     0],\n",
       "[                                                                    0,                                                                                                     0,                                                                                                    0,                                                       4.0*J2 + 3.0*J3, 1.0*J3*(exp(2*sqrt(3)*I*a*k2/3) + 2*exp(-sqrt(3)*I*a*k2/3)*cos(a*k1)),                                                                4.0*J2*cos(a*k1/2)*cos(sqrt(3)*a*k2/2),                                                                                                    0,                                                                     0],\n",
       "[                                                                    0,                                                                                                     0,                                                               4.0*J2*cos(a*k1/2)*cos(sqrt(3)*a*k2/2), 1.0*J3*(2*exp(sqrt(3)*I*a*k2/3)*cos(a*k1) + exp(-2*sqrt(3)*I*a*k2/3)),                                                       4.0*J2 + 3.0*J3,                                                                                                     0,                                                                                                    0,                                                                     0],\n",
       "[                                                                    0,                                                                                                     0, 1.0*J3*(exp(I*(-a*k1 + sqrt(3)*a*k2/3)) + exp(I*(a*k1 + sqrt(3)*a*k2/3)) + exp(-2*sqrt(3)*I*a*k2/3)),                                4.0*J2*cos(a*k1/2)*cos(sqrt(3)*a*k2/2),                                                                     0,                                                                                       4.0*J2 + 3.0*J3,                                                                                                    0,                                                                     0],\n",
       "[                               4.0*J2*cos(a*k1/2)*cos(sqrt(3)*a*k2/2), 1.0*J3*(exp(2*sqrt(3)*I*a*k2/3) + exp(-I*(a*k1 + sqrt(3)*a*k2/3)) + exp(-I*(-a*k1 + sqrt(3)*a*k2/3))),                                                                                                    0,                                                                     0,                                                                     0,                                                                                                     0,                                                                                      4.0*J2 + 3.0*J3,                                                                     0],\n",
       "[1.0*J3*(exp(2*sqrt(3)*I*a*k2/3) + 2*exp(-sqrt(3)*I*a*k2/3)*cos(a*k1)),                                                                4.0*J2*cos(a*k1/2)*cos(sqrt(3)*a*k2/2),                                                                                                    0,                                                                     0,                                                                     0,                                                                                                     0,                                                                                                    0,                                                       4.0*J2 + 3.0*J3]])"
      ]
     },
     "execution_count": 52,
     "metadata": {},
     "output_type": "execute_result"
    }
   ],
   "source": [
    "Hlsw_J2J3"
   ]
  },
  {
   "cell_type": "code",
   "execution_count": 53,
   "metadata": {},
   "outputs": [],
   "source": [
    "# up-up couplings\n",
    "Hberg_ud = V1 * sp.Transpose(V1) + V2 * sp.Transpose(V2) + V3 * sp.Transpose(V3)\n",
    "\n",
    "H_J2 = J2*Hberg_uu\n",
    "\n",
    "HP_J2_uu = sp.Integer(0)\n",
    "\n",
    "i = 0\n",
    "while i < 3:\n",
    "    j = 0\n",
    "    while j < 3:\n",
    "        HP_J2_uu = HP_J2_uu + H_J2[i, j] * HPbosons[i, j]\n",
    "        j += 1\n",
    "    i += 1\n",
    "\n",
    "HP_J2_uu = HP_J2_uu.expand()\n",
    "\n",
    "Coef_HPJ2_uu = sp.Matrix([o, o, o, o, o, o])\n",
    "Coef_HPJ2_uu[0, 0] = HP_J2_uu.coeff(e)\n",
    "Coef_HPJ2_uu[1, 0] = HP_J2_uu.coeff(f)\n",
    "Coef_HPJ2_uu[2, 0] = HP_J2_uu.coeff(g)\n",
    "Coef_HPJ2_uu[3, 0] = HP_J2_uu.coeff(h)\n",
    "Coef_HPJ2_uu[4, 0] = HP_J2_uu.coeff(n_i)\n",
    "Coef_HPJ2_uu[5, 0] = HP_J2_uu.coeff(n_j)\n",
    "\n",
    "Mat_Coef_HPJ2_uu = sp.Matrix([\n",
    "    [Coef_HPJ2_uu[4, 0], Coef_HPJ2_uu[2, 0], o, Coef_HPJ2_uu[3, 0]],\n",
    "    [Coef_HPJ2_uu[1, 0], Coef_HPJ2_uu[5, 0], Coef_HPJ2_uu[3, 0], o],\n",
    "    [o, Coef_HPJ2_uu[0, 0], Coef_HPJ2_uu[5, 0], Coef_HPJ2_uu[2, 0]],\n",
    "    [Coef_HPJ2_uu[0, 0], o, Coef_HPJ2_uu[1, 0], Coef_HPJ2_uu[4, 0]]\n",
    "    ])"
   ]
  },
  {
   "cell_type": "code",
   "execution_count": 54,
   "metadata": {},
   "outputs": [],
   "source": [
    "# down-down couplings\n",
    "Hberg_ud = W1 * sp.Transpose(W1) + W2 * sp.Transpose(W2) + W3 * sp.Transpose(W3)\n",
    "\n",
    "H_J2 = J2*Hberg_dd\n",
    "\n",
    "HP_J2_dd = sp.Integer(0)\n",
    "\n",
    "i = 0\n",
    "while i < 3:\n",
    "    j = 0\n",
    "    while j < 3:\n",
    "        HP_J2_dd = HP_J2_dd + H_J2[i, j] * HPbosons[i, j]\n",
    "        j += 1\n",
    "    i += 1\n",
    "\n",
    "HP_J2_dd = HP_J2_dd.expand()\n",
    "\n",
    "Coef_HPJ2_dd = sp.Matrix([o, o, o, o, o, o])\n",
    "Coef_HPJ2_dd[0, 0] = HP_J2_dd.coeff(e)\n",
    "Coef_HPJ2_dd[1, 0] = HP_J2_dd.coeff(f)\n",
    "Coef_HPJ2_dd[2, 0] = HP_J2_dd.coeff(g)\n",
    "Coef_HPJ2_dd[3, 0] = HP_J2_dd.coeff(h)\n",
    "Coef_HPJ2_dd[4, 0] = HP_J2_dd.coeff(n_i)\n",
    "Coef_HPJ2_dd[5, 0] = HP_J2_dd.coeff(n_j)\n",
    "\n",
    "Mat_Coef_HPJ2_dd = sp.Matrix([\n",
    "    [Coef_HPJ2_dd[4, 0], Coef_HPJ2_dd[2, 0], o, Coef_HPJ2_dd[3, 0]],\n",
    "    [Coef_HPJ2_dd[1, 0], Coef_HPJ2_dd[5, 0], Coef_HPJ2_dd[3, 0], o],\n",
    "    [o, Coef_HPJ2_dd[0, 0], Coef_HPJ2_dd[5, 0], Coef_HPJ2_dd[2, 0]],\n",
    "    [Coef_HPJ2_dd[0, 0], o, Coef_HPJ2_dd[1, 0], Coef_HPJ2_dd[4, 0]]\n",
    "    ])"
   ]
  },
  {
   "cell_type": "code",
   "execution_count": 55,
   "metadata": {},
   "outputs": [],
   "source": [
    "FT_12 = sp.Matrix([[ii, sp.cos(k.dot(delta1)), o, sp.cos(k.dot(delta1))], [sp.cos(k.dot(delta1)), ii, sp.cos(k.dot(delta1)), o], [o, sp.cos(k.dot(delta1)), ii, sp.cos(k.dot(delta1))], [sp.cos(k.dot(delta1)), o, sp.cos(k.dot(delta1)), ii]])"
   ]
  },
  {
   "cell_type": "code",
   "execution_count": 56,
   "metadata": {},
   "outputs": [
    {
     "data": {
      "text/latex": [
       "$\\displaystyle \\left[\\begin{matrix}1 & \\cos{\\left(a k_{1} \\right)} & 0 & \\cos{\\left(a k_{1} \\right)}\\\\\\cos{\\left(a k_{1} \\right)} & 1 & \\cos{\\left(a k_{1} \\right)} & 0\\\\0 & \\cos{\\left(a k_{1} \\right)} & 1 & \\cos{\\left(a k_{1} \\right)}\\\\\\cos{\\left(a k_{1} \\right)} & 0 & \\cos{\\left(a k_{1} \\right)} & 1\\end{matrix}\\right]$"
      ],
      "text/plain": [
       "Matrix([\n",
       "[        1, cos(a*k1),         0, cos(a*k1)],\n",
       "[cos(a*k1),         1, cos(a*k1),         0],\n",
       "[        0, cos(a*k1),         1, cos(a*k1)],\n",
       "[cos(a*k1),         0, cos(a*k1),         1]])"
      ]
     },
     "execution_count": 56,
     "metadata": {},
     "output_type": "execute_result"
    }
   ],
   "source": [
    "FT_12"
   ]
  },
  {
   "cell_type": "code",
   "execution_count": 57,
   "metadata": {},
   "outputs": [
    {
     "data": {
      "text/latex": [
       "$\\displaystyle \\left[\\begin{matrix}- J_{2} & J_{2} \\cos{\\left(a k_{1} \\right)} & 0 & 0\\\\J_{2} \\cos{\\left(a k_{1} \\right)} & - J_{2} & 0 & 0\\\\0 & 0 & - J_{2} & J_{2} \\cos{\\left(a k_{1} \\right)}\\\\0 & 0 & J_{2} \\cos{\\left(a k_{1} \\right)} & - J_{2}\\end{matrix}\\right]$"
      ],
      "text/plain": [
       "Matrix([\n",
       "[         -J2, J2*cos(a*k1),            0,            0],\n",
       "[J2*cos(a*k1),          -J2,            0,            0],\n",
       "[           0,            0,          -J2, J2*cos(a*k1)],\n",
       "[           0,            0, J2*cos(a*k1),          -J2]])"
      ]
     },
     "execution_count": 57,
     "metadata": {},
     "output_type": "execute_result"
    }
   ],
   "source": [
    "# up-up J2 bonds\n",
    "HlswTwoSub = sp.Matrix([[o, o, o, o], [o, o, o, o], [o, o, o, o], [o, o, o, o]])\n",
    "\n",
    "i = 0\n",
    "while i < 4:\n",
    "    j = 0\n",
    "    while j < 4:\n",
    "        HlswTwoSub[i, j] = Mat_Coef_HPJ2_uu[i, j] * FT_12[i, j]\n",
    "        j += 1\n",
    "    i += 1\n",
    "\n",
    "distri224(Hlsw_J2J3, HlswTwoSub, 0, 0)\n",
    "HlswTwoSub"
   ]
  },
  {
   "cell_type": "code",
   "execution_count": 58,
   "metadata": {
    "scrolled": false
   },
   "outputs": [
    {
     "data": {
      "text/latex": [
       "$\\displaystyle \\left[\\begin{matrix}- J_{2} & J_{2} \\cos{\\left(a k_{1} \\right)} & 0 & 0\\\\J_{2} \\cos{\\left(a k_{1} \\right)} & - J_{2} & 0 & 0\\\\0 & 0 & - J_{2} & J_{2} \\cos{\\left(a k_{1} \\right)}\\\\0 & 0 & J_{2} \\cos{\\left(a k_{1} \\right)} & - J_{2}\\end{matrix}\\right]$"
      ],
      "text/plain": [
       "Matrix([\n",
       "[         -J2, J2*cos(a*k1),            0,            0],\n",
       "[J2*cos(a*k1),          -J2,            0,            0],\n",
       "[           0,            0,          -J2, J2*cos(a*k1)],\n",
       "[           0,            0, J2*cos(a*k1),          -J2]])"
      ]
     },
     "execution_count": 58,
     "metadata": {},
     "output_type": "execute_result"
    }
   ],
   "source": [
    "distri224(Hlsw_J2J3, HlswTwoSub, 1, 1)\n",
    "HlswTwoSub"
   ]
  },
  {
   "cell_type": "code",
   "execution_count": 59,
   "metadata": {},
   "outputs": [
    {
     "data": {
      "text/latex": [
       "$\\displaystyle \\left[\\begin{matrix}- 1.0 J_{2} & 1.0 J_{2} \\cos{\\left(a k_{1} \\right)} & 0 & 0\\\\1.0 J_{2} \\cos{\\left(a k_{1} \\right)} & - 1.0 J_{2} & 0 & 0\\\\0 & 0 & - 1.0 J_{2} & 1.0 J_{2} \\cos{\\left(a k_{1} \\right)}\\\\0 & 0 & 1.0 J_{2} \\cos{\\left(a k_{1} \\right)} & - 1.0 J_{2}\\end{matrix}\\right]$"
      ],
      "text/plain": [
       "Matrix([\n",
       "[         -1.0*J2, 1.0*J2*cos(a*k1),                0,                0],\n",
       "[1.0*J2*cos(a*k1),          -1.0*J2,                0,                0],\n",
       "[               0,                0,          -1.0*J2, 1.0*J2*cos(a*k1)],\n",
       "[               0,                0, 1.0*J2*cos(a*k1),          -1.0*J2]])"
      ]
     },
     "execution_count": 59,
     "metadata": {},
     "output_type": "execute_result"
    }
   ],
   "source": [
    "# down-down J2 bonds\n",
    "HlswTwoSub = sp.Matrix([[o, o, o, o], [o, o, o, o], [o, o, o, o], [o, o, o, o]])\n",
    "\n",
    "i = 0\n",
    "while i < 4:\n",
    "    j = 0\n",
    "    while j < 4:\n",
    "        HlswTwoSub[i, j] = Mat_Coef_HPJ2_dd[i, j] * FT_12[i, j]\n",
    "        j += 1\n",
    "    i += 1\n",
    "\n",
    "distri224(Hlsw_J2J3, HlswTwoSub, 2, 2)\n",
    "HlswTwoSub"
   ]
  },
  {
   "cell_type": "code",
   "execution_count": 60,
   "metadata": {},
   "outputs": [
    {
     "data": {
      "text/latex": [
       "$\\displaystyle \\left[\\begin{matrix}- 1.0 J_{2} & 1.0 J_{2} \\cos{\\left(a k_{1} \\right)} & 0 & 0\\\\1.0 J_{2} \\cos{\\left(a k_{1} \\right)} & - 1.0 J_{2} & 0 & 0\\\\0 & 0 & - 1.0 J_{2} & 1.0 J_{2} \\cos{\\left(a k_{1} \\right)}\\\\0 & 0 & 1.0 J_{2} \\cos{\\left(a k_{1} \\right)} & - 1.0 J_{2}\\end{matrix}\\right]$"
      ],
      "text/plain": [
       "Matrix([\n",
       "[         -1.0*J2, 1.0*J2*cos(a*k1),                0,                0],\n",
       "[1.0*J2*cos(a*k1),          -1.0*J2,                0,                0],\n",
       "[               0,                0,          -1.0*J2, 1.0*J2*cos(a*k1)],\n",
       "[               0,                0, 1.0*J2*cos(a*k1),          -1.0*J2]])"
      ]
     },
     "execution_count": 60,
     "metadata": {},
     "output_type": "execute_result"
    }
   ],
   "source": [
    "distri224(Hlsw_J2J3, HlswTwoSub, 3, 3)\n",
    "HlswTwoSub"
   ]
  },
  {
   "cell_type": "code",
   "execution_count": 61,
   "metadata": {},
   "outputs": [
    {
     "data": {
      "text/latex": [
       "$\\displaystyle \\left[\\begin{matrix}2 J_{2} \\cos{\\left(a k_{1} \\right)} + 2.0 J_{2} + 3.0 J_{3} & 0 & 0 & 0 & 0 & 0 & 4.0 J_{2} \\cos{\\left(\\frac{a k_{1}}{2} \\right)} \\cos{\\left(\\frac{\\sqrt{3} a k_{2}}{2} \\right)} & 1.0 J_{3} \\cdot \\left(2 e^{\\frac{\\sqrt{3} i a k_{2}}{3}} \\cos{\\left(a k_{1} \\right)} + e^{- \\frac{2 \\sqrt{3} i a k_{2}}{3}}\\right)\\\\0 & 2 J_{2} \\cos{\\left(a k_{1} \\right)} + 2.0 J_{2} + 3.0 J_{3} & 0 & 0 & 0 & 0 & 1.0 J_{3} \\left(e^{i \\left(- a k_{1} + \\frac{\\sqrt{3} a k_{2}}{3}\\right)} + e^{i \\left(a k_{1} + \\frac{\\sqrt{3} a k_{2}}{3}\\right)} + e^{- \\frac{2 \\sqrt{3} i a k_{2}}{3}}\\right) & 4.0 J_{2} \\cos{\\left(\\frac{a k_{1}}{2} \\right)} \\cos{\\left(\\frac{\\sqrt{3} a k_{2}}{2} \\right)}\\\\0 & 0 & 2.0 J_{2} \\cos{\\left(a k_{1} \\right)} + 2.0 J_{2} + 3.0 J_{3} & 0 & 4.0 J_{2} \\cos{\\left(\\frac{a k_{1}}{2} \\right)} \\cos{\\left(\\frac{\\sqrt{3} a k_{2}}{2} \\right)} & 1.0 J_{3} \\left(e^{\\frac{2 \\sqrt{3} i a k_{2}}{3}} + e^{- i \\left(a k_{1} + \\frac{\\sqrt{3} a k_{2}}{3}\\right)} + e^{- i \\left(- a k_{1} + \\frac{\\sqrt{3} a k_{2}}{3}\\right)}\\right) & 0 & 0\\\\0 & 0 & 0 & 2.0 J_{2} \\cos{\\left(a k_{1} \\right)} + 2.0 J_{2} + 3.0 J_{3} & 1.0 J_{3} \\left(e^{\\frac{2 \\sqrt{3} i a k_{2}}{3}} + 2 e^{- \\frac{\\sqrt{3} i a k_{2}}{3}} \\cos{\\left(a k_{1} \\right)}\\right) & 4.0 J_{2} \\cos{\\left(\\frac{a k_{1}}{2} \\right)} \\cos{\\left(\\frac{\\sqrt{3} a k_{2}}{2} \\right)} & 0 & 0\\\\0 & 0 & 4.0 J_{2} \\cos{\\left(\\frac{a k_{1}}{2} \\right)} \\cos{\\left(\\frac{\\sqrt{3} a k_{2}}{2} \\right)} & 1.0 J_{3} \\cdot \\left(2 e^{\\frac{\\sqrt{3} i a k_{2}}{3}} \\cos{\\left(a k_{1} \\right)} + e^{- \\frac{2 \\sqrt{3} i a k_{2}}{3}}\\right) & 2 J_{2} \\cos{\\left(a k_{1} \\right)} + 2.0 J_{2} + 3.0 J_{3} & 0 & 0 & 0\\\\0 & 0 & 1.0 J_{3} \\left(e^{i \\left(- a k_{1} + \\frac{\\sqrt{3} a k_{2}}{3}\\right)} + e^{i \\left(a k_{1} + \\frac{\\sqrt{3} a k_{2}}{3}\\right)} + e^{- \\frac{2 \\sqrt{3} i a k_{2}}{3}}\\right) & 4.0 J_{2} \\cos{\\left(\\frac{a k_{1}}{2} \\right)} \\cos{\\left(\\frac{\\sqrt{3} a k_{2}}{2} \\right)} & 0 & 2 J_{2} \\cos{\\left(a k_{1} \\right)} + 2.0 J_{2} + 3.0 J_{3} & 0 & 0\\\\4.0 J_{2} \\cos{\\left(\\frac{a k_{1}}{2} \\right)} \\cos{\\left(\\frac{\\sqrt{3} a k_{2}}{2} \\right)} & 1.0 J_{3} \\left(e^{\\frac{2 \\sqrt{3} i a k_{2}}{3}} + e^{- i \\left(a k_{1} + \\frac{\\sqrt{3} a k_{2}}{3}\\right)} + e^{- i \\left(- a k_{1} + \\frac{\\sqrt{3} a k_{2}}{3}\\right)}\\right) & 0 & 0 & 0 & 0 & 2.0 J_{2} \\cos{\\left(a k_{1} \\right)} + 2.0 J_{2} + 3.0 J_{3} & 0\\\\1.0 J_{3} \\left(e^{\\frac{2 \\sqrt{3} i a k_{2}}{3}} + 2 e^{- \\frac{\\sqrt{3} i a k_{2}}{3}} \\cos{\\left(a k_{1} \\right)}\\right) & 4.0 J_{2} \\cos{\\left(\\frac{a k_{1}}{2} \\right)} \\cos{\\left(\\frac{\\sqrt{3} a k_{2}}{2} \\right)} & 0 & 0 & 0 & 0 & 0 & 2.0 J_{2} \\cos{\\left(a k_{1} \\right)} + 2.0 J_{2} + 3.0 J_{3}\\end{matrix}\\right]$"
      ],
      "text/plain": [
       "Matrix([\n",
       "[                                     2*J2*cos(a*k1) + 2.0*J2 + 3.0*J3,                                                                                                     0,                                                                                                    0,                                                                     0,                                                                     0,                                                                                                     0,                                                               4.0*J2*cos(a*k1/2)*cos(sqrt(3)*a*k2/2), 1.0*J3*(2*exp(sqrt(3)*I*a*k2/3)*cos(a*k1) + exp(-2*sqrt(3)*I*a*k2/3))],\n",
       "[                                                                    0,                                                                      2*J2*cos(a*k1) + 2.0*J2 + 3.0*J3,                                                                                                    0,                                                                     0,                                                                     0,                                                                                                     0, 1.0*J3*(exp(I*(-a*k1 + sqrt(3)*a*k2/3)) + exp(I*(a*k1 + sqrt(3)*a*k2/3)) + exp(-2*sqrt(3)*I*a*k2/3)),                                4.0*J2*cos(a*k1/2)*cos(sqrt(3)*a*k2/2)],\n",
       "[                                                                    0,                                                                                                     0,                                                                   2.0*J2*cos(a*k1) + 2.0*J2 + 3.0*J3,                                                                     0,                                4.0*J2*cos(a*k1/2)*cos(sqrt(3)*a*k2/2), 1.0*J3*(exp(2*sqrt(3)*I*a*k2/3) + exp(-I*(a*k1 + sqrt(3)*a*k2/3)) + exp(-I*(-a*k1 + sqrt(3)*a*k2/3))),                                                                                                    0,                                                                     0],\n",
       "[                                                                    0,                                                                                                     0,                                                                                                    0,                                    2.0*J2*cos(a*k1) + 2.0*J2 + 3.0*J3, 1.0*J3*(exp(2*sqrt(3)*I*a*k2/3) + 2*exp(-sqrt(3)*I*a*k2/3)*cos(a*k1)),                                                                4.0*J2*cos(a*k1/2)*cos(sqrt(3)*a*k2/2),                                                                                                    0,                                                                     0],\n",
       "[                                                                    0,                                                                                                     0,                                                               4.0*J2*cos(a*k1/2)*cos(sqrt(3)*a*k2/2), 1.0*J3*(2*exp(sqrt(3)*I*a*k2/3)*cos(a*k1) + exp(-2*sqrt(3)*I*a*k2/3)),                                      2*J2*cos(a*k1) + 2.0*J2 + 3.0*J3,                                                                                                     0,                                                                                                    0,                                                                     0],\n",
       "[                                                                    0,                                                                                                     0, 1.0*J3*(exp(I*(-a*k1 + sqrt(3)*a*k2/3)) + exp(I*(a*k1 + sqrt(3)*a*k2/3)) + exp(-2*sqrt(3)*I*a*k2/3)),                                4.0*J2*cos(a*k1/2)*cos(sqrt(3)*a*k2/2),                                                                     0,                                                                      2*J2*cos(a*k1) + 2.0*J2 + 3.0*J3,                                                                                                    0,                                                                     0],\n",
       "[                               4.0*J2*cos(a*k1/2)*cos(sqrt(3)*a*k2/2), 1.0*J3*(exp(2*sqrt(3)*I*a*k2/3) + exp(-I*(a*k1 + sqrt(3)*a*k2/3)) + exp(-I*(-a*k1 + sqrt(3)*a*k2/3))),                                                                                                    0,                                                                     0,                                                                     0,                                                                                                     0,                                                                   2.0*J2*cos(a*k1) + 2.0*J2 + 3.0*J3,                                                                     0],\n",
       "[1.0*J3*(exp(2*sqrt(3)*I*a*k2/3) + 2*exp(-sqrt(3)*I*a*k2/3)*cos(a*k1)),                                                                4.0*J2*cos(a*k1/2)*cos(sqrt(3)*a*k2/2),                                                                                                    0,                                                                     0,                                                                     0,                                                                                                     0,                                                                                                    0,                                    2.0*J2*cos(a*k1) + 2.0*J2 + 3.0*J3]])"
      ]
     },
     "execution_count": 61,
     "metadata": {},
     "output_type": "execute_result"
    }
   ],
   "source": [
    "Hlsw_J2J3"
   ]
  },
  {
   "cell_type": "code",
   "execution_count": 62,
   "metadata": {},
   "outputs": [],
   "source": [
    "Hlsw = Hlsw_rucl3 + 1/2*Hlsw_J2J3"
   ]
  },
  {
   "cell_type": "code",
   "execution_count": 63,
   "metadata": {},
   "outputs": [
    {
     "data": {
      "text/latex": [
       "$\\displaystyle \\left[\\begin{matrix}- 0.5 J + 1.0 J_{2} \\cos{\\left(a k_{1} \\right)} + 1.0 J_{2} + 1.5 J_{3} & 0.5 J e^{- i \\left(\\frac{a k_{1}}{2} + \\frac{\\sqrt{3} a k_{2}}{6}\\right)} + 0.5 J e^{- i \\left(- \\frac{a k_{1}}{2} + \\frac{\\sqrt{3} a k_{2}}{6}\\right)} & 0 & 0 & 0 & 0 & 2.0 J_{2} \\cos{\\left(\\frac{a k_{1}}{2} \\right)} \\cos{\\left(\\frac{\\sqrt{3} a k_{2}}{2} \\right)} & 0.5 J e^{\\frac{\\sqrt{3} i a k_{2}}{3}} + 0.5 J_{3} \\cdot \\left(2 e^{\\frac{\\sqrt{3} i a k_{2}}{3}} \\cos{\\left(a k_{1} \\right)} + e^{- \\frac{2 \\sqrt{3} i a k_{2}}{3}}\\right)\\\\0.5 J e^{i \\left(- \\frac{a k_{1}}{2} + \\frac{\\sqrt{3} a k_{2}}{6}\\right)} + 0.5 J e^{i \\left(\\frac{a k_{1}}{2} + \\frac{\\sqrt{3} a k_{2}}{6}\\right)} & - 0.5 J + 1.0 J_{2} \\cos{\\left(a k_{1} \\right)} + 1.0 J_{2} + 1.5 J_{3} & 0 & 0 & 0 & 0 & 0.5 J e^{- \\frac{\\sqrt{3} i a k_{2}}{3}} + 0.5 J_{3} \\left(e^{i \\left(- a k_{1} + \\frac{\\sqrt{3} a k_{2}}{3}\\right)} + e^{i \\left(a k_{1} + \\frac{\\sqrt{3} a k_{2}}{3}\\right)} + e^{- \\frac{2 \\sqrt{3} i a k_{2}}{3}}\\right) & 2.0 J_{2} \\cos{\\left(\\frac{a k_{1}}{2} \\right)} \\cos{\\left(\\frac{\\sqrt{3} a k_{2}}{2} \\right)}\\\\0 & 0 & - 0.5 J + 1.0 J_{2} \\cos{\\left(a k_{1} \\right)} + 1.0 J_{2} + 1.5 J_{3} & 0.5 J e^{- i \\left(\\frac{a k_{1}}{2} + \\frac{\\sqrt{3} a k_{2}}{6}\\right)} + 0.5 J e^{- i \\left(- \\frac{a k_{1}}{2} + \\frac{\\sqrt{3} a k_{2}}{6}\\right)} & 2.0 J_{2} \\cos{\\left(\\frac{a k_{1}}{2} \\right)} \\cos{\\left(\\frac{\\sqrt{3} a k_{2}}{2} \\right)} & 0.5 J e^{\\frac{\\sqrt{3} i a k_{2}}{3}} + 0.5 J_{3} \\left(e^{\\frac{2 \\sqrt{3} i a k_{2}}{3}} + e^{- i \\left(a k_{1} + \\frac{\\sqrt{3} a k_{2}}{3}\\right)} + e^{- i \\left(- a k_{1} + \\frac{\\sqrt{3} a k_{2}}{3}\\right)}\\right) & 0 & 0\\\\0 & 0 & 0.5 J e^{i \\left(- \\frac{a k_{1}}{2} + \\frac{\\sqrt{3} a k_{2}}{6}\\right)} + 0.5 J e^{i \\left(\\frac{a k_{1}}{2} + \\frac{\\sqrt{3} a k_{2}}{6}\\right)} & - 0.5 J + 1.0 J_{2} \\cos{\\left(a k_{1} \\right)} + 1.0 J_{2} + 1.5 J_{3} & 0.5 J e^{- \\frac{\\sqrt{3} i a k_{2}}{3}} + 0.5 J_{3} \\left(e^{\\frac{2 \\sqrt{3} i a k_{2}}{3}} + 2 e^{- \\frac{\\sqrt{3} i a k_{2}}{3}} \\cos{\\left(a k_{1} \\right)}\\right) & 2.0 J_{2} \\cos{\\left(\\frac{a k_{1}}{2} \\right)} \\cos{\\left(\\frac{\\sqrt{3} a k_{2}}{2} \\right)} & 0 & 0\\\\0 & 0 & 2.0 J_{2} \\cos{\\left(\\frac{a k_{1}}{2} \\right)} \\cos{\\left(\\frac{\\sqrt{3} a k_{2}}{2} \\right)} & 0.5 J e^{\\frac{\\sqrt{3} i a k_{2}}{3}} + 0.5 J_{3} \\cdot \\left(2 e^{\\frac{\\sqrt{3} i a k_{2}}{3}} \\cos{\\left(a k_{1} \\right)} + e^{- \\frac{2 \\sqrt{3} i a k_{2}}{3}}\\right) & - 0.5 J + 1.0 J_{2} \\cos{\\left(a k_{1} \\right)} + 1.0 J_{2} + 1.5 J_{3} & 0.5 J e^{- i \\left(\\frac{a k_{1}}{2} + \\frac{\\sqrt{3} a k_{2}}{6}\\right)} + 0.5 J e^{- i \\left(- \\frac{a k_{1}}{2} + \\frac{\\sqrt{3} a k_{2}}{6}\\right)} & 0 & 0\\\\0 & 0 & 0.5 J e^{- \\frac{\\sqrt{3} i a k_{2}}{3}} + 0.5 J_{3} \\left(e^{i \\left(- a k_{1} + \\frac{\\sqrt{3} a k_{2}}{3}\\right)} + e^{i \\left(a k_{1} + \\frac{\\sqrt{3} a k_{2}}{3}\\right)} + e^{- \\frac{2 \\sqrt{3} i a k_{2}}{3}}\\right) & 2.0 J_{2} \\cos{\\left(\\frac{a k_{1}}{2} \\right)} \\cos{\\left(\\frac{\\sqrt{3} a k_{2}}{2} \\right)} & 0.5 J e^{i \\left(- \\frac{a k_{1}}{2} + \\frac{\\sqrt{3} a k_{2}}{6}\\right)} + 0.5 J e^{i \\left(\\frac{a k_{1}}{2} + \\frac{\\sqrt{3} a k_{2}}{6}\\right)} & - 0.5 J + 1.0 J_{2} \\cos{\\left(a k_{1} \\right)} + 1.0 J_{2} + 1.5 J_{3} & 0 & 0\\\\2.0 J_{2} \\cos{\\left(\\frac{a k_{1}}{2} \\right)} \\cos{\\left(\\frac{\\sqrt{3} a k_{2}}{2} \\right)} & 0.5 J e^{\\frac{\\sqrt{3} i a k_{2}}{3}} + 0.5 J_{3} \\left(e^{\\frac{2 \\sqrt{3} i a k_{2}}{3}} + e^{- i \\left(a k_{1} + \\frac{\\sqrt{3} a k_{2}}{3}\\right)} + e^{- i \\left(- a k_{1} + \\frac{\\sqrt{3} a k_{2}}{3}\\right)}\\right) & 0 & 0 & 0 & 0 & - 0.5 J + 1.0 J_{2} \\cos{\\left(a k_{1} \\right)} + 1.0 J_{2} + 1.5 J_{3} & 0.5 J e^{- i \\left(\\frac{a k_{1}}{2} + \\frac{\\sqrt{3} a k_{2}}{6}\\right)} + 0.5 J e^{- i \\left(- \\frac{a k_{1}}{2} + \\frac{\\sqrt{3} a k_{2}}{6}\\right)}\\\\0.5 J e^{- \\frac{\\sqrt{3} i a k_{2}}{3}} + 0.5 J_{3} \\left(e^{\\frac{2 \\sqrt{3} i a k_{2}}{3}} + 2 e^{- \\frac{\\sqrt{3} i a k_{2}}{3}} \\cos{\\left(a k_{1} \\right)}\\right) & 2.0 J_{2} \\cos{\\left(\\frac{a k_{1}}{2} \\right)} \\cos{\\left(\\frac{\\sqrt{3} a k_{2}}{2} \\right)} & 0 & 0 & 0 & 0 & 0.5 J e^{i \\left(- \\frac{a k_{1}}{2} + \\frac{\\sqrt{3} a k_{2}}{6}\\right)} + 0.5 J e^{i \\left(\\frac{a k_{1}}{2} + \\frac{\\sqrt{3} a k_{2}}{6}\\right)} & - 0.5 J + 1.0 J_{2} \\cos{\\left(a k_{1} \\right)} + 1.0 J_{2} + 1.5 J_{3}\\end{matrix}\\right]$"
      ],
      "text/plain": [
       "Matrix([\n",
       "[                                                         -0.5*J + 1.0*J2*cos(a*k1) + 1.0*J2 + 1.5*J3,                                                  0.5*J*exp(-I*(a*k1/2 + sqrt(3)*a*k2/6)) + 0.5*J*exp(-I*(-a*k1/2 + sqrt(3)*a*k2/6)),                                                                                                                                   0,                                                                                                   0,                                                                                                    0,                                                                                                                                   0,                                                                                              2.0*J2*cos(a*k1/2)*cos(sqrt(3)*a*k2/2), 0.5*J*exp(sqrt(3)*I*a*k2/3) + 0.5*J3*(2*exp(sqrt(3)*I*a*k2/3)*cos(a*k1) + exp(-2*sqrt(3)*I*a*k2/3))],\n",
       "[                    0.5*J*exp(I*(-a*k1/2 + sqrt(3)*a*k2/6)) + 0.5*J*exp(I*(a*k1/2 + sqrt(3)*a*k2/6)),                                                                                         -0.5*J + 1.0*J2*cos(a*k1) + 1.0*J2 + 1.5*J3,                                                                                                                                   0,                                                                                                   0,                                                                                                    0,                                                                                                                                   0, 0.5*J*exp(-sqrt(3)*I*a*k2/3) + 0.5*J3*(exp(I*(-a*k1 + sqrt(3)*a*k2/3)) + exp(I*(a*k1 + sqrt(3)*a*k2/3)) + exp(-2*sqrt(3)*I*a*k2/3)),                                                              2.0*J2*cos(a*k1/2)*cos(sqrt(3)*a*k2/2)],\n",
       "[                                                                                                   0,                                                                                                                                   0,                                                                                         -0.5*J + 1.0*J2*cos(a*k1) + 1.0*J2 + 1.5*J3,                  0.5*J*exp(-I*(a*k1/2 + sqrt(3)*a*k2/6)) + 0.5*J*exp(-I*(-a*k1/2 + sqrt(3)*a*k2/6)),                                                               2.0*J2*cos(a*k1/2)*cos(sqrt(3)*a*k2/2), 0.5*J*exp(sqrt(3)*I*a*k2/3) + 0.5*J3*(exp(2*sqrt(3)*I*a*k2/3) + exp(-I*(a*k1 + sqrt(3)*a*k2/3)) + exp(-I*(-a*k1 + sqrt(3)*a*k2/3))),                                                                                                                                   0,                                                                                                   0],\n",
       "[                                                                                                   0,                                                                                                                                   0,                                                    0.5*J*exp(I*(-a*k1/2 + sqrt(3)*a*k2/6)) + 0.5*J*exp(I*(a*k1/2 + sqrt(3)*a*k2/6)),                                                         -0.5*J + 1.0*J2*cos(a*k1) + 1.0*J2 + 1.5*J3, 0.5*J*exp(-sqrt(3)*I*a*k2/3) + 0.5*J3*(exp(2*sqrt(3)*I*a*k2/3) + 2*exp(-sqrt(3)*I*a*k2/3)*cos(a*k1)),                                                                                              2.0*J2*cos(a*k1/2)*cos(sqrt(3)*a*k2/2),                                                                                                                                   0,                                                                                                   0],\n",
       "[                                                                                                   0,                                                                                                                                   0,                                                                                              2.0*J2*cos(a*k1/2)*cos(sqrt(3)*a*k2/2), 0.5*J*exp(sqrt(3)*I*a*k2/3) + 0.5*J3*(2*exp(sqrt(3)*I*a*k2/3)*cos(a*k1) + exp(-2*sqrt(3)*I*a*k2/3)),                                                          -0.5*J + 1.0*J2*cos(a*k1) + 1.0*J2 + 1.5*J3,                                                  0.5*J*exp(-I*(a*k1/2 + sqrt(3)*a*k2/6)) + 0.5*J*exp(-I*(-a*k1/2 + sqrt(3)*a*k2/6)),                                                                                                                                   0,                                                                                                   0],\n",
       "[                                                                                                   0,                                                                                                                                   0, 0.5*J*exp(-sqrt(3)*I*a*k2/3) + 0.5*J3*(exp(I*(-a*k1 + sqrt(3)*a*k2/3)) + exp(I*(a*k1 + sqrt(3)*a*k2/3)) + exp(-2*sqrt(3)*I*a*k2/3)),                                                              2.0*J2*cos(a*k1/2)*cos(sqrt(3)*a*k2/2),                     0.5*J*exp(I*(-a*k1/2 + sqrt(3)*a*k2/6)) + 0.5*J*exp(I*(a*k1/2 + sqrt(3)*a*k2/6)),                                                                                         -0.5*J + 1.0*J2*cos(a*k1) + 1.0*J2 + 1.5*J3,                                                                                                                                   0,                                                                                                   0],\n",
       "[                                                              2.0*J2*cos(a*k1/2)*cos(sqrt(3)*a*k2/2), 0.5*J*exp(sqrt(3)*I*a*k2/3) + 0.5*J3*(exp(2*sqrt(3)*I*a*k2/3) + exp(-I*(a*k1 + sqrt(3)*a*k2/3)) + exp(-I*(-a*k1 + sqrt(3)*a*k2/3))),                                                                                                                                   0,                                                                                                   0,                                                                                                    0,                                                                                                                                   0,                                                                                         -0.5*J + 1.0*J2*cos(a*k1) + 1.0*J2 + 1.5*J3,                  0.5*J*exp(-I*(a*k1/2 + sqrt(3)*a*k2/6)) + 0.5*J*exp(-I*(-a*k1/2 + sqrt(3)*a*k2/6))],\n",
       "[0.5*J*exp(-sqrt(3)*I*a*k2/3) + 0.5*J3*(exp(2*sqrt(3)*I*a*k2/3) + 2*exp(-sqrt(3)*I*a*k2/3)*cos(a*k1)),                                                                                              2.0*J2*cos(a*k1/2)*cos(sqrt(3)*a*k2/2),                                                                                                                                   0,                                                                                                   0,                                                                                                    0,                                                                                                                                   0,                                                    0.5*J*exp(I*(-a*k1/2 + sqrt(3)*a*k2/6)) + 0.5*J*exp(I*(a*k1/2 + sqrt(3)*a*k2/6)),                                                         -0.5*J + 1.0*J2*cos(a*k1) + 1.0*J2 + 1.5*J3]])"
      ]
     },
     "execution_count": 63,
     "metadata": {},
     "output_type": "execute_result"
    }
   ],
   "source": [
    "Hlsw.subs([(K,0),(Gamma,0),(gamma,0),(h,0)])"
   ]
  },
  {
   "cell_type": "code",
   "execution_count": 64,
   "metadata": {},
   "outputs": [],
   "source": [
    "def bdg(hlsw, kx, ky):\n",
    "    # Bogoliubov transformation\n",
    "    sigma_3 = np.diag([1, 1, 1, 1, -1, -1, -1, -1])\n",
    "\n",
    "    global k1\n",
    "    global k2\n",
    "\n",
    "    k1 = sp.Symbol(\"k1\", real=True)\n",
    "    k2 = sp.Symbol(\"k2\", real=True)\n",
    "\n",
    "    H_pure_num = sp.matrices.dense.matrix2numpy(hlsw.subs([(k1, kx), (k2, ky)])).astype(complex)\n",
    "\n",
    "    H_test = H_pure_num-np.transpose(np.conjugate(H_pure_num))\n",
    "\n",
    "    H_BdG = np.matmul(sigma_3, H_pure_num)\n",
    "    eigval_k,eigvec_k = (LA.eig(H_BdG))\n",
    "\n",
    "    idx = np.real(eigval_k).argsort()[::-1]\n",
    "    eigval_k = eigval_k[idx]\n",
    "    eigvec_k = eigvec_k[:, idx]\n",
    "    return eigval_k, eigvec_k"
   ]
  },
  {
   "cell_type": "code",
   "execution_count": 65,
   "metadata": {},
   "outputs": [],
   "source": [
    "def band_high_sym(hlsw, strg, rsln):\n",
    "    eng_all = np.empty((0,8), float)\n",
    "    dk = 2 * np.pi / rsln\n",
    "    fig, ax = spp(facecolor='0.95')\n",
    "\n",
    "    # a = 1\n",
    "    bb = 4 * np.pi / np.sqrt(3)\n",
    "\n",
    "# gamma to X\n",
    "    # step length and number of steps:\n",
    "    n = np.sqrt(3)*bb / 4 / dk\n",
    "    k1_init = 0\n",
    "    k2_init = 0\n",
    "\n",
    "    # denote the high symmetry point\n",
    "    fig.gca().axvline(x=0, color='b', linestyle='dashed')\n",
    "    x_ticks = np.array([0])\n",
    "\n",
    "    i = 0\n",
    "    while i < n:\n",
    "        eng, vec = bdg(hlsw,k1_init + i * dk, k2_init)\n",
    "        eng_all = np.append(eng_all, [eng], axis=0)\n",
    "        print(k1_init + i * dk, k2_init)\n",
    "        i += 1\n",
    "\n",
    "# X to M\n",
    "    # step length and number of steps:\n",
    "    n = bb / 4 / dk\n",
    "\n",
    "    k1_init = np.sqrt(3)*bb / 4\n",
    "    k2_init = 0\n",
    "\n",
    "    # denote the high symmetry point\n",
    "    fig.gca().axvline(x=eng_all.shape[0], color='b', linestyle='dashed')\n",
    "    x_ticks = np.append(x_ticks, [eng_all.shape[0]], axis=0)\n",
    "\n",
    "    i = 0\n",
    "    while i < n:\n",
    "        eng, vec = bdg(hlsw,  k1_init, k2_init - i * dk)\n",
    "        eng_all = np.append(eng_all, [eng], axis=0)\n",
    "        print(k1_init, k2_init - i * dk)\n",
    "        i += 1\n",
    "\n",
    "    # M to Y\n",
    "    # step length and number of steps:\n",
    "    n = np.sqrt(3)*bb / 4 / dk\n",
    "\n",
    "    k1_init = np.sqrt(3)*bb/4\n",
    "    k2_init = bb/4\n",
    "\n",
    "    # denote the high symmetry point\n",
    "    fig.gca().axvline(x=eng_all.shape[0], color='b', linestyle='dashed')\n",
    "    x_ticks = np.append(x_ticks, [eng_all.shape[0]], axis=0)\n",
    "\n",
    "    i = 0\n",
    "    while i < n:\n",
    "        eng, vec = bdg(hlsw, k1_init - i * dk, k2_init)\n",
    "        eng_all = np.append(eng_all, [eng], axis=0)\n",
    "        print(k1_init - i * dk, k2_init)\n",
    "        i += 1\n",
    "\n",
    "    # Y to gamma\n",
    "    # step length and number of steps:\n",
    "    n = bb / 4 / dk\n",
    "\n",
    "    k1_init = 0\n",
    "    k2_init = bb / 4\n",
    "\n",
    "    # denote the high symmetry point\n",
    "    fig.gca().axvline(x=eng_all.shape[0], color='b', linestyle='dashed')\n",
    "    x_ticks = np.append(x_ticks, [eng_all.shape[0]], axis=0)\n",
    "\n",
    "    i = 0\n",
    "    while i < n:\n",
    "        eng, vec = bdg(hlsw, k1_init, k2_init - i * dk)\n",
    "        eng_all = np.append(eng_all, [eng], axis=0)\n",
    "        print(k1_init, k2_init - i * dk)\n",
    "        i += 1\n",
    "\n",
    "    # gamma to M\n",
    "    # step length and number of steps:\n",
    "    n = bb / 2 / dk\n",
    "\n",
    "    k1_init = 0\n",
    "    k2_init = 0\n",
    "\n",
    "    # denote the high symmetry point\n",
    "    fig.gca().axvline(x=eng_all.shape[0], color='b', linestyle='dashed')\n",
    "    x_ticks = np.append(x_ticks, [eng_all.shape[0]], axis=0)\n",
    "\n",
    "    i = 0\n",
    "    while i < n:\n",
    "        eng, vec = bdg(hlsw, k1_init + i * dk * (np.sqrt(3) / 2), k2_init + i * dk * (1 / 2))\n",
    "        eng_all = np.append(eng_all, [eng], axis=0)\n",
    "        print( k1_init + i * dk * (np.sqrt(3) / 2), k2_init + i * dk * (1 / 2))\n",
    "        i += 1\n",
    "    \n",
    "    # denote the high symmetry point\n",
    "    fig.gca().axvline(x=eng_all.shape[0] - 1, color='b', linestyle='dashed')\n",
    "    x_ticks = np.append(x_ticks, [eng_all.shape[0] - 1], axis=0)\n",
    "\n",
    "    num = int(eng_all.size/8)\n",
    "    x = np.linspace(0, num, num, endpoint=False, retstep=False, dtype=None, axis=0)\n",
    "\n",
    "    fig.gca().set_title(\"Band structure along high symmetry line\")\n",
    "    fig.gca().set_xlabel(\"k\")\n",
    "    fig.gca().set_ylabel(\"$ε_{nk}\\ meV$\")\n",
    "    fig.gca().set_xticks(x_ticks)\n",
    "    fig.gca().set_xticklabels(['$\\Gamma$', 'X', 'M', 'Y', \"$\\Gamma$\", 'M'])\n",
    "\n",
    "    print(eng_all)\n",
    "    eng_all = np.reshape(eng_all,(-1,8))\n",
    "    print(np.real(eng_all).max(), np.real(eng_all).min())\n",
    "\n",
    "    i = 0\n",
    "    while i<8:\n",
    "        fig.gca().plot(x, np.real(eng_all[:, i]), color='k')\n",
    "        i+=1\n",
    "\n",
    "    fig.gca().set_ybound(lower=None, upper=np.real(eng_all).max()+5.5)\n",
    "    fig.gca().text(0, np.real(eng_all).max()+3, f\"$[ J1, J2, J3, K, \\Gamma, \\Gamma ', h]$ = [{strg[0]}, {strg[1]}, {strg[2]}, {strg[3]}, {strg[4]}, {strg[5]}, {strg[6]}]\",\n",
    "                   fontsize=10, bbox={'facecolor': '0.8', 'pad': 2})\n",
    "    fig.savefig('band.png')\n"
   ]
  },
  {
   "cell_type": "code",
   "execution_count": 86,
   "metadata": {},
   "outputs": [
    {
     "name": "stdout",
     "output_type": "stream",
     "text": [
      "0.0 0\n",
      "0.3141592653589793 0\n",
      "0.6283185307179586 0\n",
      "0.9424777960769379 0\n",
      "1.2566370614359172 0\n",
      "1.5707963267948966 0\n",
      "1.8849555921538759 0\n",
      "2.199114857512855 0\n",
      "2.5132741228718345 0\n",
      "2.827433388230814 0\n",
      "3.141592653589793 0.0\n",
      "3.141592653589793 -0.3141592653589793\n",
      "3.141592653589793 -0.6283185307179586\n",
      "3.141592653589793 -0.9424777960769379\n",
      "3.141592653589793 -1.2566370614359172\n",
      "3.141592653589793 -1.5707963267948966\n",
      "3.141592653589793 1.8137993642342178\n",
      "2.827433388230814 1.8137993642342178\n",
      "2.5132741228718345 1.8137993642342178\n",
      "2.199114857512855 1.8137993642342178\n",
      "1.8849555921538759 1.8137993642342178\n",
      "1.5707963267948966 1.8137993642342178\n",
      "1.2566370614359172 1.8137993642342178\n",
      "0.9424777960769379 1.8137993642342178\n",
      "0.6283185307179586 1.8137993642342178\n",
      "0.3141592653589793 1.8137993642342178\n",
      "0 1.8137993642342178\n",
      "0 1.4996400988752385\n",
      "0 1.1854808335162592\n",
      "0 0.8713215681572799\n",
      "0 0.5571623027983006\n",
      "0 0.24300303743932128\n",
      "0.0 0.0\n",
      "0.27206990463513264 0.15707963267948966\n",
      "0.5441398092702653 0.3141592653589793\n",
      "0.816209713905398 0.47123889803846897\n",
      "1.0882796185405306 0.6283185307179586\n",
      "1.3603495231756633 0.7853981633974483\n",
      "1.632419427810796 0.9424777960769379\n",
      "1.9044893324459287 1.0995574287564276\n",
      "2.176559237081061 1.2566370614359172\n",
      "2.448629141716194 1.413716694115407\n",
      "2.7206990463513265 1.5707963267948966\n",
      "2.9927689509864592 1.7278759594743862\n",
      "[[ 1.54919334e+00-1.12894716e-33j  1.54919334e+00+3.38271078e-17j\n",
      "   5.42284199e-08+2.00627770e-26j  4.51069981e-10+3.99850917e-08j\n",
      "  -4.51069050e-10-3.99850917e-08j -5.42284185e-08-2.00627775e-26j\n",
      "  -1.54919334e+00-3.42867357e-16j -1.54919334e+00+2.31931833e-32j]\n",
      " [ 1.52884373e+00-1.07699532e-21j  1.52884373e+00-1.07699532e-21j\n",
      "   3.48714836e-01+4.17199839e-23j  3.48714836e-01+4.17199839e-23j\n",
      "  -3.48714836e-01-4.17199839e-23j -3.48714836e-01-4.17199839e-23j\n",
      "  -1.52884373e+00+1.07699532e-21j -1.52884373e+00+1.07699532e-21j]\n",
      " [ 1.46830836e+00-2.05770048e-21j  1.46830836e+00-9.62767752e-18j\n",
      "   6.74260953e-01+1.69749784e-22j  6.74260953e-01+2.39063524e-17j\n",
      "  -6.74260953e-01-2.42889644e-16j -6.74260953e-01-1.69749784e-22j\n",
      "  -1.46830836e+00-5.15782263e-17j -1.46830836e+00+2.05770048e-21j]\n",
      " [ 1.36965389e+00-1.90648693e-21j  1.36965389e+00-1.90648693e-21j\n",
      "   9.55432574e-01+2.62131598e-22j  9.55432574e-01+2.62131598e-22j\n",
      "  -9.55432574e-01-2.62131598e-22j -9.55432574e-01-2.62131598e-22j\n",
      "  -1.36965389e+00+1.90648693e-21j -1.36965389e+00+1.90648693e-21j]\n",
      " [ 1.23811064e+00-3.40832977e-21j  1.23811064e+00-3.40832977e-21j\n",
      "   1.17479001e+00+4.48325201e-21j  1.17479001e+00+4.48325201e-21j\n",
      "  -1.17479001e+00-4.48325201e-21j -1.17479001e+00-4.48325201e-21j\n",
      "  -1.23811064e+00+3.40832977e-21j -1.23811064e+00+3.40832977e-21j]\n",
      " [ 1.32016768e+00+3.69932212e-21j  1.32016768e+00+3.69932212e-21j\n",
      "   1.08496880e+00-3.20775620e-21j  1.08496880e+00-3.20775620e-21j\n",
      "  -1.08496880e+00+3.20775620e-21j -1.08496880e+00+3.20775620e-21j\n",
      "  -1.32016768e+00-3.69932212e-21j -1.32016768e+00-3.69932212e-21j]\n",
      " [ 1.38580391e+00+3.23911124e-21j  1.38580391e+00+3.23911124e-21j\n",
      "   9.32196464e-01-3.05399861e-21j  9.32196464e-01-3.05399861e-21j\n",
      "  -9.32196464e-01+3.05399861e-21j -9.32196464e-01+3.05399861e-21j\n",
      "  -1.38580391e+00-3.23911124e-21j -1.38580391e+00-3.23911124e-21j]\n",
      " [ 1.37309832e+00+2.99669661e-21j  1.37309832e+00+2.99669661e-21j\n",
      "   8.17490099e-01-2.97867545e-21j  8.17490099e-01-2.97867545e-21j\n",
      "  -8.17490099e-01+2.97867545e-21j -8.17490099e-01+2.97867545e-21j\n",
      "  -1.37309832e+00-2.99669661e-21j -1.37309832e+00-2.99669661e-21j]\n",
      " [ 1.29115531e+00+2.93663550e-21j  1.29115531e+00+2.93663550e-21j\n",
      "   7.87317245e-01-2.97814830e-21j  7.87317245e-01-2.97814830e-21j\n",
      "  -7.87317245e-01+2.97814830e-21j -7.87317245e-01+2.97814830e-21j\n",
      "  -1.29115531e+00-2.93663550e-21j -1.29115531e+00-2.93663550e-21j]\n",
      " [ 1.15753613e+00+3.28054465e-21j  1.15753613e+00+3.28054465e-21j\n",
      "   8.59449054e-01-3.28142929e-21j  8.59449054e-01-3.28142929e-21j\n",
      "  -8.59449054e-01+3.28142929e-21j -8.59449054e-01+3.28142929e-21j\n",
      "  -1.15753613e+00-3.28054465e-21j -1.15753613e+00-3.28054465e-21j]\n",
      " [ 1.00000000e+00+0.00000000e+00j  1.00000000e+00+4.42658376e-18j\n",
      "   1.00000000e+00+0.00000000e+00j  1.00000000e+00-2.10866597e-35j\n",
      "  -1.00000000e+00-4.42658376e-18j -1.00000000e+00+6.92349083e-35j\n",
      "  -1.00000000e+00+3.87624678e-32j -1.00000000e+00+0.00000000e+00j]\n",
      " [ 9.63216723e-01-4.70798856e-17j  9.63216723e-01+3.14739151e-19j\n",
      "   8.93697985e-01+3.94749643e-17j  8.93697985e-01+7.58941521e-18j\n",
      "  -8.93697985e-01+4.79450294e-17j -8.93697985e-01-2.44127382e-17j\n",
      "  -9.63216723e-01+4.34972642e-17j -9.63216723e-01-4.22806545e-18j]\n",
      " [ 8.55572913e-01+9.08817718e-19j  8.55572913e-01-1.40046514e-16j\n",
      "   4.94675816e-01+4.85722573e-17j  4.94675816e-01-1.48288582e-16j\n",
      "  -4.94675816e-01+9.88668890e-17j -4.94675816e-01-4.68375339e-17j\n",
      "  -8.55572913e-01-1.50079886e-17j -8.55572913e-01+1.04090864e-16j]\n",
      " [ 6.84987552e-01-4.24862355e-19j  6.84987552e-01+2.22044605e-16j\n",
      "   1.66533454e-16-7.24817594e-01j -9.97465999e-17+7.24817594e-01j\n",
      "  -3.82622191e-16-7.24817594e-01j -8.32667268e-16+7.24817594e-01j\n",
      "  -6.84987552e-01+4.40016080e-17j -6.84987552e-01-4.10363731e-17j]\n",
      " [ 4.64010018e-01+1.31355155e-17j  4.64010018e-01+2.98001779e-16j\n",
      "   1.29757316e-15+1.15065023e+00j  4.99600361e-16+1.15065023e+00j\n",
      "  -2.22044605e-16-1.15065023e+00j -4.44089210e-16-1.15065023e+00j\n",
      "  -4.64010018e-01-7.01653770e-17j -4.64010018e-01-9.05926584e-18j]\n",
      " [ 2.08896867e-01+4.64463212e-17j  2.08896867e-01+6.84441099e-16j\n",
      "   5.55111512e-16-1.40051347e+00j  1.05682599e-16-1.40051347e+00j\n",
      "  -2.22044605e-16+1.40051347e+00j -4.44089210e-16+1.40051347e+00j\n",
      "  -2.08896867e-01-7.10193764e-16j -2.08896867e-01-5.07561529e-17j]\n",
      " [ 2.38696122e-08+1.23568883e-09j  5.53318783e-09-5.53318803e-09j\n",
      "  -1.11022302e-16-1.50000000e+00j -4.44089210e-16+1.50000000e+00j\n",
      "  -7.77156117e-16-1.50000000e+00j -1.11022302e-15+1.50000000e+00j\n",
      "  -5.53318796e-09+5.53318807e-09j -2.38696123e-08-1.23568898e-09j]\n",
      " [ 4.78921702e-01-1.04733930e-16j  4.78921702e-01-2.57068500e-16j\n",
      "   0.00000000e+00-1.41645294e+00j -5.84995807e-17+1.41645294e+00j\n",
      "  -1.37259995e-16+1.41645294e+00j -8.88178420e-16-1.41645294e+00j\n",
      "  -4.78921702e-01+3.99076066e-17j -4.78921702e-01-2.85445702e-16j]\n",
      " [ 9.71890477e-01+2.34187669e-16j  9.71890477e-01+5.55111512e-16j\n",
      "   2.83420254e-16-1.16974253e+00j -3.36468401e-16+1.16974253e+00j\n",
      "  -6.66133815e-16+1.16974253e+00j -6.66133815e-16-1.16974253e+00j\n",
      "  -9.71890477e-01+4.52164562e-17j -9.71890477e-01-2.11557840e-16j]\n",
      " [ 1.48007348e+00-3.33066907e-16j  1.48007348e+00+0.00000000e+00j\n",
      "   1.52655666e-16+7.51317227e-01j  1.28900366e-16-7.51317227e-01j\n",
      "  -5.99616963e-17+7.51317227e-01j -2.59625763e-16-7.51317227e-01j\n",
      "  -1.48007348e+00+5.03689890e-17j -1.48007348e+00+1.04734507e-16j]\n",
      " [ 1.97496998e+00-1.31676354e-16j  1.97496998e+00+5.33834045e-17j\n",
      "   4.56354373e-01-4.19312816e-17j  4.56354373e-01+1.97890074e-16j\n",
      "  -4.56354373e-01+2.08719438e-17j -4.56354373e-01+1.36879400e-16j\n",
      "  -1.97496998e+00+6.70642639e-17j -1.97496998e+00+1.99941206e-17j]\n",
      " [ 2.42159552e+00+4.16333634e-16j  2.42159552e+00-1.64129116e-18j\n",
      "   9.30524128e-01-3.31166537e-17j  9.30524128e-01+1.34170019e-17j\n",
      "  -9.30524128e-01+1.15195288e-16j -9.30524128e-01-2.44174686e-16j\n",
      "  -2.42159552e+00+4.20255654e-17j -2.42159552e+00-1.76122332e-17j]\n",
      " [ 2.79962321e+00+5.38848480e-17j  2.79962321e+00-4.20670443e-17j\n",
      "   1.17296052e+00-2.55703365e-17j  1.17296052e+00-7.17301910e-18j\n",
      "  -1.17296052e+00-8.58347612e-17j -1.17296052e+00-6.78101671e-17j\n",
      "  -2.79962321e+00+5.33451533e-17j -2.79962321e+00+4.98552784e-17j]\n",
      " [ 3.09924953e+00+2.30338752e-16j  3.09924953e+00+1.01698164e-16j\n",
      "   1.31567649e+00-7.05580149e-17j  1.31567649e+00+4.60908762e-16j\n",
      "  -1.31567649e+00+2.40789027e-16j -1.31567649e+00-8.89315458e-18j\n",
      "  -3.09924953e+00+9.93669073e-17j -3.09924953e+00-7.77833476e-16j]\n",
      " [ 3.31555693e+00+2.16406754e-16j  3.31555693e+00+6.31005664e-17j\n",
      "   1.39582109e+00-4.00095748e-17j  1.39582109e+00-2.53408223e-16j\n",
      "  -1.39582109e+00-1.88687066e-16j -1.39582109e+00+2.34913289e-16j\n",
      "  -3.31555693e+00-7.78867692e-18j -3.31555693e+00-1.64084177e-16j]\n",
      " [ 3.44607271e+00+2.16840434e-18j  3.44607271e+00-1.88651178e-16j\n",
      "   1.43494376e+00+1.50096038e-16j  1.43494376e+00+6.27302542e-17j\n",
      "  -1.43494376e+00+4.24299680e-16j -1.43494376e+00+1.16413882e-16j\n",
      "  -3.44607271e+00-1.86189487e-16j -3.44607271e+00+2.11940670e-16j]\n",
      " [ 3.48968174e+00-2.27682456e-17j  3.48968174e+00+3.46944695e-17j\n",
      "   1.44641673e+00-2.51019802e-17j  1.44641673e+00+1.37625702e-16j\n",
      "  -1.44641673e+00+8.46409497e-17j -1.44641673e+00+5.13088502e-17j\n",
      "  -3.48968174e+00-4.04687362e-16j -3.48968174e+00-1.57493466e-16j]\n",
      " [ 3.31919369e+00+2.88397778e-17j  3.31919369e+00-3.64291930e-17j\n",
      "   1.45199508e+00-1.18699809e-16j  1.45199508e+00-9.30965442e-17j\n",
      "  -1.45199508e+00-2.49745680e-16j -1.45199508e+00+1.22873328e-16j\n",
      "  -3.31919369e+00+2.85745045e-16j -3.31919369e+00-1.24144451e-16j]\n",
      " [ 2.94417201e+00-3.16587034e-16j  2.94417201e+00+1.89952221e-16j\n",
      "   1.43241157e+00-2.01360060e-16j  1.43241157e+00+1.05105777e-16j\n",
      "  -1.43241157e+00-3.85103042e-17j -1.43241157e+00+4.64732878e-17j\n",
      "  -2.94417201e+00+1.81062322e-16j -2.94417201e+00+3.96165583e-16j]\n",
      " [ 2.39976140e+00+4.40619763e-16j  2.39976140e+00+3.60822483e-16j\n",
      "   1.38431470e+00+3.00263015e-16j  1.38431470e+00+3.04674363e-16j\n",
      "  -1.38431470e+00-1.89801550e-16j -1.38431470e+00-1.66590582e-16j\n",
      "  -2.39976140e+00-2.75313783e-16j -2.39976140e+00-9.53650152e-16j]\n",
      " [ 1.82159183e+00-5.60289948e-16j  1.82159183e+00-3.05311332e-16j\n",
      "   1.21911950e+00+4.05372369e-17j  1.21911950e+00+8.19656842e-17j\n",
      "  -1.21911950e+00+6.34608635e-16j -1.21911950e+00+5.32668527e-16j\n",
      "  -1.82159183e+00-2.20613629e-16j -1.82159183e+00+6.10622664e-16j]\n",
      " [ 1.57815210e+00-9.85322934e-16j  1.57815210e+00+8.69530142e-17j\n",
      "   6.28548862e-01+4.18159731e-16j  6.28548862e-01+2.24700900e-17j\n",
      "  -6.28548862e-01-1.63106926e-16j -6.28548862e-01+1.98461986e-16j\n",
      "  -1.57815210e+00+2.38917920e-16j -1.57815210e+00-2.48915995e-16j]\n",
      " [ 1.54919334e+00-1.12894716e-33j  1.54919334e+00+3.38271078e-17j\n",
      "   5.42284199e-08+2.00627770e-26j  4.51069981e-10+3.99850917e-08j\n",
      "  -4.51069050e-10-3.99850917e-08j -5.42284185e-08-2.00627775e-26j\n",
      "  -1.54919334e+00-3.42867357e-16j -1.54919334e+00+2.31931833e-32j]\n",
      " [ 1.54554328e+00+1.21430643e-16j  1.54554328e+00-5.27355937e-16j\n",
      "   5.05444586e-01+7.75627223e-16j  5.05444586e-01+1.17643390e-15j\n",
      "  -5.05444586e-01-7.37445037e-16j -5.05444586e-01-1.33244185e-15j\n",
      "  -1.54554328e+00-3.94544552e-16j -1.54554328e+00-1.28797264e-16j]\n",
      " [ 1.55361687e+00+3.88578059e-16j  1.55361687e+00+1.11022302e-16j\n",
      "   9.36274791e-01+3.55184632e-16j  9.36274791e-01+8.22258928e-16j\n",
      "  -9.36274791e-01-9.53609396e-16j -9.36274791e-01-1.10101045e-15j\n",
      "  -1.55361687e+00+2.66248326e-17j -1.55361687e+00-5.43313771e-16j]\n",
      " [ 1.66009003e+00+6.66133815e-16j  1.66009003e+00+1.94289029e-16j\n",
      "   1.16149496e+00-6.18645760e-16j  1.16149496e+00+6.46401335e-16j\n",
      "  -1.16149496e+00-1.21596166e-15j -1.16149496e+00+6.12934771e-17j\n",
      "  -1.66009003e+00+2.06994497e-16j -1.66009003e+00+3.16550041e-16j]\n",
      " [ 1.85975475e+00+2.08166817e-16j  1.85975475e+00+3.12250226e-16j\n",
      "   1.14817523e+00+5.69748242e-17j  1.14817523e+00+1.63321505e-16j\n",
      "  -1.14817523e+00+7.32548102e-17j -1.14817523e+00-3.13941104e-16j\n",
      "  -1.85975475e+00-1.57585513e-16j -1.85975475e+00+6.22342032e-17j]\n",
      " [ 1.99120732e+00-3.81834772e-16j  1.99120732e+00-2.41126563e-16j\n",
      "   1.02292349e+00+2.53173913e-16j  1.02292349e+00-2.00633022e-16j\n",
      "  -1.02292349e+00+7.71010046e-16j -1.02292349e+00-1.54360154e-16j\n",
      "  -1.99120732e+00-5.20507815e-16j -1.99120732e+00-1.21430643e-16j]\n",
      " [ 1.99079308e+00-5.23019128e-16j  1.99079308e+00+2.79290480e-16j\n",
      "   8.09990490e-01-2.07485326e-16j  8.09990490e-01+5.24183375e-16j\n",
      "  -8.09990490e-01+2.18940034e-17j -8.09990490e-01-2.01770090e-16j\n",
      "  -1.99079308e+00+3.45510733e-17j -1.99079308e+00-2.54048759e-16j]\n",
      " [ 1.84478258e+00+5.59448321e-17j  1.84478258e+00-9.79034562e-17j\n",
      "   4.21759172e-01+6.70532077e-16j  4.21759172e-01-1.42201246e-17j\n",
      "  -4.21759172e-01-1.94204167e-16j -4.21759172e-01-7.68648031e-17j\n",
      "  -1.84478258e+00+7.64835891e-16j -1.84478258e+00-1.75124136e-16j]\n",
      " [ 1.55974277e+00-2.22044605e-16j  1.55974277e+00-1.66533454e-16j\n",
      "   4.82598556e-16+6.10752016e-01j  1.08825099e-16-6.10752016e-01j\n",
      "  -1.02563569e-16-6.10752016e-01j -1.11453182e-16+6.10752016e-01j\n",
      "  -1.55974277e+00+1.77389736e-16j -1.55974277e+00-6.12431926e-16j]\n",
      " [ 1.16148159e+00+2.22044605e-16j  1.16148159e+00+9.71445147e-17j\n",
      "   4.44089210e-16+9.91872660e-01j  2.15603125e-17-9.91872660e-01j\n",
      "  -1.52655666e-16-9.91872660e-01j -5.35667649e-16+9.91872660e-01j\n",
      "  -1.16148159e+00+2.63691966e-17j -1.16148159e+00-3.02010134e-16j]\n",
      " [ 7.02252021e-01-6.93889390e-16j  7.02252021e-01-1.71184041e-16j\n",
      "  -2.31672293e-17+1.27180528e+00j -4.44089210e-16-1.27180528e+00j\n",
      "  -8.78637441e-16+1.27180528e+00j -8.88178420e-16-1.27180528e+00j\n",
      "  -7.02252021e-01-3.72625381e-16j -7.02252021e-01-1.69149235e-17j]\n",
      " [ 2.41794979e-01-1.94289029e-16j  2.41794979e-01+7.72263676e-16j\n",
      "   4.44089210e-16-1.45569544e+00j  2.77555756e-16+1.45569544e+00j\n",
      "  -2.22044605e-16+1.45569544e+00j -3.33066907e-16-1.45569544e+00j\n",
      "  -2.41794979e-01-2.91398111e-16j -2.41794979e-01+2.49800181e-16j]]\n",
      "3.4896817393860258 -3.4896817393860244\n"
     ]
    },
    {
     "data": {
      "image/png": "[encoded data removed]",
      "text/plain": [
       "<Figure size 432x288 with 1 Axes>"
      ]
     },
     "metadata": {},
     "output_type": "display_data"
    }
   ],
   "source": [
    "cp_strg = [1,0.8,0.8,0,0,0,0]\n",
    "Hlsw_num = Hlsw.subs([(J,cp_strg[0]), (J2,cp_strg[1]), (J3,cp_strg[2]), (K, cp_strg[3]), (Gamma, cp_strg[4]), (gamma, cp_strg[5]), (h, cp_strg[6]), (a, 1)])\n",
    "band_high_sym(Hlsw_num, cp_strg , 20)"
   ]
  },
  {
   "cell_type": "markdown",
   "metadata": {},
   "source": [
    "# What happened to $J_2$?"
   ]
  },
  {
   "cell_type": "code",
   "execution_count": 68,
   "metadata": {},
   "outputs": [
    {
     "name": "stdout",
     "output_type": "stream",
     "text": [
      "0.0 0\n",
      "0.3141592653589793 0\n",
      "0.6283185307179586 0\n",
      "0.9424777960769379 0\n",
      "1.2566370614359172 0\n",
      "1.5707963267948966 0\n",
      "1.8849555921538759 0\n",
      "2.199114857512855 0\n",
      "2.5132741228718345 0\n",
      "2.827433388230814 0\n",
      "3.141592653589793 0.0\n",
      "3.141592653589793 -0.3141592653589793\n",
      "3.141592653589793 -0.6283185307179586\n",
      "3.141592653589793 -0.9424777960769379\n",
      "3.141592653589793 -1.2566370614359172\n",
      "3.141592653589793 -1.5707963267948966\n",
      "3.141592653589793 1.8137993642342178\n",
      "2.827433388230814 1.8137993642342178\n",
      "2.5132741228718345 1.8137993642342178\n",
      "2.199114857512855 1.8137993642342178\n",
      "1.8849555921538759 1.8137993642342178\n",
      "1.5707963267948966 1.8137993642342178\n",
      "1.2566370614359172 1.8137993642342178\n",
      "0.9424777960769379 1.8137993642342178\n",
      "0.6283185307179586 1.8137993642342178\n",
      "0.3141592653589793 1.8137993642342178\n",
      "0 1.8137993642342178\n",
      "0 1.4996400988752385\n",
      "0 1.1854808335162592\n",
      "0 0.8713215681572799\n",
      "0 0.5571623027983006\n",
      "0 0.24300303743932128\n",
      "0.0 0.0\n",
      "0.27206990463513264 0.15707963267948966\n",
      "0.5441398092702653 0.3141592653589793\n",
      "0.816209713905398 0.47123889803846897\n",
      "1.0882796185405306 0.6283185307179586\n",
      "1.3603495231756633 0.7853981633974483\n",
      "1.632419427810796 0.9424777960769379\n",
      "1.9044893324459287 1.0995574287564276\n",
      "2.176559237081061 1.2566370614359172\n",
      "2.448629141716194 1.413716694115407\n",
      "2.7206990463513265 1.5707963267948966\n",
      "2.9927689509864592 1.7278759594743862\n",
      "[[ 1.41421356e+00+0.00000000e+00j  1.41421356e+00+0.00000000e+00j\n",
      "   8.01508491e-09+0.00000000e+00j  2.23078828e-17-8.79555908e-09j\n",
      "   2.23078584e-17+8.79555908e-09j -8.01508533e-09+0.00000000e+00j\n",
      "  -1.41421356e+00+0.00000000e+00j -1.41421356e+00+0.00000000e+00j]\n",
      " [ 1.40114831e+00-7.71951947e-17j  1.40114831e+00+6.33174069e-17j\n",
      "   3.43908929e-16+1.10272764e-01j  3.17744004e-16-1.10272764e-01j\n",
      "  -1.00990044e-16+1.10272764e-01j -2.11636264e-16-1.10272764e-01j\n",
      "  -1.40114831e+00+1.94289029e-16j -1.40114831e+00-9.02056208e-17j]\n",
      " [ 1.36219125e+00+1.80458166e-21j  1.36219125e+00+1.80458166e-21j\n",
      "   3.62213921e-16+2.15749899e-01j  3.08058385e-16-2.15749899e-01j\n",
      "  -1.90570330e-16-2.15749899e-01j -3.28333871e-16+2.15749899e-01j\n",
      "  -1.36219125e+00+2.77555756e-17j -1.36219125e+00+2.77555756e-17j]\n",
      " [ 1.29803665e+00+4.39576218e-17j  1.29803665e+00+1.81540075e-21j\n",
      "   7.24034234e-17-3.11631029e-01j -1.04010637e-16+3.11631029e-01j\n",
      "  -1.11698044e-16-3.11631029e-01j -1.82201915e-16+3.11631029e-01j\n",
      "  -1.29803665e+00+1.38777878e-17j -1.29803665e+00+0.00000000e+00j]\n",
      " [ 1.20976258e+00+3.66610951e-21j  1.20976258e+00-5.55111512e-17j\n",
      "   7.15370146e-17-3.93075689e-01j -1.26308417e-17+3.93075689e-01j\n",
      "  -9.19777505e-17-3.93075689e-01j -1.29225040e-16+3.93075689e-01j\n",
      "  -1.20976258e+00-3.66610951e-21j -1.20976258e+00+5.55111512e-17j]\n",
      " [ 1.09868411e+00+3.72248657e-21j  1.09868411e+00+3.72248657e-21j\n",
      "   1.92317961e-16+4.55089861e-01j  1.20610715e-16-4.55089861e-01j\n",
      "  -2.75014657e-17-4.55089861e-01j -9.71136239e-17+4.55089861e-01j\n",
      "  -1.09868411e+00+5.55111512e-17j -1.09868411e+00+1.66533454e-16j]\n",
      " [ 9.66062501e-01+3.81503245e-21j  9.66062501e-01+3.81503245e-21j\n",
      "   8.00182065e-17+4.92233430e-01j  3.43421038e-17-4.92233430e-01j\n",
      "  -5.84994835e-17-4.92233430e-01j -1.03604175e-16+4.92233430e-01j\n",
      "  -9.66062501e-01+1.66533454e-16j -9.66062501e-01-5.55111512e-17j]\n",
      " [ 8.12464075e-01+2.36357978e-16j  8.12464075e-01+3.97832426e-21j\n",
      "   6.76813206e-17+4.97878626e-01j  4.25007252e-17-4.97878626e-01j\n",
      "   2.06474326e-18+4.97878626e-01j -7.28423278e-17-4.97878626e-01j\n",
      "  -8.12464075e-01+5.55111512e-17j -8.12464075e-01-2.77555756e-16j]\n",
      " [ 6.36009825e-01-1.68657082e-17j  6.36009825e-01+4.30977021e-21j\n",
      "   8.76035355e-17-4.62088186e-01j  6.29506957e-17+4.62088186e-01j\n",
      "  -2.02520801e-17+4.62088186e-01j -5.89805982e-17-4.62088186e-01j\n",
      "  -6.36009825e-01-1.11022302e-16j -6.36009825e-01-2.77555756e-16j]\n",
      " [ 4.25330703e-01-1.42437435e-16j  4.25330703e-01-1.54590854e-16j\n",
      "   1.17961196e-16-3.63266738e-01j  7.32533750e-17+3.63266738e-01j\n",
      "  -1.41822231e-17+3.63266738e-01j -3.07913417e-17-3.63266738e-01j\n",
      "  -4.25330703e-01+5.55111512e-17j -4.25330703e-01-8.32667268e-17j]\n",
      " [ 1.19796493e-08+1.42603211e-10j  1.06749308e-09+9.01943755e-09j\n",
      "   6.85059375e-10-6.73142366e-09j  1.21655347e-12-1.23006983e-12j\n",
      "  -1.21671716e-12+1.23009900e-12j -6.85059553e-10+6.73142358e-09j\n",
      "  -1.06749304e-09-9.01943749e-09j -1.19796490e-08-1.42603107e-10j]\n",
      " [ 7.34036078e-09-1.21717054e-10j  3.81686957e-09-3.58137408e-09j\n",
      "   2.24041621e-09+9.40550157e-09j  1.51356740e-09-1.51356649e-09j\n",
      "  -1.51356694e-09+1.51356685e-09j -2.24041630e-09-9.40550177e-09j\n",
      "  -3.81686975e-09+3.58137376e-09j -7.34036105e-09+1.21717102e-10j]\n",
      " [ 1.21066977e-08+6.63804995e-09j  7.48007814e-09-8.13521813e-10j\n",
      "   2.62497882e-09-2.33356847e-09j  2.14057540e-09+1.06378552e-09j\n",
      "  -2.14057523e-09-1.06378555e-09j -2.62497902e-09+2.33356845e-09j\n",
      "  -7.48007847e-09+8.13521863e-10j -1.21066979e-08-6.63804968e-09j]\n",
      " [ 4.11306931e-09+8.56188662e-10j  3.06235632e-09-1.13502288e-08j\n",
      "   7.94202518e-10-9.29361777e-09j  1.58453385e-10+1.23010376e-08j\n",
      "  -1.58453629e-10-1.23010376e-08j -7.94202257e-10+9.29361802e-09j\n",
      "  -3.06235690e-09+1.13502286e-08j -4.11306947e-09-8.56188577e-10j]\n",
      " [ 1.04383628e-08+3.88005878e-09j  5.46942011e-09+6.07929223e-09j\n",
      "   8.46562325e-10-9.73257322e-09j  4.50628614e-10+6.28135163e-09j\n",
      "  -4.50628855e-10-6.28135164e-09j -8.46562290e-10+9.73257311e-09j\n",
      "  -5.46941974e-09-6.07929194e-09j -1.04383630e-08-3.88005894e-09j]\n",
      " [ 8.54967551e-09-1.07120638e-09j  6.87896699e-09+7.39508522e-10j\n",
      "   6.58766362e-09+2.03592749e-09j  5.58303624e-10+8.38547081e-09j\n",
      "  -5.58303545e-10-8.38547104e-09j -6.58766371e-09-2.03592746e-09j\n",
      "  -6.87896695e-09-7.39508438e-10j -8.54967546e-09+1.07120640e-09j]\n",
      " [ 3.91255496e-09-3.91255498e-09j  3.05857398e-09+7.20725506e-09j\n",
      "   2.15486615e-09-7.98237541e-09j  8.61058013e-10+1.25573593e-08j\n",
      "  -8.61057489e-10-1.25573595e-08j -2.15486622e-09+7.98237529e-09j\n",
      "  -3.05857389e-09-7.20725496e-09j -3.91255492e-09+3.91255496e-09j]\n",
      " [ 1.56434468e-01+7.26457036e-09j  1.56434466e-01-1.13305232e-08j\n",
      "   1.56434464e-01+1.13305233e-08j  1.56434462e-01-7.26457048e-09j\n",
      "  -1.56434462e-01+7.59021358e-09j -1.56434465e-01+8.22329201e-09j\n",
      "  -1.56434465e-01-8.22329214e-09j -1.56434468e-01-7.59021367e-09j]\n",
      " [ 3.09017006e-01+3.73239060e-09j  3.09017004e-01+4.16124262e-09j\n",
      "   3.09016984e-01-4.16124250e-09j  3.09016983e-01-3.73239055e-09j\n",
      "  -3.09016985e-01-7.37248984e-10j -3.09016987e-01-7.20823015e-09j\n",
      "  -3.09017002e-01+7.20822981e-09j -3.09017003e-01+7.37249006e-10j]\n",
      " [ 4.53990508e-01+7.64538686e-10j  4.53990507e-01-1.49899213e-08j\n",
      "   4.53990492e-01+1.49899212e-08j  4.53990492e-01-7.64538700e-10j\n",
      "  -4.53990490e-01+1.08583727e-09j -4.53990494e-01-1.03931087e-09j\n",
      "  -4.53990506e-01+1.03931057e-09j -4.53990509e-01-1.08583732e-09j]\n",
      " [ 5.87785255e-01+1.19842558e-08j  5.87785253e-01-1.61841290e-08j\n",
      "   5.87785252e-01+1.61841290e-08j  5.87785250e-01-1.19842559e-08j\n",
      "  -5.87785235e-01-2.72034569e-09j -5.87785239e-01-4.69404443e-09j\n",
      "  -5.87785266e-01+4.69404468e-09j -5.87785269e-01+2.72034592e-09j]\n",
      " [ 7.07106792e-01+7.66505653e-09j  7.07106787e-01+2.61382349e-09j\n",
      "   7.07106775e-01-2.61382339e-09j  7.07106771e-01-7.66505646e-09j\n",
      "  -7.07106768e-01+2.08311246e-09j -7.07106775e-01+3.54499979e-09j\n",
      "  -7.07106787e-01-3.54499967e-09j -7.07106794e-01-2.08311278e-09j]\n",
      " [ 8.09017006e-01+6.72302725e-09j  8.09016999e-01-1.92010839e-08j\n",
      "   8.09016989e-01+1.92010839e-08j  8.09016983e-01-6.72302704e-09j\n",
      "  -8.09016987e-01-9.30973335e-09j -8.09016994e-01+1.38972577e-08j\n",
      "  -8.09016995e-01-1.38972570e-08j -8.09017002e-01+9.30973345e-09j]\n",
      " [ 8.91006553e-01+7.93286395e-09j  8.91006535e-01-9.18575313e-10j\n",
      "   8.91006513e-01+9.18575275e-10j  8.91006495e-01-7.93286384e-09j\n",
      "  -8.91006510e-01+1.02349635e-08j -8.91006514e-01+1.72375220e-08j\n",
      "  -8.91006534e-01-1.72375224e-08j -8.91006539e-01-1.02349634e-08j]\n",
      " [ 9.51056535e-01-3.96572825e-09j  9.51056517e-01-1.74616322e-08j\n",
      "   9.51056516e-01+1.74616321e-08j  9.51056497e-01+3.96572838e-09j\n",
      "  -9.51056514e-01-6.35613462e-09j -9.51056514e-01+5.02460873e-09j\n",
      "  -9.51056519e-01-5.02460889e-09j -9.51056519e-01+6.35613432e-09j]\n",
      " [ 9.87688365e-01-3.12618618e-10j  9.87688345e-01-1.40381856e-08j\n",
      "   9.87688336e-01+1.40381855e-08j  9.87688316e-01+3.12618616e-10j\n",
      "  -9.87688317e-01+1.24552901e-09j -9.87688318e-01-1.16919293e-08j\n",
      "  -9.87688363e-01+1.16919293e-08j -9.87688364e-01-1.24552953e-09j]\n",
      " [ 1.00000003e+00-4.93160953e-10j  1.00000001e+00+1.53734490e-09j\n",
      "   9.99999993e-01-1.53734486e-09j  9.99999968e-01+4.93160955e-10j\n",
      "  -9.99999988e-01+3.59880691e-09j -9.99999993e-01+3.70157352e-09j\n",
      "  -1.00000001e+00-3.70157323e-09j -1.00000001e+00-3.59880672e-09j]\n",
      " [ 1.12637728e+00-7.66055438e-16j  1.12637728e+00+3.53883589e-16j\n",
      "   8.55145732e-01+8.08996620e-16j  8.55145732e-01-5.64571176e-16j\n",
      "  -8.55145732e-01+2.20758502e-16j -8.55145732e-01-1.42191313e-16j\n",
      "  -1.12637728e+00+4.15470218e-17j -1.12637728e+00-3.87511247e-16j]\n",
      " [ 1.23194250e+00+1.10154941e-16j  1.23194250e+00+5.03069808e-17j\n",
      "   6.94490946e-01-5.50393539e-17j  6.94490946e-01-1.08830181e-16j\n",
      "  -6.94490946e-01-5.23326866e-16j -6.94490946e-01-4.44089210e-16j\n",
      "  -1.23194250e+00+4.44089210e-16j -1.23194250e+00+1.73438466e-16j]\n",
      " [ 1.31474514e+00+3.78169718e-16j  1.31474514e+00+9.24937904e-17j\n",
      "   5.21004059e-01-4.75001571e-16j  5.21004059e-01+3.59955121e-17j\n",
      "  -5.21004059e-01-2.26080647e-16j -5.21004059e-01-1.66533454e-16j\n",
      "  -1.31474514e+00+2.94779876e-17j -1.31474514e+00+1.11022302e-16j]\n",
      " [ 1.37325524e+00+3.06449744e-16j  1.37325524e+00+2.12496922e-16j\n",
      "   3.37890587e-01-2.31171461e-16j  3.37890587e-01+1.61043709e-16j\n",
      "  -3.37890587e-01+0.00000000e+00j -3.37890587e-01-1.65958504e-17j\n",
      "  -1.37325524e+00-5.51681756e-16j -1.37325524e+00-4.56810720e-16j]\n",
      " [ 1.40639172e+00-2.19442520e-16j  1.40639172e+00+1.14771049e-16j\n",
      "   1.48533914e-01-2.22044605e-16j  1.48533914e-01+1.92987987e-16j\n",
      "  -1.48533914e-01-3.71251854e-16j -1.48533914e-01+1.66533454e-16j\n",
      "  -1.40639172e+00+2.22044605e-16j -1.40639172e+00+1.41968025e-16j]\n",
      " [ 1.41421356e+00+0.00000000e+00j  1.41421356e+00+0.00000000e+00j\n",
      "   8.01508491e-09+0.00000000e+00j  2.23078828e-17-8.79555908e-09j\n",
      "   2.23078584e-17+8.79555908e-09j -8.01508533e-09+0.00000000e+00j\n",
      "  -1.41421356e+00+0.00000000e+00j -1.41421356e+00+0.00000000e+00j]\n",
      " [ 1.40114836e+00-8.88178420e-16j  1.40114836e+00-8.43819422e-17j\n",
      "   3.50491939e-09+9.24874865e-09j  9.62187626e-10+1.83207432e-08j\n",
      "  -9.62187734e-10-1.83207433e-08j -3.50491903e-09-9.24874882e-09j\n",
      "  -1.40114836e+00-4.71844785e-16j -1.40114836e+00+6.61356476e-17j]\n",
      " [ 1.36219415e+00-1.80411242e-16j  1.36219415e+00+1.68268177e-16j\n",
      "   2.39593922e-09+8.18321500e-09j  2.14267895e-09-9.29984029e-09j\n",
      "  -2.14267872e-09+9.29984041e-09j -2.39593942e-09-8.18321512e-09j\n",
      "  -1.36219415e+00-1.94289029e-16j -1.36219415e+00-5.55111512e-16j]\n",
      " [ 1.29807070e+00-6.07153217e-18j  1.29807070e+00+2.22044605e-16j\n",
      "   8.92108294e-09-5.76574538e-09j  4.16266095e-09-1.48149412e-08j\n",
      "  -4.16266021e-09+1.48149413e-08j -8.92108328e-09+5.76574532e-09j\n",
      "  -1.29807070e+00-1.66533454e-16j -1.29807070e+00-3.33066907e-16j]\n",
      " [ 1.20996282e+00-1.42247325e-16j  1.20996282e+00-1.33519498e-16j\n",
      "   6.32784838e-09-6.39301786e-09j  3.16170828e-09-5.18278327e-09j\n",
      "  -3.16170838e-09+5.18278335e-09j -6.32784794e-09+6.39301801e-09j\n",
      "  -1.20996282e+00-3.81639165e-17j -1.20996282e+00+5.55111512e-17j]\n",
      " [ 1.09949846e+00-5.55111512e-17j  1.09949846e+00-2.81248820e-16j\n",
      "   8.19058407e-09+9.45633711e-09j  5.69718796e-09-3.52834324e-09j\n",
      "  -5.69718818e-09+3.52834323e-09j -8.19058418e-09-9.45633704e-09j\n",
      "  -1.09949846e+00+1.39645240e-16j -1.09949846e+00+2.39391840e-16j]\n",
      " [ 9.68718686e-01+1.73472348e-16j  9.68718686e-01-1.95307163e-16j\n",
      "   6.33156272e-09+4.44307907e-09j  4.65690861e-09-4.47489574e-09j\n",
      "  -4.65690880e-09+4.47489572e-09j -6.33156279e-09-4.44307896e-09j\n",
      "  -9.68718686e-01+1.49403059e-16j -9.68718686e-01-7.45931095e-17j]\n",
      " [ 8.20039907e-01+3.85108612e-16j  8.20039907e-01+7.93462932e-18j\n",
      "   3.86744155e-09-6.33381544e-09j  3.41227628e-09+6.42190305e-09j\n",
      "  -3.41227620e-09-6.42190307e-09j -3.86744168e-09+6.33381529e-09j\n",
      "  -8.20039907e-01+2.50539169e-16j -8.20039907e-01-9.62771529e-17j]\n",
      " [ 6.56209261e-01-1.97758476e-16j  6.56209261e-01-6.10622664e-16j\n",
      "   8.44728106e-09+6.93013016e-09j  2.78145279e-09+9.32948347e-09j\n",
      "  -2.78145355e-09-9.32948327e-09j -8.44728117e-09-6.93012991e-09j\n",
      "  -6.56209261e-01+6.34908792e-16j -6.56209261e-01-5.55111512e-17j]\n",
      " [ 4.80253844e-01+2.22044605e-16j  4.80253844e-01-1.34441069e-16j\n",
      "   1.09412714e-08-2.77771084e-09j  5.55204770e-09+3.38700663e-09j\n",
      "  -5.55204771e-09-3.38700663e-09j -1.09412710e-08+2.77771049e-09j\n",
      "  -4.80253844e-01+1.73472348e-16j -4.80253844e-01-1.34441069e-16j]\n",
      " [ 2.95424782e-01-1.24900090e-16j  2.95424782e-01+3.77736037e-16j\n",
      "   6.50641377e-09+4.41767039e-09j  2.72509474e-09-1.05104282e-08j\n",
      "  -2.72509502e-09+1.05104288e-08j -6.50641435e-09-4.41767089e-09j\n",
      "  -2.95424782e-01+5.89805982e-16j -2.95424782e-01-2.75821033e-16j]\n",
      " [ 1.05137160e-01-2.98372438e-16j  1.05137160e-01-8.40690365e-16j\n",
      "   2.67475974e-09+3.86843863e-09j  1.00673496e-09+7.65933987e-09j\n",
      "  -1.00673620e-09-7.65933961e-09j -2.67476059e-09-3.86843800e-09j\n",
      "  -1.05137160e-01+1.87350135e-16j -1.05137160e-01-4.25007252e-17j]]\n",
      "1.4142135623730956 -1.4142135623730956\n"
     ]
    },
    {
     "data": {
      "image/png": "[encoded data removed]",
      "text/plain": [
       "<Figure size 432x288 with 1 Axes>"
      ]
     },
     "metadata": {},
     "output_type": "display_data"
    }
   ],
   "source": [
    "cp_strg = [1,0,0,0,0,0,0]\n",
    "Hlsw_num = Hlsw.subs([(J,cp_strg[0]), (J2,cp_strg[1]), (J3,cp_strg[2]), (K, cp_strg[3]), (Gamma, cp_strg[4]), (gamma, cp_strg[5]), (h, cp_strg[6]), (a, 1)])\n",
    "band_high_sym(Hlsw_num, cp_strg , 20)"
   ]
  },
  {
   "cell_type": "code",
   "execution_count": 69,
   "metadata": {},
   "outputs": [
    {
     "data": {
      "text/latex": [
       "$\\displaystyle \\left[\\begin{matrix}1.0 J_{2} \\cos{\\left(k_{1} \\right)} + 1.0 J_{2} & 0 & 0 & 0 & 0 & 0 & 2.0 J_{2} \\cos{\\left(\\frac{k_{1}}{2} \\right)} \\cos{\\left(\\frac{\\sqrt{3} k_{2}}{2} \\right)} & 0\\\\0 & 1.0 J_{2} \\cos{\\left(k_{1} \\right)} + 1.0 J_{2} & 0 & 0 & 0 & 0 & 0 & 2.0 J_{2} \\cos{\\left(\\frac{k_{1}}{2} \\right)} \\cos{\\left(\\frac{\\sqrt{3} k_{2}}{2} \\right)}\\\\0 & 0 & 1.0 J_{2} \\cos{\\left(k_{1} \\right)} + 1.0 J_{2} & 0 & 2.0 J_{2} \\cos{\\left(\\frac{k_{1}}{2} \\right)} \\cos{\\left(\\frac{\\sqrt{3} k_{2}}{2} \\right)} & 0 & 0 & 0\\\\0 & 0 & 0 & 1.0 J_{2} \\cos{\\left(k_{1} \\right)} + 1.0 J_{2} & 0 & 2.0 J_{2} \\cos{\\left(\\frac{k_{1}}{2} \\right)} \\cos{\\left(\\frac{\\sqrt{3} k_{2}}{2} \\right)} & 0 & 0\\\\0 & 0 & 2.0 J_{2} \\cos{\\left(\\frac{k_{1}}{2} \\right)} \\cos{\\left(\\frac{\\sqrt{3} k_{2}}{2} \\right)} & 0 & 1.0 J_{2} \\cos{\\left(k_{1} \\right)} + 1.0 J_{2} & 0 & 0 & 0\\\\0 & 0 & 0 & 2.0 J_{2} \\cos{\\left(\\frac{k_{1}}{2} \\right)} \\cos{\\left(\\frac{\\sqrt{3} k_{2}}{2} \\right)} & 0 & 1.0 J_{2} \\cos{\\left(k_{1} \\right)} + 1.0 J_{2} & 0 & 0\\\\2.0 J_{2} \\cos{\\left(\\frac{k_{1}}{2} \\right)} \\cos{\\left(\\frac{\\sqrt{3} k_{2}}{2} \\right)} & 0 & 0 & 0 & 0 & 0 & 1.0 J_{2} \\cos{\\left(k_{1} \\right)} + 1.0 J_{2} & 0\\\\0 & 2.0 J_{2} \\cos{\\left(\\frac{k_{1}}{2} \\right)} \\cos{\\left(\\frac{\\sqrt{3} k_{2}}{2} \\right)} & 0 & 0 & 0 & 0 & 0 & 1.0 J_{2} \\cos{\\left(k_{1} \\right)} + 1.0 J_{2}\\end{matrix}\\right]$"
      ],
      "text/plain": [
       "Matrix([\n",
       "[           1.0*J2*cos(k1) + 1.0*J2,                                  0,                                  0,                                  0,                                  0,                                  0, 2.0*J2*cos(k1/2)*cos(sqrt(3)*k2/2),                                  0],\n",
       "[                                 0,            1.0*J2*cos(k1) + 1.0*J2,                                  0,                                  0,                                  0,                                  0,                                  0, 2.0*J2*cos(k1/2)*cos(sqrt(3)*k2/2)],\n",
       "[                                 0,                                  0,            1.0*J2*cos(k1) + 1.0*J2,                                  0, 2.0*J2*cos(k1/2)*cos(sqrt(3)*k2/2),                                  0,                                  0,                                  0],\n",
       "[                                 0,                                  0,                                  0,            1.0*J2*cos(k1) + 1.0*J2,                                  0, 2.0*J2*cos(k1/2)*cos(sqrt(3)*k2/2),                                  0,                                  0],\n",
       "[                                 0,                                  0, 2.0*J2*cos(k1/2)*cos(sqrt(3)*k2/2),                                  0,            1.0*J2*cos(k1) + 1.0*J2,                                  0,                                  0,                                  0],\n",
       "[                                 0,                                  0,                                  0, 2.0*J2*cos(k1/2)*cos(sqrt(3)*k2/2),                                  0,            1.0*J2*cos(k1) + 1.0*J2,                                  0,                                  0],\n",
       "[2.0*J2*cos(k1/2)*cos(sqrt(3)*k2/2),                                  0,                                  0,                                  0,                                  0,                                  0,            1.0*J2*cos(k1) + 1.0*J2,                                  0],\n",
       "[                                 0, 2.0*J2*cos(k1/2)*cos(sqrt(3)*k2/2),                                  0,                                  0,                                  0,                                  0,                                  0,            1.0*J2*cos(k1) + 1.0*J2]])"
      ]
     },
     "execution_count": 69,
     "metadata": {},
     "output_type": "execute_result"
    }
   ],
   "source": [
    "Hlsw_J2 = Hlsw.subs([(J,0), (J3,0), (K, 0), (Gamma, 0), (gamma, 0), (h, 0), (a, 1)])\n",
    "Hlsw_J2"
   ]
  },
  {
   "cell_type": "code",
   "execution_count": 70,
   "metadata": {},
   "outputs": [
    {
     "name": "stdout",
     "output_type": "stream",
     "text": [
      "0.0 0\n",
      "0.3141592653589793 0\n",
      "0.6283185307179586 0\n",
      "0.9424777960769379 0\n",
      "1.2566370614359172 0\n",
      "1.5707963267948966 0\n",
      "1.8849555921538759 0\n",
      "2.199114857512855 0\n",
      "2.5132741228718345 0\n",
      "2.827433388230814 0\n",
      "3.141592653589793 0.0\n",
      "3.141592653589793 -0.3141592653589793\n",
      "3.141592653589793 -0.6283185307179586\n",
      "3.141592653589793 -0.9424777960769379\n",
      "3.141592653589793 -1.2566370614359172\n",
      "3.141592653589793 -1.5707963267948966\n",
      "3.141592653589793 1.8137993642342178\n",
      "2.827433388230814 1.8137993642342178\n",
      "2.5132741228718345 1.8137993642342178\n",
      "2.199114857512855 1.8137993642342178\n",
      "1.8849555921538759 1.8137993642342178\n",
      "1.5707963267948966 1.8137993642342178\n",
      "1.2566370614359172 1.8137993642342178\n",
      "0.9424777960769379 1.8137993642342178\n",
      "0.6283185307179586 1.8137993642342178\n",
      "0.3141592653589793 1.8137993642342178\n",
      "0 1.8137993642342178\n",
      "0 1.4996400988752385\n",
      "0 1.1854808335162592\n",
      "0 0.8713215681572799\n",
      "0 0.5571623027983006\n",
      "0 0.24300303743932128\n",
      "0.0 0.0\n",
      "0.27206990463513264 0.15707963267948966\n",
      "0.5441398092702653 0.3141592653589793\n",
      "0.816209713905398 0.47123889803846897\n",
      "1.0882796185405306 0.6283185307179586\n",
      "1.3603495231756633 0.7853981633974483\n",
      "1.632419427810796 0.9424777960769379\n",
      "1.9044893324459287 1.0995574287564276\n",
      "2.176559237081061 1.2566370614359172\n",
      "2.448629141716194 1.413716694115407\n",
      "2.7206990463513265 1.5707963267948966\n",
      "2.9927689509864592 1.7278759594743862\n",
      "[[ 1.65575317e-12-1.65560718e-12j  1.65575317e-12-1.65560718e-12j\n",
      "   1.65575317e-12-1.65560718e-12j  1.65575317e-12-1.65560718e-12j\n",
      "  -1.65546147e-12+1.65560718e-12j -1.65546147e-12+1.65560718e-12j\n",
      "  -1.65546147e-12+1.65560718e-12j -1.65546147e-12+1.65560718e-12j]\n",
      " [ 9.49527970e-17-3.09016994e-01j  9.49527970e-17-3.09016994e-01j\n",
      "   9.49527970e-17-3.09016994e-01j  9.49527970e-17-3.09016994e-01j\n",
      "  -3.33066907e-16+3.09016994e-01j -3.33066907e-16+3.09016994e-01j\n",
      "  -3.33066907e-16+3.09016994e-01j -3.33066907e-16+3.09016994e-01j]\n",
      " [ 9.99200722e-16+5.87785252e-01j  6.66133815e-16+5.87785252e-01j\n",
      "   1.40569968e-16-5.87785252e-01j  3.99244062e-17-5.87785252e-01j\n",
      "  -3.99244062e-17-5.87785252e-01j -1.40569968e-16-5.87785252e-01j\n",
      "  -6.66133815e-16+5.87785252e-01j -9.99200722e-16+5.87785252e-01j]\n",
      " [ 1.90246715e-16-8.09016994e-01j  1.90246715e-16-8.09016994e-01j\n",
      "   1.90246715e-16-8.09016994e-01j  1.90246715e-16-8.09016994e-01j\n",
      "   0.00000000e+00+8.09016994e-01j  0.00000000e+00+8.09016994e-01j\n",
      "   0.00000000e+00+8.09016994e-01j  0.00000000e+00+8.09016994e-01j]\n",
      " [ 2.22044605e-16+9.51056516e-01j  1.21828044e-16-9.51056516e-01j\n",
      "  -6.93889390e-17-9.51056516e-01j -2.22044605e-16+9.51056516e-01j\n",
      "  -4.44089210e-16+9.51056516e-01j -4.48353153e-16-9.51056516e-01j\n",
      "  -6.66133815e-16+9.51056516e-01j -8.02667874e-16-9.51056516e-01j]\n",
      " [-5.65172401e-17-1.00000000e+00j -5.65172401e-17-1.00000000e+00j\n",
      "  -5.65172401e-17-1.00000000e+00j -5.65172401e-17-1.00000000e+00j\n",
      "  -2.22044605e-16+1.00000000e+00j -2.22044605e-16+1.00000000e+00j\n",
      "  -2.22044605e-16+1.00000000e+00j -2.22044605e-16+1.00000000e+00j]\n",
      " [ 2.22044605e-16+9.51056516e-01j  2.22044605e-16+9.51056516e-01j\n",
      "   2.22044605e-16+9.51056516e-01j  2.22044605e-16+9.51056516e-01j\n",
      "  -2.77555756e-17-9.51056516e-01j -2.77555756e-17-9.51056516e-01j\n",
      "  -2.77555756e-17-9.51056516e-01j -2.77555756e-17-9.51056516e-01j]\n",
      " [ 1.11022302e-16+8.09016994e-01j  1.11022302e-16+8.09016994e-01j\n",
      "   1.11022302e-16+8.09016994e-01j  1.11022302e-16+8.09016994e-01j\n",
      "   1.38777878e-17-8.09016994e-01j  1.38777878e-17-8.09016994e-01j\n",
      "   1.38777878e-17-8.09016994e-01j  1.38777878e-17-8.09016994e-01j]\n",
      " [ 0.00000000e+00-5.87785252e-01j  0.00000000e+00-5.87785252e-01j\n",
      "   0.00000000e+00-5.87785252e-01j  0.00000000e+00-5.87785252e-01j\n",
      "  -5.55111512e-17+5.87785252e-01j -5.55111512e-17+5.87785252e-01j\n",
      "  -5.55111512e-17+5.87785252e-01j -5.55111512e-17+5.87785252e-01j]\n",
      " [-1.38777878e-17-3.09016994e-01j -1.38777878e-17-3.09016994e-01j\n",
      "  -1.38777878e-17-3.09016994e-01j -1.38777878e-17-3.09016994e-01j\n",
      "  -2.77555756e-17+3.09016994e-01j -2.77555756e-17+3.09016994e-01j\n",
      "  -2.77555756e-17+3.09016994e-01j -2.77555756e-17+3.09016994e-01j]\n",
      " [ 0.00000000e+00+1.22464680e-16j  0.00000000e+00+1.22464680e-16j\n",
      "   0.00000000e+00+1.22464680e-16j  0.00000000e+00+1.22464680e-16j\n",
      "  -6.16297582e-33-1.22464680e-16j -6.16297582e-33-1.22464680e-16j\n",
      "  -6.16297582e-33-1.22464680e-16j -6.16297582e-33-1.22464680e-16j]\n",
      " [ 0.00000000e+00-1.17960028e-16j  0.00000000e+00+1.17960028e-16j\n",
      "   0.00000000e+00-1.17960028e-16j  0.00000000e+00+1.17960028e-16j\n",
      "   0.00000000e+00-1.17960028e-16j  0.00000000e+00+1.17960028e-16j\n",
      "   0.00000000e+00-1.17960028e-16j  0.00000000e+00+1.17960028e-16j]\n",
      " [ 6.16297582e-33-1.04777463e-16j  6.16297582e-33-1.04777463e-16j\n",
      "   6.16297582e-33-1.04777463e-16j  6.16297582e-33-1.04777463e-16j\n",
      "   0.00000000e+00+1.04777463e-16j  0.00000000e+00+1.04777463e-16j\n",
      "   0.00000000e+00+1.04777463e-16j  0.00000000e+00+1.04777463e-16j]\n",
      " [ 0.00000000e+00+8.38867813e-17j  0.00000000e+00+8.38867813e-17j\n",
      "   0.00000000e+00+8.38867813e-17j  0.00000000e+00+8.38867813e-17j\n",
      "  -3.08148791e-33-8.38867813e-17j -3.08148791e-33-8.38867813e-17j\n",
      "  -3.08148791e-33-8.38867813e-17j -3.08148791e-33-8.38867813e-17j]\n",
      " [ 0.00000000e+00+5.68248384e-17j  0.00000000e+00+5.68248384e-17j\n",
      "   0.00000000e+00+5.68248384e-17j  0.00000000e+00+5.68248384e-17j\n",
      "  -1.54074396e-33-5.68248384e-17j -1.54074396e-33-5.68248384e-17j\n",
      "  -1.54074396e-33-5.68248384e-17j -1.54074396e-33-5.68248384e-17j]\n",
      " [ 0.00000000e+00+2.55824879e-17j  0.00000000e+00+2.55824879e-17j\n",
      "   0.00000000e+00+2.55824879e-17j  0.00000000e+00+2.55824879e-17j\n",
      "  -2.31111593e-33-2.55824879e-17j -2.31111593e-33-2.55824879e-17j\n",
      "  -2.31111593e-33-2.55824879e-17j -2.31111593e-33-2.55824879e-17j]\n",
      " [ 0.00000000e+00+1.45591383e-33j  0.00000000e+00+1.45591383e-33j\n",
      "   0.00000000e+00+1.45591383e-33j  0.00000000e+00+1.45591383e-33j\n",
      "  -4.27642354e-50-1.45591383e-33j -4.27642354e-50-1.45591383e-33j\n",
      "  -4.27642354e-50-1.45591383e-33j -4.27642354e-50-1.45591383e-33j]\n",
      " [ 4.89434837e-02+0.00000000e+00j  4.89434837e-02+0.00000000e+00j\n",
      "   4.89434837e-02+0.00000000e+00j  4.89434837e-02+0.00000000e+00j\n",
      "  -4.89434837e-02+0.00000000e+00j -4.89434837e-02+0.00000000e+00j\n",
      "  -4.89434837e-02+0.00000000e+00j -4.89434837e-02+0.00000000e+00j]\n",
      " [ 1.90983006e-01+0.00000000e+00j  1.90983006e-01+0.00000000e+00j\n",
      "   1.90983006e-01+0.00000000e+00j  1.90983006e-01+0.00000000e+00j\n",
      "  -1.90983006e-01+0.00000000e+00j -1.90983006e-01+0.00000000e+00j\n",
      "  -1.90983006e-01+0.00000000e+00j -1.90983006e-01+0.00000000e+00j]\n",
      " [ 4.12214748e-01+0.00000000e+00j  4.12214748e-01+0.00000000e+00j\n",
      "   4.12214748e-01+0.00000000e+00j  4.12214748e-01+0.00000000e+00j\n",
      "  -4.12214748e-01+0.00000000e+00j -4.12214748e-01+0.00000000e+00j\n",
      "  -4.12214748e-01+0.00000000e+00j -4.12214748e-01+0.00000000e+00j]\n",
      " [ 6.90983006e-01+0.00000000e+00j  6.90983006e-01+0.00000000e+00j\n",
      "   6.90983006e-01+0.00000000e+00j  6.90983006e-01+0.00000000e+00j\n",
      "  -6.90983006e-01+0.00000000e+00j -6.90983006e-01+0.00000000e+00j\n",
      "  -6.90983006e-01+0.00000000e+00j -6.90983006e-01+0.00000000e+00j]\n",
      " [ 1.00000000e+00+0.00000000e+00j  1.00000000e+00+0.00000000e+00j\n",
      "   1.00000000e+00+0.00000000e+00j  1.00000000e+00+0.00000000e+00j\n",
      "  -1.00000000e+00+0.00000000e+00j -1.00000000e+00+0.00000000e+00j\n",
      "  -1.00000000e+00+0.00000000e+00j -1.00000000e+00+0.00000000e+00j]\n",
      " [ 1.30901699e+00+0.00000000e+00j  1.30901699e+00+0.00000000e+00j\n",
      "   1.30901699e+00+0.00000000e+00j  1.30901699e+00+0.00000000e+00j\n",
      "  -1.30901699e+00+0.00000000e+00j -1.30901699e+00+0.00000000e+00j\n",
      "  -1.30901699e+00+0.00000000e+00j -1.30901699e+00+0.00000000e+00j]\n",
      " [ 1.58778525e+00+0.00000000e+00j  1.58778525e+00+0.00000000e+00j\n",
      "   1.58778525e+00+0.00000000e+00j  1.58778525e+00+0.00000000e+00j\n",
      "  -1.58778525e+00+0.00000000e+00j -1.58778525e+00+0.00000000e+00j\n",
      "  -1.58778525e+00+0.00000000e+00j -1.58778525e+00+0.00000000e+00j]\n",
      " [ 1.80901699e+00+0.00000000e+00j  1.80901699e+00+0.00000000e+00j\n",
      "   1.80901699e+00+0.00000000e+00j  1.80901699e+00+0.00000000e+00j\n",
      "  -1.80901699e+00+0.00000000e+00j -1.80901699e+00+0.00000000e+00j\n",
      "  -1.80901699e+00+0.00000000e+00j -1.80901699e+00+0.00000000e+00j]\n",
      " [ 1.95105652e+00+0.00000000e+00j  1.95105652e+00+0.00000000e+00j\n",
      "   1.95105652e+00+0.00000000e+00j  1.95105652e+00+0.00000000e+00j\n",
      "  -1.95105652e+00+0.00000000e+00j -1.95105652e+00+0.00000000e+00j\n",
      "  -1.95105652e+00+0.00000000e+00j -1.95105652e+00+0.00000000e+00j]\n",
      " [ 2.00000000e+00+0.00000000e+00j  2.00000000e+00+0.00000000e+00j\n",
      "   2.00000000e+00+0.00000000e+00j  2.00000000e+00+0.00000000e+00j\n",
      "  -2.00000000e+00+0.00000000e+00j -2.00000000e+00+0.00000000e+00j\n",
      "  -2.00000000e+00+0.00000000e+00j -2.00000000e+00+0.00000000e+00j]\n",
      " [ 1.92643345e+00+0.00000000e+00j  1.92643345e+00+0.00000000e+00j\n",
      "   1.92643345e+00+0.00000000e+00j  1.92643345e+00+0.00000000e+00j\n",
      "  -1.92643345e+00+0.00000000e+00j -1.92643345e+00+0.00000000e+00j\n",
      "  -1.92643345e+00+0.00000000e+00j -1.92643345e+00+0.00000000e+00j]\n",
      " [ 1.71114583e+00+0.00000000e+00j  1.71114583e+00+0.00000000e+00j\n",
      "   1.71114583e+00+0.00000000e+00j  1.71114583e+00+0.00000000e+00j\n",
      "  -1.71114583e+00+0.00000000e+00j -1.71114583e+00+0.00000000e+00j\n",
      "  -1.71114583e+00+0.00000000e+00j -1.71114583e+00+0.00000000e+00j]\n",
      " [ 1.36997510e+00+0.00000000e+00j  1.36997510e+00+0.00000000e+00j\n",
      "   1.36997510e+00+0.00000000e+00j  1.36997510e+00+0.00000000e+00j\n",
      "  -1.36997510e+00+0.00000000e+00j -1.36997510e+00+0.00000000e+00j\n",
      "  -1.36997510e+00+0.00000000e+00j -1.36997510e+00+0.00000000e+00j]\n",
      " [ 9.28020036e-01+0.00000000e+00j  9.28020036e-01+0.00000000e+00j\n",
      "   9.28020036e-01+0.00000000e+00j  9.28020036e-01+0.00000000e+00j\n",
      "  -9.28020036e-01+0.00000000e+00j -9.28020036e-01+0.00000000e+00j\n",
      "  -9.28020036e-01+0.00000000e+00j -9.28020036e-01+0.00000000e+00j]\n",
      " [ 4.17793734e-01+0.00000000e+00j  4.17793734e-01+0.00000000e+00j\n",
      "   4.17793734e-01+0.00000000e+00j  4.17793734e-01+0.00000000e+00j\n",
      "  -4.17793734e-01+0.00000000e+00j -4.17793734e-01+0.00000000e+00j\n",
      "  -4.17793734e-01+0.00000000e+00j -4.17793734e-01+0.00000000e+00j]\n",
      " [ 1.65575317e-12-1.65560718e-12j  1.65575317e-12-1.65560718e-12j\n",
      "   1.65575317e-12-1.65560718e-12j  1.65575317e-12-1.65560718e-12j\n",
      "  -1.65546147e-12+1.65560718e-12j -1.65546147e-12+1.65560718e-12j\n",
      "  -1.65546147e-12+1.65560718e-12j -1.65546147e-12+1.65560718e-12j]\n",
      " [ 0.00000000e+00+0.00000000e+00j  0.00000000e+00+0.00000000e+00j\n",
      "   0.00000000e+00+0.00000000e+00j  0.00000000e+00+0.00000000e+00j\n",
      "  -4.44089210e-16+0.00000000e+00j -4.44089210e-16+0.00000000e+00j\n",
      "  -4.44089210e-16+0.00000000e+00j -4.44089210e-16+0.00000000e+00j]\n",
      " [ 2.41388527e-08+0.00000000e+00j  2.41388527e-08+0.00000000e+00j\n",
      "   2.41388527e-08+0.00000000e+00j  2.41388527e-08+0.00000000e+00j\n",
      "  -2.41388527e-08+0.00000000e+00j -2.41388527e-08+0.00000000e+00j\n",
      "  -2.41388527e-08+0.00000000e+00j -2.41388527e-08+0.00000000e+00j]\n",
      " [ 2.30025493e-08+0.00000000e+00j  2.30025482e-08+0.00000000e+00j\n",
      "   6.28036983e-16+0.00000000e+00j  4.44089210e-16+0.00000000e+00j\n",
      "  -4.44089210e-16+0.00000000e+00j -6.28036983e-16+0.00000000e+00j\n",
      "  -2.30025482e-08+0.00000000e+00j -2.30025493e-08+0.00000000e+00j]\n",
      " [ 0.00000000e+00+0.00000000e+00j  0.00000000e+00+0.00000000e+00j\n",
      "   0.00000000e+00+0.00000000e+00j  0.00000000e+00+0.00000000e+00j\n",
      "  -4.44089210e-16+0.00000000e+00j -4.44089210e-16+0.00000000e+00j\n",
      "  -4.44089210e-16+0.00000000e+00j -4.44089210e-16+0.00000000e+00j]\n",
      " [ 0.00000000e+00+0.00000000e+00j  0.00000000e+00+0.00000000e+00j\n",
      "   0.00000000e+00+0.00000000e+00j  0.00000000e+00+0.00000000e+00j\n",
      "  -6.66133815e-16+0.00000000e+00j -6.66133815e-16+0.00000000e+00j\n",
      "  -6.66133815e-16+0.00000000e+00j -6.66133815e-16+0.00000000e+00j]\n",
      " [ 1.38613896e-12+1.38629426e-12j  1.38613896e-12+1.38629426e-12j\n",
      "   1.38613896e-12+1.38629426e-12j  1.38613896e-12+1.38629426e-12j\n",
      "  -1.38644958e-12-1.38629426e-12j -1.38644958e-12-1.38629426e-12j\n",
      "  -1.38644958e-12-1.38629426e-12j -1.38644958e-12-1.38629426e-12j]\n",
      " [ 0.00000000e+00+0.00000000e+00j  0.00000000e+00+0.00000000e+00j\n",
      "   0.00000000e+00+0.00000000e+00j  0.00000000e+00+0.00000000e+00j\n",
      "  -2.22044605e-16+0.00000000e+00j -2.22044605e-16+0.00000000e+00j\n",
      "  -2.22044605e-16+0.00000000e+00j -2.22044605e-16+0.00000000e+00j]\n",
      " [-1.18320449e-16-9.15260177e-13j -1.18320449e-16-9.15260177e-13j\n",
      "  -1.18320449e-16-9.15260177e-13j -1.18320449e-16-9.15260177e-13j\n",
      "  -1.18320453e-16+9.15260177e-13j -1.18320453e-16+9.15260177e-13j\n",
      "  -1.18320453e-16+9.15260177e-13j -1.18320453e-16+9.15260177e-13j]\n",
      " [ 3.00887035e-09+0.00000000e+00j  3.00887035e-09+0.00000000e+00j\n",
      "   3.00887035e-09+0.00000000e+00j  3.00887035e-09+0.00000000e+00j\n",
      "  -3.00887027e-09+0.00000000e+00j -3.00887027e-09+0.00000000e+00j\n",
      "  -3.00887027e-09+0.00000000e+00j -3.00887027e-09+0.00000000e+00j]\n",
      " [ 7.93661841e-14-7.93768787e-14j  7.93661841e-14-7.93768787e-14j\n",
      "   7.93661841e-14-7.93768787e-14j  7.93661841e-14-7.93768787e-14j\n",
      "  -7.93875751e-14+7.93768787e-14j -7.93875751e-14+7.93768787e-14j\n",
      "  -7.93875751e-14+7.93768787e-14j -7.93875751e-14+7.93768787e-14j]\n",
      " [ 3.29350910e-10+0.00000000e+00j  3.29350908e-10+0.00000000e+00j\n",
      "   3.29350905e-10+0.00000000e+00j  2.85226256e-10+0.00000000e+00j\n",
      "  -2.85226254e-10+0.00000000e+00j -3.29350907e-10+0.00000000e+00j\n",
      "  -3.29350908e-10+0.00000000e+00j -3.29350911e-10+0.00000000e+00j]]\n",
      "2.0 -2.0\n"
     ]
    },
    {
     "data": {
      "image/png": "[encoded data removed]",
      "text/plain": [
       "<Figure size 432x288 with 1 Axes>"
      ]
     },
     "metadata": {},
     "output_type": "display_data"
    }
   ],
   "source": [
    "cp_strg = [0,1,0,0,0,0,0]\n",
    "Hlsw_num = Hlsw.subs([(J,cp_strg[0]), (J2,cp_strg[1]), (J3,cp_strg[2]), (K, cp_strg[3]), (Gamma, cp_strg[4]), (gamma, cp_strg[5]), (h, cp_strg[6]), (a, 1)])\n",
    "band_high_sym(Hlsw_num, cp_strg , 20)"
   ]
  },
  {
   "cell_type": "code",
   "execution_count": 71,
   "metadata": {
    "scrolled": true
   },
   "outputs": [
    {
     "data": {
      "text/latex": [
       "$\\displaystyle \\left[\\begin{matrix}1.5 J_{3} & 0 & 0 & 0 & 0 & 0 & 0 & 0.5 J_{3} \\cdot \\left(2 e^{\\frac{\\sqrt{3} i k_{2}}{3}} \\cos{\\left(k_{1} \\right)} + e^{- \\frac{2 \\sqrt{3} i k_{2}}{3}}\\right)\\\\0 & 1.5 J_{3} & 0 & 0 & 0 & 0 & 0.5 J_{3} \\left(e^{i \\left(- k_{1} + \\frac{\\sqrt{3} k_{2}}{3}\\right)} + e^{i \\left(k_{1} + \\frac{\\sqrt{3} k_{2}}{3}\\right)} + e^{- \\frac{2 \\sqrt{3} i k_{2}}{3}}\\right) & 0\\\\0 & 0 & 1.5 J_{3} & 0 & 0 & 0.5 J_{3} \\left(e^{\\frac{2 \\sqrt{3} i k_{2}}{3}} + e^{- i \\left(k_{1} + \\frac{\\sqrt{3} k_{2}}{3}\\right)} + e^{- i \\left(- k_{1} + \\frac{\\sqrt{3} k_{2}}{3}\\right)}\\right) & 0 & 0\\\\0 & 0 & 0 & 1.5 J_{3} & 0.5 J_{3} \\left(e^{\\frac{2 \\sqrt{3} i k_{2}}{3}} + 2 e^{- \\frac{\\sqrt{3} i k_{2}}{3}} \\cos{\\left(k_{1} \\right)}\\right) & 0 & 0 & 0\\\\0 & 0 & 0 & 0.5 J_{3} \\cdot \\left(2 e^{\\frac{\\sqrt{3} i k_{2}}{3}} \\cos{\\left(k_{1} \\right)} + e^{- \\frac{2 \\sqrt{3} i k_{2}}{3}}\\right) & 1.5 J_{3} & 0 & 0 & 0\\\\0 & 0 & 0.5 J_{3} \\left(e^{i \\left(- k_{1} + \\frac{\\sqrt{3} k_{2}}{3}\\right)} + e^{i \\left(k_{1} + \\frac{\\sqrt{3} k_{2}}{3}\\right)} + e^{- \\frac{2 \\sqrt{3} i k_{2}}{3}}\\right) & 0 & 0 & 1.5 J_{3} & 0 & 0\\\\0 & 0.5 J_{3} \\left(e^{\\frac{2 \\sqrt{3} i k_{2}}{3}} + e^{- i \\left(k_{1} + \\frac{\\sqrt{3} k_{2}}{3}\\right)} + e^{- i \\left(- k_{1} + \\frac{\\sqrt{3} k_{2}}{3}\\right)}\\right) & 0 & 0 & 0 & 0 & 1.5 J_{3} & 0\\\\0.5 J_{3} \\left(e^{\\frac{2 \\sqrt{3} i k_{2}}{3}} + 2 e^{- \\frac{\\sqrt{3} i k_{2}}{3}} \\cos{\\left(k_{1} \\right)}\\right) & 0 & 0 & 0 & 0 & 0 & 0 & 1.5 J_{3}\\end{matrix}\\right]$"
      ],
      "text/plain": [
       "Matrix([\n",
       "[                                                         1.5*J3,                                                                                           0,                                                                                          0,                                                               0,                                                               0,                                                                                           0,                                                                                          0, 0.5*J3*(2*exp(sqrt(3)*I*k2/3)*cos(k1) + exp(-2*sqrt(3)*I*k2/3))],\n",
       "[                                                              0,                                                                                      1.5*J3,                                                                                          0,                                                               0,                                                               0,                                                                                           0, 0.5*J3*(exp(I*(-k1 + sqrt(3)*k2/3)) + exp(I*(k1 + sqrt(3)*k2/3)) + exp(-2*sqrt(3)*I*k2/3)),                                                               0],\n",
       "[                                                              0,                                                                                           0,                                                                                     1.5*J3,                                                               0,                                                               0, 0.5*J3*(exp(2*sqrt(3)*I*k2/3) + exp(-I*(k1 + sqrt(3)*k2/3)) + exp(-I*(-k1 + sqrt(3)*k2/3))),                                                                                          0,                                                               0],\n",
       "[                                                              0,                                                                                           0,                                                                                          0,                                                          1.5*J3, 0.5*J3*(exp(2*sqrt(3)*I*k2/3) + 2*exp(-sqrt(3)*I*k2/3)*cos(k1)),                                                                                           0,                                                                                          0,                                                               0],\n",
       "[                                                              0,                                                                                           0,                                                                                          0, 0.5*J3*(2*exp(sqrt(3)*I*k2/3)*cos(k1) + exp(-2*sqrt(3)*I*k2/3)),                                                          1.5*J3,                                                                                           0,                                                                                          0,                                                               0],\n",
       "[                                                              0,                                                                                           0, 0.5*J3*(exp(I*(-k1 + sqrt(3)*k2/3)) + exp(I*(k1 + sqrt(3)*k2/3)) + exp(-2*sqrt(3)*I*k2/3)),                                                               0,                                                               0,                                                                                      1.5*J3,                                                                                          0,                                                               0],\n",
       "[                                                              0, 0.5*J3*(exp(2*sqrt(3)*I*k2/3) + exp(-I*(k1 + sqrt(3)*k2/3)) + exp(-I*(-k1 + sqrt(3)*k2/3))),                                                                                          0,                                                               0,                                                               0,                                                                                           0,                                                                                     1.5*J3,                                                               0],\n",
       "[0.5*J3*(exp(2*sqrt(3)*I*k2/3) + 2*exp(-sqrt(3)*I*k2/3)*cos(k1)),                                                                                           0,                                                                                          0,                                                               0,                                                               0,                                                                                           0,                                                                                          0,                                                          1.5*J3]])"
      ]
     },
     "execution_count": 71,
     "metadata": {},
     "output_type": "execute_result"
    }
   ],
   "source": [
    "Hlsw_J3 = Hlsw.subs([(J,0), (J2,0), (K, 0), (Gamma, 0), (gamma, 0), (h, 0), (a, 1)])\n",
    "Hlsw_J3"
   ]
  },
  {
   "cell_type": "code",
   "execution_count": 72,
   "metadata": {},
   "outputs": [
    {
     "name": "stdout",
     "output_type": "stream",
     "text": [
      "0.0 0\n",
      "0.3141592653589793 0\n",
      "0.6283185307179586 0\n",
      "0.9424777960769379 0\n",
      "1.2566370614359172 0\n",
      "1.5707963267948966 0\n",
      "1.8849555921538759 0\n",
      "2.199114857512855 0\n",
      "2.5132741228718345 0\n",
      "2.827433388230814 0\n",
      "3.141592653589793 0.0\n",
      "3.141592653589793 -0.3141592653589793\n",
      "3.141592653589793 -0.6283185307179586\n",
      "3.141592653589793 -0.9424777960769379\n",
      "3.141592653589793 -1.2566370614359172\n",
      "3.141592653589793 -1.5707963267948966\n",
      "3.141592653589793 1.8137993642342178\n",
      "2.827433388230814 1.8137993642342178\n",
      "2.5132741228718345 1.8137993642342178\n",
      "2.199114857512855 1.8137993642342178\n",
      "1.8849555921538759 1.8137993642342178\n",
      "1.5707963267948966 1.8137993642342178\n",
      "1.2566370614359172 1.8137993642342178\n",
      "0.9424777960769379 1.8137993642342178\n",
      "0.6283185307179586 1.8137993642342178\n",
      "0.3141592653589793 1.8137993642342178\n",
      "0 1.8137993642342178\n",
      "0 1.4996400988752385\n",
      "0 1.1854808335162592\n",
      "0 0.8713215681572799\n",
      "0 0.5571623027983006\n",
      "0 0.24300303743932128\n",
      "0.0 0.0\n",
      "0.27206990463513264 0.15707963267948966\n",
      "0.5441398092702653 0.3141592653589793\n",
      "0.816209713905398 0.47123889803846897\n",
      "1.0882796185405306 0.6283185307179586\n",
      "1.3603495231756633 0.7853981633974483\n",
      "1.632419427810796 0.9424777960769379\n",
      "1.9044893324459287 1.0995574287564276\n",
      "2.176559237081061 1.2566370614359172\n",
      "2.448629141716194 1.413716694115407\n",
      "2.7206990463513265 1.5707963267948966\n",
      "2.9927689509864592 1.7278759594743862\n",
      "[[ 1.17316668e-12+0.00000000e+00j  1.17316668e-12+0.00000000e+00j\n",
      "   1.17278415e-12+0.00000000e+00j  1.17278415e-12+0.00000000e+00j\n",
      "  -1.17278415e-12+0.00000000e+00j -1.17278415e-12+0.00000000e+00j\n",
      "  -1.17316668e-12+0.00000000e+00j -1.17316668e-12+0.00000000e+00j]\n",
      " [ 3.80046032e-01-6.46812530e-21j  3.80046032e-01-6.46812530e-21j\n",
      "   3.80046032e-01-9.43418628e-37j  3.80046032e-01+0.00000000e+00j\n",
      "  -3.80046032e-01+0.00000000e+00j -3.80046032e-01+6.46812530e-21j\n",
      "  -3.80046032e-01+2.85301477e-37j -3.80046032e-01+6.46812530e-21j]\n",
      " [ 7.32444202e-01-6.05523545e-21j  7.32444202e-01+0.00000000e+00j\n",
      "   7.32444202e-01-6.05523545e-21j  7.32444202e-01+0.00000000e+00j\n",
      "  -7.32444202e-01+6.05523545e-21j -7.32444202e-01+0.00000000e+00j\n",
      "  -7.32444202e-01+6.05523545e-21j -7.32444202e-01+0.00000000e+00j]\n",
      " [ 1.03282295e+00-3.56843329e-21j  1.03282295e+00+0.00000000e+00j\n",
      "   1.03282295e+00-3.56843329e-21j  1.03282295e+00+0.00000000e+00j\n",
      "  -1.03282295e+00+3.56843329e-21j -1.03282295e+00+0.00000000e+00j\n",
      "  -1.03282295e+00+3.56843329e-21j -1.03282295e+00+0.00000000e+00j]\n",
      " [ 1.26312767e+00+0.00000000e+00j  1.26312767e+00-2.17005475e-21j\n",
      "   1.26312767e+00+0.00000000e+00j  1.26312767e+00-2.17005475e-21j\n",
      "  -1.26312767e+00+0.00000000e+00j -1.26312767e+00+0.00000000e+00j\n",
      "  -1.26312767e+00+2.17005475e-21j -1.26312767e+00+2.17005475e-21j]\n",
      " [ 1.41421356e+00-1.19788548e-21j  1.41421356e+00+0.00000000e+00j\n",
      "   1.41421356e+00-1.19788548e-21j  1.41421356e+00+0.00000000e+00j\n",
      "  -1.41421356e+00+1.19788548e-21j -1.41421356e+00+0.00000000e+00j\n",
      "  -1.41421356e+00+1.19788548e-21j -1.41421356e+00+0.00000000e+00j]\n",
      " [ 1.48779215e+00-4.34923380e-22j  1.48779215e+00+0.00000000e+00j\n",
      "   1.48779215e+00-4.34923380e-22j  1.48779215e+00+0.00000000e+00j\n",
      "  -1.48779215e+00+4.34923380e-22j -1.48779215e+00+0.00000000e+00j\n",
      "  -1.48779215e+00+4.34923380e-22j -1.48779215e+00+0.00000000e+00j]\n",
      " [ 1.49742905e+00+1.98625774e-22j  1.49742905e+00+0.00000000e+00j\n",
      "   1.49742905e+00+1.98625774e-22j  1.49742905e+00+0.00000000e+00j\n",
      "  -1.49742905e+00-1.98625774e-22j -1.49742905e+00+0.00000000e+00j\n",
      "  -1.49742905e+00-1.98625774e-22j -1.49742905e+00+0.00000000e+00j]\n",
      " [ 1.46782441e+00+0.00000000e+00j  1.46782441e+00+7.13293971e-22j\n",
      "   1.46782441e+00+0.00000000e+00j  1.46782441e+00+7.13293971e-22j\n",
      "  -1.46782441e+00+0.00000000e+00j -1.46782441e+00-7.13293971e-22j\n",
      "  -1.46782441e+00+0.00000000e+00j -1.46782441e+00-7.13293971e-22j]\n",
      " [ 1.43057611e+00+5.34134083e-22j  1.43057611e+00+0.00000000e+00j\n",
      "   1.43057611e+00+5.34134083e-22j  1.43057611e+00-7.37589832e-39j\n",
      "  -1.43057611e+00-5.34134083e-22j -1.43057611e+00+0.00000000e+00j\n",
      "  -1.43057611e+00-5.34134083e-22j -1.43057611e+00+7.37589832e-39j]\n",
      " [ 1.41421356e+00+2.65984009e-37j  1.41421356e+00+0.00000000e+00j\n",
      "   1.41421356e+00+2.65984009e-37j  1.41421356e+00+0.00000000e+00j\n",
      "  -1.41421356e+00-2.65984009e-37j -1.41421356e+00+0.00000000e+00j\n",
      "  -1.41421356e+00-2.65984009e-37j -1.41421356e+00+0.00000000e+00j]\n",
      " [ 1.36219415e+00+5.11510248e-17j  1.36219415e+00-2.75942711e-18j\n",
      "   1.36219415e+00+9.66154282e-17j  1.36219415e+00-2.77555756e-17j\n",
      "  -1.36219415e+00-3.33934269e-16j -1.36219415e+00-7.60220493e-18j\n",
      "  -1.36219415e+00-2.26989663e-17j -1.36219415e+00-7.10491236e-18j]\n",
      " [ 1.20996282e+00+3.46944695e-17j  1.20996282e+00+2.53269627e-16j\n",
      "   1.20996282e+00+7.76393810e-17j  1.20996282e+00+1.12844246e-17j\n",
      "  -1.20996282e+00-3.33066907e-16j -1.20996282e+00+1.66533454e-16j\n",
      "  -1.20996282e+00+4.30114420e-18j -1.20996282e+00-3.66981172e-17j]\n",
      " [ 9.68718686e-01+5.55111512e-17j  9.68718686e-01-4.72591546e-17j\n",
      "   9.68718686e-01-1.88429686e-17j  9.68718686e-01+1.25604163e-16j\n",
      "  -9.68718686e-01+2.95637975e-17j -9.68718686e-01-4.79108940e-16j\n",
      "  -9.68718686e-01-8.46997844e-18j -9.68718686e-01+1.30375311e-16j]\n",
      " [ 6.56209261e-01+1.21718113e-16j  6.56209261e-01-9.10956454e-17j\n",
      "   6.56209261e-01+1.93279842e-16j  6.56209261e-01-7.07767178e-16j\n",
      "  -6.56209261e-01+3.27862737e-16j -6.56209261e-01-1.47662361e-16j\n",
      "  -6.56209261e-01+1.87764802e-16j -6.56209261e-01-4.85722573e-16j]\n",
      " [ 2.95424782e-01-4.55405409e-17j  2.95424782e-01+7.00663899e-17j\n",
      "   2.95424782e-01-1.17060480e-15j  2.95424782e-01+3.03188700e-16j\n",
      "  -2.95424782e-01-2.81936935e-16j -2.95424782e-01+5.92725045e-16j\n",
      "  -2.95424782e-01-1.22888544e-16j -2.95424782e-01-6.19725912e-16j]\n",
      " [ 6.45239223e-09+6.45239191e-09j  6.45239218e-09+6.45239189e-09j\n",
      "   6.45239218e-09-6.45239189e-09j  1.17278415e-12+0.00000000e+00j\n",
      "  -1.17316668e-12+0.00000000e+00j -6.45239226e-09-6.45239189e-09j\n",
      "  -6.45239226e-09+6.45239189e-09j -6.45239231e-09-6.45239197e-09j]\n",
      " [ 3.80046032e-01-8.27349175e-17j  3.80046032e-01+8.27349175e-17j\n",
      "   3.80046032e-01+2.11947530e-16j  3.80046032e-01-9.67674622e-17j\n",
      "  -3.80046032e-01-1.26960074e-16j -3.80046032e-01+2.44201257e-17j\n",
      "  -3.80046032e-01+8.27349175e-17j -3.80046032e-01-8.27349175e-17j]\n",
      " [ 7.32444202e-01-5.81216082e-18j  7.32444202e-01-8.45972618e-17j\n",
      "   7.32444202e-01+1.91036435e-17j  7.32444202e-01+0.00000000e+00j\n",
      "  -7.32444202e-01+0.00000000e+00j -7.32444202e-01-1.91036435e-17j\n",
      "  -7.32444202e-01+5.81216082e-18j -7.32444202e-01+2.90861105e-17j]\n",
      " [ 1.03282295e+00+3.24174756e-16j  1.03282295e+00+5.89037245e-17j\n",
      "   1.03282295e+00+1.81951663e-17j  1.03282295e+00-3.04114827e-16j\n",
      "  -1.03282295e+00+5.74238905e-18j -1.03282295e+00-2.49800181e-16j\n",
      "  -1.03282295e+00-2.57038254e-17j -1.03282295e+00-1.81951663e-17j]\n",
      " [ 1.26312767e+00+9.77117427e-18j  1.26312767e+00+3.15712372e-18j\n",
      "   1.26312767e+00-8.58946052e-17j  1.26312767e+00-6.31005664e-17j\n",
      "  -1.26312767e+00+5.33819222e-17j -1.26312767e+00+2.49768953e-18j\n",
      "  -1.26312767e+00+3.57540780e-17j -1.26312767e+00+8.37004077e-17j]\n",
      " [ 1.41421356e+00-1.40961954e-17j  1.41421356e+00-1.49186219e-16j\n",
      "   1.41421356e+00+7.91874627e-19j  1.41421356e+00+1.15750147e-16j\n",
      "  -1.41421356e+00-1.09449397e-16j -1.41421356e+00+3.81193271e-17j\n",
      "  -1.41421356e+00-2.39828379e-17j -1.41421356e+00-2.49749359e-16j]\n",
      " [ 1.48779215e+00-3.20347649e-19j  1.48779215e+00-5.02203046e-17j\n",
      "   1.48779215e+00+7.39276829e-17j  1.48779215e+00+1.17729109e-17j\n",
      "  -1.48779215e+00+3.17503977e-17j -1.48779215e+00+3.51466819e-17j\n",
      "  -1.48779215e+00-5.84667162e-17j -1.48779215e+00+5.06541548e-17j]\n",
      " [ 1.49742905e+00+8.05693445e-18j  1.49742905e+00+1.35971658e-16j\n",
      "   1.49742905e+00+9.90772016e-21j  1.49742905e+00+7.97543036e-18j\n",
      "  -1.49742905e+00-2.03448881e-17j -1.49742905e+00-1.07782495e-18j\n",
      "  -1.49742905e+00+6.73350082e-18j -1.49742905e+00-1.20772998e-16j]\n",
      " [ 1.46782441e+00+1.10486978e-16j  1.46782441e+00+9.84935803e-17j\n",
      "   1.46782441e+00+2.45875610e-19j  1.46782441e+00-1.04034280e-17j\n",
      "  -1.46782441e+00+7.66039657e-17j -1.46782441e+00-1.25666400e-17j\n",
      "  -1.46782441e+00+9.93538214e-17j -1.46782441e+00-1.53858159e-16j]\n",
      " [ 1.43057611e+00+1.01301632e-19j  1.43057611e+00+2.93502415e-17j\n",
      "   1.43057611e+00+3.17507270e-17j  1.43057611e+00-3.82723367e-17j\n",
      "  -1.43057611e+00-6.85455060e-17j -1.43057611e+00+1.32455453e-16j\n",
      "  -1.43057611e+00+6.62984964e-17j -1.43057611e+00+1.43760862e-16j]\n",
      " [ 1.41421356e+00+2.50101385e-17j  1.41421356e+00-1.22761182e-16j\n",
      "   1.41421356e+00-3.51281504e-17j  1.41421356e+00+2.63221066e-19j\n",
      "  -1.41421356e+00+1.36795556e-16j -1.41421356e+00+7.24297873e-17j\n",
      "  -1.41421356e+00+6.61365770e-17j -1.41421356e+00-5.62286014e-17j]\n",
      " [ 1.36219415e+00+6.59194921e-17j  1.36219415e+00+2.32734404e-18j\n",
      "   1.36219415e+00+3.36004634e-17j  1.36219415e+00+4.06406403e-17j\n",
      "  -1.36219415e+00+2.29290241e-17j -1.36219415e+00+1.64365049e-16j\n",
      "  -1.36219415e+00-1.37791294e-18j -1.36219415e+00+1.12133610e-16j]\n",
      " [ 1.20996282e+00+4.64449187e-17j  1.20996282e+00+0.00000000e+00j\n",
      "   1.20996282e+00+7.64717986e-18j  1.20996282e+00-4.14578371e-17j\n",
      "  -1.20996282e+00+4.05482977e-17j -1.20996282e+00-2.65206796e-17j\n",
      "  -1.20996282e+00-9.28348110e-18j -1.20996282e+00+7.14489232e-17j]\n",
      " [ 9.68718686e-01+7.64446421e-18j  9.68718686e-01+1.04670803e-17j\n",
      "   9.68718686e-01+6.93889390e-18j  9.68718686e-01-9.13943204e-19j\n",
      "  -9.68718686e-01+1.98156804e-18j -9.68718686e-01+3.36455505e-18j\n",
      "  -9.68718686e-01+3.27574640e-17j -9.68718686e-01-5.39390581e-18j]\n",
      " [ 6.56209261e-01-5.16986074e-18j  6.56209261e-01+1.55792529e-18j\n",
      "   6.56209261e-01-5.17028911e-18j  6.56209261e-01+1.06273973e-18j\n",
      "  -6.56209261e-01+0.00000000e+00j -6.56209261e-01+1.43114687e-16j\n",
      "  -6.56209261e-01-2.51363990e-18j -6.56209261e-01-3.31499599e-18j]\n",
      " [ 2.95424782e-01+1.02174531e-18j  2.95424782e-01-3.15671553e-21j\n",
      "   2.95424782e-01-4.38432935e-18j  2.95424782e-01+4.38254847e-18j\n",
      "  -2.95424782e-01-2.78636782e-18j -2.95424782e-01+6.93889390e-18j\n",
      "  -2.95424782e-01-5.62008709e-20j -2.95424782e-01-5.88065347e-19j]\n",
      " [ 1.17316668e-12+0.00000000e+00j  1.17316668e-12+0.00000000e+00j\n",
      "   1.17278415e-12+0.00000000e+00j  1.17278415e-12+0.00000000e+00j\n",
      "  -1.17278415e-12+0.00000000e+00j -1.17278415e-12+0.00000000e+00j\n",
      "  -1.17316668e-12+0.00000000e+00j -1.17316668e-12+0.00000000e+00j]\n",
      " [ 3.80035639e-01+2.46446830e-16j  3.80035639e-01+3.64467887e-19j\n",
      "   3.80035639e-01+6.50521303e-19j  3.80035639e-01-1.41623909e-18j\n",
      "  -3.80035639e-01-3.81455645e-19j -3.80035639e-01+1.80518603e-18j\n",
      "  -3.80035639e-01-2.00576056e-19j -3.80035639e-01-2.44624228e-16j]\n",
      " [ 7.32113367e-01+1.24412199e-17j  7.32113367e-01+4.38366957e-18j\n",
      "   7.32113367e-01+8.04592252e-19j  7.32113367e-01-9.93457133e-18j\n",
      "  -7.32113367e-01+6.03660424e-19j -7.32113367e-01-5.50376986e-18j\n",
      "  -7.32113367e-01-3.25260652e-19j -7.32113367e-01-7.74526927e-18j]\n",
      " [ 1.03033204e+00+1.02346388e-16j  1.03033204e+00+4.33680869e-18j\n",
      "   1.03033204e+00-1.23122328e-19j  1.03033204e+00-5.39334031e-18j\n",
      "  -1.03033204e+00+2.75038427e-18j -1.03033204e+00-8.74476815e-18j\n",
      "  -1.03033204e+00-1.98520208e-18j -1.03033204e+00-1.36762998e-17j]\n",
      " [ 1.25275273e+00-1.25085235e-16j  1.25275273e+00+4.19467879e-18j\n",
      "   1.25275273e+00+3.46944695e-17j  1.25275273e+00+1.77528866e-17j\n",
      "  -1.25275273e+00+6.00376953e-18j -1.25275273e+00-3.04179913e-17j\n",
      "  -1.25275273e+00-5.79816276e-17j -1.25275273e+00-3.68865908e-17j]\n",
      " [ 1.38301273e+00-8.43509290e-17j  1.38301273e+00-6.79132193e-17j\n",
      "   1.38301273e+00+1.47588076e-18j  1.38301273e+00+1.23922848e-16j\n",
      "  -1.38301273e+00-2.93276688e-17j -1.38301273e+00+1.13289810e-16j\n",
      "  -1.38301273e+00+9.61578397e-17j -1.38301273e+00-7.58358068e-17j]\n",
      " [ 1.41152924e+00-4.13801986e-17j  1.41152924e+00+6.50521303e-17j\n",
      "   1.41152924e+00+1.33989442e-18j  1.41152924e+00-3.85264565e-17j\n",
      "  -1.41152924e+00-2.15268851e-17j -1.41152924e+00+8.37546178e-18j\n",
      "  -1.41152924e+00+3.17741945e-17j -1.41152924e+00+1.02732391e-17j]\n",
      " [ 1.33620441e+00+1.56409269e-17j  1.33620441e+00+4.46789234e-19j\n",
      "   1.33620441e+00-2.08586860e-16j  1.33620441e+00+1.73472348e-18j\n",
      "  -1.33620441e+00-1.66533454e-16j -1.33620441e+00-5.24431133e-18j\n",
      "  -1.33620441e+00+1.08662320e-17j -1.33620441e+00+7.19910243e-17j]\n",
      " [ 1.16257964e+00-2.42861287e-17j  1.16257964e+00-2.29362089e-18j\n",
      "   1.16257964e+00-1.18299781e-17j  1.16257964e+00-6.20686357e-17j\n",
      "  -1.16257964e+00-4.29191594e-17j -1.16257964e+00+1.79379555e-16j\n",
      "  -1.16257964e+00-2.69432263e-17j -1.16257964e+00+6.48922675e-17j]\n",
      " [ 9.03427880e-01+3.09786315e-18j  9.03427880e-01+2.67650698e-17j\n",
      "   9.03427880e-01-2.08166817e-17j  9.03427880e-01-1.07772594e-16j\n",
      "  -9.03427880e-01+8.82796133e-17j -9.03427880e-01-5.90981520e-17j\n",
      "  -9.03427880e-01-7.54604712e-17j -9.03427880e-01-1.86293038e-16j]\n",
      " [ 5.77814050e-01-1.10839785e-17j  5.77814050e-01-9.45424294e-17j\n",
      "   5.77814050e-01+1.43021861e-16j  5.77814050e-01-6.12485221e-17j\n",
      "  -5.77814050e-01+2.22044605e-16j -5.77814050e-01+4.06094265e-17j\n",
      "  -5.77814050e-01+1.31064448e-16j -5.77814050e-01-2.05913335e-17j]\n",
      " [ 2.09692432e-01+1.08564030e-16j  2.09692432e-01+5.87552828e-16j\n",
      "   2.09692432e-01+1.93388110e-16j  2.09692432e-01-1.01741319e-15j\n",
      "  -2.09692432e-01+9.75779822e-16j -2.09692432e-01-4.76530525e-16j\n",
      "  -2.09692432e-01-2.63616538e-16j -2.09692432e-01-3.87854509e-16j]]\n",
      "1.4974290465594513 -1.497429046559452\n"
     ]
    },
    {
     "data": {
      "image/png": "[encoded data removed]",
      "text/plain": [
       "<Figure size 432x288 with 1 Axes>"
      ]
     },
     "metadata": {},
     "output_type": "display_data"
    }
   ],
   "source": [
    "cp_strg = [0,0,1,0,0,0,0]\n",
    "Hlsw_num = Hlsw.subs([(J,cp_strg[0]), (J2,cp_strg[1]), (J3,cp_strg[2]), (K, cp_strg[3]), (Gamma, cp_strg[4]), (gamma, cp_strg[5]), (h, cp_strg[6]), (a, 1)])\n",
    "band_high_sym(Hlsw_num, cp_strg , 20)"
   ]
  },
  {
   "cell_type": "code",
   "execution_count": null,
   "metadata": {},
   "outputs": [],
   "source": []
  },
  {
   "cell_type": "code",
   "execution_count": null,
   "metadata": {},
   "outputs": [],
   "source": []
  }
 ],
 "metadata": {
  "kernelspec": {
   "display_name": "Python 3",
   "language": "python",
   "name": "python3"
  },
  "language_info": {
   "codemirror_mode": {
    "name": "ipython",
    "version": 3
   },
   "file_extension": ".py",
   "mimetype": "text/x-python",
   "name": "python",
   "nbconvert_exporter": "python",
   "pygments_lexer": "ipython3",
   "version": "3.9.1"
  }
 },
 "nbformat": 4,
 "nbformat_minor": 5
}
