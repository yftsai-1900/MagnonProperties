{
 "cells": [
  {
   "cell_type": "code",
   "execution_count": 1,
   "id": "initial_id",
   "metadata": {
    "ExecuteTime": {
     "end_time": "2024-06-05T09:35:21.047316Z",
     "start_time": "2024-06-05T09:35:19.053266Z"
    }
   },
   "outputs": [],
   "source": [
    "import numpy as np\n",
    "import sympy as sp\n",
    "import SpinModel_fm as smk\n",
    "import matplotlib.pyplot as plt"
   ]
  },
  {
   "cell_type": "code",
   "execution_count": 2,
   "id": "8c8c273c47cfeee6",
   "metadata": {
    "ExecuteTime": {
     "end_time": "2024-06-05T09:35:21.783079Z",
     "start_time": "2024-06-05T09:35:21.051205Z"
    }
   },
   "outputs": [],
   "source": [
    "cp_strg = [-1.5, 0, 0, 0, 0]\n",
    "Hlsw = smk.fm_spin_model(cp_strg)"
   ]
  },
  {
   "cell_type": "markdown",
   "id": "2ec005725d5621b5",
   "metadata": {},
   "source": [
    "# $H_{lsw}(k_x,k_y)$"
   ]
  },
  {
   "cell_type": "code",
   "execution_count": 3,
   "id": "530d270cbbf8c45b",
   "metadata": {
    "ExecuteTime": {
     "end_time": "2024-06-05T09:35:21.861663Z",
     "start_time": "2024-06-05T09:35:21.785265Z"
    }
   },
   "outputs": [
    {
     "data": {
      "text/latex": [
       "$\\displaystyle \\left[\\begin{matrix}2.25 & - 0.75 e^{i \\left(- \\frac{k_{1}}{2} + \\frac{\\sqrt{3} k_{2}}{6}\\right)} - 0.75 e^{i \\left(\\frac{k_{1}}{2} + \\frac{\\sqrt{3} k_{2}}{6}\\right)} - 0.75 e^{- \\frac{\\sqrt{3} i k_{2}}{3}} & 0 & 0\\\\- 0.75 e^{\\frac{\\sqrt{3} i k_{2}}{3}} - 0.75 e^{- i \\left(\\frac{k_{1}}{2} + \\frac{\\sqrt{3} k_{2}}{6}\\right)} - 0.75 e^{- i \\left(- \\frac{k_{1}}{2} + \\frac{\\sqrt{3} k_{2}}{6}\\right)} & 2.25 & 0 & 0\\\\0 & 0 & 2.25 & - 0.75 e^{i \\left(- \\frac{k_{1}}{2} + \\frac{\\sqrt{3} k_{2}}{6}\\right)} - 0.75 e^{i \\left(\\frac{k_{1}}{2} + \\frac{\\sqrt{3} k_{2}}{6}\\right)} - 0.75 e^{- \\frac{\\sqrt{3} i k_{2}}{3}}\\\\0 & 0 & - 0.75 e^{\\frac{\\sqrt{3} i k_{2}}{3}} - 0.75 e^{- i \\left(\\frac{k_{1}}{2} + \\frac{\\sqrt{3} k_{2}}{6}\\right)} - 0.75 e^{- i \\left(- \\frac{k_{1}}{2} + \\frac{\\sqrt{3} k_{2}}{6}\\right)} & 2.25\\end{matrix}\\right]$"
      ],
      "text/plain": [
       "Matrix([\n",
       "[                                                                                                2.25, -0.75*exp(I*(-k1/2 + sqrt(3)*k2/6)) - 0.75*exp(I*(k1/2 + sqrt(3)*k2/6)) - 0.75*exp(-sqrt(3)*I*k2/3),                                                                                                    0,                                                                                                   0],\n",
       "[-0.75*exp(sqrt(3)*I*k2/3) - 0.75*exp(-I*(k1/2 + sqrt(3)*k2/6)) - 0.75*exp(-I*(-k1/2 + sqrt(3)*k2/6)),                                                                                                2.25,                                                                                                    0,                                                                                                   0],\n",
       "[                                                                                                   0,                                                                                                   0,                                                                                                 2.25, -0.75*exp(I*(-k1/2 + sqrt(3)*k2/6)) - 0.75*exp(I*(k1/2 + sqrt(3)*k2/6)) - 0.75*exp(-sqrt(3)*I*k2/3)],\n",
       "[                                                                                                   0,                                                                                                   0, -0.75*exp(sqrt(3)*I*k2/3) - 0.75*exp(-I*(k1/2 + sqrt(3)*k2/6)) - 0.75*exp(-I*(-k1/2 + sqrt(3)*k2/6)),                                                                                                2.25]])"
      ]
     },
     "execution_count": 3,
     "metadata": {},
     "output_type": "execute_result"
    }
   ],
   "source": [
    "Hlsw"
   ]
  },
  {
   "cell_type": "markdown",
   "id": "c21d2baaf4737c42",
   "metadata": {},
   "source": [
    "# Is the $E_{min}$ bigger or smaller than $0.22eV$?"
   ]
  },
  {
   "cell_type": "code",
   "execution_count": 4,
   "id": "699219ce8732f83d",
   "metadata": {
    "ExecuteTime": {
     "end_time": "2024-06-03T16:55:05.948138Z",
     "start_time": "2024-06-03T16:55:05.903763Z"
    }
   },
   "outputs": [],
   "source": [
    "val, vec = smk.bdg(Hlsw, 0, 0)"
   ]
  },
  {
   "cell_type": "code",
   "execution_count": 5,
   "id": "106aa0bfb5b682db",
   "metadata": {
    "ExecuteTime": {
     "end_time": "2024-06-03T16:55:06.958516Z",
     "start_time": "2024-06-03T16:55:06.952275Z"
    }
   },
   "outputs": [
    {
     "data": {
      "text/plain": [
       "array([ 4.50000000e+00,  0.00000000e+00, -9.86076132e-32, -4.50000000e+00])"
      ]
     },
     "execution_count": 5,
     "metadata": {},
     "output_type": "execute_result"
    }
   ],
   "source": [
    "val"
   ]
  },
  {
   "cell_type": "markdown",
   "id": "cafb934ea2a43bae",
   "metadata": {},
   "source": [
    "# Paraunitary condition"
   ]
  },
  {
   "cell_type": "code",
   "execution_count": 6,
   "id": "c23c17d042bfd03e",
   "metadata": {
    "ExecuteTime": {
     "end_time": "2024-06-03T16:54:02.194016Z",
     "start_time": "2024-06-03T16:54:02.188217Z"
    }
   },
   "outputs": [],
   "source": [
    "vec_dag = np.transpose(np.conjugate(vec))"
   ]
  },
  {
   "cell_type": "code",
   "execution_count": 7,
   "id": "e09730f50b1af7ab",
   "metadata": {
    "ExecuteTime": {
     "end_time": "2024-06-03T16:54:06.144335Z",
     "start_time": "2024-06-03T16:54:06.131056Z"
    }
   },
   "outputs": [
    {
     "data": {
      "text/plain": [
       "array([[ 1,  0,  0,  0],\n",
       "       [ 0,  1,  0,  0],\n",
       "       [ 0,  0, -1,  0],\n",
       "       [ 0,  0,  0, -1]])"
      ]
     },
     "execution_count": 7,
     "metadata": {},
     "output_type": "execute_result"
    }
   ],
   "source": [
    "sigma_3 = np.diag([1,1,-1,-1])\n",
    "sigma_3"
   ]
  },
  {
   "cell_type": "code",
   "execution_count": 8,
   "id": "6d16e035bfe8db94",
   "metadata": {
    "ExecuteTime": {
     "end_time": "2024-06-03T16:54:07.053943Z",
     "start_time": "2024-06-03T16:54:07.040410Z"
    }
   },
   "outputs": [
    {
     "data": {
      "text/plain": [
       "array([[ 1.00000000e+00+0.j,  2.23711432e-17+0.j,  0.00000000e+00+0.j,\n",
       "         0.00000000e+00+0.j],\n",
       "       [ 2.23711432e-17+0.j,  1.00000000e+00+0.j,  0.00000000e+00+0.j,\n",
       "         0.00000000e+00+0.j],\n",
       "       [ 0.00000000e+00+0.j,  0.00000000e+00+0.j, -1.00000000e+00+0.j,\n",
       "        -2.90402692e-16+0.j],\n",
       "       [ 0.00000000e+00+0.j,  0.00000000e+00+0.j, -2.90402692e-16+0.j,\n",
       "        -1.00000000e+00+0.j]])"
      ]
     },
     "execution_count": 8,
     "metadata": {},
     "output_type": "execute_result"
    }
   ],
   "source": [
    "np.matmul(vec_dag,np.matmul(sigma_3,vec))"
   ]
  },
  {
   "cell_type": "markdown",
   "id": "d7c6db3f2aa71a77",
   "metadata": {},
   "source": [
    "# The band structure along high symmetry line"
   ]
  },
  {
   "cell_type": "code",
   "execution_count": 9,
   "id": "78383d6e48356485",
   "metadata": {
    "ExecuteTime": {
     "end_time": "2024-06-03T16:54:16.194394Z",
     "start_time": "2024-06-03T16:54:12.846652Z"
    }
   },
   "outputs": [
    {
     "data": {
      "image/png": "[encoded data removed]",
      "text/plain": [
       "<Figure size 432x288 with 1 Axes>"
      ]
     },
     "metadata": {},
     "output_type": "display_data"
    }
   ],
   "source": [
    "smk.band_high_sym(Hlsw, cp_strg, 20)"
   ]
  },
  {
   "cell_type": "code",
   "execution_count": 5,
   "id": "9f6b72cea72e2184",
   "metadata": {
    "ExecuteTime": {
     "end_time": "2024-06-04T07:15:51.932626Z",
     "start_time": "2024-06-04T07:15:51.797937Z"
    }
   },
   "outputs": [],
   "source": [
    "smk.berry_curv(Hlsw, 0, 1, 3, 3)"
   ]
  },
  {
   "cell_type": "markdown",
   "id": "f421cfea36f4ccad",
   "metadata": {},
   "source": [
    "# Berry curvature"
   ]
  },
  {
   "cell_type": "code",
   "execution_count": 4,
   "id": "160378b52d17c1a5",
   "metadata": {
    "ExecuteTime": {
     "end_time": "2024-06-04T07:15:26.093447Z",
     "start_time": "2024-06-04T07:15:17.182684Z"
    }
   },
   "outputs": [],
   "source": [
    "smk.berry_curv_graph(Hlsw,0,0,0,10, 10)"
   ]
  },
  {
   "cell_type": "markdown",
   "id": "91f0f2e01f082b75",
   "metadata": {},
   "source": [
    "# Chern number"
   ]
  },
  {
   "cell_type": "code",
   "execution_count": 133,
   "id": "228c1073fd4a7fc3",
   "metadata": {
    "ExecuteTime": {
     "end_time": "2024-06-03T12:05:09.083373Z",
     "start_time": "2024-06-03T12:03:07.032780Z"
    }
   },
   "outputs": [],
   "source": [
    "smk.chern(Hlsw, 1,0, 15)"
   ]
  },
  {
   "cell_type": "markdown",
   "id": "bc349d4e0d54bf24",
   "metadata": {},
   "source": [
    "# Thermal conductivity (not normalized)"
   ]
  },
  {
   "cell_type": "code",
   "execution_count": 19,
   "id": "886d559f6ab28bc2",
   "metadata": {
    "ExecuteTime": {
     "end_time": "2024-06-04T08:30:39.063941Z",
     "start_time": "2024-06-04T08:30:04.229599Z"
    }
   },
   "outputs": [],
   "source": [
    "kappa, N = smk.unnormalized_heat_conductivity(Hlsw,1,0,1,10)"
   ]
  },
  {
   "cell_type": "code",
   "execution_count": 20,
   "id": "2fcbad83da39412b",
   "metadata": {
    "ExecuteTime": {
     "end_time": "2024-06-04T08:30:39.079083Z",
     "start_time": "2024-06-04T08:30:39.066169Z"
    }
   },
   "outputs": [],
   "source": [
    "kappa"
   ]
  },
  {
   "cell_type": "code",
   "execution_count": 12,
   "id": "c53a518d3586adf2",
   "metadata": {
    "ExecuteTime": {
     "end_time": "2024-06-04T08:25:48.962881Z",
     "start_time": "2024-06-04T08:25:48.946423Z"
    }
   },
   "outputs": [],
   "source": [
    "np.sum(kappa)"
   ]
  },
  {
   "cell_type": "markdown",
   "id": "314fab3714b1d183",
   "metadata": {},
   "source": [
    "# Size effect for thermal conductivity?"
   ]
  },
  {
   "cell_type": "code",
   "execution_count": 5,
   "id": "5426163803b282d3",
   "metadata": {
    "ExecuteTime": {
     "end_time": "2024-06-03T16:30:39.414901Z",
     "start_time": "2024-06-03T16:24:20.758895Z"
    }
   },
   "outputs": [],
   "source": [
    "# rsln = 2-12\n",
    "\n",
    "rsln = 2\n",
    "x = np.array([])\n",
    "y = np.array([])\n",
    "while rsln < 13: \n",
    "    kappa, N = smk.unnormalized_heat_conductivity(Hlsw,1,0,1, rsln)\n",
    "    x = np.append(x, N)\n",
    "    y = np.append(y,np.sum(kappa))\n",
    "    rsln += 1"
   ]
  },
  {
   "cell_type": "code",
   "execution_count": 40,
   "id": "33d9e667e7684f70",
   "metadata": {
    "ExecuteTime": {
     "end_time": "2024-06-03T17:42:15.721321Z",
     "start_time": "2024-06-03T17:42:15.705508Z"
    }
   },
   "outputs": [],
   "source": [
    "from matplotlib.pyplot import subplots as spp"
   ]
  },
  {
   "cell_type": "code",
   "execution_count": 21,
   "id": "ced8dba151495eb6",
   "metadata": {
    "ExecuteTime": {
     "end_time": "2024-06-03T16:47:03.286155Z",
     "start_time": "2024-06-03T16:47:03.019627Z"
    }
   },
   "outputs": [],
   "source": [
    "fig, ax = spp(facecolor='0.95')\n",
    "ax.set_title(\"When size grows, will $\\kappa^{yx}$ become stable?\")\n",
    "ax.set_xlabel(\"number of cells\")\n",
    "ax.set_ylabel(\"$\\kappa^{yx}$ $(5k_B^2/ \\hbar)$\")\n",
    "\n",
    "\n",
    "ax.plot(x, y, color='k', label='$T=1K$')\n",
    "\n",
    "ax.legend()\n",
    "fig.savefig('kappa_vs_size.png')\n"
   ]
  },
  {
   "cell_type": "code",
   "execution_count": 9,
   "id": "b47ad38c2eb7bda8",
   "metadata": {
    "ExecuteTime": {
     "end_time": "2024-06-03T16:32:06.363677Z",
     "start_time": "2024-06-03T16:32:06.350155Z"
    }
   },
   "outputs": [],
   "source": [
    "x,y"
   ]
  },
  {
   "cell_type": "markdown",
   "id": "22ca6f6facb03f60",
   "metadata": {},
   "source": [
    "# With different magnetic field?"
   ]
  },
  {
   "cell_type": "code",
   "execution_count": 38,
   "id": "a90114579b0814da",
   "metadata": {
    "ExecuteTime": {
     "end_time": "2024-06-03T17:22:54.331040Z",
     "start_time": "2024-06-03T17:05:24.015918Z"
    }
   },
   "outputs": [],
   "source": [
    "dB = 0.3\n",
    "rsln = (7-1.34)/dB\n",
    "\n",
    "i = 0\n",
    "x = np.array([])\n",
    "y = np.array([])\n",
    "\n",
    "while i <rsln:\n",
    "    T = 0+dT*i\n",
    "    cp_strg = [-3, -2.5, 2.5, 0.1, T]\n",
    "    Hlsw = smk.fm_spin_model(cp_strg)\n",
    "    kappa, N = smk.unnormalized_heat_conductivity(Hlsw,1,0,1, 10)\n",
    "    x = np.append(x, B)\n",
    "    y = np.append(y,np.sum(kappa))\n",
    "    i += 1"
   ]
  },
  {
   "cell_type": "code",
   "execution_count": 41,
   "id": "e9a206d405d1ffb1",
   "metadata": {
    "ExecuteTime": {
     "end_time": "2024-06-03T17:42:19.332375Z",
     "start_time": "2024-06-03T17:42:19.064414Z"
    }
   },
   "outputs": [],
   "source": [
    "fig, ax = spp(facecolor='0.95')\n",
    "ax.set_title(\"$\\kappa^{yx}$ change w.r.t. external field B\")\n",
    "ax.set_xlabel(\"h (meV)\")\n",
    "ax.set_ylabel(\"$\\kappa^{yx}$ $(5k_B^2/ \\hbar)$\")\n",
    "\n",
    "\n",
    "ax.plot(x, y, color='k', label='$T=1K$')\n",
    "\n",
    "ax.legend()\n",
    "fig.savefig('kappa_vs_size.png')"
   ]
  },
  {
   "cell_type": "code",
   "execution_count": 3,
   "id": "fc7ef4991dccb607",
   "metadata": {
    "ExecuteTime": {
     "end_time": "2024-06-04T16:32:13.749099Z",
     "start_time": "2024-06-04T16:32:13.727106Z"
    }
   },
   "outputs": [],
   "source": [
    "theta = 0\n",
    "phi = 0\n",
    "Theta = np.pi-theta\n",
    "Phi = 1.5*np.pi-phi\n",
    "\n",
    "PlusZ = [np.cos(Theta/2),np.sin(Theta/2)*np.exp(1j*Phi)]\n",
    "MinusZ = [-np.sin(Theta / 2), np.cos(Theta / 2) * np.exp(1j * Phi)]\n"
   ]
  },
  {
   "cell_type": "code",
   "execution_count": 12,
   "id": "e6715e2bde6f23dc",
   "metadata": {
    "ExecuteTime": {
     "end_time": "2024-06-04T16:54:04.341829Z",
     "start_time": "2024-06-04T16:54:04.241709Z"
    }
   },
   "outputs": [],
   "source": [
    "uni = sp.Matrix([[np.cos(Theta/2),-np.sin(Theta / 2)],[np.sin(Theta/2)*np.exp(1j*Phi),np.cos(Theta / 2) * np.exp(1j * Phi)]])\n"
   ]
  },
  {
   "cell_type": "code",
   "execution_count": 17,
   "id": "ce65888b93c08407",
   "metadata": {
    "ExecuteTime": {
     "end_time": "2024-06-04T16:56:10.296212Z",
     "start_time": "2024-06-04T16:56:10.280958Z"
    }
   },
   "outputs": [],
   "source": [
    "uni"
   ]
  },
  {
   "cell_type": "code",
   "execution_count": 18,
   "id": "1bd2ef643414e569",
   "metadata": {
    "ExecuteTime": {
     "end_time": "2024-06-04T16:56:11.294667Z",
     "start_time": "2024-06-04T16:56:11.278553Z"
    }
   },
   "outputs": [],
   "source": [
    "uni_dag = sp.transpose(sp.conjugate(uni))\n",
    "uni_dag"
   ]
  },
  {
   "cell_type": "code",
   "execution_count": 20,
   "id": "fde69e34b4ae5a98",
   "metadata": {
    "ExecuteTime": {
     "end_time": "2024-06-04T17:01:35.448608Z",
     "start_time": "2024-06-04T17:01:34.553108Z"
    }
   },
   "outputs": [],
   "source": [
    "sp.simplify(uni_dag*uni)"
   ]
  },
  {
   "cell_type": "code",
   "execution_count": 21,
   "id": "87527b55c2b3b890",
   "metadata": {
    "ExecuteTime": {
     "end_time": "2024-06-04T17:04:21.532508Z",
     "start_time": "2024-06-04T17:04:21.521542Z"
    }
   },
   "outputs": [],
   "source": [
    "from sympy.physics.matrices import msigma"
   ]
  },
  {
   "cell_type": "code",
   "execution_count": null,
   "id": "4101b41da1fe5156",
   "metadata": {},
   "outputs": [],
   "source": [
    "pauli = sy.Matrix([[],[],[],[]])"
   ]
  },
  {
   "cell_type": "code",
   "execution_count": 22,
   "id": "d3a1d88421408399",
   "metadata": {
    "ExecuteTime": {
     "end_time": "2024-06-04T17:09:35.594365Z",
     "start_time": "2024-06-04T17:09:35.531324Z"
    }
   },
   "outputs": [],
   "source": [
    "pxd = uni_dag*msigma(1)*uni\n",
    "pyd = uni_dag*msigma(2)*uni\n",
    "pzd = uni_dag*msigma(3)*uni"
   ]
  },
  {
   "cell_type": "code",
   "execution_count": 25,
   "id": "85e6a795a28a86ff",
   "metadata": {
    "ExecuteTime": {
     "end_time": "2024-06-04T17:12:01.041321Z",
     "start_time": "2024-06-04T17:12:00.378420Z"
    }
   },
   "outputs": [],
   "source": [
    "sp.simplify(pxd*pyd-pyd*pxd-2*sp.I*pzd)"
   ]
  },
  {
   "cell_type": "code",
   "execution_count": 30,
   "id": "894cf9753e60015",
   "metadata": {
    "ExecuteTime": {
     "end_time": "2024-06-04T17:25:34.937004Z",
     "start_time": "2024-06-04T17:25:34.913054Z"
    }
   },
   "outputs": [],
   "source": [
    "(pxd[0,0]+pxd[1,1])/2\n",
    "(pxd[0,0]-pxd[1,1])/2\n",
    "(pxd[0,1]+pxd[1,0])/2\n",
    "(pxd[0,1]-pxd[1,0])/(2*sp.I)"
   ]
  },
  {
   "cell_type": "code",
   "execution_count": 36,
   "id": "9801a6c86ffabbb0",
   "metadata": {
    "ExecuteTime": {
     "end_time": "2024-06-04T17:27:44.128978Z",
     "start_time": "2024-06-04T17:27:44.021845Z"
    }
   },
   "outputs": [],
   "source": [
    "(pyd[0,0]+pyd[1,1])/2\n",
    "(pyd[0,0]-pyd[1,1])/2\n",
    "sp.simplify((pyd[0,1]+pyd[1,0])/2)\n",
    "sp.simplify((pyd[0,1]-pyd[1,0])/(2*sp.I))"
   ]
  },
  {
   "cell_type": "code",
   "execution_count": 39,
   "id": "a3e6feeb09f85240",
   "metadata": {
    "ExecuteTime": {
     "end_time": "2024-06-04T17:34:14.070035Z",
     "start_time": "2024-06-04T17:34:13.807898Z"
    }
   },
   "outputs": [],
   "source": [
    "W1 =sp.simplify(sp.Matrix([(pxd[0, 0] - pxd[1, 1]) / 2, (pxd[0, 1] + pxd[1, 0]) / 2, (pxd[0, 1] - pxd[1, 0]) / (2 * sp.I)]))\n",
    "W2 =sp.simplify(sp.Matrix([(pyd[0, 0] - pyd[1, 1]) / 2, (pyd[0, 1] + pyd[1, 0]) / 2, (pyd[0, 1] - pyd[1, 0]) / (2 * sp.I)]))\n",
    "W3 =sp.simplify(sp.Matrix([(pzd[0, 0] - pzd[1, 1]) / 2, (pzd[0, 1] + pzd[1, 0]) / 2, (pzd[0, 1] - pzd[1, 0]) / (2 * sp.I)]))\n"
   ]
  },
  {
   "cell_type": "code",
   "execution_count": 42,
   "id": "400a606ba59c8329",
   "metadata": {
    "ExecuteTime": {
     "end_time": "2024-06-04T17:35:12.180081Z",
     "start_time": "2024-06-04T17:35:12.168140Z"
    }
   },
   "outputs": [],
   "source": [
    "W1"
   ]
  },
  {
   "cell_type": "code",
   "execution_count": 41,
   "id": "9c420c6f4fe31dbc",
   "metadata": {
    "ExecuteTime": {
     "end_time": "2024-06-04T17:34:52.756099Z",
     "start_time": "2024-06-04T17:34:52.737112Z"
    }
   },
   "outputs": [],
   "source": [
    "W1*sp.transpose(W1)"
   ]
  },
  {
   "cell_type": "code",
   "execution_count": 43,
   "id": "9ec317a32ff075e5",
   "metadata": {
    "ExecuteTime": {
     "end_time": "2024-06-04T17:40:07.577542Z",
     "start_time": "2024-06-04T17:40:07.494810Z"
    }
   },
   "outputs": [],
   "source": [
    "Hberg_dd = W1 * sp.Transpose(W1) + W2 * sp.Transpose(W2) + W3 * sp.Transpose(W3)\n",
    "Hberg_dd"
   ]
  },
  {
   "cell_type": "code",
   "execution_count": 46,
   "id": "e39d683cf9c37b2d",
   "metadata": {
    "ExecuteTime": {
     "end_time": "2024-06-05T04:24:14.657790Z",
     "start_time": "2024-06-05T04:24:14.643790Z"
    }
   },
   "outputs": [],
   "source": [
    "i=0\n",
    "while i<2:\n",
    "    j=0\n",
    "    while j<2:\n",
    "        print([0+i*2,0+j*2])\n",
    "        j+=1\n",
    "    i+=1"
   ]
  },
  {
   "cell_type": "code",
   "execution_count": 62,
   "id": "a65ea8c9a91e0d",
   "metadata": {
    "ExecuteTime": {
     "end_time": "2024-06-05T06:40:48.282964Z",
     "start_time": "2024-06-05T06:40:48.265941Z"
    }
   },
   "outputs": [],
   "source": [
    "l=0\n",
    "while l<2:\n",
    "    ll=0\n",
    "    while ll<2:\n",
    "        i=0\n",
    "        while i<2:\n",
    "            j=0\n",
    "            while j<2:\n",
    "                print([a[f'{l}']+i*4,a[f'{ll}']+j*4])\n",
    "                j+=1\n",
    "            i+=1\n",
    "        ll+=1\n",
    "    l+=1"
   ]
  },
  {
   "cell_type": "code",
   "execution_count": 67,
   "id": "f0ac2b26c6860745",
   "metadata": {
    "ExecuteTime": {
     "end_time": "2024-06-05T06:41:08.200251Z",
     "start_time": "2024-06-05T06:41:08.188940Z"
    }
   },
   "outputs": [],
   "source": [
    "l=0\n",
    "while l<2:\n",
    "    ll=0\n",
    "    while ll<2:\n",
    "        i=0\n",
    "        while i<2:\n",
    "            j=0\n",
    "            while j<2:\n",
    "                print([a[f'{l}']+i*4,a[f'{ll}']+j*4])\n",
    "                j+=1\n",
    "            i+=1\n",
    "        ll+=1\n",
    "    l+=1"
   ]
  }
 ],
 "metadata": {
  "kernelspec": {
   "display_name": "Python 3",
   "language": "python",
   "name": "python3"
  },
  "language_info": {
   "codemirror_mode": {
    "name": "ipython",
    "version": 3
   },
   "file_extension": ".py",
   "mimetype": "text/x-python",
   "name": "python",
   "nbconvert_exporter": "python",
   "pygments_lexer": "ipython3",
   "version": "3.9.1"
  }
 },
 "nbformat": 4,
 "nbformat_minor": 5
}
