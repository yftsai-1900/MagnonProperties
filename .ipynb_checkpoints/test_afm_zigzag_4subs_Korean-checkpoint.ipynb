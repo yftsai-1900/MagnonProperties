{
 "cells": [
  {
   "cell_type": "code",
   "execution_count": 1,
   "id": "ba44c981e6cd5faa",
   "metadata": {
    "ExecuteTime": {
     "end_time": "2024-06-06T03:54:34.883952Z",
     "start_time": "2024-06-06T03:54:31.947979Z"
    }
   },
   "outputs": [],
   "source": [
    "import sympy as sp\n",
    "import numpy as np\n",
    "from matplotlib.pyplot import subplots as spp\n",
    "from numpy import linalg as LA\n",
    "from sympy.physics.matrices import msigma"
   ]
  },
  {
   "cell_type": "code",
   "execution_count": 2,
   "id": "a5db653b10afe1a1",
   "metadata": {
    "ExecuteTime": {
     "end_time": "2024-06-06T03:54:37.151796Z",
     "start_time": "2024-06-06T03:54:37.136202Z"
    }
   },
   "outputs": [],
   "source": [
    "def distri224(H, Hsub, a, b):\n",
    "    lat = {'0': a, '1': b}\n",
    "    l=0\n",
    "    while l<2:\n",
    "        ll=0\n",
    "        while ll<2:\n",
    "            i=0\n",
    "            while i<2:\n",
    "                j=0\n",
    "                while j<2:\n",
    "                    H[lat[f'{l}']+i*4,lat[f'{ll}']+j*4] = H[lat[f'{l}']+i*4,lat[f'{ll}']+j*4] + Hsub[0+i*2+l,0+j*2+ll]\n",
    "                    j+=1\n",
    "                i+=1\n",
    "            ll+=1\n",
    "        l+=1\n"
   ]
  },
  {
   "cell_type": "code",
   "execution_count": 3,
   "metadata": {},
   "outputs": [
    {
     "data": {
      "text/latex": [
       "$\\displaystyle \\left[\\begin{matrix}22 & 21 & 0 & 0 & 24 & 23 & 0 & 0\\\\12 & 11 & 0 & 0 & 14 & 13 & 0 & 0\\\\0 & 0 & 0 & 0 & 0 & 0 & 0 & 0\\\\0 & 0 & 0 & 0 & 0 & 0 & 0 & 0\\\\42 & 41 & 0 & 0 & 44 & 43 & 0 & 0\\\\32 & 31 & 0 & 0 & 34 & 33 & 0 & 0\\\\0 & 0 & 0 & 0 & 0 & 0 & 0 & 0\\\\0 & 0 & 0 & 0 & 0 & 0 & 0 & 0\\end{matrix}\\right]$"
      ],
      "text/plain": [
       "Matrix([\n",
       "[22, 21, 0, 0, 24, 23, 0, 0],\n",
       "[12, 11, 0, 0, 14, 13, 0, 0],\n",
       "[ 0,  0, 0, 0,  0,  0, 0, 0],\n",
       "[ 0,  0, 0, 0,  0,  0, 0, 0],\n",
       "[42, 41, 0, 0, 44, 43, 0, 0],\n",
       "[32, 31, 0, 0, 34, 33, 0, 0],\n",
       "[ 0,  0, 0, 0,  0,  0, 0, 0],\n",
       "[ 0,  0, 0, 0,  0,  0, 0, 0]])"
      ]
     },
     "execution_count": 3,
     "metadata": {},
     "output_type": "execute_result"
    }
   ],
   "source": [
    "H = sp.zeros(8, 8)\n",
    "Hsub = sp.Matrix([[11,12,13,14],[21,22,23,24],[31,32,33,34],[41,42,43,44]])\n",
    "distri224(H, Hsub, 1,0)\n",
    "H"
   ]
  },
  {
   "cell_type": "code",
   "execution_count": 4,
   "metadata": {},
   "outputs": [
    {
     "data": {
      "text/latex": [
       "$\\displaystyle \\left[\\begin{matrix}0 & 0 & 0 & 0 & 0 & 0 & 0 & 0\\\\0 & 0 & 0 & 0 & 0 & 0 & 0 & 0\\\\0 & 0 & 22 & 21 & 0 & 0 & 24 & 23\\\\0 & 0 & 12 & 11 & 0 & 0 & 14 & 13\\\\0 & 0 & 0 & 0 & 0 & 0 & 0 & 0\\\\0 & 0 & 0 & 0 & 0 & 0 & 0 & 0\\\\0 & 0 & 42 & 41 & 0 & 0 & 44 & 43\\\\0 & 0 & 32 & 31 & 0 & 0 & 34 & 33\\end{matrix}\\right]$"
      ],
      "text/plain": [
       "Matrix([\n",
       "[0, 0,  0,  0, 0, 0,  0,  0],\n",
       "[0, 0,  0,  0, 0, 0,  0,  0],\n",
       "[0, 0, 22, 21, 0, 0, 24, 23],\n",
       "[0, 0, 12, 11, 0, 0, 14, 13],\n",
       "[0, 0,  0,  0, 0, 0,  0,  0],\n",
       "[0, 0,  0,  0, 0, 0,  0,  0],\n",
       "[0, 0, 42, 41, 0, 0, 44, 43],\n",
       "[0, 0, 32, 31, 0, 0, 34, 33]])"
      ]
     },
     "execution_count": 4,
     "metadata": {},
     "output_type": "execute_result"
    }
   ],
   "source": [
    "H = sp.zeros(8, 8)\n",
    "Hsub = sp.Matrix([[11,12,13,14],[21,22,23,24],[31,32,33,34],[41,42,43,44]])\n",
    "distri224(H, Hsub, 3,2)\n",
    "H"
   ]
  },
  {
   "cell_type": "code",
   "execution_count": 5,
   "metadata": {
    "scrolled": true
   },
   "outputs": [
    {
     "data": {
      "text/latex": [
       "$\\displaystyle \\left[\\begin{matrix}0 & 0 & 0 & 0 & 0 & 0 & 0 & 0\\\\0 & 11 & 12 & 0 & 0 & 13 & 14 & 0\\\\0 & 21 & 22 & 0 & 0 & 23 & 24 & 0\\\\0 & 0 & 0 & 0 & 0 & 0 & 0 & 0\\\\0 & 0 & 0 & 0 & 0 & 0 & 0 & 0\\\\0 & 31 & 32 & 0 & 0 & 33 & 34 & 0\\\\0 & 41 & 42 & 0 & 0 & 43 & 44 & 0\\\\0 & 0 & 0 & 0 & 0 & 0 & 0 & 0\\end{matrix}\\right]$"
      ],
      "text/plain": [
       "Matrix([\n",
       "[0,  0,  0, 0, 0,  0,  0, 0],\n",
       "[0, 11, 12, 0, 0, 13, 14, 0],\n",
       "[0, 21, 22, 0, 0, 23, 24, 0],\n",
       "[0,  0,  0, 0, 0,  0,  0, 0],\n",
       "[0,  0,  0, 0, 0,  0,  0, 0],\n",
       "[0, 31, 32, 0, 0, 33, 34, 0],\n",
       "[0, 41, 42, 0, 0, 43, 44, 0],\n",
       "[0,  0,  0, 0, 0,  0,  0, 0]])"
      ]
     },
     "execution_count": 5,
     "metadata": {},
     "output_type": "execute_result"
    }
   ],
   "source": [
    "H = sp.zeros(8, 8)\n",
    "Hsub = sp.Matrix([[11,12,13,14],[21,22,23,24],[31,32,33,34],[41,42,43,44]])\n",
    "distri224(H, Hsub, 1,2)\n",
    "H"
   ]
  },
  {
   "cell_type": "code",
   "execution_count": 6,
   "metadata": {},
   "outputs": [
    {
     "data": {
      "text/latex": [
       "$\\displaystyle \\left[\\begin{matrix}22 & 0 & 0 & 21 & 24 & 0 & 0 & 23\\\\0 & 0 & 0 & 0 & 0 & 0 & 0 & 0\\\\0 & 0 & 0 & 0 & 0 & 0 & 0 & 0\\\\12 & 0 & 0 & 11 & 14 & 0 & 0 & 13\\\\42 & 0 & 0 & 41 & 44 & 0 & 0 & 43\\\\0 & 0 & 0 & 0 & 0 & 0 & 0 & 0\\\\0 & 0 & 0 & 0 & 0 & 0 & 0 & 0\\\\32 & 0 & 0 & 31 & 34 & 0 & 0 & 33\\end{matrix}\\right]$"
      ],
      "text/plain": [
       "Matrix([\n",
       "[22, 0, 0, 21, 24, 0, 0, 23],\n",
       "[ 0, 0, 0,  0,  0, 0, 0,  0],\n",
       "[ 0, 0, 0,  0,  0, 0, 0,  0],\n",
       "[12, 0, 0, 11, 14, 0, 0, 13],\n",
       "[42, 0, 0, 41, 44, 0, 0, 43],\n",
       "[ 0, 0, 0,  0,  0, 0, 0,  0],\n",
       "[ 0, 0, 0,  0,  0, 0, 0,  0],\n",
       "[32, 0, 0, 31, 34, 0, 0, 33]])"
      ]
     },
     "execution_count": 6,
     "metadata": {},
     "output_type": "execute_result"
    }
   ],
   "source": [
    "H = sp.zeros(8, 8)\n",
    "Hsub = sp.Matrix([[11,12,13,14],[21,22,23,24],[31,32,33,34],[41,42,43,44]])\n",
    "distri224(H, Hsub, 3,0)\n",
    "H"
   ]
  },
  {
   "cell_type": "code",
   "execution_count": 7,
   "metadata": {
    "scrolled": true
   },
   "outputs": [],
   "source": [
    "H = sp.zeros(8, 8)\n",
    "\n",
    "M11 = sp.Symbol(\"M11\", real=True)\n",
    "M12 = sp.Symbol(\"M12\", real=True)\n",
    "M13 = sp.Symbol(\"M13\", real=True)\n",
    "M14 = sp.Symbol(\"M14\", real=True)\n",
    "\n",
    "M21 = sp.Symbol(\"M21\", real=True)\n",
    "M22 = sp.Symbol(\"M22\", real=True)\n",
    "M23 = sp.Symbol(\"M23\", real=True)\n",
    "M24 = sp.Symbol(\"M24\", real=True)\n",
    "\n",
    "M31 = sp.Symbol(\"M31\", real=True)\n",
    "M32 = sp.Symbol(\"M32\", real=True)\n",
    "M33 = sp.Symbol(\"M33\", real=True)\n",
    "M34 = sp.Symbol(\"M34\", real=True)\n",
    "\n",
    "M41 = sp.Symbol(\"M41\", real=True)\n",
    "M42 = sp.Symbol(\"M42\", real=True)\n",
    "M43 = sp.Symbol(\"M43\", real=True)\n",
    "M44 = sp.Symbol(\"M44\", real=True)"
   ]
  },
  {
   "cell_type": "code",
   "execution_count": 8,
   "metadata": {},
   "outputs": [
    {
     "data": {
      "text/latex": [
       "$\\displaystyle \\left[\\begin{matrix}11 & 12 & 13 & 14\\\\21 & 22 & 23 & 24\\\\31 & 32 & 33 & 34\\\\41 & 42 & 43 & 44\\end{matrix}\\right]$"
      ],
      "text/plain": [
       "Matrix([\n",
       "[11, 12, 13, 14],\n",
       "[21, 22, 23, 24],\n",
       "[31, 32, 33, 34],\n",
       "[41, 42, 43, 44]])"
      ]
     },
     "execution_count": 8,
     "metadata": {},
     "output_type": "execute_result"
    }
   ],
   "source": [
    "Hsub"
   ]
  },
  {
   "cell_type": "code",
   "execution_count": 9,
   "metadata": {},
   "outputs": [
    {
     "data": {
      "text/latex": [
       "$\\displaystyle \\left[\\begin{matrix}M_{11} + M_{12} + M_{21} + M_{22} & 0 & 0 & 0 & M_{13} + M_{14} + M_{23} + M_{24} & 0 & 0 & 0\\\\0 & 0 & 0 & 0 & 0 & 0 & 0 & 0\\\\0 & 0 & 0 & 0 & 0 & 0 & 0 & 0\\\\0 & 0 & 0 & 0 & 0 & 0 & 0 & 0\\\\M_{31} + M_{32} + M_{41} + M_{42} & 0 & 0 & 0 & M_{33} + M_{34} + M_{43} + M_{44} & 0 & 0 & 0\\\\0 & 0 & 0 & 0 & 0 & 0 & 0 & 0\\\\0 & 0 & 0 & 0 & 0 & 0 & 0 & 0\\\\0 & 0 & 0 & 0 & 0 & 0 & 0 & 0\\end{matrix}\\right]$"
      ],
      "text/plain": [
       "Matrix([\n",
       "[M11 + M12 + M21 + M22, 0, 0, 0, M13 + M14 + M23 + M24, 0, 0, 0],\n",
       "[                    0, 0, 0, 0,                     0, 0, 0, 0],\n",
       "[                    0, 0, 0, 0,                     0, 0, 0, 0],\n",
       "[                    0, 0, 0, 0,                     0, 0, 0, 0],\n",
       "[M31 + M32 + M41 + M42, 0, 0, 0, M33 + M34 + M43 + M44, 0, 0, 0],\n",
       "[                    0, 0, 0, 0,                     0, 0, 0, 0],\n",
       "[                    0, 0, 0, 0,                     0, 0, 0, 0],\n",
       "[                    0, 0, 0, 0,                     0, 0, 0, 0]])"
      ]
     },
     "execution_count": 9,
     "metadata": {},
     "output_type": "execute_result"
    }
   ],
   "source": [
    "Hsub = sp.Matrix([[M11,M12,M13,M14],[M21,M22,M23,M24],[M31,M32,M33,M34],[M41,M42,M43,M44]])\n",
    "distri224(H, Hsub, 0,0)\n",
    "H"
   ]
  },
  {
   "cell_type": "code",
   "execution_count": 10,
   "id": "db7ab77057d9108d",
   "metadata": {
    "ExecuteTime": {
     "end_time": "2024-06-06T03:54:38.859820Z",
     "start_time": "2024-06-06T03:54:38.784423Z"
    }
   },
   "outputs": [],
   "source": [
    "a_i = sp.symbols(\"a1:3\")  # Bravais lattice vectors\n",
    "a = sp.Symbol(\"a\", real=True)\n",
    "I = sp.I\n",
    "pi = sp.pi\n",
    "hb = sp.Symbol(\"ℏ\", real=True)\n",
    "S = sp.Symbol(\"S\", real=True)\n",
    "\n",
    "J = sp.Symbol(\"J\", real=True)  # Heisenberg coupling\n",
    "K = sp.Symbol(\"K\", real=True)  # Kitaev coupling\n",
    "Gamma = sp.Symbol(\"Γ\", real=True)\n",
    "gamma = sp.Symbol(\"Γ'\", real=True)\n",
    "h = sp.Symbol(\"h\", real=True)\n",
    "# up-up couplings\n",
    "theta =0\n",
    "phi = 0\n",
    "\n",
    "V_i = sp.symbols(\"V1:4\")\n",
    "V1 = sp.Matrix([1, 0, 0])\n",
    "V2 = sp.Matrix([0, 1, 0])\n",
    "V3 = sp.Matrix([0, 0, 1])\n",
    "\n",
    "Hberg_uu = V1 * sp.Transpose(V1) + V2 * sp.Transpose(V2) + V3 * sp.Transpose(V3)\n",
    "\n",
    "IsingXX_uu = V1 * sp.Transpose(V1)\n",
    "IsingZZ_uu = V3 * sp.Transpose(V3)\n",
    "\n",
    "XY_uu = V1 * sp.Transpose(V2)\n",
    "XZ_uu = V1 * sp.Transpose(V3)\n",
    "YX_uu = V2 * sp.Transpose(V1)\n",
    "YZ_uu = V2 * sp.Transpose(V3)\n",
    "ZX_uu = V3 * sp.Transpose(V1)\n",
    "ZY_uu = V3 * sp.Transpose(V2)\n",
    "\n",
    "Hx_uu = 2 * K * IsingXX_uu + J * Hberg_uu + Gamma * (YZ_uu + ZY_uu) + gamma * (YX_uu + ZX_uu + XY_uu + XZ_uu)\n",
    "Hz_uu = 2 * K * IsingZZ_uu + J * Hberg_uu + Gamma * (XY_uu + YX_uu) + gamma * (XZ_uu + YZ_uu + ZX_uu + ZY_uu)\n",
    "\n",
    "e = sp.Symbol(\"e\")\n",
    "f = sp.Symbol(\"f\")\n",
    "g = sp.Symbol(\"g\")\n",
    "h = sp.Symbol(\"h\")\n",
    "n_i = sp.Symbol(\"𝑛𝑖\")\n",
    "n_j = sp.Symbol(\"𝑛𝑗\")\n",
    "\n",
    "HPXX = 1 / sp.Integer(2) * (e + f + g + h)\n",
    "HPYY = -1 / sp.Integer(2) * (e - f - g + h)\n",
    "HPZZ = (S - n_i - n_j)\n",
    "HPXY = 1 / (2 * I) * (e - f + g - h)\n",
    "HPYX = 1 / (2 * I) * (e + f - g - h)\n",
    "\n",
    "    # for now we didn't how to calculate single a, a+...\n",
    "HPXZ = 0\n",
    "HPYZ = 0\n",
    "HPZX = 0\n",
    "HPZY = 0\n",
    "\n",
    "HPbosons = sp.Matrix([[HPXX, HPXY, HPXZ], [HPYX, HPYY, HPYZ], [HPZX, HPZY,\n",
    "                                                                   HPZZ]])\n",
    "o = sp.Integer(0)\n",
    "ii = sp.Integer(1)"
   ]
  },
  {
   "cell_type": "code",
   "execution_count": 11,
   "id": "3497a335aa1af04d",
   "metadata": {
    "ExecuteTime": {
     "end_time": "2024-06-06T03:54:40.001737Z",
     "start_time": "2024-06-06T03:54:39.920669Z"
    }
   },
   "outputs": [],
   "source": [
    "HPHx_uu = sp.Integer(0)\n",
    "\n",
    "i = 0\n",
    "while i < 3:\n",
    "    j = 0\n",
    "    while j < 3:\n",
    "        HPHx_uu = HPHx_uu + Hx_uu[i, j] * HPbosons[i, j]\n",
    "        j += 1\n",
    "    i += 1\n",
    "\n",
    "HPHx_uu = HPHx_uu.expand()\n",
    "\n",
    "Coef_HPHx_uu = sp.Matrix([o, o, o, o, o, o])\n",
    "Coef_HPHx_uu[0, 0] = HPHx_uu.coeff(e)\n",
    "Coef_HPHx_uu[1, 0] = HPHx_uu.coeff(f)\n",
    "Coef_HPHx_uu[2, 0] = HPHx_uu.coeff(g)\n",
    "Coef_HPHx_uu[3, 0] = HPHx_uu.coeff(h)\n",
    "Coef_HPHx_uu[4, 0] = HPHx_uu.coeff(n_i)\n",
    "Coef_HPHx_uu[5, 0] = HPHx_uu.coeff(n_j)\n",
    "\n",
    "Mat_Coef_HPHx_uu = sp.Matrix([\n",
    "    [Coef_HPHx_uu[4, 0], Coef_HPHx_uu[2, 0], o, Coef_HPHx_uu[3, 0]],\n",
    "    [Coef_HPHx_uu[1, 0], Coef_HPHx_uu[5, 0], Coef_HPHx_uu[3, 0], o],\n",
    "    [o, Coef_HPHx_uu[0, 0], Coef_HPHx_uu[5, 0], Coef_HPHx_uu[2, 0]],\n",
    "    [Coef_HPHx_uu[0, 0], o, Coef_HPHx_uu[1, 0], Coef_HPHx_uu[4, 0]]\n",
    "    ])\n",
    "\n",
    "HPHz_uu = sp.Integer(0)\n",
    "\n",
    "i = 0\n",
    "while i < 3:\n",
    "    j = 0\n",
    "    while j < 3:\n",
    "        HPHz_uu = HPHz_uu + Hz_uu[i, j] * HPbosons[i, j]\n",
    "        j += 1\n",
    "    i += 1\n",
    "\n",
    "HPHz_uu = HPHz_uu.expand()\n",
    "\n",
    "Coef_HPHz_uu = sp.Matrix([o, o, o, o, o, o])\n",
    "Coef_HPHz_uu[0, 0] = HPHz_uu.coeff(e)\n",
    "Coef_HPHz_uu[1, 0] = HPHz_uu.coeff(f)\n",
    "Coef_HPHz_uu[2, 0] = HPHz_uu.coeff(g)\n",
    "Coef_HPHz_uu[3, 0] = HPHz_uu.coeff(h)\n",
    "Coef_HPHz_uu[4, 0] = HPHz_uu.coeff(n_i)\n",
    "Coef_HPHz_uu[5, 0] = HPHz_uu.coeff(n_j)\n",
    "\n",
    "Mat_Coef_HPHz_uu = sp.Matrix([\n",
    "    [Coef_HPHz_uu[4, 0], Coef_HPHz_uu[2, 0], o, Coef_HPHz_uu[3, 0]],\n",
    "    [Coef_HPHz_uu[1, 0], Coef_HPHz_uu[5, 0], Coef_HPHz_uu[3, 0], o],\n",
    "    [o, Coef_HPHz_uu[0, 0], Coef_HPHz_uu[5, 0], Coef_HPHz_uu[2, 0]],\n",
    "    [Coef_HPHz_uu[0, 0], o, Coef_HPHz_uu[1, 0], Coef_HPHz_uu[4, 0]]\n",
    "    ])"
   ]
  },
  {
   "cell_type": "code",
   "execution_count": 12,
   "id": "b4b1a3b24d44f148",
   "metadata": {
    "ExecuteTime": {
     "end_time": "2024-06-06T04:12:22.709814Z",
     "start_time": "2024-06-06T04:12:22.277910Z"
    }
   },
   "outputs": [],
   "source": [
    "#############################################\n",
    "# down-down couplings\n",
    "Theta = np.pi-theta\n",
    "Phi = phi\n",
    "uni = sp.Matrix([[np.cos(Theta/2),np.sin(Theta / 2)],[np.sin(Theta/2)*np.exp(1j*Phi),-np.cos(Theta / 2) * np.exp(1j * Phi)]])\n",
    "uni_dag = sp.transpose(sp.conjugate(uni))\n",
    "\n",
    "\n",
    "pxd = sp.simplify(uni_dag*msigma(1)*uni)\n",
    "pyd = sp.simplify(uni_dag*msigma(2)*uni)\n",
    "pzd = sp.simplify(uni_dag * msigma(3) * uni)\n",
    "\n",
    "W1 = sp.simplify(sp.Matrix([(pxd[0, 1] + pxd[1, 0]) / 2, (pxd[1, 0] - pxd[0, 1]) / (2 * I), (pxd[0, 0] - pxd[1, 1]) / 2]))\n",
    "W2 = sp.simplify(sp.Matrix([(pyd[0, 1] + pyd[1, 0]) / 2, (pyd[1, 0] - pyd[0, 1]) / (2 * I), (pyd[0, 0] - pyd[1, 1]) / 2]))\n",
    "W3 = sp.simplify(sp.Matrix([(pzd[0, 1] + pzd[1, 0]) / 2, (pzd[1, 0] - pzd[0, 1]) / (2 * I), (pzd[0, 0] - pzd[1, 1]) / 2]))\n",
    "\n",
    "Hberg_dd = W1 * sp.Transpose(W1) + W2 * sp.Transpose(W2) + W3 * sp.Transpose(W3)\n",
    "\n",
    "IsingXX_dd = W1 * sp.Transpose(W1)\n",
    "IsingZZ_dd = W3 * sp.Transpose(W3)\n",
    "\n",
    "XY_dd = W1 * sp.Transpose(W2)\n",
    "XZ_dd = W1 * sp.Transpose(W3)\n",
    "YX_dd = W2 * sp.Transpose(W1)\n",
    "YZ_dd = W2 * sp.Transpose(W3)\n",
    "ZX_dd = W3 * sp.Transpose(W1)\n",
    "ZY_dd = W3 * sp.Transpose(W2)\n",
    "\n",
    "Hx_dd = 2 * K * IsingXX_dd + J * Hberg_dd + Gamma * (YZ_dd + ZY_dd) + gamma * (YX_dd + ZX_dd + XY_dd + XZ_dd)\n",
    "Hz_dd = 2 * K * IsingZZ_dd + J * Hberg_dd + Gamma * (XY_dd + YX_dd) + gamma * (XZ_dd + YZ_dd + ZX_dd + ZY_dd)\n",
    "\n",
    "HPHx_dd = sp.Integer(0)\n",
    "\n",
    "i = 0\n",
    "while i < 3:\n",
    "    j = 0\n",
    "    while j < 3:\n",
    "        HPHx_dd = HPHx_dd + Hx_dd[i, j] * HPbosons[i, j]\n",
    "        j += 1\n",
    "    i += 1\n",
    "\n",
    "HPHx_dd = HPHx_dd.expand()\n",
    "\n",
    "Coef_HPHx_dd = sp.Matrix([o, o, o, o, o, o])\n",
    "Coef_HPHx_dd[0, 0] = HPHx_dd.coeff(e)\n",
    "Coef_HPHx_dd[1, 0] = HPHx_dd.coeff(f)\n",
    "Coef_HPHx_dd[2, 0] = HPHx_dd.coeff(g)\n",
    "Coef_HPHx_dd[3, 0] = HPHx_dd.coeff(h)\n",
    "Coef_HPHx_dd[4, 0] = HPHx_dd.coeff(n_i)\n",
    "Coef_HPHx_dd[5, 0] = HPHx_dd.coeff(n_j)\n",
    "\n",
    "Mat_Coef_HPHx_dd = sp.Matrix([\n",
    "    [Coef_HPHx_dd[4, 0], Coef_HPHx_dd[2, 0], o, Coef_HPHx_dd[3, 0]],\n",
    "    [Coef_HPHx_dd[1, 0], Coef_HPHx_dd[5, 0], Coef_HPHx_dd[3, 0], o],\n",
    "    [o, Coef_HPHx_dd[0, 0], Coef_HPHx_dd[5, 0], Coef_HPHx_dd[2, 0]],\n",
    "    [Coef_HPHx_dd[0, 0], o, Coef_HPHx_dd[1, 0], Coef_HPHx_dd[4, 0]]\n",
    "    ])\n",
    "\n",
    "HPHz_dd = sp.Integer(0)\n",
    "\n",
    "i = 0\n",
    "while i < 3:\n",
    "    j = 0\n",
    "    while j < 3:\n",
    "        HPHz_dd = HPHz_dd + Hz_dd[i, j] * HPbosons[i, j]\n",
    "        j += 1\n",
    "    i += 1\n",
    "\n",
    "HPHz_dd = HPHz_dd.expand()\n",
    "\n",
    "Coef_HPHz_dd = sp.Matrix([o, o, o, o, o, o])\n",
    "Coef_HPHz_dd[0, 0] = HPHz_dd.coeff(e)\n",
    "Coef_HPHz_dd[1, 0] = HPHz_dd.coeff(f)\n",
    "Coef_HPHz_dd[2, 0] = HPHz_dd.coeff(g)\n",
    "Coef_HPHz_dd[3, 0] = HPHz_dd.coeff(h)\n",
    "Coef_HPHz_dd[4, 0] = HPHz_dd.coeff(n_i)\n",
    "Coef_HPHz_dd[5, 0] = HPHz_dd.coeff(n_j)\n",
    "\n",
    "Mat_Coef_HPHz_dd = sp.Matrix([\n",
    "    [Coef_HPHz_dd[4, 0], Coef_HPHz_dd[2, 0], o, Coef_HPHz_dd[3, 0]],\n",
    "    [Coef_HPHz_dd[1, 0], Coef_HPHz_dd[5, 0], Coef_HPHz_dd[3, 0], o],\n",
    "    [o, Coef_HPHz_dd[0, 0], Coef_HPHz_dd[5, 0], Coef_HPHz_dd[2, 0]],\n",
    "    [Coef_HPHz_dd[0, 0], o, Coef_HPHz_dd[1, 0], Coef_HPHz_dd[4, 0]]\n",
    "    ])\n"
   ]
  },
  {
   "cell_type": "code",
   "execution_count": 13,
   "metadata": {},
   "outputs": [
    {
     "data": {
      "text/latex": [
       "$\\displaystyle \\left[\\begin{matrix}0 & 0\\\\0 & 0\\end{matrix}\\right]$"
      ],
      "text/plain": [
       "Matrix([\n",
       "[0, 0],\n",
       "[0, 0]])"
      ]
     },
     "execution_count": 13,
     "metadata": {},
     "output_type": "execute_result"
    }
   ],
   "source": [
    "sp.simplify(pxd*pyd-pyd*pxd-2*sp.I*pzd)"
   ]
  },
  {
   "cell_type": "code",
   "execution_count": 14,
   "metadata": {},
   "outputs": [
    {
     "data": {
      "text/latex": [
       "$\\displaystyle \\left[\\begin{matrix}0 & 0\\\\0 & 0\\end{matrix}\\right]$"
      ],
      "text/plain": [
       "Matrix([\n",
       "[0, 0],\n",
       "[0, 0]])"
      ]
     },
     "execution_count": 14,
     "metadata": {},
     "output_type": "execute_result"
    }
   ],
   "source": [
    "sp.simplify(pyd*pzd-pzd*pyd-2*sp.I*pxd)"
   ]
  },
  {
   "cell_type": "code",
   "execution_count": 15,
   "metadata": {},
   "outputs": [
    {
     "data": {
      "text/latex": [
       "$\\displaystyle \\left[\\begin{matrix}0 & 0\\\\0 & 0\\end{matrix}\\right]$"
      ],
      "text/plain": [
       "Matrix([\n",
       "[0, 0],\n",
       "[0, 0]])"
      ]
     },
     "execution_count": 15,
     "metadata": {},
     "output_type": "execute_result"
    }
   ],
   "source": [
    "sp.simplify(pzd*pxd-pxd*pzd-2*sp.I*pyd)"
   ]
  },
  {
   "cell_type": "code",
   "execution_count": 16,
   "id": "8d85a2c2b347fa6d",
   "metadata": {
    "ExecuteTime": {
     "end_time": "2024-06-06T04:12:24.186958Z",
     "start_time": "2024-06-06T04:12:24.172915Z"
    }
   },
   "outputs": [
    {
     "data": {
      "text/latex": [
       "$\\displaystyle \\left[\\begin{matrix}1.0\\\\0\\\\1.22464679914735 \\cdot 10^{-16}\\end{matrix}\\right]$"
      ],
      "text/plain": [
       "Matrix([\n",
       "[                 1.0],\n",
       "[                   0],\n",
       "[1.22464679914735e-16]])"
      ]
     },
     "execution_count": 16,
     "metadata": {},
     "output_type": "execute_result"
    }
   ],
   "source": [
    "W1"
   ]
  },
  {
   "cell_type": "code",
   "execution_count": 17,
   "id": "68031cbd7f4a09f9",
   "metadata": {
    "ExecuteTime": {
     "end_time": "2024-06-06T04:12:40.626055Z",
     "start_time": "2024-06-06T04:12:40.612941Z"
    }
   },
   "outputs": [
    {
     "data": {
      "text/latex": [
       "$\\displaystyle \\left[\\begin{matrix}0\\\\-1.0\\\\0\\end{matrix}\\right]$"
      ],
      "text/plain": [
       "Matrix([\n",
       "[   0],\n",
       "[-1.0],\n",
       "[   0]])"
      ]
     },
     "execution_count": 17,
     "metadata": {},
     "output_type": "execute_result"
    }
   ],
   "source": [
    "W2"
   ]
  },
  {
   "cell_type": "code",
   "execution_count": 18,
   "id": "a00afe317ec87cb",
   "metadata": {
    "ExecuteTime": {
     "end_time": "2024-06-06T04:12:52.651725Z",
     "start_time": "2024-06-06T04:12:52.638553Z"
    }
   },
   "outputs": [
    {
     "data": {
      "text/latex": [
       "$\\displaystyle \\left[\\begin{matrix}1.22464679914735 \\cdot 10^{-16}\\\\0\\\\-1.0\\end{matrix}\\right]$"
      ],
      "text/plain": [
       "Matrix([\n",
       "[1.22464679914735e-16],\n",
       "[                   0],\n",
       "[                -1.0]])"
      ]
     },
     "execution_count": 18,
     "metadata": {},
     "output_type": "execute_result"
    }
   ],
   "source": [
    "W3"
   ]
  },
  {
   "cell_type": "code",
   "execution_count": 19,
   "id": "9b5d64a97706f4cf",
   "metadata": {
    "ExecuteTime": {
     "end_time": "2024-06-06T04:23:25.139563Z",
     "start_time": "2024-06-06T04:23:25.041938Z"
    }
   },
   "outputs": [],
   "source": [
    "#####################################################################\n",
    "# up-down couplings\n",
    "Hberg_ud = V1 * sp.Transpose(W1) + V2 * sp.Transpose(W2) + V3 * sp.Transpose(W3)\n",
    "\n",
    "IsingYY_ud = V2 * sp.Transpose(W2)\n",
    "\n",
    "XY_ud = V1 * sp.Transpose(W2)\n",
    "XZ_ud = V1 * sp.Transpose(W3)\n",
    "YX_ud = V2 * sp.Transpose(W1)\n",
    "YZ_ud = V2 * sp.Transpose(W3)\n",
    "ZX_ud = V3 * sp.Transpose(W1)\n",
    "ZY_ud = V3 * sp.Transpose(W2)\n",
    "\n",
    "Hy_ud = 2 * K * IsingYY_ud + J * Hberg_ud + Gamma * (XZ_ud + ZX_ud) + gamma * (YZ_ud + YX_ud + ZY_ud + XY_ud)\n",
    "HPHy_ud = sp.Integer(0)\n",
    "\n",
    "i = 0\n",
    "while i < 3:\n",
    "    j = 0\n",
    "    while j < 3:\n",
    "        HPHy_ud = HPHy_ud + Hy_ud[i, j] * HPbosons[i, j]\n",
    "        j += 1\n",
    "    i += 1\n",
    "\n",
    "HPHy_ud = HPHy_ud.expand()\n",
    "\n",
    "Coef_HPHy_ud = sp.Matrix([o, o, o, o, o, o])\n",
    "Coef_HPHy_ud[0, 0] = HPHy_ud.coeff(e)\n",
    "Coef_HPHy_ud[1, 0] = HPHy_ud.coeff(f)\n",
    "Coef_HPHy_ud[2, 0] = HPHy_ud.coeff(g)\n",
    "Coef_HPHy_ud[3, 0] = HPHy_ud.coeff(h)\n",
    "Coef_HPHy_ud[4, 0] = HPHy_ud.coeff(n_i)\n",
    "Coef_HPHy_ud[5, 0] = HPHy_ud.coeff(n_j)\n",
    "\n",
    "Mat_Coef_HPHy_ud = sp.Matrix([\n",
    "    [Coef_HPHy_ud[4, 0], Coef_HPHy_ud[2, 0], o, Coef_HPHy_ud[3, 0]],\n",
    "    [Coef_HPHy_ud[1, 0], Coef_HPHy_ud[5, 0], Coef_HPHy_ud[3, 0], o],\n",
    "    [o, Coef_HPHy_ud[0, 0], Coef_HPHy_ud[5, 0], Coef_HPHy_ud[2, 0]],\n",
    "    [Coef_HPHy_ud[0, 0], o, Coef_HPHy_ud[1, 0], Coef_HPHy_ud[4, 0]]\n",
    "    ])"
   ]
  },
  {
   "cell_type": "code",
   "execution_count": 20,
   "id": "78726157ca972bf2",
   "metadata": {
    "ExecuteTime": {
     "end_time": "2024-06-06T04:23:26.235545Z",
     "start_time": "2024-06-06T04:23:26.161986Z"
    }
   },
   "outputs": [],
   "source": [
    "######################################################################\n",
    "# down-up couplings\n",
    "Hberg = W1 * sp.Transpose(V1) + W2 * sp.Transpose(V2) + W3 * sp.Transpose(V3)\n",
    "\n",
    "IsingXX = W1 * sp.Transpose(V1)\n",
    "IsingYY = W2 * sp.Transpose(V2)\n",
    "IsingZZ = W3 * sp.Transpose(V3)\n",
    "\n",
    "XY = W1 * sp.Transpose(V2)\n",
    "XZ = W1 * sp.Transpose(V3)\n",
    "YX = W2 * sp.Transpose(V1)\n",
    "YZ = W2 * sp.Transpose(V3)\n",
    "ZX = W3 * sp.Transpose(V1)\n",
    "ZY = W3 * sp.Transpose(V2)\n",
    "\n",
    "Hy = 2 * K * IsingYY + J * Hberg + Gamma * (XZ + ZX) + gamma * (YZ + YX + ZY + XY)\n",
    "HPHy = sp.Integer(0)\n",
    "\n",
    "i = 0\n",
    "while i < 3:\n",
    "    j = 0\n",
    "    while j < 3:\n",
    "        HPHy = HPHy + Hy[i, j] * HPbosons[i, j]\n",
    "        j += 1\n",
    "    i += 1\n",
    "\n",
    "HPHy = HPHy.expand()\n",
    "\n",
    "Coef_HPHy = sp.Matrix([o, o, o, o, o, o])\n",
    "Coef_HPHy[0, 0] = HPHy.coeff(e)\n",
    "Coef_HPHy[1, 0] = HPHy.coeff(f)\n",
    "Coef_HPHy[2, 0] = HPHy.coeff(g)\n",
    "Coef_HPHy[3, 0] = HPHy.coeff(h)\n",
    "Coef_HPHy[4, 0] = HPHy.coeff(n_i)\n",
    "Coef_HPHy[5, 0] = HPHy.coeff(n_j)\n",
    "\n",
    "Mat_Coef_HPHy_du = sp.Matrix([\n",
    "    [Coef_HPHy[4, 0], Coef_HPHy[2, 0], o, Coef_HPHy[3, 0]],\n",
    "    [Coef_HPHy[1, 0], Coef_HPHy[5, 0], Coef_HPHy[3, 0], o],\n",
    "    [o, Coef_HPHy[0, 0], Coef_HPHy[5, 0], Coef_HPHy[2, 0]],\n",
    "    [Coef_HPHy[0, 0], o, Coef_HPHy[1, 0], Coef_HPHy[4, 0]]\n",
    "    ])"
   ]
  },
  {
   "cell_type": "code",
   "execution_count": 21,
   "id": "a901ce87b99d2233",
   "metadata": {
    "ExecuteTime": {
     "end_time": "2024-06-06T04:23:27.671359Z",
     "start_time": "2024-06-06T04:23:27.636505Z"
    }
   },
   "outputs": [],
   "source": [
    "#####################################################################\n",
    "Hlsw = sp.zeros(8, 8)\n",
    "\n",
    "    # Fourier transform\n",
    "deltaX = a / sp.sqrt(3) * sp.Matrix([-sp.sqrt(3) / 2, 1 / sp.Integer(2)])\n",
    "deltaY = a / sp.sqrt(3) * sp.Matrix([sp.Integer(0), sp.Integer(-1)])\n",
    "deltaZ = a / sp.sqrt(3) * sp.Matrix([sp.sqrt(3) / 2, 1 / sp.Integer(2)])\n",
    "\n",
    "global k1\n",
    "global k2\n",
    "\n",
    "k1 = sp.Symbol(\"k1\", real=True)\n",
    "k2 = sp.Symbol(\"k2\", real=True)\n",
    "k = sp.Matrix([k1, k2])\n",
    "\n",
    "sx = sp.exp(I * k.dot(deltaX))\n",
    "sy = sp.exp(I * k.dot(deltaY))\n",
    "sz = sp.exp(I * k.dot(deltaZ))\n",
    "tx = sp.exp(-I * k.dot(deltaX))\n",
    "ty = sp.exp(-I * k.dot(deltaY))\n",
    "tz = sp.exp(-I * k.dot(deltaZ))\n",
    "\n",
    "FT_Coef_X = sp.Matrix([[ii, sx, o, sx], [tx, ii, tx, o], [o, sx, ii, sx], [tx, o,\n",
    "                                                                               tx, ii]])\n",
    "FT_Coef_Y = sp.Matrix([[ii, sy, o, sy], [ty, ii, ty, o], [o, sy, ii, sy], [ty, o,\n",
    "                                                                               ty, ii]])\n",
    "FT_Coef_Z = sp.Matrix([[ii, sz, o, sz], [tz, ii, tz, o], [o, sz, ii, sz], [tz, o,\n",
    "                                                                               tz, ii]])\n"
   ]
  },
  {
   "cell_type": "code",
   "execution_count": 22,
   "id": "baef4f3340901d28",
   "metadata": {
    "ExecuteTime": {
     "end_time": "2024-06-06T04:23:29.235709Z",
     "start_time": "2024-06-06T04:23:29.207288Z"
    }
   },
   "outputs": [
    {
     "data": {
      "text/latex": [
       "$\\displaystyle \\left[\\begin{matrix}- J & \\left(J + K\\right) e^{i \\left(- \\frac{a k_{1}}{2} + \\frac{\\sqrt{3} a k_{2}}{6}\\right)} & 0 & \\left(K + i Γ'\\right) e^{i \\left(- \\frac{a k_{1}}{2} + \\frac{\\sqrt{3} a k_{2}}{6}\\right)}\\\\\\left(J + K\\right) e^{- i \\left(- \\frac{a k_{1}}{2} + \\frac{\\sqrt{3} a k_{2}}{6}\\right)} & - J & \\left(K + i Γ'\\right) e^{- i \\left(- \\frac{a k_{1}}{2} + \\frac{\\sqrt{3} a k_{2}}{6}\\right)} & 0\\\\0 & \\left(K - i Γ'\\right) e^{i \\left(- \\frac{a k_{1}}{2} + \\frac{\\sqrt{3} a k_{2}}{6}\\right)} & - J & \\left(J + K\\right) e^{i \\left(- \\frac{a k_{1}}{2} + \\frac{\\sqrt{3} a k_{2}}{6}\\right)}\\\\\\left(K - i Γ'\\right) e^{- i \\left(- \\frac{a k_{1}}{2} + \\frac{\\sqrt{3} a k_{2}}{6}\\right)} & 0 & \\left(J + K\\right) e^{- i \\left(- \\frac{a k_{1}}{2} + \\frac{\\sqrt{3} a k_{2}}{6}\\right)} & - J\\end{matrix}\\right]$"
      ],
      "text/plain": [
       "Matrix([\n",
       "[                                           -J,    (J + K)*exp(I*(-a*k1/2 + sqrt(3)*a*k2/6)),                                             0, (K + I*Γ')*exp(I*(-a*k1/2 + sqrt(3)*a*k2/6))],\n",
       "[   (J + K)*exp(-I*(-a*k1/2 + sqrt(3)*a*k2/6)),                                           -J, (K + I*Γ')*exp(-I*(-a*k1/2 + sqrt(3)*a*k2/6)),                                            0],\n",
       "[                                            0, (K - I*Γ')*exp(I*(-a*k1/2 + sqrt(3)*a*k2/6)),                                            -J,    (J + K)*exp(I*(-a*k1/2 + sqrt(3)*a*k2/6))],\n",
       "[(K - I*Γ')*exp(-I*(-a*k1/2 + sqrt(3)*a*k2/6)),                                            0,    (J + K)*exp(-I*(-a*k1/2 + sqrt(3)*a*k2/6)),                                           -J]])"
      ]
     },
     "execution_count": 22,
     "metadata": {},
     "output_type": "execute_result"
    }
   ],
   "source": [
    "# x bonds:\n",
    "\n",
    "# up-up x bonds\n",
    "HlswTwoSub = sp.Matrix([[o, o, o, o], [o, o, o, o], [o, o, o, o], [o, o, o, o]])\n",
    "\n",
    "i = 0\n",
    "while i < 4:\n",
    "    j = 0\n",
    "    while j < 4:\n",
    "        HlswTwoSub[i, j] = Mat_Coef_HPHx_uu[i, j] * FT_Coef_X[i, j]\n",
    "        j += 1\n",
    "    i += 1\n",
    "\n",
    "distri224(Hlsw, HlswTwoSub, 1, 0)\n",
    "HlswTwoSub"
   ]
  },
  {
   "cell_type": "code",
   "execution_count": 23,
   "id": "8b6e36c001645562",
   "metadata": {
    "ExecuteTime": {
     "end_time": "2024-06-06T04:23:50.814001Z",
     "start_time": "2024-06-06T04:23:50.721974Z"
    },
    "scrolled": true
   },
   "outputs": [
    {
     "data": {
      "text/latex": [
       "$\\displaystyle \\left[\\begin{matrix}- 1.0 J - 2.99951956532372 \\cdot 10^{-32} K + 2.44929359829471 \\cdot 10^{-16} Γ' & \\left(1.0 J + 1.0 K + 1.22464679914735 \\cdot 10^{-16} Γ'\\right) e^{i \\left(- \\frac{a k_{1}}{2} + \\frac{\\sqrt{3} a k_{2}}{6}\\right)} & 0 & \\left(1.0 K - 1.22464679914735 \\cdot 10^{-16} i Γ + 1.22464679914735 \\cdot 10^{-16} Γ' - 1.0 i Γ'\\right) e^{i \\left(- \\frac{a k_{1}}{2} + \\frac{\\sqrt{3} a k_{2}}{6}\\right)}\\\\\\left(1.0 J + 1.0 K + 1.22464679914735 \\cdot 10^{-16} Γ'\\right) e^{- i \\left(- \\frac{a k_{1}}{2} + \\frac{\\sqrt{3} a k_{2}}{6}\\right)} & - 1.0 J - 2.99951956532372 \\cdot 10^{-32} K + 2.44929359829471 \\cdot 10^{-16} Γ' & \\left(1.0 K - 1.22464679914735 \\cdot 10^{-16} i Γ + 1.22464679914735 \\cdot 10^{-16} Γ' - 1.0 i Γ'\\right) e^{- i \\left(- \\frac{a k_{1}}{2} + \\frac{\\sqrt{3} a k_{2}}{6}\\right)} & 0\\\\0 & \\left(1.0 K + 1.22464679914735 \\cdot 10^{-16} i Γ + 1.22464679914735 \\cdot 10^{-16} Γ' + 1.0 i Γ'\\right) e^{i \\left(- \\frac{a k_{1}}{2} + \\frac{\\sqrt{3} a k_{2}}{6}\\right)} & - 1.0 J - 2.99951956532372 \\cdot 10^{-32} K + 2.44929359829471 \\cdot 10^{-16} Γ' & \\left(1.0 J + 1.0 K + 1.22464679914735 \\cdot 10^{-16} Γ'\\right) e^{i \\left(- \\frac{a k_{1}}{2} + \\frac{\\sqrt{3} a k_{2}}{6}\\right)}\\\\\\left(1.0 K + 1.22464679914735 \\cdot 10^{-16} i Γ + 1.22464679914735 \\cdot 10^{-16} Γ' + 1.0 i Γ'\\right) e^{- i \\left(- \\frac{a k_{1}}{2} + \\frac{\\sqrt{3} a k_{2}}{6}\\right)} & 0 & \\left(1.0 J + 1.0 K + 1.22464679914735 \\cdot 10^{-16} Γ'\\right) e^{- i \\left(- \\frac{a k_{1}}{2} + \\frac{\\sqrt{3} a k_{2}}{6}\\right)} & - 1.0 J - 2.99951956532372 \\cdot 10^{-32} K + 2.44929359829471 \\cdot 10^{-16} Γ'\\end{matrix}\\right]$"
      ],
      "text/plain": [
       "Matrix([\n",
       "[                                                 -1.0*J - 2.99951956532372e-32*K + 2.44929359829471e-16*Γ',                               (1.0*J + 1.0*K + 1.22464679914735e-16*Γ')*exp(I*(-a*k1/2 + sqrt(3)*a*k2/6)),                                                                                                          0, (1.0*K - 1.22464679914735e-16*I*Γ + 1.22464679914735e-16*Γ' - 1.0*I*Γ')*exp(I*(-a*k1/2 + sqrt(3)*a*k2/6))],\n",
       "[                              (1.0*J + 1.0*K + 1.22464679914735e-16*Γ')*exp(-I*(-a*k1/2 + sqrt(3)*a*k2/6)),                                                 -1.0*J - 2.99951956532372e-32*K + 2.44929359829471e-16*Γ', (1.0*K - 1.22464679914735e-16*I*Γ + 1.22464679914735e-16*Γ' - 1.0*I*Γ')*exp(-I*(-a*k1/2 + sqrt(3)*a*k2/6)),                                                                                                         0],\n",
       "[                                                                                                         0, (1.0*K + 1.22464679914735e-16*I*Γ + 1.22464679914735e-16*Γ' + 1.0*I*Γ')*exp(I*(-a*k1/2 + sqrt(3)*a*k2/6)),                                                  -1.0*J - 2.99951956532372e-32*K + 2.44929359829471e-16*Γ',                               (1.0*J + 1.0*K + 1.22464679914735e-16*Γ')*exp(I*(-a*k1/2 + sqrt(3)*a*k2/6))],\n",
       "[(1.0*K + 1.22464679914735e-16*I*Γ + 1.22464679914735e-16*Γ' + 1.0*I*Γ')*exp(-I*(-a*k1/2 + sqrt(3)*a*k2/6)),                                                                                                         0,                               (1.0*J + 1.0*K + 1.22464679914735e-16*Γ')*exp(-I*(-a*k1/2 + sqrt(3)*a*k2/6)),                                                 -1.0*J - 2.99951956532372e-32*K + 2.44929359829471e-16*Γ']])"
      ]
     },
     "execution_count": 23,
     "metadata": {},
     "output_type": "execute_result"
    }
   ],
   "source": [
    "HlswTwoSub = sp.Matrix([[o, o, o, o], [o, o, o, o], [o, o, o, o], [o, o, o, o]])\n",
    "\n",
    "# down-down x bonds\n",
    "i = 0\n",
    "while i < 4:\n",
    "    j = 0\n",
    "    while j < 4:\n",
    "        HlswTwoSub[i, j] = Mat_Coef_HPHx_dd[i, j] * FT_Coef_X[i, j]\n",
    "        j += 1\n",
    "    i += 1\n",
    "\n",
    "distri224(Hlsw, HlswTwoSub, 3, 2)\n",
    "HlswTwoSub"
   ]
  },
  {
   "cell_type": "code",
   "execution_count": 24,
   "metadata": {
    "scrolled": false
   },
   "outputs": [],
   "source": [
    "# y bonds:\n",
    "\n",
    "# up-down y bonds\n",
    "HlswTwoSub = sp.Matrix([[o, o, o, o], [o, o, o, o], [o, o, o, o], [o, o, o, o]])\n",
    "\n",
    "i = 0\n",
    "while i < 4:\n",
    "    j = 0\n",
    "    while j < 4:\n",
    "        HlswTwoSub[i, j] = Mat_Coef_HPHy_ud[i, j] * FT_Coef_Y[i, j]\n",
    "        j += 1\n",
    "    i += 1\n",
    "\n",
    "distri224(Hlsw, HlswTwoSub, 1, 2)\n",
    "\n"
   ]
  },
  {
   "cell_type": "code",
   "execution_count": 25,
   "metadata": {},
   "outputs": [
    {
     "data": {
      "text/latex": [
       "$\\displaystyle \\left[\\begin{matrix}1.0 J - 1.22464679914735 \\cdot 10^{-16} Γ & \\left(- 1.0 K + 6.12323399573677 \\cdot 10^{-17} Γ - 1.0 i Γ'\\right) e^{- \\frac{\\sqrt{3} i a k_{2}}{3}} & 0 & \\left(1.0 J + 1.0 K + 6.12323399573677 \\cdot 10^{-17} Γ + 1.11022302462516 \\cdot 10^{-16} i Γ'\\right) e^{- \\frac{\\sqrt{3} i a k_{2}}{3}}\\\\\\left(- 1.0 K + 6.12323399573677 \\cdot 10^{-17} Γ + 1.0 i Γ'\\right) e^{\\frac{\\sqrt{3} i a k_{2}}{3}} & 1.0 J - 1.22464679914735 \\cdot 10^{-16} Γ & \\left(1.0 J + 1.0 K + 6.12323399573677 \\cdot 10^{-17} Γ + 1.11022302462516 \\cdot 10^{-16} i Γ'\\right) e^{\\frac{\\sqrt{3} i a k_{2}}{3}} & 0\\\\0 & \\left(1.0 J + 1.0 K + 6.12323399573677 \\cdot 10^{-17} Γ - 1.11022302462516 \\cdot 10^{-16} i Γ'\\right) e^{- \\frac{\\sqrt{3} i a k_{2}}{3}} & 1.0 J - 1.22464679914735 \\cdot 10^{-16} Γ & \\left(- 1.0 K + 6.12323399573677 \\cdot 10^{-17} Γ - 1.0 i Γ'\\right) e^{- \\frac{\\sqrt{3} i a k_{2}}{3}}\\\\\\left(1.0 J + 1.0 K + 6.12323399573677 \\cdot 10^{-17} Γ - 1.11022302462516 \\cdot 10^{-16} i Γ'\\right) e^{\\frac{\\sqrt{3} i a k_{2}}{3}} & 0 & \\left(- 1.0 K + 6.12323399573677 \\cdot 10^{-17} Γ + 1.0 i Γ'\\right) e^{\\frac{\\sqrt{3} i a k_{2}}{3}} & 1.0 J - 1.22464679914735 \\cdot 10^{-16} Γ\\end{matrix}\\right]$"
      ],
      "text/plain": [
       "Matrix([\n",
       "[                                                            1.0*J - 1.22464679914735e-16*Γ,                         (-1.0*K + 6.12323399573677e-17*Γ - 1.0*I*Γ')*exp(-sqrt(3)*I*a*k2/3),                                                                                          0, (1.0*J + 1.0*K + 6.12323399573677e-17*Γ + 1.11022302462516e-16*I*Γ')*exp(-sqrt(3)*I*a*k2/3)],\n",
       "[                        (-1.0*K + 6.12323399573677e-17*Γ + 1.0*I*Γ')*exp(sqrt(3)*I*a*k2/3),                                                              1.0*J - 1.22464679914735e-16*Γ, (1.0*J + 1.0*K + 6.12323399573677e-17*Γ + 1.11022302462516e-16*I*Γ')*exp(sqrt(3)*I*a*k2/3),                                                                                           0],\n",
       "[                                                                                         0, (1.0*J + 1.0*K + 6.12323399573677e-17*Γ - 1.11022302462516e-16*I*Γ')*exp(-sqrt(3)*I*a*k2/3),                                                             1.0*J - 1.22464679914735e-16*Γ,                         (-1.0*K + 6.12323399573677e-17*Γ - 1.0*I*Γ')*exp(-sqrt(3)*I*a*k2/3)],\n",
       "[(1.0*J + 1.0*K + 6.12323399573677e-17*Γ - 1.11022302462516e-16*I*Γ')*exp(sqrt(3)*I*a*k2/3),                                                                                           0,                         (-1.0*K + 6.12323399573677e-17*Γ + 1.0*I*Γ')*exp(sqrt(3)*I*a*k2/3),                                                              1.0*J - 1.22464679914735e-16*Γ]])"
      ]
     },
     "execution_count": 25,
     "metadata": {},
     "output_type": "execute_result"
    }
   ],
   "source": [
    "# down-up y bonds\n",
    "HlswTwoSub = sp.Matrix([[o, o, o, o], [o, o, o, o], [o, o, o, o], [o, o, o, o]])\n",
    "\n",
    "i = 0\n",
    "while i < 4:\n",
    "    j = 0\n",
    "    while j < 4:\n",
    "        HlswTwoSub[i, j] = Mat_Coef_HPHy_du[i, j] * FT_Coef_Y[i, j]\n",
    "        j += 1\n",
    "    i += 1\n",
    "\n",
    "distri224(Hlsw, HlswTwoSub, 3, 0)\n",
    "HlswTwoSub"
   ]
  },
  {
   "cell_type": "code",
   "execution_count": 26,
   "metadata": {},
   "outputs": [
    {
     "data": {
      "text/latex": [
       "$\\displaystyle \\left[\\begin{matrix}- J - 2 K & J e^{i \\left(\\frac{a k_{1}}{2} + \\frac{\\sqrt{3} a k_{2}}{6}\\right)} & 0 & i Γ e^{i \\left(\\frac{a k_{1}}{2} + \\frac{\\sqrt{3} a k_{2}}{6}\\right)}\\\\J e^{- i \\left(\\frac{a k_{1}}{2} + \\frac{\\sqrt{3} a k_{2}}{6}\\right)} & - J - 2 K & i Γ e^{- i \\left(\\frac{a k_{1}}{2} + \\frac{\\sqrt{3} a k_{2}}{6}\\right)} & 0\\\\0 & - i Γ e^{i \\left(\\frac{a k_{1}}{2} + \\frac{\\sqrt{3} a k_{2}}{6}\\right)} & - J - 2 K & J e^{i \\left(\\frac{a k_{1}}{2} + \\frac{\\sqrt{3} a k_{2}}{6}\\right)}\\\\- i Γ e^{- i \\left(\\frac{a k_{1}}{2} + \\frac{\\sqrt{3} a k_{2}}{6}\\right)} & 0 & J e^{- i \\left(\\frac{a k_{1}}{2} + \\frac{\\sqrt{3} a k_{2}}{6}\\right)} & - J - 2 K\\end{matrix}\\right]$"
      ],
      "text/plain": [
       "Matrix([\n",
       "[                              -J - 2*K,    J*exp(I*(a*k1/2 + sqrt(3)*a*k2/6)),                                     0, I*Γ*exp(I*(a*k1/2 + sqrt(3)*a*k2/6))],\n",
       "[   J*exp(-I*(a*k1/2 + sqrt(3)*a*k2/6)),                              -J - 2*K, I*Γ*exp(-I*(a*k1/2 + sqrt(3)*a*k2/6)),                                    0],\n",
       "[                                     0, -I*Γ*exp(I*(a*k1/2 + sqrt(3)*a*k2/6)),                              -J - 2*K,   J*exp(I*(a*k1/2 + sqrt(3)*a*k2/6))],\n",
       "[-I*Γ*exp(-I*(a*k1/2 + sqrt(3)*a*k2/6)),                                     0,   J*exp(-I*(a*k1/2 + sqrt(3)*a*k2/6)),                             -J - 2*K]])"
      ]
     },
     "execution_count": 26,
     "metadata": {},
     "output_type": "execute_result"
    }
   ],
   "source": [
    "# z bonds:\n",
    "\n",
    "# up-up z bonds\n",
    "HlswTwoSub = sp.Matrix([[o, o, o, o], [o, o, o, o], [o, o, o, o], [o, o, o, o]])\n",
    "\n",
    "i = 0\n",
    "while i < 4:\n",
    "    j = 0\n",
    "    while j < 4:\n",
    "        HlswTwoSub[i, j] = Mat_Coef_HPHz_uu[i, j] * FT_Coef_Z[i, j]\n",
    "        j += 1\n",
    "    i += 1\n",
    "\n",
    "distri224(Hlsw, HlswTwoSub, 1, 0)\n",
    "HlswTwoSub\n"
   ]
  },
  {
   "cell_type": "code",
   "execution_count": 27,
   "metadata": {},
   "outputs": [],
   "source": [
    "# down-down z bonds\n",
    "HlswTwoSub = sp.Matrix([[o, o, o, o], [o, o, o, o], [o, o, o, o], [o, o, o, o]])\n",
    "\n",
    "i = 0\n",
    "while i < 4:\n",
    "    j = 0\n",
    "    while j < 4:\n",
    "        HlswTwoSub[i, j] = Mat_Coef_HPHz_dd[i, j] * FT_Coef_Z[i, j]\n",
    "        j += 1\n",
    "    i += 1\n",
    "\n",
    "distri224(Hlsw, HlswTwoSub, 3, 2)"
   ]
  },
  {
   "cell_type": "code",
   "execution_count": 28,
   "metadata": {},
   "outputs": [
    {
     "data": {
      "text/latex": [
       "$\\displaystyle \\left[\\begin{matrix}- 1.0 J - 2.0 K + 2.44929359829471 \\cdot 10^{-16} Γ' & \\left(1.0 J + 1.49975978266186 \\cdot 10^{-32} K + 1.22464679914735 \\cdot 10^{-16} Γ'\\right) e^{i \\left(\\frac{a k_{1}}{2} + \\frac{\\sqrt{3} a k_{2}}{6}\\right)} & 0 & \\left(1.49975978266186 \\cdot 10^{-32} K - 1.0 i Γ + 1.22464679914735 \\cdot 10^{-16} Γ' - 1.22464679914735 \\cdot 10^{-16} i Γ'\\right) e^{i \\left(\\frac{a k_{1}}{2} + \\frac{\\sqrt{3} a k_{2}}{6}\\right)}\\\\\\left(1.0 J + 1.49975978266186 \\cdot 10^{-32} K + 1.22464679914735 \\cdot 10^{-16} Γ'\\right) e^{- i \\left(\\frac{a k_{1}}{2} + \\frac{\\sqrt{3} a k_{2}}{6}\\right)} & - 1.0 J - 2.0 K + 2.44929359829471 \\cdot 10^{-16} Γ' & \\left(1.49975978266186 \\cdot 10^{-32} K - 1.0 i Γ + 1.22464679914735 \\cdot 10^{-16} Γ' - 1.22464679914735 \\cdot 10^{-16} i Γ'\\right) e^{- i \\left(\\frac{a k_{1}}{2} + \\frac{\\sqrt{3} a k_{2}}{6}\\right)} & 0\\\\0 & \\left(1.49975978266186 \\cdot 10^{-32} K + 1.0 i Γ + 1.22464679914735 \\cdot 10^{-16} Γ' + 1.22464679914735 \\cdot 10^{-16} i Γ'\\right) e^{i \\left(\\frac{a k_{1}}{2} + \\frac{\\sqrt{3} a k_{2}}{6}\\right)} & - 1.0 J - 2.0 K + 2.44929359829471 \\cdot 10^{-16} Γ' & \\left(1.0 J + 1.49975978266186 \\cdot 10^{-32} K + 1.22464679914735 \\cdot 10^{-16} Γ'\\right) e^{i \\left(\\frac{a k_{1}}{2} + \\frac{\\sqrt{3} a k_{2}}{6}\\right)}\\\\\\left(1.49975978266186 \\cdot 10^{-32} K + 1.0 i Γ + 1.22464679914735 \\cdot 10^{-16} Γ' + 1.22464679914735 \\cdot 10^{-16} i Γ'\\right) e^{- i \\left(\\frac{a k_{1}}{2} + \\frac{\\sqrt{3} a k_{2}}{6}\\right)} & 0 & \\left(1.0 J + 1.49975978266186 \\cdot 10^{-32} K + 1.22464679914735 \\cdot 10^{-16} Γ'\\right) e^{- i \\left(\\frac{a k_{1}}{2} + \\frac{\\sqrt{3} a k_{2}}{6}\\right)} & - 1.0 J - 2.0 K + 2.44929359829471 \\cdot 10^{-16} Γ'\\end{matrix}\\right]$"
      ],
      "text/plain": [
       "Matrix([\n",
       "[                                                                                  -1.0*J - 2.0*K + 2.44929359829471e-16*Γ',                               (1.0*J + 1.49975978266186e-32*K + 1.22464679914735e-16*Γ')*exp(I*(a*k1/2 + sqrt(3)*a*k2/6)),                                                                                                                          0, (1.49975978266186e-32*K - 1.0*I*Γ + 1.22464679914735e-16*Γ' - 1.22464679914735e-16*I*Γ')*exp(I*(a*k1/2 + sqrt(3)*a*k2/6))],\n",
       "[                              (1.0*J + 1.49975978266186e-32*K + 1.22464679914735e-16*Γ')*exp(-I*(a*k1/2 + sqrt(3)*a*k2/6)),                                                                                  -1.0*J - 2.0*K + 2.44929359829471e-16*Γ', (1.49975978266186e-32*K - 1.0*I*Γ + 1.22464679914735e-16*Γ' - 1.22464679914735e-16*I*Γ')*exp(-I*(a*k1/2 + sqrt(3)*a*k2/6)),                                                                                                                         0],\n",
       "[                                                                                                                         0, (1.49975978266186e-32*K + 1.0*I*Γ + 1.22464679914735e-16*Γ' + 1.22464679914735e-16*I*Γ')*exp(I*(a*k1/2 + sqrt(3)*a*k2/6)),                                                                                   -1.0*J - 2.0*K + 2.44929359829471e-16*Γ',                               (1.0*J + 1.49975978266186e-32*K + 1.22464679914735e-16*Γ')*exp(I*(a*k1/2 + sqrt(3)*a*k2/6))],\n",
       "[(1.49975978266186e-32*K + 1.0*I*Γ + 1.22464679914735e-16*Γ' + 1.22464679914735e-16*I*Γ')*exp(-I*(a*k1/2 + sqrt(3)*a*k2/6)),                                                                                                                         0,                               (1.0*J + 1.49975978266186e-32*K + 1.22464679914735e-16*Γ')*exp(-I*(a*k1/2 + sqrt(3)*a*k2/6)),                                                                                  -1.0*J - 2.0*K + 2.44929359829471e-16*Γ']])"
      ]
     },
     "execution_count": 28,
     "metadata": {},
     "output_type": "execute_result"
    }
   ],
   "source": [
    "HlswTwoSub"
   ]
  },
  {
   "cell_type": "code",
   "execution_count": 29,
   "metadata": {},
   "outputs": [],
   "source": [
    "##########################################################\n",
    "# After using magnon transformation\n",
    "magfield = 1/2 * h * sp.diag(1, 1, -1, -1, 1, 1, -1, -1)\n",
    "    # Assemble\n",
    "Hlsw = 1 / 2 * Hlsw + magfield"
   ]
  },
  {
   "cell_type": "code",
   "execution_count": 30,
   "metadata": {},
   "outputs": [
    {
     "data": {
      "text/latex": [
       "$\\displaystyle \\left[\\begin{matrix}- 0.5 J - 1.0 K + 0.5 h - 6.12323399573677 \\cdot 10^{-17} Γ & 0.5 J e^{- i \\left(\\frac{a k_{1}}{2} + \\frac{\\sqrt{3} a k_{2}}{6}\\right)} + 0.5 \\left(J + K\\right) e^{- i \\left(- \\frac{a k_{1}}{2} + \\frac{\\sqrt{3} a k_{2}}{6}\\right)} & 0 & 0.5 \\left(- 1.0 K + 6.12323399573677 \\cdot 10^{-17} Γ + 1.0 i Γ'\\right) e^{\\frac{\\sqrt{3} i a k_{2}}{3}} & 0 & 0.5 i Γ e^{- i \\left(\\frac{a k_{1}}{2} + \\frac{\\sqrt{3} a k_{2}}{6}\\right)} + 0.5 \\left(K + i Γ'\\right) e^{- i \\left(- \\frac{a k_{1}}{2} + \\frac{\\sqrt{3} a k_{2}}{6}\\right)} & 0 & 0.5 \\cdot \\left(1.0 J + 1.0 K + 6.12323399573677 \\cdot 10^{-17} Γ + 1.11022302462516 \\cdot 10^{-16} i Γ'\\right) e^{\\frac{\\sqrt{3} i a k_{2}}{3}}\\\\0.5 J e^{i \\left(\\frac{a k_{1}}{2} + \\frac{\\sqrt{3} a k_{2}}{6}\\right)} + 0.5 \\left(J + K\\right) e^{i \\left(- \\frac{a k_{1}}{2} + \\frac{\\sqrt{3} a k_{2}}{6}\\right)} & - 0.5 J - 1.0 K + 0.5 h - 6.12323399573677 \\cdot 10^{-17} Γ & 0.5 \\left(- 1.0 K + 6.12323399573677 \\cdot 10^{-17} Γ + 1.0 i Γ'\\right) e^{- \\frac{\\sqrt{3} i a k_{2}}{3}} & 0 & 0.5 i Γ e^{i \\left(\\frac{a k_{1}}{2} + \\frac{\\sqrt{3} a k_{2}}{6}\\right)} + 0.5 \\left(K + i Γ'\\right) e^{i \\left(- \\frac{a k_{1}}{2} + \\frac{\\sqrt{3} a k_{2}}{6}\\right)} & 0 & 0.5 \\cdot \\left(1.0 J + 1.0 K + 6.12323399573677 \\cdot 10^{-17} Γ + 1.11022302462516 \\cdot 10^{-16} i Γ'\\right) e^{- \\frac{\\sqrt{3} i a k_{2}}{3}} & 0\\\\0 & 0.5 \\left(- 1.0 K + 6.12323399573677 \\cdot 10^{-17} Γ - 1.0 i Γ'\\right) e^{\\frac{\\sqrt{3} i a k_{2}}{3}} & - 0.5 J - 1.0 K - 0.5 h - 6.12323399573677 \\cdot 10^{-17} Γ + 2.44929359829471 \\cdot 10^{-16} Γ' & 0.5 \\cdot \\left(1.0 J + 1.49975978266186 \\cdot 10^{-32} K + 1.22464679914735 \\cdot 10^{-16} Γ'\\right) e^{- i \\left(\\frac{a k_{1}}{2} + \\frac{\\sqrt{3} a k_{2}}{6}\\right)} + 0.5 \\cdot \\left(1.0 J + 1.0 K + 1.22464679914735 \\cdot 10^{-16} Γ'\\right) e^{- i \\left(- \\frac{a k_{1}}{2} + \\frac{\\sqrt{3} a k_{2}}{6}\\right)} & 0 & 0.5 \\cdot \\left(1.0 J + 1.0 K + 6.12323399573677 \\cdot 10^{-17} Γ + 1.11022302462516 \\cdot 10^{-16} i Γ'\\right) e^{\\frac{\\sqrt{3} i a k_{2}}{3}} & 0 & 0.5 \\cdot \\left(1.49975978266186 \\cdot 10^{-32} K - 1.0 i Γ + 1.22464679914735 \\cdot 10^{-16} Γ' - 1.22464679914735 \\cdot 10^{-16} i Γ'\\right) e^{- i \\left(\\frac{a k_{1}}{2} + \\frac{\\sqrt{3} a k_{2}}{6}\\right)} + 0.5 \\cdot \\left(1.0 K - 1.22464679914735 \\cdot 10^{-16} i Γ + 1.22464679914735 \\cdot 10^{-16} Γ' - 1.0 i Γ'\\right) e^{- i \\left(- \\frac{a k_{1}}{2} + \\frac{\\sqrt{3} a k_{2}}{6}\\right)}\\\\0.5 \\left(- 1.0 K + 6.12323399573677 \\cdot 10^{-17} Γ - 1.0 i Γ'\\right) e^{- \\frac{\\sqrt{3} i a k_{2}}{3}} & 0 & 0.5 \\cdot \\left(1.0 J + 1.49975978266186 \\cdot 10^{-32} K + 1.22464679914735 \\cdot 10^{-16} Γ'\\right) e^{i \\left(\\frac{a k_{1}}{2} + \\frac{\\sqrt{3} a k_{2}}{6}\\right)} + 0.5 \\cdot \\left(1.0 J + 1.0 K + 1.22464679914735 \\cdot 10^{-16} Γ'\\right) e^{i \\left(- \\frac{a k_{1}}{2} + \\frac{\\sqrt{3} a k_{2}}{6}\\right)} & - 0.5 J - 1.0 K - 0.5 h - 6.12323399573677 \\cdot 10^{-17} Γ + 2.44929359829471 \\cdot 10^{-16} Γ' & 0.5 \\cdot \\left(1.0 J + 1.0 K + 6.12323399573677 \\cdot 10^{-17} Γ + 1.11022302462516 \\cdot 10^{-16} i Γ'\\right) e^{- \\frac{\\sqrt{3} i a k_{2}}{3}} & 0 & 0.5 \\cdot \\left(1.49975978266186 \\cdot 10^{-32} K - 1.0 i Γ + 1.22464679914735 \\cdot 10^{-16} Γ' - 1.22464679914735 \\cdot 10^{-16} i Γ'\\right) e^{i \\left(\\frac{a k_{1}}{2} + \\frac{\\sqrt{3} a k_{2}}{6}\\right)} + 0.5 \\cdot \\left(1.0 K - 1.22464679914735 \\cdot 10^{-16} i Γ + 1.22464679914735 \\cdot 10^{-16} Γ' - 1.0 i Γ'\\right) e^{i \\left(- \\frac{a k_{1}}{2} + \\frac{\\sqrt{3} a k_{2}}{6}\\right)} & 0\\\\0 & - 0.5 i Γ e^{- i \\left(\\frac{a k_{1}}{2} + \\frac{\\sqrt{3} a k_{2}}{6}\\right)} + 0.5 \\left(K - i Γ'\\right) e^{- i \\left(- \\frac{a k_{1}}{2} + \\frac{\\sqrt{3} a k_{2}}{6}\\right)} & 0 & 0.5 \\cdot \\left(1.0 J + 1.0 K + 6.12323399573677 \\cdot 10^{-17} Γ - 1.11022302462516 \\cdot 10^{-16} i Γ'\\right) e^{\\frac{\\sqrt{3} i a k_{2}}{3}} & - 0.5 J - 1.0 K + 0.5 h - 6.12323399573677 \\cdot 10^{-17} Γ & 0.5 J e^{- i \\left(\\frac{a k_{1}}{2} + \\frac{\\sqrt{3} a k_{2}}{6}\\right)} + 0.5 \\left(J + K\\right) e^{- i \\left(- \\frac{a k_{1}}{2} + \\frac{\\sqrt{3} a k_{2}}{6}\\right)} & 0 & 0.5 \\left(- 1.0 K + 6.12323399573677 \\cdot 10^{-17} Γ + 1.0 i Γ'\\right) e^{\\frac{\\sqrt{3} i a k_{2}}{3}}\\\\- 0.5 i Γ e^{i \\left(\\frac{a k_{1}}{2} + \\frac{\\sqrt{3} a k_{2}}{6}\\right)} + 0.5 \\left(K - i Γ'\\right) e^{i \\left(- \\frac{a k_{1}}{2} + \\frac{\\sqrt{3} a k_{2}}{6}\\right)} & 0 & 0.5 \\cdot \\left(1.0 J + 1.0 K + 6.12323399573677 \\cdot 10^{-17} Γ - 1.11022302462516 \\cdot 10^{-16} i Γ'\\right) e^{- \\frac{\\sqrt{3} i a k_{2}}{3}} & 0 & 0.5 J e^{i \\left(\\frac{a k_{1}}{2} + \\frac{\\sqrt{3} a k_{2}}{6}\\right)} + 0.5 \\left(J + K\\right) e^{i \\left(- \\frac{a k_{1}}{2} + \\frac{\\sqrt{3} a k_{2}}{6}\\right)} & - 0.5 J - 1.0 K + 0.5 h - 6.12323399573677 \\cdot 10^{-17} Γ & 0.5 \\left(- 1.0 K + 6.12323399573677 \\cdot 10^{-17} Γ + 1.0 i Γ'\\right) e^{- \\frac{\\sqrt{3} i a k_{2}}{3}} & 0\\\\0 & 0.5 \\cdot \\left(1.0 J + 1.0 K + 6.12323399573677 \\cdot 10^{-17} Γ - 1.11022302462516 \\cdot 10^{-16} i Γ'\\right) e^{\\frac{\\sqrt{3} i a k_{2}}{3}} & 0 & 0.5 \\cdot \\left(1.49975978266186 \\cdot 10^{-32} K + 1.0 i Γ + 1.22464679914735 \\cdot 10^{-16} Γ' + 1.22464679914735 \\cdot 10^{-16} i Γ'\\right) e^{- i \\left(\\frac{a k_{1}}{2} + \\frac{\\sqrt{3} a k_{2}}{6}\\right)} + 0.5 \\cdot \\left(1.0 K + 1.22464679914735 \\cdot 10^{-16} i Γ + 1.22464679914735 \\cdot 10^{-16} Γ' + 1.0 i Γ'\\right) e^{- i \\left(- \\frac{a k_{1}}{2} + \\frac{\\sqrt{3} a k_{2}}{6}\\right)} & 0 & 0.5 \\left(- 1.0 K + 6.12323399573677 \\cdot 10^{-17} Γ - 1.0 i Γ'\\right) e^{\\frac{\\sqrt{3} i a k_{2}}{3}} & - 0.5 J - 1.0 K - 0.5 h - 6.12323399573677 \\cdot 10^{-17} Γ + 2.44929359829471 \\cdot 10^{-16} Γ' & 0.5 \\cdot \\left(1.0 J + 1.49975978266186 \\cdot 10^{-32} K + 1.22464679914735 \\cdot 10^{-16} Γ'\\right) e^{- i \\left(\\frac{a k_{1}}{2} + \\frac{\\sqrt{3} a k_{2}}{6}\\right)} + 0.5 \\cdot \\left(1.0 J + 1.0 K + 1.22464679914735 \\cdot 10^{-16} Γ'\\right) e^{- i \\left(- \\frac{a k_{1}}{2} + \\frac{\\sqrt{3} a k_{2}}{6}\\right)}\\\\0.5 \\cdot \\left(1.0 J + 1.0 K + 6.12323399573677 \\cdot 10^{-17} Γ - 1.11022302462516 \\cdot 10^{-16} i Γ'\\right) e^{- \\frac{\\sqrt{3} i a k_{2}}{3}} & 0 & 0.5 \\cdot \\left(1.49975978266186 \\cdot 10^{-32} K + 1.0 i Γ + 1.22464679914735 \\cdot 10^{-16} Γ' + 1.22464679914735 \\cdot 10^{-16} i Γ'\\right) e^{i \\left(\\frac{a k_{1}}{2} + \\frac{\\sqrt{3} a k_{2}}{6}\\right)} + 0.5 \\cdot \\left(1.0 K + 1.22464679914735 \\cdot 10^{-16} i Γ + 1.22464679914735 \\cdot 10^{-16} Γ' + 1.0 i Γ'\\right) e^{i \\left(- \\frac{a k_{1}}{2} + \\frac{\\sqrt{3} a k_{2}}{6}\\right)} & 0 & 0.5 \\left(- 1.0 K + 6.12323399573677 \\cdot 10^{-17} Γ - 1.0 i Γ'\\right) e^{- \\frac{\\sqrt{3} i a k_{2}}{3}} & 0 & 0.5 \\cdot \\left(1.0 J + 1.49975978266186 \\cdot 10^{-32} K + 1.22464679914735 \\cdot 10^{-16} Γ'\\right) e^{i \\left(\\frac{a k_{1}}{2} + \\frac{\\sqrt{3} a k_{2}}{6}\\right)} + 0.5 \\cdot \\left(1.0 J + 1.0 K + 1.22464679914735 \\cdot 10^{-16} Γ'\\right) e^{i \\left(- \\frac{a k_{1}}{2} + \\frac{\\sqrt{3} a k_{2}}{6}\\right)} & - 0.5 J - 1.0 K - 0.5 h - 6.12323399573677 \\cdot 10^{-17} Γ + 2.44929359829471 \\cdot 10^{-16} Γ'\\end{matrix}\\right]$"
      ],
      "text/plain": [
       "Matrix([\n",
       "[                                                -0.5*J - 1.0*K + 0.5*h - 6.12323399573677e-17*Γ,       0.5*J*exp(-I*(a*k1/2 + sqrt(3)*a*k2/6)) + 0.5*(J + K)*exp(-I*(-a*k1/2 + sqrt(3)*a*k2/6)),                                                                                                                                                                                                                                             0,                                                                                                                                                                          0.5*(-1.0*K + 6.12323399573677e-17*Γ + 1.0*I*Γ')*exp(sqrt(3)*I*a*k2/3),                                                                                               0,  0.5*I*Γ*exp(-I*(a*k1/2 + sqrt(3)*a*k2/6)) + 0.5*(K + I*Γ')*exp(-I*(-a*k1/2 + sqrt(3)*a*k2/6)),                                                                                                                                                                                                                                             0,                                                                                                                                                  0.5*(1.0*J + 1.0*K + 6.12323399573677e-17*Γ + 1.11022302462516e-16*I*Γ')*exp(sqrt(3)*I*a*k2/3)],\n",
       "[         0.5*J*exp(I*(a*k1/2 + sqrt(3)*a*k2/6)) + 0.5*(J + K)*exp(I*(-a*k1/2 + sqrt(3)*a*k2/6)),                                                -0.5*J - 1.0*K + 0.5*h - 6.12323399573677e-17*Γ,                                                                                                                                                                       0.5*(-1.0*K + 6.12323399573677e-17*Γ + 1.0*I*Γ')*exp(-sqrt(3)*I*a*k2/3),                                                                                                                                                                                                                                               0,     0.5*I*Γ*exp(I*(a*k1/2 + sqrt(3)*a*k2/6)) + 0.5*(K + I*Γ')*exp(I*(-a*k1/2 + sqrt(3)*a*k2/6)),                                                                                              0,                                                                                                                                               0.5*(1.0*J + 1.0*K + 6.12323399573677e-17*Γ + 1.11022302462516e-16*I*Γ')*exp(-sqrt(3)*I*a*k2/3),                                                                                                                                                                                                                                               0],\n",
       "[                                                                                              0,                         0.5*(-1.0*K + 6.12323399573677e-17*Γ - 1.0*I*Γ')*exp(sqrt(3)*I*a*k2/3),                                                                                                                                                                     -0.5*J - 1.0*K - 0.5*h - 6.12323399573677e-17*Γ + 2.44929359829471e-16*Γ',                                                             0.5*(1.0*J + 1.49975978266186e-32*K + 1.22464679914735e-16*Γ')*exp(-I*(a*k1/2 + sqrt(3)*a*k2/6)) + 0.5*(1.0*J + 1.0*K + 1.22464679914735e-16*Γ')*exp(-I*(-a*k1/2 + sqrt(3)*a*k2/6)),                                                                                               0, 0.5*(1.0*J + 1.0*K + 6.12323399573677e-17*Γ + 1.11022302462516e-16*I*Γ')*exp(sqrt(3)*I*a*k2/3),                                                                                                                                                                                                                                             0, 0.5*(1.49975978266186e-32*K - 1.0*I*Γ + 1.22464679914735e-16*Γ' - 1.22464679914735e-16*I*Γ')*exp(-I*(a*k1/2 + sqrt(3)*a*k2/6)) + 0.5*(1.0*K - 1.22464679914735e-16*I*Γ + 1.22464679914735e-16*Γ' - 1.0*I*Γ')*exp(-I*(-a*k1/2 + sqrt(3)*a*k2/6))],\n",
       "[                        0.5*(-1.0*K + 6.12323399573677e-17*Γ - 1.0*I*Γ')*exp(-sqrt(3)*I*a*k2/3),                                                                                              0,                                                             0.5*(1.0*J + 1.49975978266186e-32*K + 1.22464679914735e-16*Γ')*exp(I*(a*k1/2 + sqrt(3)*a*k2/6)) + 0.5*(1.0*J + 1.0*K + 1.22464679914735e-16*Γ')*exp(I*(-a*k1/2 + sqrt(3)*a*k2/6)),                                                                                                                                                                       -0.5*J - 1.0*K - 0.5*h - 6.12323399573677e-17*Γ + 2.44929359829471e-16*Γ', 0.5*(1.0*J + 1.0*K + 6.12323399573677e-17*Γ + 1.11022302462516e-16*I*Γ')*exp(-sqrt(3)*I*a*k2/3),                                                                                              0, 0.5*(1.49975978266186e-32*K - 1.0*I*Γ + 1.22464679914735e-16*Γ' - 1.22464679914735e-16*I*Γ')*exp(I*(a*k1/2 + sqrt(3)*a*k2/6)) + 0.5*(1.0*K - 1.22464679914735e-16*I*Γ + 1.22464679914735e-16*Γ' - 1.0*I*Γ')*exp(I*(-a*k1/2 + sqrt(3)*a*k2/6)),                                                                                                                                                                                                                                               0],\n",
       "[                                                                                              0, -0.5*I*Γ*exp(-I*(a*k1/2 + sqrt(3)*a*k2/6)) + 0.5*(K - I*Γ')*exp(-I*(-a*k1/2 + sqrt(3)*a*k2/6)),                                                                                                                                                                                                                                             0,                                                                                                                                                  0.5*(1.0*J + 1.0*K + 6.12323399573677e-17*Γ - 1.11022302462516e-16*I*Γ')*exp(sqrt(3)*I*a*k2/3),                                                 -0.5*J - 1.0*K + 0.5*h - 6.12323399573677e-17*Γ,       0.5*J*exp(-I*(a*k1/2 + sqrt(3)*a*k2/6)) + 0.5*(J + K)*exp(-I*(-a*k1/2 + sqrt(3)*a*k2/6)),                                                                                                                                                                                                                                             0,                                                                                                                                                                          0.5*(-1.0*K + 6.12323399573677e-17*Γ + 1.0*I*Γ')*exp(sqrt(3)*I*a*k2/3)],\n",
       "[   -0.5*I*Γ*exp(I*(a*k1/2 + sqrt(3)*a*k2/6)) + 0.5*(K - I*Γ')*exp(I*(-a*k1/2 + sqrt(3)*a*k2/6)),                                                                                              0,                                                                                                                                               0.5*(1.0*J + 1.0*K + 6.12323399573677e-17*Γ - 1.11022302462516e-16*I*Γ')*exp(-sqrt(3)*I*a*k2/3),                                                                                                                                                                                                                                               0,          0.5*J*exp(I*(a*k1/2 + sqrt(3)*a*k2/6)) + 0.5*(J + K)*exp(I*(-a*k1/2 + sqrt(3)*a*k2/6)),                                                -0.5*J - 1.0*K + 0.5*h - 6.12323399573677e-17*Γ,                                                                                                                                                                       0.5*(-1.0*K + 6.12323399573677e-17*Γ + 1.0*I*Γ')*exp(-sqrt(3)*I*a*k2/3),                                                                                                                                                                                                                                               0],\n",
       "[                                                                                              0, 0.5*(1.0*J + 1.0*K + 6.12323399573677e-17*Γ - 1.11022302462516e-16*I*Γ')*exp(sqrt(3)*I*a*k2/3),                                                                                                                                                                                                                                             0, 0.5*(1.49975978266186e-32*K + 1.0*I*Γ + 1.22464679914735e-16*Γ' + 1.22464679914735e-16*I*Γ')*exp(-I*(a*k1/2 + sqrt(3)*a*k2/6)) + 0.5*(1.0*K + 1.22464679914735e-16*I*Γ + 1.22464679914735e-16*Γ' + 1.0*I*Γ')*exp(-I*(-a*k1/2 + sqrt(3)*a*k2/6)),                                                                                               0,                         0.5*(-1.0*K + 6.12323399573677e-17*Γ - 1.0*I*Γ')*exp(sqrt(3)*I*a*k2/3),                                                                                                                                                                     -0.5*J - 1.0*K - 0.5*h - 6.12323399573677e-17*Γ + 2.44929359829471e-16*Γ',                                                             0.5*(1.0*J + 1.49975978266186e-32*K + 1.22464679914735e-16*Γ')*exp(-I*(a*k1/2 + sqrt(3)*a*k2/6)) + 0.5*(1.0*J + 1.0*K + 1.22464679914735e-16*Γ')*exp(-I*(-a*k1/2 + sqrt(3)*a*k2/6))],\n",
       "[0.5*(1.0*J + 1.0*K + 6.12323399573677e-17*Γ - 1.11022302462516e-16*I*Γ')*exp(-sqrt(3)*I*a*k2/3),                                                                                              0, 0.5*(1.49975978266186e-32*K + 1.0*I*Γ + 1.22464679914735e-16*Γ' + 1.22464679914735e-16*I*Γ')*exp(I*(a*k1/2 + sqrt(3)*a*k2/6)) + 0.5*(1.0*K + 1.22464679914735e-16*I*Γ + 1.22464679914735e-16*Γ' + 1.0*I*Γ')*exp(I*(-a*k1/2 + sqrt(3)*a*k2/6)),                                                                                                                                                                                                                                               0,                         0.5*(-1.0*K + 6.12323399573677e-17*Γ - 1.0*I*Γ')*exp(-sqrt(3)*I*a*k2/3),                                                                                              0,                                                             0.5*(1.0*J + 1.49975978266186e-32*K + 1.22464679914735e-16*Γ')*exp(I*(a*k1/2 + sqrt(3)*a*k2/6)) + 0.5*(1.0*J + 1.0*K + 1.22464679914735e-16*Γ')*exp(I*(-a*k1/2 + sqrt(3)*a*k2/6)),                                                                                                                                                                       -0.5*J - 1.0*K - 0.5*h - 6.12323399573677e-17*Γ + 2.44929359829471e-16*Γ']])"
      ]
     },
     "execution_count": 30,
     "metadata": {},
     "output_type": "execute_result"
    }
   ],
   "source": [
    "Hlsw"
   ]
  },
  {
   "cell_type": "code",
   "execution_count": 31,
   "metadata": {
    "scrolled": true
   },
   "outputs": [
    {
     "data": {
      "text/latex": [
       "$\\displaystyle \\left[\\begin{matrix}- 0.5 h + 0.5 \\overline{h} & 0 & 0 & 0 & 0 & 0 & 0 & 0\\\\0 & - 0.5 h + 0.5 \\overline{h} & 0 & 0 & 0 & 0 & 0 & 0\\\\0 & 0 & 0.5 h - 0.5 \\overline{h} & 0 & 0 & 0 & 0 & 0\\\\0 & 0 & 0 & 0.5 h - 0.5 \\overline{h} & 0 & 0 & 0 & 0\\\\0 & 0 & 0 & 0 & - 0.5 h + 0.5 \\overline{h} & 0 & 0 & 0\\\\0 & 0 & 0 & 0 & 0 & - 0.5 h + 0.5 \\overline{h} & 0 & 0\\\\0 & 0 & 0 & 0 & 0 & 0 & 0.5 h - 0.5 \\overline{h} & 0\\\\0 & 0 & 0 & 0 & 0 & 0 & 0 & 0.5 h - 0.5 \\overline{h}\\end{matrix}\\right]$"
      ],
      "text/plain": [
       "Matrix([\n",
       "[-0.5*h + 0.5*conjugate(h),                         0,                        0,                        0,                         0,                         0,                        0,                        0],\n",
       "[                        0, -0.5*h + 0.5*conjugate(h),                        0,                        0,                         0,                         0,                        0,                        0],\n",
       "[                        0,                         0, 0.5*h - 0.5*conjugate(h),                        0,                         0,                         0,                        0,                        0],\n",
       "[                        0,                         0,                        0, 0.5*h - 0.5*conjugate(h),                         0,                         0,                        0,                        0],\n",
       "[                        0,                         0,                        0,                        0, -0.5*h + 0.5*conjugate(h),                         0,                        0,                        0],\n",
       "[                        0,                         0,                        0,                        0,                         0, -0.5*h + 0.5*conjugate(h),                        0,                        0],\n",
       "[                        0,                         0,                        0,                        0,                         0,                         0, 0.5*h - 0.5*conjugate(h),                        0],\n",
       "[                        0,                         0,                        0,                        0,                         0,                         0,                        0, 0.5*h - 0.5*conjugate(h)]])"
      ]
     },
     "execution_count": 31,
     "metadata": {},
     "output_type": "execute_result"
    }
   ],
   "source": [
    "sp.transpose(sp.conjugate(Hlsw))-Hlsw"
   ]
  },
  {
   "cell_type": "code",
   "execution_count": 32,
   "metadata": {},
   "outputs": [],
   "source": [
    "Hlsw_rucl3 = Hlsw"
   ]
  },
  {
   "cell_type": "markdown",
   "metadata": {},
   "source": [
    "# ADD J2, J3"
   ]
  },
  {
   "cell_type": "markdown",
   "metadata": {},
   "source": [
    "## J3"
   ]
  },
  {
   "cell_type": "code",
   "execution_count": 40,
   "metadata": {},
   "outputs": [],
   "source": [
    "J3 = sp.Symbol(\"J3\", real=True)\n",
    "#####################################################################\n",
    "# up-down couplings\n",
    "Hberg_ud = V1 * sp.Transpose(W1) + V2 * sp.Transpose(W2) + V3 * sp.Transpose(W3)\n",
    "\n",
    "H_J3 = J3*Hberg_ud\n",
    "\n",
    "HP_J3_ud = sp.Integer(0)\n",
    "\n",
    "i = 0\n",
    "while i < 3:\n",
    "    j = 0\n",
    "    while j < 3:\n",
    "        HP_J3_ud = HP_J3_ud + H_J3[i, j] * HPbosons[i, j]\n",
    "        j += 1\n",
    "    i += 1\n",
    "\n",
    "HP_J3_ud = HP_J3_ud.expand()\n",
    "\n",
    "Coef_HPJ3_ud = sp.Matrix([o, o, o, o, o, o])\n",
    "Coef_HPJ3_ud[0, 0] = HP_J3_ud.coeff(e)\n",
    "Coef_HPJ3_ud[1, 0] = HP_J3_ud.coeff(f)\n",
    "Coef_HPJ3_ud[2, 0] = HP_J3_ud.coeff(g)\n",
    "Coef_HPJ3_ud[3, 0] = HP_J3_ud.coeff(h)\n",
    "Coef_HPJ3_ud[4, 0] = HP_J3_ud.coeff(n_i)\n",
    "Coef_HPJ3_ud[5, 0] = HP_J3_ud.coeff(n_j)\n",
    "\n",
    "Mat_Coef_HPJ3_ud = sp.Matrix([\n",
    "    [Coef_HPJ3_ud[4, 0], Coef_HPJ3_ud[2, 0], o, Coef_HPJ3_ud[3, 0]],\n",
    "    [Coef_HPJ3_ud[1, 0], Coef_HPJ3_ud[5, 0], Coef_HPJ3_ud[3, 0], o],\n",
    "    [o, Coef_HPJ3_ud[0, 0], Coef_HPJ3_ud[5, 0], Coef_HPJ3_ud[2, 0]],\n",
    "    [Coef_HPJ3_ud[0, 0], o, Coef_HPJ3_ud[1, 0], Coef_HPJ3_ud[4, 0]]\n",
    "    ])"
   ]
  },
  {
   "cell_type": "code",
   "execution_count": 41,
   "metadata": {},
   "outputs": [],
   "source": [
    "# Fourier transform\n",
    "deltaX = 2*a / sp.sqrt(3) * sp.Matrix([-sp.sqrt(3) / 2, 1 / sp.Integer(2)])\n",
    "deltaY = 2*a / sp.sqrt(3) * sp.Matrix([sp.Integer(0), sp.Integer(-1)])\n",
    "deltaZ = 2*a / sp.sqrt(3) * sp.Matrix([sp.sqrt(3) / 2, 1 / sp.Integer(2)])\n",
    "\n",
    "sx = sp.exp(I * k.dot(deltaX))\n",
    "sy = sp.exp(I * k.dot(deltaY))\n",
    "sz = sp.exp(I * k.dot(deltaZ))\n",
    "tx = sp.exp(-I * k.dot(deltaX))\n",
    "ty = sp.exp(-I * k.dot(deltaY))\n",
    "tz = sp.exp(-I * k.dot(deltaZ))\n",
    "\n",
    "FT_Coef_X = sp.Matrix([[ii, sx, o, sx], [tx, ii, tx, o], [o, sx, ii, sx], [tx, o,\n",
    "                                                                               tx, ii]])\n",
    "FT_Coef_Y = sp.Matrix([[ii, sy, o, sy], [ty, ii, ty, o], [o, sy, ii, sy], [ty, o,\n",
    "                                                                               ty, ii]])\n",
    "FT_Coef_Z = sp.Matrix([[ii, sz, o, sz], [tz, ii, tz, o], [o, sz, ii, sz], [tz, o,\n",
    "                                                                               tz, ii]])"
   ]
  },
  {
   "cell_type": "code",
   "execution_count": 42,
   "metadata": {},
   "outputs": [],
   "source": [
    "Hlsw_J2J3 = sp.zeros(8, 8)"
   ]
  },
  {
   "cell_type": "code",
   "execution_count": 43,
   "metadata": {
    "scrolled": false
   },
   "outputs": [
    {
     "data": {
      "text/latex": [
       "$\\displaystyle \\left[\\begin{matrix}3.0 J_{3} & 0 & 0 & 1.0 J_{3} \\left(e^{i \\left(- a k_{1} + \\frac{\\sqrt{3} a k_{2}}{3}\\right)} + e^{i \\left(a k_{1} + \\frac{\\sqrt{3} a k_{2}}{3}\\right)} + e^{- \\frac{2 \\sqrt{3} i a k_{2}}{3}}\\right)\\\\0 & 3.0 J_{3} & 1.0 J_{3} \\left(e^{\\frac{2 \\sqrt{3} i a k_{2}}{3}} + e^{- i \\left(a k_{1} + \\frac{\\sqrt{3} a k_{2}}{3}\\right)} + e^{- i \\left(- a k_{1} + \\frac{\\sqrt{3} a k_{2}}{3}\\right)}\\right) & 0\\\\0 & 1.0 J_{3} \\left(e^{i \\left(- a k_{1} + \\frac{\\sqrt{3} a k_{2}}{3}\\right)} + e^{i \\left(a k_{1} + \\frac{\\sqrt{3} a k_{2}}{3}\\right)} + e^{- \\frac{2 \\sqrt{3} i a k_{2}}{3}}\\right) & 3.0 J_{3} & 0\\\\1.0 J_{3} \\left(e^{\\frac{2 \\sqrt{3} i a k_{2}}{3}} + e^{- i \\left(a k_{1} + \\frac{\\sqrt{3} a k_{2}}{3}\\right)} + e^{- i \\left(- a k_{1} + \\frac{\\sqrt{3} a k_{2}}{3}\\right)}\\right) & 0 & 0 & 3.0 J_{3}\\end{matrix}\\right]$"
      ],
      "text/plain": [
       "Matrix([\n",
       "[                                                                                               3.0*J3,                                                                                                    0,                                                                                                     0, 1.0*J3*(exp(I*(-a*k1 + sqrt(3)*a*k2/3)) + exp(I*(a*k1 + sqrt(3)*a*k2/3)) + exp(-2*sqrt(3)*I*a*k2/3))],\n",
       "[                                                                                                    0,                                                                                               3.0*J3, 1.0*J3*(exp(2*sqrt(3)*I*a*k2/3) + exp(-I*(a*k1 + sqrt(3)*a*k2/3)) + exp(-I*(-a*k1 + sqrt(3)*a*k2/3))),                                                                                                    0],\n",
       "[                                                                                                    0, 1.0*J3*(exp(I*(-a*k1 + sqrt(3)*a*k2/3)) + exp(I*(a*k1 + sqrt(3)*a*k2/3)) + exp(-2*sqrt(3)*I*a*k2/3)),                                                                                                3.0*J3,                                                                                                    0],\n",
       "[1.0*J3*(exp(2*sqrt(3)*I*a*k2/3) + exp(-I*(a*k1 + sqrt(3)*a*k2/3)) + exp(-I*(-a*k1 + sqrt(3)*a*k2/3))),                                                                                                    0,                                                                                                     0,                                                                                               3.0*J3]])"
      ]
     },
     "execution_count": 43,
     "metadata": {},
     "output_type": "execute_result"
    }
   ],
   "source": [
    "# up-down J3 bonds\n",
    "HlswTwoSub = sp.Matrix([[o, o, o, o], [o, o, o, o], [o, o, o, o], [o, o, o, o]])\n",
    "FT = FT_Coef_X + FT_Coef_Y + FT_Coef_Z\n",
    "\n",
    "i = 0\n",
    "while i < 4:\n",
    "    j = 0\n",
    "    while j < 4:\n",
    "        HlswTwoSub[i, j] = Mat_Coef_HPJ3_ud[i, j] * FT[i, j]\n",
    "        j += 1\n",
    "    i += 1\n",
    "\n",
    "distri224(Hlsw_J2J3, HlswTwoSub, 0, 3)\n",
    "HlswTwoSub"
   ]
  },
  {
   "cell_type": "code",
   "execution_count": 44,
   "metadata": {},
   "outputs": [],
   "source": [
    "J3 = sp.Symbol(\"J3\", real=True)\n",
    "#####################################################################\n",
    "# up-down couplings\n",
    "Hberg_ud = W1 * sp.Transpose(V1) + W2 * sp.Transpose(V2) + W3 * sp.Transpose(V3)\n",
    "\n",
    "H_J3 = J3*Hberg_ud\n",
    "\n",
    "HP_J3_ud = sp.Integer(0)\n",
    "\n",
    "i = 0\n",
    "while i < 3:\n",
    "    j = 0\n",
    "    while j < 3:\n",
    "        HP_J3_ud = HP_J3_ud + H_J3[i, j] * HPbosons[i, j]\n",
    "        j += 1\n",
    "    i += 1\n",
    "\n",
    "HP_J3_ud = HP_J3_ud.expand()\n",
    "\n",
    "Coef_HPJ3_ud = sp.Matrix([o, o, o, o, o, o])\n",
    "Coef_HPJ3_ud[0, 0] = HP_J3_ud.coeff(e)\n",
    "Coef_HPJ3_ud[1, 0] = HP_J3_ud.coeff(f)\n",
    "Coef_HPJ3_ud[2, 0] = HP_J3_ud.coeff(g)\n",
    "Coef_HPJ3_ud[3, 0] = HP_J3_ud.coeff(h)\n",
    "Coef_HPJ3_ud[4, 0] = HP_J3_ud.coeff(n_i)\n",
    "Coef_HPJ3_ud[5, 0] = HP_J3_ud.coeff(n_j)\n",
    "\n",
    "Mat_Coef_HPJ3_ud = sp.Matrix([\n",
    "    [Coef_HPJ3_ud[4, 0], Coef_HPJ3_ud[2, 0], o, Coef_HPJ3_ud[3, 0]],\n",
    "    [Coef_HPJ3_ud[1, 0], Coef_HPJ3_ud[5, 0], Coef_HPJ3_ud[3, 0], o],\n",
    "    [o, Coef_HPJ3_ud[0, 0], Coef_HPJ3_ud[5, 0], Coef_HPJ3_ud[2, 0]],\n",
    "    [Coef_HPJ3_ud[0, 0], o, Coef_HPJ3_ud[1, 0], Coef_HPJ3_ud[4, 0]]\n",
    "    ])"
   ]
  },
  {
   "cell_type": "code",
   "execution_count": 45,
   "metadata": {},
   "outputs": [
    {
     "data": {
      "text/latex": [
       "$\\displaystyle \\left[\\begin{matrix}3.0 J_{3} & 0 & 0 & 1.0 J_{3} \\left(e^{i \\left(- a k_{1} + \\frac{\\sqrt{3} a k_{2}}{3}\\right)} + e^{i \\left(a k_{1} + \\frac{\\sqrt{3} a k_{2}}{3}\\right)} + e^{- \\frac{2 \\sqrt{3} i a k_{2}}{3}}\\right)\\\\0 & 3.0 J_{3} & 1.0 J_{3} \\left(e^{\\frac{2 \\sqrt{3} i a k_{2}}{3}} + e^{- i \\left(a k_{1} + \\frac{\\sqrt{3} a k_{2}}{3}\\right)} + e^{- i \\left(- a k_{1} + \\frac{\\sqrt{3} a k_{2}}{3}\\right)}\\right) & 0\\\\0 & 1.0 J_{3} \\left(e^{i \\left(- a k_{1} + \\frac{\\sqrt{3} a k_{2}}{3}\\right)} + e^{i \\left(a k_{1} + \\frac{\\sqrt{3} a k_{2}}{3}\\right)} + e^{- \\frac{2 \\sqrt{3} i a k_{2}}{3}}\\right) & 3.0 J_{3} & 0\\\\1.0 J_{3} \\left(e^{\\frac{2 \\sqrt{3} i a k_{2}}{3}} + e^{- i \\left(a k_{1} + \\frac{\\sqrt{3} a k_{2}}{3}\\right)} + e^{- i \\left(- a k_{1} + \\frac{\\sqrt{3} a k_{2}}{3}\\right)}\\right) & 0 & 0 & 3.0 J_{3}\\end{matrix}\\right]$"
      ],
      "text/plain": [
       "Matrix([\n",
       "[                                                                                               3.0*J3,                                                                                                    0,                                                                                                     0, 1.0*J3*(exp(I*(-a*k1 + sqrt(3)*a*k2/3)) + exp(I*(a*k1 + sqrt(3)*a*k2/3)) + exp(-2*sqrt(3)*I*a*k2/3))],\n",
       "[                                                                                                    0,                                                                                               3.0*J3, 1.0*J3*(exp(2*sqrt(3)*I*a*k2/3) + exp(-I*(a*k1 + sqrt(3)*a*k2/3)) + exp(-I*(-a*k1 + sqrt(3)*a*k2/3))),                                                                                                    0],\n",
       "[                                                                                                    0, 1.0*J3*(exp(I*(-a*k1 + sqrt(3)*a*k2/3)) + exp(I*(a*k1 + sqrt(3)*a*k2/3)) + exp(-2*sqrt(3)*I*a*k2/3)),                                                                                                3.0*J3,                                                                                                    0],\n",
       "[1.0*J3*(exp(2*sqrt(3)*I*a*k2/3) + exp(-I*(a*k1 + sqrt(3)*a*k2/3)) + exp(-I*(-a*k1 + sqrt(3)*a*k2/3))),                                                                                                    0,                                                                                                     0,                                                                                               3.0*J3]])"
      ]
     },
     "execution_count": 45,
     "metadata": {},
     "output_type": "execute_result"
    }
   ],
   "source": [
    "# down-up J3 bonds\n",
    "HlswTwoSub = sp.Matrix([[o, o, o, o], [o, o, o, o], [o, o, o, o], [o, o, o, o]])\n",
    "FT = FT_Coef_X + FT_Coef_Y + FT_Coef_Z\n",
    "\n",
    "i = 0\n",
    "while i < 4:\n",
    "    j = 0\n",
    "    while j < 4:\n",
    "        HlswTwoSub[i, j] = Mat_Coef_HPJ3_ud[i, j] * FT[i, j]\n",
    "        j += 1\n",
    "    i += 1\n",
    "\n",
    "distri224(Hlsw_J2J3, HlswTwoSub, 1, 2)\n",
    "HlswTwoSub"
   ]
  },
  {
   "cell_type": "markdown",
   "metadata": {},
   "source": [
    "## J2"
   ]
  },
  {
   "cell_type": "code",
   "execution_count": 46,
   "metadata": {},
   "outputs": [],
   "source": [
    "J2 = sp.Symbol(\"J2\", real=True)\n",
    "#####################################################################\n",
    "# up-down couplings\n",
    "Hberg_ud = V1 * sp.Transpose(W1) + V2 * sp.Transpose(W2) + V3 * sp.Transpose(W3)\n",
    "\n",
    "H_J2 = J2*Hberg_ud\n",
    "\n",
    "HP_J2_ud = sp.Integer(0)\n",
    "\n",
    "i = 0\n",
    "while i < 3:\n",
    "    j = 0\n",
    "    while j < 3:\n",
    "        HP_J2_ud = HP_J2_ud + H_J2[i, j] * HPbosons[i, j]\n",
    "        j += 1\n",
    "    i += 1\n",
    "\n",
    "HP_J2_ud = HP_J2_ud.expand()\n",
    "\n",
    "Coef_HPJ2_ud = sp.Matrix([o, o, o, o, o, o])\n",
    "Coef_HPJ2_ud[0, 0] = HP_J2_ud.coeff(e)\n",
    "Coef_HPJ2_ud[1, 0] = HP_J2_ud.coeff(f)\n",
    "Coef_HPJ2_ud[2, 0] = HP_J2_ud.coeff(g)\n",
    "Coef_HPJ2_ud[3, 0] = HP_J2_ud.coeff(h)\n",
    "Coef_HPJ2_ud[4, 0] = HP_J2_ud.coeff(n_i)\n",
    "Coef_HPJ2_ud[5, 0] = HP_J2_ud.coeff(n_j)\n",
    "\n",
    "Mat_Coef_HPJ2_ud = sp.Matrix([\n",
    "    [Coef_HPJ2_ud[4, 0], Coef_HPJ2_ud[2, 0], o, Coef_HPJ2_ud[3, 0]],\n",
    "    [Coef_HPJ2_ud[1, 0], Coef_HPJ2_ud[5, 0], Coef_HPJ2_ud[3, 0], o],\n",
    "    [o, Coef_HPJ2_ud[0, 0], Coef_HPJ2_ud[5, 0], Coef_HPJ2_ud[2, 0]],\n",
    "    [Coef_HPJ2_ud[0, 0], o, Coef_HPJ2_ud[1, 0], Coef_HPJ2_ud[4, 0]]\n",
    "    ])"
   ]
  },
  {
   "cell_type": "code",
   "execution_count": 47,
   "metadata": {},
   "outputs": [],
   "source": [
    "# Fourier transform\n",
    "delta1 = a * sp.Matrix([1,0])\n",
    "delta2 = a * sp.Matrix([-1,0])\n",
    "delta3 = a * sp.Matrix([1 / 2, sp.sqrt(3) / sp.Integer(2)])\n",
    "delta4 = a * sp.Matrix([-1 / 2, sp.sqrt(3) / sp.Integer(2)])\n",
    "delta5 = a * sp.Matrix([-1 / 2, -sp.sqrt(3) / sp.Integer(2)])\n",
    "delta6 = a * sp.Matrix([1 / 2, -sp.sqrt(3) / sp.Integer(2)])\n",
    "\n",
    "s1 = sp.exp(I * k.dot(delta1))\n",
    "s2 = sp.exp(I * k.dot(delta2))\n",
    "s3 = sp.exp(I * k.dot(delta3))\n",
    "s4 = sp.exp(I * k.dot(delta4))\n",
    "s5 = sp.exp(I * k.dot(delta5))\n",
    "s6 = sp.exp(I * k.dot(delta6))\n",
    "\n",
    "t1 = sp.exp(-I * k.dot(delta1))\n",
    "t2 = sp.exp(-I * k.dot(delta2))\n",
    "t3 = sp.exp(-I * k.dot(delta3))\n",
    "t4 = sp.exp(-I * k.dot(delta4))\n",
    "t5 = sp.exp(-I * k.dot(delta5))\n",
    "t6 = sp.exp(-I * k.dot(delta6))\n",
    "\n",
    "FT_1 = sp.Matrix([[ii, s1, o, s1], [t1, ii, t1, o], [o, s1, ii, s1], [t1, o, t1, ii]])\n",
    "FT_12 = sp.Matrix([[ii*2, s1+s2, o, s1+s2], [t1+t2, ii*2, t1+t2, o], [o, s1+s2, ii*2, s1+s2], [t1+t2, o, t1+t2, ii*2]])\n",
    "FT_3456 = sp.Matrix([[ii*4, s3+s4+s5+s6, o, s3+s4+s5+s6], [t3+t4+t5+t6, ii*4, t3+t4+t5+t6, o], [o, s3+s4+s5+s6, ii*4, s3+s4+s5+s6], [t3+t4+t5+t6, o, t3+t4+t5+t6, ii*4]])"
   ]
  },
  {
   "cell_type": "code",
   "execution_count": 48,
   "metadata": {
    "scrolled": true
   },
   "outputs": [
    {
     "data": {
      "text/latex": [
       "$\\displaystyle \\left[\\begin{matrix}4.0 J_{2} & 0 & 0 & 1.0 J_{2} \\left(e^{i \\left(- 0.5 a k_{1} - \\frac{\\sqrt{3} a k_{2}}{2}\\right)} + e^{i \\left(- 0.5 a k_{1} + \\frac{\\sqrt{3} a k_{2}}{2}\\right)} + e^{i \\left(0.5 a k_{1} - \\frac{\\sqrt{3} a k_{2}}{2}\\right)} + e^{i \\left(0.5 a k_{1} + \\frac{\\sqrt{3} a k_{2}}{2}\\right)}\\right)\\\\0 & 4.0 J_{2} & 1.0 J_{2} \\left(e^{- i \\left(0.5 a k_{1} + \\frac{\\sqrt{3} a k_{2}}{2}\\right)} + e^{- i \\left(0.5 a k_{1} - \\frac{\\sqrt{3} a k_{2}}{2}\\right)} + e^{- i \\left(- 0.5 a k_{1} + \\frac{\\sqrt{3} a k_{2}}{2}\\right)} + e^{- i \\left(- 0.5 a k_{1} - \\frac{\\sqrt{3} a k_{2}}{2}\\right)}\\right) & 0\\\\0 & 1.0 J_{2} \\left(e^{i \\left(- 0.5 a k_{1} - \\frac{\\sqrt{3} a k_{2}}{2}\\right)} + e^{i \\left(- 0.5 a k_{1} + \\frac{\\sqrt{3} a k_{2}}{2}\\right)} + e^{i \\left(0.5 a k_{1} - \\frac{\\sqrt{3} a k_{2}}{2}\\right)} + e^{i \\left(0.5 a k_{1} + \\frac{\\sqrt{3} a k_{2}}{2}\\right)}\\right) & 4.0 J_{2} & 0\\\\1.0 J_{2} \\left(e^{- i \\left(0.5 a k_{1} + \\frac{\\sqrt{3} a k_{2}}{2}\\right)} + e^{- i \\left(0.5 a k_{1} - \\frac{\\sqrt{3} a k_{2}}{2}\\right)} + e^{- i \\left(- 0.5 a k_{1} + \\frac{\\sqrt{3} a k_{2}}{2}\\right)} + e^{- i \\left(- 0.5 a k_{1} - \\frac{\\sqrt{3} a k_{2}}{2}\\right)}\\right) & 0 & 0 & 4.0 J_{2}\\end{matrix}\\right]$"
      ],
      "text/plain": [
       "Matrix([\n",
       "[                                                                                                                                                          4.0*J2,                                                                                                                                                            0,                                                                                                                                                                0, 1.0*J2*(exp(I*(-0.5*a*k1 - sqrt(3)*a*k2/2)) + exp(I*(-0.5*a*k1 + sqrt(3)*a*k2/2)) + exp(I*(0.5*a*k1 - sqrt(3)*a*k2/2)) + exp(I*(0.5*a*k1 + sqrt(3)*a*k2/2)))],\n",
       "[                                                                                                                                                               0,                                                                                                                                                       4.0*J2, 1.0*J2*(exp(-I*(0.5*a*k1 + sqrt(3)*a*k2/2)) + exp(-I*(0.5*a*k1 - sqrt(3)*a*k2/2)) + exp(-I*(-0.5*a*k1 + sqrt(3)*a*k2/2)) + exp(-I*(-0.5*a*k1 - sqrt(3)*a*k2/2))),                                                                                                                                                            0],\n",
       "[                                                                                                                                                               0, 1.0*J2*(exp(I*(-0.5*a*k1 - sqrt(3)*a*k2/2)) + exp(I*(-0.5*a*k1 + sqrt(3)*a*k2/2)) + exp(I*(0.5*a*k1 - sqrt(3)*a*k2/2)) + exp(I*(0.5*a*k1 + sqrt(3)*a*k2/2))),                                                                                                                                                           4.0*J2,                                                                                                                                                            0],\n",
       "[1.0*J2*(exp(-I*(0.5*a*k1 + sqrt(3)*a*k2/2)) + exp(-I*(0.5*a*k1 - sqrt(3)*a*k2/2)) + exp(-I*(-0.5*a*k1 + sqrt(3)*a*k2/2)) + exp(-I*(-0.5*a*k1 - sqrt(3)*a*k2/2))),                                                                                                                                                            0,                                                                                                                                                                0,                                                                                                                                                       4.0*J2]])"
      ]
     },
     "execution_count": 48,
     "metadata": {},
     "output_type": "execute_result"
    }
   ],
   "source": [
    "# up-down J2 bonds\n",
    "HlswTwoSub = sp.Matrix([[o, o, o, o], [o, o, o, o], [o, o, o, o], [o, o, o, o]])\n",
    "\n",
    "i = 0\n",
    "while i < 4:\n",
    "    j = 0\n",
    "    while j < 4:\n",
    "        HlswTwoSub[i, j] = Mat_Coef_HPJ2_ud[i, j] * FT_3456[i, j]\n",
    "        j += 1\n",
    "    i += 1\n",
    "\n",
    "distri224(Hlsw_J2J3, HlswTwoSub, 0, 2)\n",
    "HlswTwoSub"
   ]
  },
  {
   "cell_type": "code",
   "execution_count": 49,
   "metadata": {},
   "outputs": [
    {
     "data": {
      "text/latex": [
       "$\\displaystyle \\left[\\begin{matrix}4.0 J_{2} & 0 & 0 & 1.0 J_{2} \\left(e^{i \\left(- 0.5 a k_{1} - \\frac{\\sqrt{3} a k_{2}}{2}\\right)} + e^{i \\left(- 0.5 a k_{1} + \\frac{\\sqrt{3} a k_{2}}{2}\\right)} + e^{i \\left(0.5 a k_{1} - \\frac{\\sqrt{3} a k_{2}}{2}\\right)} + e^{i \\left(0.5 a k_{1} + \\frac{\\sqrt{3} a k_{2}}{2}\\right)}\\right)\\\\0 & 4.0 J_{2} & 1.0 J_{2} \\left(e^{- i \\left(0.5 a k_{1} + \\frac{\\sqrt{3} a k_{2}}{2}\\right)} + e^{- i \\left(0.5 a k_{1} - \\frac{\\sqrt{3} a k_{2}}{2}\\right)} + e^{- i \\left(- 0.5 a k_{1} + \\frac{\\sqrt{3} a k_{2}}{2}\\right)} + e^{- i \\left(- 0.5 a k_{1} - \\frac{\\sqrt{3} a k_{2}}{2}\\right)}\\right) & 0\\\\0 & 1.0 J_{2} \\left(e^{i \\left(- 0.5 a k_{1} - \\frac{\\sqrt{3} a k_{2}}{2}\\right)} + e^{i \\left(- 0.5 a k_{1} + \\frac{\\sqrt{3} a k_{2}}{2}\\right)} + e^{i \\left(0.5 a k_{1} - \\frac{\\sqrt{3} a k_{2}}{2}\\right)} + e^{i \\left(0.5 a k_{1} + \\frac{\\sqrt{3} a k_{2}}{2}\\right)}\\right) & 4.0 J_{2} & 0\\\\1.0 J_{2} \\left(e^{- i \\left(0.5 a k_{1} + \\frac{\\sqrt{3} a k_{2}}{2}\\right)} + e^{- i \\left(0.5 a k_{1} - \\frac{\\sqrt{3} a k_{2}}{2}\\right)} + e^{- i \\left(- 0.5 a k_{1} + \\frac{\\sqrt{3} a k_{2}}{2}\\right)} + e^{- i \\left(- 0.5 a k_{1} - \\frac{\\sqrt{3} a k_{2}}{2}\\right)}\\right) & 0 & 0 & 4.0 J_{2}\\end{matrix}\\right]$"
      ],
      "text/plain": [
       "Matrix([\n",
       "[                                                                                                                                                          4.0*J2,                                                                                                                                                            0,                                                                                                                                                                0, 1.0*J2*(exp(I*(-0.5*a*k1 - sqrt(3)*a*k2/2)) + exp(I*(-0.5*a*k1 + sqrt(3)*a*k2/2)) + exp(I*(0.5*a*k1 - sqrt(3)*a*k2/2)) + exp(I*(0.5*a*k1 + sqrt(3)*a*k2/2)))],\n",
       "[                                                                                                                                                               0,                                                                                                                                                       4.0*J2, 1.0*J2*(exp(-I*(0.5*a*k1 + sqrt(3)*a*k2/2)) + exp(-I*(0.5*a*k1 - sqrt(3)*a*k2/2)) + exp(-I*(-0.5*a*k1 + sqrt(3)*a*k2/2)) + exp(-I*(-0.5*a*k1 - sqrt(3)*a*k2/2))),                                                                                                                                                            0],\n",
       "[                                                                                                                                                               0, 1.0*J2*(exp(I*(-0.5*a*k1 - sqrt(3)*a*k2/2)) + exp(I*(-0.5*a*k1 + sqrt(3)*a*k2/2)) + exp(I*(0.5*a*k1 - sqrt(3)*a*k2/2)) + exp(I*(0.5*a*k1 + sqrt(3)*a*k2/2))),                                                                                                                                                           4.0*J2,                                                                                                                                                            0],\n",
       "[1.0*J2*(exp(-I*(0.5*a*k1 + sqrt(3)*a*k2/2)) + exp(-I*(0.5*a*k1 - sqrt(3)*a*k2/2)) + exp(-I*(-0.5*a*k1 + sqrt(3)*a*k2/2)) + exp(-I*(-0.5*a*k1 - sqrt(3)*a*k2/2))),                                                                                                                                                            0,                                                                                                                                                                0,                                                                                                                                                       4.0*J2]])"
      ]
     },
     "execution_count": 49,
     "metadata": {},
     "output_type": "execute_result"
    }
   ],
   "source": [
    "HlswTwoSub = sp.Matrix([[o, o, o, o], [o, o, o, o], [o, o, o, o], [o, o, o, o]])\n",
    "\n",
    "i = 0\n",
    "while i < 4:\n",
    "    j = 0\n",
    "    while j < 4:\n",
    "        HlswTwoSub[i, j] = Mat_Coef_HPJ2_ud[i, j] * FT_3456[i, j]\n",
    "        j += 1\n",
    "    i += 1\n",
    "\n",
    "distri224(Hlsw_J2J3, HlswTwoSub, 1, 3)\n",
    "HlswTwoSub"
   ]
  },
  {
   "cell_type": "code",
   "execution_count": 50,
   "metadata": {},
   "outputs": [],
   "source": [
    "# up-up couplings\n",
    "Hberg_ud = V1 * sp.Transpose(V1) + V2 * sp.Transpose(V2) + V3 * sp.Transpose(V3)\n",
    "\n",
    "H_J2 = J2*Hberg_uu\n",
    "\n",
    "HP_J2_uu = sp.Integer(0)\n",
    "\n",
    "i = 0\n",
    "while i < 3:\n",
    "    j = 0\n",
    "    while j < 3:\n",
    "        HP_J2_uu = HP_J2_uu + H_J2[i, j] * HPbosons[i, j]\n",
    "        j += 1\n",
    "    i += 1\n",
    "\n",
    "HP_J2_uu = HP_J2_uu.expand()\n",
    "\n",
    "Coef_HPJ2_uu = sp.Matrix([o, o, o, o, o, o])\n",
    "Coef_HPJ2_uu[0, 0] = HP_J2_uu.coeff(e)\n",
    "Coef_HPJ2_uu[1, 0] = HP_J2_uu.coeff(f)\n",
    "Coef_HPJ2_uu[2, 0] = HP_J2_uu.coeff(g)\n",
    "Coef_HPJ2_uu[3, 0] = HP_J2_uu.coeff(h)\n",
    "Coef_HPJ2_uu[4, 0] = HP_J2_uu.coeff(n_i)\n",
    "Coef_HPJ2_uu[5, 0] = HP_J2_uu.coeff(n_j)\n",
    "\n",
    "Mat_Coef_HPJ2_uu = sp.Matrix([\n",
    "    [Coef_HPJ2_uu[4, 0], Coef_HPJ2_uu[2, 0], o, Coef_HPJ2_uu[3, 0]],\n",
    "    [Coef_HPJ2_uu[1, 0], Coef_HPJ2_uu[5, 0], Coef_HPJ2_uu[3, 0], o],\n",
    "    [o, Coef_HPJ2_uu[0, 0], Coef_HPJ2_uu[5, 0], Coef_HPJ2_uu[2, 0]],\n",
    "    [Coef_HPJ2_uu[0, 0], o, Coef_HPJ2_uu[1, 0], Coef_HPJ2_uu[4, 0]]\n",
    "    ])"
   ]
  },
  {
   "cell_type": "code",
   "execution_count": 51,
   "metadata": {},
   "outputs": [
    {
     "data": {
      "text/latex": [
       "$\\displaystyle \\left[\\begin{matrix}- 2 J_{2} & J_{2} \\left(e^{i a k_{1}} + e^{- i a k_{1}}\\right) & 0 & 0\\\\J_{2} \\left(e^{i a k_{1}} + e^{- i a k_{1}}\\right) & - 2 J_{2} & 0 & 0\\\\0 & 0 & - 2 J_{2} & J_{2} \\left(e^{i a k_{1}} + e^{- i a k_{1}}\\right)\\\\0 & 0 & J_{2} \\left(e^{i a k_{1}} + e^{- i a k_{1}}\\right) & - 2 J_{2}\\end{matrix}\\right]$"
      ],
      "text/plain": [
       "Matrix([\n",
       "[                          -2*J2, J2*(exp(I*a*k1) + exp(-I*a*k1)),                               0,                               0],\n",
       "[J2*(exp(I*a*k1) + exp(-I*a*k1)),                           -2*J2,                               0,                               0],\n",
       "[                              0,                               0,                           -2*J2, J2*(exp(I*a*k1) + exp(-I*a*k1))],\n",
       "[                              0,                               0, J2*(exp(I*a*k1) + exp(-I*a*k1)),                           -2*J2]])"
      ]
     },
     "execution_count": 51,
     "metadata": {},
     "output_type": "execute_result"
    }
   ],
   "source": [
    "# up-up J2 bonds\n",
    "HlswTwoSub = sp.Matrix([[o, o, o, o], [o, o, o, o], [o, o, o, o], [o, o, o, o]])\n",
    "\n",
    "i = 0\n",
    "while i < 4:\n",
    "    j = 0\n",
    "    while j < 4:\n",
    "        HlswTwoSub[i, j] = Mat_Coef_HPJ2_uu[i, j] * FT_12[i, j]\n",
    "        j += 1\n",
    "    i += 1\n",
    "\n",
    "distri224(Hlsw_J2J3, HlswTwoSub, 0, 0)\n",
    "HlswTwoSub"
   ]
  },
  {
   "cell_type": "code",
   "execution_count": 52,
   "metadata": {
    "scrolled": true
   },
   "outputs": [
    {
     "data": {
      "text/latex": [
       "$\\displaystyle \\left[\\begin{matrix}- 2 J_{2} & J_{2} \\left(e^{i a k_{1}} + e^{- i a k_{1}}\\right) & 0 & 0\\\\J_{2} \\left(e^{i a k_{1}} + e^{- i a k_{1}}\\right) & - 2 J_{2} & 0 & 0\\\\0 & 0 & - 2 J_{2} & J_{2} \\left(e^{i a k_{1}} + e^{- i a k_{1}}\\right)\\\\0 & 0 & J_{2} \\left(e^{i a k_{1}} + e^{- i a k_{1}}\\right) & - 2 J_{2}\\end{matrix}\\right]$"
      ],
      "text/plain": [
       "Matrix([\n",
       "[                          -2*J2, J2*(exp(I*a*k1) + exp(-I*a*k1)),                               0,                               0],\n",
       "[J2*(exp(I*a*k1) + exp(-I*a*k1)),                           -2*J2,                               0,                               0],\n",
       "[                              0,                               0,                           -2*J2, J2*(exp(I*a*k1) + exp(-I*a*k1))],\n",
       "[                              0,                               0, J2*(exp(I*a*k1) + exp(-I*a*k1)),                           -2*J2]])"
      ]
     },
     "execution_count": 52,
     "metadata": {},
     "output_type": "execute_result"
    }
   ],
   "source": [
    "distri224(Hlsw_J2J3, HlswTwoSub, 1, 1)\n",
    "HlswTwoSub"
   ]
  },
  {
   "cell_type": "code",
   "execution_count": 53,
   "metadata": {},
   "outputs": [],
   "source": [
    "# down-down couplings\n",
    "Hberg_ud = W1 * sp.Transpose(W1) + W2 * sp.Transpose(W2) + W3 * sp.Transpose(W3)\n",
    "\n",
    "H_J2 = J2*Hberg_dd\n",
    "\n",
    "HP_J2_dd = sp.Integer(0)\n",
    "\n",
    "i = 0\n",
    "while i < 3:\n",
    "    j = 0\n",
    "    while j < 3:\n",
    "        HP_J2_dd = HP_J2_dd + H_J2[i, j] * HPbosons[i, j]\n",
    "        j += 1\n",
    "    i += 1\n",
    "\n",
    "HP_J2_dd = HP_J2_dd.expand()\n",
    "\n",
    "Coef_HPJ2_dd = sp.Matrix([o, o, o, o, o, o])\n",
    "Coef_HPJ2_dd[0, 0] = HP_J2_dd.coeff(e)\n",
    "Coef_HPJ2_dd[1, 0] = HP_J2_dd.coeff(f)\n",
    "Coef_HPJ2_dd[2, 0] = HP_J2_dd.coeff(g)\n",
    "Coef_HPJ2_dd[3, 0] = HP_J2_dd.coeff(h)\n",
    "Coef_HPJ2_dd[4, 0] = HP_J2_dd.coeff(n_i)\n",
    "Coef_HPJ2_dd[5, 0] = HP_J2_dd.coeff(n_j)\n",
    "\n",
    "Mat_Coef_HPJ2_dd = sp.Matrix([\n",
    "    [Coef_HPJ2_dd[4, 0], Coef_HPJ2_dd[2, 0], o, Coef_HPJ2_dd[3, 0]],\n",
    "    [Coef_HPJ2_dd[1, 0], Coef_HPJ2_dd[5, 0], Coef_HPJ2_dd[3, 0], o],\n",
    "    [o, Coef_HPJ2_dd[0, 0], Coef_HPJ2_dd[5, 0], Coef_HPJ2_dd[2, 0]],\n",
    "    [Coef_HPJ2_dd[0, 0], o, Coef_HPJ2_dd[1, 0], Coef_HPJ2_dd[4, 0]]\n",
    "    ])"
   ]
  },
  {
   "cell_type": "code",
   "execution_count": 54,
   "metadata": {},
   "outputs": [
    {
     "data": {
      "text/latex": [
       "$\\displaystyle \\left[\\begin{matrix}- 2.0 J_{2} & 1.0 J_{2} \\left(e^{i a k_{1}} + e^{- i a k_{1}}\\right) & 0 & 0\\\\1.0 J_{2} \\left(e^{i a k_{1}} + e^{- i a k_{1}}\\right) & - 2.0 J_{2} & 0 & 0\\\\0 & 0 & - 2.0 J_{2} & 1.0 J_{2} \\left(e^{i a k_{1}} + e^{- i a k_{1}}\\right)\\\\0 & 0 & 1.0 J_{2} \\left(e^{i a k_{1}} + e^{- i a k_{1}}\\right) & - 2.0 J_{2}\\end{matrix}\\right]$"
      ],
      "text/plain": [
       "Matrix([\n",
       "[                            -2.0*J2, 1.0*J2*(exp(I*a*k1) + exp(-I*a*k1)),                                   0,                                   0],\n",
       "[1.0*J2*(exp(I*a*k1) + exp(-I*a*k1)),                             -2.0*J2,                                   0,                                   0],\n",
       "[                                  0,                                   0,                             -2.0*J2, 1.0*J2*(exp(I*a*k1) + exp(-I*a*k1))],\n",
       "[                                  0,                                   0, 1.0*J2*(exp(I*a*k1) + exp(-I*a*k1)),                             -2.0*J2]])"
      ]
     },
     "execution_count": 54,
     "metadata": {},
     "output_type": "execute_result"
    }
   ],
   "source": [
    "# down-down J2 bonds\n",
    "HlswTwoSub = sp.Matrix([[o, o, o, o], [o, o, o, o], [o, o, o, o], [o, o, o, o]])\n",
    "\n",
    "i = 0\n",
    "while i < 4:\n",
    "    j = 0\n",
    "    while j < 4:\n",
    "        HlswTwoSub[i, j] = Mat_Coef_HPJ2_dd[i, j] * FT_12[i, j]\n",
    "        j += 1\n",
    "    i += 1\n",
    "\n",
    "distri224(Hlsw_J2J3, HlswTwoSub, 2, 2)\n",
    "HlswTwoSub"
   ]
  },
  {
   "cell_type": "code",
   "execution_count": 55,
   "metadata": {},
   "outputs": [
    {
     "data": {
      "text/latex": [
       "$\\displaystyle \\left[\\begin{matrix}- 2.0 J_{2} & 1.0 J_{2} \\left(e^{i a k_{1}} + e^{- i a k_{1}}\\right) & 0 & 0\\\\1.0 J_{2} \\left(e^{i a k_{1}} + e^{- i a k_{1}}\\right) & - 2.0 J_{2} & 0 & 0\\\\0 & 0 & - 2.0 J_{2} & 1.0 J_{2} \\left(e^{i a k_{1}} + e^{- i a k_{1}}\\right)\\\\0 & 0 & 1.0 J_{2} \\left(e^{i a k_{1}} + e^{- i a k_{1}}\\right) & - 2.0 J_{2}\\end{matrix}\\right]$"
      ],
      "text/plain": [
       "Matrix([\n",
       "[                            -2.0*J2, 1.0*J2*(exp(I*a*k1) + exp(-I*a*k1)),                                   0,                                   0],\n",
       "[1.0*J2*(exp(I*a*k1) + exp(-I*a*k1)),                             -2.0*J2,                                   0,                                   0],\n",
       "[                                  0,                                   0,                             -2.0*J2, 1.0*J2*(exp(I*a*k1) + exp(-I*a*k1))],\n",
       "[                                  0,                                   0, 1.0*J2*(exp(I*a*k1) + exp(-I*a*k1)),                             -2.0*J2]])"
      ]
     },
     "execution_count": 55,
     "metadata": {},
     "output_type": "execute_result"
    }
   ],
   "source": [
    "distri224(Hlsw_J2J3, HlswTwoSub, 3, 3)\n",
    "HlswTwoSub"
   ]
  },
  {
   "cell_type": "code",
   "execution_count": 56,
   "metadata": {},
   "outputs": [],
   "source": [
    "Hlsw = Hlsw_rucl3 + 1/2*Hlsw_J2J3"
   ]
  },
  {
   "cell_type": "code",
   "execution_count": 57,
   "metadata": {},
   "outputs": [
    {
     "data": {
      "text/latex": [
       "$\\displaystyle \\left[\\begin{matrix}- 0.5 J + 1.0 J_{2} \\left(e^{i a k_{1}} + e^{- i a k_{1}}\\right) + 1.5 J_{3} & 0.5 J e^{- i \\left(\\frac{a k_{1}}{2} + \\frac{\\sqrt{3} a k_{2}}{6}\\right)} + 0.5 J e^{- i \\left(- \\frac{a k_{1}}{2} + \\frac{\\sqrt{3} a k_{2}}{6}\\right)} & 0 & 0 & 0 & 0 & 0.5 J_{2} \\left(e^{i \\left(- 0.5 a k_{1} - \\frac{\\sqrt{3} a k_{2}}{2}\\right)} + e^{i \\left(- 0.5 a k_{1} + \\frac{\\sqrt{3} a k_{2}}{2}\\right)} + e^{i \\left(0.5 a k_{1} - \\frac{\\sqrt{3} a k_{2}}{2}\\right)} + e^{i \\left(0.5 a k_{1} + \\frac{\\sqrt{3} a k_{2}}{2}\\right)}\\right) & 0.5 J e^{\\frac{\\sqrt{3} i a k_{2}}{3}} + 0.5 J_{3} \\left(e^{i \\left(- a k_{1} + \\frac{\\sqrt{3} a k_{2}}{3}\\right)} + e^{i \\left(a k_{1} + \\frac{\\sqrt{3} a k_{2}}{3}\\right)} + e^{- \\frac{2 \\sqrt{3} i a k_{2}}{3}}\\right)\\\\0.5 J e^{i \\left(- \\frac{a k_{1}}{2} + \\frac{\\sqrt{3} a k_{2}}{6}\\right)} + 0.5 J e^{i \\left(\\frac{a k_{1}}{2} + \\frac{\\sqrt{3} a k_{2}}{6}\\right)} & - 0.5 J + 1.0 J_{2} \\left(e^{i a k_{1}} + e^{- i a k_{1}}\\right) + 1.5 J_{3} & 0 & 0 & 0 & 0 & 0.5 J e^{- \\frac{\\sqrt{3} i a k_{2}}{3}} + 0.5 J_{3} \\left(e^{i \\left(- a k_{1} + \\frac{\\sqrt{3} a k_{2}}{3}\\right)} + e^{i \\left(a k_{1} + \\frac{\\sqrt{3} a k_{2}}{3}\\right)} + e^{- \\frac{2 \\sqrt{3} i a k_{2}}{3}}\\right) & 0.5 J_{2} \\left(e^{i \\left(- 0.5 a k_{1} - \\frac{\\sqrt{3} a k_{2}}{2}\\right)} + e^{i \\left(- 0.5 a k_{1} + \\frac{\\sqrt{3} a k_{2}}{2}\\right)} + e^{i \\left(0.5 a k_{1} - \\frac{\\sqrt{3} a k_{2}}{2}\\right)} + e^{i \\left(0.5 a k_{1} + \\frac{\\sqrt{3} a k_{2}}{2}\\right)}\\right)\\\\0 & 0 & - 0.5 J + 1.0 J_{2} \\left(e^{i a k_{1}} + e^{- i a k_{1}}\\right) + 1.5 J_{3} & 0.5 J e^{- i \\left(\\frac{a k_{1}}{2} + \\frac{\\sqrt{3} a k_{2}}{6}\\right)} + 0.5 J e^{- i \\left(- \\frac{a k_{1}}{2} + \\frac{\\sqrt{3} a k_{2}}{6}\\right)} & 0.5 J_{2} \\left(e^{- i \\left(0.5 a k_{1} + \\frac{\\sqrt{3} a k_{2}}{2}\\right)} + e^{- i \\left(0.5 a k_{1} - \\frac{\\sqrt{3} a k_{2}}{2}\\right)} + e^{- i \\left(- 0.5 a k_{1} + \\frac{\\sqrt{3} a k_{2}}{2}\\right)} + e^{- i \\left(- 0.5 a k_{1} - \\frac{\\sqrt{3} a k_{2}}{2}\\right)}\\right) & 0.5 J e^{\\frac{\\sqrt{3} i a k_{2}}{3}} + 0.5 J_{3} \\left(e^{\\frac{2 \\sqrt{3} i a k_{2}}{3}} + e^{- i \\left(a k_{1} + \\frac{\\sqrt{3} a k_{2}}{3}\\right)} + e^{- i \\left(- a k_{1} + \\frac{\\sqrt{3} a k_{2}}{3}\\right)}\\right) & 0 & 0\\\\0 & 0 & 0.5 J e^{i \\left(- \\frac{a k_{1}}{2} + \\frac{\\sqrt{3} a k_{2}}{6}\\right)} + 0.5 J e^{i \\left(\\frac{a k_{1}}{2} + \\frac{\\sqrt{3} a k_{2}}{6}\\right)} & - 0.5 J + 1.0 J_{2} \\left(e^{i a k_{1}} + e^{- i a k_{1}}\\right) + 1.5 J_{3} & 0.5 J e^{- \\frac{\\sqrt{3} i a k_{2}}{3}} + 0.5 J_{3} \\left(e^{\\frac{2 \\sqrt{3} i a k_{2}}{3}} + e^{- i \\left(a k_{1} + \\frac{\\sqrt{3} a k_{2}}{3}\\right)} + e^{- i \\left(- a k_{1} + \\frac{\\sqrt{3} a k_{2}}{3}\\right)}\\right) & 0.5 J_{2} \\left(e^{- i \\left(0.5 a k_{1} + \\frac{\\sqrt{3} a k_{2}}{2}\\right)} + e^{- i \\left(0.5 a k_{1} - \\frac{\\sqrt{3} a k_{2}}{2}\\right)} + e^{- i \\left(- 0.5 a k_{1} + \\frac{\\sqrt{3} a k_{2}}{2}\\right)} + e^{- i \\left(- 0.5 a k_{1} - \\frac{\\sqrt{3} a k_{2}}{2}\\right)}\\right) & 0 & 0\\\\0 & 0 & 0.5 J_{2} \\left(e^{i \\left(- 0.5 a k_{1} - \\frac{\\sqrt{3} a k_{2}}{2}\\right)} + e^{i \\left(- 0.5 a k_{1} + \\frac{\\sqrt{3} a k_{2}}{2}\\right)} + e^{i \\left(0.5 a k_{1} - \\frac{\\sqrt{3} a k_{2}}{2}\\right)} + e^{i \\left(0.5 a k_{1} + \\frac{\\sqrt{3} a k_{2}}{2}\\right)}\\right) & 0.5 J e^{\\frac{\\sqrt{3} i a k_{2}}{3}} + 0.5 J_{3} \\left(e^{i \\left(- a k_{1} + \\frac{\\sqrt{3} a k_{2}}{3}\\right)} + e^{i \\left(a k_{1} + \\frac{\\sqrt{3} a k_{2}}{3}\\right)} + e^{- \\frac{2 \\sqrt{3} i a k_{2}}{3}}\\right) & - 0.5 J + 1.0 J_{2} \\left(e^{i a k_{1}} + e^{- i a k_{1}}\\right) + 1.5 J_{3} & 0.5 J e^{- i \\left(\\frac{a k_{1}}{2} + \\frac{\\sqrt{3} a k_{2}}{6}\\right)} + 0.5 J e^{- i \\left(- \\frac{a k_{1}}{2} + \\frac{\\sqrt{3} a k_{2}}{6}\\right)} & 0 & 0\\\\0 & 0 & 0.5 J e^{- \\frac{\\sqrt{3} i a k_{2}}{3}} + 0.5 J_{3} \\left(e^{i \\left(- a k_{1} + \\frac{\\sqrt{3} a k_{2}}{3}\\right)} + e^{i \\left(a k_{1} + \\frac{\\sqrt{3} a k_{2}}{3}\\right)} + e^{- \\frac{2 \\sqrt{3} i a k_{2}}{3}}\\right) & 0.5 J_{2} \\left(e^{i \\left(- 0.5 a k_{1} - \\frac{\\sqrt{3} a k_{2}}{2}\\right)} + e^{i \\left(- 0.5 a k_{1} + \\frac{\\sqrt{3} a k_{2}}{2}\\right)} + e^{i \\left(0.5 a k_{1} - \\frac{\\sqrt{3} a k_{2}}{2}\\right)} + e^{i \\left(0.5 a k_{1} + \\frac{\\sqrt{3} a k_{2}}{2}\\right)}\\right) & 0.5 J e^{i \\left(- \\frac{a k_{1}}{2} + \\frac{\\sqrt{3} a k_{2}}{6}\\right)} + 0.5 J e^{i \\left(\\frac{a k_{1}}{2} + \\frac{\\sqrt{3} a k_{2}}{6}\\right)} & - 0.5 J + 1.0 J_{2} \\left(e^{i a k_{1}} + e^{- i a k_{1}}\\right) + 1.5 J_{3} & 0 & 0\\\\0.5 J_{2} \\left(e^{- i \\left(0.5 a k_{1} + \\frac{\\sqrt{3} a k_{2}}{2}\\right)} + e^{- i \\left(0.5 a k_{1} - \\frac{\\sqrt{3} a k_{2}}{2}\\right)} + e^{- i \\left(- 0.5 a k_{1} + \\frac{\\sqrt{3} a k_{2}}{2}\\right)} + e^{- i \\left(- 0.5 a k_{1} - \\frac{\\sqrt{3} a k_{2}}{2}\\right)}\\right) & 0.5 J e^{\\frac{\\sqrt{3} i a k_{2}}{3}} + 0.5 J_{3} \\left(e^{\\frac{2 \\sqrt{3} i a k_{2}}{3}} + e^{- i \\left(a k_{1} + \\frac{\\sqrt{3} a k_{2}}{3}\\right)} + e^{- i \\left(- a k_{1} + \\frac{\\sqrt{3} a k_{2}}{3}\\right)}\\right) & 0 & 0 & 0 & 0 & - 0.5 J + 1.0 J_{2} \\left(e^{i a k_{1}} + e^{- i a k_{1}}\\right) + 1.5 J_{3} & 0.5 J e^{- i \\left(\\frac{a k_{1}}{2} + \\frac{\\sqrt{3} a k_{2}}{6}\\right)} + 0.5 J e^{- i \\left(- \\frac{a k_{1}}{2} + \\frac{\\sqrt{3} a k_{2}}{6}\\right)}\\\\0.5 J e^{- \\frac{\\sqrt{3} i a k_{2}}{3}} + 0.5 J_{3} \\left(e^{\\frac{2 \\sqrt{3} i a k_{2}}{3}} + e^{- i \\left(a k_{1} + \\frac{\\sqrt{3} a k_{2}}{3}\\right)} + e^{- i \\left(- a k_{1} + \\frac{\\sqrt{3} a k_{2}}{3}\\right)}\\right) & 0.5 J_{2} \\left(e^{- i \\left(0.5 a k_{1} + \\frac{\\sqrt{3} a k_{2}}{2}\\right)} + e^{- i \\left(0.5 a k_{1} - \\frac{\\sqrt{3} a k_{2}}{2}\\right)} + e^{- i \\left(- 0.5 a k_{1} + \\frac{\\sqrt{3} a k_{2}}{2}\\right)} + e^{- i \\left(- 0.5 a k_{1} - \\frac{\\sqrt{3} a k_{2}}{2}\\right)}\\right) & 0 & 0 & 0 & 0 & 0.5 J e^{i \\left(- \\frac{a k_{1}}{2} + \\frac{\\sqrt{3} a k_{2}}{6}\\right)} + 0.5 J e^{i \\left(\\frac{a k_{1}}{2} + \\frac{\\sqrt{3} a k_{2}}{6}\\right)} & - 0.5 J + 1.0 J_{2} \\left(e^{i a k_{1}} + e^{- i a k_{1}}\\right) + 1.5 J_{3}\\end{matrix}\\right]$"
      ],
      "text/plain": [
       "Matrix([\n",
       "[                                                                                                           -0.5*J + 1.0*J2*(exp(I*a*k1) + exp(-I*a*k1)) + 1.5*J3,                                                                               0.5*J*exp(-I*(a*k1/2 + sqrt(3)*a*k2/6)) + 0.5*J*exp(-I*(-a*k1/2 + sqrt(3)*a*k2/6)),                                                                                                                                                            0,                                                                                                                                                            0,                                                                                                                                                                0,                                                                                                                                                                0, 0.5*J2*(exp(I*(-0.5*a*k1 - sqrt(3)*a*k2/2)) + exp(I*(-0.5*a*k1 + sqrt(3)*a*k2/2)) + exp(I*(0.5*a*k1 - sqrt(3)*a*k2/2)) + exp(I*(0.5*a*k1 + sqrt(3)*a*k2/2))),                           0.5*J*exp(sqrt(3)*I*a*k2/3) + 0.5*J3*(exp(I*(-a*k1 + sqrt(3)*a*k2/3)) + exp(I*(a*k1 + sqrt(3)*a*k2/3)) + exp(-2*sqrt(3)*I*a*k2/3))],\n",
       "[                                                                                0.5*J*exp(I*(-a*k1/2 + sqrt(3)*a*k2/6)) + 0.5*J*exp(I*(a*k1/2 + sqrt(3)*a*k2/6)),                                                                                                            -0.5*J + 1.0*J2*(exp(I*a*k1) + exp(-I*a*k1)) + 1.5*J3,                                                                                                                                                            0,                                                                                                                                                            0,                                                                                                                                                                0,                                                                                                                                                                0,                          0.5*J*exp(-sqrt(3)*I*a*k2/3) + 0.5*J3*(exp(I*(-a*k1 + sqrt(3)*a*k2/3)) + exp(I*(a*k1 + sqrt(3)*a*k2/3)) + exp(-2*sqrt(3)*I*a*k2/3)), 0.5*J2*(exp(I*(-0.5*a*k1 - sqrt(3)*a*k2/2)) + exp(I*(-0.5*a*k1 + sqrt(3)*a*k2/2)) + exp(I*(0.5*a*k1 - sqrt(3)*a*k2/2)) + exp(I*(0.5*a*k1 + sqrt(3)*a*k2/2)))],\n",
       "[                                                                                                                                                               0,                                                                                                                                                                0,                                                                                                        -0.5*J + 1.0*J2*(exp(I*a*k1) + exp(-I*a*k1)) + 1.5*J3,                                                                           0.5*J*exp(-I*(a*k1/2 + sqrt(3)*a*k2/6)) + 0.5*J*exp(-I*(-a*k1/2 + sqrt(3)*a*k2/6)), 0.5*J2*(exp(-I*(0.5*a*k1 + sqrt(3)*a*k2/2)) + exp(-I*(0.5*a*k1 - sqrt(3)*a*k2/2)) + exp(-I*(-0.5*a*k1 + sqrt(3)*a*k2/2)) + exp(-I*(-0.5*a*k1 - sqrt(3)*a*k2/2))),                              0.5*J*exp(sqrt(3)*I*a*k2/3) + 0.5*J3*(exp(2*sqrt(3)*I*a*k2/3) + exp(-I*(a*k1 + sqrt(3)*a*k2/3)) + exp(-I*(-a*k1 + sqrt(3)*a*k2/3))),                                                                                                                                                            0,                                                                                                                                                            0],\n",
       "[                                                                                                                                                               0,                                                                                                                                                                0,                                                                             0.5*J*exp(I*(-a*k1/2 + sqrt(3)*a*k2/6)) + 0.5*J*exp(I*(a*k1/2 + sqrt(3)*a*k2/6)),                                                                                                        -0.5*J + 1.0*J2*(exp(I*a*k1) + exp(-I*a*k1)) + 1.5*J3,                             0.5*J*exp(-sqrt(3)*I*a*k2/3) + 0.5*J3*(exp(2*sqrt(3)*I*a*k2/3) + exp(-I*(a*k1 + sqrt(3)*a*k2/3)) + exp(-I*(-a*k1 + sqrt(3)*a*k2/3))), 0.5*J2*(exp(-I*(0.5*a*k1 + sqrt(3)*a*k2/2)) + exp(-I*(0.5*a*k1 - sqrt(3)*a*k2/2)) + exp(-I*(-0.5*a*k1 + sqrt(3)*a*k2/2)) + exp(-I*(-0.5*a*k1 - sqrt(3)*a*k2/2))),                                                                                                                                                            0,                                                                                                                                                            0],\n",
       "[                                                                                                                                                               0,                                                                                                                                                                0, 0.5*J2*(exp(I*(-0.5*a*k1 - sqrt(3)*a*k2/2)) + exp(I*(-0.5*a*k1 + sqrt(3)*a*k2/2)) + exp(I*(0.5*a*k1 - sqrt(3)*a*k2/2)) + exp(I*(0.5*a*k1 + sqrt(3)*a*k2/2))),                           0.5*J*exp(sqrt(3)*I*a*k2/3) + 0.5*J3*(exp(I*(-a*k1 + sqrt(3)*a*k2/3)) + exp(I*(a*k1 + sqrt(3)*a*k2/3)) + exp(-2*sqrt(3)*I*a*k2/3)),                                                                                                            -0.5*J + 1.0*J2*(exp(I*a*k1) + exp(-I*a*k1)) + 1.5*J3,                                                                               0.5*J*exp(-I*(a*k1/2 + sqrt(3)*a*k2/6)) + 0.5*J*exp(-I*(-a*k1/2 + sqrt(3)*a*k2/6)),                                                                                                                                                            0,                                                                                                                                                            0],\n",
       "[                                                                                                                                                               0,                                                                                                                                                                0,                          0.5*J*exp(-sqrt(3)*I*a*k2/3) + 0.5*J3*(exp(I*(-a*k1 + sqrt(3)*a*k2/3)) + exp(I*(a*k1 + sqrt(3)*a*k2/3)) + exp(-2*sqrt(3)*I*a*k2/3)), 0.5*J2*(exp(I*(-0.5*a*k1 - sqrt(3)*a*k2/2)) + exp(I*(-0.5*a*k1 + sqrt(3)*a*k2/2)) + exp(I*(0.5*a*k1 - sqrt(3)*a*k2/2)) + exp(I*(0.5*a*k1 + sqrt(3)*a*k2/2))),                                                                                 0.5*J*exp(I*(-a*k1/2 + sqrt(3)*a*k2/6)) + 0.5*J*exp(I*(a*k1/2 + sqrt(3)*a*k2/6)),                                                                                                            -0.5*J + 1.0*J2*(exp(I*a*k1) + exp(-I*a*k1)) + 1.5*J3,                                                                                                                                                            0,                                                                                                                                                            0],\n",
       "[0.5*J2*(exp(-I*(0.5*a*k1 + sqrt(3)*a*k2/2)) + exp(-I*(0.5*a*k1 - sqrt(3)*a*k2/2)) + exp(-I*(-0.5*a*k1 + sqrt(3)*a*k2/2)) + exp(-I*(-0.5*a*k1 - sqrt(3)*a*k2/2))),                              0.5*J*exp(sqrt(3)*I*a*k2/3) + 0.5*J3*(exp(2*sqrt(3)*I*a*k2/3) + exp(-I*(a*k1 + sqrt(3)*a*k2/3)) + exp(-I*(-a*k1 + sqrt(3)*a*k2/3))),                                                                                                                                                            0,                                                                                                                                                            0,                                                                                                                                                                0,                                                                                                                                                                0,                                                                                                        -0.5*J + 1.0*J2*(exp(I*a*k1) + exp(-I*a*k1)) + 1.5*J3,                                                                           0.5*J*exp(-I*(a*k1/2 + sqrt(3)*a*k2/6)) + 0.5*J*exp(-I*(-a*k1/2 + sqrt(3)*a*k2/6))],\n",
       "[                            0.5*J*exp(-sqrt(3)*I*a*k2/3) + 0.5*J3*(exp(2*sqrt(3)*I*a*k2/3) + exp(-I*(a*k1 + sqrt(3)*a*k2/3)) + exp(-I*(-a*k1 + sqrt(3)*a*k2/3))), 0.5*J2*(exp(-I*(0.5*a*k1 + sqrt(3)*a*k2/2)) + exp(-I*(0.5*a*k1 - sqrt(3)*a*k2/2)) + exp(-I*(-0.5*a*k1 + sqrt(3)*a*k2/2)) + exp(-I*(-0.5*a*k1 - sqrt(3)*a*k2/2))),                                                                                                                                                            0,                                                                                                                                                            0,                                                                                                                                                                0,                                                                                                                                                                0,                                                                             0.5*J*exp(I*(-a*k1/2 + sqrt(3)*a*k2/6)) + 0.5*J*exp(I*(a*k1/2 + sqrt(3)*a*k2/6)),                                                                                                        -0.5*J + 1.0*J2*(exp(I*a*k1) + exp(-I*a*k1)) + 1.5*J3]])"
      ]
     },
     "execution_count": 57,
     "metadata": {},
     "output_type": "execute_result"
    }
   ],
   "source": [
    "Hlsw.subs([(K,0),(Gamma,0),(gamma,0),(h,0)])"
   ]
  },
  {
   "cell_type": "code",
   "execution_count": 60,
   "metadata": {},
   "outputs": [
    {
     "data": {
      "text/latex": [
       "$\\displaystyle \\left[\\begin{matrix}1.5 & 0 & 0 & 0 & 0 & 0 & 0 & 0.5 e^{i \\left(- k_{1} + \\frac{\\sqrt{3} k_{2}}{3}\\right)} + 0.5 e^{i \\left(k_{1} + \\frac{\\sqrt{3} k_{2}}{3}\\right)} + 0.5 e^{- \\frac{2 \\sqrt{3} i k_{2}}{3}}\\\\0 & 1.5 & 0 & 0 & 0 & 0 & 0.5 e^{i \\left(- k_{1} + \\frac{\\sqrt{3} k_{2}}{3}\\right)} + 0.5 e^{i \\left(k_{1} + \\frac{\\sqrt{3} k_{2}}{3}\\right)} + 0.5 e^{- \\frac{2 \\sqrt{3} i k_{2}}{3}} & 0\\\\0 & 0 & 1.5 & 0 & 0 & 0.5 e^{\\frac{2 \\sqrt{3} i k_{2}}{3}} + 0.5 e^{- i \\left(k_{1} + \\frac{\\sqrt{3} k_{2}}{3}\\right)} + 0.5 e^{- i \\left(- k_{1} + \\frac{\\sqrt{3} k_{2}}{3}\\right)} & 0 & 0\\\\0 & 0 & 0 & 1.5 & 0.5 e^{\\frac{2 \\sqrt{3} i k_{2}}{3}} + 0.5 e^{- i \\left(k_{1} + \\frac{\\sqrt{3} k_{2}}{3}\\right)} + 0.5 e^{- i \\left(- k_{1} + \\frac{\\sqrt{3} k_{2}}{3}\\right)} & 0 & 0 & 0\\\\0 & 0 & 0 & 0.5 e^{i \\left(- k_{1} + \\frac{\\sqrt{3} k_{2}}{3}\\right)} + 0.5 e^{i \\left(k_{1} + \\frac{\\sqrt{3} k_{2}}{3}\\right)} + 0.5 e^{- \\frac{2 \\sqrt{3} i k_{2}}{3}} & 1.5 & 0 & 0 & 0\\\\0 & 0 & 0.5 e^{i \\left(- k_{1} + \\frac{\\sqrt{3} k_{2}}{3}\\right)} + 0.5 e^{i \\left(k_{1} + \\frac{\\sqrt{3} k_{2}}{3}\\right)} + 0.5 e^{- \\frac{2 \\sqrt{3} i k_{2}}{3}} & 0 & 0 & 1.5 & 0 & 0\\\\0 & 0.5 e^{\\frac{2 \\sqrt{3} i k_{2}}{3}} + 0.5 e^{- i \\left(k_{1} + \\frac{\\sqrt{3} k_{2}}{3}\\right)} + 0.5 e^{- i \\left(- k_{1} + \\frac{\\sqrt{3} k_{2}}{3}\\right)} & 0 & 0 & 0 & 0 & 1.5 & 0\\\\0.5 e^{\\frac{2 \\sqrt{3} i k_{2}}{3}} + 0.5 e^{- i \\left(k_{1} + \\frac{\\sqrt{3} k_{2}}{3}\\right)} + 0.5 e^{- i \\left(- k_{1} + \\frac{\\sqrt{3} k_{2}}{3}\\right)} & 0 & 0 & 0 & 0 & 0 & 0 & 1.5\\end{matrix}\\right]$"
      ],
      "text/plain": [
       "Matrix([\n",
       "[                                                                                           1.5,                                                                                              0,                                                                                             0,                                                                                             0,                                                                                              0,                                                                                              0,                                                                                             0, 0.5*exp(I*(-k1 + sqrt(3)*k2/3)) + 0.5*exp(I*(k1 + sqrt(3)*k2/3)) + 0.5*exp(-2*sqrt(3)*I*k2/3)],\n",
       "[                                                                                             0,                                                                                            1.5,                                                                                             0,                                                                                             0,                                                                                              0,                                                                                              0, 0.5*exp(I*(-k1 + sqrt(3)*k2/3)) + 0.5*exp(I*(k1 + sqrt(3)*k2/3)) + 0.5*exp(-2*sqrt(3)*I*k2/3),                                                                                             0],\n",
       "[                                                                                             0,                                                                                              0,                                                                                           1.5,                                                                                             0,                                                                                              0, 0.5*exp(2*sqrt(3)*I*k2/3) + 0.5*exp(-I*(k1 + sqrt(3)*k2/3)) + 0.5*exp(-I*(-k1 + sqrt(3)*k2/3)),                                                                                             0,                                                                                             0],\n",
       "[                                                                                             0,                                                                                              0,                                                                                             0,                                                                                           1.5, 0.5*exp(2*sqrt(3)*I*k2/3) + 0.5*exp(-I*(k1 + sqrt(3)*k2/3)) + 0.5*exp(-I*(-k1 + sqrt(3)*k2/3)),                                                                                              0,                                                                                             0,                                                                                             0],\n",
       "[                                                                                             0,                                                                                              0,                                                                                             0, 0.5*exp(I*(-k1 + sqrt(3)*k2/3)) + 0.5*exp(I*(k1 + sqrt(3)*k2/3)) + 0.5*exp(-2*sqrt(3)*I*k2/3),                                                                                            1.5,                                                                                              0,                                                                                             0,                                                                                             0],\n",
       "[                                                                                             0,                                                                                              0, 0.5*exp(I*(-k1 + sqrt(3)*k2/3)) + 0.5*exp(I*(k1 + sqrt(3)*k2/3)) + 0.5*exp(-2*sqrt(3)*I*k2/3),                                                                                             0,                                                                                              0,                                                                                            1.5,                                                                                             0,                                                                                             0],\n",
       "[                                                                                             0, 0.5*exp(2*sqrt(3)*I*k2/3) + 0.5*exp(-I*(k1 + sqrt(3)*k2/3)) + 0.5*exp(-I*(-k1 + sqrt(3)*k2/3)),                                                                                             0,                                                                                             0,                                                                                              0,                                                                                              0,                                                                                           1.5,                                                                                             0],\n",
       "[0.5*exp(2*sqrt(3)*I*k2/3) + 0.5*exp(-I*(k1 + sqrt(3)*k2/3)) + 0.5*exp(-I*(-k1 + sqrt(3)*k2/3)),                                                                                              0,                                                                                             0,                                                                                             0,                                                                                              0,                                                                                              0,                                                                                             0,                                                                                           1.5]])"
      ]
     },
     "execution_count": 60,
     "metadata": {},
     "output_type": "execute_result"
    }
   ],
   "source": [
    "cp_strg = [0,0,1,0,0,0,0]\n",
    "Hlsw_num = Hlsw.subs([(J,cp_strg[0]), (J2,cp_strg[1]), (J3,cp_strg[2]), (K, cp_strg[3]), (Gamma, cp_strg[4]), (gamma, cp_strg[5]), (h, cp_strg[6]), (a, 1)])\n",
    "Hlsw_num"
   ]
  },
  {
   "cell_type": "code",
   "execution_count": null,
   "metadata": {},
   "outputs": [],
   "source": []
  },
  {
   "cell_type": "code",
   "execution_count": 61,
   "metadata": {},
   "outputs": [
    {
     "name": "stdout",
     "output_type": "stream",
     "text": [
      "0.0 0\n",
      "0.3141592653589793 0\n",
      "0.6283185307179586 0\n",
      "0.9424777960769379 0\n",
      "1.2566370614359172 0\n",
      "1.5707963267948966 0\n",
      "1.8849555921538759 0\n",
      "2.199114857512855 0\n",
      "2.5132741228718345 0\n",
      "2.827433388230814 0\n",
      "3.141592653589793 0.0\n",
      "3.141592653589793 -0.3141592653589793\n",
      "3.141592653589793 -0.6283185307179586\n",
      "3.141592653589793 -0.9424777960769379\n",
      "3.141592653589793 -1.2566370614359172\n",
      "3.141592653589793 -1.5707963267948966\n",
      "3.141592653589793 1.8137993642342178\n",
      "2.827433388230814 1.8137993642342178\n",
      "2.5132741228718345 1.8137993642342178\n",
      "2.199114857512855 1.8137993642342178\n",
      "1.8849555921538759 1.8137993642342178\n",
      "1.5707963267948966 1.8137993642342178\n",
      "1.2566370614359172 1.8137993642342178\n",
      "0.9424777960769379 1.8137993642342178\n",
      "0.6283185307179586 1.8137993642342178\n",
      "0.3141592653589793 1.8137993642342178\n",
      "0 1.8137993642342178\n",
      "0 1.4996400988752385\n",
      "0 1.1854808335162592\n",
      "0 0.8713215681572799\n",
      "0 0.5571623027983006\n",
      "0 0.24300303743932128\n",
      "0.0 0.0\n",
      "0.27206990463513264 0.15707963267948966\n",
      "0.5441398092702653 0.3141592653589793\n",
      "0.816209713905398 0.47123889803846897\n",
      "1.0882796185405306 0.6283185307179586\n",
      "1.3603495231756633 0.7853981633974483\n",
      "1.632419427810796 0.9424777960769379\n",
      "1.9044893324459287 1.0995574287564276\n",
      "2.176559237081061 1.2566370614359172\n",
      "2.448629141716194 1.413716694115407\n",
      "2.7206990463513265 1.5707963267948966\n",
      "2.9927689509864592 1.7278759594743862\n",
      "[[ 1.17316668e-12+0.00000000e+00j  1.17316668e-12+0.00000000e+00j\n",
      "   1.17278415e-12+0.00000000e+00j  1.17278415e-12+0.00000000e+00j\n",
      "  -1.17278415e-12+0.00000000e+00j -1.17278415e-12+0.00000000e+00j\n",
      "  -1.17316668e-12+0.00000000e+00j -1.17316668e-12+0.00000000e+00j]\n",
      " [ 3.80046032e-01-6.46812530e-21j  3.80046032e-01-6.46812530e-21j\n",
      "   3.80046032e-01-6.46812530e-21j  3.80046032e-01-6.46812530e-21j\n",
      "  -3.80046032e-01+6.46812530e-21j -3.80046032e-01+6.46812530e-21j\n",
      "  -3.80046032e-01+6.46812530e-21j -3.80046032e-01+6.46812530e-21j]\n",
      " [ 7.32444202e-01+0.00000000e+00j  7.32444202e-01-6.05523545e-21j\n",
      "   7.32444202e-01-6.05523545e-21j  7.32444202e-01-6.05523545e-21j\n",
      "  -7.32444202e-01+0.00000000e+00j -7.32444202e-01+6.05523545e-21j\n",
      "  -7.32444202e-01+6.05523545e-21j -7.32444202e-01+6.05523545e-21j]\n",
      " [ 1.03282295e+00+0.00000000e+00j  1.03282295e+00-3.56843329e-21j\n",
      "   1.03282295e+00-3.56843329e-21j  1.03282295e+00-3.56843329e-21j\n",
      "  -1.03282295e+00+0.00000000e+00j -1.03282295e+00+3.56843329e-21j\n",
      "  -1.03282295e+00+3.56843329e-21j -1.03282295e+00+3.56843329e-21j]\n",
      " [ 1.26312767e+00-5.77676470e-19j  1.26312767e+00-4.16333634e-17j\n",
      "   1.26312767e+00-2.17005475e-21j  1.26312767e+00-2.17005475e-21j\n",
      "  -1.26312767e+00+2.17005475e-21j -1.26312767e+00+7.62465178e-17j\n",
      "  -1.26312767e+00-9.74207261e-17j -1.26312767e+00+2.17005475e-21j]\n",
      " [ 1.41421356e+00-1.19788548e-21j  1.41421356e+00-1.19788548e-21j\n",
      "   1.41421356e+00-1.19788548e-21j  1.41421356e+00-1.19788548e-21j\n",
      "  -1.41421356e+00+1.19788548e-21j -1.41421356e+00+1.19788548e-21j\n",
      "  -1.41421356e+00+1.19788548e-21j -1.41421356e+00+1.19788548e-21j]\n",
      " [ 1.48779215e+00+0.00000000e+00j  1.48779215e+00-4.34923380e-22j\n",
      "   1.48779215e+00-4.34923380e-22j  1.48779215e+00-4.34923380e-22j\n",
      "  -1.48779215e+00+0.00000000e+00j -1.48779215e+00+4.34923380e-22j\n",
      "  -1.48779215e+00+4.34923380e-22j -1.48779215e+00+4.34923380e-22j]\n",
      " [ 1.49742905e+00+0.00000000e+00j  1.49742905e+00+1.98625774e-22j\n",
      "   1.49742905e+00+1.98625774e-22j  1.49742905e+00+1.98625774e-22j\n",
      "  -1.49742905e+00+0.00000000e+00j -1.49742905e+00-1.98625774e-22j\n",
      "  -1.49742905e+00-1.98625774e-22j -1.49742905e+00-1.98625774e-22j]\n",
      " [ 1.46782441e+00+7.13293971e-22j  1.46782441e+00+7.13293971e-22j\n",
      "   1.46782441e+00+0.00000000e+00j  1.46782441e+00+7.13293971e-22j\n",
      "  -1.46782441e+00-7.13293971e-22j -1.46782441e+00-7.13293971e-22j\n",
      "  -1.46782441e+00+0.00000000e+00j -1.46782441e+00-7.13293971e-22j]\n",
      " [ 1.43057611e+00+5.34134083e-22j  1.43057611e+00+5.34134083e-22j\n",
      "   1.43057611e+00+5.34134083e-22j  1.43057611e+00+5.34134083e-22j\n",
      "  -1.43057611e+00-5.34134083e-22j -1.43057611e+00-5.34134083e-22j\n",
      "  -1.43057611e+00-5.34134083e-22j -1.43057611e+00-5.34134083e-22j]\n",
      " [ 1.41421356e+00+2.65984009e-37j  1.41421356e+00+2.65984009e-37j\n",
      "   1.41421356e+00+2.65984009e-37j  1.41421356e+00+2.65984009e-37j\n",
      "  -1.41421356e+00-2.65984009e-37j -1.41421356e+00-2.65984009e-37j\n",
      "  -1.41421356e+00-2.65984009e-37j -1.41421356e+00-2.65984009e-37j]\n",
      " [ 1.36219415e+00+5.11510248e-17j  1.36219415e+00-2.75942711e-18j\n",
      "   1.36219415e+00+9.66154282e-17j  1.36219415e+00-2.77555756e-17j\n",
      "  -1.36219415e+00-3.33934269e-16j -1.36219415e+00-7.60220493e-18j\n",
      "  -1.36219415e+00-2.26989663e-17j -1.36219415e+00-7.10491236e-18j]\n",
      " [ 1.20996282e+00+3.46944695e-17j  1.20996282e+00+2.53269627e-16j\n",
      "   1.20996282e+00+7.76393810e-17j  1.20996282e+00+1.12844246e-17j\n",
      "  -1.20996282e+00-3.33066907e-16j -1.20996282e+00+1.66533454e-16j\n",
      "  -1.20996282e+00+4.30114420e-18j -1.20996282e+00-3.66981172e-17j]\n",
      " [ 9.68718686e-01+5.55111512e-17j  9.68718686e-01-4.72591546e-17j\n",
      "   9.68718686e-01-1.88429686e-17j  9.68718686e-01+1.25604163e-16j\n",
      "  -9.68718686e-01+2.95637975e-17j -9.68718686e-01-4.79108940e-16j\n",
      "  -9.68718686e-01-8.46997844e-18j -9.68718686e-01+1.30375311e-16j]\n",
      " [ 6.56209261e-01+1.21718113e-16j  6.56209261e-01-9.10956454e-17j\n",
      "   6.56209261e-01+1.93279842e-16j  6.56209261e-01-7.07767178e-16j\n",
      "  -6.56209261e-01+3.27862737e-16j -6.56209261e-01-1.47662361e-16j\n",
      "  -6.56209261e-01+1.87764802e-16j -6.56209261e-01-4.85722573e-16j]\n",
      " [ 2.95424782e-01-4.55405409e-17j  2.95424782e-01+7.00663899e-17j\n",
      "   2.95424782e-01-1.17060480e-15j  2.95424782e-01+3.03188700e-16j\n",
      "  -2.95424782e-01-2.81936935e-16j -2.95424782e-01+5.92725045e-16j\n",
      "  -2.95424782e-01-1.22888544e-16j -2.95424782e-01-6.19725912e-16j]\n",
      " [ 6.45239223e-09+6.45239191e-09j  6.45239218e-09+6.45239189e-09j\n",
      "   6.45239218e-09-6.45239189e-09j  1.17278415e-12+0.00000000e+00j\n",
      "  -1.17316668e-12+0.00000000e+00j -6.45239226e-09-6.45239189e-09j\n",
      "  -6.45239226e-09+6.45239189e-09j -6.45239231e-09-6.45239197e-09j]\n",
      " [ 3.80046032e-01-8.27349175e-17j  3.80046032e-01+8.27349175e-17j\n",
      "   3.80046032e-01+2.11947530e-16j  3.80046032e-01-9.67674622e-17j\n",
      "  -3.80046032e-01-1.26960074e-16j -3.80046032e-01+2.44201257e-17j\n",
      "  -3.80046032e-01+8.27349175e-17j -3.80046032e-01-8.27349175e-17j]\n",
      " [ 7.32444202e-01+2.90861105e-17j  7.32444202e-01-1.51722152e-17j\n",
      "   7.32444202e-01+0.00000000e+00j  7.32444202e-01+1.51722152e-17j\n",
      "  -7.32444202e-01+0.00000000e+00j -7.32444202e-01-1.51722152e-17j\n",
      "  -7.32444202e-01-8.45972618e-17j -7.32444202e-01+1.51722152e-17j]\n",
      " [ 1.03282295e+00+3.24174756e-16j  1.03282295e+00+5.89037245e-17j\n",
      "   1.03282295e+00+1.81951663e-17j  1.03282295e+00-3.04114827e-16j\n",
      "  -1.03282295e+00+5.74238905e-18j -1.03282295e+00-2.49800181e-16j\n",
      "  -1.03282295e+00-2.57038254e-17j -1.03282295e+00-1.81951663e-17j]\n",
      " [ 1.26312767e+00+9.77117427e-18j  1.26312767e+00+3.15712372e-18j\n",
      "   1.26312767e+00-8.58946052e-17j  1.26312767e+00-6.31005664e-17j\n",
      "  -1.26312767e+00+5.33819222e-17j -1.26312767e+00+2.49768953e-18j\n",
      "  -1.26312767e+00+3.57540780e-17j -1.26312767e+00+8.37004077e-17j]\n",
      " [ 1.41421356e+00-1.40961954e-17j  1.41421356e+00-1.49186219e-16j\n",
      "   1.41421356e+00+7.91874627e-19j  1.41421356e+00+1.15750147e-16j\n",
      "  -1.41421356e+00-1.09449397e-16j -1.41421356e+00+3.81193271e-17j\n",
      "  -1.41421356e+00-2.39828379e-17j -1.41421356e+00-2.49749359e-16j]\n",
      " [ 1.48779215e+00-6.16570346e-17j  1.48779215e+00-2.01013383e-19j\n",
      "   1.48779215e+00-5.02203046e-17j  1.48779215e+00+1.17729109e-17j\n",
      "  -1.48779215e+00+5.64009500e-17j -1.48779215e+00+3.51466819e-17j\n",
      "  -1.48779215e+00-5.86107118e-17j -1.48779215e+00+5.05348205e-17j]\n",
      " [ 1.49742905e+00+2.43611970e-17j  1.49742905e+00-3.52213609e-17j\n",
      "   1.49742905e+00-1.37445020e-17j  1.49742905e+00+1.59624773e-20j\n",
      "  -1.49742905e+00-2.91468474e-17j -1.49742905e+00-1.08387970e-18j\n",
      "  -1.49742905e+00-5.46480567e-17j -1.49742905e+00+8.42233215e-17j]\n",
      " [ 1.46782441e+00+1.10486978e-16j  1.46782441e+00+9.84935803e-17j\n",
      "   1.46782441e+00+2.45875610e-19j  1.46782441e+00-1.04034280e-17j\n",
      "  -1.46782441e+00+7.66039657e-17j -1.46782441e+00-1.25666400e-17j\n",
      "  -1.46782441e+00+9.93538214e-17j -1.46782441e+00-1.53858159e-16j]\n",
      " [ 1.43057611e+00-6.09443701e-18j  1.43057611e+00+2.54779169e-16j\n",
      "   1.43057611e+00-6.66140676e-17j  1.43057611e+00+1.84856470e-17j\n",
      "  -1.43057611e+00-1.43756866e-16j -1.43057611e+00+1.05694134e-16j\n",
      "  -1.43057611e+00-9.24485640e-17j -1.43057611e+00+6.90245151e-17j]\n",
      " [ 1.41421356e+00+2.50101385e-17j  1.41421356e+00-1.22761182e-16j\n",
      "   1.41421356e+00-3.51281504e-17j  1.41421356e+00+2.63221066e-19j\n",
      "  -1.41421356e+00+1.36795556e-16j -1.41421356e+00+7.24297873e-17j\n",
      "  -1.41421356e+00+6.61365770e-17j -1.41421356e+00-5.62286014e-17j]\n",
      " [ 1.36219415e+00+6.59194921e-17j  1.36219415e+00+2.32734404e-18j\n",
      "   1.36219415e+00+3.36004634e-17j  1.36219415e+00+4.06406403e-17j\n",
      "  -1.36219415e+00+2.29290241e-17j -1.36219415e+00+1.64365049e-16j\n",
      "  -1.36219415e+00-1.37791294e-18j -1.36219415e+00+1.12133610e-16j]\n",
      " [ 1.20996282e+00+4.64449187e-17j  1.20996282e+00+0.00000000e+00j\n",
      "   1.20996282e+00+7.64717986e-18j  1.20996282e+00-4.14578371e-17j\n",
      "  -1.20996282e+00+4.05482977e-17j -1.20996282e+00-2.65206796e-17j\n",
      "  -1.20996282e+00-9.28348110e-18j -1.20996282e+00+7.14489232e-17j]\n",
      " [ 9.68718686e-01+7.64446421e-18j  9.68718686e-01+1.04670803e-17j\n",
      "   9.68718686e-01+6.93889390e-18j  9.68718686e-01-9.13943204e-19j\n",
      "  -9.68718686e-01+1.98156804e-18j -9.68718686e-01+3.36455505e-18j\n",
      "  -9.68718686e-01+3.27574640e-17j -9.68718686e-01-5.39390581e-18j]\n",
      " [ 6.56209261e-01-5.16986074e-18j  6.56209261e-01+1.55792529e-18j\n",
      "   6.56209261e-01-5.17028911e-18j  6.56209261e-01+1.06273973e-18j\n",
      "  -6.56209261e-01+0.00000000e+00j -6.56209261e-01+1.43114687e-16j\n",
      "  -6.56209261e-01-2.51363990e-18j -6.56209261e-01-3.31499599e-18j]\n",
      " [ 2.95424782e-01+1.02174531e-18j  2.95424782e-01-3.15671553e-21j\n",
      "   2.95424782e-01-4.38432935e-18j  2.95424782e-01+4.38254847e-18j\n",
      "  -2.95424782e-01-2.78636782e-18j -2.95424782e-01+6.93889390e-18j\n",
      "  -2.95424782e-01-5.62008709e-20j -2.95424782e-01-5.88065347e-19j]\n",
      " [ 1.17316668e-12+0.00000000e+00j  1.17316668e-12+0.00000000e+00j\n",
      "   1.17278415e-12+0.00000000e+00j  1.17278415e-12+0.00000000e+00j\n",
      "  -1.17278415e-12+0.00000000e+00j -1.17278415e-12+0.00000000e+00j\n",
      "  -1.17316668e-12+0.00000000e+00j -1.17316668e-12+0.00000000e+00j]\n",
      " [ 3.80035639e-01-1.62750408e-18j  3.80035639e-01+1.79383538e-18j\n",
      "   3.80035639e-01-1.26547760e-19j  3.80035639e-01+1.60868497e-16j\n",
      "  -3.80035639e-01+6.07153217e-17j -3.80035639e-01+2.90437787e-19j\n",
      "  -3.80035639e-01-1.79383538e-18j -3.80035639e-01-6.09066013e-18j]\n",
      " [ 7.32113367e-01-1.97842663e-17j  7.32113367e-01+1.12839190e-18j\n",
      "   7.32113367e-01-1.56125113e-17j  7.32113367e-01+2.45576688e-18j\n",
      "  -7.32113367e-01+5.55111512e-17j -7.32113367e-01-9.38856191e-18j\n",
      "  -7.32113367e-01-2.35758275e-18j -7.32113367e-01-4.11996826e-18j]\n",
      " [ 1.03033204e+00+1.02346388e-16j  1.03033204e+00+4.33680869e-18j\n",
      "   1.03033204e+00-1.23122328e-19j  1.03033204e+00-5.39334031e-18j\n",
      "  -1.03033204e+00+2.75038427e-18j -1.03033204e+00-8.74476815e-18j\n",
      "  -1.03033204e+00-1.98520208e-18j -1.03033204e+00-1.36762998e-17j]\n",
      " [ 1.25275273e+00+3.29597460e-17j  1.25275273e+00+5.94154034e-17j\n",
      "   1.25275273e+00+2.47245308e-17j  1.25275273e+00+4.72465279e-19j\n",
      "  -1.25275273e+00-1.73472348e-17j -1.25275273e+00-6.80021831e-18j\n",
      "  -1.25275273e+00+1.73033945e-16j -1.25275273e+00+1.25173714e-18j]\n",
      " [ 1.38301273e+00-8.43509290e-17j  1.38301273e+00-6.79132193e-17j\n",
      "   1.38301273e+00+1.47588076e-18j  1.38301273e+00+1.23922848e-16j\n",
      "  -1.38301273e+00-2.93276688e-17j -1.38301273e+00+1.13289810e-16j\n",
      "  -1.38301273e+00+9.61578397e-17j -1.38301273e+00-7.58358068e-17j]\n",
      " [ 1.41152924e+00-4.13801986e-17j  1.41152924e+00+6.50521303e-17j\n",
      "   1.41152924e+00+1.33989442e-18j  1.41152924e+00-3.85264565e-17j\n",
      "  -1.41152924e+00-2.15268851e-17j -1.41152924e+00+8.37546178e-18j\n",
      "  -1.41152924e+00+3.17741945e-17j -1.41152924e+00+1.02732391e-17j]\n",
      " [ 1.33620441e+00+1.56409269e-17j  1.33620441e+00+4.46789234e-19j\n",
      "   1.33620441e+00-2.08586860e-16j  1.33620441e+00+1.73472348e-18j\n",
      "  -1.33620441e+00-1.66533454e-16j -1.33620441e+00-5.24431133e-18j\n",
      "  -1.33620441e+00+1.08662320e-17j -1.33620441e+00+7.19910243e-17j]\n",
      " [ 1.16257964e+00-2.42861287e-17j  1.16257964e+00-2.29362089e-18j\n",
      "   1.16257964e+00-1.18299781e-17j  1.16257964e+00-6.20686357e-17j\n",
      "  -1.16257964e+00-4.29191594e-17j -1.16257964e+00+1.79379555e-16j\n",
      "  -1.16257964e+00-2.69432263e-17j -1.16257964e+00+6.48922675e-17j]\n",
      " [ 9.03427880e-01+3.09786315e-18j  9.03427880e-01+2.67650698e-17j\n",
      "   9.03427880e-01-2.08166817e-17j  9.03427880e-01-1.07772594e-16j\n",
      "  -9.03427880e-01+8.82796133e-17j -9.03427880e-01-5.90981520e-17j\n",
      "  -9.03427880e-01-7.54604712e-17j -9.03427880e-01-1.86293038e-16j]\n",
      " [ 5.77814050e-01-1.10839785e-17j  5.77814050e-01-9.45424294e-17j\n",
      "   5.77814050e-01+1.43021861e-16j  5.77814050e-01-6.12485221e-17j\n",
      "  -5.77814050e-01+2.22044605e-16j -5.77814050e-01+4.06094265e-17j\n",
      "  -5.77814050e-01+1.31064448e-16j -5.77814050e-01-2.05913335e-17j]\n",
      " [ 2.09692432e-01+1.08564030e-16j  2.09692432e-01+5.87552828e-16j\n",
      "   2.09692432e-01+1.93388110e-16j  2.09692432e-01-1.01741319e-15j\n",
      "  -2.09692432e-01+9.75779822e-16j -2.09692432e-01-4.76530525e-16j\n",
      "  -2.09692432e-01-2.63616538e-16j -2.09692432e-01-3.87854509e-16j]]\n",
      "1.4974290465594524 -1.4974290465594515\n"
     ]
    },
    {
     "data": {
      "image/png": "[encoded data removed]",
      "text/plain": [
       "<Figure size 432x288 with 1 Axes>"
      ]
     },
     "metadata": {},
     "output_type": "display_data"
    }
   ],
   "source": [
    "band_high_sym(Hlsw_num, cp_strg , 20)"
   ]
  },
  {
   "cell_type": "code",
   "execution_count": 58,
   "metadata": {},
   "outputs": [],
   "source": [
    "def bdg(hlsw, kx, ky):\n",
    "    # Bogoliubov transformation\n",
    "    sigma_3 = np.diag([1, 1, 1, 1, -1, -1, -1, -1])\n",
    "\n",
    "    global k1\n",
    "    global k2\n",
    "\n",
    "    k1 = sp.Symbol(\"k1\", real=True)\n",
    "    k2 = sp.Symbol(\"k2\", real=True)\n",
    "\n",
    "    H_pure_num = sp.matrices.dense.matrix2numpy(hlsw.subs([(k1, kx), (k2, ky)])).astype(complex)\n",
    "\n",
    "    H_test = H_pure_num-np.transpose(np.conjugate(H_pure_num))\n",
    "\n",
    "    H_BdG = np.matmul(sigma_3, H_pure_num)\n",
    "    eigval_k,eigvec_k = (LA.eig(H_BdG))\n",
    "\n",
    "    idx = np.real(eigval_k).argsort()[::-1]\n",
    "    eigval_k = eigval_k[idx]\n",
    "    eigvec_k = eigvec_k[:, idx]\n",
    "    return eigval_k, eigvec_k"
   ]
  },
  {
   "cell_type": "code",
   "execution_count": 59,
   "metadata": {},
   "outputs": [],
   "source": [
    "def band_high_sym(hlsw, strg, rsln):\n",
    "    eng_all = np.empty((0,8), float)\n",
    "    dk = 2 * np.pi / rsln\n",
    "    fig, ax = spp(facecolor='0.95')\n",
    "\n",
    "    # a = 1\n",
    "    bb = 4 * np.pi / np.sqrt(3)\n",
    "\n",
    "# gamma to X\n",
    "    # step length and number of steps:\n",
    "    n = np.sqrt(3)*bb / 4 / dk\n",
    "    k1_init = 0\n",
    "    k2_init = 0\n",
    "\n",
    "    # denote the high symmetry point\n",
    "    fig.gca().axvline(x=0, color='b', linestyle='dashed')\n",
    "    x_ticks = np.array([0])\n",
    "\n",
    "    i = 0\n",
    "    while i < n:\n",
    "        eng, vec = bdg(hlsw,k1_init + i * dk, k2_init)\n",
    "        eng_all = np.append(eng_all, [eng], axis=0)\n",
    "        print(k1_init + i * dk, k2_init)\n",
    "        i += 1\n",
    "\n",
    "# X to M\n",
    "    # step length and number of steps:\n",
    "    n = bb / 4 / dk\n",
    "\n",
    "    k1_init = np.sqrt(3)*bb / 4\n",
    "    k2_init = 0\n",
    "\n",
    "    # denote the high symmetry point\n",
    "    fig.gca().axvline(x=eng_all.shape[0], color='b', linestyle='dashed')\n",
    "    x_ticks = np.append(x_ticks, [eng_all.shape[0]], axis=0)\n",
    "\n",
    "    i = 0\n",
    "    while i < n:\n",
    "        eng, vec = bdg(hlsw,  k1_init, k2_init - i * dk)\n",
    "        eng_all = np.append(eng_all, [eng], axis=0)\n",
    "        print(k1_init, k2_init - i * dk)\n",
    "        i += 1\n",
    "\n",
    "    # M to Y\n",
    "    # step length and number of steps:\n",
    "    n = np.sqrt(3)*bb / 4 / dk\n",
    "\n",
    "    k1_init = np.sqrt(3)*bb/4\n",
    "    k2_init = bb/4\n",
    "\n",
    "    # denote the high symmetry point\n",
    "    fig.gca().axvline(x=eng_all.shape[0], color='b', linestyle='dashed')\n",
    "    x_ticks = np.append(x_ticks, [eng_all.shape[0]], axis=0)\n",
    "\n",
    "    i = 0\n",
    "    while i < n:\n",
    "        eng, vec = bdg(hlsw, k1_init - i * dk, k2_init)\n",
    "        eng_all = np.append(eng_all, [eng], axis=0)\n",
    "        print(k1_init - i * dk, k2_init)\n",
    "        i += 1\n",
    "\n",
    "    # Y to gamma\n",
    "    # step length and number of steps:\n",
    "    n = bb / 4 / dk\n",
    "\n",
    "    k1_init = 0\n",
    "    k2_init = bb / 4\n",
    "\n",
    "    # denote the high symmetry point\n",
    "    fig.gca().axvline(x=eng_all.shape[0], color='b', linestyle='dashed')\n",
    "    x_ticks = np.append(x_ticks, [eng_all.shape[0]], axis=0)\n",
    "\n",
    "    i = 0\n",
    "    while i < n:\n",
    "        eng, vec = bdg(hlsw, k1_init, k2_init - i * dk)\n",
    "        eng_all = np.append(eng_all, [eng], axis=0)\n",
    "        print(k1_init, k2_init - i * dk)\n",
    "        i += 1\n",
    "\n",
    "    # gamma to M\n",
    "    # step length and number of steps:\n",
    "    n = bb / 2 / dk\n",
    "\n",
    "    k1_init = 0\n",
    "    k2_init = 0\n",
    "\n",
    "    # denote the high symmetry point\n",
    "    fig.gca().axvline(x=eng_all.shape[0], color='b', linestyle='dashed')\n",
    "    x_ticks = np.append(x_ticks, [eng_all.shape[0]], axis=0)\n",
    "\n",
    "    i = 0\n",
    "    while i < n:\n",
    "        eng, vec = bdg(hlsw, k1_init + i * dk * (np.sqrt(3) / 2), k2_init + i * dk * (1 / 2))\n",
    "        eng_all = np.append(eng_all, [eng], axis=0)\n",
    "        print( k1_init + i * dk * (np.sqrt(3) / 2), k2_init + i * dk * (1 / 2))\n",
    "        i += 1\n",
    "    \n",
    "    # denote the high symmetry point\n",
    "    fig.gca().axvline(x=eng_all.shape[0] - 1, color='b', linestyle='dashed')\n",
    "    x_ticks = np.append(x_ticks, [eng_all.shape[0] - 1], axis=0)\n",
    "\n",
    "    num = int(eng_all.size/8)\n",
    "    x = np.linspace(0, num, num, endpoint=False, retstep=False, dtype=None, axis=0)\n",
    "\n",
    "    fig.gca().set_title(\"Band structure along high symmetry line\")\n",
    "    fig.gca().set_xlabel(\"k\")\n",
    "    fig.gca().set_ylabel(\"$ε_{nk}\\ meV$\")\n",
    "    fig.gca().set_xticks(x_ticks)\n",
    "    fig.gca().set_xticklabels(['$\\Gamma$', 'X', 'M', 'Y', \"$\\Gamma$\", 'M'])\n",
    "\n",
    "    print(eng_all)\n",
    "    eng_all = np.reshape(eng_all,(-1,8))\n",
    "    print(np.real(eng_all).max(), np.real(eng_all).min())\n",
    "\n",
    "    i = 0\n",
    "    while i<8:\n",
    "        fig.gca().plot(x, np.real(eng_all[:, i]), color='k')\n",
    "        i+=1\n",
    "\n",
    "    fig.gca().set_ybound(lower=None, upper=np.real(eng_all).max()+5.5)\n",
    "    fig.gca().text(0, np.real(eng_all).max()+3, f\"$[ J1, J2, J3, K, \\Gamma, \\Gamma ', h]$ = [{strg[0]}, {strg[1]}, {strg[2]}, {strg[3]}, {strg[4]}, {strg[5]}, {strg[6]}]\",\n",
    "                   fontsize=10, bbox={'facecolor': '0.8', 'pad': 2})\n",
    "    fig.savefig('band.png')\n"
   ]
  },
  {
   "cell_type": "code",
   "execution_count": null,
   "metadata": {},
   "outputs": [],
   "source": []
  }
 ],
 "metadata": {
  "kernelspec": {
   "display_name": "Python 3",
   "language": "python",
   "name": "python3"
  },
  "language_info": {
   "codemirror_mode": {
    "name": "ipython",
    "version": 3
   },
   "file_extension": ".py",
   "mimetype": "text/x-python",
   "name": "python",
   "nbconvert_exporter": "python",
   "pygments_lexer": "ipython3",
   "version": "3.9.1"
  }
 },
 "nbformat": 4,
 "nbformat_minor": 5
}
