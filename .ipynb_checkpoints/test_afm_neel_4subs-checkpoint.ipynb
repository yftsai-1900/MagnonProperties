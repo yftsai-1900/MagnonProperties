{
 "cells": [
  {
   "cell_type": "code",
   "execution_count": 1,
   "id": "ba44c981e6cd5faa",
   "metadata": {
    "ExecuteTime": {
     "end_time": "2024-06-06T03:54:34.883952Z",
     "start_time": "2024-06-06T03:54:31.947979Z"
    }
   },
   "outputs": [],
   "source": [
    "import sympy as sp\n",
    "import numpy as np\n",
    "from matplotlib.pyplot import subplots as spp\n",
    "from numpy import linalg as LA\n",
    "from sympy.physics.matrices import msigma"
   ]
  },
  {
   "cell_type": "code",
   "execution_count": 2,
   "id": "a5db653b10afe1a1",
   "metadata": {
    "ExecuteTime": {
     "end_time": "2024-06-06T03:54:37.151796Z",
     "start_time": "2024-06-06T03:54:37.136202Z"
    }
   },
   "outputs": [],
   "source": [
    "def distri224(H, Hsub, a, b):\n",
    "    lat = {'0': a, '1': b}\n",
    "    l=0\n",
    "    while l<2:\n",
    "        ll=0\n",
    "        while ll<2:\n",
    "            i=0\n",
    "            while i<2:\n",
    "                j=0\n",
    "                while j<2:\n",
    "                    H[lat[f'{l}']+i*4,lat[f'{ll}']+j*4] = H[lat[f'{l}']+i*4,lat[f'{ll}']+j*4] + Hsub[0+i*2+l,0+j*2+ll]\n",
    "                    j+=1\n",
    "                i+=1\n",
    "            ll+=1\n",
    "        l+=1\n"
   ]
  },
  {
   "cell_type": "code",
   "execution_count": null,
   "metadata": {},
   "outputs": [],
   "source": [
    "H = sp.zeros(8, 8)\n",
    "Hsub = sp.Matrix([[11,12,13,14],[21,22,23,24],[31,32,33,34],[41,42,43,44]])\n",
    "distri224(H, Hsub, 1,0)\n",
    "H"
   ]
  },
  {
   "cell_type": "code",
   "execution_count": null,
   "metadata": {},
   "outputs": [],
   "source": [
    "H = sp.zeros(8, 8)\n",
    "Hsub = sp.Matrix([[11,12,13,14],[21,22,23,24],[31,32,33,34],[41,42,43,44]])\n",
    "distri224(H, Hsub, 3,2)\n",
    "H"
   ]
  },
  {
   "cell_type": "code",
   "execution_count": null,
   "metadata": {
    "scrolled": true
   },
   "outputs": [],
   "source": [
    "H = sp.zeros(8, 8)\n",
    "Hsub = sp.Matrix([[11,12,13,14],[21,22,23,24],[31,32,33,34],[41,42,43,44]])\n",
    "distri224(H, Hsub, 1,2)\n",
    "H"
   ]
  },
  {
   "cell_type": "code",
   "execution_count": null,
   "metadata": {},
   "outputs": [],
   "source": [
    "H = sp.zeros(8, 8)\n",
    "Hsub = sp.Matrix([[11,12,13,14],[21,22,23,24],[31,32,33,34],[41,42,43,44]])\n",
    "distri224(H, Hsub, 3,0)\n",
    "H"
   ]
  },
  {
   "cell_type": "code",
   "execution_count": null,
   "metadata": {},
   "outputs": [],
   "source": [
    "H = sp.zeros(8, 8)\n",
    "Hsub = sp.Matrix([[11,12,13,14],[21,22,23,24],[31,32,33,34],[41,42,43,44]])\n",
    "distri224(H, Hsub, 1,3)\n",
    "H"
   ]
  },
  {
   "cell_type": "code",
   "execution_count": null,
   "metadata": {
    "scrolled": true
   },
   "outputs": [],
   "source": [
    "H = sp.zeros(8, 8)\n",
    "Hsub = sp.Matrix([[11,12,13,14],[21,22,23,24],[31,32,33,34],[41,42,43,44]])\n",
    "distri224(H, Hsub, 3,1)\n",
    "H"
   ]
  },
  {
   "cell_type": "code",
   "execution_count": 3,
   "id": "db7ab77057d9108d",
   "metadata": {
    "ExecuteTime": {
     "end_time": "2024-06-06T03:54:38.859820Z",
     "start_time": "2024-06-06T03:54:38.784423Z"
    }
   },
   "outputs": [],
   "source": [
    "a_i = sp.symbols(\"a1:3\")  # Bravais lattice vectors\n",
    "a = sp.Symbol(\"a\", real=True)\n",
    "I = sp.I\n",
    "pi = sp.pi\n",
    "hb = sp.Symbol(\"ℏ\", real=True)\n",
    "S = sp.Symbol(\"S\", real=True)\n",
    "\n",
    "J = sp.Symbol(\"J\", real=True)  # Heisenberg coupling\n",
    "K = sp.Symbol(\"K\", real=True)  # Kitaev coupling\n",
    "Gamma = sp.Symbol(\"Γ\", real=True)\n",
    "gamma = sp.Symbol(\"Γ'\", real=True)\n",
    "h = sp.Symbol(\"h\", real=True)\n",
    "# up-up couplings\n",
    "theta =0\n",
    "phi = 0\n",
    "\n",
    "V_i = sp.symbols(\"V1:4\")\n",
    "V1 = sp.Matrix([1, 0, 0])\n",
    "V2 = sp.Matrix([0, 1, 0])\n",
    "V3 = sp.Matrix([0, 0, 1])\n",
    "\n",
    "Hberg_uu = V1 * sp.Transpose(V1) + V2 * sp.Transpose(V2) + V3 * sp.Transpose(V3)\n",
    "\n",
    "IsingXX_uu = V1 * sp.Transpose(V1)\n",
    "IsingZZ_uu = V3 * sp.Transpose(V3)\n",
    "\n",
    "XY_uu = V1 * sp.Transpose(V2)\n",
    "XZ_uu = V1 * sp.Transpose(V3)\n",
    "YX_uu = V2 * sp.Transpose(V1)\n",
    "YZ_uu = V2 * sp.Transpose(V3)\n",
    "ZX_uu = V3 * sp.Transpose(V1)\n",
    "ZY_uu = V3 * sp.Transpose(V2)\n",
    "\n",
    "Hx_uu = 2 * K * IsingXX_uu + J * Hberg_uu + Gamma * (YZ_uu + ZY_uu) + gamma * (YX_uu + ZX_uu + XY_uu + XZ_uu)\n",
    "Hz_uu = 2 * K * IsingZZ_uu + J * Hberg_uu + Gamma * (XY_uu + YX_uu) + gamma * (XZ_uu + YZ_uu + ZX_uu + ZY_uu)\n",
    "\n",
    "e = sp.Symbol(\"e\")\n",
    "f = sp.Symbol(\"f\")\n",
    "g = sp.Symbol(\"g\")\n",
    "h = sp.Symbol(\"h\")\n",
    "n_i = sp.Symbol(\"𝑛𝑖\")\n",
    "n_j = sp.Symbol(\"𝑛𝑗\")\n",
    "\n",
    "HPXX = 1 / sp.Integer(2) * (e + f + g + h)\n",
    "HPYY = -1 / sp.Integer(2) * (e - f - g + h)\n",
    "HPZZ = (S - n_i - n_j)\n",
    "HPXY = 1 / (2 * I) * (e - f + g - h)\n",
    "HPYX = 1 / (2 * I) * (e + f - g - h)\n",
    "\n",
    "    # for now we didn't how to calculate single a, a+...\n",
    "HPXZ = 0\n",
    "HPYZ = 0\n",
    "HPZX = 0\n",
    "HPZY = 0\n",
    "\n",
    "HPbosons = sp.Matrix([[HPXX, HPXY, HPXZ], [HPYX, HPYY, HPYZ], [HPZX, HPZY,\n",
    "                                                                   HPZZ]])\n",
    "o = sp.Integer(0)\n",
    "ii = sp.Integer(1)"
   ]
  },
  {
   "cell_type": "code",
   "execution_count": 4,
   "id": "b4b1a3b24d44f148",
   "metadata": {
    "ExecuteTime": {
     "end_time": "2024-06-06T04:12:22.709814Z",
     "start_time": "2024-06-06T04:12:22.277910Z"
    }
   },
   "outputs": [],
   "source": [
    "Theta = np.pi-theta\n",
    "Phi = phi\n",
    "uni = sp.Matrix([[np.cos(Theta/2),np.sin(Theta / 2)],[np.sin(Theta/2)*np.exp(1j*Phi),-np.cos(Theta / 2) * np.exp(1j * Phi)]])\n",
    "uni_dag = sp.transpose(sp.conjugate(uni))\n",
    "\n",
    "\n",
    "pxd = sp.simplify(uni_dag*msigma(1)*uni)\n",
    "pyd = sp.simplify(uni_dag*msigma(2)*uni)\n",
    "pzd = sp.simplify(uni_dag * msigma(3) * uni)\n",
    "\n",
    "W1 = sp.simplify(sp.Matrix([(pxd[0, 1] + pxd[1, 0]) / 2, (pxd[1, 0] - pxd[0, 1]) / (2 * I), (pxd[0, 0] - pxd[1, 1]) / 2]))\n",
    "W2 = sp.simplify(sp.Matrix([(pyd[0, 1] + pyd[1, 0]) / 2, (pyd[1, 0] - pyd[0, 1]) / (2 * I), (pyd[0, 0] - pyd[1, 1]) / 2]))\n",
    "W3 = sp.simplify(sp.Matrix([(pzd[0, 1] + pzd[1, 0]) / 2, (pzd[1, 0] - pzd[0, 1]) / (2 * I), (pzd[0, 0] - pzd[1, 1]) / 2]))"
   ]
  },
  {
   "cell_type": "code",
   "execution_count": null,
   "id": "8d85a2c2b347fa6d",
   "metadata": {
    "ExecuteTime": {
     "end_time": "2024-06-06T04:12:24.186958Z",
     "start_time": "2024-06-06T04:12:24.172915Z"
    }
   },
   "outputs": [],
   "source": [
    "W1"
   ]
  },
  {
   "cell_type": "code",
   "execution_count": null,
   "id": "68031cbd7f4a09f9",
   "metadata": {
    "ExecuteTime": {
     "end_time": "2024-06-06T04:12:40.626055Z",
     "start_time": "2024-06-06T04:12:40.612941Z"
    }
   },
   "outputs": [],
   "source": [
    "W2"
   ]
  },
  {
   "cell_type": "code",
   "execution_count": null,
   "id": "a00afe317ec87cb",
   "metadata": {
    "ExecuteTime": {
     "end_time": "2024-06-06T04:12:52.651725Z",
     "start_time": "2024-06-06T04:12:52.638553Z"
    }
   },
   "outputs": [],
   "source": [
    "W3"
   ]
  },
  {
   "cell_type": "code",
   "execution_count": 6,
   "id": "78726157ca972bf2",
   "metadata": {
    "ExecuteTime": {
     "end_time": "2024-06-06T04:23:26.235545Z",
     "start_time": "2024-06-06T04:23:26.161986Z"
    }
   },
   "outputs": [],
   "source": [
    "######################################################################\n",
    "# down-up couplings\n",
    "Hberg = W1 * sp.Transpose(V1) + W2 * sp.Transpose(V2) + W3 * sp.Transpose(V3)\n",
    "\n",
    "IsingXX = W1 * sp.Transpose(V1)\n",
    "IsingYY = W2 * sp.Transpose(V2)\n",
    "IsingZZ = W3 * sp.Transpose(V3)\n",
    "\n",
    "XY = W1 * sp.Transpose(V2)\n",
    "XZ = W1 * sp.Transpose(V3)\n",
    "YX = W2 * sp.Transpose(V1)\n",
    "YZ = W2 * sp.Transpose(V3)\n",
    "ZX = W3 * sp.Transpose(V1)\n",
    "ZY = W3 * sp.Transpose(V2)\n",
    "\n",
    "Hx_du = 2 * K * IsingXX + J * Hberg + Gamma * (YZ + ZY) + gamma * (YX + ZX + XY + XZ)\n",
    "Hy_du = 2 * K * IsingYY + J * Hberg + Gamma * (XZ + ZX) + gamma * (YZ + YX + ZY + XY)\n",
    "Hz_du = 2 * K * IsingZZ + J * Hberg + Gamma * (XY + YX) + gamma * (XZ + YZ + ZX + ZY)\n",
    "\n",
    "################################################################\n",
    "HPHx_du = sp.Integer(0)\n",
    "\n",
    "i = 0\n",
    "while i < 3:\n",
    "    j = 0\n",
    "    while j < 3:\n",
    "        HPHx_du = HPHx_du + Hz_du[i, j] * HPbosons[i, j]\n",
    "        j += 1\n",
    "    i += 1\n",
    "\n",
    "HPHx_du = HPHx_du.expand()\n",
    "\n",
    "Coef_HPHx_du = sp.Matrix([o, o, o, o, o, o])\n",
    "Coef_HPHx_du[0, 0] = HPHx_du.coeff(e)\n",
    "Coef_HPHx_du[1, 0] = HPHx_du.coeff(f)\n",
    "Coef_HPHx_du[2, 0] = HPHx_du.coeff(g)\n",
    "Coef_HPHx_du[3, 0] = HPHx_du.coeff(h)\n",
    "Coef_HPHx_du[4, 0] = HPHx_du.coeff(n_i)\n",
    "Coef_HPHx_du[5, 0] = HPHx_du.coeff(n_j)\n",
    "\n",
    "Mat_Coef_HPHx_du = sp.Matrix([\n",
    "    [Coef_HPHx_du[4, 0], Coef_HPHx_du[2, 0], o, Coef_HPHx_du[3, 0]],\n",
    "    [Coef_HPHx_du[1, 0], Coef_HPHx_du[5, 0], Coef_HPHx_du[3, 0], o],\n",
    "    [o, Coef_HPHx_du[0, 0], Coef_HPHx_du[5, 0], Coef_HPHx_du[2, 0]],\n",
    "    [Coef_HPHx_du[0, 0], o, Coef_HPHx_du[1, 0], Coef_HPHx_du[4, 0]]\n",
    "    ])\n",
    "\n",
    "################################################################\n",
    "HPHy_du = sp.Integer(0)\n",
    "\n",
    "i = 0\n",
    "while i < 3:\n",
    "    j = 0\n",
    "    while j < 3:\n",
    "        HPHy_du = HPHy_du + Hy_du[i, j] * HPbosons[i, j]\n",
    "        j += 1\n",
    "    i += 1\n",
    "\n",
    "HPHy_du = HPHy_du.expand()\n",
    "\n",
    "Coef_HPHy_du = sp.Matrix([o, o, o, o, o, o])\n",
    "Coef_HPHy_du[0, 0] = HPHy_du.coeff(e)\n",
    "Coef_HPHy_du[1, 0] = HPHy_du.coeff(f)\n",
    "Coef_HPHy_du[2, 0] = HPHy_du.coeff(g)\n",
    "Coef_HPHy_du[3, 0] = HPHy_du.coeff(h)\n",
    "Coef_HPHy_du[4, 0] = HPHy_du.coeff(n_i)\n",
    "Coef_HPHy_du[5, 0] = HPHy_du.coeff(n_j)\n",
    "\n",
    "Mat_Coef_HPHy_du = sp.Matrix([\n",
    "    [Coef_HPHy_du[4, 0], Coef_HPHy_du[2, 0], o, Coef_HPHy_du[3, 0]],\n",
    "    [Coef_HPHy_du[1, 0], Coef_HPHy_du[5, 0], Coef_HPHy_du[3, 0], o],\n",
    "    [o, Coef_HPHy_du[0, 0], Coef_HPHy_du[5, 0], Coef_HPHy_du[2, 0]],\n",
    "    [Coef_HPHy_du[0, 0], o, Coef_HPHy_du[1, 0], Coef_HPHy_du[4, 0]]\n",
    "    ])\n",
    "\n",
    "\n",
    "################################################################\n",
    "HPHz_du = sp.Integer(0)\n",
    "\n",
    "i = 0\n",
    "while i < 3:\n",
    "    j = 0\n",
    "    while j < 3:\n",
    "        HPHz_du = HPHz_du + Hz_du[i, j] * HPbosons[i, j]\n",
    "        j += 1\n",
    "    i += 1\n",
    "\n",
    "HPHz_du = HPHz_du.expand()\n",
    "\n",
    "Coef_HPHz_du = sp.Matrix([o, o, o, o, o, o])\n",
    "Coef_HPHz_du[0, 0] = HPHz_du.coeff(e)\n",
    "Coef_HPHz_du[1, 0] = HPHz_du.coeff(f)\n",
    "Coef_HPHz_du[2, 0] = HPHz_du.coeff(g)\n",
    "Coef_HPHz_du[3, 0] = HPHz_du.coeff(h)\n",
    "Coef_HPHz_du[4, 0] = HPHz_du.coeff(n_i)\n",
    "Coef_HPHz_du[5, 0] = HPHz_du.coeff(n_j)\n",
    "\n",
    "Mat_Coef_HPHz_du = sp.Matrix([\n",
    "    [Coef_HPHz_du[4, 0], Coef_HPHz_du[2, 0], o, Coef_HPHz_du[3, 0]],\n",
    "    [Coef_HPHz_du[1, 0], Coef_HPHz_du[5, 0], Coef_HPHz_du[3, 0], o],\n",
    "    [o, Coef_HPHz_du[0, 0], Coef_HPHz_du[5, 0], Coef_HPHz_du[2, 0]],\n",
    "    [Coef_HPHz_du[0, 0], o, Coef_HPHz_du[1, 0], Coef_HPHz_du[4, 0]]\n",
    "    ])"
   ]
  },
  {
   "cell_type": "code",
   "execution_count": null,
   "metadata": {},
   "outputs": [],
   "source": [
    "sp.transpose(sp.conjugate(Mat_Coef_HPHy_du))-Mat_Coef_HPHy_du"
   ]
  },
  {
   "cell_type": "code",
   "execution_count": null,
   "metadata": {},
   "outputs": [],
   "source": [
    "Hy"
   ]
  },
  {
   "cell_type": "code",
   "execution_count": null,
   "metadata": {
    "scrolled": true
   },
   "outputs": [],
   "source": [
    "HPbosons"
   ]
  },
  {
   "cell_type": "code",
   "execution_count": null,
   "metadata": {},
   "outputs": [],
   "source": [
    "Mat_Coef_HPHy_du"
   ]
  },
  {
   "cell_type": "code",
   "execution_count": null,
   "metadata": {},
   "outputs": [],
   "source": [
    "Hberg"
   ]
  },
  {
   "cell_type": "code",
   "execution_count": 7,
   "id": "a901ce87b99d2233",
   "metadata": {
    "ExecuteTime": {
     "end_time": "2024-06-06T04:23:27.671359Z",
     "start_time": "2024-06-06T04:23:27.636505Z"
    }
   },
   "outputs": [],
   "source": [
    "#####################################################################\n",
    "Hlsw = sp.zeros(8, 8)\n",
    "\n",
    "    # Fourier transform\n",
    "deltaX = a / sp.sqrt(3) * sp.Matrix([-sp.sqrt(3) / 2, 1 / sp.Integer(2)])\n",
    "deltaY = a / sp.sqrt(3) * sp.Matrix([sp.Integer(0), sp.Integer(-1)])\n",
    "deltaZ = a / sp.sqrt(3) * sp.Matrix([sp.sqrt(3) / 2, 1 / sp.Integer(2)])\n",
    "\n",
    "global k1\n",
    "global k2\n",
    "\n",
    "k1 = sp.Symbol(\"k1\", real=True)\n",
    "k2 = sp.Symbol(\"k2\", real=True)\n",
    "k = sp.Matrix([k1, k2])\n",
    "\n",
    "sx = sp.exp(I * k.dot(deltaX))\n",
    "sy = sp.exp(I * k.dot(deltaY))\n",
    "sz = sp.exp(I * k.dot(deltaZ))\n",
    "tx = sp.exp(-I * k.dot(deltaX))\n",
    "ty = sp.exp(-I * k.dot(deltaY))\n",
    "tz = sp.exp(-I * k.dot(deltaZ))\n",
    "\n",
    "FT_Coef_X = sp.Matrix([[ii, sx, o, sx], [tx, ii, tx, o], [o, sx, ii, sx], [tx, o,\n",
    "                                                                               tx, ii]])\n",
    "FT_Coef_Y = sp.Matrix([[ii, sy, o, sy], [ty, ii, ty, o], [o, sy, ii, sy], [ty, o,\n",
    "                                                                               ty, ii]])\n",
    "FT_Coef_Z = sp.Matrix([[ii, sz, o, sz], [tz, ii, tz, o], [o, sz, ii, sz], [tz, o,\n",
    "                                                                               tz, ii]])"
   ]
  },
  {
   "cell_type": "code",
   "execution_count": 9,
   "id": "baef4f3340901d28",
   "metadata": {
    "ExecuteTime": {
     "end_time": "2024-06-06T04:23:29.235709Z",
     "start_time": "2024-06-06T04:23:29.207288Z"
    }
   },
   "outputs": [
    {
     "data": {
      "text/latex": [
       "$\\displaystyle \\left[\\begin{matrix}1.0 J + 2.0 K - 1.22464679914735 \\cdot 10^{-16} Γ' & \\left(- 1.0 i Γ + 6.12323399573677 \\cdot 10^{-17} Γ' - 6.12323399573677 \\cdot 10^{-17} i Γ'\\right) e^{i \\left(- \\frac{a k_{1}}{2} + \\frac{\\sqrt{3} a k_{2}}{6}\\right)} & 0 & \\left(1.0 J + 6.12323399573677 \\cdot 10^{-17} Γ' + 6.12323399573677 \\cdot 10^{-17} i Γ'\\right) e^{i \\left(- \\frac{a k_{1}}{2} + \\frac{\\sqrt{3} a k_{2}}{6}\\right)}\\\\\\left(1.0 i Γ + 6.12323399573677 \\cdot 10^{-17} Γ' + 6.12323399573677 \\cdot 10^{-17} i Γ'\\right) e^{- i \\left(- \\frac{a k_{1}}{2} + \\frac{\\sqrt{3} a k_{2}}{6}\\right)} & 1.0 J + 2.0 K - 1.22464679914735 \\cdot 10^{-16} Γ' & \\left(1.0 J + 6.12323399573677 \\cdot 10^{-17} Γ' + 6.12323399573677 \\cdot 10^{-17} i Γ'\\right) e^{- i \\left(- \\frac{a k_{1}}{2} + \\frac{\\sqrt{3} a k_{2}}{6}\\right)} & 0\\\\0 & \\left(1.0 J + 6.12323399573677 \\cdot 10^{-17} Γ' - 6.12323399573677 \\cdot 10^{-17} i Γ'\\right) e^{i \\left(- \\frac{a k_{1}}{2} + \\frac{\\sqrt{3} a k_{2}}{6}\\right)} & 1.0 J + 2.0 K - 1.22464679914735 \\cdot 10^{-16} Γ' & \\left(- 1.0 i Γ + 6.12323399573677 \\cdot 10^{-17} Γ' - 6.12323399573677 \\cdot 10^{-17} i Γ'\\right) e^{i \\left(- \\frac{a k_{1}}{2} + \\frac{\\sqrt{3} a k_{2}}{6}\\right)}\\\\\\left(1.0 J + 6.12323399573677 \\cdot 10^{-17} Γ' - 6.12323399573677 \\cdot 10^{-17} i Γ'\\right) e^{- i \\left(- \\frac{a k_{1}}{2} + \\frac{\\sqrt{3} a k_{2}}{6}\\right)} & 0 & \\left(1.0 i Γ + 6.12323399573677 \\cdot 10^{-17} Γ' + 6.12323399573677 \\cdot 10^{-17} i Γ'\\right) e^{- i \\left(- \\frac{a k_{1}}{2} + \\frac{\\sqrt{3} a k_{2}}{6}\\right)} & 1.0 J + 2.0 K - 1.22464679914735 \\cdot 10^{-16} Γ'\\end{matrix}\\right]$"
      ],
      "text/plain": [
       "Matrix([\n",
       "[                                                           1.0*J + 2.0*K - 1.22464679914735e-16*Γ', (-1.0*I*Γ + 6.12323399573677e-17*Γ' - 6.12323399573677e-17*I*Γ')*exp(I*(-a*k1/2 + sqrt(3)*a*k2/6)),                                                                                                  0,    (1.0*J + 6.12323399573677e-17*Γ' + 6.12323399573677e-17*I*Γ')*exp(I*(-a*k1/2 + sqrt(3)*a*k2/6))],\n",
       "[(1.0*I*Γ + 6.12323399573677e-17*Γ' + 6.12323399573677e-17*I*Γ')*exp(-I*(-a*k1/2 + sqrt(3)*a*k2/6)),                                                            1.0*J + 2.0*K - 1.22464679914735e-16*Γ',   (1.0*J + 6.12323399573677e-17*Γ' + 6.12323399573677e-17*I*Γ')*exp(-I*(-a*k1/2 + sqrt(3)*a*k2/6)),                                                                                                  0],\n",
       "[                                                                                                 0,    (1.0*J + 6.12323399573677e-17*Γ' - 6.12323399573677e-17*I*Γ')*exp(I*(-a*k1/2 + sqrt(3)*a*k2/6)),                                                            1.0*J + 2.0*K - 1.22464679914735e-16*Γ', (-1.0*I*Γ + 6.12323399573677e-17*Γ' - 6.12323399573677e-17*I*Γ')*exp(I*(-a*k1/2 + sqrt(3)*a*k2/6))],\n",
       "[  (1.0*J + 6.12323399573677e-17*Γ' - 6.12323399573677e-17*I*Γ')*exp(-I*(-a*k1/2 + sqrt(3)*a*k2/6)),                                                                                                  0, (1.0*I*Γ + 6.12323399573677e-17*Γ' + 6.12323399573677e-17*I*Γ')*exp(-I*(-a*k1/2 + sqrt(3)*a*k2/6)),                                                            1.0*J + 2.0*K - 1.22464679914735e-16*Γ']])"
      ]
     },
     "execution_count": 9,
     "metadata": {},
     "output_type": "execute_result"
    }
   ],
   "source": [
    "# x bonds:\n",
    "\n",
    "# up-down x bonds\n",
    "HlswTwoSub = sp.Matrix([[o, o, o, o], [o, o, o, o], [o, o, o, o], [o, o, o, o]])\n",
    "\n",
    "i = 0\n",
    "while i < 4:\n",
    "    j = 0\n",
    "    while j < 4:\n",
    "        HlswTwoSub[i, j] = Mat_Coef_HPHx_du[i, j] * FT_Coef_X[i, j]\n",
    "        j += 1\n",
    "    i += 1\n",
    "\n",
    "distri224(Hlsw, HlswTwoSub, 1, 0)\n",
    "HlswTwoSub\n",
    "\n",
    "distri224(Hlsw, HlswTwoSub, 3, 2)\n",
    "HlswTwoSub"
   ]
  },
  {
   "cell_type": "code",
   "execution_count": null,
   "id": "bf5db037b8c9a5a8",
   "metadata": {
    "ExecuteTime": {
     "end_time": "2024-06-06T04:30:48.751314Z",
     "start_time": "2024-06-06T04:30:48.676221Z"
    },
    "scrolled": false
   },
   "outputs": [],
   "source": [
    "Hlsw"
   ]
  },
  {
   "cell_type": "code",
   "execution_count": 10,
   "metadata": {
    "scrolled": false
   },
   "outputs": [
    {
     "data": {
      "text/latex": [
       "$\\displaystyle \\left[\\begin{matrix}1.0 J - 1.22464679914735 \\cdot 10^{-16} Γ & \\left(- 1.0 K + 6.12323399573677 \\cdot 10^{-17} Γ - 1.0 i Γ'\\right) e^{- \\frac{\\sqrt{3} i a k_{2}}{3}} & 0 & \\left(1.0 J + 1.0 K + 6.12323399573677 \\cdot 10^{-17} Γ + 1.11022302462516 \\cdot 10^{-16} i Γ'\\right) e^{- \\frac{\\sqrt{3} i a k_{2}}{3}}\\\\\\left(- 1.0 K + 6.12323399573677 \\cdot 10^{-17} Γ + 1.0 i Γ'\\right) e^{\\frac{\\sqrt{3} i a k_{2}}{3}} & 1.0 J - 1.22464679914735 \\cdot 10^{-16} Γ & \\left(1.0 J + 1.0 K + 6.12323399573677 \\cdot 10^{-17} Γ + 1.11022302462516 \\cdot 10^{-16} i Γ'\\right) e^{\\frac{\\sqrt{3} i a k_{2}}{3}} & 0\\\\0 & \\left(1.0 J + 1.0 K + 6.12323399573677 \\cdot 10^{-17} Γ - 1.11022302462516 \\cdot 10^{-16} i Γ'\\right) e^{- \\frac{\\sqrt{3} i a k_{2}}{3}} & 1.0 J - 1.22464679914735 \\cdot 10^{-16} Γ & \\left(- 1.0 K + 6.12323399573677 \\cdot 10^{-17} Γ - 1.0 i Γ'\\right) e^{- \\frac{\\sqrt{3} i a k_{2}}{3}}\\\\\\left(1.0 J + 1.0 K + 6.12323399573677 \\cdot 10^{-17} Γ - 1.11022302462516 \\cdot 10^{-16} i Γ'\\right) e^{\\frac{\\sqrt{3} i a k_{2}}{3}} & 0 & \\left(- 1.0 K + 6.12323399573677 \\cdot 10^{-17} Γ + 1.0 i Γ'\\right) e^{\\frac{\\sqrt{3} i a k_{2}}{3}} & 1.0 J - 1.22464679914735 \\cdot 10^{-16} Γ\\end{matrix}\\right]$"
      ],
      "text/plain": [
       "Matrix([\n",
       "[                                                            1.0*J - 1.22464679914735e-16*Γ,                         (-1.0*K + 6.12323399573677e-17*Γ - 1.0*I*Γ')*exp(-sqrt(3)*I*a*k2/3),                                                                                          0, (1.0*J + 1.0*K + 6.12323399573677e-17*Γ + 1.11022302462516e-16*I*Γ')*exp(-sqrt(3)*I*a*k2/3)],\n",
       "[                        (-1.0*K + 6.12323399573677e-17*Γ + 1.0*I*Γ')*exp(sqrt(3)*I*a*k2/3),                                                              1.0*J - 1.22464679914735e-16*Γ, (1.0*J + 1.0*K + 6.12323399573677e-17*Γ + 1.11022302462516e-16*I*Γ')*exp(sqrt(3)*I*a*k2/3),                                                                                           0],\n",
       "[                                                                                         0, (1.0*J + 1.0*K + 6.12323399573677e-17*Γ - 1.11022302462516e-16*I*Γ')*exp(-sqrt(3)*I*a*k2/3),                                                             1.0*J - 1.22464679914735e-16*Γ,                         (-1.0*K + 6.12323399573677e-17*Γ - 1.0*I*Γ')*exp(-sqrt(3)*I*a*k2/3)],\n",
       "[(1.0*J + 1.0*K + 6.12323399573677e-17*Γ - 1.11022302462516e-16*I*Γ')*exp(sqrt(3)*I*a*k2/3),                                                                                           0,                         (-1.0*K + 6.12323399573677e-17*Γ + 1.0*I*Γ')*exp(sqrt(3)*I*a*k2/3),                                                              1.0*J - 1.22464679914735e-16*Γ]])"
      ]
     },
     "execution_count": 10,
     "metadata": {},
     "output_type": "execute_result"
    }
   ],
   "source": [
    "# y bonds:\n",
    "\n",
    "# down-up y bonds\n",
    "HlswTwoSub = sp.Matrix([[o, o, o, o], [o, o, o, o], [o, o, o, o], [o, o, o, o]])\n",
    "\n",
    "i = 0\n",
    "while i < 4:\n",
    "    j = 0\n",
    "    while j < 4:\n",
    "        HlswTwoSub[i, j] = Mat_Coef_HPHy_du[i, j] * FT_Coef_Y[i, j]\n",
    "        j += 1\n",
    "    i += 1\n",
    "\n",
    "distri224(Hlsw, HlswTwoSub, 1, 2)\n",
    "\n",
    "distri224(Hlsw, HlswTwoSub, 3, 0)\n",
    "HlswTwoSub"
   ]
  },
  {
   "cell_type": "code",
   "execution_count": null,
   "metadata": {
    "scrolled": false
   },
   "outputs": [],
   "source": [
    "Mat_Coef_HPHy_du"
   ]
  },
  {
   "cell_type": "code",
   "execution_count": null,
   "metadata": {},
   "outputs": [],
   "source": [
    "FT_Coef_Y"
   ]
  },
  {
   "cell_type": "code",
   "execution_count": 11,
   "metadata": {},
   "outputs": [
    {
     "data": {
      "text/latex": [
       "$\\displaystyle \\left[\\begin{matrix}1.0 J + 2.0 K - 1.22464679914735 \\cdot 10^{-16} Γ' & \\left(- 1.0 i Γ + 6.12323399573677 \\cdot 10^{-17} Γ' - 6.12323399573677 \\cdot 10^{-17} i Γ'\\right) e^{i \\left(\\frac{a k_{1}}{2} + \\frac{\\sqrt{3} a k_{2}}{6}\\right)} & 0 & \\left(1.0 J + 6.12323399573677 \\cdot 10^{-17} Γ' + 6.12323399573677 \\cdot 10^{-17} i Γ'\\right) e^{i \\left(\\frac{a k_{1}}{2} + \\frac{\\sqrt{3} a k_{2}}{6}\\right)}\\\\\\left(1.0 i Γ + 6.12323399573677 \\cdot 10^{-17} Γ' + 6.12323399573677 \\cdot 10^{-17} i Γ'\\right) e^{- i \\left(\\frac{a k_{1}}{2} + \\frac{\\sqrt{3} a k_{2}}{6}\\right)} & 1.0 J + 2.0 K - 1.22464679914735 \\cdot 10^{-16} Γ' & \\left(1.0 J + 6.12323399573677 \\cdot 10^{-17} Γ' + 6.12323399573677 \\cdot 10^{-17} i Γ'\\right) e^{- i \\left(\\frac{a k_{1}}{2} + \\frac{\\sqrt{3} a k_{2}}{6}\\right)} & 0\\\\0 & \\left(1.0 J + 6.12323399573677 \\cdot 10^{-17} Γ' - 6.12323399573677 \\cdot 10^{-17} i Γ'\\right) e^{i \\left(\\frac{a k_{1}}{2} + \\frac{\\sqrt{3} a k_{2}}{6}\\right)} & 1.0 J + 2.0 K - 1.22464679914735 \\cdot 10^{-16} Γ' & \\left(- 1.0 i Γ + 6.12323399573677 \\cdot 10^{-17} Γ' - 6.12323399573677 \\cdot 10^{-17} i Γ'\\right) e^{i \\left(\\frac{a k_{1}}{2} + \\frac{\\sqrt{3} a k_{2}}{6}\\right)}\\\\\\left(1.0 J + 6.12323399573677 \\cdot 10^{-17} Γ' - 6.12323399573677 \\cdot 10^{-17} i Γ'\\right) e^{- i \\left(\\frac{a k_{1}}{2} + \\frac{\\sqrt{3} a k_{2}}{6}\\right)} & 0 & \\left(1.0 i Γ + 6.12323399573677 \\cdot 10^{-17} Γ' + 6.12323399573677 \\cdot 10^{-17} i Γ'\\right) e^{- i \\left(\\frac{a k_{1}}{2} + \\frac{\\sqrt{3} a k_{2}}{6}\\right)} & 1.0 J + 2.0 K - 1.22464679914735 \\cdot 10^{-16} Γ'\\end{matrix}\\right]$"
      ],
      "text/plain": [
       "Matrix([\n",
       "[                                                          1.0*J + 2.0*K - 1.22464679914735e-16*Γ', (-1.0*I*Γ + 6.12323399573677e-17*Γ' - 6.12323399573677e-17*I*Γ')*exp(I*(a*k1/2 + sqrt(3)*a*k2/6)),                                                                                                 0,    (1.0*J + 6.12323399573677e-17*Γ' + 6.12323399573677e-17*I*Γ')*exp(I*(a*k1/2 + sqrt(3)*a*k2/6))],\n",
       "[(1.0*I*Γ + 6.12323399573677e-17*Γ' + 6.12323399573677e-17*I*Γ')*exp(-I*(a*k1/2 + sqrt(3)*a*k2/6)),                                                           1.0*J + 2.0*K - 1.22464679914735e-16*Γ',   (1.0*J + 6.12323399573677e-17*Γ' + 6.12323399573677e-17*I*Γ')*exp(-I*(a*k1/2 + sqrt(3)*a*k2/6)),                                                                                                 0],\n",
       "[                                                                                                0,    (1.0*J + 6.12323399573677e-17*Γ' - 6.12323399573677e-17*I*Γ')*exp(I*(a*k1/2 + sqrt(3)*a*k2/6)),                                                           1.0*J + 2.0*K - 1.22464679914735e-16*Γ', (-1.0*I*Γ + 6.12323399573677e-17*Γ' - 6.12323399573677e-17*I*Γ')*exp(I*(a*k1/2 + sqrt(3)*a*k2/6))],\n",
       "[  (1.0*J + 6.12323399573677e-17*Γ' - 6.12323399573677e-17*I*Γ')*exp(-I*(a*k1/2 + sqrt(3)*a*k2/6)),                                                                                                 0, (1.0*I*Γ + 6.12323399573677e-17*Γ' + 6.12323399573677e-17*I*Γ')*exp(-I*(a*k1/2 + sqrt(3)*a*k2/6)),                                                           1.0*J + 2.0*K - 1.22464679914735e-16*Γ']])"
      ]
     },
     "execution_count": 11,
     "metadata": {},
     "output_type": "execute_result"
    }
   ],
   "source": [
    "# z bonds:\n",
    "\n",
    "# down-up z bonds\n",
    "HlswTwoSub = sp.Matrix([[o, o, o, o], [o, o, o, o], [o, o, o, o], [o, o, o, o]])\n",
    "\n",
    "i = 0\n",
    "while i < 4:\n",
    "    j = 0\n",
    "    while j < 4:\n",
    "        HlswTwoSub[i, j] = Mat_Coef_HPHz_du[i, j] * FT_Coef_Z[i, j]\n",
    "        j += 1\n",
    "    i += 1\n",
    "\n",
    "distri224(Hlsw, HlswTwoSub, 1, 0)\n",
    "\n",
    "\n",
    "distri224(Hlsw, HlswTwoSub, 3, 2)\n",
    "HlswTwoSub"
   ]
  },
  {
   "cell_type": "code",
   "execution_count": null,
   "metadata": {},
   "outputs": [],
   "source": [
    "HlswTwoSub"
   ]
  },
  {
   "cell_type": "code",
   "execution_count": 12,
   "metadata": {},
   "outputs": [],
   "source": [
    "##########################################################\n",
    "# After using magnon transformation\n",
    "magfield = 1/2 * h * sp.diag(1, 1, -1, -1, 1, 1, -1, -1)\n",
    "    # Assemble\n",
    "Hlsw = 1 / 2 * Hlsw + magfield"
   ]
  },
  {
   "cell_type": "code",
   "execution_count": 13,
   "metadata": {},
   "outputs": [
    {
     "data": {
      "text/latex": [
       "$\\displaystyle \\left[\\begin{matrix}1.5 J + 2.0 K + 0.5 h - 6.12323399573677 \\cdot 10^{-17} Γ - 1.22464679914735 \\cdot 10^{-16} Γ' & 0.5 \\cdot \\left(1.0 i Γ + 6.12323399573677 \\cdot 10^{-17} Γ' + 6.12323399573677 \\cdot 10^{-17} i Γ'\\right) e^{- i \\left(\\frac{a k_{1}}{2} + \\frac{\\sqrt{3} a k_{2}}{6}\\right)} + 0.5 \\cdot \\left(1.0 i Γ + 6.12323399573677 \\cdot 10^{-17} Γ' + 6.12323399573677 \\cdot 10^{-17} i Γ'\\right) e^{- i \\left(- \\frac{a k_{1}}{2} + \\frac{\\sqrt{3} a k_{2}}{6}\\right)} & 0 & 0.5 \\left(- 1.0 K + 6.12323399573677 \\cdot 10^{-17} Γ + 1.0 i Γ'\\right) e^{\\frac{\\sqrt{3} i a k_{2}}{3}} & 0 & 0.5 \\cdot \\left(1.0 J + 6.12323399573677 \\cdot 10^{-17} Γ' + 6.12323399573677 \\cdot 10^{-17} i Γ'\\right) e^{- i \\left(\\frac{a k_{1}}{2} + \\frac{\\sqrt{3} a k_{2}}{6}\\right)} + 0.5 \\cdot \\left(1.0 J + 6.12323399573677 \\cdot 10^{-17} Γ' + 6.12323399573677 \\cdot 10^{-17} i Γ'\\right) e^{- i \\left(- \\frac{a k_{1}}{2} + \\frac{\\sqrt{3} a k_{2}}{6}\\right)} & 0 & 0.5 \\cdot \\left(1.0 J + 1.0 K + 6.12323399573677 \\cdot 10^{-17} Γ + 1.11022302462516 \\cdot 10^{-16} i Γ'\\right) e^{\\frac{\\sqrt{3} i a k_{2}}{3}}\\\\0.5 \\left(- 1.0 i Γ + 6.12323399573677 \\cdot 10^{-17} Γ' - 6.12323399573677 \\cdot 10^{-17} i Γ'\\right) e^{i \\left(- \\frac{a k_{1}}{2} + \\frac{\\sqrt{3} a k_{2}}{6}\\right)} + 0.5 \\left(- 1.0 i Γ + 6.12323399573677 \\cdot 10^{-17} Γ' - 6.12323399573677 \\cdot 10^{-17} i Γ'\\right) e^{i \\left(\\frac{a k_{1}}{2} + \\frac{\\sqrt{3} a k_{2}}{6}\\right)} & 1.5 J + 2.0 K + 0.5 h - 6.12323399573677 \\cdot 10^{-17} Γ - 1.22464679914735 \\cdot 10^{-16} Γ' & 0.5 \\left(- 1.0 K + 6.12323399573677 \\cdot 10^{-17} Γ - 1.0 i Γ'\\right) e^{- \\frac{\\sqrt{3} i a k_{2}}{3}} & 0 & 0.5 \\cdot \\left(1.0 J + 6.12323399573677 \\cdot 10^{-17} Γ' + 6.12323399573677 \\cdot 10^{-17} i Γ'\\right) e^{i \\left(- \\frac{a k_{1}}{2} + \\frac{\\sqrt{3} a k_{2}}{6}\\right)} + 0.5 \\cdot \\left(1.0 J + 6.12323399573677 \\cdot 10^{-17} Γ' + 6.12323399573677 \\cdot 10^{-17} i Γ'\\right) e^{i \\left(\\frac{a k_{1}}{2} + \\frac{\\sqrt{3} a k_{2}}{6}\\right)} & 0 & 0.5 \\cdot \\left(1.0 J + 1.0 K + 6.12323399573677 \\cdot 10^{-17} Γ + 1.11022302462516 \\cdot 10^{-16} i Γ'\\right) e^{- \\frac{\\sqrt{3} i a k_{2}}{3}} & 0\\\\0 & 0.5 \\left(- 1.0 K + 6.12323399573677 \\cdot 10^{-17} Γ + 1.0 i Γ'\\right) e^{\\frac{\\sqrt{3} i a k_{2}}{3}} & 1.5 J + 2.0 K - 0.5 h - 6.12323399573677 \\cdot 10^{-17} Γ - 1.22464679914735 \\cdot 10^{-16} Γ' & 0.5 \\cdot \\left(1.0 i Γ + 6.12323399573677 \\cdot 10^{-17} Γ' + 6.12323399573677 \\cdot 10^{-17} i Γ'\\right) e^{- i \\left(\\frac{a k_{1}}{2} + \\frac{\\sqrt{3} a k_{2}}{6}\\right)} + 0.5 \\cdot \\left(1.0 i Γ + 6.12323399573677 \\cdot 10^{-17} Γ' + 6.12323399573677 \\cdot 10^{-17} i Γ'\\right) e^{- i \\left(- \\frac{a k_{1}}{2} + \\frac{\\sqrt{3} a k_{2}}{6}\\right)} & 0 & 0.5 \\cdot \\left(1.0 J + 1.0 K + 6.12323399573677 \\cdot 10^{-17} Γ + 1.11022302462516 \\cdot 10^{-16} i Γ'\\right) e^{\\frac{\\sqrt{3} i a k_{2}}{3}} & 0 & 0.5 \\cdot \\left(1.0 J + 6.12323399573677 \\cdot 10^{-17} Γ' + 6.12323399573677 \\cdot 10^{-17} i Γ'\\right) e^{- i \\left(\\frac{a k_{1}}{2} + \\frac{\\sqrt{3} a k_{2}}{6}\\right)} + 0.5 \\cdot \\left(1.0 J + 6.12323399573677 \\cdot 10^{-17} Γ' + 6.12323399573677 \\cdot 10^{-17} i Γ'\\right) e^{- i \\left(- \\frac{a k_{1}}{2} + \\frac{\\sqrt{3} a k_{2}}{6}\\right)}\\\\0.5 \\left(- 1.0 K + 6.12323399573677 \\cdot 10^{-17} Γ - 1.0 i Γ'\\right) e^{- \\frac{\\sqrt{3} i a k_{2}}{3}} & 0 & 0.5 \\left(- 1.0 i Γ + 6.12323399573677 \\cdot 10^{-17} Γ' - 6.12323399573677 \\cdot 10^{-17} i Γ'\\right) e^{i \\left(- \\frac{a k_{1}}{2} + \\frac{\\sqrt{3} a k_{2}}{6}\\right)} + 0.5 \\left(- 1.0 i Γ + 6.12323399573677 \\cdot 10^{-17} Γ' - 6.12323399573677 \\cdot 10^{-17} i Γ'\\right) e^{i \\left(\\frac{a k_{1}}{2} + \\frac{\\sqrt{3} a k_{2}}{6}\\right)} & 1.5 J + 2.0 K - 0.5 h - 6.12323399573677 \\cdot 10^{-17} Γ - 1.22464679914735 \\cdot 10^{-16} Γ' & 0.5 \\cdot \\left(1.0 J + 1.0 K + 6.12323399573677 \\cdot 10^{-17} Γ + 1.11022302462516 \\cdot 10^{-16} i Γ'\\right) e^{- \\frac{\\sqrt{3} i a k_{2}}{3}} & 0 & 0.5 \\cdot \\left(1.0 J + 6.12323399573677 \\cdot 10^{-17} Γ' + 6.12323399573677 \\cdot 10^{-17} i Γ'\\right) e^{i \\left(- \\frac{a k_{1}}{2} + \\frac{\\sqrt{3} a k_{2}}{6}\\right)} + 0.5 \\cdot \\left(1.0 J + 6.12323399573677 \\cdot 10^{-17} Γ' + 6.12323399573677 \\cdot 10^{-17} i Γ'\\right) e^{i \\left(\\frac{a k_{1}}{2} + \\frac{\\sqrt{3} a k_{2}}{6}\\right)} & 0\\\\0 & 0.5 \\cdot \\left(1.0 J + 6.12323399573677 \\cdot 10^{-17} Γ' - 6.12323399573677 \\cdot 10^{-17} i Γ'\\right) e^{- i \\left(\\frac{a k_{1}}{2} + \\frac{\\sqrt{3} a k_{2}}{6}\\right)} + 0.5 \\cdot \\left(1.0 J + 6.12323399573677 \\cdot 10^{-17} Γ' - 6.12323399573677 \\cdot 10^{-17} i Γ'\\right) e^{- i \\left(- \\frac{a k_{1}}{2} + \\frac{\\sqrt{3} a k_{2}}{6}\\right)} & 0 & 0.5 \\cdot \\left(1.0 J + 1.0 K + 6.12323399573677 \\cdot 10^{-17} Γ - 1.11022302462516 \\cdot 10^{-16} i Γ'\\right) e^{\\frac{\\sqrt{3} i a k_{2}}{3}} & 1.5 J + 2.0 K + 0.5 h - 6.12323399573677 \\cdot 10^{-17} Γ - 1.22464679914735 \\cdot 10^{-16} Γ' & 0.5 \\cdot \\left(1.0 i Γ + 6.12323399573677 \\cdot 10^{-17} Γ' + 6.12323399573677 \\cdot 10^{-17} i Γ'\\right) e^{- i \\left(\\frac{a k_{1}}{2} + \\frac{\\sqrt{3} a k_{2}}{6}\\right)} + 0.5 \\cdot \\left(1.0 i Γ + 6.12323399573677 \\cdot 10^{-17} Γ' + 6.12323399573677 \\cdot 10^{-17} i Γ'\\right) e^{- i \\left(- \\frac{a k_{1}}{2} + \\frac{\\sqrt{3} a k_{2}}{6}\\right)} & 0 & 0.5 \\left(- 1.0 K + 6.12323399573677 \\cdot 10^{-17} Γ + 1.0 i Γ'\\right) e^{\\frac{\\sqrt{3} i a k_{2}}{3}}\\\\0.5 \\cdot \\left(1.0 J + 6.12323399573677 \\cdot 10^{-17} Γ' - 6.12323399573677 \\cdot 10^{-17} i Γ'\\right) e^{i \\left(- \\frac{a k_{1}}{2} + \\frac{\\sqrt{3} a k_{2}}{6}\\right)} + 0.5 \\cdot \\left(1.0 J + 6.12323399573677 \\cdot 10^{-17} Γ' - 6.12323399573677 \\cdot 10^{-17} i Γ'\\right) e^{i \\left(\\frac{a k_{1}}{2} + \\frac{\\sqrt{3} a k_{2}}{6}\\right)} & 0 & 0.5 \\cdot \\left(1.0 J + 1.0 K + 6.12323399573677 \\cdot 10^{-17} Γ - 1.11022302462516 \\cdot 10^{-16} i Γ'\\right) e^{- \\frac{\\sqrt{3} i a k_{2}}{3}} & 0 & 0.5 \\left(- 1.0 i Γ + 6.12323399573677 \\cdot 10^{-17} Γ' - 6.12323399573677 \\cdot 10^{-17} i Γ'\\right) e^{i \\left(- \\frac{a k_{1}}{2} + \\frac{\\sqrt{3} a k_{2}}{6}\\right)} + 0.5 \\left(- 1.0 i Γ + 6.12323399573677 \\cdot 10^{-17} Γ' - 6.12323399573677 \\cdot 10^{-17} i Γ'\\right) e^{i \\left(\\frac{a k_{1}}{2} + \\frac{\\sqrt{3} a k_{2}}{6}\\right)} & 1.5 J + 2.0 K + 0.5 h - 6.12323399573677 \\cdot 10^{-17} Γ - 1.22464679914735 \\cdot 10^{-16} Γ' & 0.5 \\left(- 1.0 K + 6.12323399573677 \\cdot 10^{-17} Γ - 1.0 i Γ'\\right) e^{- \\frac{\\sqrt{3} i a k_{2}}{3}} & 0\\\\0 & 0.5 \\cdot \\left(1.0 J + 1.0 K + 6.12323399573677 \\cdot 10^{-17} Γ - 1.11022302462516 \\cdot 10^{-16} i Γ'\\right) e^{\\frac{\\sqrt{3} i a k_{2}}{3}} & 0 & 0.5 \\cdot \\left(1.0 J + 6.12323399573677 \\cdot 10^{-17} Γ' - 6.12323399573677 \\cdot 10^{-17} i Γ'\\right) e^{- i \\left(\\frac{a k_{1}}{2} + \\frac{\\sqrt{3} a k_{2}}{6}\\right)} + 0.5 \\cdot \\left(1.0 J + 6.12323399573677 \\cdot 10^{-17} Γ' - 6.12323399573677 \\cdot 10^{-17} i Γ'\\right) e^{- i \\left(- \\frac{a k_{1}}{2} + \\frac{\\sqrt{3} a k_{2}}{6}\\right)} & 0 & 0.5 \\left(- 1.0 K + 6.12323399573677 \\cdot 10^{-17} Γ + 1.0 i Γ'\\right) e^{\\frac{\\sqrt{3} i a k_{2}}{3}} & 1.5 J + 2.0 K - 0.5 h - 6.12323399573677 \\cdot 10^{-17} Γ - 1.22464679914735 \\cdot 10^{-16} Γ' & 0.5 \\cdot \\left(1.0 i Γ + 6.12323399573677 \\cdot 10^{-17} Γ' + 6.12323399573677 \\cdot 10^{-17} i Γ'\\right) e^{- i \\left(\\frac{a k_{1}}{2} + \\frac{\\sqrt{3} a k_{2}}{6}\\right)} + 0.5 \\cdot \\left(1.0 i Γ + 6.12323399573677 \\cdot 10^{-17} Γ' + 6.12323399573677 \\cdot 10^{-17} i Γ'\\right) e^{- i \\left(- \\frac{a k_{1}}{2} + \\frac{\\sqrt{3} a k_{2}}{6}\\right)}\\\\0.5 \\cdot \\left(1.0 J + 1.0 K + 6.12323399573677 \\cdot 10^{-17} Γ - 1.11022302462516 \\cdot 10^{-16} i Γ'\\right) e^{- \\frac{\\sqrt{3} i a k_{2}}{3}} & 0 & 0.5 \\cdot \\left(1.0 J + 6.12323399573677 \\cdot 10^{-17} Γ' - 6.12323399573677 \\cdot 10^{-17} i Γ'\\right) e^{i \\left(- \\frac{a k_{1}}{2} + \\frac{\\sqrt{3} a k_{2}}{6}\\right)} + 0.5 \\cdot \\left(1.0 J + 6.12323399573677 \\cdot 10^{-17} Γ' - 6.12323399573677 \\cdot 10^{-17} i Γ'\\right) e^{i \\left(\\frac{a k_{1}}{2} + \\frac{\\sqrt{3} a k_{2}}{6}\\right)} & 0 & 0.5 \\left(- 1.0 K + 6.12323399573677 \\cdot 10^{-17} Γ - 1.0 i Γ'\\right) e^{- \\frac{\\sqrt{3} i a k_{2}}{3}} & 0 & 0.5 \\left(- 1.0 i Γ + 6.12323399573677 \\cdot 10^{-17} Γ' - 6.12323399573677 \\cdot 10^{-17} i Γ'\\right) e^{i \\left(- \\frac{a k_{1}}{2} + \\frac{\\sqrt{3} a k_{2}}{6}\\right)} + 0.5 \\left(- 1.0 i Γ + 6.12323399573677 \\cdot 10^{-17} Γ' - 6.12323399573677 \\cdot 10^{-17} i Γ'\\right) e^{i \\left(\\frac{a k_{1}}{2} + \\frac{\\sqrt{3} a k_{2}}{6}\\right)} & 1.5 J + 2.0 K - 0.5 h - 6.12323399573677 \\cdot 10^{-17} Γ - 1.22464679914735 \\cdot 10^{-16} Γ'\\end{matrix}\\right]$"
      ],
      "text/plain": [
       "Matrix([\n",
       "[                                                                                                                                      1.5*J + 2.0*K + 0.5*h - 6.12323399573677e-17*Γ - 1.22464679914735e-16*Γ', 0.5*(1.0*I*Γ + 6.12323399573677e-17*Γ' + 6.12323399573677e-17*I*Γ')*exp(-I*(a*k1/2 + sqrt(3)*a*k2/6)) + 0.5*(1.0*I*Γ + 6.12323399573677e-17*Γ' + 6.12323399573677e-17*I*Γ')*exp(-I*(-a*k1/2 + sqrt(3)*a*k2/6)),                                                                                                                                                                                                              0,                                                                                                                                         0.5*(-1.0*K + 6.12323399573677e-17*Γ + 1.0*I*Γ')*exp(sqrt(3)*I*a*k2/3),                                                                                                                                                                                                              0,     0.5*(1.0*J + 6.12323399573677e-17*Γ' + 6.12323399573677e-17*I*Γ')*exp(-I*(a*k1/2 + sqrt(3)*a*k2/6)) + 0.5*(1.0*J + 6.12323399573677e-17*Γ' + 6.12323399573677e-17*I*Γ')*exp(-I*(-a*k1/2 + sqrt(3)*a*k2/6)),                                                                                                                                                                                                              0,                                                                                                                 0.5*(1.0*J + 1.0*K + 6.12323399573677e-17*Γ + 1.11022302462516e-16*I*Γ')*exp(sqrt(3)*I*a*k2/3)],\n",
       "[0.5*(-1.0*I*Γ + 6.12323399573677e-17*Γ' - 6.12323399573677e-17*I*Γ')*exp(I*(-a*k1/2 + sqrt(3)*a*k2/6)) + 0.5*(-1.0*I*Γ + 6.12323399573677e-17*Γ' - 6.12323399573677e-17*I*Γ')*exp(I*(a*k1/2 + sqrt(3)*a*k2/6)),                                                                                                                                       1.5*J + 2.0*K + 0.5*h - 6.12323399573677e-17*Γ - 1.22464679914735e-16*Γ',                                                                                                                                        0.5*(-1.0*K + 6.12323399573677e-17*Γ - 1.0*I*Γ')*exp(-sqrt(3)*I*a*k2/3),                                                                                                                                                                                                              0,       0.5*(1.0*J + 6.12323399573677e-17*Γ' + 6.12323399573677e-17*I*Γ')*exp(I*(-a*k1/2 + sqrt(3)*a*k2/6)) + 0.5*(1.0*J + 6.12323399573677e-17*Γ' + 6.12323399573677e-17*I*Γ')*exp(I*(a*k1/2 + sqrt(3)*a*k2/6)),                                                                                                                                                                                                              0,                                                                                                                0.5*(1.0*J + 1.0*K + 6.12323399573677e-17*Γ + 1.11022302462516e-16*I*Γ')*exp(-sqrt(3)*I*a*k2/3),                                                                                                                                                                                                              0],\n",
       "[                                                                                                                                                                                                             0,                                                                                                                                         0.5*(-1.0*K + 6.12323399573677e-17*Γ + 1.0*I*Γ')*exp(sqrt(3)*I*a*k2/3),                                                                                                                                       1.5*J + 2.0*K - 0.5*h - 6.12323399573677e-17*Γ - 1.22464679914735e-16*Γ', 0.5*(1.0*I*Γ + 6.12323399573677e-17*Γ' + 6.12323399573677e-17*I*Γ')*exp(-I*(a*k1/2 + sqrt(3)*a*k2/6)) + 0.5*(1.0*I*Γ + 6.12323399573677e-17*Γ' + 6.12323399573677e-17*I*Γ')*exp(-I*(-a*k1/2 + sqrt(3)*a*k2/6)),                                                                                                                                                                                                              0,                                                                                                                 0.5*(1.0*J + 1.0*K + 6.12323399573677e-17*Γ + 1.11022302462516e-16*I*Γ')*exp(sqrt(3)*I*a*k2/3),                                                                                                                                                                                                              0,     0.5*(1.0*J + 6.12323399573677e-17*Γ' + 6.12323399573677e-17*I*Γ')*exp(-I*(a*k1/2 + sqrt(3)*a*k2/6)) + 0.5*(1.0*J + 6.12323399573677e-17*Γ' + 6.12323399573677e-17*I*Γ')*exp(-I*(-a*k1/2 + sqrt(3)*a*k2/6))],\n",
       "[                                                                                                                                       0.5*(-1.0*K + 6.12323399573677e-17*Γ - 1.0*I*Γ')*exp(-sqrt(3)*I*a*k2/3),                                                                                                                                                                                                              0, 0.5*(-1.0*I*Γ + 6.12323399573677e-17*Γ' - 6.12323399573677e-17*I*Γ')*exp(I*(-a*k1/2 + sqrt(3)*a*k2/6)) + 0.5*(-1.0*I*Γ + 6.12323399573677e-17*Γ' - 6.12323399573677e-17*I*Γ')*exp(I*(a*k1/2 + sqrt(3)*a*k2/6)),                                                                                                                                       1.5*J + 2.0*K - 0.5*h - 6.12323399573677e-17*Γ - 1.22464679914735e-16*Γ',                                                                                                                0.5*(1.0*J + 1.0*K + 6.12323399573677e-17*Γ + 1.11022302462516e-16*I*Γ')*exp(-sqrt(3)*I*a*k2/3),                                                                                                                                                                                                              0,       0.5*(1.0*J + 6.12323399573677e-17*Γ' + 6.12323399573677e-17*I*Γ')*exp(I*(-a*k1/2 + sqrt(3)*a*k2/6)) + 0.5*(1.0*J + 6.12323399573677e-17*Γ' + 6.12323399573677e-17*I*Γ')*exp(I*(a*k1/2 + sqrt(3)*a*k2/6)),                                                                                                                                                                                                              0],\n",
       "[                                                                                                                                                                                                             0,     0.5*(1.0*J + 6.12323399573677e-17*Γ' - 6.12323399573677e-17*I*Γ')*exp(-I*(a*k1/2 + sqrt(3)*a*k2/6)) + 0.5*(1.0*J + 6.12323399573677e-17*Γ' - 6.12323399573677e-17*I*Γ')*exp(-I*(-a*k1/2 + sqrt(3)*a*k2/6)),                                                                                                                                                                                                              0,                                                                                                                 0.5*(1.0*J + 1.0*K + 6.12323399573677e-17*Γ - 1.11022302462516e-16*I*Γ')*exp(sqrt(3)*I*a*k2/3),                                                                                                                                       1.5*J + 2.0*K + 0.5*h - 6.12323399573677e-17*Γ - 1.22464679914735e-16*Γ', 0.5*(1.0*I*Γ + 6.12323399573677e-17*Γ' + 6.12323399573677e-17*I*Γ')*exp(-I*(a*k1/2 + sqrt(3)*a*k2/6)) + 0.5*(1.0*I*Γ + 6.12323399573677e-17*Γ' + 6.12323399573677e-17*I*Γ')*exp(-I*(-a*k1/2 + sqrt(3)*a*k2/6)),                                                                                                                                                                                                              0,                                                                                                                                         0.5*(-1.0*K + 6.12323399573677e-17*Γ + 1.0*I*Γ')*exp(sqrt(3)*I*a*k2/3)],\n",
       "[      0.5*(1.0*J + 6.12323399573677e-17*Γ' - 6.12323399573677e-17*I*Γ')*exp(I*(-a*k1/2 + sqrt(3)*a*k2/6)) + 0.5*(1.0*J + 6.12323399573677e-17*Γ' - 6.12323399573677e-17*I*Γ')*exp(I*(a*k1/2 + sqrt(3)*a*k2/6)),                                                                                                                                                                                                              0,                                                                                                                0.5*(1.0*J + 1.0*K + 6.12323399573677e-17*Γ - 1.11022302462516e-16*I*Γ')*exp(-sqrt(3)*I*a*k2/3),                                                                                                                                                                                                              0, 0.5*(-1.0*I*Γ + 6.12323399573677e-17*Γ' - 6.12323399573677e-17*I*Γ')*exp(I*(-a*k1/2 + sqrt(3)*a*k2/6)) + 0.5*(-1.0*I*Γ + 6.12323399573677e-17*Γ' - 6.12323399573677e-17*I*Γ')*exp(I*(a*k1/2 + sqrt(3)*a*k2/6)),                                                                                                                                       1.5*J + 2.0*K + 0.5*h - 6.12323399573677e-17*Γ - 1.22464679914735e-16*Γ',                                                                                                                                        0.5*(-1.0*K + 6.12323399573677e-17*Γ - 1.0*I*Γ')*exp(-sqrt(3)*I*a*k2/3),                                                                                                                                                                                                              0],\n",
       "[                                                                                                                                                                                                             0,                                                                                                                 0.5*(1.0*J + 1.0*K + 6.12323399573677e-17*Γ - 1.11022302462516e-16*I*Γ')*exp(sqrt(3)*I*a*k2/3),                                                                                                                                                                                                              0,     0.5*(1.0*J + 6.12323399573677e-17*Γ' - 6.12323399573677e-17*I*Γ')*exp(-I*(a*k1/2 + sqrt(3)*a*k2/6)) + 0.5*(1.0*J + 6.12323399573677e-17*Γ' - 6.12323399573677e-17*I*Γ')*exp(-I*(-a*k1/2 + sqrt(3)*a*k2/6)),                                                                                                                                                                                                              0,                                                                                                                                         0.5*(-1.0*K + 6.12323399573677e-17*Γ + 1.0*I*Γ')*exp(sqrt(3)*I*a*k2/3),                                                                                                                                       1.5*J + 2.0*K - 0.5*h - 6.12323399573677e-17*Γ - 1.22464679914735e-16*Γ', 0.5*(1.0*I*Γ + 6.12323399573677e-17*Γ' + 6.12323399573677e-17*I*Γ')*exp(-I*(a*k1/2 + sqrt(3)*a*k2/6)) + 0.5*(1.0*I*Γ + 6.12323399573677e-17*Γ' + 6.12323399573677e-17*I*Γ')*exp(-I*(-a*k1/2 + sqrt(3)*a*k2/6))],\n",
       "[                                                                                                               0.5*(1.0*J + 1.0*K + 6.12323399573677e-17*Γ - 1.11022302462516e-16*I*Γ')*exp(-sqrt(3)*I*a*k2/3),                                                                                                                                                                                                              0,       0.5*(1.0*J + 6.12323399573677e-17*Γ' - 6.12323399573677e-17*I*Γ')*exp(I*(-a*k1/2 + sqrt(3)*a*k2/6)) + 0.5*(1.0*J + 6.12323399573677e-17*Γ' - 6.12323399573677e-17*I*Γ')*exp(I*(a*k1/2 + sqrt(3)*a*k2/6)),                                                                                                                                                                                                              0,                                                                                                                                        0.5*(-1.0*K + 6.12323399573677e-17*Γ - 1.0*I*Γ')*exp(-sqrt(3)*I*a*k2/3),                                                                                                                                                                                                              0, 0.5*(-1.0*I*Γ + 6.12323399573677e-17*Γ' - 6.12323399573677e-17*I*Γ')*exp(I*(-a*k1/2 + sqrt(3)*a*k2/6)) + 0.5*(-1.0*I*Γ + 6.12323399573677e-17*Γ' - 6.12323399573677e-17*I*Γ')*exp(I*(a*k1/2 + sqrt(3)*a*k2/6)),                                                                                                                                       1.5*J + 2.0*K - 0.5*h - 6.12323399573677e-17*Γ - 1.22464679914735e-16*Γ']])"
      ]
     },
     "execution_count": 13,
     "metadata": {},
     "output_type": "execute_result"
    }
   ],
   "source": [
    "Hlsw"
   ]
  },
  {
   "cell_type": "code",
   "execution_count": null,
   "metadata": {},
   "outputs": [],
   "source": [
    "sp.transpose(sp.conjugate(Hlsw))-Hlsw"
   ]
  },
  {
   "cell_type": "code",
   "execution_count": 14,
   "id": "196ee352b4e2fb96",
   "metadata": {
    "scrolled": false
   },
   "outputs": [
    {
     "data": {
      "text/latex": [
       "$\\displaystyle \\left[\\begin{matrix}1.5 J & 0 & 0 & 0 & 0 & 0.5 J e^{- i \\left(\\frac{k_{1}}{2} + \\frac{\\sqrt{3} k_{2}}{6}\\right)} + 0.5 J e^{- i \\left(- \\frac{k_{1}}{2} + \\frac{\\sqrt{3} k_{2}}{6}\\right)} & 0 & 0.5 J e^{\\frac{\\sqrt{3} i k_{2}}{3}}\\\\0 & 1.5 J & 0 & 0 & 0.5 J e^{i \\left(- \\frac{k_{1}}{2} + \\frac{\\sqrt{3} k_{2}}{6}\\right)} + 0.5 J e^{i \\left(\\frac{k_{1}}{2} + \\frac{\\sqrt{3} k_{2}}{6}\\right)} & 0 & 0.5 J e^{- \\frac{\\sqrt{3} i k_{2}}{3}} & 0\\\\0 & 0 & 1.5 J & 0 & 0 & 0.5 J e^{\\frac{\\sqrt{3} i k_{2}}{3}} & 0 & 0.5 J e^{- i \\left(\\frac{k_{1}}{2} + \\frac{\\sqrt{3} k_{2}}{6}\\right)} + 0.5 J e^{- i \\left(- \\frac{k_{1}}{2} + \\frac{\\sqrt{3} k_{2}}{6}\\right)}\\\\0 & 0 & 0 & 1.5 J & 0.5 J e^{- \\frac{\\sqrt{3} i k_{2}}{3}} & 0 & 0.5 J e^{i \\left(- \\frac{k_{1}}{2} + \\frac{\\sqrt{3} k_{2}}{6}\\right)} + 0.5 J e^{i \\left(\\frac{k_{1}}{2} + \\frac{\\sqrt{3} k_{2}}{6}\\right)} & 0\\\\0 & 0.5 J e^{- i \\left(\\frac{k_{1}}{2} + \\frac{\\sqrt{3} k_{2}}{6}\\right)} + 0.5 J e^{- i \\left(- \\frac{k_{1}}{2} + \\frac{\\sqrt{3} k_{2}}{6}\\right)} & 0 & 0.5 J e^{\\frac{\\sqrt{3} i k_{2}}{3}} & 1.5 J & 0 & 0 & 0\\\\0.5 J e^{i \\left(- \\frac{k_{1}}{2} + \\frac{\\sqrt{3} k_{2}}{6}\\right)} + 0.5 J e^{i \\left(\\frac{k_{1}}{2} + \\frac{\\sqrt{3} k_{2}}{6}\\right)} & 0 & 0.5 J e^{- \\frac{\\sqrt{3} i k_{2}}{3}} & 0 & 0 & 1.5 J & 0 & 0\\\\0 & 0.5 J e^{\\frac{\\sqrt{3} i k_{2}}{3}} & 0 & 0.5 J e^{- i \\left(\\frac{k_{1}}{2} + \\frac{\\sqrt{3} k_{2}}{6}\\right)} + 0.5 J e^{- i \\left(- \\frac{k_{1}}{2} + \\frac{\\sqrt{3} k_{2}}{6}\\right)} & 0 & 0 & 1.5 J & 0\\\\0.5 J e^{- \\frac{\\sqrt{3} i k_{2}}{3}} & 0 & 0.5 J e^{i \\left(- \\frac{k_{1}}{2} + \\frac{\\sqrt{3} k_{2}}{6}\\right)} + 0.5 J e^{i \\left(\\frac{k_{1}}{2} + \\frac{\\sqrt{3} k_{2}}{6}\\right)} & 0 & 0 & 0 & 0 & 1.5 J\\end{matrix}\\right]$"
      ],
      "text/plain": [
       "Matrix([\n",
       "[                                                                   1.5*J,                                                                          0,                                                                        0,                                                                          0,                                                                        0, 0.5*J*exp(-I*(k1/2 + sqrt(3)*k2/6)) + 0.5*J*exp(-I*(-k1/2 + sqrt(3)*k2/6)),                                                                        0,                                                  0.5*J*exp(sqrt(3)*I*k2/3)],\n",
       "[                                                                       0,                                                                      1.5*J,                                                                        0,                                                                          0, 0.5*J*exp(I*(-k1/2 + sqrt(3)*k2/6)) + 0.5*J*exp(I*(k1/2 + sqrt(3)*k2/6)),                                                                          0,                                               0.5*J*exp(-sqrt(3)*I*k2/3),                                                                          0],\n",
       "[                                                                       0,                                                                          0,                                                                    1.5*J,                                                                          0,                                                                        0,                                                  0.5*J*exp(sqrt(3)*I*k2/3),                                                                        0, 0.5*J*exp(-I*(k1/2 + sqrt(3)*k2/6)) + 0.5*J*exp(-I*(-k1/2 + sqrt(3)*k2/6))],\n",
       "[                                                                       0,                                                                          0,                                                                        0,                                                                      1.5*J,                                               0.5*J*exp(-sqrt(3)*I*k2/3),                                                                          0, 0.5*J*exp(I*(-k1/2 + sqrt(3)*k2/6)) + 0.5*J*exp(I*(k1/2 + sqrt(3)*k2/6)),                                                                          0],\n",
       "[                                                                       0, 0.5*J*exp(-I*(k1/2 + sqrt(3)*k2/6)) + 0.5*J*exp(-I*(-k1/2 + sqrt(3)*k2/6)),                                                                        0,                                                  0.5*J*exp(sqrt(3)*I*k2/3),                                                                    1.5*J,                                                                          0,                                                                        0,                                                                          0],\n",
       "[0.5*J*exp(I*(-k1/2 + sqrt(3)*k2/6)) + 0.5*J*exp(I*(k1/2 + sqrt(3)*k2/6)),                                                                          0,                                               0.5*J*exp(-sqrt(3)*I*k2/3),                                                                          0,                                                                        0,                                                                      1.5*J,                                                                        0,                                                                          0],\n",
       "[                                                                       0,                                                  0.5*J*exp(sqrt(3)*I*k2/3),                                                                        0, 0.5*J*exp(-I*(k1/2 + sqrt(3)*k2/6)) + 0.5*J*exp(-I*(-k1/2 + sqrt(3)*k2/6)),                                                                        0,                                                                          0,                                                                    1.5*J,                                                                          0],\n",
       "[                                              0.5*J*exp(-sqrt(3)*I*k2/3),                                                                          0, 0.5*J*exp(I*(-k1/2 + sqrt(3)*k2/6)) + 0.5*J*exp(I*(k1/2 + sqrt(3)*k2/6)),                                                                          0,                                                                        0,                                                                          0,                                                                        0,                                                                      1.5*J]])"
      ]
     },
     "execution_count": 14,
     "metadata": {},
     "output_type": "execute_result"
    }
   ],
   "source": [
    "\n",
    "    # coupling energy scale in unit meV\n",
    "    # length scale in unit angstrom\n",
    "    # Here we use Sear's paprameter, for example:\n",
    "\n",
    "    # a=1. leave k1 and k2 arbitrary\n",
    "    # add_strg: add coupling strength\n",
    "\n",
    "Hlsw_J = Hlsw.subs([ (K, 0), (Gamma, 0), (gamma, 0), (h, 0), (a, 1)])\n",
    "Hlsw_J\n"
   ]
  },
  {
   "cell_type": "code",
   "execution_count": 15,
   "metadata": {},
   "outputs": [
    {
     "data": {
      "text/latex": [
       "$\\displaystyle \\left[\\begin{matrix}0 & 0 & 0 & 0 & 0 & 0 & 0 & 0\\\\0 & 0 & 0 & 0 & 0 & 0 & 0 & 0\\\\0 & 0 & 0 & 0 & 0 & 0 & 0 & 0\\\\0 & 0 & 0 & 0 & 0 & 0 & 0 & 0\\\\0 & 0 & 0 & 0 & 0 & 0 & 0 & 0\\\\0 & 0 & 0 & 0 & 0 & 0 & 0 & 0\\\\0 & 0 & 0 & 0 & 0 & 0 & 0 & 0\\\\0 & 0 & 0 & 0 & 0 & 0 & 0 & 0\\end{matrix}\\right]$"
      ],
      "text/plain": [
       "Matrix([\n",
       "[0, 0, 0, 0, 0, 0, 0, 0],\n",
       "[0, 0, 0, 0, 0, 0, 0, 0],\n",
       "[0, 0, 0, 0, 0, 0, 0, 0],\n",
       "[0, 0, 0, 0, 0, 0, 0, 0],\n",
       "[0, 0, 0, 0, 0, 0, 0, 0],\n",
       "[0, 0, 0, 0, 0, 0, 0, 0],\n",
       "[0, 0, 0, 0, 0, 0, 0, 0],\n",
       "[0, 0, 0, 0, 0, 0, 0, 0]])"
      ]
     },
     "execution_count": 15,
     "metadata": {},
     "output_type": "execute_result"
    }
   ],
   "source": [
    "sp.transpose(sp.conjugate(Hlsw_J))-Hlsw_J"
   ]
  },
  {
   "cell_type": "code",
   "execution_count": 16,
   "metadata": {},
   "outputs": [
    {
     "data": {
      "text/latex": [
       "$\\displaystyle \\left[\\begin{matrix}2.0 K & 0 & 0 & - 0.5 K e^{\\frac{\\sqrt{3} i k_{2}}{3}} & 0 & 0 & 0 & 0.5 K e^{\\frac{\\sqrt{3} i k_{2}}{3}}\\\\0 & 2.0 K & - 0.5 K e^{- \\frac{\\sqrt{3} i k_{2}}{3}} & 0 & 0 & 0 & 0.5 K e^{- \\frac{\\sqrt{3} i k_{2}}{3}} & 0\\\\0 & - 0.5 K e^{\\frac{\\sqrt{3} i k_{2}}{3}} & 2.0 K & 0 & 0 & 0.5 K e^{\\frac{\\sqrt{3} i k_{2}}{3}} & 0 & 0\\\\- 0.5 K e^{- \\frac{\\sqrt{3} i k_{2}}{3}} & 0 & 0 & 2.0 K & 0.5 K e^{- \\frac{\\sqrt{3} i k_{2}}{3}} & 0 & 0 & 0\\\\0 & 0 & 0 & 0.5 K e^{\\frac{\\sqrt{3} i k_{2}}{3}} & 2.0 K & 0 & 0 & - 0.5 K e^{\\frac{\\sqrt{3} i k_{2}}{3}}\\\\0 & 0 & 0.5 K e^{- \\frac{\\sqrt{3} i k_{2}}{3}} & 0 & 0 & 2.0 K & - 0.5 K e^{- \\frac{\\sqrt{3} i k_{2}}{3}} & 0\\\\0 & 0.5 K e^{\\frac{\\sqrt{3} i k_{2}}{3}} & 0 & 0 & 0 & - 0.5 K e^{\\frac{\\sqrt{3} i k_{2}}{3}} & 2.0 K & 0\\\\0.5 K e^{- \\frac{\\sqrt{3} i k_{2}}{3}} & 0 & 0 & 0 & - 0.5 K e^{- \\frac{\\sqrt{3} i k_{2}}{3}} & 0 & 0 & 2.0 K\\end{matrix}\\right]$"
      ],
      "text/plain": [
       "Matrix([\n",
       "[                      2.0*K,                          0,                           0, -0.5*K*exp(sqrt(3)*I*k2/3),                           0,                          0,                           0,  0.5*K*exp(sqrt(3)*I*k2/3)],\n",
       "[                          0,                      2.0*K, -0.5*K*exp(-sqrt(3)*I*k2/3),                          0,                           0,                          0,  0.5*K*exp(-sqrt(3)*I*k2/3),                          0],\n",
       "[                          0, -0.5*K*exp(sqrt(3)*I*k2/3),                       2.0*K,                          0,                           0,  0.5*K*exp(sqrt(3)*I*k2/3),                           0,                          0],\n",
       "[-0.5*K*exp(-sqrt(3)*I*k2/3),                          0,                           0,                      2.0*K,  0.5*K*exp(-sqrt(3)*I*k2/3),                          0,                           0,                          0],\n",
       "[                          0,                          0,                           0,  0.5*K*exp(sqrt(3)*I*k2/3),                       2.0*K,                          0,                           0, -0.5*K*exp(sqrt(3)*I*k2/3)],\n",
       "[                          0,                          0,  0.5*K*exp(-sqrt(3)*I*k2/3),                          0,                           0,                      2.0*K, -0.5*K*exp(-sqrt(3)*I*k2/3),                          0],\n",
       "[                          0,  0.5*K*exp(sqrt(3)*I*k2/3),                           0,                          0,                           0, -0.5*K*exp(sqrt(3)*I*k2/3),                       2.0*K,                          0],\n",
       "[ 0.5*K*exp(-sqrt(3)*I*k2/3),                          0,                           0,                          0, -0.5*K*exp(-sqrt(3)*I*k2/3),                          0,                           0,                      2.0*K]])"
      ]
     },
     "execution_count": 16,
     "metadata": {},
     "output_type": "execute_result"
    }
   ],
   "source": [
    "Hlsw_K = Hlsw.subs([ (J,0), (Gamma, 0), (gamma, 0), (h, 0), (a, 1)])\n",
    "Hlsw_K"
   ]
  },
  {
   "cell_type": "code",
   "execution_count": 17,
   "metadata": {},
   "outputs": [
    {
     "data": {
      "text/latex": [
       "$\\displaystyle \\left[\\begin{matrix}0 & 0 & 0 & 0 & 0 & 0 & 0 & 0\\\\0 & 0 & 0 & 0 & 0 & 0 & 0 & 0\\\\0 & 0 & 0 & 0 & 0 & 0 & 0 & 0\\\\0 & 0 & 0 & 0 & 0 & 0 & 0 & 0\\\\0 & 0 & 0 & 0 & 0 & 0 & 0 & 0\\\\0 & 0 & 0 & 0 & 0 & 0 & 0 & 0\\\\0 & 0 & 0 & 0 & 0 & 0 & 0 & 0\\\\0 & 0 & 0 & 0 & 0 & 0 & 0 & 0\\end{matrix}\\right]$"
      ],
      "text/plain": [
       "Matrix([\n",
       "[0, 0, 0, 0, 0, 0, 0, 0],\n",
       "[0, 0, 0, 0, 0, 0, 0, 0],\n",
       "[0, 0, 0, 0, 0, 0, 0, 0],\n",
       "[0, 0, 0, 0, 0, 0, 0, 0],\n",
       "[0, 0, 0, 0, 0, 0, 0, 0],\n",
       "[0, 0, 0, 0, 0, 0, 0, 0],\n",
       "[0, 0, 0, 0, 0, 0, 0, 0],\n",
       "[0, 0, 0, 0, 0, 0, 0, 0]])"
      ]
     },
     "execution_count": 17,
     "metadata": {},
     "output_type": "execute_result"
    }
   ],
   "source": [
    "sp.transpose(sp.conjugate(Hlsw_K))-Hlsw_K"
   ]
  },
  {
   "cell_type": "code",
   "execution_count": 18,
   "metadata": {
    "scrolled": true
   },
   "outputs": [
    {
     "data": {
      "text/latex": [
       "$\\displaystyle \\left[\\begin{matrix}- 6.12323399573677 \\cdot 10^{-17} Γ & 0.5 i Γ e^{- i \\left(\\frac{k_{1}}{2} + \\frac{\\sqrt{3} k_{2}}{6}\\right)} + 0.5 i Γ e^{- i \\left(- \\frac{k_{1}}{2} + \\frac{\\sqrt{3} k_{2}}{6}\\right)} & 0 & 3.06161699786838 \\cdot 10^{-17} Γ e^{\\frac{\\sqrt{3} i k_{2}}{3}} & 0 & 0 & 0 & 3.06161699786838 \\cdot 10^{-17} Γ e^{\\frac{\\sqrt{3} i k_{2}}{3}}\\\\- 0.5 i Γ e^{i \\left(- \\frac{k_{1}}{2} + \\frac{\\sqrt{3} k_{2}}{6}\\right)} - 0.5 i Γ e^{i \\left(\\frac{k_{1}}{2} + \\frac{\\sqrt{3} k_{2}}{6}\\right)} & - 6.12323399573677 \\cdot 10^{-17} Γ & 3.06161699786838 \\cdot 10^{-17} Γ e^{- \\frac{\\sqrt{3} i k_{2}}{3}} & 0 & 0 & 0 & 3.06161699786838 \\cdot 10^{-17} Γ e^{- \\frac{\\sqrt{3} i k_{2}}{3}} & 0\\\\0 & 3.06161699786838 \\cdot 10^{-17} Γ e^{\\frac{\\sqrt{3} i k_{2}}{3}} & - 6.12323399573677 \\cdot 10^{-17} Γ & 0.5 i Γ e^{- i \\left(\\frac{k_{1}}{2} + \\frac{\\sqrt{3} k_{2}}{6}\\right)} + 0.5 i Γ e^{- i \\left(- \\frac{k_{1}}{2} + \\frac{\\sqrt{3} k_{2}}{6}\\right)} & 0 & 3.06161699786838 \\cdot 10^{-17} Γ e^{\\frac{\\sqrt{3} i k_{2}}{3}} & 0 & 0\\\\3.06161699786838 \\cdot 10^{-17} Γ e^{- \\frac{\\sqrt{3} i k_{2}}{3}} & 0 & - 0.5 i Γ e^{i \\left(- \\frac{k_{1}}{2} + \\frac{\\sqrt{3} k_{2}}{6}\\right)} - 0.5 i Γ e^{i \\left(\\frac{k_{1}}{2} + \\frac{\\sqrt{3} k_{2}}{6}\\right)} & - 6.12323399573677 \\cdot 10^{-17} Γ & 3.06161699786838 \\cdot 10^{-17} Γ e^{- \\frac{\\sqrt{3} i k_{2}}{3}} & 0 & 0 & 0\\\\0 & 0 & 0 & 3.06161699786838 \\cdot 10^{-17} Γ e^{\\frac{\\sqrt{3} i k_{2}}{3}} & - 6.12323399573677 \\cdot 10^{-17} Γ & 0.5 i Γ e^{- i \\left(\\frac{k_{1}}{2} + \\frac{\\sqrt{3} k_{2}}{6}\\right)} + 0.5 i Γ e^{- i \\left(- \\frac{k_{1}}{2} + \\frac{\\sqrt{3} k_{2}}{6}\\right)} & 0 & 3.06161699786838 \\cdot 10^{-17} Γ e^{\\frac{\\sqrt{3} i k_{2}}{3}}\\\\0 & 0 & 3.06161699786838 \\cdot 10^{-17} Γ e^{- \\frac{\\sqrt{3} i k_{2}}{3}} & 0 & - 0.5 i Γ e^{i \\left(- \\frac{k_{1}}{2} + \\frac{\\sqrt{3} k_{2}}{6}\\right)} - 0.5 i Γ e^{i \\left(\\frac{k_{1}}{2} + \\frac{\\sqrt{3} k_{2}}{6}\\right)} & - 6.12323399573677 \\cdot 10^{-17} Γ & 3.06161699786838 \\cdot 10^{-17} Γ e^{- \\frac{\\sqrt{3} i k_{2}}{3}} & 0\\\\0 & 3.06161699786838 \\cdot 10^{-17} Γ e^{\\frac{\\sqrt{3} i k_{2}}{3}} & 0 & 0 & 0 & 3.06161699786838 \\cdot 10^{-17} Γ e^{\\frac{\\sqrt{3} i k_{2}}{3}} & - 6.12323399573677 \\cdot 10^{-17} Γ & 0.5 i Γ e^{- i \\left(\\frac{k_{1}}{2} + \\frac{\\sqrt{3} k_{2}}{6}\\right)} + 0.5 i Γ e^{- i \\left(- \\frac{k_{1}}{2} + \\frac{\\sqrt{3} k_{2}}{6}\\right)}\\\\3.06161699786838 \\cdot 10^{-17} Γ e^{- \\frac{\\sqrt{3} i k_{2}}{3}} & 0 & 0 & 0 & 3.06161699786838 \\cdot 10^{-17} Γ e^{- \\frac{\\sqrt{3} i k_{2}}{3}} & 0 & - 0.5 i Γ e^{i \\left(- \\frac{k_{1}}{2} + \\frac{\\sqrt{3} k_{2}}{6}\\right)} - 0.5 i Γ e^{i \\left(\\frac{k_{1}}{2} + \\frac{\\sqrt{3} k_{2}}{6}\\right)} & - 6.12323399573677 \\cdot 10^{-17} Γ\\end{matrix}\\right]$"
      ],
      "text/plain": [
       "Matrix([\n",
       "[                                                      -6.12323399573677e-17*Γ, 0.5*I*Γ*exp(-I*(k1/2 + sqrt(3)*k2/6)) + 0.5*I*Γ*exp(-I*(-k1/2 + sqrt(3)*k2/6)),                                                                             0,                                     3.06161699786838e-17*Γ*exp(sqrt(3)*I*k2/3),                                                                             0,                                                                              0,                                                                             0,                                     3.06161699786838e-17*Γ*exp(sqrt(3)*I*k2/3)],\n",
       "[-0.5*I*Γ*exp(I*(-k1/2 + sqrt(3)*k2/6)) - 0.5*I*Γ*exp(I*(k1/2 + sqrt(3)*k2/6)),                                                        -6.12323399573677e-17*Γ,                                   3.06161699786838e-17*Γ*exp(-sqrt(3)*I*k2/3),                                                                              0,                                                                             0,                                                                              0,                                   3.06161699786838e-17*Γ*exp(-sqrt(3)*I*k2/3),                                                                              0],\n",
       "[                                                                            0,                                     3.06161699786838e-17*Γ*exp(sqrt(3)*I*k2/3),                                                       -6.12323399573677e-17*Γ, 0.5*I*Γ*exp(-I*(k1/2 + sqrt(3)*k2/6)) + 0.5*I*Γ*exp(-I*(-k1/2 + sqrt(3)*k2/6)),                                                                             0,                                     3.06161699786838e-17*Γ*exp(sqrt(3)*I*k2/3),                                                                             0,                                                                              0],\n",
       "[                                  3.06161699786838e-17*Γ*exp(-sqrt(3)*I*k2/3),                                                                              0, -0.5*I*Γ*exp(I*(-k1/2 + sqrt(3)*k2/6)) - 0.5*I*Γ*exp(I*(k1/2 + sqrt(3)*k2/6)),                                                        -6.12323399573677e-17*Γ,                                   3.06161699786838e-17*Γ*exp(-sqrt(3)*I*k2/3),                                                                              0,                                                                             0,                                                                              0],\n",
       "[                                                                            0,                                                                              0,                                                                             0,                                     3.06161699786838e-17*Γ*exp(sqrt(3)*I*k2/3),                                                       -6.12323399573677e-17*Γ, 0.5*I*Γ*exp(-I*(k1/2 + sqrt(3)*k2/6)) + 0.5*I*Γ*exp(-I*(-k1/2 + sqrt(3)*k2/6)),                                                                             0,                                     3.06161699786838e-17*Γ*exp(sqrt(3)*I*k2/3)],\n",
       "[                                                                            0,                                                                              0,                                   3.06161699786838e-17*Γ*exp(-sqrt(3)*I*k2/3),                                                                              0, -0.5*I*Γ*exp(I*(-k1/2 + sqrt(3)*k2/6)) - 0.5*I*Γ*exp(I*(k1/2 + sqrt(3)*k2/6)),                                                        -6.12323399573677e-17*Γ,                                   3.06161699786838e-17*Γ*exp(-sqrt(3)*I*k2/3),                                                                              0],\n",
       "[                                                                            0,                                     3.06161699786838e-17*Γ*exp(sqrt(3)*I*k2/3),                                                                             0,                                                                              0,                                                                             0,                                     3.06161699786838e-17*Γ*exp(sqrt(3)*I*k2/3),                                                       -6.12323399573677e-17*Γ, 0.5*I*Γ*exp(-I*(k1/2 + sqrt(3)*k2/6)) + 0.5*I*Γ*exp(-I*(-k1/2 + sqrt(3)*k2/6))],\n",
       "[                                  3.06161699786838e-17*Γ*exp(-sqrt(3)*I*k2/3),                                                                              0,                                                                             0,                                                                              0,                                   3.06161699786838e-17*Γ*exp(-sqrt(3)*I*k2/3),                                                                              0, -0.5*I*Γ*exp(I*(-k1/2 + sqrt(3)*k2/6)) - 0.5*I*Γ*exp(I*(k1/2 + sqrt(3)*k2/6)),                                                        -6.12323399573677e-17*Γ]])"
      ]
     },
     "execution_count": 18,
     "metadata": {},
     "output_type": "execute_result"
    }
   ],
   "source": [
    "Hlsw_Gamma = Hlsw.subs([(J,0), (K, 0), (gamma, 0), (h, 0), (a, 1)])\n",
    "Hlsw_Gamma"
   ]
  },
  {
   "cell_type": "code",
   "execution_count": 19,
   "metadata": {},
   "outputs": [
    {
     "data": {
      "text/latex": [
       "$\\displaystyle \\left[\\begin{matrix}0 & 0 & 0 & 0 & 0 & 0 & 0 & 0\\\\0 & 0 & 0 & 0 & 0 & 0 & 0 & 0\\\\0 & 0 & 0 & 0 & 0 & 0 & 0 & 0\\\\0 & 0 & 0 & 0 & 0 & 0 & 0 & 0\\\\0 & 0 & 0 & 0 & 0 & 0 & 0 & 0\\\\0 & 0 & 0 & 0 & 0 & 0 & 0 & 0\\\\0 & 0 & 0 & 0 & 0 & 0 & 0 & 0\\\\0 & 0 & 0 & 0 & 0 & 0 & 0 & 0\\end{matrix}\\right]$"
      ],
      "text/plain": [
       "Matrix([\n",
       "[0, 0, 0, 0, 0, 0, 0, 0],\n",
       "[0, 0, 0, 0, 0, 0, 0, 0],\n",
       "[0, 0, 0, 0, 0, 0, 0, 0],\n",
       "[0, 0, 0, 0, 0, 0, 0, 0],\n",
       "[0, 0, 0, 0, 0, 0, 0, 0],\n",
       "[0, 0, 0, 0, 0, 0, 0, 0],\n",
       "[0, 0, 0, 0, 0, 0, 0, 0],\n",
       "[0, 0, 0, 0, 0, 0, 0, 0]])"
      ]
     },
     "execution_count": 19,
     "metadata": {},
     "output_type": "execute_result"
    }
   ],
   "source": [
    "sp.transpose(sp.conjugate(Hlsw_Gamma))-Hlsw_Gamma"
   ]
  },
  {
   "cell_type": "code",
   "execution_count": 20,
   "metadata": {
    "scrolled": true
   },
   "outputs": [
    {
     "data": {
      "text/latex": [
       "$\\displaystyle \\left[\\begin{matrix}- 1.22464679914735 \\cdot 10^{-16} Γ' & 0.5 \\cdot \\left(6.12323399573677 \\cdot 10^{-17} Γ' + 6.12323399573677 \\cdot 10^{-17} i Γ'\\right) e^{- i \\left(\\frac{k_{1}}{2} + \\frac{\\sqrt{3} k_{2}}{6}\\right)} + 0.5 \\cdot \\left(6.12323399573677 \\cdot 10^{-17} Γ' + 6.12323399573677 \\cdot 10^{-17} i Γ'\\right) e^{- i \\left(- \\frac{k_{1}}{2} + \\frac{\\sqrt{3} k_{2}}{6}\\right)} & 0 & 0.5 i Γ' e^{\\frac{\\sqrt{3} i k_{2}}{3}} & 0 & 0.5 \\cdot \\left(6.12323399573677 \\cdot 10^{-17} Γ' + 6.12323399573677 \\cdot 10^{-17} i Γ'\\right) e^{- i \\left(\\frac{k_{1}}{2} + \\frac{\\sqrt{3} k_{2}}{6}\\right)} + 0.5 \\cdot \\left(6.12323399573677 \\cdot 10^{-17} Γ' + 6.12323399573677 \\cdot 10^{-17} i Γ'\\right) e^{- i \\left(- \\frac{k_{1}}{2} + \\frac{\\sqrt{3} k_{2}}{6}\\right)} & 0 & 5.55111512312578 \\cdot 10^{-17} i Γ' e^{\\frac{\\sqrt{3} i k_{2}}{3}}\\\\0.5 \\cdot \\left(6.12323399573677 \\cdot 10^{-17} Γ' - 6.12323399573677 \\cdot 10^{-17} i Γ'\\right) e^{i \\left(- \\frac{k_{1}}{2} + \\frac{\\sqrt{3} k_{2}}{6}\\right)} + 0.5 \\cdot \\left(6.12323399573677 \\cdot 10^{-17} Γ' - 6.12323399573677 \\cdot 10^{-17} i Γ'\\right) e^{i \\left(\\frac{k_{1}}{2} + \\frac{\\sqrt{3} k_{2}}{6}\\right)} & - 1.22464679914735 \\cdot 10^{-16} Γ' & - 0.5 i Γ' e^{- \\frac{\\sqrt{3} i k_{2}}{3}} & 0 & 0.5 \\cdot \\left(6.12323399573677 \\cdot 10^{-17} Γ' + 6.12323399573677 \\cdot 10^{-17} i Γ'\\right) e^{i \\left(- \\frac{k_{1}}{2} + \\frac{\\sqrt{3} k_{2}}{6}\\right)} + 0.5 \\cdot \\left(6.12323399573677 \\cdot 10^{-17} Γ' + 6.12323399573677 \\cdot 10^{-17} i Γ'\\right) e^{i \\left(\\frac{k_{1}}{2} + \\frac{\\sqrt{3} k_{2}}{6}\\right)} & 0 & 5.55111512312578 \\cdot 10^{-17} i Γ' e^{- \\frac{\\sqrt{3} i k_{2}}{3}} & 0\\\\0 & 0.5 i Γ' e^{\\frac{\\sqrt{3} i k_{2}}{3}} & - 1.22464679914735 \\cdot 10^{-16} Γ' & 0.5 \\cdot \\left(6.12323399573677 \\cdot 10^{-17} Γ' + 6.12323399573677 \\cdot 10^{-17} i Γ'\\right) e^{- i \\left(\\frac{k_{1}}{2} + \\frac{\\sqrt{3} k_{2}}{6}\\right)} + 0.5 \\cdot \\left(6.12323399573677 \\cdot 10^{-17} Γ' + 6.12323399573677 \\cdot 10^{-17} i Γ'\\right) e^{- i \\left(- \\frac{k_{1}}{2} + \\frac{\\sqrt{3} k_{2}}{6}\\right)} & 0 & 5.55111512312578 \\cdot 10^{-17} i Γ' e^{\\frac{\\sqrt{3} i k_{2}}{3}} & 0 & 0.5 \\cdot \\left(6.12323399573677 \\cdot 10^{-17} Γ' + 6.12323399573677 \\cdot 10^{-17} i Γ'\\right) e^{- i \\left(\\frac{k_{1}}{2} + \\frac{\\sqrt{3} k_{2}}{6}\\right)} + 0.5 \\cdot \\left(6.12323399573677 \\cdot 10^{-17} Γ' + 6.12323399573677 \\cdot 10^{-17} i Γ'\\right) e^{- i \\left(- \\frac{k_{1}}{2} + \\frac{\\sqrt{3} k_{2}}{6}\\right)}\\\\- 0.5 i Γ' e^{- \\frac{\\sqrt{3} i k_{2}}{3}} & 0 & 0.5 \\cdot \\left(6.12323399573677 \\cdot 10^{-17} Γ' - 6.12323399573677 \\cdot 10^{-17} i Γ'\\right) e^{i \\left(- \\frac{k_{1}}{2} + \\frac{\\sqrt{3} k_{2}}{6}\\right)} + 0.5 \\cdot \\left(6.12323399573677 \\cdot 10^{-17} Γ' - 6.12323399573677 \\cdot 10^{-17} i Γ'\\right) e^{i \\left(\\frac{k_{1}}{2} + \\frac{\\sqrt{3} k_{2}}{6}\\right)} & - 1.22464679914735 \\cdot 10^{-16} Γ' & 5.55111512312578 \\cdot 10^{-17} i Γ' e^{- \\frac{\\sqrt{3} i k_{2}}{3}} & 0 & 0.5 \\cdot \\left(6.12323399573677 \\cdot 10^{-17} Γ' + 6.12323399573677 \\cdot 10^{-17} i Γ'\\right) e^{i \\left(- \\frac{k_{1}}{2} + \\frac{\\sqrt{3} k_{2}}{6}\\right)} + 0.5 \\cdot \\left(6.12323399573677 \\cdot 10^{-17} Γ' + 6.12323399573677 \\cdot 10^{-17} i Γ'\\right) e^{i \\left(\\frac{k_{1}}{2} + \\frac{\\sqrt{3} k_{2}}{6}\\right)} & 0\\\\0 & 0.5 \\cdot \\left(6.12323399573677 \\cdot 10^{-17} Γ' - 6.12323399573677 \\cdot 10^{-17} i Γ'\\right) e^{- i \\left(\\frac{k_{1}}{2} + \\frac{\\sqrt{3} k_{2}}{6}\\right)} + 0.5 \\cdot \\left(6.12323399573677 \\cdot 10^{-17} Γ' - 6.12323399573677 \\cdot 10^{-17} i Γ'\\right) e^{- i \\left(- \\frac{k_{1}}{2} + \\frac{\\sqrt{3} k_{2}}{6}\\right)} & 0 & - 5.55111512312578 \\cdot 10^{-17} i Γ' e^{\\frac{\\sqrt{3} i k_{2}}{3}} & - 1.22464679914735 \\cdot 10^{-16} Γ' & 0.5 \\cdot \\left(6.12323399573677 \\cdot 10^{-17} Γ' + 6.12323399573677 \\cdot 10^{-17} i Γ'\\right) e^{- i \\left(\\frac{k_{1}}{2} + \\frac{\\sqrt{3} k_{2}}{6}\\right)} + 0.5 \\cdot \\left(6.12323399573677 \\cdot 10^{-17} Γ' + 6.12323399573677 \\cdot 10^{-17} i Γ'\\right) e^{- i \\left(- \\frac{k_{1}}{2} + \\frac{\\sqrt{3} k_{2}}{6}\\right)} & 0 & 0.5 i Γ' e^{\\frac{\\sqrt{3} i k_{2}}{3}}\\\\0.5 \\cdot \\left(6.12323399573677 \\cdot 10^{-17} Γ' - 6.12323399573677 \\cdot 10^{-17} i Γ'\\right) e^{i \\left(- \\frac{k_{1}}{2} + \\frac{\\sqrt{3} k_{2}}{6}\\right)} + 0.5 \\cdot \\left(6.12323399573677 \\cdot 10^{-17} Γ' - 6.12323399573677 \\cdot 10^{-17} i Γ'\\right) e^{i \\left(\\frac{k_{1}}{2} + \\frac{\\sqrt{3} k_{2}}{6}\\right)} & 0 & - 5.55111512312578 \\cdot 10^{-17} i Γ' e^{- \\frac{\\sqrt{3} i k_{2}}{3}} & 0 & 0.5 \\cdot \\left(6.12323399573677 \\cdot 10^{-17} Γ' - 6.12323399573677 \\cdot 10^{-17} i Γ'\\right) e^{i \\left(- \\frac{k_{1}}{2} + \\frac{\\sqrt{3} k_{2}}{6}\\right)} + 0.5 \\cdot \\left(6.12323399573677 \\cdot 10^{-17} Γ' - 6.12323399573677 \\cdot 10^{-17} i Γ'\\right) e^{i \\left(\\frac{k_{1}}{2} + \\frac{\\sqrt{3} k_{2}}{6}\\right)} & - 1.22464679914735 \\cdot 10^{-16} Γ' & - 0.5 i Γ' e^{- \\frac{\\sqrt{3} i k_{2}}{3}} & 0\\\\0 & - 5.55111512312578 \\cdot 10^{-17} i Γ' e^{\\frac{\\sqrt{3} i k_{2}}{3}} & 0 & 0.5 \\cdot \\left(6.12323399573677 \\cdot 10^{-17} Γ' - 6.12323399573677 \\cdot 10^{-17} i Γ'\\right) e^{- i \\left(\\frac{k_{1}}{2} + \\frac{\\sqrt{3} k_{2}}{6}\\right)} + 0.5 \\cdot \\left(6.12323399573677 \\cdot 10^{-17} Γ' - 6.12323399573677 \\cdot 10^{-17} i Γ'\\right) e^{- i \\left(- \\frac{k_{1}}{2} + \\frac{\\sqrt{3} k_{2}}{6}\\right)} & 0 & 0.5 i Γ' e^{\\frac{\\sqrt{3} i k_{2}}{3}} & - 1.22464679914735 \\cdot 10^{-16} Γ' & 0.5 \\cdot \\left(6.12323399573677 \\cdot 10^{-17} Γ' + 6.12323399573677 \\cdot 10^{-17} i Γ'\\right) e^{- i \\left(\\frac{k_{1}}{2} + \\frac{\\sqrt{3} k_{2}}{6}\\right)} + 0.5 \\cdot \\left(6.12323399573677 \\cdot 10^{-17} Γ' + 6.12323399573677 \\cdot 10^{-17} i Γ'\\right) e^{- i \\left(- \\frac{k_{1}}{2} + \\frac{\\sqrt{3} k_{2}}{6}\\right)}\\\\- 5.55111512312578 \\cdot 10^{-17} i Γ' e^{- \\frac{\\sqrt{3} i k_{2}}{3}} & 0 & 0.5 \\cdot \\left(6.12323399573677 \\cdot 10^{-17} Γ' - 6.12323399573677 \\cdot 10^{-17} i Γ'\\right) e^{i \\left(- \\frac{k_{1}}{2} + \\frac{\\sqrt{3} k_{2}}{6}\\right)} + 0.5 \\cdot \\left(6.12323399573677 \\cdot 10^{-17} Γ' - 6.12323399573677 \\cdot 10^{-17} i Γ'\\right) e^{i \\left(\\frac{k_{1}}{2} + \\frac{\\sqrt{3} k_{2}}{6}\\right)} & 0 & - 0.5 i Γ' e^{- \\frac{\\sqrt{3} i k_{2}}{3}} & 0 & 0.5 \\cdot \\left(6.12323399573677 \\cdot 10^{-17} Γ' - 6.12323399573677 \\cdot 10^{-17} i Γ'\\right) e^{i \\left(- \\frac{k_{1}}{2} + \\frac{\\sqrt{3} k_{2}}{6}\\right)} + 0.5 \\cdot \\left(6.12323399573677 \\cdot 10^{-17} Γ' - 6.12323399573677 \\cdot 10^{-17} i Γ'\\right) e^{i \\left(\\frac{k_{1}}{2} + \\frac{\\sqrt{3} k_{2}}{6}\\right)} & - 1.22464679914735 \\cdot 10^{-16} Γ'\\end{matrix}\\right]$"
      ],
      "text/plain": [
       "Matrix([\n",
       "[                                                                                                                                                        -1.22464679914735e-16*Γ', 0.5*(6.12323399573677e-17*Γ' + 6.12323399573677e-17*I*Γ')*exp(-I*(k1/2 + sqrt(3)*k2/6)) + 0.5*(6.12323399573677e-17*Γ' + 6.12323399573677e-17*I*Γ')*exp(-I*(-k1/2 + sqrt(3)*k2/6)),                                                                                                                                                                                0,                                                                                                                                                       0.5*I*Γ'*exp(sqrt(3)*I*k2/3),                                                                                                                                                                                0, 0.5*(6.12323399573677e-17*Γ' + 6.12323399573677e-17*I*Γ')*exp(-I*(k1/2 + sqrt(3)*k2/6)) + 0.5*(6.12323399573677e-17*Γ' + 6.12323399573677e-17*I*Γ')*exp(-I*(-k1/2 + sqrt(3)*k2/6)),                                                                                                                                                                                0,                                                                                                                                      5.55111512312578e-17*I*Γ'*exp(sqrt(3)*I*k2/3)],\n",
       "[0.5*(6.12323399573677e-17*Γ' - 6.12323399573677e-17*I*Γ')*exp(I*(-k1/2 + sqrt(3)*k2/6)) + 0.5*(6.12323399573677e-17*Γ' - 6.12323399573677e-17*I*Γ')*exp(I*(k1/2 + sqrt(3)*k2/6)),                                                                                                                                                           -1.22464679914735e-16*Γ',                                                                                                                                                   -0.5*I*Γ'*exp(-sqrt(3)*I*k2/3),                                                                                                                                                                                  0, 0.5*(6.12323399573677e-17*Γ' + 6.12323399573677e-17*I*Γ')*exp(I*(-k1/2 + sqrt(3)*k2/6)) + 0.5*(6.12323399573677e-17*Γ' + 6.12323399573677e-17*I*Γ')*exp(I*(k1/2 + sqrt(3)*k2/6)),                                                                                                                                                                                  0,                                                                                                                                   5.55111512312578e-17*I*Γ'*exp(-sqrt(3)*I*k2/3),                                                                                                                                                                                  0],\n",
       "[                                                                                                                                                                               0,                                                                                                                                                       0.5*I*Γ'*exp(sqrt(3)*I*k2/3),                                                                                                                                                         -1.22464679914735e-16*Γ', 0.5*(6.12323399573677e-17*Γ' + 6.12323399573677e-17*I*Γ')*exp(-I*(k1/2 + sqrt(3)*k2/6)) + 0.5*(6.12323399573677e-17*Γ' + 6.12323399573677e-17*I*Γ')*exp(-I*(-k1/2 + sqrt(3)*k2/6)),                                                                                                                                                                                0,                                                                                                                                      5.55111512312578e-17*I*Γ'*exp(sqrt(3)*I*k2/3),                                                                                                                                                                                0, 0.5*(6.12323399573677e-17*Γ' + 6.12323399573677e-17*I*Γ')*exp(-I*(k1/2 + sqrt(3)*k2/6)) + 0.5*(6.12323399573677e-17*Γ' + 6.12323399573677e-17*I*Γ')*exp(-I*(-k1/2 + sqrt(3)*k2/6))],\n",
       "[                                                                                                                                                  -0.5*I*Γ'*exp(-sqrt(3)*I*k2/3),                                                                                                                                                                                  0, 0.5*(6.12323399573677e-17*Γ' - 6.12323399573677e-17*I*Γ')*exp(I*(-k1/2 + sqrt(3)*k2/6)) + 0.5*(6.12323399573677e-17*Γ' - 6.12323399573677e-17*I*Γ')*exp(I*(k1/2 + sqrt(3)*k2/6)),                                                                                                                                                           -1.22464679914735e-16*Γ',                                                                                                                                   5.55111512312578e-17*I*Γ'*exp(-sqrt(3)*I*k2/3),                                                                                                                                                                                  0, 0.5*(6.12323399573677e-17*Γ' + 6.12323399573677e-17*I*Γ')*exp(I*(-k1/2 + sqrt(3)*k2/6)) + 0.5*(6.12323399573677e-17*Γ' + 6.12323399573677e-17*I*Γ')*exp(I*(k1/2 + sqrt(3)*k2/6)),                                                                                                                                                                                  0],\n",
       "[                                                                                                                                                                               0, 0.5*(6.12323399573677e-17*Γ' - 6.12323399573677e-17*I*Γ')*exp(-I*(k1/2 + sqrt(3)*k2/6)) + 0.5*(6.12323399573677e-17*Γ' - 6.12323399573677e-17*I*Γ')*exp(-I*(-k1/2 + sqrt(3)*k2/6)),                                                                                                                                                                                0,                                                                                                                                     -5.55111512312578e-17*I*Γ'*exp(sqrt(3)*I*k2/3),                                                                                                                                                         -1.22464679914735e-16*Γ', 0.5*(6.12323399573677e-17*Γ' + 6.12323399573677e-17*I*Γ')*exp(-I*(k1/2 + sqrt(3)*k2/6)) + 0.5*(6.12323399573677e-17*Γ' + 6.12323399573677e-17*I*Γ')*exp(-I*(-k1/2 + sqrt(3)*k2/6)),                                                                                                                                                                                0,                                                                                                                                                       0.5*I*Γ'*exp(sqrt(3)*I*k2/3)],\n",
       "[0.5*(6.12323399573677e-17*Γ' - 6.12323399573677e-17*I*Γ')*exp(I*(-k1/2 + sqrt(3)*k2/6)) + 0.5*(6.12323399573677e-17*Γ' - 6.12323399573677e-17*I*Γ')*exp(I*(k1/2 + sqrt(3)*k2/6)),                                                                                                                                                                                  0,                                                                                                                                  -5.55111512312578e-17*I*Γ'*exp(-sqrt(3)*I*k2/3),                                                                                                                                                                                  0, 0.5*(6.12323399573677e-17*Γ' - 6.12323399573677e-17*I*Γ')*exp(I*(-k1/2 + sqrt(3)*k2/6)) + 0.5*(6.12323399573677e-17*Γ' - 6.12323399573677e-17*I*Γ')*exp(I*(k1/2 + sqrt(3)*k2/6)),                                                                                                                                                           -1.22464679914735e-16*Γ',                                                                                                                                                   -0.5*I*Γ'*exp(-sqrt(3)*I*k2/3),                                                                                                                                                                                  0],\n",
       "[                                                                                                                                                                               0,                                                                                                                                     -5.55111512312578e-17*I*Γ'*exp(sqrt(3)*I*k2/3),                                                                                                                                                                                0, 0.5*(6.12323399573677e-17*Γ' - 6.12323399573677e-17*I*Γ')*exp(-I*(k1/2 + sqrt(3)*k2/6)) + 0.5*(6.12323399573677e-17*Γ' - 6.12323399573677e-17*I*Γ')*exp(-I*(-k1/2 + sqrt(3)*k2/6)),                                                                                                                                                                                0,                                                                                                                                                       0.5*I*Γ'*exp(sqrt(3)*I*k2/3),                                                                                                                                                         -1.22464679914735e-16*Γ', 0.5*(6.12323399573677e-17*Γ' + 6.12323399573677e-17*I*Γ')*exp(-I*(k1/2 + sqrt(3)*k2/6)) + 0.5*(6.12323399573677e-17*Γ' + 6.12323399573677e-17*I*Γ')*exp(-I*(-k1/2 + sqrt(3)*k2/6))],\n",
       "[                                                                                                                                 -5.55111512312578e-17*I*Γ'*exp(-sqrt(3)*I*k2/3),                                                                                                                                                                                  0, 0.5*(6.12323399573677e-17*Γ' - 6.12323399573677e-17*I*Γ')*exp(I*(-k1/2 + sqrt(3)*k2/6)) + 0.5*(6.12323399573677e-17*Γ' - 6.12323399573677e-17*I*Γ')*exp(I*(k1/2 + sqrt(3)*k2/6)),                                                                                                                                                                                  0,                                                                                                                                                   -0.5*I*Γ'*exp(-sqrt(3)*I*k2/3),                                                                                                                                                                                  0, 0.5*(6.12323399573677e-17*Γ' - 6.12323399573677e-17*I*Γ')*exp(I*(-k1/2 + sqrt(3)*k2/6)) + 0.5*(6.12323399573677e-17*Γ' - 6.12323399573677e-17*I*Γ')*exp(I*(k1/2 + sqrt(3)*k2/6)),                                                                                                                                                           -1.22464679914735e-16*Γ']])"
      ]
     },
     "execution_count": 20,
     "metadata": {},
     "output_type": "execute_result"
    }
   ],
   "source": [
    "Hlsw_gamma = Hlsw.subs([(J,0), (K, 0), (Gamma, 0), (h, 0), (a, 1)])\n",
    "Hlsw_gamma"
   ]
  },
  {
   "cell_type": "code",
   "execution_count": 21,
   "metadata": {},
   "outputs": [
    {
     "data": {
      "text/latex": [
       "$\\displaystyle \\left[\\begin{matrix}0 & 0 & 0 & 0 & 0 & 0 & 0 & 0\\\\0 & 0 & 0 & 0 & 0 & 0 & 0 & 0\\\\0 & 0 & 0 & 0 & 0 & 0 & 0 & 0\\\\0 & 0 & 0 & 0 & 0 & 0 & 0 & 0\\\\0 & 0 & 0 & 0 & 0 & 0 & 0 & 0\\\\0 & 0 & 0 & 0 & 0 & 0 & 0 & 0\\\\0 & 0 & 0 & 0 & 0 & 0 & 0 & 0\\\\0 & 0 & 0 & 0 & 0 & 0 & 0 & 0\\end{matrix}\\right]$"
      ],
      "text/plain": [
       "Matrix([\n",
       "[0, 0, 0, 0, 0, 0, 0, 0],\n",
       "[0, 0, 0, 0, 0, 0, 0, 0],\n",
       "[0, 0, 0, 0, 0, 0, 0, 0],\n",
       "[0, 0, 0, 0, 0, 0, 0, 0],\n",
       "[0, 0, 0, 0, 0, 0, 0, 0],\n",
       "[0, 0, 0, 0, 0, 0, 0, 0],\n",
       "[0, 0, 0, 0, 0, 0, 0, 0],\n",
       "[0, 0, 0, 0, 0, 0, 0, 0]])"
      ]
     },
     "execution_count": 21,
     "metadata": {},
     "output_type": "execute_result"
    }
   ],
   "source": [
    "sp.transpose(sp.conjugate(Hlsw_gamma))-Hlsw_gamma"
   ]
  },
  {
   "cell_type": "code",
   "execution_count": 22,
   "metadata": {},
   "outputs": [
    {
     "data": {
      "text/latex": [
       "$\\displaystyle \\left[\\begin{matrix}-10.75 & 1.25 i e^{- i \\left(\\frac{k_{1}}{2} + \\frac{\\sqrt{3} k_{2}}{6}\\right)} + 1.25 i e^{- i \\left(- \\frac{k_{1}}{2} + \\frac{\\sqrt{3} k_{2}}{6}\\right)} & 0 & 2.5 e^{\\frac{\\sqrt{3} i k_{2}}{3}} & 0 & - 0.25 e^{- i \\left(\\frac{k_{1}}{2} + \\frac{\\sqrt{3} k_{2}}{6}\\right)} - 0.25 e^{- i \\left(- \\frac{k_{1}}{2} + \\frac{\\sqrt{3} k_{2}}{6}\\right)} & 0 & - 2.75 e^{\\frac{\\sqrt{3} i k_{2}}{3}}\\\\- 1.25 i e^{i \\left(- \\frac{k_{1}}{2} + \\frac{\\sqrt{3} k_{2}}{6}\\right)} - 1.25 i e^{i \\left(\\frac{k_{1}}{2} + \\frac{\\sqrt{3} k_{2}}{6}\\right)} & -10.75 & 2.5 e^{- \\frac{\\sqrt{3} i k_{2}}{3}} & 0 & - 0.25 e^{i \\left(- \\frac{k_{1}}{2} + \\frac{\\sqrt{3} k_{2}}{6}\\right)} - 0.25 e^{i \\left(\\frac{k_{1}}{2} + \\frac{\\sqrt{3} k_{2}}{6}\\right)} & 0 & - 2.75 e^{- \\frac{\\sqrt{3} i k_{2}}{3}} & 0\\\\0 & 2.5 e^{\\frac{\\sqrt{3} i k_{2}}{3}} & -10.75 & 1.25 i e^{- i \\left(\\frac{k_{1}}{2} + \\frac{\\sqrt{3} k_{2}}{6}\\right)} + 1.25 i e^{- i \\left(- \\frac{k_{1}}{2} + \\frac{\\sqrt{3} k_{2}}{6}\\right)} & 0 & - 2.75 e^{\\frac{\\sqrt{3} i k_{2}}{3}} & 0 & - 0.25 e^{- i \\left(\\frac{k_{1}}{2} + \\frac{\\sqrt{3} k_{2}}{6}\\right)} - 0.25 e^{- i \\left(- \\frac{k_{1}}{2} + \\frac{\\sqrt{3} k_{2}}{6}\\right)}\\\\2.5 e^{- \\frac{\\sqrt{3} i k_{2}}{3}} & 0 & - 1.25 i e^{i \\left(- \\frac{k_{1}}{2} + \\frac{\\sqrt{3} k_{2}}{6}\\right)} - 1.25 i e^{i \\left(\\frac{k_{1}}{2} + \\frac{\\sqrt{3} k_{2}}{6}\\right)} & -10.75 & - 2.75 e^{- \\frac{\\sqrt{3} i k_{2}}{3}} & 0 & - 0.25 e^{i \\left(- \\frac{k_{1}}{2} + \\frac{\\sqrt{3} k_{2}}{6}\\right)} - 0.25 e^{i \\left(\\frac{k_{1}}{2} + \\frac{\\sqrt{3} k_{2}}{6}\\right)} & 0\\\\0 & - 0.25 e^{- i \\left(\\frac{k_{1}}{2} + \\frac{\\sqrt{3} k_{2}}{6}\\right)} - 0.25 e^{- i \\left(- \\frac{k_{1}}{2} + \\frac{\\sqrt{3} k_{2}}{6}\\right)} & 0 & - 2.75 e^{\\frac{\\sqrt{3} i k_{2}}{3}} & -10.75 & 1.25 i e^{- i \\left(\\frac{k_{1}}{2} + \\frac{\\sqrt{3} k_{2}}{6}\\right)} + 1.25 i e^{- i \\left(- \\frac{k_{1}}{2} + \\frac{\\sqrt{3} k_{2}}{6}\\right)} & 0 & 2.5 e^{\\frac{\\sqrt{3} i k_{2}}{3}}\\\\- 0.25 e^{i \\left(- \\frac{k_{1}}{2} + \\frac{\\sqrt{3} k_{2}}{6}\\right)} - 0.25 e^{i \\left(\\frac{k_{1}}{2} + \\frac{\\sqrt{3} k_{2}}{6}\\right)} & 0 & - 2.75 e^{- \\frac{\\sqrt{3} i k_{2}}{3}} & 0 & - 1.25 i e^{i \\left(- \\frac{k_{1}}{2} + \\frac{\\sqrt{3} k_{2}}{6}\\right)} - 1.25 i e^{i \\left(\\frac{k_{1}}{2} + \\frac{\\sqrt{3} k_{2}}{6}\\right)} & -10.75 & 2.5 e^{- \\frac{\\sqrt{3} i k_{2}}{3}} & 0\\\\0 & - 2.75 e^{\\frac{\\sqrt{3} i k_{2}}{3}} & 0 & - 0.25 e^{- i \\left(\\frac{k_{1}}{2} + \\frac{\\sqrt{3} k_{2}}{6}\\right)} - 0.25 e^{- i \\left(- \\frac{k_{1}}{2} + \\frac{\\sqrt{3} k_{2}}{6}\\right)} & 0 & 2.5 e^{\\frac{\\sqrt{3} i k_{2}}{3}} & -10.75 & 1.25 i e^{- i \\left(\\frac{k_{1}}{2} + \\frac{\\sqrt{3} k_{2}}{6}\\right)} + 1.25 i e^{- i \\left(- \\frac{k_{1}}{2} + \\frac{\\sqrt{3} k_{2}}{6}\\right)}\\\\- 2.75 e^{- \\frac{\\sqrt{3} i k_{2}}{3}} & 0 & - 0.25 e^{i \\left(- \\frac{k_{1}}{2} + \\frac{\\sqrt{3} k_{2}}{6}\\right)} - 0.25 e^{i \\left(\\frac{k_{1}}{2} + \\frac{\\sqrt{3} k_{2}}{6}\\right)} & 0 & 2.5 e^{- \\frac{\\sqrt{3} i k_{2}}{3}} & 0 & - 1.25 i e^{i \\left(- \\frac{k_{1}}{2} + \\frac{\\sqrt{3} k_{2}}{6}\\right)} - 1.25 i e^{i \\left(\\frac{k_{1}}{2} + \\frac{\\sqrt{3} k_{2}}{6}\\right)} & -10.75\\end{matrix}\\right]$"
      ],
      "text/plain": [
       "Matrix([\n",
       "[                                                                     -10.75, 1.25*I*exp(-I*(k1/2 + sqrt(3)*k2/6)) + 1.25*I*exp(-I*(-k1/2 + sqrt(3)*k2/6)),                                                                           0,                                                      2.5*exp(sqrt(3)*I*k2/3),                                                                           0,    -0.25*exp(-I*(k1/2 + sqrt(3)*k2/6)) - 0.25*exp(-I*(-k1/2 + sqrt(3)*k2/6)),                                                                           0,                                                    -2.75*exp(sqrt(3)*I*k2/3)],\n",
       "[-1.25*I*exp(I*(-k1/2 + sqrt(3)*k2/6)) - 1.25*I*exp(I*(k1/2 + sqrt(3)*k2/6)),                                                                       -10.75,                                                    2.5*exp(-sqrt(3)*I*k2/3),                                                                            0,     -0.25*exp(I*(-k1/2 + sqrt(3)*k2/6)) - 0.25*exp(I*(k1/2 + sqrt(3)*k2/6)),                                                                            0,                                                  -2.75*exp(-sqrt(3)*I*k2/3),                                                                            0],\n",
       "[                                                                          0,                                                      2.5*exp(sqrt(3)*I*k2/3),                                                                      -10.75, 1.25*I*exp(-I*(k1/2 + sqrt(3)*k2/6)) + 1.25*I*exp(-I*(-k1/2 + sqrt(3)*k2/6)),                                                                           0,                                                    -2.75*exp(sqrt(3)*I*k2/3),                                                                           0,    -0.25*exp(-I*(k1/2 + sqrt(3)*k2/6)) - 0.25*exp(-I*(-k1/2 + sqrt(3)*k2/6))],\n",
       "[                                                   2.5*exp(-sqrt(3)*I*k2/3),                                                                            0, -1.25*I*exp(I*(-k1/2 + sqrt(3)*k2/6)) - 1.25*I*exp(I*(k1/2 + sqrt(3)*k2/6)),                                                                       -10.75,                                                  -2.75*exp(-sqrt(3)*I*k2/3),                                                                            0,     -0.25*exp(I*(-k1/2 + sqrt(3)*k2/6)) - 0.25*exp(I*(k1/2 + sqrt(3)*k2/6)),                                                                            0],\n",
       "[                                                                          0,    -0.25*exp(-I*(k1/2 + sqrt(3)*k2/6)) - 0.25*exp(-I*(-k1/2 + sqrt(3)*k2/6)),                                                                           0,                                                    -2.75*exp(sqrt(3)*I*k2/3),                                                                      -10.75, 1.25*I*exp(-I*(k1/2 + sqrt(3)*k2/6)) + 1.25*I*exp(-I*(-k1/2 + sqrt(3)*k2/6)),                                                                           0,                                                      2.5*exp(sqrt(3)*I*k2/3)],\n",
       "[    -0.25*exp(I*(-k1/2 + sqrt(3)*k2/6)) - 0.25*exp(I*(k1/2 + sqrt(3)*k2/6)),                                                                            0,                                                  -2.75*exp(-sqrt(3)*I*k2/3),                                                                            0, -1.25*I*exp(I*(-k1/2 + sqrt(3)*k2/6)) - 1.25*I*exp(I*(k1/2 + sqrt(3)*k2/6)),                                                                       -10.75,                                                    2.5*exp(-sqrt(3)*I*k2/3),                                                                            0],\n",
       "[                                                                          0,                                                    -2.75*exp(sqrt(3)*I*k2/3),                                                                           0,    -0.25*exp(-I*(k1/2 + sqrt(3)*k2/6)) - 0.25*exp(-I*(-k1/2 + sqrt(3)*k2/6)),                                                                           0,                                                      2.5*exp(sqrt(3)*I*k2/3),                                                                      -10.75, 1.25*I*exp(-I*(k1/2 + sqrt(3)*k2/6)) + 1.25*I*exp(-I*(-k1/2 + sqrt(3)*k2/6))],\n",
       "[                                                 -2.75*exp(-sqrt(3)*I*k2/3),                                                                            0,     -0.25*exp(I*(-k1/2 + sqrt(3)*k2/6)) - 0.25*exp(I*(k1/2 + sqrt(3)*k2/6)),                                                                            0,                                                    2.5*exp(-sqrt(3)*I*k2/3),                                                                            0, -1.25*I*exp(I*(-k1/2 + sqrt(3)*k2/6)) - 1.25*I*exp(I*(k1/2 + sqrt(3)*k2/6)),                                                                       -10.75]])"
      ]
     },
     "execution_count": 22,
     "metadata": {},
     "output_type": "execute_result"
    }
   ],
   "source": [
    "cp_strg = [-0.5,-5,2.5,0,0]\n",
    "Hlsw_add = Hlsw.subs([(J,cp_strg[0]), (K, cp_strg[1]), (Gamma, cp_strg[2]), (gamma, cp_strg[3]), (h, cp_strg[4]), (a, 1)])\n",
    "Hlsw_add"
   ]
  },
  {
   "cell_type": "code",
   "execution_count": 23,
   "metadata": {},
   "outputs": [],
   "source": [
    "import SpinModel_afm as smk"
   ]
  },
  {
   "cell_type": "code",
   "execution_count": 24,
   "metadata": {
    "scrolled": false
   },
   "outputs": [
    {
     "data": {
      "text/latex": [
       "$\\displaystyle \\left[\\begin{matrix}0 & 0 & 0 & 0 & 0 & 0 & 0 & 0\\\\0 & 0 & 0 & 0 & 0 & 0 & 0 & 0\\\\0 & 0 & 0 & 0 & 0 & 0 & 0 & 0\\\\0 & 0 & 0 & 0 & 0 & 0 & 0 & 0\\\\0 & 0 & 0 & 0 & 0 & 0 & 0 & 0\\\\0 & 0 & 0 & 0 & 0 & 0 & 0 & 0\\\\0 & 0 & 0 & 0 & 0 & 0 & 0 & 0\\\\0 & 0 & 0 & 0 & 0 & 0 & 0 & 0\\end{matrix}\\right]$"
      ],
      "text/plain": [
       "Matrix([\n",
       "[0, 0, 0, 0, 0, 0, 0, 0],\n",
       "[0, 0, 0, 0, 0, 0, 0, 0],\n",
       "[0, 0, 0, 0, 0, 0, 0, 0],\n",
       "[0, 0, 0, 0, 0, 0, 0, 0],\n",
       "[0, 0, 0, 0, 0, 0, 0, 0],\n",
       "[0, 0, 0, 0, 0, 0, 0, 0],\n",
       "[0, 0, 0, 0, 0, 0, 0, 0],\n",
       "[0, 0, 0, 0, 0, 0, 0, 0]])"
      ]
     },
     "execution_count": 24,
     "metadata": {},
     "output_type": "execute_result"
    }
   ],
   "source": [
    "cp_strg = [1,0,0,0,0]\n",
    "H = smk.afm_spin_model(cp_strg)\n",
    "H-np.transpose(np.conjugate(H))"
   ]
  },
  {
   "cell_type": "code",
   "execution_count": 25,
   "metadata": {},
   "outputs": [
    {
     "name": "stdout",
     "output_type": "stream",
     "text": [
      "0.0 0\n",
      "0.3141592653589793 0\n",
      "0.6283185307179586 0\n",
      "0.9424777960769379 0\n",
      "1.2566370614359172 0\n",
      "1.5707963267948966 0\n",
      "1.8849555921538759 0\n",
      "2.199114857512855 0\n",
      "2.5132741228718345 0\n",
      "2.827433388230814 0\n",
      "3.141592653589793 0.0\n",
      "3.141592653589793 -0.3141592653589793\n",
      "3.141592653589793 -0.6283185307179586\n",
      "3.141592653589793 -0.9424777960769379\n",
      "3.141592653589793 -1.2566370614359172\n",
      "3.141592653589793 -1.5707963267948966\n",
      "3.141592653589793 1.8137993642342178\n",
      "2.827433388230814 1.8137993642342178\n",
      "2.5132741228718345 1.8137993642342178\n",
      "2.199114857512855 1.8137993642342178\n",
      "1.8849555921538759 1.8137993642342178\n",
      "1.5707963267948966 1.8137993642342178\n",
      "1.2566370614359172 1.8137993642342178\n",
      "0.9424777960769379 1.8137993642342178\n",
      "0.6283185307179586 1.8137993642342178\n",
      "0.3141592653589793 1.8137993642342178\n",
      "0 1.8137993642342178\n",
      "0 1.4996400988752385\n",
      "0 1.1854808335162592\n",
      "0 0.8713215681572799\n",
      "0 0.5571623027983006\n",
      "0 0.24300303743932128\n",
      "0.0 0.0\n",
      "0.27206990463513264 0.15707963267948966\n",
      "0.5441398092702653 0.3141592653589793\n",
      "0.816209713905398 0.47123889803846897\n",
      "1.0882796185405306 0.6283185307179586\n",
      "1.3603495231756633 0.7853981633974483\n",
      "1.632419427810796 0.9424777960769379\n",
      "1.9044893324459287 1.0995574287564276\n",
      "2.176559237081061 1.2566370614359172\n",
      "2.448629141716194 1.413716694115407\n",
      "2.7206990463513265 1.5707963267948966\n",
      "2.9927689509864592 1.7278759594743862\n",
      "[[ 1.41421356e+00-9.43705673e-32j  1.41421356e+00+3.16053262e-33j\n",
      "   6.85249379e-09-1.60051611e-24j  2.23078828e-17+8.79555908e-09j\n",
      "   2.23078584e-17-8.79555908e-09j -6.85249413e-09+1.60051610e-24j\n",
      "  -1.41421356e+00+6.47112461e-32j -1.41421356e+00+0.00000000e+00j]\n",
      " [ 1.40114831e+00-2.55871713e-16j  1.40114831e+00+2.57368869e-16j\n",
      "   1.24900090e-16-1.10272764e-01j  1.24896796e-16+1.10272764e-01j\n",
      "  -2.68231617e-16-1.10272764e-01j -3.41740525e-16+1.10272764e-01j\n",
      "  -1.40114831e+00+2.91433544e-16j -1.40114831e+00-2.15735506e-16j]\n",
      " [ 1.36219125e+00+1.80458166e-21j  1.36219125e+00+1.80458166e-21j\n",
      "   4.03779180e-16+2.15749899e-01j  2.25418509e-16-2.15749899e-01j\n",
      "  -1.90570330e-16-2.15749899e-01j -3.28333871e-16+2.15749899e-01j\n",
      "  -1.36219125e+00+2.77555756e-17j -1.36219125e+00-2.77555756e-17j]\n",
      " [ 1.29803665e+00-1.07254700e-16j  1.29803665e+00+1.81540075e-21j\n",
      "   7.24034234e-17-3.11631029e-01j  5.13290816e-17-3.11631029e-01j\n",
      "   2.32643492e-17+3.11631029e-01j -1.82201915e-16+3.11631029e-01j\n",
      "  -1.29803665e+00+0.00000000e+00j -1.29803665e+00+1.24900090e-16j]\n",
      " [ 1.20976258e+00+3.66610951e-21j  1.20976258e+00+0.00000000e+00j\n",
      "   7.15370146e-17-3.93075689e-01j -1.26308417e-17+3.93075689e-01j\n",
      "  -5.08401495e-17+3.93075689e-01j -1.29048858e-16-3.93075689e-01j\n",
      "  -1.20976258e+00-3.66610951e-21j -1.20976258e+00+5.55111512e-17j]\n",
      " [ 1.09868411e+00+3.72248657e-21j  1.09868411e+00+3.72248657e-21j\n",
      "   8.00954355e-17+4.55089861e-01j  2.95833732e-17-4.55089861e-01j\n",
      "  -2.75014657e-17-4.55089861e-01j -9.71136239e-17+4.55089861e-01j\n",
      "  -1.09868411e+00-1.11022302e-16j -1.09868411e+00+5.55111512e-17j]\n",
      " [ 9.66062501e-01+3.81503245e-21j  9.66062501e-01+3.81503245e-21j\n",
      "   8.00182065e-17+4.92233430e-01j  6.68038280e-17-4.92233430e-01j\n",
      "   5.52943108e-17+4.92233430e-01j  3.43421038e-17-4.92233430e-01j\n",
      "  -9.66062501e-01+1.66533454e-16j -9.66062501e-01-1.11022302e-16j]\n",
      " [ 8.12464075e-01+3.63736752e-16j  8.12464075e-01+3.97832426e-21j\n",
      "   4.25007252e-17-4.97878626e-01j  2.06474326e-18+4.97878626e-01j\n",
      "  -9.97053034e-17+4.97878626e-01j -1.47451495e-16-4.97878626e-01j\n",
      "  -8.12464075e-01-3.33066907e-16j -8.12464075e-01+5.55111512e-17j]\n",
      " [ 6.36009825e-01-1.68657082e-17j  6.36009825e-01+4.30977021e-21j\n",
      "   1.14058069e-16+4.62088186e-01j  6.29506957e-17+4.62088186e-01j\n",
      "  -4.73813374e-17-4.62088186e-01j -5.89805982e-17-4.62088186e-01j\n",
      "  -6.36009825e-01-2.77555756e-16j -6.36009825e-01+1.66533454e-16j]\n",
      " [ 4.25330703e-01-1.42437435e-16j  4.25330703e-01-7.64646454e-17j\n",
      "   1.70290154e-16+3.63266738e-01j  1.57426155e-16-3.63266738e-01j\n",
      "   1.17961196e-16-3.63266738e-01j -1.41822231e-17+3.63266738e-01j\n",
      "  -4.25330703e-01-8.32667268e-17j -4.25330703e-01+5.55111512e-17j]\n",
      " [ 1.86717514e-09+3.33153408e-09j  8.67404546e-13-9.22704947e-13j\n",
      "   4.68641189e-13+8.64618345e-09j  4.04061637e-13-8.64554639e-09j\n",
      "  -4.03949568e-13-8.64635597e-09j -4.68596398e-13+8.64571893e-09j\n",
      "  -8.67757193e-13+9.22704947e-13j -1.86717525e-09-3.33153400e-09j]\n",
      " [ 9.11875582e-09-4.84073041e-09j  8.07528502e-09-1.59785362e-09j\n",
      "   4.64607187e-09+1.11611860e-09j  1.51356727e-09-1.51356702e-09j\n",
      "  -1.51356698e-09+1.51356674e-09j -4.64607205e-09-1.11611830e-09j\n",
      "  -8.07528516e-09+1.59785354e-09j -9.11875604e-09+4.84073035e-09j]\n",
      " [ 6.00735945e-09+6.65647032e-09j  1.96526528e-09-4.81745858e-09j\n",
      "   1.79577662e-09-6.14295709e-09j  1.46998333e-09+1.46998350e-09j\n",
      "  -1.46998361e-09-1.46998350e-09j -1.79577670e-09+6.14295711e-09j\n",
      "  -1.96526539e-09+4.81745859e-09j -6.00735983e-09-6.65647022e-09j]\n",
      " [ 9.43320927e-09-1.56039103e-09j  6.02551433e-09+7.09641529e-09j\n",
      "   2.39421027e-09+2.39421015e-09j  1.46905563e-09-1.19903438e-08j\n",
      "  -1.46905523e-09+1.19903441e-08j -2.39421046e-09-2.39421014e-09j\n",
      "  -6.02551419e-09-7.09641529e-09j -9.43320928e-09+1.56039110e-09j]\n",
      " [ 7.09822497e-09+1.69576930e-10j  6.00758264e-09+4.51361667e-09j\n",
      "   5.04983443e-09-5.90001823e-09j  4.50628815e-10+6.28135161e-09j\n",
      "  -4.50628704e-10-6.28135165e-09j -5.04983425e-09+5.90001820e-09j\n",
      "  -6.00758266e-09-4.51361649e-09j -7.09822498e-09-1.69577039e-10j]\n",
      " [ 1.36138135e-08-2.68097485e-09j  5.29162991e-09-4.24805507e-09j\n",
      "   3.66224060e-09+3.66224077e-09j  1.53305550e-09-4.40059453e-09j\n",
      "  -1.53305553e-09+4.40059447e-09j -3.66224099e-09-3.66224075e-09j\n",
      "  -5.29162973e-09+4.24805532e-09j -1.36138135e-08+2.68097455e-09j]\n",
      " [ 8.36048299e-09-4.36728050e-09j  6.15842776e-09-2.80092851e-09j\n",
      "   2.61310522e-09+2.16046783e-09j  1.69688040e-09-9.02130960e-09j\n",
      "  -1.69688047e-09+9.02130956e-09j -2.61310508e-09-2.16046787e-09j\n",
      "  -6.15842836e-09+2.80092845e-09j -8.36048306e-09+4.36728047e-09j]\n",
      " [ 1.56434467e-01+6.20181918e-09j  1.56434466e-01+6.19603069e-09j\n",
      "   1.56434464e-01-6.19603059e-09j  1.56434463e-01-6.20181908e-09j\n",
      "  -1.56434454e-01+1.68504960e-09j -1.56434462e-01-1.97556928e-10j\n",
      "  -1.56434468e-01+1.97556839e-10j -1.56434476e-01-1.68504971e-09j]\n",
      " [ 3.09017004e-01-8.60859745e-10j  3.09017004e-01-9.57478226e-10j\n",
      "   3.09016985e-01+9.57478557e-10j  3.09016985e-01+8.60859478e-10j\n",
      "  -3.09016981e-01+8.76145489e-09j -3.09016991e-01+9.75033169e-09j\n",
      "  -3.09016998e-01-9.75033139e-09j -3.09017007e-01-8.76145496e-09j]\n",
      " [ 4.53990501e-01-6.34082334e-09j  4.53990501e-01-7.83076853e-09j\n",
      "   4.53990499e-01+7.83076858e-09j  4.53990499e-01+6.34082310e-09j\n",
      "  -4.53990486e-01-1.68205945e-09j -4.53990493e-01-2.15079703e-09j\n",
      "  -4.53990506e-01+2.15079722e-09j -4.53990514e-01+1.68205970e-09j]\n",
      " [ 5.87785253e-01-1.07984840e-08j  5.87785253e-01-9.81647056e-09j\n",
      "   5.87785252e-01+9.81647031e-09j  5.87785251e-01+1.07984840e-08j\n",
      "  -5.87785238e-01+1.41257029e-08j -5.87785244e-01+1.24461716e-08j\n",
      "  -5.87785261e-01-1.24461715e-08j -5.87785266e-01-1.41257031e-08j]\n",
      " [ 7.07106803e-01+1.88214681e-09j  7.07106789e-01-5.13926679e-11j\n",
      "   7.07106773e-01+5.13927481e-11j  7.07106759e-01-1.88214700e-09j\n",
      "  -7.07106765e-01+1.67129353e-08j -7.07106778e-01+1.43548085e-08j\n",
      "  -7.07106785e-01-1.43548081e-08j -7.07106798e-01-1.67129353e-08j]\n",
      " [ 8.09016999e-01+1.22556855e-08j  8.09016995e-01-1.55495243e-08j\n",
      "   8.09016994e-01+1.55495244e-08j  8.09016990e-01-1.22556852e-08j\n",
      "  -8.09016992e-01-1.27264203e-08j -8.09016993e-01+1.19218941e-08j\n",
      "  -8.09016995e-01-1.19218944e-08j -8.09016996e-01+1.27264207e-08j]\n",
      " [ 8.91006530e-01+1.80754015e-08j  8.91006525e-01-2.70911863e-08j\n",
      "   8.91006524e-01+2.70911864e-08j  8.91006518e-01-1.80754014e-08j\n",
      "  -8.91006508e-01+1.30790877e-08j -8.91006513e-01+2.20626800e-08j\n",
      "  -8.91006535e-01-2.20626796e-08j -8.91006540e-01-1.30790878e-08j]\n",
      " [ 9.51056545e-01+1.60163743e-09j  9.51056536e-01-3.04033877e-09j\n",
      "   9.51056497e-01+3.04033877e-09j  9.51056487e-01-1.60163748e-09j\n",
      "  -9.51056500e-01+6.52109327e-09j -9.51056515e-01+3.91365668e-09j\n",
      "  -9.51056518e-01-3.91365697e-09j -9.51056532e-01-6.52109393e-09j]\n",
      " [ 9.87688347e-01-8.31982550e-09j  9.87688341e-01+2.45995115e-08j\n",
      "   9.87688340e-01-2.45995117e-08j  9.87688334e-01+8.31982540e-09j\n",
      "  -9.87688332e-01-5.57499780e-09j -9.87688340e-01+1.28857597e-08j\n",
      "  -9.87688341e-01-1.28857593e-08j -9.87688350e-01+5.57499758e-09j]\n",
      " [ 1.00000002e+00-1.31977118e-09j  1.00000002e+00-3.84962420e-09j\n",
      "   9.99999984e-01+3.84962426e-09j  9.99999981e-01+1.31977122e-09j\n",
      "  -9.99999991e-01-1.06590503e-09j -9.99999997e-01-1.64009438e-08j\n",
      "  -1.00000000e+00+1.64009443e-08j -1.00000001e+00+1.06590495e-09j]\n",
      " [ 1.12637728e+00-1.47451495e-16j  1.12637728e+00-1.04083409e-16j\n",
      "   8.55145732e-01+2.28332978e-16j  8.55145732e-01+1.41786539e-16j\n",
      "  -8.55145732e-01-1.67781325e-16j -8.55145732e-01+3.87314727e-16j\n",
      "  -1.12637728e+00-5.30707379e-16j -1.12637728e+00+0.00000000e+00j]\n",
      " [ 1.23194250e+00+7.07984019e-17j  1.23194250e+00+4.11129464e-16j\n",
      "   6.94490946e-01+1.05645126e-16j  6.94490946e-01-2.54008240e-16j\n",
      "  -6.94490946e-01+2.72042576e-17j -6.94490946e-01-5.72480090e-17j\n",
      "  -1.23194250e+00+1.19401156e-16j -1.23194250e+00-2.73875030e-16j]\n",
      " [ 1.31474514e+00+2.03946403e-16j  1.31474514e+00-3.85975973e-17j\n",
      "   5.21004059e-01+9.49464112e-17j  5.21004059e-01+1.57609468e-16j\n",
      "  -5.21004059e-01-2.38589976e-16j -5.21004059e-01-1.02130347e-16j\n",
      "  -1.31474514e+00+1.79810252e-16j -1.31474514e+00-1.03866568e-16j]\n",
      " [ 1.37325524e+00+1.38777878e-17j  1.37325524e+00-4.16333634e-17j\n",
      "   3.37890587e-01-2.82451210e-17j  3.37890587e-01-2.05437409e-16j\n",
      "  -3.37890587e-01+2.77555756e-17j -3.37890587e-01+5.20417043e-17j\n",
      "  -1.37325524e+00+5.29090660e-17j -1.37325524e+00+3.88578059e-16j]\n",
      " [ 1.40639172e+00+1.27502175e-16j  1.40639172e+00-1.38777878e-17j\n",
      "   1.48533914e-01+2.01799509e-16j  1.48533914e-01+2.91950253e-16j\n",
      "  -1.48533914e-01-6.62824379e-16j -1.48533914e-01-1.27216179e-16j\n",
      "  -1.40639172e+00+2.81892565e-16j -1.40639172e+00-2.49800181e-16j]\n",
      " [ 1.41421356e+00-9.43705673e-32j  1.41421356e+00+3.16053262e-33j\n",
      "   6.85249379e-09-1.60051611e-24j  2.23078828e-17+8.79555908e-09j\n",
      "   2.23078584e-17-8.79555908e-09j -6.85249413e-09+1.60051610e-24j\n",
      "  -1.41421356e+00+6.47112461e-32j -1.41421356e+00+0.00000000e+00j]\n",
      " [ 1.40114836e+00+1.16732753e-17j  1.40114836e+00+1.22681455e-17j\n",
      "   4.35026644e-09+4.80585779e-09j  8.46922201e-10-1.69201157e-08j\n",
      "  -8.46921754e-10+1.69201157e-08j -4.35026614e-09-4.80585777e-09j\n",
      "  -1.40114836e+00+5.63826274e-17j -1.40114836e+00+4.19620420e-17j]\n",
      " [ 1.36219415e+00+3.38271078e-16j  1.36219415e+00-1.48793196e-16j\n",
      "   8.71168845e-09-5.13897623e-09j  6.58664949e-09-4.21963556e-09j\n",
      "  -6.58664980e-09+4.21963563e-09j -8.71168857e-09+5.13897613e-09j\n",
      "  -1.36219415e+00-2.35922393e-16j -1.36219415e+00+1.38777878e-16j]\n",
      " [ 1.29807070e+00+3.62123526e-17j  1.29807070e+00-2.63677968e-16j\n",
      "   1.24189297e-08-1.24821240e-09j  1.66954821e-09+1.16670355e-08j\n",
      "  -1.66954771e-09-1.16670353e-08j -1.24189298e-08+1.24821238e-09j\n",
      "  -1.29807070e+00+5.55111512e-17j -1.29807070e+00+6.50521303e-17j]\n",
      " [ 1.20996282e+00-5.10876064e-16j  1.20996282e+00-1.97758476e-16j\n",
      "   9.00393990e-09+1.24722515e-09j  2.84815029e-09+8.66220794e-09j\n",
      "  -2.84814971e-09-8.66220802e-09j -9.00393962e-09-1.24722543e-09j\n",
      "  -1.20996282e+00+3.88578059e-16j -1.20996282e+00-1.94289029e-16j]\n",
      " [ 1.09949846e+00+3.88578059e-16j  1.09949846e+00+5.55111512e-17j\n",
      "   1.12421932e-08+1.12396827e-08j  9.47654797e-09-7.83677114e-09j\n",
      "  -9.47654779e-09+7.83677107e-09j -1.12421932e-08-1.12396826e-08j\n",
      "  -1.09949846e+00-2.30718222e-16j -1.09949846e+00+0.00000000e+00j]\n",
      " [ 9.68718686e-01+0.00000000e+00j  9.68718686e-01+3.51281504e-17j\n",
      "   1.08712505e-08-8.69503906e-09j  6.54306910e-09+3.97103251e-09j\n",
      "  -6.54306887e-09-3.97103242e-09j -1.08712502e-08+8.69503903e-09j\n",
      "  -9.68718686e-01-3.33066907e-16j -9.68718686e-01+2.89698820e-16j]\n",
      " [ 8.20039907e-01+1.46688325e-16j  8.20039907e-01-3.60822483e-16j\n",
      "   5.02780245e-09+1.08760848e-08j  2.23989836e-09+3.31473952e-10j\n",
      "  -2.23989827e-09-3.31473977e-10j -5.02780247e-09-1.08760845e-08j\n",
      "  -8.20039907e-01-1.87375873e-16j -8.20039907e-01+2.89698820e-16j]\n",
      " [ 6.56209261e-01+2.30718222e-16j  6.56209261e-01+1.59594560e-16j\n",
      "   1.24875033e-08-5.03846111e-09j  1.03518389e-08+9.09413349e-10j\n",
      "  -1.03518388e-08-9.09413270e-10j -1.24875035e-08+5.03846087e-09j\n",
      "  -6.56209261e-01-8.32667268e-17j -6.56209261e-01+1.24900090e-16j]\n",
      " [ 4.80253844e-01-4.20670443e-16j  4.80253844e-01-2.02962647e-16j\n",
      "   4.53787512e-09+3.47694456e-09j  2.05778503e-09+9.83847170e-09j\n",
      "  -2.05778454e-09-9.83847126e-09j -4.53787513e-09-3.47694441e-09j\n",
      "  -4.80253844e-01+1.78540993e-16j -4.80253844e-01-2.77555756e-17j]\n",
      " [ 2.95424782e-01+5.37120533e-16j  2.95424782e-01+5.05430282e-17j\n",
      "   3.63031249e-09-1.04966353e-08j  2.30192516e-09+4.39379226e-09j\n",
      "  -2.30192511e-09-4.39379234e-09j -3.63031224e-09+1.04966353e-08j\n",
      "  -2.95424782e-01-2.32211335e-17j -2.95424782e-01-1.00912117e-16j]\n",
      " [ 1.05137160e-01+1.63660318e-16j  1.05137160e-01+4.12132351e-16j\n",
      "   9.05479874e-09-4.99250910e-10j  4.46542313e-09-1.50423619e-09j\n",
      "  -4.46542427e-09+1.50423624e-09j -9.05479910e-09+4.99250274e-10j\n",
      "  -1.05137160e-01+2.24714453e-16j -1.05137160e-01-2.63677968e-16j]]\n",
      "1.4142135623730958 -1.414213562373095\n"
     ]
    },
    {
     "data": {
      "image/png": "[encoded data removed]",
      "text/plain": [
       "<Figure size 432x288 with 1 Axes>"
      ]
     },
     "metadata": {},
     "output_type": "display_data"
    }
   ],
   "source": [
    "smk.band_high_sym(H, cp_strg , 20)"
   ]
  },
  {
   "cell_type": "code",
   "execution_count": null,
   "metadata": {},
   "outputs": [],
   "source": [
    "import numpy as np\n",
    "import sympy as sp\n",
    "import SpinModel_afm as smk\n",
    "from matplotlib.pyplot import subplots as spp\n",
    "from numpy import linalg as LA\n",
    "from sympy.physics.matrices import msigma"
   ]
  },
  {
   "cell_type": "code",
   "execution_count": null,
   "metadata": {},
   "outputs": [],
   "source": [
    "sigma_3 = np.diag([1, -1, 1, -1, 1, -1, 1, -1])"
   ]
  },
  {
   "cell_type": "code",
   "execution_count": null,
   "metadata": {},
   "outputs": [],
   "source": [
    "s0 = sp.Matrix([[1,0],[0,1]])\n",
    "s1 = msigma(1)\n",
    "s2 = msigma(2)\n",
    "s3 = msigma(3)"
   ]
  },
  {
   "cell_type": "code",
   "execution_count": null,
   "metadata": {},
   "outputs": [],
   "source": [
    "J1 = sp.Symbol(\"J1\", real=True)\n",
    "J2 = sp.Symbol(\"J2\", real=True)\n",
    "J3 = sp.Symbol(\"J3\", real=True)\n",
    "\n",
    "k1 = sp.Symbol(\"k1\", real=True)\n",
    "k2 = sp.Symbol(\"k2\", real=True)"
   ]
  },
  {
   "cell_type": "code",
   "execution_count": null,
   "metadata": {},
   "outputs": [],
   "source": [
    "k1=-0.5\n",
    "k2=-0.5\n",
    "q1 = -k1\n",
    "q2 = -k2"
   ]
  },
  {
   "cell_type": "code",
   "execution_count": null,
   "metadata": {
    "scrolled": true
   },
   "outputs": [],
   "source": [
    "A_k = -s0*(-2*J2*sp.cos(k1/2)+J1-2*J2-3*J3)+4*s1*(sp.cos(k2/2)*J2*sp.cos(k1/2))\n",
    "A_k"
   ]
  },
  {
   "cell_type": "code",
   "execution_count": null,
   "metadata": {},
   "outputs": [],
   "source": [
    "g_k = s0*(sp.exp(1j*k2/6)*2*J1*sp.cos(k1/2))+s1*(2*J3*sp.cos(k1)*sp.exp(-1j*k2/3)+J3*sp.exp(2*1j*k2/3)+J1)\n",
    "g_k"
   ]
  },
  {
   "cell_type": "code",
   "execution_count": null,
   "metadata": {},
   "outputs": [],
   "source": [
    "A_q = -s0*(-2*J2*sp.cos(-k1/2)+J1-2*J2-3*J3)+4*s1*(sp.cos(-k2/2)*J2*sp.cos(k1/2))\n",
    "A_q"
   ]
  },
  {
   "cell_type": "code",
   "execution_count": null,
   "metadata": {},
   "outputs": [],
   "source": [
    "g_q = sp.transpose(sp.conjugate(g_k))\n",
    "g_q"
   ]
  },
  {
   "cell_type": "code",
   "execution_count": null,
   "metadata": {
    "scrolled": true
   },
   "outputs": [],
   "source": [
    "H1 = sp.BlockMatrix([[A_k,g_k],[g_q,A_q]])\n",
    "H1"
   ]
  },
  {
   "cell_type": "code",
   "execution_count": null,
   "metadata": {
    "scrolled": true
   },
   "outputs": [],
   "source": [
    "sp.matrices.dense.matrix2numpy(H1.subs([(k1, 1), (k2, 2)])).astype(complex)"
   ]
  },
  {
   "cell_type": "code",
   "execution_count": null,
   "metadata": {},
   "outputs": [],
   "source": [
    "s0 = sp.Matrix([[1,0],[0,1]])\n",
    "s1 = sp.Matrix([[0,1],[1,0]])\n",
    "s2 = sp.Matrix([[0,-1j],[1j,0]])\n",
    "s3 = sp.Matrix([[1,0],[0,-1]])"
   ]
  },
  {
   "cell_type": "code",
   "execution_count": null,
   "metadata": {},
   "outputs": [],
   "source": [
    "J1=1\n",
    "J2=0.8\n",
    "J3=0.8\n",
    "\n",
    "k1=-0.5\n",
    "k2=-0.5\n",
    "q1 = -k1\n",
    "q2 = -k2"
   ]
  },
  {
   "cell_type": "code",
   "execution_count": null,
   "metadata": {},
   "outputs": [],
   "source": [
    "A_k = -s0*(-2*J2*np.cos(k1/2)+J1-2*J2-3*J3)+4*s1*(np.cos(k2/2)*J2*np.cos(k1/2))\n",
    "g_k = s0*(np.exp(1j*k2/6)*2*J1*np.cos(k1/2))+s1*(2*J3*np.cos(k1)*np.exp(-1j*k2/3)+J3*np.exp(2*1j*k2/3)+J1)\n",
    "A_q = -s0*(-2*J2*np.cos(k1/2)+J1-2*J2-3*J3)+4*s1*(np.cos(k2/2)*J2*np.cos(k1/2))\n",
    "g_q = np.transpose(np.conjugate(g_k))\n",
    "H1 = np.block([[A_k,g_k],[g_q,A_q]])\n",
    "H1"
   ]
  },
  {
   "cell_type": "code",
   "execution_count": null,
   "metadata": {},
   "outputs": [],
   "source": [
    "A_k = -s0*(-2*J2*np.cos(k1/2)+J1-2*J2-3*J3)+4*s1*(np.cos(k2/2)*J2*np.cos(k1/2))\n",
    "g_k = s0*(np.exp(1j*k2/6)*2*J1*np.cos(k1/2))+s1*(2*J3*np.cos(k1)*np.exp(-1j*k2/3)+J3*np.exp(2*1j*k2/3)+J1)\n",
    "A_q = -s0*(-2*J2*np.cos(k1/2)+J1-2*J2-3*J3)+4*s1*(np.cos(k2/2)*J2*np.cos(k1/2))\n",
    "g_q = np.transpose(np.conjugate(g_k))\n",
    "H2 = np.transpose(np.block([[A_k,g_k],[g_q,A_q]]))\n",
    "H2"
   ]
  },
  {
   "cell_type": "code",
   "execution_count": null,
   "metadata": {},
   "outputs": [],
   "source": [
    "H = np.block([[H1,np.zeros((4,4))],[np.zeros((4,4)),H2]])\n",
    "type(H)"
   ]
  },
  {
   "cell_type": "code",
   "execution_count": null,
   "metadata": {},
   "outputs": [],
   "source": [
    "H-np.transpose(np.conjugate(H))"
   ]
  },
  {
   "cell_type": "code",
   "execution_count": null,
   "metadata": {},
   "outputs": [],
   "source": [
    "sigma_3 = np.diag([1, -1, 1, -1, 1, -1, 1, -1])"
   ]
  },
  {
   "cell_type": "code",
   "execution_count": null,
   "metadata": {
    "scrolled": true
   },
   "outputs": [],
   "source": [
    "H_BdG = np.matmul(sigma_3, H)\n",
    "H_BdG"
   ]
  },
  {
   "cell_type": "code",
   "execution_count": null,
   "metadata": {},
   "outputs": [],
   "source": [
    "eigval_k,eigvec_k = LA.eig(H_BdG)\n",
    "eigval_k,eigvec_k"
   ]
  },
  {
   "cell_type": "markdown",
   "metadata": {},
   "source": [
    "# particel-hole symmetry"
   ]
  },
  {
   "cell_type": "code",
   "execution_count": null,
   "metadata": {},
   "outputs": [],
   "source": [
    "import numpy.linalg as LA"
   ]
  },
  {
   "cell_type": "code",
   "execution_count": null,
   "metadata": {},
   "outputs": [],
   "source": [
    "q = sp.Symbol(\"\", real=True)"
   ]
  },
  {
   "cell_type": "code",
   "execution_count": null,
   "metadata": {},
   "outputs": [],
   "source": [
    "C"
   ]
  },
  {
   "cell_type": "code",
   "execution_count": null,
   "metadata": {},
   "outputs": [],
   "source": []
  }
 ],
 "metadata": {
  "kernelspec": {
   "display_name": "Python 3",
   "language": "python",
   "name": "python3"
  },
  "language_info": {
   "codemirror_mode": {
    "name": "ipython",
    "version": 3
   },
   "file_extension": ".py",
   "mimetype": "text/x-python",
   "name": "python",
   "nbconvert_exporter": "python",
   "pygments_lexer": "ipython3",
   "version": "3.9.1"
  }
 },
 "nbformat": 4,
 "nbformat_minor": 5
}
