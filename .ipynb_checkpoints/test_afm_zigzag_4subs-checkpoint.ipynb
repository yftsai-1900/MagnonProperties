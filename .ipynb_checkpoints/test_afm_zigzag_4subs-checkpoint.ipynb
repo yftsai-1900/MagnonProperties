{
 "cells": [
  {
   "cell_type": "code",
   "execution_count": 1,
   "id": "ba44c981e6cd5faa",
   "metadata": {
    "ExecuteTime": {
     "end_time": "2024-06-06T03:54:34.883952Z",
     "start_time": "2024-06-06T03:54:31.947979Z"
    }
   },
   "outputs": [],
   "source": [
    "import sympy as sp\n",
    "import numpy as np\n",
    "from matplotlib.pyplot import subplots as spp\n",
    "from numpy import linalg as LA\n",
    "from sympy.physics.matrices import msigma"
   ]
  },
  {
   "cell_type": "code",
   "execution_count": 2,
   "id": "a5db653b10afe1a1",
   "metadata": {
    "ExecuteTime": {
     "end_time": "2024-06-06T03:54:37.151796Z",
     "start_time": "2024-06-06T03:54:37.136202Z"
    }
   },
   "outputs": [],
   "source": [
    "def distri224(H, Hsub, a, b):\n",
    "    lat = {'0': a, '1': b}\n",
    "    l=0\n",
    "    while l<2:\n",
    "        ll=0\n",
    "        while ll<2:\n",
    "            i=0\n",
    "            while i<2:\n",
    "                j=0\n",
    "                while j<2:\n",
    "                    H[lat[f'{l}']+i*4,lat[f'{ll}']+j*4] = H[lat[f'{l}']+i*4,lat[f'{ll}']+j*4] + Hsub[0+i*2+l,0+j*2+ll]\n",
    "                    j+=1\n",
    "                i+=1\n",
    "            ll+=1\n",
    "        l+=1\n"
   ]
  },
  {
   "cell_type": "code",
   "execution_count": 3,
   "metadata": {},
   "outputs": [
    {
     "data": {
      "text/latex": [
       "$\\displaystyle \\left[\\begin{matrix}22 & 21 & 0 & 0 & 24 & 23 & 0 & 0\\\\12 & 11 & 0 & 0 & 14 & 13 & 0 & 0\\\\0 & 0 & 0 & 0 & 0 & 0 & 0 & 0\\\\0 & 0 & 0 & 0 & 0 & 0 & 0 & 0\\\\42 & 41 & 0 & 0 & 44 & 43 & 0 & 0\\\\32 & 31 & 0 & 0 & 34 & 33 & 0 & 0\\\\0 & 0 & 0 & 0 & 0 & 0 & 0 & 0\\\\0 & 0 & 0 & 0 & 0 & 0 & 0 & 0\\end{matrix}\\right]$"
      ],
      "text/plain": [
       "Matrix([\n",
       "[22, 21, 0, 0, 24, 23, 0, 0],\n",
       "[12, 11, 0, 0, 14, 13, 0, 0],\n",
       "[ 0,  0, 0, 0,  0,  0, 0, 0],\n",
       "[ 0,  0, 0, 0,  0,  0, 0, 0],\n",
       "[42, 41, 0, 0, 44, 43, 0, 0],\n",
       "[32, 31, 0, 0, 34, 33, 0, 0],\n",
       "[ 0,  0, 0, 0,  0,  0, 0, 0],\n",
       "[ 0,  0, 0, 0,  0,  0, 0, 0]])"
      ]
     },
     "execution_count": 3,
     "metadata": {},
     "output_type": "execute_result"
    }
   ],
   "source": [
    "H = sp.zeros(8, 8)\n",
    "Hsub = sp.Matrix([[11,12,13,14],[21,22,23,24],[31,32,33,34],[41,42,43,44]])\n",
    "distri224(H, Hsub, 1,0)\n",
    "H"
   ]
  },
  {
   "cell_type": "code",
   "execution_count": 4,
   "metadata": {},
   "outputs": [
    {
     "data": {
      "text/latex": [
       "$\\displaystyle \\left[\\begin{matrix}0 & 0 & 0 & 0 & 0 & 0 & 0 & 0\\\\0 & 0 & 0 & 0 & 0 & 0 & 0 & 0\\\\0 & 0 & 22 & 21 & 0 & 0 & 24 & 23\\\\0 & 0 & 12 & 11 & 0 & 0 & 14 & 13\\\\0 & 0 & 0 & 0 & 0 & 0 & 0 & 0\\\\0 & 0 & 0 & 0 & 0 & 0 & 0 & 0\\\\0 & 0 & 42 & 41 & 0 & 0 & 44 & 43\\\\0 & 0 & 32 & 31 & 0 & 0 & 34 & 33\\end{matrix}\\right]$"
      ],
      "text/plain": [
       "Matrix([\n",
       "[0, 0,  0,  0, 0, 0,  0,  0],\n",
       "[0, 0,  0,  0, 0, 0,  0,  0],\n",
       "[0, 0, 22, 21, 0, 0, 24, 23],\n",
       "[0, 0, 12, 11, 0, 0, 14, 13],\n",
       "[0, 0,  0,  0, 0, 0,  0,  0],\n",
       "[0, 0,  0,  0, 0, 0,  0,  0],\n",
       "[0, 0, 42, 41, 0, 0, 44, 43],\n",
       "[0, 0, 32, 31, 0, 0, 34, 33]])"
      ]
     },
     "execution_count": 4,
     "metadata": {},
     "output_type": "execute_result"
    }
   ],
   "source": [
    "H = sp.zeros(8, 8)\n",
    "Hsub = sp.Matrix([[11,12,13,14],[21,22,23,24],[31,32,33,34],[41,42,43,44]])\n",
    "distri224(H, Hsub, 3,2)\n",
    "H"
   ]
  },
  {
   "cell_type": "code",
   "execution_count": 5,
   "metadata": {
    "scrolled": true
   },
   "outputs": [
    {
     "data": {
      "text/latex": [
       "$\\displaystyle \\left[\\begin{matrix}0 & 0 & 0 & 0 & 0 & 0 & 0 & 0\\\\0 & 11 & 12 & 0 & 0 & 13 & 14 & 0\\\\0 & 21 & 22 & 0 & 0 & 23 & 24 & 0\\\\0 & 0 & 0 & 0 & 0 & 0 & 0 & 0\\\\0 & 0 & 0 & 0 & 0 & 0 & 0 & 0\\\\0 & 31 & 32 & 0 & 0 & 33 & 34 & 0\\\\0 & 41 & 42 & 0 & 0 & 43 & 44 & 0\\\\0 & 0 & 0 & 0 & 0 & 0 & 0 & 0\\end{matrix}\\right]$"
      ],
      "text/plain": [
       "Matrix([\n",
       "[0,  0,  0, 0, 0,  0,  0, 0],\n",
       "[0, 11, 12, 0, 0, 13, 14, 0],\n",
       "[0, 21, 22, 0, 0, 23, 24, 0],\n",
       "[0,  0,  0, 0, 0,  0,  0, 0],\n",
       "[0,  0,  0, 0, 0,  0,  0, 0],\n",
       "[0, 31, 32, 0, 0, 33, 34, 0],\n",
       "[0, 41, 42, 0, 0, 43, 44, 0],\n",
       "[0,  0,  0, 0, 0,  0,  0, 0]])"
      ]
     },
     "execution_count": 5,
     "metadata": {},
     "output_type": "execute_result"
    }
   ],
   "source": [
    "H = sp.zeros(8, 8)\n",
    "Hsub = sp.Matrix([[11,12,13,14],[21,22,23,24],[31,32,33,34],[41,42,43,44]])\n",
    "distri224(H, Hsub, 1,2)\n",
    "H"
   ]
  },
  {
   "cell_type": "code",
   "execution_count": 6,
   "metadata": {},
   "outputs": [
    {
     "data": {
      "text/latex": [
       "$\\displaystyle \\left[\\begin{matrix}22 & 0 & 0 & 21 & 24 & 0 & 0 & 23\\\\0 & 0 & 0 & 0 & 0 & 0 & 0 & 0\\\\0 & 0 & 0 & 0 & 0 & 0 & 0 & 0\\\\12 & 0 & 0 & 11 & 14 & 0 & 0 & 13\\\\42 & 0 & 0 & 41 & 44 & 0 & 0 & 43\\\\0 & 0 & 0 & 0 & 0 & 0 & 0 & 0\\\\0 & 0 & 0 & 0 & 0 & 0 & 0 & 0\\\\32 & 0 & 0 & 31 & 34 & 0 & 0 & 33\\end{matrix}\\right]$"
      ],
      "text/plain": [
       "Matrix([\n",
       "[22, 0, 0, 21, 24, 0, 0, 23],\n",
       "[ 0, 0, 0,  0,  0, 0, 0,  0],\n",
       "[ 0, 0, 0,  0,  0, 0, 0,  0],\n",
       "[12, 0, 0, 11, 14, 0, 0, 13],\n",
       "[42, 0, 0, 41, 44, 0, 0, 43],\n",
       "[ 0, 0, 0,  0,  0, 0, 0,  0],\n",
       "[ 0, 0, 0,  0,  0, 0, 0,  0],\n",
       "[32, 0, 0, 31, 34, 0, 0, 33]])"
      ]
     },
     "execution_count": 6,
     "metadata": {},
     "output_type": "execute_result"
    }
   ],
   "source": [
    "H = sp.zeros(8, 8)\n",
    "Hsub = sp.Matrix([[11,12,13,14],[21,22,23,24],[31,32,33,34],[41,42,43,44]])\n",
    "distri224(H, Hsub, 3,0)\n",
    "H"
   ]
  },
  {
   "cell_type": "code",
   "execution_count": 7,
   "metadata": {},
   "outputs": [
    {
     "data": {
      "text/latex": [
       "$\\displaystyle \\left[\\begin{matrix}0 & 0 & 0 & 0 & 0 & 0 & 0 & 0\\\\0 & 11 & 0 & 12 & 0 & 13 & 0 & 14\\\\0 & 0 & 0 & 0 & 0 & 0 & 0 & 0\\\\0 & 21 & 0 & 22 & 0 & 23 & 0 & 24\\\\0 & 0 & 0 & 0 & 0 & 0 & 0 & 0\\\\0 & 31 & 0 & 32 & 0 & 33 & 0 & 34\\\\0 & 0 & 0 & 0 & 0 & 0 & 0 & 0\\\\0 & 41 & 0 & 42 & 0 & 43 & 0 & 44\\end{matrix}\\right]$"
      ],
      "text/plain": [
       "Matrix([\n",
       "[0,  0, 0,  0, 0,  0, 0,  0],\n",
       "[0, 11, 0, 12, 0, 13, 0, 14],\n",
       "[0,  0, 0,  0, 0,  0, 0,  0],\n",
       "[0, 21, 0, 22, 0, 23, 0, 24],\n",
       "[0,  0, 0,  0, 0,  0, 0,  0],\n",
       "[0, 31, 0, 32, 0, 33, 0, 34],\n",
       "[0,  0, 0,  0, 0,  0, 0,  0],\n",
       "[0, 41, 0, 42, 0, 43, 0, 44]])"
      ]
     },
     "execution_count": 7,
     "metadata": {},
     "output_type": "execute_result"
    }
   ],
   "source": [
    "H = sp.zeros(8, 8)\n",
    "Hsub = sp.Matrix([[11,12,13,14],[21,22,23,24],[31,32,33,34],[41,42,43,44]])\n",
    "distri224(H, Hsub, 1,3)\n",
    "H"
   ]
  },
  {
   "cell_type": "code",
   "execution_count": 8,
   "metadata": {
    "scrolled": true
   },
   "outputs": [
    {
     "data": {
      "text/latex": [
       "$\\displaystyle \\left[\\begin{matrix}0 & 0 & 0 & 0 & 0 & 0 & 0 & 0\\\\0 & 22 & 0 & 21 & 0 & 24 & 0 & 23\\\\0 & 0 & 0 & 0 & 0 & 0 & 0 & 0\\\\0 & 12 & 0 & 11 & 0 & 14 & 0 & 13\\\\0 & 0 & 0 & 0 & 0 & 0 & 0 & 0\\\\0 & 42 & 0 & 41 & 0 & 44 & 0 & 43\\\\0 & 0 & 0 & 0 & 0 & 0 & 0 & 0\\\\0 & 32 & 0 & 31 & 0 & 34 & 0 & 33\\end{matrix}\\right]$"
      ],
      "text/plain": [
       "Matrix([\n",
       "[0,  0, 0,  0, 0,  0, 0,  0],\n",
       "[0, 22, 0, 21, 0, 24, 0, 23],\n",
       "[0,  0, 0,  0, 0,  0, 0,  0],\n",
       "[0, 12, 0, 11, 0, 14, 0, 13],\n",
       "[0,  0, 0,  0, 0,  0, 0,  0],\n",
       "[0, 42, 0, 41, 0, 44, 0, 43],\n",
       "[0,  0, 0,  0, 0,  0, 0,  0],\n",
       "[0, 32, 0, 31, 0, 34, 0, 33]])"
      ]
     },
     "execution_count": 8,
     "metadata": {},
     "output_type": "execute_result"
    }
   ],
   "source": [
    "H = sp.zeros(8, 8)\n",
    "Hsub = sp.Matrix([[11,12,13,14],[21,22,23,24],[31,32,33,34],[41,42,43,44]])\n",
    "distri224(H, Hsub, 3,1)\n",
    "H"
   ]
  },
  {
   "cell_type": "code",
   "execution_count": 9,
   "id": "db7ab77057d9108d",
   "metadata": {
    "ExecuteTime": {
     "end_time": "2024-06-06T03:54:38.859820Z",
     "start_time": "2024-06-06T03:54:38.784423Z"
    }
   },
   "outputs": [],
   "source": [
    "a_i = sp.symbols(\"a1:3\")  # Bravais lattice vectors\n",
    "a = sp.Symbol(\"a\", real=True)\n",
    "I = sp.I\n",
    "pi = sp.pi\n",
    "hb = sp.Symbol(\"ℏ\", real=True)\n",
    "S = sp.Symbol(\"S\", real=True)\n",
    "\n",
    "J = sp.Symbol(\"J\", real=True)  # Heisenberg coupling\n",
    "K = sp.Symbol(\"K\", real=True)  # Kitaev coupling\n",
    "Gamma = sp.Symbol(\"Γ\", real=True)\n",
    "gamma = sp.Symbol(\"Γ'\", real=True)\n",
    "h = sp.Symbol(\"h\", real=True)\n",
    "# up-up couplings\n",
    "theta =0\n",
    "phi = 0"
   ]
  },
  {
   "cell_type": "code",
   "execution_count": null,
   "metadata": {},
   "outputs": [],
   "source": [
    "Theta = theta\n",
    "Phi = phi\n",
    "uni = sp.Matrix([[np.cos(Theta/2),np.sin(Theta / 2)],[np.sin(Theta/2)*np.exp(1j*Phi),-np.cos(Theta / 2) * np.exp(1j * Phi)]])\n",
    "uni_dag = sp.transpose(sp.conjugate(uni))\n",
    "\n",
    "\n",
    "pxd = sp.simplify(uni_dag*msigma(1)*uni)\n",
    "pyd = sp.simplify(uni_dag*msigma(2)*uni)\n",
    "pzd = sp.simplify(uni_dag * msigma(3) * uni)\n",
    "\n",
    "V1 = sp.simplify(sp.Matrix([(pxd[0, 1] + pxd[1, 0]) / 2, (pxd[1, 0] - pxd[0, 1]) / (2 * I), (pxd[0, 0] - pxd[1, 1]) / 2]))\n",
    "V2 = sp.simplify(sp.Matrix([(pyd[0, 1] + pyd[1, 0]) / 2, (pyd[1, 0] - pyd[0, 1]) / (2 * I), (pyd[0, 0] - pyd[1, 1]) / 2]))\n",
    "V3 = sp.simplify(sp.Matrix([(pzd[0, 1] + pzd[1, 0]) / 2, (pzd[1, 0] - pzd[0, 1]) / (2 * I), (pzd[0, 0] - pzd[1, 1]) / 2]))"
   ]
  },
  {
   "cell_type": "code",
   "execution_count": null,
   "metadata": {},
   "outputs": [],
   "source": [
    "Hberg_uu = V1 * sp.Transpose(V1) + V2 * sp.Transpose(V2) + V3 * sp.Transpose(V3)\n",
    "\n",
    "IsingXX_uu = V1 * sp.Transpose(V1)\n",
    "IsingZZ_uu = V3 * sp.Transpose(V3)\n",
    "\n",
    "XY_uu = V1 * sp.Transpose(V2)\n",
    "XZ_uu = V1 * sp.Transpose(V3)\n",
    "YX_uu = V2 * sp.Transpose(V1)\n",
    "YZ_uu = V2 * sp.Transpose(V3)\n",
    "ZX_uu = V3 * sp.Transpose(V1)\n",
    "ZY_uu = V3 * sp.Transpose(V2)\n",
    "\n",
    "Hx_uu = 2 * K * IsingXX_uu + J * Hberg_uu + Gamma * (YZ_uu + ZY_uu) + gamma * (YX_uu + ZX_uu + XY_uu + XZ_uu)\n",
    "Hz_uu = 2 * K * IsingZZ_uu + J * Hberg_uu + Gamma * (XY_uu + YX_uu) + gamma * (XZ_uu + YZ_uu + ZX_uu + ZY_uu)\n",
    "\n",
    "e = sp.Symbol(\"e\")\n",
    "f = sp.Symbol(\"f\")\n",
    "g = sp.Symbol(\"g\")\n",
    "h = sp.Symbol(\"h\")\n",
    "n_i = sp.Symbol(\"𝑛𝑖\")\n",
    "n_j = sp.Symbol(\"𝑛𝑗\")\n",
    "\n",
    "HPXX = 1 / sp.Integer(2) * (e + f + g + h)\n",
    "HPYY = -1 / sp.Integer(2) * (e - f - g + h)\n",
    "HPZZ = (S - n_i - n_j)\n",
    "HPXY = 1 / (2 * I) * (e - f + g - h)\n",
    "HPYX = 1 / (2 * I) * (e + f - g - h)\n",
    "\n",
    "    # for now we didn't how to calculate single a, a+...\n",
    "HPXZ = 0\n",
    "HPYZ = 0\n",
    "HPZX = 0\n",
    "HPZY = 0\n",
    "\n",
    "HPbosons = sp.Matrix([[HPXX, HPXY, HPXZ], [HPYX, HPYY, HPYZ], [HPZX, HPZY,\n",
    "                                                                   HPZZ]])\n",
    "o = sp.Integer(0)\n",
    "ii = sp.Integer(1)"
   ]
  },
  {
   "cell_type": "code",
   "execution_count": 10,
   "id": "3497a335aa1af04d",
   "metadata": {
    "ExecuteTime": {
     "end_time": "2024-06-06T03:54:40.001737Z",
     "start_time": "2024-06-06T03:54:39.920669Z"
    }
   },
   "outputs": [],
   "source": [
    "HPHx_uu = sp.Integer(0)\n",
    "\n",
    "i = 0\n",
    "while i < 3:\n",
    "    j = 0\n",
    "    while j < 3:\n",
    "        HPHx_uu = HPHx_uu + Hx_uu[i, j] * HPbosons[i, j]\n",
    "        j += 1\n",
    "    i += 1\n",
    "\n",
    "HPHx_uu = HPHx_uu.expand()\n",
    "\n",
    "Coef_HPHx_uu = sp.Matrix([o, o, o, o, o, o])\n",
    "Coef_HPHx_uu[0, 0] = HPHx_uu.coeff(e)\n",
    "Coef_HPHx_uu[1, 0] = HPHx_uu.coeff(f)\n",
    "Coef_HPHx_uu[2, 0] = HPHx_uu.coeff(g)\n",
    "Coef_HPHx_uu[3, 0] = HPHx_uu.coeff(h)\n",
    "Coef_HPHx_uu[4, 0] = HPHx_uu.coeff(n_i)\n",
    "Coef_HPHx_uu[5, 0] = HPHx_uu.coeff(n_j)\n",
    "\n",
    "Mat_Coef_HPHx_uu = sp.Matrix([\n",
    "    [Coef_HPHx_uu[4, 0], Coef_HPHx_uu[2, 0], o, Coef_HPHx_uu[3, 0]],\n",
    "    [Coef_HPHx_uu[1, 0], Coef_HPHx_uu[5, 0], Coef_HPHx_uu[3, 0], o],\n",
    "    [o, Coef_HPHx_uu[0, 0], Coef_HPHx_uu[5, 0], Coef_HPHx_uu[2, 0]],\n",
    "    [Coef_HPHx_uu[0, 0], o, Coef_HPHx_uu[1, 0], Coef_HPHx_uu[4, 0]]\n",
    "    ])\n",
    "\n",
    "HPHz_uu = sp.Integer(0)\n",
    "\n",
    "i = 0\n",
    "while i < 3:\n",
    "    j = 0\n",
    "    while j < 3:\n",
    "        HPHz_uu = HPHz_uu + Hz_uu[i, j] * HPbosons[i, j]\n",
    "        j += 1\n",
    "    i += 1\n",
    "\n",
    "HPHz_uu = HPHz_uu.expand()\n",
    "\n",
    "Coef_HPHz_uu = sp.Matrix([o, o, o, o, o, o])\n",
    "Coef_HPHz_uu[0, 0] = HPHz_uu.coeff(e)\n",
    "Coef_HPHz_uu[1, 0] = HPHz_uu.coeff(f)\n",
    "Coef_HPHz_uu[2, 0] = HPHz_uu.coeff(g)\n",
    "Coef_HPHz_uu[3, 0] = HPHz_uu.coeff(h)\n",
    "Coef_HPHz_uu[4, 0] = HPHz_uu.coeff(n_i)\n",
    "Coef_HPHz_uu[5, 0] = HPHz_uu.coeff(n_j)\n",
    "\n",
    "Mat_Coef_HPHz_uu = sp.Matrix([\n",
    "    [Coef_HPHz_uu[4, 0], Coef_HPHz_uu[2, 0], o, Coef_HPHz_uu[3, 0]],\n",
    "    [Coef_HPHz_uu[1, 0], Coef_HPHz_uu[5, 0], Coef_HPHz_uu[3, 0], o],\n",
    "    [o, Coef_HPHz_uu[0, 0], Coef_HPHz_uu[5, 0], Coef_HPHz_uu[2, 0]],\n",
    "    [Coef_HPHz_uu[0, 0], o, Coef_HPHz_uu[1, 0], Coef_HPHz_uu[4, 0]]\n",
    "    ])"
   ]
  },
  {
   "cell_type": "code",
   "execution_count": 11,
   "id": "b4b1a3b24d44f148",
   "metadata": {
    "ExecuteTime": {
     "end_time": "2024-06-06T04:12:22.709814Z",
     "start_time": "2024-06-06T04:12:22.277910Z"
    }
   },
   "outputs": [],
   "source": [
    "#############################################\n",
    "# down-down couplings\n",
    "Theta = np.pi-theta\n",
    "Phi = phi\n",
    "uni = sp.Matrix([[np.cos(Theta/2),np.sin(Theta / 2)],[np.sin(Theta/2)*np.exp(1j*Phi),-np.cos(Theta / 2) * np.exp(1j * Phi)]])\n",
    "uni_dag = sp.transpose(sp.conjugate(uni))\n",
    "\n",
    "\n",
    "pxd = sp.simplify(uni_dag*msigma(1)*uni)\n",
    "pyd = sp.simplify(uni_dag*msigma(2)*uni)\n",
    "pzd = sp.simplify(uni_dag * msigma(3) * uni)\n",
    "\n",
    "W1 = sp.simplify(sp.Matrix([(pxd[0, 1] + pxd[1, 0]) / 2, (pxd[1, 0] - pxd[0, 1]) / (2 * I), (pxd[0, 0] - pxd[1, 1]) / 2]))\n",
    "W2 = sp.simplify(sp.Matrix([(pyd[0, 1] + pyd[1, 0]) / 2, (pyd[1, 0] - pyd[0, 1]) / (2 * I), (pyd[0, 0] - pyd[1, 1]) / 2]))\n",
    "W3 = sp.simplify(sp.Matrix([(pzd[0, 1] + pzd[1, 0]) / 2, (pzd[1, 0] - pzd[0, 1]) / (2 * I), (pzd[0, 0] - pzd[1, 1]) / 2]))\n",
    "\n",
    "Hberg_dd = W1 * sp.Transpose(W1) + W2 * sp.Transpose(W2) + W3 * sp.Transpose(W3)\n",
    "\n",
    "IsingXX_dd = W1 * sp.Transpose(W1)\n",
    "IsingZZ_dd = W3 * sp.Transpose(W3)\n",
    "\n",
    "XY_dd = W1 * sp.Transpose(W2)\n",
    "XZ_dd = W1 * sp.Transpose(W3)\n",
    "YX_dd = W2 * sp.Transpose(W1)\n",
    "YZ_dd = W2 * sp.Transpose(W3)\n",
    "ZX_dd = W3 * sp.Transpose(W1)\n",
    "ZY_dd = W3 * sp.Transpose(W2)\n",
    "\n",
    "Hx_dd = 2 * K * IsingXX_dd + J * Hberg_dd + Gamma * (YZ_dd + ZY_dd) + gamma * (YX_dd + ZX_dd + XY_dd + XZ_dd)\n",
    "Hz_dd = 2 * K * IsingZZ_dd + J * Hberg_dd + Gamma * (XY_dd + YX_dd) + gamma * (XZ_dd + YZ_dd + ZX_dd + ZY_dd)\n",
    "\n",
    "HPHx_dd = sp.Integer(0)\n",
    "\n",
    "i = 0\n",
    "while i < 3:\n",
    "    j = 0\n",
    "    while j < 3:\n",
    "        HPHx_dd = HPHx_dd + Hx_dd[i, j] * HPbosons[i, j]\n",
    "        j += 1\n",
    "    i += 1\n",
    "\n",
    "HPHx_dd = HPHx_dd.expand()\n",
    "\n",
    "Coef_HPHx_dd = sp.Matrix([o, o, o, o, o, o])\n",
    "Coef_HPHx_dd[0, 0] = HPHx_dd.coeff(e)\n",
    "Coef_HPHx_dd[1, 0] = HPHx_dd.coeff(f)\n",
    "Coef_HPHx_dd[2, 0] = HPHx_dd.coeff(g)\n",
    "Coef_HPHx_dd[3, 0] = HPHx_dd.coeff(h)\n",
    "Coef_HPHx_dd[4, 0] = HPHx_dd.coeff(n_i)\n",
    "Coef_HPHx_dd[5, 0] = HPHx_dd.coeff(n_j)\n",
    "\n",
    "Mat_Coef_HPHx_dd = sp.Matrix([\n",
    "    [Coef_HPHx_dd[4, 0], Coef_HPHx_dd[2, 0], o, Coef_HPHx_dd[3, 0]],\n",
    "    [Coef_HPHx_dd[1, 0], Coef_HPHx_dd[5, 0], Coef_HPHx_dd[3, 0], o],\n",
    "    [o, Coef_HPHx_dd[0, 0], Coef_HPHx_dd[5, 0], Coef_HPHx_dd[2, 0]],\n",
    "    [Coef_HPHx_dd[0, 0], o, Coef_HPHx_dd[1, 0], Coef_HPHx_dd[4, 0]]\n",
    "    ])\n",
    "\n",
    "HPHz_dd = sp.Integer(0)\n",
    "\n",
    "i = 0\n",
    "while i < 3:\n",
    "    j = 0\n",
    "    while j < 3:\n",
    "        HPHz_dd = HPHz_dd + Hz_dd[i, j] * HPbosons[i, j]\n",
    "        j += 1\n",
    "    i += 1\n",
    "\n",
    "HPHz_dd = HPHz_dd.expand()\n",
    "\n",
    "Coef_HPHz_dd = sp.Matrix([o, o, o, o, o, o])\n",
    "Coef_HPHz_dd[0, 0] = HPHz_dd.coeff(e)\n",
    "Coef_HPHz_dd[1, 0] = HPHz_dd.coeff(f)\n",
    "Coef_HPHz_dd[2, 0] = HPHz_dd.coeff(g)\n",
    "Coef_HPHz_dd[3, 0] = HPHz_dd.coeff(h)\n",
    "Coef_HPHz_dd[4, 0] = HPHz_dd.coeff(n_i)\n",
    "Coef_HPHz_dd[5, 0] = HPHz_dd.coeff(n_j)\n",
    "\n",
    "Mat_Coef_HPHz_dd = sp.Matrix([\n",
    "    [Coef_HPHz_dd[4, 0], Coef_HPHz_dd[2, 0], o, Coef_HPHz_dd[3, 0]],\n",
    "    [Coef_HPHz_dd[1, 0], Coef_HPHz_dd[5, 0], Coef_HPHz_dd[3, 0], o],\n",
    "    [o, Coef_HPHz_dd[0, 0], Coef_HPHz_dd[5, 0], Coef_HPHz_dd[2, 0]],\n",
    "    [Coef_HPHz_dd[0, 0], o, Coef_HPHz_dd[1, 0], Coef_HPHz_dd[4, 0]]\n",
    "    ])\n"
   ]
  },
  {
   "cell_type": "code",
   "execution_count": 12,
   "metadata": {},
   "outputs": [
    {
     "data": {
      "text/latex": [
       "$\\displaystyle \\left[\\begin{matrix}0 & 0\\\\0 & 0\\end{matrix}\\right]$"
      ],
      "text/plain": [
       "Matrix([\n",
       "[0, 0],\n",
       "[0, 0]])"
      ]
     },
     "execution_count": 12,
     "metadata": {},
     "output_type": "execute_result"
    }
   ],
   "source": [
    "sp.simplify(pxd*pyd-pyd*pxd-2*sp.I*pzd)"
   ]
  },
  {
   "cell_type": "code",
   "execution_count": 13,
   "metadata": {},
   "outputs": [
    {
     "data": {
      "text/latex": [
       "$\\displaystyle \\left[\\begin{matrix}0 & 0\\\\0 & 0\\end{matrix}\\right]$"
      ],
      "text/plain": [
       "Matrix([\n",
       "[0, 0],\n",
       "[0, 0]])"
      ]
     },
     "execution_count": 13,
     "metadata": {},
     "output_type": "execute_result"
    }
   ],
   "source": [
    "sp.simplify(pyd*pzd-pzd*pyd-2*sp.I*pxd)"
   ]
  },
  {
   "cell_type": "code",
   "execution_count": 14,
   "metadata": {},
   "outputs": [
    {
     "data": {
      "text/latex": [
       "$\\displaystyle \\left[\\begin{matrix}0 & 0\\\\0 & 0\\end{matrix}\\right]$"
      ],
      "text/plain": [
       "Matrix([\n",
       "[0, 0],\n",
       "[0, 0]])"
      ]
     },
     "execution_count": 14,
     "metadata": {},
     "output_type": "execute_result"
    }
   ],
   "source": [
    "sp.simplify(pzd*pxd-pxd*pzd-2*sp.I*pyd)"
   ]
  },
  {
   "cell_type": "code",
   "execution_count": 15,
   "id": "8d85a2c2b347fa6d",
   "metadata": {
    "ExecuteTime": {
     "end_time": "2024-06-06T04:12:24.186958Z",
     "start_time": "2024-06-06T04:12:24.172915Z"
    }
   },
   "outputs": [
    {
     "data": {
      "text/latex": [
       "$\\displaystyle \\left[\\begin{matrix}1.0\\\\0\\\\1.22464679914735 \\cdot 10^{-16}\\end{matrix}\\right]$"
      ],
      "text/plain": [
       "Matrix([\n",
       "[                 1.0],\n",
       "[                   0],\n",
       "[1.22464679914735e-16]])"
      ]
     },
     "execution_count": 15,
     "metadata": {},
     "output_type": "execute_result"
    }
   ],
   "source": [
    "W1"
   ]
  },
  {
   "cell_type": "code",
   "execution_count": 16,
   "id": "68031cbd7f4a09f9",
   "metadata": {
    "ExecuteTime": {
     "end_time": "2024-06-06T04:12:40.626055Z",
     "start_time": "2024-06-06T04:12:40.612941Z"
    }
   },
   "outputs": [
    {
     "data": {
      "text/latex": [
       "$\\displaystyle \\left[\\begin{matrix}0\\\\-1.0\\\\0\\end{matrix}\\right]$"
      ],
      "text/plain": [
       "Matrix([\n",
       "[   0],\n",
       "[-1.0],\n",
       "[   0]])"
      ]
     },
     "execution_count": 16,
     "metadata": {},
     "output_type": "execute_result"
    }
   ],
   "source": [
    "W2"
   ]
  },
  {
   "cell_type": "code",
   "execution_count": 17,
   "id": "a00afe317ec87cb",
   "metadata": {
    "ExecuteTime": {
     "end_time": "2024-06-06T04:12:52.651725Z",
     "start_time": "2024-06-06T04:12:52.638553Z"
    }
   },
   "outputs": [
    {
     "data": {
      "text/latex": [
       "$\\displaystyle \\left[\\begin{matrix}1.22464679914735 \\cdot 10^{-16}\\\\0\\\\-1.0\\end{matrix}\\right]$"
      ],
      "text/plain": [
       "Matrix([\n",
       "[1.22464679914735e-16],\n",
       "[                   0],\n",
       "[                -1.0]])"
      ]
     },
     "execution_count": 17,
     "metadata": {},
     "output_type": "execute_result"
    }
   ],
   "source": [
    "W3"
   ]
  },
  {
   "cell_type": "code",
   "execution_count": 18,
   "id": "9b5d64a97706f4cf",
   "metadata": {
    "ExecuteTime": {
     "end_time": "2024-06-06T04:23:25.139563Z",
     "start_time": "2024-06-06T04:23:25.041938Z"
    }
   },
   "outputs": [],
   "source": [
    "#####################################################################\n",
    "# up-down couplings\n",
    "Hberg_ud = V1 * sp.Transpose(W1) + V2 * sp.Transpose(W2) + V3 * sp.Transpose(W3)\n",
    "\n",
    "IsingYY_ud = V2 * sp.Transpose(W2)\n",
    "\n",
    "XY_ud = V1 * sp.Transpose(W2)\n",
    "XZ_ud = V1 * sp.Transpose(W3)\n",
    "YX_ud = V2 * sp.Transpose(W1)\n",
    "YZ_ud = V2 * sp.Transpose(W3)\n",
    "ZX_ud = V3 * sp.Transpose(W1)\n",
    "ZY_ud = V3 * sp.Transpose(W2)\n",
    "\n",
    "Hy_ud = 2 * K * IsingYY_ud + J * Hberg_ud + Gamma * (XZ_ud + ZX_ud) + gamma * (YZ_ud + YX_ud + ZY_ud + XY_ud)\n",
    "HPHy_ud = sp.Integer(0)\n",
    "\n",
    "i = 0\n",
    "while i < 3:\n",
    "    j = 0\n",
    "    while j < 3:\n",
    "        HPHy_ud = HPHy_ud + Hy_ud[i, j] * HPbosons[i, j]\n",
    "        j += 1\n",
    "    i += 1\n",
    "\n",
    "HPHy_ud = HPHy_ud.expand()\n",
    "\n",
    "Coef_HPHy_ud = sp.Matrix([o, o, o, o, o, o])\n",
    "Coef_HPHy_ud[0, 0] = HPHy_ud.coeff(e)\n",
    "Coef_HPHy_ud[1, 0] = HPHy_ud.coeff(f)\n",
    "Coef_HPHy_ud[2, 0] = HPHy_ud.coeff(g)\n",
    "Coef_HPHy_ud[3, 0] = HPHy_ud.coeff(h)\n",
    "Coef_HPHy_ud[4, 0] = HPHy_ud.coeff(n_i)\n",
    "Coef_HPHy_ud[5, 0] = HPHy_ud.coeff(n_j)\n",
    "\n",
    "Mat_Coef_HPHy_ud = sp.Matrix([\n",
    "    [Coef_HPHy_ud[4, 0], Coef_HPHy_ud[2, 0], o, Coef_HPHy_ud[3, 0]],\n",
    "    [Coef_HPHy_ud[1, 0], Coef_HPHy_ud[5, 0], Coef_HPHy_ud[3, 0], o],\n",
    "    [o, Coef_HPHy_ud[0, 0], Coef_HPHy_ud[5, 0], Coef_HPHy_ud[2, 0]],\n",
    "    [Coef_HPHy_ud[0, 0], o, Coef_HPHy_ud[1, 0], Coef_HPHy_ud[4, 0]]\n",
    "    ])"
   ]
  },
  {
   "cell_type": "code",
   "execution_count": 19,
   "metadata": {
    "scrolled": false
   },
   "outputs": [
    {
     "data": {
      "text/latex": [
       "$\\displaystyle \\left[\\begin{matrix}0 & 0 & 0 & 0\\\\0 & 0 & 0 & 0\\\\0 & 0 & 0 & 0\\\\0 & 0 & 0 & 0\\end{matrix}\\right]$"
      ],
      "text/plain": [
       "Matrix([\n",
       "[0, 0, 0, 0],\n",
       "[0, 0, 0, 0],\n",
       "[0, 0, 0, 0],\n",
       "[0, 0, 0, 0]])"
      ]
     },
     "execution_count": 19,
     "metadata": {},
     "output_type": "execute_result"
    }
   ],
   "source": [
    "sp.transpose(sp.conjugate(Mat_Coef_HPHy_ud))-Mat_Coef_HPHy_ud"
   ]
  },
  {
   "cell_type": "code",
   "execution_count": 20,
   "metadata": {},
   "outputs": [
    {
     "data": {
      "text/latex": [
       "$\\displaystyle \\left[\\begin{matrix}1.0 & 0 & 1.22464679914735 \\cdot 10^{-16}\\\\0 & -1.0 & 0\\\\1.22464679914735 \\cdot 10^{-16} & 0 & -1.0\\end{matrix}\\right]$"
      ],
      "text/plain": [
       "Matrix([\n",
       "[                 1.0,    0, 1.22464679914735e-16],\n",
       "[                   0, -1.0,                    0],\n",
       "[1.22464679914735e-16,    0,                 -1.0]])"
      ]
     },
     "execution_count": 20,
     "metadata": {},
     "output_type": "execute_result"
    }
   ],
   "source": [
    "Hberg_ud"
   ]
  },
  {
   "cell_type": "code",
   "execution_count": 21,
   "id": "78726157ca972bf2",
   "metadata": {
    "ExecuteTime": {
     "end_time": "2024-06-06T04:23:26.235545Z",
     "start_time": "2024-06-06T04:23:26.161986Z"
    }
   },
   "outputs": [],
   "source": [
    "######################################################################\n",
    "# down-up couplings\n",
    "Hberg = W1 * sp.Transpose(V1) + W2 * sp.Transpose(V2) + W3 * sp.Transpose(V3)\n",
    "\n",
    "IsingXX = W1 * sp.Transpose(V1)\n",
    "IsingYY = W2 * sp.Transpose(V2)\n",
    "IsingZZ = W3 * sp.Transpose(V3)\n",
    "\n",
    "XY = W1 * sp.Transpose(V2)\n",
    "XZ = W1 * sp.Transpose(V3)\n",
    "YX = W2 * sp.Transpose(V1)\n",
    "YZ = W2 * sp.Transpose(V3)\n",
    "ZX = W3 * sp.Transpose(V1)\n",
    "ZY = W3 * sp.Transpose(V2)\n",
    "\n",
    "Hy = 2 * K * IsingYY + J * Hberg + Gamma * (XZ + ZX) + gamma * (YZ + YX + ZY + XY)\n",
    "HPHy = sp.Integer(0)\n",
    "\n",
    "i = 0\n",
    "while i < 3:\n",
    "    j = 0\n",
    "    while j < 3:\n",
    "        HPHy = HPHy + Hy[i, j] * HPbosons[i, j]\n",
    "        j += 1\n",
    "    i += 1\n",
    "\n",
    "HPHy = HPHy.expand()\n",
    "\n",
    "Coef_HPHy = sp.Matrix([o, o, o, o, o, o])\n",
    "Coef_HPHy[0, 0] = HPHy.coeff(e)\n",
    "Coef_HPHy[1, 0] = HPHy.coeff(f)\n",
    "Coef_HPHy[2, 0] = HPHy.coeff(g)\n",
    "Coef_HPHy[3, 0] = HPHy.coeff(h)\n",
    "Coef_HPHy[4, 0] = HPHy.coeff(n_i)\n",
    "Coef_HPHy[5, 0] = HPHy.coeff(n_j)\n",
    "\n",
    "Mat_Coef_HPHy_du = sp.Matrix([\n",
    "    [Coef_HPHy[4, 0], Coef_HPHy[2, 0], o, Coef_HPHy[3, 0]],\n",
    "    [Coef_HPHy[1, 0], Coef_HPHy[5, 0], Coef_HPHy[3, 0], o],\n",
    "    [o, Coef_HPHy[0, 0], Coef_HPHy[5, 0], Coef_HPHy[2, 0]],\n",
    "    [Coef_HPHy[0, 0], o, Coef_HPHy[1, 0], Coef_HPHy[4, 0]]\n",
    "    ])"
   ]
  },
  {
   "cell_type": "code",
   "execution_count": 22,
   "metadata": {},
   "outputs": [
    {
     "data": {
      "text/latex": [
       "$\\displaystyle \\left[\\begin{matrix}0 & 0 & 0 & 0\\\\0 & 0 & 0 & 0\\\\0 & 0 & 0 & 0\\\\0 & 0 & 0 & 0\\end{matrix}\\right]$"
      ],
      "text/plain": [
       "Matrix([\n",
       "[0, 0, 0, 0],\n",
       "[0, 0, 0, 0],\n",
       "[0, 0, 0, 0],\n",
       "[0, 0, 0, 0]])"
      ]
     },
     "execution_count": 22,
     "metadata": {},
     "output_type": "execute_result"
    }
   ],
   "source": [
    "sp.transpose(sp.conjugate(Mat_Coef_HPHy_du))-Mat_Coef_HPHy_du"
   ]
  },
  {
   "cell_type": "code",
   "execution_count": 23,
   "metadata": {},
   "outputs": [
    {
     "data": {
      "text/latex": [
       "$\\displaystyle \\left[\\begin{matrix}1.0 J + 1.22464679914735 \\cdot 10^{-16} Γ & 1.0 Γ' & 1.22464679914735 \\cdot 10^{-16} J + 1.0 Γ\\\\- 1.0 Γ' & - 1.0 J - 2.0 K & - 1.0 Γ'\\\\1.22464679914735 \\cdot 10^{-16} J - 1.0 Γ & - 1.0 Γ' & - 1.0 J + 1.22464679914735 \\cdot 10^{-16} Γ\\end{matrix}\\right]$"
      ],
      "text/plain": [
       "Matrix([\n",
       "[1.0*J + 1.22464679914735e-16*Γ,         1.0*Γ',  1.22464679914735e-16*J + 1.0*Γ],\n",
       "[                       -1.0*Γ', -1.0*J - 2.0*K,                         -1.0*Γ'],\n",
       "[1.22464679914735e-16*J - 1.0*Γ,        -1.0*Γ', -1.0*J + 1.22464679914735e-16*Γ]])"
      ]
     },
     "execution_count": 23,
     "metadata": {},
     "output_type": "execute_result"
    }
   ],
   "source": [
    "Hy"
   ]
  },
  {
   "cell_type": "code",
   "execution_count": 24,
   "metadata": {
    "scrolled": true
   },
   "outputs": [
    {
     "data": {
      "text/latex": [
       "$\\displaystyle \\left[\\begin{matrix}\\frac{e}{2} + \\frac{f}{2} + \\frac{g}{2} + \\frac{h}{2} & - \\frac{i \\left(e - f + g - h\\right)}{2} & 0\\\\- \\frac{i \\left(e + f - g - h\\right)}{2} & - \\frac{e}{2} + \\frac{f}{2} + \\frac{g}{2} - \\frac{h}{2} & 0\\\\0 & 0 & S - 𝑛𝑖 - 𝑛𝑗\\end{matrix}\\right]$"
      ],
      "text/plain": [
       "Matrix([\n",
       "[e/2 + f/2 + g/2 + h/2,   -I*(e - f + g - h)/2,           0],\n",
       "[ -I*(e + f - g - h)/2, -e/2 + f/2 + g/2 - h/2,           0],\n",
       "[                    0,                      0, S - 𝑛𝑖 - 𝑛𝑗]])"
      ]
     },
     "execution_count": 24,
     "metadata": {},
     "output_type": "execute_result"
    }
   ],
   "source": [
    "HPbosons"
   ]
  },
  {
   "cell_type": "code",
   "execution_count": 25,
   "metadata": {},
   "outputs": [
    {
     "data": {
      "text/latex": [
       "$\\displaystyle \\left[\\begin{matrix}1.0 J - 1.22464679914735 \\cdot 10^{-16} Γ & - 1.0 K + 6.12323399573677 \\cdot 10^{-17} Γ - 1.0 i Γ' & 0 & 1.0 J + 1.0 K + 6.12323399573677 \\cdot 10^{-17} Γ + 1.11022302462516 \\cdot 10^{-16} i Γ'\\\\- 1.0 K + 6.12323399573677 \\cdot 10^{-17} Γ + 1.0 i Γ' & 1.0 J - 1.22464679914735 \\cdot 10^{-16} Γ & 1.0 J + 1.0 K + 6.12323399573677 \\cdot 10^{-17} Γ + 1.11022302462516 \\cdot 10^{-16} i Γ' & 0\\\\0 & 1.0 J + 1.0 K + 6.12323399573677 \\cdot 10^{-17} Γ - 1.11022302462516 \\cdot 10^{-16} i Γ' & 1.0 J - 1.22464679914735 \\cdot 10^{-16} Γ & - 1.0 K + 6.12323399573677 \\cdot 10^{-17} Γ - 1.0 i Γ'\\\\1.0 J + 1.0 K + 6.12323399573677 \\cdot 10^{-17} Γ - 1.11022302462516 \\cdot 10^{-16} i Γ' & 0 & - 1.0 K + 6.12323399573677 \\cdot 10^{-17} Γ + 1.0 i Γ' & 1.0 J - 1.22464679914735 \\cdot 10^{-16} Γ\\end{matrix}\\right]$"
      ],
      "text/plain": [
       "Matrix([\n",
       "[                                    1.0*J - 1.22464679914735e-16*Γ,                         -1.0*K + 6.12323399573677e-17*Γ - 1.0*I*Γ',                                                                  0, 1.0*J + 1.0*K + 6.12323399573677e-17*Γ + 1.11022302462516e-16*I*Γ'],\n",
       "[                        -1.0*K + 6.12323399573677e-17*Γ + 1.0*I*Γ',                                     1.0*J - 1.22464679914735e-16*Γ, 1.0*J + 1.0*K + 6.12323399573677e-17*Γ + 1.11022302462516e-16*I*Γ',                                                                  0],\n",
       "[                                                                 0, 1.0*J + 1.0*K + 6.12323399573677e-17*Γ - 1.11022302462516e-16*I*Γ',                                     1.0*J - 1.22464679914735e-16*Γ,                         -1.0*K + 6.12323399573677e-17*Γ - 1.0*I*Γ'],\n",
       "[1.0*J + 1.0*K + 6.12323399573677e-17*Γ - 1.11022302462516e-16*I*Γ',                                                                  0,                         -1.0*K + 6.12323399573677e-17*Γ + 1.0*I*Γ',                                     1.0*J - 1.22464679914735e-16*Γ]])"
      ]
     },
     "execution_count": 25,
     "metadata": {},
     "output_type": "execute_result"
    }
   ],
   "source": [
    "Mat_Coef_HPHy_du"
   ]
  },
  {
   "cell_type": "code",
   "execution_count": 26,
   "metadata": {},
   "outputs": [
    {
     "data": {
      "text/latex": [
       "$\\displaystyle \\left[\\begin{matrix}1.0 & 0 & 1.22464679914735 \\cdot 10^{-16}\\\\0 & -1.0 & 0\\\\1.22464679914735 \\cdot 10^{-16} & 0 & -1.0\\end{matrix}\\right]$"
      ],
      "text/plain": [
       "Matrix([\n",
       "[                 1.0,    0, 1.22464679914735e-16],\n",
       "[                   0, -1.0,                    0],\n",
       "[1.22464679914735e-16,    0,                 -1.0]])"
      ]
     },
     "execution_count": 26,
     "metadata": {},
     "output_type": "execute_result"
    }
   ],
   "source": [
    "Hberg"
   ]
  },
  {
   "cell_type": "code",
   "execution_count": 27,
   "id": "a901ce87b99d2233",
   "metadata": {
    "ExecuteTime": {
     "end_time": "2024-06-06T04:23:27.671359Z",
     "start_time": "2024-06-06T04:23:27.636505Z"
    }
   },
   "outputs": [],
   "source": [
    "#####################################################################\n",
    "Hlsw = sp.zeros(8, 8)\n",
    "\n",
    "    # Fourier transform\n",
    "deltaX = a / sp.sqrt(3) * sp.Matrix([-sp.sqrt(3) / 2, 1 / sp.Integer(2)])\n",
    "deltaY = a / sp.sqrt(3) * sp.Matrix([sp.Integer(0), sp.Integer(-1)])\n",
    "deltaZ = a / sp.sqrt(3) * sp.Matrix([sp.sqrt(3) / 2, 1 / sp.Integer(2)])\n",
    "\n",
    "global k1\n",
    "global k2\n",
    "\n",
    "k1 = sp.Symbol(\"k1\", real=True)\n",
    "k2 = sp.Symbol(\"k2\", real=True)\n",
    "k = sp.Matrix([k1, k2])\n",
    "\n",
    "sx = sp.exp(I * k.dot(deltaX))\n",
    "sy = sp.exp(I * k.dot(deltaY))\n",
    "sz = sp.exp(I * k.dot(deltaZ))\n",
    "tx = sp.exp(-I * k.dot(deltaX))\n",
    "ty = sp.exp(-I * k.dot(deltaY))\n",
    "tz = sp.exp(-I * k.dot(deltaZ))\n",
    "\n",
    "FT_Coef_X = sp.Matrix([[ii, sx, o, sx], [tx, ii, tx, o], [o, sx, ii, sx], [tx, o,\n",
    "                                                                               tx, ii]])\n",
    "FT_Coef_Y = sp.Matrix([[ii, sy, o, sy], [ty, ii, ty, o], [o, sy, ii, sy], [ty, o,\n",
    "                                                                               ty, ii]])\n",
    "FT_Coef_Z = sp.Matrix([[ii, sz, o, sz], [tz, ii, tz, o], [o, sz, ii, sz], [tz, o,\n",
    "                                                                               tz, ii]])\n"
   ]
  },
  {
   "cell_type": "code",
   "execution_count": 28,
   "id": "baef4f3340901d28",
   "metadata": {
    "ExecuteTime": {
     "end_time": "2024-06-06T04:23:29.235709Z",
     "start_time": "2024-06-06T04:23:29.207288Z"
    }
   },
   "outputs": [
    {
     "data": {
      "text/latex": [
       "$\\displaystyle \\left[\\begin{matrix}- J & \\left(J + K\\right) e^{i \\left(- \\frac{a k_{1}}{2} + \\frac{\\sqrt{3} a k_{2}}{6}\\right)} & 0 & \\left(K + i Γ'\\right) e^{i \\left(- \\frac{a k_{1}}{2} + \\frac{\\sqrt{3} a k_{2}}{6}\\right)}\\\\\\left(J + K\\right) e^{- i \\left(- \\frac{a k_{1}}{2} + \\frac{\\sqrt{3} a k_{2}}{6}\\right)} & - J & \\left(K + i Γ'\\right) e^{- i \\left(- \\frac{a k_{1}}{2} + \\frac{\\sqrt{3} a k_{2}}{6}\\right)} & 0\\\\0 & \\left(K - i Γ'\\right) e^{i \\left(- \\frac{a k_{1}}{2} + \\frac{\\sqrt{3} a k_{2}}{6}\\right)} & - J & \\left(J + K\\right) e^{i \\left(- \\frac{a k_{1}}{2} + \\frac{\\sqrt{3} a k_{2}}{6}\\right)}\\\\\\left(K - i Γ'\\right) e^{- i \\left(- \\frac{a k_{1}}{2} + \\frac{\\sqrt{3} a k_{2}}{6}\\right)} & 0 & \\left(J + K\\right) e^{- i \\left(- \\frac{a k_{1}}{2} + \\frac{\\sqrt{3} a k_{2}}{6}\\right)} & - J\\end{matrix}\\right]$"
      ],
      "text/plain": [
       "Matrix([\n",
       "[                                           -J,    (J + K)*exp(I*(-a*k1/2 + sqrt(3)*a*k2/6)),                                             0, (K + I*Γ')*exp(I*(-a*k1/2 + sqrt(3)*a*k2/6))],\n",
       "[   (J + K)*exp(-I*(-a*k1/2 + sqrt(3)*a*k2/6)),                                           -J, (K + I*Γ')*exp(-I*(-a*k1/2 + sqrt(3)*a*k2/6)),                                            0],\n",
       "[                                            0, (K - I*Γ')*exp(I*(-a*k1/2 + sqrt(3)*a*k2/6)),                                            -J,    (J + K)*exp(I*(-a*k1/2 + sqrt(3)*a*k2/6))],\n",
       "[(K - I*Γ')*exp(-I*(-a*k1/2 + sqrt(3)*a*k2/6)),                                            0,    (J + K)*exp(-I*(-a*k1/2 + sqrt(3)*a*k2/6)),                                           -J]])"
      ]
     },
     "execution_count": 28,
     "metadata": {},
     "output_type": "execute_result"
    }
   ],
   "source": [
    "# x bonds:\n",
    "\n",
    "# up-up x bonds\n",
    "HlswTwoSub = sp.Matrix([[o, o, o, o], [o, o, o, o], [o, o, o, o], [o, o, o, o]])\n",
    "\n",
    "i = 0\n",
    "while i < 4:\n",
    "    j = 0\n",
    "    while j < 4:\n",
    "        HlswTwoSub[i, j] = Mat_Coef_HPHx_uu[i, j] * FT_Coef_X[i, j]\n",
    "        j += 1\n",
    "    i += 1\n",
    "\n",
    "distri224(Hlsw, HlswTwoSub, 1, 0)\n",
    "HlswTwoSub"
   ]
  },
  {
   "cell_type": "code",
   "execution_count": 29,
   "id": "8b6e36c001645562",
   "metadata": {
    "ExecuteTime": {
     "end_time": "2024-06-06T04:23:50.814001Z",
     "start_time": "2024-06-06T04:23:50.721974Z"
    }
   },
   "outputs": [
    {
     "data": {
      "text/latex": [
       "$\\displaystyle \\left[\\begin{matrix}- 1.0 J - 2.99951956532372 \\cdot 10^{-32} K + 2.44929359829471 \\cdot 10^{-16} Γ' & \\left(1.0 J + 1.0 K + 1.22464679914735 \\cdot 10^{-16} Γ'\\right) e^{i \\left(- \\frac{a k_{1}}{2} + \\frac{\\sqrt{3} a k_{2}}{6}\\right)} & 0 & \\left(1.0 K - 1.22464679914735 \\cdot 10^{-16} i Γ + 1.22464679914735 \\cdot 10^{-16} Γ' - 1.0 i Γ'\\right) e^{i \\left(- \\frac{a k_{1}}{2} + \\frac{\\sqrt{3} a k_{2}}{6}\\right)}\\\\\\left(1.0 J + 1.0 K + 1.22464679914735 \\cdot 10^{-16} Γ'\\right) e^{- i \\left(- \\frac{a k_{1}}{2} + \\frac{\\sqrt{3} a k_{2}}{6}\\right)} & - 1.0 J - 2.99951956532372 \\cdot 10^{-32} K + 2.44929359829471 \\cdot 10^{-16} Γ' & \\left(1.0 K - 1.22464679914735 \\cdot 10^{-16} i Γ + 1.22464679914735 \\cdot 10^{-16} Γ' - 1.0 i Γ'\\right) e^{- i \\left(- \\frac{a k_{1}}{2} + \\frac{\\sqrt{3} a k_{2}}{6}\\right)} & 0\\\\0 & \\left(1.0 K + 1.22464679914735 \\cdot 10^{-16} i Γ + 1.22464679914735 \\cdot 10^{-16} Γ' + 1.0 i Γ'\\right) e^{i \\left(- \\frac{a k_{1}}{2} + \\frac{\\sqrt{3} a k_{2}}{6}\\right)} & - 1.0 J - 2.99951956532372 \\cdot 10^{-32} K + 2.44929359829471 \\cdot 10^{-16} Γ' & \\left(1.0 J + 1.0 K + 1.22464679914735 \\cdot 10^{-16} Γ'\\right) e^{i \\left(- \\frac{a k_{1}}{2} + \\frac{\\sqrt{3} a k_{2}}{6}\\right)}\\\\\\left(1.0 K + 1.22464679914735 \\cdot 10^{-16} i Γ + 1.22464679914735 \\cdot 10^{-16} Γ' + 1.0 i Γ'\\right) e^{- i \\left(- \\frac{a k_{1}}{2} + \\frac{\\sqrt{3} a k_{2}}{6}\\right)} & 0 & \\left(1.0 J + 1.0 K + 1.22464679914735 \\cdot 10^{-16} Γ'\\right) e^{- i \\left(- \\frac{a k_{1}}{2} + \\frac{\\sqrt{3} a k_{2}}{6}\\right)} & - 1.0 J - 2.99951956532372 \\cdot 10^{-32} K + 2.44929359829471 \\cdot 10^{-16} Γ'\\end{matrix}\\right]$"
      ],
      "text/plain": [
       "Matrix([\n",
       "[                                                 -1.0*J - 2.99951956532372e-32*K + 2.44929359829471e-16*Γ',                               (1.0*J + 1.0*K + 1.22464679914735e-16*Γ')*exp(I*(-a*k1/2 + sqrt(3)*a*k2/6)),                                                                                                          0, (1.0*K - 1.22464679914735e-16*I*Γ + 1.22464679914735e-16*Γ' - 1.0*I*Γ')*exp(I*(-a*k1/2 + sqrt(3)*a*k2/6))],\n",
       "[                              (1.0*J + 1.0*K + 1.22464679914735e-16*Γ')*exp(-I*(-a*k1/2 + sqrt(3)*a*k2/6)),                                                 -1.0*J - 2.99951956532372e-32*K + 2.44929359829471e-16*Γ', (1.0*K - 1.22464679914735e-16*I*Γ + 1.22464679914735e-16*Γ' - 1.0*I*Γ')*exp(-I*(-a*k1/2 + sqrt(3)*a*k2/6)),                                                                                                         0],\n",
       "[                                                                                                         0, (1.0*K + 1.22464679914735e-16*I*Γ + 1.22464679914735e-16*Γ' + 1.0*I*Γ')*exp(I*(-a*k1/2 + sqrt(3)*a*k2/6)),                                                  -1.0*J - 2.99951956532372e-32*K + 2.44929359829471e-16*Γ',                               (1.0*J + 1.0*K + 1.22464679914735e-16*Γ')*exp(I*(-a*k1/2 + sqrt(3)*a*k2/6))],\n",
       "[(1.0*K + 1.22464679914735e-16*I*Γ + 1.22464679914735e-16*Γ' + 1.0*I*Γ')*exp(-I*(-a*k1/2 + sqrt(3)*a*k2/6)),                                                                                                         0,                               (1.0*J + 1.0*K + 1.22464679914735e-16*Γ')*exp(-I*(-a*k1/2 + sqrt(3)*a*k2/6)),                                                 -1.0*J - 2.99951956532372e-32*K + 2.44929359829471e-16*Γ']])"
      ]
     },
     "execution_count": 29,
     "metadata": {},
     "output_type": "execute_result"
    }
   ],
   "source": [
    "HlswTwoSub = sp.Matrix([[o, o, o, o], [o, o, o, o], [o, o, o, o], [o, o, o, o]])\n",
    "\n",
    "# down-down x bonds\n",
    "i = 0\n",
    "while i < 4:\n",
    "    j = 0\n",
    "    while j < 4:\n",
    "        HlswTwoSub[i, j] = Mat_Coef_HPHx_dd[i, j] * FT_Coef_X[i, j]\n",
    "        j += 1\n",
    "    i += 1\n",
    "\n",
    "distri224(Hlsw, HlswTwoSub, 3, 2)\n",
    "HlswTwoSub"
   ]
  },
  {
   "cell_type": "code",
   "execution_count": 30,
   "metadata": {
    "scrolled": false
   },
   "outputs": [],
   "source": [
    "# y bonds:\n",
    "\n",
    "# up-down y bonds\n",
    "HlswTwoSub = sp.Matrix([[o, o, o, o], [o, o, o, o], [o, o, o, o], [o, o, o, o]])\n",
    "\n",
    "i = 0\n",
    "while i < 4:\n",
    "    j = 0\n",
    "    while j < 4:\n",
    "        HlswTwoSub[i, j] = Mat_Coef_HPHy_ud[i, j] * FT_Coef_Y[i, j]\n",
    "        j += 1\n",
    "    i += 1\n",
    "\n",
    "distri224(Hlsw, HlswTwoSub, 1, 2)\n",
    "\n"
   ]
  },
  {
   "cell_type": "code",
   "execution_count": 31,
   "metadata": {},
   "outputs": [
    {
     "data": {
      "text/latex": [
       "$\\displaystyle \\left[\\begin{matrix}1.0 J - 1.22464679914735 \\cdot 10^{-16} Γ & \\left(- 1.0 K + 6.12323399573677 \\cdot 10^{-17} Γ - 1.0 i Γ'\\right) e^{- \\frac{\\sqrt{3} i a k_{2}}{3}} & 0 & \\left(1.0 J + 1.0 K + 6.12323399573677 \\cdot 10^{-17} Γ + 1.11022302462516 \\cdot 10^{-16} i Γ'\\right) e^{- \\frac{\\sqrt{3} i a k_{2}}{3}}\\\\\\left(- 1.0 K + 6.12323399573677 \\cdot 10^{-17} Γ + 1.0 i Γ'\\right) e^{\\frac{\\sqrt{3} i a k_{2}}{3}} & 1.0 J - 1.22464679914735 \\cdot 10^{-16} Γ & \\left(1.0 J + 1.0 K + 6.12323399573677 \\cdot 10^{-17} Γ + 1.11022302462516 \\cdot 10^{-16} i Γ'\\right) e^{\\frac{\\sqrt{3} i a k_{2}}{3}} & 0\\\\0 & \\left(1.0 J + 1.0 K + 6.12323399573677 \\cdot 10^{-17} Γ - 1.11022302462516 \\cdot 10^{-16} i Γ'\\right) e^{- \\frac{\\sqrt{3} i a k_{2}}{3}} & 1.0 J - 1.22464679914735 \\cdot 10^{-16} Γ & \\left(- 1.0 K + 6.12323399573677 \\cdot 10^{-17} Γ - 1.0 i Γ'\\right) e^{- \\frac{\\sqrt{3} i a k_{2}}{3}}\\\\\\left(1.0 J + 1.0 K + 6.12323399573677 \\cdot 10^{-17} Γ - 1.11022302462516 \\cdot 10^{-16} i Γ'\\right) e^{\\frac{\\sqrt{3} i a k_{2}}{3}} & 0 & \\left(- 1.0 K + 6.12323399573677 \\cdot 10^{-17} Γ + 1.0 i Γ'\\right) e^{\\frac{\\sqrt{3} i a k_{2}}{3}} & 1.0 J - 1.22464679914735 \\cdot 10^{-16} Γ\\end{matrix}\\right]$"
      ],
      "text/plain": [
       "Matrix([\n",
       "[                                                            1.0*J - 1.22464679914735e-16*Γ,                         (-1.0*K + 6.12323399573677e-17*Γ - 1.0*I*Γ')*exp(-sqrt(3)*I*a*k2/3),                                                                                          0, (1.0*J + 1.0*K + 6.12323399573677e-17*Γ + 1.11022302462516e-16*I*Γ')*exp(-sqrt(3)*I*a*k2/3)],\n",
       "[                        (-1.0*K + 6.12323399573677e-17*Γ + 1.0*I*Γ')*exp(sqrt(3)*I*a*k2/3),                                                              1.0*J - 1.22464679914735e-16*Γ, (1.0*J + 1.0*K + 6.12323399573677e-17*Γ + 1.11022302462516e-16*I*Γ')*exp(sqrt(3)*I*a*k2/3),                                                                                           0],\n",
       "[                                                                                         0, (1.0*J + 1.0*K + 6.12323399573677e-17*Γ - 1.11022302462516e-16*I*Γ')*exp(-sqrt(3)*I*a*k2/3),                                                             1.0*J - 1.22464679914735e-16*Γ,                         (-1.0*K + 6.12323399573677e-17*Γ - 1.0*I*Γ')*exp(-sqrt(3)*I*a*k2/3)],\n",
       "[(1.0*J + 1.0*K + 6.12323399573677e-17*Γ - 1.11022302462516e-16*I*Γ')*exp(sqrt(3)*I*a*k2/3),                                                                                           0,                         (-1.0*K + 6.12323399573677e-17*Γ + 1.0*I*Γ')*exp(sqrt(3)*I*a*k2/3),                                                              1.0*J - 1.22464679914735e-16*Γ]])"
      ]
     },
     "execution_count": 31,
     "metadata": {},
     "output_type": "execute_result"
    }
   ],
   "source": [
    "# down-up y bonds\n",
    "HlswTwoSub = sp.Matrix([[o, o, o, o], [o, o, o, o], [o, o, o, o], [o, o, o, o]])\n",
    "\n",
    "i = 0\n",
    "while i < 4:\n",
    "    j = 0\n",
    "    while j < 4:\n",
    "        HlswTwoSub[i, j] = Mat_Coef_HPHy_du[i, j] * FT_Coef_Y[i, j]\n",
    "        j += 1\n",
    "    i += 1\n",
    "\n",
    "distri224(Hlsw, HlswTwoSub, 3, 0)\n",
    "HlswTwoSub"
   ]
  },
  {
   "cell_type": "code",
   "execution_count": 32,
   "metadata": {},
   "outputs": [
    {
     "data": {
      "text/latex": [
       "$\\displaystyle \\left[\\begin{matrix}- J - 2 K & J e^{i \\left(\\frac{a k_{1}}{2} + \\frac{\\sqrt{3} a k_{2}}{6}\\right)} & 0 & i Γ e^{i \\left(\\frac{a k_{1}}{2} + \\frac{\\sqrt{3} a k_{2}}{6}\\right)}\\\\J e^{- i \\left(\\frac{a k_{1}}{2} + \\frac{\\sqrt{3} a k_{2}}{6}\\right)} & - J - 2 K & i Γ e^{- i \\left(\\frac{a k_{1}}{2} + \\frac{\\sqrt{3} a k_{2}}{6}\\right)} & 0\\\\0 & - i Γ e^{i \\left(\\frac{a k_{1}}{2} + \\frac{\\sqrt{3} a k_{2}}{6}\\right)} & - J - 2 K & J e^{i \\left(\\frac{a k_{1}}{2} + \\frac{\\sqrt{3} a k_{2}}{6}\\right)}\\\\- i Γ e^{- i \\left(\\frac{a k_{1}}{2} + \\frac{\\sqrt{3} a k_{2}}{6}\\right)} & 0 & J e^{- i \\left(\\frac{a k_{1}}{2} + \\frac{\\sqrt{3} a k_{2}}{6}\\right)} & - J - 2 K\\end{matrix}\\right]$"
      ],
      "text/plain": [
       "Matrix([\n",
       "[                              -J - 2*K,    J*exp(I*(a*k1/2 + sqrt(3)*a*k2/6)),                                     0, I*Γ*exp(I*(a*k1/2 + sqrt(3)*a*k2/6))],\n",
       "[   J*exp(-I*(a*k1/2 + sqrt(3)*a*k2/6)),                              -J - 2*K, I*Γ*exp(-I*(a*k1/2 + sqrt(3)*a*k2/6)),                                    0],\n",
       "[                                     0, -I*Γ*exp(I*(a*k1/2 + sqrt(3)*a*k2/6)),                              -J - 2*K,   J*exp(I*(a*k1/2 + sqrt(3)*a*k2/6))],\n",
       "[-I*Γ*exp(-I*(a*k1/2 + sqrt(3)*a*k2/6)),                                     0,   J*exp(-I*(a*k1/2 + sqrt(3)*a*k2/6)),                             -J - 2*K]])"
      ]
     },
     "execution_count": 32,
     "metadata": {},
     "output_type": "execute_result"
    }
   ],
   "source": [
    "# z bonds:\n",
    "\n",
    "# up-up z bonds\n",
    "HlswTwoSub = sp.Matrix([[o, o, o, o], [o, o, o, o], [o, o, o, o], [o, o, o, o]])\n",
    "\n",
    "i = 0\n",
    "while i < 4:\n",
    "    j = 0\n",
    "    while j < 4:\n",
    "        HlswTwoSub[i, j] = Mat_Coef_HPHz_uu[i, j] * FT_Coef_Z[i, j]\n",
    "        j += 1\n",
    "    i += 1\n",
    "\n",
    "distri224(Hlsw, HlswTwoSub, 1, 0)\n",
    "HlswTwoSub\n"
   ]
  },
  {
   "cell_type": "code",
   "execution_count": 33,
   "metadata": {},
   "outputs": [],
   "source": [
    "# down-down z bonds\n",
    "HlswTwoSub = sp.Matrix([[o, o, o, o], [o, o, o, o], [o, o, o, o], [o, o, o, o]])\n",
    "\n",
    "i = 0\n",
    "while i < 4:\n",
    "    j = 0\n",
    "    while j < 4:\n",
    "        HlswTwoSub[i, j] = Mat_Coef_HPHz_dd[i, j] * FT_Coef_Z[i, j]\n",
    "        j += 1\n",
    "    i += 1\n",
    "\n",
    "distri224(Hlsw, HlswTwoSub, 3, 2)"
   ]
  },
  {
   "cell_type": "code",
   "execution_count": 34,
   "metadata": {},
   "outputs": [
    {
     "data": {
      "text/latex": [
       "$\\displaystyle \\left[\\begin{matrix}- 1.0 J - 2.0 K + 2.44929359829471 \\cdot 10^{-16} Γ' & \\left(1.0 J + 1.49975978266186 \\cdot 10^{-32} K + 1.22464679914735 \\cdot 10^{-16} Γ'\\right) e^{i \\left(\\frac{a k_{1}}{2} + \\frac{\\sqrt{3} a k_{2}}{6}\\right)} & 0 & \\left(1.49975978266186 \\cdot 10^{-32} K - 1.0 i Γ + 1.22464679914735 \\cdot 10^{-16} Γ' - 1.22464679914735 \\cdot 10^{-16} i Γ'\\right) e^{i \\left(\\frac{a k_{1}}{2} + \\frac{\\sqrt{3} a k_{2}}{6}\\right)}\\\\\\left(1.0 J + 1.49975978266186 \\cdot 10^{-32} K + 1.22464679914735 \\cdot 10^{-16} Γ'\\right) e^{- i \\left(\\frac{a k_{1}}{2} + \\frac{\\sqrt{3} a k_{2}}{6}\\right)} & - 1.0 J - 2.0 K + 2.44929359829471 \\cdot 10^{-16} Γ' & \\left(1.49975978266186 \\cdot 10^{-32} K - 1.0 i Γ + 1.22464679914735 \\cdot 10^{-16} Γ' - 1.22464679914735 \\cdot 10^{-16} i Γ'\\right) e^{- i \\left(\\frac{a k_{1}}{2} + \\frac{\\sqrt{3} a k_{2}}{6}\\right)} & 0\\\\0 & \\left(1.49975978266186 \\cdot 10^{-32} K + 1.0 i Γ + 1.22464679914735 \\cdot 10^{-16} Γ' + 1.22464679914735 \\cdot 10^{-16} i Γ'\\right) e^{i \\left(\\frac{a k_{1}}{2} + \\frac{\\sqrt{3} a k_{2}}{6}\\right)} & - 1.0 J - 2.0 K + 2.44929359829471 \\cdot 10^{-16} Γ' & \\left(1.0 J + 1.49975978266186 \\cdot 10^{-32} K + 1.22464679914735 \\cdot 10^{-16} Γ'\\right) e^{i \\left(\\frac{a k_{1}}{2} + \\frac{\\sqrt{3} a k_{2}}{6}\\right)}\\\\\\left(1.49975978266186 \\cdot 10^{-32} K + 1.0 i Γ + 1.22464679914735 \\cdot 10^{-16} Γ' + 1.22464679914735 \\cdot 10^{-16} i Γ'\\right) e^{- i \\left(\\frac{a k_{1}}{2} + \\frac{\\sqrt{3} a k_{2}}{6}\\right)} & 0 & \\left(1.0 J + 1.49975978266186 \\cdot 10^{-32} K + 1.22464679914735 \\cdot 10^{-16} Γ'\\right) e^{- i \\left(\\frac{a k_{1}}{2} + \\frac{\\sqrt{3} a k_{2}}{6}\\right)} & - 1.0 J - 2.0 K + 2.44929359829471 \\cdot 10^{-16} Γ'\\end{matrix}\\right]$"
      ],
      "text/plain": [
       "Matrix([\n",
       "[                                                                                  -1.0*J - 2.0*K + 2.44929359829471e-16*Γ',                               (1.0*J + 1.49975978266186e-32*K + 1.22464679914735e-16*Γ')*exp(I*(a*k1/2 + sqrt(3)*a*k2/6)),                                                                                                                          0, (1.49975978266186e-32*K - 1.0*I*Γ + 1.22464679914735e-16*Γ' - 1.22464679914735e-16*I*Γ')*exp(I*(a*k1/2 + sqrt(3)*a*k2/6))],\n",
       "[                              (1.0*J + 1.49975978266186e-32*K + 1.22464679914735e-16*Γ')*exp(-I*(a*k1/2 + sqrt(3)*a*k2/6)),                                                                                  -1.0*J - 2.0*K + 2.44929359829471e-16*Γ', (1.49975978266186e-32*K - 1.0*I*Γ + 1.22464679914735e-16*Γ' - 1.22464679914735e-16*I*Γ')*exp(-I*(a*k1/2 + sqrt(3)*a*k2/6)),                                                                                                                         0],\n",
       "[                                                                                                                         0, (1.49975978266186e-32*K + 1.0*I*Γ + 1.22464679914735e-16*Γ' + 1.22464679914735e-16*I*Γ')*exp(I*(a*k1/2 + sqrt(3)*a*k2/6)),                                                                                   -1.0*J - 2.0*K + 2.44929359829471e-16*Γ',                               (1.0*J + 1.49975978266186e-32*K + 1.22464679914735e-16*Γ')*exp(I*(a*k1/2 + sqrt(3)*a*k2/6))],\n",
       "[(1.49975978266186e-32*K + 1.0*I*Γ + 1.22464679914735e-16*Γ' + 1.22464679914735e-16*I*Γ')*exp(-I*(a*k1/2 + sqrt(3)*a*k2/6)),                                                                                                                         0,                               (1.0*J + 1.49975978266186e-32*K + 1.22464679914735e-16*Γ')*exp(-I*(a*k1/2 + sqrt(3)*a*k2/6)),                                                                                  -1.0*J - 2.0*K + 2.44929359829471e-16*Γ']])"
      ]
     },
     "execution_count": 34,
     "metadata": {},
     "output_type": "execute_result"
    }
   ],
   "source": [
    "HlswTwoSub"
   ]
  },
  {
   "cell_type": "code",
   "execution_count": 35,
   "metadata": {},
   "outputs": [],
   "source": [
    "##########################################################\n",
    "# After using magnon transformation\n",
    "magfield = 1/2 * h * sp.diag(1, 1, -1, -1, 1, 1, -1, -1)\n",
    "    # Assemble\n",
    "Hlsw = 1 / 2 * Hlsw + magfield"
   ]
  },
  {
   "cell_type": "code",
   "execution_count": 36,
   "metadata": {},
   "outputs": [
    {
     "data": {
      "text/latex": [
       "$\\displaystyle \\left[\\begin{matrix}- 0.5 J - 1.0 K + 0.5 h - 6.12323399573677 \\cdot 10^{-17} Γ & 0.5 J e^{- i \\left(\\frac{a k_{1}}{2} + \\frac{\\sqrt{3} a k_{2}}{6}\\right)} + 0.5 \\left(J + K\\right) e^{- i \\left(- \\frac{a k_{1}}{2} + \\frac{\\sqrt{3} a k_{2}}{6}\\right)} & 0 & 0.5 \\left(- 1.0 K + 6.12323399573677 \\cdot 10^{-17} Γ + 1.0 i Γ'\\right) e^{\\frac{\\sqrt{3} i a k_{2}}{3}} & 0 & 0.5 i Γ e^{- i \\left(\\frac{a k_{1}}{2} + \\frac{\\sqrt{3} a k_{2}}{6}\\right)} + 0.5 \\left(K + i Γ'\\right) e^{- i \\left(- \\frac{a k_{1}}{2} + \\frac{\\sqrt{3} a k_{2}}{6}\\right)} & 0 & 0.5 \\cdot \\left(1.0 J + 1.0 K + 6.12323399573677 \\cdot 10^{-17} Γ + 1.11022302462516 \\cdot 10^{-16} i Γ'\\right) e^{\\frac{\\sqrt{3} i a k_{2}}{3}}\\\\0.5 J e^{i \\left(\\frac{a k_{1}}{2} + \\frac{\\sqrt{3} a k_{2}}{6}\\right)} + 0.5 \\left(J + K\\right) e^{i \\left(- \\frac{a k_{1}}{2} + \\frac{\\sqrt{3} a k_{2}}{6}\\right)} & - 0.5 J - 1.0 K + 0.5 h - 6.12323399573677 \\cdot 10^{-17} Γ & 0.5 \\left(- 1.0 K + 6.12323399573677 \\cdot 10^{-17} Γ + 1.0 i Γ'\\right) e^{- \\frac{\\sqrt{3} i a k_{2}}{3}} & 0 & 0.5 i Γ e^{i \\left(\\frac{a k_{1}}{2} + \\frac{\\sqrt{3} a k_{2}}{6}\\right)} + 0.5 \\left(K + i Γ'\\right) e^{i \\left(- \\frac{a k_{1}}{2} + \\frac{\\sqrt{3} a k_{2}}{6}\\right)} & 0 & 0.5 \\cdot \\left(1.0 J + 1.0 K + 6.12323399573677 \\cdot 10^{-17} Γ + 1.11022302462516 \\cdot 10^{-16} i Γ'\\right) e^{- \\frac{\\sqrt{3} i a k_{2}}{3}} & 0\\\\0 & 0.5 \\left(- 1.0 K + 6.12323399573677 \\cdot 10^{-17} Γ - 1.0 i Γ'\\right) e^{\\frac{\\sqrt{3} i a k_{2}}{3}} & - 0.5 J - 1.0 K - 0.5 h - 6.12323399573677 \\cdot 10^{-17} Γ + 2.44929359829471 \\cdot 10^{-16} Γ' & 0.5 \\cdot \\left(1.0 J + 1.49975978266186 \\cdot 10^{-32} K + 1.22464679914735 \\cdot 10^{-16} Γ'\\right) e^{- i \\left(\\frac{a k_{1}}{2} + \\frac{\\sqrt{3} a k_{2}}{6}\\right)} + 0.5 \\cdot \\left(1.0 J + 1.0 K + 1.22464679914735 \\cdot 10^{-16} Γ'\\right) e^{- i \\left(- \\frac{a k_{1}}{2} + \\frac{\\sqrt{3} a k_{2}}{6}\\right)} & 0 & 0.5 \\cdot \\left(1.0 J + 1.0 K + 6.12323399573677 \\cdot 10^{-17} Γ + 1.11022302462516 \\cdot 10^{-16} i Γ'\\right) e^{\\frac{\\sqrt{3} i a k_{2}}{3}} & 0 & 0.5 \\cdot \\left(1.49975978266186 \\cdot 10^{-32} K - 1.0 i Γ + 1.22464679914735 \\cdot 10^{-16} Γ' - 1.22464679914735 \\cdot 10^{-16} i Γ'\\right) e^{- i \\left(\\frac{a k_{1}}{2} + \\frac{\\sqrt{3} a k_{2}}{6}\\right)} + 0.5 \\cdot \\left(1.0 K - 1.22464679914735 \\cdot 10^{-16} i Γ + 1.22464679914735 \\cdot 10^{-16} Γ' - 1.0 i Γ'\\right) e^{- i \\left(- \\frac{a k_{1}}{2} + \\frac{\\sqrt{3} a k_{2}}{6}\\right)}\\\\0.5 \\left(- 1.0 K + 6.12323399573677 \\cdot 10^{-17} Γ - 1.0 i Γ'\\right) e^{- \\frac{\\sqrt{3} i a k_{2}}{3}} & 0 & 0.5 \\cdot \\left(1.0 J + 1.49975978266186 \\cdot 10^{-32} K + 1.22464679914735 \\cdot 10^{-16} Γ'\\right) e^{i \\left(\\frac{a k_{1}}{2} + \\frac{\\sqrt{3} a k_{2}}{6}\\right)} + 0.5 \\cdot \\left(1.0 J + 1.0 K + 1.22464679914735 \\cdot 10^{-16} Γ'\\right) e^{i \\left(- \\frac{a k_{1}}{2} + \\frac{\\sqrt{3} a k_{2}}{6}\\right)} & - 0.5 J - 1.0 K - 0.5 h - 6.12323399573677 \\cdot 10^{-17} Γ + 2.44929359829471 \\cdot 10^{-16} Γ' & 0.5 \\cdot \\left(1.0 J + 1.0 K + 6.12323399573677 \\cdot 10^{-17} Γ + 1.11022302462516 \\cdot 10^{-16} i Γ'\\right) e^{- \\frac{\\sqrt{3} i a k_{2}}{3}} & 0 & 0.5 \\cdot \\left(1.49975978266186 \\cdot 10^{-32} K - 1.0 i Γ + 1.22464679914735 \\cdot 10^{-16} Γ' - 1.22464679914735 \\cdot 10^{-16} i Γ'\\right) e^{i \\left(\\frac{a k_{1}}{2} + \\frac{\\sqrt{3} a k_{2}}{6}\\right)} + 0.5 \\cdot \\left(1.0 K - 1.22464679914735 \\cdot 10^{-16} i Γ + 1.22464679914735 \\cdot 10^{-16} Γ' - 1.0 i Γ'\\right) e^{i \\left(- \\frac{a k_{1}}{2} + \\frac{\\sqrt{3} a k_{2}}{6}\\right)} & 0\\\\0 & - 0.5 i Γ e^{- i \\left(\\frac{a k_{1}}{2} + \\frac{\\sqrt{3} a k_{2}}{6}\\right)} + 0.5 \\left(K - i Γ'\\right) e^{- i \\left(- \\frac{a k_{1}}{2} + \\frac{\\sqrt{3} a k_{2}}{6}\\right)} & 0 & 0.5 \\cdot \\left(1.0 J + 1.0 K + 6.12323399573677 \\cdot 10^{-17} Γ - 1.11022302462516 \\cdot 10^{-16} i Γ'\\right) e^{\\frac{\\sqrt{3} i a k_{2}}{3}} & - 0.5 J - 1.0 K + 0.5 h - 6.12323399573677 \\cdot 10^{-17} Γ & 0.5 J e^{- i \\left(\\frac{a k_{1}}{2} + \\frac{\\sqrt{3} a k_{2}}{6}\\right)} + 0.5 \\left(J + K\\right) e^{- i \\left(- \\frac{a k_{1}}{2} + \\frac{\\sqrt{3} a k_{2}}{6}\\right)} & 0 & 0.5 \\left(- 1.0 K + 6.12323399573677 \\cdot 10^{-17} Γ + 1.0 i Γ'\\right) e^{\\frac{\\sqrt{3} i a k_{2}}{3}}\\\\- 0.5 i Γ e^{i \\left(\\frac{a k_{1}}{2} + \\frac{\\sqrt{3} a k_{2}}{6}\\right)} + 0.5 \\left(K - i Γ'\\right) e^{i \\left(- \\frac{a k_{1}}{2} + \\frac{\\sqrt{3} a k_{2}}{6}\\right)} & 0 & 0.5 \\cdot \\left(1.0 J + 1.0 K + 6.12323399573677 \\cdot 10^{-17} Γ - 1.11022302462516 \\cdot 10^{-16} i Γ'\\right) e^{- \\frac{\\sqrt{3} i a k_{2}}{3}} & 0 & 0.5 J e^{i \\left(\\frac{a k_{1}}{2} + \\frac{\\sqrt{3} a k_{2}}{6}\\right)} + 0.5 \\left(J + K\\right) e^{i \\left(- \\frac{a k_{1}}{2} + \\frac{\\sqrt{3} a k_{2}}{6}\\right)} & - 0.5 J - 1.0 K + 0.5 h - 6.12323399573677 \\cdot 10^{-17} Γ & 0.5 \\left(- 1.0 K + 6.12323399573677 \\cdot 10^{-17} Γ + 1.0 i Γ'\\right) e^{- \\frac{\\sqrt{3} i a k_{2}}{3}} & 0\\\\0 & 0.5 \\cdot \\left(1.0 J + 1.0 K + 6.12323399573677 \\cdot 10^{-17} Γ - 1.11022302462516 \\cdot 10^{-16} i Γ'\\right) e^{\\frac{\\sqrt{3} i a k_{2}}{3}} & 0 & 0.5 \\cdot \\left(1.49975978266186 \\cdot 10^{-32} K + 1.0 i Γ + 1.22464679914735 \\cdot 10^{-16} Γ' + 1.22464679914735 \\cdot 10^{-16} i Γ'\\right) e^{- i \\left(\\frac{a k_{1}}{2} + \\frac{\\sqrt{3} a k_{2}}{6}\\right)} + 0.5 \\cdot \\left(1.0 K + 1.22464679914735 \\cdot 10^{-16} i Γ + 1.22464679914735 \\cdot 10^{-16} Γ' + 1.0 i Γ'\\right) e^{- i \\left(- \\frac{a k_{1}}{2} + \\frac{\\sqrt{3} a k_{2}}{6}\\right)} & 0 & 0.5 \\left(- 1.0 K + 6.12323399573677 \\cdot 10^{-17} Γ - 1.0 i Γ'\\right) e^{\\frac{\\sqrt{3} i a k_{2}}{3}} & - 0.5 J - 1.0 K - 0.5 h - 6.12323399573677 \\cdot 10^{-17} Γ + 2.44929359829471 \\cdot 10^{-16} Γ' & 0.5 \\cdot \\left(1.0 J + 1.49975978266186 \\cdot 10^{-32} K + 1.22464679914735 \\cdot 10^{-16} Γ'\\right) e^{- i \\left(\\frac{a k_{1}}{2} + \\frac{\\sqrt{3} a k_{2}}{6}\\right)} + 0.5 \\cdot \\left(1.0 J + 1.0 K + 1.22464679914735 \\cdot 10^{-16} Γ'\\right) e^{- i \\left(- \\frac{a k_{1}}{2} + \\frac{\\sqrt{3} a k_{2}}{6}\\right)}\\\\0.5 \\cdot \\left(1.0 J + 1.0 K + 6.12323399573677 \\cdot 10^{-17} Γ - 1.11022302462516 \\cdot 10^{-16} i Γ'\\right) e^{- \\frac{\\sqrt{3} i a k_{2}}{3}} & 0 & 0.5 \\cdot \\left(1.49975978266186 \\cdot 10^{-32} K + 1.0 i Γ + 1.22464679914735 \\cdot 10^{-16} Γ' + 1.22464679914735 \\cdot 10^{-16} i Γ'\\right) e^{i \\left(\\frac{a k_{1}}{2} + \\frac{\\sqrt{3} a k_{2}}{6}\\right)} + 0.5 \\cdot \\left(1.0 K + 1.22464679914735 \\cdot 10^{-16} i Γ + 1.22464679914735 \\cdot 10^{-16} Γ' + 1.0 i Γ'\\right) e^{i \\left(- \\frac{a k_{1}}{2} + \\frac{\\sqrt{3} a k_{2}}{6}\\right)} & 0 & 0.5 \\left(- 1.0 K + 6.12323399573677 \\cdot 10^{-17} Γ - 1.0 i Γ'\\right) e^{- \\frac{\\sqrt{3} i a k_{2}}{3}} & 0 & 0.5 \\cdot \\left(1.0 J + 1.49975978266186 \\cdot 10^{-32} K + 1.22464679914735 \\cdot 10^{-16} Γ'\\right) e^{i \\left(\\frac{a k_{1}}{2} + \\frac{\\sqrt{3} a k_{2}}{6}\\right)} + 0.5 \\cdot \\left(1.0 J + 1.0 K + 1.22464679914735 \\cdot 10^{-16} Γ'\\right) e^{i \\left(- \\frac{a k_{1}}{2} + \\frac{\\sqrt{3} a k_{2}}{6}\\right)} & - 0.5 J - 1.0 K - 0.5 h - 6.12323399573677 \\cdot 10^{-17} Γ + 2.44929359829471 \\cdot 10^{-16} Γ'\\end{matrix}\\right]$"
      ],
      "text/plain": [
       "Matrix([\n",
       "[                                                -0.5*J - 1.0*K + 0.5*h - 6.12323399573677e-17*Γ,       0.5*J*exp(-I*(a*k1/2 + sqrt(3)*a*k2/6)) + 0.5*(J + K)*exp(-I*(-a*k1/2 + sqrt(3)*a*k2/6)),                                                                                                                                                                                                                                             0,                                                                                                                                                                          0.5*(-1.0*K + 6.12323399573677e-17*Γ + 1.0*I*Γ')*exp(sqrt(3)*I*a*k2/3),                                                                                               0,  0.5*I*Γ*exp(-I*(a*k1/2 + sqrt(3)*a*k2/6)) + 0.5*(K + I*Γ')*exp(-I*(-a*k1/2 + sqrt(3)*a*k2/6)),                                                                                                                                                                                                                                             0,                                                                                                                                                  0.5*(1.0*J + 1.0*K + 6.12323399573677e-17*Γ + 1.11022302462516e-16*I*Γ')*exp(sqrt(3)*I*a*k2/3)],\n",
       "[         0.5*J*exp(I*(a*k1/2 + sqrt(3)*a*k2/6)) + 0.5*(J + K)*exp(I*(-a*k1/2 + sqrt(3)*a*k2/6)),                                                -0.5*J - 1.0*K + 0.5*h - 6.12323399573677e-17*Γ,                                                                                                                                                                       0.5*(-1.0*K + 6.12323399573677e-17*Γ + 1.0*I*Γ')*exp(-sqrt(3)*I*a*k2/3),                                                                                                                                                                                                                                               0,     0.5*I*Γ*exp(I*(a*k1/2 + sqrt(3)*a*k2/6)) + 0.5*(K + I*Γ')*exp(I*(-a*k1/2 + sqrt(3)*a*k2/6)),                                                                                              0,                                                                                                                                               0.5*(1.0*J + 1.0*K + 6.12323399573677e-17*Γ + 1.11022302462516e-16*I*Γ')*exp(-sqrt(3)*I*a*k2/3),                                                                                                                                                                                                                                               0],\n",
       "[                                                                                              0,                         0.5*(-1.0*K + 6.12323399573677e-17*Γ - 1.0*I*Γ')*exp(sqrt(3)*I*a*k2/3),                                                                                                                                                                     -0.5*J - 1.0*K - 0.5*h - 6.12323399573677e-17*Γ + 2.44929359829471e-16*Γ',                                                             0.5*(1.0*J + 1.49975978266186e-32*K + 1.22464679914735e-16*Γ')*exp(-I*(a*k1/2 + sqrt(3)*a*k2/6)) + 0.5*(1.0*J + 1.0*K + 1.22464679914735e-16*Γ')*exp(-I*(-a*k1/2 + sqrt(3)*a*k2/6)),                                                                                               0, 0.5*(1.0*J + 1.0*K + 6.12323399573677e-17*Γ + 1.11022302462516e-16*I*Γ')*exp(sqrt(3)*I*a*k2/3),                                                                                                                                                                                                                                             0, 0.5*(1.49975978266186e-32*K - 1.0*I*Γ + 1.22464679914735e-16*Γ' - 1.22464679914735e-16*I*Γ')*exp(-I*(a*k1/2 + sqrt(3)*a*k2/6)) + 0.5*(1.0*K - 1.22464679914735e-16*I*Γ + 1.22464679914735e-16*Γ' - 1.0*I*Γ')*exp(-I*(-a*k1/2 + sqrt(3)*a*k2/6))],\n",
       "[                        0.5*(-1.0*K + 6.12323399573677e-17*Γ - 1.0*I*Γ')*exp(-sqrt(3)*I*a*k2/3),                                                                                              0,                                                             0.5*(1.0*J + 1.49975978266186e-32*K + 1.22464679914735e-16*Γ')*exp(I*(a*k1/2 + sqrt(3)*a*k2/6)) + 0.5*(1.0*J + 1.0*K + 1.22464679914735e-16*Γ')*exp(I*(-a*k1/2 + sqrt(3)*a*k2/6)),                                                                                                                                                                       -0.5*J - 1.0*K - 0.5*h - 6.12323399573677e-17*Γ + 2.44929359829471e-16*Γ', 0.5*(1.0*J + 1.0*K + 6.12323399573677e-17*Γ + 1.11022302462516e-16*I*Γ')*exp(-sqrt(3)*I*a*k2/3),                                                                                              0, 0.5*(1.49975978266186e-32*K - 1.0*I*Γ + 1.22464679914735e-16*Γ' - 1.22464679914735e-16*I*Γ')*exp(I*(a*k1/2 + sqrt(3)*a*k2/6)) + 0.5*(1.0*K - 1.22464679914735e-16*I*Γ + 1.22464679914735e-16*Γ' - 1.0*I*Γ')*exp(I*(-a*k1/2 + sqrt(3)*a*k2/6)),                                                                                                                                                                                                                                               0],\n",
       "[                                                                                              0, -0.5*I*Γ*exp(-I*(a*k1/2 + sqrt(3)*a*k2/6)) + 0.5*(K - I*Γ')*exp(-I*(-a*k1/2 + sqrt(3)*a*k2/6)),                                                                                                                                                                                                                                             0,                                                                                                                                                  0.5*(1.0*J + 1.0*K + 6.12323399573677e-17*Γ - 1.11022302462516e-16*I*Γ')*exp(sqrt(3)*I*a*k2/3),                                                 -0.5*J - 1.0*K + 0.5*h - 6.12323399573677e-17*Γ,       0.5*J*exp(-I*(a*k1/2 + sqrt(3)*a*k2/6)) + 0.5*(J + K)*exp(-I*(-a*k1/2 + sqrt(3)*a*k2/6)),                                                                                                                                                                                                                                             0,                                                                                                                                                                          0.5*(-1.0*K + 6.12323399573677e-17*Γ + 1.0*I*Γ')*exp(sqrt(3)*I*a*k2/3)],\n",
       "[   -0.5*I*Γ*exp(I*(a*k1/2 + sqrt(3)*a*k2/6)) + 0.5*(K - I*Γ')*exp(I*(-a*k1/2 + sqrt(3)*a*k2/6)),                                                                                              0,                                                                                                                                               0.5*(1.0*J + 1.0*K + 6.12323399573677e-17*Γ - 1.11022302462516e-16*I*Γ')*exp(-sqrt(3)*I*a*k2/3),                                                                                                                                                                                                                                               0,          0.5*J*exp(I*(a*k1/2 + sqrt(3)*a*k2/6)) + 0.5*(J + K)*exp(I*(-a*k1/2 + sqrt(3)*a*k2/6)),                                                -0.5*J - 1.0*K + 0.5*h - 6.12323399573677e-17*Γ,                                                                                                                                                                       0.5*(-1.0*K + 6.12323399573677e-17*Γ + 1.0*I*Γ')*exp(-sqrt(3)*I*a*k2/3),                                                                                                                                                                                                                                               0],\n",
       "[                                                                                              0, 0.5*(1.0*J + 1.0*K + 6.12323399573677e-17*Γ - 1.11022302462516e-16*I*Γ')*exp(sqrt(3)*I*a*k2/3),                                                                                                                                                                                                                                             0, 0.5*(1.49975978266186e-32*K + 1.0*I*Γ + 1.22464679914735e-16*Γ' + 1.22464679914735e-16*I*Γ')*exp(-I*(a*k1/2 + sqrt(3)*a*k2/6)) + 0.5*(1.0*K + 1.22464679914735e-16*I*Γ + 1.22464679914735e-16*Γ' + 1.0*I*Γ')*exp(-I*(-a*k1/2 + sqrt(3)*a*k2/6)),                                                                                               0,                         0.5*(-1.0*K + 6.12323399573677e-17*Γ - 1.0*I*Γ')*exp(sqrt(3)*I*a*k2/3),                                                                                                                                                                     -0.5*J - 1.0*K - 0.5*h - 6.12323399573677e-17*Γ + 2.44929359829471e-16*Γ',                                                             0.5*(1.0*J + 1.49975978266186e-32*K + 1.22464679914735e-16*Γ')*exp(-I*(a*k1/2 + sqrt(3)*a*k2/6)) + 0.5*(1.0*J + 1.0*K + 1.22464679914735e-16*Γ')*exp(-I*(-a*k1/2 + sqrt(3)*a*k2/6))],\n",
       "[0.5*(1.0*J + 1.0*K + 6.12323399573677e-17*Γ - 1.11022302462516e-16*I*Γ')*exp(-sqrt(3)*I*a*k2/3),                                                                                              0, 0.5*(1.49975978266186e-32*K + 1.0*I*Γ + 1.22464679914735e-16*Γ' + 1.22464679914735e-16*I*Γ')*exp(I*(a*k1/2 + sqrt(3)*a*k2/6)) + 0.5*(1.0*K + 1.22464679914735e-16*I*Γ + 1.22464679914735e-16*Γ' + 1.0*I*Γ')*exp(I*(-a*k1/2 + sqrt(3)*a*k2/6)),                                                                                                                                                                                                                                               0,                         0.5*(-1.0*K + 6.12323399573677e-17*Γ - 1.0*I*Γ')*exp(-sqrt(3)*I*a*k2/3),                                                                                              0,                                                             0.5*(1.0*J + 1.49975978266186e-32*K + 1.22464679914735e-16*Γ')*exp(I*(a*k1/2 + sqrt(3)*a*k2/6)) + 0.5*(1.0*J + 1.0*K + 1.22464679914735e-16*Γ')*exp(I*(-a*k1/2 + sqrt(3)*a*k2/6)),                                                                                                                                                                       -0.5*J - 1.0*K - 0.5*h - 6.12323399573677e-17*Γ + 2.44929359829471e-16*Γ']])"
      ]
     },
     "execution_count": 36,
     "metadata": {},
     "output_type": "execute_result"
    }
   ],
   "source": [
    "Hlsw"
   ]
  },
  {
   "cell_type": "code",
   "execution_count": 37,
   "metadata": {},
   "outputs": [
    {
     "data": {
      "text/latex": [
       "$\\displaystyle \\left[\\begin{matrix}- 0.5 h + 0.5 \\overline{h} & 0 & 0 & 0 & 0 & 0 & 0 & 0\\\\0 & - 0.5 h + 0.5 \\overline{h} & 0 & 0 & 0 & 0 & 0 & 0\\\\0 & 0 & 0.5 h - 0.5 \\overline{h} & 0 & 0 & 0 & 0 & 0\\\\0 & 0 & 0 & 0.5 h - 0.5 \\overline{h} & 0 & 0 & 0 & 0\\\\0 & 0 & 0 & 0 & - 0.5 h + 0.5 \\overline{h} & 0 & 0 & 0\\\\0 & 0 & 0 & 0 & 0 & - 0.5 h + 0.5 \\overline{h} & 0 & 0\\\\0 & 0 & 0 & 0 & 0 & 0 & 0.5 h - 0.5 \\overline{h} & 0\\\\0 & 0 & 0 & 0 & 0 & 0 & 0 & 0.5 h - 0.5 \\overline{h}\\end{matrix}\\right]$"
      ],
      "text/plain": [
       "Matrix([\n",
       "[-0.5*h + 0.5*conjugate(h),                         0,                        0,                        0,                         0,                         0,                        0,                        0],\n",
       "[                        0, -0.5*h + 0.5*conjugate(h),                        0,                        0,                         0,                         0,                        0,                        0],\n",
       "[                        0,                         0, 0.5*h - 0.5*conjugate(h),                        0,                         0,                         0,                        0,                        0],\n",
       "[                        0,                         0,                        0, 0.5*h - 0.5*conjugate(h),                         0,                         0,                        0,                        0],\n",
       "[                        0,                         0,                        0,                        0, -0.5*h + 0.5*conjugate(h),                         0,                        0,                        0],\n",
       "[                        0,                         0,                        0,                        0,                         0, -0.5*h + 0.5*conjugate(h),                        0,                        0],\n",
       "[                        0,                         0,                        0,                        0,                         0,                         0, 0.5*h - 0.5*conjugate(h),                        0],\n",
       "[                        0,                         0,                        0,                        0,                         0,                         0,                        0, 0.5*h - 0.5*conjugate(h)]])"
      ]
     },
     "execution_count": 37,
     "metadata": {},
     "output_type": "execute_result"
    }
   ],
   "source": [
    "sp.transpose(sp.conjugate(Hlsw))-Hlsw"
   ]
  },
  {
   "cell_type": "code",
   "execution_count": 38,
   "id": "196ee352b4e2fb96",
   "metadata": {
    "scrolled": false
   },
   "outputs": [
    {
     "data": {
      "text/latex": [
       "$\\displaystyle \\left[\\begin{matrix}- 0.5 J & 0.5 J e^{- i \\left(\\frac{k_{1}}{2} + \\frac{\\sqrt{3} k_{2}}{6}\\right)} + 0.5 J e^{- i \\left(- \\frac{k_{1}}{2} + \\frac{\\sqrt{3} k_{2}}{6}\\right)} & 0 & 0 & 0 & 0 & 0 & 0.5 J e^{\\frac{\\sqrt{3} i k_{2}}{3}}\\\\0.5 J e^{i \\left(- \\frac{k_{1}}{2} + \\frac{\\sqrt{3} k_{2}}{6}\\right)} + 0.5 J e^{i \\left(\\frac{k_{1}}{2} + \\frac{\\sqrt{3} k_{2}}{6}\\right)} & - 0.5 J & 0 & 0 & 0 & 0 & 0.5 J e^{- \\frac{\\sqrt{3} i k_{2}}{3}} & 0\\\\0 & 0 & - 0.5 J & 0.5 J e^{- i \\left(\\frac{k_{1}}{2} + \\frac{\\sqrt{3} k_{2}}{6}\\right)} + 0.5 J e^{- i \\left(- \\frac{k_{1}}{2} + \\frac{\\sqrt{3} k_{2}}{6}\\right)} & 0 & 0.5 J e^{\\frac{\\sqrt{3} i k_{2}}{3}} & 0 & 0\\\\0 & 0 & 0.5 J e^{i \\left(- \\frac{k_{1}}{2} + \\frac{\\sqrt{3} k_{2}}{6}\\right)} + 0.5 J e^{i \\left(\\frac{k_{1}}{2} + \\frac{\\sqrt{3} k_{2}}{6}\\right)} & - 0.5 J & 0.5 J e^{- \\frac{\\sqrt{3} i k_{2}}{3}} & 0 & 0 & 0\\\\0 & 0 & 0 & 0.5 J e^{\\frac{\\sqrt{3} i k_{2}}{3}} & - 0.5 J & 0.5 J e^{- i \\left(\\frac{k_{1}}{2} + \\frac{\\sqrt{3} k_{2}}{6}\\right)} + 0.5 J e^{- i \\left(- \\frac{k_{1}}{2} + \\frac{\\sqrt{3} k_{2}}{6}\\right)} & 0 & 0\\\\0 & 0 & 0.5 J e^{- \\frac{\\sqrt{3} i k_{2}}{3}} & 0 & 0.5 J e^{i \\left(- \\frac{k_{1}}{2} + \\frac{\\sqrt{3} k_{2}}{6}\\right)} + 0.5 J e^{i \\left(\\frac{k_{1}}{2} + \\frac{\\sqrt{3} k_{2}}{6}\\right)} & - 0.5 J & 0 & 0\\\\0 & 0.5 J e^{\\frac{\\sqrt{3} i k_{2}}{3}} & 0 & 0 & 0 & 0 & - 0.5 J & 0.5 J e^{- i \\left(\\frac{k_{1}}{2} + \\frac{\\sqrt{3} k_{2}}{6}\\right)} + 0.5 J e^{- i \\left(- \\frac{k_{1}}{2} + \\frac{\\sqrt{3} k_{2}}{6}\\right)}\\\\0.5 J e^{- \\frac{\\sqrt{3} i k_{2}}{3}} & 0 & 0 & 0 & 0 & 0 & 0.5 J e^{i \\left(- \\frac{k_{1}}{2} + \\frac{\\sqrt{3} k_{2}}{6}\\right)} + 0.5 J e^{i \\left(\\frac{k_{1}}{2} + \\frac{\\sqrt{3} k_{2}}{6}\\right)} & - 0.5 J\\end{matrix}\\right]$"
      ],
      "text/plain": [
       "Matrix([\n",
       "[                                                                  -0.5*J, 0.5*J*exp(-I*(k1/2 + sqrt(3)*k2/6)) + 0.5*J*exp(-I*(-k1/2 + sqrt(3)*k2/6)),                                                                        0,                                                                          0,                                                                        0,                                                                          0,                                                                        0,                                                  0.5*J*exp(sqrt(3)*I*k2/3)],\n",
       "[0.5*J*exp(I*(-k1/2 + sqrt(3)*k2/6)) + 0.5*J*exp(I*(k1/2 + sqrt(3)*k2/6)),                                                                     -0.5*J,                                                                        0,                                                                          0,                                                                        0,                                                                          0,                                               0.5*J*exp(-sqrt(3)*I*k2/3),                                                                          0],\n",
       "[                                                                       0,                                                                          0,                                                                   -0.5*J, 0.5*J*exp(-I*(k1/2 + sqrt(3)*k2/6)) + 0.5*J*exp(-I*(-k1/2 + sqrt(3)*k2/6)),                                                                        0,                                                  0.5*J*exp(sqrt(3)*I*k2/3),                                                                        0,                                                                          0],\n",
       "[                                                                       0,                                                                          0, 0.5*J*exp(I*(-k1/2 + sqrt(3)*k2/6)) + 0.5*J*exp(I*(k1/2 + sqrt(3)*k2/6)),                                                                     -0.5*J,                                               0.5*J*exp(-sqrt(3)*I*k2/3),                                                                          0,                                                                        0,                                                                          0],\n",
       "[                                                                       0,                                                                          0,                                                                        0,                                                  0.5*J*exp(sqrt(3)*I*k2/3),                                                                   -0.5*J, 0.5*J*exp(-I*(k1/2 + sqrt(3)*k2/6)) + 0.5*J*exp(-I*(-k1/2 + sqrt(3)*k2/6)),                                                                        0,                                                                          0],\n",
       "[                                                                       0,                                                                          0,                                               0.5*J*exp(-sqrt(3)*I*k2/3),                                                                          0, 0.5*J*exp(I*(-k1/2 + sqrt(3)*k2/6)) + 0.5*J*exp(I*(k1/2 + sqrt(3)*k2/6)),                                                                     -0.5*J,                                                                        0,                                                                          0],\n",
       "[                                                                       0,                                                  0.5*J*exp(sqrt(3)*I*k2/3),                                                                        0,                                                                          0,                                                                        0,                                                                          0,                                                                   -0.5*J, 0.5*J*exp(-I*(k1/2 + sqrt(3)*k2/6)) + 0.5*J*exp(-I*(-k1/2 + sqrt(3)*k2/6))],\n",
       "[                                              0.5*J*exp(-sqrt(3)*I*k2/3),                                                                          0,                                                                        0,                                                                          0,                                                                        0,                                                                          0, 0.5*J*exp(I*(-k1/2 + sqrt(3)*k2/6)) + 0.5*J*exp(I*(k1/2 + sqrt(3)*k2/6)),                                                                     -0.5*J]])"
      ]
     },
     "execution_count": 38,
     "metadata": {},
     "output_type": "execute_result"
    }
   ],
   "source": [
    "\n",
    "    # coupling energy scale in unit meV\n",
    "    # length scale in unit angstrom\n",
    "    # Here we use Sear's paprameter, for example:\n",
    "\n",
    "    # a=1. leave k1 and k2 arbitrary\n",
    "    # add_strg: add coupling strength\n",
    "\n",
    "Hlsw_J = Hlsw.subs([ (K, 0), (Gamma, 0), (gamma, 0), (h, 0), (a, 1)])\n",
    "Hlsw_J\n"
   ]
  },
  {
   "cell_type": "code",
   "execution_count": 39,
   "metadata": {},
   "outputs": [
    {
     "data": {
      "text/latex": [
       "$\\displaystyle \\left[\\begin{matrix}0 & 0 & 0 & 0 & 0 & 0 & 0 & 0\\\\0 & 0 & 0 & 0 & 0 & 0 & 0 & 0\\\\0 & 0 & 0 & 0 & 0 & 0 & 0 & 0\\\\0 & 0 & 0 & 0 & 0 & 0 & 0 & 0\\\\0 & 0 & 0 & 0 & 0 & 0 & 0 & 0\\\\0 & 0 & 0 & 0 & 0 & 0 & 0 & 0\\\\0 & 0 & 0 & 0 & 0 & 0 & 0 & 0\\\\0 & 0 & 0 & 0 & 0 & 0 & 0 & 0\\end{matrix}\\right]$"
      ],
      "text/plain": [
       "Matrix([\n",
       "[0, 0, 0, 0, 0, 0, 0, 0],\n",
       "[0, 0, 0, 0, 0, 0, 0, 0],\n",
       "[0, 0, 0, 0, 0, 0, 0, 0],\n",
       "[0, 0, 0, 0, 0, 0, 0, 0],\n",
       "[0, 0, 0, 0, 0, 0, 0, 0],\n",
       "[0, 0, 0, 0, 0, 0, 0, 0],\n",
       "[0, 0, 0, 0, 0, 0, 0, 0],\n",
       "[0, 0, 0, 0, 0, 0, 0, 0]])"
      ]
     },
     "execution_count": 39,
     "metadata": {},
     "output_type": "execute_result"
    }
   ],
   "source": [
    "sp.transpose(sp.conjugate(Hlsw_J))-Hlsw_J"
   ]
  },
  {
   "cell_type": "code",
   "execution_count": 40,
   "metadata": {},
   "outputs": [
    {
     "data": {
      "text/latex": [
       "$\\displaystyle \\left[\\begin{matrix}- 1.0 K & 0.5 K e^{- i \\left(- \\frac{k_{1}}{2} + \\frac{\\sqrt{3} k_{2}}{6}\\right)} & 0 & - 0.5 K e^{\\frac{\\sqrt{3} i k_{2}}{3}} & 0 & 0.5 K e^{- i \\left(- \\frac{k_{1}}{2} + \\frac{\\sqrt{3} k_{2}}{6}\\right)} & 0 & 0.5 K e^{\\frac{\\sqrt{3} i k_{2}}{3}}\\\\0.5 K e^{i \\left(- \\frac{k_{1}}{2} + \\frac{\\sqrt{3} k_{2}}{6}\\right)} & - 1.0 K & - 0.5 K e^{- \\frac{\\sqrt{3} i k_{2}}{3}} & 0 & 0.5 K e^{i \\left(- \\frac{k_{1}}{2} + \\frac{\\sqrt{3} k_{2}}{6}\\right)} & 0 & 0.5 K e^{- \\frac{\\sqrt{3} i k_{2}}{3}} & 0\\\\0 & - 0.5 K e^{\\frac{\\sqrt{3} i k_{2}}{3}} & - 1.0 K & 7.49879891330929 \\cdot 10^{-33} K e^{- i \\left(\\frac{k_{1}}{2} + \\frac{\\sqrt{3} k_{2}}{6}\\right)} + 0.5 K e^{- i \\left(- \\frac{k_{1}}{2} + \\frac{\\sqrt{3} k_{2}}{6}\\right)} & 0 & 0.5 K e^{\\frac{\\sqrt{3} i k_{2}}{3}} & 0 & 7.49879891330929 \\cdot 10^{-33} K e^{- i \\left(\\frac{k_{1}}{2} + \\frac{\\sqrt{3} k_{2}}{6}\\right)} + 0.5 K e^{- i \\left(- \\frac{k_{1}}{2} + \\frac{\\sqrt{3} k_{2}}{6}\\right)}\\\\- 0.5 K e^{- \\frac{\\sqrt{3} i k_{2}}{3}} & 0 & 0.5 K e^{i \\left(- \\frac{k_{1}}{2} + \\frac{\\sqrt{3} k_{2}}{6}\\right)} + 7.49879891330929 \\cdot 10^{-33} K e^{i \\left(\\frac{k_{1}}{2} + \\frac{\\sqrt{3} k_{2}}{6}\\right)} & - 1.0 K & 0.5 K e^{- \\frac{\\sqrt{3} i k_{2}}{3}} & 0 & 0.5 K e^{i \\left(- \\frac{k_{1}}{2} + \\frac{\\sqrt{3} k_{2}}{6}\\right)} + 7.49879891330929 \\cdot 10^{-33} K e^{i \\left(\\frac{k_{1}}{2} + \\frac{\\sqrt{3} k_{2}}{6}\\right)} & 0\\\\0 & 0.5 K e^{- i \\left(- \\frac{k_{1}}{2} + \\frac{\\sqrt{3} k_{2}}{6}\\right)} & 0 & 0.5 K e^{\\frac{\\sqrt{3} i k_{2}}{3}} & - 1.0 K & 0.5 K e^{- i \\left(- \\frac{k_{1}}{2} + \\frac{\\sqrt{3} k_{2}}{6}\\right)} & 0 & - 0.5 K e^{\\frac{\\sqrt{3} i k_{2}}{3}}\\\\0.5 K e^{i \\left(- \\frac{k_{1}}{2} + \\frac{\\sqrt{3} k_{2}}{6}\\right)} & 0 & 0.5 K e^{- \\frac{\\sqrt{3} i k_{2}}{3}} & 0 & 0.5 K e^{i \\left(- \\frac{k_{1}}{2} + \\frac{\\sqrt{3} k_{2}}{6}\\right)} & - 1.0 K & - 0.5 K e^{- \\frac{\\sqrt{3} i k_{2}}{3}} & 0\\\\0 & 0.5 K e^{\\frac{\\sqrt{3} i k_{2}}{3}} & 0 & 7.49879891330929 \\cdot 10^{-33} K e^{- i \\left(\\frac{k_{1}}{2} + \\frac{\\sqrt{3} k_{2}}{6}\\right)} + 0.5 K e^{- i \\left(- \\frac{k_{1}}{2} + \\frac{\\sqrt{3} k_{2}}{6}\\right)} & 0 & - 0.5 K e^{\\frac{\\sqrt{3} i k_{2}}{3}} & - 1.0 K & 7.49879891330929 \\cdot 10^{-33} K e^{- i \\left(\\frac{k_{1}}{2} + \\frac{\\sqrt{3} k_{2}}{6}\\right)} + 0.5 K e^{- i \\left(- \\frac{k_{1}}{2} + \\frac{\\sqrt{3} k_{2}}{6}\\right)}\\\\0.5 K e^{- \\frac{\\sqrt{3} i k_{2}}{3}} & 0 & 0.5 K e^{i \\left(- \\frac{k_{1}}{2} + \\frac{\\sqrt{3} k_{2}}{6}\\right)} + 7.49879891330929 \\cdot 10^{-33} K e^{i \\left(\\frac{k_{1}}{2} + \\frac{\\sqrt{3} k_{2}}{6}\\right)} & 0 & - 0.5 K e^{- \\frac{\\sqrt{3} i k_{2}}{3}} & 0 & 0.5 K e^{i \\left(- \\frac{k_{1}}{2} + \\frac{\\sqrt{3} k_{2}}{6}\\right)} + 7.49879891330929 \\cdot 10^{-33} K e^{i \\left(\\frac{k_{1}}{2} + \\frac{\\sqrt{3} k_{2}}{6}\\right)} & - 1.0 K\\end{matrix}\\right]$"
      ],
      "text/plain": [
       "Matrix([\n",
       "[                             -1.0*K, 0.5*K*exp(-I*(-k1/2 + sqrt(3)*k2/6)),                                                                                         0,                                                                  -0.5*K*exp(sqrt(3)*I*k2/3),                                   0, 0.5*K*exp(-I*(-k1/2 + sqrt(3)*k2/6)),                                                                                         0,                                                                   0.5*K*exp(sqrt(3)*I*k2/3)],\n",
       "[0.5*K*exp(I*(-k1/2 + sqrt(3)*k2/6)),                               -1.0*K,                                                               -0.5*K*exp(-sqrt(3)*I*k2/3),                                                                                           0, 0.5*K*exp(I*(-k1/2 + sqrt(3)*k2/6)),                                    0,                                                                0.5*K*exp(-sqrt(3)*I*k2/3),                                                                                           0],\n",
       "[                                  0,           -0.5*K*exp(sqrt(3)*I*k2/3),                                                                                    -1.0*K, 7.49879891330929e-33*K*exp(-I*(k1/2 + sqrt(3)*k2/6)) + 0.5*K*exp(-I*(-k1/2 + sqrt(3)*k2/6)),                                   0,            0.5*K*exp(sqrt(3)*I*k2/3),                                                                                         0, 7.49879891330929e-33*K*exp(-I*(k1/2 + sqrt(3)*k2/6)) + 0.5*K*exp(-I*(-k1/2 + sqrt(3)*k2/6))],\n",
       "[        -0.5*K*exp(-sqrt(3)*I*k2/3),                                    0, 0.5*K*exp(I*(-k1/2 + sqrt(3)*k2/6)) + 7.49879891330929e-33*K*exp(I*(k1/2 + sqrt(3)*k2/6)),                                                                                      -1.0*K,          0.5*K*exp(-sqrt(3)*I*k2/3),                                    0, 0.5*K*exp(I*(-k1/2 + sqrt(3)*k2/6)) + 7.49879891330929e-33*K*exp(I*(k1/2 + sqrt(3)*k2/6)),                                                                                           0],\n",
       "[                                  0, 0.5*K*exp(-I*(-k1/2 + sqrt(3)*k2/6)),                                                                                         0,                                                                   0.5*K*exp(sqrt(3)*I*k2/3),                              -1.0*K, 0.5*K*exp(-I*(-k1/2 + sqrt(3)*k2/6)),                                                                                         0,                                                                  -0.5*K*exp(sqrt(3)*I*k2/3)],\n",
       "[0.5*K*exp(I*(-k1/2 + sqrt(3)*k2/6)),                                    0,                                                                0.5*K*exp(-sqrt(3)*I*k2/3),                                                                                           0, 0.5*K*exp(I*(-k1/2 + sqrt(3)*k2/6)),                               -1.0*K,                                                               -0.5*K*exp(-sqrt(3)*I*k2/3),                                                                                           0],\n",
       "[                                  0,            0.5*K*exp(sqrt(3)*I*k2/3),                                                                                         0, 7.49879891330929e-33*K*exp(-I*(k1/2 + sqrt(3)*k2/6)) + 0.5*K*exp(-I*(-k1/2 + sqrt(3)*k2/6)),                                   0,           -0.5*K*exp(sqrt(3)*I*k2/3),                                                                                    -1.0*K, 7.49879891330929e-33*K*exp(-I*(k1/2 + sqrt(3)*k2/6)) + 0.5*K*exp(-I*(-k1/2 + sqrt(3)*k2/6))],\n",
       "[         0.5*K*exp(-sqrt(3)*I*k2/3),                                    0, 0.5*K*exp(I*(-k1/2 + sqrt(3)*k2/6)) + 7.49879891330929e-33*K*exp(I*(k1/2 + sqrt(3)*k2/6)),                                                                                           0,         -0.5*K*exp(-sqrt(3)*I*k2/3),                                    0, 0.5*K*exp(I*(-k1/2 + sqrt(3)*k2/6)) + 7.49879891330929e-33*K*exp(I*(k1/2 + sqrt(3)*k2/6)),                                                                                      -1.0*K]])"
      ]
     },
     "execution_count": 40,
     "metadata": {},
     "output_type": "execute_result"
    }
   ],
   "source": [
    "Hlsw_K = Hlsw.subs([ (J,0), (Gamma, 0), (gamma, 0), (h, 0), (a, 1)])\n",
    "Hlsw_K"
   ]
  },
  {
   "cell_type": "code",
   "execution_count": 41,
   "metadata": {},
   "outputs": [
    {
     "data": {
      "text/latex": [
       "$\\displaystyle \\left[\\begin{matrix}0 & 0 & 0 & 0 & 0 & 0 & 0 & 0\\\\0 & 0 & 0 & 0 & 0 & 0 & 0 & 0\\\\0 & 0 & 0 & 0 & 0 & 0 & 0 & 0\\\\0 & 0 & 0 & 0 & 0 & 0 & 0 & 0\\\\0 & 0 & 0 & 0 & 0 & 0 & 0 & 0\\\\0 & 0 & 0 & 0 & 0 & 0 & 0 & 0\\\\0 & 0 & 0 & 0 & 0 & 0 & 0 & 0\\\\0 & 0 & 0 & 0 & 0 & 0 & 0 & 0\\end{matrix}\\right]$"
      ],
      "text/plain": [
       "Matrix([\n",
       "[0, 0, 0, 0, 0, 0, 0, 0],\n",
       "[0, 0, 0, 0, 0, 0, 0, 0],\n",
       "[0, 0, 0, 0, 0, 0, 0, 0],\n",
       "[0, 0, 0, 0, 0, 0, 0, 0],\n",
       "[0, 0, 0, 0, 0, 0, 0, 0],\n",
       "[0, 0, 0, 0, 0, 0, 0, 0],\n",
       "[0, 0, 0, 0, 0, 0, 0, 0],\n",
       "[0, 0, 0, 0, 0, 0, 0, 0]])"
      ]
     },
     "execution_count": 41,
     "metadata": {},
     "output_type": "execute_result"
    }
   ],
   "source": [
    "sp.transpose(sp.conjugate(Hlsw_K))-Hlsw_K"
   ]
  },
  {
   "cell_type": "code",
   "execution_count": 42,
   "metadata": {
    "scrolled": true
   },
   "outputs": [
    {
     "data": {
      "text/latex": [
       "$\\displaystyle \\left[\\begin{matrix}- 6.12323399573677 \\cdot 10^{-17} Γ & 0 & 0 & 3.06161699786838 \\cdot 10^{-17} Γ e^{\\frac{\\sqrt{3} i k_{2}}{3}} & 0 & 0.5 i Γ e^{- i \\left(\\frac{k_{1}}{2} + \\frac{\\sqrt{3} k_{2}}{6}\\right)} & 0 & 3.06161699786838 \\cdot 10^{-17} Γ e^{\\frac{\\sqrt{3} i k_{2}}{3}}\\\\0 & - 6.12323399573677 \\cdot 10^{-17} Γ & 3.06161699786838 \\cdot 10^{-17} Γ e^{- \\frac{\\sqrt{3} i k_{2}}{3}} & 0 & 0.5 i Γ e^{i \\left(\\frac{k_{1}}{2} + \\frac{\\sqrt{3} k_{2}}{6}\\right)} & 0 & 3.06161699786838 \\cdot 10^{-17} Γ e^{- \\frac{\\sqrt{3} i k_{2}}{3}} & 0\\\\0 & 3.06161699786838 \\cdot 10^{-17} Γ e^{\\frac{\\sqrt{3} i k_{2}}{3}} & - 6.12323399573677 \\cdot 10^{-17} Γ & 0 & 0 & 3.06161699786838 \\cdot 10^{-17} Γ e^{\\frac{\\sqrt{3} i k_{2}}{3}} & 0 & - 0.5 i Γ e^{- i \\left(\\frac{k_{1}}{2} + \\frac{\\sqrt{3} k_{2}}{6}\\right)} - 6.12323399573677 \\cdot 10^{-17} i Γ e^{- i \\left(- \\frac{k_{1}}{2} + \\frac{\\sqrt{3} k_{2}}{6}\\right)}\\\\3.06161699786838 \\cdot 10^{-17} Γ e^{- \\frac{\\sqrt{3} i k_{2}}{3}} & 0 & 0 & - 6.12323399573677 \\cdot 10^{-17} Γ & 3.06161699786838 \\cdot 10^{-17} Γ e^{- \\frac{\\sqrt{3} i k_{2}}{3}} & 0 & - 6.12323399573677 \\cdot 10^{-17} i Γ e^{i \\left(- \\frac{k_{1}}{2} + \\frac{\\sqrt{3} k_{2}}{6}\\right)} - 0.5 i Γ e^{i \\left(\\frac{k_{1}}{2} + \\frac{\\sqrt{3} k_{2}}{6}\\right)} & 0\\\\0 & - 0.5 i Γ e^{- i \\left(\\frac{k_{1}}{2} + \\frac{\\sqrt{3} k_{2}}{6}\\right)} & 0 & 3.06161699786838 \\cdot 10^{-17} Γ e^{\\frac{\\sqrt{3} i k_{2}}{3}} & - 6.12323399573677 \\cdot 10^{-17} Γ & 0 & 0 & 3.06161699786838 \\cdot 10^{-17} Γ e^{\\frac{\\sqrt{3} i k_{2}}{3}}\\\\- 0.5 i Γ e^{i \\left(\\frac{k_{1}}{2} + \\frac{\\sqrt{3} k_{2}}{6}\\right)} & 0 & 3.06161699786838 \\cdot 10^{-17} Γ e^{- \\frac{\\sqrt{3} i k_{2}}{3}} & 0 & 0 & - 6.12323399573677 \\cdot 10^{-17} Γ & 3.06161699786838 \\cdot 10^{-17} Γ e^{- \\frac{\\sqrt{3} i k_{2}}{3}} & 0\\\\0 & 3.06161699786838 \\cdot 10^{-17} Γ e^{\\frac{\\sqrt{3} i k_{2}}{3}} & 0 & 0.5 i Γ e^{- i \\left(\\frac{k_{1}}{2} + \\frac{\\sqrt{3} k_{2}}{6}\\right)} + 6.12323399573677 \\cdot 10^{-17} i Γ e^{- i \\left(- \\frac{k_{1}}{2} + \\frac{\\sqrt{3} k_{2}}{6}\\right)} & 0 & 3.06161699786838 \\cdot 10^{-17} Γ e^{\\frac{\\sqrt{3} i k_{2}}{3}} & - 6.12323399573677 \\cdot 10^{-17} Γ & 0\\\\3.06161699786838 \\cdot 10^{-17} Γ e^{- \\frac{\\sqrt{3} i k_{2}}{3}} & 0 & 6.12323399573677 \\cdot 10^{-17} i Γ e^{i \\left(- \\frac{k_{1}}{2} + \\frac{\\sqrt{3} k_{2}}{6}\\right)} + 0.5 i Γ e^{i \\left(\\frac{k_{1}}{2} + \\frac{\\sqrt{3} k_{2}}{6}\\right)} & 0 & 3.06161699786838 \\cdot 10^{-17} Γ e^{- \\frac{\\sqrt{3} i k_{2}}{3}} & 0 & 0 & - 6.12323399573677 \\cdot 10^{-17} Γ\\end{matrix}\\right]$"
      ],
      "text/plain": [
       "Matrix([\n",
       "[                    -6.12323399573677e-17*Γ,                                          0,                                                                                             0,                                                      3.06161699786838e-17*Γ*exp(sqrt(3)*I*k2/3),                                           0,      0.5*I*Γ*exp(-I*(k1/2 + sqrt(3)*k2/6)),                                                                                              0,                                                       3.06161699786838e-17*Γ*exp(sqrt(3)*I*k2/3)],\n",
       "[                                          0,                    -6.12323399573677e-17*Γ,                                                   3.06161699786838e-17*Γ*exp(-sqrt(3)*I*k2/3),                                                                                               0,        0.5*I*Γ*exp(I*(k1/2 + sqrt(3)*k2/6)),                                          0,                                                    3.06161699786838e-17*Γ*exp(-sqrt(3)*I*k2/3),                                                                                                0],\n",
       "[                                          0, 3.06161699786838e-17*Γ*exp(sqrt(3)*I*k2/3),                                                                       -6.12323399573677e-17*Γ,                                                                                               0,                                           0, 3.06161699786838e-17*Γ*exp(sqrt(3)*I*k2/3),                                                                                              0, -0.5*I*Γ*exp(-I*(k1/2 + sqrt(3)*k2/6)) - 6.12323399573677e-17*I*Γ*exp(-I*(-k1/2 + sqrt(3)*k2/6))],\n",
       "[3.06161699786838e-17*Γ*exp(-sqrt(3)*I*k2/3),                                          0,                                                                                             0,                                                                         -6.12323399573677e-17*Γ, 3.06161699786838e-17*Γ*exp(-sqrt(3)*I*k2/3),                                          0, -6.12323399573677e-17*I*Γ*exp(I*(-k1/2 + sqrt(3)*k2/6)) - 0.5*I*Γ*exp(I*(k1/2 + sqrt(3)*k2/6)),                                                                                                0],\n",
       "[                                          0,     -0.5*I*Γ*exp(-I*(k1/2 + sqrt(3)*k2/6)),                                                                                             0,                                                      3.06161699786838e-17*Γ*exp(sqrt(3)*I*k2/3),                     -6.12323399573677e-17*Γ,                                          0,                                                                                              0,                                                       3.06161699786838e-17*Γ*exp(sqrt(3)*I*k2/3)],\n",
       "[      -0.5*I*Γ*exp(I*(k1/2 + sqrt(3)*k2/6)),                                          0,                                                   3.06161699786838e-17*Γ*exp(-sqrt(3)*I*k2/3),                                                                                               0,                                           0,                    -6.12323399573677e-17*Γ,                                                    3.06161699786838e-17*Γ*exp(-sqrt(3)*I*k2/3),                                                                                                0],\n",
       "[                                          0, 3.06161699786838e-17*Γ*exp(sqrt(3)*I*k2/3),                                                                                             0, 0.5*I*Γ*exp(-I*(k1/2 + sqrt(3)*k2/6)) + 6.12323399573677e-17*I*Γ*exp(-I*(-k1/2 + sqrt(3)*k2/6)),                                           0, 3.06161699786838e-17*Γ*exp(sqrt(3)*I*k2/3),                                                                        -6.12323399573677e-17*Γ,                                                                                                0],\n",
       "[3.06161699786838e-17*Γ*exp(-sqrt(3)*I*k2/3),                                          0, 6.12323399573677e-17*I*Γ*exp(I*(-k1/2 + sqrt(3)*k2/6)) + 0.5*I*Γ*exp(I*(k1/2 + sqrt(3)*k2/6)),                                                                                               0, 3.06161699786838e-17*Γ*exp(-sqrt(3)*I*k2/3),                                          0,                                                                                              0,                                                                          -6.12323399573677e-17*Γ]])"
      ]
     },
     "execution_count": 42,
     "metadata": {},
     "output_type": "execute_result"
    }
   ],
   "source": [
    "Hlsw_Gamma = Hlsw.subs([(J,0), (K, 0), (gamma, 0), (h, 0), (a, 1)])\n",
    "Hlsw_Gamma"
   ]
  },
  {
   "cell_type": "code",
   "execution_count": 43,
   "metadata": {},
   "outputs": [
    {
     "data": {
      "text/latex": [
       "$\\displaystyle \\left[\\begin{matrix}0 & 0 & 0 & 0 & 0 & 0 & 0 & 0\\\\0 & 0 & 0 & 0 & 0 & 0 & 0 & 0\\\\0 & 0 & 0 & 0 & 0 & 0 & 0 & 0\\\\0 & 0 & 0 & 0 & 0 & 0 & 0 & 0\\\\0 & 0 & 0 & 0 & 0 & 0 & 0 & 0\\\\0 & 0 & 0 & 0 & 0 & 0 & 0 & 0\\\\0 & 0 & 0 & 0 & 0 & 0 & 0 & 0\\\\0 & 0 & 0 & 0 & 0 & 0 & 0 & 0\\end{matrix}\\right]$"
      ],
      "text/plain": [
       "Matrix([\n",
       "[0, 0, 0, 0, 0, 0, 0, 0],\n",
       "[0, 0, 0, 0, 0, 0, 0, 0],\n",
       "[0, 0, 0, 0, 0, 0, 0, 0],\n",
       "[0, 0, 0, 0, 0, 0, 0, 0],\n",
       "[0, 0, 0, 0, 0, 0, 0, 0],\n",
       "[0, 0, 0, 0, 0, 0, 0, 0],\n",
       "[0, 0, 0, 0, 0, 0, 0, 0],\n",
       "[0, 0, 0, 0, 0, 0, 0, 0]])"
      ]
     },
     "execution_count": 43,
     "metadata": {},
     "output_type": "execute_result"
    }
   ],
   "source": [
    "sp.transpose(sp.conjugate(Hlsw_Gamma))-Hlsw_Gamma"
   ]
  },
  {
   "cell_type": "code",
   "execution_count": 44,
   "metadata": {
    "scrolled": true
   },
   "outputs": [
    {
     "data": {
      "text/latex": [
       "$\\displaystyle \\left[\\begin{matrix}0 & 0 & 0 & 0.5 i Γ' e^{\\frac{\\sqrt{3} i k_{2}}{3}} & 0 & 0.5 i Γ' e^{- i \\left(- \\frac{k_{1}}{2} + \\frac{\\sqrt{3} k_{2}}{6}\\right)} & 0 & 5.55111512312578 \\cdot 10^{-17} i Γ' e^{\\frac{\\sqrt{3} i k_{2}}{3}}\\\\0 & 0 & 0.5 i Γ' e^{- \\frac{\\sqrt{3} i k_{2}}{3}} & 0 & 0.5 i Γ' e^{i \\left(- \\frac{k_{1}}{2} + \\frac{\\sqrt{3} k_{2}}{6}\\right)} & 0 & 5.55111512312578 \\cdot 10^{-17} i Γ' e^{- \\frac{\\sqrt{3} i k_{2}}{3}} & 0\\\\0 & - 0.5 i Γ' e^{\\frac{\\sqrt{3} i k_{2}}{3}} & 2.44929359829471 \\cdot 10^{-16} Γ' & 6.12323399573677 \\cdot 10^{-17} Γ' e^{- i \\left(\\frac{k_{1}}{2} + \\frac{\\sqrt{3} k_{2}}{6}\\right)} + 6.12323399573677 \\cdot 10^{-17} Γ' e^{- i \\left(- \\frac{k_{1}}{2} + \\frac{\\sqrt{3} k_{2}}{6}\\right)} & 0 & 5.55111512312578 \\cdot 10^{-17} i Γ' e^{\\frac{\\sqrt{3} i k_{2}}{3}} & 0 & 0.5 \\cdot \\left(1.22464679914735 \\cdot 10^{-16} Γ' - 1.0 i Γ'\\right) e^{- i \\left(- \\frac{k_{1}}{2} + \\frac{\\sqrt{3} k_{2}}{6}\\right)} + 0.5 \\cdot \\left(1.22464679914735 \\cdot 10^{-16} Γ' - 1.22464679914735 \\cdot 10^{-16} i Γ'\\right) e^{- i \\left(\\frac{k_{1}}{2} + \\frac{\\sqrt{3} k_{2}}{6}\\right)}\\\\- 0.5 i Γ' e^{- \\frac{\\sqrt{3} i k_{2}}{3}} & 0 & 6.12323399573677 \\cdot 10^{-17} Γ' e^{i \\left(- \\frac{k_{1}}{2} + \\frac{\\sqrt{3} k_{2}}{6}\\right)} + 6.12323399573677 \\cdot 10^{-17} Γ' e^{i \\left(\\frac{k_{1}}{2} + \\frac{\\sqrt{3} k_{2}}{6}\\right)} & 2.44929359829471 \\cdot 10^{-16} Γ' & 5.55111512312578 \\cdot 10^{-17} i Γ' e^{- \\frac{\\sqrt{3} i k_{2}}{3}} & 0 & 0.5 \\cdot \\left(1.22464679914735 \\cdot 10^{-16} Γ' - 1.0 i Γ'\\right) e^{i \\left(- \\frac{k_{1}}{2} + \\frac{\\sqrt{3} k_{2}}{6}\\right)} + 0.5 \\cdot \\left(1.22464679914735 \\cdot 10^{-16} Γ' - 1.22464679914735 \\cdot 10^{-16} i Γ'\\right) e^{i \\left(\\frac{k_{1}}{2} + \\frac{\\sqrt{3} k_{2}}{6}\\right)} & 0\\\\0 & - 0.5 i Γ' e^{- i \\left(- \\frac{k_{1}}{2} + \\frac{\\sqrt{3} k_{2}}{6}\\right)} & 0 & - 5.55111512312578 \\cdot 10^{-17} i Γ' e^{\\frac{\\sqrt{3} i k_{2}}{3}} & 0 & 0 & 0 & 0.5 i Γ' e^{\\frac{\\sqrt{3} i k_{2}}{3}}\\\\- 0.5 i Γ' e^{i \\left(- \\frac{k_{1}}{2} + \\frac{\\sqrt{3} k_{2}}{6}\\right)} & 0 & - 5.55111512312578 \\cdot 10^{-17} i Γ' e^{- \\frac{\\sqrt{3} i k_{2}}{3}} & 0 & 0 & 0 & 0.5 i Γ' e^{- \\frac{\\sqrt{3} i k_{2}}{3}} & 0\\\\0 & - 5.55111512312578 \\cdot 10^{-17} i Γ' e^{\\frac{\\sqrt{3} i k_{2}}{3}} & 0 & 0.5 \\cdot \\left(1.22464679914735 \\cdot 10^{-16} Γ' + 1.22464679914735 \\cdot 10^{-16} i Γ'\\right) e^{- i \\left(\\frac{k_{1}}{2} + \\frac{\\sqrt{3} k_{2}}{6}\\right)} + 0.5 \\cdot \\left(1.22464679914735 \\cdot 10^{-16} Γ' + 1.0 i Γ'\\right) e^{- i \\left(- \\frac{k_{1}}{2} + \\frac{\\sqrt{3} k_{2}}{6}\\right)} & 0 & - 0.5 i Γ' e^{\\frac{\\sqrt{3} i k_{2}}{3}} & 2.44929359829471 \\cdot 10^{-16} Γ' & 6.12323399573677 \\cdot 10^{-17} Γ' e^{- i \\left(\\frac{k_{1}}{2} + \\frac{\\sqrt{3} k_{2}}{6}\\right)} + 6.12323399573677 \\cdot 10^{-17} Γ' e^{- i \\left(- \\frac{k_{1}}{2} + \\frac{\\sqrt{3} k_{2}}{6}\\right)}\\\\- 5.55111512312578 \\cdot 10^{-17} i Γ' e^{- \\frac{\\sqrt{3} i k_{2}}{3}} & 0 & 0.5 \\cdot \\left(1.22464679914735 \\cdot 10^{-16} Γ' + 1.22464679914735 \\cdot 10^{-16} i Γ'\\right) e^{i \\left(\\frac{k_{1}}{2} + \\frac{\\sqrt{3} k_{2}}{6}\\right)} + 0.5 \\cdot \\left(1.22464679914735 \\cdot 10^{-16} Γ' + 1.0 i Γ'\\right) e^{i \\left(- \\frac{k_{1}}{2} + \\frac{\\sqrt{3} k_{2}}{6}\\right)} & 0 & - 0.5 i Γ' e^{- \\frac{\\sqrt{3} i k_{2}}{3}} & 0 & 6.12323399573677 \\cdot 10^{-17} Γ' e^{i \\left(- \\frac{k_{1}}{2} + \\frac{\\sqrt{3} k_{2}}{6}\\right)} + 6.12323399573677 \\cdot 10^{-17} Γ' e^{i \\left(\\frac{k_{1}}{2} + \\frac{\\sqrt{3} k_{2}}{6}\\right)} & 2.44929359829471 \\cdot 10^{-16} Γ'\\end{matrix}\\right]$"
      ],
      "text/plain": [
       "Matrix([\n",
       "[                                              0,                                              0,                                                                                                                                                               0,                                                                                                                                      0.5*I*Γ'*exp(sqrt(3)*I*k2/3),                                              0,       0.5*I*Γ'*exp(-I*(-k1/2 + sqrt(3)*k2/6)),                                                                                                                                                               0,                                                                                                                     5.55111512312578e-17*I*Γ'*exp(sqrt(3)*I*k2/3)],\n",
       "[                                              0,                                              0,                                                                                                                                   0.5*I*Γ'*exp(-sqrt(3)*I*k2/3),                                                                                                                                                                 0,         0.5*I*Γ'*exp(I*(-k1/2 + sqrt(3)*k2/6)),                                             0,                                                                                                                  5.55111512312578e-17*I*Γ'*exp(-sqrt(3)*I*k2/3),                                                                                                                                                                 0],\n",
       "[                                              0,                  -0.5*I*Γ'*exp(sqrt(3)*I*k2/3),                                                                                                                                         2.44929359829471e-16*Γ',                                                    6.12323399573677e-17*Γ'*exp(-I*(k1/2 + sqrt(3)*k2/6)) + 6.12323399573677e-17*Γ'*exp(-I*(-k1/2 + sqrt(3)*k2/6)),                                              0, 5.55111512312578e-17*I*Γ'*exp(sqrt(3)*I*k2/3),                                                                                                                                                               0, 0.5*(1.22464679914735e-16*Γ' - 1.0*I*Γ')*exp(-I*(-k1/2 + sqrt(3)*k2/6)) + 0.5*(1.22464679914735e-16*Γ' - 1.22464679914735e-16*I*Γ')*exp(-I*(k1/2 + sqrt(3)*k2/6))],\n",
       "[                 -0.5*I*Γ'*exp(-sqrt(3)*I*k2/3),                                              0,                                                    6.12323399573677e-17*Γ'*exp(I*(-k1/2 + sqrt(3)*k2/6)) + 6.12323399573677e-17*Γ'*exp(I*(k1/2 + sqrt(3)*k2/6)),                                                                                                                                           2.44929359829471e-16*Γ', 5.55111512312578e-17*I*Γ'*exp(-sqrt(3)*I*k2/3),                                             0, 0.5*(1.22464679914735e-16*Γ' - 1.0*I*Γ')*exp(I*(-k1/2 + sqrt(3)*k2/6)) + 0.5*(1.22464679914735e-16*Γ' - 1.22464679914735e-16*I*Γ')*exp(I*(k1/2 + sqrt(3)*k2/6)),                                                                                                                                                                 0],\n",
       "[                                              0,       -0.5*I*Γ'*exp(-I*(-k1/2 + sqrt(3)*k2/6)),                                                                                                                                                               0,                                                                                                                    -5.55111512312578e-17*I*Γ'*exp(sqrt(3)*I*k2/3),                                              0,                                             0,                                                                                                                                                               0,                                                                                                                                      0.5*I*Γ'*exp(sqrt(3)*I*k2/3)],\n",
       "[        -0.5*I*Γ'*exp(I*(-k1/2 + sqrt(3)*k2/6)),                                              0,                                                                                                                 -5.55111512312578e-17*I*Γ'*exp(-sqrt(3)*I*k2/3),                                                                                                                                                                 0,                                              0,                                             0,                                                                                                                                   0.5*I*Γ'*exp(-sqrt(3)*I*k2/3),                                                                                                                                                                 0],\n",
       "[                                              0, -5.55111512312578e-17*I*Γ'*exp(sqrt(3)*I*k2/3),                                                                                                                                                               0, 0.5*(1.22464679914735e-16*Γ' + 1.22464679914735e-16*I*Γ')*exp(-I*(k1/2 + sqrt(3)*k2/6)) + 0.5*(1.22464679914735e-16*Γ' + 1.0*I*Γ')*exp(-I*(-k1/2 + sqrt(3)*k2/6)),                                              0,                 -0.5*I*Γ'*exp(sqrt(3)*I*k2/3),                                                                                                                                         2.44929359829471e-16*Γ',                                                    6.12323399573677e-17*Γ'*exp(-I*(k1/2 + sqrt(3)*k2/6)) + 6.12323399573677e-17*Γ'*exp(-I*(-k1/2 + sqrt(3)*k2/6))],\n",
       "[-5.55111512312578e-17*I*Γ'*exp(-sqrt(3)*I*k2/3),                                              0, 0.5*(1.22464679914735e-16*Γ' + 1.22464679914735e-16*I*Γ')*exp(I*(k1/2 + sqrt(3)*k2/6)) + 0.5*(1.22464679914735e-16*Γ' + 1.0*I*Γ')*exp(I*(-k1/2 + sqrt(3)*k2/6)),                                                                                                                                                                 0,                 -0.5*I*Γ'*exp(-sqrt(3)*I*k2/3),                                             0,                                                    6.12323399573677e-17*Γ'*exp(I*(-k1/2 + sqrt(3)*k2/6)) + 6.12323399573677e-17*Γ'*exp(I*(k1/2 + sqrt(3)*k2/6)),                                                                                                                                           2.44929359829471e-16*Γ']])"
      ]
     },
     "execution_count": 44,
     "metadata": {},
     "output_type": "execute_result"
    }
   ],
   "source": [
    "Hlsw_gamma = Hlsw.subs([(J,0), (K, 0), (Gamma, 0), (h, 0), (a, 1)])\n",
    "Hlsw_gamma"
   ]
  },
  {
   "cell_type": "code",
   "execution_count": 45,
   "metadata": {},
   "outputs": [
    {
     "data": {
      "text/latex": [
       "$\\displaystyle \\left[\\begin{matrix}0 & 0 & 0 & 0 & 0 & 0 & 0 & 0\\\\0 & 0 & 0 & 0 & 0 & 0 & 0 & 0\\\\0 & 0 & 0 & 0 & 0 & 0 & 0 & 0\\\\0 & 0 & 0 & 0 & 0 & 0 & 0 & 0\\\\0 & 0 & 0 & 0 & 0 & 0 & 0 & 0\\\\0 & 0 & 0 & 0 & 0 & 0 & 0 & 0\\\\0 & 0 & 0 & 0 & 0 & 0 & 0 & 0\\\\0 & 0 & 0 & 0 & 0 & 0 & 0 & 0\\end{matrix}\\right]$"
      ],
      "text/plain": [
       "Matrix([\n",
       "[0, 0, 0, 0, 0, 0, 0, 0],\n",
       "[0, 0, 0, 0, 0, 0, 0, 0],\n",
       "[0, 0, 0, 0, 0, 0, 0, 0],\n",
       "[0, 0, 0, 0, 0, 0, 0, 0],\n",
       "[0, 0, 0, 0, 0, 0, 0, 0],\n",
       "[0, 0, 0, 0, 0, 0, 0, 0],\n",
       "[0, 0, 0, 0, 0, 0, 0, 0],\n",
       "[0, 0, 0, 0, 0, 0, 0, 0]])"
      ]
     },
     "execution_count": 45,
     "metadata": {},
     "output_type": "execute_result"
    }
   ],
   "source": [
    "sp.transpose(sp.conjugate(Hlsw_gamma))-Hlsw_gamma"
   ]
  },
  {
   "cell_type": "code",
   "execution_count": 46,
   "metadata": {},
   "outputs": [
    {
     "data": {
      "text/latex": [
       "$\\displaystyle \\left[\\begin{matrix}-0.5 & 0.5 e^{- i \\left(\\frac{k_{1}}{2} + \\frac{\\sqrt{3} k_{2}}{6}\\right)} + 0.5 e^{- i \\left(- \\frac{k_{1}}{2} + \\frac{\\sqrt{3} k_{2}}{6}\\right)} & 0 & 0 & 0 & 0 & 0 & 0.5 e^{\\frac{\\sqrt{3} i k_{2}}{3}}\\\\0.5 e^{i \\left(- \\frac{k_{1}}{2} + \\frac{\\sqrt{3} k_{2}}{6}\\right)} + 0.5 e^{i \\left(\\frac{k_{1}}{2} + \\frac{\\sqrt{3} k_{2}}{6}\\right)} & -0.5 & 0 & 0 & 0 & 0 & 0.5 e^{- \\frac{\\sqrt{3} i k_{2}}{3}} & 0\\\\0 & 0 & -0.5 & 0.5 e^{- i \\left(\\frac{k_{1}}{2} + \\frac{\\sqrt{3} k_{2}}{6}\\right)} + 0.5 e^{- i \\left(- \\frac{k_{1}}{2} + \\frac{\\sqrt{3} k_{2}}{6}\\right)} & 0 & 0.5 e^{\\frac{\\sqrt{3} i k_{2}}{3}} & 0 & 0\\\\0 & 0 & 0.5 e^{i \\left(- \\frac{k_{1}}{2} + \\frac{\\sqrt{3} k_{2}}{6}\\right)} + 0.5 e^{i \\left(\\frac{k_{1}}{2} + \\frac{\\sqrt{3} k_{2}}{6}\\right)} & -0.5 & 0.5 e^{- \\frac{\\sqrt{3} i k_{2}}{3}} & 0 & 0 & 0\\\\0 & 0 & 0 & 0.5 e^{\\frac{\\sqrt{3} i k_{2}}{3}} & -0.5 & 0.5 e^{- i \\left(\\frac{k_{1}}{2} + \\frac{\\sqrt{3} k_{2}}{6}\\right)} + 0.5 e^{- i \\left(- \\frac{k_{1}}{2} + \\frac{\\sqrt{3} k_{2}}{6}\\right)} & 0 & 0\\\\0 & 0 & 0.5 e^{- \\frac{\\sqrt{3} i k_{2}}{3}} & 0 & 0.5 e^{i \\left(- \\frac{k_{1}}{2} + \\frac{\\sqrt{3} k_{2}}{6}\\right)} + 0.5 e^{i \\left(\\frac{k_{1}}{2} + \\frac{\\sqrt{3} k_{2}}{6}\\right)} & -0.5 & 0 & 0\\\\0 & 0.5 e^{\\frac{\\sqrt{3} i k_{2}}{3}} & 0 & 0 & 0 & 0 & -0.5 & 0.5 e^{- i \\left(\\frac{k_{1}}{2} + \\frac{\\sqrt{3} k_{2}}{6}\\right)} + 0.5 e^{- i \\left(- \\frac{k_{1}}{2} + \\frac{\\sqrt{3} k_{2}}{6}\\right)}\\\\0.5 e^{- \\frac{\\sqrt{3} i k_{2}}{3}} & 0 & 0 & 0 & 0 & 0 & 0.5 e^{i \\left(- \\frac{k_{1}}{2} + \\frac{\\sqrt{3} k_{2}}{6}\\right)} + 0.5 e^{i \\left(\\frac{k_{1}}{2} + \\frac{\\sqrt{3} k_{2}}{6}\\right)} & -0.5\\end{matrix}\\right]$"
      ],
      "text/plain": [
       "Matrix([\n",
       "[                                                                -0.5, 0.5*exp(-I*(k1/2 + sqrt(3)*k2/6)) + 0.5*exp(-I*(-k1/2 + sqrt(3)*k2/6)),                                                                    0,                                                                      0,                                                                    0,                                                                      0,                                                                    0,                                                0.5*exp(sqrt(3)*I*k2/3)],\n",
       "[0.5*exp(I*(-k1/2 + sqrt(3)*k2/6)) + 0.5*exp(I*(k1/2 + sqrt(3)*k2/6)),                                                                   -0.5,                                                                    0,                                                                      0,                                                                    0,                                                                      0,                                             0.5*exp(-sqrt(3)*I*k2/3),                                                                      0],\n",
       "[                                                                   0,                                                                      0,                                                                 -0.5, 0.5*exp(-I*(k1/2 + sqrt(3)*k2/6)) + 0.5*exp(-I*(-k1/2 + sqrt(3)*k2/6)),                                                                    0,                                                0.5*exp(sqrt(3)*I*k2/3),                                                                    0,                                                                      0],\n",
       "[                                                                   0,                                                                      0, 0.5*exp(I*(-k1/2 + sqrt(3)*k2/6)) + 0.5*exp(I*(k1/2 + sqrt(3)*k2/6)),                                                                   -0.5,                                             0.5*exp(-sqrt(3)*I*k2/3),                                                                      0,                                                                    0,                                                                      0],\n",
       "[                                                                   0,                                                                      0,                                                                    0,                                                0.5*exp(sqrt(3)*I*k2/3),                                                                 -0.5, 0.5*exp(-I*(k1/2 + sqrt(3)*k2/6)) + 0.5*exp(-I*(-k1/2 + sqrt(3)*k2/6)),                                                                    0,                                                                      0],\n",
       "[                                                                   0,                                                                      0,                                             0.5*exp(-sqrt(3)*I*k2/3),                                                                      0, 0.5*exp(I*(-k1/2 + sqrt(3)*k2/6)) + 0.5*exp(I*(k1/2 + sqrt(3)*k2/6)),                                                                   -0.5,                                                                    0,                                                                      0],\n",
       "[                                                                   0,                                                0.5*exp(sqrt(3)*I*k2/3),                                                                    0,                                                                      0,                                                                    0,                                                                      0,                                                                 -0.5, 0.5*exp(-I*(k1/2 + sqrt(3)*k2/6)) + 0.5*exp(-I*(-k1/2 + sqrt(3)*k2/6))],\n",
       "[                                            0.5*exp(-sqrt(3)*I*k2/3),                                                                      0,                                                                    0,                                                                      0,                                                                    0,                                                                      0, 0.5*exp(I*(-k1/2 + sqrt(3)*k2/6)) + 0.5*exp(I*(k1/2 + sqrt(3)*k2/6)),                                                                   -0.5]])"
      ]
     },
     "execution_count": 46,
     "metadata": {},
     "output_type": "execute_result"
    }
   ],
   "source": [
    "cp_strg = [1,0,0,0,0]\n",
    "Hlsw_num = Hlsw.subs([(J,cp_strg[0]), (K, cp_strg[1]), (Gamma, cp_strg[2]), (gamma, cp_strg[3]), (h, cp_strg[4]), (a, 1)])\n",
    "Hlsw_num"
   ]
  },
  {
   "cell_type": "code",
   "execution_count": 47,
   "metadata": {},
   "outputs": [],
   "source": [
    "import SpinModel_afm as smk"
   ]
  },
  {
   "cell_type": "code",
   "execution_count": 48,
   "metadata": {
    "scrolled": false
   },
   "outputs": [
    {
     "data": {
      "text/latex": [
       "$\\displaystyle \\left[\\begin{matrix}0 & 0 & 0 & 0 & 0 & 0 & 0 & 0\\\\0 & 0 & 0 & 0 & 0 & 0 & 0 & 0\\\\0 & 0 & 0 & 0 & 0 & 0 & 0 & 0\\\\0 & 0 & 0 & 0 & 0 & 0 & 0 & 0\\\\0 & 0 & 0 & 0 & 0 & 0 & 0 & 0\\\\0 & 0 & 0 & 0 & 0 & 0 & 0 & 0\\\\0 & 0 & 0 & 0 & 0 & 0 & 0 & 0\\\\0 & 0 & 0 & 0 & 0 & 0 & 0 & 0\\end{matrix}\\right]$"
      ],
      "text/plain": [
       "Matrix([\n",
       "[0, 0, 0, 0, 0, 0, 0, 0],\n",
       "[0, 0, 0, 0, 0, 0, 0, 0],\n",
       "[0, 0, 0, 0, 0, 0, 0, 0],\n",
       "[0, 0, 0, 0, 0, 0, 0, 0],\n",
       "[0, 0, 0, 0, 0, 0, 0, 0],\n",
       "[0, 0, 0, 0, 0, 0, 0, 0],\n",
       "[0, 0, 0, 0, 0, 0, 0, 0],\n",
       "[0, 0, 0, 0, 0, 0, 0, 0]])"
      ]
     },
     "execution_count": 48,
     "metadata": {},
     "output_type": "execute_result"
    }
   ],
   "source": [
    "H = smk.afm_spin_model(cp_strg)\n",
    "H-np.transpose(np.conjugate(H))"
   ]
  },
  {
   "cell_type": "code",
   "execution_count": 49,
   "metadata": {},
   "outputs": [
    {
     "name": "stdout",
     "output_type": "stream",
     "text": [
      "0.0 0\n",
      "0.3141592653589793 0\n",
      "0.6283185307179586 0\n",
      "0.9424777960769379 0\n",
      "1.2566370614359172 0\n",
      "1.5707963267948966 0\n",
      "1.8849555921538759 0\n",
      "2.199114857512855 0\n",
      "2.5132741228718345 0\n",
      "2.827433388230814 0\n",
      "3.141592653589793 0.0\n",
      "3.141592653589793 -0.3141592653589793\n",
      "3.141592653589793 -0.6283185307179586\n",
      "3.141592653589793 -0.9424777960769379\n",
      "3.141592653589793 -1.2566370614359172\n",
      "3.141592653589793 -1.5707963267948966\n",
      "3.141592653589793 1.8137993642342178\n",
      "2.827433388230814 1.8137993642342178\n",
      "2.5132741228718345 1.8137993642342178\n",
      "2.199114857512855 1.8137993642342178\n",
      "1.8849555921538759 1.8137993642342178\n",
      "1.5707963267948966 1.8137993642342178\n",
      "1.2566370614359172 1.8137993642342178\n",
      "0.9424777960769379 1.8137993642342178\n",
      "0.6283185307179586 1.8137993642342178\n",
      "0.3141592653589793 1.8137993642342178\n",
      "0 1.8137993642342178\n",
      "0 1.4996400988752385\n",
      "0 1.1854808335162592\n",
      "0 0.8713215681572799\n",
      "0 0.5571623027983006\n",
      "0 0.24300303743932128\n",
      "0.0 0.0\n",
      "0.27206990463513264 0.15707963267948966\n",
      "0.5441398092702653 0.3141592653589793\n",
      "0.816209713905398 0.47123889803846897\n",
      "1.0882796185405306 0.6283185307179586\n",
      "1.3603495231756633 0.7853981633974483\n",
      "1.632419427810796 0.9424777960769379\n",
      "1.9044893324459287 1.0995574287564276\n",
      "2.176559237081061 1.2566370614359172\n",
      "2.448629141716194 1.413716694115407\n",
      "2.7206990463513265 1.5707963267948966\n",
      "2.9927689509864592 1.7278759594743862\n",
      "[[ 1.41421356e+00+0.00000000e+00j  1.41421356e+00+0.00000000e+00j\n",
      "   8.01508491e-09+0.00000000e+00j  2.23078828e-17-8.79555908e-09j\n",
      "   2.23078584e-17+8.79555908e-09j -8.01508533e-09+0.00000000e+00j\n",
      "  -1.41421356e+00+0.00000000e+00j -1.41421356e+00+0.00000000e+00j]\n",
      " [ 1.40114831e+00-7.71951947e-17j  1.40114831e+00+6.33174069e-17j\n",
      "   3.43908929e-16+1.10272764e-01j  3.17744004e-16-1.10272764e-01j\n",
      "  -1.00990044e-16+1.10272764e-01j -2.11636264e-16-1.10272764e-01j\n",
      "  -1.40114831e+00+1.94289029e-16j -1.40114831e+00-9.02056208e-17j]\n",
      " [ 1.36219125e+00+1.80458166e-21j  1.36219125e+00+1.80458166e-21j\n",
      "   3.62213921e-16+2.15749899e-01j  3.08058385e-16-2.15749899e-01j\n",
      "  -1.90570330e-16-2.15749899e-01j -3.28333871e-16+2.15749899e-01j\n",
      "  -1.36219125e+00+2.77555756e-17j -1.36219125e+00+2.77555756e-17j]\n",
      " [ 1.29803665e+00+4.39576218e-17j  1.29803665e+00+1.81540075e-21j\n",
      "   7.24034234e-17-3.11631029e-01j -1.04010637e-16+3.11631029e-01j\n",
      "  -1.11698044e-16-3.11631029e-01j -1.82201915e-16+3.11631029e-01j\n",
      "  -1.29803665e+00+1.38777878e-17j -1.29803665e+00+0.00000000e+00j]\n",
      " [ 1.20976258e+00+3.66610951e-21j  1.20976258e+00-5.55111512e-17j\n",
      "   7.15370146e-17-3.93075689e-01j -1.26308417e-17+3.93075689e-01j\n",
      "  -9.19777505e-17-3.93075689e-01j -1.29225040e-16+3.93075689e-01j\n",
      "  -1.20976258e+00-3.66610951e-21j -1.20976258e+00+5.55111512e-17j]\n",
      " [ 1.09868411e+00+3.72248657e-21j  1.09868411e+00+3.72248657e-21j\n",
      "   1.92317961e-16+4.55089861e-01j  1.20610715e-16-4.55089861e-01j\n",
      "  -2.75014657e-17-4.55089861e-01j -9.71136239e-17+4.55089861e-01j\n",
      "  -1.09868411e+00+5.55111512e-17j -1.09868411e+00+1.66533454e-16j]\n",
      " [ 9.66062501e-01+3.81503245e-21j  9.66062501e-01+3.81503245e-21j\n",
      "   8.00182065e-17+4.92233430e-01j  3.43421038e-17-4.92233430e-01j\n",
      "  -5.84994835e-17-4.92233430e-01j -1.03604175e-16+4.92233430e-01j\n",
      "  -9.66062501e-01+1.66533454e-16j -9.66062501e-01-5.55111512e-17j]\n",
      " [ 8.12464075e-01+2.36357978e-16j  8.12464075e-01+3.97832426e-21j\n",
      "   6.76813206e-17+4.97878626e-01j  4.25007252e-17-4.97878626e-01j\n",
      "   2.06474326e-18+4.97878626e-01j -7.28423278e-17-4.97878626e-01j\n",
      "  -8.12464075e-01+5.55111512e-17j -8.12464075e-01-2.77555756e-16j]\n",
      " [ 6.36009825e-01-1.68657082e-17j  6.36009825e-01+4.30977021e-21j\n",
      "   8.76035355e-17-4.62088186e-01j  6.29506957e-17+4.62088186e-01j\n",
      "  -2.02520801e-17+4.62088186e-01j -5.89805982e-17-4.62088186e-01j\n",
      "  -6.36009825e-01-1.11022302e-16j -6.36009825e-01-2.77555756e-16j]\n",
      " [ 4.25330703e-01-1.42437435e-16j  4.25330703e-01-1.54590854e-16j\n",
      "   1.17961196e-16-3.63266738e-01j  7.32533750e-17+3.63266738e-01j\n",
      "  -1.41822231e-17+3.63266738e-01j -3.07913417e-17-3.63266738e-01j\n",
      "  -4.25330703e-01+5.55111512e-17j -4.25330703e-01-8.32667268e-17j]\n",
      " [ 1.19796493e-08+1.42603211e-10j  1.06749308e-09+9.01943755e-09j\n",
      "   6.85059375e-10-6.73142366e-09j  1.21655347e-12-1.23006983e-12j\n",
      "  -1.21671716e-12+1.23009900e-12j -6.85059553e-10+6.73142358e-09j\n",
      "  -1.06749304e-09-9.01943749e-09j -1.19796490e-08-1.42603107e-10j]\n",
      " [ 7.34036078e-09-1.21717054e-10j  3.81686957e-09-3.58137408e-09j\n",
      "   2.24041621e-09+9.40550157e-09j  1.51356740e-09-1.51356649e-09j\n",
      "  -1.51356694e-09+1.51356685e-09j -2.24041630e-09-9.40550177e-09j\n",
      "  -3.81686975e-09+3.58137376e-09j -7.34036105e-09+1.21717102e-10j]\n",
      " [ 1.21066977e-08+6.63804995e-09j  7.48007814e-09-8.13521813e-10j\n",
      "   2.62497882e-09-2.33356847e-09j  2.14057540e-09+1.06378552e-09j\n",
      "  -2.14057523e-09-1.06378555e-09j -2.62497902e-09+2.33356845e-09j\n",
      "  -7.48007847e-09+8.13521863e-10j -1.21066979e-08-6.63804968e-09j]\n",
      " [ 4.11306931e-09+8.56188662e-10j  3.06235632e-09-1.13502288e-08j\n",
      "   7.94202518e-10-9.29361777e-09j  1.58453385e-10+1.23010376e-08j\n",
      "  -1.58453629e-10-1.23010376e-08j -7.94202257e-10+9.29361802e-09j\n",
      "  -3.06235690e-09+1.13502286e-08j -4.11306947e-09-8.56188577e-10j]\n",
      " [ 1.04383628e-08+3.88005878e-09j  5.46942011e-09+6.07929223e-09j\n",
      "   8.46562325e-10-9.73257322e-09j  4.50628614e-10+6.28135163e-09j\n",
      "  -4.50628855e-10-6.28135164e-09j -8.46562290e-10+9.73257311e-09j\n",
      "  -5.46941974e-09-6.07929194e-09j -1.04383630e-08-3.88005894e-09j]\n",
      " [ 8.54967551e-09-1.07120638e-09j  6.87896699e-09+7.39508522e-10j\n",
      "   6.58766362e-09+2.03592749e-09j  5.58303624e-10+8.38547081e-09j\n",
      "  -5.58303545e-10-8.38547104e-09j -6.58766371e-09-2.03592746e-09j\n",
      "  -6.87896695e-09-7.39508438e-10j -8.54967546e-09+1.07120640e-09j]\n",
      " [ 3.91255496e-09-3.91255498e-09j  3.05857398e-09+7.20725506e-09j\n",
      "   2.15486615e-09-7.98237541e-09j  8.61058013e-10+1.25573593e-08j\n",
      "  -8.61057489e-10-1.25573595e-08j -2.15486622e-09+7.98237529e-09j\n",
      "  -3.05857389e-09-7.20725496e-09j -3.91255492e-09+3.91255496e-09j]\n",
      " [ 1.56434468e-01+7.26457036e-09j  1.56434466e-01-1.13305232e-08j\n",
      "   1.56434464e-01+1.13305233e-08j  1.56434462e-01-7.26457048e-09j\n",
      "  -1.56434462e-01+7.59021358e-09j -1.56434465e-01+8.22329201e-09j\n",
      "  -1.56434465e-01-8.22329214e-09j -1.56434468e-01-7.59021367e-09j]\n",
      " [ 3.09017006e-01+3.73239060e-09j  3.09017004e-01+4.16124262e-09j\n",
      "   3.09016984e-01-4.16124250e-09j  3.09016983e-01-3.73239055e-09j\n",
      "  -3.09016985e-01-7.37248984e-10j -3.09016987e-01-7.20823015e-09j\n",
      "  -3.09017002e-01+7.20822981e-09j -3.09017003e-01+7.37249006e-10j]\n",
      " [ 4.53990508e-01+7.64538686e-10j  4.53990507e-01-1.49899213e-08j\n",
      "   4.53990492e-01+1.49899212e-08j  4.53990492e-01-7.64538700e-10j\n",
      "  -4.53990490e-01+1.08583727e-09j -4.53990494e-01-1.03931087e-09j\n",
      "  -4.53990506e-01+1.03931057e-09j -4.53990509e-01-1.08583732e-09j]\n",
      " [ 5.87785255e-01+1.19842558e-08j  5.87785253e-01-1.61841290e-08j\n",
      "   5.87785252e-01+1.61841290e-08j  5.87785250e-01-1.19842559e-08j\n",
      "  -5.87785235e-01-2.72034569e-09j -5.87785239e-01-4.69404443e-09j\n",
      "  -5.87785266e-01+4.69404468e-09j -5.87785269e-01+2.72034592e-09j]\n",
      " [ 7.07106792e-01+7.66505653e-09j  7.07106787e-01+2.61382349e-09j\n",
      "   7.07106775e-01-2.61382339e-09j  7.07106771e-01-7.66505646e-09j\n",
      "  -7.07106768e-01+2.08311246e-09j -7.07106775e-01+3.54499979e-09j\n",
      "  -7.07106787e-01-3.54499967e-09j -7.07106794e-01-2.08311278e-09j]\n",
      " [ 8.09017006e-01+6.72302725e-09j  8.09016999e-01-1.92010839e-08j\n",
      "   8.09016989e-01+1.92010839e-08j  8.09016983e-01-6.72302704e-09j\n",
      "  -8.09016987e-01-9.30973335e-09j -8.09016994e-01+1.38972577e-08j\n",
      "  -8.09016995e-01-1.38972570e-08j -8.09017002e-01+9.30973345e-09j]\n",
      " [ 8.91006553e-01+7.93286395e-09j  8.91006535e-01-9.18575313e-10j\n",
      "   8.91006513e-01+9.18575275e-10j  8.91006495e-01-7.93286384e-09j\n",
      "  -8.91006510e-01+1.02349635e-08j -8.91006514e-01+1.72375220e-08j\n",
      "  -8.91006534e-01-1.72375224e-08j -8.91006539e-01-1.02349634e-08j]\n",
      " [ 9.51056535e-01-3.96572825e-09j  9.51056517e-01-1.74616322e-08j\n",
      "   9.51056516e-01+1.74616321e-08j  9.51056497e-01+3.96572838e-09j\n",
      "  -9.51056514e-01-6.35613462e-09j -9.51056514e-01+5.02460873e-09j\n",
      "  -9.51056519e-01-5.02460889e-09j -9.51056519e-01+6.35613432e-09j]\n",
      " [ 9.87688365e-01-3.12618618e-10j  9.87688345e-01-1.40381856e-08j\n",
      "   9.87688336e-01+1.40381855e-08j  9.87688316e-01+3.12618616e-10j\n",
      "  -9.87688317e-01+1.24552901e-09j -9.87688318e-01-1.16919293e-08j\n",
      "  -9.87688363e-01+1.16919293e-08j -9.87688364e-01-1.24552953e-09j]\n",
      " [ 1.00000003e+00-4.93160953e-10j  1.00000001e+00+1.53734490e-09j\n",
      "   9.99999993e-01-1.53734486e-09j  9.99999968e-01+4.93160955e-10j\n",
      "  -9.99999988e-01+3.59880691e-09j -9.99999993e-01+3.70157352e-09j\n",
      "  -1.00000001e+00-3.70157323e-09j -1.00000001e+00-3.59880672e-09j]\n",
      " [ 1.12637728e+00-7.66055438e-16j  1.12637728e+00+3.53883589e-16j\n",
      "   8.55145732e-01+8.08996620e-16j  8.55145732e-01-5.64571176e-16j\n",
      "  -8.55145732e-01+2.20758502e-16j -8.55145732e-01-1.42191313e-16j\n",
      "  -1.12637728e+00+4.15470218e-17j -1.12637728e+00-3.87511247e-16j]\n",
      " [ 1.23194250e+00+1.10154941e-16j  1.23194250e+00+5.03069808e-17j\n",
      "   6.94490946e-01-5.50393539e-17j  6.94490946e-01-1.08830181e-16j\n",
      "  -6.94490946e-01-5.23326866e-16j -6.94490946e-01-4.44089210e-16j\n",
      "  -1.23194250e+00+4.44089210e-16j -1.23194250e+00+1.73438466e-16j]\n",
      " [ 1.31474514e+00+3.78169718e-16j  1.31474514e+00+9.24937904e-17j\n",
      "   5.21004059e-01-4.75001571e-16j  5.21004059e-01+3.59955121e-17j\n",
      "  -5.21004059e-01-2.26080647e-16j -5.21004059e-01-1.66533454e-16j\n",
      "  -1.31474514e+00+2.94779876e-17j -1.31474514e+00+1.11022302e-16j]\n",
      " [ 1.37325524e+00+3.06449744e-16j  1.37325524e+00+2.12496922e-16j\n",
      "   3.37890587e-01-2.31171461e-16j  3.37890587e-01+1.61043709e-16j\n",
      "  -3.37890587e-01+0.00000000e+00j -3.37890587e-01-1.65958504e-17j\n",
      "  -1.37325524e+00-5.51681756e-16j -1.37325524e+00-4.56810720e-16j]\n",
      " [ 1.40639172e+00-2.19442520e-16j  1.40639172e+00+1.14771049e-16j\n",
      "   1.48533914e-01-2.22044605e-16j  1.48533914e-01+1.92987987e-16j\n",
      "  -1.48533914e-01-3.71251854e-16j -1.48533914e-01+1.66533454e-16j\n",
      "  -1.40639172e+00+2.22044605e-16j -1.40639172e+00+1.41968025e-16j]\n",
      " [ 1.41421356e+00+0.00000000e+00j  1.41421356e+00+0.00000000e+00j\n",
      "   8.01508491e-09+0.00000000e+00j  2.23078828e-17-8.79555908e-09j\n",
      "   2.23078584e-17+8.79555908e-09j -8.01508533e-09+0.00000000e+00j\n",
      "  -1.41421356e+00+0.00000000e+00j -1.41421356e+00+0.00000000e+00j]\n",
      " [ 1.40114836e+00-8.88178420e-16j  1.40114836e+00-8.43819422e-17j\n",
      "   3.50491939e-09+9.24874865e-09j  9.62187626e-10+1.83207432e-08j\n",
      "  -9.62187734e-10-1.83207433e-08j -3.50491903e-09-9.24874882e-09j\n",
      "  -1.40114836e+00-4.71844785e-16j -1.40114836e+00+6.61356476e-17j]\n",
      " [ 1.36219415e+00-1.80411242e-16j  1.36219415e+00+1.68268177e-16j\n",
      "   2.39593922e-09+8.18321500e-09j  2.14267895e-09-9.29984029e-09j\n",
      "  -2.14267872e-09+9.29984041e-09j -2.39593942e-09-8.18321512e-09j\n",
      "  -1.36219415e+00-1.94289029e-16j -1.36219415e+00-5.55111512e-16j]\n",
      " [ 1.29807070e+00-6.07153217e-18j  1.29807070e+00+2.22044605e-16j\n",
      "   8.92108294e-09-5.76574538e-09j  4.16266095e-09-1.48149412e-08j\n",
      "  -4.16266021e-09+1.48149413e-08j -8.92108328e-09+5.76574532e-09j\n",
      "  -1.29807070e+00-1.66533454e-16j -1.29807070e+00-3.33066907e-16j]\n",
      " [ 1.20996282e+00-1.42247325e-16j  1.20996282e+00-1.33519498e-16j\n",
      "   6.32784838e-09-6.39301786e-09j  3.16170828e-09-5.18278327e-09j\n",
      "  -3.16170838e-09+5.18278335e-09j -6.32784794e-09+6.39301801e-09j\n",
      "  -1.20996282e+00-3.81639165e-17j -1.20996282e+00+5.55111512e-17j]\n",
      " [ 1.09949846e+00-5.55111512e-17j  1.09949846e+00-2.81248820e-16j\n",
      "   8.19058407e-09+9.45633711e-09j  5.69718796e-09-3.52834324e-09j\n",
      "  -5.69718818e-09+3.52834323e-09j -8.19058418e-09-9.45633704e-09j\n",
      "  -1.09949846e+00+1.39645240e-16j -1.09949846e+00+2.39391840e-16j]\n",
      " [ 9.68718686e-01+1.73472348e-16j  9.68718686e-01-1.95307163e-16j\n",
      "   6.33156272e-09+4.44307907e-09j  4.65690861e-09-4.47489574e-09j\n",
      "  -4.65690880e-09+4.47489572e-09j -6.33156279e-09-4.44307896e-09j\n",
      "  -9.68718686e-01+1.49403059e-16j -9.68718686e-01-7.45931095e-17j]\n",
      " [ 8.20039907e-01+3.85108612e-16j  8.20039907e-01+7.93462932e-18j\n",
      "   3.86744155e-09-6.33381544e-09j  3.41227628e-09+6.42190305e-09j\n",
      "  -3.41227620e-09-6.42190307e-09j -3.86744168e-09+6.33381529e-09j\n",
      "  -8.20039907e-01+2.50539169e-16j -8.20039907e-01-9.62771529e-17j]\n",
      " [ 6.56209261e-01-1.97758476e-16j  6.56209261e-01-6.10622664e-16j\n",
      "   8.44728106e-09+6.93013016e-09j  2.78145279e-09+9.32948347e-09j\n",
      "  -2.78145355e-09-9.32948327e-09j -8.44728117e-09-6.93012991e-09j\n",
      "  -6.56209261e-01+6.34908792e-16j -6.56209261e-01-5.55111512e-17j]\n",
      " [ 4.80253844e-01+2.22044605e-16j  4.80253844e-01-1.34441069e-16j\n",
      "   1.09412714e-08-2.77771084e-09j  5.55204770e-09+3.38700663e-09j\n",
      "  -5.55204771e-09-3.38700663e-09j -1.09412710e-08+2.77771049e-09j\n",
      "  -4.80253844e-01+1.73472348e-16j -4.80253844e-01-1.34441069e-16j]\n",
      " [ 2.95424782e-01-1.24900090e-16j  2.95424782e-01+3.77736037e-16j\n",
      "   6.50641377e-09+4.41767039e-09j  2.72509474e-09-1.05104282e-08j\n",
      "  -2.72509502e-09+1.05104288e-08j -6.50641435e-09-4.41767089e-09j\n",
      "  -2.95424782e-01+5.89805982e-16j -2.95424782e-01-2.75821033e-16j]\n",
      " [ 1.05137160e-01-2.98372438e-16j  1.05137160e-01-8.40690365e-16j\n",
      "   2.67475974e-09+3.86843863e-09j  1.00673496e-09+7.65933987e-09j\n",
      "  -1.00673620e-09-7.65933961e-09j -2.67476059e-09-3.86843800e-09j\n",
      "  -1.05137160e-01+1.87350135e-16j -1.05137160e-01-4.25007252e-17j]]\n",
      "1.4142135623730956 -1.4142135623730956\n"
     ]
    },
    {
     "data": {
      "image/png": "[encoded data removed]",
      "text/plain": [
       "<Figure size 432x288 with 1 Axes>"
      ]
     },
     "metadata": {},
     "output_type": "display_data"
    }
   ],
   "source": [
    "smk.band_high_sym(Hlsw_num, cp_strg , 20)"
   ]
  },
  {
   "cell_type": "code",
   "execution_count": 1,
   "metadata": {},
   "outputs": [],
   "source": [
    "import numpy as np\n",
    "import sympy as sp\n",
    "import SpinModel_afm as smk\n",
    "from matplotlib.pyplot import subplots as spp\n",
    "from numpy import linalg as LA\n",
    "from sympy.physics.matrices import msigma"
   ]
  },
  {
   "cell_type": "code",
   "execution_count": null,
   "metadata": {},
   "outputs": [],
   "source": [
    "sigma_3 = np.diag([1, -1, 1, -1, 1, -1, 1, -1])"
   ]
  },
  {
   "cell_type": "code",
   "execution_count": null,
   "metadata": {},
   "outputs": [],
   "source": [
    "s0 = sp.Matrix([[1,0],[0,1]])\n",
    "s1 = msigma(1)\n",
    "s2 = msigma(2)\n",
    "s3 = msigma(3)"
   ]
  },
  {
   "cell_type": "code",
   "execution_count": null,
   "metadata": {},
   "outputs": [],
   "source": [
    "J1 = sp.Symbol(\"J1\", real=True)\n",
    "J2 = sp.Symbol(\"J2\", real=True)\n",
    "J3 = sp.Symbol(\"J3\", real=True)\n",
    "\n",
    "k1 = sp.Symbol(\"k1\", real=True)\n",
    "k2 = sp.Symbol(\"k2\", real=True)"
   ]
  },
  {
   "cell_type": "code",
   "execution_count": null,
   "metadata": {},
   "outputs": [],
   "source": [
    "k1=-0.5\n",
    "k2=-0.5\n",
    "q1 = -k1\n",
    "q2 = -k2"
   ]
  },
  {
   "cell_type": "code",
   "execution_count": null,
   "metadata": {
    "scrolled": true
   },
   "outputs": [],
   "source": [
    "A_k = -s0*(-2*J2*sp.cos(k1/2)+J1-2*J2-3*J3)+4*s1*(sp.cos(k2/2)*J2*sp.cos(k1/2))\n",
    "A_k"
   ]
  },
  {
   "cell_type": "code",
   "execution_count": null,
   "metadata": {},
   "outputs": [],
   "source": [
    "g_k = s0*(sp.exp(1j*k2/6)*2*J1*sp.cos(k1/2))+s1*(2*J3*sp.cos(k1)*sp.exp(-1j*k2/3)+J3*sp.exp(2*1j*k2/3)+J1)\n",
    "g_k"
   ]
  },
  {
   "cell_type": "code",
   "execution_count": null,
   "metadata": {},
   "outputs": [],
   "source": [
    "A_q = -s0*(-2*J2*sp.cos(-k1/2)+J1-2*J2-3*J3)+4*s1*(sp.cos(-k2/2)*J2*sp.cos(k1/2))\n",
    "A_q"
   ]
  },
  {
   "cell_type": "code",
   "execution_count": null,
   "metadata": {},
   "outputs": [],
   "source": [
    "g_q = sp.transpose(sp.conjugate(g_k))\n",
    "g_q"
   ]
  },
  {
   "cell_type": "code",
   "execution_count": null,
   "metadata": {
    "scrolled": true
   },
   "outputs": [],
   "source": [
    "H1 = sp.BlockMatrix([[A_k,g_k],[g_q,A_q]])\n",
    "H1"
   ]
  },
  {
   "cell_type": "code",
   "execution_count": null,
   "metadata": {
    "scrolled": true
   },
   "outputs": [],
   "source": [
    "sp.matrices.dense.matrix2numpy(H1.subs([(k1, 1), (k2, 2)])).astype(complex)"
   ]
  },
  {
   "cell_type": "code",
   "execution_count": null,
   "metadata": {},
   "outputs": [],
   "source": [
    "s0 = sp.Matrix([[1,0],[0,1]])\n",
    "s1 = sp.Matrix([[0,1],[1,0]])\n",
    "s2 = sp.Matrix([[0,-1j],[1j,0]])\n",
    "s3 = sp.Matrix([[1,0],[0,-1]])"
   ]
  },
  {
   "cell_type": "code",
   "execution_count": null,
   "metadata": {},
   "outputs": [],
   "source": [
    "J1=1\n",
    "J2=0.8\n",
    "J3=0.8\n",
    "\n",
    "k1=-0.5\n",
    "k2=-0.5\n",
    "q1 = -k1\n",
    "q2 = -k2"
   ]
  },
  {
   "cell_type": "code",
   "execution_count": null,
   "metadata": {},
   "outputs": [],
   "source": [
    "A_k = -s0*(-2*J2*np.cos(k1/2)+J1-2*J2-3*J3)+4*s1*(np.cos(k2/2)*J2*np.cos(k1/2))\n",
    "g_k = s0*(np.exp(1j*k2/6)*2*J1*np.cos(k1/2))+s1*(2*J3*np.cos(k1)*np.exp(-1j*k2/3)+J3*np.exp(2*1j*k2/3)+J1)\n",
    "A_q = -s0*(-2*J2*np.cos(k1/2)+J1-2*J2-3*J3)+4*s1*(np.cos(k2/2)*J2*np.cos(k1/2))\n",
    "g_q = np.transpose(np.conjugate(g_k))\n",
    "H1 = np.block([[A_k,g_k],[g_q,A_q]])\n",
    "H1"
   ]
  },
  {
   "cell_type": "code",
   "execution_count": null,
   "metadata": {},
   "outputs": [],
   "source": [
    "A_k = -s0*(-2*J2*np.cos(k1/2)+J1-2*J2-3*J3)+4*s1*(np.cos(k2/2)*J2*np.cos(k1/2))\n",
    "g_k = s0*(np.exp(1j*k2/6)*2*J1*np.cos(k1/2))+s1*(2*J3*np.cos(k1)*np.exp(-1j*k2/3)+J3*np.exp(2*1j*k2/3)+J1)\n",
    "A_q = -s0*(-2*J2*np.cos(k1/2)+J1-2*J2-3*J3)+4*s1*(np.cos(k2/2)*J2*np.cos(k1/2))\n",
    "g_q = np.transpose(np.conjugate(g_k))\n",
    "H2 = np.transpose(np.block([[A_k,g_k],[g_q,A_q]]))\n",
    "H2"
   ]
  },
  {
   "cell_type": "markdown",
   "metadata": {},
   "source": [
    "# particel-hole symmetry"
   ]
  },
  {
   "cell_type": "code",
   "execution_count": null,
   "metadata": {},
   "outputs": [],
   "source": [
    "import numpy.linalg as LA"
   ]
  },
  {
   "cell_type": "code",
   "execution_count": null,
   "metadata": {},
   "outputs": [],
   "source": [
    "q = sp.Symbol(\"\", real=True)"
   ]
  },
  {
   "cell_type": "code",
   "execution_count": null,
   "metadata": {},
   "outputs": [],
   "source": [
    "C"
   ]
  },
  {
   "cell_type": "code",
   "execution_count": null,
   "metadata": {},
   "outputs": [],
   "source": []
  }
 ],
 "metadata": {
  "kernelspec": {
   "display_name": "Python 3",
   "language": "python",
   "name": "python3"
  },
  "language_info": {
   "codemirror_mode": {
    "name": "ipython",
    "version": 3
   },
   "file_extension": ".py",
   "mimetype": "text/x-python",
   "name": "python",
   "nbconvert_exporter": "python",
   "pygments_lexer": "ipython3",
   "version": "3.9.1"
  }
 },
 "nbformat": 4,
 "nbformat_minor": 5
}
