{
 "cells": [
  {
   "cell_type": "code",
   "execution_count": 1,
   "id": "ba44c981e6cd5faa",
   "metadata": {
    "ExecuteTime": {
     "end_time": "2024-06-06T03:54:34.883952Z",
     "start_time": "2024-06-06T03:54:31.947979Z"
    }
   },
   "outputs": [],
   "source": [
    "import sympy as sp\n",
    "import numpy as np\n",
    "from matplotlib.pyplot import subplots as spp\n",
    "from numpy import linalg as LA\n",
    "from sympy.physics.matrices import msigma"
   ]
  },
  {
   "cell_type": "code",
   "execution_count": 2,
   "id": "a5db653b10afe1a1",
   "metadata": {
    "ExecuteTime": {
     "end_time": "2024-06-06T03:54:37.151796Z",
     "start_time": "2024-06-06T03:54:37.136202Z"
    }
   },
   "outputs": [],
   "source": [
    "def distri224(H, Hsub, a, b):\n",
    "    lat = {'0': a, '1': b}\n",
    "    l=0\n",
    "    while l<2:\n",
    "        ll=0\n",
    "        while ll<2:\n",
    "            i=0\n",
    "            while i<2:\n",
    "                j=0\n",
    "                while j<2:\n",
    "                    H[lat[f'{l}']+i*4,lat[f'{ll}']+j*4] = H[lat[f'{l}']+i*4,lat[f'{ll}']+j*4] + Hsub[0+i*2+l,0+j*2+ll]\n",
    "                    j+=1\n",
    "                i+=1\n",
    "            ll+=1\n",
    "        l+=1\n"
   ]
  },
  {
   "cell_type": "code",
   "execution_count": 3,
   "metadata": {},
   "outputs": [
    {
     "data": {
      "text/latex": [
       "$\\displaystyle \\left[\\begin{matrix}11 & 12 & 0 & 0 & 13 & 14 & 0 & 0\\\\21 & 22 & 0 & 0 & 23 & 24 & 0 & 0\\\\0 & 0 & 0 & 0 & 0 & 0 & 0 & 0\\\\0 & 0 & 0 & 0 & 0 & 0 & 0 & 0\\\\31 & 32 & 0 & 0 & 33 & 34 & 0 & 0\\\\41 & 42 & 0 & 0 & 43 & 44 & 0 & 0\\\\0 & 0 & 0 & 0 & 0 & 0 & 0 & 0\\\\0 & 0 & 0 & 0 & 0 & 0 & 0 & 0\\end{matrix}\\right]$"
      ],
      "text/plain": [
       "Matrix([\n",
       "[11, 12, 0, 0, 13, 14, 0, 0],\n",
       "[21, 22, 0, 0, 23, 24, 0, 0],\n",
       "[ 0,  0, 0, 0,  0,  0, 0, 0],\n",
       "[ 0,  0, 0, 0,  0,  0, 0, 0],\n",
       "[31, 32, 0, 0, 33, 34, 0, 0],\n",
       "[41, 42, 0, 0, 43, 44, 0, 0],\n",
       "[ 0,  0, 0, 0,  0,  0, 0, 0],\n",
       "[ 0,  0, 0, 0,  0,  0, 0, 0]])"
      ]
     },
     "execution_count": 3,
     "metadata": {},
     "output_type": "execute_result"
    }
   ],
   "source": [
    "H = sp.zeros(8, 8)\n",
    "Hsub = sp.Matrix([[11,12,13,14],[21,22,23,24],[31,32,33,34],[41,42,43,44]])\n",
    "distri224(H, Hsub, 0,1)\n",
    "H"
   ]
  },
  {
   "cell_type": "code",
   "execution_count": 4,
   "metadata": {},
   "outputs": [
    {
     "data": {
      "text/latex": [
       "$\\displaystyle \\left[\\begin{matrix}22 & 21 & 0 & 0 & 24 & 23 & 0 & 0\\\\12 & 11 & 0 & 0 & 14 & 13 & 0 & 0\\\\0 & 0 & 0 & 0 & 0 & 0 & 0 & 0\\\\0 & 0 & 0 & 0 & 0 & 0 & 0 & 0\\\\42 & 41 & 0 & 0 & 44 & 43 & 0 & 0\\\\32 & 31 & 0 & 0 & 34 & 33 & 0 & 0\\\\0 & 0 & 0 & 0 & 0 & 0 & 0 & 0\\\\0 & 0 & 0 & 0 & 0 & 0 & 0 & 0\\end{matrix}\\right]$"
      ],
      "text/plain": [
       "Matrix([\n",
       "[22, 21, 0, 0, 24, 23, 0, 0],\n",
       "[12, 11, 0, 0, 14, 13, 0, 0],\n",
       "[ 0,  0, 0, 0,  0,  0, 0, 0],\n",
       "[ 0,  0, 0, 0,  0,  0, 0, 0],\n",
       "[42, 41, 0, 0, 44, 43, 0, 0],\n",
       "[32, 31, 0, 0, 34, 33, 0, 0],\n",
       "[ 0,  0, 0, 0,  0,  0, 0, 0],\n",
       "[ 0,  0, 0, 0,  0,  0, 0, 0]])"
      ]
     },
     "execution_count": 4,
     "metadata": {},
     "output_type": "execute_result"
    }
   ],
   "source": [
    "H = sp.zeros(8, 8)\n",
    "Hsub = sp.Matrix([[11,12,13,14],[21,22,23,24],[31,32,33,34],[41,42,43,44]])\n",
    "distri224(H, Hsub, 1,0)\n",
    "H"
   ]
  },
  {
   "cell_type": "code",
   "execution_count": 5,
   "metadata": {},
   "outputs": [
    {
     "data": {
      "text/latex": [
       "$\\displaystyle \\left[\\begin{matrix}0 & 0 & 0 & 0 & 0 & 0 & 0 & 0\\\\0 & 0 & 0 & 0 & 0 & 0 & 0 & 0\\\\0 & 0 & 22 & 21 & 0 & 0 & 24 & 23\\\\0 & 0 & 12 & 11 & 0 & 0 & 14 & 13\\\\0 & 0 & 0 & 0 & 0 & 0 & 0 & 0\\\\0 & 0 & 0 & 0 & 0 & 0 & 0 & 0\\\\0 & 0 & 42 & 41 & 0 & 0 & 44 & 43\\\\0 & 0 & 32 & 31 & 0 & 0 & 34 & 33\\end{matrix}\\right]$"
      ],
      "text/plain": [
       "Matrix([\n",
       "[0, 0,  0,  0, 0, 0,  0,  0],\n",
       "[0, 0,  0,  0, 0, 0,  0,  0],\n",
       "[0, 0, 22, 21, 0, 0, 24, 23],\n",
       "[0, 0, 12, 11, 0, 0, 14, 13],\n",
       "[0, 0,  0,  0, 0, 0,  0,  0],\n",
       "[0, 0,  0,  0, 0, 0,  0,  0],\n",
       "[0, 0, 42, 41, 0, 0, 44, 43],\n",
       "[0, 0, 32, 31, 0, 0, 34, 33]])"
      ]
     },
     "execution_count": 5,
     "metadata": {},
     "output_type": "execute_result"
    }
   ],
   "source": [
    "H = sp.zeros(8, 8)\n",
    "Hsub = sp.Matrix([[11,12,13,14],[21,22,23,24],[31,32,33,34],[41,42,43,44]])\n",
    "distri224(H, Hsub, 3,2)\n",
    "H"
   ]
  },
  {
   "cell_type": "code",
   "execution_count": 6,
   "metadata": {
    "scrolled": true
   },
   "outputs": [
    {
     "data": {
      "text/latex": [
       "$\\displaystyle \\left[\\begin{matrix}0 & 0 & 0 & 0 & 0 & 0 & 0 & 0\\\\0 & 11 & 12 & 0 & 0 & 13 & 14 & 0\\\\0 & 21 & 22 & 0 & 0 & 23 & 24 & 0\\\\0 & 0 & 0 & 0 & 0 & 0 & 0 & 0\\\\0 & 0 & 0 & 0 & 0 & 0 & 0 & 0\\\\0 & 31 & 32 & 0 & 0 & 33 & 34 & 0\\\\0 & 41 & 42 & 0 & 0 & 43 & 44 & 0\\\\0 & 0 & 0 & 0 & 0 & 0 & 0 & 0\\end{matrix}\\right]$"
      ],
      "text/plain": [
       "Matrix([\n",
       "[0,  0,  0, 0, 0,  0,  0, 0],\n",
       "[0, 11, 12, 0, 0, 13, 14, 0],\n",
       "[0, 21, 22, 0, 0, 23, 24, 0],\n",
       "[0,  0,  0, 0, 0,  0,  0, 0],\n",
       "[0,  0,  0, 0, 0,  0,  0, 0],\n",
       "[0, 31, 32, 0, 0, 33, 34, 0],\n",
       "[0, 41, 42, 0, 0, 43, 44, 0],\n",
       "[0,  0,  0, 0, 0,  0,  0, 0]])"
      ]
     },
     "execution_count": 6,
     "metadata": {},
     "output_type": "execute_result"
    }
   ],
   "source": [
    "H = sp.zeros(8, 8)\n",
    "Hsub = sp.Matrix([[11,12,13,14],[21,22,23,24],[31,32,33,34],[41,42,43,44]])\n",
    "distri224(H, Hsub, 1,2)\n",
    "H"
   ]
  },
  {
   "cell_type": "code",
   "execution_count": 7,
   "metadata": {},
   "outputs": [
    {
     "data": {
      "text/latex": [
       "$\\displaystyle \\left[\\begin{matrix}22 & 0 & 0 & 21 & 24 & 0 & 0 & 23\\\\0 & 0 & 0 & 0 & 0 & 0 & 0 & 0\\\\0 & 0 & 0 & 0 & 0 & 0 & 0 & 0\\\\12 & 0 & 0 & 11 & 14 & 0 & 0 & 13\\\\42 & 0 & 0 & 41 & 44 & 0 & 0 & 43\\\\0 & 0 & 0 & 0 & 0 & 0 & 0 & 0\\\\0 & 0 & 0 & 0 & 0 & 0 & 0 & 0\\\\32 & 0 & 0 & 31 & 34 & 0 & 0 & 33\\end{matrix}\\right]$"
      ],
      "text/plain": [
       "Matrix([\n",
       "[22, 0, 0, 21, 24, 0, 0, 23],\n",
       "[ 0, 0, 0,  0,  0, 0, 0,  0],\n",
       "[ 0, 0, 0,  0,  0, 0, 0,  0],\n",
       "[12, 0, 0, 11, 14, 0, 0, 13],\n",
       "[42, 0, 0, 41, 44, 0, 0, 43],\n",
       "[ 0, 0, 0,  0,  0, 0, 0,  0],\n",
       "[ 0, 0, 0,  0,  0, 0, 0,  0],\n",
       "[32, 0, 0, 31, 34, 0, 0, 33]])"
      ]
     },
     "execution_count": 7,
     "metadata": {},
     "output_type": "execute_result"
    }
   ],
   "source": [
    "H = sp.zeros(8, 8)\n",
    "Hsub = sp.Matrix([[11,12,13,14],[21,22,23,24],[31,32,33,34],[41,42,43,44]])\n",
    "distri224(H, Hsub, 3,0)\n",
    "H"
   ]
  },
  {
   "cell_type": "code",
   "execution_count": 8,
   "metadata": {},
   "outputs": [
    {
     "data": {
      "text/latex": [
       "$\\displaystyle \\left[\\begin{matrix}0 & 0 & 0 & 0 & 0 & 0 & 0 & 0\\\\0 & 11 & 0 & 12 & 0 & 13 & 0 & 14\\\\0 & 0 & 0 & 0 & 0 & 0 & 0 & 0\\\\0 & 21 & 0 & 22 & 0 & 23 & 0 & 24\\\\0 & 0 & 0 & 0 & 0 & 0 & 0 & 0\\\\0 & 31 & 0 & 32 & 0 & 33 & 0 & 34\\\\0 & 0 & 0 & 0 & 0 & 0 & 0 & 0\\\\0 & 41 & 0 & 42 & 0 & 43 & 0 & 44\\end{matrix}\\right]$"
      ],
      "text/plain": [
       "Matrix([\n",
       "[0,  0, 0,  0, 0,  0, 0,  0],\n",
       "[0, 11, 0, 12, 0, 13, 0, 14],\n",
       "[0,  0, 0,  0, 0,  0, 0,  0],\n",
       "[0, 21, 0, 22, 0, 23, 0, 24],\n",
       "[0,  0, 0,  0, 0,  0, 0,  0],\n",
       "[0, 31, 0, 32, 0, 33, 0, 34],\n",
       "[0,  0, 0,  0, 0,  0, 0,  0],\n",
       "[0, 41, 0, 42, 0, 43, 0, 44]])"
      ]
     },
     "execution_count": 8,
     "metadata": {},
     "output_type": "execute_result"
    }
   ],
   "source": [
    "H = sp.zeros(8, 8)\n",
    "Hsub = sp.Matrix([[11,12,13,14],[21,22,23,24],[31,32,33,34],[41,42,43,44]])\n",
    "distri224(H, Hsub, 1,3)\n",
    "H"
   ]
  },
  {
   "cell_type": "code",
   "execution_count": 9,
   "metadata": {
    "scrolled": true
   },
   "outputs": [
    {
     "data": {
      "text/latex": [
       "$\\displaystyle \\left[\\begin{matrix}0 & 0 & 0 & 0 & 0 & 0 & 0 & 0\\\\0 & 22 & 0 & 21 & 0 & 24 & 0 & 23\\\\0 & 0 & 0 & 0 & 0 & 0 & 0 & 0\\\\0 & 12 & 0 & 11 & 0 & 14 & 0 & 13\\\\0 & 0 & 0 & 0 & 0 & 0 & 0 & 0\\\\0 & 42 & 0 & 41 & 0 & 44 & 0 & 43\\\\0 & 0 & 0 & 0 & 0 & 0 & 0 & 0\\\\0 & 32 & 0 & 31 & 0 & 34 & 0 & 33\\end{matrix}\\right]$"
      ],
      "text/plain": [
       "Matrix([\n",
       "[0,  0, 0,  0, 0,  0, 0,  0],\n",
       "[0, 22, 0, 21, 0, 24, 0, 23],\n",
       "[0,  0, 0,  0, 0,  0, 0,  0],\n",
       "[0, 12, 0, 11, 0, 14, 0, 13],\n",
       "[0,  0, 0,  0, 0,  0, 0,  0],\n",
       "[0, 42, 0, 41, 0, 44, 0, 43],\n",
       "[0,  0, 0,  0, 0,  0, 0,  0],\n",
       "[0, 32, 0, 31, 0, 34, 0, 33]])"
      ]
     },
     "execution_count": 9,
     "metadata": {},
     "output_type": "execute_result"
    }
   ],
   "source": [
    "H = sp.zeros(8, 8)\n",
    "Hsub = sp.Matrix([[11,12,13,14],[21,22,23,24],[31,32,33,34],[41,42,43,44]])\n",
    "distri224(H, Hsub, 3,1)\n",
    "H"
   ]
  },
  {
   "cell_type": "code",
   "execution_count": 10,
   "id": "db7ab77057d9108d",
   "metadata": {
    "ExecuteTime": {
     "end_time": "2024-06-06T03:54:38.859820Z",
     "start_time": "2024-06-06T03:54:38.784423Z"
    }
   },
   "outputs": [],
   "source": [
    "a_i = sp.symbols(\"a1:3\")  # Bravais lattice vectors\n",
    "a = sp.Symbol(\"a\", real=True)\n",
    "I = sp.I\n",
    "pi = sp.pi\n",
    "hb = sp.Symbol(\"ℏ\", real=True)\n",
    "S = sp.Symbol(\"S\", real=True)\n",
    "\n",
    "J = sp.Symbol(\"J\", real=True)  # Heisenberg coupling\n",
    "K = sp.Symbol(\"K\", real=True)  # Kitaev coupling\n",
    "Gamma = sp.Symbol(\"Γ\", real=True)\n",
    "gamma = sp.Symbol(\"Γ'\", real=True)\n",
    "h = sp.Symbol(\"h\", real=True)\n",
    "# up-up couplings\n",
    "theta =0\n",
    "phi = 0"
   ]
  },
  {
   "cell_type": "code",
   "execution_count": 11,
   "metadata": {},
   "outputs": [],
   "source": [
    "Theta = theta\n",
    "Phi = phi\n",
    "uni = sp.Matrix([[np.cos(Theta/2),np.sin(Theta / 2)],[np.sin(Theta/2)*np.exp(1j*Phi),-np.cos(Theta / 2) * np.exp(1j * Phi)]])\n",
    "uni_dag = sp.transpose(sp.conjugate(uni))\n",
    "\n",
    "\n",
    "pxd = sp.simplify(uni_dag*msigma(1)*uni)\n",
    "pyd = sp.simplify(uni_dag*msigma(2)*uni)\n",
    "pzd = sp.simplify(uni_dag * msigma(3) * uni)\n",
    "\n",
    "V1 = sp.simplify(sp.Matrix([(pxd[0, 1] + pxd[1, 0]) / 2, (pxd[1, 0] - pxd[0, 1]) / (2 * I), (pxd[0, 0] - pxd[1, 1]) / 2]))\n",
    "V2 = sp.simplify(sp.Matrix([(pyd[0, 1] + pyd[1, 0]) / 2, (pyd[1, 0] - pyd[0, 1]) / (2 * I), (pyd[0, 0] - pyd[1, 1]) / 2]))\n",
    "V3 = sp.simplify(sp.Matrix([(pzd[0, 1] + pzd[1, 0]) / 2, (pzd[1, 0] - pzd[0, 1]) / (2 * I), (pzd[0, 0] - pzd[1, 1]) / 2]))"
   ]
  },
  {
   "cell_type": "code",
   "execution_count": 12,
   "metadata": {},
   "outputs": [],
   "source": [
    "Hberg_uu = V1 * sp.Transpose(V1) + V2 * sp.Transpose(V2) + V3 * sp.Transpose(V3)\n",
    "\n",
    "IsingXX_uu = V1 * sp.Transpose(V1)\n",
    "IsingZZ_uu = V3 * sp.Transpose(V3)\n",
    "\n",
    "XY_uu = V1 * sp.Transpose(V2)\n",
    "XZ_uu = V1 * sp.Transpose(V3)\n",
    "YX_uu = V2 * sp.Transpose(V1)\n",
    "YZ_uu = V2 * sp.Transpose(V3)\n",
    "ZX_uu = V3 * sp.Transpose(V1)\n",
    "ZY_uu = V3 * sp.Transpose(V2)\n",
    "\n",
    "Hx_uu = 2 * K * IsingXX_uu + J * Hberg_uu + Gamma * (YZ_uu + ZY_uu) + gamma * (YX_uu + ZX_uu + XY_uu + XZ_uu)\n",
    "Hz_uu = 2 * K * IsingZZ_uu + J * Hberg_uu + Gamma * (XY_uu + YX_uu) + gamma * (XZ_uu + YZ_uu + ZX_uu + ZY_uu)\n",
    "\n",
    "e = sp.Symbol(\"e\")\n",
    "f = sp.Symbol(\"f\")\n",
    "g = sp.Symbol(\"g\")\n",
    "h = sp.Symbol(\"h\")\n",
    "n_i = sp.Symbol(\"𝑛𝑖\")\n",
    "n_j = sp.Symbol(\"𝑛𝑗\")\n",
    "\n",
    "HPXX = 1 / sp.Integer(2) * (e + f + g + h)\n",
    "HPYY = -1 / sp.Integer(2) * (e - f - g + h)\n",
    "HPZZ = (S - n_i - n_j)\n",
    "HPXY = 1 / (2 * I) * (e - f + g - h)\n",
    "HPYX = 1 / (2 * I) * (e + f - g - h)\n",
    "\n",
    "    # for now we didn't how to calculate single a, a+...\n",
    "HPXZ = 0\n",
    "HPYZ = 0\n",
    "HPZX = 0\n",
    "HPZY = 0\n",
    "\n",
    "HPbosons = sp.Matrix([[HPXX, HPXY, HPXZ], [HPYX, HPYY, HPYZ], [HPZX, HPZY,\n",
    "                                                                   HPZZ]])\n",
    "o = sp.Integer(0)\n",
    "ii = sp.Integer(1)"
   ]
  },
  {
   "cell_type": "code",
   "execution_count": 13,
   "id": "b4b1a3b24d44f148",
   "metadata": {
    "ExecuteTime": {
     "end_time": "2024-06-06T04:12:22.709814Z",
     "start_time": "2024-06-06T04:12:22.277910Z"
    }
   },
   "outputs": [],
   "source": [
    "Theta = np.pi-theta\n",
    "Phi = phi\n",
    "uni = sp.Matrix([[np.cos(Theta/2),np.sin(Theta / 2)],[np.sin(Theta/2)*np.exp(1j*Phi),-np.cos(Theta / 2) * np.exp(1j * Phi)]])\n",
    "uni_dag = sp.transpose(sp.conjugate(uni))\n",
    "\n",
    "\n",
    "pxd = sp.simplify(uni_dag*msigma(1)*uni)\n",
    "pyd = sp.simplify(uni_dag*msigma(2)*uni)\n",
    "pzd = sp.simplify(uni_dag * msigma(3) * uni)\n",
    "\n",
    "W1 = sp.simplify(sp.Matrix([(pxd[0, 1] + pxd[1, 0]) / 2, (pxd[1, 0] - pxd[0, 1]) / (2 * I), (pxd[0, 0] - pxd[1, 1]) / 2]))\n",
    "W2 = sp.simplify(sp.Matrix([(pyd[0, 1] + pyd[1, 0]) / 2, (pyd[1, 0] - pyd[0, 1]) / (2 * I), (pyd[0, 0] - pyd[1, 1]) / 2]))\n",
    "W3 = sp.simplify(sp.Matrix([(pzd[0, 1] + pzd[1, 0]) / 2, (pzd[1, 0] - pzd[0, 1]) / (2 * I), (pzd[0, 0] - pzd[1, 1]) / 2]))"
   ]
  },
  {
   "cell_type": "code",
   "execution_count": 14,
   "id": "8d85a2c2b347fa6d",
   "metadata": {
    "ExecuteTime": {
     "end_time": "2024-06-06T04:12:24.186958Z",
     "start_time": "2024-06-06T04:12:24.172915Z"
    }
   },
   "outputs": [
    {
     "data": {
      "text/latex": [
       "$\\displaystyle \\left[\\begin{matrix}1.0\\\\0\\\\1.22464679914735 \\cdot 10^{-16}\\end{matrix}\\right]$"
      ],
      "text/plain": [
       "Matrix([\n",
       "[                 1.0],\n",
       "[                   0],\n",
       "[1.22464679914735e-16]])"
      ]
     },
     "execution_count": 14,
     "metadata": {},
     "output_type": "execute_result"
    }
   ],
   "source": [
    "W1"
   ]
  },
  {
   "cell_type": "code",
   "execution_count": 15,
   "id": "68031cbd7f4a09f9",
   "metadata": {
    "ExecuteTime": {
     "end_time": "2024-06-06T04:12:40.626055Z",
     "start_time": "2024-06-06T04:12:40.612941Z"
    }
   },
   "outputs": [
    {
     "data": {
      "text/latex": [
       "$\\displaystyle \\left[\\begin{matrix}0\\\\-1.0\\\\0\\end{matrix}\\right]$"
      ],
      "text/plain": [
       "Matrix([\n",
       "[   0],\n",
       "[-1.0],\n",
       "[   0]])"
      ]
     },
     "execution_count": 15,
     "metadata": {},
     "output_type": "execute_result"
    }
   ],
   "source": [
    "W2"
   ]
  },
  {
   "cell_type": "code",
   "execution_count": 16,
   "id": "a00afe317ec87cb",
   "metadata": {
    "ExecuteTime": {
     "end_time": "2024-06-06T04:12:52.651725Z",
     "start_time": "2024-06-06T04:12:52.638553Z"
    }
   },
   "outputs": [
    {
     "data": {
      "text/latex": [
       "$\\displaystyle \\left[\\begin{matrix}1.22464679914735 \\cdot 10^{-16}\\\\0\\\\-1.0\\end{matrix}\\right]$"
      ],
      "text/plain": [
       "Matrix([\n",
       "[1.22464679914735e-16],\n",
       "[                   0],\n",
       "[                -1.0]])"
      ]
     },
     "execution_count": 16,
     "metadata": {},
     "output_type": "execute_result"
    }
   ],
   "source": [
    "W3"
   ]
  },
  {
   "cell_type": "code",
   "execution_count": 17,
   "id": "78726157ca972bf2",
   "metadata": {
    "ExecuteTime": {
     "end_time": "2024-06-06T04:23:26.235545Z",
     "start_time": "2024-06-06T04:23:26.161986Z"
    }
   },
   "outputs": [],
   "source": [
    "######################################################################\n",
    "# down-up couplings\n",
    "Hberg = W1 * sp.Transpose(V1) + W2 * sp.Transpose(V2) + W3 * sp.Transpose(V3)\n",
    "\n",
    "IsingXX = W1 * sp.Transpose(V1)\n",
    "IsingYY = W2 * sp.Transpose(V2)\n",
    "IsingZZ = W3 * sp.Transpose(V3)\n",
    "\n",
    "XY = W1 * sp.Transpose(V2)\n",
    "XZ = W1 * sp.Transpose(V3)\n",
    "YX = W2 * sp.Transpose(V1)\n",
    "YZ = W2 * sp.Transpose(V3)\n",
    "ZX = W3 * sp.Transpose(V1)\n",
    "ZY = W3 * sp.Transpose(V2)\n",
    "\n",
    "Hx_du = 2 * K * IsingXX + J * Hberg + Gamma * (YZ + ZY) + gamma * (YX + ZX + XY + XZ)\n",
    "Hy_du = 2 * K * IsingYY + J * Hberg + Gamma * (XZ + ZX) + gamma * (YZ + YX + ZY + XY)\n",
    "Hz_du = 2 * K * IsingZZ + J * Hberg + Gamma * (XY + YX) + gamma * (XZ + YZ + ZX + ZY)\n",
    "\n",
    "################################################################\n",
    "HPHx_du = sp.Integer(0)\n",
    "\n",
    "i = 0\n",
    "while i < 3:\n",
    "    j = 0\n",
    "    while j < 3:\n",
    "        HPHx_du = HPHx_du + Hx_du[i, j] * HPbosons[i, j]\n",
    "        j += 1\n",
    "    i += 1\n",
    "\n",
    "HPHx_du = HPHx_du.expand()\n",
    "\n",
    "Coef_HPHx_du = sp.Matrix([o, o, o, o, o, o])\n",
    "Coef_HPHx_du[0, 0] = HPHx_du.coeff(e)\n",
    "Coef_HPHx_du[1, 0] = HPHx_du.coeff(f)\n",
    "Coef_HPHx_du[2, 0] = HPHx_du.coeff(g)\n",
    "Coef_HPHx_du[3, 0] = HPHx_du.coeff(h)\n",
    "Coef_HPHx_du[4, 0] = HPHx_du.coeff(n_i)\n",
    "Coef_HPHx_du[5, 0] = HPHx_du.coeff(n_j)\n",
    "\n",
    "Mat_Coef_HPHx_du = sp.Matrix([\n",
    "    [Coef_HPHx_du[4, 0], Coef_HPHx_du[2, 0], o, Coef_HPHx_du[3, 0]],\n",
    "    [Coef_HPHx_du[1, 0], Coef_HPHx_du[5, 0], Coef_HPHx_du[3, 0], o],\n",
    "    [o, Coef_HPHx_du[0, 0], Coef_HPHx_du[5, 0], Coef_HPHx_du[2, 0]],\n",
    "    [Coef_HPHx_du[0, 0], o, Coef_HPHx_du[1, 0], Coef_HPHx_du[4, 0]]\n",
    "    ])\n",
    "\n",
    "################################################################\n",
    "HPHy_du = sp.Integer(0)\n",
    "\n",
    "i = 0\n",
    "while i < 3:\n",
    "    j = 0\n",
    "    while j < 3:\n",
    "        HPHy_du = HPHy_du + Hy_du[i, j] * HPbosons[i, j]\n",
    "        j += 1\n",
    "    i += 1\n",
    "\n",
    "HPHy_du = HPHy_du.expand()\n",
    "\n",
    "Coef_HPHy_du = sp.Matrix([o, o, o, o, o, o])\n",
    "Coef_HPHy_du[0, 0] = HPHy_du.coeff(e)\n",
    "Coef_HPHy_du[1, 0] = HPHy_du.coeff(f)\n",
    "Coef_HPHy_du[2, 0] = HPHy_du.coeff(g)\n",
    "Coef_HPHy_du[3, 0] = HPHy_du.coeff(h)\n",
    "Coef_HPHy_du[4, 0] = HPHy_du.coeff(n_i)\n",
    "Coef_HPHy_du[5, 0] = HPHy_du.coeff(n_j)\n",
    "\n",
    "Mat_Coef_HPHy_du = sp.Matrix([\n",
    "    [Coef_HPHy_du[4, 0], Coef_HPHy_du[2, 0], o, Coef_HPHy_du[3, 0]],\n",
    "    [Coef_HPHy_du[1, 0], Coef_HPHy_du[5, 0], Coef_HPHy_du[3, 0], o],\n",
    "    [o, Coef_HPHy_du[0, 0], Coef_HPHy_du[5, 0], Coef_HPHy_du[2, 0]],\n",
    "    [Coef_HPHy_du[0, 0], o, Coef_HPHy_du[1, 0], Coef_HPHy_du[4, 0]]\n",
    "    ])\n",
    "\n",
    "\n",
    "################################################################\n",
    "HPHz_du = sp.Integer(0)\n",
    "\n",
    "i = 0\n",
    "while i < 3:\n",
    "    j = 0\n",
    "    while j < 3:\n",
    "        HPHz_du = HPHz_du + Hz_du[i, j] * HPbosons[i, j]\n",
    "        j += 1\n",
    "    i += 1\n",
    "\n",
    "HPHz_du = HPHz_du.expand()\n",
    "\n",
    "Coef_HPHz_du = sp.Matrix([o, o, o, o, o, o])\n",
    "Coef_HPHz_du[0, 0] = HPHz_du.coeff(e)\n",
    "Coef_HPHz_du[1, 0] = HPHz_du.coeff(f)\n",
    "Coef_HPHz_du[2, 0] = HPHz_du.coeff(g)\n",
    "Coef_HPHz_du[3, 0] = HPHz_du.coeff(h)\n",
    "Coef_HPHz_du[4, 0] = HPHz_du.coeff(n_i)\n",
    "Coef_HPHz_du[5, 0] = HPHz_du.coeff(n_j)\n",
    "\n",
    "Mat_Coef_HPHz_du = sp.Matrix([\n",
    "    [Coef_HPHz_du[4, 0], Coef_HPHz_du[2, 0], o, Coef_HPHz_du[3, 0]],\n",
    "    [Coef_HPHz_du[1, 0], Coef_HPHz_du[5, 0], Coef_HPHz_du[3, 0], o],\n",
    "    [o, Coef_HPHz_du[0, 0], Coef_HPHz_du[5, 0], Coef_HPHz_du[2, 0]],\n",
    "    [Coef_HPHz_du[0, 0], o, Coef_HPHz_du[1, 0], Coef_HPHz_du[4, 0]]\n",
    "    ])"
   ]
  },
  {
   "cell_type": "code",
   "execution_count": 18,
   "metadata": {},
   "outputs": [
    {
     "data": {
      "text/latex": [
       "$\\displaystyle \\left[\\begin{matrix}0 & 0 & 0 & 0\\\\0 & 0 & 0 & 0\\\\0 & 0 & 0 & 0\\\\0 & 0 & 0 & 0\\end{matrix}\\right]$"
      ],
      "text/plain": [
       "Matrix([\n",
       "[0, 0, 0, 0],\n",
       "[0, 0, 0, 0],\n",
       "[0, 0, 0, 0],\n",
       "[0, 0, 0, 0]])"
      ]
     },
     "execution_count": 18,
     "metadata": {},
     "output_type": "execute_result"
    }
   ],
   "source": [
    "sp.transpose(sp.conjugate(Mat_Coef_HPHy_du))-Mat_Coef_HPHy_du"
   ]
  },
  {
   "cell_type": "code",
   "execution_count": 19,
   "id": "a901ce87b99d2233",
   "metadata": {
    "ExecuteTime": {
     "end_time": "2024-06-06T04:23:27.671359Z",
     "start_time": "2024-06-06T04:23:27.636505Z"
    }
   },
   "outputs": [],
   "source": [
    "#####################################################################\n",
    "Hlsw = sp.zeros(8, 8)\n",
    "\n",
    "    # Fourier transform\n",
    "deltaX = a / sp.sqrt(3) * sp.Matrix([-sp.sqrt(3) / 2, 1 / sp.Integer(2)])\n",
    "deltaY = a / sp.sqrt(3) * sp.Matrix([sp.Integer(0), sp.Integer(-1)])\n",
    "deltaZ = a / sp.sqrt(3) * sp.Matrix([sp.sqrt(3) / 2, 1 / sp.Integer(2)])\n",
    "\n",
    "global k1\n",
    "global k2\n",
    "\n",
    "k1 = sp.Symbol(\"k1\", real=True)\n",
    "k2 = sp.Symbol(\"k2\", real=True)\n",
    "k = sp.Matrix([k1, k2])\n",
    "\n",
    "sx = sp.exp(I * k.dot(deltaX))\n",
    "sy = sp.exp(I * k.dot(deltaY))\n",
    "sz = sp.exp(I * k.dot(deltaZ))\n",
    "tx = sp.exp(-I * k.dot(deltaX))\n",
    "ty = sp.exp(-I * k.dot(deltaY))\n",
    "tz = sp.exp(-I * k.dot(deltaZ))\n",
    "\n",
    "FT_Coef_X = sp.Matrix([[ii, sx, o, sx], [tx, ii, tx, o], [o, sx, ii, sx], [tx, o,\n",
    "                                                                               tx, ii]])\n",
    "FT_Coef_Y = sp.Matrix([[ii, sy, o, sy], [ty, ii, ty, o], [o, sy, ii, sy], [ty, o,\n",
    "                                                                               ty, ii]])\n",
    "FT_Coef_Z = sp.Matrix([[ii, sz, o, sz], [tz, ii, tz, o], [o, sz, ii, sz], [tz, o,\n",
    "                                                                               tz, ii]])"
   ]
  },
  {
   "cell_type": "code",
   "execution_count": 20,
   "id": "baef4f3340901d28",
   "metadata": {
    "ExecuteTime": {
     "end_time": "2024-06-06T04:23:29.235709Z",
     "start_time": "2024-06-06T04:23:29.207288Z"
    }
   },
   "outputs": [
    {
     "data": {
      "text/latex": [
       "$\\displaystyle \\left[\\begin{matrix}1.0 J - 1.22464679914735 \\cdot 10^{-16} Γ' & \\left(- 1.0 K + 6.12323399573677 \\cdot 10^{-17} i Γ - 6.12323399573677 \\cdot 10^{-17} Γ' + 1.0 i Γ'\\right) e^{i \\left(- \\frac{a k_{1}}{2} + \\frac{\\sqrt{3} a k_{2}}{6}\\right)} & 0 & \\left(- 1.0 J - 1.0 K - 6.12323399573677 \\cdot 10^{-17} i Γ - 6.12323399573677 \\cdot 10^{-17} Γ'\\right) e^{i \\left(- \\frac{a k_{1}}{2} + \\frac{\\sqrt{3} a k_{2}}{6}\\right)}\\\\\\left(- 1.0 K - 6.12323399573677 \\cdot 10^{-17} i Γ - 6.12323399573677 \\cdot 10^{-17} Γ' - 1.0 i Γ'\\right) e^{- i \\left(- \\frac{a k_{1}}{2} + \\frac{\\sqrt{3} a k_{2}}{6}\\right)} & 1.0 J - 1.22464679914735 \\cdot 10^{-16} Γ' & \\left(- 1.0 J - 1.0 K - 6.12323399573677 \\cdot 10^{-17} i Γ - 6.12323399573677 \\cdot 10^{-17} Γ'\\right) e^{- i \\left(- \\frac{a k_{1}}{2} + \\frac{\\sqrt{3} a k_{2}}{6}\\right)} & 0\\\\0 & \\left(- 1.0 J - 1.0 K + 6.12323399573677 \\cdot 10^{-17} i Γ - 6.12323399573677 \\cdot 10^{-17} Γ'\\right) e^{i \\left(- \\frac{a k_{1}}{2} + \\frac{\\sqrt{3} a k_{2}}{6}\\right)} & 1.0 J - 1.22464679914735 \\cdot 10^{-16} Γ' & \\left(- 1.0 K + 6.12323399573677 \\cdot 10^{-17} i Γ - 6.12323399573677 \\cdot 10^{-17} Γ' + 1.0 i Γ'\\right) e^{i \\left(- \\frac{a k_{1}}{2} + \\frac{\\sqrt{3} a k_{2}}{6}\\right)}\\\\\\left(- 1.0 J - 1.0 K + 6.12323399573677 \\cdot 10^{-17} i Γ - 6.12323399573677 \\cdot 10^{-17} Γ'\\right) e^{- i \\left(- \\frac{a k_{1}}{2} + \\frac{\\sqrt{3} a k_{2}}{6}\\right)} & 0 & \\left(- 1.0 K - 6.12323399573677 \\cdot 10^{-17} i Γ - 6.12323399573677 \\cdot 10^{-17} Γ' - 1.0 i Γ'\\right) e^{- i \\left(- \\frac{a k_{1}}{2} + \\frac{\\sqrt{3} a k_{2}}{6}\\right)} & 1.0 J - 1.22464679914735 \\cdot 10^{-16} Γ'\\end{matrix}\\right]$"
      ],
      "text/plain": [
       "Matrix([\n",
       "[                                                                            1.0*J - 1.22464679914735e-16*Γ', (-1.0*K + 6.12323399573677e-17*I*Γ - 6.12323399573677e-17*Γ' + 1.0*I*Γ')*exp(I*(-a*k1/2 + sqrt(3)*a*k2/6)),                                                                                                           0,    (-1.0*J - 1.0*K - 6.12323399573677e-17*I*Γ - 6.12323399573677e-17*Γ')*exp(I*(-a*k1/2 + sqrt(3)*a*k2/6))],\n",
       "[(-1.0*K - 6.12323399573677e-17*I*Γ - 6.12323399573677e-17*Γ' - 1.0*I*Γ')*exp(-I*(-a*k1/2 + sqrt(3)*a*k2/6)),                                                                            1.0*J - 1.22464679914735e-16*Γ',    (-1.0*J - 1.0*K - 6.12323399573677e-17*I*Γ - 6.12323399573677e-17*Γ')*exp(-I*(-a*k1/2 + sqrt(3)*a*k2/6)),                                                                                                          0],\n",
       "[                                                                                                          0,    (-1.0*J - 1.0*K + 6.12323399573677e-17*I*Γ - 6.12323399573677e-17*Γ')*exp(I*(-a*k1/2 + sqrt(3)*a*k2/6)),                                                                             1.0*J - 1.22464679914735e-16*Γ', (-1.0*K + 6.12323399573677e-17*I*Γ - 6.12323399573677e-17*Γ' + 1.0*I*Γ')*exp(I*(-a*k1/2 + sqrt(3)*a*k2/6))],\n",
       "[   (-1.0*J - 1.0*K + 6.12323399573677e-17*I*Γ - 6.12323399573677e-17*Γ')*exp(-I*(-a*k1/2 + sqrt(3)*a*k2/6)),                                                                                                          0, (-1.0*K - 6.12323399573677e-17*I*Γ - 6.12323399573677e-17*Γ' - 1.0*I*Γ')*exp(-I*(-a*k1/2 + sqrt(3)*a*k2/6)),                                                                            1.0*J - 1.22464679914735e-16*Γ']])"
      ]
     },
     "execution_count": 20,
     "metadata": {},
     "output_type": "execute_result"
    }
   ],
   "source": [
    "# x bonds:\n",
    "\n",
    "# up-down x bonds\n",
    "HlswTwoSub = sp.Matrix([[o, o, o, o], [o, o, o, o], [o, o, o, o], [o, o, o, o]])\n",
    "\n",
    "i = 0\n",
    "while i < 4:\n",
    "    j = 0\n",
    "    while j < 4:\n",
    "        HlswTwoSub[i, j] = Mat_Coef_HPHx_du[i, j] * FT_Coef_X[i, j]\n",
    "        j += 1\n",
    "    i += 1\n",
    "\n",
    "distri224(Hlsw, HlswTwoSub, 1, 0)\n",
    "HlswTwoSub\n",
    "\n",
    "distri224(Hlsw, HlswTwoSub, 3, 2)\n",
    "HlswTwoSub"
   ]
  },
  {
   "cell_type": "code",
   "execution_count": 21,
   "metadata": {
    "scrolled": false
   },
   "outputs": [
    {
     "data": {
      "text/latex": [
       "$\\displaystyle \\left[\\begin{matrix}1.0 J - 1.22464679914735 \\cdot 10^{-16} Γ & \\left(1.0 K - 6.12323399573677 \\cdot 10^{-17} Γ + 1.0 i Γ'\\right) e^{- \\frac{\\sqrt{3} i a k_{2}}{3}} & 0 & \\left(- 1.0 J - 1.0 K - 6.12323399573677 \\cdot 10^{-17} Γ - 1.11022302462516 \\cdot 10^{-16} i Γ'\\right) e^{- \\frac{\\sqrt{3} i a k_{2}}{3}}\\\\\\left(1.0 K - 6.12323399573677 \\cdot 10^{-17} Γ - 1.0 i Γ'\\right) e^{\\frac{\\sqrt{3} i a k_{2}}{3}} & 1.0 J - 1.22464679914735 \\cdot 10^{-16} Γ & \\left(- 1.0 J - 1.0 K - 6.12323399573677 \\cdot 10^{-17} Γ - 1.11022302462516 \\cdot 10^{-16} i Γ'\\right) e^{\\frac{\\sqrt{3} i a k_{2}}{3}} & 0\\\\0 & \\left(- 1.0 J - 1.0 K - 6.12323399573677 \\cdot 10^{-17} Γ + 1.11022302462516 \\cdot 10^{-16} i Γ'\\right) e^{- \\frac{\\sqrt{3} i a k_{2}}{3}} & 1.0 J - 1.22464679914735 \\cdot 10^{-16} Γ & \\left(1.0 K - 6.12323399573677 \\cdot 10^{-17} Γ + 1.0 i Γ'\\right) e^{- \\frac{\\sqrt{3} i a k_{2}}{3}}\\\\\\left(- 1.0 J - 1.0 K - 6.12323399573677 \\cdot 10^{-17} Γ + 1.11022302462516 \\cdot 10^{-16} i Γ'\\right) e^{\\frac{\\sqrt{3} i a k_{2}}{3}} & 0 & \\left(1.0 K - 6.12323399573677 \\cdot 10^{-17} Γ - 1.0 i Γ'\\right) e^{\\frac{\\sqrt{3} i a k_{2}}{3}} & 1.0 J - 1.22464679914735 \\cdot 10^{-16} Γ\\end{matrix}\\right]$"
      ],
      "text/plain": [
       "Matrix([\n",
       "[                                                             1.0*J - 1.22464679914735e-16*Γ,                           (1.0*K - 6.12323399573677e-17*Γ + 1.0*I*Γ')*exp(-sqrt(3)*I*a*k2/3),                                                                                           0, (-1.0*J - 1.0*K - 6.12323399573677e-17*Γ - 1.11022302462516e-16*I*Γ')*exp(-sqrt(3)*I*a*k2/3)],\n",
       "[                          (1.0*K - 6.12323399573677e-17*Γ - 1.0*I*Γ')*exp(sqrt(3)*I*a*k2/3),                                                               1.0*J - 1.22464679914735e-16*Γ, (-1.0*J - 1.0*K - 6.12323399573677e-17*Γ - 1.11022302462516e-16*I*Γ')*exp(sqrt(3)*I*a*k2/3),                                                                                            0],\n",
       "[                                                                                          0, (-1.0*J - 1.0*K - 6.12323399573677e-17*Γ + 1.11022302462516e-16*I*Γ')*exp(-sqrt(3)*I*a*k2/3),                                                              1.0*J - 1.22464679914735e-16*Γ,                           (1.0*K - 6.12323399573677e-17*Γ + 1.0*I*Γ')*exp(-sqrt(3)*I*a*k2/3)],\n",
       "[(-1.0*J - 1.0*K - 6.12323399573677e-17*Γ + 1.11022302462516e-16*I*Γ')*exp(sqrt(3)*I*a*k2/3),                                                                                            0,                           (1.0*K - 6.12323399573677e-17*Γ - 1.0*I*Γ')*exp(sqrt(3)*I*a*k2/3),                                                               1.0*J - 1.22464679914735e-16*Γ]])"
      ]
     },
     "execution_count": 21,
     "metadata": {},
     "output_type": "execute_result"
    }
   ],
   "source": [
    "# y bonds:\n",
    "\n",
    "# down-up y bonds\n",
    "HlswTwoSub = sp.Matrix([[o, o, o, o], [o, o, o, o], [o, o, o, o], [o, o, o, o]])\n",
    "\n",
    "i = 0\n",
    "while i < 4:\n",
    "    j = 0\n",
    "    while j < 4:\n",
    "        HlswTwoSub[i, j] = Mat_Coef_HPHy_du[i, j] * FT_Coef_Y[i, j]\n",
    "        j += 1\n",
    "    i += 1\n",
    "\n",
    "distri224(Hlsw, HlswTwoSub, 1, 2)\n",
    "\n",
    "distri224(Hlsw, HlswTwoSub, 3, 0)\n",
    "HlswTwoSub"
   ]
  },
  {
   "cell_type": "code",
   "execution_count": 22,
   "metadata": {
    "scrolled": false
   },
   "outputs": [
    {
     "data": {
      "text/latex": [
       "$\\displaystyle \\left[\\begin{matrix}1.0 J - 1.22464679914735 \\cdot 10^{-16} Γ & 1.0 K - 6.12323399573677 \\cdot 10^{-17} Γ + 1.0 i Γ' & 0 & - 1.0 J - 1.0 K - 6.12323399573677 \\cdot 10^{-17} Γ - 1.11022302462516 \\cdot 10^{-16} i Γ'\\\\1.0 K - 6.12323399573677 \\cdot 10^{-17} Γ - 1.0 i Γ' & 1.0 J - 1.22464679914735 \\cdot 10^{-16} Γ & - 1.0 J - 1.0 K - 6.12323399573677 \\cdot 10^{-17} Γ - 1.11022302462516 \\cdot 10^{-16} i Γ' & 0\\\\0 & - 1.0 J - 1.0 K - 6.12323399573677 \\cdot 10^{-17} Γ + 1.11022302462516 \\cdot 10^{-16} i Γ' & 1.0 J - 1.22464679914735 \\cdot 10^{-16} Γ & 1.0 K - 6.12323399573677 \\cdot 10^{-17} Γ + 1.0 i Γ'\\\\- 1.0 J - 1.0 K - 6.12323399573677 \\cdot 10^{-17} Γ + 1.11022302462516 \\cdot 10^{-16} i Γ' & 0 & 1.0 K - 6.12323399573677 \\cdot 10^{-17} Γ - 1.0 i Γ' & 1.0 J - 1.22464679914735 \\cdot 10^{-16} Γ\\end{matrix}\\right]$"
      ],
      "text/plain": [
       "Matrix([\n",
       "[                                     1.0*J - 1.22464679914735e-16*Γ,                           1.0*K - 6.12323399573677e-17*Γ + 1.0*I*Γ',                                                                   0, -1.0*J - 1.0*K - 6.12323399573677e-17*Γ - 1.11022302462516e-16*I*Γ'],\n",
       "[                          1.0*K - 6.12323399573677e-17*Γ - 1.0*I*Γ',                                      1.0*J - 1.22464679914735e-16*Γ, -1.0*J - 1.0*K - 6.12323399573677e-17*Γ - 1.11022302462516e-16*I*Γ',                                                                   0],\n",
       "[                                                                  0, -1.0*J - 1.0*K - 6.12323399573677e-17*Γ + 1.11022302462516e-16*I*Γ',                                      1.0*J - 1.22464679914735e-16*Γ,                           1.0*K - 6.12323399573677e-17*Γ + 1.0*I*Γ'],\n",
       "[-1.0*J - 1.0*K - 6.12323399573677e-17*Γ + 1.11022302462516e-16*I*Γ',                                                                   0,                           1.0*K - 6.12323399573677e-17*Γ - 1.0*I*Γ',                                      1.0*J - 1.22464679914735e-16*Γ]])"
      ]
     },
     "execution_count": 22,
     "metadata": {},
     "output_type": "execute_result"
    }
   ],
   "source": [
    "Mat_Coef_HPHy_du"
   ]
  },
  {
   "cell_type": "code",
   "execution_count": 23,
   "metadata": {},
   "outputs": [
    {
     "data": {
      "text/latex": [
       "$\\displaystyle \\left[\\begin{matrix}1.0 J + 2.0 K - 1.22464679914735 \\cdot 10^{-16} Γ' & \\left(1.0 i Γ - 6.12323399573677 \\cdot 10^{-17} Γ' + 6.12323399573677 \\cdot 10^{-17} i Γ'\\right) e^{i \\left(\\frac{a k_{1}}{2} + \\frac{\\sqrt{3} a k_{2}}{6}\\right)} & 0 & \\left(- 1.0 J - 6.12323399573677 \\cdot 10^{-17} Γ' - 6.12323399573677 \\cdot 10^{-17} i Γ'\\right) e^{i \\left(\\frac{a k_{1}}{2} + \\frac{\\sqrt{3} a k_{2}}{6}\\right)}\\\\\\left(- 1.0 i Γ - 6.12323399573677 \\cdot 10^{-17} Γ' - 6.12323399573677 \\cdot 10^{-17} i Γ'\\right) e^{- i \\left(\\frac{a k_{1}}{2} + \\frac{\\sqrt{3} a k_{2}}{6}\\right)} & 1.0 J + 2.0 K - 1.22464679914735 \\cdot 10^{-16} Γ' & \\left(- 1.0 J - 6.12323399573677 \\cdot 10^{-17} Γ' - 6.12323399573677 \\cdot 10^{-17} i Γ'\\right) e^{- i \\left(\\frac{a k_{1}}{2} + \\frac{\\sqrt{3} a k_{2}}{6}\\right)} & 0\\\\0 & \\left(- 1.0 J - 6.12323399573677 \\cdot 10^{-17} Γ' + 6.12323399573677 \\cdot 10^{-17} i Γ'\\right) e^{i \\left(\\frac{a k_{1}}{2} + \\frac{\\sqrt{3} a k_{2}}{6}\\right)} & 1.0 J + 2.0 K - 1.22464679914735 \\cdot 10^{-16} Γ' & \\left(1.0 i Γ - 6.12323399573677 \\cdot 10^{-17} Γ' + 6.12323399573677 \\cdot 10^{-17} i Γ'\\right) e^{i \\left(\\frac{a k_{1}}{2} + \\frac{\\sqrt{3} a k_{2}}{6}\\right)}\\\\\\left(- 1.0 J - 6.12323399573677 \\cdot 10^{-17} Γ' + 6.12323399573677 \\cdot 10^{-17} i Γ'\\right) e^{- i \\left(\\frac{a k_{1}}{2} + \\frac{\\sqrt{3} a k_{2}}{6}\\right)} & 0 & \\left(- 1.0 i Γ - 6.12323399573677 \\cdot 10^{-17} Γ' - 6.12323399573677 \\cdot 10^{-17} i Γ'\\right) e^{- i \\left(\\frac{a k_{1}}{2} + \\frac{\\sqrt{3} a k_{2}}{6}\\right)} & 1.0 J + 2.0 K - 1.22464679914735 \\cdot 10^{-16} Γ'\\end{matrix}\\right]$"
      ],
      "text/plain": [
       "Matrix([\n",
       "[                                                           1.0*J + 2.0*K - 1.22464679914735e-16*Γ', (1.0*I*Γ - 6.12323399573677e-17*Γ' + 6.12323399573677e-17*I*Γ')*exp(I*(a*k1/2 + sqrt(3)*a*k2/6)),                                                                                                  0,  (-1.0*J - 6.12323399573677e-17*Γ' - 6.12323399573677e-17*I*Γ')*exp(I*(a*k1/2 + sqrt(3)*a*k2/6))],\n",
       "[(-1.0*I*Γ - 6.12323399573677e-17*Γ' - 6.12323399573677e-17*I*Γ')*exp(-I*(a*k1/2 + sqrt(3)*a*k2/6)),                                                          1.0*J + 2.0*K - 1.22464679914735e-16*Γ',   (-1.0*J - 6.12323399573677e-17*Γ' - 6.12323399573677e-17*I*Γ')*exp(-I*(a*k1/2 + sqrt(3)*a*k2/6)),                                                                                                0],\n",
       "[                                                                                                 0,  (-1.0*J - 6.12323399573677e-17*Γ' + 6.12323399573677e-17*I*Γ')*exp(I*(a*k1/2 + sqrt(3)*a*k2/6)),                                                            1.0*J + 2.0*K - 1.22464679914735e-16*Γ', (1.0*I*Γ - 6.12323399573677e-17*Γ' + 6.12323399573677e-17*I*Γ')*exp(I*(a*k1/2 + sqrt(3)*a*k2/6))],\n",
       "[  (-1.0*J - 6.12323399573677e-17*Γ' + 6.12323399573677e-17*I*Γ')*exp(-I*(a*k1/2 + sqrt(3)*a*k2/6)),                                                                                                0, (-1.0*I*Γ - 6.12323399573677e-17*Γ' - 6.12323399573677e-17*I*Γ')*exp(-I*(a*k1/2 + sqrt(3)*a*k2/6)),                                                          1.0*J + 2.0*K - 1.22464679914735e-16*Γ']])"
      ]
     },
     "execution_count": 23,
     "metadata": {},
     "output_type": "execute_result"
    }
   ],
   "source": [
    "# z bonds:\n",
    "\n",
    "# down-up z bonds\n",
    "HlswTwoSub = sp.Matrix([[o, o, o, o], [o, o, o, o], [o, o, o, o], [o, o, o, o]])\n",
    "\n",
    "i = 0\n",
    "while i < 4:\n",
    "    j = 0\n",
    "    while j < 4:\n",
    "        HlswTwoSub[i, j] = Mat_Coef_HPHz_du[i, j] * FT_Coef_Z[i, j]\n",
    "        j += 1\n",
    "    i += 1\n",
    "\n",
    "distri224(Hlsw, HlswTwoSub, 1, 0)\n",
    "\n",
    "\n",
    "distri224(Hlsw, HlswTwoSub, 3, 2)\n",
    "HlswTwoSub"
   ]
  },
  {
   "cell_type": "code",
   "execution_count": 24,
   "metadata": {},
   "outputs": [],
   "source": [
    "##########################################################\n",
    "# After using magnon transformation\n",
    "magfield = 1/2 * h * sp.diag(1, 1, -1, -1, 1, 1, -1, -1)\n",
    "    # Assemble\n",
    "Hlsw = 1 / 2 * Hlsw + magfield"
   ]
  },
  {
   "cell_type": "code",
   "execution_count": 25,
   "metadata": {},
   "outputs": [
    {
     "data": {
      "text/latex": [
       "$\\displaystyle \\left[\\begin{matrix}1.5 J + 1.0 K + 0.5 h - 6.12323399573677 \\cdot 10^{-17} Γ - 1.22464679914735 \\cdot 10^{-16} Γ' & 0.5 \\left(- 1.0 i Γ - 6.12323399573677 \\cdot 10^{-17} Γ' - 6.12323399573677 \\cdot 10^{-17} i Γ'\\right) e^{- i \\left(\\frac{a k_{1}}{2} + \\frac{\\sqrt{3} a k_{2}}{6}\\right)} + 0.5 \\left(- 1.0 K - 6.12323399573677 \\cdot 10^{-17} i Γ - 6.12323399573677 \\cdot 10^{-17} Γ' - 1.0 i Γ'\\right) e^{- i \\left(- \\frac{a k_{1}}{2} + \\frac{\\sqrt{3} a k_{2}}{6}\\right)} & 0 & 0.5 \\cdot \\left(1.0 K - 6.12323399573677 \\cdot 10^{-17} Γ - 1.0 i Γ'\\right) e^{\\frac{\\sqrt{3} i a k_{2}}{3}} & 0 & 0.5 \\left(- 1.0 J - 6.12323399573677 \\cdot 10^{-17} Γ' - 6.12323399573677 \\cdot 10^{-17} i Γ'\\right) e^{- i \\left(\\frac{a k_{1}}{2} + \\frac{\\sqrt{3} a k_{2}}{6}\\right)} + 0.5 \\left(- 1.0 J - 1.0 K - 6.12323399573677 \\cdot 10^{-17} i Γ - 6.12323399573677 \\cdot 10^{-17} Γ'\\right) e^{- i \\left(- \\frac{a k_{1}}{2} + \\frac{\\sqrt{3} a k_{2}}{6}\\right)} & 0 & 0.5 \\left(- 1.0 J - 1.0 K - 6.12323399573677 \\cdot 10^{-17} Γ - 1.11022302462516 \\cdot 10^{-16} i Γ'\\right) e^{\\frac{\\sqrt{3} i a k_{2}}{3}}\\\\0.5 \\cdot \\left(1.0 i Γ - 6.12323399573677 \\cdot 10^{-17} Γ' + 6.12323399573677 \\cdot 10^{-17} i Γ'\\right) e^{i \\left(\\frac{a k_{1}}{2} + \\frac{\\sqrt{3} a k_{2}}{6}\\right)} + 0.5 \\left(- 1.0 K + 6.12323399573677 \\cdot 10^{-17} i Γ - 6.12323399573677 \\cdot 10^{-17} Γ' + 1.0 i Γ'\\right) e^{i \\left(- \\frac{a k_{1}}{2} + \\frac{\\sqrt{3} a k_{2}}{6}\\right)} & 1.5 J + 1.0 K + 0.5 h - 6.12323399573677 \\cdot 10^{-17} Γ - 1.22464679914735 \\cdot 10^{-16} Γ' & 0.5 \\cdot \\left(1.0 K - 6.12323399573677 \\cdot 10^{-17} Γ + 1.0 i Γ'\\right) e^{- \\frac{\\sqrt{3} i a k_{2}}{3}} & 0 & 0.5 \\left(- 1.0 J - 6.12323399573677 \\cdot 10^{-17} Γ' - 6.12323399573677 \\cdot 10^{-17} i Γ'\\right) e^{i \\left(\\frac{a k_{1}}{2} + \\frac{\\sqrt{3} a k_{2}}{6}\\right)} + 0.5 \\left(- 1.0 J - 1.0 K - 6.12323399573677 \\cdot 10^{-17} i Γ - 6.12323399573677 \\cdot 10^{-17} Γ'\\right) e^{i \\left(- \\frac{a k_{1}}{2} + \\frac{\\sqrt{3} a k_{2}}{6}\\right)} & 0 & 0.5 \\left(- 1.0 J - 1.0 K - 6.12323399573677 \\cdot 10^{-17} Γ - 1.11022302462516 \\cdot 10^{-16} i Γ'\\right) e^{- \\frac{\\sqrt{3} i a k_{2}}{3}} & 0\\\\0 & 0.5 \\cdot \\left(1.0 K - 6.12323399573677 \\cdot 10^{-17} Γ - 1.0 i Γ'\\right) e^{\\frac{\\sqrt{3} i a k_{2}}{3}} & 1.5 J + 1.0 K - 0.5 h - 6.12323399573677 \\cdot 10^{-17} Γ - 1.22464679914735 \\cdot 10^{-16} Γ' & 0.5 \\left(- 1.0 i Γ - 6.12323399573677 \\cdot 10^{-17} Γ' - 6.12323399573677 \\cdot 10^{-17} i Γ'\\right) e^{- i \\left(\\frac{a k_{1}}{2} + \\frac{\\sqrt{3} a k_{2}}{6}\\right)} + 0.5 \\left(- 1.0 K - 6.12323399573677 \\cdot 10^{-17} i Γ - 6.12323399573677 \\cdot 10^{-17} Γ' - 1.0 i Γ'\\right) e^{- i \\left(- \\frac{a k_{1}}{2} + \\frac{\\sqrt{3} a k_{2}}{6}\\right)} & 0 & 0.5 \\left(- 1.0 J - 1.0 K - 6.12323399573677 \\cdot 10^{-17} Γ - 1.11022302462516 \\cdot 10^{-16} i Γ'\\right) e^{\\frac{\\sqrt{3} i a k_{2}}{3}} & 0 & 0.5 \\left(- 1.0 J - 6.12323399573677 \\cdot 10^{-17} Γ' - 6.12323399573677 \\cdot 10^{-17} i Γ'\\right) e^{- i \\left(\\frac{a k_{1}}{2} + \\frac{\\sqrt{3} a k_{2}}{6}\\right)} + 0.5 \\left(- 1.0 J - 1.0 K - 6.12323399573677 \\cdot 10^{-17} i Γ - 6.12323399573677 \\cdot 10^{-17} Γ'\\right) e^{- i \\left(- \\frac{a k_{1}}{2} + \\frac{\\sqrt{3} a k_{2}}{6}\\right)}\\\\0.5 \\cdot \\left(1.0 K - 6.12323399573677 \\cdot 10^{-17} Γ + 1.0 i Γ'\\right) e^{- \\frac{\\sqrt{3} i a k_{2}}{3}} & 0 & 0.5 \\cdot \\left(1.0 i Γ - 6.12323399573677 \\cdot 10^{-17} Γ' + 6.12323399573677 \\cdot 10^{-17} i Γ'\\right) e^{i \\left(\\frac{a k_{1}}{2} + \\frac{\\sqrt{3} a k_{2}}{6}\\right)} + 0.5 \\left(- 1.0 K + 6.12323399573677 \\cdot 10^{-17} i Γ - 6.12323399573677 \\cdot 10^{-17} Γ' + 1.0 i Γ'\\right) e^{i \\left(- \\frac{a k_{1}}{2} + \\frac{\\sqrt{3} a k_{2}}{6}\\right)} & 1.5 J + 1.0 K - 0.5 h - 6.12323399573677 \\cdot 10^{-17} Γ - 1.22464679914735 \\cdot 10^{-16} Γ' & 0.5 \\left(- 1.0 J - 1.0 K - 6.12323399573677 \\cdot 10^{-17} Γ - 1.11022302462516 \\cdot 10^{-16} i Γ'\\right) e^{- \\frac{\\sqrt{3} i a k_{2}}{3}} & 0 & 0.5 \\left(- 1.0 J - 6.12323399573677 \\cdot 10^{-17} Γ' - 6.12323399573677 \\cdot 10^{-17} i Γ'\\right) e^{i \\left(\\frac{a k_{1}}{2} + \\frac{\\sqrt{3} a k_{2}}{6}\\right)} + 0.5 \\left(- 1.0 J - 1.0 K - 6.12323399573677 \\cdot 10^{-17} i Γ - 6.12323399573677 \\cdot 10^{-17} Γ'\\right) e^{i \\left(- \\frac{a k_{1}}{2} + \\frac{\\sqrt{3} a k_{2}}{6}\\right)} & 0\\\\0 & 0.5 \\left(- 1.0 J - 6.12323399573677 \\cdot 10^{-17} Γ' + 6.12323399573677 \\cdot 10^{-17} i Γ'\\right) e^{- i \\left(\\frac{a k_{1}}{2} + \\frac{\\sqrt{3} a k_{2}}{6}\\right)} + 0.5 \\left(- 1.0 J - 1.0 K + 6.12323399573677 \\cdot 10^{-17} i Γ - 6.12323399573677 \\cdot 10^{-17} Γ'\\right) e^{- i \\left(- \\frac{a k_{1}}{2} + \\frac{\\sqrt{3} a k_{2}}{6}\\right)} & 0 & 0.5 \\left(- 1.0 J - 1.0 K - 6.12323399573677 \\cdot 10^{-17} Γ + 1.11022302462516 \\cdot 10^{-16} i Γ'\\right) e^{\\frac{\\sqrt{3} i a k_{2}}{3}} & 1.5 J + 1.0 K + 0.5 h - 6.12323399573677 \\cdot 10^{-17} Γ - 1.22464679914735 \\cdot 10^{-16} Γ' & 0.5 \\left(- 1.0 i Γ - 6.12323399573677 \\cdot 10^{-17} Γ' - 6.12323399573677 \\cdot 10^{-17} i Γ'\\right) e^{- i \\left(\\frac{a k_{1}}{2} + \\frac{\\sqrt{3} a k_{2}}{6}\\right)} + 0.5 \\left(- 1.0 K - 6.12323399573677 \\cdot 10^{-17} i Γ - 6.12323399573677 \\cdot 10^{-17} Γ' - 1.0 i Γ'\\right) e^{- i \\left(- \\frac{a k_{1}}{2} + \\frac{\\sqrt{3} a k_{2}}{6}\\right)} & 0 & 0.5 \\cdot \\left(1.0 K - 6.12323399573677 \\cdot 10^{-17} Γ - 1.0 i Γ'\\right) e^{\\frac{\\sqrt{3} i a k_{2}}{3}}\\\\0.5 \\left(- 1.0 J - 6.12323399573677 \\cdot 10^{-17} Γ' + 6.12323399573677 \\cdot 10^{-17} i Γ'\\right) e^{i \\left(\\frac{a k_{1}}{2} + \\frac{\\sqrt{3} a k_{2}}{6}\\right)} + 0.5 \\left(- 1.0 J - 1.0 K + 6.12323399573677 \\cdot 10^{-17} i Γ - 6.12323399573677 \\cdot 10^{-17} Γ'\\right) e^{i \\left(- \\frac{a k_{1}}{2} + \\frac{\\sqrt{3} a k_{2}}{6}\\right)} & 0 & 0.5 \\left(- 1.0 J - 1.0 K - 6.12323399573677 \\cdot 10^{-17} Γ + 1.11022302462516 \\cdot 10^{-16} i Γ'\\right) e^{- \\frac{\\sqrt{3} i a k_{2}}{3}} & 0 & 0.5 \\cdot \\left(1.0 i Γ - 6.12323399573677 \\cdot 10^{-17} Γ' + 6.12323399573677 \\cdot 10^{-17} i Γ'\\right) e^{i \\left(\\frac{a k_{1}}{2} + \\frac{\\sqrt{3} a k_{2}}{6}\\right)} + 0.5 \\left(- 1.0 K + 6.12323399573677 \\cdot 10^{-17} i Γ - 6.12323399573677 \\cdot 10^{-17} Γ' + 1.0 i Γ'\\right) e^{i \\left(- \\frac{a k_{1}}{2} + \\frac{\\sqrt{3} a k_{2}}{6}\\right)} & 1.5 J + 1.0 K + 0.5 h - 6.12323399573677 \\cdot 10^{-17} Γ - 1.22464679914735 \\cdot 10^{-16} Γ' & 0.5 \\cdot \\left(1.0 K - 6.12323399573677 \\cdot 10^{-17} Γ + 1.0 i Γ'\\right) e^{- \\frac{\\sqrt{3} i a k_{2}}{3}} & 0\\\\0 & 0.5 \\left(- 1.0 J - 1.0 K - 6.12323399573677 \\cdot 10^{-17} Γ + 1.11022302462516 \\cdot 10^{-16} i Γ'\\right) e^{\\frac{\\sqrt{3} i a k_{2}}{3}} & 0 & 0.5 \\left(- 1.0 J - 6.12323399573677 \\cdot 10^{-17} Γ' + 6.12323399573677 \\cdot 10^{-17} i Γ'\\right) e^{- i \\left(\\frac{a k_{1}}{2} + \\frac{\\sqrt{3} a k_{2}}{6}\\right)} + 0.5 \\left(- 1.0 J - 1.0 K + 6.12323399573677 \\cdot 10^{-17} i Γ - 6.12323399573677 \\cdot 10^{-17} Γ'\\right) e^{- i \\left(- \\frac{a k_{1}}{2} + \\frac{\\sqrt{3} a k_{2}}{6}\\right)} & 0 & 0.5 \\cdot \\left(1.0 K - 6.12323399573677 \\cdot 10^{-17} Γ - 1.0 i Γ'\\right) e^{\\frac{\\sqrt{3} i a k_{2}}{3}} & 1.5 J + 1.0 K - 0.5 h - 6.12323399573677 \\cdot 10^{-17} Γ - 1.22464679914735 \\cdot 10^{-16} Γ' & 0.5 \\left(- 1.0 i Γ - 6.12323399573677 \\cdot 10^{-17} Γ' - 6.12323399573677 \\cdot 10^{-17} i Γ'\\right) e^{- i \\left(\\frac{a k_{1}}{2} + \\frac{\\sqrt{3} a k_{2}}{6}\\right)} + 0.5 \\left(- 1.0 K - 6.12323399573677 \\cdot 10^{-17} i Γ - 6.12323399573677 \\cdot 10^{-17} Γ' - 1.0 i Γ'\\right) e^{- i \\left(- \\frac{a k_{1}}{2} + \\frac{\\sqrt{3} a k_{2}}{6}\\right)}\\\\0.5 \\left(- 1.0 J - 1.0 K - 6.12323399573677 \\cdot 10^{-17} Γ + 1.11022302462516 \\cdot 10^{-16} i Γ'\\right) e^{- \\frac{\\sqrt{3} i a k_{2}}{3}} & 0 & 0.5 \\left(- 1.0 J - 6.12323399573677 \\cdot 10^{-17} Γ' + 6.12323399573677 \\cdot 10^{-17} i Γ'\\right) e^{i \\left(\\frac{a k_{1}}{2} + \\frac{\\sqrt{3} a k_{2}}{6}\\right)} + 0.5 \\left(- 1.0 J - 1.0 K + 6.12323399573677 \\cdot 10^{-17} i Γ - 6.12323399573677 \\cdot 10^{-17} Γ'\\right) e^{i \\left(- \\frac{a k_{1}}{2} + \\frac{\\sqrt{3} a k_{2}}{6}\\right)} & 0 & 0.5 \\cdot \\left(1.0 K - 6.12323399573677 \\cdot 10^{-17} Γ + 1.0 i Γ'\\right) e^{- \\frac{\\sqrt{3} i a k_{2}}{3}} & 0 & 0.5 \\cdot \\left(1.0 i Γ - 6.12323399573677 \\cdot 10^{-17} Γ' + 6.12323399573677 \\cdot 10^{-17} i Γ'\\right) e^{i \\left(\\frac{a k_{1}}{2} + \\frac{\\sqrt{3} a k_{2}}{6}\\right)} + 0.5 \\left(- 1.0 K + 6.12323399573677 \\cdot 10^{-17} i Γ - 6.12323399573677 \\cdot 10^{-17} Γ' + 1.0 i Γ'\\right) e^{i \\left(- \\frac{a k_{1}}{2} + \\frac{\\sqrt{3} a k_{2}}{6}\\right)} & 1.5 J + 1.0 K - 0.5 h - 6.12323399573677 \\cdot 10^{-17} Γ - 1.22464679914735 \\cdot 10^{-16} Γ'\\end{matrix}\\right]$"
      ],
      "text/plain": [
       "Matrix([\n",
       "[                                                                                                                                             1.5*J + 1.0*K + 0.5*h - 6.12323399573677e-17*Γ - 1.22464679914735e-16*Γ', 0.5*(-1.0*I*Γ - 6.12323399573677e-17*Γ' - 6.12323399573677e-17*I*Γ')*exp(-I*(a*k1/2 + sqrt(3)*a*k2/6)) + 0.5*(-1.0*K - 6.12323399573677e-17*I*Γ - 6.12323399573677e-17*Γ' - 1.0*I*Γ')*exp(-I*(-a*k1/2 + sqrt(3)*a*k2/6)),                                                                                                                                                                                                                     0,                                                                                                                                                    0.5*(1.0*K - 6.12323399573677e-17*Γ - 1.0*I*Γ')*exp(sqrt(3)*I*a*k2/3),                                                                                                                                                                                                                     0,      0.5*(-1.0*J - 6.12323399573677e-17*Γ' - 6.12323399573677e-17*I*Γ')*exp(-I*(a*k1/2 + sqrt(3)*a*k2/6)) + 0.5*(-1.0*J - 1.0*K - 6.12323399573677e-17*I*Γ - 6.12323399573677e-17*Γ')*exp(-I*(-a*k1/2 + sqrt(3)*a*k2/6)),                                                                                                                                                                                                                     0,                                                                                                                          0.5*(-1.0*J - 1.0*K - 6.12323399573677e-17*Γ - 1.11022302462516e-16*I*Γ')*exp(sqrt(3)*I*a*k2/3)],\n",
       "[0.5*(1.0*I*Γ - 6.12323399573677e-17*Γ' + 6.12323399573677e-17*I*Γ')*exp(I*(a*k1/2 + sqrt(3)*a*k2/6)) + 0.5*(-1.0*K + 6.12323399573677e-17*I*Γ - 6.12323399573677e-17*Γ' + 1.0*I*Γ')*exp(I*(-a*k1/2 + sqrt(3)*a*k2/6)),                                                                                                                                                 1.5*J + 1.0*K + 0.5*h - 6.12323399573677e-17*Γ - 1.22464679914735e-16*Γ',                                                                                                                                                0.5*(1.0*K - 6.12323399573677e-17*Γ + 1.0*I*Γ')*exp(-sqrt(3)*I*a*k2/3),                                                                                                                                                                                                                        0,     0.5*(-1.0*J - 6.12323399573677e-17*Γ' - 6.12323399573677e-17*I*Γ')*exp(I*(a*k1/2 + sqrt(3)*a*k2/6)) + 0.5*(-1.0*J - 1.0*K - 6.12323399573677e-17*I*Γ - 6.12323399573677e-17*Γ')*exp(I*(-a*k1/2 + sqrt(3)*a*k2/6)),                                                                                                                                                                                                                        0,                                                                                                                      0.5*(-1.0*J - 1.0*K - 6.12323399573677e-17*Γ - 1.11022302462516e-16*I*Γ')*exp(-sqrt(3)*I*a*k2/3),                                                                                                                                                                                                                        0],\n",
       "[                                                                                                                                                                                                                    0,                                                                                                                                                    0.5*(1.0*K - 6.12323399573677e-17*Γ - 1.0*I*Γ')*exp(sqrt(3)*I*a*k2/3),                                                                                                                                              1.5*J + 1.0*K - 0.5*h - 6.12323399573677e-17*Γ - 1.22464679914735e-16*Γ', 0.5*(-1.0*I*Γ - 6.12323399573677e-17*Γ' - 6.12323399573677e-17*I*Γ')*exp(-I*(a*k1/2 + sqrt(3)*a*k2/6)) + 0.5*(-1.0*K - 6.12323399573677e-17*I*Γ - 6.12323399573677e-17*Γ' - 1.0*I*Γ')*exp(-I*(-a*k1/2 + sqrt(3)*a*k2/6)),                                                                                                                                                                                                                     0,                                                                                                                          0.5*(-1.0*J - 1.0*K - 6.12323399573677e-17*Γ - 1.11022302462516e-16*I*Γ')*exp(sqrt(3)*I*a*k2/3),                                                                                                                                                                                                                     0,      0.5*(-1.0*J - 6.12323399573677e-17*Γ' - 6.12323399573677e-17*I*Γ')*exp(-I*(a*k1/2 + sqrt(3)*a*k2/6)) + 0.5*(-1.0*J - 1.0*K - 6.12323399573677e-17*I*Γ - 6.12323399573677e-17*Γ')*exp(-I*(-a*k1/2 + sqrt(3)*a*k2/6))],\n",
       "[                                                                                                                                               0.5*(1.0*K - 6.12323399573677e-17*Γ + 1.0*I*Γ')*exp(-sqrt(3)*I*a*k2/3),                                                                                                                                                                                                                        0, 0.5*(1.0*I*Γ - 6.12323399573677e-17*Γ' + 6.12323399573677e-17*I*Γ')*exp(I*(a*k1/2 + sqrt(3)*a*k2/6)) + 0.5*(-1.0*K + 6.12323399573677e-17*I*Γ - 6.12323399573677e-17*Γ' + 1.0*I*Γ')*exp(I*(-a*k1/2 + sqrt(3)*a*k2/6)),                                                                                                                                                 1.5*J + 1.0*K - 0.5*h - 6.12323399573677e-17*Γ - 1.22464679914735e-16*Γ',                                                                                                                      0.5*(-1.0*J - 1.0*K - 6.12323399573677e-17*Γ - 1.11022302462516e-16*I*Γ')*exp(-sqrt(3)*I*a*k2/3),                                                                                                                                                                                                                        0,     0.5*(-1.0*J - 6.12323399573677e-17*Γ' - 6.12323399573677e-17*I*Γ')*exp(I*(a*k1/2 + sqrt(3)*a*k2/6)) + 0.5*(-1.0*J - 1.0*K - 6.12323399573677e-17*I*Γ - 6.12323399573677e-17*Γ')*exp(I*(-a*k1/2 + sqrt(3)*a*k2/6)),                                                                                                                                                                                                                        0],\n",
       "[                                                                                                                                                                                                                    0,      0.5*(-1.0*J - 6.12323399573677e-17*Γ' + 6.12323399573677e-17*I*Γ')*exp(-I*(a*k1/2 + sqrt(3)*a*k2/6)) + 0.5*(-1.0*J - 1.0*K + 6.12323399573677e-17*I*Γ - 6.12323399573677e-17*Γ')*exp(-I*(-a*k1/2 + sqrt(3)*a*k2/6)),                                                                                                                                                                                                                     0,                                                                                                                          0.5*(-1.0*J - 1.0*K - 6.12323399573677e-17*Γ + 1.11022302462516e-16*I*Γ')*exp(sqrt(3)*I*a*k2/3),                                                                                                                                              1.5*J + 1.0*K + 0.5*h - 6.12323399573677e-17*Γ - 1.22464679914735e-16*Γ', 0.5*(-1.0*I*Γ - 6.12323399573677e-17*Γ' - 6.12323399573677e-17*I*Γ')*exp(-I*(a*k1/2 + sqrt(3)*a*k2/6)) + 0.5*(-1.0*K - 6.12323399573677e-17*I*Γ - 6.12323399573677e-17*Γ' - 1.0*I*Γ')*exp(-I*(-a*k1/2 + sqrt(3)*a*k2/6)),                                                                                                                                                                                                                     0,                                                                                                                                                    0.5*(1.0*K - 6.12323399573677e-17*Γ - 1.0*I*Γ')*exp(sqrt(3)*I*a*k2/3)],\n",
       "[    0.5*(-1.0*J - 6.12323399573677e-17*Γ' + 6.12323399573677e-17*I*Γ')*exp(I*(a*k1/2 + sqrt(3)*a*k2/6)) + 0.5*(-1.0*J - 1.0*K + 6.12323399573677e-17*I*Γ - 6.12323399573677e-17*Γ')*exp(I*(-a*k1/2 + sqrt(3)*a*k2/6)),                                                                                                                                                                                                                        0,                                                                                                                      0.5*(-1.0*J - 1.0*K - 6.12323399573677e-17*Γ + 1.11022302462516e-16*I*Γ')*exp(-sqrt(3)*I*a*k2/3),                                                                                                                                                                                                                        0, 0.5*(1.0*I*Γ - 6.12323399573677e-17*Γ' + 6.12323399573677e-17*I*Γ')*exp(I*(a*k1/2 + sqrt(3)*a*k2/6)) + 0.5*(-1.0*K + 6.12323399573677e-17*I*Γ - 6.12323399573677e-17*Γ' + 1.0*I*Γ')*exp(I*(-a*k1/2 + sqrt(3)*a*k2/6)),                                                                                                                                                 1.5*J + 1.0*K + 0.5*h - 6.12323399573677e-17*Γ - 1.22464679914735e-16*Γ',                                                                                                                                                0.5*(1.0*K - 6.12323399573677e-17*Γ + 1.0*I*Γ')*exp(-sqrt(3)*I*a*k2/3),                                                                                                                                                                                                                        0],\n",
       "[                                                                                                                                                                                                                    0,                                                                                                                          0.5*(-1.0*J - 1.0*K - 6.12323399573677e-17*Γ + 1.11022302462516e-16*I*Γ')*exp(sqrt(3)*I*a*k2/3),                                                                                                                                                                                                                     0,      0.5*(-1.0*J - 6.12323399573677e-17*Γ' + 6.12323399573677e-17*I*Γ')*exp(-I*(a*k1/2 + sqrt(3)*a*k2/6)) + 0.5*(-1.0*J - 1.0*K + 6.12323399573677e-17*I*Γ - 6.12323399573677e-17*Γ')*exp(-I*(-a*k1/2 + sqrt(3)*a*k2/6)),                                                                                                                                                                                                                     0,                                                                                                                                                    0.5*(1.0*K - 6.12323399573677e-17*Γ - 1.0*I*Γ')*exp(sqrt(3)*I*a*k2/3),                                                                                                                                              1.5*J + 1.0*K - 0.5*h - 6.12323399573677e-17*Γ - 1.22464679914735e-16*Γ', 0.5*(-1.0*I*Γ - 6.12323399573677e-17*Γ' - 6.12323399573677e-17*I*Γ')*exp(-I*(a*k1/2 + sqrt(3)*a*k2/6)) + 0.5*(-1.0*K - 6.12323399573677e-17*I*Γ - 6.12323399573677e-17*Γ' - 1.0*I*Γ')*exp(-I*(-a*k1/2 + sqrt(3)*a*k2/6))],\n",
       "[                                                                                                                     0.5*(-1.0*J - 1.0*K - 6.12323399573677e-17*Γ + 1.11022302462516e-16*I*Γ')*exp(-sqrt(3)*I*a*k2/3),                                                                                                                                                                                                                        0,     0.5*(-1.0*J - 6.12323399573677e-17*Γ' + 6.12323399573677e-17*I*Γ')*exp(I*(a*k1/2 + sqrt(3)*a*k2/6)) + 0.5*(-1.0*J - 1.0*K + 6.12323399573677e-17*I*Γ - 6.12323399573677e-17*Γ')*exp(I*(-a*k1/2 + sqrt(3)*a*k2/6)),                                                                                                                                                                                                                        0,                                                                                                                                                0.5*(1.0*K - 6.12323399573677e-17*Γ + 1.0*I*Γ')*exp(-sqrt(3)*I*a*k2/3),                                                                                                                                                                                                                        0, 0.5*(1.0*I*Γ - 6.12323399573677e-17*Γ' + 6.12323399573677e-17*I*Γ')*exp(I*(a*k1/2 + sqrt(3)*a*k2/6)) + 0.5*(-1.0*K + 6.12323399573677e-17*I*Γ - 6.12323399573677e-17*Γ' + 1.0*I*Γ')*exp(I*(-a*k1/2 + sqrt(3)*a*k2/6)),                                                                                                                                                 1.5*J + 1.0*K - 0.5*h - 6.12323399573677e-17*Γ - 1.22464679914735e-16*Γ']])"
      ]
     },
     "execution_count": 25,
     "metadata": {},
     "output_type": "execute_result"
    }
   ],
   "source": [
    "Hlsw"
   ]
  },
  {
   "cell_type": "code",
   "execution_count": 26,
   "metadata": {},
   "outputs": [
    {
     "data": {
      "text/latex": [
       "$\\displaystyle \\left[\\begin{matrix}- 0.5 h + 0.5 \\overline{h} & 0 & 0 & 0 & 0 & 0 & 0 & 0\\\\0 & - 0.5 h + 0.5 \\overline{h} & 0 & 0 & 0 & 0 & 0 & 0\\\\0 & 0 & 0.5 h - 0.5 \\overline{h} & 0 & 0 & 0 & 0 & 0\\\\0 & 0 & 0 & 0.5 h - 0.5 \\overline{h} & 0 & 0 & 0 & 0\\\\0 & 0 & 0 & 0 & - 0.5 h + 0.5 \\overline{h} & 0 & 0 & 0\\\\0 & 0 & 0 & 0 & 0 & - 0.5 h + 0.5 \\overline{h} & 0 & 0\\\\0 & 0 & 0 & 0 & 0 & 0 & 0.5 h - 0.5 \\overline{h} & 0\\\\0 & 0 & 0 & 0 & 0 & 0 & 0 & 0.5 h - 0.5 \\overline{h}\\end{matrix}\\right]$"
      ],
      "text/plain": [
       "Matrix([\n",
       "[-0.5*h + 0.5*conjugate(h),                         0,                        0,                        0,                         0,                         0,                        0,                        0],\n",
       "[                        0, -0.5*h + 0.5*conjugate(h),                        0,                        0,                         0,                         0,                        0,                        0],\n",
       "[                        0,                         0, 0.5*h - 0.5*conjugate(h),                        0,                         0,                         0,                        0,                        0],\n",
       "[                        0,                         0,                        0, 0.5*h - 0.5*conjugate(h),                         0,                         0,                        0,                        0],\n",
       "[                        0,                         0,                        0,                        0, -0.5*h + 0.5*conjugate(h),                         0,                        0,                        0],\n",
       "[                        0,                         0,                        0,                        0,                         0, -0.5*h + 0.5*conjugate(h),                        0,                        0],\n",
       "[                        0,                         0,                        0,                        0,                         0,                         0, 0.5*h - 0.5*conjugate(h),                        0],\n",
       "[                        0,                         0,                        0,                        0,                         0,                         0,                        0, 0.5*h - 0.5*conjugate(h)]])"
      ]
     },
     "execution_count": 26,
     "metadata": {},
     "output_type": "execute_result"
    }
   ],
   "source": [
    "sp.transpose(sp.conjugate(Hlsw))-Hlsw"
   ]
  },
  {
   "cell_type": "code",
   "execution_count": 27,
   "id": "196ee352b4e2fb96",
   "metadata": {
    "scrolled": false
   },
   "outputs": [
    {
     "data": {
      "text/latex": [
       "$\\displaystyle \\left[\\begin{matrix}1.5 J & 0 & 0 & 0 & 0 & - 0.5 J e^{- i \\left(\\frac{k_{1}}{2} + \\frac{\\sqrt{3} k_{2}}{6}\\right)} - 0.5 J e^{- i \\left(- \\frac{k_{1}}{2} + \\frac{\\sqrt{3} k_{2}}{6}\\right)} & 0 & - 0.5 J e^{\\frac{\\sqrt{3} i k_{2}}{3}}\\\\0 & 1.5 J & 0 & 0 & - 0.5 J e^{i \\left(- \\frac{k_{1}}{2} + \\frac{\\sqrt{3} k_{2}}{6}\\right)} - 0.5 J e^{i \\left(\\frac{k_{1}}{2} + \\frac{\\sqrt{3} k_{2}}{6}\\right)} & 0 & - 0.5 J e^{- \\frac{\\sqrt{3} i k_{2}}{3}} & 0\\\\0 & 0 & 1.5 J & 0 & 0 & - 0.5 J e^{\\frac{\\sqrt{3} i k_{2}}{3}} & 0 & - 0.5 J e^{- i \\left(\\frac{k_{1}}{2} + \\frac{\\sqrt{3} k_{2}}{6}\\right)} - 0.5 J e^{- i \\left(- \\frac{k_{1}}{2} + \\frac{\\sqrt{3} k_{2}}{6}\\right)}\\\\0 & 0 & 0 & 1.5 J & - 0.5 J e^{- \\frac{\\sqrt{3} i k_{2}}{3}} & 0 & - 0.5 J e^{i \\left(- \\frac{k_{1}}{2} + \\frac{\\sqrt{3} k_{2}}{6}\\right)} - 0.5 J e^{i \\left(\\frac{k_{1}}{2} + \\frac{\\sqrt{3} k_{2}}{6}\\right)} & 0\\\\0 & - 0.5 J e^{- i \\left(\\frac{k_{1}}{2} + \\frac{\\sqrt{3} k_{2}}{6}\\right)} - 0.5 J e^{- i \\left(- \\frac{k_{1}}{2} + \\frac{\\sqrt{3} k_{2}}{6}\\right)} & 0 & - 0.5 J e^{\\frac{\\sqrt{3} i k_{2}}{3}} & 1.5 J & 0 & 0 & 0\\\\- 0.5 J e^{i \\left(- \\frac{k_{1}}{2} + \\frac{\\sqrt{3} k_{2}}{6}\\right)} - 0.5 J e^{i \\left(\\frac{k_{1}}{2} + \\frac{\\sqrt{3} k_{2}}{6}\\right)} & 0 & - 0.5 J e^{- \\frac{\\sqrt{3} i k_{2}}{3}} & 0 & 0 & 1.5 J & 0 & 0\\\\0 & - 0.5 J e^{\\frac{\\sqrt{3} i k_{2}}{3}} & 0 & - 0.5 J e^{- i \\left(\\frac{k_{1}}{2} + \\frac{\\sqrt{3} k_{2}}{6}\\right)} - 0.5 J e^{- i \\left(- \\frac{k_{1}}{2} + \\frac{\\sqrt{3} k_{2}}{6}\\right)} & 0 & 0 & 1.5 J & 0\\\\- 0.5 J e^{- \\frac{\\sqrt{3} i k_{2}}{3}} & 0 & - 0.5 J e^{i \\left(- \\frac{k_{1}}{2} + \\frac{\\sqrt{3} k_{2}}{6}\\right)} - 0.5 J e^{i \\left(\\frac{k_{1}}{2} + \\frac{\\sqrt{3} k_{2}}{6}\\right)} & 0 & 0 & 0 & 0 & 1.5 J\\end{matrix}\\right]$"
      ],
      "text/plain": [
       "Matrix([\n",
       "[                                                                    1.5*J,                                                                           0,                                                                         0,                                                                           0,                                                                         0, -0.5*J*exp(-I*(k1/2 + sqrt(3)*k2/6)) - 0.5*J*exp(-I*(-k1/2 + sqrt(3)*k2/6)),                                                                         0,                                                  -0.5*J*exp(sqrt(3)*I*k2/3)],\n",
       "[                                                                        0,                                                                       1.5*J,                                                                         0,                                                                           0, -0.5*J*exp(I*(-k1/2 + sqrt(3)*k2/6)) - 0.5*J*exp(I*(k1/2 + sqrt(3)*k2/6)),                                                                           0,                                               -0.5*J*exp(-sqrt(3)*I*k2/3),                                                                           0],\n",
       "[                                                                        0,                                                                           0,                                                                     1.5*J,                                                                           0,                                                                         0,                                                  -0.5*J*exp(sqrt(3)*I*k2/3),                                                                         0, -0.5*J*exp(-I*(k1/2 + sqrt(3)*k2/6)) - 0.5*J*exp(-I*(-k1/2 + sqrt(3)*k2/6))],\n",
       "[                                                                        0,                                                                           0,                                                                         0,                                                                       1.5*J,                                               -0.5*J*exp(-sqrt(3)*I*k2/3),                                                                           0, -0.5*J*exp(I*(-k1/2 + sqrt(3)*k2/6)) - 0.5*J*exp(I*(k1/2 + sqrt(3)*k2/6)),                                                                           0],\n",
       "[                                                                        0, -0.5*J*exp(-I*(k1/2 + sqrt(3)*k2/6)) - 0.5*J*exp(-I*(-k1/2 + sqrt(3)*k2/6)),                                                                         0,                                                  -0.5*J*exp(sqrt(3)*I*k2/3),                                                                     1.5*J,                                                                           0,                                                                         0,                                                                           0],\n",
       "[-0.5*J*exp(I*(-k1/2 + sqrt(3)*k2/6)) - 0.5*J*exp(I*(k1/2 + sqrt(3)*k2/6)),                                                                           0,                                               -0.5*J*exp(-sqrt(3)*I*k2/3),                                                                           0,                                                                         0,                                                                       1.5*J,                                                                         0,                                                                           0],\n",
       "[                                                                        0,                                                  -0.5*J*exp(sqrt(3)*I*k2/3),                                                                         0, -0.5*J*exp(-I*(k1/2 + sqrt(3)*k2/6)) - 0.5*J*exp(-I*(-k1/2 + sqrt(3)*k2/6)),                                                                         0,                                                                           0,                                                                     1.5*J,                                                                           0],\n",
       "[                                              -0.5*J*exp(-sqrt(3)*I*k2/3),                                                                           0, -0.5*J*exp(I*(-k1/2 + sqrt(3)*k2/6)) - 0.5*J*exp(I*(k1/2 + sqrt(3)*k2/6)),                                                                           0,                                                                         0,                                                                           0,                                                                         0,                                                                       1.5*J]])"
      ]
     },
     "execution_count": 27,
     "metadata": {},
     "output_type": "execute_result"
    }
   ],
   "source": [
    "\n",
    "    # coupling energy scale in unit meV\n",
    "    # length scale in unit angstrom\n",
    "    # Here we use Sear's paprameter, for example:\n",
    "\n",
    "    # a=1. leave k1 and k2 arbitrary\n",
    "    # add_strg: add coupling strength\n",
    "\n",
    "Hlsw_J = Hlsw.subs([ (K, 0), (Gamma, 0), (gamma, 0), (h, 0), (a, 1)])\n",
    "Hlsw_J\n"
   ]
  },
  {
   "cell_type": "code",
   "execution_count": 28,
   "metadata": {},
   "outputs": [
    {
     "data": {
      "text/latex": [
       "$\\displaystyle \\left[\\begin{matrix}0 & 0 & 0 & 0 & 0 & 0 & 0 & 0\\\\0 & 0 & 0 & 0 & 0 & 0 & 0 & 0\\\\0 & 0 & 0 & 0 & 0 & 0 & 0 & 0\\\\0 & 0 & 0 & 0 & 0 & 0 & 0 & 0\\\\0 & 0 & 0 & 0 & 0 & 0 & 0 & 0\\\\0 & 0 & 0 & 0 & 0 & 0 & 0 & 0\\\\0 & 0 & 0 & 0 & 0 & 0 & 0 & 0\\\\0 & 0 & 0 & 0 & 0 & 0 & 0 & 0\\end{matrix}\\right]$"
      ],
      "text/plain": [
       "Matrix([\n",
       "[0, 0, 0, 0, 0, 0, 0, 0],\n",
       "[0, 0, 0, 0, 0, 0, 0, 0],\n",
       "[0, 0, 0, 0, 0, 0, 0, 0],\n",
       "[0, 0, 0, 0, 0, 0, 0, 0],\n",
       "[0, 0, 0, 0, 0, 0, 0, 0],\n",
       "[0, 0, 0, 0, 0, 0, 0, 0],\n",
       "[0, 0, 0, 0, 0, 0, 0, 0],\n",
       "[0, 0, 0, 0, 0, 0, 0, 0]])"
      ]
     },
     "execution_count": 28,
     "metadata": {},
     "output_type": "execute_result"
    }
   ],
   "source": [
    "sp.transpose(sp.conjugate(Hlsw_J))-Hlsw_J"
   ]
  },
  {
   "cell_type": "code",
   "execution_count": 29,
   "metadata": {},
   "outputs": [
    {
     "data": {
      "text/latex": [
       "$\\displaystyle \\left[\\begin{matrix}1.0 K & - 0.5 K e^{- i \\left(- \\frac{k_{1}}{2} + \\frac{\\sqrt{3} k_{2}}{6}\\right)} & 0 & 0.5 K e^{\\frac{\\sqrt{3} i k_{2}}{3}} & 0 & - 0.5 K e^{- i \\left(- \\frac{k_{1}}{2} + \\frac{\\sqrt{3} k_{2}}{6}\\right)} & 0 & - 0.5 K e^{\\frac{\\sqrt{3} i k_{2}}{3}}\\\\- 0.5 K e^{i \\left(- \\frac{k_{1}}{2} + \\frac{\\sqrt{3} k_{2}}{6}\\right)} & 1.0 K & 0.5 K e^{- \\frac{\\sqrt{3} i k_{2}}{3}} & 0 & - 0.5 K e^{i \\left(- \\frac{k_{1}}{2} + \\frac{\\sqrt{3} k_{2}}{6}\\right)} & 0 & - 0.5 K e^{- \\frac{\\sqrt{3} i k_{2}}{3}} & 0\\\\0 & 0.5 K e^{\\frac{\\sqrt{3} i k_{2}}{3}} & 1.0 K & - 0.5 K e^{- i \\left(- \\frac{k_{1}}{2} + \\frac{\\sqrt{3} k_{2}}{6}\\right)} & 0 & - 0.5 K e^{\\frac{\\sqrt{3} i k_{2}}{3}} & 0 & - 0.5 K e^{- i \\left(- \\frac{k_{1}}{2} + \\frac{\\sqrt{3} k_{2}}{6}\\right)}\\\\0.5 K e^{- \\frac{\\sqrt{3} i k_{2}}{3}} & 0 & - 0.5 K e^{i \\left(- \\frac{k_{1}}{2} + \\frac{\\sqrt{3} k_{2}}{6}\\right)} & 1.0 K & - 0.5 K e^{- \\frac{\\sqrt{3} i k_{2}}{3}} & 0 & - 0.5 K e^{i \\left(- \\frac{k_{1}}{2} + \\frac{\\sqrt{3} k_{2}}{6}\\right)} & 0\\\\0 & - 0.5 K e^{- i \\left(- \\frac{k_{1}}{2} + \\frac{\\sqrt{3} k_{2}}{6}\\right)} & 0 & - 0.5 K e^{\\frac{\\sqrt{3} i k_{2}}{3}} & 1.0 K & - 0.5 K e^{- i \\left(- \\frac{k_{1}}{2} + \\frac{\\sqrt{3} k_{2}}{6}\\right)} & 0 & 0.5 K e^{\\frac{\\sqrt{3} i k_{2}}{3}}\\\\- 0.5 K e^{i \\left(- \\frac{k_{1}}{2} + \\frac{\\sqrt{3} k_{2}}{6}\\right)} & 0 & - 0.5 K e^{- \\frac{\\sqrt{3} i k_{2}}{3}} & 0 & - 0.5 K e^{i \\left(- \\frac{k_{1}}{2} + \\frac{\\sqrt{3} k_{2}}{6}\\right)} & 1.0 K & 0.5 K e^{- \\frac{\\sqrt{3} i k_{2}}{3}} & 0\\\\0 & - 0.5 K e^{\\frac{\\sqrt{3} i k_{2}}{3}} & 0 & - 0.5 K e^{- i \\left(- \\frac{k_{1}}{2} + \\frac{\\sqrt{3} k_{2}}{6}\\right)} & 0 & 0.5 K e^{\\frac{\\sqrt{3} i k_{2}}{3}} & 1.0 K & - 0.5 K e^{- i \\left(- \\frac{k_{1}}{2} + \\frac{\\sqrt{3} k_{2}}{6}\\right)}\\\\- 0.5 K e^{- \\frac{\\sqrt{3} i k_{2}}{3}} & 0 & - 0.5 K e^{i \\left(- \\frac{k_{1}}{2} + \\frac{\\sqrt{3} k_{2}}{6}\\right)} & 0 & 0.5 K e^{- \\frac{\\sqrt{3} i k_{2}}{3}} & 0 & - 0.5 K e^{i \\left(- \\frac{k_{1}}{2} + \\frac{\\sqrt{3} k_{2}}{6}\\right)} & 1.0 K\\end{matrix}\\right]$"
      ],
      "text/plain": [
       "Matrix([\n",
       "[                               1.0*K, -0.5*K*exp(-I*(-k1/2 + sqrt(3)*k2/6)),                                    0,             0.5*K*exp(sqrt(3)*I*k2/3),                                    0, -0.5*K*exp(-I*(-k1/2 + sqrt(3)*k2/6)),                                    0,            -0.5*K*exp(sqrt(3)*I*k2/3)],\n",
       "[-0.5*K*exp(I*(-k1/2 + sqrt(3)*k2/6)),                                 1.0*K,           0.5*K*exp(-sqrt(3)*I*k2/3),                                     0, -0.5*K*exp(I*(-k1/2 + sqrt(3)*k2/6)),                                     0,          -0.5*K*exp(-sqrt(3)*I*k2/3),                                     0],\n",
       "[                                   0,             0.5*K*exp(sqrt(3)*I*k2/3),                                1.0*K, -0.5*K*exp(-I*(-k1/2 + sqrt(3)*k2/6)),                                    0,            -0.5*K*exp(sqrt(3)*I*k2/3),                                    0, -0.5*K*exp(-I*(-k1/2 + sqrt(3)*k2/6))],\n",
       "[          0.5*K*exp(-sqrt(3)*I*k2/3),                                     0, -0.5*K*exp(I*(-k1/2 + sqrt(3)*k2/6)),                                 1.0*K,          -0.5*K*exp(-sqrt(3)*I*k2/3),                                     0, -0.5*K*exp(I*(-k1/2 + sqrt(3)*k2/6)),                                     0],\n",
       "[                                   0, -0.5*K*exp(-I*(-k1/2 + sqrt(3)*k2/6)),                                    0,            -0.5*K*exp(sqrt(3)*I*k2/3),                                1.0*K, -0.5*K*exp(-I*(-k1/2 + sqrt(3)*k2/6)),                                    0,             0.5*K*exp(sqrt(3)*I*k2/3)],\n",
       "[-0.5*K*exp(I*(-k1/2 + sqrt(3)*k2/6)),                                     0,          -0.5*K*exp(-sqrt(3)*I*k2/3),                                     0, -0.5*K*exp(I*(-k1/2 + sqrt(3)*k2/6)),                                 1.0*K,           0.5*K*exp(-sqrt(3)*I*k2/3),                                     0],\n",
       "[                                   0,            -0.5*K*exp(sqrt(3)*I*k2/3),                                    0, -0.5*K*exp(-I*(-k1/2 + sqrt(3)*k2/6)),                                    0,             0.5*K*exp(sqrt(3)*I*k2/3),                                1.0*K, -0.5*K*exp(-I*(-k1/2 + sqrt(3)*k2/6))],\n",
       "[         -0.5*K*exp(-sqrt(3)*I*k2/3),                                     0, -0.5*K*exp(I*(-k1/2 + sqrt(3)*k2/6)),                                     0,           0.5*K*exp(-sqrt(3)*I*k2/3),                                     0, -0.5*K*exp(I*(-k1/2 + sqrt(3)*k2/6)),                                 1.0*K]])"
      ]
     },
     "execution_count": 29,
     "metadata": {},
     "output_type": "execute_result"
    }
   ],
   "source": [
    "Hlsw_K = Hlsw.subs([ (J,0), (Gamma, 0), (gamma, 0), (h, 0), (a, 1)])\n",
    "Hlsw_K"
   ]
  },
  {
   "cell_type": "code",
   "execution_count": 30,
   "metadata": {},
   "outputs": [
    {
     "data": {
      "text/latex": [
       "$\\displaystyle \\left[\\begin{matrix}0 & 0 & 0 & 0 & 0 & 0 & 0 & 0\\\\0 & 0 & 0 & 0 & 0 & 0 & 0 & 0\\\\0 & 0 & 0 & 0 & 0 & 0 & 0 & 0\\\\0 & 0 & 0 & 0 & 0 & 0 & 0 & 0\\\\0 & 0 & 0 & 0 & 0 & 0 & 0 & 0\\\\0 & 0 & 0 & 0 & 0 & 0 & 0 & 0\\\\0 & 0 & 0 & 0 & 0 & 0 & 0 & 0\\\\0 & 0 & 0 & 0 & 0 & 0 & 0 & 0\\end{matrix}\\right]$"
      ],
      "text/plain": [
       "Matrix([\n",
       "[0, 0, 0, 0, 0, 0, 0, 0],\n",
       "[0, 0, 0, 0, 0, 0, 0, 0],\n",
       "[0, 0, 0, 0, 0, 0, 0, 0],\n",
       "[0, 0, 0, 0, 0, 0, 0, 0],\n",
       "[0, 0, 0, 0, 0, 0, 0, 0],\n",
       "[0, 0, 0, 0, 0, 0, 0, 0],\n",
       "[0, 0, 0, 0, 0, 0, 0, 0],\n",
       "[0, 0, 0, 0, 0, 0, 0, 0]])"
      ]
     },
     "execution_count": 30,
     "metadata": {},
     "output_type": "execute_result"
    }
   ],
   "source": [
    "sp.transpose(sp.conjugate(Hlsw_K))-Hlsw_K"
   ]
  },
  {
   "cell_type": "code",
   "execution_count": 31,
   "metadata": {
    "scrolled": true
   },
   "outputs": [
    {
     "data": {
      "text/latex": [
       "$\\displaystyle \\left[\\begin{matrix}- 6.12323399573677 \\cdot 10^{-17} Γ & - 0.5 i Γ e^{- i \\left(\\frac{k_{1}}{2} + \\frac{\\sqrt{3} k_{2}}{6}\\right)} - 3.06161699786838 \\cdot 10^{-17} i Γ e^{- i \\left(- \\frac{k_{1}}{2} + \\frac{\\sqrt{3} k_{2}}{6}\\right)} & 0 & - 3.06161699786838 \\cdot 10^{-17} Γ e^{\\frac{\\sqrt{3} i k_{2}}{3}} & 0 & - 3.06161699786838 \\cdot 10^{-17} i Γ e^{- i \\left(- \\frac{k_{1}}{2} + \\frac{\\sqrt{3} k_{2}}{6}\\right)} & 0 & - 3.06161699786838 \\cdot 10^{-17} Γ e^{\\frac{\\sqrt{3} i k_{2}}{3}}\\\\3.06161699786838 \\cdot 10^{-17} i Γ e^{i \\left(- \\frac{k_{1}}{2} + \\frac{\\sqrt{3} k_{2}}{6}\\right)} + 0.5 i Γ e^{i \\left(\\frac{k_{1}}{2} + \\frac{\\sqrt{3} k_{2}}{6}\\right)} & - 6.12323399573677 \\cdot 10^{-17} Γ & - 3.06161699786838 \\cdot 10^{-17} Γ e^{- \\frac{\\sqrt{3} i k_{2}}{3}} & 0 & - 3.06161699786838 \\cdot 10^{-17} i Γ e^{i \\left(- \\frac{k_{1}}{2} + \\frac{\\sqrt{3} k_{2}}{6}\\right)} & 0 & - 3.06161699786838 \\cdot 10^{-17} Γ e^{- \\frac{\\sqrt{3} i k_{2}}{3}} & 0\\\\0 & - 3.06161699786838 \\cdot 10^{-17} Γ e^{\\frac{\\sqrt{3} i k_{2}}{3}} & - 6.12323399573677 \\cdot 10^{-17} Γ & - 0.5 i Γ e^{- i \\left(\\frac{k_{1}}{2} + \\frac{\\sqrt{3} k_{2}}{6}\\right)} - 3.06161699786838 \\cdot 10^{-17} i Γ e^{- i \\left(- \\frac{k_{1}}{2} + \\frac{\\sqrt{3} k_{2}}{6}\\right)} & 0 & - 3.06161699786838 \\cdot 10^{-17} Γ e^{\\frac{\\sqrt{3} i k_{2}}{3}} & 0 & - 3.06161699786838 \\cdot 10^{-17} i Γ e^{- i \\left(- \\frac{k_{1}}{2} + \\frac{\\sqrt{3} k_{2}}{6}\\right)}\\\\- 3.06161699786838 \\cdot 10^{-17} Γ e^{- \\frac{\\sqrt{3} i k_{2}}{3}} & 0 & 3.06161699786838 \\cdot 10^{-17} i Γ e^{i \\left(- \\frac{k_{1}}{2} + \\frac{\\sqrt{3} k_{2}}{6}\\right)} + 0.5 i Γ e^{i \\left(\\frac{k_{1}}{2} + \\frac{\\sqrt{3} k_{2}}{6}\\right)} & - 6.12323399573677 \\cdot 10^{-17} Γ & - 3.06161699786838 \\cdot 10^{-17} Γ e^{- \\frac{\\sqrt{3} i k_{2}}{3}} & 0 & - 3.06161699786838 \\cdot 10^{-17} i Γ e^{i \\left(- \\frac{k_{1}}{2} + \\frac{\\sqrt{3} k_{2}}{6}\\right)} & 0\\\\0 & 3.06161699786838 \\cdot 10^{-17} i Γ e^{- i \\left(- \\frac{k_{1}}{2} + \\frac{\\sqrt{3} k_{2}}{6}\\right)} & 0 & - 3.06161699786838 \\cdot 10^{-17} Γ e^{\\frac{\\sqrt{3} i k_{2}}{3}} & - 6.12323399573677 \\cdot 10^{-17} Γ & - 0.5 i Γ e^{- i \\left(\\frac{k_{1}}{2} + \\frac{\\sqrt{3} k_{2}}{6}\\right)} - 3.06161699786838 \\cdot 10^{-17} i Γ e^{- i \\left(- \\frac{k_{1}}{2} + \\frac{\\sqrt{3} k_{2}}{6}\\right)} & 0 & - 3.06161699786838 \\cdot 10^{-17} Γ e^{\\frac{\\sqrt{3} i k_{2}}{3}}\\\\3.06161699786838 \\cdot 10^{-17} i Γ e^{i \\left(- \\frac{k_{1}}{2} + \\frac{\\sqrt{3} k_{2}}{6}\\right)} & 0 & - 3.06161699786838 \\cdot 10^{-17} Γ e^{- \\frac{\\sqrt{3} i k_{2}}{3}} & 0 & 3.06161699786838 \\cdot 10^{-17} i Γ e^{i \\left(- \\frac{k_{1}}{2} + \\frac{\\sqrt{3} k_{2}}{6}\\right)} + 0.5 i Γ e^{i \\left(\\frac{k_{1}}{2} + \\frac{\\sqrt{3} k_{2}}{6}\\right)} & - 6.12323399573677 \\cdot 10^{-17} Γ & - 3.06161699786838 \\cdot 10^{-17} Γ e^{- \\frac{\\sqrt{3} i k_{2}}{3}} & 0\\\\0 & - 3.06161699786838 \\cdot 10^{-17} Γ e^{\\frac{\\sqrt{3} i k_{2}}{3}} & 0 & 3.06161699786838 \\cdot 10^{-17} i Γ e^{- i \\left(- \\frac{k_{1}}{2} + \\frac{\\sqrt{3} k_{2}}{6}\\right)} & 0 & - 3.06161699786838 \\cdot 10^{-17} Γ e^{\\frac{\\sqrt{3} i k_{2}}{3}} & - 6.12323399573677 \\cdot 10^{-17} Γ & - 0.5 i Γ e^{- i \\left(\\frac{k_{1}}{2} + \\frac{\\sqrt{3} k_{2}}{6}\\right)} - 3.06161699786838 \\cdot 10^{-17} i Γ e^{- i \\left(- \\frac{k_{1}}{2} + \\frac{\\sqrt{3} k_{2}}{6}\\right)}\\\\- 3.06161699786838 \\cdot 10^{-17} Γ e^{- \\frac{\\sqrt{3} i k_{2}}{3}} & 0 & 3.06161699786838 \\cdot 10^{-17} i Γ e^{i \\left(- \\frac{k_{1}}{2} + \\frac{\\sqrt{3} k_{2}}{6}\\right)} & 0 & - 3.06161699786838 \\cdot 10^{-17} Γ e^{- \\frac{\\sqrt{3} i k_{2}}{3}} & 0 & 3.06161699786838 \\cdot 10^{-17} i Γ e^{i \\left(- \\frac{k_{1}}{2} + \\frac{\\sqrt{3} k_{2}}{6}\\right)} + 0.5 i Γ e^{i \\left(\\frac{k_{1}}{2} + \\frac{\\sqrt{3} k_{2}}{6}\\right)} & - 6.12323399573677 \\cdot 10^{-17} Γ\\end{matrix}\\right]$"
      ],
      "text/plain": [
       "Matrix([\n",
       "[                                                                      -6.12323399573677e-17*Γ, -0.5*I*Γ*exp(-I*(k1/2 + sqrt(3)*k2/6)) - 3.06161699786838e-17*I*Γ*exp(-I*(-k1/2 + sqrt(3)*k2/6)),                                                                                             0,                                                      -3.06161699786838e-17*Γ*exp(sqrt(3)*I*k2/3),                                                                                             0,                                         -3.06161699786838e-17*I*Γ*exp(-I*(-k1/2 + sqrt(3)*k2/6)),                                                                                             0,                                                      -3.06161699786838e-17*Γ*exp(sqrt(3)*I*k2/3)],\n",
       "[3.06161699786838e-17*I*Γ*exp(I*(-k1/2 + sqrt(3)*k2/6)) + 0.5*I*Γ*exp(I*(k1/2 + sqrt(3)*k2/6)),                                                                          -6.12323399573677e-17*Γ,                                                  -3.06161699786838e-17*Γ*exp(-sqrt(3)*I*k2/3),                                                                                                0,                                       -3.06161699786838e-17*I*Γ*exp(I*(-k1/2 + sqrt(3)*k2/6)),                                                                                                0,                                                  -3.06161699786838e-17*Γ*exp(-sqrt(3)*I*k2/3),                                                                                                0],\n",
       "[                                                                                            0,                                                      -3.06161699786838e-17*Γ*exp(sqrt(3)*I*k2/3),                                                                       -6.12323399573677e-17*Γ, -0.5*I*Γ*exp(-I*(k1/2 + sqrt(3)*k2/6)) - 3.06161699786838e-17*I*Γ*exp(-I*(-k1/2 + sqrt(3)*k2/6)),                                                                                             0,                                                      -3.06161699786838e-17*Γ*exp(sqrt(3)*I*k2/3),                                                                                             0,                                         -3.06161699786838e-17*I*Γ*exp(-I*(-k1/2 + sqrt(3)*k2/6))],\n",
       "[                                                 -3.06161699786838e-17*Γ*exp(-sqrt(3)*I*k2/3),                                                                                                0, 3.06161699786838e-17*I*Γ*exp(I*(-k1/2 + sqrt(3)*k2/6)) + 0.5*I*Γ*exp(I*(k1/2 + sqrt(3)*k2/6)),                                                                          -6.12323399573677e-17*Γ,                                                  -3.06161699786838e-17*Γ*exp(-sqrt(3)*I*k2/3),                                                                                                0,                                       -3.06161699786838e-17*I*Γ*exp(I*(-k1/2 + sqrt(3)*k2/6)),                                                                                                0],\n",
       "[                                                                                            0,                                          3.06161699786838e-17*I*Γ*exp(-I*(-k1/2 + sqrt(3)*k2/6)),                                                                                             0,                                                      -3.06161699786838e-17*Γ*exp(sqrt(3)*I*k2/3),                                                                       -6.12323399573677e-17*Γ, -0.5*I*Γ*exp(-I*(k1/2 + sqrt(3)*k2/6)) - 3.06161699786838e-17*I*Γ*exp(-I*(-k1/2 + sqrt(3)*k2/6)),                                                                                             0,                                                      -3.06161699786838e-17*Γ*exp(sqrt(3)*I*k2/3)],\n",
       "[                                       3.06161699786838e-17*I*Γ*exp(I*(-k1/2 + sqrt(3)*k2/6)),                                                                                                0,                                                  -3.06161699786838e-17*Γ*exp(-sqrt(3)*I*k2/3),                                                                                                0, 3.06161699786838e-17*I*Γ*exp(I*(-k1/2 + sqrt(3)*k2/6)) + 0.5*I*Γ*exp(I*(k1/2 + sqrt(3)*k2/6)),                                                                          -6.12323399573677e-17*Γ,                                                  -3.06161699786838e-17*Γ*exp(-sqrt(3)*I*k2/3),                                                                                                0],\n",
       "[                                                                                            0,                                                      -3.06161699786838e-17*Γ*exp(sqrt(3)*I*k2/3),                                                                                             0,                                          3.06161699786838e-17*I*Γ*exp(-I*(-k1/2 + sqrt(3)*k2/6)),                                                                                             0,                                                      -3.06161699786838e-17*Γ*exp(sqrt(3)*I*k2/3),                                                                       -6.12323399573677e-17*Γ, -0.5*I*Γ*exp(-I*(k1/2 + sqrt(3)*k2/6)) - 3.06161699786838e-17*I*Γ*exp(-I*(-k1/2 + sqrt(3)*k2/6))],\n",
       "[                                                 -3.06161699786838e-17*Γ*exp(-sqrt(3)*I*k2/3),                                                                                                0,                                        3.06161699786838e-17*I*Γ*exp(I*(-k1/2 + sqrt(3)*k2/6)),                                                                                                0,                                                  -3.06161699786838e-17*Γ*exp(-sqrt(3)*I*k2/3),                                                                                                0, 3.06161699786838e-17*I*Γ*exp(I*(-k1/2 + sqrt(3)*k2/6)) + 0.5*I*Γ*exp(I*(k1/2 + sqrt(3)*k2/6)),                                                                          -6.12323399573677e-17*Γ]])"
      ]
     },
     "execution_count": 31,
     "metadata": {},
     "output_type": "execute_result"
    }
   ],
   "source": [
    "Hlsw_Gamma = Hlsw.subs([(J,0), (K, 0), (gamma, 0), (h, 0), (a, 1)])\n",
    "Hlsw_Gamma"
   ]
  },
  {
   "cell_type": "code",
   "execution_count": 32,
   "metadata": {},
   "outputs": [
    {
     "data": {
      "text/latex": [
       "$\\displaystyle \\left[\\begin{matrix}0 & 0 & 0 & 0 & 0 & 0 & 0 & 0\\\\0 & 0 & 0 & 0 & 0 & 0 & 0 & 0\\\\0 & 0 & 0 & 0 & 0 & 0 & 0 & 0\\\\0 & 0 & 0 & 0 & 0 & 0 & 0 & 0\\\\0 & 0 & 0 & 0 & 0 & 0 & 0 & 0\\\\0 & 0 & 0 & 0 & 0 & 0 & 0 & 0\\\\0 & 0 & 0 & 0 & 0 & 0 & 0 & 0\\\\0 & 0 & 0 & 0 & 0 & 0 & 0 & 0\\end{matrix}\\right]$"
      ],
      "text/plain": [
       "Matrix([\n",
       "[0, 0, 0, 0, 0, 0, 0, 0],\n",
       "[0, 0, 0, 0, 0, 0, 0, 0],\n",
       "[0, 0, 0, 0, 0, 0, 0, 0],\n",
       "[0, 0, 0, 0, 0, 0, 0, 0],\n",
       "[0, 0, 0, 0, 0, 0, 0, 0],\n",
       "[0, 0, 0, 0, 0, 0, 0, 0],\n",
       "[0, 0, 0, 0, 0, 0, 0, 0],\n",
       "[0, 0, 0, 0, 0, 0, 0, 0]])"
      ]
     },
     "execution_count": 32,
     "metadata": {},
     "output_type": "execute_result"
    }
   ],
   "source": [
    "sp.transpose(sp.conjugate(Hlsw_Gamma))-Hlsw_Gamma"
   ]
  },
  {
   "cell_type": "code",
   "execution_count": 33,
   "metadata": {
    "scrolled": true
   },
   "outputs": [
    {
     "data": {
      "text/latex": [
       "$\\displaystyle \\left[\\begin{matrix}- 1.22464679914735 \\cdot 10^{-16} Γ' & 0.5 \\left(- 6.12323399573677 \\cdot 10^{-17} Γ' - 1.0 i Γ'\\right) e^{- i \\left(- \\frac{k_{1}}{2} + \\frac{\\sqrt{3} k_{2}}{6}\\right)} + 0.5 \\left(- 6.12323399573677 \\cdot 10^{-17} Γ' - 6.12323399573677 \\cdot 10^{-17} i Γ'\\right) e^{- i \\left(\\frac{k_{1}}{2} + \\frac{\\sqrt{3} k_{2}}{6}\\right)} & 0 & - 0.5 i Γ' e^{\\frac{\\sqrt{3} i k_{2}}{3}} & 0 & - 3.06161699786838 \\cdot 10^{-17} Γ' e^{- i \\left(- \\frac{k_{1}}{2} + \\frac{\\sqrt{3} k_{2}}{6}\\right)} + 0.5 \\left(- 6.12323399573677 \\cdot 10^{-17} Γ' - 6.12323399573677 \\cdot 10^{-17} i Γ'\\right) e^{- i \\left(\\frac{k_{1}}{2} + \\frac{\\sqrt{3} k_{2}}{6}\\right)} & 0 & - 5.55111512312578 \\cdot 10^{-17} i Γ' e^{\\frac{\\sqrt{3} i k_{2}}{3}}\\\\0.5 \\left(- 6.12323399573677 \\cdot 10^{-17} Γ' + 6.12323399573677 \\cdot 10^{-17} i Γ'\\right) e^{i \\left(\\frac{k_{1}}{2} + \\frac{\\sqrt{3} k_{2}}{6}\\right)} + 0.5 \\left(- 6.12323399573677 \\cdot 10^{-17} Γ' + 1.0 i Γ'\\right) e^{i \\left(- \\frac{k_{1}}{2} + \\frac{\\sqrt{3} k_{2}}{6}\\right)} & - 1.22464679914735 \\cdot 10^{-16} Γ' & 0.5 i Γ' e^{- \\frac{\\sqrt{3} i k_{2}}{3}} & 0 & - 3.06161699786838 \\cdot 10^{-17} Γ' e^{i \\left(- \\frac{k_{1}}{2} + \\frac{\\sqrt{3} k_{2}}{6}\\right)} + 0.5 \\left(- 6.12323399573677 \\cdot 10^{-17} Γ' - 6.12323399573677 \\cdot 10^{-17} i Γ'\\right) e^{i \\left(\\frac{k_{1}}{2} + \\frac{\\sqrt{3} k_{2}}{6}\\right)} & 0 & - 5.55111512312578 \\cdot 10^{-17} i Γ' e^{- \\frac{\\sqrt{3} i k_{2}}{3}} & 0\\\\0 & - 0.5 i Γ' e^{\\frac{\\sqrt{3} i k_{2}}{3}} & - 1.22464679914735 \\cdot 10^{-16} Γ' & 0.5 \\left(- 6.12323399573677 \\cdot 10^{-17} Γ' - 1.0 i Γ'\\right) e^{- i \\left(- \\frac{k_{1}}{2} + \\frac{\\sqrt{3} k_{2}}{6}\\right)} + 0.5 \\left(- 6.12323399573677 \\cdot 10^{-17} Γ' - 6.12323399573677 \\cdot 10^{-17} i Γ'\\right) e^{- i \\left(\\frac{k_{1}}{2} + \\frac{\\sqrt{3} k_{2}}{6}\\right)} & 0 & - 5.55111512312578 \\cdot 10^{-17} i Γ' e^{\\frac{\\sqrt{3} i k_{2}}{3}} & 0 & - 3.06161699786838 \\cdot 10^{-17} Γ' e^{- i \\left(- \\frac{k_{1}}{2} + \\frac{\\sqrt{3} k_{2}}{6}\\right)} + 0.5 \\left(- 6.12323399573677 \\cdot 10^{-17} Γ' - 6.12323399573677 \\cdot 10^{-17} i Γ'\\right) e^{- i \\left(\\frac{k_{1}}{2} + \\frac{\\sqrt{3} k_{2}}{6}\\right)}\\\\0.5 i Γ' e^{- \\frac{\\sqrt{3} i k_{2}}{3}} & 0 & 0.5 \\left(- 6.12323399573677 \\cdot 10^{-17} Γ' + 6.12323399573677 \\cdot 10^{-17} i Γ'\\right) e^{i \\left(\\frac{k_{1}}{2} + \\frac{\\sqrt{3} k_{2}}{6}\\right)} + 0.5 \\left(- 6.12323399573677 \\cdot 10^{-17} Γ' + 1.0 i Γ'\\right) e^{i \\left(- \\frac{k_{1}}{2} + \\frac{\\sqrt{3} k_{2}}{6}\\right)} & - 1.22464679914735 \\cdot 10^{-16} Γ' & - 5.55111512312578 \\cdot 10^{-17} i Γ' e^{- \\frac{\\sqrt{3} i k_{2}}{3}} & 0 & - 3.06161699786838 \\cdot 10^{-17} Γ' e^{i \\left(- \\frac{k_{1}}{2} + \\frac{\\sqrt{3} k_{2}}{6}\\right)} + 0.5 \\left(- 6.12323399573677 \\cdot 10^{-17} Γ' - 6.12323399573677 \\cdot 10^{-17} i Γ'\\right) e^{i \\left(\\frac{k_{1}}{2} + \\frac{\\sqrt{3} k_{2}}{6}\\right)} & 0\\\\0 & - 3.06161699786838 \\cdot 10^{-17} Γ' e^{- i \\left(- \\frac{k_{1}}{2} + \\frac{\\sqrt{3} k_{2}}{6}\\right)} + 0.5 \\left(- 6.12323399573677 \\cdot 10^{-17} Γ' + 6.12323399573677 \\cdot 10^{-17} i Γ'\\right) e^{- i \\left(\\frac{k_{1}}{2} + \\frac{\\sqrt{3} k_{2}}{6}\\right)} & 0 & 5.55111512312578 \\cdot 10^{-17} i Γ' e^{\\frac{\\sqrt{3} i k_{2}}{3}} & - 1.22464679914735 \\cdot 10^{-16} Γ' & 0.5 \\left(- 6.12323399573677 \\cdot 10^{-17} Γ' - 1.0 i Γ'\\right) e^{- i \\left(- \\frac{k_{1}}{2} + \\frac{\\sqrt{3} k_{2}}{6}\\right)} + 0.5 \\left(- 6.12323399573677 \\cdot 10^{-17} Γ' - 6.12323399573677 \\cdot 10^{-17} i Γ'\\right) e^{- i \\left(\\frac{k_{1}}{2} + \\frac{\\sqrt{3} k_{2}}{6}\\right)} & 0 & - 0.5 i Γ' e^{\\frac{\\sqrt{3} i k_{2}}{3}}\\\\- 3.06161699786838 \\cdot 10^{-17} Γ' e^{i \\left(- \\frac{k_{1}}{2} + \\frac{\\sqrt{3} k_{2}}{6}\\right)} + 0.5 \\left(- 6.12323399573677 \\cdot 10^{-17} Γ' + 6.12323399573677 \\cdot 10^{-17} i Γ'\\right) e^{i \\left(\\frac{k_{1}}{2} + \\frac{\\sqrt{3} k_{2}}{6}\\right)} & 0 & 5.55111512312578 \\cdot 10^{-17} i Γ' e^{- \\frac{\\sqrt{3} i k_{2}}{3}} & 0 & 0.5 \\left(- 6.12323399573677 \\cdot 10^{-17} Γ' + 6.12323399573677 \\cdot 10^{-17} i Γ'\\right) e^{i \\left(\\frac{k_{1}}{2} + \\frac{\\sqrt{3} k_{2}}{6}\\right)} + 0.5 \\left(- 6.12323399573677 \\cdot 10^{-17} Γ' + 1.0 i Γ'\\right) e^{i \\left(- \\frac{k_{1}}{2} + \\frac{\\sqrt{3} k_{2}}{6}\\right)} & - 1.22464679914735 \\cdot 10^{-16} Γ' & 0.5 i Γ' e^{- \\frac{\\sqrt{3} i k_{2}}{3}} & 0\\\\0 & 5.55111512312578 \\cdot 10^{-17} i Γ' e^{\\frac{\\sqrt{3} i k_{2}}{3}} & 0 & - 3.06161699786838 \\cdot 10^{-17} Γ' e^{- i \\left(- \\frac{k_{1}}{2} + \\frac{\\sqrt{3} k_{2}}{6}\\right)} + 0.5 \\left(- 6.12323399573677 \\cdot 10^{-17} Γ' + 6.12323399573677 \\cdot 10^{-17} i Γ'\\right) e^{- i \\left(\\frac{k_{1}}{2} + \\frac{\\sqrt{3} k_{2}}{6}\\right)} & 0 & - 0.5 i Γ' e^{\\frac{\\sqrt{3} i k_{2}}{3}} & - 1.22464679914735 \\cdot 10^{-16} Γ' & 0.5 \\left(- 6.12323399573677 \\cdot 10^{-17} Γ' - 1.0 i Γ'\\right) e^{- i \\left(- \\frac{k_{1}}{2} + \\frac{\\sqrt{3} k_{2}}{6}\\right)} + 0.5 \\left(- 6.12323399573677 \\cdot 10^{-17} Γ' - 6.12323399573677 \\cdot 10^{-17} i Γ'\\right) e^{- i \\left(\\frac{k_{1}}{2} + \\frac{\\sqrt{3} k_{2}}{6}\\right)}\\\\5.55111512312578 \\cdot 10^{-17} i Γ' e^{- \\frac{\\sqrt{3} i k_{2}}{3}} & 0 & - 3.06161699786838 \\cdot 10^{-17} Γ' e^{i \\left(- \\frac{k_{1}}{2} + \\frac{\\sqrt{3} k_{2}}{6}\\right)} + 0.5 \\left(- 6.12323399573677 \\cdot 10^{-17} Γ' + 6.12323399573677 \\cdot 10^{-17} i Γ'\\right) e^{i \\left(\\frac{k_{1}}{2} + \\frac{\\sqrt{3} k_{2}}{6}\\right)} & 0 & 0.5 i Γ' e^{- \\frac{\\sqrt{3} i k_{2}}{3}} & 0 & 0.5 \\left(- 6.12323399573677 \\cdot 10^{-17} Γ' + 6.12323399573677 \\cdot 10^{-17} i Γ'\\right) e^{i \\left(\\frac{k_{1}}{2} + \\frac{\\sqrt{3} k_{2}}{6}\\right)} + 0.5 \\left(- 6.12323399573677 \\cdot 10^{-17} Γ' + 1.0 i Γ'\\right) e^{i \\left(- \\frac{k_{1}}{2} + \\frac{\\sqrt{3} k_{2}}{6}\\right)} & - 1.22464679914735 \\cdot 10^{-16} Γ'\\end{matrix}\\right]$"
      ],
      "text/plain": [
       "Matrix([\n",
       "[                                                                                                                                         -1.22464679914735e-16*Γ', 0.5*(-6.12323399573677e-17*Γ' - 1.0*I*Γ')*exp(-I*(-k1/2 + sqrt(3)*k2/6)) + 0.5*(-6.12323399573677e-17*Γ' - 6.12323399573677e-17*I*Γ')*exp(-I*(k1/2 + sqrt(3)*k2/6)),                                                                                                                                                                 0,                                                                                                                                       -0.5*I*Γ'*exp(sqrt(3)*I*k2/3),                                                                                                                                                                 0,                  -3.06161699786838e-17*Γ'*exp(-I*(-k1/2 + sqrt(3)*k2/6)) + 0.5*(-6.12323399573677e-17*Γ' - 6.12323399573677e-17*I*Γ')*exp(-I*(k1/2 + sqrt(3)*k2/6)),                                                                                                                                                                 0,                                                                                                                      -5.55111512312578e-17*I*Γ'*exp(sqrt(3)*I*k2/3)],\n",
       "[0.5*(-6.12323399573677e-17*Γ' + 6.12323399573677e-17*I*Γ')*exp(I*(k1/2 + sqrt(3)*k2/6)) + 0.5*(-6.12323399573677e-17*Γ' + 1.0*I*Γ')*exp(I*(-k1/2 + sqrt(3)*k2/6)),                                                                                                                                            -1.22464679914735e-16*Γ',                                                                                                                                     0.5*I*Γ'*exp(-sqrt(3)*I*k2/3),                                                                                                                                                                   0,                  -3.06161699786838e-17*Γ'*exp(I*(-k1/2 + sqrt(3)*k2/6)) + 0.5*(-6.12323399573677e-17*Γ' - 6.12323399573677e-17*I*Γ')*exp(I*(k1/2 + sqrt(3)*k2/6)),                                                                                                                                                                   0,                                                                                                                   -5.55111512312578e-17*I*Γ'*exp(-sqrt(3)*I*k2/3),                                                                                                                                                                   0],\n",
       "[                                                                                                                                                                0,                                                                                                                                       -0.5*I*Γ'*exp(sqrt(3)*I*k2/3),                                                                                                                                          -1.22464679914735e-16*Γ', 0.5*(-6.12323399573677e-17*Γ' - 1.0*I*Γ')*exp(-I*(-k1/2 + sqrt(3)*k2/6)) + 0.5*(-6.12323399573677e-17*Γ' - 6.12323399573677e-17*I*Γ')*exp(-I*(k1/2 + sqrt(3)*k2/6)),                                                                                                                                                                 0,                                                                                                                      -5.55111512312578e-17*I*Γ'*exp(sqrt(3)*I*k2/3),                                                                                                                                                                 0,                  -3.06161699786838e-17*Γ'*exp(-I*(-k1/2 + sqrt(3)*k2/6)) + 0.5*(-6.12323399573677e-17*Γ' - 6.12323399573677e-17*I*Γ')*exp(-I*(k1/2 + sqrt(3)*k2/6))],\n",
       "[                                                                                                                                    0.5*I*Γ'*exp(-sqrt(3)*I*k2/3),                                                                                                                                                                   0, 0.5*(-6.12323399573677e-17*Γ' + 6.12323399573677e-17*I*Γ')*exp(I*(k1/2 + sqrt(3)*k2/6)) + 0.5*(-6.12323399573677e-17*Γ' + 1.0*I*Γ')*exp(I*(-k1/2 + sqrt(3)*k2/6)),                                                                                                                                            -1.22464679914735e-16*Γ',                                                                                                                   -5.55111512312578e-17*I*Γ'*exp(-sqrt(3)*I*k2/3),                                                                                                                                                                   0,                  -3.06161699786838e-17*Γ'*exp(I*(-k1/2 + sqrt(3)*k2/6)) + 0.5*(-6.12323399573677e-17*Γ' - 6.12323399573677e-17*I*Γ')*exp(I*(k1/2 + sqrt(3)*k2/6)),                                                                                                                                                                   0],\n",
       "[                                                                                                                                                                0,                  -3.06161699786838e-17*Γ'*exp(-I*(-k1/2 + sqrt(3)*k2/6)) + 0.5*(-6.12323399573677e-17*Γ' + 6.12323399573677e-17*I*Γ')*exp(-I*(k1/2 + sqrt(3)*k2/6)),                                                                                                                                                                 0,                                                                                                                       5.55111512312578e-17*I*Γ'*exp(sqrt(3)*I*k2/3),                                                                                                                                          -1.22464679914735e-16*Γ', 0.5*(-6.12323399573677e-17*Γ' - 1.0*I*Γ')*exp(-I*(-k1/2 + sqrt(3)*k2/6)) + 0.5*(-6.12323399573677e-17*Γ' - 6.12323399573677e-17*I*Γ')*exp(-I*(k1/2 + sqrt(3)*k2/6)),                                                                                                                                                                 0,                                                                                                                                       -0.5*I*Γ'*exp(sqrt(3)*I*k2/3)],\n",
       "[                 -3.06161699786838e-17*Γ'*exp(I*(-k1/2 + sqrt(3)*k2/6)) + 0.5*(-6.12323399573677e-17*Γ' + 6.12323399573677e-17*I*Γ')*exp(I*(k1/2 + sqrt(3)*k2/6)),                                                                                                                                                                   0,                                                                                                                    5.55111512312578e-17*I*Γ'*exp(-sqrt(3)*I*k2/3),                                                                                                                                                                   0, 0.5*(-6.12323399573677e-17*Γ' + 6.12323399573677e-17*I*Γ')*exp(I*(k1/2 + sqrt(3)*k2/6)) + 0.5*(-6.12323399573677e-17*Γ' + 1.0*I*Γ')*exp(I*(-k1/2 + sqrt(3)*k2/6)),                                                                                                                                            -1.22464679914735e-16*Γ',                                                                                                                                     0.5*I*Γ'*exp(-sqrt(3)*I*k2/3),                                                                                                                                                                   0],\n",
       "[                                                                                                                                                                0,                                                                                                                       5.55111512312578e-17*I*Γ'*exp(sqrt(3)*I*k2/3),                                                                                                                                                                 0,                  -3.06161699786838e-17*Γ'*exp(-I*(-k1/2 + sqrt(3)*k2/6)) + 0.5*(-6.12323399573677e-17*Γ' + 6.12323399573677e-17*I*Γ')*exp(-I*(k1/2 + sqrt(3)*k2/6)),                                                                                                                                                                 0,                                                                                                                                       -0.5*I*Γ'*exp(sqrt(3)*I*k2/3),                                                                                                                                          -1.22464679914735e-16*Γ', 0.5*(-6.12323399573677e-17*Γ' - 1.0*I*Γ')*exp(-I*(-k1/2 + sqrt(3)*k2/6)) + 0.5*(-6.12323399573677e-17*Γ' - 6.12323399573677e-17*I*Γ')*exp(-I*(k1/2 + sqrt(3)*k2/6))],\n",
       "[                                                                                                                   5.55111512312578e-17*I*Γ'*exp(-sqrt(3)*I*k2/3),                                                                                                                                                                   0,                  -3.06161699786838e-17*Γ'*exp(I*(-k1/2 + sqrt(3)*k2/6)) + 0.5*(-6.12323399573677e-17*Γ' + 6.12323399573677e-17*I*Γ')*exp(I*(k1/2 + sqrt(3)*k2/6)),                                                                                                                                                                   0,                                                                                                                                     0.5*I*Γ'*exp(-sqrt(3)*I*k2/3),                                                                                                                                                                   0, 0.5*(-6.12323399573677e-17*Γ' + 6.12323399573677e-17*I*Γ')*exp(I*(k1/2 + sqrt(3)*k2/6)) + 0.5*(-6.12323399573677e-17*Γ' + 1.0*I*Γ')*exp(I*(-k1/2 + sqrt(3)*k2/6)),                                                                                                                                            -1.22464679914735e-16*Γ']])"
      ]
     },
     "execution_count": 33,
     "metadata": {},
     "output_type": "execute_result"
    }
   ],
   "source": [
    "Hlsw_gamma = Hlsw.subs([(J,0), (K, 0), (Gamma, 0), (h, 0), (a, 1)])\n",
    "Hlsw_gamma"
   ]
  },
  {
   "cell_type": "code",
   "execution_count": 34,
   "metadata": {},
   "outputs": [
    {
     "data": {
      "text/latex": [
       "$\\displaystyle \\left[\\begin{matrix}0 & 0 & 0 & 0 & 0 & 0 & 0 & 0\\\\0 & 0 & 0 & 0 & 0 & 0 & 0 & 0\\\\0 & 0 & 0 & 0 & 0 & 0 & 0 & 0\\\\0 & 0 & 0 & 0 & 0 & 0 & 0 & 0\\\\0 & 0 & 0 & 0 & 0 & 0 & 0 & 0\\\\0 & 0 & 0 & 0 & 0 & 0 & 0 & 0\\\\0 & 0 & 0 & 0 & 0 & 0 & 0 & 0\\\\0 & 0 & 0 & 0 & 0 & 0 & 0 & 0\\end{matrix}\\right]$"
      ],
      "text/plain": [
       "Matrix([\n",
       "[0, 0, 0, 0, 0, 0, 0, 0],\n",
       "[0, 0, 0, 0, 0, 0, 0, 0],\n",
       "[0, 0, 0, 0, 0, 0, 0, 0],\n",
       "[0, 0, 0, 0, 0, 0, 0, 0],\n",
       "[0, 0, 0, 0, 0, 0, 0, 0],\n",
       "[0, 0, 0, 0, 0, 0, 0, 0],\n",
       "[0, 0, 0, 0, 0, 0, 0, 0],\n",
       "[0, 0, 0, 0, 0, 0, 0, 0]])"
      ]
     },
     "execution_count": 34,
     "metadata": {},
     "output_type": "execute_result"
    }
   ],
   "source": [
    "sp.transpose(sp.conjugate(Hlsw_gamma))-Hlsw_gamma"
   ]
  },
  {
   "cell_type": "code",
   "execution_count": 35,
   "metadata": {},
   "outputs": [
    {
     "data": {
      "text/latex": [
       "$\\displaystyle \\left[\\begin{matrix}1.5 & 0 & 0 & 0 & 0 & - 0.5 e^{- i \\left(\\frac{k_{1}}{2} + \\frac{\\sqrt{3} k_{2}}{6}\\right)} - 0.5 e^{- i \\left(- \\frac{k_{1}}{2} + \\frac{\\sqrt{3} k_{2}}{6}\\right)} & 0 & - 0.5 e^{\\frac{\\sqrt{3} i k_{2}}{3}}\\\\0 & 1.5 & 0 & 0 & - 0.5 e^{i \\left(- \\frac{k_{1}}{2} + \\frac{\\sqrt{3} k_{2}}{6}\\right)} - 0.5 e^{i \\left(\\frac{k_{1}}{2} + \\frac{\\sqrt{3} k_{2}}{6}\\right)} & 0 & - 0.5 e^{- \\frac{\\sqrt{3} i k_{2}}{3}} & 0\\\\0 & 0 & 1.5 & 0 & 0 & - 0.5 e^{\\frac{\\sqrt{3} i k_{2}}{3}} & 0 & - 0.5 e^{- i \\left(\\frac{k_{1}}{2} + \\frac{\\sqrt{3} k_{2}}{6}\\right)} - 0.5 e^{- i \\left(- \\frac{k_{1}}{2} + \\frac{\\sqrt{3} k_{2}}{6}\\right)}\\\\0 & 0 & 0 & 1.5 & - 0.5 e^{- \\frac{\\sqrt{3} i k_{2}}{3}} & 0 & - 0.5 e^{i \\left(- \\frac{k_{1}}{2} + \\frac{\\sqrt{3} k_{2}}{6}\\right)} - 0.5 e^{i \\left(\\frac{k_{1}}{2} + \\frac{\\sqrt{3} k_{2}}{6}\\right)} & 0\\\\0 & - 0.5 e^{- i \\left(\\frac{k_{1}}{2} + \\frac{\\sqrt{3} k_{2}}{6}\\right)} - 0.5 e^{- i \\left(- \\frac{k_{1}}{2} + \\frac{\\sqrt{3} k_{2}}{6}\\right)} & 0 & - 0.5 e^{\\frac{\\sqrt{3} i k_{2}}{3}} & 1.5 & 0 & 0 & 0\\\\- 0.5 e^{i \\left(- \\frac{k_{1}}{2} + \\frac{\\sqrt{3} k_{2}}{6}\\right)} - 0.5 e^{i \\left(\\frac{k_{1}}{2} + \\frac{\\sqrt{3} k_{2}}{6}\\right)} & 0 & - 0.5 e^{- \\frac{\\sqrt{3} i k_{2}}{3}} & 0 & 0 & 1.5 & 0 & 0\\\\0 & - 0.5 e^{\\frac{\\sqrt{3} i k_{2}}{3}} & 0 & - 0.5 e^{- i \\left(\\frac{k_{1}}{2} + \\frac{\\sqrt{3} k_{2}}{6}\\right)} - 0.5 e^{- i \\left(- \\frac{k_{1}}{2} + \\frac{\\sqrt{3} k_{2}}{6}\\right)} & 0 & 0 & 1.5 & 0\\\\- 0.5 e^{- \\frac{\\sqrt{3} i k_{2}}{3}} & 0 & - 0.5 e^{i \\left(- \\frac{k_{1}}{2} + \\frac{\\sqrt{3} k_{2}}{6}\\right)} - 0.5 e^{i \\left(\\frac{k_{1}}{2} + \\frac{\\sqrt{3} k_{2}}{6}\\right)} & 0 & 0 & 0 & 0 & 1.5\\end{matrix}\\right]$"
      ],
      "text/plain": [
       "Matrix([\n",
       "[                                                                  1.5,                                                                       0,                                                                     0,                                                                       0,                                                                     0, -0.5*exp(-I*(k1/2 + sqrt(3)*k2/6)) - 0.5*exp(-I*(-k1/2 + sqrt(3)*k2/6)),                                                                     0,                                                -0.5*exp(sqrt(3)*I*k2/3)],\n",
       "[                                                                    0,                                                                     1.5,                                                                     0,                                                                       0, -0.5*exp(I*(-k1/2 + sqrt(3)*k2/6)) - 0.5*exp(I*(k1/2 + sqrt(3)*k2/6)),                                                                       0,                                             -0.5*exp(-sqrt(3)*I*k2/3),                                                                       0],\n",
       "[                                                                    0,                                                                       0,                                                                   1.5,                                                                       0,                                                                     0,                                                -0.5*exp(sqrt(3)*I*k2/3),                                                                     0, -0.5*exp(-I*(k1/2 + sqrt(3)*k2/6)) - 0.5*exp(-I*(-k1/2 + sqrt(3)*k2/6))],\n",
       "[                                                                    0,                                                                       0,                                                                     0,                                                                     1.5,                                             -0.5*exp(-sqrt(3)*I*k2/3),                                                                       0, -0.5*exp(I*(-k1/2 + sqrt(3)*k2/6)) - 0.5*exp(I*(k1/2 + sqrt(3)*k2/6)),                                                                       0],\n",
       "[                                                                    0, -0.5*exp(-I*(k1/2 + sqrt(3)*k2/6)) - 0.5*exp(-I*(-k1/2 + sqrt(3)*k2/6)),                                                                     0,                                                -0.5*exp(sqrt(3)*I*k2/3),                                                                   1.5,                                                                       0,                                                                     0,                                                                       0],\n",
       "[-0.5*exp(I*(-k1/2 + sqrt(3)*k2/6)) - 0.5*exp(I*(k1/2 + sqrt(3)*k2/6)),                                                                       0,                                             -0.5*exp(-sqrt(3)*I*k2/3),                                                                       0,                                                                     0,                                                                     1.5,                                                                     0,                                                                       0],\n",
       "[                                                                    0,                                                -0.5*exp(sqrt(3)*I*k2/3),                                                                     0, -0.5*exp(-I*(k1/2 + sqrt(3)*k2/6)) - 0.5*exp(-I*(-k1/2 + sqrt(3)*k2/6)),                                                                     0,                                                                       0,                                                                   1.5,                                                                       0],\n",
       "[                                            -0.5*exp(-sqrt(3)*I*k2/3),                                                                       0, -0.5*exp(I*(-k1/2 + sqrt(3)*k2/6)) - 0.5*exp(I*(k1/2 + sqrt(3)*k2/6)),                                                                       0,                                                                     0,                                                                       0,                                                                     0,                                                                     1.5]])"
      ]
     },
     "execution_count": 35,
     "metadata": {},
     "output_type": "execute_result"
    }
   ],
   "source": [
    "cp_strg = [1,0,0,0,0]\n",
    "Hlsw_num = Hlsw.subs([(J,cp_strg[0]), (K, cp_strg[1]), (Gamma, cp_strg[2]), (gamma, cp_strg[3]), (h, cp_strg[4]), (a, 1)])\n",
    "Hlsw_num"
   ]
  },
  {
   "cell_type": "code",
   "execution_count": 36,
   "metadata": {},
   "outputs": [],
   "source": [
    "import SpinModel_afm as smk"
   ]
  },
  {
   "cell_type": "code",
   "execution_count": 37,
   "metadata": {
    "scrolled": true
   },
   "outputs": [
    {
     "data": {
      "text/latex": [
       "$\\displaystyle \\left[\\begin{matrix}0 & 0 & 0 & 0 & 0 & 0 & 0 & 0\\\\0 & 0 & 0 & 0 & 0 & 0 & 0 & 0\\\\0 & 0 & 0 & 0 & 0 & 0 & 0 & 0\\\\0 & 0 & 0 & 0 & 0 & 0 & 0 & 0\\\\0 & 0 & 0 & 0 & 0 & 0 & 0 & 0\\\\0 & 0 & 0 & 0 & 0 & 0 & 0 & 0\\\\0 & 0 & 0 & 0 & 0 & 0 & 0 & 0\\\\0 & 0 & 0 & 0 & 0 & 0 & 0 & 0\\end{matrix}\\right]$"
      ],
      "text/plain": [
       "Matrix([\n",
       "[0, 0, 0, 0, 0, 0, 0, 0],\n",
       "[0, 0, 0, 0, 0, 0, 0, 0],\n",
       "[0, 0, 0, 0, 0, 0, 0, 0],\n",
       "[0, 0, 0, 0, 0, 0, 0, 0],\n",
       "[0, 0, 0, 0, 0, 0, 0, 0],\n",
       "[0, 0, 0, 0, 0, 0, 0, 0],\n",
       "[0, 0, 0, 0, 0, 0, 0, 0],\n",
       "[0, 0, 0, 0, 0, 0, 0, 0]])"
      ]
     },
     "execution_count": 37,
     "metadata": {},
     "output_type": "execute_result"
    }
   ],
   "source": [
    "cp_strg = [1,0,0,0,0]\n",
    "H = smk.afm_spin_model(cp_strg)\n",
    "H-np.transpose(np.conjugate(H))"
   ]
  },
  {
   "cell_type": "code",
   "execution_count": 38,
   "metadata": {},
   "outputs": [
    {
     "name": "stdout",
     "output_type": "stream",
     "text": [
      "0.0 0\n",
      "0.3141592653589793 0\n",
      "0.6283185307179586 0\n",
      "0.9424777960769379 0\n",
      "1.2566370614359172 0\n",
      "1.5707963267948966 0\n",
      "1.8849555921538759 0\n",
      "2.199114857512855 0\n",
      "2.5132741228718345 0\n",
      "2.827433388230814 0\n",
      "3.141592653589793 0.0\n",
      "3.141592653589793 -0.3141592653589793\n",
      "3.141592653589793 -0.6283185307179586\n",
      "3.141592653589793 -0.9424777960769379\n",
      "3.141592653589793 -1.2566370614359172\n",
      "3.141592653589793 -1.5707963267948966\n",
      "3.141592653589793 1.8137993642342178\n",
      "2.827433388230814 1.8137993642342178\n",
      "2.5132741228718345 1.8137993642342178\n",
      "2.199114857512855 1.8137993642342178\n",
      "1.8849555921538759 1.8137993642342178\n",
      "1.5707963267948966 1.8137993642342178\n",
      "1.2566370614359172 1.8137993642342178\n",
      "0.9424777960769379 1.8137993642342178\n",
      "0.6283185307179586 1.8137993642342178\n",
      "0.3141592653589793 1.8137993642342178\n",
      "0 1.8137993642342178\n",
      "0 1.4996400988752385\n",
      "0 1.1854808335162592\n",
      "0 0.8713215681572799\n",
      "0 0.5571623027983006\n",
      "0 0.24300303743932128\n",
      "0.0 0.0\n",
      "0.27206990463513264 0.15707963267948966\n",
      "0.5441398092702653 0.3141592653589793\n",
      "0.816209713905398 0.47123889803846897\n",
      "1.0882796185405306 0.6283185307179586\n",
      "1.3603495231756633 0.7853981633974483\n",
      "1.632419427810796 0.9424777960769379\n",
      "1.9044893324459287 1.0995574287564276\n",
      "2.176559237081061 1.2566370614359172\n",
      "2.448629141716194 1.413716694115407\n",
      "2.7206990463513265 1.5707963267948966\n",
      "2.9927689509864592 1.7278759594743862\n",
      "[[ 1.41421356e+00+0.00000000e+00j  1.41421356e+00+0.00000000e+00j\n",
      "   2.76122934e-08+0.00000000e+00j -5.01779605e-16+1.99026229e-08j\n",
      "  -5.01781886e-16-1.99026229e-08j -2.76122937e-08+0.00000000e+00j\n",
      "  -1.41421356e+00+0.00000000e+00j -1.41421356e+00+0.00000000e+00j]\n",
      " [ 1.41850629e+00+2.91213438e-22j  1.41850629e+00+2.91213438e-22j\n",
      "   1.91789993e-01+6.57031695e-21j  1.91789993e-01+6.57031695e-21j\n",
      "  -1.91789993e-01-6.57031695e-21j -1.91789993e-01-6.57031695e-21j\n",
      "  -1.41850629e+00-2.91213438e-22j -1.41850629e+00-2.91213438e-22j]\n",
      " [ 1.43057611e+00+5.34134083e-22j  1.43057611e+00+5.34134083e-22j\n",
      "   3.80046032e-01+6.46812530e-21j  3.80046032e-01+6.46812530e-21j\n",
      "  -3.80046032e-01-6.46812530e-21j -3.80046032e-01-6.46812530e-21j\n",
      "  -1.43057611e+00-5.34134083e-22j -1.43057611e+00-5.34134083e-22j]\n",
      " [ 1.44814153e+00+4.57407513e-22j  1.44814153e+00+4.57407513e-22j\n",
      "   5.61338445e-01+4.19792504e-21j  5.61338445e-01+4.19792504e-21j\n",
      "  -5.61338445e-01-4.19792504e-21j -5.61338445e-01-4.19792504e-21j\n",
      "  -1.44814153e+00-4.57407513e-22j -1.44814153e+00-4.57407513e-22j]\n",
      " [ 1.46782441e+00+7.13293971e-22j  1.46782441e+00+7.13293971e-22j\n",
      "   7.32444202e-01+6.05523545e-21j  7.32444202e-01+6.05523545e-21j\n",
      "  -7.32444202e-01-6.05523545e-21j -7.32444202e-01-6.05523545e-21j\n",
      "  -1.46782441e+00-7.13293971e-22j -1.46782441e+00-7.13293971e-22j]\n",
      " [ 1.48563346e+00+4.72327184e-22j  1.48563346e+00+4.72327184e-22j\n",
      "   8.90445517e-01+4.59302313e-21j  8.90445517e-01+4.59302313e-21j\n",
      "  -8.90445517e-01-4.59302313e-21j -8.90445517e-01-4.59302313e-21j\n",
      "  -1.48563346e+00-4.72327184e-22j -1.48563346e+00-4.72327184e-22j]\n",
      " [ 1.49742905e+00+1.98625774e-22j  1.49742905e+00+1.98625774e-22j\n",
      "   1.03282295e+00+3.56843329e-21j  1.03282295e+00+3.56843329e-21j\n",
      "  -1.03282295e+00-3.56843329e-21j -1.03282295e+00-3.56843329e-21j\n",
      "  -1.49742905e+00-1.98625774e-22j -1.49742905e+00-1.98625774e-22j]\n",
      " [ 1.49929421e+00-1.03973089e-22j  1.49929421e+00-1.03973089e-22j\n",
      "   1.15754141e+00+2.79233684e-21j  1.15754141e+00+2.79233684e-21j\n",
      "  -1.15754141e+00-2.79233684e-21j -1.15754141e+00-2.79233684e-21j\n",
      "  -1.49929421e+00+5.55111512e-17j -1.49929421e+00-1.38777878e-17j]\n",
      " [ 1.48779215e+00-4.34923380e-22j  1.48779215e+00-4.34923380e-22j\n",
      "   1.26312767e+00+2.17005475e-21j  1.26312767e+00+2.17005475e-21j\n",
      "  -1.26312767e+00-2.17005475e-21j -1.26312767e+00-2.17005475e-21j\n",
      "  -1.48779215e+00+4.34923380e-22j -1.48779215e+00+4.34923380e-22j]\n",
      " [ 1.46012421e+00-7.97223482e-22j  1.46012421e+00-7.97223482e-22j\n",
      "   1.34873785e+00+1.64901317e-21j  1.34873785e+00+1.64901317e-21j\n",
      "  -1.34873785e+00-1.64901317e-21j -1.34873785e+00-1.64901317e-21j\n",
      "  -1.46012421e+00+7.97223482e-22j -1.46012421e+00+7.97223482e-22j]\n",
      " [ 1.41421356e+00+5.42101086e-19j  1.41421356e+00-2.67142864e-34j\n",
      "   1.41421356e+00+8.33885350e-51j  1.41421356e+00+3.52542050e-19j\n",
      "  -1.41421356e+00-5.03229114e-34j -1.41421356e+00-8.33885350e-51j\n",
      "  -1.41421356e+00+5.14819688e-19j -1.41421356e+00-1.21430643e-17j]\n",
      " [ 1.41421356e+00+3.83639406e-18j  1.41421356e+00+2.05267886e-18j\n",
      "   1.41421356e+00-5.65873349e-32j  1.41421356e+00-7.45082750e-17j\n",
      "  -1.41421356e+00-4.56584640e-17j -1.41421356e+00-3.87614281e-17j\n",
      "  -1.41421356e+00-4.46589623e-17j -1.41421356e+00-9.37834879e-18j]\n",
      " [ 1.41421356e+00-2.07293099e-17j  1.41421356e+00-1.78676518e-16j\n",
      "   1.41421356e+00+6.86423458e-19j  1.41421356e+00+6.00201983e-17j\n",
      "  -1.41421356e+00+1.18977636e-16j -1.41421356e+00-9.97000131e-18j\n",
      "  -1.41421356e+00+5.13363207e-17j -1.41421356e+00-3.38766181e-17j]\n",
      " [ 1.41421356e+00+5.49325889e-17j  1.41421356e+00+1.17554053e-17j\n",
      "   1.41421356e+00-1.83824911e-18j  1.41421356e+00+2.08224684e-16j\n",
      "  -1.41421356e+00+4.98479311e-17j -1.41421356e+00+3.54223022e-17j\n",
      "  -1.41421356e+00+6.88102730e-18j -1.41421356e+00-6.50521303e-18j]\n",
      " [ 1.41421356e+00+8.32667268e-17j  1.41421356e+00+2.99202663e-16j\n",
      "   1.41421356e+00+6.57123634e-17j  1.41421356e+00-2.00214378e-18j\n",
      "  -1.41421356e+00-1.15196481e-17j -1.41421356e+00-7.23433900e-17j\n",
      "  -1.41421356e+00+1.31956794e-16j -1.41421356e+00-3.85265019e-17j]\n",
      " [ 1.41421356e+00-7.80625564e-17j  1.41421356e+00+1.06501383e-16j\n",
      "   1.41421356e+00-5.46408571e-17j  1.41421356e+00-3.70308905e-19j\n",
      "  -1.41421356e+00-4.53384973e-18j -1.41421356e+00-3.91615778e-17j\n",
      "  -1.41421356e+00-3.52404881e-17j -1.41421356e+00+4.93451192e-17j]\n",
      " [ 1.41421356e+00-5.55111512e-17j  1.41421356e+00+3.60965754e-17j\n",
      "   1.41421356e+00-2.32165893e-18j  1.41421356e+00-8.75160351e-17j\n",
      "  -1.41421356e+00+4.97167639e-17j -1.41421356e+00-5.94003030e-17j\n",
      "  -1.41421356e+00+3.55215579e-17j -1.41421356e+00-1.16569959e-16j]\n",
      " [ 1.40553487e+00-1.54970301e-16j  1.40553487e+00+1.31405303e-16j\n",
      "   1.40553487e+00-4.58807883e-18j  1.40553487e+00+3.22084592e-16j\n",
      "  -1.40553487e+00-8.79287962e-17j -1.40553487e+00+8.07578387e-17j\n",
      "  -1.40553487e+00-3.98986399e-17j -1.40553487e+00-7.87334065e-17j]\n",
      " [ 1.38003931e+00+1.66533454e-16j  1.38003931e+00-5.20168111e-18j\n",
      "   1.38003931e+00-2.77555756e-17j  1.38003931e+00-5.55111512e-17j\n",
      "  -1.38003931e+00+8.62482828e-17j -1.38003931e+00+1.87350135e-16j\n",
      "  -1.38003931e+00-1.80411242e-16j -1.38003931e+00+5.22314776e-17j]\n",
      " [ 1.33936277e+00+1.94289029e-16j  1.33936277e+00-5.11911826e-18j\n",
      "   1.33936277e+00+1.26580257e-16j  1.33936277e+00-1.38777878e-16j\n",
      "  -1.33936277e+00+1.79977561e-16j -1.33936277e+00+7.63278329e-17j\n",
      "  -1.33936277e+00+4.52811476e-17j -1.33936277e+00-1.34549490e-16j]\n",
      " [ 1.28627699e+00+2.58473798e-16j  1.28627699e+00-1.06456710e-16j\n",
      "   1.28627699e+00-2.07520575e-18j  1.28627699e+00-2.49800181e-16j\n",
      "  -1.28627699e+00+6.53796496e-19j -1.28627699e+00+2.94902991e-16j\n",
      "  -1.28627699e+00-2.54365773e-16j -1.28627699e+00+8.80372164e-17j]\n",
      " [ 1.22474487e+00-6.38378239e-16j  1.22474487e+00-1.11022302e-16j\n",
      "   1.22474487e+00+0.00000000e+00j  1.22474487e+00+1.24181125e-17j\n",
      "  -1.22474487e+00+2.01227923e-16j -1.22474487e+00+5.03069808e-17j\n",
      "  -1.22474487e+00-4.69412470e-17j -1.22474487e+00+5.72892428e-16j]\n",
      " [ 1.15995323e+00+2.22044605e-16j  1.15995323e+00-1.66533454e-16j\n",
      "   1.15995323e+00+9.28606852e-18j  1.15995323e+00+9.84455573e-17j\n",
      "  -1.15995323e+00+1.11022302e-16j -1.15995323e+00-6.76542156e-17j\n",
      "  -1.15995323e+00+1.17093835e-17j -1.15995323e+00+3.83629800e-17j]\n",
      " [ 1.09822920e+00+1.03216047e-16j  1.09822920e+00+5.55111512e-17j\n",
      "   1.09822920e+00-4.71731230e-18j  1.09822920e+00-3.22536712e-16j\n",
      "  -1.09822920e+00+4.53348209e-17j -1.09822920e+00-2.91433544e-16j\n",
      "  -1.09822920e+00-5.55111512e-17j -1.09822920e+00+1.28247683e-16j]\n",
      " [ 1.04665730e+00-9.72652197e-17j  1.04665730e+00+2.94469310e-16j\n",
      "   1.04665730e+00+3.60822483e-16j  1.04665730e+00-6.32413182e-18j\n",
      "  -1.04665730e+00+1.11022302e-16j -1.04665730e+00+1.49306924e-16j\n",
      "  -1.04665730e+00+1.11022302e-16j -1.04665730e+00+5.27346123e-17j]\n",
      " [ 1.01216191e+00+2.65279674e-16j  1.01216191e+00-3.05311332e-16j\n",
      "   1.01216191e+00-2.14178520e-19j  1.01216191e+00-1.34506413e-16j\n",
      "  -1.01216191e+00+1.32554849e-16j -1.01216191e+00-4.42137646e-16j\n",
      "  -1.01216191e+00-7.85656980e-17j -1.01216191e+00+3.66026653e-16j]\n",
      " [ 1.00000000e+00-9.97622660e-18j  1.00000000e+00-1.18896262e-16j\n",
      "   1.00000000e+00-2.25744736e-16j  1.00000000e+00+1.38777878e-16j\n",
      "  -1.00000000e+00+2.42861287e-16j -1.00000000e+00+1.12938362e-17j\n",
      "  -1.00000000e+00-2.17640093e-16j -1.00000000e+00+2.17938481e-16j]\n",
      " [ 1.12637728e+00-1.53802553e-17j  1.12637728e+00+8.32638205e-17j\n",
      "   8.55145732e-01+2.58548933e-17j  8.55145732e-01-1.33072810e-16j\n",
      "  -8.55145732e-01-3.30764863e-18j -8.55145732e-01+1.30814375e-16j\n",
      "  -1.12637728e+00+9.18384358e-17j -1.12637728e+00-2.29796094e-16j]\n",
      " [ 1.23194250e+00-2.21831048e-16j  1.23194250e+00+1.40962510e-17j\n",
      "   6.94490946e-01+6.54894476e-17j  6.94490946e-01-6.84215721e-16j\n",
      "  -6.94490946e-01-7.22619731e-17j -6.94490946e-01+1.91365834e-15j\n",
      "  -1.23194250e+00+1.53126353e-17j -1.23194250e+00-2.29910870e-16j]\n",
      " [ 1.31474514e+00+3.14790385e-17j  1.31474514e+00+1.77581177e-16j\n",
      "   5.21004059e-01-5.87691803e-17j  5.21004059e-01+5.09052912e-16j\n",
      "  -5.21004059e-01+3.19710275e-16j -5.21004059e-01+4.48374462e-17j\n",
      "  -1.31474514e+00-1.02002285e-16j -1.31474514e+00-2.81065751e-16j]\n",
      " [ 1.37325524e+00+2.49655026e-16j  1.37325524e+00-2.88773161e-18j\n",
      "   3.37890587e-01-6.62682218e-17j  3.37890587e-01-2.91006120e-16j\n",
      "  -3.37890587e-01-8.66225324e-17j -3.37890587e-01+1.02106764e-16j\n",
      "  -1.37325524e+00+2.70808573e-17j -1.37325524e+00+9.44605342e-17j]\n",
      " [ 1.40639172e+00-3.64350568e-17j  1.40639172e+00+1.61186720e-17j\n",
      "   1.48533914e-01+5.50736757e-15j  1.48533914e-01-9.71445230e-17j\n",
      "  -1.48533914e-01+2.22044605e-16j -1.48533914e-01-6.01428629e-15j\n",
      "  -1.40639172e+00-2.62271264e-16j -1.40639172e+00+2.92791792e-17j]\n",
      " [ 1.41421356e+00+0.00000000e+00j  1.41421356e+00+0.00000000e+00j\n",
      "   2.76122934e-08+0.00000000e+00j -5.01779605e-16+1.99026229e-08j\n",
      "  -5.01781886e-16-1.99026229e-08j -2.76122937e-08+0.00000000e+00j\n",
      "  -1.41421356e+00+0.00000000e+00j -1.41421356e+00+0.00000000e+00j]\n",
      " [ 1.41421356e+00+6.41862617e-17j  1.41421356e+00+4.64780330e-18j\n",
      "   1.91789667e-01+1.04061158e-15j  1.91789667e-01+2.29588839e-17j\n",
      "  -1.91789667e-01-2.62506775e-17j -1.91789667e-01-6.71892606e-16j\n",
      "  -1.41421356e+00-5.47298737e-17j -1.41421356e+00+3.43660302e-19j]\n",
      " [ 1.41421356e+00+1.33071823e-16j  1.41421356e+00+4.08158057e-18j\n",
      "   3.80035639e-01-3.07342038e-17j  3.80035639e-01-5.18088207e-16j\n",
      "  -3.80035639e-01+1.59974688e-16j -3.80035639e-01+6.24680884e-17j\n",
      "  -1.41421356e+00+3.61262821e-16j -1.41421356e+00+9.06470932e-18j]\n",
      " [ 1.41421356e+00-3.34021502e-17j  1.41421356e+00-5.78268446e-19j\n",
      "   5.61259697e-01+3.93092371e-17j  5.61259697e-01+1.78153936e-16j\n",
      "  -5.61259697e-01-6.73740391e-16j -5.61259697e-01-7.38041181e-17j\n",
      "  -1.41421356e+00+1.32394944e-17j -1.41421356e+00+2.38886392e-16j]\n",
      " [ 1.41421356e+00-1.47143240e-17j  1.41421356e+00+1.39640775e-17j\n",
      "   7.32113367e-01+2.35709238e-16j  7.32113367e-01+2.99587755e-17j\n",
      "  -7.32113367e-01+9.58059789e-17j -7.32113367e-01-8.42574070e-17j\n",
      "  -1.41421356e+00-4.48251672e-17j -1.41421356e+00-4.59361160e-17j]\n",
      " [ 1.41421356e+00-4.71305816e-18j  1.41421356e+00-7.86261296e-17j\n",
      "   8.89439786e-01-2.70421510e-18j  8.89439786e-01+2.08637188e-16j\n",
      "  -8.89439786e-01+2.44262307e-17j -8.89439786e-01-2.42396085e-16j\n",
      "  -1.41421356e+00-9.88878236e-17j -1.41421356e+00+1.58324514e-16j]\n",
      " [ 1.41421356e+00-3.15101959e-18j  1.41421356e+00-2.14494014e-17j\n",
      "   1.03033204e+00-3.87354452e-17j  1.03033204e+00-1.21130595e-17j\n",
      "  -1.03033204e+00+1.60694314e-16j -1.03033204e+00+5.00353517e-19j\n",
      "  -1.41421356e+00-2.10300637e-17j -1.41421356e+00-6.65209642e-17j]\n",
      " [ 1.41421356e+00-1.72067972e-18j  1.41421356e+00-5.30453814e-17j\n",
      "   1.15218686e+00+1.21234370e-18j  1.15218686e+00-2.28398526e-17j\n",
      "  -1.15218686e+00-1.03652745e-17j -1.15218686e+00+1.07832358e-16j\n",
      "  -1.41421356e+00+2.65250721e-17j -1.41421356e+00+1.39715475e-16j]\n",
      " [ 1.41421356e+00-4.01035134e-16j  1.41421356e+00+1.20613924e-18j\n",
      "   1.25275273e+00-1.31745768e-16j  1.25275273e+00+3.75066110e-18j\n",
      "  -1.25275273e+00+1.56627927e-16j -1.25275273e+00+1.18802462e-17j\n",
      "  -1.41421356e+00-4.99901057e-16j -1.41421356e+00+8.97028689e-17j]\n",
      " [ 1.41421356e+00+1.01665776e-16j  1.41421356e+00-2.54562745e-18j\n",
      "   1.33017151e+00+4.61495303e-16j  1.33017151e+00+1.16273117e-18j\n",
      "  -1.33017151e+00+2.38542022e-16j -1.33017151e+00-1.17086798e-16j\n",
      "  -1.41421356e+00+2.39764447e-17j -1.41421356e+00+4.56763924e-17j]\n",
      " [ 1.41421356e+00-9.81308085e-18j  1.41421356e+00-1.33609302e-16j\n",
      "   1.38301273e+00-1.70704103e-17j  1.38301273e+00-2.54964461e-16j\n",
      "  -1.38301273e+00-4.06148306e-16j -1.38301273e+00+1.40975837e-16j\n",
      "  -1.41421356e+00-2.77088548e-17j -1.41421356e+00-1.79230166e-16j]\n",
      " [ 1.41421356e+00-6.78577255e-18j  1.41421356e+00-7.78881167e-17j\n",
      "   1.41030003e+00-8.87888945e-18j  1.41030003e+00+4.19610176e-17j\n",
      "  -1.41030003e+00+1.53584985e-16j -1.41030003e+00+2.19608992e-17j\n",
      "  -1.41421356e+00+1.96422446e-18j -1.41421356e+00+2.41033437e-16j]]\n",
      "1.4992942092484007 -1.4992942092484012\n"
     ]
    },
    {
     "data": {
      "image/png": "[encoded data removed]",
      "text/plain": [
       "<Figure size 432x288 with 1 Axes>"
      ]
     },
     "metadata": {},
     "output_type": "display_data"
    }
   ],
   "source": [
    "smk.band_high_sym(Hlsw_num, cp_strg , 20)"
   ]
  },
  {
   "cell_type": "code",
   "execution_count": null,
   "metadata": {},
   "outputs": [],
   "source": [
    "import numpy as np\n",
    "import sympy as sp\n",
    "import SpinModel_afm as smk\n",
    "from matplotlib.pyplot import subplots as spp\n",
    "from numpy import linalg as LA\n",
    "from sympy.physics.matrices import msigma"
   ]
  },
  {
   "cell_type": "code",
   "execution_count": null,
   "metadata": {},
   "outputs": [],
   "source": [
    "sigma_3 = np.diag([1, -1, 1, -1, 1, -1, 1, -1])"
   ]
  },
  {
   "cell_type": "code",
   "execution_count": null,
   "metadata": {},
   "outputs": [],
   "source": [
    "s0 = sp.Matrix([[1,0],[0,1]])\n",
    "s1 = msigma(1)\n",
    "s2 = msigma(2)\n",
    "s3 = msigma(3)"
   ]
  },
  {
   "cell_type": "code",
   "execution_count": null,
   "metadata": {},
   "outputs": [],
   "source": [
    "J1 = sp.Symbol(\"J1\", real=True)\n",
    "J2 = sp.Symbol(\"J2\", real=True)\n",
    "J3 = sp.Symbol(\"J3\", real=True)\n",
    "\n",
    "k1 = sp.Symbol(\"k1\", real=True)\n",
    "k2 = sp.Symbol(\"k2\", real=True)"
   ]
  },
  {
   "cell_type": "code",
   "execution_count": null,
   "metadata": {},
   "outputs": [],
   "source": [
    "k1=-0.5\n",
    "k2=-0.5\n",
    "q1 = -k1\n",
    "q2 = -k2"
   ]
  },
  {
   "cell_type": "code",
   "execution_count": null,
   "metadata": {
    "scrolled": true
   },
   "outputs": [],
   "source": [
    "A_k = -s0*(-2*J2*sp.cos(k1/2)+J1-2*J2-3*J3)+4*s1*(sp.cos(k2/2)*J2*sp.cos(k1/2))\n",
    "A_k"
   ]
  },
  {
   "cell_type": "code",
   "execution_count": null,
   "metadata": {},
   "outputs": [],
   "source": [
    "g_k = s0*(sp.exp(1j*k2/6)*2*J1*sp.cos(k1/2))+s1*(2*J3*sp.cos(k1)*sp.exp(-1j*k2/3)+J3*sp.exp(2*1j*k2/3)+J1)\n",
    "g_k"
   ]
  },
  {
   "cell_type": "code",
   "execution_count": null,
   "metadata": {},
   "outputs": [],
   "source": [
    "A_q = -s0*(-2*J2*sp.cos(-k1/2)+J1-2*J2-3*J3)+4*s1*(sp.cos(-k2/2)*J2*sp.cos(k1/2))\n",
    "A_q"
   ]
  },
  {
   "cell_type": "code",
   "execution_count": null,
   "metadata": {},
   "outputs": [],
   "source": [
    "g_q = sp.transpose(sp.conjugate(g_k))\n",
    "g_q"
   ]
  },
  {
   "cell_type": "code",
   "execution_count": null,
   "metadata": {
    "scrolled": true
   },
   "outputs": [],
   "source": [
    "H1 = sp.BlockMatrix([[A_k,g_k],[g_q,A_q]])\n",
    "H1"
   ]
  },
  {
   "cell_type": "code",
   "execution_count": null,
   "metadata": {
    "scrolled": true
   },
   "outputs": [],
   "source": [
    "sp.matrices.dense.matrix2numpy(H1.subs([(k1, 1), (k2, 2)])).astype(complex)"
   ]
  },
  {
   "cell_type": "code",
   "execution_count": null,
   "metadata": {},
   "outputs": [],
   "source": [
    "s0 = sp.Matrix([[1,0],[0,1]])\n",
    "s1 = sp.Matrix([[0,1],[1,0]])\n",
    "s2 = sp.Matrix([[0,-1j],[1j,0]])\n",
    "s3 = sp.Matrix([[1,0],[0,-1]])"
   ]
  },
  {
   "cell_type": "code",
   "execution_count": null,
   "metadata": {},
   "outputs": [],
   "source": [
    "J1=1\n",
    "J2=0.8\n",
    "J3=0.8\n",
    "\n",
    "k1=-0.5\n",
    "k2=-0.5\n",
    "q1 = -k1\n",
    "q2 = -k2"
   ]
  },
  {
   "cell_type": "code",
   "execution_count": null,
   "metadata": {},
   "outputs": [],
   "source": [
    "A_k = -s0*(-2*J2*np.cos(k1/2)+J1-2*J2-3*J3)+4*s1*(np.cos(k2/2)*J2*np.cos(k1/2))\n",
    "g_k = s0*(np.exp(1j*k2/6)*2*J1*np.cos(k1/2))+s1*(2*J3*np.cos(k1)*np.exp(-1j*k2/3)+J3*np.exp(2*1j*k2/3)+J1)\n",
    "A_q = -s0*(-2*J2*np.cos(k1/2)+J1-2*J2-3*J3)+4*s1*(np.cos(k2/2)*J2*np.cos(k1/2))\n",
    "g_q = np.transpose(np.conjugate(g_k))\n",
    "H1 = np.block([[A_k,g_k],[g_q,A_q]])\n",
    "H1"
   ]
  },
  {
   "cell_type": "code",
   "execution_count": null,
   "metadata": {},
   "outputs": [],
   "source": [
    "A_k = -s0*(-2*J2*np.cos(k1/2)+J1-2*J2-3*J3)+4*s1*(np.cos(k2/2)*J2*np.cos(k1/2))\n",
    "g_k = s0*(np.exp(1j*k2/6)*2*J1*np.cos(k1/2))+s1*(2*J3*np.cos(k1)*np.exp(-1j*k2/3)+J3*np.exp(2*1j*k2/3)+J1)\n",
    "A_q = -s0*(-2*J2*np.cos(k1/2)+J1-2*J2-3*J3)+4*s1*(np.cos(k2/2)*J2*np.cos(k1/2))\n",
    "g_q = np.transpose(np.conjugate(g_k))\n",
    "H2 = np.transpose(np.block([[A_k,g_k],[g_q,A_q]]))\n",
    "H2"
   ]
  },
  {
   "cell_type": "code",
   "execution_count": null,
   "metadata": {},
   "outputs": [],
   "source": [
    "H = np.block([[H1,np.zeros((4,4))],[np.zeros((4,4)),H2]])\n",
    "type(H)"
   ]
  },
  {
   "cell_type": "code",
   "execution_count": null,
   "metadata": {},
   "outputs": [],
   "source": [
    "H-np.transpose(np.conjugate(H))"
   ]
  },
  {
   "cell_type": "code",
   "execution_count": null,
   "metadata": {},
   "outputs": [],
   "source": [
    "sigma_3 = np.diag([1, -1, 1, -1, 1, -1, 1, -1])"
   ]
  },
  {
   "cell_type": "code",
   "execution_count": null,
   "metadata": {
    "scrolled": true
   },
   "outputs": [],
   "source": [
    "H_BdG = np.matmul(sigma_3, H)\n",
    "H_BdG"
   ]
  },
  {
   "cell_type": "code",
   "execution_count": null,
   "metadata": {},
   "outputs": [],
   "source": [
    "eigval_k,eigvec_k = LA.eig(H_BdG)\n",
    "eigval_k,eigvec_k"
   ]
  },
  {
   "cell_type": "markdown",
   "metadata": {},
   "source": [
    "# particel-hole symmetry"
   ]
  },
  {
   "cell_type": "code",
   "execution_count": null,
   "metadata": {},
   "outputs": [],
   "source": [
    "import numpy.linalg as LA"
   ]
  },
  {
   "cell_type": "code",
   "execution_count": null,
   "metadata": {},
   "outputs": [],
   "source": [
    "q = sp.Symbol(\"\", real=True)"
   ]
  },
  {
   "cell_type": "code",
   "execution_count": null,
   "metadata": {},
   "outputs": [],
   "source": [
    "C"
   ]
  },
  {
   "cell_type": "code",
   "execution_count": null,
   "metadata": {},
   "outputs": [],
   "source": []
  }
 ],
 "metadata": {
  "kernelspec": {
   "display_name": "Python 3",
   "language": "python",
   "name": "python3"
  },
  "language_info": {
   "codemirror_mode": {
    "name": "ipython",
    "version": 3
   },
   "file_extension": ".py",
   "mimetype": "text/x-python",
   "name": "python",
   "nbconvert_exporter": "python",
   "pygments_lexer": "ipython3",
   "version": "3.9.1"
  }
 },
 "nbformat": 4,
 "nbformat_minor": 5
}
