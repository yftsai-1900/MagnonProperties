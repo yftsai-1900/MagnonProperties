{
 "cells": [
  {
   "cell_type": "code",
   "execution_count": 1,
   "metadata": {},
   "outputs": [],
   "source": [
    "import sympy as sp\n",
    "import numpy as np\n",
    "from matplotlib.pyplot import subplots as spp\n",
    "from numpy import linalg as LA\n",
    "from sympy.physics.matrices import msigma"
   ]
  },
  {
   "cell_type": "code",
   "execution_count": 2,
   "metadata": {},
   "outputs": [],
   "source": [
    "theta=np.pi*(30/180)\n",
    "phi=0"
   ]
  },
  {
   "cell_type": "code",
   "execution_count": 3,
   "metadata": {},
   "outputs": [],
   "source": [
    "a_i = sp.symbols(\"a1:3\")  # Bravais lattice vectors\n",
    "a = sp.Symbol(\"a\", real=True)\n",
    "I = sp.I\n",
    "pi = sp.pi\n",
    "hb = sp.Symbol(\"ℏ\", real=True)\n",
    "S = sp.Symbol(\"S\", real=True)\n",
    "\n",
    "J = sp.Symbol(\"J\", real=True)  # Heisenberg coupling\n",
    "K = sp.Symbol(\"K\", real=True)  # Kitaev coupling\n",
    "Gamma = sp.Symbol(\"Γ\", real=True)\n",
    "gamma = sp.Symbol(\"Γ'\", real=True)\n",
    "h = sp.Symbol(\"h\", real=True)"
   ]
  },
  {
   "cell_type": "code",
   "execution_count": 4,
   "metadata": {},
   "outputs": [],
   "source": [
    "Theta = theta\n",
    "Phi = phi\n",
    "uni = sp.Matrix([[np.cos(Theta/2),np.sin(Theta / 2)],[np.sin(Theta/2)*np.exp(1j*Phi),-np.cos(Theta / 2) * np.exp(1j * Phi)]])\n",
    "uni_dag = sp.transpose(sp.conjugate(uni))\n",
    "\n",
    "\n",
    "pxd = sp.simplify(uni_dag*msigma(1)*uni)\n",
    "pyd = sp.simplify(uni_dag*msigma(2)*uni)\n",
    "pzd = sp.simplify(uni_dag * msigma(3) * uni)\n",
    "\n",
    "V1 = sp.simplify(sp.Matrix([(pxd[0, 1] + pxd[1, 0]) / 2, (pxd[1, 0] - pxd[0, 1]) / (2 * I), (pxd[0, 0] - pxd[1, 1]) / 2]))\n",
    "V2 = sp.simplify(sp.Matrix([(pyd[0, 1] + pyd[1, 0]) / 2, (pyd[1, 0] - pyd[0, 1]) / (2 * I), (pyd[0, 0] - pyd[1, 1]) / 2]))\n",
    "V3 = sp.simplify(sp.Matrix([(pzd[0, 1] + pzd[1, 0]) / 2, (pzd[1, 0] - pzd[0, 1]) / (2 * I), (pzd[0, 0] - pzd[1, 1]) / 2]))"
   ]
  },
  {
   "cell_type": "code",
   "execution_count": 5,
   "metadata": {},
   "outputs": [],
   "source": [
    "Theta = np.pi-theta\n",
    "Phi = phi\n",
    "uni = sp.Matrix([[np.cos(Theta/2),np.sin(Theta / 2)],[np.sin(Theta/2)*np.exp(1j*Phi),-np.cos(Theta / 2) * np.exp(1j * Phi)]])\n",
    "uni_dag = sp.transpose(sp.conjugate(uni))\n",
    "\n",
    "\n",
    "pxd = sp.simplify(uni_dag*msigma(1)*uni)\n",
    "pyd = sp.simplify(uni_dag*msigma(2)*uni)\n",
    "pzd = sp.simplify(uni_dag * msigma(3) * uni)\n",
    "\n",
    "W1 = sp.simplify(sp.Matrix([(pxd[0, 1] + pxd[1, 0]) / 2, (pxd[1, 0] - pxd[0, 1]) / (2 * I), (pxd[0, 0] - pxd[1, 1]) / 2]))\n",
    "W2 = sp.simplify(sp.Matrix([(pyd[0, 1] + pyd[1, 0]) / 2, (pyd[1, 0] - pyd[0, 1]) / (2 * I), (pyd[0, 0] - pyd[1, 1]) / 2]))\n",
    "W3 = sp.simplify(sp.Matrix([(pzd[0, 1] + pzd[1, 0]) / 2, (pzd[1, 0] - pzd[0, 1]) / (2 * I), (pzd[0, 0] - pzd[1, 1]) / 2]))"
   ]
  },
  {
   "cell_type": "code",
   "execution_count": 6,
   "metadata": {},
   "outputs": [],
   "source": [
    "Hberg_ud = V1 * sp.Transpose(W1) + V2 * sp.Transpose(W2) + V3 * sp.Transpose(W3)\n",
    "\n",
    "IsingXX_ud = V1 * sp.Transpose(W1)\n",
    "IsingYY_ud = V2 * sp.Transpose(W2)\n",
    "IsingZZ_ud = V3 * sp.Transpose(W3)\n",
    "\n",
    "XY_ud = V1 * sp.Transpose(W2)\n",
    "XZ_ud = V1 * sp.Transpose(W3)\n",
    "YX_ud = V2 * sp.Transpose(W1)\n",
    "YZ_ud = V2 * sp.Transpose(W3)\n",
    "ZX_ud = V3 * sp.Transpose(W1)\n",
    "ZY_ud = V3 * sp.Transpose(W2)\n",
    "\n",
    "Hx_ud = 2 * K * IsingXX_ud + J * Hberg_ud + Gamma * (YZ_ud + ZY_ud) + gamma * (YX_ud + ZX_ud + XY_ud + XZ_ud)\n",
    "Hy_ud = 2 * K * IsingYY_ud + J * Hberg_ud + Gamma * (XZ_ud + ZX_ud) + gamma * (YZ_ud + YX_ud + ZY_ud + XY_ud)\n",
    "Hz_ud = 2 * K * IsingZZ_ud + J * Hberg_ud + Gamma * (XY_ud + YX_ud) + gamma * (XZ_ud + YZ_ud + ZX_ud + ZY_ud)"
   ]
  },
  {
   "cell_type": "code",
   "execution_count": 7,
   "metadata": {
    "scrolled": true
   },
   "outputs": [
    {
     "data": {
      "text/latex": [
       "$\\displaystyle \\left[\\begin{matrix}-0.5 & 0 & -0.866025403784439\\\\0 & 1.0 & 0\\\\0.866025403784439 & 0 & -0.5\\end{matrix}\\right]$"
      ],
      "text/plain": [
       "Matrix([\n",
       "[             -0.5,   0, -0.866025403784439],\n",
       "[                0, 1.0,                  0],\n",
       "[0.866025403784439,   0,               -0.5]])"
      ]
     },
     "execution_count": 7,
     "metadata": {},
     "output_type": "execute_result"
    }
   ],
   "source": [
    "Hberg_ud"
   ]
  },
  {
   "cell_type": "code",
   "execution_count": 23,
   "metadata": {
    "scrolled": true
   },
   "outputs": [
    {
     "data": {
      "text/latex": [
       "$\\displaystyle \\left[\\begin{matrix}1.0 & 0 & 0\\\\0 & 1.0 & 0\\\\0 & 0 & 1.0\\end{matrix}\\right]$"
      ],
      "text/plain": [
       "Matrix([\n",
       "[1.0,   0,   0],\n",
       "[  0, 1.0,   0],\n",
       "[  0,   0, 1.0]])"
      ]
     },
     "execution_count": 23,
     "metadata": {},
     "output_type": "execute_result"
    }
   ],
   "source": [
    "V1 * sp.Transpose(V1) + V2 * sp.Transpose(V2) + V3 * sp.Transpose(V3)"
   ]
  },
  {
   "cell_type": "code",
   "execution_count": 24,
   "metadata": {},
   "outputs": [
    {
     "data": {
      "text/latex": [
       "$\\displaystyle \\left[\\begin{matrix}1.0 & 0 & 0\\\\0 & 1.0 & 0\\\\0 & 0 & 1.0\\end{matrix}\\right]$"
      ],
      "text/plain": [
       "Matrix([\n",
       "[1.0,   0,   0],\n",
       "[  0, 1.0,   0],\n",
       "[  0,   0, 1.0]])"
      ]
     },
     "execution_count": 24,
     "metadata": {},
     "output_type": "execute_result"
    }
   ],
   "source": [
    "W1 * sp.Transpose(W1) + W2 * sp.Transpose(W2) + W3 * sp.Transpose(W3)"
   ]
  },
  {
   "cell_type": "code",
   "execution_count": 8,
   "metadata": {},
   "outputs": [],
   "source": [
    "e = sp.Symbol(\"e\")\n",
    "f = sp.Symbol(\"f\")\n",
    "g = sp.Symbol(\"g\")\n",
    "h = sp.Symbol(\"h\")\n",
    "n_i = sp.Symbol(\"𝑛𝑖\")\n",
    "n_j = sp.Symbol(\"𝑛𝑗\")\n",
    "\n",
    "HPXX = 1 / sp.Integer(2) * (e + f + g + h)\n",
    "HPYY = -1 / sp.Integer(2) * (e - f - g + h)\n",
    "HPZZ = (S - n_i - n_j)\n",
    "HPXY = 1 / (2 * I) * (e - f + g - h)\n",
    "HPYX = 1 / (2 * I) * (e + f - g - h)\n",
    "\n",
    "# for now we didn't how to calculate single a, a+...\n",
    "HPXZ = 0\n",
    "HPYZ = 0\n",
    "HPZX = 0\n",
    "HPZY = 0\n",
    "\n",
    "HPbosons = sp.Matrix([[HPXX, HPXY, HPXZ], [HPYX, HPYY, HPYZ], [HPZX, HPZY,\n",
    "                                                                   HPZZ]])\n",
    "o = sp.Integer(0)\n",
    "ii = sp.Integer(1)"
   ]
  },
  {
   "cell_type": "code",
   "execution_count": 9,
   "metadata": {},
   "outputs": [],
   "source": [
    "HPHx_ud = sp.Integer(0)\n",
    "\n",
    "i = 0\n",
    "while i < 3:\n",
    "    j = 0\n",
    "    while j < 3:\n",
    "        HPHx_ud = HPHx_ud + Hx_ud[i, j] * HPbosons[i, j]\n",
    "        j += 1\n",
    "    i += 1\n",
    "\n",
    "HPHx_ud = HPHx_ud.expand()\n",
    "\n",
    "Coef_HPHx_ud = sp.Matrix([o, o, o, o, o, o])\n",
    "Coef_HPHx_ud[0, 0] = HPHx_ud.coeff(e)\n",
    "Coef_HPHx_ud[1, 0] = HPHx_ud.coeff(f)\n",
    "Coef_HPHx_ud[2, 0] = HPHx_ud.coeff(g)\n",
    "Coef_HPHx_ud[3, 0] = HPHx_ud.coeff(h)\n",
    "Coef_HPHx_ud[4, 0] = HPHx_ud.coeff(n_i)\n",
    "Coef_HPHx_ud[5, 0] = HPHx_ud.coeff(n_j)\n",
    "\n",
    "Mat_Coef_HPHx_ud = sp.Matrix([\n",
    "    [Coef_HPHx_ud[4, 0], Coef_HPHx_ud[2, 0], o, Coef_HPHx_ud[3, 0]],\n",
    "    [Coef_HPHx_ud[1, 0], Coef_HPHx_ud[5, 0], Coef_HPHx_ud[3, 0], o],\n",
    "    [o, Coef_HPHx_ud[0, 0], Coef_HPHx_ud[5, 0], Coef_HPHx_ud[2, 0]],\n",
    "    [Coef_HPHx_ud[0, 0], o, Coef_HPHx_ud[1, 0], Coef_HPHx_ud[4, 0]]\n",
    "])\n",
    "\n",
    "HPHy_ud = sp.Integer(0)\n",
    "\n",
    "i = 0\n",
    "while i < 3:\n",
    "    j = 0\n",
    "    while j < 3:\n",
    "        HPHy_ud = HPHy_ud + Hy_ud[i, j] * HPbosons[i, j]\n",
    "        j += 1\n",
    "    i += 1\n",
    "\n",
    "HPHy_ud = HPHy_ud.expand()\n",
    "\n",
    "Coef_HPHy_ud = sp.Matrix([o, o, o, o, o, o])\n",
    "Coef_HPHy_ud[0, 0] = HPHy_ud.coeff(e)\n",
    "Coef_HPHy_ud[1, 0] = HPHy_ud.coeff(f)\n",
    "Coef_HPHy_ud[2, 0] = HPHy_ud.coeff(g)\n",
    "Coef_HPHy_ud[3, 0] = HPHy_ud.coeff(h)\n",
    "Coef_HPHy_ud[4, 0] = HPHy_ud.coeff(n_i)\n",
    "Coef_HPHy_ud[5, 0] = HPHy_ud.coeff(n_j)\n",
    "\n",
    "Mat_Coef_HPHy_ud = sp.Matrix([\n",
    "    [Coef_HPHy_ud[4, 0], Coef_HPHy_ud[2, 0], o, Coef_HPHy_ud[3, 0]],\n",
    "    [Coef_HPHy_ud[1, 0], Coef_HPHy_ud[5, 0], Coef_HPHy_ud[3, 0], o],\n",
    "    [o, Coef_HPHy_ud[0, 0], Coef_HPHy_ud[5, 0], Coef_HPHy_ud[2, 0]],\n",
    "    [Coef_HPHy_ud[0, 0], o, Coef_HPHy_ud[1, 0], Coef_HPHy_ud[4, 0]]\n",
    "])\n",
    "\n",
    "HPHz_ud = sp.Integer(0)\n",
    "\n",
    "i = 0\n",
    "while i < 3:\n",
    "    j = 0\n",
    "    while j < 3:\n",
    "        HPHz_ud = HPHz_ud + Hz_ud[i, j] * HPbosons[i, j]\n",
    "        j += 1\n",
    "    i += 1\n",
    "\n",
    "HPHz_ud = HPHz_ud.expand()\n",
    "\n",
    "Coef_HPHz_ud = sp.Matrix([o, o, o, o, o, o])\n",
    "Coef_HPHz_ud[0, 0] = HPHz_ud.coeff(e)\n",
    "Coef_HPHz_ud[1, 0] = HPHz_ud.coeff(f)\n",
    "Coef_HPHz_ud[2, 0] = HPHz_ud.coeff(g)\n",
    "Coef_HPHz_ud[3, 0] = HPHz_ud.coeff(h)\n",
    "Coef_HPHz_ud[4, 0] = HPHz_ud.coeff(n_i)\n",
    "Coef_HPHz_ud[5, 0] = HPHz_ud.coeff(n_j)\n",
    "\n",
    "Mat_Coef_HPHz_ud = sp.Matrix([\n",
    "    [Coef_HPHz_ud[4, 0], Coef_HPHz_ud[2, 0], o, Coef_HPHz_ud[3, 0]],\n",
    "    [Coef_HPHz_ud[1, 0], Coef_HPHz_ud[5, 0], Coef_HPHz_ud[3, 0], o],\n",
    "    [o, Coef_HPHz_ud[0, 0], Coef_HPHz_ud[5, 0], Coef_HPHz_ud[2, 0]],\n",
    "    [Coef_HPHz_ud[0, 0], o, Coef_HPHz_ud[1, 0], Coef_HPHz_ud[4, 0]]\n",
    "])\n"
   ]
  },
  {
   "cell_type": "code",
   "execution_count": 10,
   "metadata": {},
   "outputs": [],
   "source": [
    "\n",
    "# Fourier transform\n",
    "deltaX = a / sp.sqrt(3) * sp.Matrix([sp.sqrt(3) / 2, -1 / sp.Integer(2)])\n",
    "deltaY = a / sp.sqrt(3) * sp.Matrix([sp.Integer(0), sp.Integer(1)])\n",
    "deltaZ = a / sp.sqrt(3) * sp.Matrix([-sp.sqrt(3) / 2, -1 / sp.Integer(2)])\n",
    "\n",
    "\n",
    "k1 = sp.Symbol(\"k1\", real=True)\n",
    "k2 = sp.Symbol(\"k2\", real=True)\n",
    "k = sp.Matrix([k1, k2])\n",
    "\n",
    "sx = sp.exp(I * k.dot(deltaX))\n",
    "sy = sp.exp(I * k.dot(deltaY))\n",
    "sz = sp.exp(I * k.dot(deltaZ))\n",
    "tx = sp.exp(-I * k.dot(deltaX))\n",
    "ty = sp.exp(-I * k.dot(deltaY))\n",
    "tz = sp.exp(-I * k.dot(deltaZ))\n",
    "\n",
    "FT_Coef_X = sp.Matrix([[ii, sx, o, sx], [tx, ii, tx, o], [o, sx, ii, sx], [tx, o,\n",
    "                                                                               tx, ii]])\n",
    "FT_Coef_Y = sp.Matrix([[ii, sy, o, sy], [ty, ii, ty, o], [o, sy, ii, sy], [ty, o,\n",
    "                                                                               ty, ii]])\n",
    "FT_Coef_Z = sp.Matrix([[ii, sz, o, sz], [tz, ii, tz, o], [o, sz, ii, sz], [tz, o,\n",
    "                                                                               tz, ii]])\n",
    "HlswTwoSub_X_ud = sp.Matrix([[o, o, o, o], [o, o, o, o], [o, o, o, o], [o, o, o, o]])\n",
    "\n",
    "i = 0\n",
    "while i < 4:\n",
    "    j = 0\n",
    "    while j < 4:\n",
    "        HlswTwoSub_X_ud[i, j] = Mat_Coef_HPHx_ud[i, j] * FT_Coef_X[i, j]\n",
    "        j += 1\n",
    "    i += 1\n",
    "\n",
    "HlswTwoSub_Y_ud = sp.Matrix([[o, o, o, o], [o, o, o, o], [o, o, o, o], [o, o, o, o]])\n",
    "\n",
    "i = 0\n",
    "while i < 4:\n",
    "    j = 0\n",
    "    while j < 4:\n",
    "        HlswTwoSub_Y_ud[i, j] = Mat_Coef_HPHy_ud[i, j] * FT_Coef_Y[i, j]\n",
    "        j += 1\n",
    "    i += 1\n",
    "\n",
    "HlswTwoSub_Z_ud = sp.Matrix([[o, o, o, o], [o, o, o, o], [o, o, o, o], [o, o, o, o]])\n",
    "\n",
    "i = 0\n",
    "while i < 4:\n",
    "    j = 0\n",
    "    while j < 4:\n",
    "        HlswTwoSub_Z_ud[i, j] = Mat_Coef_HPHz_ud[i, j] * FT_Coef_Z[i, j]\n",
    "        j += 1\n",
    "    i += 1\n",
    "\n"
   ]
  },
  {
   "cell_type": "code",
   "execution_count": 11,
   "metadata": {},
   "outputs": [
    {
     "data": {
      "text/latex": [
       "$\\displaystyle \\left[\\begin{matrix}1 & e^{i \\left(\\frac{a k_{1}}{2} - \\frac{\\sqrt{3} a k_{2}}{6}\\right)} & 0 & e^{i \\left(\\frac{a k_{1}}{2} - \\frac{\\sqrt{3} a k_{2}}{6}\\right)}\\\\e^{- i \\left(\\frac{a k_{1}}{2} - \\frac{\\sqrt{3} a k_{2}}{6}\\right)} & 1 & e^{- i \\left(\\frac{a k_{1}}{2} - \\frac{\\sqrt{3} a k_{2}}{6}\\right)} & 0\\\\0 & e^{i \\left(\\frac{a k_{1}}{2} - \\frac{\\sqrt{3} a k_{2}}{6}\\right)} & 1 & e^{i \\left(\\frac{a k_{1}}{2} - \\frac{\\sqrt{3} a k_{2}}{6}\\right)}\\\\e^{- i \\left(\\frac{a k_{1}}{2} - \\frac{\\sqrt{3} a k_{2}}{6}\\right)} & 0 & e^{- i \\left(\\frac{a k_{1}}{2} - \\frac{\\sqrt{3} a k_{2}}{6}\\right)} & 1\\end{matrix}\\right]$"
      ],
      "text/plain": [
       "Matrix([\n",
       "[                                1, exp(I*(a*k1/2 - sqrt(3)*a*k2/6)),                                 0, exp(I*(a*k1/2 - sqrt(3)*a*k2/6))],\n",
       "[exp(-I*(a*k1/2 - sqrt(3)*a*k2/6)),                                1, exp(-I*(a*k1/2 - sqrt(3)*a*k2/6)),                                0],\n",
       "[                                0, exp(I*(a*k1/2 - sqrt(3)*a*k2/6)),                                 1, exp(I*(a*k1/2 - sqrt(3)*a*k2/6))],\n",
       "[exp(-I*(a*k1/2 - sqrt(3)*a*k2/6)),                                0, exp(-I*(a*k1/2 - sqrt(3)*a*k2/6)),                                1]])"
      ]
     },
     "execution_count": 11,
     "metadata": {},
     "output_type": "execute_result"
    }
   ],
   "source": [
    "FT_Coef_X"
   ]
  },
  {
   "cell_type": "code",
   "execution_count": 12,
   "metadata": {},
   "outputs": [
    {
     "data": {
      "text/latex": [
       "$\\displaystyle \\left[\\begin{matrix}0.5 J + 1.5 K & 0.25 J + 0.25 K - 0.866025403784439 i Γ & 0 & - 0.75 J + 0.25 K - 0.5 i Γ'\\\\0.25 J + 0.25 K + 0.866025403784439 i Γ & 0.5 J + 1.5 K & - 0.75 J + 0.25 K - 0.5 i Γ' & 0\\\\0 & - 0.75 J + 0.25 K + 0.5 i Γ' & 0.5 J + 1.5 K & 0.25 J + 0.25 K - 0.866025403784439 i Γ\\\\- 0.75 J + 0.25 K + 0.5 i Γ' & 0 & 0.25 J + 0.25 K + 0.866025403784439 i Γ & 0.5 J + 1.5 K\\end{matrix}\\right]$"
      ],
      "text/plain": [
       "Matrix([\n",
       "[                          0.5*J + 1.5*K, 0.25*J + 0.25*K - 0.866025403784439*I*Γ,                                       0,             -0.75*J + 0.25*K - 0.5*I*Γ'],\n",
       "[0.25*J + 0.25*K + 0.866025403784439*I*Γ,                           0.5*J + 1.5*K,             -0.75*J + 0.25*K - 0.5*I*Γ',                                       0],\n",
       "[                                      0,             -0.75*J + 0.25*K + 0.5*I*Γ',                           0.5*J + 1.5*K, 0.25*J + 0.25*K - 0.866025403784439*I*Γ],\n",
       "[            -0.75*J + 0.25*K + 0.5*I*Γ',                                       0, 0.25*J + 0.25*K + 0.866025403784439*I*Γ,                           0.5*J + 1.5*K]])"
      ]
     },
     "execution_count": 12,
     "metadata": {},
     "output_type": "execute_result"
    }
   ],
   "source": [
    "Mat_Coef_HPHz_ud"
   ]
  },
  {
   "cell_type": "code",
   "execution_count": 13,
   "metadata": {
    "scrolled": true
   },
   "outputs": [
    {
     "data": {
      "text/latex": [
       "$\\displaystyle \\left[\\begin{matrix}0.5 J - 0.5 K & \\left(0.25 J - 0.75 K - 0.866025403784439 i Γ'\\right) e^{i \\left(\\frac{a k_{1}}{2} - \\frac{\\sqrt{3} a k_{2}}{6}\\right)} & 0 & \\left(- 0.75 J - 0.75 K - 0.5 i Γ\\right) e^{i \\left(\\frac{a k_{1}}{2} - \\frac{\\sqrt{3} a k_{2}}{6}\\right)}\\\\\\left(0.25 J - 0.75 K + 0.866025403784439 i Γ'\\right) e^{- i \\left(\\frac{a k_{1}}{2} - \\frac{\\sqrt{3} a k_{2}}{6}\\right)} & 0.5 J - 0.5 K & \\left(- 0.75 J - 0.75 K - 0.5 i Γ\\right) e^{- i \\left(\\frac{a k_{1}}{2} - \\frac{\\sqrt{3} a k_{2}}{6}\\right)} & 0\\\\0 & \\left(- 0.75 J - 0.75 K + 0.5 i Γ\\right) e^{i \\left(\\frac{a k_{1}}{2} - \\frac{\\sqrt{3} a k_{2}}{6}\\right)} & 0.5 J - 0.5 K & \\left(0.25 J - 0.75 K - 0.866025403784439 i Γ'\\right) e^{i \\left(\\frac{a k_{1}}{2} - \\frac{\\sqrt{3} a k_{2}}{6}\\right)}\\\\\\left(- 0.75 J - 0.75 K + 0.5 i Γ\\right) e^{- i \\left(\\frac{a k_{1}}{2} - \\frac{\\sqrt{3} a k_{2}}{6}\\right)} & 0 & \\left(0.25 J - 0.75 K + 0.866025403784439 i Γ'\\right) e^{- i \\left(\\frac{a k_{1}}{2} - \\frac{\\sqrt{3} a k_{2}}{6}\\right)} & 0.5 J - 0.5 K\\end{matrix}\\right]$"
      ],
      "text/plain": [
       "Matrix([\n",
       "[                                                               0.5*J - 0.5*K, (0.25*J - 0.75*K - 0.866025403784439*I*Γ')*exp(I*(a*k1/2 - sqrt(3)*a*k2/6)),                                                                            0,               (-0.75*J - 0.75*K - 0.5*I*Γ)*exp(I*(a*k1/2 - sqrt(3)*a*k2/6))],\n",
       "[(0.25*J - 0.75*K + 0.866025403784439*I*Γ')*exp(-I*(a*k1/2 - sqrt(3)*a*k2/6)),                                                               0.5*J - 0.5*K,               (-0.75*J - 0.75*K - 0.5*I*Γ)*exp(-I*(a*k1/2 - sqrt(3)*a*k2/6)),                                                                           0],\n",
       "[                                                                           0,               (-0.75*J - 0.75*K + 0.5*I*Γ)*exp(I*(a*k1/2 - sqrt(3)*a*k2/6)),                                                                0.5*J - 0.5*K, (0.25*J - 0.75*K - 0.866025403784439*I*Γ')*exp(I*(a*k1/2 - sqrt(3)*a*k2/6))],\n",
       "[              (-0.75*J - 0.75*K + 0.5*I*Γ)*exp(-I*(a*k1/2 - sqrt(3)*a*k2/6)),                                                                           0, (0.25*J - 0.75*K + 0.866025403784439*I*Γ')*exp(-I*(a*k1/2 - sqrt(3)*a*k2/6)),                                                               0.5*J - 0.5*K]])"
      ]
     },
     "execution_count": 13,
     "metadata": {},
     "output_type": "execute_result"
    }
   ],
   "source": [
    "HlswTwoSub_X_ud"
   ]
  },
  {
   "cell_type": "code",
   "execution_count": 14,
   "metadata": {},
   "outputs": [
    {
     "data": {
      "text/latex": [
       "$\\displaystyle \\left[\\begin{matrix}0.5 J & \\left(0.25 J + 1.0 K - 0.866025403784439 i Γ'\\right) e^{\\frac{\\sqrt{3} i a k_{2}}{3}} & 0 & \\left(- 0.75 J - 1.0 K - 0.5 i Γ'\\right) e^{\\frac{\\sqrt{3} i a k_{2}}{3}}\\\\\\left(0.25 J + 1.0 K + 0.866025403784439 i Γ'\\right) e^{- \\frac{\\sqrt{3} i a k_{2}}{3}} & 0.5 J & \\left(- 0.75 J - 1.0 K - 0.5 i Γ'\\right) e^{- \\frac{\\sqrt{3} i a k_{2}}{3}} & 0\\\\0 & \\left(- 0.75 J - 1.0 K + 0.5 i Γ'\\right) e^{\\frac{\\sqrt{3} i a k_{2}}{3}} & 0.5 J & \\left(0.25 J + 1.0 K - 0.866025403784439 i Γ'\\right) e^{\\frac{\\sqrt{3} i a k_{2}}{3}}\\\\\\left(- 0.75 J - 1.0 K + 0.5 i Γ'\\right) e^{- \\frac{\\sqrt{3} i a k_{2}}{3}} & 0 & \\left(0.25 J + 1.0 K + 0.866025403784439 i Γ'\\right) e^{- \\frac{\\sqrt{3} i a k_{2}}{3}} & 0.5 J\\end{matrix}\\right]$"
      ],
      "text/plain": [
       "Matrix([\n",
       "[                                                           0.5*J, (0.25*J + 1.0*K - 0.866025403784439*I*Γ')*exp(sqrt(3)*I*a*k2/3),                                                                0,              (-0.75*J - 1.0*K - 0.5*I*Γ')*exp(sqrt(3)*I*a*k2/3)],\n",
       "[(0.25*J + 1.0*K + 0.866025403784439*I*Γ')*exp(-sqrt(3)*I*a*k2/3),                                                           0.5*J,              (-0.75*J - 1.0*K - 0.5*I*Γ')*exp(-sqrt(3)*I*a*k2/3),                                                               0],\n",
       "[                                                               0,              (-0.75*J - 1.0*K + 0.5*I*Γ')*exp(sqrt(3)*I*a*k2/3),                                                            0.5*J, (0.25*J + 1.0*K - 0.866025403784439*I*Γ')*exp(sqrt(3)*I*a*k2/3)],\n",
       "[             (-0.75*J - 1.0*K + 0.5*I*Γ')*exp(-sqrt(3)*I*a*k2/3),                                                               0, (0.25*J + 1.0*K + 0.866025403784439*I*Γ')*exp(-sqrt(3)*I*a*k2/3),                                                           0.5*J]])"
      ]
     },
     "execution_count": 14,
     "metadata": {},
     "output_type": "execute_result"
    }
   ],
   "source": [
    "HlswTwoSub_Y_ud"
   ]
  },
  {
   "cell_type": "code",
   "execution_count": 15,
   "metadata": {},
   "outputs": [],
   "source": [
    "# After using magnon transformation\n",
    "magfield = h * sp.Matrix([[1, 0, 0, 0], [0, -1, 0, 0], [0, 0, 1, 0], [0, 0, 0, -1]])\n",
    "\n",
    "# Assemble\n",
    "HlswFourSub_FM = 1 / 2 * (HlswTwoSub_X_ud + HlswTwoSub_Y_ud + HlswTwoSub_Z_ud) + magfield\n",
    "\n",
    "# coupling energy scale in unit meV\n",
    "# length scale in unit angstrom\n",
    "# Here we use Sear's paprameter, for example:\n",
    "\n",
    "# a=1. leave k1 and k2 arbitrary\n",
    "# add_strg: add coupling strength\n"
   ]
  },
  {
   "cell_type": "code",
   "execution_count": 16,
   "metadata": {},
   "outputs": [
    {
     "data": {
      "text/latex": [
       "$\\displaystyle \\left[\\begin{matrix}0.75 J + 0.5 K + h & 0.5 \\cdot \\left(0.25 J - 0.75 K - 0.866025403784439 i Γ'\\right) e^{i \\left(\\frac{a k_{1}}{2} - \\frac{\\sqrt{3} a k_{2}}{6}\\right)} + 0.5 \\cdot \\left(0.25 J + 0.25 K - 0.866025403784439 i Γ\\right) e^{i \\left(- \\frac{a k_{1}}{2} - \\frac{\\sqrt{3} a k_{2}}{6}\\right)} + 0.5 \\cdot \\left(0.25 J + 1.0 K - 0.866025403784439 i Γ'\\right) e^{\\frac{\\sqrt{3} i a k_{2}}{3}} & 0 & 0.5 \\left(- 0.75 J - 1.0 K - 0.5 i Γ'\\right) e^{\\frac{\\sqrt{3} i a k_{2}}{3}} + 0.5 \\left(- 0.75 J - 0.75 K - 0.5 i Γ\\right) e^{i \\left(\\frac{a k_{1}}{2} - \\frac{\\sqrt{3} a k_{2}}{6}\\right)} + 0.5 \\left(- 0.75 J + 0.25 K - 0.5 i Γ'\\right) e^{i \\left(- \\frac{a k_{1}}{2} - \\frac{\\sqrt{3} a k_{2}}{6}\\right)}\\\\0.5 \\cdot \\left(0.25 J - 0.75 K + 0.866025403784439 i Γ'\\right) e^{- i \\left(\\frac{a k_{1}}{2} - \\frac{\\sqrt{3} a k_{2}}{6}\\right)} + 0.5 \\cdot \\left(0.25 J + 0.25 K + 0.866025403784439 i Γ\\right) e^{- i \\left(- \\frac{a k_{1}}{2} - \\frac{\\sqrt{3} a k_{2}}{6}\\right)} + 0.5 \\cdot \\left(0.25 J + 1.0 K + 0.866025403784439 i Γ'\\right) e^{- \\frac{\\sqrt{3} i a k_{2}}{3}} & 0.75 J + 0.5 K - h & 0.5 \\left(- 0.75 J - 1.0 K - 0.5 i Γ'\\right) e^{- \\frac{\\sqrt{3} i a k_{2}}{3}} + 0.5 \\left(- 0.75 J - 0.75 K - 0.5 i Γ\\right) e^{- i \\left(\\frac{a k_{1}}{2} - \\frac{\\sqrt{3} a k_{2}}{6}\\right)} + 0.5 \\left(- 0.75 J + 0.25 K - 0.5 i Γ'\\right) e^{- i \\left(- \\frac{a k_{1}}{2} - \\frac{\\sqrt{3} a k_{2}}{6}\\right)} & 0\\\\0 & 0.5 \\left(- 0.75 J - 1.0 K + 0.5 i Γ'\\right) e^{\\frac{\\sqrt{3} i a k_{2}}{3}} + 0.5 \\left(- 0.75 J - 0.75 K + 0.5 i Γ\\right) e^{i \\left(\\frac{a k_{1}}{2} - \\frac{\\sqrt{3} a k_{2}}{6}\\right)} + 0.5 \\left(- 0.75 J + 0.25 K + 0.5 i Γ'\\right) e^{i \\left(- \\frac{a k_{1}}{2} - \\frac{\\sqrt{3} a k_{2}}{6}\\right)} & 0.75 J + 0.5 K + h & 0.5 \\cdot \\left(0.25 J - 0.75 K - 0.866025403784439 i Γ'\\right) e^{i \\left(\\frac{a k_{1}}{2} - \\frac{\\sqrt{3} a k_{2}}{6}\\right)} + 0.5 \\cdot \\left(0.25 J + 0.25 K - 0.866025403784439 i Γ\\right) e^{i \\left(- \\frac{a k_{1}}{2} - \\frac{\\sqrt{3} a k_{2}}{6}\\right)} + 0.5 \\cdot \\left(0.25 J + 1.0 K - 0.866025403784439 i Γ'\\right) e^{\\frac{\\sqrt{3} i a k_{2}}{3}}\\\\0.5 \\left(- 0.75 J - 1.0 K + 0.5 i Γ'\\right) e^{- \\frac{\\sqrt{3} i a k_{2}}{3}} + 0.5 \\left(- 0.75 J - 0.75 K + 0.5 i Γ\\right) e^{- i \\left(\\frac{a k_{1}}{2} - \\frac{\\sqrt{3} a k_{2}}{6}\\right)} + 0.5 \\left(- 0.75 J + 0.25 K + 0.5 i Γ'\\right) e^{- i \\left(- \\frac{a k_{1}}{2} - \\frac{\\sqrt{3} a k_{2}}{6}\\right)} & 0 & 0.5 \\cdot \\left(0.25 J - 0.75 K + 0.866025403784439 i Γ'\\right) e^{- i \\left(\\frac{a k_{1}}{2} - \\frac{\\sqrt{3} a k_{2}}{6}\\right)} + 0.5 \\cdot \\left(0.25 J + 0.25 K + 0.866025403784439 i Γ\\right) e^{- i \\left(- \\frac{a k_{1}}{2} - \\frac{\\sqrt{3} a k_{2}}{6}\\right)} + 0.5 \\cdot \\left(0.25 J + 1.0 K + 0.866025403784439 i Γ'\\right) e^{- \\frac{\\sqrt{3} i a k_{2}}{3}} & 0.75 J + 0.5 K - h\\end{matrix}\\right]$"
      ],
      "text/plain": [
       "Matrix([\n",
       "[                                                                                                                                                                                                                        0.75*J + 0.5*K + h, 0.5*(0.25*J - 0.75*K - 0.866025403784439*I*Γ')*exp(I*(a*k1/2 - sqrt(3)*a*k2/6)) + 0.5*(0.25*J + 0.25*K - 0.866025403784439*I*Γ)*exp(I*(-a*k1/2 - sqrt(3)*a*k2/6)) + 0.5*(0.25*J + 1.0*K - 0.866025403784439*I*Γ')*exp(sqrt(3)*I*a*k2/3),                                                                                                                                                                                                                                          0,                                        0.5*(-0.75*J - 1.0*K - 0.5*I*Γ')*exp(sqrt(3)*I*a*k2/3) + 0.5*(-0.75*J - 0.75*K - 0.5*I*Γ)*exp(I*(a*k1/2 - sqrt(3)*a*k2/6)) + 0.5*(-0.75*J + 0.25*K - 0.5*I*Γ')*exp(I*(-a*k1/2 - sqrt(3)*a*k2/6))],\n",
       "[0.5*(0.25*J - 0.75*K + 0.866025403784439*I*Γ')*exp(-I*(a*k1/2 - sqrt(3)*a*k2/6)) + 0.5*(0.25*J + 0.25*K + 0.866025403784439*I*Γ)*exp(-I*(-a*k1/2 - sqrt(3)*a*k2/6)) + 0.5*(0.25*J + 1.0*K + 0.866025403784439*I*Γ')*exp(-sqrt(3)*I*a*k2/3),                                                                                                                                                                                                                      0.75*J + 0.5*K - h,                                        0.5*(-0.75*J - 1.0*K - 0.5*I*Γ')*exp(-sqrt(3)*I*a*k2/3) + 0.5*(-0.75*J - 0.75*K - 0.5*I*Γ)*exp(-I*(a*k1/2 - sqrt(3)*a*k2/6)) + 0.5*(-0.75*J + 0.25*K - 0.5*I*Γ')*exp(-I*(-a*k1/2 - sqrt(3)*a*k2/6)),                                                                                                                                                                                                                                       0],\n",
       "[                                                                                                                                                                                                                                         0,                                        0.5*(-0.75*J - 1.0*K + 0.5*I*Γ')*exp(sqrt(3)*I*a*k2/3) + 0.5*(-0.75*J - 0.75*K + 0.5*I*Γ)*exp(I*(a*k1/2 - sqrt(3)*a*k2/6)) + 0.5*(-0.75*J + 0.25*K + 0.5*I*Γ')*exp(I*(-a*k1/2 - sqrt(3)*a*k2/6)),                                                                                                                                                                                                                         0.75*J + 0.5*K + h, 0.5*(0.25*J - 0.75*K - 0.866025403784439*I*Γ')*exp(I*(a*k1/2 - sqrt(3)*a*k2/6)) + 0.5*(0.25*J + 0.25*K - 0.866025403784439*I*Γ)*exp(I*(-a*k1/2 - sqrt(3)*a*k2/6)) + 0.5*(0.25*J + 1.0*K - 0.866025403784439*I*Γ')*exp(sqrt(3)*I*a*k2/3)],\n",
       "[                                       0.5*(-0.75*J - 1.0*K + 0.5*I*Γ')*exp(-sqrt(3)*I*a*k2/3) + 0.5*(-0.75*J - 0.75*K + 0.5*I*Γ)*exp(-I*(a*k1/2 - sqrt(3)*a*k2/6)) + 0.5*(-0.75*J + 0.25*K + 0.5*I*Γ')*exp(-I*(-a*k1/2 - sqrt(3)*a*k2/6)),                                                                                                                                                                                                                                       0, 0.5*(0.25*J - 0.75*K + 0.866025403784439*I*Γ')*exp(-I*(a*k1/2 - sqrt(3)*a*k2/6)) + 0.5*(0.25*J + 0.25*K + 0.866025403784439*I*Γ)*exp(-I*(-a*k1/2 - sqrt(3)*a*k2/6)) + 0.5*(0.25*J + 1.0*K + 0.866025403784439*I*Γ')*exp(-sqrt(3)*I*a*k2/3),                                                                                                                                                                                                                      0.75*J + 0.5*K - h]])"
      ]
     },
     "execution_count": 16,
     "metadata": {},
     "output_type": "execute_result"
    }
   ],
   "source": [
    "HlswFourSub_FM"
   ]
  },
  {
   "cell_type": "code",
   "execution_count": 17,
   "metadata": {},
   "outputs": [],
   "source": [
    "##### Hlsw = HlswFourSub_FM.subs([(K,0), (Gamma, 0), (gamma,0), (h,0), (a, 1)])"
   ]
  },
  {
   "cell_type": "code",
   "execution_count": 18,
   "metadata": {},
   "outputs": [
    {
     "data": {
      "text/latex": [
       "$\\displaystyle \\left[\\begin{matrix}0.75 J & 0.125 J e^{i \\left(- \\frac{k_{1}}{2} - \\frac{\\sqrt{3} k_{2}}{6}\\right)} + 0.125 J e^{i \\left(\\frac{k_{1}}{2} - \\frac{\\sqrt{3} k_{2}}{6}\\right)} + 0.125 J e^{\\frac{\\sqrt{3} i k_{2}}{3}} & 0 & - 0.375 J e^{i \\left(- \\frac{k_{1}}{2} - \\frac{\\sqrt{3} k_{2}}{6}\\right)} - 0.375 J e^{i \\left(\\frac{k_{1}}{2} - \\frac{\\sqrt{3} k_{2}}{6}\\right)} - 0.375 J e^{\\frac{\\sqrt{3} i k_{2}}{3}}\\\\0.125 J e^{- \\frac{\\sqrt{3} i k_{2}}{3}} + 0.125 J e^{- i \\left(\\frac{k_{1}}{2} - \\frac{\\sqrt{3} k_{2}}{6}\\right)} + 0.125 J e^{- i \\left(- \\frac{k_{1}}{2} - \\frac{\\sqrt{3} k_{2}}{6}\\right)} & 0.75 J & - 0.375 J e^{- \\frac{\\sqrt{3} i k_{2}}{3}} - 0.375 J e^{- i \\left(\\frac{k_{1}}{2} - \\frac{\\sqrt{3} k_{2}}{6}\\right)} - 0.375 J e^{- i \\left(- \\frac{k_{1}}{2} - \\frac{\\sqrt{3} k_{2}}{6}\\right)} & 0\\\\0 & - 0.375 J e^{i \\left(- \\frac{k_{1}}{2} - \\frac{\\sqrt{3} k_{2}}{6}\\right)} - 0.375 J e^{i \\left(\\frac{k_{1}}{2} - \\frac{\\sqrt{3} k_{2}}{6}\\right)} - 0.375 J e^{\\frac{\\sqrt{3} i k_{2}}{3}} & 0.75 J & 0.125 J e^{i \\left(- \\frac{k_{1}}{2} - \\frac{\\sqrt{3} k_{2}}{6}\\right)} + 0.125 J e^{i \\left(\\frac{k_{1}}{2} - \\frac{\\sqrt{3} k_{2}}{6}\\right)} + 0.125 J e^{\\frac{\\sqrt{3} i k_{2}}{3}}\\\\- 0.375 J e^{- \\frac{\\sqrt{3} i k_{2}}{3}} - 0.375 J e^{- i \\left(\\frac{k_{1}}{2} - \\frac{\\sqrt{3} k_{2}}{6}\\right)} - 0.375 J e^{- i \\left(- \\frac{k_{1}}{2} - \\frac{\\sqrt{3} k_{2}}{6}\\right)} & 0 & 0.125 J e^{- \\frac{\\sqrt{3} i k_{2}}{3}} + 0.125 J e^{- i \\left(\\frac{k_{1}}{2} - \\frac{\\sqrt{3} k_{2}}{6}\\right)} + 0.125 J e^{- i \\left(- \\frac{k_{1}}{2} - \\frac{\\sqrt{3} k_{2}}{6}\\right)} & 0.75 J\\end{matrix}\\right]$"
      ],
      "text/plain": [
       "Matrix([\n",
       "[                                                                                                        0.75*J,  0.125*J*exp(I*(-k1/2 - sqrt(3)*k2/6)) + 0.125*J*exp(I*(k1/2 - sqrt(3)*k2/6)) + 0.125*J*exp(sqrt(3)*I*k2/3),                                                                                                              0, -0.375*J*exp(I*(-k1/2 - sqrt(3)*k2/6)) - 0.375*J*exp(I*(k1/2 - sqrt(3)*k2/6)) - 0.375*J*exp(sqrt(3)*I*k2/3)],\n",
       "[ 0.125*J*exp(-sqrt(3)*I*k2/3) + 0.125*J*exp(-I*(k1/2 - sqrt(3)*k2/6)) + 0.125*J*exp(-I*(-k1/2 - sqrt(3)*k2/6)),                                                                                                      0.75*J, -0.375*J*exp(-sqrt(3)*I*k2/3) - 0.375*J*exp(-I*(k1/2 - sqrt(3)*k2/6)) - 0.375*J*exp(-I*(-k1/2 - sqrt(3)*k2/6)),                                                                                                           0],\n",
       "[                                                                                                             0, -0.375*J*exp(I*(-k1/2 - sqrt(3)*k2/6)) - 0.375*J*exp(I*(k1/2 - sqrt(3)*k2/6)) - 0.375*J*exp(sqrt(3)*I*k2/3),                                                                                                         0.75*J,  0.125*J*exp(I*(-k1/2 - sqrt(3)*k2/6)) + 0.125*J*exp(I*(k1/2 - sqrt(3)*k2/6)) + 0.125*J*exp(sqrt(3)*I*k2/3)],\n",
       "[-0.375*J*exp(-sqrt(3)*I*k2/3) - 0.375*J*exp(-I*(k1/2 - sqrt(3)*k2/6)) - 0.375*J*exp(-I*(-k1/2 - sqrt(3)*k2/6)),                                                                                                           0,  0.125*J*exp(-sqrt(3)*I*k2/3) + 0.125*J*exp(-I*(k1/2 - sqrt(3)*k2/6)) + 0.125*J*exp(-I*(-k1/2 - sqrt(3)*k2/6)),                                                                                                      0.75*J]])"
      ]
     },
     "execution_count": 18,
     "metadata": {},
     "output_type": "execute_result"
    }
   ],
   "source": [
    "Hlsw_J = HlswFourSub_FM.subs([(K,0), (Gamma, 0), (gamma, 0), (h,0), (a, 1)])\n",
    "Hlsw_J"
   ]
  },
  {
   "cell_type": "code",
   "execution_count": 19,
   "metadata": {},
   "outputs": [
    {
     "data": {
      "text/latex": [
       "$\\displaystyle \\left[\\begin{matrix}0 & - 0.433012701892219 i Γ' e^{i \\left(\\frac{k_{1}}{2} - \\frac{\\sqrt{3} k_{2}}{6}\\right)} - 0.433012701892219 i Γ' e^{\\frac{\\sqrt{3} i k_{2}}{3}} & 0 & - 0.25 i Γ' e^{i \\left(- \\frac{k_{1}}{2} - \\frac{\\sqrt{3} k_{2}}{6}\\right)} - 0.25 i Γ' e^{\\frac{\\sqrt{3} i k_{2}}{3}}\\\\0.433012701892219 i Γ' e^{- \\frac{\\sqrt{3} i k_{2}}{3}} + 0.433012701892219 i Γ' e^{- i \\left(\\frac{k_{1}}{2} - \\frac{\\sqrt{3} k_{2}}{6}\\right)} & 0 & - 0.25 i Γ' e^{- \\frac{\\sqrt{3} i k_{2}}{3}} - 0.25 i Γ' e^{- i \\left(- \\frac{k_{1}}{2} - \\frac{\\sqrt{3} k_{2}}{6}\\right)} & 0\\\\0 & 0.25 i Γ' e^{i \\left(- \\frac{k_{1}}{2} - \\frac{\\sqrt{3} k_{2}}{6}\\right)} + 0.25 i Γ' e^{\\frac{\\sqrt{3} i k_{2}}{3}} & 0 & - 0.433012701892219 i Γ' e^{i \\left(\\frac{k_{1}}{2} - \\frac{\\sqrt{3} k_{2}}{6}\\right)} - 0.433012701892219 i Γ' e^{\\frac{\\sqrt{3} i k_{2}}{3}}\\\\0.25 i Γ' e^{- \\frac{\\sqrt{3} i k_{2}}{3}} + 0.25 i Γ' e^{- i \\left(- \\frac{k_{1}}{2} - \\frac{\\sqrt{3} k_{2}}{6}\\right)} & 0 & 0.433012701892219 i Γ' e^{- \\frac{\\sqrt{3} i k_{2}}{3}} + 0.433012701892219 i Γ' e^{- i \\left(\\frac{k_{1}}{2} - \\frac{\\sqrt{3} k_{2}}{6}\\right)} & 0\\end{matrix}\\right]$"
      ],
      "text/plain": [
       "Matrix([\n",
       "[                                                                                                 0, -0.433012701892219*I*Γ'*exp(I*(k1/2 - sqrt(3)*k2/6)) - 0.433012701892219*I*Γ'*exp(sqrt(3)*I*k2/3),                                                                                                  0,                          -0.25*I*Γ'*exp(I*(-k1/2 - sqrt(3)*k2/6)) - 0.25*I*Γ'*exp(sqrt(3)*I*k2/3)],\n",
       "[0.433012701892219*I*Γ'*exp(-sqrt(3)*I*k2/3) + 0.433012701892219*I*Γ'*exp(-I*(k1/2 - sqrt(3)*k2/6)),                                                                                                 0,                         -0.25*I*Γ'*exp(-sqrt(3)*I*k2/3) - 0.25*I*Γ'*exp(-I*(-k1/2 - sqrt(3)*k2/6)),                                                                                                 0],\n",
       "[                                                                                                 0,                           0.25*I*Γ'*exp(I*(-k1/2 - sqrt(3)*k2/6)) + 0.25*I*Γ'*exp(sqrt(3)*I*k2/3),                                                                                                  0, -0.433012701892219*I*Γ'*exp(I*(k1/2 - sqrt(3)*k2/6)) - 0.433012701892219*I*Γ'*exp(sqrt(3)*I*k2/3)],\n",
       "[                         0.25*I*Γ'*exp(-sqrt(3)*I*k2/3) + 0.25*I*Γ'*exp(-I*(-k1/2 - sqrt(3)*k2/6)),                                                                                                 0, 0.433012701892219*I*Γ'*exp(-sqrt(3)*I*k2/3) + 0.433012701892219*I*Γ'*exp(-I*(k1/2 - sqrt(3)*k2/6)),                                                                                                 0]])"
      ]
     },
     "execution_count": 19,
     "metadata": {},
     "output_type": "execute_result"
    }
   ],
   "source": [
    "Hlsw_gamma = HlswFourSub_FM.subs([(J,0), (K,0), (Gamma, 0), (h,0), (a, 1)])\n",
    "Hlsw_gamma"
   ]
  },
  {
   "cell_type": "code",
   "execution_count": 20,
   "metadata": {},
   "outputs": [],
   "source": [
    "import SpinModel_afm_Neel as smk"
   ]
  },
  {
   "cell_type": "code",
   "execution_count": 21,
   "metadata": {},
   "outputs": [
    {
     "data": {
      "text/latex": [
       "$\\displaystyle \\left[\\begin{matrix}1.5 & 0 & 0 & 0.5 \\left(-1.0 + 1.22464679914735 \\cdot 10^{-16} i\\right) e^{i \\left(- \\frac{k_{1}}{2} - \\frac{\\sqrt{3} k_{2}}{6}\\right)} + 0.5 \\left(-1.0 + 1.22464679914735 \\cdot 10^{-16} i\\right) e^{i \\left(\\frac{k_{1}}{2} - \\frac{\\sqrt{3} k_{2}}{6}\\right)} + 0.5 \\left(-1.0 + 1.22464679914735 \\cdot 10^{-16} i\\right) e^{\\frac{\\sqrt{3} i k_{2}}{3}}\\\\0 & 1.5 & 0.5 \\left(-1.0 + 1.22464679914735 \\cdot 10^{-16} i\\right) e^{- \\frac{\\sqrt{3} i k_{2}}{3}} + 0.5 \\left(-1.0 + 1.22464679914735 \\cdot 10^{-16} i\\right) e^{- i \\left(\\frac{k_{1}}{2} - \\frac{\\sqrt{3} k_{2}}{6}\\right)} + 0.5 \\left(-1.0 + 1.22464679914735 \\cdot 10^{-16} i\\right) e^{- i \\left(- \\frac{k_{1}}{2} - \\frac{\\sqrt{3} k_{2}}{6}\\right)} & 0\\\\0 & 0.5 \\left(-1.0 - 1.22464679914735 \\cdot 10^{-16} i\\right) e^{i \\left(- \\frac{k_{1}}{2} - \\frac{\\sqrt{3} k_{2}}{6}\\right)} + 0.5 \\left(-1.0 - 1.22464679914735 \\cdot 10^{-16} i\\right) e^{i \\left(\\frac{k_{1}}{2} - \\frac{\\sqrt{3} k_{2}}{6}\\right)} + 0.5 \\left(-1.0 - 1.22464679914735 \\cdot 10^{-16} i\\right) e^{\\frac{\\sqrt{3} i k_{2}}{3}} & 1.5 & 0\\\\0.5 \\left(-1.0 - 1.22464679914735 \\cdot 10^{-16} i\\right) e^{- \\frac{\\sqrt{3} i k_{2}}{3}} + 0.5 \\left(-1.0 - 1.22464679914735 \\cdot 10^{-16} i\\right) e^{- i \\left(\\frac{k_{1}}{2} - \\frac{\\sqrt{3} k_{2}}{6}\\right)} + 0.5 \\left(-1.0 - 1.22464679914735 \\cdot 10^{-16} i\\right) e^{- i \\left(- \\frac{k_{1}}{2} - \\frac{\\sqrt{3} k_{2}}{6}\\right)} & 0 & 0 & 1.5\\end{matrix}\\right]$"
      ],
      "text/plain": [
       "Matrix([\n",
       "[                                                                                                                                                                                              1.5,                                                                                                                                                                                              0,                                                                                                                                                                                                 0, 0.5*(-1.0 + 1.22464679914735e-16*I)*exp(I*(-k1/2 - sqrt(3)*k2/6)) + 0.5*(-1.0 + 1.22464679914735e-16*I)*exp(I*(k1/2 - sqrt(3)*k2/6)) + 0.5*(-1.0 + 1.22464679914735e-16*I)*exp(sqrt(3)*I*k2/3)],\n",
       "[                                                                                                                                                                                                0,                                                                                                                                                                                            1.5, 0.5*(-1.0 + 1.22464679914735e-16*I)*exp(-sqrt(3)*I*k2/3) + 0.5*(-1.0 + 1.22464679914735e-16*I)*exp(-I*(k1/2 - sqrt(3)*k2/6)) + 0.5*(-1.0 + 1.22464679914735e-16*I)*exp(-I*(-k1/2 - sqrt(3)*k2/6)),                                                                                                                                                                                              0],\n",
       "[                                                                                                                                                                                                0, 0.5*(-1.0 - 1.22464679914735e-16*I)*exp(I*(-k1/2 - sqrt(3)*k2/6)) + 0.5*(-1.0 - 1.22464679914735e-16*I)*exp(I*(k1/2 - sqrt(3)*k2/6)) + 0.5*(-1.0 - 1.22464679914735e-16*I)*exp(sqrt(3)*I*k2/3),                                                                                                                                                                                               1.5,                                                                                                                                                                                              0],\n",
       "[0.5*(-1.0 - 1.22464679914735e-16*I)*exp(-sqrt(3)*I*k2/3) + 0.5*(-1.0 - 1.22464679914735e-16*I)*exp(-I*(k1/2 - sqrt(3)*k2/6)) + 0.5*(-1.0 - 1.22464679914735e-16*I)*exp(-I*(-k1/2 - sqrt(3)*k2/6)),                                                                                                                                                                                              0,                                                                                                                                                                                                 0,                                                                                                                                                                                            1.5]])"
      ]
     },
     "execution_count": 21,
     "metadata": {},
     "output_type": "execute_result"
    }
   ],
   "source": [
    "cp_strg = [1,0,0,0,0]\n",
    "H = smk.fm_spin_model(cp_strg)\n",
    "H"
   ]
  },
  {
   "cell_type": "code",
   "execution_count": 22,
   "metadata": {},
   "outputs": [
    {
     "name": "stdout",
     "output_type": "stream",
     "text": [
      "[ 1.41421356+0.j -1.41421356+0.j  1.41421356+0.j -1.41421356+0.j]\n",
      "[ 1.41850629-8.63750705e-34j -1.41850629+8.63750705e-34j\n",
      "  1.41850629+0.00000000e+00j -1.41850629+0.00000000e+00j]\n",
      "[ 1.43057611+1.08649199e-33j -1.43057611-1.08649199e-33j\n",
      " -1.43057611+1.14907750e-34j  1.43057611-1.14907750e-34j]\n",
      "[ 1.44814153+7.79309836e-35j -1.44814153-7.79309836e-35j\n",
      " -1.44814153+7.79309836e-35j  1.44814153-7.79309836e-35j]\n",
      "[ 1.46782441-3.85136203e-34j -1.46782441+3.85136203e-34j\n",
      " -1.46782441+2.63600885e-34j  1.46782441-2.63600885e-34j]\n",
      "[ 1.48563346+4.53144845e-35j -1.48563346-4.53144845e-35j\n",
      " -1.48563346+4.53144845e-35j  1.48563346-4.53144845e-35j]\n",
      "[ 1.49742905+3.42644289e-36j -1.49742905-3.42644289e-36j\n",
      " -1.49742905+3.42644289e-36j  1.49742905-3.42644289e-36j]\n",
      "[ 1.5+0.j -1.5+0.j -1.5+0.j  1.5+0.j]\n",
      "[ 1.49329848+3.19773306e-35j -1.49329848-3.19773306e-35j\n",
      "  1.49329848+0.00000000e+00j -1.49329848+0.00000000e+00j]\n",
      "[ 1.47128665+1.64384177e-34j -1.47128665-1.64384177e-34j\n",
      "  1.47128665+0.00000000e+00j -1.47128665+0.00000000e+00j]\n",
      "[ 1.43164133-9.38574485e-34j -1.43164133+9.38574485e-34j\n",
      "  1.43164133+0.00000000e+00j -1.43164133+0.00000000e+00j]\n",
      "[ 1.37278743-2.33214461e-34j -1.37278743+2.33214461e-34j\n",
      " -1.37278743-2.33214461e-34j  1.37278743+2.33214461e-34j]\n",
      "[ 1.29390636-9.26351299e-34j -1.29390636+9.26351299e-34j\n",
      " -1.29390636-9.26351299e-34j  1.29390636+9.26351299e-34j]\n",
      "[ 1.19491785+7.15979014e-34j -1.19491785-7.15979014e-34j\n",
      "  1.19491785+0.00000000e+00j -1.19491785+0.00000000e+00j]\n",
      "[ 1.07644289+2.90220481e-34j -1.07644289-2.90220481e-34j\n",
      " -1.07644289+2.90220481e-34j  1.07644289-2.90220481e-34j]\n",
      "[ 0.9397519-2.3460021e-33j -0.9397519+2.3460021e-33j\n",
      " -0.9397519-2.3460021e-33j  0.9397519+2.3460021e-33j]\n",
      "[ 0.78670083+2.48389475e-33j -0.78670083-2.48389475e-33j\n",
      " -0.78670083+2.48389475e-33j  0.78670083-2.48389475e-33j]\n",
      "[ 0.61965684+1.58356067e-32j -0.61965684-1.58356067e-32j\n",
      "  0.61965684+0.00000000e+00j -0.61965684+0.00000000e+00j]\n",
      "[ 0.44141495+7.40642009e-33j -0.44141495-7.40642009e-33j\n",
      " -0.44141495+7.40642009e-33j  0.44141495-7.40642009e-33j]\n",
      "[ 0.25510717+4.66670757e-32j -0.25510717-4.66670757e-32j\n",
      " -0.25510717-2.47522244e-32j  0.25510717+2.47522244e-32j]\n",
      "[ 0.06410552-1.42213875e-31j -0.06410552+1.42213875e-31j\n",
      " -0.06410552-1.42213875e-31j  0.06410552+1.42213875e-31j]\n",
      "[ 1.17316668e-12+1.57624169e-20j -1.17278415e-12-1.57624169e-20j\n",
      " -1.17316668e-12+8.74989907e-37j  1.17278415e-12-8.74989907e-37j]\n",
      "[ 0.19178967-5.44003435e-20j -0.19178967+4.45514161e-20j\n",
      "  0.19178967-8.67390453e-19j -0.19178967+8.67390453e-19j]\n",
      "[ 0.38003564-1.73357239e-19j -0.38003564+3.37631421e-19j\n",
      "  0.38003564-1.80456168e-16j -0.38003564+3.60867409e-16j]\n",
      "[ 0.5612597+5.81981768e-19j -0.5612597-4.88748416e-19j\n",
      "  0.5612597-1.98667040e-16j -0.5612597-3.98077835e-16j]\n",
      "[ 0.73211337+7.28625515e-19j -0.73211337-1.92866696e-18j\n",
      "  0.73211337-7.09048128e-18j -0.73211337+7.09048128e-18j]\n",
      "[ 0.88943979-3.18571779e-18j -0.88943979+7.24787495e-18j\n",
      "  0.88943979+8.29012699e-18j -0.88943979-3.08595656e-18j]\n",
      "[ 1.03033204+1.33501815e-18j -1.03033204-3.01852667e-18j\n",
      "  1.03033204-2.01175123e-19j -1.03033204-2.09969392e-17j]\n",
      "[ 1.15218686+3.84770401e-19j -1.15218686-1.19193186e-17j\n",
      "  1.15218686+1.30961722e-17j -1.15218686-1.30961722e-17j]\n",
      "[ 1.25275273+9.21158185e-18j -1.25275273-2.46637094e-17j\n",
      "  1.25275273-4.90822737e-18j -1.25275273+6.04193786e-17j]\n",
      "[ 1.33017151-6.87190634e-18j -1.33017151+2.53061899e-17j\n",
      "  1.33017151-4.79945349e-17j -1.33017151+2.15400019e-17j]\n",
      "[ 1.38301273+1.31309982e-17j -1.38301273-8.74909242e-17j\n",
      "  1.38301273-7.24983658e-17j -1.38301273-1.21790664e-16j]\n",
      "[ 1.41030003+2.28361563e-19j -1.41030003-2.57184726e-18j\n",
      "  1.41030003+3.17793388e-17j -1.41030003-3.87182327e-17j]\n",
      "[ 1.41421356+2.32165893e-18j -1.41421356-3.55215579e-17j\n",
      "  1.41421356-1.26255730e-16j -1.41421356-9.57888751e-17j]\n",
      "[ 1.41850629+3.76693694e-18j -1.41850629-3.69668360e-17j\n",
      "  1.41850629-1.81557601e-16j -1.41850629-2.62531609e-16j]\n",
      "[ 1.43057611+4.11641879e-18j -1.43057611-7.05162168e-17j\n",
      "  1.43057611+9.07003851e-17j -1.43057611+6.44412953e-18j]\n",
      "[ 1.44814153+4.71039346e-18j -1.44814153-7.11101915e-17j\n",
      "  1.44814153+1.54039718e-17j -1.44814153+1.51129482e-16j]\n",
      "[ 1.46782441-1.00118361e-18j -1.46782441-6.53986144e-17j\n",
      "  1.46782441+1.02221445e-18j -1.46782441-5.65333657e-17j]\n",
      "[ 1.48563346+4.10077886e-19j -1.48563346-2.21873715e-17j\n",
      "  1.48563346-1.29819070e-16j -1.48563346+3.26745550e-17j]\n",
      "[ 1.49742905-2.76555213e-19j -1.49742905+1.45566674e-16j\n",
      "  1.49742905+3.86935562e-17j -1.49742905-5.25713440e-17j]\n",
      "[ 1.49929421-1.04099310e-20j -1.49929421+4.24970799e-17j\n",
      "  1.49929421+8.39031077e-17j -1.49929421+7.56914521e-17j]\n",
      "[ 1.48779215+1.05110720e-19j -1.48779215-5.61502206e-17j\n",
      "  1.48779215-1.67572757e-16j -1.48779215-5.89959078e-18j]\n",
      "[ 1.46012421+1.27341512e-18j -1.46012421-4.58959195e-17j\n",
      "  1.46012421-1.24660513e-16j -1.46012421+2.75159981e-17j]\n",
      "[ 1.41421356-3.11353356e-18j -1.41421356-2.59776915e-18j\n",
      "  1.41421356-2.74118940e-17j -1.41421356+6.38410870e-17j]\n",
      "[ 1.34873785-2.13983601e-18j -1.34873785-3.57146670e-18j\n",
      "  1.34873785+5.40571266e-17j -1.34873785+1.45402463e-18j]\n",
      "[ 1.26312767+9.37868053e-18j -1.26312767-5.40011850e-17j\n",
      "  1.26312767-1.46194322e-16j -1.26312767+2.71094412e-16j]\n",
      "[ 1.15754141+5.77942614e-18j -1.15754141-8.36018296e-17j\n",
      "  1.15754141-2.41802924e-16j -1.15754141-3.57528322e-17j]\n",
      "[ 1.03282295-3.84791459e-17j -1.03282295+1.04878944e-16j\n",
      "  1.03282295-1.50308205e-16j -1.03282295-1.82758703e-16j]\n",
      "[ 0.89044552+7.49244330e-18j -0.89044552-4.64036450e-17j\n",
      "  0.89044552+1.58110244e-16j -0.89044552-4.70879416e-17j]\n",
      "[ 0.7324442-2.48750327e-17j -0.7324442+5.80749317e-17j\n",
      "  0.7324442-2.25450869e-16j -0.7324442+3.40626405e-18j]\n",
      "[ 0.56133844-2.57919901e-17j -0.56133844-1.31192116e-17j\n",
      "  0.56133844+3.73279948e-16j -0.56133844-2.62257645e-16j]\n",
      "[ 0.38004603+8.08367341e-17j -0.38004603-8.65480368e-17j\n",
      "  0.38004603-1.27675910e-15j -0.38004603+3.88580683e-16j]\n",
      "[ 0.19178999+4.90286706e-17j -0.19178999-5.47399733e-17j\n",
      "  0.19178999+3.74221017e-16j -0.19178999-1.06811041e-15j]\n",
      "[ 4.02498757e-09+2.20732474e-08j -4.02498693e-09-2.20732475e-08j\n",
      "  2.54676655e-08-1.33256978e-08j -2.54676653e-08+1.33256977e-08j]\n",
      "[ 0.19178967+5.48339353e-16j -0.19178967-6.42954380e-16j\n",
      "  0.19178967-1.91681425e-15j -0.19178967+1.47272504e-15j]\n",
      "[ 0.38003564+7.93222704e-17j -0.38003564-2.40496792e-17j\n",
      "  0.38003564-5.52856006e-17j -0.38003564-1.66759004e-16j]\n",
      "[ 0.5612597-3.74380873e-17j -0.5612597+3.61041611e-17j\n",
      "  0.5612597+2.03608065e-17j -0.5612597-5.75472319e-16j]\n",
      "[ 0.73211337+2.63569127e-17j -0.73211337-6.35016694e-17j\n",
      "  0.73211337+6.74741544e-17j -0.73211337-6.74741544e-17j]\n",
      "[ 0.88943979-2.01454577e-17j -0.88943979+1.37047166e-16j\n",
      "  0.88943979-1.41499644e-17j -0.88943979-5.40961548e-16j]\n",
      "[ 1.03033204-8.48438071e-18j -1.03033204-3.12082701e-17j\n",
      "  1.03033204+1.97685118e-16j -1.03033204-1.42173967e-16j]\n",
      "[ 1.15218686-5.11628335e-18j -1.15218686+1.04469366e-16j\n",
      "  1.15218686-1.02106609e-16j -1.15218686-1.19937996e-16j]\n",
      "[ 1.25275273+2.30006752e-19j -1.25275273-6.41819810e-17j\n",
      "  1.25275273+1.61794268e-16j -1.25275273-1.06283116e-16j]\n",
      "[ 1.33017151-6.98906387e-19j -1.33017151+1.16634873e-20j\n",
      "  1.33017151+7.87902644e-17j -1.33017151+3.22320381e-17j]\n",
      "[ 1.38301273-3.33848786e-19j -1.38301273-1.70833976e-18j\n",
      "  1.38301273+1.64196270e-17j -1.38301273+1.12817272e-16j]\n",
      "[ 1.41030003-5.03797488e-19j -1.41030003+1.82811987e-17j\n",
      "  1.41030003+2.78109290e-18j -1.41030003+1.08241210e-16j]\n",
      "[ 1.41421356+2.63221066e-19j -1.41421356+6.61365770e-17j\n",
      "  1.41421356-3.44928149e-17j -1.41421356-1.32040639e-16j]\n",
      "[ 1.40114836+1.33667113e-17j -1.40114836-8.06876250e-17j\n",
      "  1.40114836-1.12980095e-16j -1.40114836+1.95779272e-18j]\n",
      "[ 1.36219415+2.15855077e-18j -1.36219415+4.36237925e-17j\n",
      "  1.36219415-7.03147500e-18j -1.36219415-1.31746403e-16j]\n",
      "[ 1.2980707-2.05178091e-18j -1.2980707-1.50142850e-17j\n",
      "  1.2980707-3.32306318e-17j -1.2980707+2.00560920e-18j]\n",
      "[ 1.20996282-2.00740627e-18j -1.20996282+1.21173809e-17j\n",
      "  1.20996282-4.25233005e-17j -1.20996282-2.68656385e-17j]\n",
      "[ 1.09949846-9.94014773e-19j -1.09949846-1.67292755e-17j\n",
      "  1.09949846+2.54304089e-16j -1.09949846-1.98792937e-16j]\n",
      "[ 0.96871869-1.83899048e-19j -0.96871869-2.35045010e-18j\n",
      "  0.96871869+5.81364541e-18j -0.96871869+5.46205719e-18j]\n",
      "[ 0.82003991-3.17173900e-18j -0.82003991+1.18120141e-18j\n",
      "  0.82003991+1.74626826e-18j -0.82003991-2.08282265e-17j]\n",
      "[ 0.65620926-1.72614914e-19j -0.65620926+1.89752918e-18j\n",
      "  0.65620926-4.59185325e-18j -0.65620926+5.73026553e-18j]\n",
      "[ 0.48025384+8.34390210e-19j -0.48025384-1.68395257e-18j\n",
      "  0.48025384-1.14103388e-16j -0.48025384-2.91821905e-16j]\n"
     ]
    },
    {
     "name": "stdout",
     "output_type": "stream",
     "text": [
      "[ 0.29542478+1.61723321e-19j -0.29542478-2.21000841e-19j\n",
      "  0.29542478+1.41586465e-19j -0.29542478-1.41586465e-19j]\n",
      "[ 0.10513716+3.75754266e-20j -0.10513716-3.70276475e-20j\n",
      "  0.10513716-1.82427321e-19j -0.10513716+1.69721826e-19j]\n"
     ]
    },
    {
     "data": {
      "image/png": "[encoded data removed]",
      "text/plain": [
       "<Figure size 432x288 with 1 Axes>"
      ]
     },
     "metadata": {},
     "output_type": "display_data"
    }
   ],
   "source": [
    "smk.band_high_sym(H, cp_strg, 20)"
   ]
  },
  {
   "cell_type": "code",
   "execution_count": null,
   "metadata": {},
   "outputs": [],
   "source": [
    "smk.bdg(H,0,0)"
   ]
  },
  {
   "cell_type": "code",
   "execution_count": 37,
   "metadata": {},
   "outputs": [
    {
     "data": {
      "text/latex": [
       "$\\displaystyle \\left[\\begin{matrix}1.5 J & 0 & 0 & - 1.5 J + 1.83697019872103 \\cdot 10^{-16} i J\\\\0 & 1.5 J & - 1.5 J + 1.83697019872103 \\cdot 10^{-16} i J & 0\\\\0 & - 1.5 J - 1.83697019872103 \\cdot 10^{-16} i J & 1.5 J & 0\\\\- 1.5 J - 1.83697019872103 \\cdot 10^{-16} i J & 0 & 0 & 1.5 J\\end{matrix}\\right]$"
      ],
      "text/plain": [
       "Matrix([\n",
       "[                            1.5*J,                                 0,                                 0, -1.5*J + 1.83697019872103e-16*I*J],\n",
       "[                                0,                             1.5*J, -1.5*J + 1.83697019872103e-16*I*J,                                 0],\n",
       "[                                0, -1.5*J - 1.83697019872103e-16*I*J,                             1.5*J,                                 0],\n",
       "[-1.5*J - 1.83697019872103e-16*I*J,                                 0,                                 0,                             1.5*J]])"
      ]
     },
     "execution_count": 37,
     "metadata": {},
     "output_type": "execute_result"
    }
   ],
   "source": [
    "Hlsw_Gamma = Hlsw.subs([(k1,0),(k2,0)])\n",
    "Hlsw_Gamma"
   ]
  },
  {
   "cell_type": "code",
   "execution_count": 39,
   "metadata": {},
   "outputs": [
    {
     "data": {
      "text/latex": [
       "$\\displaystyle \\left[\\begin{matrix}1.5 J & 0 & 0 & 0.5 \\left(- 1.0 J + 1.22464679914735 \\cdot 10^{-16} i J\\right) e^{i \\left(-6.28318530717959 - 1.20919957615615 \\sqrt{3}\\right)} + 0.5 \\left(- 1.0 J + 1.22464679914735 \\cdot 10^{-16} i J\\right) e^{i \\left(6.28318530717959 - 1.20919957615615 \\sqrt{3}\\right)} + 0.5 \\left(- 1.0 J + 1.22464679914735 \\cdot 10^{-16} i J\\right) e^{2.41839915231229 \\sqrt{3} i}\\\\0 & 1.5 J & 0.5 \\left(- 1.0 J + 1.22464679914735 \\cdot 10^{-16} i J\\right) e^{- 2.41839915231229 \\sqrt{3} i} + 0.5 \\left(- 1.0 J + 1.22464679914735 \\cdot 10^{-16} i J\\right) e^{- i \\left(6.28318530717959 - 1.20919957615615 \\sqrt{3}\\right)} + 0.5 \\left(- 1.0 J + 1.22464679914735 \\cdot 10^{-16} i J\\right) e^{- i \\left(-6.28318530717959 - 1.20919957615615 \\sqrt{3}\\right)} & 0\\\\0 & 0.5 \\left(- 1.0 J - 1.22464679914735 \\cdot 10^{-16} i J\\right) e^{i \\left(-6.28318530717959 - 1.20919957615615 \\sqrt{3}\\right)} + 0.5 \\left(- 1.0 J - 1.22464679914735 \\cdot 10^{-16} i J\\right) e^{i \\left(6.28318530717959 - 1.20919957615615 \\sqrt{3}\\right)} + 0.5 \\left(- 1.0 J - 1.22464679914735 \\cdot 10^{-16} i J\\right) e^{2.41839915231229 \\sqrt{3} i} & 1.5 J & 0\\\\0.5 \\left(- 1.0 J - 1.22464679914735 \\cdot 10^{-16} i J\\right) e^{- 2.41839915231229 \\sqrt{3} i} + 0.5 \\left(- 1.0 J - 1.22464679914735 \\cdot 10^{-16} i J\\right) e^{- i \\left(6.28318530717959 - 1.20919957615615 \\sqrt{3}\\right)} + 0.5 \\left(- 1.0 J - 1.22464679914735 \\cdot 10^{-16} i J\\right) e^{- i \\left(-6.28318530717959 - 1.20919957615615 \\sqrt{3}\\right)} & 0 & 0 & 1.5 J\\end{matrix}\\right]$"
      ],
      "text/plain": [
       "Matrix([\n",
       "[                                                                                                                                                                                                                                                                    1.5*J,                                                                                                                                                                                                                                                                      0,                                                                                                                                                                                                                                                                         0, 0.5*(-1.0*J + 1.22464679914735e-16*I*J)*exp(I*(-6.28318530717959 - 1.20919957615615*sqrt(3))) + 0.5*(-1.0*J + 1.22464679914735e-16*I*J)*exp(I*(6.28318530717959 - 1.20919957615615*sqrt(3))) + 0.5*(-1.0*J + 1.22464679914735e-16*I*J)*exp(2.41839915231229*sqrt(3)*I)],\n",
       "[                                                                                                                                                                                                                                                                        0,                                                                                                                                                                                                                                                                  1.5*J, 0.5*(-1.0*J + 1.22464679914735e-16*I*J)*exp(-2.41839915231229*sqrt(3)*I) + 0.5*(-1.0*J + 1.22464679914735e-16*I*J)*exp(-I*(6.28318530717959 - 1.20919957615615*sqrt(3))) + 0.5*(-1.0*J + 1.22464679914735e-16*I*J)*exp(-I*(-6.28318530717959 - 1.20919957615615*sqrt(3))),                                                                                                                                                                                                                                                                      0],\n",
       "[                                                                                                                                                                                                                                                                        0, 0.5*(-1.0*J - 1.22464679914735e-16*I*J)*exp(I*(-6.28318530717959 - 1.20919957615615*sqrt(3))) + 0.5*(-1.0*J - 1.22464679914735e-16*I*J)*exp(I*(6.28318530717959 - 1.20919957615615*sqrt(3))) + 0.5*(-1.0*J - 1.22464679914735e-16*I*J)*exp(2.41839915231229*sqrt(3)*I),                                                                                                                                                                                                                                                                     1.5*J,                                                                                                                                                                                                                                                                      0],\n",
       "[0.5*(-1.0*J - 1.22464679914735e-16*I*J)*exp(-2.41839915231229*sqrt(3)*I) + 0.5*(-1.0*J - 1.22464679914735e-16*I*J)*exp(-I*(6.28318530717959 - 1.20919957615615*sqrt(3))) + 0.5*(-1.0*J - 1.22464679914735e-16*I*J)*exp(-I*(-6.28318530717959 - 1.20919957615615*sqrt(3))),                                                                                                                                                                                                                                                                      0,                                                                                                                                                                                                                                                                         0,                                                                                                                                                                                                                                                                  1.5*J]])"
      ]
     },
     "execution_count": 39,
     "metadata": {},
     "output_type": "execute_result"
    }
   ],
   "source": [
    "Hlsw_Gamma_prime = Hlsw.subs([(k1,4*np.pi),(k2,4*np.pi/np.sqrt(3))])\n",
    "Hlsw_Gamma_prime"
   ]
  },
  {
   "cell_type": "code",
   "execution_count": null,
   "metadata": {},
   "outputs": [],
   "source": []
  }
 ],
 "metadata": {
  "kernelspec": {
   "display_name": "Python 3",
   "language": "python",
   "name": "python3"
  },
  "language_info": {
   "codemirror_mode": {
    "name": "ipython",
    "version": 3
   },
   "file_extension": ".py",
   "mimetype": "text/x-python",
   "name": "python",
   "nbconvert_exporter": "python",
   "pygments_lexer": "ipython3",
   "version": "3.9.1"
  }
 },
 "nbformat": 4,
 "nbformat_minor": 4
}
