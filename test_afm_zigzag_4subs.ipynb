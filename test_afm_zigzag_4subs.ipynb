{
 "cells": [
  {
   "cell_type": "code",
   "execution_count": 132,
   "id": "ba44c981e6cd5faa",
   "metadata": {
    "ExecuteTime": {
     "end_time": "2024-06-06T03:54:34.883952Z",
     "start_time": "2024-06-06T03:54:31.947979Z"
    }
   },
   "outputs": [],
   "source": [
    "import sympy as sp\n",
    "import numpy as np\n",
    "from matplotlib.pyplot import subplots as spp\n",
    "from numpy import linalg as LA\n",
    "from sympy.physics.matrices import msigma"
   ]
  },
  {
   "cell_type": "code",
   "execution_count": 133,
   "metadata": {},
   "outputs": [],
   "source": [
    "theta =np.pi*(158/180)\n",
    "phi = 0"
   ]
  },
  {
   "cell_type": "code",
   "execution_count": 134,
   "id": "a5db653b10afe1a1",
   "metadata": {
    "ExecuteTime": {
     "end_time": "2024-06-06T03:54:37.151796Z",
     "start_time": "2024-06-06T03:54:37.136202Z"
    }
   },
   "outputs": [],
   "source": [
    "def distri224(H, Hsub, a, b):\n",
    "    lat = {'0': a, '1': b}\n",
    "    l=0\n",
    "    while l<2:\n",
    "        ll=0\n",
    "        while ll<2:\n",
    "            i=0\n",
    "            while i<2:\n",
    "                j=0\n",
    "                while j<2:\n",
    "                    H[lat[f'{l}']+i*4,lat[f'{ll}']+j*4] = H[lat[f'{l}']+i*4,lat[f'{ll}']+j*4] + Hsub[0+i*2+l,0+j*2+ll]\n",
    "                    j+=1\n",
    "                i+=1\n",
    "            ll+=1\n",
    "        l+=1\n"
   ]
  },
  {
   "cell_type": "code",
   "execution_count": 135,
   "metadata": {},
   "outputs": [
    {
     "data": {
      "text/latex": [
       "$\\displaystyle \\left[\\begin{matrix}22 & 21 & 0 & 0 & 24 & 23 & 0 & 0\\\\12 & 11 & 0 & 0 & 14 & 13 & 0 & 0\\\\0 & 0 & 0 & 0 & 0 & 0 & 0 & 0\\\\0 & 0 & 0 & 0 & 0 & 0 & 0 & 0\\\\42 & 41 & 0 & 0 & 44 & 43 & 0 & 0\\\\32 & 31 & 0 & 0 & 34 & 33 & 0 & 0\\\\0 & 0 & 0 & 0 & 0 & 0 & 0 & 0\\\\0 & 0 & 0 & 0 & 0 & 0 & 0 & 0\\end{matrix}\\right]$"
      ],
      "text/plain": [
       "Matrix([\n",
       "[22, 21, 0, 0, 24, 23, 0, 0],\n",
       "[12, 11, 0, 0, 14, 13, 0, 0],\n",
       "[ 0,  0, 0, 0,  0,  0, 0, 0],\n",
       "[ 0,  0, 0, 0,  0,  0, 0, 0],\n",
       "[42, 41, 0, 0, 44, 43, 0, 0],\n",
       "[32, 31, 0, 0, 34, 33, 0, 0],\n",
       "[ 0,  0, 0, 0,  0,  0, 0, 0],\n",
       "[ 0,  0, 0, 0,  0,  0, 0, 0]])"
      ]
     },
     "execution_count": 135,
     "metadata": {},
     "output_type": "execute_result"
    }
   ],
   "source": [
    "H = sp.zeros(8, 8)\n",
    "Hsub = sp.Matrix([[11,12,13,14],[21,22,23,24],[31,32,33,34],[41,42,43,44]])\n",
    "distri224(H, Hsub, 1,0)\n",
    "H"
   ]
  },
  {
   "cell_type": "code",
   "execution_count": 136,
   "metadata": {},
   "outputs": [
    {
     "data": {
      "text/latex": [
       "$\\displaystyle \\left[\\begin{matrix}0 & 0 & 0 & 0 & 0 & 0 & 0 & 0\\\\0 & 0 & 0 & 0 & 0 & 0 & 0 & 0\\\\0 & 0 & 22 & 21 & 0 & 0 & 24 & 23\\\\0 & 0 & 12 & 11 & 0 & 0 & 14 & 13\\\\0 & 0 & 0 & 0 & 0 & 0 & 0 & 0\\\\0 & 0 & 0 & 0 & 0 & 0 & 0 & 0\\\\0 & 0 & 42 & 41 & 0 & 0 & 44 & 43\\\\0 & 0 & 32 & 31 & 0 & 0 & 34 & 33\\end{matrix}\\right]$"
      ],
      "text/plain": [
       "Matrix([\n",
       "[0, 0,  0,  0, 0, 0,  0,  0],\n",
       "[0, 0,  0,  0, 0, 0,  0,  0],\n",
       "[0, 0, 22, 21, 0, 0, 24, 23],\n",
       "[0, 0, 12, 11, 0, 0, 14, 13],\n",
       "[0, 0,  0,  0, 0, 0,  0,  0],\n",
       "[0, 0,  0,  0, 0, 0,  0,  0],\n",
       "[0, 0, 42, 41, 0, 0, 44, 43],\n",
       "[0, 0, 32, 31, 0, 0, 34, 33]])"
      ]
     },
     "execution_count": 136,
     "metadata": {},
     "output_type": "execute_result"
    }
   ],
   "source": [
    "H = sp.zeros(8, 8)\n",
    "Hsub = sp.Matrix([[11,12,13,14],[21,22,23,24],[31,32,33,34],[41,42,43,44]])\n",
    "distri224(H, Hsub, 3,2)\n",
    "H"
   ]
  },
  {
   "cell_type": "code",
   "execution_count": 137,
   "metadata": {
    "scrolled": true
   },
   "outputs": [
    {
     "data": {
      "text/latex": [
       "$\\displaystyle \\left[\\begin{matrix}0 & 0 & 0 & 0 & 0 & 0 & 0 & 0\\\\0 & 11 & 12 & 0 & 0 & 13 & 14 & 0\\\\0 & 21 & 22 & 0 & 0 & 23 & 24 & 0\\\\0 & 0 & 0 & 0 & 0 & 0 & 0 & 0\\\\0 & 0 & 0 & 0 & 0 & 0 & 0 & 0\\\\0 & 31 & 32 & 0 & 0 & 33 & 34 & 0\\\\0 & 41 & 42 & 0 & 0 & 43 & 44 & 0\\\\0 & 0 & 0 & 0 & 0 & 0 & 0 & 0\\end{matrix}\\right]$"
      ],
      "text/plain": [
       "Matrix([\n",
       "[0,  0,  0, 0, 0,  0,  0, 0],\n",
       "[0, 11, 12, 0, 0, 13, 14, 0],\n",
       "[0, 21, 22, 0, 0, 23, 24, 0],\n",
       "[0,  0,  0, 0, 0,  0,  0, 0],\n",
       "[0,  0,  0, 0, 0,  0,  0, 0],\n",
       "[0, 31, 32, 0, 0, 33, 34, 0],\n",
       "[0, 41, 42, 0, 0, 43, 44, 0],\n",
       "[0,  0,  0, 0, 0,  0,  0, 0]])"
      ]
     },
     "execution_count": 137,
     "metadata": {},
     "output_type": "execute_result"
    }
   ],
   "source": [
    "H = sp.zeros(8, 8)\n",
    "Hsub = sp.Matrix([[11,12,13,14],[21,22,23,24],[31,32,33,34],[41,42,43,44]])\n",
    "distri224(H, Hsub, 1,2)\n",
    "H"
   ]
  },
  {
   "cell_type": "code",
   "execution_count": 138,
   "metadata": {},
   "outputs": [
    {
     "data": {
      "text/latex": [
       "$\\displaystyle \\left[\\begin{matrix}22 & 0 & 0 & 21 & 24 & 0 & 0 & 23\\\\0 & 0 & 0 & 0 & 0 & 0 & 0 & 0\\\\0 & 0 & 0 & 0 & 0 & 0 & 0 & 0\\\\12 & 0 & 0 & 11 & 14 & 0 & 0 & 13\\\\42 & 0 & 0 & 41 & 44 & 0 & 0 & 43\\\\0 & 0 & 0 & 0 & 0 & 0 & 0 & 0\\\\0 & 0 & 0 & 0 & 0 & 0 & 0 & 0\\\\32 & 0 & 0 & 31 & 34 & 0 & 0 & 33\\end{matrix}\\right]$"
      ],
      "text/plain": [
       "Matrix([\n",
       "[22, 0, 0, 21, 24, 0, 0, 23],\n",
       "[ 0, 0, 0,  0,  0, 0, 0,  0],\n",
       "[ 0, 0, 0,  0,  0, 0, 0,  0],\n",
       "[12, 0, 0, 11, 14, 0, 0, 13],\n",
       "[42, 0, 0, 41, 44, 0, 0, 43],\n",
       "[ 0, 0, 0,  0,  0, 0, 0,  0],\n",
       "[ 0, 0, 0,  0,  0, 0, 0,  0],\n",
       "[32, 0, 0, 31, 34, 0, 0, 33]])"
      ]
     },
     "execution_count": 138,
     "metadata": {},
     "output_type": "execute_result"
    }
   ],
   "source": [
    "H = sp.zeros(8, 8)\n",
    "Hsub = sp.Matrix([[11,12,13,14],[21,22,23,24],[31,32,33,34],[41,42,43,44]])\n",
    "distri224(H, Hsub, 3,0)\n",
    "H"
   ]
  },
  {
   "cell_type": "code",
   "execution_count": 139,
   "metadata": {},
   "outputs": [
    {
     "data": {
      "text/latex": [
       "$\\displaystyle \\left[\\begin{matrix}0 & 0 & 0 & 0 & 0 & 0 & 0 & 0\\\\0 & 11 & 0 & 12 & 0 & 13 & 0 & 14\\\\0 & 0 & 0 & 0 & 0 & 0 & 0 & 0\\\\0 & 21 & 0 & 22 & 0 & 23 & 0 & 24\\\\0 & 0 & 0 & 0 & 0 & 0 & 0 & 0\\\\0 & 31 & 0 & 32 & 0 & 33 & 0 & 34\\\\0 & 0 & 0 & 0 & 0 & 0 & 0 & 0\\\\0 & 41 & 0 & 42 & 0 & 43 & 0 & 44\\end{matrix}\\right]$"
      ],
      "text/plain": [
       "Matrix([\n",
       "[0,  0, 0,  0, 0,  0, 0,  0],\n",
       "[0, 11, 0, 12, 0, 13, 0, 14],\n",
       "[0,  0, 0,  0, 0,  0, 0,  0],\n",
       "[0, 21, 0, 22, 0, 23, 0, 24],\n",
       "[0,  0, 0,  0, 0,  0, 0,  0],\n",
       "[0, 31, 0, 32, 0, 33, 0, 34],\n",
       "[0,  0, 0,  0, 0,  0, 0,  0],\n",
       "[0, 41, 0, 42, 0, 43, 0, 44]])"
      ]
     },
     "execution_count": 139,
     "metadata": {},
     "output_type": "execute_result"
    }
   ],
   "source": [
    "H = sp.zeros(8, 8)\n",
    "Hsub = sp.Matrix([[11,12,13,14],[21,22,23,24],[31,32,33,34],[41,42,43,44]])\n",
    "distri224(H, Hsub, 1,3)\n",
    "H"
   ]
  },
  {
   "cell_type": "code",
   "execution_count": 140,
   "metadata": {
    "scrolled": true
   },
   "outputs": [
    {
     "data": {
      "text/latex": [
       "$\\displaystyle \\left[\\begin{matrix}0 & 0 & 0 & 0 & 0 & 0 & 0 & 0\\\\0 & 22 & 0 & 21 & 0 & 24 & 0 & 23\\\\0 & 0 & 0 & 0 & 0 & 0 & 0 & 0\\\\0 & 12 & 0 & 11 & 0 & 14 & 0 & 13\\\\0 & 0 & 0 & 0 & 0 & 0 & 0 & 0\\\\0 & 42 & 0 & 41 & 0 & 44 & 0 & 43\\\\0 & 0 & 0 & 0 & 0 & 0 & 0 & 0\\\\0 & 32 & 0 & 31 & 0 & 34 & 0 & 33\\end{matrix}\\right]$"
      ],
      "text/plain": [
       "Matrix([\n",
       "[0,  0, 0,  0, 0,  0, 0,  0],\n",
       "[0, 22, 0, 21, 0, 24, 0, 23],\n",
       "[0,  0, 0,  0, 0,  0, 0,  0],\n",
       "[0, 12, 0, 11, 0, 14, 0, 13],\n",
       "[0,  0, 0,  0, 0,  0, 0,  0],\n",
       "[0, 42, 0, 41, 0, 44, 0, 43],\n",
       "[0,  0, 0,  0, 0,  0, 0,  0],\n",
       "[0, 32, 0, 31, 0, 34, 0, 33]])"
      ]
     },
     "execution_count": 140,
     "metadata": {},
     "output_type": "execute_result"
    }
   ],
   "source": [
    "H = sp.zeros(8, 8)\n",
    "Hsub = sp.Matrix([[11,12,13,14],[21,22,23,24],[31,32,33,34],[41,42,43,44]])\n",
    "distri224(H, Hsub, 3,1)\n",
    "H"
   ]
  },
  {
   "cell_type": "code",
   "execution_count": 141,
   "id": "db7ab77057d9108d",
   "metadata": {
    "ExecuteTime": {
     "end_time": "2024-06-06T03:54:38.859820Z",
     "start_time": "2024-06-06T03:54:38.784423Z"
    }
   },
   "outputs": [],
   "source": [
    "a_i = sp.symbols(\"a1:3\")  # Bravais lattice vectors\n",
    "a = sp.Symbol(\"a\", real=True)\n",
    "I = sp.I\n",
    "pi = sp.pi\n",
    "hb = sp.Symbol(\"ℏ\", real=True)\n",
    "S = sp.Symbol(\"S\", real=True)\n",
    "\n",
    "J = sp.Symbol(\"J\", real=True)  # Heisenberg coupling\n",
    "K = sp.Symbol(\"K\", real=True)  # Kitaev coupling\n",
    "Gamma = sp.Symbol(\"Γ\", real=True)\n",
    "gamma = sp.Symbol(\"Γ'\", real=True)\n",
    "h = sp.Symbol(\"h\", real=True)\n",
    "# up-up couplings\n"
   ]
  },
  {
   "cell_type": "code",
   "execution_count": 142,
   "metadata": {},
   "outputs": [],
   "source": [
    "Theta = theta\n",
    "Phi = phi\n",
    "uni = sp.Matrix([[np.cos(Theta/2),np.sin(Theta / 2)],[-np.sin(Theta/2)*np.exp(1j*Phi),np.cos(Theta / 2) * np.exp(1j * Phi)]])\n",
    "uni_dag = sp.transpose(sp.conjugate(uni))\n",
    "\n",
    "\n",
    "pxd = sp.simplify(uni_dag*msigma(1)*uni)\n",
    "pyd = sp.simplify(uni_dag*msigma(2)*uni)\n",
    "pzd = sp.simplify(uni_dag * msigma(3) * uni)\n",
    "\n",
    "V1 = sp.simplify(sp.Matrix([(pxd[0, 1] + pxd[1, 0]) / 2, (pxd[1, 0] - pxd[0, 1]) / (2 * I), (pxd[0, 0] - pxd[1, 1]) / 2]))\n",
    "V2 = sp.simplify(sp.Matrix([(pyd[0, 1] + pyd[1, 0]) / 2, (pyd[1, 0] - pyd[0, 1]) / (2 * I), (pyd[0, 0] - pyd[1, 1]) / 2]))\n",
    "V3 = sp.simplify(sp.Matrix([(pzd[0, 1] + pzd[1, 0]) / 2, (pzd[1, 0] - pzd[0, 1]) / (2 * I), (pzd[0, 0] - pzd[1, 1]) / 2]))"
   ]
  },
  {
   "cell_type": "code",
   "execution_count": 143,
   "metadata": {},
   "outputs": [],
   "source": [
    "Hberg_uu = V1 * sp.Transpose(V1) + V2 * sp.Transpose(V2) + V3 * sp.Transpose(V3)\n",
    "\n",
    "IsingXX_uu = V1 * sp.Transpose(V1)\n",
    "IsingZZ_uu = V3 * sp.Transpose(V3)\n",
    "\n",
    "XY_uu = V1 * sp.Transpose(V2)\n",
    "XZ_uu = V1 * sp.Transpose(V3)\n",
    "YX_uu = V2 * sp.Transpose(V1)\n",
    "YZ_uu = V2 * sp.Transpose(V3)\n",
    "ZX_uu = V3 * sp.Transpose(V1)\n",
    "ZY_uu = V3 * sp.Transpose(V2)\n",
    "\n",
    "Hx_uu = 2 * K * IsingXX_uu + J * Hberg_uu + Gamma * (YZ_uu + ZY_uu) + gamma * (YX_uu + ZX_uu + XY_uu + XZ_uu)\n",
    "Hz_uu = 2 * K * IsingZZ_uu + J * Hberg_uu + Gamma * (XY_uu + YX_uu) + gamma * (XZ_uu + YZ_uu + ZX_uu + ZY_uu)\n",
    "\n",
    "e = sp.Symbol(\"e\")\n",
    "f = sp.Symbol(\"f\")\n",
    "g = sp.Symbol(\"g\")\n",
    "h = sp.Symbol(\"h\")\n",
    "n_i = sp.Symbol(\"𝑛𝑖\")\n",
    "n_j = sp.Symbol(\"𝑛𝑗\")\n",
    "\n",
    "HPXX = 1 / sp.Integer(2) * (e + f + g + h)\n",
    "HPYY = -1 / sp.Integer(2) * (e - f - g + h)\n",
    "HPZZ = (S - n_i - n_j)\n",
    "HPXY = 1 / (2 * I) * (e - f + g - h)\n",
    "HPYX = 1 / (2 * I) * (e + f - g - h)\n",
    "\n",
    "    # for now we didn't how to calculate single a, a+...\n",
    "HPXZ = 0\n",
    "HPYZ = 0\n",
    "HPZX = 0\n",
    "HPZY = 0\n",
    "\n",
    "HPbosons = sp.Matrix([[HPXX, HPXY, HPXZ], [HPYX, HPYY, HPYZ], [HPZX, HPZY,\n",
    "                                                                   HPZZ]])\n",
    "o = sp.Integer(0)\n",
    "ii = sp.Integer(1)"
   ]
  },
  {
   "cell_type": "code",
   "execution_count": 144,
   "metadata": {},
   "outputs": [
    {
     "data": {
      "text/latex": [
       "$\\displaystyle \\left[\\begin{matrix}1.0 & 0 & 0\\\\0 & 1.0 & 0\\\\0 & 0 & 1.0\\end{matrix}\\right]$"
      ],
      "text/plain": [
       "Matrix([\n",
       "[1.0,   0,   0],\n",
       "[  0, 1.0,   0],\n",
       "[  0,   0, 1.0]])"
      ]
     },
     "execution_count": 144,
     "metadata": {},
     "output_type": "execute_result"
    }
   ],
   "source": [
    "Hberg_uu"
   ]
  },
  {
   "cell_type": "code",
   "execution_count": 145,
   "id": "3497a335aa1af04d",
   "metadata": {
    "ExecuteTime": {
     "end_time": "2024-06-06T03:54:40.001737Z",
     "start_time": "2024-06-06T03:54:39.920669Z"
    }
   },
   "outputs": [],
   "source": [
    "HPHx_uu = sp.Integer(0)\n",
    "\n",
    "i = 0\n",
    "while i < 3:\n",
    "    j = 0\n",
    "    while j < 3:\n",
    "        HPHx_uu = HPHx_uu + Hx_uu[i, j] * HPbosons[i, j]\n",
    "        j += 1\n",
    "    i += 1\n",
    "\n",
    "HPHx_uu = HPHx_uu.expand()\n",
    "\n",
    "Coef_HPHx_uu = sp.Matrix([o, o, o, o, o, o])\n",
    "Coef_HPHx_uu[0, 0] = HPHx_uu.coeff(e)\n",
    "Coef_HPHx_uu[1, 0] = HPHx_uu.coeff(f)\n",
    "Coef_HPHx_uu[2, 0] = HPHx_uu.coeff(g)\n",
    "Coef_HPHx_uu[3, 0] = HPHx_uu.coeff(h)\n",
    "Coef_HPHx_uu[4, 0] = HPHx_uu.coeff(n_i)\n",
    "Coef_HPHx_uu[5, 0] = HPHx_uu.coeff(n_j)\n",
    "\n",
    "Mat_Coef_HPHx_uu = sp.Matrix([\n",
    "    [Coef_HPHx_uu[4, 0], Coef_HPHx_uu[2, 0], o, Coef_HPHx_uu[3, 0]],\n",
    "    [Coef_HPHx_uu[1, 0], Coef_HPHx_uu[5, 0], Coef_HPHx_uu[3, 0], o],\n",
    "    [o, Coef_HPHx_uu[0, 0], Coef_HPHx_uu[5, 0], Coef_HPHx_uu[2, 0]],\n",
    "    [Coef_HPHx_uu[0, 0], o, Coef_HPHx_uu[1, 0], Coef_HPHx_uu[4, 0]]\n",
    "    ])\n",
    "\n",
    "HPHz_uu = sp.Integer(0)\n",
    "\n",
    "i = 0\n",
    "while i < 3:\n",
    "    j = 0\n",
    "    while j < 3:\n",
    "        HPHz_uu = HPHz_uu + Hz_uu[i, j] * HPbosons[i, j]\n",
    "        j += 1\n",
    "    i += 1\n",
    "\n",
    "HPHz_uu = HPHz_uu.expand()\n",
    "\n",
    "Coef_HPHz_uu = sp.Matrix([o, o, o, o, o, o])\n",
    "Coef_HPHz_uu[0, 0] = HPHz_uu.coeff(e)\n",
    "Coef_HPHz_uu[1, 0] = HPHz_uu.coeff(f)\n",
    "Coef_HPHz_uu[2, 0] = HPHz_uu.coeff(g)\n",
    "Coef_HPHz_uu[3, 0] = HPHz_uu.coeff(h)\n",
    "Coef_HPHz_uu[4, 0] = HPHz_uu.coeff(n_i)\n",
    "Coef_HPHz_uu[5, 0] = HPHz_uu.coeff(n_j)\n",
    "\n",
    "Mat_Coef_HPHz_uu = sp.Matrix([\n",
    "    [Coef_HPHz_uu[4, 0], Coef_HPHz_uu[2, 0], o, Coef_HPHz_uu[3, 0]],\n",
    "    [Coef_HPHz_uu[1, 0], Coef_HPHz_uu[5, 0], Coef_HPHz_uu[3, 0], o],\n",
    "    [o, Coef_HPHz_uu[0, 0], Coef_HPHz_uu[5, 0], Coef_HPHz_uu[2, 0]],\n",
    "    [Coef_HPHz_uu[0, 0], o, Coef_HPHz_uu[1, 0], Coef_HPHz_uu[4, 0]]\n",
    "    ])"
   ]
  },
  {
   "cell_type": "code",
   "execution_count": 146,
   "id": "b4b1a3b24d44f148",
   "metadata": {
    "ExecuteTime": {
     "end_time": "2024-06-06T04:12:22.709814Z",
     "start_time": "2024-06-06T04:12:22.277910Z"
    }
   },
   "outputs": [],
   "source": [
    "#############################################\n",
    "# down-down couplings\n",
    "Theta = np.pi+theta\n",
    "Phi = phi\n",
    "uni = sp.Matrix([[np.cos(Theta/2),np.sin(Theta / 2)],[-np.sin(Theta/2)*np.exp(1j*Phi),np.cos(Theta / 2) * np.exp(1j * Phi)]])\n",
    "uni_dag = sp.transpose(sp.conjugate(uni))\n",
    "\n",
    "\n",
    "pxd = sp.simplify(uni_dag*msigma(1)*uni)\n",
    "pyd = sp.simplify(uni_dag*msigma(2)*uni)\n",
    "pzd = sp.simplify(uni_dag * msigma(3) * uni)\n",
    "\n",
    "W1 = sp.simplify(sp.Matrix([(pxd[0, 1] + pxd[1, 0]) / 2, (pxd[1, 0] - pxd[0, 1]) / (2 * I), (pxd[0, 0] - pxd[1, 1]) / 2]))\n",
    "W2 = sp.simplify(sp.Matrix([(pyd[0, 1] + pyd[1, 0]) / 2, (pyd[1, 0] - pyd[0, 1]) / (2 * I), (pyd[0, 0] - pyd[1, 1]) / 2]))\n",
    "W3 = sp.simplify(sp.Matrix([(pzd[0, 1] + pzd[1, 0]) / 2, (pzd[1, 0] - pzd[0, 1]) / (2 * I), (pzd[0, 0] - pzd[1, 1]) / 2]))\n",
    "\n",
    "Hberg_dd = W1 * sp.Transpose(W1) + W2 * sp.Transpose(W2) + W3 * sp.Transpose(W3)\n",
    "\n",
    "IsingXX_dd = W1 * sp.Transpose(W1)\n",
    "IsingZZ_dd = W3 * sp.Transpose(W3)\n",
    "\n",
    "XY_dd = W1 * sp.Transpose(W2)\n",
    "XZ_dd = W1 * sp.Transpose(W3)\n",
    "YX_dd = W2 * sp.Transpose(W1)\n",
    "YZ_dd = W2 * sp.Transpose(W3)\n",
    "ZX_dd = W3 * sp.Transpose(W1)\n",
    "ZY_dd = W3 * sp.Transpose(W2)\n",
    "\n",
    "Hx_dd = 2 * K * IsingXX_dd + J * Hberg_dd + Gamma * (YZ_dd + ZY_dd) + gamma * (YX_dd + ZX_dd + XY_dd + XZ_dd)\n",
    "Hz_dd = 2 * K * IsingZZ_dd + J * Hberg_dd + Gamma * (XY_dd + YX_dd) + gamma * (XZ_dd + YZ_dd + ZX_dd + ZY_dd)\n",
    "\n",
    "HPHx_dd = sp.Integer(0)\n",
    "\n",
    "i = 0\n",
    "while i < 3:\n",
    "    j = 0\n",
    "    while j < 3:\n",
    "        HPHx_dd = HPHx_dd + Hx_dd[i, j] * HPbosons[i, j]\n",
    "        j += 1\n",
    "    i += 1\n",
    "\n",
    "HPHx_dd = HPHx_dd.expand()\n",
    "\n",
    "Coef_HPHx_dd = sp.Matrix([o, o, o, o, o, o])\n",
    "Coef_HPHx_dd[0, 0] = HPHx_dd.coeff(e)\n",
    "Coef_HPHx_dd[1, 0] = HPHx_dd.coeff(f)\n",
    "Coef_HPHx_dd[2, 0] = HPHx_dd.coeff(g)\n",
    "Coef_HPHx_dd[3, 0] = HPHx_dd.coeff(h)\n",
    "Coef_HPHx_dd[4, 0] = HPHx_dd.coeff(n_i)\n",
    "Coef_HPHx_dd[5, 0] = HPHx_dd.coeff(n_j)\n",
    "\n",
    "Mat_Coef_HPHx_dd = sp.Matrix([\n",
    "    [Coef_HPHx_dd[4, 0], Coef_HPHx_dd[2, 0], o, Coef_HPHx_dd[3, 0]],\n",
    "    [Coef_HPHx_dd[1, 0], Coef_HPHx_dd[5, 0], Coef_HPHx_dd[3, 0], o],\n",
    "    [o, Coef_HPHx_dd[0, 0], Coef_HPHx_dd[5, 0], Coef_HPHx_dd[2, 0]],\n",
    "    [Coef_HPHx_dd[0, 0], o, Coef_HPHx_dd[1, 0], Coef_HPHx_dd[4, 0]]\n",
    "    ])\n",
    "\n",
    "HPHz_dd = sp.Integer(0)\n",
    "\n",
    "i = 0\n",
    "while i < 3:\n",
    "    j = 0\n",
    "    while j < 3:\n",
    "        HPHz_dd = HPHz_dd + Hz_dd[i, j] * HPbosons[i, j]\n",
    "        j += 1\n",
    "    i += 1\n",
    "\n",
    "HPHz_dd = HPHz_dd.expand()\n",
    "\n",
    "Coef_HPHz_dd = sp.Matrix([o, o, o, o, o, o])\n",
    "Coef_HPHz_dd[0, 0] = HPHz_dd.coeff(e)\n",
    "Coef_HPHz_dd[1, 0] = HPHz_dd.coeff(f)\n",
    "Coef_HPHz_dd[2, 0] = HPHz_dd.coeff(g)\n",
    "Coef_HPHz_dd[3, 0] = HPHz_dd.coeff(h)\n",
    "Coef_HPHz_dd[4, 0] = HPHz_dd.coeff(n_i)\n",
    "Coef_HPHz_dd[5, 0] = HPHz_dd.coeff(n_j)\n",
    "\n",
    "Mat_Coef_HPHz_dd = sp.Matrix([\n",
    "    [Coef_HPHz_dd[4, 0], Coef_HPHz_dd[2, 0], o, Coef_HPHz_dd[3, 0]],\n",
    "    [Coef_HPHz_dd[1, 0], Coef_HPHz_dd[5, 0], Coef_HPHz_dd[3, 0], o],\n",
    "    [o, Coef_HPHz_dd[0, 0], Coef_HPHz_dd[5, 0], Coef_HPHz_dd[2, 0]],\n",
    "    [Coef_HPHz_dd[0, 0], o, Coef_HPHz_dd[1, 0], Coef_HPHz_dd[4, 0]]\n",
    "    ])\n"
   ]
  },
  {
   "cell_type": "code",
   "execution_count": 147,
   "metadata": {},
   "outputs": [
    {
     "data": {
      "text/latex": [
       "$\\displaystyle \\left[\\begin{matrix}-0.374606593415912\\\\0\\\\0.927183854566787\\end{matrix}\\right]$"
      ],
      "text/plain": [
       "Matrix([\n",
       "[-0.374606593415912],\n",
       "[                 0],\n",
       "[ 0.927183854566787]])"
      ]
     },
     "execution_count": 147,
     "metadata": {},
     "output_type": "execute_result"
    }
   ],
   "source": [
    "W3"
   ]
  },
  {
   "cell_type": "code",
   "execution_count": 148,
   "metadata": {
    "scrolled": false
   },
   "outputs": [
    {
     "data": {
      "text/latex": [
       "$\\displaystyle \\left[\\begin{matrix}1.0 & 0 & 0\\\\0 & 1.0 & 0\\\\0 & 0 & 1.0\\end{matrix}\\right]$"
      ],
      "text/plain": [
       "Matrix([\n",
       "[1.0,   0,   0],\n",
       "[  0, 1.0,   0],\n",
       "[  0,   0, 1.0]])"
      ]
     },
     "execution_count": 148,
     "metadata": {},
     "output_type": "execute_result"
    }
   ],
   "source": [
    "Hberg_dd"
   ]
  },
  {
   "cell_type": "code",
   "execution_count": 149,
   "metadata": {
    "scrolled": false
   },
   "outputs": [
    {
     "data": {
      "text/latex": [
       "$\\displaystyle \\left[\\begin{matrix}1.0 & 0 & 0\\\\0 & 1.0 & 0\\\\0 & 0 & 1.0\\end{matrix}\\right]$"
      ],
      "text/plain": [
       "Matrix([\n",
       "[1.0,   0,   0],\n",
       "[  0, 1.0,   0],\n",
       "[  0,   0, 1.0]])"
      ]
     },
     "execution_count": 149,
     "metadata": {},
     "output_type": "execute_result"
    }
   ],
   "source": [
    "V1 * sp.Transpose(V1) + V2 * sp.Transpose(V2) + V3 * sp.Transpose(V3)"
   ]
  },
  {
   "cell_type": "code",
   "execution_count": 150,
   "metadata": {
    "scrolled": false
   },
   "outputs": [
    {
     "data": {
      "text/latex": [
       "$\\displaystyle \\left[\\begin{matrix}1.0 & 0 & 0\\\\0 & 1.0 & 0\\\\0 & 0 & 1.0\\end{matrix}\\right]$"
      ],
      "text/plain": [
       "Matrix([\n",
       "[1.0,   0,   0],\n",
       "[  0, 1.0,   0],\n",
       "[  0,   0, 1.0]])"
      ]
     },
     "execution_count": 150,
     "metadata": {},
     "output_type": "execute_result"
    }
   ],
   "source": [
    "W1 * sp.Transpose(W1) + W2 * sp.Transpose(W2) + W3 * sp.Transpose(W3)"
   ]
  },
  {
   "cell_type": "code",
   "execution_count": 151,
   "metadata": {},
   "outputs": [
    {
     "data": {
      "text/latex": [
       "$\\displaystyle \\left[\\begin{matrix}-1.0 & 0 & -1.66533453693773 \\cdot 10^{-16}\\\\0 & 1.0 & 0\\\\1.66533453693773 \\cdot 10^{-16} & 0 & -1.0\\end{matrix}\\right]$"
      ],
      "text/plain": [
       "Matrix([\n",
       "[                -1.0,   0, -1.66533453693773e-16],\n",
       "[                   0, 1.0,                     0],\n",
       "[1.66533453693773e-16,   0,                  -1.0]])"
      ]
     },
     "execution_count": 151,
     "metadata": {},
     "output_type": "execute_result"
    }
   ],
   "source": [
    "V1 * sp.Transpose(W1) + V2 * sp.Transpose(W2) + V3 * sp.Transpose(W3)"
   ]
  },
  {
   "cell_type": "code",
   "execution_count": 152,
   "metadata": {},
   "outputs": [
    {
     "data": {
      "text/latex": [
       "$\\displaystyle \\left[\\begin{matrix}0 & 0\\\\0 & 0\\end{matrix}\\right]$"
      ],
      "text/plain": [
       "Matrix([\n",
       "[0, 0],\n",
       "[0, 0]])"
      ]
     },
     "execution_count": 152,
     "metadata": {},
     "output_type": "execute_result"
    }
   ],
   "source": [
    "sp.simplify(pxd*pyd-pyd*pxd-2*sp.I*pzd)"
   ]
  },
  {
   "cell_type": "code",
   "execution_count": 153,
   "metadata": {},
   "outputs": [
    {
     "data": {
      "text/latex": [
       "$\\displaystyle \\left[\\begin{matrix}0 & 0\\\\0 & 0\\end{matrix}\\right]$"
      ],
      "text/plain": [
       "Matrix([\n",
       "[0, 0],\n",
       "[0, 0]])"
      ]
     },
     "execution_count": 153,
     "metadata": {},
     "output_type": "execute_result"
    }
   ],
   "source": [
    "sp.simplify(pyd*pzd-pzd*pyd-2*sp.I*pxd)"
   ]
  },
  {
   "cell_type": "code",
   "execution_count": 154,
   "metadata": {},
   "outputs": [
    {
     "data": {
      "text/latex": [
       "$\\displaystyle \\left[\\begin{matrix}0 & 0\\\\0 & 0\\end{matrix}\\right]$"
      ],
      "text/plain": [
       "Matrix([\n",
       "[0, 0],\n",
       "[0, 0]])"
      ]
     },
     "execution_count": 154,
     "metadata": {},
     "output_type": "execute_result"
    }
   ],
   "source": [
    "sp.simplify(pzd*pxd-pxd*pzd-2*sp.I*pyd)"
   ]
  },
  {
   "cell_type": "code",
   "execution_count": 155,
   "id": "8d85a2c2b347fa6d",
   "metadata": {
    "ExecuteTime": {
     "end_time": "2024-06-06T04:12:24.186958Z",
     "start_time": "2024-06-06T04:12:24.172915Z"
    }
   },
   "outputs": [
    {
     "data": {
      "text/latex": [
       "$\\displaystyle \\left[\\begin{matrix}0.927183854566787\\\\0\\\\0.374606593415912\\end{matrix}\\right]$"
      ],
      "text/plain": [
       "Matrix([\n",
       "[0.927183854566787],\n",
       "[                0],\n",
       "[0.374606593415912]])"
      ]
     },
     "execution_count": 155,
     "metadata": {},
     "output_type": "execute_result"
    }
   ],
   "source": [
    "W1"
   ]
  },
  {
   "cell_type": "code",
   "execution_count": 156,
   "id": "68031cbd7f4a09f9",
   "metadata": {
    "ExecuteTime": {
     "end_time": "2024-06-06T04:12:40.626055Z",
     "start_time": "2024-06-06T04:12:40.612941Z"
    }
   },
   "outputs": [
    {
     "data": {
      "text/latex": [
       "$\\displaystyle \\left[\\begin{matrix}0\\\\1.0\\\\0\\end{matrix}\\right]$"
      ],
      "text/plain": [
       "Matrix([\n",
       "[  0],\n",
       "[1.0],\n",
       "[  0]])"
      ]
     },
     "execution_count": 156,
     "metadata": {},
     "output_type": "execute_result"
    }
   ],
   "source": [
    "W2"
   ]
  },
  {
   "cell_type": "code",
   "execution_count": 157,
   "id": "a00afe317ec87cb",
   "metadata": {
    "ExecuteTime": {
     "end_time": "2024-06-06T04:12:52.651725Z",
     "start_time": "2024-06-06T04:12:52.638553Z"
    }
   },
   "outputs": [
    {
     "data": {
      "text/latex": [
       "$\\displaystyle \\left[\\begin{matrix}-0.374606593415912\\\\0\\\\0.927183854566787\\end{matrix}\\right]$"
      ],
      "text/plain": [
       "Matrix([\n",
       "[-0.374606593415912],\n",
       "[                 0],\n",
       "[ 0.927183854566787]])"
      ]
     },
     "execution_count": 157,
     "metadata": {},
     "output_type": "execute_result"
    }
   ],
   "source": [
    "W3"
   ]
  },
  {
   "cell_type": "code",
   "execution_count": 158,
   "id": "9b5d64a97706f4cf",
   "metadata": {
    "ExecuteTime": {
     "end_time": "2024-06-06T04:23:25.139563Z",
     "start_time": "2024-06-06T04:23:25.041938Z"
    }
   },
   "outputs": [],
   "source": [
    "#####################################################################\n",
    "# up-down couplings\n",
    "Hberg_ud = V1 * sp.Transpose(W1) + V2 * sp.Transpose(W2) + V3 * sp.Transpose(W3)\n",
    "\n",
    "IsingYY_ud = V2 * sp.Transpose(W2)\n",
    "\n",
    "XY_ud = V1 * sp.Transpose(W2)\n",
    "XZ_ud = V1 * sp.Transpose(W3)\n",
    "YX_ud = V2 * sp.Transpose(W1)\n",
    "YZ_ud = V2 * sp.Transpose(W3)\n",
    "ZX_ud = V3 * sp.Transpose(W1)\n",
    "ZY_ud = V3 * sp.Transpose(W2)\n",
    "\n",
    "Hy_ud = 2 * K * IsingYY_ud + J * Hberg_ud + Gamma * (XZ_ud + ZX_ud) + gamma * (YZ_ud + YX_ud + ZY_ud + XY_ud)\n",
    "HPHy_ud = sp.Integer(0)\n",
    "\n",
    "i = 0\n",
    "while i < 3:\n",
    "    j = 0\n",
    "    while j < 3:\n",
    "        HPHy_ud = HPHy_ud + Hy_ud[i, j] * HPbosons[i, j]\n",
    "        j += 1\n",
    "    i += 1\n",
    "\n",
    "HPHy_ud = HPHy_ud.expand()\n",
    "\n",
    "Coef_HPHy_ud = sp.Matrix([o, o, o, o, o, o])\n",
    "Coef_HPHy_ud[0, 0] = HPHy_ud.coeff(e)\n",
    "Coef_HPHy_ud[1, 0] = HPHy_ud.coeff(f)\n",
    "Coef_HPHy_ud[2, 0] = HPHy_ud.coeff(g)\n",
    "Coef_HPHy_ud[3, 0] = HPHy_ud.coeff(h)\n",
    "Coef_HPHy_ud[4, 0] = HPHy_ud.coeff(n_i)\n",
    "Coef_HPHy_ud[5, 0] = HPHy_ud.coeff(n_j)\n",
    "\n",
    "Mat_Coef_HPHy_ud = sp.Matrix([\n",
    "    [Coef_HPHy_ud[4, 0], Coef_HPHy_ud[2, 0], o, Coef_HPHy_ud[3, 0]],\n",
    "    [Coef_HPHy_ud[1, 0], Coef_HPHy_ud[5, 0], Coef_HPHy_ud[3, 0], o],\n",
    "    [o, Coef_HPHy_ud[0, 0], Coef_HPHy_ud[5, 0], Coef_HPHy_ud[2, 0]],\n",
    "    [Coef_HPHy_ud[0, 0], o, Coef_HPHy_ud[1, 0], Coef_HPHy_ud[4, 0]]\n",
    "    ])"
   ]
  },
  {
   "cell_type": "code",
   "execution_count": 159,
   "metadata": {},
   "outputs": [
    {
     "data": {
      "text/latex": [
       "$\\displaystyle \\left[\\begin{matrix}-1.0 & 0 & -1.66533453693773 \\cdot 10^{-16}\\\\0 & 1.0 & 0\\\\1.66533453693773 \\cdot 10^{-16} & 0 & -1.0\\end{matrix}\\right]$"
      ],
      "text/plain": [
       "Matrix([\n",
       "[                -1.0,   0, -1.66533453693773e-16],\n",
       "[                   0, 1.0,                     0],\n",
       "[1.66533453693773e-16,   0,                  -1.0]])"
      ]
     },
     "execution_count": 159,
     "metadata": {},
     "output_type": "execute_result"
    }
   ],
   "source": [
    "Hberg_ud"
   ]
  },
  {
   "cell_type": "code",
   "execution_count": 160,
   "metadata": {
    "scrolled": false
   },
   "outputs": [
    {
     "data": {
      "text/latex": [
       "$\\displaystyle \\left[\\begin{matrix}0 & 0 & 0 & 0\\\\0 & 0 & 0 & 0\\\\0 & 0 & 0 & 0\\\\0 & 0 & 0 & 0\\end{matrix}\\right]$"
      ],
      "text/plain": [
       "Matrix([\n",
       "[0, 0, 0, 0],\n",
       "[0, 0, 0, 0],\n",
       "[0, 0, 0, 0],\n",
       "[0, 0, 0, 0]])"
      ]
     },
     "execution_count": 160,
     "metadata": {},
     "output_type": "execute_result"
    }
   ],
   "source": [
    "sp.transpose(sp.conjugate(Mat_Coef_HPHy_ud))-Mat_Coef_HPHy_ud"
   ]
  },
  {
   "cell_type": "code",
   "execution_count": 161,
   "metadata": {},
   "outputs": [
    {
     "data": {
      "text/latex": [
       "$\\displaystyle \\left[\\begin{matrix}-1.0 & 0 & -1.66533453693773 \\cdot 10^{-16}\\\\0 & 1.0 & 0\\\\1.66533453693773 \\cdot 10^{-16} & 0 & -1.0\\end{matrix}\\right]$"
      ],
      "text/plain": [
       "Matrix([\n",
       "[                -1.0,   0, -1.66533453693773e-16],\n",
       "[                   0, 1.0,                     0],\n",
       "[1.66533453693773e-16,   0,                  -1.0]])"
      ]
     },
     "execution_count": 161,
     "metadata": {},
     "output_type": "execute_result"
    }
   ],
   "source": [
    "Hberg_ud"
   ]
  },
  {
   "cell_type": "code",
   "execution_count": 162,
   "id": "78726157ca972bf2",
   "metadata": {
    "ExecuteTime": {
     "end_time": "2024-06-06T04:23:26.235545Z",
     "start_time": "2024-06-06T04:23:26.161986Z"
    }
   },
   "outputs": [],
   "source": [
    "######################################################################\n",
    "# down-up couplings\n",
    "Hberg = W1 * sp.Transpose(V1) + W2 * sp.Transpose(V2) + W3 * sp.Transpose(V3)\n",
    "\n",
    "IsingXX = W1 * sp.Transpose(V1)\n",
    "IsingYY = W2 * sp.Transpose(V2)\n",
    "IsingZZ = W3 * sp.Transpose(V3)\n",
    "\n",
    "XY = W1 * sp.Transpose(V2)\n",
    "XZ = W1 * sp.Transpose(V3)\n",
    "YX = W2 * sp.Transpose(V1)\n",
    "YZ = W2 * sp.Transpose(V3)\n",
    "ZX = W3 * sp.Transpose(V1)\n",
    "ZY = W3 * sp.Transpose(V2)\n",
    "\n",
    "Hy = 2 * K * IsingYY + J * Hberg + Gamma * (XZ + ZX) + gamma * (YZ + YX + ZY + XY)\n",
    "HPHy = sp.Integer(0)\n",
    "\n",
    "i = 0\n",
    "while i < 3:\n",
    "    j = 0\n",
    "    while j < 3:\n",
    "        HPHy = HPHy + Hy[i, j] * HPbosons[i, j]\n",
    "        j += 1\n",
    "    i += 1\n",
    "\n",
    "HPHy = HPHy.expand()\n",
    "\n",
    "Coef_HPHy = sp.Matrix([o, o, o, o, o, o])\n",
    "Coef_HPHy[0, 0] = HPHy.coeff(e)\n",
    "Coef_HPHy[1, 0] = HPHy.coeff(f)\n",
    "Coef_HPHy[2, 0] = HPHy.coeff(g)\n",
    "Coef_HPHy[3, 0] = HPHy.coeff(h)\n",
    "Coef_HPHy[4, 0] = HPHy.coeff(n_i)\n",
    "Coef_HPHy[5, 0] = HPHy.coeff(n_j)\n",
    "\n",
    "Mat_Coef_HPHy_du = sp.Matrix([\n",
    "    [Coef_HPHy[4, 0], Coef_HPHy[2, 0], o, Coef_HPHy[3, 0]],\n",
    "    [Coef_HPHy[1, 0], Coef_HPHy[5, 0], Coef_HPHy[3, 0], o],\n",
    "    [o, Coef_HPHy[0, 0], Coef_HPHy[5, 0], Coef_HPHy[2, 0]],\n",
    "    [Coef_HPHy[0, 0], o, Coef_HPHy[1, 0], Coef_HPHy[4, 0]]\n",
    "    ])"
   ]
  },
  {
   "cell_type": "code",
   "execution_count": 163,
   "metadata": {},
   "outputs": [
    {
     "data": {
      "text/latex": [
       "$\\displaystyle \\left[\\begin{matrix}0 & 0 & 0 & 0\\\\0 & 0 & 0 & 0\\\\0 & 0 & 0 & 0\\\\0 & 0 & 0 & 0\\end{matrix}\\right]$"
      ],
      "text/plain": [
       "Matrix([\n",
       "[0, 0, 0, 0],\n",
       "[0, 0, 0, 0],\n",
       "[0, 0, 0, 0],\n",
       "[0, 0, 0, 0]])"
      ]
     },
     "execution_count": 163,
     "metadata": {},
     "output_type": "execute_result"
    }
   ],
   "source": [
    "sp.transpose(sp.conjugate(Mat_Coef_HPHy_du))-Mat_Coef_HPHy_du"
   ]
  },
  {
   "cell_type": "code",
   "execution_count": 164,
   "metadata": {},
   "outputs": [
    {
     "data": {
      "text/latex": [
       "$\\displaystyle \\left[\\begin{matrix}- 1.0 J + 0.694658370458998 Γ & 0.552577261150875 Γ' & 1.66533453693773 \\cdot 10^{-16} J - 0.719339800338651 Γ\\\\- 0.552577261150875 Γ' & 1.0 J + 2.0 K & - 1.3017904479827 Γ'\\\\- 1.66533453693773 \\cdot 10^{-16} J - 0.719339800338651 Γ & 1.3017904479827 Γ' & - 1.0 J - 0.694658370458998 Γ\\end{matrix}\\right]$"
      ],
      "text/plain": [
       "Matrix([\n",
       "[                 -1.0*J + 0.694658370458998*Γ, 0.552577261150875*Γ', 1.66533453693773e-16*J - 0.719339800338651*Γ],\n",
       "[                        -0.552577261150875*Γ',        1.0*J + 2.0*K,                          -1.3017904479827*Γ'],\n",
       "[-1.66533453693773e-16*J - 0.719339800338651*Γ,   1.3017904479827*Γ',                 -1.0*J - 0.694658370458998*Γ]])"
      ]
     },
     "execution_count": 164,
     "metadata": {},
     "output_type": "execute_result"
    }
   ],
   "source": [
    "Hy"
   ]
  },
  {
   "cell_type": "code",
   "execution_count": 165,
   "metadata": {
    "scrolled": true
   },
   "outputs": [
    {
     "data": {
      "text/latex": [
       "$\\displaystyle \\left[\\begin{matrix}\\frac{e}{2} + \\frac{f}{2} + \\frac{g}{2} + \\frac{h}{2} & - \\frac{i \\left(e - f + g - h\\right)}{2} & 0\\\\- \\frac{i \\left(e + f - g - h\\right)}{2} & - \\frac{e}{2} + \\frac{f}{2} + \\frac{g}{2} - \\frac{h}{2} & 0\\\\0 & 0 & S - 𝑛𝑖 - 𝑛𝑗\\end{matrix}\\right]$"
      ],
      "text/plain": [
       "Matrix([\n",
       "[e/2 + f/2 + g/2 + h/2,   -I*(e - f + g - h)/2,           0],\n",
       "[ -I*(e + f - g - h)/2, -e/2 + f/2 + g/2 - h/2,           0],\n",
       "[                    0,                      0, S - 𝑛𝑖 - 𝑛𝑗]])"
      ]
     },
     "execution_count": 165,
     "metadata": {},
     "output_type": "execute_result"
    }
   ],
   "source": [
    "HPbosons"
   ]
  },
  {
   "cell_type": "code",
   "execution_count": 166,
   "metadata": {},
   "outputs": [
    {
     "data": {
      "text/latex": [
       "$\\displaystyle \\left[\\begin{matrix}1.0 J + 0.694658370458998 Γ & - 1.11022302462516 \\cdot 10^{-16} J + 1.0 K + 0.347329185229499 Γ - 0.552577261150875 i Γ' & 0 & - 1.0 J - 1.0 K + 0.347329185229499 Γ - 1.11022302462516 \\cdot 10^{-16} i Γ'\\\\- 1.11022302462516 \\cdot 10^{-16} J + 1.0 K + 0.347329185229499 Γ + 0.552577261150875 i Γ' & 1.0 J + 0.694658370458998 Γ & - 1.0 J - 1.0 K + 0.347329185229499 Γ - 1.11022302462516 \\cdot 10^{-16} i Γ' & 0\\\\0 & - 1.0 J - 1.0 K + 0.347329185229499 Γ + 1.11022302462516 \\cdot 10^{-16} i Γ' & 1.0 J + 0.694658370458998 Γ & - 1.11022302462516 \\cdot 10^{-16} J + 1.0 K + 0.347329185229499 Γ - 0.552577261150875 i Γ'\\\\- 1.0 J - 1.0 K + 0.347329185229499 Γ + 1.11022302462516 \\cdot 10^{-16} i Γ' & 0 & - 1.11022302462516 \\cdot 10^{-16} J + 1.0 K + 0.347329185229499 Γ + 0.552577261150875 i Γ' & 1.0 J + 0.694658370458998 Γ\\end{matrix}\\right]$"
      ],
      "text/plain": [
       "Matrix([\n",
       "[                                                   1.0*J + 0.694658370458998*Γ, -1.11022302462516e-16*J + 1.0*K + 0.347329185229499*Γ - 0.552577261150875*I*Γ',                                                                              0,               -1.0*J - 1.0*K + 0.347329185229499*Γ - 1.11022302462516e-16*I*Γ'],\n",
       "[-1.11022302462516e-16*J + 1.0*K + 0.347329185229499*Γ + 0.552577261150875*I*Γ',                                                    1.0*J + 0.694658370458998*Γ,               -1.0*J - 1.0*K + 0.347329185229499*Γ - 1.11022302462516e-16*I*Γ',                                                                              0],\n",
       "[                                                                             0,               -1.0*J - 1.0*K + 0.347329185229499*Γ + 1.11022302462516e-16*I*Γ',                                                    1.0*J + 0.694658370458998*Γ, -1.11022302462516e-16*J + 1.0*K + 0.347329185229499*Γ - 0.552577261150875*I*Γ'],\n",
       "[              -1.0*J - 1.0*K + 0.347329185229499*Γ + 1.11022302462516e-16*I*Γ',                                                                              0, -1.11022302462516e-16*J + 1.0*K + 0.347329185229499*Γ + 0.552577261150875*I*Γ',                                                    1.0*J + 0.694658370458998*Γ]])"
      ]
     },
     "execution_count": 166,
     "metadata": {},
     "output_type": "execute_result"
    }
   ],
   "source": [
    "Mat_Coef_HPHy_du"
   ]
  },
  {
   "cell_type": "code",
   "execution_count": 167,
   "metadata": {},
   "outputs": [
    {
     "data": {
      "text/latex": [
       "$\\displaystyle \\left[\\begin{matrix}-1.0 & 0 & 1.66533453693773 \\cdot 10^{-16}\\\\0 & 1.0 & 0\\\\-1.66533453693773 \\cdot 10^{-16} & 0 & -1.0\\end{matrix}\\right]$"
      ],
      "text/plain": [
       "Matrix([\n",
       "[                 -1.0,   0, 1.66533453693773e-16],\n",
       "[                    0, 1.0,                    0],\n",
       "[-1.66533453693773e-16,   0,                 -1.0]])"
      ]
     },
     "execution_count": 167,
     "metadata": {},
     "output_type": "execute_result"
    }
   ],
   "source": [
    "Hberg"
   ]
  },
  {
   "cell_type": "code",
   "execution_count": 168,
   "id": "a901ce87b99d2233",
   "metadata": {
    "ExecuteTime": {
     "end_time": "2024-06-06T04:23:27.671359Z",
     "start_time": "2024-06-06T04:23:27.636505Z"
    }
   },
   "outputs": [],
   "source": [
    "#####################################################################\n",
    "Hlsw = sp.zeros(8, 8)\n",
    "\n",
    "    # Fourier transform\n",
    "deltaX = a / sp.sqrt(3) * sp.Matrix([-sp.sqrt(3) / 2, 1 / sp.Integer(2)])\n",
    "deltaY = a / sp.sqrt(3) * sp.Matrix([sp.Integer(0), sp.Integer(-1)])\n",
    "deltaZ = a / sp.sqrt(3) * sp.Matrix([sp.sqrt(3) / 2, 1 / sp.Integer(2)])\n",
    "\n",
    "global k1\n",
    "global k2\n",
    "\n",
    "k1 = sp.Symbol(\"k1\", real=True)\n",
    "k2 = sp.Symbol(\"k2\", real=True)\n",
    "k = sp.Matrix([k1, k2])\n",
    "\n",
    "sx = sp.exp(I * k.dot(deltaX))\n",
    "sy = sp.exp(I * k.dot(deltaY))\n",
    "sz = sp.exp(I * k.dot(deltaZ))\n",
    "tx = sp.exp(-I * k.dot(deltaX))\n",
    "ty = sp.exp(-I * k.dot(deltaY))\n",
    "tz = sp.exp(-I * k.dot(deltaZ))\n",
    "\n",
    "FT_Coef_X = sp.Matrix([[ii, sx, o, sx], [tx, ii, tx, o], [o, sx, ii, sx], [tx, o,\n",
    "                                                                               tx, ii]])\n",
    "FT_Coef_Y = sp.Matrix([[ii, sy, o, sy], [ty, ii, ty, o], [o, sy, ii, sy], [ty, o,\n",
    "                                                                               ty, ii]])\n",
    "FT_Coef_Z = sp.Matrix([[ii, sz, o, sz], [tz, ii, tz, o], [o, sz, ii, sz], [tz, o,\n",
    "                                                                               tz, ii]])\n"
   ]
  },
  {
   "cell_type": "code",
   "execution_count": 169,
   "id": "baef4f3340901d28",
   "metadata": {
    "ExecuteTime": {
     "end_time": "2024-06-06T04:23:29.235709Z",
     "start_time": "2024-06-06T04:23:29.207288Z"
    }
   },
   "outputs": [
    {
     "data": {
      "text/latex": [
       "$\\displaystyle \\left[\\begin{matrix}- 1.0 J - 0.280660199661349 K - 0.694658370458998 Γ' & \\left(1.0 J + 0.859669900169326 K - 0.347329185229499 Γ'\\right) e^{i \\left(- \\frac{a k_{1}}{2} + \\frac{\\sqrt{3} a k_{2}}{6}\\right)} & 0 & \\left(1.11022302462516 \\cdot 10^{-16} J + 0.859669900169326 K + 0.374606593415912 i Γ - 0.347329185229499 Γ' - 0.927183854566787 i Γ'\\right) e^{i \\left(- \\frac{a k_{1}}{2} + \\frac{\\sqrt{3} a k_{2}}{6}\\right)}\\\\\\left(1.0 J + 0.859669900169326 K - 0.347329185229499 Γ'\\right) e^{- i \\left(- \\frac{a k_{1}}{2} + \\frac{\\sqrt{3} a k_{2}}{6}\\right)} & - 1.0 J - 0.280660199661349 K - 0.694658370458998 Γ' & \\left(1.11022302462516 \\cdot 10^{-16} J + 0.859669900169326 K + 0.374606593415912 i Γ - 0.347329185229499 Γ' - 0.927183854566787 i Γ'\\right) e^{- i \\left(- \\frac{a k_{1}}{2} + \\frac{\\sqrt{3} a k_{2}}{6}\\right)} & 0\\\\0 & \\left(1.11022302462516 \\cdot 10^{-16} J + 0.859669900169326 K - 0.374606593415912 i Γ - 0.347329185229499 Γ' + 0.927183854566787 i Γ'\\right) e^{i \\left(- \\frac{a k_{1}}{2} + \\frac{\\sqrt{3} a k_{2}}{6}\\right)} & - 1.0 J - 0.280660199661349 K - 0.694658370458998 Γ' & \\left(1.0 J + 0.859669900169326 K - 0.347329185229499 Γ'\\right) e^{i \\left(- \\frac{a k_{1}}{2} + \\frac{\\sqrt{3} a k_{2}}{6}\\right)}\\\\\\left(1.11022302462516 \\cdot 10^{-16} J + 0.859669900169326 K - 0.374606593415912 i Γ - 0.347329185229499 Γ' + 0.927183854566787 i Γ'\\right) e^{- i \\left(- \\frac{a k_{1}}{2} + \\frac{\\sqrt{3} a k_{2}}{6}\\right)} & 0 & \\left(1.0 J + 0.859669900169326 K - 0.347329185229499 Γ'\\right) e^{- i \\left(- \\frac{a k_{1}}{2} + \\frac{\\sqrt{3} a k_{2}}{6}\\right)} & - 1.0 J - 0.280660199661349 K - 0.694658370458998 Γ'\\end{matrix}\\right]$"
      ],
      "text/plain": [
       "Matrix([\n",
       "[                                                                                                      -1.0*J - 0.280660199661349*K - 0.694658370458998*Γ',                                                                   (1.0*J + 0.859669900169326*K - 0.347329185229499*Γ')*exp(I*(-a*k1/2 + sqrt(3)*a*k2/6)),                                                                                                                                                         0, (1.11022302462516e-16*J + 0.859669900169326*K + 0.374606593415912*I*Γ - 0.347329185229499*Γ' - 0.927183854566787*I*Γ')*exp(I*(-a*k1/2 + sqrt(3)*a*k2/6))],\n",
       "[                                                                  (1.0*J + 0.859669900169326*K - 0.347329185229499*Γ')*exp(-I*(-a*k1/2 + sqrt(3)*a*k2/6)),                                                                                                      -1.0*J - 0.280660199661349*K - 0.694658370458998*Γ', (1.11022302462516e-16*J + 0.859669900169326*K + 0.374606593415912*I*Γ - 0.347329185229499*Γ' - 0.927183854566787*I*Γ')*exp(-I*(-a*k1/2 + sqrt(3)*a*k2/6)),                                                                                                                                                        0],\n",
       "[                                                                                                                                                        0, (1.11022302462516e-16*J + 0.859669900169326*K - 0.374606593415912*I*Γ - 0.347329185229499*Γ' + 0.927183854566787*I*Γ')*exp(I*(-a*k1/2 + sqrt(3)*a*k2/6)),                                                                                                       -1.0*J - 0.280660199661349*K - 0.694658370458998*Γ',                                                                   (1.0*J + 0.859669900169326*K - 0.347329185229499*Γ')*exp(I*(-a*k1/2 + sqrt(3)*a*k2/6))],\n",
       "[(1.11022302462516e-16*J + 0.859669900169326*K - 0.374606593415912*I*Γ - 0.347329185229499*Γ' + 0.927183854566787*I*Γ')*exp(-I*(-a*k1/2 + sqrt(3)*a*k2/6)),                                                                                                                                                        0,                                                                   (1.0*J + 0.859669900169326*K - 0.347329185229499*Γ')*exp(-I*(-a*k1/2 + sqrt(3)*a*k2/6)),                                                                                                      -1.0*J - 0.280660199661349*K - 0.694658370458998*Γ']])"
      ]
     },
     "execution_count": 169,
     "metadata": {},
     "output_type": "execute_result"
    }
   ],
   "source": [
    "# x bonds:\n",
    "\n",
    "# up-up x bonds\n",
    "HlswTwoSub = sp.Matrix([[o, o, o, o], [o, o, o, o], [o, o, o, o], [o, o, o, o]])\n",
    "\n",
    "i = 0\n",
    "while i < 4:\n",
    "    j = 0\n",
    "    while j < 4:\n",
    "        HlswTwoSub[i, j] = Mat_Coef_HPHx_uu[i, j] * FT_Coef_X[i, j]\n",
    "        j += 1\n",
    "    i += 1\n",
    "\n",
    "distri224(Hlsw, HlswTwoSub, 1, 0)\n",
    "HlswTwoSub"
   ]
  },
  {
   "cell_type": "code",
   "execution_count": 170,
   "id": "8b6e36c001645562",
   "metadata": {
    "ExecuteTime": {
     "end_time": "2024-06-06T04:23:50.814001Z",
     "start_time": "2024-06-06T04:23:50.721974Z"
    }
   },
   "outputs": [
    {
     "data": {
      "text/latex": [
       "$\\displaystyle \\left[\\begin{matrix}- 1.0 J - 0.280660199661349 K - 0.694658370458998 Γ' & \\left(1.0 J + 0.859669900169325 K - 0.347329185229499 Γ'\\right) e^{i \\left(- \\frac{a k_{1}}{2} + \\frac{\\sqrt{3} a k_{2}}{6}\\right)} & 0 & \\left(0.859669900169325 K - 0.374606593415912 i Γ - 0.347329185229499 Γ' + 0.927183854566787 i Γ'\\right) e^{i \\left(- \\frac{a k_{1}}{2} + \\frac{\\sqrt{3} a k_{2}}{6}\\right)}\\\\\\left(1.0 J + 0.859669900169325 K - 0.347329185229499 Γ'\\right) e^{- i \\left(- \\frac{a k_{1}}{2} + \\frac{\\sqrt{3} a k_{2}}{6}\\right)} & - 1.0 J - 0.280660199661349 K - 0.694658370458998 Γ' & \\left(0.859669900169325 K - 0.374606593415912 i Γ - 0.347329185229499 Γ' + 0.927183854566787 i Γ'\\right) e^{- i \\left(- \\frac{a k_{1}}{2} + \\frac{\\sqrt{3} a k_{2}}{6}\\right)} & 0\\\\0 & \\left(0.859669900169325 K + 0.374606593415912 i Γ - 0.347329185229499 Γ' - 0.927183854566787 i Γ'\\right) e^{i \\left(- \\frac{a k_{1}}{2} + \\frac{\\sqrt{3} a k_{2}}{6}\\right)} & - 1.0 J - 0.280660199661349 K - 0.694658370458998 Γ' & \\left(1.0 J + 0.859669900169325 K - 0.347329185229499 Γ'\\right) e^{i \\left(- \\frac{a k_{1}}{2} + \\frac{\\sqrt{3} a k_{2}}{6}\\right)}\\\\\\left(0.859669900169325 K + 0.374606593415912 i Γ - 0.347329185229499 Γ' - 0.927183854566787 i Γ'\\right) e^{- i \\left(- \\frac{a k_{1}}{2} + \\frac{\\sqrt{3} a k_{2}}{6}\\right)} & 0 & \\left(1.0 J + 0.859669900169325 K - 0.347329185229499 Γ'\\right) e^{- i \\left(- \\frac{a k_{1}}{2} + \\frac{\\sqrt{3} a k_{2}}{6}\\right)} & - 1.0 J - 0.280660199661349 K - 0.694658370458998 Γ'\\end{matrix}\\right]$"
      ],
      "text/plain": [
       "Matrix([\n",
       "[                                                                             -1.0*J - 0.280660199661349*K - 0.694658370458998*Γ',                                          (1.0*J + 0.859669900169325*K - 0.347329185229499*Γ')*exp(I*(-a*k1/2 + sqrt(3)*a*k2/6)),                                                                                                                                0, (0.859669900169325*K - 0.374606593415912*I*Γ - 0.347329185229499*Γ' + 0.927183854566787*I*Γ')*exp(I*(-a*k1/2 + sqrt(3)*a*k2/6))],\n",
       "[                                         (1.0*J + 0.859669900169325*K - 0.347329185229499*Γ')*exp(-I*(-a*k1/2 + sqrt(3)*a*k2/6)),                                                                             -1.0*J - 0.280660199661349*K - 0.694658370458998*Γ', (0.859669900169325*K - 0.374606593415912*I*Γ - 0.347329185229499*Γ' + 0.927183854566787*I*Γ')*exp(-I*(-a*k1/2 + sqrt(3)*a*k2/6)),                                                                                                                               0],\n",
       "[                                                                                                                               0, (0.859669900169325*K + 0.374606593415912*I*Γ - 0.347329185229499*Γ' - 0.927183854566787*I*Γ')*exp(I*(-a*k1/2 + sqrt(3)*a*k2/6)),                                                                              -1.0*J - 0.280660199661349*K - 0.694658370458998*Γ',                                          (1.0*J + 0.859669900169325*K - 0.347329185229499*Γ')*exp(I*(-a*k1/2 + sqrt(3)*a*k2/6))],\n",
       "[(0.859669900169325*K + 0.374606593415912*I*Γ - 0.347329185229499*Γ' - 0.927183854566787*I*Γ')*exp(-I*(-a*k1/2 + sqrt(3)*a*k2/6)),                                                                                                                               0,                                          (1.0*J + 0.859669900169325*K - 0.347329185229499*Γ')*exp(-I*(-a*k1/2 + sqrt(3)*a*k2/6)),                                                                             -1.0*J - 0.280660199661349*K - 0.694658370458998*Γ']])"
      ]
     },
     "execution_count": 170,
     "metadata": {},
     "output_type": "execute_result"
    }
   ],
   "source": [
    "HlswTwoSub = sp.Matrix([[o, o, o, o], [o, o, o, o], [o, o, o, o], [o, o, o, o]])\n",
    "\n",
    "# down-down x bonds\n",
    "i = 0\n",
    "while i < 4:\n",
    "    j = 0\n",
    "    while j < 4:\n",
    "        HlswTwoSub[i, j] = Mat_Coef_HPHx_dd[i, j] * FT_Coef_X[i, j]\n",
    "        j += 1\n",
    "    i += 1\n",
    "\n",
    "distri224(Hlsw, HlswTwoSub, 3, 2)\n",
    "HlswTwoSub"
   ]
  },
  {
   "cell_type": "code",
   "execution_count": 171,
   "metadata": {
    "scrolled": false
   },
   "outputs": [],
   "source": [
    "# y bonds:\n",
    "\n",
    "# up-down y bonds\n",
    "HlswTwoSub = sp.Matrix([[o, o, o, o], [o, o, o, o], [o, o, o, o], [o, o, o, o]])\n",
    "\n",
    "i = 0\n",
    "while i < 4:\n",
    "    j = 0\n",
    "    while j < 4:\n",
    "        HlswTwoSub[i, j] = Mat_Coef_HPHy_ud[i, j] * FT_Coef_Y[i, j]\n",
    "        j += 1\n",
    "    i += 1\n",
    "\n",
    "distri224(Hlsw, HlswTwoSub, 1, 2)\n",
    "\n"
   ]
  },
  {
   "cell_type": "code",
   "execution_count": 172,
   "metadata": {},
   "outputs": [
    {
     "data": {
      "text/latex": [
       "$\\displaystyle \\left[\\begin{matrix}1.0 J + 0.694658370458998 Γ & \\left(- 1.11022302462516 \\cdot 10^{-16} J + 1.0 K + 0.347329185229499 Γ - 0.552577261150875 i Γ'\\right) e^{- \\frac{\\sqrt{3} i a k_{2}}{3}} & 0 & \\left(- 1.0 J - 1.0 K + 0.347329185229499 Γ - 1.11022302462516 \\cdot 10^{-16} i Γ'\\right) e^{- \\frac{\\sqrt{3} i a k_{2}}{3}}\\\\\\left(- 1.11022302462516 \\cdot 10^{-16} J + 1.0 K + 0.347329185229499 Γ + 0.552577261150875 i Γ'\\right) e^{\\frac{\\sqrt{3} i a k_{2}}{3}} & 1.0 J + 0.694658370458998 Γ & \\left(- 1.0 J - 1.0 K + 0.347329185229499 Γ - 1.11022302462516 \\cdot 10^{-16} i Γ'\\right) e^{\\frac{\\sqrt{3} i a k_{2}}{3}} & 0\\\\0 & \\left(- 1.0 J - 1.0 K + 0.347329185229499 Γ + 1.11022302462516 \\cdot 10^{-16} i Γ'\\right) e^{- \\frac{\\sqrt{3} i a k_{2}}{3}} & 1.0 J + 0.694658370458998 Γ & \\left(- 1.11022302462516 \\cdot 10^{-16} J + 1.0 K + 0.347329185229499 Γ - 0.552577261150875 i Γ'\\right) e^{- \\frac{\\sqrt{3} i a k_{2}}{3}}\\\\\\left(- 1.0 J - 1.0 K + 0.347329185229499 Γ + 1.11022302462516 \\cdot 10^{-16} i Γ'\\right) e^{\\frac{\\sqrt{3} i a k_{2}}{3}} & 0 & \\left(- 1.11022302462516 \\cdot 10^{-16} J + 1.0 K + 0.347329185229499 Γ + 0.552577261150875 i Γ'\\right) e^{\\frac{\\sqrt{3} i a k_{2}}{3}} & 1.0 J + 0.694658370458998 Γ\\end{matrix}\\right]$"
      ],
      "text/plain": [
       "Matrix([\n",
       "[                                                                           1.0*J + 0.694658370458998*Γ, (-1.11022302462516e-16*J + 1.0*K + 0.347329185229499*Γ - 0.552577261150875*I*Γ')*exp(-sqrt(3)*I*a*k2/3),                                                                                                      0,               (-1.0*J - 1.0*K + 0.347329185229499*Γ - 1.11022302462516e-16*I*Γ')*exp(-sqrt(3)*I*a*k2/3)],\n",
       "[(-1.11022302462516e-16*J + 1.0*K + 0.347329185229499*Γ + 0.552577261150875*I*Γ')*exp(sqrt(3)*I*a*k2/3),                                                                             1.0*J + 0.694658370458998*Γ,               (-1.0*J - 1.0*K + 0.347329185229499*Γ - 1.11022302462516e-16*I*Γ')*exp(sqrt(3)*I*a*k2/3),                                                                                                       0],\n",
       "[                                                                                                     0,               (-1.0*J - 1.0*K + 0.347329185229499*Γ + 1.11022302462516e-16*I*Γ')*exp(-sqrt(3)*I*a*k2/3),                                                                            1.0*J + 0.694658370458998*Γ, (-1.11022302462516e-16*J + 1.0*K + 0.347329185229499*Γ - 0.552577261150875*I*Γ')*exp(-sqrt(3)*I*a*k2/3)],\n",
       "[              (-1.0*J - 1.0*K + 0.347329185229499*Γ + 1.11022302462516e-16*I*Γ')*exp(sqrt(3)*I*a*k2/3),                                                                                                       0, (-1.11022302462516e-16*J + 1.0*K + 0.347329185229499*Γ + 0.552577261150875*I*Γ')*exp(sqrt(3)*I*a*k2/3),                                                                             1.0*J + 0.694658370458998*Γ]])"
      ]
     },
     "execution_count": 172,
     "metadata": {},
     "output_type": "execute_result"
    }
   ],
   "source": [
    "# down-up y bonds\n",
    "HlswTwoSub = sp.Matrix([[o, o, o, o], [o, o, o, o], [o, o, o, o], [o, o, o, o]])\n",
    "\n",
    "i = 0\n",
    "while i < 4:\n",
    "    j = 0\n",
    "    while j < 4:\n",
    "        HlswTwoSub[i, j] = Mat_Coef_HPHy_du[i, j] * FT_Coef_Y[i, j]\n",
    "        j += 1\n",
    "    i += 1\n",
    "\n",
    "distri224(Hlsw, HlswTwoSub, 3, 0)\n",
    "HlswTwoSub"
   ]
  },
  {
   "cell_type": "code",
   "execution_count": 173,
   "metadata": {},
   "outputs": [
    {
     "data": {
      "text/latex": [
       "$\\displaystyle \\left[\\begin{matrix}- 1.0 J - 1.71933980033865 K - 0.694658370458998 Γ' & \\left(1.0 J + 0.140330099830675 K - 0.347329185229499 Γ'\\right) e^{i \\left(\\frac{a k_{1}}{2} + \\frac{\\sqrt{3} a k_{2}}{6}\\right)} & 0 & \\left(1.11022302462516 \\cdot 10^{-16} J + 0.140330099830675 K - 0.927183854566787 i Γ - 0.347329185229499 Γ' + 0.374606593415912 i Γ'\\right) e^{i \\left(\\frac{a k_{1}}{2} + \\frac{\\sqrt{3} a k_{2}}{6}\\right)}\\\\\\left(1.0 J + 0.140330099830675 K - 0.347329185229499 Γ'\\right) e^{- i \\left(\\frac{a k_{1}}{2} + \\frac{\\sqrt{3} a k_{2}}{6}\\right)} & - 1.0 J - 1.71933980033865 K - 0.694658370458998 Γ' & \\left(1.11022302462516 \\cdot 10^{-16} J + 0.140330099830675 K - 0.927183854566787 i Γ - 0.347329185229499 Γ' + 0.374606593415912 i Γ'\\right) e^{- i \\left(\\frac{a k_{1}}{2} + \\frac{\\sqrt{3} a k_{2}}{6}\\right)} & 0\\\\0 & \\left(1.11022302462516 \\cdot 10^{-16} J + 0.140330099830675 K + 0.927183854566787 i Γ - 0.347329185229499 Γ' - 0.374606593415912 i Γ'\\right) e^{i \\left(\\frac{a k_{1}}{2} + \\frac{\\sqrt{3} a k_{2}}{6}\\right)} & - 1.0 J - 1.71933980033865 K - 0.694658370458998 Γ' & \\left(1.0 J + 0.140330099830675 K - 0.347329185229499 Γ'\\right) e^{i \\left(\\frac{a k_{1}}{2} + \\frac{\\sqrt{3} a k_{2}}{6}\\right)}\\\\\\left(1.11022302462516 \\cdot 10^{-16} J + 0.140330099830675 K + 0.927183854566787 i Γ - 0.347329185229499 Γ' - 0.374606593415912 i Γ'\\right) e^{- i \\left(\\frac{a k_{1}}{2} + \\frac{\\sqrt{3} a k_{2}}{6}\\right)} & 0 & \\left(1.0 J + 0.140330099830675 K - 0.347329185229499 Γ'\\right) e^{- i \\left(\\frac{a k_{1}}{2} + \\frac{\\sqrt{3} a k_{2}}{6}\\right)} & - 1.0 J - 1.71933980033865 K - 0.694658370458998 Γ'\\end{matrix}\\right]$"
      ],
      "text/plain": [
       "Matrix([\n",
       "[                                                                                                      -1.0*J - 1.71933980033865*K - 0.694658370458998*Γ',                                                                   (1.0*J + 0.140330099830675*K - 0.347329185229499*Γ')*exp(I*(a*k1/2 + sqrt(3)*a*k2/6)),                                                                                                                                                        0, (1.11022302462516e-16*J + 0.140330099830675*K - 0.927183854566787*I*Γ - 0.347329185229499*Γ' + 0.374606593415912*I*Γ')*exp(I*(a*k1/2 + sqrt(3)*a*k2/6))],\n",
       "[                                                                  (1.0*J + 0.140330099830675*K - 0.347329185229499*Γ')*exp(-I*(a*k1/2 + sqrt(3)*a*k2/6)),                                                                                                      -1.0*J - 1.71933980033865*K - 0.694658370458998*Γ', (1.11022302462516e-16*J + 0.140330099830675*K - 0.927183854566787*I*Γ - 0.347329185229499*Γ' + 0.374606593415912*I*Γ')*exp(-I*(a*k1/2 + sqrt(3)*a*k2/6)),                                                                                                                                                       0],\n",
       "[                                                                                                                                                       0, (1.11022302462516e-16*J + 0.140330099830675*K + 0.927183854566787*I*Γ - 0.347329185229499*Γ' - 0.374606593415912*I*Γ')*exp(I*(a*k1/2 + sqrt(3)*a*k2/6)),                                                                                                       -1.0*J - 1.71933980033865*K - 0.694658370458998*Γ',                                                                   (1.0*J + 0.140330099830675*K - 0.347329185229499*Γ')*exp(I*(a*k1/2 + sqrt(3)*a*k2/6))],\n",
       "[(1.11022302462516e-16*J + 0.140330099830675*K + 0.927183854566787*I*Γ - 0.347329185229499*Γ' - 0.374606593415912*I*Γ')*exp(-I*(a*k1/2 + sqrt(3)*a*k2/6)),                                                                                                                                                       0,                                                                   (1.0*J + 0.140330099830675*K - 0.347329185229499*Γ')*exp(-I*(a*k1/2 + sqrt(3)*a*k2/6)),                                                                                                      -1.0*J - 1.71933980033865*K - 0.694658370458998*Γ']])"
      ]
     },
     "execution_count": 173,
     "metadata": {},
     "output_type": "execute_result"
    }
   ],
   "source": [
    "# z bonds:\n",
    "\n",
    "# up-up z bonds\n",
    "HlswTwoSub = sp.Matrix([[o, o, o, o], [o, o, o, o], [o, o, o, o], [o, o, o, o]])\n",
    "\n",
    "i = 0\n",
    "while i < 4:\n",
    "    j = 0\n",
    "    while j < 4:\n",
    "        HlswTwoSub[i, j] = Mat_Coef_HPHz_uu[i, j] * FT_Coef_Z[i, j]\n",
    "        j += 1\n",
    "    i += 1\n",
    "\n",
    "distri224(Hlsw, HlswTwoSub, 1, 0)\n",
    "HlswTwoSub\n"
   ]
  },
  {
   "cell_type": "code",
   "execution_count": 174,
   "metadata": {},
   "outputs": [],
   "source": [
    "# down-down z bonds\n",
    "HlswTwoSub = sp.Matrix([[o, o, o, o], [o, o, o, o], [o, o, o, o], [o, o, o, o]])\n",
    "\n",
    "i = 0\n",
    "while i < 4:\n",
    "    j = 0\n",
    "    while j < 4:\n",
    "        HlswTwoSub[i, j] = Mat_Coef_HPHz_dd[i, j] * FT_Coef_Z[i, j]\n",
    "        j += 1\n",
    "    i += 1\n",
    "\n",
    "distri224(Hlsw, HlswTwoSub, 3, 2)"
   ]
  },
  {
   "cell_type": "code",
   "execution_count": 175,
   "metadata": {},
   "outputs": [
    {
     "data": {
      "text/latex": [
       "$\\displaystyle \\left[\\begin{matrix}- 1.0 J - 1.71933980033865 K - 0.694658370458998 Γ' & \\left(1.0 J + 0.140330099830675 K - 0.347329185229499 Γ'\\right) e^{i \\left(\\frac{a k_{1}}{2} + \\frac{\\sqrt{3} a k_{2}}{6}\\right)} & 0 & \\left(0.140330099830675 K + 0.927183854566787 i Γ - 0.347329185229499 Γ' - 0.374606593415912 i Γ'\\right) e^{i \\left(\\frac{a k_{1}}{2} + \\frac{\\sqrt{3} a k_{2}}{6}\\right)}\\\\\\left(1.0 J + 0.140330099830675 K - 0.347329185229499 Γ'\\right) e^{- i \\left(\\frac{a k_{1}}{2} + \\frac{\\sqrt{3} a k_{2}}{6}\\right)} & - 1.0 J - 1.71933980033865 K - 0.694658370458998 Γ' & \\left(0.140330099830675 K + 0.927183854566787 i Γ - 0.347329185229499 Γ' - 0.374606593415912 i Γ'\\right) e^{- i \\left(\\frac{a k_{1}}{2} + \\frac{\\sqrt{3} a k_{2}}{6}\\right)} & 0\\\\0 & \\left(0.140330099830675 K - 0.927183854566787 i Γ - 0.347329185229499 Γ' + 0.374606593415912 i Γ'\\right) e^{i \\left(\\frac{a k_{1}}{2} + \\frac{\\sqrt{3} a k_{2}}{6}\\right)} & - 1.0 J - 1.71933980033865 K - 0.694658370458998 Γ' & \\left(1.0 J + 0.140330099830675 K - 0.347329185229499 Γ'\\right) e^{i \\left(\\frac{a k_{1}}{2} + \\frac{\\sqrt{3} a k_{2}}{6}\\right)}\\\\\\left(0.140330099830675 K - 0.927183854566787 i Γ - 0.347329185229499 Γ' + 0.374606593415912 i Γ'\\right) e^{- i \\left(\\frac{a k_{1}}{2} + \\frac{\\sqrt{3} a k_{2}}{6}\\right)} & 0 & \\left(1.0 J + 0.140330099830675 K - 0.347329185229499 Γ'\\right) e^{- i \\left(\\frac{a k_{1}}{2} + \\frac{\\sqrt{3} a k_{2}}{6}\\right)} & - 1.0 J - 1.71933980033865 K - 0.694658370458998 Γ'\\end{matrix}\\right]$"
      ],
      "text/plain": [
       "Matrix([\n",
       "[                                                                             -1.0*J - 1.71933980033865*K - 0.694658370458998*Γ',                                          (1.0*J + 0.140330099830675*K - 0.347329185229499*Γ')*exp(I*(a*k1/2 + sqrt(3)*a*k2/6)),                                                                                                                               0, (0.140330099830675*K + 0.927183854566787*I*Γ - 0.347329185229499*Γ' - 0.374606593415912*I*Γ')*exp(I*(a*k1/2 + sqrt(3)*a*k2/6))],\n",
       "[                                         (1.0*J + 0.140330099830675*K - 0.347329185229499*Γ')*exp(-I*(a*k1/2 + sqrt(3)*a*k2/6)),                                                                             -1.0*J - 1.71933980033865*K - 0.694658370458998*Γ', (0.140330099830675*K + 0.927183854566787*I*Γ - 0.347329185229499*Γ' - 0.374606593415912*I*Γ')*exp(-I*(a*k1/2 + sqrt(3)*a*k2/6)),                                                                                                                              0],\n",
       "[                                                                                                                              0, (0.140330099830675*K - 0.927183854566787*I*Γ - 0.347329185229499*Γ' + 0.374606593415912*I*Γ')*exp(I*(a*k1/2 + sqrt(3)*a*k2/6)),                                                                              -1.0*J - 1.71933980033865*K - 0.694658370458998*Γ',                                          (1.0*J + 0.140330099830675*K - 0.347329185229499*Γ')*exp(I*(a*k1/2 + sqrt(3)*a*k2/6))],\n",
       "[(0.140330099830675*K - 0.927183854566787*I*Γ - 0.347329185229499*Γ' + 0.374606593415912*I*Γ')*exp(-I*(a*k1/2 + sqrt(3)*a*k2/6)),                                                                                                                              0,                                          (1.0*J + 0.140330099830675*K - 0.347329185229499*Γ')*exp(-I*(a*k1/2 + sqrt(3)*a*k2/6)),                                                                             -1.0*J - 1.71933980033865*K - 0.694658370458998*Γ']])"
      ]
     },
     "execution_count": 175,
     "metadata": {},
     "output_type": "execute_result"
    }
   ],
   "source": [
    "HlswTwoSub"
   ]
  },
  {
   "cell_type": "code",
   "execution_count": 176,
   "metadata": {},
   "outputs": [],
   "source": [
    "##########################################################\n",
    "# After using magnon transformation\n",
    "magfield = 1/2 * h * sp.diag(1, 1, -1, -1, 1, 1, -1, -1)\n",
    "    # Assemble\n",
    "Hlsw = 1 / 2 * Hlsw + magfield"
   ]
  },
  {
   "cell_type": "code",
   "execution_count": 177,
   "metadata": {},
   "outputs": [
    {
     "data": {
      "text/latex": [
       "$\\displaystyle \\left[\\begin{matrix}- 0.5 J - 1.0 K + 0.5 h + 0.347329185229499 Γ - 0.694658370458998 Γ' & 0.5 \\cdot \\left(1.0 J + 0.140330099830675 K - 0.347329185229499 Γ'\\right) e^{- i \\left(\\frac{a k_{1}}{2} + \\frac{\\sqrt{3} a k_{2}}{6}\\right)} + 0.5 \\cdot \\left(1.0 J + 0.859669900169326 K - 0.347329185229499 Γ'\\right) e^{- i \\left(- \\frac{a k_{1}}{2} + \\frac{\\sqrt{3} a k_{2}}{6}\\right)} & 0 & 0.5 \\left(- 1.11022302462516 \\cdot 10^{-16} J + 1.0 K + 0.347329185229499 Γ + 0.552577261150875 i Γ'\\right) e^{\\frac{\\sqrt{3} i a k_{2}}{3}} & 0 & 0.5 \\cdot \\left(1.11022302462516 \\cdot 10^{-16} J + 0.140330099830675 K - 0.927183854566787 i Γ - 0.347329185229499 Γ' + 0.374606593415912 i Γ'\\right) e^{- i \\left(\\frac{a k_{1}}{2} + \\frac{\\sqrt{3} a k_{2}}{6}\\right)} + 0.5 \\cdot \\left(1.11022302462516 \\cdot 10^{-16} J + 0.859669900169326 K + 0.374606593415912 i Γ - 0.347329185229499 Γ' - 0.927183854566787 i Γ'\\right) e^{- i \\left(- \\frac{a k_{1}}{2} + \\frac{\\sqrt{3} a k_{2}}{6}\\right)} & 0 & 0.5 \\left(- 1.0 J - 1.0 K + 0.347329185229499 Γ - 1.11022302462516 \\cdot 10^{-16} i Γ'\\right) e^{\\frac{\\sqrt{3} i a k_{2}}{3}}\\\\0.5 \\cdot \\left(1.0 J + 0.140330099830675 K - 0.347329185229499 Γ'\\right) e^{i \\left(\\frac{a k_{1}}{2} + \\frac{\\sqrt{3} a k_{2}}{6}\\right)} + 0.5 \\cdot \\left(1.0 J + 0.859669900169326 K - 0.347329185229499 Γ'\\right) e^{i \\left(- \\frac{a k_{1}}{2} + \\frac{\\sqrt{3} a k_{2}}{6}\\right)} & - 0.5 J - 1.0 K + 0.5 h + 0.347329185229499 Γ - 0.694658370458998 Γ' & 0.5 \\left(- 1.11022302462516 \\cdot 10^{-16} J + 1.0 K + 0.347329185229499 Γ + 0.552577261150875 i Γ'\\right) e^{- \\frac{\\sqrt{3} i a k_{2}}{3}} & 0 & 0.5 \\cdot \\left(1.11022302462516 \\cdot 10^{-16} J + 0.140330099830675 K - 0.927183854566787 i Γ - 0.347329185229499 Γ' + 0.374606593415912 i Γ'\\right) e^{i \\left(\\frac{a k_{1}}{2} + \\frac{\\sqrt{3} a k_{2}}{6}\\right)} + 0.5 \\cdot \\left(1.11022302462516 \\cdot 10^{-16} J + 0.859669900169326 K + 0.374606593415912 i Γ - 0.347329185229499 Γ' - 0.927183854566787 i Γ'\\right) e^{i \\left(- \\frac{a k_{1}}{2} + \\frac{\\sqrt{3} a k_{2}}{6}\\right)} & 0 & 0.5 \\left(- 1.0 J - 1.0 K + 0.347329185229499 Γ - 1.11022302462516 \\cdot 10^{-16} i Γ'\\right) e^{- \\frac{\\sqrt{3} i a k_{2}}{3}} & 0\\\\0 & 0.5 \\left(- 1.11022302462516 \\cdot 10^{-16} J + 1.0 K + 0.347329185229499 Γ - 0.552577261150875 i Γ'\\right) e^{\\frac{\\sqrt{3} i a k_{2}}{3}} & - 0.5 J - 1.0 K - 0.5 h + 0.347329185229499 Γ - 0.694658370458998 Γ' & 0.5 \\cdot \\left(1.0 J + 0.140330099830675 K - 0.347329185229499 Γ'\\right) e^{- i \\left(\\frac{a k_{1}}{2} + \\frac{\\sqrt{3} a k_{2}}{6}\\right)} + 0.5 \\cdot \\left(1.0 J + 0.859669900169325 K - 0.347329185229499 Γ'\\right) e^{- i \\left(- \\frac{a k_{1}}{2} + \\frac{\\sqrt{3} a k_{2}}{6}\\right)} & 0 & 0.5 \\left(- 1.0 J - 1.0 K + 0.347329185229499 Γ - 1.11022302462516 \\cdot 10^{-16} i Γ'\\right) e^{\\frac{\\sqrt{3} i a k_{2}}{3}} & 0 & 0.5 \\cdot \\left(0.140330099830675 K + 0.927183854566787 i Γ - 0.347329185229499 Γ' - 0.374606593415912 i Γ'\\right) e^{- i \\left(\\frac{a k_{1}}{2} + \\frac{\\sqrt{3} a k_{2}}{6}\\right)} + 0.5 \\cdot \\left(0.859669900169325 K - 0.374606593415912 i Γ - 0.347329185229499 Γ' + 0.927183854566787 i Γ'\\right) e^{- i \\left(- \\frac{a k_{1}}{2} + \\frac{\\sqrt{3} a k_{2}}{6}\\right)}\\\\0.5 \\left(- 1.11022302462516 \\cdot 10^{-16} J + 1.0 K + 0.347329185229499 Γ - 0.552577261150875 i Γ'\\right) e^{- \\frac{\\sqrt{3} i a k_{2}}{3}} & 0 & 0.5 \\cdot \\left(1.0 J + 0.140330099830675 K - 0.347329185229499 Γ'\\right) e^{i \\left(\\frac{a k_{1}}{2} + \\frac{\\sqrt{3} a k_{2}}{6}\\right)} + 0.5 \\cdot \\left(1.0 J + 0.859669900169325 K - 0.347329185229499 Γ'\\right) e^{i \\left(- \\frac{a k_{1}}{2} + \\frac{\\sqrt{3} a k_{2}}{6}\\right)} & - 0.5 J - 1.0 K - 0.5 h + 0.347329185229499 Γ - 0.694658370458998 Γ' & 0.5 \\left(- 1.0 J - 1.0 K + 0.347329185229499 Γ - 1.11022302462516 \\cdot 10^{-16} i Γ'\\right) e^{- \\frac{\\sqrt{3} i a k_{2}}{3}} & 0 & 0.5 \\cdot \\left(0.140330099830675 K + 0.927183854566787 i Γ - 0.347329185229499 Γ' - 0.374606593415912 i Γ'\\right) e^{i \\left(\\frac{a k_{1}}{2} + \\frac{\\sqrt{3} a k_{2}}{6}\\right)} + 0.5 \\cdot \\left(0.859669900169325 K - 0.374606593415912 i Γ - 0.347329185229499 Γ' + 0.927183854566787 i Γ'\\right) e^{i \\left(- \\frac{a k_{1}}{2} + \\frac{\\sqrt{3} a k_{2}}{6}\\right)} & 0\\\\0 & 0.5 \\cdot \\left(1.11022302462516 \\cdot 10^{-16} J + 0.140330099830675 K + 0.927183854566787 i Γ - 0.347329185229499 Γ' - 0.374606593415912 i Γ'\\right) e^{- i \\left(\\frac{a k_{1}}{2} + \\frac{\\sqrt{3} a k_{2}}{6}\\right)} + 0.5 \\cdot \\left(1.11022302462516 \\cdot 10^{-16} J + 0.859669900169326 K - 0.374606593415912 i Γ - 0.347329185229499 Γ' + 0.927183854566787 i Γ'\\right) e^{- i \\left(- \\frac{a k_{1}}{2} + \\frac{\\sqrt{3} a k_{2}}{6}\\right)} & 0 & 0.5 \\left(- 1.0 J - 1.0 K + 0.347329185229499 Γ + 1.11022302462516 \\cdot 10^{-16} i Γ'\\right) e^{\\frac{\\sqrt{3} i a k_{2}}{3}} & - 0.5 J - 1.0 K + 0.5 h + 0.347329185229499 Γ - 0.694658370458998 Γ' & 0.5 \\cdot \\left(1.0 J + 0.140330099830675 K - 0.347329185229499 Γ'\\right) e^{- i \\left(\\frac{a k_{1}}{2} + \\frac{\\sqrt{3} a k_{2}}{6}\\right)} + 0.5 \\cdot \\left(1.0 J + 0.859669900169326 K - 0.347329185229499 Γ'\\right) e^{- i \\left(- \\frac{a k_{1}}{2} + \\frac{\\sqrt{3} a k_{2}}{6}\\right)} & 0 & 0.5 \\left(- 1.11022302462516 \\cdot 10^{-16} J + 1.0 K + 0.347329185229499 Γ + 0.552577261150875 i Γ'\\right) e^{\\frac{\\sqrt{3} i a k_{2}}{3}}\\\\0.5 \\cdot \\left(1.11022302462516 \\cdot 10^{-16} J + 0.140330099830675 K + 0.927183854566787 i Γ - 0.347329185229499 Γ' - 0.374606593415912 i Γ'\\right) e^{i \\left(\\frac{a k_{1}}{2} + \\frac{\\sqrt{3} a k_{2}}{6}\\right)} + 0.5 \\cdot \\left(1.11022302462516 \\cdot 10^{-16} J + 0.859669900169326 K - 0.374606593415912 i Γ - 0.347329185229499 Γ' + 0.927183854566787 i Γ'\\right) e^{i \\left(- \\frac{a k_{1}}{2} + \\frac{\\sqrt{3} a k_{2}}{6}\\right)} & 0 & 0.5 \\left(- 1.0 J - 1.0 K + 0.347329185229499 Γ + 1.11022302462516 \\cdot 10^{-16} i Γ'\\right) e^{- \\frac{\\sqrt{3} i a k_{2}}{3}} & 0 & 0.5 \\cdot \\left(1.0 J + 0.140330099830675 K - 0.347329185229499 Γ'\\right) e^{i \\left(\\frac{a k_{1}}{2} + \\frac{\\sqrt{3} a k_{2}}{6}\\right)} + 0.5 \\cdot \\left(1.0 J + 0.859669900169326 K - 0.347329185229499 Γ'\\right) e^{i \\left(- \\frac{a k_{1}}{2} + \\frac{\\sqrt{3} a k_{2}}{6}\\right)} & - 0.5 J - 1.0 K + 0.5 h + 0.347329185229499 Γ - 0.694658370458998 Γ' & 0.5 \\left(- 1.11022302462516 \\cdot 10^{-16} J + 1.0 K + 0.347329185229499 Γ + 0.552577261150875 i Γ'\\right) e^{- \\frac{\\sqrt{3} i a k_{2}}{3}} & 0\\\\0 & 0.5 \\left(- 1.0 J - 1.0 K + 0.347329185229499 Γ + 1.11022302462516 \\cdot 10^{-16} i Γ'\\right) e^{\\frac{\\sqrt{3} i a k_{2}}{3}} & 0 & 0.5 \\cdot \\left(0.140330099830675 K - 0.927183854566787 i Γ - 0.347329185229499 Γ' + 0.374606593415912 i Γ'\\right) e^{- i \\left(\\frac{a k_{1}}{2} + \\frac{\\sqrt{3} a k_{2}}{6}\\right)} + 0.5 \\cdot \\left(0.859669900169325 K + 0.374606593415912 i Γ - 0.347329185229499 Γ' - 0.927183854566787 i Γ'\\right) e^{- i \\left(- \\frac{a k_{1}}{2} + \\frac{\\sqrt{3} a k_{2}}{6}\\right)} & 0 & 0.5 \\left(- 1.11022302462516 \\cdot 10^{-16} J + 1.0 K + 0.347329185229499 Γ - 0.552577261150875 i Γ'\\right) e^{\\frac{\\sqrt{3} i a k_{2}}{3}} & - 0.5 J - 1.0 K - 0.5 h + 0.347329185229499 Γ - 0.694658370458998 Γ' & 0.5 \\cdot \\left(1.0 J + 0.140330099830675 K - 0.347329185229499 Γ'\\right) e^{- i \\left(\\frac{a k_{1}}{2} + \\frac{\\sqrt{3} a k_{2}}{6}\\right)} + 0.5 \\cdot \\left(1.0 J + 0.859669900169325 K - 0.347329185229499 Γ'\\right) e^{- i \\left(- \\frac{a k_{1}}{2} + \\frac{\\sqrt{3} a k_{2}}{6}\\right)}\\\\0.5 \\left(- 1.0 J - 1.0 K + 0.347329185229499 Γ + 1.11022302462516 \\cdot 10^{-16} i Γ'\\right) e^{- \\frac{\\sqrt{3} i a k_{2}}{3}} & 0 & 0.5 \\cdot \\left(0.140330099830675 K - 0.927183854566787 i Γ - 0.347329185229499 Γ' + 0.374606593415912 i Γ'\\right) e^{i \\left(\\frac{a k_{1}}{2} + \\frac{\\sqrt{3} a k_{2}}{6}\\right)} + 0.5 \\cdot \\left(0.859669900169325 K + 0.374606593415912 i Γ - 0.347329185229499 Γ' - 0.927183854566787 i Γ'\\right) e^{i \\left(- \\frac{a k_{1}}{2} + \\frac{\\sqrt{3} a k_{2}}{6}\\right)} & 0 & 0.5 \\left(- 1.11022302462516 \\cdot 10^{-16} J + 1.0 K + 0.347329185229499 Γ - 0.552577261150875 i Γ'\\right) e^{- \\frac{\\sqrt{3} i a k_{2}}{3}} & 0 & 0.5 \\cdot \\left(1.0 J + 0.140330099830675 K - 0.347329185229499 Γ'\\right) e^{i \\left(\\frac{a k_{1}}{2} + \\frac{\\sqrt{3} a k_{2}}{6}\\right)} + 0.5 \\cdot \\left(1.0 J + 0.859669900169325 K - 0.347329185229499 Γ'\\right) e^{i \\left(- \\frac{a k_{1}}{2} + \\frac{\\sqrt{3} a k_{2}}{6}\\right)} & - 0.5 J - 1.0 K - 0.5 h + 0.347329185229499 Γ - 0.694658370458998 Γ'\\end{matrix}\\right]$"
      ],
      "text/plain": [
       "Matrix([\n",
       "[                                                                                                                                                                                                                                                       -0.5*J - 1.0*K + 0.5*h + 0.347329185229499*Γ - 0.694658370458998*Γ',                                                                                                                                     0.5*(1.0*J + 0.140330099830675*K - 0.347329185229499*Γ')*exp(-I*(a*k1/2 + sqrt(3)*a*k2/6)) + 0.5*(1.0*J + 0.859669900169326*K - 0.347329185229499*Γ')*exp(-I*(-a*k1/2 + sqrt(3)*a*k2/6)),                                                                                                                                                                                                                                                                        0,                                                                                                                                                                 0.5*(-1.11022302462516e-16*J + 1.0*K + 0.347329185229499*Γ + 0.552577261150875*I*Γ')*exp(sqrt(3)*I*a*k2/3),                                                                                                                                                                                                                                                                                                                          0, 0.5*(1.11022302462516e-16*J + 0.140330099830675*K - 0.927183854566787*I*Γ - 0.347329185229499*Γ' + 0.374606593415912*I*Γ')*exp(-I*(a*k1/2 + sqrt(3)*a*k2/6)) + 0.5*(1.11022302462516e-16*J + 0.859669900169326*K + 0.374606593415912*I*Γ - 0.347329185229499*Γ' - 0.927183854566787*I*Γ')*exp(-I*(-a*k1/2 + sqrt(3)*a*k2/6)),                                                                                                                                                                                                                                                                        0,                                                                                                                                                                               0.5*(-1.0*J - 1.0*K + 0.347329185229499*Γ - 1.11022302462516e-16*I*Γ')*exp(sqrt(3)*I*a*k2/3)],\n",
       "[                                                                                                                                    0.5*(1.0*J + 0.140330099830675*K - 0.347329185229499*Γ')*exp(I*(a*k1/2 + sqrt(3)*a*k2/6)) + 0.5*(1.0*J + 0.859669900169326*K - 0.347329185229499*Γ')*exp(I*(-a*k1/2 + sqrt(3)*a*k2/6)),                                                                                                                                                                                                                                                          -0.5*J - 1.0*K + 0.5*h + 0.347329185229499*Γ - 0.694658370458998*Γ',                                                                                                                                                              0.5*(-1.11022302462516e-16*J + 1.0*K + 0.347329185229499*Γ + 0.552577261150875*I*Γ')*exp(-sqrt(3)*I*a*k2/3),                                                                                                                                                                                                                                                                          0, 0.5*(1.11022302462516e-16*J + 0.140330099830675*K - 0.927183854566787*I*Γ - 0.347329185229499*Γ' + 0.374606593415912*I*Γ')*exp(I*(a*k1/2 + sqrt(3)*a*k2/6)) + 0.5*(1.11022302462516e-16*J + 0.859669900169326*K + 0.374606593415912*I*Γ - 0.347329185229499*Γ' - 0.927183854566787*I*Γ')*exp(I*(-a*k1/2 + sqrt(3)*a*k2/6)),                                                                                                                                                                                                                                                                                                                            0,                                                                                                                                                                            0.5*(-1.0*J - 1.0*K + 0.347329185229499*Γ - 1.11022302462516e-16*I*Γ')*exp(-sqrt(3)*I*a*k2/3),                                                                                                                                                                                                                                                                          0],\n",
       "[                                                                                                                                                                                                                                                                                                                         0,                                                                                                                                                                                                                   0.5*(-1.11022302462516e-16*J + 1.0*K + 0.347329185229499*Γ - 0.552577261150875*I*Γ')*exp(sqrt(3)*I*a*k2/3),                                                                                                                                                                                                      -0.5*J - 1.0*K - 0.5*h + 0.347329185229499*Γ - 0.694658370458998*Γ',                                                                                   0.5*(1.0*J + 0.140330099830675*K - 0.347329185229499*Γ')*exp(-I*(a*k1/2 + sqrt(3)*a*k2/6)) + 0.5*(1.0*J + 0.859669900169325*K - 0.347329185229499*Γ')*exp(-I*(-a*k1/2 + sqrt(3)*a*k2/6)),                                                                                                                                                                                                                                                                                                                          0,                                                                                                                                                                                                                                 0.5*(-1.0*J - 1.0*K + 0.347329185229499*Γ - 1.11022302462516e-16*I*Γ')*exp(sqrt(3)*I*a*k2/3),                                                                                                                                                                                                                                                                        0, 0.5*(0.140330099830675*K + 0.927183854566787*I*Γ - 0.347329185229499*Γ' - 0.374606593415912*I*Γ')*exp(-I*(a*k1/2 + sqrt(3)*a*k2/6)) + 0.5*(0.859669900169325*K - 0.374606593415912*I*Γ - 0.347329185229499*Γ' + 0.927183854566787*I*Γ')*exp(-I*(-a*k1/2 + sqrt(3)*a*k2/6))],\n",
       "[                                                                                                                                                                                                               0.5*(-1.11022302462516e-16*J + 1.0*K + 0.347329185229499*Γ - 0.552577261150875*I*Γ')*exp(-sqrt(3)*I*a*k2/3),                                                                                                                                                                                                                                                                                                                            0,                                                                                   0.5*(1.0*J + 0.140330099830675*K - 0.347329185229499*Γ')*exp(I*(a*k1/2 + sqrt(3)*a*k2/6)) + 0.5*(1.0*J + 0.859669900169325*K - 0.347329185229499*Γ')*exp(I*(-a*k1/2 + sqrt(3)*a*k2/6)),                                                                                                                                                                                                        -0.5*J - 1.0*K - 0.5*h + 0.347329185229499*Γ - 0.694658370458998*Γ',                                                                                                                                                                                                                              0.5*(-1.0*J - 1.0*K + 0.347329185229499*Γ - 1.11022302462516e-16*I*Γ')*exp(-sqrt(3)*I*a*k2/3),                                                                                                                                                                                                                                                                                                                            0, 0.5*(0.140330099830675*K + 0.927183854566787*I*Γ - 0.347329185229499*Γ' - 0.374606593415912*I*Γ')*exp(I*(a*k1/2 + sqrt(3)*a*k2/6)) + 0.5*(0.859669900169325*K - 0.374606593415912*I*Γ - 0.347329185229499*Γ' + 0.927183854566787*I*Γ')*exp(I*(-a*k1/2 + sqrt(3)*a*k2/6)),                                                                                                                                                                                                                                                                          0],\n",
       "[                                                                                                                                                                                                                                                                                                                         0, 0.5*(1.11022302462516e-16*J + 0.140330099830675*K + 0.927183854566787*I*Γ - 0.347329185229499*Γ' - 0.374606593415912*I*Γ')*exp(-I*(a*k1/2 + sqrt(3)*a*k2/6)) + 0.5*(1.11022302462516e-16*J + 0.859669900169326*K - 0.374606593415912*I*Γ - 0.347329185229499*Γ' + 0.927183854566787*I*Γ')*exp(-I*(-a*k1/2 + sqrt(3)*a*k2/6)),                                                                                                                                                                                                                                                                        0,                                                                                                                                                                               0.5*(-1.0*J - 1.0*K + 0.347329185229499*Γ + 1.11022302462516e-16*I*Γ')*exp(sqrt(3)*I*a*k2/3),                                                                                                                                                                                                                                                        -0.5*J - 1.0*K + 0.5*h + 0.347329185229499*Γ - 0.694658370458998*Γ',                                                                                                                                     0.5*(1.0*J + 0.140330099830675*K - 0.347329185229499*Γ')*exp(-I*(a*k1/2 + sqrt(3)*a*k2/6)) + 0.5*(1.0*J + 0.859669900169326*K - 0.347329185229499*Γ')*exp(-I*(-a*k1/2 + sqrt(3)*a*k2/6)),                                                                                                                                                                                                                                                                        0,                                                                                                                                                                 0.5*(-1.11022302462516e-16*J + 1.0*K + 0.347329185229499*Γ + 0.552577261150875*I*Γ')*exp(sqrt(3)*I*a*k2/3)],\n",
       "[0.5*(1.11022302462516e-16*J + 0.140330099830675*K + 0.927183854566787*I*Γ - 0.347329185229499*Γ' - 0.374606593415912*I*Γ')*exp(I*(a*k1/2 + sqrt(3)*a*k2/6)) + 0.5*(1.11022302462516e-16*J + 0.859669900169326*K - 0.374606593415912*I*Γ - 0.347329185229499*Γ' + 0.927183854566787*I*Γ')*exp(I*(-a*k1/2 + sqrt(3)*a*k2/6)),                                                                                                                                                                                                                                                                                                                            0,                                                                                                                                                                            0.5*(-1.0*J - 1.0*K + 0.347329185229499*Γ + 1.11022302462516e-16*I*Γ')*exp(-sqrt(3)*I*a*k2/3),                                                                                                                                                                                                                                                                          0,                                                                                                                                     0.5*(1.0*J + 0.140330099830675*K - 0.347329185229499*Γ')*exp(I*(a*k1/2 + sqrt(3)*a*k2/6)) + 0.5*(1.0*J + 0.859669900169326*K - 0.347329185229499*Γ')*exp(I*(-a*k1/2 + sqrt(3)*a*k2/6)),                                                                                                                                                                                                                                                          -0.5*J - 1.0*K + 0.5*h + 0.347329185229499*Γ - 0.694658370458998*Γ',                                                                                                                                                              0.5*(-1.11022302462516e-16*J + 1.0*K + 0.347329185229499*Γ + 0.552577261150875*I*Γ')*exp(-sqrt(3)*I*a*k2/3),                                                                                                                                                                                                                                                                          0],\n",
       "[                                                                                                                                                                                                                                                                                                                         0,                                                                                                                                                                                                                                 0.5*(-1.0*J - 1.0*K + 0.347329185229499*Γ + 1.11022302462516e-16*I*Γ')*exp(sqrt(3)*I*a*k2/3),                                                                                                                                                                                                                                                                        0, 0.5*(0.140330099830675*K - 0.927183854566787*I*Γ - 0.347329185229499*Γ' + 0.374606593415912*I*Γ')*exp(-I*(a*k1/2 + sqrt(3)*a*k2/6)) + 0.5*(0.859669900169325*K + 0.374606593415912*I*Γ - 0.347329185229499*Γ' - 0.927183854566787*I*Γ')*exp(-I*(-a*k1/2 + sqrt(3)*a*k2/6)),                                                                                                                                                                                                                                                                                                                          0,                                                                                                                                                                                                                   0.5*(-1.11022302462516e-16*J + 1.0*K + 0.347329185229499*Γ - 0.552577261150875*I*Γ')*exp(sqrt(3)*I*a*k2/3),                                                                                                                                                                                                      -0.5*J - 1.0*K - 0.5*h + 0.347329185229499*Γ - 0.694658370458998*Γ',                                                                                   0.5*(1.0*J + 0.140330099830675*K - 0.347329185229499*Γ')*exp(-I*(a*k1/2 + sqrt(3)*a*k2/6)) + 0.5*(1.0*J + 0.859669900169325*K - 0.347329185229499*Γ')*exp(-I*(-a*k1/2 + sqrt(3)*a*k2/6))],\n",
       "[                                                                                                                                                                                                                             0.5*(-1.0*J - 1.0*K + 0.347329185229499*Γ + 1.11022302462516e-16*I*Γ')*exp(-sqrt(3)*I*a*k2/3),                                                                                                                                                                                                                                                                                                                            0, 0.5*(0.140330099830675*K - 0.927183854566787*I*Γ - 0.347329185229499*Γ' + 0.374606593415912*I*Γ')*exp(I*(a*k1/2 + sqrt(3)*a*k2/6)) + 0.5*(0.859669900169325*K + 0.374606593415912*I*Γ - 0.347329185229499*Γ' - 0.927183854566787*I*Γ')*exp(I*(-a*k1/2 + sqrt(3)*a*k2/6)),                                                                                                                                                                                                                                                                          0,                                                                                                                                                                                                                0.5*(-1.11022302462516e-16*J + 1.0*K + 0.347329185229499*Γ - 0.552577261150875*I*Γ')*exp(-sqrt(3)*I*a*k2/3),                                                                                                                                                                                                                                                                                                                            0,                                                                                   0.5*(1.0*J + 0.140330099830675*K - 0.347329185229499*Γ')*exp(I*(a*k1/2 + sqrt(3)*a*k2/6)) + 0.5*(1.0*J + 0.859669900169325*K - 0.347329185229499*Γ')*exp(I*(-a*k1/2 + sqrt(3)*a*k2/6)),                                                                                                                                                                                                        -0.5*J - 1.0*K - 0.5*h + 0.347329185229499*Γ - 0.694658370458998*Γ']])"
      ]
     },
     "execution_count": 177,
     "metadata": {},
     "output_type": "execute_result"
    }
   ],
   "source": [
    "Hlsw"
   ]
  },
  {
   "cell_type": "code",
   "execution_count": 178,
   "metadata": {},
   "outputs": [
    {
     "data": {
      "text/latex": [
       "$\\displaystyle \\left[\\begin{matrix}- 0.5 h + 0.5 \\overline{h} & 0 & 0 & 0 & 0 & 0 & 0 & 0\\\\0 & - 0.5 h + 0.5 \\overline{h} & 0 & 0 & 0 & 0 & 0 & 0\\\\0 & 0 & 0.5 h - 0.5 \\overline{h} & 0 & 0 & 0 & 0 & 0\\\\0 & 0 & 0 & 0.5 h - 0.5 \\overline{h} & 0 & 0 & 0 & 0\\\\0 & 0 & 0 & 0 & - 0.5 h + 0.5 \\overline{h} & 0 & 0 & 0\\\\0 & 0 & 0 & 0 & 0 & - 0.5 h + 0.5 \\overline{h} & 0 & 0\\\\0 & 0 & 0 & 0 & 0 & 0 & 0.5 h - 0.5 \\overline{h} & 0\\\\0 & 0 & 0 & 0 & 0 & 0 & 0 & 0.5 h - 0.5 \\overline{h}\\end{matrix}\\right]$"
      ],
      "text/plain": [
       "Matrix([\n",
       "[-0.5*h + 0.5*conjugate(h),                         0,                        0,                        0,                         0,                         0,                        0,                        0],\n",
       "[                        0, -0.5*h + 0.5*conjugate(h),                        0,                        0,                         0,                         0,                        0,                        0],\n",
       "[                        0,                         0, 0.5*h - 0.5*conjugate(h),                        0,                         0,                         0,                        0,                        0],\n",
       "[                        0,                         0,                        0, 0.5*h - 0.5*conjugate(h),                         0,                         0,                        0,                        0],\n",
       "[                        0,                         0,                        0,                        0, -0.5*h + 0.5*conjugate(h),                         0,                        0,                        0],\n",
       "[                        0,                         0,                        0,                        0,                         0, -0.5*h + 0.5*conjugate(h),                        0,                        0],\n",
       "[                        0,                         0,                        0,                        0,                         0,                         0, 0.5*h - 0.5*conjugate(h),                        0],\n",
       "[                        0,                         0,                        0,                        0,                         0,                         0,                        0, 0.5*h - 0.5*conjugate(h)]])"
      ]
     },
     "execution_count": 178,
     "metadata": {},
     "output_type": "execute_result"
    }
   ],
   "source": [
    "sp.transpose(sp.conjugate(Hlsw))-Hlsw"
   ]
  },
  {
   "cell_type": "code",
   "execution_count": 179,
   "id": "196ee352b4e2fb96",
   "metadata": {
    "scrolled": false
   },
   "outputs": [
    {
     "data": {
      "text/latex": [
       "$\\displaystyle \\left[\\begin{matrix}- 0.5 J & 0.5 J e^{- i \\left(\\frac{k_{1}}{2} + \\frac{\\sqrt{3} k_{2}}{6}\\right)} + 0.5 J e^{- i \\left(- \\frac{k_{1}}{2} + \\frac{\\sqrt{3} k_{2}}{6}\\right)} & 0 & - 5.55111512312578 \\cdot 10^{-17} J e^{\\frac{\\sqrt{3} i k_{2}}{3}} & 0 & 5.55111512312578 \\cdot 10^{-17} J e^{- i \\left(\\frac{k_{1}}{2} + \\frac{\\sqrt{3} k_{2}}{6}\\right)} + 5.55111512312578 \\cdot 10^{-17} J e^{- i \\left(- \\frac{k_{1}}{2} + \\frac{\\sqrt{3} k_{2}}{6}\\right)} & 0 & - 0.5 J e^{\\frac{\\sqrt{3} i k_{2}}{3}}\\\\0.5 J e^{i \\left(- \\frac{k_{1}}{2} + \\frac{\\sqrt{3} k_{2}}{6}\\right)} + 0.5 J e^{i \\left(\\frac{k_{1}}{2} + \\frac{\\sqrt{3} k_{2}}{6}\\right)} & - 0.5 J & - 5.55111512312578 \\cdot 10^{-17} J e^{- \\frac{\\sqrt{3} i k_{2}}{3}} & 0 & 5.55111512312578 \\cdot 10^{-17} J e^{i \\left(- \\frac{k_{1}}{2} + \\frac{\\sqrt{3} k_{2}}{6}\\right)} + 5.55111512312578 \\cdot 10^{-17} J e^{i \\left(\\frac{k_{1}}{2} + \\frac{\\sqrt{3} k_{2}}{6}\\right)} & 0 & - 0.5 J e^{- \\frac{\\sqrt{3} i k_{2}}{3}} & 0\\\\0 & - 5.55111512312578 \\cdot 10^{-17} J e^{\\frac{\\sqrt{3} i k_{2}}{3}} & - 0.5 J & 0.5 J e^{- i \\left(\\frac{k_{1}}{2} + \\frac{\\sqrt{3} k_{2}}{6}\\right)} + 0.5 J e^{- i \\left(- \\frac{k_{1}}{2} + \\frac{\\sqrt{3} k_{2}}{6}\\right)} & 0 & - 0.5 J e^{\\frac{\\sqrt{3} i k_{2}}{3}} & 0 & 0\\\\- 5.55111512312578 \\cdot 10^{-17} J e^{- \\frac{\\sqrt{3} i k_{2}}{3}} & 0 & 0.5 J e^{i \\left(- \\frac{k_{1}}{2} + \\frac{\\sqrt{3} k_{2}}{6}\\right)} + 0.5 J e^{i \\left(\\frac{k_{1}}{2} + \\frac{\\sqrt{3} k_{2}}{6}\\right)} & - 0.5 J & - 0.5 J e^{- \\frac{\\sqrt{3} i k_{2}}{3}} & 0 & 0 & 0\\\\0 & 5.55111512312578 \\cdot 10^{-17} J e^{- i \\left(\\frac{k_{1}}{2} + \\frac{\\sqrt{3} k_{2}}{6}\\right)} + 5.55111512312578 \\cdot 10^{-17} J e^{- i \\left(- \\frac{k_{1}}{2} + \\frac{\\sqrt{3} k_{2}}{6}\\right)} & 0 & - 0.5 J e^{\\frac{\\sqrt{3} i k_{2}}{3}} & - 0.5 J & 0.5 J e^{- i \\left(\\frac{k_{1}}{2} + \\frac{\\sqrt{3} k_{2}}{6}\\right)} + 0.5 J e^{- i \\left(- \\frac{k_{1}}{2} + \\frac{\\sqrt{3} k_{2}}{6}\\right)} & 0 & - 5.55111512312578 \\cdot 10^{-17} J e^{\\frac{\\sqrt{3} i k_{2}}{3}}\\\\5.55111512312578 \\cdot 10^{-17} J e^{i \\left(- \\frac{k_{1}}{2} + \\frac{\\sqrt{3} k_{2}}{6}\\right)} + 5.55111512312578 \\cdot 10^{-17} J e^{i \\left(\\frac{k_{1}}{2} + \\frac{\\sqrt{3} k_{2}}{6}\\right)} & 0 & - 0.5 J e^{- \\frac{\\sqrt{3} i k_{2}}{3}} & 0 & 0.5 J e^{i \\left(- \\frac{k_{1}}{2} + \\frac{\\sqrt{3} k_{2}}{6}\\right)} + 0.5 J e^{i \\left(\\frac{k_{1}}{2} + \\frac{\\sqrt{3} k_{2}}{6}\\right)} & - 0.5 J & - 5.55111512312578 \\cdot 10^{-17} J e^{- \\frac{\\sqrt{3} i k_{2}}{3}} & 0\\\\0 & - 0.5 J e^{\\frac{\\sqrt{3} i k_{2}}{3}} & 0 & 0 & 0 & - 5.55111512312578 \\cdot 10^{-17} J e^{\\frac{\\sqrt{3} i k_{2}}{3}} & - 0.5 J & 0.5 J e^{- i \\left(\\frac{k_{1}}{2} + \\frac{\\sqrt{3} k_{2}}{6}\\right)} + 0.5 J e^{- i \\left(- \\frac{k_{1}}{2} + \\frac{\\sqrt{3} k_{2}}{6}\\right)}\\\\- 0.5 J e^{- \\frac{\\sqrt{3} i k_{2}}{3}} & 0 & 0 & 0 & - 5.55111512312578 \\cdot 10^{-17} J e^{- \\frac{\\sqrt{3} i k_{2}}{3}} & 0 & 0.5 J e^{i \\left(- \\frac{k_{1}}{2} + \\frac{\\sqrt{3} k_{2}}{6}\\right)} + 0.5 J e^{i \\left(\\frac{k_{1}}{2} + \\frac{\\sqrt{3} k_{2}}{6}\\right)} & - 0.5 J\\end{matrix}\\right]$"
      ],
      "text/plain": [
       "Matrix([\n",
       "[                                                                                                    -0.5*J,                                   0.5*J*exp(-I*(k1/2 + sqrt(3)*k2/6)) + 0.5*J*exp(-I*(-k1/2 + sqrt(3)*k2/6)),                                                                        0,                                -5.55111512312578e-17*J*exp(sqrt(3)*I*k2/3),                                                                                                          0, 5.55111512312578e-17*J*exp(-I*(k1/2 + sqrt(3)*k2/6)) + 5.55111512312578e-17*J*exp(-I*(-k1/2 + sqrt(3)*k2/6)),                                                                        0,                                                 -0.5*J*exp(sqrt(3)*I*k2/3)],\n",
       "[                                  0.5*J*exp(I*(-k1/2 + sqrt(3)*k2/6)) + 0.5*J*exp(I*(k1/2 + sqrt(3)*k2/6)),                                                                                                       -0.5*J,                             -5.55111512312578e-17*J*exp(-sqrt(3)*I*k2/3),                                                                          0, 5.55111512312578e-17*J*exp(I*(-k1/2 + sqrt(3)*k2/6)) + 5.55111512312578e-17*J*exp(I*(k1/2 + sqrt(3)*k2/6)),                                                                                                            0,                                              -0.5*J*exp(-sqrt(3)*I*k2/3),                                                                          0],\n",
       "[                                                                                                         0,                                                                  -5.55111512312578e-17*J*exp(sqrt(3)*I*k2/3),                                                                   -0.5*J, 0.5*J*exp(-I*(k1/2 + sqrt(3)*k2/6)) + 0.5*J*exp(-I*(-k1/2 + sqrt(3)*k2/6)),                                                                                                          0,                                                                                   -0.5*J*exp(sqrt(3)*I*k2/3),                                                                        0,                                                                          0],\n",
       "[                                                              -5.55111512312578e-17*J*exp(-sqrt(3)*I*k2/3),                                                                                                            0, 0.5*J*exp(I*(-k1/2 + sqrt(3)*k2/6)) + 0.5*J*exp(I*(k1/2 + sqrt(3)*k2/6)),                                                                     -0.5*J,                                                                                -0.5*J*exp(-sqrt(3)*I*k2/3),                                                                                                            0,                                                                        0,                                                                          0],\n",
       "[                                                                                                         0, 5.55111512312578e-17*J*exp(-I*(k1/2 + sqrt(3)*k2/6)) + 5.55111512312578e-17*J*exp(-I*(-k1/2 + sqrt(3)*k2/6)),                                                                        0,                                                 -0.5*J*exp(sqrt(3)*I*k2/3),                                                                                                     -0.5*J,                                   0.5*J*exp(-I*(k1/2 + sqrt(3)*k2/6)) + 0.5*J*exp(-I*(-k1/2 + sqrt(3)*k2/6)),                                                                        0,                                -5.55111512312578e-17*J*exp(sqrt(3)*I*k2/3)],\n",
       "[5.55111512312578e-17*J*exp(I*(-k1/2 + sqrt(3)*k2/6)) + 5.55111512312578e-17*J*exp(I*(k1/2 + sqrt(3)*k2/6)),                                                                                                            0,                                              -0.5*J*exp(-sqrt(3)*I*k2/3),                                                                          0,                                   0.5*J*exp(I*(-k1/2 + sqrt(3)*k2/6)) + 0.5*J*exp(I*(k1/2 + sqrt(3)*k2/6)),                                                                                                       -0.5*J,                             -5.55111512312578e-17*J*exp(-sqrt(3)*I*k2/3),                                                                          0],\n",
       "[                                                                                                         0,                                                                                   -0.5*J*exp(sqrt(3)*I*k2/3),                                                                        0,                                                                          0,                                                                                                          0,                                                                  -5.55111512312578e-17*J*exp(sqrt(3)*I*k2/3),                                                                   -0.5*J, 0.5*J*exp(-I*(k1/2 + sqrt(3)*k2/6)) + 0.5*J*exp(-I*(-k1/2 + sqrt(3)*k2/6))],\n",
       "[                                                                               -0.5*J*exp(-sqrt(3)*I*k2/3),                                                                                                            0,                                                                        0,                                                                          0,                                                               -5.55111512312578e-17*J*exp(-sqrt(3)*I*k2/3),                                                                                                            0, 0.5*J*exp(I*(-k1/2 + sqrt(3)*k2/6)) + 0.5*J*exp(I*(k1/2 + sqrt(3)*k2/6)),                                                                     -0.5*J]])"
      ]
     },
     "execution_count": 179,
     "metadata": {},
     "output_type": "execute_result"
    }
   ],
   "source": [
    "\n",
    "    # coupling energy scale in unit meV\n",
    "    # length scale in unit angstrom\n",
    "    # Here we use Sear's paprameter, for example:\n",
    "\n",
    "    # a=1. leave k1 and k2 arbitrary\n",
    "    # add_strg: add coupling strength\n",
    "\n",
    "Hlsw_J = Hlsw.subs([ (K, 0), (Gamma, 0), (gamma, 0), (h, 0), (a, 1)])\n",
    "Hlsw_J\n"
   ]
  },
  {
   "cell_type": "code",
   "execution_count": 180,
   "metadata": {},
   "outputs": [
    {
     "data": {
      "text/latex": [
       "$\\displaystyle \\left[\\begin{matrix}0 & 0 & 0 & 0 & 0 & 0 & 0 & 0\\\\0 & 0 & 0 & 0 & 0 & 0 & 0 & 0\\\\0 & 0 & 0 & 0 & 0 & 0 & 0 & 0\\\\0 & 0 & 0 & 0 & 0 & 0 & 0 & 0\\\\0 & 0 & 0 & 0 & 0 & 0 & 0 & 0\\\\0 & 0 & 0 & 0 & 0 & 0 & 0 & 0\\\\0 & 0 & 0 & 0 & 0 & 0 & 0 & 0\\\\0 & 0 & 0 & 0 & 0 & 0 & 0 & 0\\end{matrix}\\right]$"
      ],
      "text/plain": [
       "Matrix([\n",
       "[0, 0, 0, 0, 0, 0, 0, 0],\n",
       "[0, 0, 0, 0, 0, 0, 0, 0],\n",
       "[0, 0, 0, 0, 0, 0, 0, 0],\n",
       "[0, 0, 0, 0, 0, 0, 0, 0],\n",
       "[0, 0, 0, 0, 0, 0, 0, 0],\n",
       "[0, 0, 0, 0, 0, 0, 0, 0],\n",
       "[0, 0, 0, 0, 0, 0, 0, 0],\n",
       "[0, 0, 0, 0, 0, 0, 0, 0]])"
      ]
     },
     "execution_count": 180,
     "metadata": {},
     "output_type": "execute_result"
    }
   ],
   "source": [
    "sp.transpose(sp.conjugate(Hlsw_J))-Hlsw_J"
   ]
  },
  {
   "cell_type": "code",
   "execution_count": 181,
   "metadata": {},
   "outputs": [
    {
     "data": {
      "text/latex": [
       "$\\displaystyle \\left[\\begin{matrix}- 1.0 K & 0.0701650499153373 K e^{- i \\left(\\frac{k_{1}}{2} + \\frac{\\sqrt{3} k_{2}}{6}\\right)} + 0.429834950084663 K e^{- i \\left(- \\frac{k_{1}}{2} + \\frac{\\sqrt{3} k_{2}}{6}\\right)} & 0 & 0.5 K e^{\\frac{\\sqrt{3} i k_{2}}{3}} & 0 & 0.0701650499153373 K e^{- i \\left(\\frac{k_{1}}{2} + \\frac{\\sqrt{3} k_{2}}{6}\\right)} + 0.429834950084663 K e^{- i \\left(- \\frac{k_{1}}{2} + \\frac{\\sqrt{3} k_{2}}{6}\\right)} & 0 & - 0.5 K e^{\\frac{\\sqrt{3} i k_{2}}{3}}\\\\0.429834950084663 K e^{i \\left(- \\frac{k_{1}}{2} + \\frac{\\sqrt{3} k_{2}}{6}\\right)} + 0.0701650499153373 K e^{i \\left(\\frac{k_{1}}{2} + \\frac{\\sqrt{3} k_{2}}{6}\\right)} & - 1.0 K & 0.5 K e^{- \\frac{\\sqrt{3} i k_{2}}{3}} & 0 & 0.429834950084663 K e^{i \\left(- \\frac{k_{1}}{2} + \\frac{\\sqrt{3} k_{2}}{6}\\right)} + 0.0701650499153373 K e^{i \\left(\\frac{k_{1}}{2} + \\frac{\\sqrt{3} k_{2}}{6}\\right)} & 0 & - 0.5 K e^{- \\frac{\\sqrt{3} i k_{2}}{3}} & 0\\\\0 & 0.5 K e^{\\frac{\\sqrt{3} i k_{2}}{3}} & - 1.0 K & 0.0701650499153373 K e^{- i \\left(\\frac{k_{1}}{2} + \\frac{\\sqrt{3} k_{2}}{6}\\right)} + 0.429834950084663 K e^{- i \\left(- \\frac{k_{1}}{2} + \\frac{\\sqrt{3} k_{2}}{6}\\right)} & 0 & - 0.5 K e^{\\frac{\\sqrt{3} i k_{2}}{3}} & 0 & 0.0701650499153373 K e^{- i \\left(\\frac{k_{1}}{2} + \\frac{\\sqrt{3} k_{2}}{6}\\right)} + 0.429834950084663 K e^{- i \\left(- \\frac{k_{1}}{2} + \\frac{\\sqrt{3} k_{2}}{6}\\right)}\\\\0.5 K e^{- \\frac{\\sqrt{3} i k_{2}}{3}} & 0 & 0.429834950084663 K e^{i \\left(- \\frac{k_{1}}{2} + \\frac{\\sqrt{3} k_{2}}{6}\\right)} + 0.0701650499153373 K e^{i \\left(\\frac{k_{1}}{2} + \\frac{\\sqrt{3} k_{2}}{6}\\right)} & - 1.0 K & - 0.5 K e^{- \\frac{\\sqrt{3} i k_{2}}{3}} & 0 & 0.429834950084663 K e^{i \\left(- \\frac{k_{1}}{2} + \\frac{\\sqrt{3} k_{2}}{6}\\right)} + 0.0701650499153373 K e^{i \\left(\\frac{k_{1}}{2} + \\frac{\\sqrt{3} k_{2}}{6}\\right)} & 0\\\\0 & 0.0701650499153373 K e^{- i \\left(\\frac{k_{1}}{2} + \\frac{\\sqrt{3} k_{2}}{6}\\right)} + 0.429834950084663 K e^{- i \\left(- \\frac{k_{1}}{2} + \\frac{\\sqrt{3} k_{2}}{6}\\right)} & 0 & - 0.5 K e^{\\frac{\\sqrt{3} i k_{2}}{3}} & - 1.0 K & 0.0701650499153373 K e^{- i \\left(\\frac{k_{1}}{2} + \\frac{\\sqrt{3} k_{2}}{6}\\right)} + 0.429834950084663 K e^{- i \\left(- \\frac{k_{1}}{2} + \\frac{\\sqrt{3} k_{2}}{6}\\right)} & 0 & 0.5 K e^{\\frac{\\sqrt{3} i k_{2}}{3}}\\\\0.429834950084663 K e^{i \\left(- \\frac{k_{1}}{2} + \\frac{\\sqrt{3} k_{2}}{6}\\right)} + 0.0701650499153373 K e^{i \\left(\\frac{k_{1}}{2} + \\frac{\\sqrt{3} k_{2}}{6}\\right)} & 0 & - 0.5 K e^{- \\frac{\\sqrt{3} i k_{2}}{3}} & 0 & 0.429834950084663 K e^{i \\left(- \\frac{k_{1}}{2} + \\frac{\\sqrt{3} k_{2}}{6}\\right)} + 0.0701650499153373 K e^{i \\left(\\frac{k_{1}}{2} + \\frac{\\sqrt{3} k_{2}}{6}\\right)} & - 1.0 K & 0.5 K e^{- \\frac{\\sqrt{3} i k_{2}}{3}} & 0\\\\0 & - 0.5 K e^{\\frac{\\sqrt{3} i k_{2}}{3}} & 0 & 0.0701650499153373 K e^{- i \\left(\\frac{k_{1}}{2} + \\frac{\\sqrt{3} k_{2}}{6}\\right)} + 0.429834950084663 K e^{- i \\left(- \\frac{k_{1}}{2} + \\frac{\\sqrt{3} k_{2}}{6}\\right)} & 0 & 0.5 K e^{\\frac{\\sqrt{3} i k_{2}}{3}} & - 1.0 K & 0.0701650499153373 K e^{- i \\left(\\frac{k_{1}}{2} + \\frac{\\sqrt{3} k_{2}}{6}\\right)} + 0.429834950084663 K e^{- i \\left(- \\frac{k_{1}}{2} + \\frac{\\sqrt{3} k_{2}}{6}\\right)}\\\\- 0.5 K e^{- \\frac{\\sqrt{3} i k_{2}}{3}} & 0 & 0.429834950084663 K e^{i \\left(- \\frac{k_{1}}{2} + \\frac{\\sqrt{3} k_{2}}{6}\\right)} + 0.0701650499153373 K e^{i \\left(\\frac{k_{1}}{2} + \\frac{\\sqrt{3} k_{2}}{6}\\right)} & 0 & 0.5 K e^{- \\frac{\\sqrt{3} i k_{2}}{3}} & 0 & 0.429834950084663 K e^{i \\left(- \\frac{k_{1}}{2} + \\frac{\\sqrt{3} k_{2}}{6}\\right)} + 0.0701650499153373 K e^{i \\left(\\frac{k_{1}}{2} + \\frac{\\sqrt{3} k_{2}}{6}\\right)} & - 1.0 K\\end{matrix}\\right]$"
      ],
      "text/plain": [
       "Matrix([\n",
       "[                                                                                               -1.0*K, 0.0701650499153373*K*exp(-I*(k1/2 + sqrt(3)*k2/6)) + 0.429834950084663*K*exp(-I*(-k1/2 + sqrt(3)*k2/6)),                                                                                                     0,                                                                               0.5*K*exp(sqrt(3)*I*k2/3),                                                                                                     0, 0.0701650499153373*K*exp(-I*(k1/2 + sqrt(3)*k2/6)) + 0.429834950084663*K*exp(-I*(-k1/2 + sqrt(3)*k2/6)),                                                                                                     0,                                                                              -0.5*K*exp(sqrt(3)*I*k2/3)],\n",
       "[0.429834950084663*K*exp(I*(-k1/2 + sqrt(3)*k2/6)) + 0.0701650499153373*K*exp(I*(k1/2 + sqrt(3)*k2/6)),                                                                                                  -1.0*K,                                                                            0.5*K*exp(-sqrt(3)*I*k2/3),                                                                                                       0, 0.429834950084663*K*exp(I*(-k1/2 + sqrt(3)*k2/6)) + 0.0701650499153373*K*exp(I*(k1/2 + sqrt(3)*k2/6)),                                                                                                       0,                                                                           -0.5*K*exp(-sqrt(3)*I*k2/3),                                                                                                       0],\n",
       "[                                                                                                    0,                                                                               0.5*K*exp(sqrt(3)*I*k2/3),                                                                                                -1.0*K, 0.0701650499153373*K*exp(-I*(k1/2 + sqrt(3)*k2/6)) + 0.429834950084663*K*exp(-I*(-k1/2 + sqrt(3)*k2/6)),                                                                                                     0,                                                                              -0.5*K*exp(sqrt(3)*I*k2/3),                                                                                                     0, 0.0701650499153373*K*exp(-I*(k1/2 + sqrt(3)*k2/6)) + 0.429834950084663*K*exp(-I*(-k1/2 + sqrt(3)*k2/6))],\n",
       "[                                                                           0.5*K*exp(-sqrt(3)*I*k2/3),                                                                                                       0, 0.429834950084663*K*exp(I*(-k1/2 + sqrt(3)*k2/6)) + 0.0701650499153373*K*exp(I*(k1/2 + sqrt(3)*k2/6)),                                                                                                  -1.0*K,                                                                           -0.5*K*exp(-sqrt(3)*I*k2/3),                                                                                                       0, 0.429834950084663*K*exp(I*(-k1/2 + sqrt(3)*k2/6)) + 0.0701650499153373*K*exp(I*(k1/2 + sqrt(3)*k2/6)),                                                                                                       0],\n",
       "[                                                                                                    0, 0.0701650499153373*K*exp(-I*(k1/2 + sqrt(3)*k2/6)) + 0.429834950084663*K*exp(-I*(-k1/2 + sqrt(3)*k2/6)),                                                                                                     0,                                                                              -0.5*K*exp(sqrt(3)*I*k2/3),                                                                                                -1.0*K, 0.0701650499153373*K*exp(-I*(k1/2 + sqrt(3)*k2/6)) + 0.429834950084663*K*exp(-I*(-k1/2 + sqrt(3)*k2/6)),                                                                                                     0,                                                                               0.5*K*exp(sqrt(3)*I*k2/3)],\n",
       "[0.429834950084663*K*exp(I*(-k1/2 + sqrt(3)*k2/6)) + 0.0701650499153373*K*exp(I*(k1/2 + sqrt(3)*k2/6)),                                                                                                       0,                                                                           -0.5*K*exp(-sqrt(3)*I*k2/3),                                                                                                       0, 0.429834950084663*K*exp(I*(-k1/2 + sqrt(3)*k2/6)) + 0.0701650499153373*K*exp(I*(k1/2 + sqrt(3)*k2/6)),                                                                                                  -1.0*K,                                                                            0.5*K*exp(-sqrt(3)*I*k2/3),                                                                                                       0],\n",
       "[                                                                                                    0,                                                                              -0.5*K*exp(sqrt(3)*I*k2/3),                                                                                                     0, 0.0701650499153373*K*exp(-I*(k1/2 + sqrt(3)*k2/6)) + 0.429834950084663*K*exp(-I*(-k1/2 + sqrt(3)*k2/6)),                                                                                                     0,                                                                               0.5*K*exp(sqrt(3)*I*k2/3),                                                                                                -1.0*K, 0.0701650499153373*K*exp(-I*(k1/2 + sqrt(3)*k2/6)) + 0.429834950084663*K*exp(-I*(-k1/2 + sqrt(3)*k2/6))],\n",
       "[                                                                          -0.5*K*exp(-sqrt(3)*I*k2/3),                                                                                                       0, 0.429834950084663*K*exp(I*(-k1/2 + sqrt(3)*k2/6)) + 0.0701650499153373*K*exp(I*(k1/2 + sqrt(3)*k2/6)),                                                                                                       0,                                                                            0.5*K*exp(-sqrt(3)*I*k2/3),                                                                                                       0, 0.429834950084663*K*exp(I*(-k1/2 + sqrt(3)*k2/6)) + 0.0701650499153373*K*exp(I*(k1/2 + sqrt(3)*k2/6)),                                                                                                  -1.0*K]])"
      ]
     },
     "execution_count": 181,
     "metadata": {},
     "output_type": "execute_result"
    }
   ],
   "source": [
    "Hlsw_K = Hlsw.subs([ (J,0), (Gamma, 0), (gamma, 0), (h, 0), (a, 1)])\n",
    "Hlsw_K"
   ]
  },
  {
   "cell_type": "code",
   "execution_count": 182,
   "metadata": {},
   "outputs": [
    {
     "data": {
      "text/latex": [
       "$\\displaystyle \\left[\\begin{matrix}0 & 0 & 0 & 0 & 0 & 0 & 0 & 0\\\\0 & 0 & 0 & 0 & 0 & 0 & 0 & 0\\\\0 & 0 & 0 & 0 & 0 & 0 & 0 & 0\\\\0 & 0 & 0 & 0 & 0 & 0 & 0 & 0\\\\0 & 0 & 0 & 0 & 0 & 0 & 0 & 0\\\\0 & 0 & 0 & 0 & 0 & 0 & 0 & 0\\\\0 & 0 & 0 & 0 & 0 & 0 & 0 & 0\\\\0 & 0 & 0 & 0 & 0 & 0 & 0 & 0\\end{matrix}\\right]$"
      ],
      "text/plain": [
       "Matrix([\n",
       "[0, 0, 0, 0, 0, 0, 0, 0],\n",
       "[0, 0, 0, 0, 0, 0, 0, 0],\n",
       "[0, 0, 0, 0, 0, 0, 0, 0],\n",
       "[0, 0, 0, 0, 0, 0, 0, 0],\n",
       "[0, 0, 0, 0, 0, 0, 0, 0],\n",
       "[0, 0, 0, 0, 0, 0, 0, 0],\n",
       "[0, 0, 0, 0, 0, 0, 0, 0],\n",
       "[0, 0, 0, 0, 0, 0, 0, 0]])"
      ]
     },
     "execution_count": 182,
     "metadata": {},
     "output_type": "execute_result"
    }
   ],
   "source": [
    "sp.transpose(sp.conjugate(Hlsw_K))-Hlsw_K"
   ]
  },
  {
   "cell_type": "code",
   "execution_count": 183,
   "metadata": {
    "scrolled": true
   },
   "outputs": [
    {
     "data": {
      "text/latex": [
       "$\\displaystyle \\left[\\begin{matrix}0.347329185229499 Γ & 0 & 0 & 0.173664592614749 Γ e^{\\frac{\\sqrt{3} i k_{2}}{3}} & 0 & - 0.463591927283394 i Γ e^{- i \\left(\\frac{k_{1}}{2} + \\frac{\\sqrt{3} k_{2}}{6}\\right)} + 0.187303296707956 i Γ e^{- i \\left(- \\frac{k_{1}}{2} + \\frac{\\sqrt{3} k_{2}}{6}\\right)} & 0 & 0.173664592614749 Γ e^{\\frac{\\sqrt{3} i k_{2}}{3}}\\\\0 & 0.347329185229499 Γ & 0.173664592614749 Γ e^{- \\frac{\\sqrt{3} i k_{2}}{3}} & 0 & 0.187303296707956 i Γ e^{i \\left(- \\frac{k_{1}}{2} + \\frac{\\sqrt{3} k_{2}}{6}\\right)} - 0.463591927283394 i Γ e^{i \\left(\\frac{k_{1}}{2} + \\frac{\\sqrt{3} k_{2}}{6}\\right)} & 0 & 0.173664592614749 Γ e^{- \\frac{\\sqrt{3} i k_{2}}{3}} & 0\\\\0 & 0.173664592614749 Γ e^{\\frac{\\sqrt{3} i k_{2}}{3}} & 0.347329185229499 Γ & 0 & 0 & 0.173664592614749 Γ e^{\\frac{\\sqrt{3} i k_{2}}{3}} & 0 & 0.463591927283394 i Γ e^{- i \\left(\\frac{k_{1}}{2} + \\frac{\\sqrt{3} k_{2}}{6}\\right)} - 0.187303296707956 i Γ e^{- i \\left(- \\frac{k_{1}}{2} + \\frac{\\sqrt{3} k_{2}}{6}\\right)}\\\\0.173664592614749 Γ e^{- \\frac{\\sqrt{3} i k_{2}}{3}} & 0 & 0 & 0.347329185229499 Γ & 0.173664592614749 Γ e^{- \\frac{\\sqrt{3} i k_{2}}{3}} & 0 & - 0.187303296707956 i Γ e^{i \\left(- \\frac{k_{1}}{2} + \\frac{\\sqrt{3} k_{2}}{6}\\right)} + 0.463591927283394 i Γ e^{i \\left(\\frac{k_{1}}{2} + \\frac{\\sqrt{3} k_{2}}{6}\\right)} & 0\\\\0 & 0.463591927283394 i Γ e^{- i \\left(\\frac{k_{1}}{2} + \\frac{\\sqrt{3} k_{2}}{6}\\right)} - 0.187303296707956 i Γ e^{- i \\left(- \\frac{k_{1}}{2} + \\frac{\\sqrt{3} k_{2}}{6}\\right)} & 0 & 0.173664592614749 Γ e^{\\frac{\\sqrt{3} i k_{2}}{3}} & 0.347329185229499 Γ & 0 & 0 & 0.173664592614749 Γ e^{\\frac{\\sqrt{3} i k_{2}}{3}}\\\\- 0.187303296707956 i Γ e^{i \\left(- \\frac{k_{1}}{2} + \\frac{\\sqrt{3} k_{2}}{6}\\right)} + 0.463591927283394 i Γ e^{i \\left(\\frac{k_{1}}{2} + \\frac{\\sqrt{3} k_{2}}{6}\\right)} & 0 & 0.173664592614749 Γ e^{- \\frac{\\sqrt{3} i k_{2}}{3}} & 0 & 0 & 0.347329185229499 Γ & 0.173664592614749 Γ e^{- \\frac{\\sqrt{3} i k_{2}}{3}} & 0\\\\0 & 0.173664592614749 Γ e^{\\frac{\\sqrt{3} i k_{2}}{3}} & 0 & - 0.463591927283394 i Γ e^{- i \\left(\\frac{k_{1}}{2} + \\frac{\\sqrt{3} k_{2}}{6}\\right)} + 0.187303296707956 i Γ e^{- i \\left(- \\frac{k_{1}}{2} + \\frac{\\sqrt{3} k_{2}}{6}\\right)} & 0 & 0.173664592614749 Γ e^{\\frac{\\sqrt{3} i k_{2}}{3}} & 0.347329185229499 Γ & 0\\\\0.173664592614749 Γ e^{- \\frac{\\sqrt{3} i k_{2}}{3}} & 0 & 0.187303296707956 i Γ e^{i \\left(- \\frac{k_{1}}{2} + \\frac{\\sqrt{3} k_{2}}{6}\\right)} - 0.463591927283394 i Γ e^{i \\left(\\frac{k_{1}}{2} + \\frac{\\sqrt{3} k_{2}}{6}\\right)} & 0 & 0.173664592614749 Γ e^{- \\frac{\\sqrt{3} i k_{2}}{3}} & 0 & 0 & 0.347329185229499 Γ\\end{matrix}\\right]$"
      ],
      "text/plain": [
       "Matrix([\n",
       "[                                                                                      0.347329185229499*Γ,                                                                                                          0,                                                                                                        0,                                                                     0.173664592614749*Γ*exp(sqrt(3)*I*k2/3),                                                                                                        0, -0.463591927283394*I*Γ*exp(-I*(k1/2 + sqrt(3)*k2/6)) + 0.187303296707956*I*Γ*exp(-I*(-k1/2 + sqrt(3)*k2/6)),                                                                                                         0,                                                                    0.173664592614749*Γ*exp(sqrt(3)*I*k2/3)],\n",
       "[                                                                                                        0,                                                                                        0.347329185229499*Γ,                                                                 0.173664592614749*Γ*exp(-sqrt(3)*I*k2/3),                                                                                                           0, 0.187303296707956*I*Γ*exp(I*(-k1/2 + sqrt(3)*k2/6)) - 0.463591927283394*I*Γ*exp(I*(k1/2 + sqrt(3)*k2/6)),                                                                                                           0,                                                                  0.173664592614749*Γ*exp(-sqrt(3)*I*k2/3),                                                                                                          0],\n",
       "[                                                                                                        0,                                                                    0.173664592614749*Γ*exp(sqrt(3)*I*k2/3),                                                                                      0.347329185229499*Γ,                                                                                                           0,                                                                                                        0,                                                                     0.173664592614749*Γ*exp(sqrt(3)*I*k2/3),                                                                                                         0, 0.463591927283394*I*Γ*exp(-I*(k1/2 + sqrt(3)*k2/6)) - 0.187303296707956*I*Γ*exp(-I*(-k1/2 + sqrt(3)*k2/6))],\n",
       "[                                                                 0.173664592614749*Γ*exp(-sqrt(3)*I*k2/3),                                                                                                          0,                                                                                                        0,                                                                                         0.347329185229499*Γ,                                                                 0.173664592614749*Γ*exp(-sqrt(3)*I*k2/3),                                                                                                           0, -0.187303296707956*I*Γ*exp(I*(-k1/2 + sqrt(3)*k2/6)) + 0.463591927283394*I*Γ*exp(I*(k1/2 + sqrt(3)*k2/6)),                                                                                                          0],\n",
       "[                                                                                                        0, 0.463591927283394*I*Γ*exp(-I*(k1/2 + sqrt(3)*k2/6)) - 0.187303296707956*I*Γ*exp(-I*(-k1/2 + sqrt(3)*k2/6)),                                                                                                        0,                                                                     0.173664592614749*Γ*exp(sqrt(3)*I*k2/3),                                                                                      0.347329185229499*Γ,                                                                                                           0,                                                                                                         0,                                                                    0.173664592614749*Γ*exp(sqrt(3)*I*k2/3)],\n",
       "[-0.187303296707956*I*Γ*exp(I*(-k1/2 + sqrt(3)*k2/6)) + 0.463591927283394*I*Γ*exp(I*(k1/2 + sqrt(3)*k2/6)),                                                                                                          0,                                                                 0.173664592614749*Γ*exp(-sqrt(3)*I*k2/3),                                                                                                           0,                                                                                                        0,                                                                                         0.347329185229499*Γ,                                                                  0.173664592614749*Γ*exp(-sqrt(3)*I*k2/3),                                                                                                          0],\n",
       "[                                                                                                        0,                                                                    0.173664592614749*Γ*exp(sqrt(3)*I*k2/3),                                                                                                        0, -0.463591927283394*I*Γ*exp(-I*(k1/2 + sqrt(3)*k2/6)) + 0.187303296707956*I*Γ*exp(-I*(-k1/2 + sqrt(3)*k2/6)),                                                                                                        0,                                                                     0.173664592614749*Γ*exp(sqrt(3)*I*k2/3),                                                                                       0.347329185229499*Γ,                                                                                                          0],\n",
       "[                                                                 0.173664592614749*Γ*exp(-sqrt(3)*I*k2/3),                                                                                                          0, 0.187303296707956*I*Γ*exp(I*(-k1/2 + sqrt(3)*k2/6)) - 0.463591927283394*I*Γ*exp(I*(k1/2 + sqrt(3)*k2/6)),                                                                                                           0,                                                                 0.173664592614749*Γ*exp(-sqrt(3)*I*k2/3),                                                                                                           0,                                                                                                         0,                                                                                        0.347329185229499*Γ]])"
      ]
     },
     "execution_count": 183,
     "metadata": {},
     "output_type": "execute_result"
    }
   ],
   "source": [
    "Hlsw_Gamma = Hlsw.subs([(J,0), (K, 0), (gamma, 0), (h, 0), (a, 1)])\n",
    "Hlsw_Gamma"
   ]
  },
  {
   "cell_type": "code",
   "execution_count": 184,
   "metadata": {},
   "outputs": [
    {
     "data": {
      "text/latex": [
       "$\\displaystyle \\left[\\begin{matrix}0 & 0 & 0 & 0 & 0 & 0 & 0 & 0\\\\0 & 0 & 0 & 0 & 0 & 0 & 0 & 0\\\\0 & 0 & 0 & 0 & 0 & 0 & 0 & 0\\\\0 & 0 & 0 & 0 & 0 & 0 & 0 & 0\\\\0 & 0 & 0 & 0 & 0 & 0 & 0 & 0\\\\0 & 0 & 0 & 0 & 0 & 0 & 0 & 0\\\\0 & 0 & 0 & 0 & 0 & 0 & 0 & 0\\\\0 & 0 & 0 & 0 & 0 & 0 & 0 & 0\\end{matrix}\\right]$"
      ],
      "text/plain": [
       "Matrix([\n",
       "[0, 0, 0, 0, 0, 0, 0, 0],\n",
       "[0, 0, 0, 0, 0, 0, 0, 0],\n",
       "[0, 0, 0, 0, 0, 0, 0, 0],\n",
       "[0, 0, 0, 0, 0, 0, 0, 0],\n",
       "[0, 0, 0, 0, 0, 0, 0, 0],\n",
       "[0, 0, 0, 0, 0, 0, 0, 0],\n",
       "[0, 0, 0, 0, 0, 0, 0, 0],\n",
       "[0, 0, 0, 0, 0, 0, 0, 0]])"
      ]
     },
     "execution_count": 184,
     "metadata": {},
     "output_type": "execute_result"
    }
   ],
   "source": [
    "sp.transpose(sp.conjugate(Hlsw_Gamma))-Hlsw_Gamma"
   ]
  },
  {
   "cell_type": "code",
   "execution_count": 185,
   "metadata": {
    "scrolled": true
   },
   "outputs": [
    {
     "data": {
      "text/latex": [
       "$\\displaystyle \\left[\\begin{matrix}- 0.694658370458998 Γ' & - 0.173664592614749 Γ' e^{- i \\left(\\frac{k_{1}}{2} + \\frac{\\sqrt{3} k_{2}}{6}\\right)} - 0.173664592614749 Γ' e^{- i \\left(- \\frac{k_{1}}{2} + \\frac{\\sqrt{3} k_{2}}{6}\\right)} & 0 & 0.276288630575438 i Γ' e^{\\frac{\\sqrt{3} i k_{2}}{3}} & 0 & 0.5 \\left(- 0.347329185229499 Γ' - 0.927183854566787 i Γ'\\right) e^{- i \\left(- \\frac{k_{1}}{2} + \\frac{\\sqrt{3} k_{2}}{6}\\right)} + 0.5 \\left(- 0.347329185229499 Γ' + 0.374606593415912 i Γ'\\right) e^{- i \\left(\\frac{k_{1}}{2} + \\frac{\\sqrt{3} k_{2}}{6}\\right)} & 0 & - 5.55111512312578 \\cdot 10^{-17} i Γ' e^{\\frac{\\sqrt{3} i k_{2}}{3}}\\\\- 0.173664592614749 Γ' e^{i \\left(- \\frac{k_{1}}{2} + \\frac{\\sqrt{3} k_{2}}{6}\\right)} - 0.173664592614749 Γ' e^{i \\left(\\frac{k_{1}}{2} + \\frac{\\sqrt{3} k_{2}}{6}\\right)} & - 0.694658370458998 Γ' & 0.276288630575438 i Γ' e^{- \\frac{\\sqrt{3} i k_{2}}{3}} & 0 & 0.5 \\left(- 0.347329185229499 Γ' - 0.927183854566787 i Γ'\\right) e^{i \\left(- \\frac{k_{1}}{2} + \\frac{\\sqrt{3} k_{2}}{6}\\right)} + 0.5 \\left(- 0.347329185229499 Γ' + 0.374606593415912 i Γ'\\right) e^{i \\left(\\frac{k_{1}}{2} + \\frac{\\sqrt{3} k_{2}}{6}\\right)} & 0 & - 5.55111512312578 \\cdot 10^{-17} i Γ' e^{- \\frac{\\sqrt{3} i k_{2}}{3}} & 0\\\\0 & - 0.276288630575438 i Γ' e^{\\frac{\\sqrt{3} i k_{2}}{3}} & - 0.694658370458998 Γ' & - 0.173664592614749 Γ' e^{- i \\left(\\frac{k_{1}}{2} + \\frac{\\sqrt{3} k_{2}}{6}\\right)} - 0.173664592614749 Γ' e^{- i \\left(- \\frac{k_{1}}{2} + \\frac{\\sqrt{3} k_{2}}{6}\\right)} & 0 & - 5.55111512312578 \\cdot 10^{-17} i Γ' e^{\\frac{\\sqrt{3} i k_{2}}{3}} & 0 & 0.5 \\left(- 0.347329185229499 Γ' - 0.374606593415912 i Γ'\\right) e^{- i \\left(\\frac{k_{1}}{2} + \\frac{\\sqrt{3} k_{2}}{6}\\right)} + 0.5 \\left(- 0.347329185229499 Γ' + 0.927183854566787 i Γ'\\right) e^{- i \\left(- \\frac{k_{1}}{2} + \\frac{\\sqrt{3} k_{2}}{6}\\right)}\\\\- 0.276288630575438 i Γ' e^{- \\frac{\\sqrt{3} i k_{2}}{3}} & 0 & - 0.173664592614749 Γ' e^{i \\left(- \\frac{k_{1}}{2} + \\frac{\\sqrt{3} k_{2}}{6}\\right)} - 0.173664592614749 Γ' e^{i \\left(\\frac{k_{1}}{2} + \\frac{\\sqrt{3} k_{2}}{6}\\right)} & - 0.694658370458998 Γ' & - 5.55111512312578 \\cdot 10^{-17} i Γ' e^{- \\frac{\\sqrt{3} i k_{2}}{3}} & 0 & 0.5 \\left(- 0.347329185229499 Γ' - 0.374606593415912 i Γ'\\right) e^{i \\left(\\frac{k_{1}}{2} + \\frac{\\sqrt{3} k_{2}}{6}\\right)} + 0.5 \\left(- 0.347329185229499 Γ' + 0.927183854566787 i Γ'\\right) e^{i \\left(- \\frac{k_{1}}{2} + \\frac{\\sqrt{3} k_{2}}{6}\\right)} & 0\\\\0 & 0.5 \\left(- 0.347329185229499 Γ' - 0.374606593415912 i Γ'\\right) e^{- i \\left(\\frac{k_{1}}{2} + \\frac{\\sqrt{3} k_{2}}{6}\\right)} + 0.5 \\left(- 0.347329185229499 Γ' + 0.927183854566787 i Γ'\\right) e^{- i \\left(- \\frac{k_{1}}{2} + \\frac{\\sqrt{3} k_{2}}{6}\\right)} & 0 & 5.55111512312578 \\cdot 10^{-17} i Γ' e^{\\frac{\\sqrt{3} i k_{2}}{3}} & - 0.694658370458998 Γ' & - 0.173664592614749 Γ' e^{- i \\left(\\frac{k_{1}}{2} + \\frac{\\sqrt{3} k_{2}}{6}\\right)} - 0.173664592614749 Γ' e^{- i \\left(- \\frac{k_{1}}{2} + \\frac{\\sqrt{3} k_{2}}{6}\\right)} & 0 & 0.276288630575438 i Γ' e^{\\frac{\\sqrt{3} i k_{2}}{3}}\\\\0.5 \\left(- 0.347329185229499 Γ' - 0.374606593415912 i Γ'\\right) e^{i \\left(\\frac{k_{1}}{2} + \\frac{\\sqrt{3} k_{2}}{6}\\right)} + 0.5 \\left(- 0.347329185229499 Γ' + 0.927183854566787 i Γ'\\right) e^{i \\left(- \\frac{k_{1}}{2} + \\frac{\\sqrt{3} k_{2}}{6}\\right)} & 0 & 5.55111512312578 \\cdot 10^{-17} i Γ' e^{- \\frac{\\sqrt{3} i k_{2}}{3}} & 0 & - 0.173664592614749 Γ' e^{i \\left(- \\frac{k_{1}}{2} + \\frac{\\sqrt{3} k_{2}}{6}\\right)} - 0.173664592614749 Γ' e^{i \\left(\\frac{k_{1}}{2} + \\frac{\\sqrt{3} k_{2}}{6}\\right)} & - 0.694658370458998 Γ' & 0.276288630575438 i Γ' e^{- \\frac{\\sqrt{3} i k_{2}}{3}} & 0\\\\0 & 5.55111512312578 \\cdot 10^{-17} i Γ' e^{\\frac{\\sqrt{3} i k_{2}}{3}} & 0 & 0.5 \\left(- 0.347329185229499 Γ' - 0.927183854566787 i Γ'\\right) e^{- i \\left(- \\frac{k_{1}}{2} + \\frac{\\sqrt{3} k_{2}}{6}\\right)} + 0.5 \\left(- 0.347329185229499 Γ' + 0.374606593415912 i Γ'\\right) e^{- i \\left(\\frac{k_{1}}{2} + \\frac{\\sqrt{3} k_{2}}{6}\\right)} & 0 & - 0.276288630575438 i Γ' e^{\\frac{\\sqrt{3} i k_{2}}{3}} & - 0.694658370458998 Γ' & - 0.173664592614749 Γ' e^{- i \\left(\\frac{k_{1}}{2} + \\frac{\\sqrt{3} k_{2}}{6}\\right)} - 0.173664592614749 Γ' e^{- i \\left(- \\frac{k_{1}}{2} + \\frac{\\sqrt{3} k_{2}}{6}\\right)}\\\\5.55111512312578 \\cdot 10^{-17} i Γ' e^{- \\frac{\\sqrt{3} i k_{2}}{3}} & 0 & 0.5 \\left(- 0.347329185229499 Γ' - 0.927183854566787 i Γ'\\right) e^{i \\left(- \\frac{k_{1}}{2} + \\frac{\\sqrt{3} k_{2}}{6}\\right)} + 0.5 \\left(- 0.347329185229499 Γ' + 0.374606593415912 i Γ'\\right) e^{i \\left(\\frac{k_{1}}{2} + \\frac{\\sqrt{3} k_{2}}{6}\\right)} & 0 & - 0.276288630575438 i Γ' e^{- \\frac{\\sqrt{3} i k_{2}}{3}} & 0 & - 0.173664592614749 Γ' e^{i \\left(- \\frac{k_{1}}{2} + \\frac{\\sqrt{3} k_{2}}{6}\\right)} - 0.173664592614749 Γ' e^{i \\left(\\frac{k_{1}}{2} + \\frac{\\sqrt{3} k_{2}}{6}\\right)} & - 0.694658370458998 Γ'\\end{matrix}\\right]$"
      ],
      "text/plain": [
       "Matrix([\n",
       "[                                                                                                                                                 -0.694658370458998*Γ',                                                                -0.173664592614749*Γ'*exp(-I*(k1/2 + sqrt(3)*k2/6)) - 0.173664592614749*Γ'*exp(-I*(-k1/2 + sqrt(3)*k2/6)),                                                                                                                                                                      0,                                                                                                                               0.276288630575438*I*Γ'*exp(sqrt(3)*I*k2/3),                                                                                                                                                                      0, 0.5*(-0.347329185229499*Γ' - 0.927183854566787*I*Γ')*exp(-I*(-k1/2 + sqrt(3)*k2/6)) + 0.5*(-0.347329185229499*Γ' + 0.374606593415912*I*Γ')*exp(-I*(k1/2 + sqrt(3)*k2/6)),                                                                                                                                                                      0,                                                                                                                           -5.55111512312578e-17*I*Γ'*exp(sqrt(3)*I*k2/3)],\n",
       "[                                                               -0.173664592614749*Γ'*exp(I*(-k1/2 + sqrt(3)*k2/6)) - 0.173664592614749*Γ'*exp(I*(k1/2 + sqrt(3)*k2/6)),                                                                                                                                                    -0.694658370458998*Γ',                                                                                                                            0.276288630575438*I*Γ'*exp(-sqrt(3)*I*k2/3),                                                                                                                                                                        0, 0.5*(-0.347329185229499*Γ' - 0.927183854566787*I*Γ')*exp(I*(-k1/2 + sqrt(3)*k2/6)) + 0.5*(-0.347329185229499*Γ' + 0.374606593415912*I*Γ')*exp(I*(k1/2 + sqrt(3)*k2/6)),                                                                                                                                                                        0,                                                                                                                        -5.55111512312578e-17*I*Γ'*exp(-sqrt(3)*I*k2/3),                                                                                                                                                                        0],\n",
       "[                                                                                                                                                                     0,                                                                                                                              -0.276288630575438*I*Γ'*exp(sqrt(3)*I*k2/3),                                                                                                                                                  -0.694658370458998*Γ',                                                                -0.173664592614749*Γ'*exp(-I*(k1/2 + sqrt(3)*k2/6)) - 0.173664592614749*Γ'*exp(-I*(-k1/2 + sqrt(3)*k2/6)),                                                                                                                                                                      0,                                                                                                                           -5.55111512312578e-17*I*Γ'*exp(sqrt(3)*I*k2/3),                                                                                                                                                                      0, 0.5*(-0.347329185229499*Γ' - 0.374606593415912*I*Γ')*exp(-I*(k1/2 + sqrt(3)*k2/6)) + 0.5*(-0.347329185229499*Γ' + 0.927183854566787*I*Γ')*exp(-I*(-k1/2 + sqrt(3)*k2/6))],\n",
       "[                                                                                                                          -0.276288630575438*I*Γ'*exp(-sqrt(3)*I*k2/3),                                                                                                                                                                        0,                                                                -0.173664592614749*Γ'*exp(I*(-k1/2 + sqrt(3)*k2/6)) - 0.173664592614749*Γ'*exp(I*(k1/2 + sqrt(3)*k2/6)),                                                                                                                                                    -0.694658370458998*Γ',                                                                                                                        -5.55111512312578e-17*I*Γ'*exp(-sqrt(3)*I*k2/3),                                                                                                                                                                        0, 0.5*(-0.347329185229499*Γ' - 0.374606593415912*I*Γ')*exp(I*(k1/2 + sqrt(3)*k2/6)) + 0.5*(-0.347329185229499*Γ' + 0.927183854566787*I*Γ')*exp(I*(-k1/2 + sqrt(3)*k2/6)),                                                                                                                                                                        0],\n",
       "[                                                                                                                                                                     0, 0.5*(-0.347329185229499*Γ' - 0.374606593415912*I*Γ')*exp(-I*(k1/2 + sqrt(3)*k2/6)) + 0.5*(-0.347329185229499*Γ' + 0.927183854566787*I*Γ')*exp(-I*(-k1/2 + sqrt(3)*k2/6)),                                                                                                                                                                      0,                                                                                                                            5.55111512312578e-17*I*Γ'*exp(sqrt(3)*I*k2/3),                                                                                                                                                  -0.694658370458998*Γ',                                                                -0.173664592614749*Γ'*exp(-I*(k1/2 + sqrt(3)*k2/6)) - 0.173664592614749*Γ'*exp(-I*(-k1/2 + sqrt(3)*k2/6)),                                                                                                                                                                      0,                                                                                                                               0.276288630575438*I*Γ'*exp(sqrt(3)*I*k2/3)],\n",
       "[0.5*(-0.347329185229499*Γ' - 0.374606593415912*I*Γ')*exp(I*(k1/2 + sqrt(3)*k2/6)) + 0.5*(-0.347329185229499*Γ' + 0.927183854566787*I*Γ')*exp(I*(-k1/2 + sqrt(3)*k2/6)),                                                                                                                                                                        0,                                                                                                                         5.55111512312578e-17*I*Γ'*exp(-sqrt(3)*I*k2/3),                                                                                                                                                                        0,                                                                -0.173664592614749*Γ'*exp(I*(-k1/2 + sqrt(3)*k2/6)) - 0.173664592614749*Γ'*exp(I*(k1/2 + sqrt(3)*k2/6)),                                                                                                                                                    -0.694658370458998*Γ',                                                                                                                            0.276288630575438*I*Γ'*exp(-sqrt(3)*I*k2/3),                                                                                                                                                                        0],\n",
       "[                                                                                                                                                                     0,                                                                                                                            5.55111512312578e-17*I*Γ'*exp(sqrt(3)*I*k2/3),                                                                                                                                                                      0, 0.5*(-0.347329185229499*Γ' - 0.927183854566787*I*Γ')*exp(-I*(-k1/2 + sqrt(3)*k2/6)) + 0.5*(-0.347329185229499*Γ' + 0.374606593415912*I*Γ')*exp(-I*(k1/2 + sqrt(3)*k2/6)),                                                                                                                                                                      0,                                                                                                                              -0.276288630575438*I*Γ'*exp(sqrt(3)*I*k2/3),                                                                                                                                                  -0.694658370458998*Γ',                                                                -0.173664592614749*Γ'*exp(-I*(k1/2 + sqrt(3)*k2/6)) - 0.173664592614749*Γ'*exp(-I*(-k1/2 + sqrt(3)*k2/6))],\n",
       "[                                                                                                                        5.55111512312578e-17*I*Γ'*exp(-sqrt(3)*I*k2/3),                                                                                                                                                                        0, 0.5*(-0.347329185229499*Γ' - 0.927183854566787*I*Γ')*exp(I*(-k1/2 + sqrt(3)*k2/6)) + 0.5*(-0.347329185229499*Γ' + 0.374606593415912*I*Γ')*exp(I*(k1/2 + sqrt(3)*k2/6)),                                                                                                                                                                        0,                                                                                                                           -0.276288630575438*I*Γ'*exp(-sqrt(3)*I*k2/3),                                                                                                                                                                        0,                                                                -0.173664592614749*Γ'*exp(I*(-k1/2 + sqrt(3)*k2/6)) - 0.173664592614749*Γ'*exp(I*(k1/2 + sqrt(3)*k2/6)),                                                                                                                                                    -0.694658370458998*Γ']])"
      ]
     },
     "execution_count": 185,
     "metadata": {},
     "output_type": "execute_result"
    }
   ],
   "source": [
    "Hlsw_gamma = Hlsw.subs([(J,0), (K, 0), (Gamma, 0), (h, 0), (a, 1)])\n",
    "Hlsw_gamma"
   ]
  },
  {
   "cell_type": "code",
   "execution_count": 186,
   "metadata": {
    "scrolled": true
   },
   "outputs": [
    {
     "data": {
      "text/latex": [
       "$\\displaystyle \\left[\\begin{matrix}0 & 0 & 0 & 0 & 0 & 0 & 0 & 0\\\\0 & 0 & 0 & 0 & 0 & 0 & 0 & 0\\\\0 & 0 & 0 & 0 & 0 & 0 & 0 & 0\\\\0 & 0 & 0 & 0 & 0 & 0 & 0 & 0\\\\0 & 0 & 0 & 0 & 0 & 0 & 0 & 0\\\\0 & 0 & 0 & 0 & 0 & 0 & 0 & 0\\\\0 & 0 & 0 & 0 & 0 & 0 & 0 & 0\\\\0 & 0 & 0 & 0 & 0 & 0 & 0 & 0\\end{matrix}\\right]$"
      ],
      "text/plain": [
       "Matrix([\n",
       "[0, 0, 0, 0, 0, 0, 0, 0],\n",
       "[0, 0, 0, 0, 0, 0, 0, 0],\n",
       "[0, 0, 0, 0, 0, 0, 0, 0],\n",
       "[0, 0, 0, 0, 0, 0, 0, 0],\n",
       "[0, 0, 0, 0, 0, 0, 0, 0],\n",
       "[0, 0, 0, 0, 0, 0, 0, 0],\n",
       "[0, 0, 0, 0, 0, 0, 0, 0],\n",
       "[0, 0, 0, 0, 0, 0, 0, 0]])"
      ]
     },
     "execution_count": 186,
     "metadata": {},
     "output_type": "execute_result"
    }
   ],
   "source": [
    "sp.transpose(sp.conjugate(Hlsw_gamma))-Hlsw_gamma"
   ]
  },
  {
   "cell_type": "code",
   "execution_count": 187,
   "metadata": {},
   "outputs": [],
   "source": [
    "import SpinModel_afm as smk"
   ]
  },
  {
   "cell_type": "code",
   "execution_count": 188,
   "metadata": {},
   "outputs": [],
   "source": [
    "bb = 4 * np.pi / np.sqrt(3)"
   ]
  },
  {
   "cell_type": "code",
   "execution_count": 189,
   "metadata": {},
   "outputs": [],
   "source": [
    "cp_strg = [1, 0, 0, 0, 0]\n",
    "Hlsw_num = Hlsw.subs([(J,cp_strg[0]), (K, cp_strg[1]), (Gamma, cp_strg[2]), (gamma, cp_strg[3]), (h, cp_strg[4]), (a, 1)])"
   ]
  },
  {
   "cell_type": "code",
   "execution_count": 190,
   "metadata": {
    "scrolled": true
   },
   "outputs": [
    {
     "data": {
      "text/plain": [
       "(array([ 1.41421356e+00+2.08270834e-33j,  1.41421356e+00+8.99887803e-18j,\n",
       "         1.32040134e-08+1.91844575e-10j, -7.94783769e-18-3.45763371e-09j,\n",
       "        -7.94784704e-18+3.45763371e-09j, -1.32040131e-08-1.91844538e-10j,\n",
       "        -1.41421356e+00+0.00000000e+00j, -1.41421356e+00+4.16333634e-17j]),\n",
       " array([[ 1.19573156e-01-2.08165340e-19j, -4.77072140e-03-3.59510770e-18j,\n",
       "          9.14588233e-02-2.48760390e-03j,  5.00000000e-01-3.45763374e-09j,\n",
       "          5.00000000e-01+3.45763369e-09j,  9.14588194e-02-2.48760347e-03j,\n",
       "          6.96923425e-01+0.00000000e+00j,  6.92914193e-02+3.24803528e-03j],\n",
       "        [-1.19573156e-01-2.94390513e-19j,  4.77072140e-03+3.92315779e-18j,\n",
       "          9.14588233e-02-2.48760390e-03j,  5.00000000e-01-3.45763376e-09j,\n",
       "          5.00000000e-01+3.45763368e-09j,  9.14588194e-02-2.48760347e-03j,\n",
       "         -6.96923425e-01+1.50766819e-18j, -6.92914193e-02-3.24803528e-03j],\n",
       "        [ 9.61961521e-17+2.05291190e-18j, -1.19477947e-01-4.11318725e-17j,\n",
       "          4.91557832e-01+0.00000000e+00j, -7.14184738e-17+1.47283858e-18j,\n",
       "         -7.14184738e-17+1.47283927e-18j,  4.91557819e-01-1.88605574e-10j,\n",
       "         -5.06635796e-17+3.52223997e-19j, -6.93462623e-01-8.11646534e-18j],\n",
       "        [ 4.79129782e-17-2.05291190e-18j,  1.19477947e-01+5.68044206e-17j,\n",
       "          4.91557832e-01-4.24772834e-16j,  1.85695652e-18-1.47283873e-18j,\n",
       "          1.85695652e-18-1.47283912e-18j,  4.91557819e-01-1.88605890e-10j,\n",
       "          4.57687495e-17-3.52223997e-19j,  6.93462623e-01+0.00000000e+00j],\n",
       "        [-1.73966262e-16+3.52223997e-19j, -6.96368507e-01-1.69005931e-16j,\n",
       "          4.91557819e-01-1.88605240e-10j, -1.24810170e-16+2.52699209e-19j,\n",
       "         -1.24810170e-16+2.52699209e-19j,  4.91557832e-01+0.00000000e+00j,\n",
       "         -2.98478918e-17+6.04320838e-20j, -1.18979376e-01+1.45680872e-17j],\n",
       "        [ 2.32166868e-16-3.52223997e-19j,  6.96368507e-01+0.00000000e+00j,\n",
       "          4.91557819e-01-1.88605516e-10j, -5.54790545e-17-2.52699209e-19j,\n",
       "         -5.54790545e-17-2.52699209e-19j,  4.91557832e-01-2.40444621e-16j,\n",
       "          3.98335370e-17-6.04320838e-20j,  1.18979376e-01-1.67397555e-17j],\n",
       "        [ 6.96923425e-01+0.00000000e+00j, -2.78058020e-02-2.24228090e-17j,\n",
       "          9.14588209e-02-2.48760387e-03j,  5.00000000e-01+0.00000000e+00j,\n",
       "          5.00000000e-01+0.00000000e+00j,  9.14588218e-02-2.48760350e-03j,\n",
       "          1.19573156e-01+6.24496806e-19j,  1.18885280e-02+5.57274752e-04j],\n",
       "        [-6.96923425e-01-5.02556023e-19j,  2.78058020e-02+2.16077812e-17j,\n",
       "          9.14588209e-02-2.48760387e-03j,  5.00000000e-01-2.12836070e-17j,\n",
       "          5.00000000e-01-4.90381765e-20j,  9.14588218e-02-2.48760350e-03j,\n",
       "         -1.19573156e-01+8.83171693e-19j, -1.18885280e-02-5.57274752e-04j]]))"
      ]
     },
     "execution_count": 190,
     "metadata": {},
     "output_type": "execute_result"
    }
   ],
   "source": [
    "smk.bdg(Hlsw_num, 0,0)"
   ]
  },
  {
   "cell_type": "code",
   "execution_count": 191,
   "metadata": {},
   "outputs": [
    {
     "data": {
      "text/plain": [
       "(array([ 1.18886967e-08+9.80607023e-10j,  3.04899810e-09-7.43746009e-09j,\n",
       "         2.72727399e-09-2.59253847e-09j,  1.11151984e-09+1.11151955e-09j,\n",
       "        -1.11152008e-09-1.11151946e-09j, -2.72727394e-09+2.59253855e-09j,\n",
       "        -3.04899773e-09+7.43745991e-09j, -1.18886967e-08-9.80606868e-10j]),\n",
       " array([[ 2.42112115e-01+3.11655169e-02j,  2.93565482e-01-3.43949221e-01j,\n",
       "         -6.37426444e-01+1.16901150e-01j, -6.95507193e-01+1.27552904e-01j,\n",
       "          7.07106782e-01+0.00000000e+00j,  6.48057375e-01+0.00000000e+00j,\n",
       "         -2.26705815e-01+3.91262391e-01j, -2.43762303e-01+1.30195963e-02j],\n",
       "        [-6.15851950e-01-1.12944486e-01j,  5.66194087e-02-3.34259314e-02j,\n",
       "         -4.93434931e-02-3.07401148e-02j,  1.41705825e-08+6.22918977e-09j,\n",
       "         -1.12514942e-08-7.07910553e-09j,  4.29889408e-02+3.91367548e-02j,\n",
       "         -4.96609957e-02+4.30910170e-02j,  6.26123074e-01+0.00000000e+00j],\n",
       "        [-1.94809739e-01+6.49067082e-02j, -2.28035159e-01+4.02044156e-02j,\n",
       "          3.68786691e-02-4.48337672e-02j,  4.20323666e-10-1.50049550e-09j,\n",
       "          1.35816239e-09+6.44015602e-10j, -4.43611181e-02+3.74458629e-02j,\n",
       "          2.17042036e-01-8.06794883e-02j,  1.79905691e-01-9.89831034e-02j],\n",
       "        [ 9.53116038e-03+7.82673847e-02j, -4.79424725e-01-8.79243532e-02j,\n",
       "         -8.23514455e-02+2.57856643e-01j, -7.24597839e-09-7.44891963e-09j,\n",
       "          9.07230876e-09+7.70250928e-09j,  1.27514494e-01-2.38771563e-01j,\n",
       "          4.87420499e-01+0.00000000e+00j, -2.34932102e-02-7.52641673e-02j],\n",
       "        [-2.34932310e-02-7.52641676e-02j,  4.87420518e-01+0.00000000e+00j,\n",
       "          3.44865293e-02-2.68481822e-01j,  8.47080189e-09+6.01964473e-09j,\n",
       "         -1.03129169e-08-5.93962802e-09j, -8.23514130e-02+2.57856645e-01j,\n",
       "         -4.79424708e-01+8.79243354e-02j,  3.66845007e-02+6.97916393e-02j],\n",
       "        [ 2.03322357e-01-2.87008068e-02j,  2.31546761e-01+1.58969432e-03j,\n",
       "         -4.43611314e-02+3.74458673e-02j, -6.84098543e-10+1.40005995e-09j,\n",
       "         -1.21971060e-09-8.78445831e-10j,  5.03881537e-02-2.88294186e-02j,\n",
       "         -2.28035148e-01+4.02044233e-02j, -1.94809730e-01+6.49066985e-02j],\n",
       "        [ 6.26123071e-01+0.00000000e+00j, -4.96610020e-02+4.30910114e-02j,\n",
       "          5.40791668e-02+2.13349179e-02j, -1.50617893e-08-3.57081483e-09j,\n",
       "          1.23439003e-08+4.93335395e-09j, -4.93435007e-02-3.07400961e-02j,\n",
       "          4.10732814e-02-5.13423386e-02j, -6.15851952e-01+1.12944489e-01j],\n",
       "        [-2.32518586e-01-7.43281596e-02j, -3.50793729e-01+2.85351574e-01j,\n",
       "          6.48057370e-01+0.00000000e+00j,  7.07106782e-01+0.00000000e+00j,\n",
       "         -6.95507194e-01-1.27552901e-01j, -6.37426448e-01-1.16901157e-01j,\n",
       "          2.93565536e-01-3.43949210e-01j,  2.42112115e-01+3.11655411e-02j]]))"
      ]
     },
     "execution_count": 191,
     "metadata": {},
     "output_type": "execute_result"
    }
   ],
   "source": [
    "smk.bdg(Hlsw_num,np.sqrt(3)*bb / 4,-2 * np.pi/20)"
   ]
  },
  {
   "cell_type": "code",
   "execution_count": 192,
   "metadata": {},
   "outputs": [
    {
     "data": {
      "text/plain": [
       "(array([ 8.15732883e-09+1.92339027e-09j,  4.00934708e-09-5.19675525e-10j,\n",
       "         1.61629977e-09+1.61630064e-09j,  8.08564169e-10-1.05291545e-08j,\n",
       "        -8.08564011e-10+1.05291545e-08j, -1.61629983e-09-1.61630060e-09j,\n",
       "        -4.00934735e-09+5.19675278e-10j, -8.15732896e-09-1.92339039e-09j]),\n",
       " array([[ 1.57298935e-02-1.65739974e-01j, -6.08529528e-01+2.30971657e-01j,\n",
       "         -6.61088997e-01+2.50920976e-01j, -3.21765194e-01+1.75003796e-02j,\n",
       "          2.94614962e-01-1.30541703e-01j,  7.07106782e-01+0.00000000e+00j,\n",
       "          6.50888699e-01+0.00000000e+00j, -7.35200448e-02+1.49371934e-01j],\n",
       "        [-2.34867842e-01+3.46198122e-01j,  1.49445448e-01+6.61789093e-02j,\n",
       "         -1.36604618e-08+9.14851006e-10j, -4.40444139e-01-1.67173678e-01j,\n",
       "          4.71103044e-01+0.00000000e+00j,  4.09534177e-09+9.97197077e-09j,\n",
       "         -1.16235713e-01-1.14903655e-01j,  3.42433333e-01-2.40323665e-01j],\n",
       "        [-4.62255100e-01+1.75452173e-01j,  1.21574169e-02+1.01502128e-01j,\n",
       "          6.63269062e-10-1.74811154e-09j,  3.39622703e-01-8.14402449e-02j,\n",
       "         -2.88620855e-01+1.96657296e-01j, -3.60110882e-09-2.02900434e-09j,\n",
       "          2.46524091e-02-9.92106146e-02j,  4.94432250e-01+0.00000000e+00j],\n",
       "        [-8.07105361e-02+2.15149594e-01j, -3.51221785e-02+1.94798001e-01j,\n",
       "          6.05387399e-09-9.04316935e-09j,  1.57092865e-01+1.66037815e-01j,\n",
       "         -2.05788918e-01-9.94868939e-02j, -2.36521069e-08-2.60220154e-09j,\n",
       "          1.01961678e-01-1.69657429e-01j,  1.51805078e-01-1.72507258e-01j],\n",
       "        [-8.89112574e-04-2.29788489e-01j, -3.62887462e-02-1.94584059e-01j,\n",
       "         -2.45087261e-09+1.06029017e-08j, -2.05788915e-01-9.94869190e-02j,\n",
       "          2.27699892e-01+1.99869937e-02j,  2.30362583e-08-5.96023540e-09j,\n",
       "         -3.51221861e-02+1.94797994e-01j, -8.07105484e-02+2.15149579e-01j],\n",
       "        [ 4.94432250e-01+0.00000000e+00j,  2.46523986e-02-9.92106050e-02j,\n",
       "         -1.24043177e-09+1.39898132e-09j, -3.46419955e-01-4.43768964e-02j,\n",
       "          3.39622699e-01-8.14402369e-02j,  2.64674829e-09+3.17483332e-09j,\n",
       "         -5.82535218e-02+8.40060377e-02j, -4.62255101e-01-1.75452169e-01j],\n",
       "        [ 9.67324604e-02-4.07012137e-01j, -1.63203666e-01-8.84046329e-03j,\n",
       "          1.24468128e-08-5.70280808e-09j,  4.71103045e-01+0.00000000e+00j,\n",
       "         -4.40444145e-01+1.67173659e-01j, -7.36743323e-09-7.86974919e-09j,\n",
       "          1.49445445e-01+6.61789209e-02j, -2.34867861e-01+3.46198113e-01j],\n",
       "        [-7.35200084e-02+1.49371944e-01j,  6.50888700e-01+0.00000000e+00j,\n",
       "          7.07106782e-01+0.00000000e+00j,  3.07035160e-01+9.78187804e-02j,\n",
       "         -3.21765209e-01+1.75003352e-02j, -6.61088999e-01-2.50920972e-01j,\n",
       "         -6.08529527e-01-2.30971658e-01j,  1.21740937e-01-1.13561943e-01j]]))"
      ]
     },
     "execution_count": 192,
     "metadata": {},
     "output_type": "execute_result"
    }
   ],
   "source": [
    "smk.bdg(Hlsw_num,np.sqrt(3)*bb / 4,-2 * np.pi/10)"
   ]
  },
  {
   "cell_type": "code",
   "execution_count": 193,
   "metadata": {},
   "outputs": [
    {
     "name": "stdout",
     "output_type": "stream",
     "text": [
      "0.0 0\n",
      "0.20943951023931953 0\n",
      "0.41887902047863906 0\n",
      "0.6283185307179586 0\n",
      "0.8377580409572781 0\n",
      "1.0471975511965976 0\n",
      "1.2566370614359172 0\n",
      "1.4660765716752366 0\n",
      "1.6755160819145563 0\n",
      "1.8849555921538759 0\n",
      "2.0943951023931953 0\n",
      "2.3038346126325147 0\n",
      "2.5132741228718345 0\n",
      "2.722713633111154 0\n",
      "2.9321531433504733 0\n",
      "3.141592653589793 0.0\n",
      "3.141592653589793 -0.20943951023931953\n",
      "3.141592653589793 -0.41887902047863906\n",
      "3.141592653589793 -0.6283185307179586\n",
      "3.141592653589793 -0.8377580409572781\n",
      "3.141592653589793 -1.0471975511965976\n",
      "3.141592653589793 -1.2566370614359172\n",
      "3.141592653589793 -1.4660765716752366\n",
      "3.141592653589793 -1.6755160819145563\n",
      "3.141592653589793 1.8137993642342178\n",
      "2.9321531433504737 1.8137993642342178\n",
      "2.722713633111154 1.8137993642342178\n",
      "2.5132741228718345 1.8137993642342178\n",
      "2.303834612632515 1.8137993642342178\n",
      "2.0943951023931957 1.8137993642342178\n",
      "1.8849555921538759 1.8137993642342178\n",
      "1.6755160819145565 1.8137993642342178\n",
      "1.4660765716752369 1.8137993642342178\n",
      "1.2566370614359172 1.8137993642342178\n",
      "1.0471975511965979 1.8137993642342178\n",
      "0.8377580409572785 1.8137993642342178\n",
      "0.6283185307179586 1.8137993642342178\n",
      "0.41887902047863923 1.8137993642342178\n",
      "0.20943951023931984 1.8137993642342178\n",
      "0 1.8137993642342178\n",
      "0 1.6043598539948982\n",
      "0 1.3949203437555788\n",
      "0 1.1854808335162592\n",
      "0 0.9760413232769397\n",
      "0 0.7666018130376202\n",
      "0 0.5571623027983006\n",
      "0 0.3477227925589812\n",
      "0 0.13828328231966158\n",
      "0.0 0.0\n",
      "0.18137993642342176 0.10471975511965977\n",
      "0.3627598728468435 0.20943951023931953\n",
      "0.5441398092702653 0.3141592653589793\n",
      "0.725519745693687 0.41887902047863906\n",
      "0.9068996821171088 0.5235987755982988\n",
      "1.0882796185405306 0.6283185307179586\n",
      "1.2696595549639522 0.7330382858376183\n",
      "1.451039491387374 0.8377580409572781\n",
      "1.632419427810796 0.9424777960769379\n",
      "1.8137993642342176 1.0471975511965976\n",
      "1.9951793006576393 1.1519173063162573\n",
      "2.176559237081061 1.2566370614359172\n",
      "2.357939173504483 1.361356816555577\n",
      "2.5393191099279044 1.4660765716752366\n",
      "2.7206990463513265 1.5707963267948966\n",
      "2.902078982774748 1.6755160819145563\n",
      "3.08345891919817 1.780235837034216\n",
      "[[ 1.41421356e+00+2.08270834e-33j  1.41421356e+00+8.99887803e-18j\n",
      "   1.32040134e-08+1.91844575e-10j -7.94783769e-18-3.45763371e-09j\n",
      "  -7.94784704e-18+3.45763371e-09j -1.32040131e-08-1.91844538e-10j\n",
      "  -1.41421356e+00+0.00000000e+00j -1.41421356e+00+4.16333634e-17j]\n",
      " [ 1.40840182e+00+2.06811564e-17j  1.40840182e+00+4.49413394e-22j\n",
      "   1.90668684e-16+7.38112119e-02j  1.76039152e-16-7.38112119e-02j\n",
      "  -1.98329908e-16+7.38112119e-02j -2.41272780e-16-7.38112119e-02j\n",
      "  -1.40840182e+00+2.77555756e-17j -1.40840182e+00+0.00000000e+00j]\n",
      " [ 1.39101414e+00-1.58510358e-16j  1.39101414e+00+9.00091297e-22j\n",
      "   2.16469864e-16+1.46201477e-01j  1.57150287e-16-1.46201477e-01j\n",
      "  -4.51265747e-16+1.46201477e-01j -4.91283916e-16-1.46201477e-01j\n",
      "  -1.39101414e+00+8.32667268e-17j -1.39101414e+00+1.52655666e-16j]\n",
      " [ 1.36219125e+00+1.80458166e-21j  1.36219125e+00-2.19279889e-16j\n",
      "  -4.57861703e-17-2.15749899e-01j -6.36924366e-17+2.15749899e-01j\n",
      "  -1.71647695e-16+2.15749899e-01j -3.29148904e-16-2.15749899e-01j\n",
      "  -1.36219125e+00+0.00000000e+00j -1.36219125e+00+2.08166817e-16j]\n",
      " [ 1.32216140e+00+1.81115494e-21j  1.32216140e+00-2.93385108e-16j\n",
      "   5.27626115e-17+2.81034081e-01j  2.82597116e-17-2.81034081e-01j\n",
      "  -1.87270779e-16-2.81034081e-01j -2.42510057e-16+2.81034081e-01j\n",
      "  -1.32216140e+00+8.32667268e-17j -1.32216140e+00-5.55111512e-17j]\n",
      " [ 1.27122988e+00-3.16695455e-16j  1.27122988e+00+1.82039227e-21j\n",
      "   1.57142425e-16-3.40625019e-01j  7.69078498e-17+3.40625019e-01j\n",
      "   4.62113015e-17+3.40625019e-01j  7.03460863e-18-3.40625019e-01j\n",
      "  -1.27122988e+00+0.00000000e+00j -1.27122988e+00+2.77555756e-17j]\n",
      " [ 1.20976258e+00-5.29686971e-16j  1.20976258e+00+3.66610951e-21j\n",
      "   2.07710849e-16-3.93075689e-01j  4.83333685e-17+3.93075689e-01j\n",
      "  -8.85081667e-17-3.93075689e-01j -1.33086957e-16+3.93075689e-01j\n",
      "  -1.20976258e+00+2.22044605e-16j -1.20976258e+00+2.49800181e-16j]\n",
      " [ 1.13816038e+00+7.75204553e-16j  1.13816038e+00+3.70065464e-21j\n",
      "   2.98646957e-16-4.36898837e-01j  2.69329372e-16-4.36898837e-01j\n",
      "   1.27767435e-16+4.36898837e-01j  4.87511172e-17+4.36898837e-01j\n",
      "  -1.13816038e+00+3.88578059e-16j -1.13816038e+00-2.77555756e-16j]\n",
      " [ 1.05681899e+00-1.53306187e-16j  1.05681899e+00+3.74819966e-21j\n",
      "   2.45012513e-16-4.70526129e-01j  2.12535397e-16+4.70526129e-01j\n",
      "  -4.62683277e-17-4.70526129e-01j -6.44900639e-17+4.70526129e-01j\n",
      "  -1.05681899e+00+5.55111512e-17j -1.05681899e+00-2.22044605e-16j]\n",
      " [ 9.66062501e-01+3.81503245e-21j  9.66062501e-01-1.97324795e-17j\n",
      "   2.60034486e-16-4.92233430e-01j  1.85613346e-16+4.92233430e-01j\n",
      "  -1.71867916e-16+4.92233430e-01j -1.98192157e-16-4.92233430e-01j\n",
      "  -9.66062501e-01+1.66533454e-16j -9.66062501e-01-3.05311332e-16j]\n",
      " [ 8.66025404e-01+3.91227760e-21j  8.66025404e-01+8.41340886e-17j\n",
      "   1.43082273e-16+5.00000000e-01j  4.68724651e-18-5.00000000e-01j\n",
      "  -5.34918247e-17-5.00000000e-01j -6.31193070e-17+5.00000000e-01j\n",
      "  -8.66025404e-01+5.55111512e-17j -8.66025404e-01-8.32667268e-17j]\n",
      " [ 7.56420082e-01+3.11613257e-16j  7.56420082e-01+4.06142475e-21j\n",
      "   6.52650443e-17+4.91224945e-01j -2.90971772e-17-4.91224945e-01j\n",
      "  -2.39322319e-16+4.91224945e-01j -2.41749979e-16-4.91224945e-01j\n",
      "  -7.56420082e-01-6.93889390e-17j -7.56420082e-01+2.22044605e-16j]\n",
      " [ 6.36009825e-01+3.53920829e-17j  6.36009825e-01-1.38777878e-17j\n",
      "   1.28876164e-16-4.62088186e-01j -4.12945502e-17+4.62088186e-01j\n",
      "  -1.11022302e-16-4.62088186e-01j -1.38262840e-16+4.62088186e-01j\n",
      "  -6.36009825e-01+1.87350135e-16j -6.36009825e-01-8.03491629e-18j]\n",
      " [ 5.01137668e-01+4.78610621e-21j  5.01137668e-01+4.89134422e-17j\n",
      "   5.94359631e-16-4.05813282e-01j  5.35390013e-16+4.05813282e-01j\n",
      "  -7.16173115e-17+4.05813282e-01j -2.15973073e-16-4.05813282e-01j\n",
      "  -5.01137668e-01-1.66533454e-16j -5.01137668e-01+0.00000000e+00j]\n",
      " [ 3.39786202e-01+0.00000000e+00j  3.39786202e-01-3.73046283e-16j\n",
      "   1.03773843e-16-3.05944870e-01j  4.02876385e-17+3.05944870e-01j\n",
      "  -5.20417043e-17+3.05944870e-01j -7.28583860e-17-3.05944870e-01j\n",
      "  -3.39786202e-01-2.27625804e-16j -3.39786202e-01+1.38777878e-16j]\n",
      " [ 9.48892345e-09+5.38958429e-17j  6.02682231e-09-2.64060365e-16j\n",
      "   1.42812049e-16-8.13320785e-09j  3.36875948e-17+8.13320789e-09j\n",
      "   3.27436296e-17+8.86028347e-09j  3.27436286e-17-8.86028347e-09j\n",
      "  -6.02682309e-09+2.15468604e-16j -9.48892299e-09-4.80686147e-17j]\n",
      " [ 8.67941786e-09+4.69504710e-09j  8.10786534e-09-5.07008994e-09j\n",
      "   2.09762704e-09+8.76895505e-09j  2.36925338e-10-6.26964474e-09j\n",
      "  -2.36925683e-10+6.26964474e-09j -2.09762716e-09-8.76895524e-09j\n",
      "  -8.10786521e-09+5.07009017e-09j -8.67941777e-09-4.69504720e-09j]\n",
      " [ 1.35550312e-08+4.51834373e-09j  8.44854865e-09-2.98933723e-09j\n",
      "   6.28160847e-09-4.54201145e-10j  3.46728628e-09+3.98157733e-09j\n",
      "  -3.46728562e-09-3.98157708e-09j -6.28160929e-09+4.54201145e-10j\n",
      "  -8.44854866e-09+2.98933740e-09j -1.35550322e-08-4.51834410e-09j]\n",
      " [ 8.15732883e-09+1.92339027e-09j  4.00934708e-09-5.19675525e-10j\n",
      "   1.61629977e-09+1.61630064e-09j  8.08564169e-10-1.05291545e-08j\n",
      "  -8.08564011e-10+1.05291545e-08j -1.61629983e-09-1.61630060e-09j\n",
      "  -4.00934735e-09+5.19675278e-10j -8.15732896e-09-1.92339039e-09j]\n",
      " [ 6.25957723e-09+5.07486540e-09j  4.35842335e-09+2.67697011e-10j\n",
      "   4.25645085e-09+9.41164263e-09j  1.16776986e-09+1.16777064e-09j\n",
      "  -1.16777062e-09-1.16777082e-09j -4.25645043e-09-9.41164247e-09j\n",
      "  -4.35842346e-09-2.67697088e-10j -6.25957727e-09-5.07486556e-09j]\n",
      " [ 7.39516464e-09+1.01640234e-08j  6.92035965e-09-4.75533527e-09j\n",
      "   3.30534982e-09-2.54627870e-09j  5.25972656e-10+5.25983829e-10j\n",
      "  -5.25972923e-10-5.25983848e-10j -3.30534972e-09+2.54627884e-09j\n",
      "  -6.92035967e-09+4.75533574e-09j -7.39516496e-09-1.01640234e-08j]\n",
      " [ 6.93379749e-09+7.14386411e-09j  3.90123619e-09+7.96530681e-09j\n",
      "   2.94534461e-09+1.82032283e-09j  2.51507694e-09+2.51507780e-09j\n",
      "  -2.51507744e-09-2.51507789e-09j -2.94534404e-09-1.82032280e-09j\n",
      "  -3.90123637e-09-7.96530697e-09j -6.93379757e-09-7.14386408e-09j]\n",
      " [ 1.01913263e-08+3.98864907e-10j  5.22175425e-10-3.90616547e-09j\n",
      "   3.69474882e-10+3.18450659e-09j  1.57608558e-10+1.13287328e-08j\n",
      "  -1.57608455e-10-1.13287328e-08j -3.69474898e-10-3.18450667e-09j\n",
      "  -5.22175162e-10+3.90616553e-09j -1.01913264e-08-3.98864871e-10j]\n",
      " [ 1.12506485e-08-1.87667288e-09j  8.91091478e-09-6.30133115e-09j\n",
      "   6.54390138e-09+1.88953378e-09j  4.07929706e-09-5.23620536e-09j\n",
      "  -4.07929715e-09+5.23620527e-09j -6.54390200e-09-1.88953377e-09j\n",
      "  -8.91091471e-09+6.30133118e-09j -1.12506482e-08+1.87667316e-09j]\n",
      " [ 3.91255470e-09-3.91255484e-09j  3.82622845e-09-4.98842057e-09j\n",
      "   2.74697879e-09+6.86744759e-09j  2.02558988e-09+8.03931550e-09j\n",
      "  -2.02559016e-09-8.03931550e-09j -2.74697803e-09-6.86744752e-09j\n",
      "  -3.82622849e-09+4.98842053e-09j -3.91255493e-09+3.91255481e-09j]\n",
      " [ 1.04528473e-01+3.11144858e-10j  1.04528467e-01-7.94805860e-09j\n",
      "   1.04528459e-01+7.94805860e-09j  1.04528453e-01-3.11144929e-10j\n",
      "  -1.04528454e-01-2.29309736e-09j -1.04528460e-01-4.51314647e-10j\n",
      "  -1.04528467e-01+4.51314729e-10j -1.04528472e-01+2.29309747e-09j]\n",
      " [ 2.07911703e-01-7.88691821e-11j  2.07911701e-01-2.04207660e-09j\n",
      "   2.07911681e-01+2.04207662e-09j  2.07911679e-01+7.88690597e-11j\n",
      "  -2.07911684e-01-4.16059968e-09j -2.07911684e-01-4.41151941e-09j\n",
      "  -2.07911697e-01+4.41151905e-09j -2.07911698e-01+4.16060013e-09j]\n",
      " [ 3.09017007e-01+2.60218749e-09j  3.09017007e-01-2.09737556e-09j\n",
      "   3.09016982e-01+2.09737550e-09j  3.09016982e-01-2.60218744e-09j\n",
      "  -3.09016990e-01-4.52344916e-09j -3.09016991e-01-5.03928017e-09j\n",
      "  -3.09016998e-01+5.03928033e-09j -3.09016998e-01+4.52344883e-09j]\n",
      " [ 4.06736645e-01-1.20700490e-08j  4.06736645e-01-1.27077085e-08j\n",
      "   4.06736641e-01+1.27077085e-08j  4.06736641e-01+1.20700488e-08j\n",
      "  -4.06736630e-01+3.72565769e-09j -4.06736630e-01-8.15530266e-09j\n",
      "  -4.06736656e-01+8.15530282e-09j -4.06736656e-01-3.72565775e-09j]\n",
      " [ 5.00000004e-01-5.25923446e-09j  5.00000003e-01-5.62987712e-09j\n",
      "   4.99999997e-01+5.62987697e-09j  4.99999996e-01+5.25923477e-09j\n",
      "  -4.99999987e-01+1.01421526e-08j -4.99999987e-01+1.10217774e-09j\n",
      "  -5.00000013e-01-1.10217775e-09j -5.00000013e-01-1.01421523e-08j]\n",
      " [ 5.87785253e-01+1.52162499e-08j  5.87785253e-01+9.60040403e-09j\n",
      "   5.87785252e-01-9.60040409e-09j  5.87785252e-01-1.52162503e-08j\n",
      "  -5.87785240e-01+1.24646119e-09j -5.87785252e-01-7.23067486e-09j\n",
      "  -5.87785253e-01+7.23067495e-09j -5.87785264e-01-1.24646092e-09j]\n",
      " [ 6.69130611e-01-2.17035688e-08j  6.69130609e-01-2.06739935e-08j\n",
      "   6.69130604e-01+2.06739935e-08j  6.69130602e-01+2.17035685e-08j\n",
      "  -6.69130599e-01+1.52547538e-08j -6.69130606e-01+1.40636852e-08j\n",
      "  -6.69130607e-01-1.40636847e-08j -6.69130614e-01-1.52547546e-08j]\n",
      " [ 7.43144851e-01+6.54102417e-09j  7.43144830e-01-1.56532280e-08j\n",
      "   7.43144821e-01+1.56532281e-08j  7.43144800e-01-6.54102408e-09j\n",
      "  -7.43144820e-01-9.24675381e-09j -7.43144823e-01+6.18458603e-09j\n",
      "  -7.43144828e-01-6.18458679e-09j -7.43144831e-01+9.24675441e-09j]\n",
      " [ 8.09016997e-01-1.14892101e-08j  8.09016995e-01-2.64810661e-08j\n",
      "   8.09016994e-01+2.64810663e-08j  8.09016992e-01+1.14892102e-08j\n",
      "  -8.09016969e-01-1.25681188e-09j -8.09016992e-01-7.61934988e-09j\n",
      "  -8.09016997e-01+7.61935015e-09j -8.09017020e-01+1.25681167e-09j]\n",
      " [ 8.66025415e-01-1.81506061e-08j  8.66025405e-01+1.89734011e-08j\n",
      "   8.66025403e-01-1.89734011e-08j  8.66025392e-01+1.81506065e-08j\n",
      "  -8.66025397e-01-3.40255391e-09j -8.66025402e-01+1.27713645e-08j\n",
      "  -8.66025405e-01-1.27713649e-08j -8.66025410e-01+3.40255369e-09j]\n",
      " [ 9.13545473e-01-4.49431214e-10j  9.13545470e-01+8.17671558e-09j\n",
      "   9.13545445e-01-8.17671530e-09j  9.13545442e-01+4.49431353e-10j\n",
      "  -9.13545445e-01+1.42117981e-08j -9.13545455e-01+1.54904791e-08j\n",
      "  -9.13545461e-01-1.54904792e-08j -9.13545470e-01-1.42117981e-08j]\n",
      " [ 9.51056540e-01-2.13777107e-10j  9.51056523e-01-1.52749248e-08j\n",
      "   9.51056510e-01+1.52749245e-08j  9.51056493e-01+2.13777181e-10j\n",
      "  -9.51056495e-01-3.84769037e-09j -9.51056503e-01-2.60097349e-09j\n",
      "  -9.51056530e-01+2.60097362e-09j -9.51056538e-01+3.84769024e-09j]\n",
      " [ 9.78147604e-01-1.84651998e-08j  9.78147604e-01-1.01527599e-08j\n",
      "   9.78147598e-01+1.01527599e-08j  9.78147597e-01+1.84651997e-08j\n",
      "  -9.78147596e-01+4.62505263e-09j -9.78147596e-01+4.62291253e-09j\n",
      "  -9.78147606e-01-4.62420599e-09j -9.78147606e-01-4.62375971e-09j]\n",
      " [ 9.94521928e-01+9.73648789e-09j  9.94521896e-01+2.24810522e-08j\n",
      "   9.94521895e-01-2.24810523e-08j  9.94521863e-01-9.73648709e-09j\n",
      "  -9.94521888e-01-5.63192648e-09j -9.94521892e-01-5.18301176e-09j\n",
      "  -9.94521899e-01+5.18301193e-09j -9.94521903e-01+5.63192628e-09j]\n",
      " [ 1.00000000e+00+1.39458023e-08j  1.00000000e+00+1.61635841e-08j\n",
      "   1.00000000e+00-1.61635841e-08j  9.99999996e-01-1.39458018e-08j\n",
      "  -9.99999982e-01+1.38054906e-09j -9.99999992e-01+1.91223307e-09j\n",
      "  -1.00000001e+00-1.91223317e-09j -1.00000002e+00-1.38054907e-09j]\n",
      " [ 1.08645619e+00+1.68617071e-16j  1.08645619e+00+6.65609912e-16j\n",
      "   9.05324779e-01-5.42444546e-16j  9.05324779e-01-2.73718614e-16j\n",
      "  -9.05324779e-01+1.67906391e-17j -9.05324779e-01-3.20295395e-16j\n",
      "  -1.08645619e+00+5.57287569e-16j -1.08645619e+00+2.88942647e-16j]\n",
      " [ 1.16398275e+00-7.35522754e-16j  1.16398275e+00-6.08887940e-16j\n",
      "   8.03208662e-01+7.34333520e-16j  8.03208662e-01+7.47631937e-16j\n",
      "  -8.03208662e-01+1.30257017e-16j -8.03208662e-01-6.28321283e-16j\n",
      "  -1.16398275e+00+1.20913142e-15j -1.16398275e+00-5.09631761e-16j]\n",
      " [ 1.23194250e+00-9.71445147e-17j  1.23194250e+00+2.41234983e-16j\n",
      "   6.94490946e-01-1.93480536e-16j  6.94490946e-01-3.22062255e-16j\n",
      "  -6.94490946e-01-2.42266303e-17j -6.94490946e-01-2.11245245e-16j\n",
      "  -1.23194250e+00-1.22145171e-16j -1.23194250e+00+4.26949971e-16j]\n",
      " [ 1.28977687e+00+2.42427606e-16j  1.28977687e+00-3.20600200e-16j\n",
      "   5.80065184e-01+3.51165868e-16j  5.80065184e-01-1.84289805e-16j\n",
      "  -5.80065184e-01-3.36945127e-16j -5.80065184e-01+3.02939042e-17j\n",
      "  -1.28977687e+00+3.55499103e-18j -1.28977687e+00+3.69496100e-16j]\n",
      " [ 1.33701052e+00-2.42861287e-16j  1.33701052e+00-2.72351586e-16j\n",
      "   4.60871846e-01-4.45512579e-17j  4.60871846e-01+3.86082700e-16j\n",
      "  -4.60871846e-01+4.63512929e-16j -4.60871846e-01+1.42661380e-16j\n",
      "  -1.33701052e+00-2.35554480e-17j -1.33701052e+00-1.66533454e-16j]\n",
      " [ 1.37325524e+00-5.56793097e-17j  1.37325524e+00-1.53631448e-16j\n",
      "   3.37890587e-01-5.15125471e-17j  3.37890587e-01-1.96514371e-17j\n",
      "  -3.37890587e-01-1.94289029e-16j -3.37890587e-01+2.65816772e-16j\n",
      "  -1.37325524e+00+1.58602807e-16j -1.37325524e+00-3.04888591e-16j]\n",
      " [ 1.39821312e+00-7.89299182e-17j  1.39821312e+00+5.93275429e-16j\n",
      "   2.12132193e-01+1.07769696e-16j  2.12132193e-01-1.24900090e-16j\n",
      "  -2.12132193e-01+1.59373246e-16j -2.12132193e-01+1.38777878e-16j\n",
      "  -1.39821312e+00+4.44089210e-16j -1.39821312e+00+0.00000000e+00j]\n",
      " [ 1.41167904e+00-1.13841228e-18j  1.41167904e+00-6.65977466e-17j\n",
      "   8.46302767e-02-4.10117809e-16j  8.46302767e-02+6.31779734e-17j\n",
      "  -8.46302767e-02-1.35144407e-16j -8.46302767e-02+4.31010654e-16j\n",
      "  -1.41167904e+00-2.79622517e-17j -1.41167904e+00-1.24900090e-16j]\n",
      " [ 1.41421356e+00+2.08270834e-33j  1.41421356e+00+8.99887803e-18j\n",
      "   1.32040134e-08+1.91844575e-10j -7.94783769e-18-3.45763371e-09j\n",
      "  -7.94784704e-18+3.45763371e-09j -1.32040131e-08-1.91844538e-10j\n",
      "  -1.41421356e+00+0.00000000e+00j -1.41421356e+00+4.16333634e-17j]\n",
      " [ 1.40840183e+00+2.97505076e-16j  1.40840183e+00-3.64291930e-17j\n",
      "   1.14692566e-08+3.29641603e-09j  2.51916557e-09+8.39179459e-09j\n",
      "  -2.51916547e-09-8.39179466e-09j -1.14692565e-08-3.29641587e-09j\n",
      "  -1.40840183e+00-2.22044605e-16j -1.40840183e+00-2.08166817e-17j]\n",
      " [ 1.39101439e+00-2.92517746e-16j  1.39101439e+00+1.73472348e-17j\n",
      "   4.99423471e-09+1.04792364e-08j  4.67786159e-12-1.21195783e-08j\n",
      "  -4.67847911e-12+1.21195783e-08j -4.99423485e-09-1.04792361e-08j\n",
      "  -1.39101439e+00+5.55111512e-17j -1.39101439e+00-6.93889390e-17j]\n",
      " [ 1.36219415e+00+2.01878445e-16j  1.36219415e+00+1.78676518e-16j\n",
      "   5.58894744e-09+3.56337562e-09j  2.32092400e-09-6.94728553e-09j\n",
      "  -2.32092367e-09+6.94728554e-09j -5.58894754e-09-3.56337555e-09j\n",
      "  -1.36219415e+00+1.11022302e-16j -1.36219415e+00+1.11022302e-16j]\n",
      " [ 1.32217800e+00+9.58434720e-17j  1.32217800e+00+1.94289029e-16j\n",
      "   7.48742743e-09-1.46591622e-09j  2.43161592e-10+1.24805454e-08j\n",
      "  -2.43162183e-10-1.24805453e-08j -7.48742682e-09+1.46591651e-09j\n",
      "  -1.32217800e+00-7.01695646e-16j -1.32217800e+00-5.55111512e-17j]\n",
      " [ 1.27129482e+00-1.32272665e-17j  1.27129482e+00+1.40512602e-16j\n",
      "   1.64692800e-09+3.85931794e-09j  9.21337904e-10+7.91338816e-09j\n",
      "  -9.21337969e-10-7.91338849e-09j -1.64692839e-09-3.85931798e-09j\n",
      "  -1.27129482e+00-7.45931095e-17j -1.27129482e+00+1.94289029e-16j]\n",
      " [ 1.20996282e+00+6.93889390e-18j  1.20996282e+00+1.94289029e-16j\n",
      "   1.29507422e-08-4.06111728e-09j  1.20136144e-08+2.34177270e-09j\n",
      "  -1.20136145e-08-2.34177267e-09j -1.29507415e-08+4.06111690e-09j\n",
      "  -1.20996282e+00+3.32883948e-17j -1.20996282e+00+5.20417043e-18j]\n",
      " [ 1.13868609e+00-1.73472348e-16j  1.13868609e+00+1.56965370e-16j\n",
      "   9.67060512e-09+5.33557333e-09j  2.09067352e-09+7.94587497e-09j\n",
      "  -2.09067333e-09-7.94587500e-09j -9.67060534e-09-5.33557309e-09j\n",
      "  -1.13868609e+00+6.93889390e-18j -1.13868609e+00-3.46944695e-17j]\n",
      " [ 1.05805047e+00+8.32667268e-17j  1.05805047e+00+5.63785130e-17j\n",
      "   7.95080355e-09+9.04545283e-09j  4.64511470e-09-1.24577377e-08j\n",
      "  -4.64511509e-09+1.24577379e-08j -7.95080344e-09-9.04545271e-09j\n",
      "  -1.05805047e+00+3.46944695e-17j -1.05805047e+00-2.81025203e-16j]\n",
      " [ 9.68718686e-01+1.05471187e-15j  9.68718686e-01+7.63278329e-17j\n",
      "   1.38502286e-08-9.39398037e-09j  5.41687460e-09-8.00733440e-09j\n",
      "  -5.41687499e-09+8.00733451e-09j -1.38502282e-08+9.39398001e-09j\n",
      "  -9.68718686e-01+4.33680869e-19j -9.68718686e-01-5.27355937e-16j]\n",
      " [ 8.71424974e-01-1.07552856e-16j  8.71424974e-01+1.80411242e-16j\n",
      "   1.23837361e-08-2.89969405e-09j  3.64305380e-10-9.75380824e-09j\n",
      "  -3.64305493e-10+9.75380819e-09j -1.23837363e-08+2.89969392e-09j\n",
      "  -8.71424974e-01+3.05311332e-16j -8.71424974e-01+3.23417508e-16j]\n",
      " [ 7.66968990e-01+3.78169718e-16j  7.66968990e-01+1.73038667e-16j\n",
      "   8.08457517e-09-1.19603047e-08j  6.10484608e-10-7.29062781e-09j\n",
      "  -6.10485086e-10+7.29062774e-09j -8.08457500e-09+1.19603052e-08j\n",
      "  -7.66968990e-01-2.22044605e-16j -7.66968990e-01-7.77156117e-16j]\n",
      " [ 6.56209261e-01+9.88792381e-17j  6.56209261e-01-1.07552856e-16j\n",
      "   1.14956947e-08-2.55747028e-09j  8.61929938e-09+1.21762088e-09j\n",
      "  -8.61929901e-09-1.21762056e-09j -1.14956947e-08+2.55747033e-09j\n",
      "  -6.56209261e-01-1.11022302e-16j -6.56209261e-01-1.66533454e-16j]\n",
      " [ 5.40056125e-01+3.26128013e-16j  5.40056125e-01+6.73635139e-16j\n",
      "   1.45888254e-08-3.61931453e-09j  5.26158125e-09-1.31918607e-09j\n",
      "  -5.26158107e-09+1.31918585e-09j -1.45888253e-08+3.61931447e-09j\n",
      "  -5.40056125e-01-7.32920669e-16j -5.40056125e-01-1.93421668e-16j]\n",
      " [ 4.19464249e-01-5.02202446e-16j  4.19464249e-01+5.55111512e-17j\n",
      "   4.70969009e-09-8.31381793e-10j  3.45781357e-10+1.12375415e-08j\n",
      "  -3.45781175e-10-1.12375412e-08j -4.70969037e-09+8.31381750e-10j\n",
      "  -4.19464249e-01+1.83761790e-16j -4.19464249e-01+4.96910353e-17j]\n",
      " [ 2.95424782e-01-2.90728813e-16j  2.95424782e-01-1.02799836e-16j\n",
      "   3.68535699e-09+8.93359824e-09j  1.55127738e-09+1.28280402e-08j\n",
      "  -1.55127744e-09-1.28280401e-08j -3.68535725e-09-8.93359761e-09j\n",
      "  -2.95424782e-01-3.19189120e-16j -2.95424782e-01-4.62954328e-17j]\n",
      " [ 1.68957208e-01+7.99273842e-16j  1.68957208e-01-3.42391046e-16j\n",
      "   9.71272421e-09+2.33543343e-09j  1.99535820e-09+9.16682032e-09j\n",
      "  -1.99535818e-09-9.16682077e-09j -9.71272481e-09-2.33543413e-09j\n",
      "  -1.68957208e-01+3.43592005e-16j -1.68957208e-01+2.98372438e-16j]\n",
      " [ 4.11009696e-02-1.87368203e-15j  4.11009696e-02+1.29209206e-15j\n",
      "   2.86882845e-09+3.82728998e-09j  3.25291225e-10+1.06829796e-08j\n",
      "  -3.25292273e-10-1.06829787e-08j -2.86883314e-09-3.82728981e-09j\n",
      "  -4.11009696e-02-1.83447008e-16j -4.11009696e-02-1.21783009e-16j]]\n",
      "1.4142135623730947 -1.4142135623730963\n"
     ]
    },
    {
     "data": {
      "image/png": "[encoded data removed]",
      "text/plain": [
       "<Figure size 432x288 with 1 Axes>"
      ]
     },
     "metadata": {},
     "output_type": "display_data"
    }
   ],
   "source": [
    "smk.band_high_sym(Hlsw_num, cp_strg , 30)"
   ]
  },
  {
   "cell_type": "code",
   "execution_count": 62,
   "metadata": {},
   "outputs": [],
   "source": [
    "import numpy as np\n",
    "import sympy as sp\n",
    "import SpinModel_afm as smk\n",
    "from matplotlib.pyplot import subplots as spp\n",
    "from numpy import linalg as LA\n",
    "from sympy.physics.matrices import msigma"
   ]
  },
  {
   "cell_type": "code",
   "execution_count": 63,
   "metadata": {},
   "outputs": [],
   "source": [
    "sigma_3 = np.diag([1, -1, 1, -1, 1, -1, 1, -1])"
   ]
  },
  {
   "cell_type": "code",
   "execution_count": 64,
   "metadata": {},
   "outputs": [],
   "source": [
    "s0 = sp.Matrix([[1,0],[0,1]])\n",
    "s1 = msigma(1)\n",
    "s2 = msigma(2)\n",
    "s3 = msigma(3)"
   ]
  },
  {
   "cell_type": "code",
   "execution_count": 65,
   "metadata": {},
   "outputs": [],
   "source": [
    "J1 = sp.Symbol(\"J1\", real=True)\n",
    "J2 = sp.Symbol(\"J2\", real=True)\n",
    "J3 = sp.Symbol(\"J3\", real=True)\n",
    "\n",
    "k1 = sp.Symbol(\"k1\", real=True)\n",
    "k2 = sp.Symbol(\"k2\", real=True)"
   ]
  },
  {
   "cell_type": "code",
   "execution_count": null,
   "metadata": {},
   "outputs": [],
   "source": [
    "k1=-0.5\n",
    "k2=-0.5\n",
    "q1 = -k1\n",
    "q2 = -k2"
   ]
  },
  {
   "cell_type": "code",
   "execution_count": null,
   "metadata": {
    "scrolled": true
   },
   "outputs": [],
   "source": [
    "A_k = -s0*(-2*J2*sp.cos(k1/2)+J1-2*J2-3*J3)+4*s1*(sp.cos(k2/2)*J2*sp.cos(k1/2))\n",
    "A_k"
   ]
  },
  {
   "cell_type": "code",
   "execution_count": null,
   "metadata": {},
   "outputs": [],
   "source": [
    "g_k = s0*(sp.exp(1j*k2/6)*2*J1*sp.cos(k1/2))+s1*(2*J3*sp.cos(k1)*sp.exp(-1j*k2/3)+J3*sp.exp(2*1j*k2/3)+J1)\n",
    "g_k"
   ]
  },
  {
   "cell_type": "code",
   "execution_count": null,
   "metadata": {},
   "outputs": [],
   "source": [
    "A_q = -s0*(-2*J2*sp.cos(-k1/2)+J1-2*J2-3*J3)+4*s1*(sp.cos(-k2/2)*J2*sp.cos(k1/2))\n",
    "A_q"
   ]
  },
  {
   "cell_type": "code",
   "execution_count": null,
   "metadata": {},
   "outputs": [],
   "source": [
    "g_q = sp.transpose(sp.conjugate(g_k))\n",
    "g_q"
   ]
  },
  {
   "cell_type": "code",
   "execution_count": null,
   "metadata": {
    "scrolled": true
   },
   "outputs": [],
   "source": [
    "H1 = sp.BlockMatrix([[A_k,g_k],[g_q,A_q]])\n",
    "H1"
   ]
  },
  {
   "cell_type": "code",
   "execution_count": null,
   "metadata": {
    "scrolled": true
   },
   "outputs": [],
   "source": [
    "sp.matrices.dense.matrix2numpy(H1.subs([(k1, 1), (k2, 2)])).astype(complex)"
   ]
  },
  {
   "cell_type": "code",
   "execution_count": null,
   "metadata": {},
   "outputs": [],
   "source": [
    "s0 = sp.Matrix([[1,0],[0,1]])\n",
    "s1 = sp.Matrix([[0,1],[1,0]])\n",
    "s2 = sp.Matrix([[0,-1j],[1j,0]])\n",
    "s3 = sp.Matrix([[1,0],[0,-1]])"
   ]
  },
  {
   "cell_type": "code",
   "execution_count": null,
   "metadata": {},
   "outputs": [],
   "source": [
    "J1=1\n",
    "J2=0.8\n",
    "J3=0.8\n",
    "\n",
    "k1=-0.5\n",
    "k2=-0.5\n",
    "q1 = -k1\n",
    "q2 = -k2"
   ]
  },
  {
   "cell_type": "code",
   "execution_count": null,
   "metadata": {},
   "outputs": [],
   "source": [
    "A_k = -s0*(-2*J2*np.cos(k1/2)+J1-2*J2-3*J3)+4*s1*(np.cos(k2/2)*J2*np.cos(k1/2))\n",
    "g_k = s0*(np.exp(1j*k2/6)*2*J1*np.cos(k1/2))+s1*(2*J3*np.cos(k1)*np.exp(-1j*k2/3)+J3*np.exp(2*1j*k2/3)+J1)\n",
    "A_q = -s0*(-2*J2*np.cos(k1/2)+J1-2*J2-3*J3)+4*s1*(np.cos(k2/2)*J2*np.cos(k1/2))\n",
    "g_q = np.transpose(np.conjugate(g_k))\n",
    "H1 = np.block([[A_k,g_k],[g_q,A_q]])\n",
    "H1"
   ]
  },
  {
   "cell_type": "code",
   "execution_count": null,
   "metadata": {},
   "outputs": [],
   "source": [
    "A_k = -s0*(-2*J2*np.cos(k1/2)+J1-2*J2-3*J3)+4*s1*(np.cos(k2/2)*J2*np.cos(k1/2))\n",
    "g_k = s0*(np.exp(1j*k2/6)*2*J1*np.cos(k1/2))+s1*(2*J3*np.cos(k1)*np.exp(-1j*k2/3)+J3*np.exp(2*1j*k2/3)+J1)\n",
    "A_q = -s0*(-2*J2*np.cos(k1/2)+J1-2*J2-3*J3)+4*s1*(np.cos(k2/2)*J2*np.cos(k1/2))\n",
    "g_q = np.transpose(np.conjugate(g_k))\n",
    "H2 = np.transpose(np.block([[A_k,g_k],[g_q,A_q]]))\n",
    "H2"
   ]
  },
  {
   "cell_type": "markdown",
   "metadata": {},
   "source": [
    "# particel-hole symmetry"
   ]
  },
  {
   "cell_type": "code",
   "execution_count": null,
   "metadata": {},
   "outputs": [],
   "source": [
    "import numpy.linalg as LA"
   ]
  },
  {
   "cell_type": "code",
   "execution_count": null,
   "metadata": {},
   "outputs": [],
   "source": [
    "q = sp.Symbol(\"\", real=True)"
   ]
  },
  {
   "cell_type": "code",
   "execution_count": null,
   "metadata": {},
   "outputs": [],
   "source": [
    "C"
   ]
  },
  {
   "cell_type": "code",
   "execution_count": null,
   "metadata": {},
   "outputs": [],
   "source": []
  }
 ],
 "metadata": {
  "kernelspec": {
   "display_name": "Python 3",
   "language": "python",
   "name": "python3"
  },
  "language_info": {
   "codemirror_mode": {
    "name": "ipython",
    "version": 3
   },
   "file_extension": ".py",
   "mimetype": "text/x-python",
   "name": "python",
   "nbconvert_exporter": "python",
   "pygments_lexer": "ipython3",
   "version": "3.9.1"
  }
 },
 "nbformat": 4,
 "nbformat_minor": 5
}
