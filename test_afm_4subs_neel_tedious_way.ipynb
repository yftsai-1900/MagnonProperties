{
 "cells": [
  {
   "cell_type": "code",
   "execution_count": 1,
   "id": "ba44c981e6cd5faa",
   "metadata": {
    "ExecuteTime": {
     "end_time": "2024-06-06T03:54:34.883952Z",
     "start_time": "2024-06-06T03:54:31.947979Z"
    }
   },
   "outputs": [],
   "source": [
    "import sympy as sp\n",
    "import numpy as np\n",
    "from matplotlib.pyplot import subplots as spp\n",
    "from numpy import linalg as LA\n",
    "from sympy.physics.matrices import msigma"
   ]
  },
  {
   "cell_type": "code",
   "execution_count": 2,
   "id": "a5db653b10afe1a1",
   "metadata": {
    "ExecuteTime": {
     "end_time": "2024-06-06T03:54:37.151796Z",
     "start_time": "2024-06-06T03:54:37.136202Z"
    }
   },
   "outputs": [],
   "source": [
    "def distri224(H, Hsub, a, b):\n",
    "    lat = {'0': a, '1': b}\n",
    "    l=0\n",
    "    while l<2:\n",
    "        ll=0\n",
    "        while ll<2:\n",
    "            i=0\n",
    "            while i<2:\n",
    "                j=0\n",
    "                while j<2:\n",
    "                    H[lat[f'{l}']+i*4,lat[f'{ll}']+j*4] = H[lat[f'{l}']+i*4,lat[f'{ll}']+j*4] + Hsub[0+i*2+l,0+j*2+ll]\n",
    "                    j+=1\n",
    "                i+=1\n",
    "            ll+=1\n",
    "        l+=1\n"
   ]
  },
  {
   "cell_type": "code",
   "execution_count": 3,
   "metadata": {},
   "outputs": [
    {
     "data": {
      "text/latex": [
       "$\\displaystyle \\left[\\begin{matrix}22 & 21 & 0 & 0 & 24 & 23 & 0 & 0\\\\12 & 11 & 0 & 0 & 14 & 13 & 0 & 0\\\\0 & 0 & 0 & 0 & 0 & 0 & 0 & 0\\\\0 & 0 & 0 & 0 & 0 & 0 & 0 & 0\\\\42 & 41 & 0 & 0 & 44 & 43 & 0 & 0\\\\32 & 31 & 0 & 0 & 34 & 33 & 0 & 0\\\\0 & 0 & 0 & 0 & 0 & 0 & 0 & 0\\\\0 & 0 & 0 & 0 & 0 & 0 & 0 & 0\\end{matrix}\\right]$"
      ],
      "text/plain": [
       "Matrix([\n",
       "[22, 21, 0, 0, 24, 23, 0, 0],\n",
       "[12, 11, 0, 0, 14, 13, 0, 0],\n",
       "[ 0,  0, 0, 0,  0,  0, 0, 0],\n",
       "[ 0,  0, 0, 0,  0,  0, 0, 0],\n",
       "[42, 41, 0, 0, 44, 43, 0, 0],\n",
       "[32, 31, 0, 0, 34, 33, 0, 0],\n",
       "[ 0,  0, 0, 0,  0,  0, 0, 0],\n",
       "[ 0,  0, 0, 0,  0,  0, 0, 0]])"
      ]
     },
     "execution_count": 3,
     "metadata": {},
     "output_type": "execute_result"
    }
   ],
   "source": [
    "H = sp.zeros(8, 8)\n",
    "Hsub = sp.Matrix([[11,12,13,14],[21,22,23,24],[31,32,33,34],[41,42,43,44]])\n",
    "distri224(H, Hsub, 1,0)\n",
    "H"
   ]
  },
  {
   "cell_type": "code",
   "execution_count": 4,
   "metadata": {},
   "outputs": [
    {
     "data": {
      "text/latex": [
       "$\\displaystyle \\left[\\begin{matrix}0 & 0 & 0 & 0 & 0 & 0 & 0 & 0\\\\0 & 0 & 0 & 0 & 0 & 0 & 0 & 0\\\\0 & 0 & 22 & 21 & 0 & 0 & 24 & 23\\\\0 & 0 & 12 & 11 & 0 & 0 & 14 & 13\\\\0 & 0 & 0 & 0 & 0 & 0 & 0 & 0\\\\0 & 0 & 0 & 0 & 0 & 0 & 0 & 0\\\\0 & 0 & 42 & 41 & 0 & 0 & 44 & 43\\\\0 & 0 & 32 & 31 & 0 & 0 & 34 & 33\\end{matrix}\\right]$"
      ],
      "text/plain": [
       "Matrix([\n",
       "[0, 0,  0,  0, 0, 0,  0,  0],\n",
       "[0, 0,  0,  0, 0, 0,  0,  0],\n",
       "[0, 0, 22, 21, 0, 0, 24, 23],\n",
       "[0, 0, 12, 11, 0, 0, 14, 13],\n",
       "[0, 0,  0,  0, 0, 0,  0,  0],\n",
       "[0, 0,  0,  0, 0, 0,  0,  0],\n",
       "[0, 0, 42, 41, 0, 0, 44, 43],\n",
       "[0, 0, 32, 31, 0, 0, 34, 33]])"
      ]
     },
     "execution_count": 4,
     "metadata": {},
     "output_type": "execute_result"
    }
   ],
   "source": [
    "H = sp.zeros(8, 8)\n",
    "Hsub = sp.Matrix([[11,12,13,14],[21,22,23,24],[31,32,33,34],[41,42,43,44]])\n",
    "distri224(H, Hsub, 3,2)\n",
    "H"
   ]
  },
  {
   "cell_type": "code",
   "execution_count": 5,
   "metadata": {
    "scrolled": true
   },
   "outputs": [
    {
     "data": {
      "text/latex": [
       "$\\displaystyle \\left[\\begin{matrix}0 & 0 & 0 & 0 & 0 & 0 & 0 & 0\\\\0 & 11 & 12 & 0 & 0 & 13 & 14 & 0\\\\0 & 21 & 22 & 0 & 0 & 23 & 24 & 0\\\\0 & 0 & 0 & 0 & 0 & 0 & 0 & 0\\\\0 & 0 & 0 & 0 & 0 & 0 & 0 & 0\\\\0 & 31 & 32 & 0 & 0 & 33 & 34 & 0\\\\0 & 41 & 42 & 0 & 0 & 43 & 44 & 0\\\\0 & 0 & 0 & 0 & 0 & 0 & 0 & 0\\end{matrix}\\right]$"
      ],
      "text/plain": [
       "Matrix([\n",
       "[0,  0,  0, 0, 0,  0,  0, 0],\n",
       "[0, 11, 12, 0, 0, 13, 14, 0],\n",
       "[0, 21, 22, 0, 0, 23, 24, 0],\n",
       "[0,  0,  0, 0, 0,  0,  0, 0],\n",
       "[0,  0,  0, 0, 0,  0,  0, 0],\n",
       "[0, 31, 32, 0, 0, 33, 34, 0],\n",
       "[0, 41, 42, 0, 0, 43, 44, 0],\n",
       "[0,  0,  0, 0, 0,  0,  0, 0]])"
      ]
     },
     "execution_count": 5,
     "metadata": {},
     "output_type": "execute_result"
    }
   ],
   "source": [
    "H = sp.zeros(8, 8)\n",
    "Hsub = sp.Matrix([[11,12,13,14],[21,22,23,24],[31,32,33,34],[41,42,43,44]])\n",
    "distri224(H, Hsub, 1,2)\n",
    "H"
   ]
  },
  {
   "cell_type": "code",
   "execution_count": 6,
   "metadata": {},
   "outputs": [
    {
     "data": {
      "text/latex": [
       "$\\displaystyle \\left[\\begin{matrix}22 & 0 & 0 & 21 & 24 & 0 & 0 & 23\\\\0 & 0 & 0 & 0 & 0 & 0 & 0 & 0\\\\0 & 0 & 0 & 0 & 0 & 0 & 0 & 0\\\\12 & 0 & 0 & 11 & 14 & 0 & 0 & 13\\\\42 & 0 & 0 & 41 & 44 & 0 & 0 & 43\\\\0 & 0 & 0 & 0 & 0 & 0 & 0 & 0\\\\0 & 0 & 0 & 0 & 0 & 0 & 0 & 0\\\\32 & 0 & 0 & 31 & 34 & 0 & 0 & 33\\end{matrix}\\right]$"
      ],
      "text/plain": [
       "Matrix([\n",
       "[22, 0, 0, 21, 24, 0, 0, 23],\n",
       "[ 0, 0, 0,  0,  0, 0, 0,  0],\n",
       "[ 0, 0, 0,  0,  0, 0, 0,  0],\n",
       "[12, 0, 0, 11, 14, 0, 0, 13],\n",
       "[42, 0, 0, 41, 44, 0, 0, 43],\n",
       "[ 0, 0, 0,  0,  0, 0, 0,  0],\n",
       "[ 0, 0, 0,  0,  0, 0, 0,  0],\n",
       "[32, 0, 0, 31, 34, 0, 0, 33]])"
      ]
     },
     "execution_count": 6,
     "metadata": {},
     "output_type": "execute_result"
    }
   ],
   "source": [
    "H = sp.zeros(8, 8)\n",
    "Hsub = sp.Matrix([[11,12,13,14],[21,22,23,24],[31,32,33,34],[41,42,43,44]])\n",
    "distri224(H, Hsub, 3,0)\n",
    "H"
   ]
  },
  {
   "cell_type": "code",
   "execution_count": 7,
   "metadata": {},
   "outputs": [
    {
     "data": {
      "text/latex": [
       "$\\displaystyle \\left[\\begin{matrix}0 & 0 & 0 & 0 & 0 & 0 & 0 & 0\\\\0 & 11 & 0 & 12 & 0 & 13 & 0 & 14\\\\0 & 0 & 0 & 0 & 0 & 0 & 0 & 0\\\\0 & 21 & 0 & 22 & 0 & 23 & 0 & 24\\\\0 & 0 & 0 & 0 & 0 & 0 & 0 & 0\\\\0 & 31 & 0 & 32 & 0 & 33 & 0 & 34\\\\0 & 0 & 0 & 0 & 0 & 0 & 0 & 0\\\\0 & 41 & 0 & 42 & 0 & 43 & 0 & 44\\end{matrix}\\right]$"
      ],
      "text/plain": [
       "Matrix([\n",
       "[0,  0, 0,  0, 0,  0, 0,  0],\n",
       "[0, 11, 0, 12, 0, 13, 0, 14],\n",
       "[0,  0, 0,  0, 0,  0, 0,  0],\n",
       "[0, 21, 0, 22, 0, 23, 0, 24],\n",
       "[0,  0, 0,  0, 0,  0, 0,  0],\n",
       "[0, 31, 0, 32, 0, 33, 0, 34],\n",
       "[0,  0, 0,  0, 0,  0, 0,  0],\n",
       "[0, 41, 0, 42, 0, 43, 0, 44]])"
      ]
     },
     "execution_count": 7,
     "metadata": {},
     "output_type": "execute_result"
    }
   ],
   "source": [
    "H = sp.zeros(8, 8)\n",
    "Hsub = sp.Matrix([[11,12,13,14],[21,22,23,24],[31,32,33,34],[41,42,43,44]])\n",
    "distri224(H, Hsub, 1,3)\n",
    "H"
   ]
  },
  {
   "cell_type": "code",
   "execution_count": 8,
   "metadata": {
    "scrolled": true
   },
   "outputs": [
    {
     "data": {
      "text/latex": [
       "$\\displaystyle \\left[\\begin{matrix}0 & 0 & 0 & 0 & 0 & 0 & 0 & 0\\\\0 & 22 & 0 & 21 & 0 & 24 & 0 & 23\\\\0 & 0 & 0 & 0 & 0 & 0 & 0 & 0\\\\0 & 12 & 0 & 11 & 0 & 14 & 0 & 13\\\\0 & 0 & 0 & 0 & 0 & 0 & 0 & 0\\\\0 & 42 & 0 & 41 & 0 & 44 & 0 & 43\\\\0 & 0 & 0 & 0 & 0 & 0 & 0 & 0\\\\0 & 32 & 0 & 31 & 0 & 34 & 0 & 33\\end{matrix}\\right]$"
      ],
      "text/plain": [
       "Matrix([\n",
       "[0,  0, 0,  0, 0,  0, 0,  0],\n",
       "[0, 22, 0, 21, 0, 24, 0, 23],\n",
       "[0,  0, 0,  0, 0,  0, 0,  0],\n",
       "[0, 12, 0, 11, 0, 14, 0, 13],\n",
       "[0,  0, 0,  0, 0,  0, 0,  0],\n",
       "[0, 42, 0, 41, 0, 44, 0, 43],\n",
       "[0,  0, 0,  0, 0,  0, 0,  0],\n",
       "[0, 32, 0, 31, 0, 34, 0, 33]])"
      ]
     },
     "execution_count": 8,
     "metadata": {},
     "output_type": "execute_result"
    }
   ],
   "source": [
    "H = sp.zeros(8, 8)\n",
    "Hsub = sp.Matrix([[11,12,13,14],[21,22,23,24],[31,32,33,34],[41,42,43,44]])\n",
    "distri224(H, Hsub, 3,1)\n",
    "H"
   ]
  },
  {
   "cell_type": "code",
   "execution_count": 9,
   "id": "db7ab77057d9108d",
   "metadata": {
    "ExecuteTime": {
     "end_time": "2024-06-06T03:54:38.859820Z",
     "start_time": "2024-06-06T03:54:38.784423Z"
    }
   },
   "outputs": [],
   "source": [
    "a_i = sp.symbols(\"a1:3\")  # Bravais lattice vectors\n",
    "a = sp.Symbol(\"a\", real=True)\n",
    "I = sp.I\n",
    "pi = sp.pi\n",
    "hb = sp.Symbol(\"ℏ\", real=True)\n",
    "S = sp.Symbol(\"S\", real=True)\n",
    "\n",
    "J = sp.Symbol(\"J\", real=True)  # Heisenberg coupling\n",
    "K = sp.Symbol(\"K\", real=True)  # Kitaev coupling\n",
    "Gamma = sp.Symbol(\"Γ\", real=True)\n",
    "gamma = sp.Symbol(\"Γ'\", real=True)\n",
    "h = sp.Symbol(\"h\", real=True)\n",
    "# up-up couplings\n",
    "theta =0\n",
    "phi = 0\n",
    "\n",
    "V_i = sp.symbols(\"V1:4\")\n",
    "V1 = sp.Matrix([1, 0, 0])\n",
    "V2 = sp.Matrix([0, 1, 0])\n",
    "V3 = sp.Matrix([0, 0, 1])\n",
    "\n",
    "Hberg_uu = V1 * sp.Transpose(V1) + V2 * sp.Transpose(V2) + V3 * sp.Transpose(V3)\n",
    "\n",
    "IsingXX_uu = V1 * sp.Transpose(V1)\n",
    "IsingZZ_uu = V3 * sp.Transpose(V3)\n",
    "\n",
    "XY_uu = V1 * sp.Transpose(V2)\n",
    "XZ_uu = V1 * sp.Transpose(V3)\n",
    "YX_uu = V2 * sp.Transpose(V1)\n",
    "YZ_uu = V2 * sp.Transpose(V3)\n",
    "ZX_uu = V3 * sp.Transpose(V1)\n",
    "ZY_uu = V3 * sp.Transpose(V2)\n",
    "\n",
    "Hx_uu = 2 * K * IsingXX_uu + J * Hberg_uu + Gamma * (YZ_uu + ZY_uu) + gamma * (YX_uu + ZX_uu + XY_uu + XZ_uu)\n",
    "Hz_uu = 2 * K * IsingZZ_uu + J * Hberg_uu + Gamma * (XY_uu + YX_uu) + gamma * (XZ_uu + YZ_uu + ZX_uu + ZY_uu)\n",
    "\n",
    "e = sp.Symbol(\"e\")\n",
    "f = sp.Symbol(\"f\")\n",
    "g = sp.Symbol(\"g\")\n",
    "h = sp.Symbol(\"h\")\n",
    "n_i = sp.Symbol(\"𝑛𝑖\")\n",
    "n_j = sp.Symbol(\"𝑛𝑗\")\n",
    "\n",
    "HPXX = 1 / sp.Integer(2) * (e + f + g + h)\n",
    "HPYY = -1 / sp.Integer(2) * (e - f - g + h)\n",
    "HPZZ = (S - n_i - n_j)\n",
    "HPXY = 1 / (2 * I) * (e - f + g - h)\n",
    "HPYX = 1 / (2 * I) * (e + f - g - h)\n",
    "\n",
    "    # for now we didn't how to calculate single a, a+...\n",
    "HPXZ = 0\n",
    "HPYZ = 0\n",
    "HPZX = 0\n",
    "HPZY = 0\n",
    "\n",
    "HPbosons = sp.Matrix([[HPXX, HPXY, HPXZ], [HPYX, HPYY, HPYZ], [HPZX, HPZY,\n",
    "                                                                   HPZZ]])\n",
    "o = sp.Integer(0)\n",
    "ii = sp.Integer(1)"
   ]
  },
  {
   "cell_type": "code",
   "execution_count": 10,
   "id": "b4b1a3b24d44f148",
   "metadata": {
    "ExecuteTime": {
     "end_time": "2024-06-06T04:12:22.709814Z",
     "start_time": "2024-06-06T04:12:22.277910Z"
    }
   },
   "outputs": [],
   "source": [
    "Theta = np.pi-theta\n",
    "Phi = phi\n",
    "uni = sp.Matrix([[np.cos(Theta/2),np.sin(Theta / 2)],[np.sin(Theta/2)*np.exp(1j*Phi),-np.cos(Theta / 2) * np.exp(1j * Phi)]])\n",
    "uni_dag = sp.transpose(sp.conjugate(uni))\n",
    "\n",
    "\n",
    "pxd = sp.simplify(uni_dag*msigma(1)*uni)\n",
    "pyd = sp.simplify(uni_dag*msigma(2)*uni)\n",
    "pzd = sp.simplify(uni_dag * msigma(3) * uni)\n",
    "\n",
    "W1 = sp.simplify(sp.Matrix([(pxd[0, 1] + pxd[1, 0]) / 2, (pxd[1, 0] - pxd[0, 1]) / (2 * I), (pxd[0, 0] - pxd[1, 1]) / 2]))\n",
    "W2 = sp.simplify(sp.Matrix([(pyd[0, 1] + pyd[1, 0]) / 2, (pyd[1, 0] - pyd[0, 1]) / (2 * I), (pyd[0, 0] - pyd[1, 1]) / 2]))\n",
    "W3 = sp.simplify(sp.Matrix([(pzd[0, 1] + pzd[1, 0]) / 2, (pzd[1, 0] - pzd[0, 1]) / (2 * I), (pzd[0, 0] - pzd[1, 1]) / 2]))"
   ]
  },
  {
   "cell_type": "code",
   "execution_count": 11,
   "id": "8d85a2c2b347fa6d",
   "metadata": {
    "ExecuteTime": {
     "end_time": "2024-06-06T04:12:24.186958Z",
     "start_time": "2024-06-06T04:12:24.172915Z"
    }
   },
   "outputs": [
    {
     "data": {
      "text/latex": [
       "$\\displaystyle \\left[\\begin{matrix}1.0\\\\0\\\\1.22464679914735 \\cdot 10^{-16}\\end{matrix}\\right]$"
      ],
      "text/plain": [
       "Matrix([\n",
       "[                 1.0],\n",
       "[                   0],\n",
       "[1.22464679914735e-16]])"
      ]
     },
     "execution_count": 11,
     "metadata": {},
     "output_type": "execute_result"
    }
   ],
   "source": [
    "W1"
   ]
  },
  {
   "cell_type": "code",
   "execution_count": 12,
   "id": "68031cbd7f4a09f9",
   "metadata": {
    "ExecuteTime": {
     "end_time": "2024-06-06T04:12:40.626055Z",
     "start_time": "2024-06-06T04:12:40.612941Z"
    }
   },
   "outputs": [
    {
     "data": {
      "text/latex": [
       "$\\displaystyle \\left[\\begin{matrix}0\\\\-1.0\\\\0\\end{matrix}\\right]$"
      ],
      "text/plain": [
       "Matrix([\n",
       "[   0],\n",
       "[-1.0],\n",
       "[   0]])"
      ]
     },
     "execution_count": 12,
     "metadata": {},
     "output_type": "execute_result"
    }
   ],
   "source": [
    "W2"
   ]
  },
  {
   "cell_type": "code",
   "execution_count": 13,
   "id": "a00afe317ec87cb",
   "metadata": {
    "ExecuteTime": {
     "end_time": "2024-06-06T04:12:52.651725Z",
     "start_time": "2024-06-06T04:12:52.638553Z"
    }
   },
   "outputs": [
    {
     "data": {
      "text/latex": [
       "$\\displaystyle \\left[\\begin{matrix}1.22464679914735 \\cdot 10^{-16}\\\\0\\\\-1.0\\end{matrix}\\right]$"
      ],
      "text/plain": [
       "Matrix([\n",
       "[1.22464679914735e-16],\n",
       "[                   0],\n",
       "[                -1.0]])"
      ]
     },
     "execution_count": 13,
     "metadata": {},
     "output_type": "execute_result"
    }
   ],
   "source": [
    "W3"
   ]
  },
  {
   "cell_type": "code",
   "execution_count": 14,
   "metadata": {},
   "outputs": [],
   "source": [
    "######################################################################\n",
    "# up-down couplings\n",
    "Hberg_ud = V1 * sp.Transpose(W1) + V2 * sp.Transpose(W2) + V3 * sp.Transpose(W3)\n",
    "\n",
    "IsingXX_ud = V1 * sp.Transpose(W1)\n",
    "IsingYY_ud = V2 * sp.Transpose(W2)\n",
    "IsingZZ_ud = V3 * sp.Transpose(W3)\n",
    "\n",
    "XY_ud = V1 * sp.Transpose(W2)\n",
    "XZ_ud = V1 * sp.Transpose(W3)\n",
    "YX_ud = V2 * sp.Transpose(W1)\n",
    "YZ_ud = V2 * sp.Transpose(W3)\n",
    "ZX_ud = V3 * sp.Transpose(W1)\n",
    "ZY_ud = V3 * sp.Transpose(W2)\n",
    "\n",
    "Hx_ud = 2 * K * IsingXX_ud + J * Hberg_ud + Gamma * (YZ_ud + ZY_ud) + gamma * (YX_ud + ZX_ud + XY_ud + XZ_ud)\n",
    "Hy_ud = 2 * K * IsingYY_ud + J * Hberg_ud + Gamma * (XZ_ud + ZX_ud) + gamma * (YZ_ud + YX_ud + ZY_ud + XY_ud)\n",
    "Hz_ud = 2 * K * IsingZZ_ud + J * Hberg_ud + Gamma * (XY_ud + YX_ud) + gamma * (XZ_ud + YZ_ud + ZX_ud + ZY_ud)"
   ]
  },
  {
   "cell_type": "code",
   "execution_count": 15,
   "id": "78726157ca972bf2",
   "metadata": {
    "ExecuteTime": {
     "end_time": "2024-06-06T04:23:26.235545Z",
     "start_time": "2024-06-06T04:23:26.161986Z"
    }
   },
   "outputs": [],
   "source": [
    "######################################################################\n",
    "# down-up couplings\n",
    "Hberg = W1 * sp.Transpose(V1) + W2 * sp.Transpose(V2) + W3 * sp.Transpose(V3)\n",
    "\n",
    "IsingXX = W1 * sp.Transpose(V1)\n",
    "IsingYY = W2 * sp.Transpose(V2)\n",
    "IsingZZ = W3 * sp.Transpose(V3)\n",
    "\n",
    "XY = W1 * sp.Transpose(V2)\n",
    "XZ = W1 * sp.Transpose(V3)\n",
    "YX = W2 * sp.Transpose(V1)\n",
    "YZ = W2 * sp.Transpose(V3)\n",
    "ZX = W3 * sp.Transpose(V1)\n",
    "ZY = W3 * sp.Transpose(V2)\n",
    "\n",
    "Hx_du = 2 * K * IsingXX + J * Hberg + Gamma * (YZ + ZY) + gamma * (YX + ZX + XY + XZ)\n",
    "Hy_du = 2 * K * IsingYY + J * Hberg + Gamma * (XZ + ZX) + gamma * (YZ + YX + ZY + XY)\n",
    "Hz_du = 2 * K * IsingZZ + J * Hberg + Gamma * (XY + YX) + gamma * (XZ + YZ + ZX + ZY)"
   ]
  },
  {
   "cell_type": "code",
   "execution_count": 16,
   "metadata": {},
   "outputs": [],
   "source": [
    "################################################################\n",
    "HPHx_ud = sp.Integer(0)\n",
    "\n",
    "i = 0\n",
    "while i < 3:\n",
    "    j = 0\n",
    "    while j < 3:\n",
    "        HPHx_ud = HPHx_ud + Hx_ud[i, j] * HPbosons[i, j]\n",
    "        j += 1\n",
    "    i += 1\n",
    "\n",
    "HPHx_ud = HPHx_ud.expand()\n",
    "\n",
    "Coef_HPHx_ud = sp.Matrix([o, o, o, o, o, o])\n",
    "Coef_HPHx_ud[0, 0] = HPHx_ud.coeff(e)\n",
    "Coef_HPHx_ud[1, 0] = HPHx_ud.coeff(f)\n",
    "Coef_HPHx_ud[2, 0] = HPHx_ud.coeff(g)\n",
    "Coef_HPHx_ud[3, 0] = HPHx_ud.coeff(h)\n",
    "Coef_HPHx_ud[4, 0] = HPHx_ud.coeff(n_i)\n",
    "Coef_HPHx_ud[5, 0] = HPHx_ud.coeff(n_j)\n",
    "\n",
    "Mat_Coef_HPHx_ud = sp.Matrix([\n",
    "    [Coef_HPHx_ud[4, 0], Coef_HPHx_ud[2, 0], o, Coef_HPHx_ud[3, 0]],\n",
    "    [Coef_HPHx_ud[1, 0], Coef_HPHx_ud[5, 0], Coef_HPHx_ud[3, 0], o],\n",
    "    [o, Coef_HPHx_ud[0, 0], Coef_HPHx_ud[5, 0], Coef_HPHx_ud[2, 0]],\n",
    "    [Coef_HPHx_ud[0, 0], o, Coef_HPHx_ud[1, 0], Coef_HPHx_ud[4, 0]]\n",
    "    ])\n",
    "\n",
    "################################################################\n",
    "HPHy_du = sp.Integer(0)\n",
    "\n",
    "i = 0\n",
    "while i < 3:\n",
    "    j = 0\n",
    "    while j < 3:\n",
    "        HPHy_du = HPHy_du + Hy_du[i, j] * HPbosons[i, j]\n",
    "        j += 1\n",
    "    i += 1\n",
    "\n",
    "HPHy_du = HPHy_du.expand()\n",
    "\n",
    "Coef_HPHy_du = sp.Matrix([o, o, o, o, o, o])\n",
    "Coef_HPHy_du[0, 0] = HPHy_du.coeff(e)\n",
    "Coef_HPHy_du[1, 0] = HPHy_du.coeff(f)\n",
    "Coef_HPHy_du[2, 0] = HPHy_du.coeff(g)\n",
    "Coef_HPHy_du[3, 0] = HPHy_du.coeff(h)\n",
    "Coef_HPHy_du[4, 0] = HPHy_du.coeff(n_i)\n",
    "Coef_HPHy_du[5, 0] = HPHy_du.coeff(n_j)\n",
    "\n",
    "Mat_Coef_HPHy_du = sp.Matrix([\n",
    "    [Coef_HPHy_du[4, 0], Coef_HPHy_du[2, 0], o, Coef_HPHy_du[3, 0]],\n",
    "    [Coef_HPHy_du[1, 0], Coef_HPHy_du[5, 0], Coef_HPHy_du[3, 0], o],\n",
    "    [o, Coef_HPHy_du[0, 0], Coef_HPHy_du[5, 0], Coef_HPHy_du[2, 0]],\n",
    "    [Coef_HPHy_du[0, 0], o, Coef_HPHy_du[1, 0], Coef_HPHy_du[4, 0]]\n",
    "    ])\n",
    "\n",
    "################################################################\n",
    "HPHy_ud = sp.Integer(0)\n",
    "\n",
    "i = 0\n",
    "while i < 3:\n",
    "    j = 0\n",
    "    while j < 3:\n",
    "        HPHy_ud = HPHy_ud + Hy_ud[i, j] * HPbosons[i, j]\n",
    "        j += 1\n",
    "    i += 1\n",
    "\n",
    "HPHy_ud = HPHy_ud.expand()\n",
    "\n",
    "Coef_HPHy_ud = sp.Matrix([o, o, o, o, o, o])\n",
    "Coef_HPHy_ud[0, 0] = HPHy_ud.coeff(e)\n",
    "Coef_HPHy_ud[1, 0] = HPHy_ud.coeff(f)\n",
    "Coef_HPHy_ud[2, 0] = HPHy_ud.coeff(g)\n",
    "Coef_HPHy_ud[3, 0] = HPHy_ud.coeff(h)\n",
    "Coef_HPHy_ud[4, 0] = HPHy_ud.coeff(n_i)\n",
    "Coef_HPHy_ud[5, 0] = HPHy_ud.coeff(n_j)\n",
    "\n",
    "Mat_Coef_HPHy_ud = sp.Matrix([\n",
    "    [Coef_HPHy_ud[4, 0], Coef_HPHy_ud[2, 0], o, Coef_HPHy_ud[3, 0]],\n",
    "    [Coef_HPHy_ud[1, 0], Coef_HPHy_ud[5, 0], Coef_HPHy_ud[3, 0], o],\n",
    "    [o, Coef_HPHy_ud[0, 0], Coef_HPHy_ud[5, 0], Coef_HPHy_ud[2, 0]],\n",
    "    [Coef_HPHy_ud[0, 0], o, Coef_HPHy_ud[1, 0], Coef_HPHy_ud[4, 0]]\n",
    "    ])\n",
    "\n",
    "################################################################\n",
    "HPHz_ud = sp.Integer(0)\n",
    "\n",
    "i = 0\n",
    "while i < 3:\n",
    "    j = 0\n",
    "    while j < 3:\n",
    "        HPHz_ud = HPHz_ud + Hz_ud[i, j] * HPbosons[i, j]\n",
    "        j += 1\n",
    "    i += 1\n",
    "\n",
    "HPHz_ud = HPHz_ud.expand()\n",
    "\n",
    "Coef_HPHz_ud = sp.Matrix([o, o, o, o, o, o])\n",
    "Coef_HPHz_ud[0, 0] = HPHz_ud.coeff(e)\n",
    "Coef_HPHz_ud[1, 0] = HPHz_ud.coeff(f)\n",
    "Coef_HPHz_ud[2, 0] = HPHz_ud.coeff(g)\n",
    "Coef_HPHz_ud[3, 0] = HPHz_ud.coeff(h)\n",
    "Coef_HPHz_ud[4, 0] = HPHz_ud.coeff(n_i)\n",
    "Coef_HPHz_ud[5, 0] = HPHz_ud.coeff(n_j)\n",
    "\n",
    "Mat_Coef_HPHz_ud = sp.Matrix([\n",
    "    [Coef_HPHz_ud[4, 0], Coef_HPHz_ud[2, 0], o, Coef_HPHz_ud[3, 0]],\n",
    "    [Coef_HPHz_ud[1, 0], Coef_HPHz_ud[5, 0], Coef_HPHz_ud[3, 0], o],\n",
    "    [o, Coef_HPHz_ud[0, 0], Coef_HPHz_ud[5, 0], Coef_HPHz_ud[2, 0]],\n",
    "    [Coef_HPHz_ud[0, 0], o, Coef_HPHz_ud[1, 0], Coef_HPHz_ud[4, 0]]\n",
    "    ])"
   ]
  },
  {
   "cell_type": "code",
   "execution_count": 17,
   "metadata": {},
   "outputs": [
    {
     "data": {
      "text/latex": [
       "$\\displaystyle \\left[\\begin{matrix}0 & 0 & 0 & 0\\\\0 & 0 & 0 & 0\\\\0 & 0 & 0 & 0\\\\0 & 0 & 0 & 0\\end{matrix}\\right]$"
      ],
      "text/plain": [
       "Matrix([\n",
       "[0, 0, 0, 0],\n",
       "[0, 0, 0, 0],\n",
       "[0, 0, 0, 0],\n",
       "[0, 0, 0, 0]])"
      ]
     },
     "execution_count": 17,
     "metadata": {},
     "output_type": "execute_result"
    }
   ],
   "source": [
    "sp.transpose(sp.conjugate(Mat_Coef_HPHy_du))-Mat_Coef_HPHy_du"
   ]
  },
  {
   "cell_type": "code",
   "execution_count": 18,
   "metadata": {},
   "outputs": [],
   "source": [
    "#####################################################################\n",
    "Hlsw = sp.zeros(8, 8)\n",
    "\n",
    "global k1\n",
    "global k2\n",
    "\n",
    "k1 = sp.Symbol(\"k1\", real=True)\n",
    "k2 = sp.Symbol(\"k2\", real=True)\n",
    "k = sp.Matrix([k1, k2])"
   ]
  },
  {
   "cell_type": "code",
   "execution_count": 19,
   "id": "a901ce87b99d2233",
   "metadata": {
    "ExecuteTime": {
     "end_time": "2024-06-06T04:23:27.671359Z",
     "start_time": "2024-06-06T04:23:27.636505Z"
    }
   },
   "outputs": [],
   "source": [
    "# Fourier transform\n",
    "deltaX = a / sp.sqrt(3) * sp.Matrix([-sp.sqrt(3) / 2, 1 / sp.Integer(2)])\n",
    "deltaY = a / sp.sqrt(3) * sp.Matrix([sp.Integer(0), sp.Integer(-1)])\n",
    "deltaZ = a / sp.sqrt(3) * sp.Matrix([sp.sqrt(3) / 2, 1 / sp.Integer(2)])\n",
    "\n",
    "sx = sp.exp(I * k.dot(deltaX))\n",
    "sy = sp.exp(I * k.dot(deltaY))\n",
    "sz = sp.exp(I * k.dot(deltaZ))\n",
    "tx = sp.exp(-I * k.dot(deltaX))\n",
    "ty = sp.exp(-I * k.dot(deltaY))\n",
    "tz = sp.exp(-I * k.dot(deltaZ))\n",
    "\n",
    "FT_Coef_X_out = sp.Matrix([[ii, sx, o, sx], [tx, ii, tx, o], [o, sx, ii, sx], [tx, o, tx, ii]])\n",
    "FT_Coef_Y_out = sp.Matrix([[ii, sy, o, sy], [ty, ii, ty, o], [o, sy, ii, sy], [ty, o, ty, ii]])\n",
    "FT_Coef_Z_out = sp.Matrix([[ii, sz, o, sz], [tz, ii, tz, o], [o, sz, ii, sz], [tz, o, tz, ii]])"
   ]
  },
  {
   "cell_type": "code",
   "execution_count": 20,
   "metadata": {},
   "outputs": [],
   "source": [
    "# Fourier transform\n",
    "deltaX = a / sp.sqrt(3) * sp.Matrix([sp.sqrt(3) / 2, -1 / sp.Integer(2)])\n",
    "deltaY = a / sp.sqrt(3) * sp.Matrix([sp.Integer(0), sp.Integer(1)])\n",
    "deltaZ = a / sp.sqrt(3) * sp.Matrix([-sp.sqrt(3) / 2, -1 / sp.Integer(2)])\n",
    "\n",
    "sx = sp.exp(I * k.dot(deltaX))\n",
    "sy = sp.exp(I * k.dot(deltaY))\n",
    "sz = sp.exp(I * k.dot(deltaZ))\n",
    "tx = sp.exp(-I * k.dot(deltaX))\n",
    "ty = sp.exp(-I * k.dot(deltaY))\n",
    "tz = sp.exp(-I * k.dot(deltaZ))\n",
    "\n",
    "FT_Coef_X_in = sp.Matrix([[ii, sx, o, sx], [tx, ii, tx, o], [o, sx, ii, sx], [tx, o, tx, ii]])\n",
    "FT_Coef_Y_in = sp.Matrix([[ii, sy, o, sy], [ty, ii, ty, o], [o, sy, ii, sy], [ty, o, ty, ii]])\n",
    "FT_Coef_Z_in = sp.Matrix([[ii, sz, o, sz], [tz, ii, tz, o], [o, sz, ii, sz], [tz, o, tz, ii]])"
   ]
  },
  {
   "cell_type": "code",
   "execution_count": 21,
   "id": "baef4f3340901d28",
   "metadata": {
    "ExecuteTime": {
     "end_time": "2024-06-06T04:23:29.235709Z",
     "start_time": "2024-06-06T04:23:29.207288Z"
    }
   },
   "outputs": [
    {
     "data": {
      "text/latex": [
       "$\\displaystyle \\left[\\begin{matrix}1.0 J - 1.22464679914735 \\cdot 10^{-16} Γ' & \\left(1.0 K + 6.12323399573677 \\cdot 10^{-17} i Γ + 6.12323399573677 \\cdot 10^{-17} Γ' + 1.0 i Γ'\\right) e^{i \\left(\\frac{a k_{1}}{2} - \\frac{\\sqrt{3} a k_{2}}{6}\\right)} & 0 & \\left(1.0 J + 1.0 K + 6.12323399573677 \\cdot 10^{-17} i Γ + 6.12323399573677 \\cdot 10^{-17} Γ'\\right) e^{i \\left(\\frac{a k_{1}}{2} - \\frac{\\sqrt{3} a k_{2}}{6}\\right)}\\\\\\left(1.0 K - 6.12323399573677 \\cdot 10^{-17} i Γ + 6.12323399573677 \\cdot 10^{-17} Γ' - 1.0 i Γ'\\right) e^{- i \\left(\\frac{a k_{1}}{2} - \\frac{\\sqrt{3} a k_{2}}{6}\\right)} & 1.0 J - 1.22464679914735 \\cdot 10^{-16} Γ' & \\left(1.0 J + 1.0 K + 6.12323399573677 \\cdot 10^{-17} i Γ + 6.12323399573677 \\cdot 10^{-17} Γ'\\right) e^{- i \\left(\\frac{a k_{1}}{2} - \\frac{\\sqrt{3} a k_{2}}{6}\\right)} & 0\\\\0 & \\left(1.0 J + 1.0 K - 6.12323399573677 \\cdot 10^{-17} i Γ + 6.12323399573677 \\cdot 10^{-17} Γ'\\right) e^{i \\left(\\frac{a k_{1}}{2} - \\frac{\\sqrt{3} a k_{2}}{6}\\right)} & 1.0 J - 1.22464679914735 \\cdot 10^{-16} Γ' & \\left(1.0 K + 6.12323399573677 \\cdot 10^{-17} i Γ + 6.12323399573677 \\cdot 10^{-17} Γ' + 1.0 i Γ'\\right) e^{i \\left(\\frac{a k_{1}}{2} - \\frac{\\sqrt{3} a k_{2}}{6}\\right)}\\\\\\left(1.0 J + 1.0 K - 6.12323399573677 \\cdot 10^{-17} i Γ + 6.12323399573677 \\cdot 10^{-17} Γ'\\right) e^{- i \\left(\\frac{a k_{1}}{2} - \\frac{\\sqrt{3} a k_{2}}{6}\\right)} & 0 & \\left(1.0 K - 6.12323399573677 \\cdot 10^{-17} i Γ + 6.12323399573677 \\cdot 10^{-17} Γ' - 1.0 i Γ'\\right) e^{- i \\left(\\frac{a k_{1}}{2} - \\frac{\\sqrt{3} a k_{2}}{6}\\right)} & 1.0 J - 1.22464679914735 \\cdot 10^{-16} Γ'\\end{matrix}\\right]$"
      ],
      "text/plain": [
       "Matrix([\n",
       "[                                                                          1.0*J - 1.22464679914735e-16*Γ', (1.0*K + 6.12323399573677e-17*I*Γ + 6.12323399573677e-17*Γ' + 1.0*I*Γ')*exp(I*(a*k1/2 - sqrt(3)*a*k2/6)),                                                                                                         0,    (1.0*J + 1.0*K + 6.12323399573677e-17*I*Γ + 6.12323399573677e-17*Γ')*exp(I*(a*k1/2 - sqrt(3)*a*k2/6))],\n",
       "[(1.0*K - 6.12323399573677e-17*I*Γ + 6.12323399573677e-17*Γ' - 1.0*I*Γ')*exp(-I*(a*k1/2 - sqrt(3)*a*k2/6)),                                                                          1.0*J - 1.22464679914735e-16*Γ',    (1.0*J + 1.0*K + 6.12323399573677e-17*I*Γ + 6.12323399573677e-17*Γ')*exp(-I*(a*k1/2 - sqrt(3)*a*k2/6)),                                                                                                        0],\n",
       "[                                                                                                        0,    (1.0*J + 1.0*K - 6.12323399573677e-17*I*Γ + 6.12323399573677e-17*Γ')*exp(I*(a*k1/2 - sqrt(3)*a*k2/6)),                                                                           1.0*J - 1.22464679914735e-16*Γ', (1.0*K + 6.12323399573677e-17*I*Γ + 6.12323399573677e-17*Γ' + 1.0*I*Γ')*exp(I*(a*k1/2 - sqrt(3)*a*k2/6))],\n",
       "[   (1.0*J + 1.0*K - 6.12323399573677e-17*I*Γ + 6.12323399573677e-17*Γ')*exp(-I*(a*k1/2 - sqrt(3)*a*k2/6)),                                                                                                        0, (1.0*K - 6.12323399573677e-17*I*Γ + 6.12323399573677e-17*Γ' - 1.0*I*Γ')*exp(-I*(a*k1/2 - sqrt(3)*a*k2/6)),                                                                          1.0*J - 1.22464679914735e-16*Γ']])"
      ]
     },
     "execution_count": 21,
     "metadata": {},
     "output_type": "execute_result"
    }
   ],
   "source": [
    "# x bonds:\n",
    "\n",
    "# up-down x bonds\n",
    "HlswTwoSub = sp.Matrix([[o, o, o, o], [o, o, o, o], [o, o, o, o], [o, o, o, o]])\n",
    "\n",
    "i = 0\n",
    "while i < 4:\n",
    "    j = 0\n",
    "    while j < 4:\n",
    "        HlswTwoSub[i, j] = Mat_Coef_HPHx_ud[i, j] * FT_Coef_X_in[i, j]\n",
    "        j += 1\n",
    "    i += 1\n",
    "\n",
    "HlswTwoSub"
   ]
  },
  {
   "cell_type": "code",
   "execution_count": 22,
   "metadata": {},
   "outputs": [],
   "source": [
    "distri224(Hlsw, HlswTwoSub, 0, 1)"
   ]
  },
  {
   "cell_type": "code",
   "execution_count": 23,
   "metadata": {},
   "outputs": [
    {
     "data": {
      "text/latex": [
       "$\\displaystyle \\left[\\begin{matrix}11 & 12 & 0 & 0 & 13 & 14 & 0 & 0\\\\21 & 22 & 0 & 0 & 23 & 24 & 0 & 0\\\\0 & 0 & 0 & 0 & 0 & 0 & 0 & 0\\\\0 & 0 & 0 & 0 & 0 & 0 & 0 & 0\\\\31 & 32 & 0 & 0 & 33 & 34 & 0 & 0\\\\41 & 42 & 0 & 0 & 43 & 44 & 0 & 0\\\\0 & 0 & 0 & 0 & 0 & 0 & 0 & 0\\\\0 & 0 & 0 & 0 & 0 & 0 & 0 & 0\\end{matrix}\\right]$"
      ],
      "text/plain": [
       "Matrix([\n",
       "[11, 12, 0, 0, 13, 14, 0, 0],\n",
       "[21, 22, 0, 0, 23, 24, 0, 0],\n",
       "[ 0,  0, 0, 0,  0,  0, 0, 0],\n",
       "[ 0,  0, 0, 0,  0,  0, 0, 0],\n",
       "[31, 32, 0, 0, 33, 34, 0, 0],\n",
       "[41, 42, 0, 0, 43, 44, 0, 0],\n",
       "[ 0,  0, 0, 0,  0,  0, 0, 0],\n",
       "[ 0,  0, 0, 0,  0,  0, 0, 0]])"
      ]
     },
     "execution_count": 23,
     "metadata": {},
     "output_type": "execute_result"
    }
   ],
   "source": [
    "H = sp.zeros(8, 8)\n",
    "Hsub = sp.Matrix([[11,12,13,14],[21,22,23,24],[31,32,33,34],[41,42,43,44]])\n",
    "distri224(H, Hsub, 0,1)\n",
    "H"
   ]
  },
  {
   "cell_type": "code",
   "execution_count": 24,
   "metadata": {},
   "outputs": [],
   "source": [
    "distri224(Hlsw, HlswTwoSub, 2, 3)"
   ]
  },
  {
   "cell_type": "code",
   "execution_count": 25,
   "metadata": {},
   "outputs": [
    {
     "data": {
      "text/latex": [
       "$\\displaystyle \\left[\\begin{matrix}0 & 0 & 0 & 0 & 0 & 0 & 0 & 0\\\\0 & 0 & 0 & 0 & 0 & 0 & 0 & 0\\\\0 & 0 & 11 & 12 & 0 & 0 & 13 & 14\\\\0 & 0 & 21 & 22 & 0 & 0 & 23 & 24\\\\0 & 0 & 0 & 0 & 0 & 0 & 0 & 0\\\\0 & 0 & 0 & 0 & 0 & 0 & 0 & 0\\\\0 & 0 & 31 & 32 & 0 & 0 & 33 & 34\\\\0 & 0 & 41 & 42 & 0 & 0 & 43 & 44\\end{matrix}\\right]$"
      ],
      "text/plain": [
       "Matrix([\n",
       "[0, 0,  0,  0, 0, 0,  0,  0],\n",
       "[0, 0,  0,  0, 0, 0,  0,  0],\n",
       "[0, 0, 11, 12, 0, 0, 13, 14],\n",
       "[0, 0, 21, 22, 0, 0, 23, 24],\n",
       "[0, 0,  0,  0, 0, 0,  0,  0],\n",
       "[0, 0,  0,  0, 0, 0,  0,  0],\n",
       "[0, 0, 31, 32, 0, 0, 33, 34],\n",
       "[0, 0, 41, 42, 0, 0, 43, 44]])"
      ]
     },
     "execution_count": 25,
     "metadata": {},
     "output_type": "execute_result"
    }
   ],
   "source": [
    "H = sp.zeros(8, 8)\n",
    "Hsub = sp.Matrix([[11,12,13,14],[21,22,23,24],[31,32,33,34],[41,42,43,44]])\n",
    "distri224(H, Hsub, 2,3)\n",
    "H"
   ]
  },
  {
   "cell_type": "code",
   "execution_count": 26,
   "metadata": {
    "scrolled": false
   },
   "outputs": [
    {
     "data": {
      "text/latex": [
       "$\\displaystyle \\left[\\begin{matrix}1.0 J - 1.22464679914735 \\cdot 10^{-16} Γ & \\left(- 1.0 K + 6.12323399573677 \\cdot 10^{-17} Γ - 1.0 i Γ'\\right) e^{- \\frac{\\sqrt{3} i a k_{2}}{3}} & 0 & \\left(1.0 J + 1.0 K + 6.12323399573677 \\cdot 10^{-17} Γ + 1.11022302462516 \\cdot 10^{-16} i Γ'\\right) e^{- \\frac{\\sqrt{3} i a k_{2}}{3}}\\\\\\left(- 1.0 K + 6.12323399573677 \\cdot 10^{-17} Γ + 1.0 i Γ'\\right) e^{\\frac{\\sqrt{3} i a k_{2}}{3}} & 1.0 J - 1.22464679914735 \\cdot 10^{-16} Γ & \\left(1.0 J + 1.0 K + 6.12323399573677 \\cdot 10^{-17} Γ + 1.11022302462516 \\cdot 10^{-16} i Γ'\\right) e^{\\frac{\\sqrt{3} i a k_{2}}{3}} & 0\\\\0 & \\left(1.0 J + 1.0 K + 6.12323399573677 \\cdot 10^{-17} Γ - 1.11022302462516 \\cdot 10^{-16} i Γ'\\right) e^{- \\frac{\\sqrt{3} i a k_{2}}{3}} & 1.0 J - 1.22464679914735 \\cdot 10^{-16} Γ & \\left(- 1.0 K + 6.12323399573677 \\cdot 10^{-17} Γ - 1.0 i Γ'\\right) e^{- \\frac{\\sqrt{3} i a k_{2}}{3}}\\\\\\left(1.0 J + 1.0 K + 6.12323399573677 \\cdot 10^{-17} Γ - 1.11022302462516 \\cdot 10^{-16} i Γ'\\right) e^{\\frac{\\sqrt{3} i a k_{2}}{3}} & 0 & \\left(- 1.0 K + 6.12323399573677 \\cdot 10^{-17} Γ + 1.0 i Γ'\\right) e^{\\frac{\\sqrt{3} i a k_{2}}{3}} & 1.0 J - 1.22464679914735 \\cdot 10^{-16} Γ\\end{matrix}\\right]$"
      ],
      "text/plain": [
       "Matrix([\n",
       "[                                                            1.0*J - 1.22464679914735e-16*Γ,                         (-1.0*K + 6.12323399573677e-17*Γ - 1.0*I*Γ')*exp(-sqrt(3)*I*a*k2/3),                                                                                          0, (1.0*J + 1.0*K + 6.12323399573677e-17*Γ + 1.11022302462516e-16*I*Γ')*exp(-sqrt(3)*I*a*k2/3)],\n",
       "[                        (-1.0*K + 6.12323399573677e-17*Γ + 1.0*I*Γ')*exp(sqrt(3)*I*a*k2/3),                                                              1.0*J - 1.22464679914735e-16*Γ, (1.0*J + 1.0*K + 6.12323399573677e-17*Γ + 1.11022302462516e-16*I*Γ')*exp(sqrt(3)*I*a*k2/3),                                                                                           0],\n",
       "[                                                                                         0, (1.0*J + 1.0*K + 6.12323399573677e-17*Γ - 1.11022302462516e-16*I*Γ')*exp(-sqrt(3)*I*a*k2/3),                                                             1.0*J - 1.22464679914735e-16*Γ,                         (-1.0*K + 6.12323399573677e-17*Γ - 1.0*I*Γ')*exp(-sqrt(3)*I*a*k2/3)],\n",
       "[(1.0*J + 1.0*K + 6.12323399573677e-17*Γ - 1.11022302462516e-16*I*Γ')*exp(sqrt(3)*I*a*k2/3),                                                                                           0,                         (-1.0*K + 6.12323399573677e-17*Γ + 1.0*I*Γ')*exp(sqrt(3)*I*a*k2/3),                                                              1.0*J - 1.22464679914735e-16*Γ]])"
      ]
     },
     "execution_count": 26,
     "metadata": {},
     "output_type": "execute_result"
    }
   ],
   "source": [
    "# y bonds:\n",
    "\n",
    "# down-up y bonds\n",
    "HlswTwoSub = sp.Matrix([[o, o, o, o], [o, o, o, o], [o, o, o, o], [o, o, o, o]])\n",
    "\n",
    "i = 0\n",
    "while i < 4:\n",
    "    j = 0\n",
    "    while j < 4:\n",
    "        HlswTwoSub[i, j] = Mat_Coef_HPHy_du[i, j] * FT_Coef_Y_out[i, j]\n",
    "        j += 1\n",
    "    i += 1\n",
    "HlswTwoSub"
   ]
  },
  {
   "cell_type": "code",
   "execution_count": 27,
   "metadata": {},
   "outputs": [],
   "source": [
    "distri224(Hlsw, HlswTwoSub, 1, 2)"
   ]
  },
  {
   "cell_type": "code",
   "execution_count": 28,
   "metadata": {},
   "outputs": [
    {
     "data": {
      "text/latex": [
       "$\\displaystyle \\left[\\begin{matrix}0 & 0 & 0 & 0 & 0 & 0 & 0 & 0\\\\0 & 11 & 12 & 0 & 0 & 13 & 14 & 0\\\\0 & 21 & 22 & 0 & 0 & 23 & 24 & 0\\\\0 & 0 & 0 & 0 & 0 & 0 & 0 & 0\\\\0 & 0 & 0 & 0 & 0 & 0 & 0 & 0\\\\0 & 31 & 32 & 0 & 0 & 33 & 34 & 0\\\\0 & 41 & 42 & 0 & 0 & 43 & 44 & 0\\\\0 & 0 & 0 & 0 & 0 & 0 & 0 & 0\\end{matrix}\\right]$"
      ],
      "text/plain": [
       "Matrix([\n",
       "[0,  0,  0, 0, 0,  0,  0, 0],\n",
       "[0, 11, 12, 0, 0, 13, 14, 0],\n",
       "[0, 21, 22, 0, 0, 23, 24, 0],\n",
       "[0,  0,  0, 0, 0,  0,  0, 0],\n",
       "[0,  0,  0, 0, 0,  0,  0, 0],\n",
       "[0, 31, 32, 0, 0, 33, 34, 0],\n",
       "[0, 41, 42, 0, 0, 43, 44, 0],\n",
       "[0,  0,  0, 0, 0,  0,  0, 0]])"
      ]
     },
     "execution_count": 28,
     "metadata": {},
     "output_type": "execute_result"
    }
   ],
   "source": [
    "H = sp.zeros(8, 8)\n",
    "Hsub = sp.Matrix([[11,12,13,14],[21,22,23,24],[31,32,33,34],[41,42,43,44]])\n",
    "distri224(H, Hsub, 1,2)\n",
    "H"
   ]
  },
  {
   "cell_type": "code",
   "execution_count": 29,
   "metadata": {
    "scrolled": true
   },
   "outputs": [
    {
     "data": {
      "text/latex": [
       "$\\displaystyle \\left[\\begin{matrix}1.0 J - 1.22464679914735 \\cdot 10^{-16} Γ & \\left(- 1.0 K + 6.12323399573677 \\cdot 10^{-17} Γ + 1.0 i Γ'\\right) e^{\\frac{\\sqrt{3} i a k_{2}}{3}} & 0 & \\left(1.0 J + 1.0 K + 6.12323399573677 \\cdot 10^{-17} Γ + 1.11022302462516 \\cdot 10^{-16} i Γ'\\right) e^{\\frac{\\sqrt{3} i a k_{2}}{3}}\\\\\\left(- 1.0 K + 6.12323399573677 \\cdot 10^{-17} Γ - 1.0 i Γ'\\right) e^{- \\frac{\\sqrt{3} i a k_{2}}{3}} & 1.0 J - 1.22464679914735 \\cdot 10^{-16} Γ & \\left(1.0 J + 1.0 K + 6.12323399573677 \\cdot 10^{-17} Γ + 1.11022302462516 \\cdot 10^{-16} i Γ'\\right) e^{- \\frac{\\sqrt{3} i a k_{2}}{3}} & 0\\\\0 & \\left(1.0 J + 1.0 K + 6.12323399573677 \\cdot 10^{-17} Γ - 1.11022302462516 \\cdot 10^{-16} i Γ'\\right) e^{\\frac{\\sqrt{3} i a k_{2}}{3}} & 1.0 J - 1.22464679914735 \\cdot 10^{-16} Γ & \\left(- 1.0 K + 6.12323399573677 \\cdot 10^{-17} Γ + 1.0 i Γ'\\right) e^{\\frac{\\sqrt{3} i a k_{2}}{3}}\\\\\\left(1.0 J + 1.0 K + 6.12323399573677 \\cdot 10^{-17} Γ - 1.11022302462516 \\cdot 10^{-16} i Γ'\\right) e^{- \\frac{\\sqrt{3} i a k_{2}}{3}} & 0 & \\left(- 1.0 K + 6.12323399573677 \\cdot 10^{-17} Γ - 1.0 i Γ'\\right) e^{- \\frac{\\sqrt{3} i a k_{2}}{3}} & 1.0 J - 1.22464679914735 \\cdot 10^{-16} Γ\\end{matrix}\\right]$"
      ],
      "text/plain": [
       "Matrix([\n",
       "[                                                             1.0*J - 1.22464679914735e-16*Γ,                         (-1.0*K + 6.12323399573677e-17*Γ + 1.0*I*Γ')*exp(sqrt(3)*I*a*k2/3),                                                                                           0, (1.0*J + 1.0*K + 6.12323399573677e-17*Γ + 1.11022302462516e-16*I*Γ')*exp(sqrt(3)*I*a*k2/3)],\n",
       "[                        (-1.0*K + 6.12323399573677e-17*Γ - 1.0*I*Γ')*exp(-sqrt(3)*I*a*k2/3),                                                             1.0*J - 1.22464679914735e-16*Γ, (1.0*J + 1.0*K + 6.12323399573677e-17*Γ + 1.11022302462516e-16*I*Γ')*exp(-sqrt(3)*I*a*k2/3),                                                                                          0],\n",
       "[                                                                                          0, (1.0*J + 1.0*K + 6.12323399573677e-17*Γ - 1.11022302462516e-16*I*Γ')*exp(sqrt(3)*I*a*k2/3),                                                              1.0*J - 1.22464679914735e-16*Γ,                         (-1.0*K + 6.12323399573677e-17*Γ + 1.0*I*Γ')*exp(sqrt(3)*I*a*k2/3)],\n",
       "[(1.0*J + 1.0*K + 6.12323399573677e-17*Γ - 1.11022302462516e-16*I*Γ')*exp(-sqrt(3)*I*a*k2/3),                                                                                          0,                         (-1.0*K + 6.12323399573677e-17*Γ - 1.0*I*Γ')*exp(-sqrt(3)*I*a*k2/3),                                                             1.0*J - 1.22464679914735e-16*Γ]])"
      ]
     },
     "execution_count": 29,
     "metadata": {},
     "output_type": "execute_result"
    }
   ],
   "source": [
    "# y bonds:\n",
    "\n",
    "# up-down y bonds\n",
    "HlswTwoSub = sp.Matrix([[o, o, o, o], [o, o, o, o], [o, o, o, o], [o, o, o, o]])\n",
    "\n",
    "i = 0\n",
    "while i < 4:\n",
    "    j = 0\n",
    "    while j < 4:\n",
    "        HlswTwoSub[i, j] = Mat_Coef_HPHy_ud[i, j] * FT_Coef_Y_in[i, j]\n",
    "        j += 1\n",
    "    i += 1\n",
    "\n",
    "distri224(Hlsw, HlswTwoSub, 0, 3)\n",
    "HlswTwoSub"
   ]
  },
  {
   "cell_type": "code",
   "execution_count": 30,
   "metadata": {},
   "outputs": [
    {
     "data": {
      "text/latex": [
       "$\\displaystyle \\left[\\begin{matrix}11 & 0 & 0 & 12 & 13 & 0 & 0 & 14\\\\0 & 0 & 0 & 0 & 0 & 0 & 0 & 0\\\\0 & 0 & 0 & 0 & 0 & 0 & 0 & 0\\\\21 & 0 & 0 & 22 & 23 & 0 & 0 & 24\\\\31 & 0 & 0 & 32 & 33 & 0 & 0 & 34\\\\0 & 0 & 0 & 0 & 0 & 0 & 0 & 0\\\\0 & 0 & 0 & 0 & 0 & 0 & 0 & 0\\\\41 & 0 & 0 & 42 & 43 & 0 & 0 & 44\\end{matrix}\\right]$"
      ],
      "text/plain": [
       "Matrix([\n",
       "[11, 0, 0, 12, 13, 0, 0, 14],\n",
       "[ 0, 0, 0,  0,  0, 0, 0,  0],\n",
       "[ 0, 0, 0,  0,  0, 0, 0,  0],\n",
       "[21, 0, 0, 22, 23, 0, 0, 24],\n",
       "[31, 0, 0, 32, 33, 0, 0, 34],\n",
       "[ 0, 0, 0,  0,  0, 0, 0,  0],\n",
       "[ 0, 0, 0,  0,  0, 0, 0,  0],\n",
       "[41, 0, 0, 42, 43, 0, 0, 44]])"
      ]
     },
     "execution_count": 30,
     "metadata": {},
     "output_type": "execute_result"
    }
   ],
   "source": [
    "H = sp.zeros(8, 8)\n",
    "Hsub = sp.Matrix([[11,12,13,14],[21,22,23,24],[31,32,33,34],[41,42,43,44]])\n",
    "distri224(H, Hsub, 0,3)\n",
    "H"
   ]
  },
  {
   "cell_type": "code",
   "execution_count": 31,
   "metadata": {
    "scrolled": true
   },
   "outputs": [
    {
     "data": {
      "text/latex": [
       "$\\displaystyle \\left[\\begin{matrix}1.0 J + 2.0 K - 1.22464679914735 \\cdot 10^{-16} Γ' & \\left(1.0 i Γ + 6.12323399573677 \\cdot 10^{-17} Γ' + 6.12323399573677 \\cdot 10^{-17} i Γ'\\right) e^{i \\left(- \\frac{a k_{1}}{2} - \\frac{\\sqrt{3} a k_{2}}{6}\\right)} & 0 & \\left(1.0 J + 6.12323399573677 \\cdot 10^{-17} Γ' + 6.12323399573677 \\cdot 10^{-17} i Γ'\\right) e^{i \\left(- \\frac{a k_{1}}{2} - \\frac{\\sqrt{3} a k_{2}}{6}\\right)}\\\\\\left(- 1.0 i Γ + 6.12323399573677 \\cdot 10^{-17} Γ' - 6.12323399573677 \\cdot 10^{-17} i Γ'\\right) e^{- i \\left(- \\frac{a k_{1}}{2} - \\frac{\\sqrt{3} a k_{2}}{6}\\right)} & 1.0 J + 2.0 K - 1.22464679914735 \\cdot 10^{-16} Γ' & \\left(1.0 J + 6.12323399573677 \\cdot 10^{-17} Γ' + 6.12323399573677 \\cdot 10^{-17} i Γ'\\right) e^{- i \\left(- \\frac{a k_{1}}{2} - \\frac{\\sqrt{3} a k_{2}}{6}\\right)} & 0\\\\0 & \\left(1.0 J + 6.12323399573677 \\cdot 10^{-17} Γ' - 6.12323399573677 \\cdot 10^{-17} i Γ'\\right) e^{i \\left(- \\frac{a k_{1}}{2} - \\frac{\\sqrt{3} a k_{2}}{6}\\right)} & 1.0 J + 2.0 K - 1.22464679914735 \\cdot 10^{-16} Γ' & \\left(1.0 i Γ + 6.12323399573677 \\cdot 10^{-17} Γ' + 6.12323399573677 \\cdot 10^{-17} i Γ'\\right) e^{i \\left(- \\frac{a k_{1}}{2} - \\frac{\\sqrt{3} a k_{2}}{6}\\right)}\\\\\\left(1.0 J + 6.12323399573677 \\cdot 10^{-17} Γ' - 6.12323399573677 \\cdot 10^{-17} i Γ'\\right) e^{- i \\left(- \\frac{a k_{1}}{2} - \\frac{\\sqrt{3} a k_{2}}{6}\\right)} & 0 & \\left(- 1.0 i Γ + 6.12323399573677 \\cdot 10^{-17} Γ' - 6.12323399573677 \\cdot 10^{-17} i Γ'\\right) e^{- i \\left(- \\frac{a k_{1}}{2} - \\frac{\\sqrt{3} a k_{2}}{6}\\right)} & 1.0 J + 2.0 K - 1.22464679914735 \\cdot 10^{-16} Γ'\\end{matrix}\\right]$"
      ],
      "text/plain": [
       "Matrix([\n",
       "[                                                            1.0*J + 2.0*K - 1.22464679914735e-16*Γ', (1.0*I*Γ + 6.12323399573677e-17*Γ' + 6.12323399573677e-17*I*Γ')*exp(I*(-a*k1/2 - sqrt(3)*a*k2/6)),                                                                                                   0,   (1.0*J + 6.12323399573677e-17*Γ' + 6.12323399573677e-17*I*Γ')*exp(I*(-a*k1/2 - sqrt(3)*a*k2/6))],\n",
       "[(-1.0*I*Γ + 6.12323399573677e-17*Γ' - 6.12323399573677e-17*I*Γ')*exp(-I*(-a*k1/2 - sqrt(3)*a*k2/6)),                                                           1.0*J + 2.0*K - 1.22464679914735e-16*Γ',    (1.0*J + 6.12323399573677e-17*Γ' + 6.12323399573677e-17*I*Γ')*exp(-I*(-a*k1/2 - sqrt(3)*a*k2/6)),                                                                                                 0],\n",
       "[                                                                                                  0,   (1.0*J + 6.12323399573677e-17*Γ' - 6.12323399573677e-17*I*Γ')*exp(I*(-a*k1/2 - sqrt(3)*a*k2/6)),                                                             1.0*J + 2.0*K - 1.22464679914735e-16*Γ', (1.0*I*Γ + 6.12323399573677e-17*Γ' + 6.12323399573677e-17*I*Γ')*exp(I*(-a*k1/2 - sqrt(3)*a*k2/6))],\n",
       "[   (1.0*J + 6.12323399573677e-17*Γ' - 6.12323399573677e-17*I*Γ')*exp(-I*(-a*k1/2 - sqrt(3)*a*k2/6)),                                                                                                 0, (-1.0*I*Γ + 6.12323399573677e-17*Γ' - 6.12323399573677e-17*I*Γ')*exp(-I*(-a*k1/2 - sqrt(3)*a*k2/6)),                                                           1.0*J + 2.0*K - 1.22464679914735e-16*Γ']])"
      ]
     },
     "execution_count": 31,
     "metadata": {},
     "output_type": "execute_result"
    }
   ],
   "source": [
    "# z bonds:\n",
    "\n",
    "# up-down z bonds\n",
    "HlswTwoSub = sp.Matrix([[o, o, o, o], [o, o, o, o], [o, o, o, o], [o, o, o, o]])\n",
    "\n",
    "i = 0\n",
    "while i < 4:\n",
    "    j = 0\n",
    "    while j < 4:\n",
    "        HlswTwoSub[i, j] = Mat_Coef_HPHz_ud[i, j] * FT_Coef_Z_in[i, j]\n",
    "        j += 1\n",
    "    i += 1\n",
    "\n",
    "HlswTwoSub"
   ]
  },
  {
   "cell_type": "code",
   "execution_count": 32,
   "metadata": {},
   "outputs": [],
   "source": [
    "distri224(Hlsw, HlswTwoSub, 0, 1)"
   ]
  },
  {
   "cell_type": "code",
   "execution_count": 33,
   "metadata": {
    "scrolled": true
   },
   "outputs": [
    {
     "data": {
      "text/latex": [
       "$\\displaystyle \\left[\\begin{matrix}11 & 12 & 0 & 0 & 13 & 14 & 0 & 0\\\\21 & 22 & 0 & 0 & 23 & 24 & 0 & 0\\\\0 & 0 & 0 & 0 & 0 & 0 & 0 & 0\\\\0 & 0 & 0 & 0 & 0 & 0 & 0 & 0\\\\31 & 32 & 0 & 0 & 33 & 34 & 0 & 0\\\\41 & 42 & 0 & 0 & 43 & 44 & 0 & 0\\\\0 & 0 & 0 & 0 & 0 & 0 & 0 & 0\\\\0 & 0 & 0 & 0 & 0 & 0 & 0 & 0\\end{matrix}\\right]$"
      ],
      "text/plain": [
       "Matrix([\n",
       "[11, 12, 0, 0, 13, 14, 0, 0],\n",
       "[21, 22, 0, 0, 23, 24, 0, 0],\n",
       "[ 0,  0, 0, 0,  0,  0, 0, 0],\n",
       "[ 0,  0, 0, 0,  0,  0, 0, 0],\n",
       "[31, 32, 0, 0, 33, 34, 0, 0],\n",
       "[41, 42, 0, 0, 43, 44, 0, 0],\n",
       "[ 0,  0, 0, 0,  0,  0, 0, 0],\n",
       "[ 0,  0, 0, 0,  0,  0, 0, 0]])"
      ]
     },
     "execution_count": 33,
     "metadata": {},
     "output_type": "execute_result"
    }
   ],
   "source": [
    "H = sp.zeros(8, 8)\n",
    "Hsub = sp.Matrix([[11,12,13,14],[21,22,23,24],[31,32,33,34],[41,42,43,44]])\n",
    "distri224(H, Hsub, 0,1)\n",
    "H"
   ]
  },
  {
   "cell_type": "code",
   "execution_count": 34,
   "metadata": {},
   "outputs": [],
   "source": [
    "distri224(Hlsw, HlswTwoSub, 2, 3)"
   ]
  },
  {
   "cell_type": "code",
   "execution_count": 35,
   "metadata": {},
   "outputs": [
    {
     "data": {
      "text/latex": [
       "$\\displaystyle \\left[\\begin{matrix}0 & 0 & 0 & 0 & 0 & 0 & 0 & 0\\\\0 & 0 & 0 & 0 & 0 & 0 & 0 & 0\\\\0 & 0 & 11 & 12 & 0 & 0 & 13 & 14\\\\0 & 0 & 21 & 22 & 0 & 0 & 23 & 24\\\\0 & 0 & 0 & 0 & 0 & 0 & 0 & 0\\\\0 & 0 & 0 & 0 & 0 & 0 & 0 & 0\\\\0 & 0 & 31 & 32 & 0 & 0 & 33 & 34\\\\0 & 0 & 41 & 42 & 0 & 0 & 43 & 44\\end{matrix}\\right]$"
      ],
      "text/plain": [
       "Matrix([\n",
       "[0, 0,  0,  0, 0, 0,  0,  0],\n",
       "[0, 0,  0,  0, 0, 0,  0,  0],\n",
       "[0, 0, 11, 12, 0, 0, 13, 14],\n",
       "[0, 0, 21, 22, 0, 0, 23, 24],\n",
       "[0, 0,  0,  0, 0, 0,  0,  0],\n",
       "[0, 0,  0,  0, 0, 0,  0,  0],\n",
       "[0, 0, 31, 32, 0, 0, 33, 34],\n",
       "[0, 0, 41, 42, 0, 0, 43, 44]])"
      ]
     },
     "execution_count": 35,
     "metadata": {},
     "output_type": "execute_result"
    }
   ],
   "source": [
    "H = sp.zeros(8, 8)\n",
    "Hsub = sp.Matrix([[11,12,13,14],[21,22,23,24],[31,32,33,34],[41,42,43,44]])\n",
    "distri224(H, Hsub, 2,3)\n",
    "H"
   ]
  },
  {
   "cell_type": "code",
   "execution_count": 36,
   "metadata": {},
   "outputs": [],
   "source": [
    "##########################################################\n",
    "# After using magnon transformation\n",
    "magfield = 1/2 * h * sp.diag(1, 1, -1, -1, 1, 1, -1, -1)\n",
    "    # Assemble\n",
    "Hlsw = 1 / 2 * Hlsw + magfield"
   ]
  },
  {
   "cell_type": "code",
   "execution_count": 37,
   "metadata": {},
   "outputs": [
    {
     "data": {
      "text/latex": [
       "$\\displaystyle \\left[\\begin{matrix}1.5 J + 1.0 K + 0.5 h - 6.12323399573677 \\cdot 10^{-17} Γ - 1.22464679914735 \\cdot 10^{-16} Γ' & 0.5 \\cdot \\left(1.0 i Γ + 6.12323399573677 \\cdot 10^{-17} Γ' + 6.12323399573677 \\cdot 10^{-17} i Γ'\\right) e^{i \\left(- \\frac{a k_{1}}{2} - \\frac{\\sqrt{3} a k_{2}}{6}\\right)} + 0.5 \\cdot \\left(1.0 K + 6.12323399573677 \\cdot 10^{-17} i Γ + 6.12323399573677 \\cdot 10^{-17} Γ' + 1.0 i Γ'\\right) e^{i \\left(\\frac{a k_{1}}{2} - \\frac{\\sqrt{3} a k_{2}}{6}\\right)} & 0 & 0.5 \\left(- 1.0 K + 6.12323399573677 \\cdot 10^{-17} Γ + 1.0 i Γ'\\right) e^{\\frac{\\sqrt{3} i a k_{2}}{3}} & 0 & 0.5 \\cdot \\left(1.0 J + 6.12323399573677 \\cdot 10^{-17} Γ' + 6.12323399573677 \\cdot 10^{-17} i Γ'\\right) e^{i \\left(- \\frac{a k_{1}}{2} - \\frac{\\sqrt{3} a k_{2}}{6}\\right)} + 0.5 \\cdot \\left(1.0 J + 1.0 K + 6.12323399573677 \\cdot 10^{-17} i Γ + 6.12323399573677 \\cdot 10^{-17} Γ'\\right) e^{i \\left(\\frac{a k_{1}}{2} - \\frac{\\sqrt{3} a k_{2}}{6}\\right)} & 0 & 0.5 \\cdot \\left(1.0 J + 1.0 K + 6.12323399573677 \\cdot 10^{-17} Γ + 1.11022302462516 \\cdot 10^{-16} i Γ'\\right) e^{\\frac{\\sqrt{3} i a k_{2}}{3}}\\\\0.5 \\left(- 1.0 i Γ + 6.12323399573677 \\cdot 10^{-17} Γ' - 6.12323399573677 \\cdot 10^{-17} i Γ'\\right) e^{- i \\left(- \\frac{a k_{1}}{2} - \\frac{\\sqrt{3} a k_{2}}{6}\\right)} + 0.5 \\cdot \\left(1.0 K - 6.12323399573677 \\cdot 10^{-17} i Γ + 6.12323399573677 \\cdot 10^{-17} Γ' - 1.0 i Γ'\\right) e^{- i \\left(\\frac{a k_{1}}{2} - \\frac{\\sqrt{3} a k_{2}}{6}\\right)} & 1.5 J + 1.0 K + 0.5 h - 6.12323399573677 \\cdot 10^{-17} Γ - 1.22464679914735 \\cdot 10^{-16} Γ' & 0.5 \\left(- 1.0 K + 6.12323399573677 \\cdot 10^{-17} Γ - 1.0 i Γ'\\right) e^{- \\frac{\\sqrt{3} i a k_{2}}{3}} & 0 & 0.5 \\cdot \\left(1.0 J + 6.12323399573677 \\cdot 10^{-17} Γ' + 6.12323399573677 \\cdot 10^{-17} i Γ'\\right) e^{- i \\left(- \\frac{a k_{1}}{2} - \\frac{\\sqrt{3} a k_{2}}{6}\\right)} + 0.5 \\cdot \\left(1.0 J + 1.0 K + 6.12323399573677 \\cdot 10^{-17} i Γ + 6.12323399573677 \\cdot 10^{-17} Γ'\\right) e^{- i \\left(\\frac{a k_{1}}{2} - \\frac{\\sqrt{3} a k_{2}}{6}\\right)} & 0 & 0.5 \\cdot \\left(1.0 J + 1.0 K + 6.12323399573677 \\cdot 10^{-17} Γ + 1.11022302462516 \\cdot 10^{-16} i Γ'\\right) e^{- \\frac{\\sqrt{3} i a k_{2}}{3}} & 0\\\\0 & 0.5 \\left(- 1.0 K + 6.12323399573677 \\cdot 10^{-17} Γ + 1.0 i Γ'\\right) e^{\\frac{\\sqrt{3} i a k_{2}}{3}} & 1.5 J + 1.0 K - 0.5 h - 6.12323399573677 \\cdot 10^{-17} Γ - 1.22464679914735 \\cdot 10^{-16} Γ' & 0.5 \\cdot \\left(1.0 i Γ + 6.12323399573677 \\cdot 10^{-17} Γ' + 6.12323399573677 \\cdot 10^{-17} i Γ'\\right) e^{i \\left(- \\frac{a k_{1}}{2} - \\frac{\\sqrt{3} a k_{2}}{6}\\right)} + 0.5 \\cdot \\left(1.0 K + 6.12323399573677 \\cdot 10^{-17} i Γ + 6.12323399573677 \\cdot 10^{-17} Γ' + 1.0 i Γ'\\right) e^{i \\left(\\frac{a k_{1}}{2} - \\frac{\\sqrt{3} a k_{2}}{6}\\right)} & 0 & 0.5 \\cdot \\left(1.0 J + 1.0 K + 6.12323399573677 \\cdot 10^{-17} Γ + 1.11022302462516 \\cdot 10^{-16} i Γ'\\right) e^{\\frac{\\sqrt{3} i a k_{2}}{3}} & 0 & 0.5 \\cdot \\left(1.0 J + 6.12323399573677 \\cdot 10^{-17} Γ' + 6.12323399573677 \\cdot 10^{-17} i Γ'\\right) e^{i \\left(- \\frac{a k_{1}}{2} - \\frac{\\sqrt{3} a k_{2}}{6}\\right)} + 0.5 \\cdot \\left(1.0 J + 1.0 K + 6.12323399573677 \\cdot 10^{-17} i Γ + 6.12323399573677 \\cdot 10^{-17} Γ'\\right) e^{i \\left(\\frac{a k_{1}}{2} - \\frac{\\sqrt{3} a k_{2}}{6}\\right)}\\\\0.5 \\left(- 1.0 K + 6.12323399573677 \\cdot 10^{-17} Γ - 1.0 i Γ'\\right) e^{- \\frac{\\sqrt{3} i a k_{2}}{3}} & 0 & 0.5 \\left(- 1.0 i Γ + 6.12323399573677 \\cdot 10^{-17} Γ' - 6.12323399573677 \\cdot 10^{-17} i Γ'\\right) e^{- i \\left(- \\frac{a k_{1}}{2} - \\frac{\\sqrt{3} a k_{2}}{6}\\right)} + 0.5 \\cdot \\left(1.0 K - 6.12323399573677 \\cdot 10^{-17} i Γ + 6.12323399573677 \\cdot 10^{-17} Γ' - 1.0 i Γ'\\right) e^{- i \\left(\\frac{a k_{1}}{2} - \\frac{\\sqrt{3} a k_{2}}{6}\\right)} & 1.5 J + 1.0 K - 0.5 h - 6.12323399573677 \\cdot 10^{-17} Γ - 1.22464679914735 \\cdot 10^{-16} Γ' & 0.5 \\cdot \\left(1.0 J + 1.0 K + 6.12323399573677 \\cdot 10^{-17} Γ + 1.11022302462516 \\cdot 10^{-16} i Γ'\\right) e^{- \\frac{\\sqrt{3} i a k_{2}}{3}} & 0 & 0.5 \\cdot \\left(1.0 J + 6.12323399573677 \\cdot 10^{-17} Γ' + 6.12323399573677 \\cdot 10^{-17} i Γ'\\right) e^{- i \\left(- \\frac{a k_{1}}{2} - \\frac{\\sqrt{3} a k_{2}}{6}\\right)} + 0.5 \\cdot \\left(1.0 J + 1.0 K + 6.12323399573677 \\cdot 10^{-17} i Γ + 6.12323399573677 \\cdot 10^{-17} Γ'\\right) e^{- i \\left(\\frac{a k_{1}}{2} - \\frac{\\sqrt{3} a k_{2}}{6}\\right)} & 0\\\\0 & 0.5 \\cdot \\left(1.0 J + 6.12323399573677 \\cdot 10^{-17} Γ' - 6.12323399573677 \\cdot 10^{-17} i Γ'\\right) e^{i \\left(- \\frac{a k_{1}}{2} - \\frac{\\sqrt{3} a k_{2}}{6}\\right)} + 0.5 \\cdot \\left(1.0 J + 1.0 K - 6.12323399573677 \\cdot 10^{-17} i Γ + 6.12323399573677 \\cdot 10^{-17} Γ'\\right) e^{i \\left(\\frac{a k_{1}}{2} - \\frac{\\sqrt{3} a k_{2}}{6}\\right)} & 0 & 0.5 \\cdot \\left(1.0 J + 1.0 K + 6.12323399573677 \\cdot 10^{-17} Γ - 1.11022302462516 \\cdot 10^{-16} i Γ'\\right) e^{\\frac{\\sqrt{3} i a k_{2}}{3}} & 1.5 J + 1.0 K + 0.5 h - 6.12323399573677 \\cdot 10^{-17} Γ - 1.22464679914735 \\cdot 10^{-16} Γ' & 0.5 \\cdot \\left(1.0 i Γ + 6.12323399573677 \\cdot 10^{-17} Γ' + 6.12323399573677 \\cdot 10^{-17} i Γ'\\right) e^{i \\left(- \\frac{a k_{1}}{2} - \\frac{\\sqrt{3} a k_{2}}{6}\\right)} + 0.5 \\cdot \\left(1.0 K + 6.12323399573677 \\cdot 10^{-17} i Γ + 6.12323399573677 \\cdot 10^{-17} Γ' + 1.0 i Γ'\\right) e^{i \\left(\\frac{a k_{1}}{2} - \\frac{\\sqrt{3} a k_{2}}{6}\\right)} & 0 & 0.5 \\left(- 1.0 K + 6.12323399573677 \\cdot 10^{-17} Γ + 1.0 i Γ'\\right) e^{\\frac{\\sqrt{3} i a k_{2}}{3}}\\\\0.5 \\cdot \\left(1.0 J + 6.12323399573677 \\cdot 10^{-17} Γ' - 6.12323399573677 \\cdot 10^{-17} i Γ'\\right) e^{- i \\left(- \\frac{a k_{1}}{2} - \\frac{\\sqrt{3} a k_{2}}{6}\\right)} + 0.5 \\cdot \\left(1.0 J + 1.0 K - 6.12323399573677 \\cdot 10^{-17} i Γ + 6.12323399573677 \\cdot 10^{-17} Γ'\\right) e^{- i \\left(\\frac{a k_{1}}{2} - \\frac{\\sqrt{3} a k_{2}}{6}\\right)} & 0 & 0.5 \\cdot \\left(1.0 J + 1.0 K + 6.12323399573677 \\cdot 10^{-17} Γ - 1.11022302462516 \\cdot 10^{-16} i Γ'\\right) e^{- \\frac{\\sqrt{3} i a k_{2}}{3}} & 0 & 0.5 \\left(- 1.0 i Γ + 6.12323399573677 \\cdot 10^{-17} Γ' - 6.12323399573677 \\cdot 10^{-17} i Γ'\\right) e^{- i \\left(- \\frac{a k_{1}}{2} - \\frac{\\sqrt{3} a k_{2}}{6}\\right)} + 0.5 \\cdot \\left(1.0 K - 6.12323399573677 \\cdot 10^{-17} i Γ + 6.12323399573677 \\cdot 10^{-17} Γ' - 1.0 i Γ'\\right) e^{- i \\left(\\frac{a k_{1}}{2} - \\frac{\\sqrt{3} a k_{2}}{6}\\right)} & 1.5 J + 1.0 K + 0.5 h - 6.12323399573677 \\cdot 10^{-17} Γ - 1.22464679914735 \\cdot 10^{-16} Γ' & 0.5 \\left(- 1.0 K + 6.12323399573677 \\cdot 10^{-17} Γ - 1.0 i Γ'\\right) e^{- \\frac{\\sqrt{3} i a k_{2}}{3}} & 0\\\\0 & 0.5 \\cdot \\left(1.0 J + 1.0 K + 6.12323399573677 \\cdot 10^{-17} Γ - 1.11022302462516 \\cdot 10^{-16} i Γ'\\right) e^{\\frac{\\sqrt{3} i a k_{2}}{3}} & 0 & 0.5 \\cdot \\left(1.0 J + 6.12323399573677 \\cdot 10^{-17} Γ' - 6.12323399573677 \\cdot 10^{-17} i Γ'\\right) e^{i \\left(- \\frac{a k_{1}}{2} - \\frac{\\sqrt{3} a k_{2}}{6}\\right)} + 0.5 \\cdot \\left(1.0 J + 1.0 K - 6.12323399573677 \\cdot 10^{-17} i Γ + 6.12323399573677 \\cdot 10^{-17} Γ'\\right) e^{i \\left(\\frac{a k_{1}}{2} - \\frac{\\sqrt{3} a k_{2}}{6}\\right)} & 0 & 0.5 \\left(- 1.0 K + 6.12323399573677 \\cdot 10^{-17} Γ + 1.0 i Γ'\\right) e^{\\frac{\\sqrt{3} i a k_{2}}{3}} & 1.5 J + 1.0 K - 0.5 h - 6.12323399573677 \\cdot 10^{-17} Γ - 1.22464679914735 \\cdot 10^{-16} Γ' & 0.5 \\cdot \\left(1.0 i Γ + 6.12323399573677 \\cdot 10^{-17} Γ' + 6.12323399573677 \\cdot 10^{-17} i Γ'\\right) e^{i \\left(- \\frac{a k_{1}}{2} - \\frac{\\sqrt{3} a k_{2}}{6}\\right)} + 0.5 \\cdot \\left(1.0 K + 6.12323399573677 \\cdot 10^{-17} i Γ + 6.12323399573677 \\cdot 10^{-17} Γ' + 1.0 i Γ'\\right) e^{i \\left(\\frac{a k_{1}}{2} - \\frac{\\sqrt{3} a k_{2}}{6}\\right)}\\\\0.5 \\cdot \\left(1.0 J + 1.0 K + 6.12323399573677 \\cdot 10^{-17} Γ - 1.11022302462516 \\cdot 10^{-16} i Γ'\\right) e^{- \\frac{\\sqrt{3} i a k_{2}}{3}} & 0 & 0.5 \\cdot \\left(1.0 J + 6.12323399573677 \\cdot 10^{-17} Γ' - 6.12323399573677 \\cdot 10^{-17} i Γ'\\right) e^{- i \\left(- \\frac{a k_{1}}{2} - \\frac{\\sqrt{3} a k_{2}}{6}\\right)} + 0.5 \\cdot \\left(1.0 J + 1.0 K - 6.12323399573677 \\cdot 10^{-17} i Γ + 6.12323399573677 \\cdot 10^{-17} Γ'\\right) e^{- i \\left(\\frac{a k_{1}}{2} - \\frac{\\sqrt{3} a k_{2}}{6}\\right)} & 0 & 0.5 \\left(- 1.0 K + 6.12323399573677 \\cdot 10^{-17} Γ - 1.0 i Γ'\\right) e^{- \\frac{\\sqrt{3} i a k_{2}}{3}} & 0 & 0.5 \\left(- 1.0 i Γ + 6.12323399573677 \\cdot 10^{-17} Γ' - 6.12323399573677 \\cdot 10^{-17} i Γ'\\right) e^{- i \\left(- \\frac{a k_{1}}{2} - \\frac{\\sqrt{3} a k_{2}}{6}\\right)} + 0.5 \\cdot \\left(1.0 K - 6.12323399573677 \\cdot 10^{-17} i Γ + 6.12323399573677 \\cdot 10^{-17} Γ' - 1.0 i Γ'\\right) e^{- i \\left(\\frac{a k_{1}}{2} - \\frac{\\sqrt{3} a k_{2}}{6}\\right)} & 1.5 J + 1.0 K - 0.5 h - 6.12323399573677 \\cdot 10^{-17} Γ - 1.22464679914735 \\cdot 10^{-16} Γ'\\end{matrix}\\right]$"
      ],
      "text/plain": [
       "Matrix([\n",
       "[                                                                                                                                               1.5*J + 1.0*K + 0.5*h - 6.12323399573677e-17*Γ - 1.22464679914735e-16*Γ', 0.5*(1.0*I*Γ + 6.12323399573677e-17*Γ' + 6.12323399573677e-17*I*Γ')*exp(I*(-a*k1/2 - sqrt(3)*a*k2/6)) + 0.5*(1.0*K + 6.12323399573677e-17*I*Γ + 6.12323399573677e-17*Γ' + 1.0*I*Γ')*exp(I*(a*k1/2 - sqrt(3)*a*k2/6)),                                                                                                                                                                                                                       0,                                                                                                                                               0.5*(-1.0*K + 6.12323399573677e-17*Γ + 1.0*I*Γ')*exp(sqrt(3)*I*a*k2/3),                                                                                                                                                                                                                       0,      0.5*(1.0*J + 6.12323399573677e-17*Γ' + 6.12323399573677e-17*I*Γ')*exp(I*(-a*k1/2 - sqrt(3)*a*k2/6)) + 0.5*(1.0*J + 1.0*K + 6.12323399573677e-17*I*Γ + 6.12323399573677e-17*Γ')*exp(I*(a*k1/2 - sqrt(3)*a*k2/6)),                                                                                                                                                                                                                       0,                                                                                                                       0.5*(1.0*J + 1.0*K + 6.12323399573677e-17*Γ + 1.11022302462516e-16*I*Γ')*exp(sqrt(3)*I*a*k2/3)],\n",
       "[0.5*(-1.0*I*Γ + 6.12323399573677e-17*Γ' - 6.12323399573677e-17*I*Γ')*exp(-I*(-a*k1/2 - sqrt(3)*a*k2/6)) + 0.5*(1.0*K - 6.12323399573677e-17*I*Γ + 6.12323399573677e-17*Γ' - 1.0*I*Γ')*exp(-I*(a*k1/2 - sqrt(3)*a*k2/6)),                                                                                                                                             1.5*J + 1.0*K + 0.5*h - 6.12323399573677e-17*Γ - 1.22464679914735e-16*Γ',                                                                                                                                                 0.5*(-1.0*K + 6.12323399573677e-17*Γ - 1.0*I*Γ')*exp(-sqrt(3)*I*a*k2/3),                                                                                                                                                                                                                    0,       0.5*(1.0*J + 6.12323399573677e-17*Γ' + 6.12323399573677e-17*I*Γ')*exp(-I*(-a*k1/2 - sqrt(3)*a*k2/6)) + 0.5*(1.0*J + 1.0*K + 6.12323399573677e-17*I*Γ + 6.12323399573677e-17*Γ')*exp(-I*(a*k1/2 - sqrt(3)*a*k2/6)),                                                                                                                                                                                                                    0,                                                                                                                         0.5*(1.0*J + 1.0*K + 6.12323399573677e-17*Γ + 1.11022302462516e-16*I*Γ')*exp(-sqrt(3)*I*a*k2/3),                                                                                                                                                                                                                    0],\n",
       "[                                                                                                                                                                                                                      0,                                                                                                                                               0.5*(-1.0*K + 6.12323399573677e-17*Γ + 1.0*I*Γ')*exp(sqrt(3)*I*a*k2/3),                                                                                                                                                1.5*J + 1.0*K - 0.5*h - 6.12323399573677e-17*Γ - 1.22464679914735e-16*Γ', 0.5*(1.0*I*Γ + 6.12323399573677e-17*Γ' + 6.12323399573677e-17*I*Γ')*exp(I*(-a*k1/2 - sqrt(3)*a*k2/6)) + 0.5*(1.0*K + 6.12323399573677e-17*I*Γ + 6.12323399573677e-17*Γ' + 1.0*I*Γ')*exp(I*(a*k1/2 - sqrt(3)*a*k2/6)),                                                                                                                                                                                                                       0,                                                                                                                       0.5*(1.0*J + 1.0*K + 6.12323399573677e-17*Γ + 1.11022302462516e-16*I*Γ')*exp(sqrt(3)*I*a*k2/3),                                                                                                                                                                                                                       0,      0.5*(1.0*J + 6.12323399573677e-17*Γ' + 6.12323399573677e-17*I*Γ')*exp(I*(-a*k1/2 - sqrt(3)*a*k2/6)) + 0.5*(1.0*J + 1.0*K + 6.12323399573677e-17*I*Γ + 6.12323399573677e-17*Γ')*exp(I*(a*k1/2 - sqrt(3)*a*k2/6))],\n",
       "[                                                                                                                                                0.5*(-1.0*K + 6.12323399573677e-17*Γ - 1.0*I*Γ')*exp(-sqrt(3)*I*a*k2/3),                                                                                                                                                                                                                    0, 0.5*(-1.0*I*Γ + 6.12323399573677e-17*Γ' - 6.12323399573677e-17*I*Γ')*exp(-I*(-a*k1/2 - sqrt(3)*a*k2/6)) + 0.5*(1.0*K - 6.12323399573677e-17*I*Γ + 6.12323399573677e-17*Γ' - 1.0*I*Γ')*exp(-I*(a*k1/2 - sqrt(3)*a*k2/6)),                                                                                                                                             1.5*J + 1.0*K - 0.5*h - 6.12323399573677e-17*Γ - 1.22464679914735e-16*Γ',                                                                                                                         0.5*(1.0*J + 1.0*K + 6.12323399573677e-17*Γ + 1.11022302462516e-16*I*Γ')*exp(-sqrt(3)*I*a*k2/3),                                                                                                                                                                                                                    0,       0.5*(1.0*J + 6.12323399573677e-17*Γ' + 6.12323399573677e-17*I*Γ')*exp(-I*(-a*k1/2 - sqrt(3)*a*k2/6)) + 0.5*(1.0*J + 1.0*K + 6.12323399573677e-17*I*Γ + 6.12323399573677e-17*Γ')*exp(-I*(a*k1/2 - sqrt(3)*a*k2/6)),                                                                                                                                                                                                                    0],\n",
       "[                                                                                                                                                                                                                      0,      0.5*(1.0*J + 6.12323399573677e-17*Γ' - 6.12323399573677e-17*I*Γ')*exp(I*(-a*k1/2 - sqrt(3)*a*k2/6)) + 0.5*(1.0*J + 1.0*K - 6.12323399573677e-17*I*Γ + 6.12323399573677e-17*Γ')*exp(I*(a*k1/2 - sqrt(3)*a*k2/6)),                                                                                                                                                                                                                       0,                                                                                                                       0.5*(1.0*J + 1.0*K + 6.12323399573677e-17*Γ - 1.11022302462516e-16*I*Γ')*exp(sqrt(3)*I*a*k2/3),                                                                                                                                                1.5*J + 1.0*K + 0.5*h - 6.12323399573677e-17*Γ - 1.22464679914735e-16*Γ', 0.5*(1.0*I*Γ + 6.12323399573677e-17*Γ' + 6.12323399573677e-17*I*Γ')*exp(I*(-a*k1/2 - sqrt(3)*a*k2/6)) + 0.5*(1.0*K + 6.12323399573677e-17*I*Γ + 6.12323399573677e-17*Γ' + 1.0*I*Γ')*exp(I*(a*k1/2 - sqrt(3)*a*k2/6)),                                                                                                                                                                                                                       0,                                                                                                                                               0.5*(-1.0*K + 6.12323399573677e-17*Γ + 1.0*I*Γ')*exp(sqrt(3)*I*a*k2/3)],\n",
       "[      0.5*(1.0*J + 6.12323399573677e-17*Γ' - 6.12323399573677e-17*I*Γ')*exp(-I*(-a*k1/2 - sqrt(3)*a*k2/6)) + 0.5*(1.0*J + 1.0*K - 6.12323399573677e-17*I*Γ + 6.12323399573677e-17*Γ')*exp(-I*(a*k1/2 - sqrt(3)*a*k2/6)),                                                                                                                                                                                                                    0,                                                                                                                         0.5*(1.0*J + 1.0*K + 6.12323399573677e-17*Γ - 1.11022302462516e-16*I*Γ')*exp(-sqrt(3)*I*a*k2/3),                                                                                                                                                                                                                    0, 0.5*(-1.0*I*Γ + 6.12323399573677e-17*Γ' - 6.12323399573677e-17*I*Γ')*exp(-I*(-a*k1/2 - sqrt(3)*a*k2/6)) + 0.5*(1.0*K - 6.12323399573677e-17*I*Γ + 6.12323399573677e-17*Γ' - 1.0*I*Γ')*exp(-I*(a*k1/2 - sqrt(3)*a*k2/6)),                                                                                                                                             1.5*J + 1.0*K + 0.5*h - 6.12323399573677e-17*Γ - 1.22464679914735e-16*Γ',                                                                                                                                                 0.5*(-1.0*K + 6.12323399573677e-17*Γ - 1.0*I*Γ')*exp(-sqrt(3)*I*a*k2/3),                                                                                                                                                                                                                    0],\n",
       "[                                                                                                                                                                                                                      0,                                                                                                                       0.5*(1.0*J + 1.0*K + 6.12323399573677e-17*Γ - 1.11022302462516e-16*I*Γ')*exp(sqrt(3)*I*a*k2/3),                                                                                                                                                                                                                       0,      0.5*(1.0*J + 6.12323399573677e-17*Γ' - 6.12323399573677e-17*I*Γ')*exp(I*(-a*k1/2 - sqrt(3)*a*k2/6)) + 0.5*(1.0*J + 1.0*K - 6.12323399573677e-17*I*Γ + 6.12323399573677e-17*Γ')*exp(I*(a*k1/2 - sqrt(3)*a*k2/6)),                                                                                                                                                                                                                       0,                                                                                                                                               0.5*(-1.0*K + 6.12323399573677e-17*Γ + 1.0*I*Γ')*exp(sqrt(3)*I*a*k2/3),                                                                                                                                                1.5*J + 1.0*K - 0.5*h - 6.12323399573677e-17*Γ - 1.22464679914735e-16*Γ', 0.5*(1.0*I*Γ + 6.12323399573677e-17*Γ' + 6.12323399573677e-17*I*Γ')*exp(I*(-a*k1/2 - sqrt(3)*a*k2/6)) + 0.5*(1.0*K + 6.12323399573677e-17*I*Γ + 6.12323399573677e-17*Γ' + 1.0*I*Γ')*exp(I*(a*k1/2 - sqrt(3)*a*k2/6))],\n",
       "[                                                                                                                        0.5*(1.0*J + 1.0*K + 6.12323399573677e-17*Γ - 1.11022302462516e-16*I*Γ')*exp(-sqrt(3)*I*a*k2/3),                                                                                                                                                                                                                    0,       0.5*(1.0*J + 6.12323399573677e-17*Γ' - 6.12323399573677e-17*I*Γ')*exp(-I*(-a*k1/2 - sqrt(3)*a*k2/6)) + 0.5*(1.0*J + 1.0*K - 6.12323399573677e-17*I*Γ + 6.12323399573677e-17*Γ')*exp(-I*(a*k1/2 - sqrt(3)*a*k2/6)),                                                                                                                                                                                                                    0,                                                                                                                                                 0.5*(-1.0*K + 6.12323399573677e-17*Γ - 1.0*I*Γ')*exp(-sqrt(3)*I*a*k2/3),                                                                                                                                                                                                                    0, 0.5*(-1.0*I*Γ + 6.12323399573677e-17*Γ' - 6.12323399573677e-17*I*Γ')*exp(-I*(-a*k1/2 - sqrt(3)*a*k2/6)) + 0.5*(1.0*K - 6.12323399573677e-17*I*Γ + 6.12323399573677e-17*Γ' - 1.0*I*Γ')*exp(-I*(a*k1/2 - sqrt(3)*a*k2/6)),                                                                                                                                             1.5*J + 1.0*K - 0.5*h - 6.12323399573677e-17*Γ - 1.22464679914735e-16*Γ']])"
      ]
     },
     "execution_count": 37,
     "metadata": {},
     "output_type": "execute_result"
    }
   ],
   "source": [
    "Hlsw"
   ]
  },
  {
   "cell_type": "code",
   "execution_count": 38,
   "metadata": {},
   "outputs": [
    {
     "data": {
      "text/latex": [
       "$\\displaystyle \\left[\\begin{matrix}- 0.5 h + 0.5 \\overline{h} & 0 & 0 & 0 & 0 & 0 & 0 & 0\\\\0 & - 0.5 h + 0.5 \\overline{h} & 0 & 0 & 0 & 0 & 0 & 0\\\\0 & 0 & 0.5 h - 0.5 \\overline{h} & 0 & 0 & 0 & 0 & 0\\\\0 & 0 & 0 & 0.5 h - 0.5 \\overline{h} & 0 & 0 & 0 & 0\\\\0 & 0 & 0 & 0 & - 0.5 h + 0.5 \\overline{h} & 0 & 0 & 0\\\\0 & 0 & 0 & 0 & 0 & - 0.5 h + 0.5 \\overline{h} & 0 & 0\\\\0 & 0 & 0 & 0 & 0 & 0 & 0.5 h - 0.5 \\overline{h} & 0\\\\0 & 0 & 0 & 0 & 0 & 0 & 0 & 0.5 h - 0.5 \\overline{h}\\end{matrix}\\right]$"
      ],
      "text/plain": [
       "Matrix([\n",
       "[-0.5*h + 0.5*conjugate(h),                         0,                        0,                        0,                         0,                         0,                        0,                        0],\n",
       "[                        0, -0.5*h + 0.5*conjugate(h),                        0,                        0,                         0,                         0,                        0,                        0],\n",
       "[                        0,                         0, 0.5*h - 0.5*conjugate(h),                        0,                         0,                         0,                        0,                        0],\n",
       "[                        0,                         0,                        0, 0.5*h - 0.5*conjugate(h),                         0,                         0,                        0,                        0],\n",
       "[                        0,                         0,                        0,                        0, -0.5*h + 0.5*conjugate(h),                         0,                        0,                        0],\n",
       "[                        0,                         0,                        0,                        0,                         0, -0.5*h + 0.5*conjugate(h),                        0,                        0],\n",
       "[                        0,                         0,                        0,                        0,                         0,                         0, 0.5*h - 0.5*conjugate(h),                        0],\n",
       "[                        0,                         0,                        0,                        0,                         0,                         0,                        0, 0.5*h - 0.5*conjugate(h)]])"
      ]
     },
     "execution_count": 38,
     "metadata": {},
     "output_type": "execute_result"
    }
   ],
   "source": [
    "sp.transpose(sp.conjugate(Hlsw))-Hlsw"
   ]
  },
  {
   "cell_type": "code",
   "execution_count": 39,
   "id": "196ee352b4e2fb96",
   "metadata": {
    "scrolled": false
   },
   "outputs": [
    {
     "data": {
      "text/latex": [
       "$\\displaystyle \\left[\\begin{matrix}1.5 J & 0 & 0 & 0 & 0 & 0.5 J e^{i \\left(- \\frac{k_{1}}{2} - \\frac{\\sqrt{3} k_{2}}{6}\\right)} + 0.5 J e^{i \\left(\\frac{k_{1}}{2} - \\frac{\\sqrt{3} k_{2}}{6}\\right)} & 0 & 0.5 J e^{\\frac{\\sqrt{3} i k_{2}}{3}}\\\\0 & 1.5 J & 0 & 0 & 0.5 J e^{- i \\left(\\frac{k_{1}}{2} - \\frac{\\sqrt{3} k_{2}}{6}\\right)} + 0.5 J e^{- i \\left(- \\frac{k_{1}}{2} - \\frac{\\sqrt{3} k_{2}}{6}\\right)} & 0 & 0.5 J e^{- \\frac{\\sqrt{3} i k_{2}}{3}} & 0\\\\0 & 0 & 1.5 J & 0 & 0 & 0.5 J e^{\\frac{\\sqrt{3} i k_{2}}{3}} & 0 & 0.5 J e^{i \\left(- \\frac{k_{1}}{2} - \\frac{\\sqrt{3} k_{2}}{6}\\right)} + 0.5 J e^{i \\left(\\frac{k_{1}}{2} - \\frac{\\sqrt{3} k_{2}}{6}\\right)}\\\\0 & 0 & 0 & 1.5 J & 0.5 J e^{- \\frac{\\sqrt{3} i k_{2}}{3}} & 0 & 0.5 J e^{- i \\left(\\frac{k_{1}}{2} - \\frac{\\sqrt{3} k_{2}}{6}\\right)} + 0.5 J e^{- i \\left(- \\frac{k_{1}}{2} - \\frac{\\sqrt{3} k_{2}}{6}\\right)} & 0\\\\0 & 0.5 J e^{i \\left(- \\frac{k_{1}}{2} - \\frac{\\sqrt{3} k_{2}}{6}\\right)} + 0.5 J e^{i \\left(\\frac{k_{1}}{2} - \\frac{\\sqrt{3} k_{2}}{6}\\right)} & 0 & 0.5 J e^{\\frac{\\sqrt{3} i k_{2}}{3}} & 1.5 J & 0 & 0 & 0\\\\0.5 J e^{- i \\left(\\frac{k_{1}}{2} - \\frac{\\sqrt{3} k_{2}}{6}\\right)} + 0.5 J e^{- i \\left(- \\frac{k_{1}}{2} - \\frac{\\sqrt{3} k_{2}}{6}\\right)} & 0 & 0.5 J e^{- \\frac{\\sqrt{3} i k_{2}}{3}} & 0 & 0 & 1.5 J & 0 & 0\\\\0 & 0.5 J e^{\\frac{\\sqrt{3} i k_{2}}{3}} & 0 & 0.5 J e^{i \\left(- \\frac{k_{1}}{2} - \\frac{\\sqrt{3} k_{2}}{6}\\right)} + 0.5 J e^{i \\left(\\frac{k_{1}}{2} - \\frac{\\sqrt{3} k_{2}}{6}\\right)} & 0 & 0 & 1.5 J & 0\\\\0.5 J e^{- \\frac{\\sqrt{3} i k_{2}}{3}} & 0 & 0.5 J e^{- i \\left(\\frac{k_{1}}{2} - \\frac{\\sqrt{3} k_{2}}{6}\\right)} + 0.5 J e^{- i \\left(- \\frac{k_{1}}{2} - \\frac{\\sqrt{3} k_{2}}{6}\\right)} & 0 & 0 & 0 & 0 & 1.5 J\\end{matrix}\\right]$"
      ],
      "text/plain": [
       "Matrix([\n",
       "[                                                                     1.5*J,                                                                        0,                                                                          0,                                                                        0,                                                                          0, 0.5*J*exp(I*(-k1/2 - sqrt(3)*k2/6)) + 0.5*J*exp(I*(k1/2 - sqrt(3)*k2/6)),                                                                          0,                                                0.5*J*exp(sqrt(3)*I*k2/3)],\n",
       "[                                                                         0,                                                                    1.5*J,                                                                          0,                                                                        0, 0.5*J*exp(-I*(k1/2 - sqrt(3)*k2/6)) + 0.5*J*exp(-I*(-k1/2 - sqrt(3)*k2/6)),                                                                        0,                                                 0.5*J*exp(-sqrt(3)*I*k2/3),                                                                        0],\n",
       "[                                                                         0,                                                                        0,                                                                      1.5*J,                                                                        0,                                                                          0,                                                0.5*J*exp(sqrt(3)*I*k2/3),                                                                          0, 0.5*J*exp(I*(-k1/2 - sqrt(3)*k2/6)) + 0.5*J*exp(I*(k1/2 - sqrt(3)*k2/6))],\n",
       "[                                                                         0,                                                                        0,                                                                          0,                                                                    1.5*J,                                                 0.5*J*exp(-sqrt(3)*I*k2/3),                                                                        0, 0.5*J*exp(-I*(k1/2 - sqrt(3)*k2/6)) + 0.5*J*exp(-I*(-k1/2 - sqrt(3)*k2/6)),                                                                        0],\n",
       "[                                                                         0, 0.5*J*exp(I*(-k1/2 - sqrt(3)*k2/6)) + 0.5*J*exp(I*(k1/2 - sqrt(3)*k2/6)),                                                                          0,                                                0.5*J*exp(sqrt(3)*I*k2/3),                                                                      1.5*J,                                                                        0,                                                                          0,                                                                        0],\n",
       "[0.5*J*exp(-I*(k1/2 - sqrt(3)*k2/6)) + 0.5*J*exp(-I*(-k1/2 - sqrt(3)*k2/6)),                                                                        0,                                                 0.5*J*exp(-sqrt(3)*I*k2/3),                                                                        0,                                                                          0,                                                                    1.5*J,                                                                          0,                                                                        0],\n",
       "[                                                                         0,                                                0.5*J*exp(sqrt(3)*I*k2/3),                                                                          0, 0.5*J*exp(I*(-k1/2 - sqrt(3)*k2/6)) + 0.5*J*exp(I*(k1/2 - sqrt(3)*k2/6)),                                                                          0,                                                                        0,                                                                      1.5*J,                                                                        0],\n",
       "[                                                0.5*J*exp(-sqrt(3)*I*k2/3),                                                                        0, 0.5*J*exp(-I*(k1/2 - sqrt(3)*k2/6)) + 0.5*J*exp(-I*(-k1/2 - sqrt(3)*k2/6)),                                                                        0,                                                                          0,                                                                        0,                                                                          0,                                                                    1.5*J]])"
      ]
     },
     "execution_count": 39,
     "metadata": {},
     "output_type": "execute_result"
    }
   ],
   "source": [
    "\n",
    "    # coupling energy scale in unit meV\n",
    "    # length scale in unit angstrom\n",
    "    # Here we use Sear's paprameter, for example:\n",
    "\n",
    "    # a=1. leave k1 and k2 arbitrary\n",
    "    # add_strg: add coupling strength\n",
    "\n",
    "Hlsw_J = Hlsw.subs([ (K, 0), (Gamma, 0), (gamma, 0), (h, 0), (a, 1)])\n",
    "Hlsw_J\n"
   ]
  },
  {
   "cell_type": "code",
   "execution_count": 40,
   "metadata": {},
   "outputs": [
    {
     "data": {
      "text/latex": [
       "$\\displaystyle \\left[\\begin{matrix}0 & 0 & 0 & 0 & 0 & 0 & 0 & 0\\\\0 & 0 & 0 & 0 & 0 & 0 & 0 & 0\\\\0 & 0 & 0 & 0 & 0 & 0 & 0 & 0\\\\0 & 0 & 0 & 0 & 0 & 0 & 0 & 0\\\\0 & 0 & 0 & 0 & 0 & 0 & 0 & 0\\\\0 & 0 & 0 & 0 & 0 & 0 & 0 & 0\\\\0 & 0 & 0 & 0 & 0 & 0 & 0 & 0\\\\0 & 0 & 0 & 0 & 0 & 0 & 0 & 0\\end{matrix}\\right]$"
      ],
      "text/plain": [
       "Matrix([\n",
       "[0, 0, 0, 0, 0, 0, 0, 0],\n",
       "[0, 0, 0, 0, 0, 0, 0, 0],\n",
       "[0, 0, 0, 0, 0, 0, 0, 0],\n",
       "[0, 0, 0, 0, 0, 0, 0, 0],\n",
       "[0, 0, 0, 0, 0, 0, 0, 0],\n",
       "[0, 0, 0, 0, 0, 0, 0, 0],\n",
       "[0, 0, 0, 0, 0, 0, 0, 0],\n",
       "[0, 0, 0, 0, 0, 0, 0, 0]])"
      ]
     },
     "execution_count": 40,
     "metadata": {},
     "output_type": "execute_result"
    }
   ],
   "source": [
    "sp.transpose(sp.conjugate(Hlsw_J))-Hlsw_J"
   ]
  },
  {
   "cell_type": "code",
   "execution_count": 41,
   "metadata": {},
   "outputs": [
    {
     "data": {
      "text/latex": [
       "$\\displaystyle \\left[\\begin{matrix}1.0 K & 0.5 K e^{i \\left(\\frac{k_{1}}{2} - \\frac{\\sqrt{3} k_{2}}{6}\\right)} & 0 & - 0.5 K e^{\\frac{\\sqrt{3} i k_{2}}{3}} & 0 & 0.5 K e^{i \\left(\\frac{k_{1}}{2} - \\frac{\\sqrt{3} k_{2}}{6}\\right)} & 0 & 0.5 K e^{\\frac{\\sqrt{3} i k_{2}}{3}}\\\\0.5 K e^{- i \\left(\\frac{k_{1}}{2} - \\frac{\\sqrt{3} k_{2}}{6}\\right)} & 1.0 K & - 0.5 K e^{- \\frac{\\sqrt{3} i k_{2}}{3}} & 0 & 0.5 K e^{- i \\left(\\frac{k_{1}}{2} - \\frac{\\sqrt{3} k_{2}}{6}\\right)} & 0 & 0.5 K e^{- \\frac{\\sqrt{3} i k_{2}}{3}} & 0\\\\0 & - 0.5 K e^{\\frac{\\sqrt{3} i k_{2}}{3}} & 1.0 K & 0.5 K e^{i \\left(\\frac{k_{1}}{2} - \\frac{\\sqrt{3} k_{2}}{6}\\right)} & 0 & 0.5 K e^{\\frac{\\sqrt{3} i k_{2}}{3}} & 0 & 0.5 K e^{i \\left(\\frac{k_{1}}{2} - \\frac{\\sqrt{3} k_{2}}{6}\\right)}\\\\- 0.5 K e^{- \\frac{\\sqrt{3} i k_{2}}{3}} & 0 & 0.5 K e^{- i \\left(\\frac{k_{1}}{2} - \\frac{\\sqrt{3} k_{2}}{6}\\right)} & 1.0 K & 0.5 K e^{- \\frac{\\sqrt{3} i k_{2}}{3}} & 0 & 0.5 K e^{- i \\left(\\frac{k_{1}}{2} - \\frac{\\sqrt{3} k_{2}}{6}\\right)} & 0\\\\0 & 0.5 K e^{i \\left(\\frac{k_{1}}{2} - \\frac{\\sqrt{3} k_{2}}{6}\\right)} & 0 & 0.5 K e^{\\frac{\\sqrt{3} i k_{2}}{3}} & 1.0 K & 0.5 K e^{i \\left(\\frac{k_{1}}{2} - \\frac{\\sqrt{3} k_{2}}{6}\\right)} & 0 & - 0.5 K e^{\\frac{\\sqrt{3} i k_{2}}{3}}\\\\0.5 K e^{- i \\left(\\frac{k_{1}}{2} - \\frac{\\sqrt{3} k_{2}}{6}\\right)} & 0 & 0.5 K e^{- \\frac{\\sqrt{3} i k_{2}}{3}} & 0 & 0.5 K e^{- i \\left(\\frac{k_{1}}{2} - \\frac{\\sqrt{3} k_{2}}{6}\\right)} & 1.0 K & - 0.5 K e^{- \\frac{\\sqrt{3} i k_{2}}{3}} & 0\\\\0 & 0.5 K e^{\\frac{\\sqrt{3} i k_{2}}{3}} & 0 & 0.5 K e^{i \\left(\\frac{k_{1}}{2} - \\frac{\\sqrt{3} k_{2}}{6}\\right)} & 0 & - 0.5 K e^{\\frac{\\sqrt{3} i k_{2}}{3}} & 1.0 K & 0.5 K e^{i \\left(\\frac{k_{1}}{2} - \\frac{\\sqrt{3} k_{2}}{6}\\right)}\\\\0.5 K e^{- \\frac{\\sqrt{3} i k_{2}}{3}} & 0 & 0.5 K e^{- i \\left(\\frac{k_{1}}{2} - \\frac{\\sqrt{3} k_{2}}{6}\\right)} & 0 & - 0.5 K e^{- \\frac{\\sqrt{3} i k_{2}}{3}} & 0 & 0.5 K e^{- i \\left(\\frac{k_{1}}{2} - \\frac{\\sqrt{3} k_{2}}{6}\\right)} & 1.0 K\\end{matrix}\\right]$"
      ],
      "text/plain": [
       "Matrix([\n",
       "[                              1.0*K, 0.5*K*exp(I*(k1/2 - sqrt(3)*k2/6)),                                   0,         -0.5*K*exp(sqrt(3)*I*k2/3),                                   0, 0.5*K*exp(I*(k1/2 - sqrt(3)*k2/6)),                                   0,          0.5*K*exp(sqrt(3)*I*k2/3)],\n",
       "[0.5*K*exp(-I*(k1/2 - sqrt(3)*k2/6)),                              1.0*K,         -0.5*K*exp(-sqrt(3)*I*k2/3),                                  0, 0.5*K*exp(-I*(k1/2 - sqrt(3)*k2/6)),                                  0,          0.5*K*exp(-sqrt(3)*I*k2/3),                                  0],\n",
       "[                                  0,         -0.5*K*exp(sqrt(3)*I*k2/3),                               1.0*K, 0.5*K*exp(I*(k1/2 - sqrt(3)*k2/6)),                                   0,          0.5*K*exp(sqrt(3)*I*k2/3),                                   0, 0.5*K*exp(I*(k1/2 - sqrt(3)*k2/6))],\n",
       "[        -0.5*K*exp(-sqrt(3)*I*k2/3),                                  0, 0.5*K*exp(-I*(k1/2 - sqrt(3)*k2/6)),                              1.0*K,          0.5*K*exp(-sqrt(3)*I*k2/3),                                  0, 0.5*K*exp(-I*(k1/2 - sqrt(3)*k2/6)),                                  0],\n",
       "[                                  0, 0.5*K*exp(I*(k1/2 - sqrt(3)*k2/6)),                                   0,          0.5*K*exp(sqrt(3)*I*k2/3),                               1.0*K, 0.5*K*exp(I*(k1/2 - sqrt(3)*k2/6)),                                   0,         -0.5*K*exp(sqrt(3)*I*k2/3)],\n",
       "[0.5*K*exp(-I*(k1/2 - sqrt(3)*k2/6)),                                  0,          0.5*K*exp(-sqrt(3)*I*k2/3),                                  0, 0.5*K*exp(-I*(k1/2 - sqrt(3)*k2/6)),                              1.0*K,         -0.5*K*exp(-sqrt(3)*I*k2/3),                                  0],\n",
       "[                                  0,          0.5*K*exp(sqrt(3)*I*k2/3),                                   0, 0.5*K*exp(I*(k1/2 - sqrt(3)*k2/6)),                                   0,         -0.5*K*exp(sqrt(3)*I*k2/3),                               1.0*K, 0.5*K*exp(I*(k1/2 - sqrt(3)*k2/6))],\n",
       "[         0.5*K*exp(-sqrt(3)*I*k2/3),                                  0, 0.5*K*exp(-I*(k1/2 - sqrt(3)*k2/6)),                                  0,         -0.5*K*exp(-sqrt(3)*I*k2/3),                                  0, 0.5*K*exp(-I*(k1/2 - sqrt(3)*k2/6)),                              1.0*K]])"
      ]
     },
     "execution_count": 41,
     "metadata": {},
     "output_type": "execute_result"
    }
   ],
   "source": [
    "Hlsw_K = Hlsw.subs([ (J,0), (Gamma, 0), (gamma, 0), (h, 0), (a, 1)])\n",
    "Hlsw_K"
   ]
  },
  {
   "cell_type": "code",
   "execution_count": 42,
   "metadata": {},
   "outputs": [
    {
     "data": {
      "text/latex": [
       "$\\displaystyle \\left[\\begin{matrix}0 & 0 & 0 & 0 & 0 & 0 & 0 & 0\\\\0 & 0 & 0 & 0 & 0 & 0 & 0 & 0\\\\0 & 0 & 0 & 0 & 0 & 0 & 0 & 0\\\\0 & 0 & 0 & 0 & 0 & 0 & 0 & 0\\\\0 & 0 & 0 & 0 & 0 & 0 & 0 & 0\\\\0 & 0 & 0 & 0 & 0 & 0 & 0 & 0\\\\0 & 0 & 0 & 0 & 0 & 0 & 0 & 0\\\\0 & 0 & 0 & 0 & 0 & 0 & 0 & 0\\end{matrix}\\right]$"
      ],
      "text/plain": [
       "Matrix([\n",
       "[0, 0, 0, 0, 0, 0, 0, 0],\n",
       "[0, 0, 0, 0, 0, 0, 0, 0],\n",
       "[0, 0, 0, 0, 0, 0, 0, 0],\n",
       "[0, 0, 0, 0, 0, 0, 0, 0],\n",
       "[0, 0, 0, 0, 0, 0, 0, 0],\n",
       "[0, 0, 0, 0, 0, 0, 0, 0],\n",
       "[0, 0, 0, 0, 0, 0, 0, 0],\n",
       "[0, 0, 0, 0, 0, 0, 0, 0]])"
      ]
     },
     "execution_count": 42,
     "metadata": {},
     "output_type": "execute_result"
    }
   ],
   "source": [
    "sp.transpose(sp.conjugate(Hlsw_K))-Hlsw_K"
   ]
  },
  {
   "cell_type": "code",
   "execution_count": 43,
   "metadata": {
    "scrolled": true
   },
   "outputs": [
    {
     "data": {
      "text/latex": [
       "$\\displaystyle \\left[\\begin{matrix}- 6.12323399573677 \\cdot 10^{-17} Γ & 0.5 i Γ e^{i \\left(- \\frac{k_{1}}{2} - \\frac{\\sqrt{3} k_{2}}{6}\\right)} + 3.06161699786838 \\cdot 10^{-17} i Γ e^{i \\left(\\frac{k_{1}}{2} - \\frac{\\sqrt{3} k_{2}}{6}\\right)} & 0 & 3.06161699786838 \\cdot 10^{-17} Γ e^{\\frac{\\sqrt{3} i k_{2}}{3}} & 0 & 3.06161699786838 \\cdot 10^{-17} i Γ e^{i \\left(\\frac{k_{1}}{2} - \\frac{\\sqrt{3} k_{2}}{6}\\right)} & 0 & 3.06161699786838 \\cdot 10^{-17} Γ e^{\\frac{\\sqrt{3} i k_{2}}{3}}\\\\- 3.06161699786838 \\cdot 10^{-17} i Γ e^{- i \\left(\\frac{k_{1}}{2} - \\frac{\\sqrt{3} k_{2}}{6}\\right)} - 0.5 i Γ e^{- i \\left(- \\frac{k_{1}}{2} - \\frac{\\sqrt{3} k_{2}}{6}\\right)} & - 6.12323399573677 \\cdot 10^{-17} Γ & 3.06161699786838 \\cdot 10^{-17} Γ e^{- \\frac{\\sqrt{3} i k_{2}}{3}} & 0 & 3.06161699786838 \\cdot 10^{-17} i Γ e^{- i \\left(\\frac{k_{1}}{2} - \\frac{\\sqrt{3} k_{2}}{6}\\right)} & 0 & 3.06161699786838 \\cdot 10^{-17} Γ e^{- \\frac{\\sqrt{3} i k_{2}}{3}} & 0\\\\0 & 3.06161699786838 \\cdot 10^{-17} Γ e^{\\frac{\\sqrt{3} i k_{2}}{3}} & - 6.12323399573677 \\cdot 10^{-17} Γ & 0.5 i Γ e^{i \\left(- \\frac{k_{1}}{2} - \\frac{\\sqrt{3} k_{2}}{6}\\right)} + 3.06161699786838 \\cdot 10^{-17} i Γ e^{i \\left(\\frac{k_{1}}{2} - \\frac{\\sqrt{3} k_{2}}{6}\\right)} & 0 & 3.06161699786838 \\cdot 10^{-17} Γ e^{\\frac{\\sqrt{3} i k_{2}}{3}} & 0 & 3.06161699786838 \\cdot 10^{-17} i Γ e^{i \\left(\\frac{k_{1}}{2} - \\frac{\\sqrt{3} k_{2}}{6}\\right)}\\\\3.06161699786838 \\cdot 10^{-17} Γ e^{- \\frac{\\sqrt{3} i k_{2}}{3}} & 0 & - 3.06161699786838 \\cdot 10^{-17} i Γ e^{- i \\left(\\frac{k_{1}}{2} - \\frac{\\sqrt{3} k_{2}}{6}\\right)} - 0.5 i Γ e^{- i \\left(- \\frac{k_{1}}{2} - \\frac{\\sqrt{3} k_{2}}{6}\\right)} & - 6.12323399573677 \\cdot 10^{-17} Γ & 3.06161699786838 \\cdot 10^{-17} Γ e^{- \\frac{\\sqrt{3} i k_{2}}{3}} & 0 & 3.06161699786838 \\cdot 10^{-17} i Γ e^{- i \\left(\\frac{k_{1}}{2} - \\frac{\\sqrt{3} k_{2}}{6}\\right)} & 0\\\\0 & - 3.06161699786838 \\cdot 10^{-17} i Γ e^{i \\left(\\frac{k_{1}}{2} - \\frac{\\sqrt{3} k_{2}}{6}\\right)} & 0 & 3.06161699786838 \\cdot 10^{-17} Γ e^{\\frac{\\sqrt{3} i k_{2}}{3}} & - 6.12323399573677 \\cdot 10^{-17} Γ & 0.5 i Γ e^{i \\left(- \\frac{k_{1}}{2} - \\frac{\\sqrt{3} k_{2}}{6}\\right)} + 3.06161699786838 \\cdot 10^{-17} i Γ e^{i \\left(\\frac{k_{1}}{2} - \\frac{\\sqrt{3} k_{2}}{6}\\right)} & 0 & 3.06161699786838 \\cdot 10^{-17} Γ e^{\\frac{\\sqrt{3} i k_{2}}{3}}\\\\- 3.06161699786838 \\cdot 10^{-17} i Γ e^{- i \\left(\\frac{k_{1}}{2} - \\frac{\\sqrt{3} k_{2}}{6}\\right)} & 0 & 3.06161699786838 \\cdot 10^{-17} Γ e^{- \\frac{\\sqrt{3} i k_{2}}{3}} & 0 & - 3.06161699786838 \\cdot 10^{-17} i Γ e^{- i \\left(\\frac{k_{1}}{2} - \\frac{\\sqrt{3} k_{2}}{6}\\right)} - 0.5 i Γ e^{- i \\left(- \\frac{k_{1}}{2} - \\frac{\\sqrt{3} k_{2}}{6}\\right)} & - 6.12323399573677 \\cdot 10^{-17} Γ & 3.06161699786838 \\cdot 10^{-17} Γ e^{- \\frac{\\sqrt{3} i k_{2}}{3}} & 0\\\\0 & 3.06161699786838 \\cdot 10^{-17} Γ e^{\\frac{\\sqrt{3} i k_{2}}{3}} & 0 & - 3.06161699786838 \\cdot 10^{-17} i Γ e^{i \\left(\\frac{k_{1}}{2} - \\frac{\\sqrt{3} k_{2}}{6}\\right)} & 0 & 3.06161699786838 \\cdot 10^{-17} Γ e^{\\frac{\\sqrt{3} i k_{2}}{3}} & - 6.12323399573677 \\cdot 10^{-17} Γ & 0.5 i Γ e^{i \\left(- \\frac{k_{1}}{2} - \\frac{\\sqrt{3} k_{2}}{6}\\right)} + 3.06161699786838 \\cdot 10^{-17} i Γ e^{i \\left(\\frac{k_{1}}{2} - \\frac{\\sqrt{3} k_{2}}{6}\\right)}\\\\3.06161699786838 \\cdot 10^{-17} Γ e^{- \\frac{\\sqrt{3} i k_{2}}{3}} & 0 & - 3.06161699786838 \\cdot 10^{-17} i Γ e^{- i \\left(\\frac{k_{1}}{2} - \\frac{\\sqrt{3} k_{2}}{6}\\right)} & 0 & 3.06161699786838 \\cdot 10^{-17} Γ e^{- \\frac{\\sqrt{3} i k_{2}}{3}} & 0 & - 3.06161699786838 \\cdot 10^{-17} i Γ e^{- i \\left(\\frac{k_{1}}{2} - \\frac{\\sqrt{3} k_{2}}{6}\\right)} - 0.5 i Γ e^{- i \\left(- \\frac{k_{1}}{2} - \\frac{\\sqrt{3} k_{2}}{6}\\right)} & - 6.12323399573677 \\cdot 10^{-17} Γ\\end{matrix}\\right]$"
      ],
      "text/plain": [
       "Matrix([\n",
       "[                                                                         -6.12323399573677e-17*Γ, 0.5*I*Γ*exp(I*(-k1/2 - sqrt(3)*k2/6)) + 3.06161699786838e-17*I*Γ*exp(I*(k1/2 - sqrt(3)*k2/6)),                                                                                                0,                                                    3.06161699786838e-17*Γ*exp(sqrt(3)*I*k2/3),                                                                                                0,                                         3.06161699786838e-17*I*Γ*exp(I*(k1/2 - sqrt(3)*k2/6)),                                                                                                0,                                                    3.06161699786838e-17*Γ*exp(sqrt(3)*I*k2/3)],\n",
       "[-3.06161699786838e-17*I*Γ*exp(-I*(k1/2 - sqrt(3)*k2/6)) - 0.5*I*Γ*exp(-I*(-k1/2 - sqrt(3)*k2/6)),                                                                       -6.12323399573677e-17*Γ,                                                      3.06161699786838e-17*Γ*exp(-sqrt(3)*I*k2/3),                                                                                             0,                                           3.06161699786838e-17*I*Γ*exp(-I*(k1/2 - sqrt(3)*k2/6)),                                                                                             0,                                                      3.06161699786838e-17*Γ*exp(-sqrt(3)*I*k2/3),                                                                                             0],\n",
       "[                                                                                               0,                                                    3.06161699786838e-17*Γ*exp(sqrt(3)*I*k2/3),                                                                          -6.12323399573677e-17*Γ, 0.5*I*Γ*exp(I*(-k1/2 - sqrt(3)*k2/6)) + 3.06161699786838e-17*I*Γ*exp(I*(k1/2 - sqrt(3)*k2/6)),                                                                                                0,                                                    3.06161699786838e-17*Γ*exp(sqrt(3)*I*k2/3),                                                                                                0,                                         3.06161699786838e-17*I*Γ*exp(I*(k1/2 - sqrt(3)*k2/6))],\n",
       "[                                                     3.06161699786838e-17*Γ*exp(-sqrt(3)*I*k2/3),                                                                                             0, -3.06161699786838e-17*I*Γ*exp(-I*(k1/2 - sqrt(3)*k2/6)) - 0.5*I*Γ*exp(-I*(-k1/2 - sqrt(3)*k2/6)),                                                                       -6.12323399573677e-17*Γ,                                                      3.06161699786838e-17*Γ*exp(-sqrt(3)*I*k2/3),                                                                                             0,                                           3.06161699786838e-17*I*Γ*exp(-I*(k1/2 - sqrt(3)*k2/6)),                                                                                             0],\n",
       "[                                                                                               0,                                        -3.06161699786838e-17*I*Γ*exp(I*(k1/2 - sqrt(3)*k2/6)),                                                                                                0,                                                    3.06161699786838e-17*Γ*exp(sqrt(3)*I*k2/3),                                                                          -6.12323399573677e-17*Γ, 0.5*I*Γ*exp(I*(-k1/2 - sqrt(3)*k2/6)) + 3.06161699786838e-17*I*Γ*exp(I*(k1/2 - sqrt(3)*k2/6)),                                                                                                0,                                                    3.06161699786838e-17*Γ*exp(sqrt(3)*I*k2/3)],\n",
       "[                                         -3.06161699786838e-17*I*Γ*exp(-I*(k1/2 - sqrt(3)*k2/6)),                                                                                             0,                                                      3.06161699786838e-17*Γ*exp(-sqrt(3)*I*k2/3),                                                                                             0, -3.06161699786838e-17*I*Γ*exp(-I*(k1/2 - sqrt(3)*k2/6)) - 0.5*I*Γ*exp(-I*(-k1/2 - sqrt(3)*k2/6)),                                                                       -6.12323399573677e-17*Γ,                                                      3.06161699786838e-17*Γ*exp(-sqrt(3)*I*k2/3),                                                                                             0],\n",
       "[                                                                                               0,                                                    3.06161699786838e-17*Γ*exp(sqrt(3)*I*k2/3),                                                                                                0,                                        -3.06161699786838e-17*I*Γ*exp(I*(k1/2 - sqrt(3)*k2/6)),                                                                                                0,                                                    3.06161699786838e-17*Γ*exp(sqrt(3)*I*k2/3),                                                                          -6.12323399573677e-17*Γ, 0.5*I*Γ*exp(I*(-k1/2 - sqrt(3)*k2/6)) + 3.06161699786838e-17*I*Γ*exp(I*(k1/2 - sqrt(3)*k2/6))],\n",
       "[                                                     3.06161699786838e-17*Γ*exp(-sqrt(3)*I*k2/3),                                                                                             0,                                          -3.06161699786838e-17*I*Γ*exp(-I*(k1/2 - sqrt(3)*k2/6)),                                                                                             0,                                                      3.06161699786838e-17*Γ*exp(-sqrt(3)*I*k2/3),                                                                                             0, -3.06161699786838e-17*I*Γ*exp(-I*(k1/2 - sqrt(3)*k2/6)) - 0.5*I*Γ*exp(-I*(-k1/2 - sqrt(3)*k2/6)),                                                                       -6.12323399573677e-17*Γ]])"
      ]
     },
     "execution_count": 43,
     "metadata": {},
     "output_type": "execute_result"
    }
   ],
   "source": [
    "Hlsw_Gamma = Hlsw.subs([(J,0), (K, 0), (gamma, 0), (h, 0), (a, 1)])\n",
    "Hlsw_Gamma"
   ]
  },
  {
   "cell_type": "code",
   "execution_count": 44,
   "metadata": {},
   "outputs": [
    {
     "data": {
      "text/latex": [
       "$\\displaystyle \\left[\\begin{matrix}0 & 0 & 0 & 0 & 0 & 0 & 0 & 0\\\\0 & 0 & 0 & 0 & 0 & 0 & 0 & 0\\\\0 & 0 & 0 & 0 & 0 & 0 & 0 & 0\\\\0 & 0 & 0 & 0 & 0 & 0 & 0 & 0\\\\0 & 0 & 0 & 0 & 0 & 0 & 0 & 0\\\\0 & 0 & 0 & 0 & 0 & 0 & 0 & 0\\\\0 & 0 & 0 & 0 & 0 & 0 & 0 & 0\\\\0 & 0 & 0 & 0 & 0 & 0 & 0 & 0\\end{matrix}\\right]$"
      ],
      "text/plain": [
       "Matrix([\n",
       "[0, 0, 0, 0, 0, 0, 0, 0],\n",
       "[0, 0, 0, 0, 0, 0, 0, 0],\n",
       "[0, 0, 0, 0, 0, 0, 0, 0],\n",
       "[0, 0, 0, 0, 0, 0, 0, 0],\n",
       "[0, 0, 0, 0, 0, 0, 0, 0],\n",
       "[0, 0, 0, 0, 0, 0, 0, 0],\n",
       "[0, 0, 0, 0, 0, 0, 0, 0],\n",
       "[0, 0, 0, 0, 0, 0, 0, 0]])"
      ]
     },
     "execution_count": 44,
     "metadata": {},
     "output_type": "execute_result"
    }
   ],
   "source": [
    "sp.transpose(sp.conjugate(Hlsw_Gamma))-Hlsw_Gamma"
   ]
  },
  {
   "cell_type": "code",
   "execution_count": 45,
   "metadata": {
    "scrolled": true
   },
   "outputs": [
    {
     "data": {
      "text/latex": [
       "$\\displaystyle \\left[\\begin{matrix}- 1.22464679914735 \\cdot 10^{-16} Γ' & 0.5 \\cdot \\left(6.12323399573677 \\cdot 10^{-17} Γ' + 6.12323399573677 \\cdot 10^{-17} i Γ'\\right) e^{i \\left(- \\frac{k_{1}}{2} - \\frac{\\sqrt{3} k_{2}}{6}\\right)} + 0.5 \\cdot \\left(6.12323399573677 \\cdot 10^{-17} Γ' + 1.0 i Γ'\\right) e^{i \\left(\\frac{k_{1}}{2} - \\frac{\\sqrt{3} k_{2}}{6}\\right)} & 0 & 0.5 i Γ' e^{\\frac{\\sqrt{3} i k_{2}}{3}} & 0 & 3.06161699786838 \\cdot 10^{-17} Γ' e^{i \\left(\\frac{k_{1}}{2} - \\frac{\\sqrt{3} k_{2}}{6}\\right)} + 0.5 \\cdot \\left(6.12323399573677 \\cdot 10^{-17} Γ' + 6.12323399573677 \\cdot 10^{-17} i Γ'\\right) e^{i \\left(- \\frac{k_{1}}{2} - \\frac{\\sqrt{3} k_{2}}{6}\\right)} & 0 & 5.55111512312578 \\cdot 10^{-17} i Γ' e^{\\frac{\\sqrt{3} i k_{2}}{3}}\\\\0.5 \\cdot \\left(6.12323399573677 \\cdot 10^{-17} Γ' - 1.0 i Γ'\\right) e^{- i \\left(\\frac{k_{1}}{2} - \\frac{\\sqrt{3} k_{2}}{6}\\right)} + 0.5 \\cdot \\left(6.12323399573677 \\cdot 10^{-17} Γ' - 6.12323399573677 \\cdot 10^{-17} i Γ'\\right) e^{- i \\left(- \\frac{k_{1}}{2} - \\frac{\\sqrt{3} k_{2}}{6}\\right)} & - 1.22464679914735 \\cdot 10^{-16} Γ' & - 0.5 i Γ' e^{- \\frac{\\sqrt{3} i k_{2}}{3}} & 0 & 3.06161699786838 \\cdot 10^{-17} Γ' e^{- i \\left(\\frac{k_{1}}{2} - \\frac{\\sqrt{3} k_{2}}{6}\\right)} + 0.5 \\cdot \\left(6.12323399573677 \\cdot 10^{-17} Γ' + 6.12323399573677 \\cdot 10^{-17} i Γ'\\right) e^{- i \\left(- \\frac{k_{1}}{2} - \\frac{\\sqrt{3} k_{2}}{6}\\right)} & 0 & 5.55111512312578 \\cdot 10^{-17} i Γ' e^{- \\frac{\\sqrt{3} i k_{2}}{3}} & 0\\\\0 & 0.5 i Γ' e^{\\frac{\\sqrt{3} i k_{2}}{3}} & - 1.22464679914735 \\cdot 10^{-16} Γ' & 0.5 \\cdot \\left(6.12323399573677 \\cdot 10^{-17} Γ' + 6.12323399573677 \\cdot 10^{-17} i Γ'\\right) e^{i \\left(- \\frac{k_{1}}{2} - \\frac{\\sqrt{3} k_{2}}{6}\\right)} + 0.5 \\cdot \\left(6.12323399573677 \\cdot 10^{-17} Γ' + 1.0 i Γ'\\right) e^{i \\left(\\frac{k_{1}}{2} - \\frac{\\sqrt{3} k_{2}}{6}\\right)} & 0 & 5.55111512312578 \\cdot 10^{-17} i Γ' e^{\\frac{\\sqrt{3} i k_{2}}{3}} & 0 & 3.06161699786838 \\cdot 10^{-17} Γ' e^{i \\left(\\frac{k_{1}}{2} - \\frac{\\sqrt{3} k_{2}}{6}\\right)} + 0.5 \\cdot \\left(6.12323399573677 \\cdot 10^{-17} Γ' + 6.12323399573677 \\cdot 10^{-17} i Γ'\\right) e^{i \\left(- \\frac{k_{1}}{2} - \\frac{\\sqrt{3} k_{2}}{6}\\right)}\\\\- 0.5 i Γ' e^{- \\frac{\\sqrt{3} i k_{2}}{3}} & 0 & 0.5 \\cdot \\left(6.12323399573677 \\cdot 10^{-17} Γ' - 1.0 i Γ'\\right) e^{- i \\left(\\frac{k_{1}}{2} - \\frac{\\sqrt{3} k_{2}}{6}\\right)} + 0.5 \\cdot \\left(6.12323399573677 \\cdot 10^{-17} Γ' - 6.12323399573677 \\cdot 10^{-17} i Γ'\\right) e^{- i \\left(- \\frac{k_{1}}{2} - \\frac{\\sqrt{3} k_{2}}{6}\\right)} & - 1.22464679914735 \\cdot 10^{-16} Γ' & 5.55111512312578 \\cdot 10^{-17} i Γ' e^{- \\frac{\\sqrt{3} i k_{2}}{3}} & 0 & 3.06161699786838 \\cdot 10^{-17} Γ' e^{- i \\left(\\frac{k_{1}}{2} - \\frac{\\sqrt{3} k_{2}}{6}\\right)} + 0.5 \\cdot \\left(6.12323399573677 \\cdot 10^{-17} Γ' + 6.12323399573677 \\cdot 10^{-17} i Γ'\\right) e^{- i \\left(- \\frac{k_{1}}{2} - \\frac{\\sqrt{3} k_{2}}{6}\\right)} & 0\\\\0 & 3.06161699786838 \\cdot 10^{-17} Γ' e^{i \\left(\\frac{k_{1}}{2} - \\frac{\\sqrt{3} k_{2}}{6}\\right)} + 0.5 \\cdot \\left(6.12323399573677 \\cdot 10^{-17} Γ' - 6.12323399573677 \\cdot 10^{-17} i Γ'\\right) e^{i \\left(- \\frac{k_{1}}{2} - \\frac{\\sqrt{3} k_{2}}{6}\\right)} & 0 & - 5.55111512312578 \\cdot 10^{-17} i Γ' e^{\\frac{\\sqrt{3} i k_{2}}{3}} & - 1.22464679914735 \\cdot 10^{-16} Γ' & 0.5 \\cdot \\left(6.12323399573677 \\cdot 10^{-17} Γ' + 6.12323399573677 \\cdot 10^{-17} i Γ'\\right) e^{i \\left(- \\frac{k_{1}}{2} - \\frac{\\sqrt{3} k_{2}}{6}\\right)} + 0.5 \\cdot \\left(6.12323399573677 \\cdot 10^{-17} Γ' + 1.0 i Γ'\\right) e^{i \\left(\\frac{k_{1}}{2} - \\frac{\\sqrt{3} k_{2}}{6}\\right)} & 0 & 0.5 i Γ' e^{\\frac{\\sqrt{3} i k_{2}}{3}}\\\\3.06161699786838 \\cdot 10^{-17} Γ' e^{- i \\left(\\frac{k_{1}}{2} - \\frac{\\sqrt{3} k_{2}}{6}\\right)} + 0.5 \\cdot \\left(6.12323399573677 \\cdot 10^{-17} Γ' - 6.12323399573677 \\cdot 10^{-17} i Γ'\\right) e^{- i \\left(- \\frac{k_{1}}{2} - \\frac{\\sqrt{3} k_{2}}{6}\\right)} & 0 & - 5.55111512312578 \\cdot 10^{-17} i Γ' e^{- \\frac{\\sqrt{3} i k_{2}}{3}} & 0 & 0.5 \\cdot \\left(6.12323399573677 \\cdot 10^{-17} Γ' - 1.0 i Γ'\\right) e^{- i \\left(\\frac{k_{1}}{2} - \\frac{\\sqrt{3} k_{2}}{6}\\right)} + 0.5 \\cdot \\left(6.12323399573677 \\cdot 10^{-17} Γ' - 6.12323399573677 \\cdot 10^{-17} i Γ'\\right) e^{- i \\left(- \\frac{k_{1}}{2} - \\frac{\\sqrt{3} k_{2}}{6}\\right)} & - 1.22464679914735 \\cdot 10^{-16} Γ' & - 0.5 i Γ' e^{- \\frac{\\sqrt{3} i k_{2}}{3}} & 0\\\\0 & - 5.55111512312578 \\cdot 10^{-17} i Γ' e^{\\frac{\\sqrt{3} i k_{2}}{3}} & 0 & 3.06161699786838 \\cdot 10^{-17} Γ' e^{i \\left(\\frac{k_{1}}{2} - \\frac{\\sqrt{3} k_{2}}{6}\\right)} + 0.5 \\cdot \\left(6.12323399573677 \\cdot 10^{-17} Γ' - 6.12323399573677 \\cdot 10^{-17} i Γ'\\right) e^{i \\left(- \\frac{k_{1}}{2} - \\frac{\\sqrt{3} k_{2}}{6}\\right)} & 0 & 0.5 i Γ' e^{\\frac{\\sqrt{3} i k_{2}}{3}} & - 1.22464679914735 \\cdot 10^{-16} Γ' & 0.5 \\cdot \\left(6.12323399573677 \\cdot 10^{-17} Γ' + 6.12323399573677 \\cdot 10^{-17} i Γ'\\right) e^{i \\left(- \\frac{k_{1}}{2} - \\frac{\\sqrt{3} k_{2}}{6}\\right)} + 0.5 \\cdot \\left(6.12323399573677 \\cdot 10^{-17} Γ' + 1.0 i Γ'\\right) e^{i \\left(\\frac{k_{1}}{2} - \\frac{\\sqrt{3} k_{2}}{6}\\right)}\\\\- 5.55111512312578 \\cdot 10^{-17} i Γ' e^{- \\frac{\\sqrt{3} i k_{2}}{3}} & 0 & 3.06161699786838 \\cdot 10^{-17} Γ' e^{- i \\left(\\frac{k_{1}}{2} - \\frac{\\sqrt{3} k_{2}}{6}\\right)} + 0.5 \\cdot \\left(6.12323399573677 \\cdot 10^{-17} Γ' - 6.12323399573677 \\cdot 10^{-17} i Γ'\\right) e^{- i \\left(- \\frac{k_{1}}{2} - \\frac{\\sqrt{3} k_{2}}{6}\\right)} & 0 & - 0.5 i Γ' e^{- \\frac{\\sqrt{3} i k_{2}}{3}} & 0 & 0.5 \\cdot \\left(6.12323399573677 \\cdot 10^{-17} Γ' - 1.0 i Γ'\\right) e^{- i \\left(\\frac{k_{1}}{2} - \\frac{\\sqrt{3} k_{2}}{6}\\right)} + 0.5 \\cdot \\left(6.12323399573677 \\cdot 10^{-17} Γ' - 6.12323399573677 \\cdot 10^{-17} i Γ'\\right) e^{- i \\left(- \\frac{k_{1}}{2} - \\frac{\\sqrt{3} k_{2}}{6}\\right)} & - 1.22464679914735 \\cdot 10^{-16} Γ'\\end{matrix}\\right]$"
      ],
      "text/plain": [
       "Matrix([\n",
       "[                                                                                                                                         -1.22464679914735e-16*Γ', 0.5*(6.12323399573677e-17*Γ' + 6.12323399573677e-17*I*Γ')*exp(I*(-k1/2 - sqrt(3)*k2/6)) + 0.5*(6.12323399573677e-17*Γ' + 1.0*I*Γ')*exp(I*(k1/2 - sqrt(3)*k2/6)),                                                                                                                                                                 0,                                                                                                                                    0.5*I*Γ'*exp(sqrt(3)*I*k2/3),                                                                                                                                                                 0,                  3.06161699786838e-17*Γ'*exp(I*(k1/2 - sqrt(3)*k2/6)) + 0.5*(6.12323399573677e-17*Γ' + 6.12323399573677e-17*I*Γ')*exp(I*(-k1/2 - sqrt(3)*k2/6)),                                                                                                                                                                 0,                                                                                                                   5.55111512312578e-17*I*Γ'*exp(sqrt(3)*I*k2/3)],\n",
       "[0.5*(6.12323399573677e-17*Γ' - 1.0*I*Γ')*exp(-I*(k1/2 - sqrt(3)*k2/6)) + 0.5*(6.12323399573677e-17*Γ' - 6.12323399573677e-17*I*Γ')*exp(-I*(-k1/2 - sqrt(3)*k2/6)),                                                                                                                                        -1.22464679914735e-16*Γ',                                                                                                                                    -0.5*I*Γ'*exp(-sqrt(3)*I*k2/3),                                                                                                                                                               0,                  3.06161699786838e-17*Γ'*exp(-I*(k1/2 - sqrt(3)*k2/6)) + 0.5*(6.12323399573677e-17*Γ' + 6.12323399573677e-17*I*Γ')*exp(-I*(-k1/2 - sqrt(3)*k2/6)),                                                                                                                                                               0,                                                                                                                    5.55111512312578e-17*I*Γ'*exp(-sqrt(3)*I*k2/3),                                                                                                                                                               0],\n",
       "[                                                                                                                                                                0,                                                                                                                                    0.5*I*Γ'*exp(sqrt(3)*I*k2/3),                                                                                                                                          -1.22464679914735e-16*Γ', 0.5*(6.12323399573677e-17*Γ' + 6.12323399573677e-17*I*Γ')*exp(I*(-k1/2 - sqrt(3)*k2/6)) + 0.5*(6.12323399573677e-17*Γ' + 1.0*I*Γ')*exp(I*(k1/2 - sqrt(3)*k2/6)),                                                                                                                                                                 0,                                                                                                                   5.55111512312578e-17*I*Γ'*exp(sqrt(3)*I*k2/3),                                                                                                                                                                 0,                  3.06161699786838e-17*Γ'*exp(I*(k1/2 - sqrt(3)*k2/6)) + 0.5*(6.12323399573677e-17*Γ' + 6.12323399573677e-17*I*Γ')*exp(I*(-k1/2 - sqrt(3)*k2/6))],\n",
       "[                                                                                                                                   -0.5*I*Γ'*exp(-sqrt(3)*I*k2/3),                                                                                                                                                               0, 0.5*(6.12323399573677e-17*Γ' - 1.0*I*Γ')*exp(-I*(k1/2 - sqrt(3)*k2/6)) + 0.5*(6.12323399573677e-17*Γ' - 6.12323399573677e-17*I*Γ')*exp(-I*(-k1/2 - sqrt(3)*k2/6)),                                                                                                                                        -1.22464679914735e-16*Γ',                                                                                                                    5.55111512312578e-17*I*Γ'*exp(-sqrt(3)*I*k2/3),                                                                                                                                                               0,                  3.06161699786838e-17*Γ'*exp(-I*(k1/2 - sqrt(3)*k2/6)) + 0.5*(6.12323399573677e-17*Γ' + 6.12323399573677e-17*I*Γ')*exp(-I*(-k1/2 - sqrt(3)*k2/6)),                                                                                                                                                               0],\n",
       "[                                                                                                                                                                0,                  3.06161699786838e-17*Γ'*exp(I*(k1/2 - sqrt(3)*k2/6)) + 0.5*(6.12323399573677e-17*Γ' - 6.12323399573677e-17*I*Γ')*exp(I*(-k1/2 - sqrt(3)*k2/6)),                                                                                                                                                                 0,                                                                                                                  -5.55111512312578e-17*I*Γ'*exp(sqrt(3)*I*k2/3),                                                                                                                                          -1.22464679914735e-16*Γ', 0.5*(6.12323399573677e-17*Γ' + 6.12323399573677e-17*I*Γ')*exp(I*(-k1/2 - sqrt(3)*k2/6)) + 0.5*(6.12323399573677e-17*Γ' + 1.0*I*Γ')*exp(I*(k1/2 - sqrt(3)*k2/6)),                                                                                                                                                                 0,                                                                                                                                    0.5*I*Γ'*exp(sqrt(3)*I*k2/3)],\n",
       "[                 3.06161699786838e-17*Γ'*exp(-I*(k1/2 - sqrt(3)*k2/6)) + 0.5*(6.12323399573677e-17*Γ' - 6.12323399573677e-17*I*Γ')*exp(-I*(-k1/2 - sqrt(3)*k2/6)),                                                                                                                                                               0,                                                                                                                   -5.55111512312578e-17*I*Γ'*exp(-sqrt(3)*I*k2/3),                                                                                                                                                               0, 0.5*(6.12323399573677e-17*Γ' - 1.0*I*Γ')*exp(-I*(k1/2 - sqrt(3)*k2/6)) + 0.5*(6.12323399573677e-17*Γ' - 6.12323399573677e-17*I*Γ')*exp(-I*(-k1/2 - sqrt(3)*k2/6)),                                                                                                                                        -1.22464679914735e-16*Γ',                                                                                                                                    -0.5*I*Γ'*exp(-sqrt(3)*I*k2/3),                                                                                                                                                               0],\n",
       "[                                                                                                                                                                0,                                                                                                                  -5.55111512312578e-17*I*Γ'*exp(sqrt(3)*I*k2/3),                                                                                                                                                                 0,                  3.06161699786838e-17*Γ'*exp(I*(k1/2 - sqrt(3)*k2/6)) + 0.5*(6.12323399573677e-17*Γ' - 6.12323399573677e-17*I*Γ')*exp(I*(-k1/2 - sqrt(3)*k2/6)),                                                                                                                                                                 0,                                                                                                                                    0.5*I*Γ'*exp(sqrt(3)*I*k2/3),                                                                                                                                          -1.22464679914735e-16*Γ', 0.5*(6.12323399573677e-17*Γ' + 6.12323399573677e-17*I*Γ')*exp(I*(-k1/2 - sqrt(3)*k2/6)) + 0.5*(6.12323399573677e-17*Γ' + 1.0*I*Γ')*exp(I*(k1/2 - sqrt(3)*k2/6))],\n",
       "[                                                                                                                  -5.55111512312578e-17*I*Γ'*exp(-sqrt(3)*I*k2/3),                                                                                                                                                               0,                  3.06161699786838e-17*Γ'*exp(-I*(k1/2 - sqrt(3)*k2/6)) + 0.5*(6.12323399573677e-17*Γ' - 6.12323399573677e-17*I*Γ')*exp(-I*(-k1/2 - sqrt(3)*k2/6)),                                                                                                                                                               0,                                                                                                                                    -0.5*I*Γ'*exp(-sqrt(3)*I*k2/3),                                                                                                                                                               0, 0.5*(6.12323399573677e-17*Γ' - 1.0*I*Γ')*exp(-I*(k1/2 - sqrt(3)*k2/6)) + 0.5*(6.12323399573677e-17*Γ' - 6.12323399573677e-17*I*Γ')*exp(-I*(-k1/2 - sqrt(3)*k2/6)),                                                                                                                                        -1.22464679914735e-16*Γ']])"
      ]
     },
     "execution_count": 45,
     "metadata": {},
     "output_type": "execute_result"
    }
   ],
   "source": [
    "Hlsw_gamma = Hlsw.subs([(J,0), (K, 0), (Gamma, 0), (h, 0), (a, 1)])\n",
    "Hlsw_gamma"
   ]
  },
  {
   "cell_type": "code",
   "execution_count": 46,
   "metadata": {},
   "outputs": [
    {
     "data": {
      "text/latex": [
       "$\\displaystyle \\left[\\begin{matrix}0 & 0 & 0 & 0 & 0 & 0 & 0 & 0\\\\0 & 0 & 0 & 0 & 0 & 0 & 0 & 0\\\\0 & 0 & 0 & 0 & 0 & 0 & 0 & 0\\\\0 & 0 & 0 & 0 & 0 & 0 & 0 & 0\\\\0 & 0 & 0 & 0 & 0 & 0 & 0 & 0\\\\0 & 0 & 0 & 0 & 0 & 0 & 0 & 0\\\\0 & 0 & 0 & 0 & 0 & 0 & 0 & 0\\\\0 & 0 & 0 & 0 & 0 & 0 & 0 & 0\\end{matrix}\\right]$"
      ],
      "text/plain": [
       "Matrix([\n",
       "[0, 0, 0, 0, 0, 0, 0, 0],\n",
       "[0, 0, 0, 0, 0, 0, 0, 0],\n",
       "[0, 0, 0, 0, 0, 0, 0, 0],\n",
       "[0, 0, 0, 0, 0, 0, 0, 0],\n",
       "[0, 0, 0, 0, 0, 0, 0, 0],\n",
       "[0, 0, 0, 0, 0, 0, 0, 0],\n",
       "[0, 0, 0, 0, 0, 0, 0, 0],\n",
       "[0, 0, 0, 0, 0, 0, 0, 0]])"
      ]
     },
     "execution_count": 46,
     "metadata": {},
     "output_type": "execute_result"
    }
   ],
   "source": [
    "sp.transpose(sp.conjugate(Hlsw_gamma))-Hlsw_gamma"
   ]
  },
  {
   "cell_type": "code",
   "execution_count": 47,
   "metadata": {},
   "outputs": [
    {
     "data": {
      "text/latex": [
       "$\\displaystyle \\left[\\begin{matrix}1.5 & 0 & 0 & 0 & 0 & 0.5 e^{i \\left(- \\frac{k_{1}}{2} - \\frac{\\sqrt{3} k_{2}}{6}\\right)} + 0.5 e^{i \\left(\\frac{k_{1}}{2} - \\frac{\\sqrt{3} k_{2}}{6}\\right)} & 0 & 0.5 e^{\\frac{\\sqrt{3} i k_{2}}{3}}\\\\0 & 1.5 & 0 & 0 & 0.5 e^{- i \\left(\\frac{k_{1}}{2} - \\frac{\\sqrt{3} k_{2}}{6}\\right)} + 0.5 e^{- i \\left(- \\frac{k_{1}}{2} - \\frac{\\sqrt{3} k_{2}}{6}\\right)} & 0 & 0.5 e^{- \\frac{\\sqrt{3} i k_{2}}{3}} & 0\\\\0 & 0 & 1.5 & 0 & 0 & 0.5 e^{\\frac{\\sqrt{3} i k_{2}}{3}} & 0 & 0.5 e^{i \\left(- \\frac{k_{1}}{2} - \\frac{\\sqrt{3} k_{2}}{6}\\right)} + 0.5 e^{i \\left(\\frac{k_{1}}{2} - \\frac{\\sqrt{3} k_{2}}{6}\\right)}\\\\0 & 0 & 0 & 1.5 & 0.5 e^{- \\frac{\\sqrt{3} i k_{2}}{3}} & 0 & 0.5 e^{- i \\left(\\frac{k_{1}}{2} - \\frac{\\sqrt{3} k_{2}}{6}\\right)} + 0.5 e^{- i \\left(- \\frac{k_{1}}{2} - \\frac{\\sqrt{3} k_{2}}{6}\\right)} & 0\\\\0 & 0.5 e^{i \\left(- \\frac{k_{1}}{2} - \\frac{\\sqrt{3} k_{2}}{6}\\right)} + 0.5 e^{i \\left(\\frac{k_{1}}{2} - \\frac{\\sqrt{3} k_{2}}{6}\\right)} & 0 & 0.5 e^{\\frac{\\sqrt{3} i k_{2}}{3}} & 1.5 & 0 & 0 & 0\\\\0.5 e^{- i \\left(\\frac{k_{1}}{2} - \\frac{\\sqrt{3} k_{2}}{6}\\right)} + 0.5 e^{- i \\left(- \\frac{k_{1}}{2} - \\frac{\\sqrt{3} k_{2}}{6}\\right)} & 0 & 0.5 e^{- \\frac{\\sqrt{3} i k_{2}}{3}} & 0 & 0 & 1.5 & 0 & 0\\\\0 & 0.5 e^{\\frac{\\sqrt{3} i k_{2}}{3}} & 0 & 0.5 e^{i \\left(- \\frac{k_{1}}{2} - \\frac{\\sqrt{3} k_{2}}{6}\\right)} + 0.5 e^{i \\left(\\frac{k_{1}}{2} - \\frac{\\sqrt{3} k_{2}}{6}\\right)} & 0 & 0 & 1.5 & 0\\\\0.5 e^{- \\frac{\\sqrt{3} i k_{2}}{3}} & 0 & 0.5 e^{- i \\left(\\frac{k_{1}}{2} - \\frac{\\sqrt{3} k_{2}}{6}\\right)} + 0.5 e^{- i \\left(- \\frac{k_{1}}{2} - \\frac{\\sqrt{3} k_{2}}{6}\\right)} & 0 & 0 & 0 & 0 & 1.5\\end{matrix}\\right]$"
      ],
      "text/plain": [
       "Matrix([\n",
       "[                                                                   1.5,                                                                    0,                                                                      0,                                                                    0,                                                                      0, 0.5*exp(I*(-k1/2 - sqrt(3)*k2/6)) + 0.5*exp(I*(k1/2 - sqrt(3)*k2/6)),                                                                      0,                                              0.5*exp(sqrt(3)*I*k2/3)],\n",
       "[                                                                     0,                                                                  1.5,                                                                      0,                                                                    0, 0.5*exp(-I*(k1/2 - sqrt(3)*k2/6)) + 0.5*exp(-I*(-k1/2 - sqrt(3)*k2/6)),                                                                    0,                                               0.5*exp(-sqrt(3)*I*k2/3),                                                                    0],\n",
       "[                                                                     0,                                                                    0,                                                                    1.5,                                                                    0,                                                                      0,                                              0.5*exp(sqrt(3)*I*k2/3),                                                                      0, 0.5*exp(I*(-k1/2 - sqrt(3)*k2/6)) + 0.5*exp(I*(k1/2 - sqrt(3)*k2/6))],\n",
       "[                                                                     0,                                                                    0,                                                                      0,                                                                  1.5,                                               0.5*exp(-sqrt(3)*I*k2/3),                                                                    0, 0.5*exp(-I*(k1/2 - sqrt(3)*k2/6)) + 0.5*exp(-I*(-k1/2 - sqrt(3)*k2/6)),                                                                    0],\n",
       "[                                                                     0, 0.5*exp(I*(-k1/2 - sqrt(3)*k2/6)) + 0.5*exp(I*(k1/2 - sqrt(3)*k2/6)),                                                                      0,                                              0.5*exp(sqrt(3)*I*k2/3),                                                                    1.5,                                                                    0,                                                                      0,                                                                    0],\n",
       "[0.5*exp(-I*(k1/2 - sqrt(3)*k2/6)) + 0.5*exp(-I*(-k1/2 - sqrt(3)*k2/6)),                                                                    0,                                               0.5*exp(-sqrt(3)*I*k2/3),                                                                    0,                                                                      0,                                                                  1.5,                                                                      0,                                                                    0],\n",
       "[                                                                     0,                                              0.5*exp(sqrt(3)*I*k2/3),                                                                      0, 0.5*exp(I*(-k1/2 - sqrt(3)*k2/6)) + 0.5*exp(I*(k1/2 - sqrt(3)*k2/6)),                                                                      0,                                                                    0,                                                                    1.5,                                                                    0],\n",
       "[                                              0.5*exp(-sqrt(3)*I*k2/3),                                                                    0, 0.5*exp(-I*(k1/2 - sqrt(3)*k2/6)) + 0.5*exp(-I*(-k1/2 - sqrt(3)*k2/6)),                                                                    0,                                                                      0,                                                                    0,                                                                      0,                                                                  1.5]])"
      ]
     },
     "execution_count": 47,
     "metadata": {},
     "output_type": "execute_result"
    }
   ],
   "source": [
    "cp_strg = [1,0,0,0,0]\n",
    "Hlsw_num = Hlsw.subs([(J,cp_strg[0]), (K, cp_strg[1]), (Gamma, cp_strg[2]), (gamma, cp_strg[3]), (h, cp_strg[4]), (a, 1)])\n",
    "Hlsw_num"
   ]
  },
  {
   "cell_type": "code",
   "execution_count": 48,
   "metadata": {},
   "outputs": [],
   "source": [
    "import SpinModel_afm as smk"
   ]
  },
  {
   "cell_type": "code",
   "execution_count": 49,
   "metadata": {
    "scrolled": false
   },
   "outputs": [
    {
     "data": {
      "text/latex": [
       "$\\displaystyle \\left[\\begin{matrix}0 & 0 & 0 & 0 & 0 & 0 & 0 & 0\\\\0 & 0 & 0 & 0 & 0 & 0 & 0 & 0\\\\0 & 0 & 0 & 0 & 0 & 0 & 0 & 0\\\\0 & 0 & 0 & 0 & 0 & 0 & 0 & 0\\\\0 & 0 & 0 & 0 & 0 & 0 & 0 & 0\\\\0 & 0 & 0 & 0 & 0 & 0 & 0 & 0\\\\0 & 0 & 0 & 0 & 0 & 0 & 0 & 0\\\\0 & 0 & 0 & 0 & 0 & 0 & 0 & 0\\end{matrix}\\right]$"
      ],
      "text/plain": [
       "Matrix([\n",
       "[0, 0, 0, 0, 0, 0, 0, 0],\n",
       "[0, 0, 0, 0, 0, 0, 0, 0],\n",
       "[0, 0, 0, 0, 0, 0, 0, 0],\n",
       "[0, 0, 0, 0, 0, 0, 0, 0],\n",
       "[0, 0, 0, 0, 0, 0, 0, 0],\n",
       "[0, 0, 0, 0, 0, 0, 0, 0],\n",
       "[0, 0, 0, 0, 0, 0, 0, 0],\n",
       "[0, 0, 0, 0, 0, 0, 0, 0]])"
      ]
     },
     "execution_count": 49,
     "metadata": {},
     "output_type": "execute_result"
    }
   ],
   "source": [
    "cp_strg = [1,0,0,0,0]\n",
    "H = smk.afm_spin_model(cp_strg)\n",
    "H-np.transpose(np.conjugate(H))"
   ]
  },
  {
   "cell_type": "code",
   "execution_count": 50,
   "metadata": {},
   "outputs": [
    {
     "name": "stdout",
     "output_type": "stream",
     "text": [
      "0.0 0\n",
      "0.3141592653589793 0\n",
      "0.6283185307179586 0\n",
      "0.9424777960769379 0\n",
      "1.2566370614359172 0\n",
      "1.5707963267948966 0\n",
      "1.8849555921538759 0\n",
      "2.199114857512855 0\n",
      "2.5132741228718345 0\n",
      "2.827433388230814 0\n",
      "3.141592653589793 0.0\n",
      "3.141592653589793 -0.3141592653589793\n",
      "3.141592653589793 -0.6283185307179586\n",
      "3.141592653589793 -0.9424777960769379\n",
      "3.141592653589793 -1.2566370614359172\n",
      "3.141592653589793 -1.5707963267948966\n",
      "3.141592653589793 1.8137993642342178\n",
      "2.827433388230814 1.8137993642342178\n",
      "2.5132741228718345 1.8137993642342178\n",
      "2.199114857512855 1.8137993642342178\n",
      "1.8849555921538759 1.8137993642342178\n",
      "1.5707963267948966 1.8137993642342178\n",
      "1.2566370614359172 1.8137993642342178\n",
      "0.9424777960769379 1.8137993642342178\n",
      "0.6283185307179586 1.8137993642342178\n",
      "0.3141592653589793 1.8137993642342178\n",
      "0 1.8137993642342178\n",
      "0 1.4996400988752385\n",
      "0 1.1854808335162592\n",
      "0 0.8713215681572799\n",
      "0 0.5571623027983006\n",
      "0 0.24300303743932128\n",
      "0.0 0.0\n",
      "0.27206990463513264 0.15707963267948966\n",
      "0.5441398092702653 0.3141592653589793\n",
      "0.816209713905398 0.47123889803846897\n",
      "1.0882796185405306 0.6283185307179586\n",
      "1.3603495231756633 0.7853981633974483\n",
      "1.632419427810796 0.9424777960769379\n",
      "1.9044893324459287 1.0995574287564276\n",
      "2.176559237081061 1.2566370614359172\n",
      "2.448629141716194 1.413716694115407\n",
      "2.7206990463513265 1.5707963267948966\n",
      "2.9927689509864592 1.7278759594743862\n",
      "[[ 1.41421356e+00+0.00000000e+00j  1.41421356e+00+0.00000000e+00j\n",
      "   2.76122934e-08+0.00000000e+00j -5.01779605e-16+1.99026229e-08j\n",
      "  -5.01781886e-16-1.99026229e-08j -2.76122937e-08+0.00000000e+00j\n",
      "  -1.41421356e+00+0.00000000e+00j -1.41421356e+00+0.00000000e+00j]\n",
      " [ 1.41850629e+00-2.91213438e-22j  1.41850629e+00-2.91213438e-22j\n",
      "   1.91789993e-01-6.57031695e-21j  1.91789993e-01-6.57031695e-21j\n",
      "  -1.91789993e-01+6.57031695e-21j -1.91789993e-01+6.57031695e-21j\n",
      "  -1.41850629e+00+2.91213438e-22j -1.41850629e+00+2.91213438e-22j]\n",
      " [ 1.43057611e+00-5.34134083e-22j  1.43057611e+00-5.34134083e-22j\n",
      "   3.80046032e-01-6.46812530e-21j  3.80046032e-01-6.46812530e-21j\n",
      "  -3.80046032e-01+6.46812530e-21j -3.80046032e-01+6.46812530e-21j\n",
      "  -1.43057611e+00+5.34134083e-22j -1.43057611e+00+5.34134083e-22j]\n",
      " [ 1.44814153e+00-4.57407513e-22j  1.44814153e+00-4.57407513e-22j\n",
      "   5.61338445e-01-4.19792504e-21j  5.61338445e-01-4.19792504e-21j\n",
      "  -5.61338445e-01+4.19792504e-21j -5.61338445e-01+4.19792504e-21j\n",
      "  -1.44814153e+00+4.57407513e-22j -1.44814153e+00+4.57407513e-22j]\n",
      " [ 1.46782441e+00-7.13293971e-22j  1.46782441e+00-7.13293971e-22j\n",
      "   7.32444202e-01-6.05523545e-21j  7.32444202e-01-6.05523545e-21j\n",
      "  -7.32444202e-01+6.05523545e-21j -7.32444202e-01+6.05523545e-21j\n",
      "  -1.46782441e+00+7.13293971e-22j -1.46782441e+00+7.13293971e-22j]\n",
      " [ 1.48563346e+00-4.72327184e-22j  1.48563346e+00-4.72327184e-22j\n",
      "   8.90445517e-01-4.59302313e-21j  8.90445517e-01-4.59302313e-21j\n",
      "  -8.90445517e-01+4.59302313e-21j -8.90445517e-01+4.59302313e-21j\n",
      "  -1.48563346e+00+4.72327184e-22j -1.48563346e+00+4.72327184e-22j]\n",
      " [ 1.49742905e+00-1.98625774e-22j  1.49742905e+00-1.98625774e-22j\n",
      "   1.03282295e+00-3.56843329e-21j  1.03282295e+00-3.56843329e-21j\n",
      "  -1.03282295e+00+3.56843329e-21j -1.03282295e+00+3.56843329e-21j\n",
      "  -1.49742905e+00+1.98625774e-22j -1.49742905e+00+1.98625774e-22j]\n",
      " [ 1.49929421e+00+1.03973089e-22j  1.49929421e+00+1.03973089e-22j\n",
      "   1.15754141e+00-2.79233684e-21j  1.15754141e+00-2.79233684e-21j\n",
      "  -1.15754141e+00+2.79233684e-21j -1.15754141e+00+2.79233684e-21j\n",
      "  -1.49929421e+00-5.55111512e-17j -1.49929421e+00+1.38777878e-17j]\n",
      " [ 1.48779215e+00+4.34923380e-22j  1.48779215e+00+4.34923380e-22j\n",
      "   1.26312767e+00-2.17005475e-21j  1.26312767e+00-2.17005475e-21j\n",
      "  -1.26312767e+00+2.17005475e-21j -1.26312767e+00+2.17005475e-21j\n",
      "  -1.48779215e+00-4.34923380e-22j -1.48779215e+00-4.34923380e-22j]\n",
      " [ 1.46012421e+00+7.97223482e-22j  1.46012421e+00+7.97223482e-22j\n",
      "   1.34873785e+00-1.64901317e-21j  1.34873785e+00-1.64901317e-21j\n",
      "  -1.34873785e+00+1.64901317e-21j -1.34873785e+00+1.64901317e-21j\n",
      "  -1.46012421e+00-7.97223482e-22j -1.46012421e+00-7.97223482e-22j]\n",
      " [ 1.41421356e+00-5.42101086e-19j  1.41421356e+00+2.67142864e-34j\n",
      "   1.41421356e+00-8.33885350e-51j  1.41421356e+00-3.52542050e-19j\n",
      "  -1.41421356e+00+5.03229114e-34j -1.41421356e+00+8.33885350e-51j\n",
      "  -1.41421356e+00-5.14819688e-19j -1.41421356e+00+1.21430643e-17j]\n",
      " [ 1.41421356e+00+3.83639406e-18j  1.41421356e+00+2.05267886e-18j\n",
      "   1.41421356e+00-5.65873349e-32j  1.41421356e+00-7.45082750e-17j\n",
      "  -1.41421356e+00-4.56584640e-17j -1.41421356e+00-3.87614281e-17j\n",
      "  -1.41421356e+00-4.46589623e-17j -1.41421356e+00-9.37834879e-18j]\n",
      " [ 1.41421356e+00-2.07293099e-17j  1.41421356e+00-1.78676518e-16j\n",
      "   1.41421356e+00+6.86423458e-19j  1.41421356e+00+6.00201983e-17j\n",
      "  -1.41421356e+00+1.18977636e-16j -1.41421356e+00-9.97000131e-18j\n",
      "  -1.41421356e+00+5.13363207e-17j -1.41421356e+00-3.38766181e-17j]\n",
      " [ 1.41421356e+00+5.49325889e-17j  1.41421356e+00+1.17554053e-17j\n",
      "   1.41421356e+00-1.83824911e-18j  1.41421356e+00+2.08224684e-16j\n",
      "  -1.41421356e+00+4.98479311e-17j -1.41421356e+00+3.54223022e-17j\n",
      "  -1.41421356e+00+6.88102730e-18j -1.41421356e+00-6.50521303e-18j]\n",
      " [ 1.41421356e+00+8.32667268e-17j  1.41421356e+00+2.99202663e-16j\n",
      "   1.41421356e+00+6.57123634e-17j  1.41421356e+00-2.00214378e-18j\n",
      "  -1.41421356e+00-1.15196481e-17j -1.41421356e+00-7.23433900e-17j\n",
      "  -1.41421356e+00+1.31956794e-16j -1.41421356e+00-3.85265019e-17j]\n",
      " [ 1.41421356e+00-7.80625564e-17j  1.41421356e+00+1.06501383e-16j\n",
      "   1.41421356e+00-5.46408571e-17j  1.41421356e+00-3.70308905e-19j\n",
      "  -1.41421356e+00-4.53384973e-18j -1.41421356e+00-3.91615778e-17j\n",
      "  -1.41421356e+00-3.52404881e-17j -1.41421356e+00+4.93451192e-17j]\n",
      " [ 1.41421356e+00-5.55111512e-17j  1.41421356e+00+3.60965754e-17j\n",
      "   1.41421356e+00-2.32165893e-18j  1.41421356e+00-8.75160351e-17j\n",
      "  -1.41421356e+00+4.97167639e-17j -1.41421356e+00-5.94003030e-17j\n",
      "  -1.41421356e+00+3.55215579e-17j -1.41421356e+00-1.16569959e-16j]\n",
      " [ 1.40553487e+00-1.54970301e-16j  1.40553487e+00+1.31405303e-16j\n",
      "   1.40553487e+00-4.58807883e-18j  1.40553487e+00+3.22084592e-16j\n",
      "  -1.40553487e+00-8.79287962e-17j -1.40553487e+00+8.07578387e-17j\n",
      "  -1.40553487e+00-3.98986399e-17j -1.40553487e+00-7.87334065e-17j]\n",
      " [ 1.38003931e+00+1.66533454e-16j  1.38003931e+00-5.20168111e-18j\n",
      "   1.38003931e+00-2.77555756e-17j  1.38003931e+00-5.55111512e-17j\n",
      "  -1.38003931e+00+8.62482828e-17j -1.38003931e+00+1.87350135e-16j\n",
      "  -1.38003931e+00-1.80411242e-16j -1.38003931e+00+5.22314776e-17j]\n",
      " [ 1.33936277e+00+1.94289029e-16j  1.33936277e+00-5.11911826e-18j\n",
      "   1.33936277e+00+1.26580257e-16j  1.33936277e+00-1.38777878e-16j\n",
      "  -1.33936277e+00+1.79977561e-16j -1.33936277e+00+7.63278329e-17j\n",
      "  -1.33936277e+00+4.52811476e-17j -1.33936277e+00-1.34549490e-16j]\n",
      " [ 1.28627699e+00+2.58473798e-16j  1.28627699e+00-1.06456710e-16j\n",
      "   1.28627699e+00-2.07520575e-18j  1.28627699e+00-2.49800181e-16j\n",
      "  -1.28627699e+00+6.53796496e-19j -1.28627699e+00+2.94902991e-16j\n",
      "  -1.28627699e+00-2.54365773e-16j -1.28627699e+00+8.80372164e-17j]\n",
      " [ 1.22474487e+00-6.38378239e-16j  1.22474487e+00-1.11022302e-16j\n",
      "   1.22474487e+00+0.00000000e+00j  1.22474487e+00+1.24181125e-17j\n",
      "  -1.22474487e+00+2.01227923e-16j -1.22474487e+00+5.03069808e-17j\n",
      "  -1.22474487e+00-4.69412470e-17j -1.22474487e+00+5.72892428e-16j]\n",
      " [ 1.15995323e+00+2.22044605e-16j  1.15995323e+00-1.66533454e-16j\n",
      "   1.15995323e+00+9.28606852e-18j  1.15995323e+00+9.84455573e-17j\n",
      "  -1.15995323e+00+1.11022302e-16j -1.15995323e+00-6.76542156e-17j\n",
      "  -1.15995323e+00+1.17093835e-17j -1.15995323e+00+3.83629800e-17j]\n",
      " [ 1.09822920e+00+1.03216047e-16j  1.09822920e+00+5.55111512e-17j\n",
      "   1.09822920e+00-4.71731230e-18j  1.09822920e+00-3.22536712e-16j\n",
      "  -1.09822920e+00+4.53348209e-17j -1.09822920e+00-2.91433544e-16j\n",
      "  -1.09822920e+00-5.55111512e-17j -1.09822920e+00+1.28247683e-16j]\n",
      " [ 1.04665730e+00-9.72652197e-17j  1.04665730e+00+2.94469310e-16j\n",
      "   1.04665730e+00+3.60822483e-16j  1.04665730e+00-6.32413182e-18j\n",
      "  -1.04665730e+00+1.11022302e-16j -1.04665730e+00+1.49306924e-16j\n",
      "  -1.04665730e+00+1.11022302e-16j -1.04665730e+00+5.27346123e-17j]\n",
      " [ 1.01216191e+00+2.65279674e-16j  1.01216191e+00-3.05311332e-16j\n",
      "   1.01216191e+00-2.14178520e-19j  1.01216191e+00-1.34506413e-16j\n",
      "  -1.01216191e+00+1.32554849e-16j -1.01216191e+00-4.42137646e-16j\n",
      "  -1.01216191e+00-7.85656980e-17j -1.01216191e+00+3.66026653e-16j]\n",
      " [ 1.00000000e+00-9.97622660e-18j  1.00000000e+00-1.18896262e-16j\n",
      "   1.00000000e+00-2.25744736e-16j  1.00000000e+00+1.38777878e-16j\n",
      "  -1.00000000e+00+2.42861287e-16j -1.00000000e+00+1.12938362e-17j\n",
      "  -1.00000000e+00-2.17640093e-16j -1.00000000e+00+2.17938481e-16j]\n",
      " [ 1.12637728e+00-1.53802553e-17j  1.12637728e+00+8.32638205e-17j\n",
      "   8.55145732e-01+2.58548933e-17j  8.55145732e-01-1.33072810e-16j\n",
      "  -8.55145732e-01-3.30764863e-18j -8.55145732e-01+1.30814375e-16j\n",
      "  -1.12637728e+00+9.18384358e-17j -1.12637728e+00-2.29796094e-16j]\n",
      " [ 1.23194250e+00-2.21831048e-16j  1.23194250e+00+1.40962510e-17j\n",
      "   6.94490946e-01+6.54894476e-17j  6.94490946e-01-6.84215721e-16j\n",
      "  -6.94490946e-01-7.22619731e-17j -6.94490946e-01+1.91365834e-15j\n",
      "  -1.23194250e+00+1.53126353e-17j -1.23194250e+00-2.29910870e-16j]\n",
      " [ 1.31474514e+00+3.14790385e-17j  1.31474514e+00+1.77581177e-16j\n",
      "   5.21004059e-01-5.87691803e-17j  5.21004059e-01+5.09052912e-16j\n",
      "  -5.21004059e-01+3.19710275e-16j -5.21004059e-01+4.48374462e-17j\n",
      "  -1.31474514e+00-1.02002285e-16j -1.31474514e+00-2.81065751e-16j]\n",
      " [ 1.37325524e+00+2.49655026e-16j  1.37325524e+00-2.88773161e-18j\n",
      "   3.37890587e-01-6.62682218e-17j  3.37890587e-01-2.91006120e-16j\n",
      "  -3.37890587e-01-8.66225324e-17j -3.37890587e-01+1.02106764e-16j\n",
      "  -1.37325524e+00+2.70808573e-17j -1.37325524e+00+9.44605342e-17j]\n",
      " [ 1.40639172e+00-3.64350568e-17j  1.40639172e+00+1.61186720e-17j\n",
      "   1.48533914e-01+5.50736757e-15j  1.48533914e-01-9.71445230e-17j\n",
      "  -1.48533914e-01+2.22044605e-16j -1.48533914e-01-6.01428629e-15j\n",
      "  -1.40639172e+00-2.62271264e-16j -1.40639172e+00+2.92791792e-17j]\n",
      " [ 1.41421356e+00+0.00000000e+00j  1.41421356e+00+0.00000000e+00j\n",
      "   2.76122934e-08+0.00000000e+00j -5.01779605e-16+1.99026229e-08j\n",
      "  -5.01781886e-16-1.99026229e-08j -2.76122937e-08+0.00000000e+00j\n",
      "  -1.41421356e+00+0.00000000e+00j -1.41421356e+00+0.00000000e+00j]\n",
      " [ 1.41421356e+00+6.41862617e-17j  1.41421356e+00+4.64780330e-18j\n",
      "   1.91789667e-01+1.04061158e-15j  1.91789667e-01+2.29588839e-17j\n",
      "  -1.91789667e-01-2.62506775e-17j -1.91789667e-01-6.71892606e-16j\n",
      "  -1.41421356e+00-5.47298737e-17j -1.41421356e+00+3.43660302e-19j]\n",
      " [ 1.41421356e+00+1.33071823e-16j  1.41421356e+00+4.08158057e-18j\n",
      "   3.80035639e-01-3.07342038e-17j  3.80035639e-01-5.18088207e-16j\n",
      "  -3.80035639e-01+1.59974688e-16j -3.80035639e-01+6.24680884e-17j\n",
      "  -1.41421356e+00+3.61262821e-16j -1.41421356e+00+9.06470932e-18j]\n",
      " [ 1.41421356e+00-3.34021502e-17j  1.41421356e+00-5.78268446e-19j\n",
      "   5.61259697e-01+3.93092371e-17j  5.61259697e-01+1.78153936e-16j\n",
      "  -5.61259697e-01-6.73740391e-16j -5.61259697e-01-7.38041181e-17j\n",
      "  -1.41421356e+00+1.32394944e-17j -1.41421356e+00+2.38886392e-16j]\n",
      " [ 1.41421356e+00-1.47143240e-17j  1.41421356e+00+1.39640775e-17j\n",
      "   7.32113367e-01+2.35709238e-16j  7.32113367e-01+2.99587755e-17j\n",
      "  -7.32113367e-01+9.58059789e-17j -7.32113367e-01-8.42574070e-17j\n",
      "  -1.41421356e+00-4.48251672e-17j -1.41421356e+00-4.59361160e-17j]\n",
      " [ 1.41421356e+00-4.71305816e-18j  1.41421356e+00-7.86261296e-17j\n",
      "   8.89439786e-01-2.70421510e-18j  8.89439786e-01+2.08637188e-16j\n",
      "  -8.89439786e-01+2.44262307e-17j -8.89439786e-01-2.42396085e-16j\n",
      "  -1.41421356e+00-9.88878236e-17j -1.41421356e+00+1.58324514e-16j]\n",
      " [ 1.41421356e+00-3.15101959e-18j  1.41421356e+00-2.14494014e-17j\n",
      "   1.03033204e+00-3.87354452e-17j  1.03033204e+00-1.21130595e-17j\n",
      "  -1.03033204e+00+1.60694314e-16j -1.03033204e+00+5.00353517e-19j\n",
      "  -1.41421356e+00-2.10300637e-17j -1.41421356e+00-6.65209642e-17j]\n",
      " [ 1.41421356e+00-1.72067972e-18j  1.41421356e+00-5.30453814e-17j\n",
      "   1.15218686e+00+1.21234370e-18j  1.15218686e+00-2.28398526e-17j\n",
      "  -1.15218686e+00-1.03652745e-17j -1.15218686e+00+1.07832358e-16j\n",
      "  -1.41421356e+00+2.65250721e-17j -1.41421356e+00+1.39715475e-16j]\n",
      " [ 1.41421356e+00-4.01035134e-16j  1.41421356e+00+1.20613924e-18j\n",
      "   1.25275273e+00-1.31745768e-16j  1.25275273e+00+3.75066110e-18j\n",
      "  -1.25275273e+00+1.56627927e-16j -1.25275273e+00+1.18802462e-17j\n",
      "  -1.41421356e+00-4.99901057e-16j -1.41421356e+00+8.97028689e-17j]\n",
      " [ 1.41421356e+00+1.01665776e-16j  1.41421356e+00-2.54562745e-18j\n",
      "   1.33017151e+00+4.61495303e-16j  1.33017151e+00+1.16273117e-18j\n",
      "  -1.33017151e+00+2.38542022e-16j -1.33017151e+00-1.17086798e-16j\n",
      "  -1.41421356e+00+2.39764447e-17j -1.41421356e+00+4.56763924e-17j]\n",
      " [ 1.41421356e+00-9.81308085e-18j  1.41421356e+00-1.33609302e-16j\n",
      "   1.38301273e+00-1.70704103e-17j  1.38301273e+00-2.54964461e-16j\n",
      "  -1.38301273e+00-4.06148306e-16j -1.38301273e+00+1.40975837e-16j\n",
      "  -1.41421356e+00-2.77088548e-17j -1.41421356e+00-1.79230166e-16j]\n",
      " [ 1.41421356e+00-6.78577255e-18j  1.41421356e+00-7.78881167e-17j\n",
      "   1.41030003e+00-8.87888945e-18j  1.41030003e+00+4.19610176e-17j\n",
      "  -1.41030003e+00+1.53584985e-16j -1.41030003e+00+2.19608992e-17j\n",
      "  -1.41421356e+00+1.96422446e-18j -1.41421356e+00+2.41033437e-16j]]\n",
      "1.4992942092484007 -1.4992942092484012\n"
     ]
    },
    {
     "data": {
      "image/png": "[encoded data removed]",
      "text/plain": [
       "<Figure size 432x288 with 1 Axes>"
      ]
     },
     "metadata": {},
     "output_type": "display_data"
    }
   ],
   "source": [
    "smk.band_high_sym(Hlsw_num, cp_strg , 20)"
   ]
  },
  {
   "cell_type": "code",
   "execution_count": 51,
   "metadata": {},
   "outputs": [
    {
     "data": {
      "text/plain": [
       "(array([ 1.41421356e+00+0.00000000e+00j,  1.41421356e+00+0.00000000e+00j,\n",
       "         2.76122934e-08+0.00000000e+00j, -5.01779605e-16+1.99026229e-08j,\n",
       "        -5.01781886e-16-1.99026229e-08j, -2.76122937e-08+0.00000000e+00j,\n",
       "        -1.41421356e+00+0.00000000e+00j, -1.41421356e+00+0.00000000e+00j]),\n",
       " array([[-9.58221772e-03-1.19485284e-21j,  6.96923425e-01+0.00000000e+00j,\n",
       "          6.41571506e-02+2.50956907e-15j,  5.00000000e-01+1.48056743e-18j,\n",
       "          5.00000000e-01-6.05720822e-18j, -6.41571510e-02-2.49741280e-15j,\n",
       "          1.19573156e-01-3.39403809e-20j,  3.29236034e-02-7.97673349e-21j],\n",
       "        [-6.96857547e-01+1.12594023e-37j,  5.72641104e-17-1.53300776e-35j,\n",
       "          4.95866781e-01+0.00000000e+00j, -4.71071403e-17+1.64696468e-25j,\n",
       "         -4.71071403e-17-1.64696470e-25j, -4.95866772e-01+1.77641261e-31j,\n",
       "          6.02011406e-17+2.27007946e-37j, -1.14951189e-01+6.88192066e-37j],\n",
       "        [ 9.58221772e-03-1.19505961e-21j, -6.96923425e-01+1.73822484e-19j,\n",
       "          6.41571506e-02+2.50936747e-15j,  5.00000000e-01+0.00000000e+00j,\n",
       "          5.00000000e-01+0.00000000e+00j, -6.41571510e-02-2.49721355e-15j,\n",
       "         -1.19573156e-01-2.40010903e-20j, -3.29236034e-02-7.97710835e-21j],\n",
       "        [ 6.96857547e-01+0.00000000e+00j,  0.00000000e+00+0.00000000e+00j,\n",
       "          4.95866781e-01+2.36702385e-31j, -0.00000000e+00+0.00000000e+00j,\n",
       "          0.00000000e+00-0.00000000e+00j, -4.95866772e-01-5.79169293e-32j,\n",
       "         -0.00000000e+00+0.00000000e+00j,  1.14951189e-01+6.33091637e-38j],\n",
       "        [ 1.19561853e-01-5.52818950e-38j, -1.65941088e-17+6.08991018e-36j,\n",
       "         -4.95866772e-01-1.20307455e-31j,  2.31296463e-17-3.06893751e-25j,\n",
       "          2.31296463e-17+3.06893755e-25j,  4.95866781e-01-5.79169303e-32j,\n",
       "         -9.67175541e-17+2.68022505e-36j,  6.69984630e-01+0.00000000e+00j],\n",
       "        [ 1.64404865e-03+1.19494330e-21j, -1.19573156e-01-7.19987934e-20j,\n",
       "         -6.41571494e-02-2.50908522e-15j, -5.00000000e-01+6.63420764e-09j,\n",
       "         -5.00000000e-01-6.63420761e-09j,  6.41571522e-02+2.49693959e-15j,\n",
       "         -6.96923425e-01+5.79393265e-20j, -1.91892823e-01+7.97659292e-21j],\n",
       "        [-1.19561853e-01-2.76409475e-38j, -8.29705442e-18+3.04495509e-36j,\n",
       "         -4.95866772e-01-1.78504918e-31j,  1.15648232e-17-1.53446875e-25j,\n",
       "          1.15648232e-17+1.53446878e-25j,  4.95866781e-01+0.00000000e+00j,\n",
       "         -4.83587771e-17+1.34011252e-36j, -6.69984630e-01-5.53489270e-37j],\n",
       "        [-1.64404865e-03+1.19498853e-21j,  1.19573156e-01-1.01823700e-19j,\n",
       "         -6.41571494e-02-2.51619524e-15j, -5.00000000e-01+6.63420759e-09j,\n",
       "         -5.00000000e-01-6.63420764e-09j,  6.41571522e-02+2.50406260e-15j,\n",
       "          6.96923425e-01+0.00000000e+00j,  1.91892823e-01+7.97663977e-21j]]))"
      ]
     },
     "execution_count": 51,
     "metadata": {},
     "output_type": "execute_result"
    }
   ],
   "source": [
    "smk.bdg(Hlsw_num,0,0)"
   ]
  },
  {
   "cell_type": "code",
   "execution_count": 52,
   "metadata": {},
   "outputs": [],
   "source": [
    "import numpy as np\n",
    "import sympy as sp\n",
    "import SpinModel_afm as smk\n",
    "from matplotlib.pyplot import subplots as spp\n",
    "from numpy import linalg as LA\n",
    "from sympy.physics.matrices import msigma"
   ]
  },
  {
   "cell_type": "code",
   "execution_count": 53,
   "metadata": {},
   "outputs": [],
   "source": [
    "s0 = sp.Matrix([[1,0],[0,1]])\n",
    "s1 = msigma(1)\n",
    "s2 = msigma(2)\n",
    "s3 = msigma(3)"
   ]
  },
  {
   "cell_type": "code",
   "execution_count": 54,
   "metadata": {},
   "outputs": [],
   "source": [
    "I = sp.I\n",
    "J1 = sp.Symbol(\"J1\", real=True)\n",
    "J2 = sp.Symbol(\"J2\", real=True)\n",
    "J3 = sp.Symbol(\"J3\", real=True)\n",
    "\n",
    "k1 = sp.Symbol(\"k1\", real=True)\n",
    "k2 = sp.Symbol(\"k2\", real=True)\n",
    "q1 = sp.Symbol(\"k1\", real=True)\n",
    "q2 = sp.Symbol(\"k2\", real=True)"
   ]
  },
  {
   "cell_type": "code",
   "execution_count": 55,
   "metadata": {
    "scrolled": true
   },
   "outputs": [
    {
     "data": {
      "text/latex": [
       "$\\displaystyle \\left[\\begin{matrix}- J_{1} + 2 J_{2} \\cos{\\left(k_{1} \\right)} + 2 J_{2} + 3 J_{3} & 4 J_{2} \\cos{\\left(\\frac{k_{1}}{2} \\right)} \\cos{\\left(\\frac{k_{2}}{2} \\right)}\\\\4 J_{2} \\cos{\\left(\\frac{k_{1}}{2} \\right)} \\cos{\\left(\\frac{k_{2}}{2} \\right)} & - J_{1} + 2 J_{2} \\cos{\\left(k_{1} \\right)} + 2 J_{2} + 3 J_{3}\\end{matrix}\\right]$"
      ],
      "text/plain": [
       "Matrix([\n",
       "[-J1 + 2*J2*cos(k1) + 2*J2 + 3*J3,         4*J2*cos(k1/2)*cos(k2/2)],\n",
       "[        4*J2*cos(k1/2)*cos(k2/2), -J1 + 2*J2*cos(k1) + 2*J2 + 3*J3]])"
      ]
     },
     "execution_count": 55,
     "metadata": {},
     "output_type": "execute_result"
    }
   ],
   "source": [
    "A_k = 4*s1*sp.cos(k2/2)*(J2*sp.cos(k1/2))-s0*(-2*J2*sp.cos(k1)+J1-2*J2-3*J3)\n",
    "A_k"
   ]
  },
  {
   "cell_type": "code",
   "execution_count": 56,
   "metadata": {},
   "outputs": [
    {
     "data": {
      "text/latex": [
       "$\\displaystyle \\left[\\begin{matrix}2 J_{1} e^{\\frac{i k_{2}}{6}} \\cos{\\left(\\frac{k_{1}}{2} \\right)} & \\left(J_{1} + J_{3} e^{i k_{2}} + 2 J_{3} \\cos{\\left(k_{1} \\right)}\\right) e^{- \\frac{i k_{2}}{3}}\\\\\\left(J_{1} + J_{3} e^{i k_{2}} + 2 J_{3} \\cos{\\left(k_{1} \\right)}\\right) e^{- \\frac{i k_{2}}{3}} & 2 J_{1} e^{\\frac{i k_{2}}{6}} \\cos{\\left(\\frac{k_{1}}{2} \\right)}\\end{matrix}\\right]$"
      ],
      "text/plain": [
       "Matrix([\n",
       "[                     2*J1*exp(I*k2/6)*cos(k1/2), (J1 + J3*exp(I*k2) + 2*J3*cos(k1))*exp(-I*k2/3)],\n",
       "[(J1 + J3*exp(I*k2) + 2*J3*cos(k1))*exp(-I*k2/3),                      2*J1*exp(I*k2/6)*cos(k1/2)]])"
      ]
     },
     "execution_count": 56,
     "metadata": {},
     "output_type": "execute_result"
    }
   ],
   "source": [
    "g_k = sp.exp(-I*k2/3)*(2*J1*s0*sp.exp(I*k2/2)*sp.cos(k1/2)+s1*(2*J3*sp.cos(k1)+J3*sp.exp(I*k2)+J1))\n",
    "g_k"
   ]
  },
  {
   "cell_type": "code",
   "execution_count": 57,
   "metadata": {},
   "outputs": [
    {
     "data": {
      "text/latex": [
       "$\\displaystyle \\left[\\begin{matrix}- J_{1} + 2 J_{2} \\cos{\\left(k_{1} \\right)} + 2 J_{2} + 3 J_{3} & 4 J_{2} \\cos{\\left(\\frac{k_{1}}{2} \\right)} \\cos{\\left(\\frac{k_{2}}{2} \\right)}\\\\4 J_{2} \\cos{\\left(\\frac{k_{1}}{2} \\right)} \\cos{\\left(\\frac{k_{2}}{2} \\right)} & - J_{1} + 2 J_{2} \\cos{\\left(k_{1} \\right)} + 2 J_{2} + 3 J_{3}\\end{matrix}\\right]$"
      ],
      "text/plain": [
       "Matrix([\n",
       "[-J1 + 2*J2*cos(k1) + 2*J2 + 3*J3,         4*J2*cos(k1/2)*cos(k2/2)],\n",
       "[        4*J2*cos(k1/2)*cos(k2/2), -J1 + 2*J2*cos(k1) + 2*J2 + 3*J3]])"
      ]
     },
     "execution_count": 57,
     "metadata": {},
     "output_type": "execute_result"
    }
   ],
   "source": [
    "A_q = A_k.subs([(k1,-k1),(k2,-k2)])\n",
    "A_q"
   ]
  },
  {
   "cell_type": "code",
   "execution_count": 58,
   "metadata": {},
   "outputs": [
    {
     "data": {
      "text/latex": [
       "$\\displaystyle \\left[\\begin{matrix}2 J_{1} e^{- \\frac{i k_{2}}{6}} \\cos{\\left(\\frac{k_{1}}{2} \\right)} & \\left(J_{1} + 2 J_{3} \\cos{\\left(k_{1} \\right)} + J_{3} e^{- i k_{2}}\\right) e^{\\frac{i k_{2}}{3}}\\\\\\left(J_{1} + 2 J_{3} \\cos{\\left(k_{1} \\right)} + J_{3} e^{- i k_{2}}\\right) e^{\\frac{i k_{2}}{3}} & 2 J_{1} e^{- \\frac{i k_{2}}{6}} \\cos{\\left(\\frac{k_{1}}{2} \\right)}\\end{matrix}\\right]$"
      ],
      "text/plain": [
       "Matrix([\n",
       "[                    2*J1*exp(-I*k2/6)*cos(k1/2), (J1 + 2*J3*cos(k1) + J3*exp(-I*k2))*exp(I*k2/3)],\n",
       "[(J1 + 2*J3*cos(k1) + J3*exp(-I*k2))*exp(I*k2/3),                     2*J1*exp(-I*k2/6)*cos(k1/2)]])"
      ]
     },
     "execution_count": 58,
     "metadata": {},
     "output_type": "execute_result"
    }
   ],
   "source": [
    "g_q = sp.transpose(sp.conjugate(g_k))\n",
    "g_q"
   ]
  },
  {
   "cell_type": "code",
   "execution_count": 59,
   "metadata": {
    "scrolled": false
   },
   "outputs": [
    {
     "data": {
      "text/latex": [
       "$\\displaystyle \\left[\\begin{matrix}- J_{1} + 2 J_{2} \\cos{\\left(k_{1} \\right)} + 2 J_{2} + 3 J_{3} & 4 J_{2} \\cos{\\left(\\frac{k_{1}}{2} \\right)} \\cos{\\left(\\frac{k_{2}}{2} \\right)} & 2 J_{1} e^{\\frac{i k_{2}}{6}} \\cos{\\left(\\frac{k_{1}}{2} \\right)} & \\left(J_{1} + J_{3} e^{i k_{2}} + 2 J_{3} \\cos{\\left(k_{1} \\right)}\\right) e^{- \\frac{i k_{2}}{3}}\\\\4 J_{2} \\cos{\\left(\\frac{k_{1}}{2} \\right)} \\cos{\\left(\\frac{k_{2}}{2} \\right)} & - J_{1} + 2 J_{2} \\cos{\\left(k_{1} \\right)} + 2 J_{2} + 3 J_{3} & \\left(J_{1} + J_{3} e^{i k_{2}} + 2 J_{3} \\cos{\\left(k_{1} \\right)}\\right) e^{- \\frac{i k_{2}}{3}} & 2 J_{1} e^{\\frac{i k_{2}}{6}} \\cos{\\left(\\frac{k_{1}}{2} \\right)}\\\\2 J_{1} e^{- \\frac{i k_{2}}{6}} \\cos{\\left(\\frac{k_{1}}{2} \\right)} & \\left(J_{1} + 2 J_{3} \\cos{\\left(k_{1} \\right)} + J_{3} e^{- i k_{2}}\\right) e^{\\frac{i k_{2}}{3}} & - J_{1} + 2 J_{2} \\cos{\\left(k_{1} \\right)} + 2 J_{2} + 3 J_{3} & 4 J_{2} \\cos{\\left(\\frac{k_{1}}{2} \\right)} \\cos{\\left(\\frac{k_{2}}{2} \\right)}\\\\\\left(J_{1} + 2 J_{3} \\cos{\\left(k_{1} \\right)} + J_{3} e^{- i k_{2}}\\right) e^{\\frac{i k_{2}}{3}} & 2 J_{1} e^{- \\frac{i k_{2}}{6}} \\cos{\\left(\\frac{k_{1}}{2} \\right)} & 4 J_{2} \\cos{\\left(\\frac{k_{1}}{2} \\right)} \\cos{\\left(\\frac{k_{2}}{2} \\right)} & - J_{1} + 2 J_{2} \\cos{\\left(k_{1} \\right)} + 2 J_{2} + 3 J_{3}\\end{matrix}\\right]$"
      ],
      "text/plain": [
       "Matrix([\n",
       "[               -J1 + 2*J2*cos(k1) + 2*J2 + 3*J3,                        4*J2*cos(k1/2)*cos(k2/2),                      2*J1*exp(I*k2/6)*cos(k1/2), (J1 + J3*exp(I*k2) + 2*J3*cos(k1))*exp(-I*k2/3)],\n",
       "[                       4*J2*cos(k1/2)*cos(k2/2),                -J1 + 2*J2*cos(k1) + 2*J2 + 3*J3, (J1 + J3*exp(I*k2) + 2*J3*cos(k1))*exp(-I*k2/3),                      2*J1*exp(I*k2/6)*cos(k1/2)],\n",
       "[                    2*J1*exp(-I*k2/6)*cos(k1/2), (J1 + 2*J3*cos(k1) + J3*exp(-I*k2))*exp(I*k2/3),                -J1 + 2*J2*cos(k1) + 2*J2 + 3*J3,                        4*J2*cos(k1/2)*cos(k2/2)],\n",
       "[(J1 + 2*J3*cos(k1) + J3*exp(-I*k2))*exp(I*k2/3),                     2*J1*exp(-I*k2/6)*cos(k1/2),                        4*J2*cos(k1/2)*cos(k2/2),                -J1 + 2*J2*cos(k1) + 2*J2 + 3*J3]])"
      ]
     },
     "execution_count": 59,
     "metadata": {},
     "output_type": "execute_result"
    }
   ],
   "source": [
    "H1 = sp.Matrix(sp.BlockMatrix([[A_k,g_k],[g_q,A_q]]))\n",
    "H1"
   ]
  },
  {
   "cell_type": "code",
   "execution_count": 60,
   "metadata": {
    "scrolled": true
   },
   "outputs": [
    {
     "data": {
      "text/latex": [
       "$\\displaystyle \\left[\\begin{matrix}- J_{1} + 2 J_{2} \\cos{\\left(k_{1} \\right)} + 2 J_{2} + 3 J_{3} & 4 J_{2} \\cos{\\left(\\frac{k_{1}}{2} \\right)} \\cos{\\left(\\frac{k_{2}}{2} \\right)} & 2 J_{1} e^{\\frac{i k_{2}}{6}} \\cos{\\left(\\frac{k_{1}}{2} \\right)} & \\left(J_{1} + J_{3} e^{i k_{2}} + 2 J_{3} \\cos{\\left(k_{1} \\right)}\\right) e^{- \\frac{i k_{2}}{3}}\\\\4 J_{2} \\cos{\\left(\\frac{k_{1}}{2} \\right)} \\cos{\\left(\\frac{k_{2}}{2} \\right)} & - J_{1} + 2 J_{2} \\cos{\\left(k_{1} \\right)} + 2 J_{2} + 3 J_{3} & \\left(J_{1} + J_{3} e^{i k_{2}} + 2 J_{3} \\cos{\\left(k_{1} \\right)}\\right) e^{- \\frac{i k_{2}}{3}} & 2 J_{1} e^{\\frac{i k_{2}}{6}} \\cos{\\left(\\frac{k_{1}}{2} \\right)}\\\\2 J_{1} e^{- \\frac{i k_{2}}{6}} \\cos{\\left(\\frac{k_{1}}{2} \\right)} & \\left(J_{1} + 2 J_{3} \\cos{\\left(k_{1} \\right)} + J_{3} e^{- i k_{2}}\\right) e^{\\frac{i k_{2}}{3}} & - J_{1} + 2 J_{2} \\cos{\\left(k_{1} \\right)} + 2 J_{2} + 3 J_{3} & 4 J_{2} \\cos{\\left(\\frac{k_{1}}{2} \\right)} \\cos{\\left(\\frac{k_{2}}{2} \\right)}\\\\\\left(J_{1} + 2 J_{3} \\cos{\\left(k_{1} \\right)} + J_{3} e^{- i k_{2}}\\right) e^{\\frac{i k_{2}}{3}} & 2 J_{1} e^{- \\frac{i k_{2}}{6}} \\cos{\\left(\\frac{k_{1}}{2} \\right)} & 4 J_{2} \\cos{\\left(\\frac{k_{1}}{2} \\right)} \\cos{\\left(\\frac{k_{2}}{2} \\right)} & - J_{1} + 2 J_{2} \\cos{\\left(k_{1} \\right)} + 2 J_{2} + 3 J_{3}\\end{matrix}\\right]$"
      ],
      "text/plain": [
       "Matrix([\n",
       "[               -J1 + 2*J2*cos(k1) + 2*J2 + 3*J3,                        4*J2*cos(k1/2)*cos(k2/2),                      2*J1*exp(I*k2/6)*cos(k1/2), (J1 + J3*exp(I*k2) + 2*J3*cos(k1))*exp(-I*k2/3)],\n",
       "[                       4*J2*cos(k1/2)*cos(k2/2),                -J1 + 2*J2*cos(k1) + 2*J2 + 3*J3, (J1 + J3*exp(I*k2) + 2*J3*cos(k1))*exp(-I*k2/3),                      2*J1*exp(I*k2/6)*cos(k1/2)],\n",
       "[                    2*J1*exp(-I*k2/6)*cos(k1/2), (J1 + 2*J3*cos(k1) + J3*exp(-I*k2))*exp(I*k2/3),                -J1 + 2*J2*cos(k1) + 2*J2 + 3*J3,                        4*J2*cos(k1/2)*cos(k2/2)],\n",
       "[(J1 + 2*J3*cos(k1) + J3*exp(-I*k2))*exp(I*k2/3),                     2*J1*exp(-I*k2/6)*cos(k1/2),                        4*J2*cos(k1/2)*cos(k2/2),                -J1 + 2*J2*cos(k1) + 2*J2 + 3*J3]])"
      ]
     },
     "execution_count": 60,
     "metadata": {},
     "output_type": "execute_result"
    }
   ],
   "source": [
    "H2 = sp.transpose(H1.subs([(k1,-k1),(k2,-k2)]))\n",
    "H2"
   ]
  },
  {
   "cell_type": "code",
   "execution_count": 61,
   "metadata": {},
   "outputs": [
    {
     "data": {
      "text/latex": [
       "$\\displaystyle \\left[\\begin{matrix}- J_{1} + 2 J_{2} \\cos{\\left(k_{1} \\right)} + 2 J_{2} + 3 J_{3} & 4 J_{2} \\cos{\\left(\\frac{k_{1}}{2} \\right)} \\cos{\\left(\\frac{k_{2}}{2} \\right)} & 2 J_{1} e^{\\frac{i k_{2}}{6}} \\cos{\\left(\\frac{k_{1}}{2} \\right)} & \\left(J_{1} + J_{3} e^{i k_{2}} + 2 J_{3} \\cos{\\left(k_{1} \\right)}\\right) e^{- \\frac{i k_{2}}{3}} & 0 & 0 & 0 & 0\\\\4 J_{2} \\cos{\\left(\\frac{k_{1}}{2} \\right)} \\cos{\\left(\\frac{k_{2}}{2} \\right)} & - J_{1} + 2 J_{2} \\cos{\\left(k_{1} \\right)} + 2 J_{2} + 3 J_{3} & \\left(J_{1} + J_{3} e^{i k_{2}} + 2 J_{3} \\cos{\\left(k_{1} \\right)}\\right) e^{- \\frac{i k_{2}}{3}} & 2 J_{1} e^{\\frac{i k_{2}}{6}} \\cos{\\left(\\frac{k_{1}}{2} \\right)} & 0 & 0 & 0 & 0\\\\2 J_{1} e^{- \\frac{i k_{2}}{6}} \\cos{\\left(\\frac{k_{1}}{2} \\right)} & \\left(J_{1} + 2 J_{3} \\cos{\\left(k_{1} \\right)} + J_{3} e^{- i k_{2}}\\right) e^{\\frac{i k_{2}}{3}} & - J_{1} + 2 J_{2} \\cos{\\left(k_{1} \\right)} + 2 J_{2} + 3 J_{3} & 4 J_{2} \\cos{\\left(\\frac{k_{1}}{2} \\right)} \\cos{\\left(\\frac{k_{2}}{2} \\right)} & 0 & 0 & 0 & 0\\\\\\left(J_{1} + 2 J_{3} \\cos{\\left(k_{1} \\right)} + J_{3} e^{- i k_{2}}\\right) e^{\\frac{i k_{2}}{3}} & 2 J_{1} e^{- \\frac{i k_{2}}{6}} \\cos{\\left(\\frac{k_{1}}{2} \\right)} & 4 J_{2} \\cos{\\left(\\frac{k_{1}}{2} \\right)} \\cos{\\left(\\frac{k_{2}}{2} \\right)} & - J_{1} + 2 J_{2} \\cos{\\left(k_{1} \\right)} + 2 J_{2} + 3 J_{3} & 0 & 0 & 0 & 0\\\\0 & 0 & 0 & 0 & - J_{1} + 2 J_{2} \\cos{\\left(k_{1} \\right)} + 2 J_{2} + 3 J_{3} & 4 J_{2} \\cos{\\left(\\frac{k_{1}}{2} \\right)} \\cos{\\left(\\frac{k_{2}}{2} \\right)} & 2 J_{1} e^{\\frac{i k_{2}}{6}} \\cos{\\left(\\frac{k_{1}}{2} \\right)} & \\left(J_{1} + J_{3} e^{i k_{2}} + 2 J_{3} \\cos{\\left(k_{1} \\right)}\\right) e^{- \\frac{i k_{2}}{3}}\\\\0 & 0 & 0 & 0 & 4 J_{2} \\cos{\\left(\\frac{k_{1}}{2} \\right)} \\cos{\\left(\\frac{k_{2}}{2} \\right)} & - J_{1} + 2 J_{2} \\cos{\\left(k_{1} \\right)} + 2 J_{2} + 3 J_{3} & \\left(J_{1} + J_{3} e^{i k_{2}} + 2 J_{3} \\cos{\\left(k_{1} \\right)}\\right) e^{- \\frac{i k_{2}}{3}} & 2 J_{1} e^{\\frac{i k_{2}}{6}} \\cos{\\left(\\frac{k_{1}}{2} \\right)}\\\\0 & 0 & 0 & 0 & 2 J_{1} e^{- \\frac{i k_{2}}{6}} \\cos{\\left(\\frac{k_{1}}{2} \\right)} & \\left(J_{1} + 2 J_{3} \\cos{\\left(k_{1} \\right)} + J_{3} e^{- i k_{2}}\\right) e^{\\frac{i k_{2}}{3}} & - J_{1} + 2 J_{2} \\cos{\\left(k_{1} \\right)} + 2 J_{2} + 3 J_{3} & 4 J_{2} \\cos{\\left(\\frac{k_{1}}{2} \\right)} \\cos{\\left(\\frac{k_{2}}{2} \\right)}\\\\0 & 0 & 0 & 0 & \\left(J_{1} + 2 J_{3} \\cos{\\left(k_{1} \\right)} + J_{3} e^{- i k_{2}}\\right) e^{\\frac{i k_{2}}{3}} & 2 J_{1} e^{- \\frac{i k_{2}}{6}} \\cos{\\left(\\frac{k_{1}}{2} \\right)} & 4 J_{2} \\cos{\\left(\\frac{k_{1}}{2} \\right)} \\cos{\\left(\\frac{k_{2}}{2} \\right)} & - J_{1} + 2 J_{2} \\cos{\\left(k_{1} \\right)} + 2 J_{2} + 3 J_{3}\\end{matrix}\\right]$"
      ],
      "text/plain": [
       "Matrix([\n",
       "[               -J1 + 2*J2*cos(k1) + 2*J2 + 3*J3,                        4*J2*cos(k1/2)*cos(k2/2),                      2*J1*exp(I*k2/6)*cos(k1/2), (J1 + J3*exp(I*k2) + 2*J3*cos(k1))*exp(-I*k2/3),                                               0,                                               0,                                               0,                                               0],\n",
       "[                       4*J2*cos(k1/2)*cos(k2/2),                -J1 + 2*J2*cos(k1) + 2*J2 + 3*J3, (J1 + J3*exp(I*k2) + 2*J3*cos(k1))*exp(-I*k2/3),                      2*J1*exp(I*k2/6)*cos(k1/2),                                               0,                                               0,                                               0,                                               0],\n",
       "[                    2*J1*exp(-I*k2/6)*cos(k1/2), (J1 + 2*J3*cos(k1) + J3*exp(-I*k2))*exp(I*k2/3),                -J1 + 2*J2*cos(k1) + 2*J2 + 3*J3,                        4*J2*cos(k1/2)*cos(k2/2),                                               0,                                               0,                                               0,                                               0],\n",
       "[(J1 + 2*J3*cos(k1) + J3*exp(-I*k2))*exp(I*k2/3),                     2*J1*exp(-I*k2/6)*cos(k1/2),                        4*J2*cos(k1/2)*cos(k2/2),                -J1 + 2*J2*cos(k1) + 2*J2 + 3*J3,                                               0,                                               0,                                               0,                                               0],\n",
       "[                                              0,                                               0,                                               0,                                               0,                -J1 + 2*J2*cos(k1) + 2*J2 + 3*J3,                        4*J2*cos(k1/2)*cos(k2/2),                      2*J1*exp(I*k2/6)*cos(k1/2), (J1 + J3*exp(I*k2) + 2*J3*cos(k1))*exp(-I*k2/3)],\n",
       "[                                              0,                                               0,                                               0,                                               0,                        4*J2*cos(k1/2)*cos(k2/2),                -J1 + 2*J2*cos(k1) + 2*J2 + 3*J3, (J1 + J3*exp(I*k2) + 2*J3*cos(k1))*exp(-I*k2/3),                      2*J1*exp(I*k2/6)*cos(k1/2)],\n",
       "[                                              0,                                               0,                                               0,                                               0,                     2*J1*exp(-I*k2/6)*cos(k1/2), (J1 + 2*J3*cos(k1) + J3*exp(-I*k2))*exp(I*k2/3),                -J1 + 2*J2*cos(k1) + 2*J2 + 3*J3,                        4*J2*cos(k1/2)*cos(k2/2)],\n",
       "[                                              0,                                               0,                                               0,                                               0, (J1 + 2*J3*cos(k1) + J3*exp(-I*k2))*exp(I*k2/3),                     2*J1*exp(-I*k2/6)*cos(k1/2),                        4*J2*cos(k1/2)*cos(k2/2),                -J1 + 2*J2*cos(k1) + 2*J2 + 3*J3]])"
      ]
     },
     "execution_count": 61,
     "metadata": {},
     "output_type": "execute_result"
    }
   ],
   "source": [
    "H = sp.Matrix(sp.BlockMatrix([[H1,sp.zeros(4)],[sp.zeros(4),H2]]))\n",
    "H"
   ]
  },
  {
   "cell_type": "code",
   "execution_count": 62,
   "metadata": {},
   "outputs": [],
   "source": [
    "def bdg(hlsw, kx, ky):\n",
    "    # Bogoliubov transformation\n",
    "    sigma_3 = np.diag([1, -1, 1, -1, -1, 1, -1, 1])\n",
    "\n",
    "    global k1\n",
    "    global k2\n",
    "\n",
    "    k1 = sp.Symbol(\"k1\", real=True)\n",
    "    k2 = sp.Symbol(\"k2\", real=True)\n",
    "\n",
    "    H_pure_num = sp.matrices.dense.matrix2numpy(hlsw.subs([(k1, kx), (k2, ky)])).astype(complex)\n",
    "\n",
    "    H_test = H_pure_num-np.transpose(np.conjugate(H_pure_num))\n",
    "\n",
    "    H_BdG = np.matmul(sigma_3, H_pure_num)\n",
    "    eigval_k,eigvec_k = (LA.eig(H_BdG))\n",
    "\n",
    "    idx = np.real(eigval_k).argsort()[::-1]\n",
    "    eigval_k = eigval_k[idx]\n",
    "    eigvec_k = eigvec_k[:, idx]\n",
    "    return eigval_k, eigvec_k"
   ]
  },
  {
   "cell_type": "code",
   "execution_count": 63,
   "metadata": {},
   "outputs": [],
   "source": [
    "def band_high_sym(hlsw, strg, rsln):\n",
    "    eng_all = np.empty((0,8), float)\n",
    "    dk = 2 * np.pi / rsln\n",
    "    fig, ax = spp(facecolor='0.95')\n",
    "\n",
    "    # a = 1\n",
    "    bb = 4 * np.pi / np.sqrt(3)\n",
    "\n",
    "# gamma to X\n",
    "    # step length and number of steps:\n",
    "    n = np.sqrt(3)*bb / 4 / dk\n",
    "    k1_init = 0\n",
    "    k2_init = 0\n",
    "\n",
    "    # denote the high symmetry point\n",
    "    fig.gca().axvline(x=0, color='b', linestyle='dashed')\n",
    "    x_ticks = np.array([0])\n",
    "\n",
    "    i = 0\n",
    "    while i < n:\n",
    "        eng, vec = bdg(hlsw,k1_init + i * dk, k2_init)\n",
    "        eng_all = np.append(eng_all, [eng], axis=0)\n",
    "        print(k1_init + i * dk, k2_init)\n",
    "        i += 1\n",
    "\n",
    "# X to M\n",
    "    # step length and number of steps:\n",
    "    n = bb / 4 / dk\n",
    "\n",
    "    k1_init = np.sqrt(3)*bb / 4\n",
    "    k2_init = 0\n",
    "\n",
    "    # denote the high symmetry point\n",
    "    fig.gca().axvline(x=eng_all.shape[0], color='b', linestyle='dashed')\n",
    "    x_ticks = np.append(x_ticks, [eng_all.shape[0]], axis=0)\n",
    "\n",
    "    i = 0\n",
    "    while i < n:\n",
    "        eng, vec = bdg(hlsw,  k1_init, k2_init - i * dk)\n",
    "        eng_all = np.append(eng_all, [eng], axis=0)\n",
    "        print(k1_init, k2_init - i * dk)\n",
    "        i += 1\n",
    "\n",
    "    # M to Y\n",
    "    # step length and number of steps:\n",
    "    n = np.sqrt(3)*bb / 4 / dk\n",
    "\n",
    "    k1_init = np.sqrt(3)*bb/4\n",
    "    k2_init = bb/4\n",
    "\n",
    "    # denote the high symmetry point\n",
    "    fig.gca().axvline(x=eng_all.shape[0], color='b', linestyle='dashed')\n",
    "    x_ticks = np.append(x_ticks, [eng_all.shape[0]], axis=0)\n",
    "\n",
    "    i = 0\n",
    "    while i < n:\n",
    "        eng, vec = bdg(hlsw, k1_init - i * dk, k2_init)\n",
    "        eng_all = np.append(eng_all, [eng], axis=0)\n",
    "        print(k1_init - i * dk, k2_init)\n",
    "        i += 1\n",
    "\n",
    "    # Y to gamma\n",
    "    # step length and number of steps:\n",
    "    n = bb / 4 / dk\n",
    "\n",
    "    k1_init = 0\n",
    "    k2_init = bb / 4\n",
    "\n",
    "    # denote the high symmetry point\n",
    "    fig.gca().axvline(x=eng_all.shape[0], color='b', linestyle='dashed')\n",
    "    x_ticks = np.append(x_ticks, [eng_all.shape[0]], axis=0)\n",
    "\n",
    "    i = 0\n",
    "    while i < n:\n",
    "        eng, vec = bdg(hlsw, k1_init, k2_init - i * dk)\n",
    "        eng_all = np.append(eng_all, [eng], axis=0)\n",
    "        print(k1_init, k2_init - i * dk)\n",
    "        i += 1\n",
    "\n",
    "    # gamma to M\n",
    "    # step length and number of steps:\n",
    "    n = bb / 2 / dk\n",
    "\n",
    "    k1_init = 0\n",
    "    k2_init = 0\n",
    "\n",
    "    # denote the high symmetry point\n",
    "    fig.gca().axvline(x=eng_all.shape[0], color='b', linestyle='dashed')\n",
    "    x_ticks = np.append(x_ticks, [eng_all.shape[0]], axis=0)\n",
    "\n",
    "    i = 0\n",
    "    while i < n:\n",
    "        eng, vec = bdg(hlsw, k1_init + i * dk * (np.sqrt(3) / 2), k2_init + i * dk * (1 / 2))\n",
    "        eng_all = np.append(eng_all, [eng], axis=0)\n",
    "        print( k1_init + i * dk * (np.sqrt(3) / 2), k2_init + i * dk * (1 / 2))\n",
    "        i += 1\n",
    "    \n",
    "    # denote the high symmetry point\n",
    "    fig.gca().axvline(x=eng_all.shape[0] - 1, color='b', linestyle='dashed')\n",
    "    x_ticks = np.append(x_ticks, [eng_all.shape[0] - 1], axis=0)\n",
    "\n",
    "    num = int(eng_all.size/8)\n",
    "    x = np.linspace(0, num, num, endpoint=False, retstep=False, dtype=None, axis=0)\n",
    "\n",
    "    fig.gca().set_title(\"Band structure from Korean group\")\n",
    "    fig.gca().set_xlabel(\"k\")\n",
    "    fig.gca().set_ylabel(\"$ε_{nk}\\ meV$\")\n",
    "    fig.gca().set_xticks(x_ticks)\n",
    "    fig.gca().set_xticklabels(['$\\Gamma$', 'X', 'M', 'Y', \"$\\Gamma$\", 'M'])\n",
    "\n",
    "    print(eng_all)\n",
    "    eng_all = np.reshape(eng_all,(-1,8))\n",
    "    print(np.real(eng_all).max(), np.real(eng_all).min())\n",
    "\n",
    "    i = 0\n",
    "    while i<8:\n",
    "        fig.gca().plot(x, np.real(eng_all[:, i]), color='k')\n",
    "        i+=1\n",
    "\n",
    "    fig.gca().set_ybound(lower=None, upper=np.real(eng_all).max()+5.5)\n",
    "    fig.gca().text(0, np.real(eng_all).max()+3, f\"$[J1,J2,J3,]$ = [{strg[0]}, {strg[1]}, {strg[2]}]\",\n",
    "                   fontsize=10, bbox={'facecolor': '0.8', 'pad': 2})\n",
    "    fig.savefig('band.png')\n"
   ]
  },
  {
   "cell_type": "code",
   "execution_count": 64,
   "metadata": {},
   "outputs": [
    {
     "data": {
      "text/latex": [
       "$\\displaystyle \\left[\\begin{matrix}- J_{1} + 2 J_{2} \\cos{\\left(k_{1} \\right)} + 2 J_{2} + 3 J_{3} & 4 J_{2} \\cos{\\left(\\frac{k_{1}}{2} \\right)} \\cos{\\left(\\frac{k_{2}}{2} \\right)} & 2 J_{1} e^{\\frac{i k_{2}}{6}} \\cos{\\left(\\frac{k_{1}}{2} \\right)} & \\left(J_{1} + J_{3} e^{i k_{2}} + 2 J_{3} \\cos{\\left(k_{1} \\right)}\\right) e^{- \\frac{i k_{2}}{3}} & 0 & 0 & 0 & 0\\\\4 J_{2} \\cos{\\left(\\frac{k_{1}}{2} \\right)} \\cos{\\left(\\frac{k_{2}}{2} \\right)} & - J_{1} + 2 J_{2} \\cos{\\left(k_{1} \\right)} + 2 J_{2} + 3 J_{3} & \\left(J_{1} + J_{3} e^{i k_{2}} + 2 J_{3} \\cos{\\left(k_{1} \\right)}\\right) e^{- \\frac{i k_{2}}{3}} & 2 J_{1} e^{\\frac{i k_{2}}{6}} \\cos{\\left(\\frac{k_{1}}{2} \\right)} & 0 & 0 & 0 & 0\\\\2 J_{1} e^{- \\frac{i k_{2}}{6}} \\cos{\\left(\\frac{k_{1}}{2} \\right)} & \\left(J_{1} + 2 J_{3} \\cos{\\left(k_{1} \\right)} + J_{3} e^{- i k_{2}}\\right) e^{\\frac{i k_{2}}{3}} & - J_{1} + 2 J_{2} \\cos{\\left(k_{1} \\right)} + 2 J_{2} + 3 J_{3} & 4 J_{2} \\cos{\\left(\\frac{k_{1}}{2} \\right)} \\cos{\\left(\\frac{k_{2}}{2} \\right)} & 0 & 0 & 0 & 0\\\\\\left(J_{1} + 2 J_{3} \\cos{\\left(k_{1} \\right)} + J_{3} e^{- i k_{2}}\\right) e^{\\frac{i k_{2}}{3}} & 2 J_{1} e^{- \\frac{i k_{2}}{6}} \\cos{\\left(\\frac{k_{1}}{2} \\right)} & 4 J_{2} \\cos{\\left(\\frac{k_{1}}{2} \\right)} \\cos{\\left(\\frac{k_{2}}{2} \\right)} & - J_{1} + 2 J_{2} \\cos{\\left(k_{1} \\right)} + 2 J_{2} + 3 J_{3} & 0 & 0 & 0 & 0\\\\0 & 0 & 0 & 0 & - J_{1} + 2 J_{2} \\cos{\\left(k_{1} \\right)} + 2 J_{2} + 3 J_{3} & 4 J_{2} \\cos{\\left(\\frac{k_{1}}{2} \\right)} \\cos{\\left(\\frac{k_{2}}{2} \\right)} & 2 J_{1} e^{\\frac{i k_{2}}{6}} \\cos{\\left(\\frac{k_{1}}{2} \\right)} & \\left(J_{1} + J_{3} e^{i k_{2}} + 2 J_{3} \\cos{\\left(k_{1} \\right)}\\right) e^{- \\frac{i k_{2}}{3}}\\\\0 & 0 & 0 & 0 & 4 J_{2} \\cos{\\left(\\frac{k_{1}}{2} \\right)} \\cos{\\left(\\frac{k_{2}}{2} \\right)} & - J_{1} + 2 J_{2} \\cos{\\left(k_{1} \\right)} + 2 J_{2} + 3 J_{3} & \\left(J_{1} + J_{3} e^{i k_{2}} + 2 J_{3} \\cos{\\left(k_{1} \\right)}\\right) e^{- \\frac{i k_{2}}{3}} & 2 J_{1} e^{\\frac{i k_{2}}{6}} \\cos{\\left(\\frac{k_{1}}{2} \\right)}\\\\0 & 0 & 0 & 0 & 2 J_{1} e^{- \\frac{i k_{2}}{6}} \\cos{\\left(\\frac{k_{1}}{2} \\right)} & \\left(J_{1} + 2 J_{3} \\cos{\\left(k_{1} \\right)} + J_{3} e^{- i k_{2}}\\right) e^{\\frac{i k_{2}}{3}} & - J_{1} + 2 J_{2} \\cos{\\left(k_{1} \\right)} + 2 J_{2} + 3 J_{3} & 4 J_{2} \\cos{\\left(\\frac{k_{1}}{2} \\right)} \\cos{\\left(\\frac{k_{2}}{2} \\right)}\\\\0 & 0 & 0 & 0 & \\left(J_{1} + 2 J_{3} \\cos{\\left(k_{1} \\right)} + J_{3} e^{- i k_{2}}\\right) e^{\\frac{i k_{2}}{3}} & 2 J_{1} e^{- \\frac{i k_{2}}{6}} \\cos{\\left(\\frac{k_{1}}{2} \\right)} & 4 J_{2} \\cos{\\left(\\frac{k_{1}}{2} \\right)} \\cos{\\left(\\frac{k_{2}}{2} \\right)} & - J_{1} + 2 J_{2} \\cos{\\left(k_{1} \\right)} + 2 J_{2} + 3 J_{3}\\end{matrix}\\right]$"
      ],
      "text/plain": [
       "Matrix([\n",
       "[               -J1 + 2*J2*cos(k1) + 2*J2 + 3*J3,                        4*J2*cos(k1/2)*cos(k2/2),                      2*J1*exp(I*k2/6)*cos(k1/2), (J1 + J3*exp(I*k2) + 2*J3*cos(k1))*exp(-I*k2/3),                                               0,                                               0,                                               0,                                               0],\n",
       "[                       4*J2*cos(k1/2)*cos(k2/2),                -J1 + 2*J2*cos(k1) + 2*J2 + 3*J3, (J1 + J3*exp(I*k2) + 2*J3*cos(k1))*exp(-I*k2/3),                      2*J1*exp(I*k2/6)*cos(k1/2),                                               0,                                               0,                                               0,                                               0],\n",
       "[                    2*J1*exp(-I*k2/6)*cos(k1/2), (J1 + 2*J3*cos(k1) + J3*exp(-I*k2))*exp(I*k2/3),                -J1 + 2*J2*cos(k1) + 2*J2 + 3*J3,                        4*J2*cos(k1/2)*cos(k2/2),                                               0,                                               0,                                               0,                                               0],\n",
       "[(J1 + 2*J3*cos(k1) + J3*exp(-I*k2))*exp(I*k2/3),                     2*J1*exp(-I*k2/6)*cos(k1/2),                        4*J2*cos(k1/2)*cos(k2/2),                -J1 + 2*J2*cos(k1) + 2*J2 + 3*J3,                                               0,                                               0,                                               0,                                               0],\n",
       "[                                              0,                                               0,                                               0,                                               0,                -J1 + 2*J2*cos(k1) + 2*J2 + 3*J3,                        4*J2*cos(k1/2)*cos(k2/2),                      2*J1*exp(I*k2/6)*cos(k1/2), (J1 + J3*exp(I*k2) + 2*J3*cos(k1))*exp(-I*k2/3)],\n",
       "[                                              0,                                               0,                                               0,                                               0,                        4*J2*cos(k1/2)*cos(k2/2),                -J1 + 2*J2*cos(k1) + 2*J2 + 3*J3, (J1 + J3*exp(I*k2) + 2*J3*cos(k1))*exp(-I*k2/3),                      2*J1*exp(I*k2/6)*cos(k1/2)],\n",
       "[                                              0,                                               0,                                               0,                                               0,                     2*J1*exp(-I*k2/6)*cos(k1/2), (J1 + 2*J3*cos(k1) + J3*exp(-I*k2))*exp(I*k2/3),                -J1 + 2*J2*cos(k1) + 2*J2 + 3*J3,                        4*J2*cos(k1/2)*cos(k2/2)],\n",
       "[                                              0,                                               0,                                               0,                                               0, (J1 + 2*J3*cos(k1) + J3*exp(-I*k2))*exp(I*k2/3),                     2*J1*exp(-I*k2/6)*cos(k1/2),                        4*J2*cos(k1/2)*cos(k2/2),                -J1 + 2*J2*cos(k1) + 2*J2 + 3*J3]])"
      ]
     },
     "execution_count": 64,
     "metadata": {},
     "output_type": "execute_result"
    }
   ],
   "source": [
    "H"
   ]
  },
  {
   "cell_type": "code",
   "execution_count": 65,
   "metadata": {},
   "outputs": [
    {
     "data": {
      "text/latex": [
       "$\\displaystyle \\left[\\begin{matrix}0 & 0 & 0 & 0 & 0 & 0 & 0 & 0\\\\0 & 0 & 0 & 0 & 0 & 0 & 0 & 0\\\\0 & 0 & 0 & 0 & 0 & 0 & 0 & 0\\\\0 & 0 & 0 & 0 & 0 & 0 & 0 & 0\\\\0 & 0 & 0 & 0 & 0 & 0 & 0 & 0\\\\0 & 0 & 0 & 0 & 0 & 0 & 0 & 0\\\\0 & 0 & 0 & 0 & 0 & 0 & 0 & 0\\\\0 & 0 & 0 & 0 & 0 & 0 & 0 & 0\\end{matrix}\\right]$"
      ],
      "text/plain": [
       "Matrix([\n",
       "[0, 0, 0, 0, 0, 0, 0, 0],\n",
       "[0, 0, 0, 0, 0, 0, 0, 0],\n",
       "[0, 0, 0, 0, 0, 0, 0, 0],\n",
       "[0, 0, 0, 0, 0, 0, 0, 0],\n",
       "[0, 0, 0, 0, 0, 0, 0, 0],\n",
       "[0, 0, 0, 0, 0, 0, 0, 0],\n",
       "[0, 0, 0, 0, 0, 0, 0, 0],\n",
       "[0, 0, 0, 0, 0, 0, 0, 0]])"
      ]
     },
     "execution_count": 65,
     "metadata": {},
     "output_type": "execute_result"
    }
   ],
   "source": [
    "H-sp.transpose(sp.conjugate(H))"
   ]
  },
  {
   "cell_type": "code",
   "execution_count": 66,
   "metadata": {},
   "outputs": [
    {
     "data": {
      "text/latex": [
       "$\\displaystyle \\left[\\begin{matrix}3 & 0 & 0 & \\left(e^{i k_{2}} + 2 \\cos{\\left(k_{1} \\right)}\\right) e^{- \\frac{i k_{2}}{3}} & 0 & 0 & 0 & 0\\\\0 & 3 & \\left(e^{i k_{2}} + 2 \\cos{\\left(k_{1} \\right)}\\right) e^{- \\frac{i k_{2}}{3}} & 0 & 0 & 0 & 0 & 0\\\\0 & \\left(2 \\cos{\\left(k_{1} \\right)} + e^{- i k_{2}}\\right) e^{\\frac{i k_{2}}{3}} & 3 & 0 & 0 & 0 & 0 & 0\\\\\\left(2 \\cos{\\left(k_{1} \\right)} + e^{- i k_{2}}\\right) e^{\\frac{i k_{2}}{3}} & 0 & 0 & 3 & 0 & 0 & 0 & 0\\\\0 & 0 & 0 & 0 & 3 & 0 & 0 & \\left(e^{i k_{2}} + 2 \\cos{\\left(k_{1} \\right)}\\right) e^{- \\frac{i k_{2}}{3}}\\\\0 & 0 & 0 & 0 & 0 & 3 & \\left(e^{i k_{2}} + 2 \\cos{\\left(k_{1} \\right)}\\right) e^{- \\frac{i k_{2}}{3}} & 0\\\\0 & 0 & 0 & 0 & 0 & \\left(2 \\cos{\\left(k_{1} \\right)} + e^{- i k_{2}}\\right) e^{\\frac{i k_{2}}{3}} & 3 & 0\\\\0 & 0 & 0 & 0 & \\left(2 \\cos{\\left(k_{1} \\right)} + e^{- i k_{2}}\\right) e^{\\frac{i k_{2}}{3}} & 0 & 0 & 3\\end{matrix}\\right]$"
      ],
      "text/plain": [
       "Matrix([\n",
       "[                                   3,                                    0,                                    0, (exp(I*k2) + 2*cos(k1))*exp(-I*k2/3),                                    0,                                    0,                                    0,                                    0],\n",
       "[                                   0,                                    3, (exp(I*k2) + 2*cos(k1))*exp(-I*k2/3),                                    0,                                    0,                                    0,                                    0,                                    0],\n",
       "[                                   0, (2*cos(k1) + exp(-I*k2))*exp(I*k2/3),                                    3,                                    0,                                    0,                                    0,                                    0,                                    0],\n",
       "[(2*cos(k1) + exp(-I*k2))*exp(I*k2/3),                                    0,                                    0,                                    3,                                    0,                                    0,                                    0,                                    0],\n",
       "[                                   0,                                    0,                                    0,                                    0,                                    3,                                    0,                                    0, (exp(I*k2) + 2*cos(k1))*exp(-I*k2/3)],\n",
       "[                                   0,                                    0,                                    0,                                    0,                                    0,                                    3, (exp(I*k2) + 2*cos(k1))*exp(-I*k2/3),                                    0],\n",
       "[                                   0,                                    0,                                    0,                                    0,                                    0, (2*cos(k1) + exp(-I*k2))*exp(I*k2/3),                                    3,                                    0],\n",
       "[                                   0,                                    0,                                    0,                                    0, (2*cos(k1) + exp(-I*k2))*exp(I*k2/3),                                    0,                                    0,                                    3]])"
      ]
     },
     "execution_count": 66,
     "metadata": {},
     "output_type": "execute_result"
    }
   ],
   "source": [
    "strg = [0,0,1]\n",
    "H_num = H.subs([(J1,strg[0]),(J2,strg[1]),(J3,strg[2])])\n",
    "H_num"
   ]
  },
  {
   "cell_type": "code",
   "execution_count": 67,
   "metadata": {},
   "outputs": [
    {
     "name": "stdout",
     "output_type": "stream",
     "text": [
      "0.0 0\n",
      "0.3141592653589793 0\n",
      "0.6283185307179586 0\n",
      "0.9424777960769379 0\n",
      "1.2566370614359172 0\n",
      "1.5707963267948966 0\n",
      "1.8849555921538759 0\n",
      "2.199114857512855 0\n",
      "2.5132741228718345 0\n",
      "2.827433388230814 0\n",
      "3.141592653589793 0.0\n",
      "3.141592653589793 -0.3141592653589793\n",
      "3.141592653589793 -0.6283185307179586\n",
      "3.141592653589793 -0.9424777960769379\n",
      "3.141592653589793 -1.2566370614359172\n",
      "3.141592653589793 -1.5707963267948966\n",
      "3.141592653589793 1.8137993642342178\n",
      "2.827433388230814 1.8137993642342178\n",
      "2.5132741228718345 1.8137993642342178\n",
      "2.199114857512855 1.8137993642342178\n",
      "1.8849555921538759 1.8137993642342178\n",
      "1.5707963267948966 1.8137993642342178\n",
      "1.2566370614359172 1.8137993642342178\n",
      "0.9424777960769379 1.8137993642342178\n",
      "0.6283185307179586 1.8137993642342178\n",
      "0.3141592653589793 1.8137993642342178\n",
      "0 1.8137993642342178\n",
      "0 1.4996400988752385\n",
      "0 1.1854808335162592\n",
      "0 0.8713215681572799\n",
      "0 0.5571623027983006\n",
      "0 0.24300303743932128\n",
      "0.0 0.0\n",
      "0.27206990463513264 0.15707963267948966\n",
      "0.5441398092702653 0.3141592653589793\n",
      "0.816209713905398 0.47123889803846897\n",
      "1.0882796185405306 0.6283185307179586\n",
      "1.3603495231756633 0.7853981633974483\n",
      "1.632419427810796 0.9424777960769379\n",
      "1.9044893324459287 1.0995574287564276\n",
      "2.176559237081061 1.2566370614359172\n",
      "2.448629141716194 1.413716694115407\n",
      "2.7206990463513265 1.5707963267948966\n",
      "2.9927689509864592 1.7278759594743862\n",
      "[[ 2.34633336e-12+0.00000000e+00j  2.34633336e-12+0.00000000e+00j\n",
      "   2.34556830e-12+0.00000000e+00j  2.34556830e-12+0.00000000e+00j\n",
      "  -2.34556830e-12+0.00000000e+00j -2.34556830e-12+0.00000000e+00j\n",
      "  -2.34633336e-12+0.00000000e+00j -2.34633336e-12+0.00000000e+00j]\n",
      " [ 7.60092064e-01+0.00000000e+00j  7.60092064e-01+0.00000000e+00j\n",
      "   7.60092064e-01+0.00000000e+00j  7.60092064e-01+0.00000000e+00j\n",
      "  -7.60092064e-01+0.00000000e+00j -7.60092064e-01+0.00000000e+00j\n",
      "  -7.60092064e-01+0.00000000e+00j -7.60092064e-01+0.00000000e+00j]\n",
      " [ 1.46488840e+00+0.00000000e+00j  1.46488840e+00+0.00000000e+00j\n",
      "   1.46488840e+00+0.00000000e+00j  1.46488840e+00+0.00000000e+00j\n",
      "  -1.46488840e+00+0.00000000e+00j -1.46488840e+00+0.00000000e+00j\n",
      "  -1.46488840e+00+0.00000000e+00j -1.46488840e+00+0.00000000e+00j]\n",
      " [ 2.06564590e+00+0.00000000e+00j  2.06564590e+00+0.00000000e+00j\n",
      "   2.06564590e+00+0.00000000e+00j  2.06564590e+00+0.00000000e+00j\n",
      "  -2.06564590e+00+0.00000000e+00j -2.06564590e+00+0.00000000e+00j\n",
      "  -2.06564590e+00+0.00000000e+00j -2.06564590e+00+0.00000000e+00j]\n",
      " [ 2.52625533e+00+0.00000000e+00j  2.52625533e+00+0.00000000e+00j\n",
      "   2.52625533e+00+0.00000000e+00j  2.52625533e+00+0.00000000e+00j\n",
      "  -2.52625533e+00+0.00000000e+00j -2.52625533e+00+0.00000000e+00j\n",
      "  -2.52625533e+00+0.00000000e+00j -2.52625533e+00+0.00000000e+00j]\n",
      " [ 2.82842712e+00+0.00000000e+00j  2.82842712e+00+0.00000000e+00j\n",
      "   2.82842712e+00+0.00000000e+00j  2.82842712e+00+0.00000000e+00j\n",
      "  -2.82842712e+00+0.00000000e+00j -2.82842712e+00+0.00000000e+00j\n",
      "  -2.82842712e+00+0.00000000e+00j -2.82842712e+00+0.00000000e+00j]\n",
      " [ 2.97558431e+00+0.00000000e+00j  2.97558431e+00+0.00000000e+00j\n",
      "   2.97558431e+00+0.00000000e+00j  2.97558431e+00+0.00000000e+00j\n",
      "  -2.97558431e+00+0.00000000e+00j -2.97558431e+00+0.00000000e+00j\n",
      "  -2.97558431e+00+0.00000000e+00j -2.97558431e+00+0.00000000e+00j]\n",
      " [ 2.99485809e+00+0.00000000e+00j  2.99485809e+00+0.00000000e+00j\n",
      "   2.99485809e+00+0.00000000e+00j  2.99485809e+00+0.00000000e+00j\n",
      "  -2.99485809e+00+0.00000000e+00j -2.99485809e+00+0.00000000e+00j\n",
      "  -2.99485809e+00+0.00000000e+00j -2.99485809e+00+0.00000000e+00j]\n",
      " [ 2.93564882e+00+0.00000000e+00j  2.93564882e+00+0.00000000e+00j\n",
      "   2.93564882e+00+0.00000000e+00j  2.93564882e+00+0.00000000e+00j\n",
      "  -2.93564882e+00+0.00000000e+00j -2.93564882e+00+0.00000000e+00j\n",
      "  -2.93564882e+00+0.00000000e+00j -2.93564882e+00+0.00000000e+00j]\n",
      " [ 2.86115223e+00+0.00000000e+00j  2.86115223e+00+0.00000000e+00j\n",
      "   2.86115223e+00+0.00000000e+00j  2.86115223e+00+0.00000000e+00j\n",
      "  -2.86115223e+00+0.00000000e+00j -2.86115223e+00+0.00000000e+00j\n",
      "  -2.86115223e+00+0.00000000e+00j -2.86115223e+00+0.00000000e+00j]\n",
      " [ 2.82842712e+00+0.00000000e+00j  2.82842712e+00+0.00000000e+00j\n",
      "   2.82842712e+00+0.00000000e+00j  2.82842712e+00+0.00000000e+00j\n",
      "  -2.82842712e+00+0.00000000e+00j -2.82842712e+00+0.00000000e+00j\n",
      "  -2.82842712e+00+0.00000000e+00j -2.82842712e+00+0.00000000e+00j]\n",
      " [ 2.79360449e+00-1.51098877e-16j  2.79360449e+00+3.45647789e-17j\n",
      "   2.79360449e+00-1.81870706e-18j  2.79360449e+00+3.48204461e-17j\n",
      "  -2.79360449e+00-1.81968031e-16j -2.79360449e+00+7.64575236e-17j\n",
      "  -2.79360449e+00-3.48204461e-17j -2.79360449e+00+1.81870706e-18j]\n",
      " [ 2.68999405e+00-1.71943448e-16j  2.68999405e+00-1.72789588e-16j\n",
      "   2.68999405e+00-7.25993771e-17j  2.68999405e+00-1.72620147e-17j\n",
      "  -2.68999405e+00+1.72620147e-17j -2.68999405e+00-3.83168064e-16j\n",
      "  -2.68999405e+00-2.60467530e-16j -2.68999405e+00+1.72789588e-16j]\n",
      " [ 2.52014702e+00+8.90676715e-17j  2.52014702e+00+5.28645046e-16j\n",
      "   2.52014702e+00+1.46472095e-17j  2.52014702e+00+4.88310982e-18j\n",
      "  -2.52014702e+00+3.55021538e-16j -2.52014702e+00-8.45558359e-17j\n",
      "  -2.52014702e+00-4.88310982e-18j -2.52014702e+00-1.46472095e-17j]\n",
      " [ 2.28824561e+00+2.69568688e-16j  2.28824561e+00+7.08777530e-17j\n",
      "   2.28824561e+00+3.62242956e-16j  2.28824561e+00+2.66753450e-18j\n",
      "  -2.28824561e+00-2.66753450e-18j -2.28824561e+00+6.18609732e-16j\n",
      "  -2.28824561e+00-7.08777530e-17j -2.28824561e+00+5.25935464e-16j]\n",
      " [ 2.00000000e+00-7.75828782e-17j  2.00000000e+00+1.68415584e-16j\n",
      "   2.00000000e+00+6.85049258e-17j  2.00000000e+00-7.55187064e-17j\n",
      "  -2.00000000e+00+1.53539679e-16j -2.00000000e+00+7.55187064e-17j\n",
      "  -2.00000000e+00+7.75828782e-17j -2.00000000e+00+5.36290212e-17j]\n",
      " [ 1.74284995e+00+6.60272962e-16j  1.74284995e+00+9.30982286e-18j\n",
      "   1.74284995e+00-1.33383748e-16j  1.74284995e+00+8.66262762e-16j\n",
      "  -1.74284995e+00+2.43960263e-16j -1.74284995e+00+1.33383748e-16j\n",
      "  -1.74284995e+00-9.30982286e-18j -1.74284995e+00+6.71994668e-16j]\n",
      " [ 1.86188044e+00+1.05050145e-15j  1.86188044e+00+5.64208002e-17j\n",
      "   1.86188044e+00+7.45184850e-16j  1.86188044e+00-1.70358447e-17j\n",
      "  -1.86188044e+00+1.70358447e-17j -1.86188044e+00-7.90510353e-17j\n",
      "  -1.86188044e+00-1.62323026e-16j -1.86188044e+00-5.64208002e-17j]\n",
      " [ 2.14553213e+00-3.22195941e-16j  2.14553213e+00-1.22275100e-17j\n",
      "   2.14553213e+00-1.11481654e-17j  2.14553213e+00-4.00841220e-16j\n",
      "  -2.14553213e+00-5.65982479e-16j -2.14553213e+00+1.11481654e-17j\n",
      "  -2.14553213e+00-4.87337199e-16j -2.14553213e+00+1.22275100e-17j]\n",
      " [ 2.46014348e+00+3.54224035e-16j  2.46014348e+00-2.98975214e-17j\n",
      "   2.46014348e+00-1.09252600e-17j  2.46014348e+00+1.20339828e-16j\n",
      "  -2.46014348e+00-1.32179430e-16j -2.46014348e+00+1.09252600e-17j\n",
      "  -2.46014348e+00+2.98975214e-17j -2.46014348e+00-3.42384433e-16j]\n",
      " [ 2.70566316e+00-3.15211544e-17j  2.70566316e+00-3.63279507e-16j\n",
      "   2.70566316e+00-3.70950360e-19j  2.70566316e+00-1.38056526e-16j\n",
      "  -2.70566316e+00+3.02125996e-17j -2.70566316e+00+3.70950360e-19j\n",
      "  -2.70566316e+00+3.15211544e-17j -2.70566316e+00+1.38056526e-16j]\n",
      " [ 2.82842712e+00-2.06901593e-16j  2.82842712e+00+7.70070296e-17j\n",
      "   2.82842712e+00+4.46775664e-18j  2.82842712e+00+2.40169542e-16j\n",
      "  -2.82842712e+00-3.48209919e-16j -2.82842712e+00-4.46775664e-18j\n",
      "  -2.82842712e+00-3.51191844e-16j -2.82842712e+00-7.70070296e-17j]\n",
      " [ 2.81344181e+00+3.33378447e-16j  2.81344181e+00-1.34264635e-16j\n",
      "   2.81344181e+00+1.12596743e-17j  2.81344181e+00+1.77106780e-16j\n",
      "  -2.81344181e+00-3.22688190e-17j -2.81344181e+00-1.12596743e-17j\n",
      "  -2.81344181e+00+2.11471278e-16j -2.81344181e+00-3.33378447e-16j]\n",
      " [ 2.68025410e+00-1.29462284e-17j  2.68025410e+00-2.55386473e-16j\n",
      "   2.68025410e+00+3.15934313e-18j  2.68025410e+00-2.37166141e-18j\n",
      "  -2.68025410e+00+2.37166141e-18j -2.68025410e+00-3.15934313e-18j\n",
      "  -2.68025410e+00-1.48093472e-17j -2.68025410e+00+6.10974435e-17j]\n",
      " [ 2.48206041e+00+1.54501250e-18j  2.48206041e+00+1.33706754e-19j\n",
      "   2.48206041e+00+6.33310276e-19j  2.48206041e+00+7.48532145e-19j\n",
      "  -2.48206041e+00-2.41237424e-18j -2.48206041e+00-6.33310276e-19j\n",
      "  -2.48206041e+00+1.18829593e-19j -2.48206041e+00-1.33706754e-19j]\n",
      " [ 2.30159363e+00+9.55910355e-17j  2.30159363e+00-1.89416886e-17j\n",
      "   2.30159363e+00-5.32568089e-18j  2.30159363e+00+4.60745439e-17j\n",
      "  -2.30159363e+00+5.32568089e-18j -2.30159363e+00+1.89416886e-17j\n",
      "  -2.30159363e+00-1.15463483e-16j -2.30159363e+00-8.17132476e-17j]\n",
      " [ 2.22766112e+00-9.17926182e-17j  2.22766112e+00-1.63395171e-17j\n",
      "   2.22766112e+00+1.26453675e-17j  2.22766112e+00-2.31524656e-18j\n",
      "  -2.22766112e+00+2.31524656e-18j -2.22766112e+00+1.63395171e-17j\n",
      "  -2.22766112e+00-1.26453675e-17j -2.22766112e+00-7.47408355e-17j]\n",
      " [ 1.92759311e+00-2.76364566e-18j  1.92759311e+00+3.06479046e-18j\n",
      "   1.92759311e+00+4.10268392e-18j  1.92759311e+00+2.37378123e-17j\n",
      "  -1.92759311e+00-4.10268392e-18j -1.92759311e+00-2.49656743e-17j\n",
      "  -1.92759311e+00-3.57165185e-18j -1.92759311e+00+2.76364566e-18j]\n",
      " [ 1.58006137e+00+1.63668635e-16j  1.58006137e+00+1.43763281e-17j\n",
      "   1.58006137e+00+3.84624371e-18j  1.58006137e+00-2.02901301e-16j\n",
      "  -1.58006137e+00-3.84624371e-18j -1.58006137e+00-1.43763281e-17j\n",
      "  -1.58006137e+00+1.47390150e-16j -1.58006137e+00-8.04019080e-17j]\n",
      " [ 1.19362327e+00-1.41699078e-18j  1.19362327e+00-1.03108605e-17j\n",
      "   1.19362327e+00+9.33382775e-18j  1.19362327e+00+5.36776481e-18j\n",
      "  -1.19362327e+00+1.18253316e-17j -1.19362327e+00-5.36776481e-18j\n",
      "  -1.19362327e+00-9.33382775e-18j -1.19362327e+00+3.37196663e-18j]\n",
      " [ 7.77794206e-01+6.96387655e-19j  7.77794206e-01+6.67074112e-19j\n",
      "   7.77794206e-01+1.16694245e-18j  7.77794206e-01-1.00565046e-17j\n",
      "  -7.77794206e-01-1.16694245e-18j -7.77794206e-01+2.04648455e-17j\n",
      "  -7.77794206e-01-6.96387655e-19j -7.77794206e-01+4.53709632e-18j]\n",
      " [ 3.42813266e-01+4.73095557e-20j  3.42813266e-01+5.59748731e-20j\n",
      "   3.42813266e-01-2.91200882e-19j  3.42813266e-01-4.35755006e-19j\n",
      "  -3.42813266e-01+5.98385332e-19j -3.42813266e-01+4.53831208e-19j\n",
      "  -3.42813266e-01-5.59748731e-20j -3.42813266e-01-4.73095557e-20j]\n",
      " [ 2.34633336e-12+0.00000000e+00j  2.34633336e-12+0.00000000e+00j\n",
      "   2.34556830e-12+0.00000000e+00j  2.34556830e-12+0.00000000e+00j\n",
      "  -2.34556830e-12+0.00000000e+00j -2.34556830e-12+0.00000000e+00j\n",
      "  -2.34633336e-12+0.00000000e+00j -2.34633336e-12+0.00000000e+00j]\n",
      " [ 6.95285888e-01-3.03104392e-18j  6.95285888e-01-3.00704891e-19j\n",
      "   6.95285888e-01-5.42898329e-19j  6.95285888e-01-5.34100084e-19j\n",
      "  -6.95285888e-01+1.00419215e-19j -6.95285888e-01+5.42898329e-19j\n",
      "  -6.95285888e-01+3.00704891e-19j -6.95285888e-01+8.62639575e-19j]\n",
      " [ 1.34803086e+00+8.41864563e-18j  1.34803086e+00-1.95587511e-17j\n",
      "   1.34803086e+00-1.96886912e-17j  1.34803086e+00+3.24395888e-18j\n",
      "  -1.34803086e+00+1.60893041e-17j -1.34803086e+00+1.27497973e-17j\n",
      "  -1.34803086e+00-3.24395888e-18j -1.34803086e+00-8.41864563e-18j]\n",
      " [ 1.91881596e+00+8.87907818e-18j  1.91881596e+00+1.20648772e-17j\n",
      "   1.91881596e+00-2.11240729e-17j  1.91881596e+00+3.37807525e-17j\n",
      "  -1.91881596e+00-1.99029647e-17j -1.91881596e+00+4.88796485e-17j\n",
      "  -1.91881596e+00-1.20648772e-17j -1.91881596e+00-8.87907818e-18j]\n",
      " [ 2.37428112e+00+1.57611429e-17j  2.37428112e+00+4.39496049e-17j\n",
      "   2.37428112e+00+2.66267966e-18j  2.37428112e+00+2.37426597e-16j\n",
      "  -2.37428112e+00-1.54971907e-16j -2.37428112e+00-2.66267966e-18j\n",
      "  -2.37428112e+00-1.53819920e-17j -2.37428112e+00-1.57611429e-17j]\n",
      " [ 2.68972096e+00+4.28220532e-17j  2.68972096e+00-8.77159962e-17j\n",
      "   2.68972096e+00+8.14045571e-18j  2.68972096e+00+6.25674071e-18j\n",
      "  -2.68972096e+00+6.42827508e-16j -2.68972096e+00-6.25674071e-18j\n",
      "  -2.68972096e+00+2.90244854e-16j -2.68972096e+00-8.14045571e-18j]\n",
      " [ 2.85124929e+00-1.22536392e-16j  2.85124929e+00+3.58656185e-16j\n",
      "   2.85124929e+00-6.74848806e-18j  2.85124929e+00+4.47535570e-16j\n",
      "  -2.85124929e+00+6.74848806e-18j -2.85124929e+00+3.29620547e-16j\n",
      "  -2.85124929e+00-2.47633882e-16j -2.85124929e+00+1.22536392e-16j]\n",
      " [ 2.85756448e+00+2.84970322e-16j  2.85756448e+00+6.11782734e-18j\n",
      "   2.85756448e+00+2.03201154e-16j  2.85756448e+00+7.55184549e-19j\n",
      "  -2.85756448e+00-7.55184549e-19j -2.85756448e+00+1.59118888e-16j\n",
      "  -2.85756448e+00-6.11782734e-18j -2.85756448e+00-9.21788518e-17j]\n",
      " [ 2.72157800e+00-2.50934135e-16j  2.72157800e+00-1.48717885e-17j\n",
      "   2.72157800e+00-2.57993355e-18j  2.72157800e+00+8.68638303e-17j\n",
      "  -2.72157800e+00+2.57993355e-18j -2.72157800e+00+1.48717885e-17j\n",
      "  -2.72157800e+00+2.50934135e-16j -2.72157800e+00+5.79269985e-16j]\n",
      " [ 2.47260575e+00+1.31571972e-17j  2.47260575e+00+2.31217135e-16j\n",
      "   2.47260575e+00-2.39699338e-17j  2.47260575e+00+1.31970655e-16j\n",
      "  -2.47260575e+00+2.12872075e-16j -2.47260575e+00+2.39699338e-17j\n",
      "  -2.47260575e+00+9.00739503e-17j -2.47260575e+00-1.31571972e-17j]\n",
      " [ 2.16049489e+00-6.07620997e-16j  2.16049489e+00-5.94878151e-17j\n",
      "   2.16049489e+00-1.24969787e-16j  2.16049489e+00+2.75627265e-16j\n",
      "  -2.16049489e+00-2.75627265e-16j -2.16049489e+00+1.24969787e-16j\n",
      "  -2.16049489e+00+1.05171021e-15j -2.16049489e+00+5.94878151e-17j]\n",
      " [ 1.86255759e+00+1.94182146e-16j  1.86255759e+00-6.15249193e-17j\n",
      "   1.86255759e+00-2.98564903e-17j  1.86255759e+00-6.25845497e-17j\n",
      "  -1.86255759e+00+5.06673760e-16j -1.86255759e+00+2.49907064e-16j\n",
      "  -1.86255759e+00+2.98564903e-17j -1.86255759e+00+6.15249193e-17j]]\n",
      "2.994858093118902 -2.994858093118902\n"
     ]
    },
    {
     "data": {
      "image/png": "[encoded data removed]",
      "text/plain": [
       "<Figure size 432x288 with 1 Axes>"
      ]
     },
     "metadata": {},
     "output_type": "display_data"
    }
   ],
   "source": [
    "band_high_sym(H_num, strg, 20)"
   ]
  },
  {
   "cell_type": "code",
   "execution_count": 68,
   "metadata": {},
   "outputs": [
    {
     "data": {
      "text/latex": [
       "$\\displaystyle \\left[\\begin{matrix}2 \\cos{\\left(k_{1} \\right)} + 2 & 4 \\cos{\\left(\\frac{k_{1}}{2} \\right)} \\cos{\\left(\\frac{k_{2}}{2} \\right)} & 0 & 0 & 0 & 0 & 0 & 0\\\\4 \\cos{\\left(\\frac{k_{1}}{2} \\right)} \\cos{\\left(\\frac{k_{2}}{2} \\right)} & 2 \\cos{\\left(k_{1} \\right)} + 2 & 0 & 0 & 0 & 0 & 0 & 0\\\\0 & 0 & 2 \\cos{\\left(k_{1} \\right)} + 2 & 4 \\cos{\\left(\\frac{k_{1}}{2} \\right)} \\cos{\\left(\\frac{k_{2}}{2} \\right)} & 0 & 0 & 0 & 0\\\\0 & 0 & 4 \\cos{\\left(\\frac{k_{1}}{2} \\right)} \\cos{\\left(\\frac{k_{2}}{2} \\right)} & 2 \\cos{\\left(k_{1} \\right)} + 2 & 0 & 0 & 0 & 0\\\\0 & 0 & 0 & 0 & 2 \\cos{\\left(k_{1} \\right)} + 2 & 4 \\cos{\\left(\\frac{k_{1}}{2} \\right)} \\cos{\\left(\\frac{k_{2}}{2} \\right)} & 0 & 0\\\\0 & 0 & 0 & 0 & 4 \\cos{\\left(\\frac{k_{1}}{2} \\right)} \\cos{\\left(\\frac{k_{2}}{2} \\right)} & 2 \\cos{\\left(k_{1} \\right)} + 2 & 0 & 0\\\\0 & 0 & 0 & 0 & 0 & 0 & 2 \\cos{\\left(k_{1} \\right)} + 2 & 4 \\cos{\\left(\\frac{k_{1}}{2} \\right)} \\cos{\\left(\\frac{k_{2}}{2} \\right)}\\\\0 & 0 & 0 & 0 & 0 & 0 & 4 \\cos{\\left(\\frac{k_{1}}{2} \\right)} \\cos{\\left(\\frac{k_{2}}{2} \\right)} & 2 \\cos{\\left(k_{1} \\right)} + 2\\end{matrix}\\right]$"
      ],
      "text/plain": [
       "Matrix([\n",
       "[        2*cos(k1) + 2, 4*cos(k1/2)*cos(k2/2),                     0,                     0,                     0,                     0,                     0,                     0],\n",
       "[4*cos(k1/2)*cos(k2/2),         2*cos(k1) + 2,                     0,                     0,                     0,                     0,                     0,                     0],\n",
       "[                    0,                     0,         2*cos(k1) + 2, 4*cos(k1/2)*cos(k2/2),                     0,                     0,                     0,                     0],\n",
       "[                    0,                     0, 4*cos(k1/2)*cos(k2/2),         2*cos(k1) + 2,                     0,                     0,                     0,                     0],\n",
       "[                    0,                     0,                     0,                     0,         2*cos(k1) + 2, 4*cos(k1/2)*cos(k2/2),                     0,                     0],\n",
       "[                    0,                     0,                     0,                     0, 4*cos(k1/2)*cos(k2/2),         2*cos(k1) + 2,                     0,                     0],\n",
       "[                    0,                     0,                     0,                     0,                     0,                     0,         2*cos(k1) + 2, 4*cos(k1/2)*cos(k2/2)],\n",
       "[                    0,                     0,                     0,                     0,                     0,                     0, 4*cos(k1/2)*cos(k2/2),         2*cos(k1) + 2]])"
      ]
     },
     "execution_count": 68,
     "metadata": {},
     "output_type": "execute_result"
    }
   ],
   "source": [
    "strg = [0,1,0]\n",
    "H_num = H.subs([(J1,strg[0]),(J2,strg[1]),(J3,strg[2])])\n",
    "H_num"
   ]
  },
  {
   "cell_type": "code",
   "execution_count": 69,
   "metadata": {},
   "outputs": [
    {
     "name": "stdout",
     "output_type": "stream",
     "text": [
      "0.0 0\n",
      "0.3141592653589793 0\n",
      "0.6283185307179586 0\n",
      "0.9424777960769379 0\n",
      "1.2566370614359172 0\n",
      "1.5707963267948966 0\n",
      "1.8849555921538759 0\n",
      "2.199114857512855 0\n",
      "2.5132741228718345 0\n",
      "2.827433388230814 0\n",
      "3.141592653589793 0.0\n",
      "3.141592653589793 -0.3141592653589793\n",
      "3.141592653589793 -0.6283185307179586\n",
      "3.141592653589793 -0.9424777960769379\n",
      "3.141592653589793 -1.2566370614359172\n",
      "3.141592653589793 -1.5707963267948966\n",
      "3.141592653589793 1.8137993642342178\n",
      "2.827433388230814 1.8137993642342178\n",
      "2.5132741228718345 1.8137993642342178\n",
      "2.199114857512855 1.8137993642342178\n",
      "1.8849555921538759 1.8137993642342178\n",
      "1.5707963267948966 1.8137993642342178\n",
      "1.2566370614359172 1.8137993642342178\n",
      "0.9424777960769379 1.8137993642342178\n",
      "0.6283185307179586 1.8137993642342178\n",
      "0.3141592653589793 1.8137993642342178\n",
      "0 1.8137993642342178\n",
      "0 1.4996400988752385\n",
      "0 1.1854808335162592\n",
      "0 0.8713215681572799\n",
      "0 0.5571623027983006\n",
      "0 0.24300303743932128\n",
      "0.0 0.0\n",
      "0.27206990463513264 0.15707963267948966\n",
      "0.5441398092702653 0.3141592653589793\n",
      "0.816209713905398 0.47123889803846897\n",
      "1.0882796185405306 0.6283185307179586\n",
      "1.3603495231756633 0.7853981633974483\n",
      "1.632419427810796 0.9424777960769379\n",
      "1.9044893324459287 1.0995574287564276\n",
      "2.176559237081061 1.2566370614359172\n",
      "2.448629141716194 1.413716694115407\n",
      "2.7206990463513265 1.5707963267948966\n",
      "2.9927689509864592 1.7278759594743862\n",
      "[[ 8.88178420e-16+0.00000000e+00j  8.88178420e-16+0.00000000e+00j\n",
      "   0.00000000e+00+0.00000000e+00j  0.00000000e+00+0.00000000e+00j\n",
      "   0.00000000e+00+0.00000000e+00j  0.00000000e+00+0.00000000e+00j\n",
      "  -8.88178420e-16+0.00000000e+00j -8.88178420e-16+0.00000000e+00j]\n",
      " [ 1.66533454e-15+6.18033989e-01j  1.66533454e-15+6.18033989e-01j\n",
      "   2.13064775e-16-6.18033989e-01j  2.13064775e-16-6.18033989e-01j\n",
      "  -2.13064775e-16-6.18033989e-01j -2.13064775e-16-6.18033989e-01j\n",
      "  -1.66533454e-15+6.18033989e-01j -1.66533454e-15+6.18033989e-01j]\n",
      " [ 1.33226763e-15+1.17557050e+00j  1.33226763e-15+1.17557050e+00j\n",
      "   9.42651063e-16-1.17557050e+00j  9.42651063e-16-1.17557050e+00j\n",
      "  -9.42651063e-16-1.17557050e+00j -9.42651063e-16-1.17557050e+00j\n",
      "  -1.33226763e-15+1.17557050e+00j -1.33226763e-15+1.17557050e+00j]\n",
      " [ 3.80493431e-16-1.61803399e+00j  3.80493431e-16-1.61803399e+00j\n",
      "   0.00000000e+00+1.61803399e+00j  0.00000000e+00+1.61803399e+00j\n",
      "   0.00000000e+00+1.61803399e+00j  0.00000000e+00+1.61803399e+00j\n",
      "  -3.80493431e-16-1.61803399e+00j -3.80493431e-16-1.61803399e+00j]\n",
      " [ 1.33226763e-15+1.90211303e+00j  1.33226763e-15+1.90211303e+00j\n",
      "   7.87094851e-17-1.90211303e+00j  7.87094851e-17-1.90211303e+00j\n",
      "  -7.87094851e-17-1.90211303e+00j -7.87094851e-17-1.90211303e+00j\n",
      "  -1.33226763e-15+1.90211303e+00j -1.33226763e-15+1.90211303e+00j]\n",
      " [ 4.44089210e-16+2.00000000e+00j  4.44089210e-16+2.00000000e+00j\n",
      "   8.32667268e-17-2.00000000e+00j  8.32667268e-17-2.00000000e+00j\n",
      "  -8.32667268e-17-2.00000000e+00j -8.32667268e-17-2.00000000e+00j\n",
      "  -4.44089210e-16+2.00000000e+00j -4.44089210e-16+2.00000000e+00j]\n",
      " [ 4.44089210e-16+1.90211303e+00j  4.44089210e-16+1.90211303e+00j\n",
      "   5.55111512e-17-1.90211303e+00j  5.55111512e-17-1.90211303e+00j\n",
      "  -5.55111512e-17-1.90211303e+00j -5.55111512e-17-1.90211303e+00j\n",
      "  -4.44089210e-16+1.90211303e+00j -4.44089210e-16+1.90211303e+00j]\n",
      " [ 2.22044605e-16+1.61803399e+00j  2.22044605e-16+1.61803399e+00j\n",
      "   2.77555756e-17-1.61803399e+00j  2.77555756e-17-1.61803399e+00j\n",
      "  -2.77555756e-17-1.61803399e+00j -2.77555756e-17-1.61803399e+00j\n",
      "  -2.22044605e-16+1.61803399e+00j -2.22044605e-16+1.61803399e+00j]\n",
      " [ 1.11022302e-16+1.17557050e+00j  1.11022302e-16+1.17557050e+00j\n",
      "   0.00000000e+00-1.17557050e+00j  0.00000000e+00-1.17557050e+00j\n",
      "   0.00000000e+00-1.17557050e+00j  0.00000000e+00-1.17557050e+00j\n",
      "  -1.11022302e-16+1.17557050e+00j -1.11022302e-16+1.17557050e+00j]\n",
      " [ 5.55111512e-17+6.18033989e-01j  5.55111512e-17+6.18033989e-01j\n",
      "   2.77555756e-17-6.18033989e-01j  2.77555756e-17-6.18033989e-01j\n",
      "  -2.77555756e-17-6.18033989e-01j -2.77555756e-17-6.18033989e-01j\n",
      "  -5.55111512e-17+6.18033989e-01j -5.55111512e-17+6.18033989e-01j]\n",
      " [ 1.23259516e-32-2.44929360e-16j  1.23259516e-32-2.44929360e-16j\n",
      "   1.23259516e-32-2.44929360e-16j  1.23259516e-32-2.44929360e-16j\n",
      "   0.00000000e+00+2.44929360e-16j  0.00000000e+00+2.44929360e-16j\n",
      "   0.00000000e+00+2.44929360e-16j  0.00000000e+00+2.44929360e-16j]\n",
      " [ 0.00000000e+00-2.41913873e-16j  0.00000000e+00+2.41913873e-16j\n",
      "   0.00000000e+00-2.41913873e-16j  0.00000000e+00+2.41913873e-16j\n",
      "   0.00000000e+00-2.41913873e-16j  0.00000000e+00+2.41913873e-16j\n",
      "   0.00000000e+00-2.41913873e-16j  0.00000000e+00+2.41913873e-16j]\n",
      " [ 0.00000000e+00+2.32941664e-16j  0.00000000e+00+2.32941664e-16j\n",
      "   0.00000000e+00+2.32941664e-16j  0.00000000e+00+2.32941664e-16j\n",
      "  -6.16297582e-33-2.32941664e-16j -6.16297582e-33-2.32941664e-16j\n",
      "  -6.16297582e-33-2.32941664e-16j -6.16297582e-33-2.32941664e-16j]\n",
      " [ 0.00000000e+00-2.18233658e-16j  0.00000000e+00+2.18233658e-16j\n",
      "   0.00000000e+00-2.18233658e-16j  0.00000000e+00+2.18233658e-16j\n",
      "   0.00000000e+00-2.18233658e-16j  0.00000000e+00+2.18233658e-16j\n",
      "   0.00000000e+00-2.18233658e-16j  0.00000000e+00+2.18233658e-16j]\n",
      " [ 6.16297582e-33-1.98152015e-16j  6.16297582e-33-1.98152015e-16j\n",
      "   6.16297582e-33-1.98152015e-16j  6.16297582e-33-1.98152015e-16j\n",
      "   0.00000000e+00+1.98152015e-16j  0.00000000e+00+1.98152015e-16j\n",
      "   0.00000000e+00+1.98152015e-16j  0.00000000e+00+1.98152015e-16j]\n",
      " [ 0.00000000e+00+1.73191211e-16j  0.00000000e+00+1.73191211e-16j\n",
      "   0.00000000e+00+1.73191211e-16j  0.00000000e+00+1.73191211e-16j\n",
      "  -1.23259516e-32-1.73191211e-16j -1.23259516e-32-1.73191211e-16j\n",
      "  -1.23259516e-32-1.73191211e-16j -1.23259516e-32-1.73191211e-16j]\n",
      " [ 6.16297582e-33-1.50923147e-16j  6.16297582e-33-1.50923147e-16j\n",
      "   6.16297582e-33-1.50923147e-16j  6.16297582e-33-1.50923147e-16j\n",
      "   0.00000000e+00+1.50923147e-16j  0.00000000e+00+1.50923147e-16j\n",
      "   0.00000000e+00+1.50923147e-16j  0.00000000e+00+1.50923147e-16j]\n",
      " [ 0.00000000e+00-3.72941340e-01j  0.00000000e+00+3.72941340e-01j\n",
      "   0.00000000e+00-3.72941340e-01j  0.00000000e+00+3.72941340e-01j\n",
      "   0.00000000e+00-3.72941340e-01j  0.00000000e+00+3.72941340e-01j\n",
      "   0.00000000e+00-3.72941340e-01j  0.00000000e+00+3.72941340e-01j]\n",
      " [ 5.55111512e-17-6.58952047e-01j  5.55111512e-17-6.58952047e-01j\n",
      "   0.00000000e+00+6.58952047e-01j  0.00000000e+00+6.58952047e-01j\n",
      "   0.00000000e+00+6.58952047e-01j  0.00000000e+00+6.58952047e-01j\n",
      "  -5.55111512e-17-6.58952047e-01j -5.55111512e-17-6.58952047e-01j]\n",
      " [ 2.81979365e-16-7.56590376e-01j  2.81979365e-16-7.56590376e-01j\n",
      "   2.22044605e-16+7.56590376e-01j  2.22044605e-16+7.56590376e-01j\n",
      "  -2.22044605e-16+7.56590376e-01j -2.22044605e-16+7.56590376e-01j\n",
      "  -2.81979365e-16-7.56590376e-01j -2.81979365e-16-7.56590376e-01j]\n",
      " [ 4.99600361e-16+4.34797365e-01j  4.99600361e-16+4.34797365e-01j\n",
      "   2.73795717e-16-4.34797365e-01j  2.73795717e-16-4.34797365e-01j\n",
      "  -2.73795717e-16-4.34797365e-01j -2.73795717e-16-4.34797365e-01j\n",
      "  -4.99600361e-16+4.34797365e-01j -4.99600361e-16+4.34797365e-01j]\n",
      " [ 9.81057622e-01+0.00000000e+00j  9.81057622e-01+0.00000000e+00j\n",
      "   9.81057622e-01+0.00000000e+00j  9.81057622e-01+0.00000000e+00j\n",
      "  -9.81057622e-01+0.00000000e+00j -9.81057622e-01+0.00000000e+00j\n",
      "  -9.81057622e-01+0.00000000e+00j -9.81057622e-01+0.00000000e+00j]\n",
      " [ 1.69644596e+00+0.00000000e+00j  1.69644596e+00+0.00000000e+00j\n",
      "   1.69644596e+00+0.00000000e+00j  1.69644596e+00+0.00000000e+00j\n",
      "  -1.69644596e+00+0.00000000e+00j -1.69644596e+00+0.00000000e+00j\n",
      "  -1.69644596e+00+0.00000000e+00j -1.69644596e+00+0.00000000e+00j]\n",
      " [ 2.29375438e+00+0.00000000e+00j  2.29375438e+00+0.00000000e+00j\n",
      "   2.29375438e+00+0.00000000e+00j  2.29375438e+00+0.00000000e+00j\n",
      "  -2.29375438e+00+0.00000000e+00j -2.29375438e+00+0.00000000e+00j\n",
      "  -2.29375438e+00+0.00000000e+00j -2.29375438e+00+0.00000000e+00j]\n",
      " [ 2.75594519e+00+0.00000000e+00j  2.75594519e+00+0.00000000e+00j\n",
      "   2.75594519e+00+0.00000000e+00j  2.75594519e+00+0.00000000e+00j\n",
      "  -2.75594519e+00+0.00000000e+00j -2.75594519e+00+0.00000000e+00j\n",
      "  -2.75594519e+00+0.00000000e+00j -2.75594519e+00+0.00000000e+00j]\n",
      " [ 3.04960675e+00+0.00000000e+00j  3.04960675e+00+0.00000000e+00j\n",
      "   3.04960675e+00+0.00000000e+00j  3.04960675e+00+0.00000000e+00j\n",
      "  -3.04960675e+00+0.00000000e+00j -3.04960675e+00+0.00000000e+00j\n",
      "  -3.04960675e+00+0.00000000e+00j -3.04960675e+00+0.00000000e+00j]\n",
      " [ 3.15038857e+00+0.00000000e+00j  3.15038857e+00+0.00000000e+00j\n",
      "   3.15038857e+00+0.00000000e+00j  3.15038857e+00+0.00000000e+00j\n",
      "  -3.15038857e+00+0.00000000e+00j -3.15038857e+00+0.00000000e+00j\n",
      "  -3.15038857e+00+0.00000000e+00j -3.15038857e+00+0.00000000e+00j]\n",
      " [ 2.72602832e+00+0.00000000e+00j  2.72602832e+00+0.00000000e+00j\n",
      "   2.72602832e+00+0.00000000e+00j  2.72602832e+00+0.00000000e+00j\n",
      "  -2.72602832e+00+0.00000000e+00j -2.72602832e+00+0.00000000e+00j\n",
      "  -2.72602832e+00+0.00000000e+00j -2.72602832e+00+0.00000000e+00j]\n",
      " [ 2.23454422e+00+0.00000000e+00j  2.23454422e+00+0.00000000e+00j\n",
      "   2.23454422e+00+0.00000000e+00j  2.23454422e+00+0.00000000e+00j\n",
      "  -2.23454422e+00+0.00000000e+00j -2.23454422e+00+0.00000000e+00j\n",
      "  -2.23454422e+00+0.00000000e+00j -2.23454422e+00+0.00000000e+00j]\n",
      " [ 1.68803822e+00+0.00000000e+00j  1.68803822e+00+0.00000000e+00j\n",
      "   1.68803822e+00+0.00000000e+00j  1.68803822e+00+0.00000000e+00j\n",
      "  -1.68803822e+00+0.00000000e+00j -1.68803822e+00+0.00000000e+00j\n",
      "  -1.68803822e+00+0.00000000e+00j -1.68803822e+00+0.00000000e+00j]\n",
      " [ 1.09996711e+00+0.00000000e+00j  1.09996711e+00+0.00000000e+00j\n",
      "   1.09996711e+00+0.00000000e+00j  1.09996711e+00+0.00000000e+00j\n",
      "  -1.09996711e+00+0.00000000e+00j -1.09996711e+00+0.00000000e+00j\n",
      "  -1.09996711e+00+0.00000000e+00j -1.09996711e+00+0.00000000e+00j]\n",
      " [ 4.84811170e-01+0.00000000e+00j  4.84811170e-01+0.00000000e+00j\n",
      "   4.84811170e-01+0.00000000e+00j  4.84811170e-01+0.00000000e+00j\n",
      "  -4.84811170e-01+0.00000000e+00j -4.84811170e-01+0.00000000e+00j\n",
      "  -4.84811170e-01+0.00000000e+00j -4.84811170e-01+0.00000000e+00j]\n",
      " [ 8.88178420e-16+0.00000000e+00j  8.88178420e-16+0.00000000e+00j\n",
      "   0.00000000e+00+0.00000000e+00j  0.00000000e+00+0.00000000e+00j\n",
      "   0.00000000e+00+0.00000000e+00j  0.00000000e+00+0.00000000e+00j\n",
      "  -8.88178420e-16+0.00000000e+00j -8.88178420e-16+0.00000000e+00j]\n",
      " [ 1.11022302e-15+4.38374671e-01j  1.11022302e-15+4.38374671e-01j\n",
      "   1.07706936e-16-4.38374671e-01j  1.07706936e-16-4.38374671e-01j\n",
      "  -1.07706936e-16-4.38374671e-01j -1.07706936e-16-4.38374671e-01j\n",
      "  -1.11022302e-15+4.38374671e-01j -1.11022302e-15+4.38374671e-01j]\n",
      " [ 1.77635684e-15+8.41847464e-01j  1.77635684e-15+8.41847464e-01j\n",
      "   3.99658739e-16-8.41847464e-01j  3.99658739e-16-8.41847464e-01j\n",
      "  -3.99658739e-16-8.41847464e-01j -3.99658739e-16-8.41847464e-01j\n",
      "  -1.77635684e-15+8.41847464e-01j -1.77635684e-15+8.41847464e-01j]\n",
      " [ 1.55431223e-15+1.17837075e+00j  1.55431223e-15+1.17837075e+00j\n",
      "   9.40801633e-18-1.17837075e+00j  9.40801633e-18-1.17837075e+00j\n",
      "  -9.40801633e-18-1.17837075e+00j -9.40801633e-18-1.17837075e+00j\n",
      "  -1.55431223e-15+1.17837075e+00j -1.55431223e-15+1.17837075e+00j]\n",
      " [ 1.11022302e-15+1.42139885e+00j  1.11022302e-15+1.42139885e+00j\n",
      "   4.89738032e-16-1.42139885e+00j  4.89738032e-16-1.42139885e+00j\n",
      "  -4.89738032e-16-1.42139885e+00j -4.89738032e-16-1.42139885e+00j\n",
      "  -1.11022302e-15+1.42139885e+00j -1.11022302e-15+1.42139885e+00j]\n",
      " [ 2.22044605e-16+1.55213969e+00j  2.22044605e-16+1.55213969e+00j\n",
      "   1.55608987e-16-1.55213969e+00j  1.55608987e-16-1.55213969e+00j\n",
      "  -1.55608987e-16-1.55213969e+00j -1.55608987e-16-1.55213969e+00j\n",
      "  -2.22044605e-16+1.55213969e+00j -2.22044605e-16+1.55213969e+00j]\n",
      " [ 4.44089210e-16+1.56125402e+00j  4.44089210e-16+1.56125402e+00j\n",
      "   2.22044605e-16-1.56125402e+00j  2.22044605e-16-1.56125402e+00j\n",
      "  -2.22044605e-16-1.56125402e+00j -2.22044605e-16-1.56125402e+00j\n",
      "  -4.44089210e-16+1.56125402e+00j -4.44089210e-16+1.56125402e+00j]\n",
      " [ 2.49800181e-16-1.44989461e+00j  2.49800181e-16-1.44989461e+00j\n",
      "   0.00000000e+00+1.44989461e+00j  0.00000000e+00+1.44989461e+00j\n",
      "   0.00000000e+00+1.44989461e+00j  0.00000000e+00+1.44989461e+00j\n",
      "  -2.49800181e-16-1.44989461e+00j -2.49800181e-16-1.44989461e+00j]\n",
      " [ 3.33066907e-16-1.23004244e+00j  3.33066907e-16-1.23004244e+00j\n",
      "   2.22044605e-16+1.23004244e+00j  2.22044605e-16+1.23004244e+00j\n",
      "  -2.22044605e-16+1.23004244e+00j -2.22044605e-16+1.23004244e+00j\n",
      "  -3.33066907e-16-1.23004244e+00j -3.33066907e-16-1.23004244e+00j]\n",
      " [ 5.55111512e-17-9.24181466e-01j  5.55111512e-17-9.24181466e-01j\n",
      "   0.00000000e+00+9.24181466e-01j  0.00000000e+00+9.24181466e-01j\n",
      "   0.00000000e+00+9.24181466e-01j  0.00000000e+00+9.24181466e-01j\n",
      "  -5.55111512e-17-9.24181466e-01j -5.55111512e-17-9.24181466e-01j]\n",
      " [ 5.55111512e-17+5.64477586e-01j  5.55111512e-17+5.64477586e-01j\n",
      "   0.00000000e+00-5.64477586e-01j  0.00000000e+00-5.64477586e-01j\n",
      "   0.00000000e+00-5.64477586e-01j  0.00000000e+00-5.64477586e-01j\n",
      "  -5.55111512e-17+5.64477586e-01j -5.55111512e-17+5.64477586e-01j]\n",
      " [ 2.77555756e-17+1.91858663e-01j  2.77555756e-17+1.91858663e-01j\n",
      "   1.38777878e-17-1.91858663e-01j  1.38777878e-17-1.91858663e-01j\n",
      "  -1.38777878e-17-1.91858663e-01j -1.38777878e-17-1.91858663e-01j\n",
      "  -2.77555756e-17+1.91858663e-01j -2.77555756e-17+1.91858663e-01j]]\n",
      "3.150388565900288 -3.150388565900288\n"
     ]
    },
    {
     "data": {
      "image/png": "[encoded data removed]",
      "text/plain": [
       "<Figure size 432x288 with 1 Axes>"
      ]
     },
     "metadata": {},
     "output_type": "display_data"
    }
   ],
   "source": [
    "band_high_sym(H_num, strg, 20)"
   ]
  },
  {
   "cell_type": "markdown",
   "metadata": {},
   "source": [
    "# What Happened to M point?"
   ]
  },
  {
   "cell_type": "code",
   "execution_count": 70,
   "metadata": {},
   "outputs": [],
   "source": [
    "bb = 4 * np.pi / np.sqrt(3)"
   ]
  },
  {
   "cell_type": "code",
   "execution_count": 71,
   "metadata": {},
   "outputs": [
    {
     "data": {
      "text/plain": [
       "(array([6.16297582e-33-1.50923147e-16j, 6.16297582e-33-1.50923147e-16j,\n",
       "        6.16297582e-33-1.50923147e-16j, 6.16297582e-33-1.50923147e-16j,\n",
       "        0.00000000e+00+1.50923147e-16j, 0.00000000e+00+1.50923147e-16j,\n",
       "        0.00000000e+00+1.50923147e-16j, 0.00000000e+00+1.50923147e-16j]),\n",
       " array([[ 0.00000000e+00-0.j        ,  0.00000000e+00-0.j        ,\n",
       "          0.00000000e+00-0.j        ,  7.07106781e-01+0.j        ,\n",
       "          0.00000000e+00+0.j        ,  0.00000000e+00+0.j        ,\n",
       "          0.00000000e+00+0.j        ,  7.07106781e-01+0.j        ],\n",
       "        [ 0.00000000e+00-0.j        ,  0.00000000e+00-0.j        ,\n",
       "          0.00000000e+00-0.j        ,  2.07427480e-16-0.70710678j,\n",
       "          0.00000000e+00+0.j        ,  0.00000000e+00+0.j        ,\n",
       "          0.00000000e+00+0.j        ,  0.00000000e+00+0.70710678j],\n",
       "        [ 0.00000000e+00-0.j        ,  0.00000000e+00-0.j        ,\n",
       "          7.07106781e-01+0.j        ,  0.00000000e+00-0.j        ,\n",
       "          0.00000000e+00+0.j        ,  0.00000000e+00+0.j        ,\n",
       "          7.07106781e-01+0.j        ,  0.00000000e+00+0.j        ],\n",
       "        [ 0.00000000e+00-0.j        ,  0.00000000e+00-0.j        ,\n",
       "          2.07427480e-16-0.70710678j,  0.00000000e+00-0.j        ,\n",
       "          0.00000000e+00+0.j        ,  0.00000000e+00+0.j        ,\n",
       "          0.00000000e+00+0.70710678j,  0.00000000e+00+0.j        ],\n",
       "        [ 0.00000000e+00-0.j        ,  7.07106781e-01+0.j        ,\n",
       "          0.00000000e+00-0.j        ,  0.00000000e+00-0.j        ,\n",
       "          0.00000000e+00+0.j        ,  7.07106781e-01+0.j        ,\n",
       "          0.00000000e+00+0.j        ,  0.00000000e+00+0.j        ],\n",
       "        [ 0.00000000e+00-0.j        , -2.07427480e-16+0.70710678j,\n",
       "          0.00000000e+00-0.j        ,  0.00000000e+00-0.j        ,\n",
       "          0.00000000e+00+0.j        , -0.00000000e+00-0.70710678j,\n",
       "          0.00000000e+00+0.j        ,  0.00000000e+00+0.j        ],\n",
       "        [ 7.07106781e-01+0.j        ,  0.00000000e+00-0.j        ,\n",
       "          0.00000000e+00-0.j        ,  0.00000000e+00-0.j        ,\n",
       "          7.07106781e-01+0.j        ,  0.00000000e+00+0.j        ,\n",
       "          0.00000000e+00+0.j        ,  0.00000000e+00+0.j        ],\n",
       "        [-2.07427480e-16+0.70710678j,  0.00000000e+00-0.j        ,\n",
       "          0.00000000e+00-0.j        ,  0.00000000e+00-0.j        ,\n",
       "         -0.00000000e+00-0.70710678j,  0.00000000e+00+0.j        ,\n",
       "          0.00000000e+00+0.j        ,  0.00000000e+00+0.j        ]]))"
      ]
     },
     "execution_count": 71,
     "metadata": {},
     "output_type": "execute_result"
    }
   ],
   "source": [
    "bdg(H_num, np.sqrt(3)*bb/4, bb/4)"
   ]
  },
  {
   "cell_type": "code",
   "execution_count": 72,
   "metadata": {},
   "outputs": [
    {
     "data": {
      "text/latex": [
       "$\\displaystyle \\left[\\begin{matrix}4 & 4 & 0 & 0 & 0 & 0 & 0 & 0\\\\4 & 4 & 0 & 0 & 0 & 0 & 0 & 0\\\\0 & 0 & 4 & 4 & 0 & 0 & 0 & 0\\\\0 & 0 & 4 & 4 & 0 & 0 & 0 & 0\\\\0 & 0 & 0 & 0 & 4 & 4 & 0 & 0\\\\0 & 0 & 0 & 0 & 4 & 4 & 0 & 0\\\\0 & 0 & 0 & 0 & 0 & 0 & 4 & 4\\\\0 & 0 & 0 & 0 & 0 & 0 & 4 & 4\\end{matrix}\\right]$"
      ],
      "text/plain": [
       "Matrix([\n",
       "[4, 4, 0, 0, 0, 0, 0, 0],\n",
       "[4, 4, 0, 0, 0, 0, 0, 0],\n",
       "[0, 0, 4, 4, 0, 0, 0, 0],\n",
       "[0, 0, 4, 4, 0, 0, 0, 0],\n",
       "[0, 0, 0, 0, 4, 4, 0, 0],\n",
       "[0, 0, 0, 0, 4, 4, 0, 0],\n",
       "[0, 0, 0, 0, 0, 0, 4, 4],\n",
       "[0, 0, 0, 0, 0, 0, 4, 4]])"
      ]
     },
     "execution_count": 72,
     "metadata": {},
     "output_type": "execute_result"
    }
   ],
   "source": [
    "H_num.subs([(k1,0),(k2,0)])"
   ]
  },
  {
   "cell_type": "code",
   "execution_count": 73,
   "metadata": {},
   "outputs": [
    {
     "data": {
      "text/latex": [
       "$\\displaystyle \\left[\\begin{matrix}0 & 1.50923146774894 \\cdot 10^{-16} & 0 & 0 & 0 & 0 & 0 & 0\\\\1.50923146774894 \\cdot 10^{-16} & 0 & 0 & 0 & 0 & 0 & 0 & 0\\\\0 & 0 & 0 & 1.50923146774894 \\cdot 10^{-16} & 0 & 0 & 0 & 0\\\\0 & 0 & 1.50923146774894 \\cdot 10^{-16} & 0 & 0 & 0 & 0 & 0\\\\0 & 0 & 0 & 0 & 0 & 1.50923146774894 \\cdot 10^{-16} & 0 & 0\\\\0 & 0 & 0 & 0 & 1.50923146774894 \\cdot 10^{-16} & 0 & 0 & 0\\\\0 & 0 & 0 & 0 & 0 & 0 & 0 & 1.50923146774894 \\cdot 10^{-16}\\\\0 & 0 & 0 & 0 & 0 & 0 & 1.50923146774894 \\cdot 10^{-16} & 0\\end{matrix}\\right]$"
      ],
      "text/plain": [
       "Matrix([\n",
       "[                   0, 1.50923146774894e-16,                    0,                    0,                    0,                    0,                    0,                    0],\n",
       "[1.50923146774894e-16,                    0,                    0,                    0,                    0,                    0,                    0,                    0],\n",
       "[                   0,                    0,                    0, 1.50923146774894e-16,                    0,                    0,                    0,                    0],\n",
       "[                   0,                    0, 1.50923146774894e-16,                    0,                    0,                    0,                    0,                    0],\n",
       "[                   0,                    0,                    0,                    0,                    0, 1.50923146774894e-16,                    0,                    0],\n",
       "[                   0,                    0,                    0,                    0, 1.50923146774894e-16,                    0,                    0,                    0],\n",
       "[                   0,                    0,                    0,                    0,                    0,                    0,                    0, 1.50923146774894e-16],\n",
       "[                   0,                    0,                    0,                    0,                    0,                    0, 1.50923146774894e-16,                    0]])"
      ]
     },
     "execution_count": 73,
     "metadata": {},
     "output_type": "execute_result"
    }
   ],
   "source": [
    "H_num.subs([(k1,np.sqrt(3)*bb/4),(k2,bb/4)])"
   ]
  },
  {
   "cell_type": "code",
   "execution_count": 74,
   "metadata": {},
   "outputs": [],
   "source": [
    "strg = [1,0,0]"
   ]
  },
  {
   "cell_type": "code",
   "execution_count": 75,
   "metadata": {},
   "outputs": [],
   "source": [
    "H_num = H.subs([(J1,strg[0]),(J2,strg[1]),(J3,strg[2])])"
   ]
  },
  {
   "cell_type": "code",
   "execution_count": 76,
   "metadata": {},
   "outputs": [
    {
     "data": {
      "text/latex": [
       "$\\displaystyle \\left[\\begin{matrix}-1 & 0 & 2 e^{\\frac{i k_{2}}{6}} \\cos{\\left(\\frac{k_{1}}{2} \\right)} & e^{- \\frac{i k_{2}}{3}} & 0 & 0 & 0 & 0\\\\0 & -1 & e^{- \\frac{i k_{2}}{3}} & 2 e^{\\frac{i k_{2}}{6}} \\cos{\\left(\\frac{k_{1}}{2} \\right)} & 0 & 0 & 0 & 0\\\\2 e^{- \\frac{i k_{2}}{6}} \\cos{\\left(\\frac{k_{1}}{2} \\right)} & e^{\\frac{i k_{2}}{3}} & -1 & 0 & 0 & 0 & 0 & 0\\\\e^{\\frac{i k_{2}}{3}} & 2 e^{- \\frac{i k_{2}}{6}} \\cos{\\left(\\frac{k_{1}}{2} \\right)} & 0 & -1 & 0 & 0 & 0 & 0\\\\0 & 0 & 0 & 0 & -1 & 0 & 2 e^{\\frac{i k_{2}}{6}} \\cos{\\left(\\frac{k_{1}}{2} \\right)} & e^{- \\frac{i k_{2}}{3}}\\\\0 & 0 & 0 & 0 & 0 & -1 & e^{- \\frac{i k_{2}}{3}} & 2 e^{\\frac{i k_{2}}{6}} \\cos{\\left(\\frac{k_{1}}{2} \\right)}\\\\0 & 0 & 0 & 0 & 2 e^{- \\frac{i k_{2}}{6}} \\cos{\\left(\\frac{k_{1}}{2} \\right)} & e^{\\frac{i k_{2}}{3}} & -1 & 0\\\\0 & 0 & 0 & 0 & e^{\\frac{i k_{2}}{3}} & 2 e^{- \\frac{i k_{2}}{6}} \\cos{\\left(\\frac{k_{1}}{2} \\right)} & 0 & -1\\end{matrix}\\right]$"
      ],
      "text/plain": [
       "Matrix([\n",
       "[                      -1,                        0, 2*exp(I*k2/6)*cos(k1/2),            exp(-I*k2/3),                        0,                        0,                       0,                       0],\n",
       "[                       0,                       -1,            exp(-I*k2/3), 2*exp(I*k2/6)*cos(k1/2),                        0,                        0,                       0,                       0],\n",
       "[2*exp(-I*k2/6)*cos(k1/2),              exp(I*k2/3),                      -1,                       0,                        0,                        0,                       0,                       0],\n",
       "[             exp(I*k2/3), 2*exp(-I*k2/6)*cos(k1/2),                       0,                      -1,                        0,                        0,                       0,                       0],\n",
       "[                       0,                        0,                       0,                       0,                       -1,                        0, 2*exp(I*k2/6)*cos(k1/2),            exp(-I*k2/3)],\n",
       "[                       0,                        0,                       0,                       0,                        0,                       -1,            exp(-I*k2/3), 2*exp(I*k2/6)*cos(k1/2)],\n",
       "[                       0,                        0,                       0,                       0, 2*exp(-I*k2/6)*cos(k1/2),              exp(I*k2/3),                      -1,                       0],\n",
       "[                       0,                        0,                       0,                       0,              exp(I*k2/3), 2*exp(-I*k2/6)*cos(k1/2),                       0,                      -1]])"
      ]
     },
     "execution_count": 76,
     "metadata": {},
     "output_type": "execute_result"
    }
   ],
   "source": [
    "H_num"
   ]
  },
  {
   "cell_type": "code",
   "execution_count": 77,
   "metadata": {},
   "outputs": [
    {
     "name": "stdout",
     "output_type": "stream",
     "text": [
      "0.0 0\n",
      "0.3141592653589793 0\n",
      "0.6283185307179586 0\n",
      "0.9424777960769379 0\n",
      "1.2566370614359172 0\n",
      "1.5707963267948966 0\n",
      "1.8849555921538759 0\n",
      "2.199114857512855 0\n",
      "2.5132741228718345 0\n",
      "2.827433388230814 0\n",
      "3.141592653589793 0.0\n",
      "3.141592653589793 -0.3141592653589793\n",
      "3.141592653589793 -0.6283185307179586\n",
      "3.141592653589793 -0.9424777960769379\n",
      "3.141592653589793 -1.2566370614359172\n",
      "3.141592653589793 -1.5707963267948966\n",
      "3.141592653589793 1.8137993642342178\n",
      "2.827433388230814 1.8137993642342178\n",
      "2.5132741228718345 1.8137993642342178\n",
      "2.199114857512855 1.8137993642342178\n",
      "1.8849555921538759 1.8137993642342178\n",
      "1.5707963267948966 1.8137993642342178\n",
      "1.2566370614359172 1.8137993642342178\n",
      "0.9424777960769379 1.8137993642342178\n",
      "0.6283185307179586 1.8137993642342178\n",
      "0.3141592653589793 1.8137993642342178\n",
      "0 1.8137993642342178\n",
      "0 1.4996400988752385\n",
      "0 1.1854808335162592\n",
      "0 0.8713215681572799\n",
      "0 0.5571623027983006\n",
      "0 0.24300303743932128\n",
      "0.0 0.0\n",
      "0.27206990463513264 0.15707963267948966\n",
      "0.5441398092702653 0.3141592653589793\n",
      "0.816209713905398 0.47123889803846897\n",
      "1.0882796185405306 0.6283185307179586\n",
      "1.3603495231756633 0.7853981633974483\n",
      "1.632419427810796 0.9424777960769379\n",
      "1.9044893324459287 1.0995574287564276\n",
      "2.176559237081061 1.2566370614359172\n",
      "2.448629141716194 1.413716694115407\n",
      "2.7206990463513265 1.5707963267948966\n",
      "2.9927689509864592 1.7278759594743862\n",
      "[[ 2.82842712e+00+0.00000000e+00j  2.82842712e+00+0.00000000e+00j\n",
      "   3.13683524e-08+0.00000000e+00j  1.41821892e-08+0.00000000e+00j\n",
      "  -1.41821891e-08+0.00000000e+00j -3.13683518e-08+0.00000000e+00j\n",
      "  -2.82842712e+00+0.00000000e+00j -2.82842712e+00+0.00000000e+00j]\n",
      " [ 2.80229663e+00+0.00000000e+00j  2.80229663e+00-1.38777878e-16j\n",
      "   5.40697249e-16+2.20545528e-01j  1.49900970e-16-2.20545528e-01j\n",
      "  -1.21777529e-16-2.20545528e-01j -5.68437778e-16+2.20545528e-01j\n",
      "  -2.80229663e+00-2.22044605e-16j -2.80229663e+00+0.00000000e+00j]\n",
      " [ 2.72438251e+00+0.00000000e+00j  2.72438251e+00+0.00000000e+00j\n",
      "   3.78685243e-16+4.31499799e-01j  2.34099701e-16-4.31499799e-01j\n",
      "  -2.33361854e-16-4.31499799e-01j -5.46373123e-16+4.31499799e-01j\n",
      "  -2.72438251e+00+5.55111512e-17j -2.72438251e+00+0.00000000e+00j]\n",
      " [ 2.59607330e+00-1.11022302e-16j  2.59607330e+00+0.00000000e+00j\n",
      "  -7.92769776e-17-6.23262057e-01j -1.47188703e-16+6.23262057e-01j\n",
      "  -6.26001605e-16+6.23262057e-01j -7.57998441e-16-6.23262057e-01j\n",
      "  -2.59607330e+00+0.00000000e+00j -2.59607330e+00+0.00000000e+00j]\n",
      " [ 2.41952515e+00-1.11022302e-16j  2.41952515e+00+0.00000000e+00j\n",
      "   1.57632831e-16+7.86151378e-01j  7.77813415e-17+7.86151378e-01j\n",
      "  -1.05902508e-18-7.86151378e-01j -5.38869897e-17-7.86151378e-01j\n",
      "  -2.41952515e+00+0.00000000e+00j -2.41952515e+00+0.00000000e+00j]\n",
      " [ 2.19736823e+00+0.00000000e+00j  2.19736823e+00+0.00000000e+00j\n",
      "   3.94732303e-16-9.10179721e-01j  3.80561739e-16+9.10179721e-01j\n",
      "   1.85798371e-16+9.10179721e-01j  1.50533707e-16-9.10179721e-01j\n",
      "  -2.19736823e+00+0.00000000e+00j -2.19736823e+00+0.00000000e+00j]\n",
      " [ 1.93212500e+00+0.00000000e+00j  1.93212500e+00-2.22044605e-16j\n",
      "   8.05291164e-17+9.84466860e-01j -1.20830881e-17-9.84466860e-01j\n",
      "  -3.76138635e-17-9.84466860e-01j -1.71683414e-16+9.84466860e-01j\n",
      "  -1.93212500e+00-1.11022302e-16j -1.93212500e+00+0.00000000e+00j]\n",
      " [ 1.62492815e+00+0.00000000e+00j  1.62492815e+00+1.11022302e-16j\n",
      "   1.14762800e-16+9.95757251e-01j  6.73607620e-17-9.95757251e-01j\n",
      "  -1.52818313e-16-9.95757251e-01j -2.17057275e-16+9.95757251e-01j\n",
      "  -1.62492815e+00+4.44089210e-16j -1.62492815e+00+0.00000000e+00j]\n",
      " [ 1.27201965e+00+1.11022302e-16j  1.27201965e+00+1.00889323e-16j\n",
      "   6.67868538e-16+9.24176372e-01j  2.87481341e-16-9.24176372e-01j\n",
      "  -1.07013568e-16-9.24176372e-01j -5.02202446e-16+9.24176372e-01j\n",
      "  -1.27201965e+00-2.98667455e-16j -1.27201965e+00-3.33066907e-16j]\n",
      " [ 8.50661406e-01+6.10622664e-16j  8.50661406e-01+1.50229134e-16j\n",
      "   7.14706072e-16+7.26533477e-01j  6.93889390e-16+7.26533477e-01j\n",
      "   5.10817978e-17-7.26533477e-01j  2.99189807e-17-7.26533477e-01j\n",
      "  -8.50661406e-01-1.50045346e-16j -8.50661406e-01+1.11022302e-16j]\n",
      " [ 2.22044605e-16+0.00000000e+00j  0.00000000e+00+0.00000000e+00j\n",
      "   0.00000000e+00+0.00000000e+00j -3.92523108e-17+1.25303330e-08j\n",
      "  -3.92523117e-17-1.25303330e-08j -2.22044605e-16+0.00000000e+00j\n",
      "  -3.79053851e-16+2.12306874e-16j -3.79053851e-16-2.12306874e-16j]\n",
      " [ 2.02272071e-08+2.81950541e-09j  7.86623610e-10+1.35294595e-08j\n",
      "   8.82589504e-17-1.25303330e-08j  8.82589443e-17+1.25303330e-08j\n",
      "  -8.82589443e-17-1.25303330e-08j -8.82589504e-17+1.25303330e-08j\n",
      "  -7.86624503e-10-1.35294594e-08j -2.02272070e-08-2.81950545e-09j]\n",
      " [ 1.63934243e-08+1.82189828e-09j  7.09387127e-09+2.07904403e-08j\n",
      "   2.22407535e-16+1.26506952e-17j  3.62930411e-19+1.18187409e-18j\n",
      "  -3.62930411e-19-1.18187409e-18j -2.22407535e-16-1.26506952e-17j\n",
      "  -7.09387153e-09-2.07904404e-08j -1.63934243e-08-1.82189834e-09j]\n",
      " [ 1.39176515e-08+1.96246372e-08j  1.00534267e-08+1.57747433e-09j\n",
      "   8.82589486e-17-1.25303330e-08j  8.82589422e-17+1.25303330e-08j\n",
      "  -8.82589422e-17-1.25303330e-08j -8.82589486e-17+1.25303330e-08j\n",
      "  -1.00534277e-08-1.57747403e-09j -1.39176515e-08-1.96246370e-08j]\n",
      " [ 1.06429516e-08-1.56892794e-09j  9.03922563e-09+1.26736671e-08j\n",
      "   8.82589455e-17-1.25303330e-08j  8.82589449e-17+1.25303330e-08j\n",
      "  -8.82589449e-17-1.25303330e-08j -8.82589455e-17+1.25303330e-08j\n",
      "  -9.03922550e-09-1.26736674e-08j -1.06429510e-08+1.56892795e-09j]\n",
      " [ 4.45629964e-09-2.71019099e-08j  8.96902964e-10-1.60896968e-08j\n",
      "   2.31601409e-16+4.73929317e-17j  9.55680373e-18+5.48300158e-17j\n",
      "  -9.55680373e-18-5.48300158e-17j -2.31601409e-16-4.73929317e-17j\n",
      "  -8.96903272e-10+1.60896970e-08j -4.45629930e-09+2.71019095e-08j]\n",
      " [ 2.12250960e-08+5.17624066e-09j  2.04735973e-08-6.37468124e-09j\n",
      "   1.78311370e-08+1.98266373e-09j  1.78311366e-08+1.98266384e-09j\n",
      "  -1.78311365e-08-1.98266376e-09j -1.78311372e-08-1.98266416e-09j\n",
      "  -2.04735972e-08+6.37468132e-09j -2.12250945e-08-5.17624101e-09j]\n",
      " [ 6.95313381e-01-4.44089210e-16j  6.95313381e-01-1.11670983e-15j\n",
      "   3.00974523e-16-5.36364394e-01j -5.75427265e-17-5.36364394e-01j\n",
      "  -9.02363556e-17+5.36364394e-01j -1.24900090e-16+5.36364394e-01j\n",
      "  -6.95313381e-01+2.22044605e-16j -6.95313381e-01+1.48868783e-16j]\n",
      " [ 1.06940141e+00-2.60051045e-16j  1.06940141e+00+5.55111512e-16j\n",
      "   4.25535800e-16+6.16187751e-01j  1.05456646e-16+6.16187751e-01j\n",
      "   1.10178429e-17-6.16187751e-01j -3.12656801e-16-6.16187751e-01j\n",
      "  -1.06940141e+00+6.16167950e-16j -1.06940141e+00+5.55111512e-16j]\n",
      " [ 1.39406171e+00+7.04297731e-16j  1.39406171e+00-3.33066907e-16j\n",
      "   3.28144087e-16-5.42723735e-01j -8.03794569e-17+5.42723735e-01j\n",
      "  -2.76657852e-16+5.42723735e-01j -4.50443087e-16-5.42723735e-01j\n",
      "  -1.39406171e+00+4.85722573e-16j -1.39406171e+00+5.55111512e-16j]\n",
      " [ 1.68247341e+00+3.59087760e-16j  1.68247341e+00+1.69309011e-15j\n",
      "   9.86589808e-16+2.58427481e-01j -2.30431090e-16-2.58427481e-01j\n",
      "  -2.88746668e-16+2.58427481e-01j -1.27998439e-15-2.58427481e-01j\n",
      "  -1.68247341e+00-1.09287579e-16j -1.68247341e+00-2.49800181e-16j]\n",
      " [ 1.93464466e+00+4.56232274e-16j  1.93464466e+00+2.49800181e-16j\n",
      "   5.07099647e-01-5.76527315e-16j  5.07099647e-01+2.10811927e-17j\n",
      "  -5.07099647e-01+1.56356685e-16j -5.07099647e-01+7.22024064e-16j\n",
      "  -1.93464466e+00-1.94289029e-16j -1.93464466e+00+4.16333634e-17j]\n",
      " [ 2.14757267e+00+2.77555756e-16j  2.14757267e+00+5.81132364e-17j\n",
      "   7.89936463e-01+1.00257708e-16j  7.89936463e-01+3.50976956e-16j\n",
      "  -7.89936463e-01-4.45680509e-16j -7.89936463e-01+4.34561486e-16j\n",
      "  -2.14757267e+00+1.05471187e-15j -2.14757267e+00-7.04297731e-16j]\n",
      " [ 2.31769057e+00+9.61904167e-16j  2.31769057e+00+6.04164363e-16j\n",
      "   9.89672396e-01-6.81770731e-16j  9.89672396e-01-6.96850988e-16j\n",
      "  -9.89672396e-01-5.88597672e-18j -9.89672396e-01+7.48805316e-17j\n",
      "  -2.31769057e+00-3.10732343e-16j -2.31769057e+00-5.13202866e-16j]\n",
      " [ 2.44175387e+00+1.68268177e-16j  2.44175387e+00-3.93642841e-16j\n",
      "   1.12867444e+00-1.17266603e-16j  1.12867444e+00+5.85642249e-16j\n",
      "  -1.12867444e+00+2.54943458e-16j -1.12867444e+00-3.82377380e-16j\n",
      "  -2.44175387e+00-6.87868150e-17j -2.44175387e+00-2.59774841e-16j]\n",
      " [ 2.51724646e+00+1.77088790e-16j  2.51724646e+00+1.09894732e-15j\n",
      "   1.21148517e+00-1.07610962e-15j  1.21148517e+00+2.13389509e-16j\n",
      "  -1.21148517e+00+3.97261968e-16j -1.21148517e+00-1.38344621e-16j\n",
      "  -2.51724646e+00-5.07755304e-16j -2.51724646e+00+1.92120625e-16j]\n",
      " [ 2.54258963e+00-7.78457160e-16j  2.54258963e+00-1.09217345e-15j\n",
      "   1.23904720e+00+1.36910326e-16j  1.23904720e+00+1.51256791e-17j\n",
      "  -1.23904720e+00-5.13495725e-16j -1.23904720e+00-2.83568278e-16j\n",
      "  -2.54258963e+00+2.67147415e-16j -2.54258963e+00-3.25329535e-16j]\n",
      " [ 2.63196620e+00-2.93902418e-16j  2.63196620e+00+9.54097912e-18j\n",
      "   1.03573835e+00-2.33010906e-16j  1.03573835e+00+6.76802618e-17j\n",
      "  -1.03573835e+00+7.53296258e-16j -1.03573835e+00+4.24415228e-17j\n",
      "  -2.63196620e+00+4.87646189e-16j -2.63196620e+00-2.18575158e-16j]\n",
      " [ 2.70511582e+00+0.00000000e+00j  2.70511582e+00-6.27969898e-16j\n",
      "   8.26043825e-01+1.05613269e-16j  8.26043825e-01+6.71630542e-17j\n",
      "  -8.26043825e-01-5.01777972e-16j -8.26043825e-01+3.29307709e-17j\n",
      "  -2.70511582e+00+1.73472348e-16j -2.70511582e+00+1.05471187e-15j]\n",
      " [ 2.76158750e+00+7.21644966e-16j  2.76158750e+00-5.18682319e-16j\n",
      "   6.11256466e-01-2.49534307e-16j  6.11256466e-01+8.48094221e-17j\n",
      "  -6.11256466e-01+2.13347988e-16j -6.11256466e-01+1.63242200e-16j\n",
      "  -2.76158750e+00-7.61543606e-16j -2.76158750e+00-9.99200722e-16j]\n",
      " [ 2.80103308e+00-9.36750677e-16j  2.80103308e+00+2.22044605e-16j\n",
      "   3.92700509e-01-8.83400357e-16j  3.92700509e-01-4.86338687e-16j\n",
      "  -3.92700509e-01+1.28652340e-16j -3.92700509e-01+5.85484995e-16j\n",
      "  -2.80103308e+00+7.28583860e-16j -2.80103308e+00+3.88578059e-16j]\n",
      " [ 2.82320936e+00+4.95022995e-17j  2.82320936e+00-2.48334202e-16j\n",
      "   1.71723421e-01+2.52046811e-17j  1.71723421e-01-2.65517736e-16j\n",
      "  -1.71723421e-01-4.29233296e-17j -1.71723421e-01-1.55056146e-16j\n",
      "  -2.82320936e+00-7.32901046e-17j -2.82320936e+00-4.14114408e-17j]\n",
      " [ 2.82842712e+00+0.00000000e+00j  2.82842712e+00+0.00000000e+00j\n",
      "   3.13683524e-08+0.00000000e+00j  1.41821892e-08+0.00000000e+00j\n",
      "  -1.41821891e-08+0.00000000e+00j -3.13683518e-08+0.00000000e+00j\n",
      "  -2.82842712e+00+0.00000000e+00j -2.82842712e+00+0.00000000e+00j]\n",
      " [ 2.80664617e+00+1.14735640e-16j  2.80664617e+00+8.32667268e-17j\n",
      "   1.83560454e-16+1.56191641e-01j  1.26923003e-16+1.56191641e-01j\n",
      "   5.63110984e-17-1.56191641e-01j -5.43473480e-16-1.56191641e-01j\n",
      "  -2.80664617e+00+9.76282654e-17j -2.80664617e+00-5.55111512e-17j]\n",
      " [ 2.74163775e+00-3.60822483e-16j  2.74163775e+00+2.97938757e-16j\n",
      "   2.49602987e-16-3.07060065e-01j -2.01683292e-16+3.07060065e-01j\n",
      "  -3.00447268e-16-3.07060065e-01j -3.64755599e-16+3.07060065e-01j\n",
      "  -2.74163775e+00+1.38777878e-17j -2.74163775e+00+5.67688258e-16j]\n",
      " [ 2.63439361e+00+1.73472348e-17j  2.63439361e+00+1.01985477e-15j\n",
      "   6.40603543e-17-4.47302461e-01j -4.81730433e-17-4.47302461e-01j\n",
      "  -8.16633107e-17+4.47302461e-01j -1.78224041e-16+4.47302461e-01j\n",
      "  -2.63439361e+00-2.49800181e-16j -2.63439361e+00-1.96240593e-17j]\n",
      " [ 2.48652625e+00+3.67761377e-16j  2.48652625e+00+1.03606360e-15j\n",
      "  -1.47656730e-17+5.71640393e-01j -1.52040611e-16-5.71640393e-01j\n",
      "  -1.66622524e-16-5.71640393e-01j -3.06929910e-16+5.71640393e-01j\n",
      "  -2.48652625e+00+1.58293517e-16j -2.48652625e+00-9.02056208e-17j]\n",
      " [ 2.30020035e+00-4.16333634e-16j  2.30020035e+00-1.32706346e-16j\n",
      "   7.81135114e-16+6.74784563e-01j  2.87089517e-16-6.74784563e-01j\n",
      "   6.32643067e-17+6.74784563e-01j -2.69581605e-17-6.74784563e-01j\n",
      "  -2.30020035e+00-1.66533454e-16j -2.30020035e+00-5.19549681e-16j]\n",
      " [ 2.07801475e+00+5.68121938e-16j  2.07801475e+00-9.63544023e-16j\n",
      "   1.93622331e-16+7.51319989e-01j  1.45512524e-16-7.51319989e-01j\n",
      "   8.74434374e-17-7.51319989e-01j -2.54018747e-16+7.51319989e-01j\n",
      "  -2.07801475e+00+7.64294769e-16j -2.07801475e+00-7.03430370e-16j]\n",
      " [ 1.82279023e+00-6.53123389e-16j  1.82279023e+00-6.10622664e-16j\n",
      "   3.24349835e-16-7.95425929e-01j  1.80572731e-16-7.95425929e-01j\n",
      "   1.31267346e-17+7.95425929e-01j -8.11738338e-16+7.95425929e-01j\n",
      "  -1.82279023e+00-6.03250089e-16j -1.82279023e+00+8.04911693e-16j]\n",
      " [ 1.53713667e+00+0.00000000e+00j  1.53713667e+00-5.10816891e-16j\n",
      "   4.64302804e-16+8.00216704e-01j  1.83961493e-16+8.00216704e-01j\n",
      "  -1.19309600e-16-8.00216704e-01j -3.37688319e-16-8.00216704e-01j\n",
      "  -1.53713667e+00+3.33066907e-16j -1.53713667e+00+5.39861611e-16j]\n",
      " [ 1.22237263e+00+7.11125814e-16j  1.22237263e+00-4.44089210e-16j\n",
      "   4.54605971e-16+7.56055434e-01j -2.58035877e-18-7.56055434e-01j\n",
      "  -1.14038443e-16+7.56055434e-01j -3.60226172e-16-7.56055434e-01j\n",
      "  -1.22237263e+00-2.22044605e-16j -1.22237263e+00+7.97956801e-17j]\n",
      " [ 8.74872087e-01+5.55111512e-16j  8.74872087e-01-2.68624342e-16j\n",
      "   6.19296281e-16+6.45211563e-01j  2.71600399e-17+6.45211563e-01j\n",
      "   7.54438200e-18-6.45211563e-01j -3.79904441e-16-6.45211563e-01j\n",
      "  -8.74872087e-01-4.62516578e-16j -8.74872087e-01-3.33066907e-16j]\n",
      " [ 4.63935154e-01+5.55111512e-17j  4.63935154e-01-1.07308134e-15j\n",
      "   6.93889390e-18-4.13546294e-01j -2.00384255e-16-4.13546294e-01j\n",
      "  -2.31004711e-16+4.13546294e-01j -3.15719673e-16+4.13546294e-01j\n",
      "  -4.63935154e-01+2.22044605e-16j -4.63935154e-01-3.80715163e-16j]]\n",
      "2.8284271247461925 -2.8284271247461907\n"
     ]
    },
    {
     "data": {
      "image/png": "[encoded data removed]",
      "text/plain": [
       "<Figure size 432x288 with 1 Axes>"
      ]
     },
     "metadata": {},
     "output_type": "display_data"
    }
   ],
   "source": [
    "band_high_sym(H_num, strg, 20)"
   ]
  },
  {
   "cell_type": "markdown",
   "metadata": {},
   "source": [
    "# test new matrix"
   ]
  },
  {
   "cell_type": "code",
   "execution_count": 78,
   "metadata": {
    "scrolled": true
   },
   "outputs": [
    {
     "data": {
      "text/latex": [
       "$\\displaystyle \\left[\\begin{matrix}- J_{1} + 2 J_{2} \\cos{\\left(k_{1} \\right)} + 2 J_{2} + 3 J_{3} & 4 J_{2} \\cos{\\left(\\frac{k_{1}}{2} \\right)} \\cos{\\left(0.866025403784439 k_{2} \\right)}\\\\4 J_{2} \\cos{\\left(\\frac{k_{1}}{2} \\right)} \\cos{\\left(0.866025403784439 k_{2} \\right)} & - J_{1} + 2 J_{2} \\cos{\\left(k_{1} \\right)} + 2 J_{2} + 3 J_{3}\\end{matrix}\\right]$"
      ],
      "text/plain": [
       "Matrix([\n",
       "[        -J1 + 2*J2*cos(k1) + 2*J2 + 3*J3, 4*J2*cos(k1/2)*cos(0.866025403784439*k2)],\n",
       "[4*J2*cos(k1/2)*cos(0.866025403784439*k2),         -J1 + 2*J2*cos(k1) + 2*J2 + 3*J3]])"
      ]
     },
     "execution_count": 78,
     "metadata": {},
     "output_type": "execute_result"
    }
   ],
   "source": [
    "A_k = s1*4*J2*sp.cos(k1/2)*sp.cos(np.sqrt(3)*k2/2)-s0*(-2*J2*sp.cos(k1)+J1-2*J2-3*J3)\n",
    "A_k"
   ]
  },
  {
   "cell_type": "code",
   "execution_count": 79,
   "metadata": {},
   "outputs": [
    {
     "data": {
      "text/latex": [
       "$\\displaystyle \\left[\\begin{matrix}2 J_{1} e^{0.288675134594813 i k_{2}} \\cos{\\left(\\frac{k_{1}}{2} \\right)} & J_{1} e^{- 0.577350269189626 i k_{2}} + J_{3} e^{1.15470053837925 i k_{2}} + 2 J_{3} e^{- 0.577350269189626 i k_{2}} \\cos{\\left(k_{1} \\right)}\\\\J_{1} e^{- 0.577350269189626 i k_{2}} + J_{3} e^{1.15470053837925 i k_{2}} + 2 J_{3} e^{- 0.577350269189626 i k_{2}} \\cos{\\left(k_{1} \\right)} & 2 J_{1} e^{0.288675134594813 i k_{2}} \\cos{\\left(\\frac{k_{1}}{2} \\right)}\\end{matrix}\\right]$"
      ],
      "text/plain": [
       "Matrix([\n",
       "[                                                                 2*J1*exp(0.288675134594813*I*k2)*cos(k1/2), J1*exp(-0.577350269189626*I*k2) + J3*exp(1.15470053837925*I*k2) + 2*J3*exp(-0.577350269189626*I*k2)*cos(k1)],\n",
       "[J1*exp(-0.577350269189626*I*k2) + J3*exp(1.15470053837925*I*k2) + 2*J3*exp(-0.577350269189626*I*k2)*cos(k1),                                                                  2*J1*exp(0.288675134594813*I*k2)*cos(k1/2)]])"
      ]
     },
     "execution_count": 79,
     "metadata": {},
     "output_type": "execute_result"
    }
   ],
   "source": [
    "g_k = s0*2*J1*sp.cos(k1/2)*sp.exp(I*k2/2/np.sqrt(3)) + s1*(2*J3*sp.cos(k1)*sp.exp(-I*k2/np.sqrt(3)) + J3*sp.exp(I*2*k2/np.sqrt(3)) + J1*sp.exp(-I*k2/np.sqrt(3)))\n",
    "g_k"
   ]
  },
  {
   "cell_type": "code",
   "execution_count": 80,
   "metadata": {},
   "outputs": [
    {
     "data": {
      "text/latex": [
       "$\\displaystyle \\left[\\begin{matrix}- J_{1} + 2 J_{2} \\cos{\\left(k_{1} \\right)} + 2 J_{2} + 3 J_{3} & 4 J_{2} \\cos{\\left(\\frac{k_{1}}{2} \\right)} \\cos{\\left(0.866025403784439 k_{2} \\right)}\\\\4 J_{2} \\cos{\\left(\\frac{k_{1}}{2} \\right)} \\cos{\\left(0.866025403784439 k_{2} \\right)} & - J_{1} + 2 J_{2} \\cos{\\left(k_{1} \\right)} + 2 J_{2} + 3 J_{3}\\end{matrix}\\right]$"
      ],
      "text/plain": [
       "Matrix([\n",
       "[        -J1 + 2*J2*cos(k1) + 2*J2 + 3*J3, 4*J2*cos(k1/2)*cos(0.866025403784439*k2)],\n",
       "[4*J2*cos(k1/2)*cos(0.866025403784439*k2),         -J1 + 2*J2*cos(k1) + 2*J2 + 3*J3]])"
      ]
     },
     "execution_count": 80,
     "metadata": {},
     "output_type": "execute_result"
    }
   ],
   "source": [
    "A_q = A_k.subs([(k1,-k1),(k2,-k2)])\n",
    "A_q"
   ]
  },
  {
   "cell_type": "code",
   "execution_count": 81,
   "metadata": {},
   "outputs": [
    {
     "data": {
      "text/latex": [
       "$\\displaystyle \\left[\\begin{matrix}2 J_{1} e^{- 0.288675134594813 i k_{2}} \\cos{\\left(\\frac{k_{1}}{2} \\right)} & J_{1} e^{0.577350269189626 i k_{2}} + 2 J_{3} e^{0.577350269189626 i k_{2}} \\cos{\\left(k_{1} \\right)} + J_{3} e^{- 1.15470053837925 i k_{2}}\\\\J_{1} e^{0.577350269189626 i k_{2}} + 2 J_{3} e^{0.577350269189626 i k_{2}} \\cos{\\left(k_{1} \\right)} + J_{3} e^{- 1.15470053837925 i k_{2}} & 2 J_{1} e^{- 0.288675134594813 i k_{2}} \\cos{\\left(\\frac{k_{1}}{2} \\right)}\\end{matrix}\\right]$"
      ],
      "text/plain": [
       "Matrix([\n",
       "[                                                               2*J1*exp(-0.288675134594813*I*k2)*cos(k1/2), J1*exp(0.577350269189626*I*k2) + 2*J3*exp(0.577350269189626*I*k2)*cos(k1) + J3*exp(-1.15470053837925*I*k2)],\n",
       "[J1*exp(0.577350269189626*I*k2) + 2*J3*exp(0.577350269189626*I*k2)*cos(k1) + J3*exp(-1.15470053837925*I*k2),                                                                2*J1*exp(-0.288675134594813*I*k2)*cos(k1/2)]])"
      ]
     },
     "execution_count": 81,
     "metadata": {},
     "output_type": "execute_result"
    }
   ],
   "source": [
    "g_q = sp.transpose(sp.conjugate(g_k))\n",
    "g_q"
   ]
  },
  {
   "cell_type": "code",
   "execution_count": 82,
   "metadata": {},
   "outputs": [
    {
     "data": {
      "text/latex": [
       "$\\displaystyle \\left[\\begin{matrix}- J_{1} + 2 J_{2} \\cos{\\left(k_{1} \\right)} + 2 J_{2} + 3 J_{3} & 4 J_{2} \\cos{\\left(\\frac{k_{1}}{2} \\right)} \\cos{\\left(0.866025403784439 k_{2} \\right)} & 2 J_{1} e^{0.288675134594813 i k_{2}} \\cos{\\left(\\frac{k_{1}}{2} \\right)} & J_{1} e^{- 0.577350269189626 i k_{2}} + J_{3} e^{1.15470053837925 i k_{2}} + 2 J_{3} e^{- 0.577350269189626 i k_{2}} \\cos{\\left(k_{1} \\right)}\\\\4 J_{2} \\cos{\\left(\\frac{k_{1}}{2} \\right)} \\cos{\\left(0.866025403784439 k_{2} \\right)} & - J_{1} + 2 J_{2} \\cos{\\left(k_{1} \\right)} + 2 J_{2} + 3 J_{3} & J_{1} e^{- 0.577350269189626 i k_{2}} + J_{3} e^{1.15470053837925 i k_{2}} + 2 J_{3} e^{- 0.577350269189626 i k_{2}} \\cos{\\left(k_{1} \\right)} & 2 J_{1} e^{0.288675134594813 i k_{2}} \\cos{\\left(\\frac{k_{1}}{2} \\right)}\\\\2 J_{1} e^{- 0.288675134594813 i k_{2}} \\cos{\\left(\\frac{k_{1}}{2} \\right)} & J_{1} e^{0.577350269189626 i k_{2}} + 2 J_{3} e^{0.577350269189626 i k_{2}} \\cos{\\left(k_{1} \\right)} + J_{3} e^{- 1.15470053837925 i k_{2}} & - J_{1} + 2 J_{2} \\cos{\\left(k_{1} \\right)} + 2 J_{2} + 3 J_{3} & 4 J_{2} \\cos{\\left(\\frac{k_{1}}{2} \\right)} \\cos{\\left(0.866025403784439 k_{2} \\right)}\\\\J_{1} e^{0.577350269189626 i k_{2}} + 2 J_{3} e^{0.577350269189626 i k_{2}} \\cos{\\left(k_{1} \\right)} + J_{3} e^{- 1.15470053837925 i k_{2}} & 2 J_{1} e^{- 0.288675134594813 i k_{2}} \\cos{\\left(\\frac{k_{1}}{2} \\right)} & 4 J_{2} \\cos{\\left(\\frac{k_{1}}{2} \\right)} \\cos{\\left(0.866025403784439 k_{2} \\right)} & - J_{1} + 2 J_{2} \\cos{\\left(k_{1} \\right)} + 2 J_{2} + 3 J_{3}\\end{matrix}\\right]$"
      ],
      "text/plain": [
       "Matrix([\n",
       "[                                                                          -J1 + 2*J2*cos(k1) + 2*J2 + 3*J3,                                                                   4*J2*cos(k1/2)*cos(0.866025403784439*k2),                                                                  2*J1*exp(0.288675134594813*I*k2)*cos(k1/2), J1*exp(-0.577350269189626*I*k2) + J3*exp(1.15470053837925*I*k2) + 2*J3*exp(-0.577350269189626*I*k2)*cos(k1)],\n",
       "[                                                                  4*J2*cos(k1/2)*cos(0.866025403784439*k2),                                                                           -J1 + 2*J2*cos(k1) + 2*J2 + 3*J3, J1*exp(-0.577350269189626*I*k2) + J3*exp(1.15470053837925*I*k2) + 2*J3*exp(-0.577350269189626*I*k2)*cos(k1),                                                                  2*J1*exp(0.288675134594813*I*k2)*cos(k1/2)],\n",
       "[                                                               2*J1*exp(-0.288675134594813*I*k2)*cos(k1/2), J1*exp(0.577350269189626*I*k2) + 2*J3*exp(0.577350269189626*I*k2)*cos(k1) + J3*exp(-1.15470053837925*I*k2),                                                                            -J1 + 2*J2*cos(k1) + 2*J2 + 3*J3,                                                                    4*J2*cos(k1/2)*cos(0.866025403784439*k2)],\n",
       "[J1*exp(0.577350269189626*I*k2) + 2*J3*exp(0.577350269189626*I*k2)*cos(k1) + J3*exp(-1.15470053837925*I*k2),                                                                2*J1*exp(-0.288675134594813*I*k2)*cos(k1/2),                                                                    4*J2*cos(k1/2)*cos(0.866025403784439*k2),                                                                            -J1 + 2*J2*cos(k1) + 2*J2 + 3*J3]])"
      ]
     },
     "execution_count": 82,
     "metadata": {},
     "output_type": "execute_result"
    }
   ],
   "source": [
    "H1 = sp.Matrix(sp.BlockMatrix([[A_k,g_k],[g_q,A_q]]))\n",
    "H1"
   ]
  },
  {
   "cell_type": "code",
   "execution_count": 83,
   "metadata": {},
   "outputs": [
    {
     "data": {
      "text/latex": [
       "$\\displaystyle \\left[\\begin{matrix}- J_{1} + 2 J_{2} \\cos{\\left(k_{1} \\right)} + 2 J_{2} + 3 J_{3} & 4 J_{2} \\cos{\\left(\\frac{k_{1}}{2} \\right)} \\cos{\\left(0.866025403784439 k_{2} \\right)} & 2 J_{1} e^{0.288675134594813 i k_{2}} \\cos{\\left(\\frac{k_{1}}{2} \\right)} & J_{1} e^{- 0.577350269189626 i k_{2}} + J_{3} e^{1.15470053837925 i k_{2}} + 2 J_{3} e^{- 0.577350269189626 i k_{2}} \\cos{\\left(k_{1} \\right)}\\\\4 J_{2} \\cos{\\left(\\frac{k_{1}}{2} \\right)} \\cos{\\left(0.866025403784439 k_{2} \\right)} & - J_{1} + 2 J_{2} \\cos{\\left(k_{1} \\right)} + 2 J_{2} + 3 J_{3} & J_{1} e^{- 0.577350269189626 i k_{2}} + J_{3} e^{1.15470053837925 i k_{2}} + 2 J_{3} e^{- 0.577350269189626 i k_{2}} \\cos{\\left(k_{1} \\right)} & 2 J_{1} e^{0.288675134594813 i k_{2}} \\cos{\\left(\\frac{k_{1}}{2} \\right)}\\\\2 J_{1} e^{- 0.288675134594813 i k_{2}} \\cos{\\left(\\frac{k_{1}}{2} \\right)} & J_{1} e^{0.577350269189626 i k_{2}} + 2 J_{3} e^{0.577350269189626 i k_{2}} \\cos{\\left(k_{1} \\right)} + J_{3} e^{- 1.15470053837925 i k_{2}} & - J_{1} + 2 J_{2} \\cos{\\left(k_{1} \\right)} + 2 J_{2} + 3 J_{3} & 4 J_{2} \\cos{\\left(\\frac{k_{1}}{2} \\right)} \\cos{\\left(0.866025403784439 k_{2} \\right)}\\\\J_{1} e^{0.577350269189626 i k_{2}} + 2 J_{3} e^{0.577350269189626 i k_{2}} \\cos{\\left(k_{1} \\right)} + J_{3} e^{- 1.15470053837925 i k_{2}} & 2 J_{1} e^{- 0.288675134594813 i k_{2}} \\cos{\\left(\\frac{k_{1}}{2} \\right)} & 4 J_{2} \\cos{\\left(\\frac{k_{1}}{2} \\right)} \\cos{\\left(0.866025403784439 k_{2} \\right)} & - J_{1} + 2 J_{2} \\cos{\\left(k_{1} \\right)} + 2 J_{2} + 3 J_{3}\\end{matrix}\\right]$"
      ],
      "text/plain": [
       "Matrix([\n",
       "[                                                                          -J1 + 2*J2*cos(k1) + 2*J2 + 3*J3,                                                                   4*J2*cos(k1/2)*cos(0.866025403784439*k2),                                                                  2*J1*exp(0.288675134594813*I*k2)*cos(k1/2), J1*exp(-0.577350269189626*I*k2) + J3*exp(1.15470053837925*I*k2) + 2*J3*exp(-0.577350269189626*I*k2)*cos(k1)],\n",
       "[                                                                  4*J2*cos(k1/2)*cos(0.866025403784439*k2),                                                                           -J1 + 2*J2*cos(k1) + 2*J2 + 3*J3, J1*exp(-0.577350269189626*I*k2) + J3*exp(1.15470053837925*I*k2) + 2*J3*exp(-0.577350269189626*I*k2)*cos(k1),                                                                  2*J1*exp(0.288675134594813*I*k2)*cos(k1/2)],\n",
       "[                                                               2*J1*exp(-0.288675134594813*I*k2)*cos(k1/2), J1*exp(0.577350269189626*I*k2) + 2*J3*exp(0.577350269189626*I*k2)*cos(k1) + J3*exp(-1.15470053837925*I*k2),                                                                            -J1 + 2*J2*cos(k1) + 2*J2 + 3*J3,                                                                    4*J2*cos(k1/2)*cos(0.866025403784439*k2)],\n",
       "[J1*exp(0.577350269189626*I*k2) + 2*J3*exp(0.577350269189626*I*k2)*cos(k1) + J3*exp(-1.15470053837925*I*k2),                                                                2*J1*exp(-0.288675134594813*I*k2)*cos(k1/2),                                                                    4*J2*cos(k1/2)*cos(0.866025403784439*k2),                                                                            -J1 + 2*J2*cos(k1) + 2*J2 + 3*J3]])"
      ]
     },
     "execution_count": 83,
     "metadata": {},
     "output_type": "execute_result"
    }
   ],
   "source": [
    "H2 = sp.transpose(H1.subs([(k1,-k1),(k2,-k2)]))\n",
    "H2"
   ]
  },
  {
   "cell_type": "code",
   "execution_count": 84,
   "metadata": {},
   "outputs": [
    {
     "data": {
      "text/latex": [
       "$\\displaystyle \\left[\\begin{matrix}- 0.5 J_{1} + 1.0 J_{2} \\cos{\\left(k_{1} \\right)} + 1.0 J_{2} + 1.5 J_{3} & 2.0 J_{2} \\cos{\\left(\\frac{k_{1}}{2} \\right)} \\cos{\\left(0.866025403784439 k_{2} \\right)} & 1.0 J_{1} e^{0.288675134594813 i k_{2}} \\cos{\\left(\\frac{k_{1}}{2} \\right)} & 0.5 J_{1} e^{- 0.577350269189626 i k_{2}} + 0.5 J_{3} e^{1.15470053837925 i k_{2}} + 1.0 J_{3} e^{- 0.577350269189626 i k_{2}} \\cos{\\left(k_{1} \\right)} & 0 & 0 & 0 & 0\\\\2.0 J_{2} \\cos{\\left(\\frac{k_{1}}{2} \\right)} \\cos{\\left(0.866025403784439 k_{2} \\right)} & - 0.5 J_{1} + 1.0 J_{2} \\cos{\\left(k_{1} \\right)} + 1.0 J_{2} + 1.5 J_{3} & 0.5 J_{1} e^{- 0.577350269189626 i k_{2}} + 0.5 J_{3} e^{1.15470053837925 i k_{2}} + 1.0 J_{3} e^{- 0.577350269189626 i k_{2}} \\cos{\\left(k_{1} \\right)} & 1.0 J_{1} e^{0.288675134594813 i k_{2}} \\cos{\\left(\\frac{k_{1}}{2} \\right)} & 0 & 0 & 0 & 0\\\\1.0 J_{1} e^{- 0.288675134594813 i k_{2}} \\cos{\\left(\\frac{k_{1}}{2} \\right)} & 0.5 J_{1} e^{0.577350269189626 i k_{2}} + 1.0 J_{3} e^{0.577350269189626 i k_{2}} \\cos{\\left(k_{1} \\right)} + 0.5 J_{3} e^{- 1.15470053837925 i k_{2}} & - 0.5 J_{1} + 1.0 J_{2} \\cos{\\left(k_{1} \\right)} + 1.0 J_{2} + 1.5 J_{3} & 2.0 J_{2} \\cos{\\left(\\frac{k_{1}}{2} \\right)} \\cos{\\left(0.866025403784439 k_{2} \\right)} & 0 & 0 & 0 & 0\\\\0.5 J_{1} e^{0.577350269189626 i k_{2}} + 1.0 J_{3} e^{0.577350269189626 i k_{2}} \\cos{\\left(k_{1} \\right)} + 0.5 J_{3} e^{- 1.15470053837925 i k_{2}} & 1.0 J_{1} e^{- 0.288675134594813 i k_{2}} \\cos{\\left(\\frac{k_{1}}{2} \\right)} & 2.0 J_{2} \\cos{\\left(\\frac{k_{1}}{2} \\right)} \\cos{\\left(0.866025403784439 k_{2} \\right)} & - 0.5 J_{1} + 1.0 J_{2} \\cos{\\left(k_{1} \\right)} + 1.0 J_{2} + 1.5 J_{3} & 0 & 0 & 0 & 0\\\\0 & 0 & 0 & 0 & - 0.5 J_{1} + 1.0 J_{2} \\cos{\\left(k_{1} \\right)} + 1.0 J_{2} + 1.5 J_{3} & 2.0 J_{2} \\cos{\\left(\\frac{k_{1}}{2} \\right)} \\cos{\\left(0.866025403784439 k_{2} \\right)} & 1.0 J_{1} e^{0.288675134594813 i k_{2}} \\cos{\\left(\\frac{k_{1}}{2} \\right)} & 0.5 J_{1} e^{- 0.577350269189626 i k_{2}} + 0.5 J_{3} e^{1.15470053837925 i k_{2}} + 1.0 J_{3} e^{- 0.577350269189626 i k_{2}} \\cos{\\left(k_{1} \\right)}\\\\0 & 0 & 0 & 0 & 2.0 J_{2} \\cos{\\left(\\frac{k_{1}}{2} \\right)} \\cos{\\left(0.866025403784439 k_{2} \\right)} & - 0.5 J_{1} + 1.0 J_{2} \\cos{\\left(k_{1} \\right)} + 1.0 J_{2} + 1.5 J_{3} & 0.5 J_{1} e^{- 0.577350269189626 i k_{2}} + 0.5 J_{3} e^{1.15470053837925 i k_{2}} + 1.0 J_{3} e^{- 0.577350269189626 i k_{2}} \\cos{\\left(k_{1} \\right)} & 1.0 J_{1} e^{0.288675134594813 i k_{2}} \\cos{\\left(\\frac{k_{1}}{2} \\right)}\\\\0 & 0 & 0 & 0 & 1.0 J_{1} e^{- 0.288675134594813 i k_{2}} \\cos{\\left(\\frac{k_{1}}{2} \\right)} & 0.5 J_{1} e^{0.577350269189626 i k_{2}} + 1.0 J_{3} e^{0.577350269189626 i k_{2}} \\cos{\\left(k_{1} \\right)} + 0.5 J_{3} e^{- 1.15470053837925 i k_{2}} & - 0.5 J_{1} + 1.0 J_{2} \\cos{\\left(k_{1} \\right)} + 1.0 J_{2} + 1.5 J_{3} & 2.0 J_{2} \\cos{\\left(\\frac{k_{1}}{2} \\right)} \\cos{\\left(0.866025403784439 k_{2} \\right)}\\\\0 & 0 & 0 & 0 & 0.5 J_{1} e^{0.577350269189626 i k_{2}} + 1.0 J_{3} e^{0.577350269189626 i k_{2}} \\cos{\\left(k_{1} \\right)} + 0.5 J_{3} e^{- 1.15470053837925 i k_{2}} & 1.0 J_{1} e^{- 0.288675134594813 i k_{2}} \\cos{\\left(\\frac{k_{1}}{2} \\right)} & 2.0 J_{2} \\cos{\\left(\\frac{k_{1}}{2} \\right)} \\cos{\\left(0.866025403784439 k_{2} \\right)} & - 0.5 J_{1} + 1.0 J_{2} \\cos{\\left(k_{1} \\right)} + 1.0 J_{2} + 1.5 J_{3}\\end{matrix}\\right]$"
      ],
      "text/plain": [
       "Matrix([\n",
       "[                                                                          -0.5*J1 + 1.0*J2*cos(k1) + 1.0*J2 + 1.5*J3,                                                                           2.0*J2*cos(k1/2)*cos(0.866025403784439*k2),                                                                          1.0*J1*exp(0.288675134594813*I*k2)*cos(k1/2), 0.5*J1*exp(-0.577350269189626*I*k2) + 0.5*J3*exp(1.15470053837925*I*k2) + 1.0*J3*exp(-0.577350269189626*I*k2)*cos(k1),                                                                                                                    0,                                                                                                                    0,                                                                                                                     0,                                                                                                                     0],\n",
       "[                                                                          2.0*J2*cos(k1/2)*cos(0.866025403784439*k2),                                                                           -0.5*J1 + 1.0*J2*cos(k1) + 1.0*J2 + 1.5*J3, 0.5*J1*exp(-0.577350269189626*I*k2) + 0.5*J3*exp(1.15470053837925*I*k2) + 1.0*J3*exp(-0.577350269189626*I*k2)*cos(k1),                                                                          1.0*J1*exp(0.288675134594813*I*k2)*cos(k1/2),                                                                                                                    0,                                                                                                                    0,                                                                                                                     0,                                                                                                                     0],\n",
       "[                                                                       1.0*J1*exp(-0.288675134594813*I*k2)*cos(k1/2), 0.5*J1*exp(0.577350269189626*I*k2) + 1.0*J3*exp(0.577350269189626*I*k2)*cos(k1) + 0.5*J3*exp(-1.15470053837925*I*k2),                                                                            -0.5*J1 + 1.0*J2*cos(k1) + 1.0*J2 + 1.5*J3,                                                                            2.0*J2*cos(k1/2)*cos(0.866025403784439*k2),                                                                                                                    0,                                                                                                                    0,                                                                                                                     0,                                                                                                                     0],\n",
       "[0.5*J1*exp(0.577350269189626*I*k2) + 1.0*J3*exp(0.577350269189626*I*k2)*cos(k1) + 0.5*J3*exp(-1.15470053837925*I*k2),                                                                        1.0*J1*exp(-0.288675134594813*I*k2)*cos(k1/2),                                                                            2.0*J2*cos(k1/2)*cos(0.866025403784439*k2),                                                                            -0.5*J1 + 1.0*J2*cos(k1) + 1.0*J2 + 1.5*J3,                                                                                                                    0,                                                                                                                    0,                                                                                                                     0,                                                                                                                     0],\n",
       "[                                                                                                                   0,                                                                                                                    0,                                                                                                                     0,                                                                                                                     0,                                                                           -0.5*J1 + 1.0*J2*cos(k1) + 1.0*J2 + 1.5*J3,                                                                           2.0*J2*cos(k1/2)*cos(0.866025403784439*k2),                                                                          1.0*J1*exp(0.288675134594813*I*k2)*cos(k1/2), 0.5*J1*exp(-0.577350269189626*I*k2) + 0.5*J3*exp(1.15470053837925*I*k2) + 1.0*J3*exp(-0.577350269189626*I*k2)*cos(k1)],\n",
       "[                                                                                                                   0,                                                                                                                    0,                                                                                                                     0,                                                                                                                     0,                                                                           2.0*J2*cos(k1/2)*cos(0.866025403784439*k2),                                                                           -0.5*J1 + 1.0*J2*cos(k1) + 1.0*J2 + 1.5*J3, 0.5*J1*exp(-0.577350269189626*I*k2) + 0.5*J3*exp(1.15470053837925*I*k2) + 1.0*J3*exp(-0.577350269189626*I*k2)*cos(k1),                                                                          1.0*J1*exp(0.288675134594813*I*k2)*cos(k1/2)],\n",
       "[                                                                                                                   0,                                                                                                                    0,                                                                                                                     0,                                                                                                                     0,                                                                        1.0*J1*exp(-0.288675134594813*I*k2)*cos(k1/2), 0.5*J1*exp(0.577350269189626*I*k2) + 1.0*J3*exp(0.577350269189626*I*k2)*cos(k1) + 0.5*J3*exp(-1.15470053837925*I*k2),                                                                            -0.5*J1 + 1.0*J2*cos(k1) + 1.0*J2 + 1.5*J3,                                                                            2.0*J2*cos(k1/2)*cos(0.866025403784439*k2)],\n",
       "[                                                                                                                   0,                                                                                                                    0,                                                                                                                     0,                                                                                                                     0, 0.5*J1*exp(0.577350269189626*I*k2) + 1.0*J3*exp(0.577350269189626*I*k2)*cos(k1) + 0.5*J3*exp(-1.15470053837925*I*k2),                                                                        1.0*J1*exp(-0.288675134594813*I*k2)*cos(k1/2),                                                                            2.0*J2*cos(k1/2)*cos(0.866025403784439*k2),                                                                            -0.5*J1 + 1.0*J2*cos(k1) + 1.0*J2 + 1.5*J3]])"
      ]
     },
     "execution_count": 84,
     "metadata": {},
     "output_type": "execute_result"
    }
   ],
   "source": [
    "H = 1/2*sp.Matrix(sp.BlockMatrix([[H1,sp.zeros(4)],[sp.zeros(4),H2]]))\n",
    "H"
   ]
  },
  {
   "cell_type": "code",
   "execution_count": 85,
   "metadata": {},
   "outputs": [
    {
     "name": "stdout",
     "output_type": "stream",
     "text": [
      "0.0 0\n",
      "0.3141592653589793 0\n",
      "0.6283185307179586 0\n",
      "0.9424777960769379 0\n",
      "1.2566370614359172 0\n",
      "1.5707963267948966 0\n",
      "1.8849555921538759 0\n",
      "2.199114857512855 0\n",
      "2.5132741228718345 0\n",
      "2.827433388230814 0\n",
      "3.141592653589793 0.0\n",
      "3.141592653589793 -0.3141592653589793\n",
      "3.141592653589793 -0.6283185307179586\n",
      "3.141592653589793 -0.9424777960769379\n",
      "3.141592653589793 -1.2566370614359172\n",
      "3.141592653589793 -1.5707963267948966\n",
      "3.141592653589793 1.8137993642342178\n",
      "2.827433388230814 1.8137993642342178\n",
      "2.5132741228718345 1.8137993642342178\n",
      "2.199114857512855 1.8137993642342178\n",
      "1.8849555921538759 1.8137993642342178\n",
      "1.5707963267948966 1.8137993642342178\n",
      "1.2566370614359172 1.8137993642342178\n",
      "0.9424777960769379 1.8137993642342178\n",
      "0.6283185307179586 1.8137993642342178\n",
      "0.3141592653589793 1.8137993642342178\n",
      "0 1.8137993642342178\n",
      "0 1.4996400988752385\n",
      "0 1.1854808335162592\n",
      "0 0.8713215681572799\n",
      "0 0.5571623027983006\n",
      "0 0.24300303743932128\n",
      "0.0 0.0\n",
      "0.27206990463513264 0.15707963267948966\n",
      "0.5441398092702653 0.3141592653589793\n",
      "0.816209713905398 0.47123889803846897\n",
      "1.0882796185405306 0.6283185307179586\n",
      "1.3603495231756633 0.7853981633974483\n",
      "1.632419427810796 0.9424777960769379\n",
      "1.9044893324459287 1.0995574287564276\n",
      "2.176559237081061 1.2566370614359172\n",
      "2.448629141716194 1.413716694115407\n",
      "2.7206990463513265 1.5707963267948966\n",
      "2.9927689509864592 1.7278759594743862\n",
      "[[ 1.41421356e+00+0.00000000e+00j  1.41421356e+00+0.00000000e+00j\n",
      "   1.71390330e-08+0.00000000e+00j  7.09109460e-09+0.00000000e+00j\n",
      "  -7.09109456e-09+0.00000000e+00j -1.71390331e-08+0.00000000e+00j\n",
      "  -1.41421356e+00+0.00000000e+00j -1.41421356e+00+0.00000000e+00j]\n",
      " [ 1.40114831e+00+0.00000000e+00j  1.40114831e+00-4.16333634e-17j\n",
      "   4.09126445e-16+1.10272764e-01j  1.37121097e-16-1.10272764e-01j\n",
      "  -9.84362437e-17-1.10272764e-01j -1.31567481e-16+1.10272764e-01j\n",
      "  -1.40114831e+00-8.32667268e-17j -1.40114831e+00+0.00000000e+00j]\n",
      " [ 1.36219125e+00+0.00000000e+00j  1.36219125e+00+2.77555756e-17j\n",
      "   3.73519901e-17-2.15749899e-01j -5.85627992e-17+2.15749899e-01j\n",
      "  -1.16845711e-16-2.15749899e-01j -2.73195032e-16+2.15749899e-01j\n",
      "  -1.36219125e+00+2.77555756e-17j -1.36219125e+00+0.00000000e+00j]\n",
      " [ 1.29803665e+00-1.66533454e-16j  1.29803665e+00+0.00000000e+00j\n",
      "   1.78838519e-16-3.11631029e-01j  3.93625740e-17+3.11631029e-01j\n",
      "  -9.09692210e-17+3.11631029e-01j -3.39114941e-16-3.11631029e-01j\n",
      "  -1.29803665e+00-1.66533454e-16j -1.29803665e+00+0.00000000e+00j]\n",
      " [ 1.20976258e+00+0.00000000e+00j  1.20976258e+00-1.11022302e-16j\n",
      "   7.88164157e-17+3.93075689e-01j -2.69434948e-17-3.93075689e-01j\n",
      "  -3.51235094e-17-3.93075689e-01j -1.28149309e-16+3.93075689e-01j\n",
      "  -1.20976258e+00+0.00000000e+00j -1.20976258e+00+0.00000000e+00j]\n",
      " [ 1.09868411e+00+0.00000000e+00j  1.09868411e+00+0.00000000e+00j\n",
      "   1.97366151e-16-4.55089861e-01j  1.90280869e-16+4.55089861e-01j\n",
      "   9.28991855e-17+4.55089861e-01j  7.52668535e-17-4.55089861e-01j\n",
      "  -1.09868411e+00+0.00000000e+00j -1.09868411e+00+0.00000000e+00j]\n",
      " [ 9.66062501e-01+0.00000000e+00j  9.66062501e-01-1.11022302e-16j\n",
      "   4.02645582e-17+4.92233430e-01j -6.04154407e-18-4.92233430e-01j\n",
      "  -1.88069318e-17-4.92233430e-01j -8.58417070e-17+4.92233430e-01j\n",
      "  -9.66062501e-01-5.55111512e-17j -9.66062501e-01+0.00000000e+00j]\n",
      " [ 8.12464075e-01-1.11022302e-16j  8.12464075e-01+0.00000000e+00j\n",
      "   2.81752857e-17-4.97878626e-01j  3.74049750e-18+4.97878626e-01j\n",
      "  -7.64091567e-17-4.97878626e-01j -1.08528637e-16+4.97878626e-01j\n",
      "  -8.12464075e-01+2.22044605e-16j -8.12464075e-01+0.00000000e+00j]\n",
      " [ 6.36009825e-01+8.00235873e-17j  6.36009825e-01-5.55111512e-17j\n",
      "   1.43740670e-16-4.62088186e-01j  2.14763369e-17-4.62088186e-01j\n",
      "  -1.78893358e-16+4.62088186e-01j -2.68231617e-16+4.62088186e-01j\n",
      "  -6.36009825e-01+5.55111512e-17j -6.36009825e-01-1.33748994e-16j]\n",
      " [ 4.25330703e-01+5.55111512e-17j  4.25330703e-01+6.53293309e-17j\n",
      "   6.91107061e-17-3.63266738e-01j  6.24500451e-17+3.63266738e-01j\n",
      "   2.55408989e-17-3.63266738e-01j -2.08166817e-17+3.63266738e-01j\n",
      "  -4.25330703e-01-2.77555756e-17j -4.25330703e-01+2.03158980e-16j]\n",
      " [ 4.13938294e-13-4.13901795e-13j  4.13865368e-13+4.13901795e-13j\n",
      "  -1.26431701e-17-6.26516652e-09j -7.23976629e-17+8.86028346e-09j\n",
      "  -7.90324305e-17-8.86028346e-09j -1.10692917e-16+6.26516652e-09j\n",
      "  -4.13865368e-13+4.13901795e-13j -4.13938294e-13-4.13901795e-13j]\n",
      " [ 4.60781306e-09+4.16522078e-09j  3.05530108e-09+1.03561263e-08j\n",
      "   4.68636480e-13-5.17022282e-13j  4.68563554e-13-5.17017753e-13j\n",
      "  -4.68563554e-13+5.17017753e-13j -4.68636480e-13+5.17022282e-13j\n",
      "  -3.05530112e-09-1.03561264e-08j -4.60781338e-09-4.16522065e-09j]\n",
      " [ 6.52446612e-09-7.59186457e-09j  4.42022692e-09-4.08348519e-10j\n",
      "   1.18847118e-12-1.18830049e-12j  1.18817621e-12-1.18830050e-12j\n",
      "  -1.18817621e-12+1.18830050e-12j -1.18847118e-12+1.18830049e-12j\n",
      "  -4.42022672e-09+4.08348518e-10j -6.52446559e-09+7.59186450e-09j]\n",
      " [ 6.57555278e-09-9.05777965e-10j  6.26516663e-09+1.82751432e-18j\n",
      "   6.26516640e-09+1.29942836e-20j  2.01392880e-09+1.01184831e-08j\n",
      "  -2.01392890e-09-1.01184830e-08j -6.26516640e-09+1.82751414e-18j\n",
      "  -6.26516658e-09+4.87581042e-16j -6.57555276e-09+9.05777394e-10j]\n",
      " [ 7.63786931e-09+4.52708749e-09j  5.32197520e-09-2.06004797e-09j\n",
      "   7.86840538e-13+7.43495257e-13j  7.86545568e-13+7.43501530e-13j\n",
      "  -7.86545568e-13-7.43501530e-13j -7.86840538e-13-7.43495257e-13j\n",
      "  -5.32197511e-09+2.06004811e-09j -7.63786947e-09-4.52708720e-09j]\n",
      " [ 5.72073096e-09+3.99883716e-09j  2.81706165e-09-6.50382483e-09j\n",
      "   1.47886335e-12+2.33185414e-13j  8.00372930e-13+7.30661051e-13j\n",
      "  -8.00667900e-13-7.30650899e-13j -1.47871292e-12-2.33157270e-13j\n",
      "  -2.81706178e-09+6.50382482e-09j -5.72073114e-09-3.99883696e-09j]\n",
      " [ 5.36487057e-09-2.38771807e-10j  1.72807078e-09+7.47661685e-09j\n",
      "   7.62609953e-13+7.67160970e-13j  7.11418587e-13+1.81837827e-13j\n",
      "  -7.11596381e-13-1.81886974e-13j -7.62679479e-13-7.67158052e-13j\n",
      "  -1.72807086e-09-7.47661685e-09j -5.36487042e-09+2.38771896e-10j]\n",
      " [ 1.56434471e-01+9.60615690e-09j  1.56434468e-01+5.90981253e-09j\n",
      "   1.56434462e-01-5.90981263e-09j  1.56434459e-01-9.60615685e-09j\n",
      "  -1.56434455e-01-2.55452077e-09j -1.56434459e-01-1.32838054e-09j\n",
      "  -1.56434471e-01+1.32838047e-09j -1.56434475e-01+2.55452062e-09j]\n",
      " [ 3.09016998e-01+8.31115893e-09j  3.09016996e-01+2.19090418e-09j\n",
      "   3.09016992e-01-2.19090418e-09j  3.09016991e-01-8.31115902e-09j\n",
      "  -3.09016990e-01-9.43063216e-09j -3.09016993e-01+1.17620385e-08j\n",
      "  -3.09016995e-01-1.17620385e-08j -3.09016999e-01+9.43063221e-09j]\n",
      " [ 4.53990507e-01+2.29760224e-09j  4.53990501e-01+1.26986167e-08j\n",
      "   4.53990498e-01-1.26986168e-08j  4.53990492e-01-2.29760222e-09j\n",
      "  -4.53990488e-01+3.23775742e-09j -4.53990491e-01-3.34124973e-09j\n",
      "  -4.53990508e-01+3.34124975e-09j -4.53990511e-01-3.23775748e-09j]\n",
      " [ 5.87785257e-01+1.08689995e-08j  5.87785253e-01+1.25012778e-08j\n",
      "   5.87785252e-01-1.25012778e-08j  5.87785248e-01-1.08689993e-08j\n",
      "  -5.87785246e-01-1.26759117e-08j -5.87785250e-01+9.43777213e-09j\n",
      "  -5.87785255e-01-9.43777216e-09j -5.87785258e-01+1.26759117e-08j]\n",
      " [ 7.07106800e-01-2.75245984e-10j  7.07106796e-01+1.69834158e-09j\n",
      "   7.07106766e-01-1.69834172e-09j  7.07106762e-01+2.75245956e-10j\n",
      "  -7.07106769e-01-1.58565328e-09j -7.07106779e-01+1.25235779e-08j\n",
      "  -7.07106783e-01-1.25235778e-08j -7.07106794e-01+1.58565319e-09j]\n",
      " [ 8.09017003e-01+1.28459491e-09j  8.09016996e-01-6.31831876e-09j\n",
      "   8.09016992e-01+6.31831866e-09j  8.09016986e-01-1.28459494e-09j\n",
      "  -8.09016984e-01-2.40362219e-09j -8.09016993e-01+1.30891765e-08j\n",
      "  -8.09016995e-01-1.30891765e-08j -8.09017005e-01+2.40362200e-09j]\n",
      " [ 8.91006545e-01+1.23577380e-09j  8.91006526e-01-6.97585278e-09j\n",
      "   8.91006523e-01+6.97585297e-09j  8.91006504e-01-1.23577362e-09j\n",
      "  -8.91006521e-01+1.66891847e-08j -8.91006522e-01-2.02226486e-08j\n",
      "  -8.91006526e-01+2.02226489e-08j -8.91006528e-01-1.66891840e-08j]\n",
      " [ 9.51056545e-01+3.72449104e-11j  9.51056522e-01+7.51945708e-09j\n",
      "   9.51056510e-01-7.51945717e-09j  9.51056488e-01-3.72450029e-11j\n",
      "  -9.51056514e-01+1.69618458e-08j -9.51056516e-01-1.88515909e-08j\n",
      "  -9.51056516e-01+1.88515911e-08j -9.51056518e-01-1.69618457e-08j]\n",
      " [ 9.87688368e-01-3.48280552e-10j  9.87688351e-01+1.68407512e-09j\n",
      "   9.87688330e-01-1.68407506e-09j  9.87688313e-01+3.48280547e-10j\n",
      "  -9.87688333e-01-6.56730122e-09j -9.87688340e-01-1.84062950e-08j\n",
      "  -9.87688341e-01+1.84062948e-08j -9.87688348e-01+6.56730054e-09j]\n",
      " [ 1.00000001e+00-6.31377892e-09j  1.00000000e+00+7.70815600e-09j\n",
      "   9.99999996e-01-7.70815593e-09j  9.99999991e-01+6.31377933e-09j\n",
      "  -9.99999993e-01+1.87821395e-09j -9.99999993e-01+1.71119668e-09j\n",
      "  -1.00000001e+00-1.71119717e-09j -1.00000001e+00-1.87821425e-09j]\n",
      " [ 1.12637728e+00+2.41560244e-16j  1.12637728e+00-6.16631759e-16j\n",
      "   8.55145732e-01+6.13207340e-16j  8.55145732e-01-2.10438559e-16j\n",
      "  -8.55145732e-01+2.73842904e-16j -8.55145732e-01-1.49884670e-16j\n",
      "  -1.12637728e+00+2.31176365e-16j -1.12637728e+00-3.24130403e-16j]\n",
      " [ 1.23194250e+00-3.32477484e-16j  1.23194250e+00-2.69098979e-16j\n",
      "   6.94490946e-01+4.58466720e-18j  6.94490946e-01-8.28849267e-17j\n",
      "  -6.94490946e-01+8.27969282e-17j -6.94490946e-01-1.68430807e-16j\n",
      "  -1.23194250e+00+3.00432422e-16j -1.23194250e+00-1.58569905e-16j]\n",
      " [ 1.31474514e+00-1.89441870e-16j  1.31474514e+00+3.07913417e-17j\n",
      "   5.21004059e-01-3.13637507e-16j  5.21004059e-01-9.97594157e-17j\n",
      "  -5.21004059e-01+3.64428673e-16j -5.21004059e-01+2.07141201e-17j\n",
      "  -1.31474514e+00+3.44106111e-16j -1.31474514e+00-2.39825521e-16j]\n",
      " [ 1.37325524e+00+2.77555756e-17j  1.37325524e+00+3.90312782e-16j\n",
      "   3.37890587e-01+1.08206800e-17j  3.37890587e-01-1.82983539e-16j\n",
      "  -3.37890587e-01-8.53099930e-17j -3.37890587e-01-1.29343814e-16j\n",
      "  -1.37325524e+00-2.49800181e-16j -1.37325524e+00-2.74086309e-16j]\n",
      " [ 1.40639172e+00-1.80411242e-16j  1.40639172e+00-3.19189120e-16j\n",
      "   1.48533914e-01-1.84596201e-17j  1.48533914e-01-1.78604262e-17j\n",
      "  -1.48533914e-01-5.82961475e-17j -1.48533914e-01-3.47142115e-17j\n",
      "  -1.40639172e+00+1.11022302e-16j -1.40639172e+00+2.63677968e-16j]\n",
      " [ 1.41421356e+00+0.00000000e+00j  1.41421356e+00+0.00000000e+00j\n",
      "   1.71390330e-08+0.00000000e+00j  7.09109460e-09+0.00000000e+00j\n",
      "  -7.09109456e-09+0.00000000e+00j -1.71390331e-08+0.00000000e+00j\n",
      "  -1.41421356e+00+0.00000000e+00j -1.41421356e+00+0.00000000e+00j]\n",
      " [ 1.40114836e+00+3.76126056e-17j  1.40114836e+00-4.24605112e-17j\n",
      "   7.06679103e-09+5.14882397e-09j  2.96478002e-09-2.61985175e-09j\n",
      "  -2.96477998e-09+2.61985167e-09j -7.06679088e-09-5.14882388e-09j\n",
      "  -1.40114836e+00-5.50480464e-17j -1.40114836e+00-2.76071658e-17j]\n",
      " [ 1.36219415e+00-5.55111512e-17j  1.36219415e+00-2.94902991e-17j\n",
      "   2.11148103e-09+1.27275917e-08j  1.08679594e-09-4.07785476e-09j\n",
      "  -1.08679607e-09+4.07785475e-09j -2.11148110e-09-1.27275917e-08j\n",
      "  -1.36219415e+00-2.49800181e-16j -1.36219415e+00-1.97758476e-16j]\n",
      " [ 1.29807070e+00+6.93889390e-17j  1.29807070e+00-1.69135539e-16j\n",
      "   9.42236875e-09+6.34355163e-09j  7.91207524e-09-1.48989746e-09j\n",
      "  -7.91207509e-09+1.48989764e-09j -9.42236854e-09-6.34355159e-09j\n",
      "  -1.29807070e+00+9.02056208e-17j -1.29807070e+00-1.24900090e-16j]\n",
      " [ 1.20996282e+00-1.54390389e-16j  1.20996282e+00+5.55111512e-17j\n",
      "   1.18559619e-08+3.48453799e-09j  1.14801495e-08-3.94874599e-09j\n",
      "  -1.14801495e-08+3.94874622e-09j -1.18559618e-08-3.48453776e-09j\n",
      "  -1.20996282e+00-1.34441069e-16j -1.20996282e+00+1.38777878e-17j]\n",
      " [ 1.09949846e+00-9.58434720e-17j  1.09949846e+00-4.51028104e-17j\n",
      "   1.37099482e-08-4.77610877e-10j  9.55976219e-09+3.31548329e-09j\n",
      "  -9.55976214e-09-3.31548307e-09j -1.37099483e-08+4.77610982e-10j\n",
      "  -1.09949846e+00+2.08166817e-17j -1.09949846e+00+4.38017678e-17j]\n",
      " [ 9.68718686e-01+0.00000000e+00j  9.68718686e-01-5.03069808e-17j\n",
      "   8.62468089e-09-2.15833566e-09j  3.66885782e-09-5.85390832e-09j\n",
      "  -3.66885781e-09+5.85390834e-09j -8.62468067e-09+2.15833579e-09j\n",
      "  -9.68718686e-01-1.24900090e-16j -9.68718686e-01-9.60603125e-17j]\n",
      " [ 8.20039907e-01-8.23993651e-17j  8.20039907e-01+4.16333634e-17j\n",
      "   1.20811233e-08+5.76383142e-09j  1.16519046e-08-3.71416917e-09j\n",
      "  -1.16519041e-08+3.71416899e-09j -1.20811233e-08-5.76383171e-09j\n",
      "  -8.20039907e-01+2.77555756e-17j -8.20039907e-01+5.89805982e-17j]\n",
      " [ 6.56209261e-01+2.63677968e-16j  6.56209261e-01+5.81132364e-16j\n",
      "   1.38438083e-08-2.36687013e-09j  4.25419423e-09-7.88955809e-09j\n",
      "  -4.25419417e-09+7.88955776e-09j -1.38438082e-08+2.36686994e-09j\n",
      "  -6.56209261e-01+6.93889390e-17j -6.56209261e-01+1.76941795e-16j]\n",
      " [ 4.80253844e-01+1.56992475e-16j  4.80253844e-01-2.77555756e-17j\n",
      "   9.79577861e-09-1.79059744e-09j  1.52394981e-09+9.06555064e-09j\n",
      "  -1.52394993e-09-9.06555050e-09j -9.79577881e-09+1.79059766e-09j\n",
      "  -4.80253844e-01-1.38777878e-16j -4.80253844e-01+8.89045781e-17j]\n",
      " [ 2.95424782e-01+4.36716635e-16j  2.95424782e-01+1.11022302e-16j\n",
      "   1.00434508e-08-3.07640668e-09j  9.59169424e-09+2.40040169e-09j\n",
      "  -9.59169434e-09-2.40040180e-09j -1.00434513e-08+3.07640621e-09j\n",
      "  -2.95424782e-01-1.11022302e-16j -2.95424782e-01+6.20163643e-17j]\n",
      " [ 1.05137160e-01+3.34801631e-16j  1.05137160e-01+4.78783679e-16j\n",
      "   1.18506963e-08+7.37804690e-10j  4.14440108e-09-6.02372597e-10j\n",
      "  -4.14440126e-09+6.02371914e-10j -1.18506956e-08-7.37805873e-10j\n",
      "  -1.05137160e-01+2.77555756e-16j -1.05137160e-01+6.36209835e-16j]]\n",
      "1.4142135623730963 -1.414213562373095\n"
     ]
    },
    {
     "data": {
      "image/png": "[encoded data removed]",
      "text/plain": [
       "<Figure size 432x288 with 1 Axes>"
      ]
     },
     "metadata": {},
     "output_type": "display_data"
    }
   ],
   "source": [
    "strg = [1,0,0]\n",
    "H_num = H.subs([(J1,strg[0]),(J2,strg[1]),(J3,strg[2])])\n",
    "band_high_sym(H_num, strg, 20)"
   ]
  },
  {
   "cell_type": "code",
   "execution_count": 90,
   "metadata": {},
   "outputs": [
    {
     "data": {
      "text/latex": [
       "$\\displaystyle \\left[\\begin{matrix}1.0 J_{2} \\cos{\\left(k_{1} \\right)} + 1.0 J_{2} & 2.0 J_{2} \\cos{\\left(\\frac{k_{1}}{2} \\right)} \\cos{\\left(0.866025403784439 k_{2} \\right)} & 0 & 0 & 0 & 0 & 0 & 0\\\\2.0 J_{2} \\cos{\\left(\\frac{k_{1}}{2} \\right)} \\cos{\\left(0.866025403784439 k_{2} \\right)} & 1.0 J_{2} \\cos{\\left(k_{1} \\right)} + 1.0 J_{2} & 0 & 0 & 0 & 0 & 0 & 0\\\\0 & 0 & 1.0 J_{2} \\cos{\\left(k_{1} \\right)} + 1.0 J_{2} & 2.0 J_{2} \\cos{\\left(\\frac{k_{1}}{2} \\right)} \\cos{\\left(0.866025403784439 k_{2} \\right)} & 0 & 0 & 0 & 0\\\\0 & 0 & 2.0 J_{2} \\cos{\\left(\\frac{k_{1}}{2} \\right)} \\cos{\\left(0.866025403784439 k_{2} \\right)} & 1.0 J_{2} \\cos{\\left(k_{1} \\right)} + 1.0 J_{2} & 0 & 0 & 0 & 0\\\\0 & 0 & 0 & 0 & 1.0 J_{2} \\cos{\\left(k_{1} \\right)} + 1.0 J_{2} & 2.0 J_{2} \\cos{\\left(\\frac{k_{1}}{2} \\right)} \\cos{\\left(0.866025403784439 k_{2} \\right)} & 0 & 0\\\\0 & 0 & 0 & 0 & 2.0 J_{2} \\cos{\\left(\\frac{k_{1}}{2} \\right)} \\cos{\\left(0.866025403784439 k_{2} \\right)} & 1.0 J_{2} \\cos{\\left(k_{1} \\right)} + 1.0 J_{2} & 0 & 0\\\\0 & 0 & 0 & 0 & 0 & 0 & 1.0 J_{2} \\cos{\\left(k_{1} \\right)} + 1.0 J_{2} & 2.0 J_{2} \\cos{\\left(\\frac{k_{1}}{2} \\right)} \\cos{\\left(0.866025403784439 k_{2} \\right)}\\\\0 & 0 & 0 & 0 & 0 & 0 & 2.0 J_{2} \\cos{\\left(\\frac{k_{1}}{2} \\right)} \\cos{\\left(0.866025403784439 k_{2} \\right)} & 1.0 J_{2} \\cos{\\left(k_{1} \\right)} + 1.0 J_{2}\\end{matrix}\\right]$"
      ],
      "text/plain": [
       "Matrix([\n",
       "[                   1.0*J2*cos(k1) + 1.0*J2, 2.0*J2*cos(k1/2)*cos(0.866025403784439*k2),                                          0,                                          0,                                          0,                                          0,                                          0,                                          0],\n",
       "[2.0*J2*cos(k1/2)*cos(0.866025403784439*k2),                    1.0*J2*cos(k1) + 1.0*J2,                                          0,                                          0,                                          0,                                          0,                                          0,                                          0],\n",
       "[                                         0,                                          0,                    1.0*J2*cos(k1) + 1.0*J2, 2.0*J2*cos(k1/2)*cos(0.866025403784439*k2),                                          0,                                          0,                                          0,                                          0],\n",
       "[                                         0,                                          0, 2.0*J2*cos(k1/2)*cos(0.866025403784439*k2),                    1.0*J2*cos(k1) + 1.0*J2,                                          0,                                          0,                                          0,                                          0],\n",
       "[                                         0,                                          0,                                          0,                                          0,                    1.0*J2*cos(k1) + 1.0*J2, 2.0*J2*cos(k1/2)*cos(0.866025403784439*k2),                                          0,                                          0],\n",
       "[                                         0,                                          0,                                          0,                                          0, 2.0*J2*cos(k1/2)*cos(0.866025403784439*k2),                    1.0*J2*cos(k1) + 1.0*J2,                                          0,                                          0],\n",
       "[                                         0,                                          0,                                          0,                                          0,                                          0,                                          0,                    1.0*J2*cos(k1) + 1.0*J2, 2.0*J2*cos(k1/2)*cos(0.866025403784439*k2)],\n",
       "[                                         0,                                          0,                                          0,                                          0,                                          0,                                          0, 2.0*J2*cos(k1/2)*cos(0.866025403784439*k2),                    1.0*J2*cos(k1) + 1.0*J2]])"
      ]
     },
     "execution_count": 90,
     "metadata": {},
     "output_type": "execute_result"
    }
   ],
   "source": [
    "H.subs([(J1,0),(J3,0)])"
   ]
  },
  {
   "cell_type": "code",
   "execution_count": 86,
   "metadata": {},
   "outputs": [
    {
     "name": "stdout",
     "output_type": "stream",
     "text": [
      "0.0 0\n",
      "0.3141592653589793 0\n",
      "0.6283185307179586 0\n",
      "0.9424777960769379 0\n",
      "1.2566370614359172 0\n",
      "1.5707963267948966 0\n",
      "1.8849555921538759 0\n",
      "2.199114857512855 0\n",
      "2.5132741228718345 0\n",
      "2.827433388230814 0\n",
      "3.141592653589793 0.0\n",
      "3.141592653589793 -0.3141592653589793\n",
      "3.141592653589793 -0.6283185307179586\n",
      "3.141592653589793 -0.9424777960769379\n",
      "3.141592653589793 -1.2566370614359172\n",
      "3.141592653589793 -1.5707963267948966\n",
      "3.141592653589793 1.8137993642342178\n",
      "2.827433388230814 1.8137993642342178\n",
      "2.5132741228718345 1.8137993642342178\n",
      "2.199114857512855 1.8137993642342178\n",
      "1.8849555921538759 1.8137993642342178\n",
      "1.5707963267948966 1.8137993642342178\n",
      "1.2566370614359172 1.8137993642342178\n",
      "0.9424777960769379 1.8137993642342178\n",
      "0.6283185307179586 1.8137993642342178\n",
      "0.3141592653589793 1.8137993642342178\n",
      "0 1.8137993642342178\n",
      "0 1.4996400988752385\n",
      "0 1.1854808335162592\n",
      "0 0.8713215681572799\n",
      "0 0.5571623027983006\n",
      "0 0.24300303743932128\n",
      "0.0 0.0\n",
      "0.27206990463513264 0.15707963267948966\n",
      "0.5441398092702653 0.3141592653589793\n",
      "0.816209713905398 0.47123889803846897\n",
      "1.0882796185405306 0.6283185307179586\n",
      "1.3603495231756633 0.7853981633974483\n",
      "1.632419427810796 0.9424777960769379\n",
      "1.9044893324459287 1.0995574287564276\n",
      "2.176559237081061 1.2566370614359172\n",
      "2.448629141716194 1.413716694115407\n",
      "2.7206990463513265 1.5707963267948966\n",
      "2.9927689509864592 1.7278759594743862\n",
      "[[ 1.65575317e-12-1.65560718e-12j  1.65575317e-12-1.65560718e-12j\n",
      "   1.65546147e-12+1.65560718e-12j  1.65546147e-12+1.65560718e-12j\n",
      "  -1.65546147e-12+1.65560718e-12j -1.65546147e-12+1.65560718e-12j\n",
      "  -1.65575317e-12-1.65560718e-12j -1.65575317e-12-1.65560718e-12j]\n",
      " [ 3.33066907e-16+3.09016994e-01j  3.33066907e-16+3.09016994e-01j\n",
      "   9.49527970e-17-3.09016994e-01j  9.49527970e-17-3.09016994e-01j\n",
      "  -9.49527970e-17-3.09016994e-01j -9.49527970e-17-3.09016994e-01j\n",
      "  -3.33066907e-16+3.09016994e-01j -3.33066907e-16+3.09016994e-01j]\n",
      " [ 2.22044605e-16+5.87785252e-01j  2.22044605e-16+5.87785252e-01j\n",
      "   8.50870145e-17-5.87785252e-01j  8.50870145e-17-5.87785252e-01j\n",
      "  -8.50870145e-17-5.87785252e-01j -8.50870145e-17-5.87785252e-01j\n",
      "  -2.22044605e-16+5.87785252e-01j -2.22044605e-16+5.87785252e-01j]\n",
      " [ 1.90246715e-16-8.09016994e-01j  1.90246715e-16-8.09016994e-01j\n",
      "   0.00000000e+00+8.09016994e-01j  0.00000000e+00+8.09016994e-01j\n",
      "   0.00000000e+00+8.09016994e-01j  0.00000000e+00+8.09016994e-01j\n",
      "  -1.90246715e-16-8.09016994e-01j -1.90246715e-16-8.09016994e-01j]\n",
      " [ 6.66133815e-16+9.51056516e-01j  6.66133815e-16+9.51056516e-01j\n",
      "   3.93547426e-17-9.51056516e-01j  3.93547426e-17-9.51056516e-01j\n",
      "  -3.93547426e-17-9.51056516e-01j -3.93547426e-17-9.51056516e-01j\n",
      "  -6.66133815e-16+9.51056516e-01j -6.66133815e-16+9.51056516e-01j]\n",
      " [ 2.22044605e-16+1.00000000e+00j  2.22044605e-16+1.00000000e+00j\n",
      "   5.65172401e-17-1.00000000e+00j  5.65172401e-17-1.00000000e+00j\n",
      "  -5.65172401e-17-1.00000000e+00j -5.65172401e-17-1.00000000e+00j\n",
      "  -2.22044605e-16+1.00000000e+00j -2.22044605e-16+1.00000000e+00j]\n",
      " [ 2.22044605e-16+9.51056516e-01j  2.22044605e-16+9.51056516e-01j\n",
      "   2.77555756e-17-9.51056516e-01j  2.77555756e-17-9.51056516e-01j\n",
      "  -2.77555756e-17-9.51056516e-01j -2.77555756e-17-9.51056516e-01j\n",
      "  -2.22044605e-16+9.51056516e-01j -2.22044605e-16+9.51056516e-01j]\n",
      " [ 1.11022302e-16+8.09016994e-01j  1.11022302e-16+8.09016994e-01j\n",
      "   1.38777878e-17-8.09016994e-01j  1.38777878e-17-8.09016994e-01j\n",
      "  -1.38777878e-17-8.09016994e-01j -1.38777878e-17-8.09016994e-01j\n",
      "  -1.11022302e-16+8.09016994e-01j -1.11022302e-16+8.09016994e-01j]\n",
      " [ 5.55111512e-17+5.87785252e-01j  5.55111512e-17+5.87785252e-01j\n",
      "   0.00000000e+00-5.87785252e-01j  0.00000000e+00-5.87785252e-01j\n",
      "   0.00000000e+00-5.87785252e-01j  0.00000000e+00-5.87785252e-01j\n",
      "  -5.55111512e-17+5.87785252e-01j -5.55111512e-17+5.87785252e-01j]\n",
      " [ 2.77555756e-17+3.09016994e-01j  2.77555756e-17+3.09016994e-01j\n",
      "   1.38777878e-17-3.09016994e-01j  1.38777878e-17-3.09016994e-01j\n",
      "  -1.38777878e-17-3.09016994e-01j -1.38777878e-17-3.09016994e-01j\n",
      "  -2.77555756e-17+3.09016994e-01j -2.77555756e-17+3.09016994e-01j]\n",
      " [ 0.00000000e+00+1.22464680e-16j  0.00000000e+00+1.22464680e-16j\n",
      "   0.00000000e+00+1.22464680e-16j  0.00000000e+00+1.22464680e-16j\n",
      "  -6.16297582e-33-1.22464680e-16j -6.16297582e-33-1.22464680e-16j\n",
      "  -6.16297582e-33-1.22464680e-16j -6.16297582e-33-1.22464680e-16j]\n",
      " [ 0.00000000e+00-1.17960028e-16j  0.00000000e+00+1.17960028e-16j\n",
      "   0.00000000e+00-1.17960028e-16j  0.00000000e+00+1.17960028e-16j\n",
      "   0.00000000e+00-1.17960028e-16j  0.00000000e+00+1.17960028e-16j\n",
      "   0.00000000e+00-1.17960028e-16j  0.00000000e+00+1.17960028e-16j]\n",
      " [ 6.16297582e-33-1.04777463e-16j  6.16297582e-33-1.04777463e-16j\n",
      "   6.16297582e-33-1.04777463e-16j  6.16297582e-33-1.04777463e-16j\n",
      "   0.00000000e+00+1.04777463e-16j  0.00000000e+00+1.04777463e-16j\n",
      "   0.00000000e+00+1.04777463e-16j  0.00000000e+00+1.04777463e-16j]\n",
      " [ 0.00000000e+00+8.38867813e-17j  0.00000000e+00+8.38867813e-17j\n",
      "   0.00000000e+00+8.38867813e-17j  0.00000000e+00+8.38867813e-17j\n",
      "  -3.08148791e-33-8.38867813e-17j -3.08148791e-33-8.38867813e-17j\n",
      "  -3.08148791e-33-8.38867813e-17j -3.08148791e-33-8.38867813e-17j]\n",
      " [ 0.00000000e+00+5.68248384e-17j  0.00000000e+00+5.68248384e-17j\n",
      "   0.00000000e+00+5.68248384e-17j  0.00000000e+00+5.68248384e-17j\n",
      "  -1.54074396e-33-5.68248384e-17j -1.54074396e-33-5.68248384e-17j\n",
      "  -1.54074396e-33-5.68248384e-17j -1.54074396e-33-5.68248384e-17j]\n",
      " [ 0.00000000e+00+2.55824879e-17j  0.00000000e+00+2.55824879e-17j\n",
      "   0.00000000e+00+2.55824879e-17j  0.00000000e+00+2.55824879e-17j\n",
      "  -7.70371978e-34-2.55824879e-17j -7.70371978e-34-2.55824879e-17j\n",
      "  -7.70371978e-34-2.55824879e-17j -7.70371978e-34-2.55824879e-17j]\n",
      " [ 0.00000000e+00-7.49879891e-33j  0.00000000e+00+7.49879891e-33j\n",
      "   0.00000000e+00-7.49879891e-33j  0.00000000e+00+7.49879891e-33j\n",
      "   0.00000000e+00-7.49879891e-33j  0.00000000e+00+7.49879891e-33j\n",
      "   0.00000000e+00-7.49879891e-33j  0.00000000e+00+7.49879891e-33j]\n",
      " [ 4.89434837e-02+0.00000000e+00j  4.89434837e-02+0.00000000e+00j\n",
      "   4.89434837e-02+0.00000000e+00j  4.89434837e-02+0.00000000e+00j\n",
      "  -4.89434837e-02+0.00000000e+00j -4.89434837e-02+0.00000000e+00j\n",
      "  -4.89434837e-02+0.00000000e+00j -4.89434837e-02+0.00000000e+00j]\n",
      " [ 1.90983006e-01+0.00000000e+00j  1.90983006e-01+0.00000000e+00j\n",
      "   1.90983006e-01+0.00000000e+00j  1.90983006e-01+0.00000000e+00j\n",
      "  -1.90983006e-01+0.00000000e+00j -1.90983006e-01+0.00000000e+00j\n",
      "  -1.90983006e-01+0.00000000e+00j -1.90983006e-01+0.00000000e+00j]\n",
      " [ 4.12214748e-01+0.00000000e+00j  4.12214748e-01+0.00000000e+00j\n",
      "   4.12214748e-01+0.00000000e+00j  4.12214748e-01+0.00000000e+00j\n",
      "  -4.12214748e-01+0.00000000e+00j -4.12214748e-01+0.00000000e+00j\n",
      "  -4.12214748e-01+0.00000000e+00j -4.12214748e-01+0.00000000e+00j]\n",
      " [ 6.90983006e-01+0.00000000e+00j  6.90983006e-01+0.00000000e+00j\n",
      "   6.90983006e-01+0.00000000e+00j  6.90983006e-01+0.00000000e+00j\n",
      "  -6.90983006e-01+0.00000000e+00j -6.90983006e-01+0.00000000e+00j\n",
      "  -6.90983006e-01+0.00000000e+00j -6.90983006e-01+0.00000000e+00j]\n",
      " [ 1.00000000e+00+0.00000000e+00j  1.00000000e+00+0.00000000e+00j\n",
      "   1.00000000e+00+0.00000000e+00j  1.00000000e+00+0.00000000e+00j\n",
      "  -1.00000000e+00+0.00000000e+00j -1.00000000e+00+0.00000000e+00j\n",
      "  -1.00000000e+00+0.00000000e+00j -1.00000000e+00+0.00000000e+00j]\n",
      " [ 1.30901699e+00+0.00000000e+00j  1.30901699e+00+0.00000000e+00j\n",
      "   1.30901699e+00+0.00000000e+00j  1.30901699e+00+0.00000000e+00j\n",
      "  -1.30901699e+00+0.00000000e+00j -1.30901699e+00+0.00000000e+00j\n",
      "  -1.30901699e+00+0.00000000e+00j -1.30901699e+00+0.00000000e+00j]\n",
      " [ 1.58778525e+00+0.00000000e+00j  1.58778525e+00+0.00000000e+00j\n",
      "   1.58778525e+00+0.00000000e+00j  1.58778525e+00+0.00000000e+00j\n",
      "  -1.58778525e+00+0.00000000e+00j -1.58778525e+00+0.00000000e+00j\n",
      "  -1.58778525e+00+0.00000000e+00j -1.58778525e+00+0.00000000e+00j]\n",
      " [ 1.80901699e+00+0.00000000e+00j  1.80901699e+00+0.00000000e+00j\n",
      "   1.80901699e+00+0.00000000e+00j  1.80901699e+00+0.00000000e+00j\n",
      "  -1.80901699e+00+0.00000000e+00j -1.80901699e+00+0.00000000e+00j\n",
      "  -1.80901699e+00+0.00000000e+00j -1.80901699e+00+0.00000000e+00j]\n",
      " [ 1.95105652e+00+0.00000000e+00j  1.95105652e+00+0.00000000e+00j\n",
      "   1.95105652e+00+0.00000000e+00j  1.95105652e+00+0.00000000e+00j\n",
      "  -1.95105652e+00+0.00000000e+00j -1.95105652e+00+0.00000000e+00j\n",
      "  -1.95105652e+00+0.00000000e+00j -1.95105652e+00+0.00000000e+00j]\n",
      " [ 2.00000000e+00+0.00000000e+00j  2.00000000e+00+0.00000000e+00j\n",
      "   2.00000000e+00+0.00000000e+00j  2.00000000e+00+0.00000000e+00j\n",
      "  -2.00000000e+00+0.00000000e+00j -2.00000000e+00+0.00000000e+00j\n",
      "  -2.00000000e+00+0.00000000e+00j -2.00000000e+00+0.00000000e+00j]\n",
      " [ 1.92643345e+00+0.00000000e+00j  1.92643345e+00+0.00000000e+00j\n",
      "   1.92643345e+00+0.00000000e+00j  1.92643345e+00+0.00000000e+00j\n",
      "  -1.92643345e+00+0.00000000e+00j -1.92643345e+00+0.00000000e+00j\n",
      "  -1.92643345e+00+0.00000000e+00j -1.92643345e+00+0.00000000e+00j]\n",
      " [ 1.71114583e+00+0.00000000e+00j  1.71114583e+00+0.00000000e+00j\n",
      "   1.71114583e+00+0.00000000e+00j  1.71114583e+00+0.00000000e+00j\n",
      "  -1.71114583e+00+0.00000000e+00j -1.71114583e+00+0.00000000e+00j\n",
      "  -1.71114583e+00+0.00000000e+00j -1.71114583e+00+0.00000000e+00j]\n",
      " [ 1.36997510e+00+0.00000000e+00j  1.36997510e+00+0.00000000e+00j\n",
      "   1.36997510e+00+0.00000000e+00j  1.36997510e+00+0.00000000e+00j\n",
      "  -1.36997510e+00+0.00000000e+00j -1.36997510e+00+0.00000000e+00j\n",
      "  -1.36997510e+00+0.00000000e+00j -1.36997510e+00+0.00000000e+00j]\n",
      " [ 9.28020036e-01+0.00000000e+00j  9.28020036e-01+0.00000000e+00j\n",
      "   9.28020036e-01+0.00000000e+00j  9.28020036e-01+0.00000000e+00j\n",
      "  -9.28020036e-01+0.00000000e+00j -9.28020036e-01+0.00000000e+00j\n",
      "  -9.28020036e-01+0.00000000e+00j -9.28020036e-01+0.00000000e+00j]\n",
      " [ 4.17793734e-01+0.00000000e+00j  4.17793734e-01+0.00000000e+00j\n",
      "   4.17793734e-01+0.00000000e+00j  4.17793734e-01+0.00000000e+00j\n",
      "  -4.17793734e-01+0.00000000e+00j -4.17793734e-01+0.00000000e+00j\n",
      "  -4.17793734e-01+0.00000000e+00j -4.17793734e-01+0.00000000e+00j]\n",
      " [ 1.65575317e-12-1.65560718e-12j  1.65575317e-12-1.65560718e-12j\n",
      "   1.65546147e-12+1.65560718e-12j  1.65546147e-12+1.65560718e-12j\n",
      "  -1.65546147e-12+1.65560718e-12j -1.65546147e-12+1.65560718e-12j\n",
      "  -1.65575317e-12-1.65560718e-12j -1.65575317e-12-1.65560718e-12j]\n",
      " [ 2.48291435e-08+0.00000000e+00j  2.48291435e-08+0.00000000e+00j\n",
      "   2.48291429e-08+0.00000000e+00j  2.48291429e-08+0.00000000e+00j\n",
      "  -2.48291429e-08+0.00000000e+00j -2.48291429e-08+0.00000000e+00j\n",
      "  -2.48291435e-08+0.00000000e+00j -2.48291435e-08+0.00000000e+00j]\n",
      " [ 2.41388527e-08+0.00000000e+00j  2.41388527e-08+0.00000000e+00j\n",
      "   2.41388527e-08+0.00000000e+00j  2.41388527e-08+0.00000000e+00j\n",
      "  -2.41388527e-08+0.00000000e+00j -2.41388527e-08+0.00000000e+00j\n",
      "  -2.41388527e-08+0.00000000e+00j -2.41388527e-08+0.00000000e+00j]\n",
      " [ 1.58934422e-12+0.00000000e+00j  1.58934422e-12+0.00000000e+00j\n",
      "   1.58913888e-12+0.00000000e+00j  1.58913888e-12+0.00000000e+00j\n",
      "  -1.58913888e-12+0.00000000e+00j -1.58913888e-12+0.00000000e+00j\n",
      "  -1.58934422e-12+0.00000000e+00j -1.58934422e-12+0.00000000e+00j]\n",
      " [ 4.44089210e-16+0.00000000e+00j  4.44089210e-16+0.00000000e+00j\n",
      "   0.00000000e+00+0.00000000e+00j  0.00000000e+00+0.00000000e+00j\n",
      "   0.00000000e+00+0.00000000e+00j  0.00000000e+00+0.00000000e+00j\n",
      "  -4.44089210e-16+0.00000000e+00j -4.44089210e-16+0.00000000e+00j]\n",
      " [ 6.66133815e-16+0.00000000e+00j  6.66133815e-16+0.00000000e+00j\n",
      "   0.00000000e+00+0.00000000e+00j  0.00000000e+00+0.00000000e+00j\n",
      "   0.00000000e+00+0.00000000e+00j  0.00000000e+00+0.00000000e+00j\n",
      "  -6.66133815e-16+0.00000000e+00j -6.66133815e-16+0.00000000e+00j]\n",
      " [ 1.71662443e-08+0.00000000e+00j  1.71662443e-08+0.00000000e+00j\n",
      "   1.71662442e-08+0.00000000e+00j  1.71662442e-08+0.00000000e+00j\n",
      "  -1.71662442e-08+0.00000000e+00j -1.71662442e-08+0.00000000e+00j\n",
      "  -1.71662443e-08+0.00000000e+00j -1.71662443e-08+0.00000000e+00j]\n",
      " [ 2.22044605e-16+0.00000000e+00j  2.22044605e-16+0.00000000e+00j\n",
      "   0.00000000e+00+0.00000000e+00j  0.00000000e+00+0.00000000e+00j\n",
      "   0.00000000e+00+0.00000000e+00j  0.00000000e+00+0.00000000e+00j\n",
      "  -2.22044605e-16+0.00000000e+00j -2.22044605e-16+0.00000000e+00j]\n",
      " [ 1.11022302e-16+0.00000000e+00j  1.11022302e-16+0.00000000e+00j\n",
      "   0.00000000e+00+0.00000000e+00j  0.00000000e+00+0.00000000e+00j\n",
      "   0.00000000e+00+0.00000000e+00j  0.00000000e+00+0.00000000e+00j\n",
      "  -1.11022302e-16+0.00000000e+00j -1.11022302e-16+0.00000000e+00j]\n",
      " [ 3.00887032e-09+3.75738109e-17j  3.00887032e-09+3.75738109e-17j\n",
      "   3.00887029e-09-3.75738100e-17j  3.00887029e-09-3.75738100e-17j\n",
      "  -3.00887029e-09-3.75738100e-17j -3.00887029e-09-3.75738100e-17j\n",
      "  -3.00887032e-09+3.75738109e-17j -3.00887032e-09+3.75738109e-17j]\n",
      " [ 6.89457897e-18-2.61754731e-09j  6.89457897e-18-2.61754731e-09j\n",
      "   6.81058661e-18+2.61754731e-09j  6.81058661e-18+2.61754731e-09j\n",
      "  -6.81058661e-18+2.61754731e-09j -6.81058661e-18+2.61754731e-09j\n",
      "  -6.89457897e-18-2.61754731e-09j -6.89457897e-18-2.61754731e-09j]\n",
      " [ 1.06228008e-18+2.85226253e-10j  1.06228008e-18+2.85226253e-10j\n",
      "   3.74426912e-19-2.85226253e-10j  3.74426912e-19-2.85226253e-10j\n",
      "  -3.74426912e-19-2.85226253e-10j -3.74426912e-19-2.85226253e-10j\n",
      "  -1.06228008e-18+2.85226253e-10j -1.06228008e-18+2.85226253e-10j]]\n",
      "2.0 -2.0\n"
     ]
    },
    {
     "data": {
      "image/png": "[encoded data removed]",
      "text/plain": [
       "<Figure size 432x288 with 1 Axes>"
      ]
     },
     "metadata": {},
     "output_type": "display_data"
    }
   ],
   "source": [
    "strg = [0,1,0]\n",
    "H_num = H.subs([(J1,strg[0]),(J2,strg[1]),(J3,strg[2])])\n",
    "band_high_sym(H_num, strg, 20)"
   ]
  },
  {
   "cell_type": "code",
   "execution_count": 87,
   "metadata": {},
   "outputs": [
    {
     "name": "stdout",
     "output_type": "stream",
     "text": [
      "0.0 0\n",
      "0.3141592653589793 0\n",
      "0.6283185307179586 0\n",
      "0.9424777960769379 0\n",
      "1.2566370614359172 0\n",
      "1.5707963267948966 0\n",
      "1.8849555921538759 0\n",
      "2.199114857512855 0\n",
      "2.5132741228718345 0\n",
      "2.827433388230814 0\n",
      "3.141592653589793 0.0\n",
      "3.141592653589793 -0.3141592653589793\n",
      "3.141592653589793 -0.6283185307179586\n",
      "3.141592653589793 -0.9424777960769379\n",
      "3.141592653589793 -1.2566370614359172\n",
      "3.141592653589793 -1.5707963267948966\n",
      "3.141592653589793 1.8137993642342178\n",
      "2.827433388230814 1.8137993642342178\n",
      "2.5132741228718345 1.8137993642342178\n",
      "2.199114857512855 1.8137993642342178\n",
      "1.8849555921538759 1.8137993642342178\n",
      "1.5707963267948966 1.8137993642342178\n",
      "1.2566370614359172 1.8137993642342178\n",
      "0.9424777960769379 1.8137993642342178\n",
      "0.6283185307179586 1.8137993642342178\n",
      "0.3141592653589793 1.8137993642342178\n",
      "0 1.8137993642342178\n",
      "0 1.4996400988752385\n",
      "0 1.1854808335162592\n",
      "0 0.8713215681572799\n",
      "0 0.5571623027983006\n",
      "0 0.24300303743932128\n",
      "0.0 0.0\n",
      "0.27206990463513264 0.15707963267948966\n",
      "0.5441398092702653 0.3141592653589793\n",
      "0.816209713905398 0.47123889803846897\n",
      "1.0882796185405306 0.6283185307179586\n",
      "1.3603495231756633 0.7853981633974483\n",
      "1.632419427810796 0.9424777960769379\n",
      "1.9044893324459287 1.0995574287564276\n",
      "2.176559237081061 1.2566370614359172\n",
      "2.448629141716194 1.413716694115407\n",
      "2.7206990463513265 1.5707963267948966\n",
      "2.9927689509864592 1.7278759594743862\n",
      "[[ 1.17316668e-12+0.00000000e+00j  1.17316668e-12+0.00000000e+00j\n",
      "   1.17278415e-12+0.00000000e+00j  1.17278415e-12+0.00000000e+00j\n",
      "  -1.17278415e-12+0.00000000e+00j -1.17278415e-12+0.00000000e+00j\n",
      "  -1.17316668e-12+0.00000000e+00j -1.17316668e-12+0.00000000e+00j]\n",
      " [ 3.80046032e-01+0.00000000e+00j  3.80046032e-01+0.00000000e+00j\n",
      "   3.80046032e-01+0.00000000e+00j  3.80046032e-01+0.00000000e+00j\n",
      "  -3.80046032e-01+0.00000000e+00j -3.80046032e-01+0.00000000e+00j\n",
      "  -3.80046032e-01+0.00000000e+00j -3.80046032e-01+0.00000000e+00j]\n",
      " [ 7.32444202e-01+0.00000000e+00j  7.32444202e-01+0.00000000e+00j\n",
      "   7.32444202e-01+0.00000000e+00j  7.32444202e-01+0.00000000e+00j\n",
      "  -7.32444202e-01+0.00000000e+00j -7.32444202e-01+0.00000000e+00j\n",
      "  -7.32444202e-01+0.00000000e+00j -7.32444202e-01+0.00000000e+00j]\n",
      " [ 1.03282295e+00+0.00000000e+00j  1.03282295e+00+0.00000000e+00j\n",
      "   1.03282295e+00+0.00000000e+00j  1.03282295e+00+0.00000000e+00j\n",
      "  -1.03282295e+00+0.00000000e+00j -1.03282295e+00+0.00000000e+00j\n",
      "  -1.03282295e+00+0.00000000e+00j -1.03282295e+00+0.00000000e+00j]\n",
      " [ 1.26312767e+00+0.00000000e+00j  1.26312767e+00+0.00000000e+00j\n",
      "   1.26312767e+00+0.00000000e+00j  1.26312767e+00+0.00000000e+00j\n",
      "  -1.26312767e+00+0.00000000e+00j -1.26312767e+00+0.00000000e+00j\n",
      "  -1.26312767e+00+0.00000000e+00j -1.26312767e+00+0.00000000e+00j]\n",
      " [ 1.41421356e+00+0.00000000e+00j  1.41421356e+00+0.00000000e+00j\n",
      "   1.41421356e+00+0.00000000e+00j  1.41421356e+00+0.00000000e+00j\n",
      "  -1.41421356e+00+0.00000000e+00j -1.41421356e+00+0.00000000e+00j\n",
      "  -1.41421356e+00+0.00000000e+00j -1.41421356e+00+0.00000000e+00j]\n",
      " [ 1.48779215e+00+0.00000000e+00j  1.48779215e+00+0.00000000e+00j\n",
      "   1.48779215e+00+0.00000000e+00j  1.48779215e+00+0.00000000e+00j\n",
      "  -1.48779215e+00+0.00000000e+00j -1.48779215e+00+0.00000000e+00j\n",
      "  -1.48779215e+00+0.00000000e+00j -1.48779215e+00+0.00000000e+00j]\n",
      " [ 1.49742905e+00+0.00000000e+00j  1.49742905e+00+0.00000000e+00j\n",
      "   1.49742905e+00+0.00000000e+00j  1.49742905e+00+0.00000000e+00j\n",
      "  -1.49742905e+00+0.00000000e+00j -1.49742905e+00+0.00000000e+00j\n",
      "  -1.49742905e+00+0.00000000e+00j -1.49742905e+00+0.00000000e+00j]\n",
      " [ 1.46782441e+00+0.00000000e+00j  1.46782441e+00+0.00000000e+00j\n",
      "   1.46782441e+00+0.00000000e+00j  1.46782441e+00+0.00000000e+00j\n",
      "  -1.46782441e+00+0.00000000e+00j -1.46782441e+00+0.00000000e+00j\n",
      "  -1.46782441e+00+0.00000000e+00j -1.46782441e+00+0.00000000e+00j]\n",
      " [ 1.43057611e+00+0.00000000e+00j  1.43057611e+00+0.00000000e+00j\n",
      "   1.43057611e+00+0.00000000e+00j  1.43057611e+00+0.00000000e+00j\n",
      "  -1.43057611e+00+0.00000000e+00j -1.43057611e+00+0.00000000e+00j\n",
      "  -1.43057611e+00+0.00000000e+00j -1.43057611e+00+0.00000000e+00j]\n",
      " [ 1.41421356e+00+0.00000000e+00j  1.41421356e+00+0.00000000e+00j\n",
      "   1.41421356e+00+0.00000000e+00j  1.41421356e+00+0.00000000e+00j\n",
      "  -1.41421356e+00+0.00000000e+00j -1.41421356e+00+0.00000000e+00j\n",
      "  -1.41421356e+00+0.00000000e+00j -1.41421356e+00+0.00000000e+00j]\n",
      " [ 1.36219415e+00+8.65495575e-17j  1.36219415e+00-4.42224415e-19j\n",
      "   1.36219415e+00-2.69885297e-17j  1.36219415e+00-8.22636798e-17j\n",
      "  -1.36219415e+00+8.22636798e-17j -1.36219415e+00+2.46517350e-16j\n",
      "  -1.36219415e+00+4.42224415e-19j -1.36219415e+00-8.40337728e-17j]\n",
      " [ 1.20996282e+00-1.64740467e-16j  1.20996282e+00-3.86442934e-16j\n",
      "   1.20996282e+00+4.30114420e-18j  1.20996282e+00-1.12844246e-17j\n",
      "  -1.20996282e+00+1.12844246e-17j -1.20996282e+00-4.30114420e-18j\n",
      "  -1.20996282e+00-1.68668578e-16j -1.20996282e+00-3.90371045e-16j]\n",
      " [ 9.68718686e-01+1.30548109e-16j  9.68718686e-01-8.46997844e-18j\n",
      "   9.68718686e-01+1.88429686e-17j  9.68718686e-01+1.21224665e-16j\n",
      "  -9.68718686e-01-1.88429686e-17j -9.68718686e-01+8.46997844e-18j\n",
      "  -9.68718686e-01-3.52592713e-16j -9.68718686e-01+1.00819940e-16j]\n",
      " [ 6.56209261e-01-2.99905847e-16j  6.56209261e-01-3.91518360e-16j\n",
      "   6.56209261e-01+2.11122472e-16j  6.56209261e-01+1.12149395e-16j\n",
      "  -6.56209261e-01-1.12149395e-16j -6.56209261e-01+7.78612421e-17j\n",
      "  -6.56209261e-01-2.11122472e-16j -6.56209261e-01+3.91518360e-16j]\n",
      " [ 2.95424782e-01+4.36919815e-16j  2.95424782e-01-1.22888544e-16j\n",
      "   2.95424782e-01-7.00663899e-17j  2.95424782e-01+4.69663197e-17j\n",
      "  -2.95424782e-01-2.69010925e-16j -2.95424782e-01+7.00663899e-17j\n",
      "  -2.95424782e-01+1.22888544e-16j -2.95424782e-01-2.14875210e-16j]\n",
      " [ 6.45239226e-09+6.45239189e-09j  6.45239218e-09+6.45239189e-09j\n",
      "   1.17316668e-12+0.00000000e+00j  1.17278415e-12+0.00000000e+00j\n",
      "  -1.17278415e-12+0.00000000e+00j -1.17316668e-12+0.00000000e+00j\n",
      "  -6.45239218e-09-6.45239189e-09j -6.45239226e-09-6.45239189e-09j]\n",
      " [ 3.80046032e-01-5.49215152e-16j  3.80046032e-01-8.27349175e-17j\n",
      "   3.80046032e-01-3.27170547e-16j  3.80046032e-01-8.27349175e-17j\n",
      "  -3.80046032e-01+8.27349175e-17j -3.80046032e-01+5.49215152e-16j\n",
      "  -3.80046032e-01+8.27349175e-17j -3.80046032e-01+3.27170547e-16j]\n",
      " [ 7.32444202e-01-3.38389047e-16j  7.32444202e-01-1.16344442e-16j\n",
      "   7.32444202e-01-1.51722152e-17j  7.32444202e-01-1.51722152e-17j\n",
      "  -7.32444202e-01+1.51722152e-17j -7.32444202e-01+1.51722152e-17j\n",
      "  -7.32444202e-01+3.38389047e-16j -7.32444202e-01+1.16344442e-16j]\n",
      " [ 1.03282295e+00+0.00000000e+00j  1.03282295e+00-5.22992999e-18j\n",
      "   1.03282295e+00-5.22992999e-18j  1.03282295e+00+0.00000000e+00j\n",
      "  -1.03282295e+00+0.00000000e+00j -1.03282295e+00+5.22992999e-18j\n",
      "  -1.03282295e+00+5.22992999e-18j -1.03282295e+00+0.00000000e+00j]\n",
      " [ 1.26312767e+00+1.20575619e-17j  1.26312767e+00-1.76812408e-16j\n",
      "   1.26312767e+00-1.01929952e-16j  1.26312767e+00+4.52574610e-17j\n",
      "  -1.26312767e+00-4.52574610e-17j -1.26312767e+00-1.56254500e-16j\n",
      "  -1.26312767e+00-1.20114653e-16j -1.26312767e+00-1.20575619e-17j]\n",
      " [ 1.41421356e+00+6.57784962e-17j  1.41421356e+00+6.48218738e-17j\n",
      "   1.41421356e+00-1.57792421e-18j  1.41421356e+00+1.34955257e-16j\n",
      "  -1.41421356e+00-6.57784962e-17j -1.41421356e+00+1.57792421e-18j\n",
      "  -1.41421356e+00+8.70893480e-17j -1.41421356e+00-6.48218738e-17j]\n",
      " [ 1.48779215e+00-2.29771578e-17j  1.48779215e+00-1.42906439e-16j\n",
      "   1.48779215e+00-1.31946951e-19j  1.48779215e+00-4.81716590e-17j\n",
      "  -1.48779215e+00+1.70662015e-16j -1.48779215e+00+1.31946951e-19j\n",
      "  -1.48779215e+00+1.31438386e-16j -1.48779215e+00+2.29771578e-17j]\n",
      " [ 1.49742905e+00+2.96708265e-17j  1.49742905e+00+1.81630339e-17j\n",
      "   1.49742905e+00-1.07042809e-17j  1.49742905e+00-3.87914758e-20j\n",
      "  -1.49742905e+00-1.57930387e-17j -1.49742905e+00+3.87914758e-20j\n",
      "  -1.49742905e+00-3.17350693e-18j -1.49742905e+00-1.81630339e-17j]\n",
      " [ 1.46782441e+00+3.32647432e-17j  1.46782441e+00-2.74497233e-19j\n",
      "   1.46782441e+00-5.52516899e-17j  1.46782441e+00+2.32939048e-18j\n",
      "  -1.46782441e+00-6.10203188e-17j -1.46782441e+00+5.52516899e-17j\n",
      "  -1.46782441e+00-1.96618420e-16j -1.46782441e+00+2.74497233e-19j]\n",
      " [ 1.43057611e+00+9.88963979e-19j  1.43057611e+00+2.36014991e-16j\n",
      "   1.43057611e+00-5.96995313e-17j  1.43057611e+00+1.67034442e-16j\n",
      "  -1.43057611e+00-6.94815373e-17j -1.43057611e+00+5.96995313e-17j\n",
      "  -1.43057611e+00-1.11523291e-16j -1.43057611e+00-9.88963979e-19j]\n",
      " [ 1.41421356e+00+3.62435750e-16j  1.41421356e+00-1.53560935e-18j\n",
      "   1.41421356e+00-6.22241047e-17j  1.41421356e+00+3.59667760e-16j\n",
      "  -1.41421356e+00-8.48799935e-17j -1.41421356e+00+6.22241047e-17j\n",
      "  -1.41421356e+00+1.53560935e-18j -1.41421356e+00-8.21120043e-17j]\n",
      " [ 1.36219415e+00+5.28086266e-18j  1.36219415e+00+1.37982002e-17j\n",
      "   1.36219415e+00+6.72018116e-17j  1.36219415e+00+1.78590454e-17j\n",
      "  -1.36219415e+00+1.24979678e-16j -1.36219415e+00-6.72018116e-17j\n",
      "  -1.36219415e+00-1.56636923e-16j -1.36219415e+00-5.28086266e-18j]\n",
      " [ 1.20996282e+00-1.14610711e-16j  1.20996282e+00-6.41982097e-18j\n",
      "   1.20996282e+00-4.95871415e-17j  1.20996282e+00-2.56536723e-17j\n",
      "  -1.20996282e+00+2.56536723e-17j -1.20996282e+00+6.41982097e-18j\n",
      "  -1.20996282e+00-5.19227428e-17j -1.20996282e+00-3.36795853e-17j]\n",
      " [ 9.68718686e-01+2.04814293e-18j  9.68718686e-01+1.13724685e-17j\n",
      "   9.68718686e-01+4.42321233e-18j  9.68718686e-01+1.63585038e-18j\n",
      "  -9.68718686e-01-1.13724685e-17j -9.68718686e-01+3.30586191e-17j\n",
      "  -9.68718686e-01-4.42321233e-18j -9.68718686e-01-2.04814293e-18j]\n",
      " [ 6.56209261e-01+1.55031583e-18j  6.56209261e-01+2.21808068e-18j\n",
      "   6.56209261e-01+5.06958222e-19j  6.56209261e-01-4.83064957e-18j\n",
      "  -6.56209261e-01+6.56537305e-18j -6.56209261e-01-5.06958222e-19j\n",
      "  -6.56209261e-01-2.21808068e-18j -6.56209261e-01+1.91913112e-18j]\n",
      " [ 2.95424782e-01-1.58990808e-19j  2.95424782e-01-1.74540693e-18j\n",
      "   2.95424782e-01-9.96327482e-20j  2.95424782e-01+2.92012124e-18j\n",
      "  -2.95424782e-01+9.96327482e-20j -2.95424782e-01-3.35380211e-18j\n",
      "  -2.95424782e-01+1.09488562e-18j -2.95424782e-01+1.58990808e-19j]\n",
      " [ 1.17316668e-12+0.00000000e+00j  1.17316668e-12+0.00000000e+00j\n",
      "   1.17278415e-12+0.00000000e+00j  1.17278415e-12+0.00000000e+00j\n",
      "  -1.17278415e-12+0.00000000e+00j -1.17278415e-12+0.00000000e+00j\n",
      "  -1.17316668e-12+0.00000000e+00j -1.17316668e-12+0.00000000e+00j]\n",
      " [ 3.80035639e-01-2.31761129e-17j  3.80035639e-01-6.30044212e-19j\n",
      "   3.80035639e-01-8.99831446e-19j  3.80035639e-01-4.10742816e-16j\n",
      "  -3.80035639e-01+8.99831446e-19j -3.80035639e-01-5.66629869e-16j\n",
      "  -3.80035639e-01+6.30044212e-19j -3.80035639e-01-1.72124272e-16j]\n",
      " [ 7.32113367e-01+1.94194122e-17j  7.32113367e-01+7.44537279e-19j\n",
      "   7.32113367e-01+2.33793424e-17j  7.32113367e-01+1.97372813e-18j\n",
      "  -7.32113367e-01-9.50155464e-18j -7.32113367e-01-1.97372813e-18j\n",
      "  -7.32113367e-01-7.44537279e-19j -7.32113367e-01-1.24805183e-17j]\n",
      " [ 1.03033204e+00-1.30210414e-18j  1.03033204e+00+7.73542122e-19j\n",
      "   1.03033204e+00+8.86114981e-18j  1.03033204e+00+2.63959580e-16j\n",
      "  -1.03033204e+00+2.13183455e-16j -1.03033204e+00-9.74261262e-17j\n",
      "  -1.03033204e+00-7.73542122e-19j -1.03033204e+00+1.30210414e-18j]\n",
      " [ 1.25275273e+00+9.01045012e-17j  1.25275273e+00+1.25173714e-18j\n",
      "   1.25275273e+00-4.72465279e-19j  1.25275273e+00+8.56553450e-17j\n",
      "  -1.25275273e+00+4.72465279e-19j -1.25275273e+00-2.52188799e-16j\n",
      "  -1.25275273e+00-1.25173714e-18j -1.25275273e+00-1.03982289e-16j]\n",
      " [ 1.38301273e+00-1.09723410e-17j  1.38301273e+00+2.06889276e-16j\n",
      "   1.38301273e+00+9.08253470e-17j  1.38301273e+00-2.29906430e-17j\n",
      "  -1.38301273e+00-3.53141958e-17j -1.38301273e+00-4.03558225e-17j\n",
      "  -1.38301273e+00+2.29906430e-17j -1.38301273e+00+1.09723410e-17j]\n",
      " [ 1.41152924e+00-1.77120210e-16j  1.41152924e+00+2.21207414e-19j\n",
      "   1.41152924e+00-1.42293576e-18j  1.41152924e+00+5.81589705e-17j\n",
      "  -1.41152924e+00+1.42293576e-18j -1.41152924e+00+1.08374483e-16j\n",
      "  -1.41152924e+00+6.60979076e-17j -1.41152924e+00-2.21207414e-19j]\n",
      " [ 1.33620441e+00-1.90902766e-18j  1.33620441e+00-2.19592289e-17j\n",
      "   1.33620441e+00+1.78971123e-16j  1.33620441e+00+1.35258591e-16j\n",
      "  -1.33620441e+00+4.30734824e-17j -1.33620441e+00+1.97808317e-16j\n",
      "  -1.33620441e+00+2.19592289e-17j -1.33620441e+00+1.90902766e-18j]\n",
      " [ 1.16257964e+00-7.64148482e-17j  1.16257964e+00-2.75299025e-16j\n",
      "   1.16257964e+00-8.62504607e-18j  1.16257964e+00-1.36113218e-17j\n",
      "  -1.16257964e+00+1.36113218e-17j -1.16257964e+00+8.62504607e-18j\n",
      "  -1.16257964e+00-2.79812488e-16j -1.16257964e+00-1.45629757e-16j]\n",
      " [ 9.03427880e-01-6.29659775e-18j  9.03427880e-01-2.29057721e-18j\n",
      "   9.03427880e-01-2.60004380e-16j  9.03427880e-01-1.26976210e-16j\n",
      "  -9.03427880e-01-4.28135302e-16j -9.03427880e-01+3.79597750e-17j\n",
      "  -9.03427880e-01+2.29057721e-18j -9.03427880e-01+6.29659775e-18j]\n",
      " [ 5.77814050e-01-3.04883323e-16j  5.77814050e-01+2.83839528e-17j\n",
      "   5.77814050e-01+5.79094007e-17j  5.77814050e-01-1.17760163e-16j\n",
      "  -5.77814050e-01-1.39205887e-16j -5.77814050e-01-5.79094007e-17j\n",
      "  -5.77814050e-01-2.83839528e-17j -5.77814050e-01-3.26329047e-16j]\n",
      " [ 2.09692432e-01+5.54831834e-16j  2.09692432e-01-1.63627177e-16j\n",
      "   2.09692432e-01-2.63616538e-16j  2.09692432e-01-1.93388110e-16j\n",
      "  -2.09692432e-01+1.93388110e-16j -2.09692432e-01+2.63616538e-16j\n",
      "  -2.09692432e-01-5.84174280e-17j -2.09692432e-01-1.10742624e-16j]]\n",
      "1.4974290465594513 -1.4974290465594513\n"
     ]
    },
    {
     "data": {
      "image/png": "[encoded data removed]",
      "text/plain": [
       "<Figure size 432x288 with 1 Axes>"
      ]
     },
     "metadata": {},
     "output_type": "display_data"
    }
   ],
   "source": [
    "strg = [0,0,1]\n",
    "H_num = H.subs([(J1,strg[0]),(J2,strg[1]),(J3,strg[2])])\n",
    "band_high_sym(H_num, strg, 20)"
   ]
  },
  {
   "cell_type": "code",
   "execution_count": 94,
   "metadata": {
    "scrolled": true
   },
   "outputs": [
    {
     "name": "stdout",
     "output_type": "stream",
     "text": [
      "0.0 0\n",
      "0.3141592653589793 0\n",
      "0.6283185307179586 0\n",
      "0.9424777960769379 0\n",
      "1.2566370614359172 0\n",
      "1.5707963267948966 0\n",
      "1.8849555921538759 0\n",
      "2.199114857512855 0\n",
      "2.5132741228718345 0\n",
      "2.827433388230814 0\n",
      "3.141592653589793 0.0\n",
      "3.141592653589793 -0.3141592653589793\n",
      "3.141592653589793 -0.6283185307179586\n",
      "3.141592653589793 -0.9424777960769379\n",
      "3.141592653589793 -1.2566370614359172\n",
      "3.141592653589793 -1.5707963267948966\n",
      "3.141592653589793 1.8137993642342178\n",
      "2.827433388230814 1.8137993642342178\n",
      "2.5132741228718345 1.8137993642342178\n",
      "2.199114857512855 1.8137993642342178\n",
      "1.8849555921538759 1.8137993642342178\n",
      "1.5707963267948966 1.8137993642342178\n",
      "1.2566370614359172 1.8137993642342178\n",
      "0.9424777960769379 1.8137993642342178\n",
      "0.6283185307179586 1.8137993642342178\n",
      "0.3141592653589793 1.8137993642342178\n",
      "0 1.8137993642342178\n",
      "0 1.4996400988752385\n",
      "0 1.1854808335162592\n",
      "0 0.8713215681572799\n",
      "0 0.5571623027983006\n",
      "0 0.24300303743932128\n",
      "0.0 0.0\n",
      "0.27206990463513264 0.15707963267948966\n",
      "0.5441398092702653 0.3141592653589793\n",
      "0.816209713905398 0.47123889803846897\n",
      "1.0882796185405306 0.6283185307179586\n",
      "1.3603495231756633 0.7853981633974483\n",
      "1.632419427810796 0.9424777960769379\n",
      "1.9044893324459287 1.0995574287564276\n",
      "2.176559237081061 1.2566370614359172\n",
      "2.448629141716194 1.413716694115407\n",
      "2.7206990463513265 1.5707963267948966\n",
      "2.9927689509864592 1.7278759594743862\n",
      "[[ 1.49666295e+00+0.00000000e+00j  1.49666295e+00+0.00000000e+00j\n",
      "   5.74490677e-08+0.00000000e+00j  5.74490662e-08+0.00000000e+00j\n",
      "  -5.74490662e-08+0.00000000e+00j -5.74490677e-08+0.00000000e+00j\n",
      "  -1.49666295e+00+0.00000000e+00j -1.49666295e+00+0.00000000e+00j]\n",
      " [ 1.46717011e+00+0.00000000e+00j  1.46717011e+00+0.00000000e+00j\n",
      "   2.52822042e-01+0.00000000e+00j  2.52822042e-01+0.00000000e+00j\n",
      "  -2.52822042e-01+0.00000000e+00j -2.52822042e-01+0.00000000e+00j\n",
      "  -1.46717011e+00+0.00000000e+00j -1.46717011e+00+0.00000000e+00j]\n",
      " [ 1.38088876e+00+0.00000000e+00j  1.38088876e+00+0.00000000e+00j\n",
      "   4.91400437e-01+0.00000000e+00j  4.91400437e-01+0.00000000e+00j\n",
      "  -4.91400437e-01+0.00000000e+00j -4.91400437e-01+0.00000000e+00j\n",
      "  -1.38088876e+00+0.00000000e+00j -1.38088876e+00+0.00000000e+00j]\n",
      " [ 1.24453592e+00+0.00000000e+00j  1.24453592e+00+0.00000000e+00j\n",
      "   7.02329888e-01+0.00000000e+00j  7.02329888e-01+0.00000000e+00j\n",
      "  -7.02329888e-01+0.00000000e+00j -7.02329888e-01+0.00000000e+00j\n",
      "  -1.24453592e+00+0.00000000e+00j -1.24453592e+00+0.00000000e+00j]\n",
      " [ 1.06991652e+00+0.00000000e+00j  1.06991652e+00+0.00000000e+00j\n",
      "   8.73845981e-01+0.00000000e+00j  8.73845981e-01+0.00000000e+00j\n",
      "  -8.73845981e-01+0.00000000e+00j -8.73845981e-01+0.00000000e+00j\n",
      "  -1.06991652e+00+0.00000000e+00j -1.06991652e+00+0.00000000e+00j]\n",
      " [ 9.96562635e-01+0.00000000e+00j  9.96562635e-01+0.00000000e+00j\n",
      "   8.75707094e-01+0.00000000e+00j  8.75707094e-01+0.00000000e+00j\n",
      "  -8.75707094e-01+0.00000000e+00j -8.75707094e-01+0.00000000e+00j\n",
      "  -9.96562635e-01+0.00000000e+00j -9.96562635e-01+0.00000000e+00j]\n",
      " [ 1.06413118e+00+0.00000000e+00j  1.06413118e+00+0.00000000e+00j\n",
      "   6.92312554e-01+0.00000000e+00j  6.92312554e-01+0.00000000e+00j\n",
      "  -6.92312554e-01+0.00000000e+00j -6.92312554e-01+0.00000000e+00j\n",
      "  -1.06413118e+00+0.00000000e+00j -1.06413118e+00+0.00000000e+00j]\n",
      " [ 1.07384200e+00+4.76912491e-18j  1.07384200e+00+2.09374825e-17j\n",
      "   5.69847735e-01-1.11495952e-18j  5.69847735e-01-1.44302352e-19j\n",
      "  -5.69847735e-01-1.44302352e-19j -5.69847735e-01-1.11495952e-18j\n",
      "  -1.07384200e+00+2.09374825e-17j -1.07384200e+00+4.76912491e-18j]\n",
      " [ 1.02726756e+00+0.00000000e+00j  1.02726756e+00+0.00000000e+00j\n",
      "   5.62488402e-01+0.00000000e+00j  5.62488402e-01+0.00000000e+00j\n",
      "  -5.62488402e-01+0.00000000e+00j -5.62488402e-01+0.00000000e+00j\n",
      "  -1.02726756e+00+0.00000000e+00j -1.02726756e+00+0.00000000e+00j]\n",
      " [ 9.31242081e-01+0.00000000e+00j  9.31242081e-01+0.00000000e+00j\n",
      "   6.60515753e-01+0.00000000e+00j  6.60515753e-01+0.00000000e+00j\n",
      "  -6.60515753e-01+0.00000000e+00j -6.60515753e-01+0.00000000e+00j\n",
      "  -9.31242081e-01+0.00000000e+00j -9.31242081e-01+0.00000000e+00j]\n",
      " [ 8.00000000e-01+0.00000000e+00j  8.00000000e-01+0.00000000e+00j\n",
      "   8.00000000e-01+0.00000000e+00j  8.00000000e-01+0.00000000e+00j\n",
      "  -8.00000000e-01+0.00000000e+00j -8.00000000e-01+0.00000000e+00j\n",
      "  -8.00000000e-01+0.00000000e+00j -8.00000000e-01+0.00000000e+00j]\n",
      " [ 7.70573379e-01-2.77555756e-17j  7.70573379e-01-1.15792792e-16j\n",
      "   7.70573379e-01+4.43376522e-17j  7.70573379e-01-1.90738196e-19j\n",
      "  -7.70573379e-01+1.90738196e-19j -7.70573379e-01+1.15792792e-16j\n",
      "  -7.70573379e-01-4.43376522e-17j -7.70573379e-01+2.77555756e-17j]\n",
      " [ 6.84458330e-01-4.19211978e-19j  6.84458330e-01-1.68407733e-18j\n",
      "   6.84458330e-01+6.85757874e-18j  6.84458330e-01+3.12250226e-17j\n",
      "  -6.84458330e-01-3.12250226e-17j -6.84458330e-01-6.85757874e-18j\n",
      "  -6.84458330e-01+1.68407733e-18j -6.84458330e-01+4.19211978e-19j]\n",
      " [ 5.47990042e-01-3.84077662e-19j  5.47990042e-01+2.21922853e-17j\n",
      "   5.47990042e-01+5.03069808e-17j  5.47990042e-01+0.00000000e+00j\n",
      "  -5.47990042e-01+0.00000000e+00j -5.47990042e-01-5.03069808e-17j\n",
      "  -5.47990042e-01-2.21922853e-17j -5.47990042e-01+3.84077662e-19j]\n",
      " [ 3.71208015e-01-4.56595051e-16j  3.71208015e-01-1.51283719e-16j\n",
      "   3.71208015e-01-3.46239062e-18j  3.71208015e-01-1.64382695e-17j\n",
      "  -3.71208015e-01+1.64382695e-17j -3.71208015e-01+3.46239062e-18j\n",
      "  -3.71208015e-01+1.51283719e-16j -3.71208015e-01+4.56595051e-16j]\n",
      " [ 1.67117493e-01-8.89782903e-16j  1.67117493e-01-2.65282452e-16j\n",
      "   1.67117493e-01+3.22987971e-17j  1.67117493e-01+2.11496770e-17j\n",
      "  -1.67117493e-01-2.11496770e-17j -1.67117493e-01-3.22987971e-17j\n",
      "  -1.67117493e-01+2.65282452e-16j -1.67117493e-01+8.89782903e-16j]\n",
      " [ 8.61097727e-09-1.42385892e-09j  8.61097714e-09-1.42385876e-09j\n",
      "   5.60769512e-10+5.60765740e-10j  5.60769378e-10+5.60765756e-10j\n",
      "  -5.60769378e-10-5.60765756e-10j -5.60769512e-10-5.60765740e-10j\n",
      "  -8.61097714e-09+1.42385876e-09j -8.61097727e-09+1.42385892e-09j]\n",
      " [ 5.62967109e-01-1.02636798e-17j  5.62967109e-01-5.89760443e-17j\n",
      "   2.01697187e-01+1.26670966e-17j  2.01697187e-01-3.64789487e-17j\n",
      "  -2.01697187e-01+3.64789487e-17j -2.01697187e-01-1.26670966e-17j\n",
      "  -5.62967109e-01+5.89760443e-17j -5.62967109e-01+1.02636798e-17j]\n",
      " [ 1.11207210e+00-3.01515960e-17j  1.11207210e+00+6.07271975e-17j\n",
      "   3.98427920e-01+1.29304469e-17j  3.98427920e-01-6.40705588e-17j\n",
      "  -3.98427920e-01+6.40705588e-17j -3.98427920e-01-1.29304469e-17j\n",
      "  -1.11207210e+00-6.07271975e-17j -1.11207210e+00+3.01515960e-17j]\n",
      " [ 1.63379418e+00+4.80826740e-17j  1.63379418e+00-1.84641545e-18j\n",
      "   5.85348035e-01-5.18396203e-18j  5.85348035e-01+8.63784909e-17j\n",
      "  -5.85348035e-01-8.63784909e-17j -5.85348035e-01+5.18396203e-18j\n",
      "  -1.63379418e+00+1.84641545e-18j -1.63379418e+00-4.80826740e-17j]\n",
      " [ 2.11528683e+00-7.89846428e-17j  2.11528683e+00-1.25188270e-16j\n",
      "   7.57854939e-01-3.55767872e-17j  7.57854939e-01-1.00395463e-16j\n",
      "  -7.57854939e-01+1.00395463e-16j -7.57854939e-01+3.55767872e-17j\n",
      "  -2.11528683e+00+1.25188270e-16j -2.11528683e+00+7.89846428e-17j]\n",
      " [ 2.54469410e+00-2.72845705e-17j  2.54469410e+00+9.11465511e-17j\n",
      "   9.11700939e-01-2.03050614e-17j  9.11700939e-01-1.28962423e-17j\n",
      "  -9.11700939e-01+1.28962423e-17j -9.11700939e-01+2.03050614e-17j\n",
      "  -2.54469410e+00-9.11465511e-17j -2.54469410e+00+2.72845705e-17j]\n",
      " [ 2.91144255e+00+3.66058030e-17j  2.91144255e+00+3.69118729e-17j\n",
      "   1.04309784e+00+3.58298958e-17j  1.04309784e+00+3.55238258e-17j\n",
      "  -1.04309784e+00-3.55238258e-17j -1.04309784e+00-3.58298958e-17j\n",
      "  -2.91144255e+00-3.69118729e-17j -2.91144255e+00-3.66058030e-17j]\n",
      " [ 3.20650163e+00+6.36370083e-17j  3.20650163e+00-1.16435188e-16j\n",
      "   1.14881020e+00+1.04768214e-16j  1.14881020e+00+3.57183204e-17j\n",
      "  -1.14881020e+00-3.57183204e-17j -1.14881020e+00-1.04768214e-16j\n",
      "  -3.20650163e+00+1.16435188e-16j -3.20650163e+00-6.36370083e-17j]\n",
      " [ 3.42260599e+00-6.54804589e-17j  3.42260599e+00+3.21319086e-16j\n",
      "   1.22623505e+00-1.80263413e-16j  1.22623505e+00-1.55084730e-17j\n",
      "  -1.22623505e+00+1.55084730e-17j -1.22623505e+00+1.80263413e-16j\n",
      "  -3.42260599e+00-3.21319086e-16j -3.42260599e+00+6.54804589e-17j]\n",
      " [ 3.55443444e+00-9.58313622e-17j  3.55443444e+00-9.01139770e-17j\n",
      "   1.27346592e+00-8.65504558e-17j  1.27346592e+00+2.40799066e-16j\n",
      "  -1.27346592e+00-2.40799066e-16j -1.27346592e+00+8.65504558e-17j\n",
      "  -3.55443444e+00+9.01139770e-17j -3.55443444e+00+9.58313622e-17j]\n",
      " [ 3.59874091e+00-3.74253788e-17j  3.59874091e+00-1.08765759e-16j\n",
      "   1.28933983e+00-1.41744189e-16j  1.28933983e+00+8.96003492e-18j\n",
      "  -1.28933983e+00-8.96003492e-18j -1.28933983e+00+1.41744189e-16j\n",
      "  -3.59874091e+00+1.08765759e-16j -3.59874091e+00+3.74253788e-17j]\n",
      " [ 3.47371790e+00-1.91253263e-16j  3.47371790e+00+2.14053735e-16j\n",
      "   1.28572744e+00-8.01894891e-18j  1.28572744e+00+5.70879031e-18j\n",
      "  -1.28572744e+00-5.70879031e-18j -1.28572744e+00+8.01894891e-18j\n",
      "  -3.47371790e+00-2.14053735e-16j -3.47371790e+00+1.91253263e-16j]\n",
      " [ 3.11080019e+00+8.23993651e-17j  3.11080019e+00-2.69017813e-16j\n",
      "   1.27289597e+00-4.80022147e-16j  1.27289597e+00-3.90921441e-16j\n",
      "  -1.27289597e+00+3.90921441e-16j -1.27289597e+00+4.80022147e-16j\n",
      "  -3.11080019e+00+2.69017813e-16j -3.11080019e+00-8.23993651e-17j]\n",
      " [ 2.55136536e+00+1.89084859e-16j  2.55136536e+00+2.59577703e-16j\n",
      "   1.23943581e+00+5.14589379e-16j  1.23943581e+00+2.42165026e-16j\n",
      "  -1.23943581e+00-2.42165026e-16j -1.23943581e+00-5.14589379e-16j\n",
      "  -2.55136536e+00-2.59577703e-16j -2.55136536e+00-1.89084859e-16j]\n",
      " [ 1.91169900e+00+1.66533454e-16j  1.91169900e+00+4.02671853e-16j\n",
      "   1.11778850e+00+1.50649892e-16j  1.11778850e+00-6.13912855e-16j\n",
      "  -1.11778850e+00+6.13912855e-16j -1.11778850e+00-1.50649892e-16j\n",
      "  -1.91169900e+00-4.02671853e-16j -1.91169900e+00-1.66533454e-16j]\n",
      " [ 1.54750383e+00-6.19966757e-18j  1.54750383e+00+2.77555756e-16j\n",
      "   6.20627260e-01+7.38615898e-16j  6.20627260e-01-3.09892086e-16j\n",
      "  -6.20627260e-01+3.09892086e-16j -6.20627260e-01-7.38615898e-16j\n",
      "  -1.54750383e+00-2.77555756e-16j -1.54750383e+00+6.19966757e-18j]\n",
      " [ 1.49666295e+00+0.00000000e+00j  1.49666295e+00+0.00000000e+00j\n",
      "   5.74490677e-08+0.00000000e+00j  5.74490662e-08+0.00000000e+00j\n",
      "  -5.74490662e-08+0.00000000e+00j -5.74490677e-08+0.00000000e+00j\n",
      "  -1.49666295e+00+0.00000000e+00j -1.49666295e+00+0.00000000e+00j]\n",
      " [ 1.49384383e+00+1.26739760e-16j  1.49384383e+00-9.52363188e-16j\n",
      "   4.62301039e-01+3.48616801e-15j  4.62301039e-01+3.89828279e-15j\n",
      "  -4.62301039e-01-3.89828279e-15j -4.62301039e-01-3.48616801e-15j\n",
      "  -1.49384383e+00+9.52363188e-16j -1.49384383e+00-1.26739760e-16j]\n",
      " [ 1.50453954e+00+2.77555756e-17j  1.50453954e+00+2.16517756e-16j\n",
      "   8.54024988e-01+4.66802481e-16j  8.54024988e-01+2.51101223e-16j\n",
      "  -8.54024988e-01-2.51101223e-16j -8.54024988e-01-4.66802481e-16j\n",
      "  -1.50453954e+00-2.16517756e-16j -1.50453954e+00-2.77555756e-17j]\n",
      " [ 1.60193584e+00+4.39703918e-16j  1.60193584e+00-3.60822483e-16j\n",
      "   1.06431096e+00-5.55987426e-16j  1.06431096e+00-3.37403716e-16j\n",
      "  -1.06431096e+00+3.37403716e-16j -1.06431096e+00+5.55987426e-16j\n",
      "  -1.60193584e+00+3.60822483e-16j -1.60193584e+00-4.39703918e-16j]\n",
      " [ 1.78179415e+00-1.76941795e-16j  1.78179415e+00-1.22571675e-16j\n",
      "   1.06926396e+00+4.81650039e-16j  1.06926396e+00+2.19529286e-16j\n",
      "  -1.06926396e+00-2.19529286e-16j -1.06926396e+00-4.81650039e-16j\n",
      "  -1.78179415e+00+1.22571675e-16j -1.78179415e+00+1.76941795e-16j]\n",
      " [ 1.91071779e+00+1.42238214e-17j  1.91071779e+00+5.89805982e-17j\n",
      "   9.83618148e-01-4.93983764e-17j  9.83618148e-01+1.49077799e-17j\n",
      "  -9.83618148e-01-1.49077799e-17j -9.83618148e-01+4.93983764e-17j\n",
      "  -1.91071779e+00-5.89805982e-17j -1.91071779e+00-1.42238214e-17j]\n",
      " [ 1.92596771e+00+7.44474175e-17j  1.92596771e+00+6.76542156e-17j\n",
      "   8.61430272e-01+4.02443455e-18j  8.61430272e-01+2.95138043e-18j\n",
      "  -8.61430272e-01-2.95138043e-18j -8.61430272e-01-4.02443455e-18j\n",
      "  -1.92596771e+00-6.76542156e-17j -1.92596771e+00-7.44474175e-17j]\n",
      " [ 1.81152215e+00-8.02309608e-18j  1.81152215e+00+6.92231349e-18j\n",
      "   7.20210779e-01+1.18685952e-16j  7.20210779e-01-4.74948259e-17j\n",
      "  -7.20210779e-01+4.74948259e-17j -7.20210779e-01-1.18685952e-16j\n",
      "  -1.81152215e+00-6.92231349e-18j -1.81152215e+00+8.02309608e-18j]\n",
      " [ 1.57038275e+00+2.64545330e-17j  1.57038275e+00+6.68315321e-17j\n",
      "   5.68241052e-01-4.42324139e-17j  5.68241052e-01-1.45959487e-16j\n",
      "  -5.68241052e-01+1.45959487e-16j -5.68241052e-01+4.42324139e-17j\n",
      "  -1.57038275e+00-6.68315321e-17j -1.57038275e+00-2.64545330e-17j]\n",
      " [ 1.21769058e+00-1.85975587e-16j  1.21769058e+00-4.66206934e-17j\n",
      "   4.10488923e-01+7.80250719e-17j  4.10488923e-01+3.93559797e-17j\n",
      "  -4.10488923e-01-3.93559797e-17j -4.10488923e-01-7.80250719e-17j\n",
      "  -1.21769058e+00+4.66206934e-17j -1.21769058e+00+1.85975587e-16j]\n",
      " [ 7.77847890e-01+1.43656788e-16j  7.77847890e-01+1.93302683e-17j\n",
      "   2.50009565e-01+7.65102503e-17j  2.50009565e-01-1.05445188e-17j\n",
      "  -2.50009565e-01+1.05445188e-17j -2.50009565e-01-7.65102503e-17j\n",
      "  -7.77847890e-01-1.93302683e-17j -7.77847890e-01-1.43656788e-16j]\n",
      " [ 2.82123571e-01+7.44386834e-16j  2.82123571e-01-4.69622171e-16j\n",
      "   8.84888032e-02-2.12527581e-16j  8.84888032e-02+8.11426622e-16j\n",
      "  -8.84888032e-02-8.11426622e-16j -8.84888032e-02+2.12527581e-16j\n",
      "  -2.82123571e-01+4.69622171e-16j -2.82123571e-01-7.44386834e-16j]]\n",
      "3.598740909022371 -3.598740909022371\n"
     ]
    },
    {
     "data": {
      "image/png": "[encoded data removed]",
      "text/plain": [
       "<Figure size 432x288 with 1 Axes>"
      ]
     },
     "metadata": {},
     "output_type": "display_data"
    }
   ],
   "source": [
    "strg = [1,0.8,0.8]\n",
    "H_num = 2/np.sqrt(3)*H.subs([(J1,strg[0]),(J2,strg[1]),(J3,strg[2])])\n",
    "band_high_sym(H_num, strg, 20)"
   ]
  },
  {
   "cell_type": "code",
   "execution_count": null,
   "metadata": {},
   "outputs": [],
   "source": []
  }
 ],
 "metadata": {
  "kernelspec": {
   "display_name": "Python 3",
   "language": "python",
   "name": "python3"
  },
  "language_info": {
   "codemirror_mode": {
    "name": "ipython",
    "version": 3
   },
   "file_extension": ".py",
   "mimetype": "text/x-python",
   "name": "python",
   "nbconvert_exporter": "python",
   "pygments_lexer": "ipython3",
   "version": "3.9.1"
  }
 },
 "nbformat": 4,
 "nbformat_minor": 5
}
